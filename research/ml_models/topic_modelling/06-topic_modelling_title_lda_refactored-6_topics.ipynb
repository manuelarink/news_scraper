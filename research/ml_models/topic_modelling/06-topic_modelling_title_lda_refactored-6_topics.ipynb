{
 "cells": [
  {
   "cell_type": "markdown",
   "id": "d23815fa",
   "metadata": {},
   "source": [
    "# Topic modelling of news headlines for prediction of news category with 6 topics"
   ]
  },
  {
   "cell_type": "markdown",
   "id": "75523a79",
   "metadata": {},
   "source": [
    "Now we wan't to perform topic modelling with unsupervised learning and train a modell for prediction of news category labels without using the provided labels in the corpus.\n",
    "We use the LDA classifier and assume 6 topics. "
   ]
  },
  {
   "cell_type": "code",
   "execution_count": 1,
   "id": "a2821ff5",
   "metadata": {},
   "outputs": [],
   "source": [
    "import pandas as pd\n",
    "import numpy as np\n",
    "import matplotlib.pyplot as plt\n",
    "import seaborn as sns\n",
    "\n",
    "import joblib\n",
    "\n",
    "import wordcloud\n",
    "\n",
    "import re\n",
    "\n",
    "import nlp_preprocessors\n",
    "\n",
    "import pyLDAvis.lda_model"
   ]
  },
  {
   "cell_type": "markdown",
   "id": "6594f2c8",
   "metadata": {},
   "source": [
    "## Load train set"
   ]
  },
  {
   "cell_type": "code",
   "execution_count": 2,
   "id": "d737f3a4",
   "metadata": {},
   "outputs": [],
   "source": [
    "train = pd.read_csv('../../data/01_train_nosplit_preprocessed.csv')"
   ]
  },
  {
   "cell_type": "code",
   "execution_count": 3,
   "id": "72fc6b38",
   "metadata": {},
   "outputs": [
    {
     "data": {
      "text/html": [
       "<div>\n",
       "<style scoped>\n",
       "    .dataframe tbody tr th:only-of-type {\n",
       "        vertical-align: middle;\n",
       "    }\n",
       "\n",
       "    .dataframe tbody tr th {\n",
       "        vertical-align: top;\n",
       "    }\n",
       "\n",
       "    .dataframe thead th {\n",
       "        text-align: right;\n",
       "    }\n",
       "</style>\n",
       "<table border=\"1\" class=\"dataframe\">\n",
       "  <thead>\n",
       "    <tr style=\"text-align: right;\">\n",
       "      <th></th>\n",
       "      <th>date</th>\n",
       "      <th>title</th>\n",
       "      <th>description</th>\n",
       "      <th>category</th>\n",
       "      <th>text</th>\n",
       "      <th>source</th>\n",
       "      <th>title_description_text</th>\n",
       "    </tr>\n",
       "  </thead>\n",
       "  <tbody>\n",
       "    <tr>\n",
       "      <th>0</th>\n",
       "      <td>2022-06-01 00:13:42</td>\n",
       "      <td>Preise: Grüne halten Senkung der Spritsteuer f...</td>\n",
       "      <td>Heute tritt die Steuersenkung auf Kraftstoffe ...</td>\n",
       "      <td>Other</td>\n",
       "      <td>NaN</td>\n",
       "      <td>stern</td>\n",
       "      <td>Preise: Grüne halten Senkung der Spritsteuer f...</td>\n",
       "    </tr>\n",
       "    <tr>\n",
       "      <th>1</th>\n",
       "      <td>2022-06-01 01:55:03</td>\n",
       "      <td>Biden warnt Putin: USA liefern moderne Raketen...</td>\n",
       "      <td>Die USA rüsten die Ukraine mit fortschrittlich...</td>\n",
       "      <td>Other</td>\n",
       "      <td>NaN</td>\n",
       "      <td>stern</td>\n",
       "      <td>Biden warnt Putin: USA liefern moderne Raketen...</td>\n",
       "    </tr>\n",
       "    <tr>\n",
       "      <th>2</th>\n",
       "      <td>2022-06-01 02:04:08</td>\n",
       "      <td>Soziale Medien: FDP-Politiker Kuhle: Internet-...</td>\n",
       "      <td>Eine «ZDF Magazin Royale»-Recherche beschäftig...</td>\n",
       "      <td>Other</td>\n",
       "      <td>NaN</td>\n",
       "      <td>stern</td>\n",
       "      <td>Soziale Medien: FDP-Politiker Kuhle: Internet-...</td>\n",
       "    </tr>\n",
       "    <tr>\n",
       "      <th>3</th>\n",
       "      <td>2022-06-01 02:26:58</td>\n",
       "      <td>Liveblog: ++ Zwei von drei ukrainischen Kinder...</td>\n",
       "      <td>Rund zwei von drei Mädchen und Jungen in der U...</td>\n",
       "      <td>Missing</td>\n",
       "      <td>NaN</td>\n",
       "      <td>Tagesschau</td>\n",
       "      <td>Liveblog: ++ Zwei von drei ukrainischen Kinder...</td>\n",
       "    </tr>\n",
       "    <tr>\n",
       "      <th>4</th>\n",
       "      <td>2022-06-01 02:31:43</td>\n",
       "      <td>Finanzen: Dänemark stimmt über EU-Verteidigung...</td>\n",
       "      <td>Vorbehalt verteidigen oder Verteidigung ohne V...</td>\n",
       "      <td>Other</td>\n",
       "      <td>NaN</td>\n",
       "      <td>stern</td>\n",
       "      <td>Finanzen: Dänemark stimmt über EU-Verteidigung...</td>\n",
       "    </tr>\n",
       "  </tbody>\n",
       "</table>\n",
       "</div>"
      ],
      "text/plain": [
       "                  date                                              title  \\\n",
       "0  2022-06-01 00:13:42  Preise: Grüne halten Senkung der Spritsteuer f...   \n",
       "1  2022-06-01 01:55:03  Biden warnt Putin: USA liefern moderne Raketen...   \n",
       "2  2022-06-01 02:04:08  Soziale Medien: FDP-Politiker Kuhle: Internet-...   \n",
       "3  2022-06-01 02:26:58  Liveblog: ++ Zwei von drei ukrainischen Kinder...   \n",
       "4  2022-06-01 02:31:43  Finanzen: Dänemark stimmt über EU-Verteidigung...   \n",
       "\n",
       "                                         description category  text  \\\n",
       "0  Heute tritt die Steuersenkung auf Kraftstoffe ...    Other   NaN   \n",
       "1  Die USA rüsten die Ukraine mit fortschrittlich...    Other   NaN   \n",
       "2  Eine «ZDF Magazin Royale»-Recherche beschäftig...    Other   NaN   \n",
       "3  Rund zwei von drei Mädchen und Jungen in der U...  Missing   NaN   \n",
       "4  Vorbehalt verteidigen oder Verteidigung ohne V...    Other   NaN   \n",
       "\n",
       "       source                             title_description_text  \n",
       "0       stern  Preise: Grüne halten Senkung der Spritsteuer f...  \n",
       "1       stern  Biden warnt Putin: USA liefern moderne Raketen...  \n",
       "2       stern  Soziale Medien: FDP-Politiker Kuhle: Internet-...  \n",
       "3  Tagesschau  Liveblog: ++ Zwei von drei ukrainischen Kinder...  \n",
       "4       stern  Finanzen: Dänemark stimmt über EU-Verteidigung...  "
      ]
     },
     "execution_count": 3,
     "metadata": {},
     "output_type": "execute_result"
    }
   ],
   "source": [
    "train.head()"
   ]
  },
  {
   "cell_type": "markdown",
   "id": "46b4f629",
   "metadata": {},
   "source": [
    "## Load German stopwords"
   ]
  },
  {
   "cell_type": "code",
   "execution_count": 4,
   "id": "da144b59",
   "metadata": {},
   "outputs": [],
   "source": [
    "stop_words = pd.read_csv('german_stopwords.txt', header=None)[0].values.tolist()"
   ]
  },
  {
   "cell_type": "code",
   "execution_count": 5,
   "id": "bd74c6d3",
   "metadata": {},
   "outputs": [
    {
     "name": "stdout",
     "output_type": "stream",
     "text": [
      "['ab', 'aber', 'alle', 'allein', 'allem', 'allen', 'aller', 'allerdings', 'allerlei', 'alles', 'allmählich', 'allzu', 'als', 'alsbald', 'also', 'am', 'an', 'and', 'ander', 'andere', 'anderem', 'anderen', 'anderer', 'andererseits', 'anderes', 'anderm', 'andern', 'andernfalls', 'anders', 'anstatt', 'auch', 'auf', 'aus', 'ausgenommen', 'ausser', 'ausserdem', 'außer', 'außerdem', 'außerhalb', 'bald', 'bei', 'beide', 'beiden', 'beiderlei', 'beides', 'beim', 'beinahe', 'bereits', 'besonders', 'besser', 'beträchtlich', 'bevor', 'bezüglich', 'bin', 'bis', 'bisher', 'bislang', 'bist', 'bloß', 'bsp.', 'bzw', 'ca', 'ca.', 'content', 'da', 'dabei', 'dadurch', 'dafür', 'dagegen', 'daher', 'dahin', 'damals', 'damit', 'danach', 'daneben', 'dann', 'daran', 'darauf', 'daraus', 'darin', 'darum', 'darunter', 'darüber', 'darüberhinaus', 'das', 'dass', 'dasselbe', 'davon', 'davor', 'dazu', 'daß', 'dein', 'deine', 'deinem', 'deinen', 'deiner', 'deines', 'dem', 'demnach', 'demselben', 'den', 'denen', 'denn', 'dennoch', 'denselben', 'der', 'derart', 'derartig', 'derem', 'deren', 'derer', 'derjenige', 'derjenigen', 'derselbe', 'derselben', 'derzeit', 'des', 'deshalb', 'desselben', 'dessen', 'desto', 'deswegen', 'dich', 'die', 'diejenige', 'dies', 'diese', 'dieselbe', 'dieselben', 'diesem', 'diesen', 'dieser', 'dieses', 'diesseits', 'dir', 'direkt', 'direkte', 'direkten', 'direkter', 'doch', 'dort', 'dorther', 'dorthin', 'drauf', 'drin', 'drunter', 'drüber', 'du', 'dunklen', 'durch', 'durchaus', 'eben', 'ebenfalls', 'ebenso', 'eher', 'eigenen', 'eigenes', 'eigentlich', 'ein', 'eine', 'einem', 'einen', 'einer', 'einerseits', 'eines', 'einfach', 'einführen', 'einführte', 'einführten', 'eingesetzt', 'einig', 'einige', 'einigem', 'einigen', 'einiger', 'einigermaßen', 'einiges', 'einmal', 'eins', 'einseitig', 'einseitige', 'einseitigen', 'einseitiger', 'einst', 'einstmals', 'einzig', 'entsprechend', 'entweder', 'er', 'erst', 'es', 'etc', 'etliche', 'etwa', 'etwas', 'euch', 'euer', 'eure', 'eurem', 'euren', 'eurer', 'eures', 'falls', 'fast', 'ferner', 'folgende', 'folgenden', 'folgender', 'folgendes', 'folglich', 'fuer', 'für', 'gab', 'ganze', 'ganzem', 'ganzen', 'ganzer', 'ganzes', 'gar', 'gegen', 'gemäss', 'ggf', 'gleich', 'gleichwohl', 'gleichzeitig', 'glücklicherweise', 'gänzlich', 'hab', 'habe', 'haben', 'haette', 'hast', 'hat', 'hatte', 'hatten', 'hattest', 'hattet', 'heraus', 'herein', 'hier', 'hier', 'hinter', 'hiermit', 'hiesige', 'hin', 'hinein', 'hinten', 'hinter', 'hinterher', 'http', 'hätt', 'hätte', 'hätten', 'höchstens', 'ich', 'igitt', 'ihm', 'ihn', 'ihnen', 'ihr', 'ihre', 'ihrem', 'ihren', 'ihrer', 'ihres', 'im', 'immer', 'immerhin', 'in', 'indem', 'indessen', 'infolge', 'innen', 'innerhalb', 'ins', 'insofern', 'inzwischen', 'irgend', 'irgendeine', 'irgendwas', 'irgendwen', 'irgendwer', 'irgendwie', 'irgendwo', 'ist', 'ja', 'je', 'jed', 'jede', 'jedem', 'jeden', 'jedenfalls', 'jeder', 'jederlei', 'jedes', 'jedoch', 'jemand', 'jene', 'jenem', 'jenen', 'jener', 'jenes', 'jenseits', 'jetzt', 'jährig', 'jährige', 'jährigen', 'jähriges', 'kam', 'kann', 'kannst', 'kaum', 'kein', 'keine', 'keinem', 'keinen', 'keiner', 'keinerlei', 'keines', 'keineswegs', 'klar', 'klare', 'klaren', 'klares', 'klein', 'kleinen', 'kleiner', 'kleines', 'koennen', 'koennt', 'koennte', 'koennten', 'komme', 'kommen', 'kommt', 'konkret', 'konkrete', 'konkreten', 'konkreter', 'konkretes', 'können', 'könnt', 'künftig', 'leider', 'machen', 'man', 'manche', 'manchem', 'manchen', 'mancher', 'mancherorts', 'manches', 'manchmal', 'mehr', 'mehrere', 'mein', 'meine', 'meinem', 'meinen', 'meiner', 'meines', 'mich', 'mir', 'mit', 'mithin', 'muessen', 'muesst', 'muesste', 'muss', 'musst', 'musste', 'mussten', 'muß', 'mußt', 'müssen', 'müsste', 'müssten', 'müßt', 'müßte', 'nach', 'nachdem', 'nachher', 'nachhinein', 'nahm', 'natürlich', 'neben', 'nebenan', 'nehmen', 'nein', 'nicht', 'nichts', 'nie', 'niemals', 'niemand', 'nirgends', 'nirgendwo', 'noch', 'nun', 'nur', 'nächste', 'nämlich', 'nötigenfalls', 'ob', 'oben', 'oberhalb', 'obgleich', 'obschon', 'obwohl', 'oder', 'oft', 'per', 'plötzlich', 'schließlich', 'schon', 'sehr', 'sehrwohl', 'seid', 'sein', 'seine', 'seinem', 'seinen', 'seiner', 'seines', 'seit', 'seitdem', 'seither', 'selber', 'selbst', 'sich', 'sicher', 'sicherlich', 'sie', 'sind', 'so', 'sobald', 'sodass', 'sodaß', 'soeben', 'sofern', 'sofort', 'sogar', 'solange', 'solch', 'solche', 'solchem', 'solchen', 'solcher', 'solches', 'soll', 'sollen', 'sollst', 'sollt', 'sollte', 'sollten', 'solltest', 'somit', 'sondern', 'sonst', 'sonstwo', 'sooft', 'soviel', 'soweit', 'sowie', 'sowohl', 'tatsächlich', 'tatsächlichen', 'tatsächlicher', 'tatsächliches', 'trotzdem', 'ueber', 'um', 'umso', 'unbedingt', 'und', 'unmöglich', 'unmögliche', 'unmöglichen', 'unmöglicher', 'uns', 'unser', 'unser', 'unsere', 'unsere', 'unserem', 'unseren', 'unserer', 'unseres', 'unter', 'usw', 'viel', 'viele', 'vielen', 'vieler', 'vieles', 'vielleicht', 'vielmals', 'vom', 'von', 'vor', 'voran', 'vorher', 'vorüber', 'völlig', 'wann', 'war', 'waren', 'warst', 'warum', 'was', 'weder', 'weil', 'weiter', 'weitere', 'weiterem', 'weiteren', 'weiterer', 'weiteres', 'weiterhin', 'weiß', 'welche', 'welchem', 'welchen', 'welcher', 'welches', 'wem', 'wen', 'wenig', 'wenige', 'weniger', 'wenigstens', 'wenn', 'wenngleich', 'wer', 'werde', 'werden', 'werdet', 'weshalb', 'wessen', 'wichtig', 'wie', 'wieder', 'wieso', 'wieviel', 'wiewohl', 'will', 'willst', 'wir', 'wird', 'wirklich', 'wirst', 'wo', 'wodurch', 'wogegen', 'woher', 'wohin', 'wohingegen', 'wohl', 'wohlweislich', 'womit', 'woraufhin', 'woraus', 'worin', 'wurde', 'wurden', 'während', 'währenddessen', 'wär', 'wäre', 'wären', 'würde', 'würden', 'z.B.', 'zB', 'zahlreich', 'zeitweise', 'zu', 'zudem', 'zuerst', 'zufolge', 'zugleich', 'zuletzt', 'zum', 'zumal', 'zur', 'zurück', 'zusammen', 'zuviel', 'zwar', 'zwischen', 'ähnlich', 'übel', 'über', 'überall', 'überallhin', 'überdies', 'übermorgen', 'übrig', 'übrigens']\n"
     ]
    }
   ],
   "source": [
    "print(stop_words)"
   ]
  },
  {
   "cell_type": "code",
   "execution_count": 6,
   "id": "11074738",
   "metadata": {},
   "outputs": [],
   "source": [
    "# append words to stopwords that contain no information\n",
    "stop_words += ['wegen', 'melden', 'meldet', 'können', 'könnte', 'könnten', 'update', 'neu', 'neue', 'neues', 'ohne', 'letzte', 'letzter',\n",
    "                  'letztes', 'eins', 'zwei', 'drei', 'vier', 'fünf', 'sechs', 'sieben', 'acht', 'neun', 'zehn',\n",
    "                   'gehen', 'geht', 'wollen', 'wollte', 'wollt', 'jahr', 'jahre', 'fordern', 'fordert',\n",
    "                  'warnen', 'warnt', 'frühjahr', 'frühling', 'sommer', 'herbst', 'winter', 'erneut', 'deutlich', 'schwer', 'jahren', 'woche',\n",
    "                  'wochen', 'monat', 'monate', 'tag', 'tage', 'stunden', 'stunde', 'minuten', 'minuten', 'ende', 'beenden', 'endet']"
   ]
  },
  {
   "cell_type": "markdown",
   "id": "174deee4",
   "metadata": {},
   "source": [
    "## Clean text"
   ]
  },
  {
   "cell_type": "code",
   "execution_count": 7,
   "id": "52b0a6a1",
   "metadata": {},
   "outputs": [],
   "source": [
    "train['title_cleaned'] = train['title'].apply(lambda x: nlp_preprocessors.clean_text(x))"
   ]
  },
  {
   "cell_type": "code",
   "execution_count": 8,
   "id": "24f72c5e",
   "metadata": {},
   "outputs": [
    {
     "data": {
      "text/html": [
       "<div>\n",
       "<style scoped>\n",
       "    .dataframe tbody tr th:only-of-type {\n",
       "        vertical-align: middle;\n",
       "    }\n",
       "\n",
       "    .dataframe tbody tr th {\n",
       "        vertical-align: top;\n",
       "    }\n",
       "\n",
       "    .dataframe thead th {\n",
       "        text-align: right;\n",
       "    }\n",
       "</style>\n",
       "<table border=\"1\" class=\"dataframe\">\n",
       "  <thead>\n",
       "    <tr style=\"text-align: right;\">\n",
       "      <th></th>\n",
       "      <th>date</th>\n",
       "      <th>title</th>\n",
       "      <th>description</th>\n",
       "      <th>category</th>\n",
       "      <th>text</th>\n",
       "      <th>source</th>\n",
       "      <th>title_description_text</th>\n",
       "      <th>title_cleaned</th>\n",
       "    </tr>\n",
       "  </thead>\n",
       "  <tbody>\n",
       "    <tr>\n",
       "      <th>0</th>\n",
       "      <td>2022-06-01 00:13:42</td>\n",
       "      <td>Preise: Grüne halten Senkung der Spritsteuer f...</td>\n",
       "      <td>Heute tritt die Steuersenkung auf Kraftstoffe ...</td>\n",
       "      <td>Other</td>\n",
       "      <td>NaN</td>\n",
       "      <td>stern</td>\n",
       "      <td>Preise: Grüne halten Senkung der Spritsteuer f...</td>\n",
       "      <td>Preis grüne halten Senkung Spritsteuer falsch ...</td>\n",
       "    </tr>\n",
       "    <tr>\n",
       "      <th>1</th>\n",
       "      <td>2022-06-01 01:55:03</td>\n",
       "      <td>Biden warnt Putin: USA liefern moderne Raketen...</td>\n",
       "      <td>Die USA rüsten die Ukraine mit fortschrittlich...</td>\n",
       "      <td>Other</td>\n",
       "      <td>NaN</td>\n",
       "      <td>stern</td>\n",
       "      <td>Biden warnt Putin: USA liefern moderne Raketen...</td>\n",
       "      <td>Biden warnen Putin USA liefern modern Raketens...</td>\n",
       "    </tr>\n",
       "    <tr>\n",
       "      <th>2</th>\n",
       "      <td>2022-06-01 02:04:08</td>\n",
       "      <td>Soziale Medien: FDP-Politiker Kuhle: Internet-...</td>\n",
       "      <td>Eine «ZDF Magazin Royale»-Recherche beschäftig...</td>\n",
       "      <td>Other</td>\n",
       "      <td>NaN</td>\n",
       "      <td>stern</td>\n",
       "      <td>Soziale Medien: FDP-Politiker Kuhle: Internet-...</td>\n",
       "      <td>sozial Medium FDP-Politiker Kuhle Internet-Str...</td>\n",
       "    </tr>\n",
       "    <tr>\n",
       "      <th>3</th>\n",
       "      <td>2022-06-01 02:26:58</td>\n",
       "      <td>Liveblog: ++ Zwei von drei ukrainischen Kinder...</td>\n",
       "      <td>Rund zwei von drei Mädchen und Jungen in der U...</td>\n",
       "      <td>Missing</td>\n",
       "      <td>NaN</td>\n",
       "      <td>Tagesschau</td>\n",
       "      <td>Liveblog: ++ Zwei von drei ukrainischen Kinder...</td>\n",
       "      <td>Liveblog ukrainisch Kind vertreiben</td>\n",
       "    </tr>\n",
       "    <tr>\n",
       "      <th>4</th>\n",
       "      <td>2022-06-01 02:31:43</td>\n",
       "      <td>Finanzen: Dänemark stimmt über EU-Verteidigung...</td>\n",
       "      <td>Vorbehalt verteidigen oder Verteidigung ohne V...</td>\n",
       "      <td>Other</td>\n",
       "      <td>NaN</td>\n",
       "      <td>stern</td>\n",
       "      <td>Finanzen: Dänemark stimmt über EU-Verteidigung...</td>\n",
       "      <td>Finanz Dänemark stimmen EU-Verteidigungsvorbehalt</td>\n",
       "    </tr>\n",
       "  </tbody>\n",
       "</table>\n",
       "</div>"
      ],
      "text/plain": [
       "                  date                                              title  \\\n",
       "0  2022-06-01 00:13:42  Preise: Grüne halten Senkung der Spritsteuer f...   \n",
       "1  2022-06-01 01:55:03  Biden warnt Putin: USA liefern moderne Raketen...   \n",
       "2  2022-06-01 02:04:08  Soziale Medien: FDP-Politiker Kuhle: Internet-...   \n",
       "3  2022-06-01 02:26:58  Liveblog: ++ Zwei von drei ukrainischen Kinder...   \n",
       "4  2022-06-01 02:31:43  Finanzen: Dänemark stimmt über EU-Verteidigung...   \n",
       "\n",
       "                                         description category  text  \\\n",
       "0  Heute tritt die Steuersenkung auf Kraftstoffe ...    Other   NaN   \n",
       "1  Die USA rüsten die Ukraine mit fortschrittlich...    Other   NaN   \n",
       "2  Eine «ZDF Magazin Royale»-Recherche beschäftig...    Other   NaN   \n",
       "3  Rund zwei von drei Mädchen und Jungen in der U...  Missing   NaN   \n",
       "4  Vorbehalt verteidigen oder Verteidigung ohne V...    Other   NaN   \n",
       "\n",
       "       source                             title_description_text  \\\n",
       "0       stern  Preise: Grüne halten Senkung der Spritsteuer f...   \n",
       "1       stern  Biden warnt Putin: USA liefern moderne Raketen...   \n",
       "2       stern  Soziale Medien: FDP-Politiker Kuhle: Internet-...   \n",
       "3  Tagesschau  Liveblog: ++ Zwei von drei ukrainischen Kinder...   \n",
       "4       stern  Finanzen: Dänemark stimmt über EU-Verteidigung...   \n",
       "\n",
       "                                       title_cleaned  \n",
       "0  Preis grüne halten Senkung Spritsteuer falsch ...  \n",
       "1  Biden warnen Putin USA liefern modern Raketens...  \n",
       "2  sozial Medium FDP-Politiker Kuhle Internet-Str...  \n",
       "3                Liveblog ukrainisch Kind vertreiben  \n",
       "4  Finanz Dänemark stimmen EU-Verteidigungsvorbehalt  "
      ]
     },
     "execution_count": 8,
     "metadata": {},
     "output_type": "execute_result"
    }
   ],
   "source": [
    "train.head()"
   ]
  },
  {
   "cell_type": "markdown",
   "id": "a12c363c",
   "metadata": {},
   "source": [
    "## Extract features from 'title' "
   ]
  },
  {
   "cell_type": "code",
   "execution_count": 9,
   "id": "cd42c0db",
   "metadata": {},
   "outputs": [],
   "source": [
    "from sklearn.feature_extraction.text import CountVectorizer"
   ]
  },
  {
   "cell_type": "code",
   "execution_count": 10,
   "id": "38ab615c",
   "metadata": {},
   "outputs": [],
   "source": [
    "cv = CountVectorizer(max_df=0.95, min_df=2, stop_words=stop_words)"
   ]
  },
  {
   "cell_type": "code",
   "execution_count": 11,
   "id": "a628f0d2",
   "metadata": {},
   "outputs": [
    {
     "name": "stderr",
     "output_type": "stream",
     "text": [
      "C:\\Users\\manuela.rink\\anaconda3\\envs\\nlp\\Lib\\site-packages\\sklearn\\feature_extraction\\text.py:409: UserWarning: Your stop_words may be inconsistent with your preprocessing. Tokenizing the stop words generated tokens ['bsp', 'zb'] not in stop_words.\n",
      "  warnings.warn(\n"
     ]
    }
   ],
   "source": [
    "# create Document-Term-Matrix\n",
    "dtm = cv.fit_transform(train['title_cleaned'])"
   ]
  },
  {
   "cell_type": "code",
   "execution_count": 12,
   "id": "faba69b8",
   "metadata": {},
   "outputs": [
    {
     "data": {
      "text/plain": [
       "<67513x21412 sparse matrix of type '<class 'numpy.int64'>'\n",
       "\twith 330201 stored elements in Compressed Sparse Row format>"
      ]
     },
     "execution_count": 12,
     "metadata": {},
     "output_type": "execute_result"
    }
   ],
   "source": [
    "dtm"
   ]
  },
  {
   "cell_type": "code",
   "execution_count": 13,
   "id": "3f48b861",
   "metadata": {},
   "outputs": [],
   "source": [
    "from sklearn.decomposition import LatentDirichletAllocation"
   ]
  },
  {
   "cell_type": "code",
   "execution_count": 14,
   "id": "fdf60b9b",
   "metadata": {},
   "outputs": [
    {
     "data": {
      "text/html": [
       "<style>#sk-container-id-1 {color: black;background-color: white;}#sk-container-id-1 pre{padding: 0;}#sk-container-id-1 div.sk-toggleable {background-color: white;}#sk-container-id-1 label.sk-toggleable__label {cursor: pointer;display: block;width: 100%;margin-bottom: 0;padding: 0.3em;box-sizing: border-box;text-align: center;}#sk-container-id-1 label.sk-toggleable__label-arrow:before {content: \"▸\";float: left;margin-right: 0.25em;color: #696969;}#sk-container-id-1 label.sk-toggleable__label-arrow:hover:before {color: black;}#sk-container-id-1 div.sk-estimator:hover label.sk-toggleable__label-arrow:before {color: black;}#sk-container-id-1 div.sk-toggleable__content {max-height: 0;max-width: 0;overflow: hidden;text-align: left;background-color: #f0f8ff;}#sk-container-id-1 div.sk-toggleable__content pre {margin: 0.2em;color: black;border-radius: 0.25em;background-color: #f0f8ff;}#sk-container-id-1 input.sk-toggleable__control:checked~div.sk-toggleable__content {max-height: 200px;max-width: 100%;overflow: auto;}#sk-container-id-1 input.sk-toggleable__control:checked~label.sk-toggleable__label-arrow:before {content: \"▾\";}#sk-container-id-1 div.sk-estimator input.sk-toggleable__control:checked~label.sk-toggleable__label {background-color: #d4ebff;}#sk-container-id-1 div.sk-label input.sk-toggleable__control:checked~label.sk-toggleable__label {background-color: #d4ebff;}#sk-container-id-1 input.sk-hidden--visually {border: 0;clip: rect(1px 1px 1px 1px);clip: rect(1px, 1px, 1px, 1px);height: 1px;margin: -1px;overflow: hidden;padding: 0;position: absolute;width: 1px;}#sk-container-id-1 div.sk-estimator {font-family: monospace;background-color: #f0f8ff;border: 1px dotted black;border-radius: 0.25em;box-sizing: border-box;margin-bottom: 0.5em;}#sk-container-id-1 div.sk-estimator:hover {background-color: #d4ebff;}#sk-container-id-1 div.sk-parallel-item::after {content: \"\";width: 100%;border-bottom: 1px solid gray;flex-grow: 1;}#sk-container-id-1 div.sk-label:hover label.sk-toggleable__label {background-color: #d4ebff;}#sk-container-id-1 div.sk-serial::before {content: \"\";position: absolute;border-left: 1px solid gray;box-sizing: border-box;top: 0;bottom: 0;left: 50%;z-index: 0;}#sk-container-id-1 div.sk-serial {display: flex;flex-direction: column;align-items: center;background-color: white;padding-right: 0.2em;padding-left: 0.2em;position: relative;}#sk-container-id-1 div.sk-item {position: relative;z-index: 1;}#sk-container-id-1 div.sk-parallel {display: flex;align-items: stretch;justify-content: center;background-color: white;position: relative;}#sk-container-id-1 div.sk-item::before, #sk-container-id-1 div.sk-parallel-item::before {content: \"\";position: absolute;border-left: 1px solid gray;box-sizing: border-box;top: 0;bottom: 0;left: 50%;z-index: -1;}#sk-container-id-1 div.sk-parallel-item {display: flex;flex-direction: column;z-index: 1;position: relative;background-color: white;}#sk-container-id-1 div.sk-parallel-item:first-child::after {align-self: flex-end;width: 50%;}#sk-container-id-1 div.sk-parallel-item:last-child::after {align-self: flex-start;width: 50%;}#sk-container-id-1 div.sk-parallel-item:only-child::after {width: 0;}#sk-container-id-1 div.sk-dashed-wrapped {border: 1px dashed gray;margin: 0 0.4em 0.5em 0.4em;box-sizing: border-box;padding-bottom: 0.4em;background-color: white;}#sk-container-id-1 div.sk-label label {font-family: monospace;font-weight: bold;display: inline-block;line-height: 1.2em;}#sk-container-id-1 div.sk-label-container {text-align: center;}#sk-container-id-1 div.sk-container {/* jupyter's `normalize.less` sets `[hidden] { display: none; }` but bootstrap.min.css set `[hidden] { display: none !important; }` so we also need the `!important` here to be able to override the default hidden behavior on the sphinx rendered scikit-learn.org. See: https://github.com/scikit-learn/scikit-learn/issues/21755 */display: inline-block !important;position: relative;}#sk-container-id-1 div.sk-text-repr-fallback {display: none;}</style><div id=\"sk-container-id-1\" class=\"sk-top-container\"><div class=\"sk-text-repr-fallback\"><pre>LatentDirichletAllocation(n_components=6, random_state=42)</pre><b>In a Jupyter environment, please rerun this cell to show the HTML representation or trust the notebook. <br />On GitHub, the HTML representation is unable to render, please try loading this page with nbviewer.org.</b></div><div class=\"sk-container\" hidden><div class=\"sk-item\"><div class=\"sk-estimator sk-toggleable\"><input class=\"sk-toggleable__control sk-hidden--visually\" id=\"sk-estimator-id-1\" type=\"checkbox\" checked><label for=\"sk-estimator-id-1\" class=\"sk-toggleable__label sk-toggleable__label-arrow\">LatentDirichletAllocation</label><div class=\"sk-toggleable__content\"><pre>LatentDirichletAllocation(n_components=6, random_state=42)</pre></div></div></div></div></div>"
      ],
      "text/plain": [
       "LatentDirichletAllocation(n_components=6, random_state=42)"
      ]
     },
     "execution_count": 14,
     "metadata": {},
     "output_type": "execute_result"
    }
   ],
   "source": [
    "lda = LatentDirichletAllocation(n_components=6, random_state=42)\n",
    "lda.fit(dtm)"
   ]
  },
  {
   "cell_type": "markdown",
   "id": "a2f3296f",
   "metadata": {},
   "source": [
    "## Analyse extracted features"
   ]
  },
  {
   "cell_type": "code",
   "execution_count": 15,
   "id": "44c85ba2",
   "metadata": {},
   "outputs": [
    {
     "data": {
      "text/plain": [
       "21412"
      ]
     },
     "execution_count": 15,
     "metadata": {},
     "output_type": "execute_result"
    }
   ],
   "source": [
    "len(cv.get_feature_names_out())"
   ]
  },
  {
   "cell_type": "code",
   "execution_count": 16,
   "id": "79a3b48a",
   "metadata": {},
   "outputs": [
    {
     "data": {
      "text/plain": [
       "array(['000', '034', '039', ..., 'войны', 'российские', 'украинцы'],\n",
       "      dtype=object)"
      ]
     },
     "execution_count": 16,
     "metadata": {},
     "output_type": "execute_result"
    }
   ],
   "source": [
    "cv.get_feature_names_out()"
   ]
  },
  {
   "cell_type": "code",
   "execution_count": 17,
   "id": "6d276a41",
   "metadata": {},
   "outputs": [
    {
     "data": {
      "text/plain": [
       "6"
      ]
     },
     "execution_count": 17,
     "metadata": {},
     "output_type": "execute_result"
    }
   ],
   "source": [
    "len(lda.components_)"
   ]
  },
  {
   "cell_type": "code",
   "execution_count": 18,
   "id": "be61548c",
   "metadata": {},
   "outputs": [
    {
     "data": {
      "text/plain": [
       "array([[ 0.1685613 , 17.07200623,  7.07743311, ...,  0.16666855,\n",
       "         0.16666855,  0.16667093],\n",
       "       [ 3.01553633,  5.54811027,  0.1677516 , ...,  2.16665594,\n",
       "         2.16665594,  0.16667167],\n",
       "       [13.31585468,  8.61638762, 28.02462403, ...,  0.16666873,\n",
       "         0.16666873,  0.16667134],\n",
       "       [ 0.16666811, 35.90896048,  4.58918905, ...,  0.16666893,\n",
       "         0.16666893,  0.16667179],\n",
       "       [ 0.16671151, 16.28712606, 16.97407526, ...,  0.16666897,\n",
       "         0.16666897,  2.16664261],\n",
       "       [ 0.16666807,  6.56740935,  0.16692695, ...,  0.16666887,\n",
       "         0.16666887,  0.16667165]])"
      ]
     },
     "execution_count": 18,
     "metadata": {},
     "output_type": "execute_result"
    }
   ],
   "source": [
    "lda.components_"
   ]
  },
  {
   "cell_type": "code",
   "execution_count": 19,
   "id": "45a65bd8",
   "metadata": {},
   "outputs": [
    {
     "data": {
      "text/plain": [
       "21412"
      ]
     },
     "execution_count": 19,
     "metadata": {},
     "output_type": "execute_result"
    }
   ],
   "source": [
    "len(lda.components_[0])"
   ]
  },
  {
   "cell_type": "markdown",
   "id": "9e30cf34",
   "metadata": {},
   "source": [
    "### Show most important words of first extracted topic"
   ]
  },
  {
   "cell_type": "code",
   "execution_count": 20,
   "id": "c617b9e0",
   "metadata": {},
   "outputs": [],
   "source": [
    "first_topic = lda.components_[0]"
   ]
  },
  {
   "cell_type": "code",
   "execution_count": 21,
   "id": "258f618e",
   "metadata": {},
   "outputs": [
    {
     "data": {
      "text/plain": [
       "array([19585,  3800, 20969, ..., 15087, 10150, 18325], dtype=int64)"
      ]
     },
     "execution_count": 21,
     "metadata": {},
     "output_type": "execute_result"
    }
   ],
   "source": [
    "first_topic.argsort() # returns indices of ascending sorted array values "
   ]
  },
  {
   "cell_type": "code",
   "execution_count": 22,
   "id": "5966880a",
   "metadata": {},
   "outputs": [],
   "source": [
    "# the last 10 entries are the 10 most important words for topic 1\n",
    "top_words_indices = first_topic.argsort()[-10:]"
   ]
  },
  {
   "cell_type": "code",
   "execution_count": 23,
   "id": "11648839",
   "metadata": {},
   "outputs": [
    {
     "name": "stdout",
     "output_type": "stream",
     "text": [
      "liveblog\n",
      "selenskyj\n",
      "kiew\n",
      "angriff\n",
      "lage\n",
      "putin\n",
      "russland\n",
      "russisch\n",
      "krieg\n",
      "ukraine\n"
     ]
    }
   ],
   "source": [
    "for index in top_words_indices:\n",
    "    print(cv.get_feature_names_out()[index])"
   ]
  },
  {
   "cell_type": "markdown",
   "id": "0d661247",
   "metadata": {},
   "source": [
    "### Show most important words of first extracted topic"
   ]
  },
  {
   "cell_type": "code",
   "execution_count": 24,
   "id": "f789d8f2",
   "metadata": {},
   "outputs": [
    {
     "name": "stdout",
     "output_type": "stream",
     "text": [
      "Die TOP-15 Wörter für das Thema #0\n",
      "['moskau', 'chef', 'stimme', 'invasion', 'ukrainisch', 'liveblog', 'selenskyj', 'kiew', 'angriff', 'lage', 'putin', 'russland', 'russisch', 'krieg', 'ukraine']\n",
      "\n",
      "\n",
      "Die TOP-15 Wörter für das Thema #1\n",
      "['großbritannien', 'panzer', 'kritik', 'faeser', 'spd', 'land', 'fdp', 'wahrheit', 'habeck', 'lindner', 'streit', 'eu', 'regierung', 'ampel', 'euro']\n",
      "\n",
      "\n",
      "Die TOP-15 Wörter für das Thema #2\n",
      "['wahl', 'eu', 'marktbericht', 'welt', 'taiwan', 'groß', 'analyse', 'wm', 'biden', 'usa', 'berlin', 'scholz', 'us', 'deutschland', 'china']\n",
      "\n",
      "\n",
      "Die TOP-15 Wörter für das Thema #3\n",
      "['brauchen', 'ex', 'groß', 'deutschland', 'afd', 'g7', 'frankreich', 'klima', 'türkei', 'gipfel', 'wahl', 'israel', 'russland', 'putin', 'deutsch']\n",
      "\n",
      "\n",
      "Die TOP-15 Wörter für das Thema #4\n",
      "['europa', 'gas', 'mann', 'union', 'protest', 'sanktion', 'grüne', 'gastbeitrag', 'cdu', 'bundesliga', 'frau', 'tote', 'iran', 'bayern', 'eu']\n",
      "\n",
      "\n",
      "Die TOP-15 Wörter für das Thema #5\n",
      "['präsident', 'mensch', 'steigen', 'news', 'deutsch', 'preis', 'kind', 'hoch', 'inflation', 'us', 'pandemie', 'lauterbach', 'deutschland', 'trump', 'corona']\n",
      "\n",
      "\n"
     ]
    }
   ],
   "source": [
    "for index, topic in enumerate(lda.components_):\n",
    "    print(f'Die TOP-15 Wörter für das Thema #{index}')\n",
    "    print([cv.get_feature_names_out()[i] for i in topic.argsort()[-15:]])\n",
    "    print('\\n')"
   ]
  },
  {
   "cell_type": "markdown",
   "id": "a0973fc9",
   "metadata": {},
   "source": [
    "### Get topics with highest probability for news items in train data"
   ]
  },
  {
   "cell_type": "code",
   "execution_count": 25,
   "id": "0f46f47f",
   "metadata": {},
   "outputs": [
    {
     "data": {
      "text/plain": [
       "(67513, 6)"
      ]
     },
     "execution_count": 25,
     "metadata": {},
     "output_type": "execute_result"
    }
   ],
   "source": [
    "topic_results = lda.transform(dtm)\n",
    "topic_results.shape"
   ]
  },
  {
   "cell_type": "code",
   "execution_count": 26,
   "id": "823c7020",
   "metadata": {},
   "outputs": [
    {
     "data": {
      "text/plain": [
       "array([0.02085, 0.25909, 0.02091, 0.30855, 0.22744, 0.16315])"
      ]
     },
     "execution_count": 26,
     "metadata": {},
     "output_type": "execute_result"
    }
   ],
   "source": [
    "topic_results[0].round(5)"
   ]
  },
  {
   "cell_type": "code",
   "execution_count": 27,
   "id": "f68cacd0",
   "metadata": {},
   "outputs": [
    {
     "data": {
      "text/plain": [
       "3"
      ]
     },
     "execution_count": 27,
     "metadata": {},
     "output_type": "execute_result"
    }
   ],
   "source": [
    "topic_results[0].argmax()"
   ]
  },
  {
   "cell_type": "code",
   "execution_count": 28,
   "id": "6e11fb89",
   "metadata": {},
   "outputs": [],
   "source": [
    "# save topic to train dataset\n",
    "train['topic'] = topic_results.argmax(axis=1)"
   ]
  },
  {
   "cell_type": "code",
   "execution_count": 29,
   "id": "7eb2c522",
   "metadata": {},
   "outputs": [
    {
     "data": {
      "text/html": [
       "<div>\n",
       "<style scoped>\n",
       "    .dataframe tbody tr th:only-of-type {\n",
       "        vertical-align: middle;\n",
       "    }\n",
       "\n",
       "    .dataframe tbody tr th {\n",
       "        vertical-align: top;\n",
       "    }\n",
       "\n",
       "    .dataframe thead th {\n",
       "        text-align: right;\n",
       "    }\n",
       "</style>\n",
       "<table border=\"1\" class=\"dataframe\">\n",
       "  <thead>\n",
       "    <tr style=\"text-align: right;\">\n",
       "      <th></th>\n",
       "      <th>date</th>\n",
       "      <th>title</th>\n",
       "      <th>description</th>\n",
       "      <th>category</th>\n",
       "      <th>text</th>\n",
       "      <th>source</th>\n",
       "      <th>title_description_text</th>\n",
       "      <th>title_cleaned</th>\n",
       "      <th>topic</th>\n",
       "    </tr>\n",
       "  </thead>\n",
       "  <tbody>\n",
       "    <tr>\n",
       "      <th>0</th>\n",
       "      <td>2022-06-01 00:13:42</td>\n",
       "      <td>Preise: Grüne halten Senkung der Spritsteuer f...</td>\n",
       "      <td>Heute tritt die Steuersenkung auf Kraftstoffe ...</td>\n",
       "      <td>Other</td>\n",
       "      <td>NaN</td>\n",
       "      <td>stern</td>\n",
       "      <td>Preise: Grüne halten Senkung der Spritsteuer f...</td>\n",
       "      <td>Preis grüne halten Senkung Spritsteuer falsch ...</td>\n",
       "      <td>3</td>\n",
       "    </tr>\n",
       "    <tr>\n",
       "      <th>1</th>\n",
       "      <td>2022-06-01 01:55:03</td>\n",
       "      <td>Biden warnt Putin: USA liefern moderne Raketen...</td>\n",
       "      <td>Die USA rüsten die Ukraine mit fortschrittlich...</td>\n",
       "      <td>Other</td>\n",
       "      <td>NaN</td>\n",
       "      <td>stern</td>\n",
       "      <td>Biden warnt Putin: USA liefern moderne Raketen...</td>\n",
       "      <td>Biden warnen Putin USA liefern modern Raketens...</td>\n",
       "      <td>0</td>\n",
       "    </tr>\n",
       "    <tr>\n",
       "      <th>2</th>\n",
       "      <td>2022-06-01 02:04:08</td>\n",
       "      <td>Soziale Medien: FDP-Politiker Kuhle: Internet-...</td>\n",
       "      <td>Eine «ZDF Magazin Royale»-Recherche beschäftig...</td>\n",
       "      <td>Other</td>\n",
       "      <td>NaN</td>\n",
       "      <td>stern</td>\n",
       "      <td>Soziale Medien: FDP-Politiker Kuhle: Internet-...</td>\n",
       "      <td>sozial Medium FDP-Politiker Kuhle Internet-Str...</td>\n",
       "      <td>1</td>\n",
       "    </tr>\n",
       "    <tr>\n",
       "      <th>3</th>\n",
       "      <td>2022-06-01 02:26:58</td>\n",
       "      <td>Liveblog: ++ Zwei von drei ukrainischen Kinder...</td>\n",
       "      <td>Rund zwei von drei Mädchen und Jungen in der U...</td>\n",
       "      <td>Missing</td>\n",
       "      <td>NaN</td>\n",
       "      <td>Tagesschau</td>\n",
       "      <td>Liveblog: ++ Zwei von drei ukrainischen Kinder...</td>\n",
       "      <td>Liveblog ukrainisch Kind vertreiben</td>\n",
       "      <td>0</td>\n",
       "    </tr>\n",
       "    <tr>\n",
       "      <th>4</th>\n",
       "      <td>2022-06-01 02:31:43</td>\n",
       "      <td>Finanzen: Dänemark stimmt über EU-Verteidigung...</td>\n",
       "      <td>Vorbehalt verteidigen oder Verteidigung ohne V...</td>\n",
       "      <td>Other</td>\n",
       "      <td>NaN</td>\n",
       "      <td>stern</td>\n",
       "      <td>Finanzen: Dänemark stimmt über EU-Verteidigung...</td>\n",
       "      <td>Finanz Dänemark stimmen EU-Verteidigungsvorbehalt</td>\n",
       "      <td>1</td>\n",
       "    </tr>\n",
       "  </tbody>\n",
       "</table>\n",
       "</div>"
      ],
      "text/plain": [
       "                  date                                              title  \\\n",
       "0  2022-06-01 00:13:42  Preise: Grüne halten Senkung der Spritsteuer f...   \n",
       "1  2022-06-01 01:55:03  Biden warnt Putin: USA liefern moderne Raketen...   \n",
       "2  2022-06-01 02:04:08  Soziale Medien: FDP-Politiker Kuhle: Internet-...   \n",
       "3  2022-06-01 02:26:58  Liveblog: ++ Zwei von drei ukrainischen Kinder...   \n",
       "4  2022-06-01 02:31:43  Finanzen: Dänemark stimmt über EU-Verteidigung...   \n",
       "\n",
       "                                         description category  text  \\\n",
       "0  Heute tritt die Steuersenkung auf Kraftstoffe ...    Other   NaN   \n",
       "1  Die USA rüsten die Ukraine mit fortschrittlich...    Other   NaN   \n",
       "2  Eine «ZDF Magazin Royale»-Recherche beschäftig...    Other   NaN   \n",
       "3  Rund zwei von drei Mädchen und Jungen in der U...  Missing   NaN   \n",
       "4  Vorbehalt verteidigen oder Verteidigung ohne V...    Other   NaN   \n",
       "\n",
       "       source                             title_description_text  \\\n",
       "0       stern  Preise: Grüne halten Senkung der Spritsteuer f...   \n",
       "1       stern  Biden warnt Putin: USA liefern moderne Raketen...   \n",
       "2       stern  Soziale Medien: FDP-Politiker Kuhle: Internet-...   \n",
       "3  Tagesschau  Liveblog: ++ Zwei von drei ukrainischen Kinder...   \n",
       "4       stern  Finanzen: Dänemark stimmt über EU-Verteidigung...   \n",
       "\n",
       "                                       title_cleaned  topic  \n",
       "0  Preis grüne halten Senkung Spritsteuer falsch ...      3  \n",
       "1  Biden warnen Putin USA liefern modern Raketens...      0  \n",
       "2  sozial Medium FDP-Politiker Kuhle Internet-Str...      1  \n",
       "3                Liveblog ukrainisch Kind vertreiben      0  \n",
       "4  Finanz Dänemark stimmen EU-Verteidigungsvorbehalt      1  "
      ]
     },
     "execution_count": 29,
     "metadata": {},
     "output_type": "execute_result"
    }
   ],
   "source": [
    "train.head()"
   ]
  },
  {
   "cell_type": "markdown",
   "id": "a0751e64",
   "metadata": {},
   "source": [
    "## Visualize model"
   ]
  },
  {
   "cell_type": "code",
   "execution_count": 30,
   "id": "39e7a68b",
   "metadata": {},
   "outputs": [
    {
     "data": {
      "text/html": [
       "\n",
       "<link rel=\"stylesheet\" type=\"text/css\" href=\"https://cdn.jsdelivr.net/gh/bmabey/pyLDAvis@3.4.0/pyLDAvis/js/ldavis.v1.0.0.css\">\n",
       "\n",
       "\n",
       "<div id=\"ldavis_el662815939121261284633827197\" style=\"background-color:white;\"></div>\n",
       "<script type=\"text/javascript\">\n",
       "\n",
       "var ldavis_el662815939121261284633827197_data = {\"mdsDat\": {\"x\": [-56.17057800292969, 78.2702865600586, -106.01525115966797, -2.1188974380493164, 111.55316162109375, 4.911771297454834], \"y\": [82.30270385742188, 73.15867614746094, -43.2651481628418, -129.2478485107422, -56.98905563354492, -14.85395336151123], \"topics\": [1, 2, 3, 4, 5, 6], \"cluster\": [1, 1, 1, 1, 1, 1], \"Freq\": [18.854537444331097, 17.112011842898998, 16.44231899992622, 16.124676891261245, 15.944318042114025, 15.52213677946842]}, \"tinfo\": {\"Term\": [\"ukraine\", \"krieg\", \"russisch\", \"corona\", \"russland\", \"putin\", \"china\", \"eu\", \"deutschland\", \"lage\", \"scholz\", \"us\", \"regierung\", \"ampel\", \"euro\", \"angriff\", \"kiew\", \"trump\", \"bayern\", \"selenskyj\", \"iran\", \"israel\", \"liveblog\", \"berlin\", \"gipfel\", \"bundesliga\", \"wahl\", \"lauterbach\", \"pandemie\", \"lindner\", \"ukraine\", \"krieg\", \"russisch\", \"lage\", \"angriff\", \"kiew\", \"selenskyj\", \"liveblog\", \"invasion\", \"stimme\", \"entwicklung\", \"wagner\", \"soldat\", \"ukrainisch\", \"morgen\", \"bachmut\", \"russischer\", \"krim\", \"russe\", \"truppe\", \"saporischschja\", \"kriegsverlauf\", \"front\", \"ukrainer\", \"prigoschin\", \"\\u00fcberblick\", \"armee\", \"updat\", \"offensive\", \"kampfjet\", \"l\\u00fctzerath\", \"russland\", \"nachricht\", \"waffe\", \"putin\", \"liefern\", \"moskau\", \"chef\", \"explosion\", \"nato\", \"kreml\", \"usa\", \"weit\", \"us\", \"kampf\", \"taiwan\", \"ulrich\", \"reitz\", \"olaf\", \"versteher\", \"em\", \"heizungsgesetz\", \"joe\", \"york\", \"abtreibung\", \"olympia\", \"b\\u00f6rse\", \"pelosi\", \"ballon\", \"nawalny\", \"bundeskanzler\", \"hoffenheim\", \"m\\u00fcnchner\", \"sicherheitskonferenz\", \"reise\", \"leichtathletik\", \"repr\\u00e4sentantenhaus\", \"j\\u00e4ger\", \"nachhaltig\", \"belgien\", \"messi\", \"halbfinal\", \"markt\", \"kongress\", \"abtreibungsrecht\", \"welt\", \"china\", \"analyse\", \"zahlen\", \"fifa\", \"wm\", \"biden\", \"scholz\", \"katar\", \"attentat\", \"berlin\", \"auto\", \"recht\", \"us\", \"deutschland\", \"usa\", \"besuch\", \"marktbericht\", \"dax\", \"japan\", \"million\", \"spanien\", \"gro\\u00df\", \"fu\\u00dfball\", \"kanzler\", \"wahl\", \"pr\\u00e4sident\", \"eu\", \"sterben\", \"gut\", \"regierung\", \"lindner\", \"wahrheit\", \"panzer\", \"gro\\u00dfbritannien\", \"johnson\", \"bund\", \"koalition\", \"twitter\", \"boris\", \"gr\\u00fcnen\", \"lambrecht\", \"leopard\", \"ukrainekrieg\", \"musk\", \"nachfolge\", \"chefin\", \"wissing\", \"haushalt\", \"serbien\", \"kindergrundsicherung\", \"kosovo\", \"truss\", \"entlastungspaket\", \"kaufen\", \"for\", \"brexit\", \"kommune\", \"verbrenner\", \"rechts\", \"faeser\", \"ticket\", \"ampel\", \"\\u00f6sterreich\", \"milliarde\", \"euro\", \"pistorius\", \"klimaschutz\", \"streit\", \"fdp\", \"druck\", \"bundesregierung\", \"debatte\", \"spd\", \"habeck\", \"land\", \"kritik\", \"eu\", \"britisch\", \"plan\", \"bundeswehr\", \"generation\", \"lang\", \"kritisieren\", \"cdu\", \"corona\", \"pandemie\", \"inflation\", \"preis\", \"news\", \"kirche\", \"lauterbach\", \"donald\", \"hitze\", \"schule\", \"kapitol\", \"wetter\", \"maskenpflicht\", \"waldbrand\", \"rbb\", \"street\", \"impfung\", \"inzidenz\", \"rki\", \"sturm\", \"wall\", \"tunesien\", \"post\", \"lebensmittel\", \"katholisch\", \"fragen\", \"bolsonaro\", \"regen\", \"warnstreik\", \"georgien\", \"who\", \"heil\", \"sinken\", \"trump\", \"steigend\", \"brand\", \"brasilien\", \"hoch\", \"anklage\", \"kind\", \"erwarten\", \"deutschland\", \"steigen\", \"stark\", \"hilfe\", \"us\", \"sudan\", \"teuer\", \"afghanistan\", \"mensch\", \"deutsch\", \"marktbericht\", \"pr\\u00e4sident\", \"krise\", \"bleiben\", \"china\", \"prozent\", \"israel\", \"g7\", \"nord\", \"stream\", \"nordkorea\", \"erdogan\", \"ki\", \"gesellschaft\", \"parlamentswahl\", \"justizreform\", \"reichsb\\u00fcrger\", \"liebe\", \"pipeline\", \"kim\", \"intelligenz\", \"feuern\", \"mai\", \"tiktok\", \"netanjahu\", \"bereit\", \"g20\", \"stimmung\", \"k\\u00fcnstliche\", \"vertrauen\", \"terminal\", \"elmau\", \"notstand\", \"r\\u00fcgen\", \"westjordanland\", \"gerhard\", \"gipfel\", \"brauchen\", \"nahost\", \"s\\u00fcdafrika\", \"s\\u00fcdkorea\", \"lufthansa\", \"podcast\", \"klima\", \"reaktion\", \"haft\", \"t\\u00fcrkei\", \"partei\", \"schweden\", \"frankreich\", \"wahl\", \"streik\", \"deutsch\", \"bahn\", \"italien\", \"afd\", \"finnland\", \"linke\", \"tod\", \"putin\", \"russland\", \"ex\", \"gro\\u00df\", \"deutschland\", \"macron\", \"protest\", \"nato\", \"scholz\", \"baerbock\", \"bundesliga\", \"sanktion\", \"gabor\", \"steingart\", \"leipzig\", \"erdbeben\", \"fc\", \"m\\u00fcller\", \"freiburg\", \"bvb\", \"hertha\", \"de\", \"schalke\", \"hugo\", \"bayer\", \"vogg\", \"trainer\", \"economist\", \"mainz\", \"partnerportal\", \"leverkusen\", \"\\u00fcberschwemmung\", \"tour\", \"gladbach\", \"handball\", \"spieltag\", \"hartz\", \"iv\", \"flut\", \"libyen\", \"gastbeitrag\", \"iran\", \"bayern\", \"stuttgart\", \"dortmund\", \"schu\\u00df\", \"charles\", \"denken\", \"frau\", \"gr\\u00fcne\", \"schlagen\", \"tote\", \"dfb\", \"eu\", \"mindestens\", \"cdu\", \"unfall\", \"aiwanger\", \"union\", \"verletzter\", \"s\\u00f6der\", \"sieg\", \"syrien\", \"gas\", \"europa\", \"mann\", \"protest\", \"feiern\", \"mensch\", \"fu\\u00dfball\", \"leben\", \"sterben\", \"habeck\", \"berlin\"], \"Freq\": [4538.0, 2629.0, 1381.0, 1142.0, 1763.0, 1738.0, 1172.0, 1426.0, 1663.0, 563.0, 1013.0, 1303.0, 515.0, 591.0, 638.0, 536.0, 533.0, 657.0, 488.0, 479.0, 476.0, 420.0, 432.0, 981.0, 385.0, 353.0, 649.0, 359.0, 353.0, 348.0, 4537.269744445371, 2628.585141327193, 1380.4531477333178, 563.1891252253424, 535.9732547989266, 532.2212974814357, 478.7046781038524, 431.80297961206037, 354.86755083903375, 351.1124806270509, 308.8856959702678, 283.54914385362224, 261.965823083129, 376.84331641902713, 204.72426482389213, 200.03319674335663, 196.27837502258143, 195.34109777234974, 285.8901958118803, 151.23645571932624, 141.8528221223258, 138.09958172030932, 137.15983182109588, 134.34497131538853, 137.1233761476517, 137.07981730052273, 177.1644732996257, 120.26977856472926, 112.76166546744747, 117.41459508840924, 157.16006782419413, 1330.7227324050289, 310.66982707974364, 231.03619409517307, 1197.52147033978, 196.5126589600484, 312.73404858320254, 342.3912635785076, 174.2514640884572, 256.9671882649147, 187.55070205793783, 247.92899748953593, 207.56856870803196, 226.09391551718176, 196.0922613891205, 284.22009080974993, 191.10049188327685, 188.30627991841408, 127.76170993607843, 122.17385205797382, 173.0018283148571, 111.92630462973901, 106.33883418549013, 105.40733032844174, 64.4236841297662, 61.62923440104927, 56.97202546633834, 55.109933879352845, 55.109918740710874, 54.17611379360377, 53.24625355439103, 53.24410394380309, 52.3143498851978, 51.38305520155663, 175.9867711444172, 46.69961637513957, 41.138294128759895, 41.13763139639346, 41.130058578462155, 39.27436391262841, 37.411729784668346, 37.41081687648063, 37.40160268633055, 36.45916157385896, 34.61797329460751, 262.20208493878806, 1007.2198876816644, 354.7903962001986, 133.86779727947734, 42.385465842133385, 364.6447407943637, 381.0465054639059, 680.1858029356285, 140.7016705092137, 72.20537791022238, 619.1293633091278, 207.83431465153546, 189.0767021285323, 720.5094354654638, 846.8979880711577, 517.6852167644732, 177.961897178946, 255.83606515359696, 130.85595820312648, 125.63568459417935, 224.10633546888255, 142.15278666031614, 300.2021888883602, 185.78774229392124, 147.33655395003277, 229.38776563125106, 193.39435221888917, 253.77216310609748, 178.95672553297797, 186.09421512050187, 514.7667046037345, 347.3180254819216, 319.89473768371096, 253.67329612646412, 230.02794985019122, 229.08332657398554, 200.70320511276825, 195.83215098666864, 152.41954424011425, 141.107463943422, 136.3763448819692, 141.04735706179758, 125.02109565910276, 122.18430246986527, 112.72741275283065, 101.3763919625207, 100.36540965519353, 89.07858973879691, 87.18576636683608, 83.40142026090473, 81.51063848929658, 74.88816718849169, 72.04590749468454, 66.37504675055855, 75.68844079083135, 57.86025365811068, 58.79319960812838, 97.96109780991125, 100.74083326601766, 55.94692213917347, 269.15039466428584, 159.24335947355567, 557.565784743144, 138.00696524904612, 229.1444638165789, 558.905204389104, 105.20105974331598, 141.09348472266578, 360.355479858908, 300.7878029861276, 197.2190997534859, 211.70618894205379, 211.3995623077768, 289.5991600386319, 343.58556221720727, 291.5068207285628, 266.72488577284656, 442.34734359231055, 155.97727846008812, 175.03623736582244, 153.96776633515915, 153.37943030217943, 152.0461193115426, 149.90261212799777, 154.6511717924664, 1141.4332911888905, 352.84993997052, 300.4206761816489, 258.3505834694009, 233.10154407809745, 165.74307047789787, 357.31164458345626, 140.48094923965823, 119.90252192022153, 168.1023340402445, 102.12611190484805, 94.64364337901982, 91.8366716099214, 137.28061473411947, 89.96527917808537, 86.22292465913253, 85.28782003670567, 80.61139368288553, 78.73877193831119, 132.41601559471033, 70.32012050609626, 68.44696317365073, 87.85671943271386, 65.64114363058212, 62.83582022316842, 71.12876839365848, 59.09326448402501, 58.14880576730636, 166.1049491918107, 56.27599852692628, 59.00030746576945, 91.57646172340466, 157.6468375224627, 527.8167388408242, 93.41254956824389, 132.40952355124577, 137.21678895101047, 292.9248513680295, 132.0497790631775, 283.32755250307093, 179.29736063675225, 468.93392656844816, 194.4817201711505, 168.25024982072435, 155.8511033694321, 330.3498694906425, 120.99915341210715, 135.00912444798527, 127.00369711957882, 190.43884871234894, 252.97783433090407, 172.761637951464, 182.67607265272738, 147.88190698772198, 162.92473759469203, 164.38589184302987, 137.00051508404323, 419.7088278481418, 298.00564611683706, 221.41725301234212, 211.96184778080197, 196.83232329797852, 180.66940233932857, 112.6687847522319, 105.11181745536764, 100.38592163455138, 99.44039365230383, 97.54879690329561, 81.47348481172392, 76.74666170232909, 76.74627014206615, 73.91023121524702, 71.07232340461854, 66.34461964806677, 64.45248548702146, 56.89016763489865, 59.678413189719144, 77.31365631484668, 52.15764749642105, 50.27144226279965, 48.3784215645778, 47.43382934918888, 45.544059153417884, 44.59463131392008, 43.639895873312625, 42.7069647480668, 66.82073948631835, 378.37903656538987, 228.26025000134453, 82.15185368984189, 62.00052797919799, 81.74156200920484, 80.08643455675099, 188.27894035009479, 319.8937801441506, 112.75919562057955, 209.18708922919154, 326.8265977056744, 224.58521004932462, 145.2321372920264, 317.05012075109283, 395.14028925919473, 175.66260490347875, 534.7781007568306, 204.5851074009494, 208.99877374543618, 291.98058281486476, 106.60964955215222, 127.49127861956414, 175.2126825672456, 440.43084003334616, 420.9040907416146, 228.45531366922, 240.8054121716149, 287.4215319471042, 135.19340738489382, 185.08662251197708, 160.21704567418115, 200.42631094903717, 156.5054899763997, 352.97601497908596, 272.06063425252313, 187.3856726924928, 187.38567269248884, 183.6217432199611, 168.56834858460957, 164.80567052988286, 127.17127099857622, 104.5905264161234, 104.59042306724027, 89.46620155524828, 81.06870409891476, 79.18791824457477, 78.24689563399285, 96.86859894048435, 76.36533449741694, 75.42415572625237, 75.4225780424568, 74.4738150462837, 71.65968847928646, 69.77075466697062, 67.89245328270525, 65.07429065648053, 62.252681740481485, 62.252364972661105, 62.25234891075249, 62.25212189782588, 60.37045867184868, 59.42571769932739, 58.488380970161586, 319.7242143994062, 447.89364790381495, 457.9213740716391, 82.07446896889772, 68.3825271149662, 108.30718278297387, 94.68554872218671, 112.26783852366394, 412.5602879887897, 315.14745672729913, 166.40241742409842, 429.29229356232383, 192.89961649140028, 726.1395120023928, 140.9930566636808, 332.2594063564159, 160.13454942794763, 115.02490068588331, 206.38941606217114, 135.9094868316038, 139.0114736719509, 164.4049409202138, 125.67439260872243, 202.12365710064554, 196.92640197507995, 203.93905270890897, 208.87881582599087, 127.5905932538397, 174.76473457702696, 151.35546297053702, 150.50847056024958, 146.62483409612972, 149.20209445194357, 150.28245322099636], \"Total\": [4538.0, 2629.0, 1381.0, 1142.0, 1763.0, 1738.0, 1172.0, 1426.0, 1663.0, 563.0, 1013.0, 1303.0, 515.0, 591.0, 638.0, 536.0, 533.0, 657.0, 488.0, 479.0, 476.0, 420.0, 432.0, 981.0, 385.0, 353.0, 649.0, 359.0, 353.0, 348.0, 4538.0542683731555, 2629.3694317004324, 1381.3115170911624, 563.9735007180594, 536.7602111230099, 533.0066425428964, 479.51864225191076, 432.5990186953593, 355.65096688283296, 351.8974101784122, 309.66986923451907, 284.33334653718373, 262.75037985097543, 378.17672795060435, 205.50860315903267, 200.8166519726674, 197.06309529604934, 196.12470368665095, 287.1497568599572, 152.02038397073923, 142.63648542807184, 138.88292545222043, 137.94453776507032, 135.1293675619651, 137.94482095020567, 137.94474848091983, 178.29794530705203, 121.05352091240609, 113.5464063308532, 118.23864821387474, 158.59080703919486, 1763.6402359308474, 351.27784167871465, 253.52822573910348, 1738.6197934783045, 217.87221612757781, 443.90979412031476, 618.9892463541566, 204.65532295701547, 417.8602006004, 260.48125626806996, 1009.3700900813785, 519.7000878822628, 1303.8135056283868, 377.7759534083373, 285.03068676988795, 191.8860076618994, 189.09166990995317, 128.54770466111677, 122.95902070988909, 174.19259084566454, 112.71314256091304, 107.12444607649495, 106.19300360140097, 65.20939227408321, 62.41505754595848, 57.757827747624, 55.89492725384615, 55.89492846476711, 54.96351201628763, 54.032046564871784, 54.03206802078726, 53.10060385964532, 52.169156441543215, 178.85492035148846, 47.51219806370955, 41.923241533088294, 41.92324659155805, 41.92336346054544, 40.06036238702848, 38.19746564020014, 38.19747585811278, 38.19762133951733, 37.26611282854659, 35.403121575456716, 284.31370639712515, 1172.4876041936886, 408.4921561415657, 146.42599646589642, 43.79545914207798, 472.4709376661408, 521.5366171952854, 1013.6644133076354, 170.75542930398882, 80.22042297190454, 981.8556243486024, 282.72255553964504, 252.43934191987398, 1303.8135056283868, 1663.8457321694398, 1009.3700900813785, 257.9193487828953, 429.2267279818992, 177.18168093031292, 168.2933795813859, 387.0903489158115, 206.66379759029167, 764.9617894679303, 337.7720229896688, 228.47925836079443, 649.6630157029575, 532.713089223093, 1426.149178890486, 479.6839438237273, 617.3355529230453, 515.5511450049213, 348.11311503693173, 320.6798674936093, 254.46143755017846, 230.81204350124253, 229.86607659193515, 201.48675583608502, 196.75586349715388, 153.24149348959114, 141.89020627545938, 137.1603116646451, 141.88954471189373, 125.80855614671162, 122.97063647798376, 113.51088555931962, 102.15916757284302, 101.21267292699642, 89.86146689974271, 87.96950213187287, 84.18558941987797, 82.29364620320702, 75.67180293843585, 72.83387906583633, 67.15801402076102, 76.61617955746506, 58.64420882378733, 59.59004091739863, 99.32097579476714, 102.15214913025152, 56.75201077025491, 273.32806321166123, 161.74635647159326, 591.7624500570906, 143.779264983244, 243.89969849881174, 638.3065504256242, 108.75858225143338, 150.3056612671355, 423.68725158984927, 356.3109627875412, 228.7422170685474, 254.75522616967848, 301.873009812976, 493.0932795982142, 712.3134508636479, 551.3108137016732, 482.721035857743, 1426.149178890486, 216.14993775226023, 365.39878490704666, 230.3554032656462, 269.04401788109453, 301.46896637803997, 294.04170439641786, 537.5806755701744, 1142.285936231144, 353.6343639950461, 301.24453192478677, 259.1458903452965, 233.88655052152725, 166.52840925229344, 359.25415655126216, 141.2690815329082, 120.68744578330693, 169.33430216795537, 102.91239018367607, 95.42813977550027, 92.62155476162903, 138.4637389643131, 90.75049680012876, 87.00837659066595, 86.07284698878026, 81.39518915070211, 79.52413797794611, 133.7904578407348, 71.10436291002068, 69.23331824426855, 88.8820855476484, 66.4267197198588, 63.620126223906496, 72.04028372476546, 59.87800666069093, 58.942574144327885, 168.40806015349992, 57.07153072637235, 59.87900419586637, 94.50539369648841, 166.59803359189792, 657.1180484947424, 99.14945746915164, 148.83464520298926, 160.13083377737328, 444.284873441992, 159.86391207586354, 453.31609813879606, 272.5747291050224, 1663.8457321694398, 366.2004560446811, 285.91529708610665, 249.42714141468917, 1303.8135056283868, 167.95361665001496, 213.89549593585954, 193.0738532869422, 541.4778423290194, 1137.8919956075244, 429.2267279818992, 532.713089223093, 296.05873245277655, 548.2160543796373, 1172.4876041936886, 355.25559521805405, 420.76635797429594, 298.7905679546319, 222.20034063034115, 212.74475492182577, 197.61581182151812, 181.54087469754154, 113.46096330650262, 105.89661854190074, 101.1688380964544, 100.22327583461502, 98.33215691268747, 82.25765416939451, 77.52986574299108, 77.52986098179038, 74.69319117337066, 71.85651168616045, 67.12871454410568, 65.23759020791795, 57.67313670609695, 60.5094510041994, 78.47025003450047, 52.945329276471824, 51.05422774731169, 49.16309961619237, 48.21754066437344, 46.32643795411669, 45.38083849293117, 44.43519034330884, 43.489758909628485, 68.07193933012084, 385.6834253154362, 232.57348707353634, 84.13066442330626, 63.342222106831855, 84.12454273365546, 83.18259784725579, 220.07231947637578, 398.7151261281797, 125.57757948114984, 259.6458095169119, 436.22554134622106, 283.6382580170665, 171.07567949177965, 458.2103915620777, 649.6630157029575, 240.42554707668566, 1137.8919956075244, 303.1800484474909, 339.1730723138247, 580.6303805856994, 128.46423024378802, 174.73971254314517, 299.4301890222829, 1738.6197934783045, 1763.6402359308474, 664.4030253334091, 764.9617894679303, 1663.8457321694398, 212.7654107205736, 581.4840914406219, 417.8602006004, 1013.6644133076354, 479.14615496971754, 353.7598325037297, 272.8464014450816, 188.16954877718473, 188.16954877718467, 184.40613192125716, 169.35247044509617, 165.5890547340851, 127.95489981109348, 105.37440585055553, 105.37440354116457, 90.32113037077046, 81.85305421118036, 79.97135158807635, 79.03049675528291, 97.84563155431816, 77.14878995364822, 76.20793606387046, 76.20792954221506, 75.26707446810535, 72.44451477565843, 70.5627625645668, 68.68107887398008, 65.85854117289671, 63.03598231856998, 63.03597828837602, 63.03597780901036, 63.03598435426577, 61.154276567870944, 60.213388014664254, 59.27256609476237, 325.5593224966339, 476.8577159620648, 488.1344633645097, 83.73694308993845, 69.62076563990189, 113.84217155221646, 98.80502482758924, 121.40938773229094, 563.3242227120799, 432.33849542969193, 202.9886355867709, 687.0577116065542, 250.63162354792144, 1426.149178890486, 172.0954201916652, 537.5806755701744, 206.54507030776838, 134.64287723817753, 315.0648122510346, 173.8453207116548, 180.8651017943959, 278.50048466079477, 168.27033795916313, 458.4196091523494, 436.7981252972926, 490.7175651475052, 581.4840914406219, 176.98208328172785, 541.4778423290194, 337.7720229896688, 358.7150517016653, 479.6839438237273, 712.3134508636479, 981.8556243486024], \"Category\": [\"Default\", \"Default\", \"Default\", \"Default\", \"Default\", \"Default\", \"Default\", \"Default\", \"Default\", \"Default\", \"Default\", \"Default\", \"Default\", \"Default\", \"Default\", \"Default\", \"Default\", \"Default\", \"Default\", \"Default\", \"Default\", \"Default\", \"Default\", \"Default\", \"Default\", \"Default\", \"Default\", \"Default\", \"Default\", \"Default\", \"Topic1\", \"Topic1\", \"Topic1\", \"Topic1\", \"Topic1\", \"Topic1\", \"Topic1\", \"Topic1\", \"Topic1\", \"Topic1\", \"Topic1\", \"Topic1\", \"Topic1\", \"Topic1\", \"Topic1\", \"Topic1\", \"Topic1\", \"Topic1\", \"Topic1\", \"Topic1\", \"Topic1\", \"Topic1\", \"Topic1\", \"Topic1\", \"Topic1\", \"Topic1\", \"Topic1\", \"Topic1\", \"Topic1\", \"Topic1\", \"Topic1\", \"Topic1\", \"Topic1\", \"Topic1\", \"Topic1\", \"Topic1\", \"Topic1\", \"Topic1\", \"Topic1\", \"Topic1\", \"Topic1\", \"Topic1\", \"Topic1\", \"Topic1\", \"Topic1\", \"Topic2\", \"Topic2\", \"Topic2\", \"Topic2\", \"Topic2\", \"Topic2\", \"Topic2\", \"Topic2\", \"Topic2\", \"Topic2\", \"Topic2\", \"Topic2\", \"Topic2\", \"Topic2\", \"Topic2\", \"Topic2\", \"Topic2\", \"Topic2\", \"Topic2\", \"Topic2\", \"Topic2\", \"Topic2\", \"Topic2\", \"Topic2\", \"Topic2\", \"Topic2\", \"Topic2\", \"Topic2\", \"Topic2\", \"Topic2\", \"Topic2\", \"Topic2\", \"Topic2\", \"Topic2\", \"Topic2\", \"Topic2\", \"Topic2\", \"Topic2\", \"Topic2\", \"Topic2\", \"Topic2\", \"Topic2\", \"Topic2\", \"Topic2\", \"Topic2\", \"Topic2\", \"Topic2\", \"Topic2\", \"Topic2\", \"Topic2\", \"Topic2\", \"Topic2\", \"Topic2\", \"Topic2\", \"Topic2\", \"Topic2\", \"Topic2\", \"Topic2\", \"Topic2\", \"Topic2\", \"Topic3\", \"Topic3\", \"Topic3\", \"Topic3\", \"Topic3\", \"Topic3\", \"Topic3\", \"Topic3\", \"Topic3\", \"Topic3\", \"Topic3\", \"Topic3\", \"Topic3\", \"Topic3\", \"Topic3\", \"Topic3\", \"Topic3\", \"Topic3\", \"Topic3\", \"Topic3\", \"Topic3\", \"Topic3\", \"Topic3\", \"Topic3\", \"Topic3\", \"Topic3\", \"Topic3\", \"Topic3\", \"Topic3\", \"Topic3\", \"Topic3\", \"Topic3\", \"Topic3\", \"Topic3\", \"Topic3\", \"Topic3\", \"Topic3\", \"Topic3\", \"Topic3\", \"Topic3\", \"Topic3\", \"Topic3\", \"Topic3\", \"Topic3\", \"Topic3\", \"Topic3\", \"Topic3\", \"Topic3\", \"Topic3\", \"Topic3\", \"Topic3\", \"Topic3\", \"Topic3\", \"Topic3\", \"Topic3\", \"Topic4\", \"Topic4\", \"Topic4\", \"Topic4\", \"Topic4\", \"Topic4\", \"Topic4\", \"Topic4\", \"Topic4\", \"Topic4\", \"Topic4\", \"Topic4\", \"Topic4\", \"Topic4\", \"Topic4\", \"Topic4\", \"Topic4\", \"Topic4\", \"Topic4\", \"Topic4\", \"Topic4\", \"Topic4\", \"Topic4\", \"Topic4\", \"Topic4\", \"Topic4\", \"Topic4\", \"Topic4\", \"Topic4\", \"Topic4\", \"Topic4\", \"Topic4\", \"Topic4\", \"Topic4\", \"Topic4\", \"Topic4\", \"Topic4\", \"Topic4\", \"Topic4\", \"Topic4\", \"Topic4\", \"Topic4\", \"Topic4\", \"Topic4\", \"Topic4\", \"Topic4\", \"Topic4\", \"Topic4\", \"Topic4\", \"Topic4\", \"Topic4\", \"Topic4\", \"Topic4\", \"Topic4\", \"Topic4\", \"Topic4\", \"Topic4\", \"Topic5\", \"Topic5\", \"Topic5\", \"Topic5\", \"Topic5\", \"Topic5\", \"Topic5\", \"Topic5\", \"Topic5\", \"Topic5\", \"Topic5\", \"Topic5\", \"Topic5\", \"Topic5\", \"Topic5\", \"Topic5\", \"Topic5\", \"Topic5\", \"Topic5\", \"Topic5\", \"Topic5\", \"Topic5\", \"Topic5\", \"Topic5\", \"Topic5\", \"Topic5\", \"Topic5\", \"Topic5\", \"Topic5\", \"Topic5\", \"Topic5\", \"Topic5\", \"Topic5\", \"Topic5\", \"Topic5\", \"Topic5\", \"Topic5\", \"Topic5\", \"Topic5\", \"Topic5\", \"Topic5\", \"Topic5\", \"Topic5\", \"Topic5\", \"Topic5\", \"Topic5\", \"Topic5\", \"Topic5\", \"Topic5\", \"Topic5\", \"Topic5\", \"Topic5\", \"Topic5\", \"Topic5\", \"Topic5\", \"Topic5\", \"Topic5\", \"Topic5\", \"Topic5\", \"Topic5\", \"Topic5\", \"Topic5\", \"Topic5\", \"Topic6\", \"Topic6\", \"Topic6\", \"Topic6\", \"Topic6\", \"Topic6\", \"Topic6\", \"Topic6\", \"Topic6\", \"Topic6\", \"Topic6\", \"Topic6\", \"Topic6\", \"Topic6\", \"Topic6\", \"Topic6\", \"Topic6\", \"Topic6\", \"Topic6\", \"Topic6\", \"Topic6\", \"Topic6\", \"Topic6\", \"Topic6\", \"Topic6\", \"Topic6\", \"Topic6\", \"Topic6\", \"Topic6\", \"Topic6\", \"Topic6\", \"Topic6\", \"Topic6\", \"Topic6\", \"Topic6\", \"Topic6\", \"Topic6\", \"Topic6\", \"Topic6\", \"Topic6\", \"Topic6\", \"Topic6\", \"Topic6\", \"Topic6\", \"Topic6\", \"Topic6\", \"Topic6\", \"Topic6\", \"Topic6\", \"Topic6\", \"Topic6\", \"Topic6\", \"Topic6\", \"Topic6\", \"Topic6\", \"Topic6\", \"Topic6\", \"Topic6\", \"Topic6\", \"Topic6\", \"Topic6\", \"Topic6\", \"Topic6\", \"Topic6\"], \"logprob\": [30.0, 29.0, 28.0, 27.0, 26.0, 25.0, 24.0, 23.0, 22.0, 21.0, 20.0, 19.0, 18.0, 17.0, 16.0, 15.0, 14.0, 13.0, 12.0, 11.0, 10.0, 9.0, 8.0, 7.0, 6.0, 5.0, 4.0, 3.0, 2.0, 1.0, -2.6256, -3.1715, -3.8156, -4.7121, -4.7616, -4.7687, -4.8746, -4.9778, -5.174, -5.1846, -5.3128, -5.3983, -5.4775, -5.1139, -5.7241, -5.7472, -5.7662, -5.771, -5.3901, -6.0269, -6.0909, -6.1178, -6.1246, -6.1453, -6.1248, -6.1252, -5.8686, -6.256, -6.3204, -6.28, -5.9885, -3.8522, -5.307, -5.6032, -3.9577, -5.765, -5.3004, -5.2098, -5.8852, -5.4968, -5.8117, -5.5326, -5.7103, -5.6248, -5.7671, -5.299, -5.696, -5.7107, -6.0986, -6.1433, -5.7955, -6.2309, -6.2821, -6.2909, -6.7833, -6.8276, -6.9062, -6.9394, -6.9394, -6.9565, -6.9738, -6.9739, -6.9915, -7.0094, -5.7783, -7.105, -7.2318, -7.2318, -7.232, -7.2782, -7.3268, -7.3268, -7.327, -7.3526, -7.4044, -5.3796, -4.0338, -5.0772, -6.0519, -7.2019, -5.0498, -5.0058, -4.4264, -6.0021, -6.6692, -4.5204, -5.612, -5.7066, -4.3688, -4.2072, -4.6994, -5.7672, -5.4042, -6.0747, -6.1154, -5.5366, -5.9919, -5.2443, -5.7241, -5.956, -5.5133, -5.684, -5.4123, -5.7616, -5.7225, -4.6651, -5.0586, -5.1408, -5.3728, -5.4706, -5.4747, -5.607, -5.6316, -5.8822, -5.9593, -5.9934, -5.9597, -6.0803, -6.1033, -6.1839, -6.29, -6.3, -6.4193, -6.4408, -6.4852, -6.5081, -6.5928, -6.6315, -6.7135, -6.5822, -6.8508, -6.8348, -6.3243, -6.2963, -6.8844, -5.3136, -5.8384, -4.5853, -5.9815, -5.4745, -4.5829, -6.253, -5.9594, -5.0217, -5.2024, -5.6245, -5.5536, -5.5551, -5.2403, -5.0694, -5.2338, -5.3226, -4.8167, -5.8591, -5.7438, -5.8721, -5.8759, -5.8846, -5.8988, -5.8677, -3.8493, -5.0233, -5.1841, -5.335, -5.4378, -5.7789, -5.0107, -5.9443, -6.1026, -5.7648, -6.2631, -6.3392, -6.3693, -5.9673, -6.3899, -6.4324, -6.4433, -6.4997, -6.5232, -6.0034, -6.6363, -6.6633, -6.4136, -6.7051, -6.7488, -6.6248, -6.8102, -6.8263, -5.7767, -6.8591, -6.8118, -6.3721, -5.829, -4.6206, -6.3523, -6.0034, -5.9678, -5.2094, -6.0061, -5.2427, -5.7003, -4.7389, -5.619, -5.7639, -5.8404, -5.0892, -6.0935, -5.984, -6.0451, -5.64, -5.356, -5.7374, -5.6816, -5.8929, -5.796, -5.7871, -5.9693, -4.8385, -5.181, -5.478, -5.5217, -5.5957, -5.6814, -6.1536, -6.2231, -6.2691, -6.2785, -6.2977, -6.4778, -6.5376, -6.5376, -6.5752, -6.6144, -6.6832, -6.7121, -6.837, -6.7891, -6.5302, -6.9238, -6.9606, -6.999, -7.0187, -7.0594, -7.0805, -7.1021, -7.1237, -6.6761, -4.9422, -5.4476, -6.4695, -6.7509, -6.4745, -6.495, -5.6402, -5.1101, -6.1528, -5.5348, -5.0886, -5.4638, -5.8997, -5.119, -4.8988, -5.7095, -4.5962, -5.5571, -5.5357, -5.2014, -6.2089, -6.03, -5.7121, -4.7903, -4.8357, -5.4467, -5.3941, -5.2171, -5.9714, -5.6573, -5.8015, -5.5776, -5.825, -4.9848, -5.2452, -5.6181, -5.6181, -5.6384, -5.7239, -5.7465, -6.0057, -6.2012, -6.2012, -6.3574, -6.4559, -6.4794, -6.4914, -6.2779, -6.5157, -6.5281, -6.5281, -6.5408, -6.5793, -6.606, -6.6333, -6.6757, -6.72, -6.72, -6.72, -6.72, -6.7507, -6.7665, -6.7824, -5.0838, -4.7467, -4.7245, -6.4436, -6.6261, -6.1663, -6.3007, -6.1304, -4.8289, -5.0982, -5.7368, -4.7891, -5.5891, -4.2635, -5.9025, -5.0453, -5.7752, -6.1061, -5.5215, -5.9393, -5.9167, -5.7489, -6.0175, -5.5424, -5.5684, -5.5334, -5.5095, -6.0024, -5.6878, -5.8316, -5.8372, -5.8634, -5.8459, -5.8387], \"loglift\": [30.0, 29.0, 28.0, 27.0, 26.0, 25.0, 24.0, 23.0, 22.0, 21.0, 20.0, 19.0, 18.0, 17.0, 16.0, 15.0, 14.0, 13.0, 12.0, 11.0, 10.0, 9.0, 8.0, 7.0, 6.0, 5.0, 4.0, 3.0, 2.0, 1.0, 1.6682, 1.6681, 1.6678, 1.667, 1.6669, 1.6669, 1.6667, 1.6666, 1.6662, 1.6662, 1.6659, 1.6657, 1.6654, 1.6649, 1.6646, 1.6645, 1.6644, 1.6644, 1.664, 1.6632, 1.6629, 1.6628, 1.6627, 1.6626, 1.6624, 1.6621, 1.662, 1.6619, 1.6615, 1.6614, 1.6594, 1.3868, 1.5456, 1.5755, 1.2956, 1.5652, 1.3181, 1.0763, 1.5076, 1.1822, 1.3399, 0.2645, 0.7506, -0.0837, 1.0127, 1.7625, 1.7613, 1.7612, 1.7593, 1.759, 1.7585, 1.7584, 1.758, 1.758, 1.7533, 1.7527, 1.7517, 1.7512, 1.7512, 1.751, 1.7507, 1.7507, 1.7505, 1.7502, 1.7492, 1.7481, 1.7465, 1.7465, 1.7463, 1.7456, 1.7446, 1.7446, 1.7443, 1.7435, 1.743, 1.6844, 1.6135, 1.6244, 1.6757, 1.7327, 1.5063, 1.4515, 1.3664, 1.5718, 1.6601, 1.3043, 1.4577, 1.4764, 1.1723, 1.0901, 1.0977, 1.3943, 1.2479, 1.4623, 1.4731, 1.2189, 1.3912, 0.83, 1.1676, 1.3267, 0.7243, 0.7521, 0.0391, 0.7794, 0.5662, 1.8038, 1.803, 1.8029, 1.8022, 1.8019, 1.8019, 1.8014, 1.8006, 1.7999, 1.7998, 1.7996, 1.7994, 1.799, 1.7989, 1.7984, 1.7976, 1.7969, 1.7966, 1.7964, 1.796, 1.7958, 1.7949, 1.7944, 1.7936, 1.7931, 1.7919, 1.7918, 1.7915, 1.7914, 1.791, 1.7899, 1.7897, 1.7458, 1.7643, 1.7429, 1.6725, 1.7721, 1.7421, 1.6434, 1.6359, 1.657, 1.6202, 1.4491, 1.2731, 1.0762, 1.1681, 1.2121, 0.6347, 1.479, 1.0693, 1.4024, 1.2434, 1.1208, 1.1316, 0.5594, 1.8241, 1.8226, 1.8221, 1.8217, 1.8215, 1.8201, 1.8194, 1.8192, 1.8183, 1.8175, 1.8171, 1.8166, 1.8163, 1.8162, 1.8161, 1.8158, 1.8157, 1.8151, 1.8149, 1.8145, 1.8137, 1.8134, 1.8132, 1.8129, 1.8124, 1.8121, 1.8116, 1.8113, 1.811, 1.8108, 1.81, 1.7933, 1.7696, 1.6057, 1.7652, 1.7079, 1.6704, 1.4083, 1.6337, 1.3548, 1.406, 0.5584, 1.192, 1.2946, 1.3546, 0.4519, 1.4969, 1.3647, 1.406, 0.7798, 0.3212, 0.9147, 0.7546, 1.1307, 0.6114, -0.1398, 0.872, 1.8336, 1.8334, 1.8325, 1.8324, 1.8321, 1.8313, 1.8291, 1.8286, 1.8283, 1.8282, 1.8281, 1.8265, 1.8259, 1.8259, 1.8255, 1.8251, 1.8243, 1.824, 1.8224, 1.8222, 1.8212, 1.8211, 1.8206, 1.82, 1.8197, 1.819, 1.8186, 1.818, 1.8179, 1.8175, 1.8169, 1.8173, 1.8123, 1.8147, 1.8073, 1.7981, 1.68, 1.6158, 1.7284, 1.62, 1.5473, 1.6026, 1.6723, 1.4678, 1.3389, 1.5222, 1.081, 1.4427, 1.3519, 1.1486, 1.6496, 1.5208, 1.3002, 0.463, 0.4033, 0.7685, 0.6802, 0.0801, 1.3826, 0.6913, 0.8775, 0.2152, 0.7172, 1.8607, 1.86, 1.8587, 1.8587, 1.8586, 1.8583, 1.8582, 1.8568, 1.8554, 1.8554, 1.8534, 1.8533, 1.8531, 1.8529, 1.8529, 1.8527, 1.8526, 1.8525, 1.8523, 1.852, 1.8516, 1.8514, 1.8509, 1.8504, 1.8504, 1.8504, 1.8504, 1.85, 1.8497, 1.8496, 1.8448, 1.8002, 1.799, 1.8428, 1.845, 1.8131, 1.8203, 1.7846, 1.5514, 1.5467, 1.6642, 1.3926, 1.6011, 1.1879, 1.6636, 1.3817, 1.6084, 1.7054, 1.4399, 1.6167, 1.5997, 1.3358, 1.571, 1.044, 1.0663, 0.9849, 0.8391, 1.5357, 0.732, 1.0602, 0.9944, 0.6777, 0.2997, -0.014]}, \"token.table\": {\"Topic\": [2, 2, 2, 3, 5, 6, 1, 4, 6, 3, 6, 2, 3, 6, 1, 2, 6, 1, 2, 4, 1, 5, 2, 5, 2, 4, 6, 1, 1, 2, 3, 4, 5, 6, 3, 4, 5, 6, 2, 6, 4, 6, 2, 5, 1, 2, 5, 6, 1, 2, 3, 4, 5, 1, 2, 4, 1, 2, 3, 4, 5, 6, 4, 3, 1, 3, 4, 6, 2, 3, 4, 5, 1, 5, 3, 1, 3, 5, 3, 2, 6, 1, 2, 3, 4, 1, 3, 5, 6, 2, 1, 2, 3, 6, 5, 6, 1, 2, 3, 5, 6, 3, 2, 4, 4, 2, 4, 6, 1, 3, 4, 5, 5, 6, 1, 2, 3, 4, 5, 6, 1, 2, 3, 4, 5, 2, 6, 4, 1, 6, 1, 2, 3, 5, 6, 5, 2, 6, 3, 1, 6, 5, 1, 2, 3, 4, 1, 2, 3, 4, 6, 2, 3, 6, 2, 4, 5, 6, 1, 2, 3, 4, 5, 6, 1, 4, 5, 6, 2, 3, 6, 2, 3, 4, 5, 6, 1, 2, 5, 6, 5, 2, 5, 1, 3, 5, 6, 3, 4, 2, 3, 4, 5, 1, 2, 4, 6, 6, 1, 2, 6, 5, 5, 6, 3, 4, 5, 6, 5, 6, 2, 3, 5, 6, 4, 5, 6, 5, 2, 5, 6, 1, 2, 3, 5, 3, 1, 2, 3, 5, 6, 3, 1, 2, 3, 4, 5, 6, 1, 2, 3, 4, 6, 1, 5, 2, 6, 6, 3, 1, 4, 5, 2, 6, 1, 3, 4, 5, 4, 1, 2, 3, 4, 6, 2, 6, 4, 4, 5, 1, 4, 2, 4, 5, 6, 5, 2, 3, 5, 6, 6, 2, 5, 2, 3, 5, 2, 1, 2, 4, 5, 6, 1, 2, 5, 4, 2, 6, 4, 3, 5, 1, 5, 1, 3, 4, 5, 6, 3, 4, 1, 2, 3, 5, 6, 2, 3, 4, 5, 3, 3, 5, 2, 3, 1, 5, 1, 1, 1, 1, 3, 4, 5, 6, 1, 2, 3, 5, 1, 2, 3, 4, 5, 5, 1, 3, 1, 2, 3, 4, 5, 6, 1, 2, 3, 4, 5, 6, 4, 6, 1, 2, 3, 4, 5, 6, 4, 2, 6, 3, 6, 6, 5, 1, 3, 5, 3, 2, 3, 5, 6, 1, 1, 2, 5, 1, 6, 1, 2, 3, 5, 5, 6, 1, 2, 3, 4, 5, 6, 2, 2, 4, 4, 1, 2, 4, 5, 6, 2, 3, 4, 1, 2, 3, 4, 6, 1, 6, 1, 1, 5, 3, 6, 2, 3, 2, 1, 3, 5, 2, 5, 1, 5, 2, 5, 4, 5, 5, 5, 1, 2, 2, 4, 3, 5, 1, 2, 3, 5, 6, 2, 5, 1, 3, 1, 2, 3, 4, 5, 6, 1, 5, 4, 4, 1, 2, 3, 4, 5, 6, 1, 2, 3, 4, 5, 6, 1, 2, 4, 5, 1, 2, 5, 6, 4, 2, 3, 5, 2, 3, 5, 3, 4, 3, 5, 2, 4, 2, 2, 4, 1, 6, 1, 1, 1, 5, 6, 5, 6, 1, 6, 1, 2, 6, 1, 2, 5, 4, 3, 4, 6, 1, 3, 5, 1, 3, 2, 1, 2, 5, 6, 2, 3, 4, 1, 2, 3, 6, 1, 2, 3, 6, 6, 1, 2, 3, 4, 5, 6, 1, 2, 3, 4, 6, 2, 4, 6, 1, 2, 3, 4, 6, 1, 5, 5, 4, 4, 5, 3, 4, 5, 6, 4, 5, 3, 6, 4, 5, 1, 4, 5, 6, 3, 6, 1, 5, 2, 5, 2, 5, 1, 2, 3, 4, 6, 3, 6, 5, 1, 2, 4, 5, 1, 4, 5, 6, 6, 6, 2, 4, 1, 3, 4, 3, 1, 4, 5, 6, 1, 3, 1, 1, 3, 2, 2, 3, 4, 6, 2, 3, 6, 1, 1, 2, 4, 5, 1, 2, 4, 5, 3, 4, 4, 6, 2, 5, 6, 1, 5, 1, 1, 2, 4, 5, 3, 4, 4, 4, 6, 1, 2, 3, 4, 5, 6, 2, 6, 5, 4, 4, 3, 2, 5, 6, 2, 2, 3, 3, 5, 1, 6], \"Freq\": [0.9814537103949691, 0.9886133889465787, 0.16189300998197745, 0.18083793668199608, 0.5029016905823129, 0.15328167966378717, 0.04143492173489992, 0.6577793825415362, 0.3004031825780244, 0.1411140372942997, 0.854111278360235, 0.038866947366770335, 0.9429459404633846, 0.018588540044977116, 0.017136191955602943, 0.8690497348912921, 0.11260926142253364, 0.9985837044042081, 0.16889365241598198, 0.8257023007003563, 0.9927203574622422, 0.005608589590182159, 0.8975270552389937, 0.08725957481490215, 0.7357035932381879, 0.15916664276787718, 0.10257405867263196, 0.9959333453443964, 0.14609321033667497, 0.18157298998986746, 0.018783412757572494, 0.16696366895619996, 0.3276662003265424, 0.15861548550838994, 0.0989511023354686, 0.006596740155697907, 0.6761658659590355, 0.21769242513803091, 0.9839890936557648, 0.9913574930133828, 0.06145847558728462, 0.9382660606325453, 0.9735308838001968, 0.9915806374748956, 0.11305124424341033, 0.6304389206006397, 0.10286644746472472, 0.15277195168028423, 0.15896442121723842, 0.6901382189431327, 0.03101744804238798, 0.01938590502649249, 0.10468388714305944, 0.15147546192412228, 0.7305335568745644, 0.1169620655363476, 0.043778360389606724, 0.23166049039500225, 0.275438850784609, 0.29732803097941235, 0.07843622903137872, 0.07113983563311094, 0.9853367419916581, 0.9937260907653402, 0.06046979174590218, 0.02015659724863406, 0.8868902789398987, 0.02015659724863406, 0.03746936088737089, 0.0686938282935133, 0.855550406928302, 0.03122446740614241, 0.01719886497094683, 0.9803353033439695, 0.9900983300512157, 0.27295867217700853, 0.7217212349087005, 0.0046264181724916704, 0.9975841794957431, 0.9808993619437921, 0.9978521232940666, 0.003925336547694432, 0.1609387984554717, 0.8321713481112196, 0.003925336547694432, 0.24310261103543865, 0.6685321803474562, 0.08682236108408523, 0.99644692137196, 0.9868792200611254, 0.005580557740134741, 0.0874287379287776, 0.2883288165736283, 0.617581723241578, 0.030362828259340842, 0.9614895615457933, 0.5525136373763813, 0.003231073902785855, 0.14378278867397054, 0.111472049646112, 0.1874022863615796, 0.9880185663323889, 0.8588576940158841, 0.13987354698967724, 0.9988742431379425, 0.7393540873535533, 0.25962051922338514, 0.9895782238133779, 0.0033126512390741565, 0.698969411444647, 0.24513619169148756, 0.053002419825186504, 0.06589276290265206, 0.9224986806371288, 0.06327489803771662, 0.1203980698773219, 0.12215570593392515, 0.2223409611603098, 0.47016764514136655, 0.0017576360566032396, 0.034859000975033604, 0.5090616176871287, 0.001202034516380469, 0.28187709409121997, 0.1724919531005973, 0.22742541102001618, 0.7700544618747917, 0.991016565556048, 0.014363530633550918, 0.9767200830814624, 0.07431946851728552, 0.008743466884386533, 0.8612314881120734, 0.052460801306319194, 0.9841495557027838, 0.9929535278658806, 0.9931536075106594, 0.005740772297749476, 0.9827568751451907, 0.9978368278574375, 0.9979187168384979, 0.9970206450836889, 0.20911696468397858, 0.05503078017999436, 0.0770430922519921, 0.6567006434812661, 0.000701188918243447, 0.17810198523383552, 0.30992550186360357, 0.002103566754730341, 0.5090631546447425, 0.11436511179671184, 0.8757547601967387, 0.009399872202469467, 0.08241793614727114, 0.290752163630651, 0.17628280787055217, 0.45100926169478933, 0.15502638620333312, 0.17609793384262112, 0.07826574837449828, 0.1971694814819091, 0.34316520441126164, 0.049668648006893135, 0.8502099895859825, 0.03909011446372333, 0.05374890738761958, 0.058635171695585, 0.014634428506898169, 0.9841653170889019, 0.9964426710749026, 0.011226149116228832, 0.8447677209962197, 0.002806537279057208, 0.01403268639528604, 0.12629417755757436, 0.06780347353521583, 0.022601157845071947, 0.19210984168311154, 0.7232370510423023, 0.9880802495687331, 0.959003531935736, 0.02283341742704133, 0.1323325564457819, 0.03892134013111232, 0.8329166788058037, 0.9798485344427265, 0.9890149626585801, 0.9855596942296906, 0.1767746901676852, 0.10475537195122085, 0.024006439405488113, 0.6918219355945211, 0.0017751766383941013, 0.1366886011563458, 0.1278127179643753, 0.7331479516567638, 0.9964468995337774, 0.9931527715386677, 0.5506672765662686, 0.44704709011562666, 0.9812635994678995, 0.9973541067241722, 0.9937846012557026, 0.050172373826958765, 0.21595934821169208, 0.29230861273097714, 0.4406443266541596, 0.015358184068133073, 0.9829237803605166, 0.32336716008474914, 0.568680178080076, 0.00743372781804021, 0.10035532554354283, 0.9812247768241967, 0.9842528457295395, 0.014690340981037903, 0.9915330767474321, 0.018149600269378854, 0.9800784145464582, 0.9835652229018285, 0.19608822566723574, 0.3921764513344715, 0.09542960315805472, 0.31504841590535876, 0.99648179753134, 0.006939007355841317, 0.1595971691843503, 0.10177210788567265, 0.002313002451947106, 0.7285957723633383, 0.9915404707778586, 0.06317471886292218, 0.30129481303855193, 0.14578781276058964, 0.17008578155402124, 0.11177065644978539, 0.20734266703728305, 0.03509690848837493, 0.19233105851629462, 0.482933460800039, 0.08002095135349484, 0.20917757459071457, 0.19257002488516292, 0.804942704019981, 0.9686503929589251, 0.9835652857858944, 0.9835651911383904, 0.9889791108466259, 0.01058140663602312, 0.9734894105141271, 0.01058140663602312, 0.9936729422611241, 0.985372964605877, 0.22451446014407986, 0.13631235080176277, 0.6254331389727938, 0.01202756036486142, 0.9943039163780032, 0.09453394097038446, 0.05852101107690467, 0.15080414392894664, 0.6594867786743487, 0.036012929893479796, 0.9808989724326265, 0.9869607708721124, 0.9875355930898846, 0.9958686987052183, 0.9907194864420548, 0.9981696468069847, 0.9951448094804421, 0.002097061589917846, 0.05662066292778183, 0.002097061589917846, 0.9394835922831948, 0.9981786614833338, 0.0029483472646517636, 0.20933265579027524, 0.6162045783122186, 0.16805579408515053, 0.9811251701000846, 0.7486925529299683, 0.24956418430998942, 0.9895033662466548, 0.9962322557344003, 0.987794493600133, 0.9779776933653808, 0.518826034933314, 0.0820592198108813, 0.2620600890734596, 0.0026470716068026224, 0.13235358034013112, 0.9895241680060971, 0.6433844413477151, 0.3501411925701851, 0.9911343018848591, 0.8257424116745568, 0.16983354566356132, 0.9902526722169018, 0.991957579182046, 0.9959372519581261, 0.9981113883720213, 0.9931657173754661, 0.10588637861544327, 0.14118183815392438, 0.6242884405868843, 0.12353410838468382, 0.004411932442310137, 0.9964317269102171, 0.9968269122688076, 0.01254028170075642, 0.005016112680302568, 0.052669183143176965, 0.8025780288484109, 0.1254028170075642, 0.019959328043327357, 0.9380884180363858, 0.03326554673887893, 0.0066531093477757855, 0.9961583686314649, 0.986699931366998, 0.01006836664660202, 0.9660250900228928, 0.9911221496997712, 0.7217409908624017, 0.2764114433090049, 0.9998594979861033, 0.993642663780695, 0.9942653645078394, 0.003377708172007752, 0.20604019849247288, 0.49990080945714727, 0.13848603505231782, 0.15199686774034885, 0.10565108253336945, 0.15329764916606547, 0.553114490909993, 0.18644308682359315, 0.18024654056741235, 0.1088280999652301, 0.5101317185870161, 0.051013171858701606, 0.15303951557610482, 0.979350823745107, 0.9982738537948681, 0.993730724038195, 0.0779959306643825, 0.22854621543516734, 0.529646784976737, 0.10520381345428338, 0.03809103590586122, 0.021766306231920697, 0.039805092192979105, 0.13268364064326368, 0.504197834444402, 0.14595200470759007, 0.1724887328362428, 0.0033170910160815925, 0.9937254545002306, 0.0027835446904768365, 0.09478275260185343, 0.11429684872576441, 0.08920729656645028, 0.22580596943382727, 0.055754560354031424, 0.42094693067293726, 0.9935760832138272, 0.9892196512772838, 0.9977976224704362, 0.9935731227551111, 0.992024652322082, 0.9785302682403214, 0.9847107946112272, 0.904199734603352, 0.09179692737089867, 0.004589846368544934, 0.9968024329195019, 0.03433678534018724, 0.11445595113395747, 0.72679528970063, 0.12017874869065535, 0.9986153026949395, 0.024043490486706173, 0.012021745243353086, 0.9617396194682469, 0.9899691093771804, 0.006305535728517072, 0.1128002898531255, 0.23030059178346457, 0.01880004830885425, 0.634501630423831, 0.9831858162073984, 0.9831656208633128, 0.1548752386256137, 0.17525355949740498, 0.2139723691538084, 0.0020378320871791275, 0.04075664174358255, 0.415717745784542, 0.9686467037077428, 0.5964213859738848, 0.4030503897401644, 0.9932893076214423, 0.06648471495187284, 0.22715610941889888, 0.35089155113488446, 0.0313955598383844, 0.32318958657160407, 0.9686506520752022, 0.9389105497443477, 0.057400644962536544, 0.002583376213849988, 0.5786762719023973, 0.17308620632794922, 0.23508723546034893, 0.007750128641549964, 0.17432189634441497, 0.8193129128187504, 0.9975251490632775, 0.7050982072163208, 0.29510500046433874, 0.9954992373039621, 0.9925372157494301, 0.9792732327008103, 0.9886533181467391, 0.9779749670749956, 0.8853390766515995, 0.11102322826177614, 0.0028467494426096447, 0.011886272465036844, 0.9746743421330212, 0.615038234392103, 0.38290318094449993, 0.9824699699684019, 0.9883284186617548, 0.9962094848141101, 0.9945979352374709, 0.9968837927702147, 0.9916079449922351, 0.9951878148458431, 0.9957392886744991, 0.9933500414438797, 0.998206158508241, 0.998186611084882, 0.9884466588877889, 0.0035256174783721526, 0.010576852435116458, 0.1939089613104684, 0.7932639326337343, 0.9938640658021525, 0.9839891149731379, 0.9931656563839855, 0.027584030040631223, 0.9654410514220928, 0.11494291096420675, 0.06568166340811815, 0.47892879568419483, 0.16967763047097187, 0.060208191457441634, 0.10946943901353025, 0.14086278580495343, 0.8542646364945562, 0.9900757780129323, 0.9955782036760464, 0.993150732708213, 0.0808276626855911, 0.06019081263820614, 0.18229217541856715, 0.31815143823051817, 0.3594251383252881, 0.0900759915698402, 0.0450379957849201, 0.1857817326127954, 0.3856378389083784, 0.15763298524722036, 0.1351139873547603, 0.10324506964942765, 0.3622963353152643, 0.3435245044699138, 0.18959549153803987, 0.6890523186804783, 0.057516888036767806, 0.25307430736177833, 0.000575168880367678, 0.9917301080810426, 0.09555845915792072, 0.007963204929826726, 0.8998421570704201, 0.7486947104306345, 0.09111099650743172, 0.15845390696944647, 0.986749178398291, 0.9840086023046791, 0.99893095959487, 0.9966220926793826, 0.9840377869064048, 0.011182247578481873, 0.9942267688974716, 0.9779778113684359, 0.9934090706133594, 0.99599596784434, 0.0034825033840711187, 0.9990505276507617, 0.9946053049940566, 0.7546890646308597, 0.2387108160853433, 0.006804108772028788, 0.9902061780326238, 0.9968978830558191, 0.9955377095407135, 0.9878537555163546, 0.08374853080251907, 0.09360129913222719, 0.8177797713657744, 0.13120713152592053, 0.6708334544182404, 0.1973039571818354, 0.9921203078710423, 0.026352273143559788, 0.017568182095706528, 0.9486818331681525, 0.058453662318965156, 0.09352585971034424, 0.8475781036249947, 0.9989184106597501, 0.9859169552883356, 0.9775891250445408, 0.13285434689661274, 0.06463184443618998, 0.20825816540550104, 0.5888679159741753, 0.006002471808578613, 0.04201730266005029, 0.9483905457554208, 0.9971441340963959, 0.6871063130346282, 0.1548408592754092, 0.1548408592754092, 0.11965281710607535, 0.07706452627170954, 0.5881240162840992, 0.21496946802108452, 0.9835652932655503, 0.01748769670933064, 0.12940895564904675, 0.027980314734929027, 0.5875866094335096, 0.17837450643517255, 0.05596062946985805, 0.03276893789158976, 0.23211331006542743, 0.16384468945794878, 0.5297644959140344, 0.040961172364487194, 0.05042891940740724, 0.9379779009777747, 0.9937846012557029, 0.15426824464900848, 0.3731623755698989, 0.07921882833327462, 0.08755765236835616, 0.30645178328924655, 0.997449796013113, 0.9821451808990465, 0.9964993030164272, 0.9884105803351568, 0.2661946734786328, 0.7320353520662403, 0.8496833422509918, 0.016521620543769287, 0.12981273284390155, 0.004720463012505511, 0.9866174473902602, 0.007474374601441365, 0.011942160330906044, 0.9792571471342957, 0.7204370016761364, 0.27388514113307666, 0.1723417231564478, 0.07725663451840763, 0.00594281803987751, 0.7487950730245663, 0.2266882864258028, 0.768528580809429, 0.01578725795747137, 0.9788099933632248, 0.023774274843099574, 0.9747452685670825, 0.9963839445444692, 0.9747490094352107, 0.00467518025858697, 0.02337590129293485, 0.17765684982630486, 0.631149334909241, 0.16363130905054396, 0.9830205976103358, 0.012365038963652021, 0.9810294922915817, 0.2571550993285779, 0.1269077113569605, 0.030057089531911697, 0.5844434075649497, 0.2343325710201724, 0.10479469014566717, 0.03638704518946777, 0.6244016954512669, 0.9869638598485988, 0.9841494714821029, 0.19631175904466444, 0.8035085951595567, 0.9932878476945852, 0.9885509452945302, 0.9821860590313299, 0.9918984508613167, 0.0022923921348436717, 0.02980109775296773, 0.7496122280938806, 0.22006964494499245, 0.9997676827312306, 0.9921067621849909, 0.9916423233354718, 0.9968884178648929, 0.0026442663603843315, 0.9953826353849596, 0.21302856531233857, 0.004841558302553149, 0.004841558302553149, 0.7746493284085039, 0.14600170571681778, 0.1999588578295548, 0.6538337256014014, 0.9912970650959553, 0.17333767369672773, 0.5529931979439854, 0.2531036828315051, 0.019941502283694342, 0.24569778957885058, 0.5131913508138896, 0.10600670760055247, 0.13473749751098257, 0.988721244339339, 0.009789319250884543, 0.2128328783802547, 0.7823046340463415, 0.9922004851343781, 0.9763420202291458, 0.9851094235653155, 0.9111411533235497, 0.08677534793557616, 0.9988276206739608, 0.010774816837042449, 0.352490436526103, 0.026167412318531664, 0.608007521518824, 0.9978799183780289, 0.9894287199286858, 0.9844684226842986, 0.9857010397762136, 0.011875916141882091, 0.4002308347639188, 0.07119490810704325, 0.10967864221895852, 0.12314794915812886, 0.14816237633087379, 0.15008656303646956, 0.9215173032637488, 0.07386207392572032, 0.9887385232314991, 0.9955134850526534, 0.9853203270884212, 0.9904133893039623, 0.772534289205144, 0.03598104908626698, 0.19260443922648796, 0.9887657043219255, 0.9151380440235521, 0.08195266065882556, 0.9598046005874525, 0.03477552900679176, 0.9931512544600384, 0.9900834569702994], \"Term\": [\"abtreibung\", \"abtreibungsrecht\", \"afd\", \"afd\", \"afd\", \"afd\", \"afghanistan\", \"afghanistan\", \"afghanistan\", \"aiwanger\", \"aiwanger\", \"ampel\", \"ampel\", \"ampel\", \"analyse\", \"analyse\", \"analyse\", \"angriff\", \"anklage\", \"anklage\", \"armee\", \"armee\", \"attentat\", \"attentat\", \"auto\", \"auto\", \"auto\", \"bachmut\", \"baerbock\", \"baerbock\", \"baerbock\", \"baerbock\", \"baerbock\", \"baerbock\", \"bahn\", \"bahn\", \"bahn\", \"bahn\", \"ballon\", \"bayer\", \"bayern\", \"bayern\", \"belgien\", \"bereit\", \"berlin\", \"berlin\", \"berlin\", \"berlin\", \"besuch\", \"besuch\", \"besuch\", \"besuch\", \"besuch\", \"biden\", \"biden\", \"biden\", \"bleiben\", \"bleiben\", \"bleiben\", \"bleiben\", \"bleiben\", \"bleiben\", \"bolsonaro\", \"boris\", \"brand\", \"brand\", \"brand\", \"brand\", \"brasilien\", \"brasilien\", \"brasilien\", \"brasilien\", \"brauchen\", \"brauchen\", \"brexit\", \"britisch\", \"britisch\", \"britisch\", \"bund\", \"bundeskanzler\", \"bundesliga\", \"bundesregierung\", \"bundesregierung\", \"bundesregierung\", \"bundesregierung\", \"bundeswehr\", \"bundeswehr\", \"bundeswehr\", \"bvb\", \"b\\u00f6rse\", \"cdu\", \"cdu\", \"cdu\", \"cdu\", \"charles\", \"charles\", \"chef\", \"chef\", \"chef\", \"chef\", \"chef\", \"chefin\", \"china\", \"china\", \"corona\", \"dax\", \"dax\", \"de\", \"debatte\", \"debatte\", \"debatte\", \"debatte\", \"denken\", \"denken\", \"deutsch\", \"deutsch\", \"deutsch\", \"deutsch\", \"deutsch\", \"deutsch\", \"deutschland\", \"deutschland\", \"deutschland\", \"deutschland\", \"deutschland\", \"dfb\", \"dfb\", \"donald\", \"dortmund\", \"dortmund\", \"druck\", \"druck\", \"druck\", \"druck\", \"economist\", \"elmau\", \"em\", \"em\", \"entlastungspaket\", \"entwicklung\", \"erdbeben\", \"erdogan\", \"erwarten\", \"erwarten\", \"erwarten\", \"erwarten\", \"eu\", \"eu\", \"eu\", \"eu\", \"eu\", \"euro\", \"euro\", \"euro\", \"europa\", \"europa\", \"europa\", \"europa\", \"ex\", \"ex\", \"ex\", \"ex\", \"ex\", \"ex\", \"explosion\", \"explosion\", \"explosion\", \"explosion\", \"faeser\", \"faeser\", \"fc\", \"fdp\", \"fdp\", \"fdp\", \"fdp\", \"fdp\", \"feiern\", \"feiern\", \"feiern\", \"feiern\", \"feuern\", \"fifa\", \"fifa\", \"finnland\", \"finnland\", \"finnland\", \"flut\", \"for\", \"fragen\", \"frankreich\", \"frankreich\", \"frankreich\", \"frankreich\", \"frau\", \"frau\", \"frau\", \"frau\", \"freiburg\", \"front\", \"fu\\u00dfball\", \"fu\\u00dfball\", \"g20\", \"g7\", \"gabor\", \"gas\", \"gas\", \"gas\", \"gas\", \"gastbeitrag\", \"gastbeitrag\", \"generation\", \"generation\", \"generation\", \"generation\", \"georgien\", \"gerhard\", \"gerhard\", \"gesellschaft\", \"gipfel\", \"gipfel\", \"gladbach\", \"gro\\u00df\", \"gro\\u00df\", \"gro\\u00df\", \"gro\\u00df\", \"gro\\u00dfbritannien\", \"gr\\u00fcne\", \"gr\\u00fcne\", \"gr\\u00fcne\", \"gr\\u00fcne\", \"gr\\u00fcne\", \"gr\\u00fcnen\", \"gut\", \"gut\", \"gut\", \"gut\", \"gut\", \"gut\", \"habeck\", \"habeck\", \"habeck\", \"habeck\", \"habeck\", \"haft\", \"haft\", \"halbfinal\", \"handball\", \"hartz\", \"haushalt\", \"heil\", \"heil\", \"heil\", \"heizungsgesetz\", \"hertha\", \"hilfe\", \"hilfe\", \"hilfe\", \"hilfe\", \"hitze\", \"hoch\", \"hoch\", \"hoch\", \"hoch\", \"hoch\", \"hoffenheim\", \"hugo\", \"impfung\", \"inflation\", \"intelligenz\", \"invasion\", \"inzidenz\", \"iran\", \"iran\", \"iran\", \"iran\", \"israel\", \"italien\", \"italien\", \"italien\", \"italien\", \"iv\", \"japan\", \"japan\", \"joe\", \"johnson\", \"justizreform\", \"j\\u00e4ger\", \"kampf\", \"kampf\", \"kampf\", \"kampf\", \"kampf\", \"kampfjet\", \"kanzler\", \"kanzler\", \"kapitol\", \"katar\", \"katar\", \"katholisch\", \"kaufen\", \"ki\", \"kiew\", \"kim\", \"kind\", \"kind\", \"kind\", \"kind\", \"kind\", \"kindergrundsicherung\", \"kirche\", \"klima\", \"klima\", \"klima\", \"klima\", \"klima\", \"klimaschutz\", \"klimaschutz\", \"klimaschutz\", \"klimaschutz\", \"koalition\", \"kommune\", \"kommune\", \"kongress\", \"kosovo\", \"kreml\", \"kreml\", \"krieg\", \"kriegsverlauf\", \"krim\", \"krise\", \"krise\", \"krise\", \"krise\", \"krise\", \"kritik\", \"kritik\", \"kritik\", \"kritik\", \"kritisieren\", \"kritisieren\", \"kritisieren\", \"kritisieren\", \"kritisieren\", \"k\\u00fcnstliche\", \"lage\", \"lambrecht\", \"land\", \"land\", \"land\", \"land\", \"land\", \"land\", \"lang\", \"lang\", \"lang\", \"lang\", \"lang\", \"lang\", \"lauterbach\", \"lauterbach\", \"leben\", \"leben\", \"leben\", \"leben\", \"leben\", \"leben\", \"lebensmittel\", \"leichtathletik\", \"leipzig\", \"leopard\", \"leverkusen\", \"libyen\", \"liebe\", \"liefern\", \"liefern\", \"liefern\", \"lindner\", \"linke\", \"linke\", \"linke\", \"linke\", \"liveblog\", \"lufthansa\", \"lufthansa\", \"lufthansa\", \"l\\u00fctzerath\", \"l\\u00fctzerath\", \"macron\", \"macron\", \"macron\", \"macron\", \"mai\", \"mainz\", \"mann\", \"mann\", \"mann\", \"mann\", \"mann\", \"mann\", \"markt\", \"marktbericht\", \"marktbericht\", \"maskenpflicht\", \"mensch\", \"mensch\", \"mensch\", \"mensch\", \"mensch\", \"messi\", \"milliarde\", \"milliarde\", \"million\", \"million\", \"million\", \"million\", \"million\", \"mindestens\", \"mindestens\", \"morgen\", \"moskau\", \"moskau\", \"musk\", \"m\\u00fcller\", \"m\\u00fcnchner\", \"nachfolge\", \"nachhaltig\", \"nachricht\", \"nachricht\", \"nachricht\", \"nahost\", \"nahost\", \"nato\", \"nato\", \"nawalny\", \"netanjahu\", \"news\", \"nord\", \"nordkorea\", \"notstand\", \"offensive\", \"olaf\", \"olympia\", \"pandemie\", \"panzer\", \"parlamentswahl\", \"partei\", \"partei\", \"partei\", \"partei\", \"partnerportal\", \"pelosi\", \"pipeline\", \"pistorius\", \"pistorius\", \"plan\", \"plan\", \"plan\", \"plan\", \"plan\", \"plan\", \"podcast\", \"podcast\", \"post\", \"preis\", \"prigoschin\", \"protest\", \"protest\", \"protest\", \"protest\", \"protest\", \"prozent\", \"prozent\", \"prozent\", \"prozent\", \"prozent\", \"prozent\", \"pr\\u00e4sident\", \"pr\\u00e4sident\", \"pr\\u00e4sident\", \"pr\\u00e4sident\", \"putin\", \"putin\", \"putin\", \"putin\", \"rbb\", \"reaktion\", \"reaktion\", \"reaktion\", \"recht\", \"recht\", \"recht\", \"rechts\", \"regen\", \"regierung\", \"reichsb\\u00fcrger\", \"reise\", \"reise\", \"reitz\", \"repr\\u00e4sentantenhaus\", \"rki\", \"russe\", \"russe\", \"russisch\", \"russischer\", \"russland\", \"russland\", \"russland\", \"r\\u00fcgen\", \"sanktion\", \"saporischschja\", \"schalke\", \"schlagen\", \"schlagen\", \"schlagen\", \"scholz\", \"scholz\", \"scholz\", \"schule\", \"schu\\u00df\", \"schu\\u00df\", \"schu\\u00df\", \"schweden\", \"schweden\", \"schweden\", \"selenskyj\", \"serbien\", \"sicherheitskonferenz\", \"sieg\", \"sieg\", \"sieg\", \"sieg\", \"sinken\", \"sinken\", \"sinken\", \"soldat\", \"spanien\", \"spanien\", \"spanien\", \"spd\", \"spd\", \"spd\", \"spd\", \"spieltag\", \"stark\", \"stark\", \"stark\", \"stark\", \"stark\", \"stark\", \"steigen\", \"steigen\", \"steigen\", \"steigen\", \"steigen\", \"steigend\", \"steigend\", \"steingart\", \"sterben\", \"sterben\", \"sterben\", \"sterben\", \"sterben\", \"stimme\", \"stimmung\", \"stream\", \"street\", \"streik\", \"streik\", \"streit\", \"streit\", \"streit\", \"streit\", \"sturm\", \"sturm\", \"stuttgart\", \"stuttgart\", \"sudan\", \"sudan\", \"syrien\", \"syrien\", \"syrien\", \"syrien\", \"s\\u00f6der\", \"s\\u00f6der\", \"s\\u00fcdafrika\", \"s\\u00fcdafrika\", \"s\\u00fcdkorea\", \"s\\u00fcdkorea\", \"taiwan\", \"terminal\", \"teuer\", \"teuer\", \"teuer\", \"teuer\", \"teuer\", \"ticket\", \"ticket\", \"tiktok\", \"tod\", \"tod\", \"tod\", \"tod\", \"tote\", \"tote\", \"tote\", \"tote\", \"tour\", \"trainer\", \"trump\", \"trump\", \"truppe\", \"truss\", \"tunesien\", \"twitter\", \"t\\u00fcrkei\", \"t\\u00fcrkei\", \"t\\u00fcrkei\", \"t\\u00fcrkei\", \"ukraine\", \"ukrainekrieg\", \"ukrainer\", \"ukrainisch\", \"ukrainisch\", \"ulrich\", \"unfall\", \"unfall\", \"unfall\", \"unfall\", \"union\", \"union\", \"union\", \"updat\", \"us\", \"us\", \"us\", \"us\", \"usa\", \"usa\", \"usa\", \"usa\", \"verbrenner\", \"verbrenner\", \"verletzter\", \"verletzter\", \"versteher\", \"vertrauen\", \"vogg\", \"waffe\", \"waffe\", \"wagner\", \"wahl\", \"wahl\", \"wahl\", \"wahl\", \"wahrheit\", \"waldbrand\", \"wall\", \"warnstreik\", \"warnstreik\", \"weit\", \"weit\", \"weit\", \"weit\", \"weit\", \"weit\", \"welt\", \"welt\", \"westjordanland\", \"wetter\", \"who\", \"wissing\", \"wm\", \"wm\", \"wm\", \"york\", \"zahlen\", \"zahlen\", \"\\u00f6sterreich\", \"\\u00f6sterreich\", \"\\u00fcberblick\", \"\\u00fcberschwemmung\"]}, \"R\": 30, \"lambda.step\": 0.01, \"plot.opts\": {\"xlab\": \"PC1\", \"ylab\": \"PC2\"}, \"topic.order\": [1, 3, 2, 6, 4, 5]};\n",
       "\n",
       "function LDAvis_load_lib(url, callback){\n",
       "  var s = document.createElement('script');\n",
       "  s.src = url;\n",
       "  s.async = true;\n",
       "  s.onreadystatechange = s.onload = callback;\n",
       "  s.onerror = function(){console.warn(\"failed to load library \" + url);};\n",
       "  document.getElementsByTagName(\"head\")[0].appendChild(s);\n",
       "}\n",
       "\n",
       "if(typeof(LDAvis) !== \"undefined\"){\n",
       "   // already loaded: just create the visualization\n",
       "   !function(LDAvis){\n",
       "       new LDAvis(\"#\" + \"ldavis_el662815939121261284633827197\", ldavis_el662815939121261284633827197_data);\n",
       "   }(LDAvis);\n",
       "}else if(typeof define === \"function\" && define.amd){\n",
       "   // require.js is available: use it to load d3/LDAvis\n",
       "   require.config({paths: {d3: \"https://d3js.org/d3.v5\"}});\n",
       "   require([\"d3\"], function(d3){\n",
       "      window.d3 = d3;\n",
       "      LDAvis_load_lib(\"https://cdn.jsdelivr.net/gh/bmabey/pyLDAvis@3.4.0/pyLDAvis/js/ldavis.v3.0.0.js\", function(){\n",
       "        new LDAvis(\"#\" + \"ldavis_el662815939121261284633827197\", ldavis_el662815939121261284633827197_data);\n",
       "      });\n",
       "    });\n",
       "}else{\n",
       "    // require.js not available: dynamically load d3 & LDAvis\n",
       "    LDAvis_load_lib(\"https://d3js.org/d3.v5.js\", function(){\n",
       "         LDAvis_load_lib(\"https://cdn.jsdelivr.net/gh/bmabey/pyLDAvis@3.4.0/pyLDAvis/js/ldavis.v3.0.0.js\", function(){\n",
       "                 new LDAvis(\"#\" + \"ldavis_el662815939121261284633827197\", ldavis_el662815939121261284633827197_data);\n",
       "            })\n",
       "         });\n",
       "}\n",
       "</script>"
      ],
      "text/plain": [
       "PreparedData(topic_coordinates=                x           y  topics  cluster       Freq\n",
       "topic                                                    \n",
       "0      -56.170578   82.302704       1        1  18.854537\n",
       "2       78.270287   73.158676       2        1  17.112012\n",
       "1     -106.015251  -43.265148       3        1  16.442319\n",
       "5       -2.118897 -129.247849       4        1  16.124677\n",
       "3      111.553162  -56.989056       5        1  15.944318\n",
       "4        4.911771  -14.853953       6        1  15.522137, topic_info=           Term         Freq        Total Category  logprob  loglift\n",
       "18325   ukraine  4538.000000  4538.000000  Default  30.0000  30.0000\n",
       "10150     krieg  2629.000000  2629.000000  Default  29.0000  29.0000\n",
       "15087  russisch  1381.000000  1381.000000  Default  28.0000  28.0000\n",
       "3583     corona  1142.000000  1142.000000  Default  27.0000  27.0000\n",
       "15091  russland  1763.000000  1763.000000  Default  26.0000  26.0000\n",
       "...         ...          ...          ...      ...      ...      ...\n",
       "6369    fußball   151.355463   337.772023   Topic6  -5.8316   1.0602\n",
       "10650     leben   150.508471   358.715052   Topic6  -5.8372   0.9944\n",
       "16977   sterben   146.624834   479.683944   Topic6  -5.8634   0.6777\n",
       "7647     habeck   149.202094   712.313451   Topic6  -5.8459   0.2997\n",
       "2314     berlin   150.282453   981.855624   Topic6  -5.8387  -0.0140\n",
       "\n",
       "[374 rows x 6 columns], token_table=       Topic      Freq              Term\n",
       "term                                    \n",
       "333        2  0.981454        abtreibung\n",
       "339        2  0.988613  abtreibungsrecht\n",
       "418        2  0.161893               afd\n",
       "418        3  0.180838               afd\n",
       "418        5  0.502902               afd\n",
       "...      ...       ...               ...\n",
       "20777      3  0.081953            zahlen\n",
       "21262      3  0.959805        österreich\n",
       "21262      5  0.034776        österreich\n",
       "21275      1  0.993151         überblick\n",
       "21368      6  0.990083    überschwemmung\n",
       "\n",
       "[681 rows x 3 columns], R=30, lambda_step=0.01, plot_opts={'xlab': 'PC1', 'ylab': 'PC2'}, topic_order=[1, 3, 2, 6, 4, 5])"
      ]
     },
     "execution_count": 30,
     "metadata": {},
     "output_type": "execute_result"
    }
   ],
   "source": [
    "pyLDAvis.enable_notebook()\n",
    "panel = pyLDAvis.lda_model.prepare(lda, dtm, cv, mds='tsne')\n",
    "panel"
   ]
  },
  {
   "cell_type": "markdown",
   "id": "3a4c2e1a",
   "metadata": {},
   "source": [
    "## Save train set with topics and dump model"
   ]
  },
  {
   "cell_type": "code",
   "execution_count": 31,
   "id": "78051ef9",
   "metadata": {},
   "outputs": [],
   "source": [
    "#Save result to csv\n",
    "train.to_csv('train_lda_topics_6.csv')"
   ]
  },
  {
   "cell_type": "code",
   "execution_count": 32,
   "id": "2c153876",
   "metadata": {},
   "outputs": [
    {
     "data": {
      "text/plain": [
       "['models/cv.jl']"
      ]
     },
     "execution_count": 32,
     "metadata": {},
     "output_type": "execute_result"
    }
   ],
   "source": [
    "# Dump countvectorizer\n",
    "joblib.dump(cv, 'models/cv.jl')"
   ]
  },
  {
   "cell_type": "code",
   "execution_count": 33,
   "id": "c06c71c2",
   "metadata": {},
   "outputs": [
    {
     "data": {
      "text/plain": [
       "['models/lda_model_6_topics.jl']"
      ]
     },
     "execution_count": 33,
     "metadata": {},
     "output_type": "execute_result"
    }
   ],
   "source": [
    "# Dump LDA model\n",
    "joblib.dump(lda, 'models/lda_model_6_topics.jl')"
   ]
  },
  {
   "cell_type": "code",
   "execution_count": null,
   "id": "25c09460",
   "metadata": {},
   "outputs": [],
   "source": []
  }
 ],
 "metadata": {
  "kernelspec": {
   "display_name": "nlp",
   "language": "python",
   "name": "nlp"
  },
  "language_info": {
   "codemirror_mode": {
    "name": "ipython",
    "version": 3
   },
   "file_extension": ".py",
   "mimetype": "text/x-python",
   "name": "python",
   "nbconvert_exporter": "python",
   "pygments_lexer": "ipython3",
   "version": "3.11.5"
  }
 },
 "nbformat": 4,
 "nbformat_minor": 5
}
