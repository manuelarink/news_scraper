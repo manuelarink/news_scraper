{
 "cells": [
  {
   "cell_type": "markdown",
   "id": "d23815fa",
   "metadata": {},
   "source": [
    "# Topic modelling of news headlines for prediction of news category¶"
   ]
  },
  {
   "cell_type": "markdown",
   "id": "75523a79",
   "metadata": {},
   "source": [
    "Now we wan't to perform topic modelling with unsupervised learning and train a modell for prediction of news category labels without using the provided labels in the corpus.\n",
    "We use the LDA classifier and assume 7 topics. "
   ]
  },
  {
   "cell_type": "code",
   "execution_count": 1,
   "id": "a2821ff5",
   "metadata": {},
   "outputs": [],
   "source": [
    "import pandas as pd\n",
    "import numpy as np\n",
    "import matplotlib.pyplot as plt\n",
    "import seaborn as sns\n",
    "\n",
    "import joblib\n",
    "\n",
    "import wordcloud\n",
    "\n",
    "import re\n",
    "\n",
    "import pyLDAvis.lda_model"
   ]
  },
  {
   "cell_type": "markdown",
   "id": "6594f2c8",
   "metadata": {},
   "source": [
    "## Load train set"
   ]
  },
  {
   "cell_type": "code",
   "execution_count": 2,
   "id": "d737f3a4",
   "metadata": {},
   "outputs": [],
   "source": [
    "train = pd.read_csv('../../data/01_train_nosplit_preprocessed.csv')"
   ]
  },
  {
   "cell_type": "code",
   "execution_count": 3,
   "id": "72fc6b38",
   "metadata": {},
   "outputs": [
    {
     "data": {
      "text/html": [
       "<div>\n",
       "<style scoped>\n",
       "    .dataframe tbody tr th:only-of-type {\n",
       "        vertical-align: middle;\n",
       "    }\n",
       "\n",
       "    .dataframe tbody tr th {\n",
       "        vertical-align: top;\n",
       "    }\n",
       "\n",
       "    .dataframe thead th {\n",
       "        text-align: right;\n",
       "    }\n",
       "</style>\n",
       "<table border=\"1\" class=\"dataframe\">\n",
       "  <thead>\n",
       "    <tr style=\"text-align: right;\">\n",
       "      <th></th>\n",
       "      <th>date</th>\n",
       "      <th>title</th>\n",
       "      <th>description</th>\n",
       "      <th>category</th>\n",
       "      <th>text</th>\n",
       "      <th>source</th>\n",
       "      <th>title_description_text</th>\n",
       "    </tr>\n",
       "  </thead>\n",
       "  <tbody>\n",
       "    <tr>\n",
       "      <th>0</th>\n",
       "      <td>2022-06-01 00:13:42</td>\n",
       "      <td>Preise: Grüne halten Senkung der Spritsteuer f...</td>\n",
       "      <td>Heute tritt die Steuersenkung auf Kraftstoffe ...</td>\n",
       "      <td>Other</td>\n",
       "      <td>NaN</td>\n",
       "      <td>stern</td>\n",
       "      <td>Preise: Grüne halten Senkung der Spritsteuer f...</td>\n",
       "    </tr>\n",
       "    <tr>\n",
       "      <th>1</th>\n",
       "      <td>2022-06-01 01:55:03</td>\n",
       "      <td>Biden warnt Putin: USA liefern moderne Raketen...</td>\n",
       "      <td>Die USA rüsten die Ukraine mit fortschrittlich...</td>\n",
       "      <td>Other</td>\n",
       "      <td>NaN</td>\n",
       "      <td>stern</td>\n",
       "      <td>Biden warnt Putin: USA liefern moderne Raketen...</td>\n",
       "    </tr>\n",
       "    <tr>\n",
       "      <th>2</th>\n",
       "      <td>2022-06-01 02:04:08</td>\n",
       "      <td>Soziale Medien: FDP-Politiker Kuhle: Internet-...</td>\n",
       "      <td>Eine «ZDF Magazin Royale»-Recherche beschäftig...</td>\n",
       "      <td>Other</td>\n",
       "      <td>NaN</td>\n",
       "      <td>stern</td>\n",
       "      <td>Soziale Medien: FDP-Politiker Kuhle: Internet-...</td>\n",
       "    </tr>\n",
       "    <tr>\n",
       "      <th>3</th>\n",
       "      <td>2022-06-01 02:26:58</td>\n",
       "      <td>Liveblog: ++ Zwei von drei ukrainischen Kinder...</td>\n",
       "      <td>Rund zwei von drei Mädchen und Jungen in der U...</td>\n",
       "      <td>Missing</td>\n",
       "      <td>NaN</td>\n",
       "      <td>Tagesschau</td>\n",
       "      <td>Liveblog: ++ Zwei von drei ukrainischen Kinder...</td>\n",
       "    </tr>\n",
       "    <tr>\n",
       "      <th>4</th>\n",
       "      <td>2022-06-01 02:31:43</td>\n",
       "      <td>Finanzen: Dänemark stimmt über EU-Verteidigung...</td>\n",
       "      <td>Vorbehalt verteidigen oder Verteidigung ohne V...</td>\n",
       "      <td>Other</td>\n",
       "      <td>NaN</td>\n",
       "      <td>stern</td>\n",
       "      <td>Finanzen: Dänemark stimmt über EU-Verteidigung...</td>\n",
       "    </tr>\n",
       "  </tbody>\n",
       "</table>\n",
       "</div>"
      ],
      "text/plain": [
       "                  date                                              title  \\\n",
       "0  2022-06-01 00:13:42  Preise: Grüne halten Senkung der Spritsteuer f...   \n",
       "1  2022-06-01 01:55:03  Biden warnt Putin: USA liefern moderne Raketen...   \n",
       "2  2022-06-01 02:04:08  Soziale Medien: FDP-Politiker Kuhle: Internet-...   \n",
       "3  2022-06-01 02:26:58  Liveblog: ++ Zwei von drei ukrainischen Kinder...   \n",
       "4  2022-06-01 02:31:43  Finanzen: Dänemark stimmt über EU-Verteidigung...   \n",
       "\n",
       "                                         description category  text  \\\n",
       "0  Heute tritt die Steuersenkung auf Kraftstoffe ...    Other   NaN   \n",
       "1  Die USA rüsten die Ukraine mit fortschrittlich...    Other   NaN   \n",
       "2  Eine «ZDF Magazin Royale»-Recherche beschäftig...    Other   NaN   \n",
       "3  Rund zwei von drei Mädchen und Jungen in der U...  Missing   NaN   \n",
       "4  Vorbehalt verteidigen oder Verteidigung ohne V...    Other   NaN   \n",
       "\n",
       "       source                             title_description_text  \n",
       "0       stern  Preise: Grüne halten Senkung der Spritsteuer f...  \n",
       "1       stern  Biden warnt Putin: USA liefern moderne Raketen...  \n",
       "2       stern  Soziale Medien: FDP-Politiker Kuhle: Internet-...  \n",
       "3  Tagesschau  Liveblog: ++ Zwei von drei ukrainischen Kinder...  \n",
       "4       stern  Finanzen: Dänemark stimmt über EU-Verteidigung...  "
      ]
     },
     "execution_count": 3,
     "metadata": {},
     "output_type": "execute_result"
    }
   ],
   "source": [
    "train.head()"
   ]
  },
  {
   "cell_type": "markdown",
   "id": "46b4f629",
   "metadata": {},
   "source": [
    "## Load German stopwords"
   ]
  },
  {
   "cell_type": "code",
   "execution_count": 4,
   "id": "da144b59",
   "metadata": {},
   "outputs": [],
   "source": [
    "stop_words = pd.read_csv('german_stopwords.txt', header=None)[0].values.tolist()"
   ]
  },
  {
   "cell_type": "code",
   "execution_count": 5,
   "id": "bd74c6d3",
   "metadata": {},
   "outputs": [
    {
     "name": "stdout",
     "output_type": "stream",
     "text": [
      "['ab', 'aber', 'alle', 'allein', 'allem', 'allen', 'aller', 'allerdings', 'allerlei', 'alles', 'allmählich', 'allzu', 'als', 'alsbald', 'also', 'am', 'an', 'and', 'ander', 'andere', 'anderem', 'anderen', 'anderer', 'andererseits', 'anderes', 'anderm', 'andern', 'andernfalls', 'anders', 'anstatt', 'auch', 'auf', 'aus', 'ausgenommen', 'ausser', 'ausserdem', 'außer', 'außerdem', 'außerhalb', 'bald', 'bei', 'beide', 'beiden', 'beiderlei', 'beides', 'beim', 'beinahe', 'bereits', 'besonders', 'besser', 'beträchtlich', 'bevor', 'bezüglich', 'bin', 'bis', 'bisher', 'bislang', 'bist', 'bloß', 'bsp.', 'bzw', 'ca', 'ca.', 'content', 'da', 'dabei', 'dadurch', 'dafür', 'dagegen', 'daher', 'dahin', 'damals', 'damit', 'danach', 'daneben', 'dann', 'daran', 'darauf', 'daraus', 'darin', 'darum', 'darunter', 'darüber', 'darüberhinaus', 'das', 'dass', 'dasselbe', 'davon', 'davor', 'dazu', 'daß', 'dein', 'deine', 'deinem', 'deinen', 'deiner', 'deines', 'dem', 'demnach', 'demselben', 'den', 'denen', 'denn', 'dennoch', 'denselben', 'der', 'derart', 'derartig', 'derem', 'deren', 'derer', 'derjenige', 'derjenigen', 'derselbe', 'derselben', 'derzeit', 'des', 'deshalb', 'desselben', 'dessen', 'desto', 'deswegen', 'dich', 'die', 'diejenige', 'dies', 'diese', 'dieselbe', 'dieselben', 'diesem', 'diesen', 'dieser', 'dieses', 'diesseits', 'dir', 'direkt', 'direkte', 'direkten', 'direkter', 'doch', 'dort', 'dorther', 'dorthin', 'drauf', 'drin', 'drunter', 'drüber', 'du', 'dunklen', 'durch', 'durchaus', 'eben', 'ebenfalls', 'ebenso', 'eher', 'eigenen', 'eigenes', 'eigentlich', 'ein', 'eine', 'einem', 'einen', 'einer', 'einerseits', 'eines', 'einfach', 'einführen', 'einführte', 'einführten', 'eingesetzt', 'einig', 'einige', 'einigem', 'einigen', 'einiger', 'einigermaßen', 'einiges', 'einmal', 'eins', 'einseitig', 'einseitige', 'einseitigen', 'einseitiger', 'einst', 'einstmals', 'einzig', 'entsprechend', 'entweder', 'er', 'erst', 'es', 'etc', 'etliche', 'etwa', 'etwas', 'euch', 'euer', 'eure', 'eurem', 'euren', 'eurer', 'eures', 'falls', 'fast', 'ferner', 'folgende', 'folgenden', 'folgender', 'folgendes', 'folglich', 'fuer', 'für', 'gab', 'ganze', 'ganzem', 'ganzen', 'ganzer', 'ganzes', 'gar', 'gegen', 'gemäss', 'ggf', 'gleich', 'gleichwohl', 'gleichzeitig', 'glücklicherweise', 'gänzlich', 'hab', 'habe', 'haben', 'haette', 'hast', 'hat', 'hatte', 'hatten', 'hattest', 'hattet', 'heraus', 'herein', 'hier', 'hier', 'hinter', 'hiermit', 'hiesige', 'hin', 'hinein', 'hinten', 'hinter', 'hinterher', 'http', 'hätt', 'hätte', 'hätten', 'höchstens', 'ich', 'igitt', 'ihm', 'ihn', 'ihnen', 'ihr', 'ihre', 'ihrem', 'ihren', 'ihrer', 'ihres', 'im', 'immer', 'immerhin', 'in', 'indem', 'indessen', 'infolge', 'innen', 'innerhalb', 'ins', 'insofern', 'inzwischen', 'irgend', 'irgendeine', 'irgendwas', 'irgendwen', 'irgendwer', 'irgendwie', 'irgendwo', 'ist', 'ja', 'je', 'jed', 'jede', 'jedem', 'jeden', 'jedenfalls', 'jeder', 'jederlei', 'jedes', 'jedoch', 'jemand', 'jene', 'jenem', 'jenen', 'jener', 'jenes', 'jenseits', 'jetzt', 'jährig', 'jährige', 'jährigen', 'jähriges', 'kam', 'kann', 'kannst', 'kaum', 'kein', 'keine', 'keinem', 'keinen', 'keiner', 'keinerlei', 'keines', 'keineswegs', 'klar', 'klare', 'klaren', 'klares', 'klein', 'kleinen', 'kleiner', 'kleines', 'koennen', 'koennt', 'koennte', 'koennten', 'komme', 'kommen', 'kommt', 'konkret', 'konkrete', 'konkreten', 'konkreter', 'konkretes', 'können', 'könnt', 'künftig', 'leider', 'machen', 'man', 'manche', 'manchem', 'manchen', 'mancher', 'mancherorts', 'manches', 'manchmal', 'mehr', 'mehrere', 'mein', 'meine', 'meinem', 'meinen', 'meiner', 'meines', 'mich', 'mir', 'mit', 'mithin', 'muessen', 'muesst', 'muesste', 'muss', 'musst', 'musste', 'mussten', 'muß', 'mußt', 'müssen', 'müsste', 'müssten', 'müßt', 'müßte', 'nach', 'nachdem', 'nachher', 'nachhinein', 'nahm', 'natürlich', 'neben', 'nebenan', 'nehmen', 'nein', 'nicht', 'nichts', 'nie', 'niemals', 'niemand', 'nirgends', 'nirgendwo', 'noch', 'nun', 'nur', 'nächste', 'nämlich', 'nötigenfalls', 'ob', 'oben', 'oberhalb', 'obgleich', 'obschon', 'obwohl', 'oder', 'oft', 'per', 'plötzlich', 'schließlich', 'schon', 'sehr', 'sehrwohl', 'seid', 'sein', 'seine', 'seinem', 'seinen', 'seiner', 'seines', 'seit', 'seitdem', 'seither', 'selber', 'selbst', 'sich', 'sicher', 'sicherlich', 'sie', 'sind', 'so', 'sobald', 'sodass', 'sodaß', 'soeben', 'sofern', 'sofort', 'sogar', 'solange', 'solch', 'solche', 'solchem', 'solchen', 'solcher', 'solches', 'soll', 'sollen', 'sollst', 'sollt', 'sollte', 'sollten', 'solltest', 'somit', 'sondern', 'sonst', 'sonstwo', 'sooft', 'soviel', 'soweit', 'sowie', 'sowohl', 'tatsächlich', 'tatsächlichen', 'tatsächlicher', 'tatsächliches', 'trotzdem', 'ueber', 'um', 'umso', 'unbedingt', 'und', 'unmöglich', 'unmögliche', 'unmöglichen', 'unmöglicher', 'uns', 'unser', 'unser', 'unsere', 'unsere', 'unserem', 'unseren', 'unserer', 'unseres', 'unter', 'usw', 'viel', 'viele', 'vielen', 'vieler', 'vieles', 'vielleicht', 'vielmals', 'vom', 'von', 'vor', 'voran', 'vorher', 'vorüber', 'völlig', 'wann', 'war', 'waren', 'warst', 'warum', 'was', 'weder', 'weil', 'weiter', 'weitere', 'weiterem', 'weiteren', 'weiterer', 'weiteres', 'weiterhin', 'weiß', 'welche', 'welchem', 'welchen', 'welcher', 'welches', 'wem', 'wen', 'wenig', 'wenige', 'weniger', 'wenigstens', 'wenn', 'wenngleich', 'wer', 'werde', 'werden', 'werdet', 'weshalb', 'wessen', 'wichtig', 'wie', 'wieder', 'wieso', 'wieviel', 'wiewohl', 'will', 'willst', 'wir', 'wird', 'wirklich', 'wirst', 'wo', 'wodurch', 'wogegen', 'woher', 'wohin', 'wohingegen', 'wohl', 'wohlweislich', 'womit', 'woraufhin', 'woraus', 'worin', 'wurde', 'wurden', 'während', 'währenddessen', 'wär', 'wäre', 'wären', 'würde', 'würden', 'z.B.', 'zB', 'zahlreich', 'zeitweise', 'zu', 'zudem', 'zuerst', 'zufolge', 'zugleich', 'zuletzt', 'zum', 'zumal', 'zur', 'zurück', 'zusammen', 'zuviel', 'zwar', 'zwischen', 'ähnlich', 'übel', 'über', 'überall', 'überallhin', 'überdies', 'übermorgen', 'übrig', 'übrigens']\n"
     ]
    }
   ],
   "source": [
    "print(stop_words)"
   ]
  },
  {
   "cell_type": "markdown",
   "id": "a12c363c",
   "metadata": {},
   "source": [
    "## Extract features from 'title' "
   ]
  },
  {
   "cell_type": "code",
   "execution_count": 6,
   "id": "cd42c0db",
   "metadata": {},
   "outputs": [],
   "source": [
    "from sklearn.feature_extraction.text import CountVectorizer"
   ]
  },
  {
   "cell_type": "code",
   "execution_count": 7,
   "id": "38ab615c",
   "metadata": {},
   "outputs": [],
   "source": [
    "cv = CountVectorizer(max_df=0.95, min_df=2, stop_words=stop_words)"
   ]
  },
  {
   "cell_type": "code",
   "execution_count": 8,
   "id": "a628f0d2",
   "metadata": {},
   "outputs": [
    {
     "name": "stderr",
     "output_type": "stream",
     "text": [
      "C:\\Users\\manuela.rink\\anaconda3\\envs\\nlp\\Lib\\site-packages\\sklearn\\feature_extraction\\text.py:409: UserWarning: Your stop_words may be inconsistent with your preprocessing. Tokenizing the stop words generated tokens ['bsp', 'zb'] not in stop_words.\n",
      "  warnings.warn(\n"
     ]
    }
   ],
   "source": [
    "# create Document-Term-Matrix\n",
    "dtm = cv.fit_transform(train['title'])"
   ]
  },
  {
   "cell_type": "code",
   "execution_count": 9,
   "id": "faba69b8",
   "metadata": {},
   "outputs": [
    {
     "data": {
      "text/plain": [
       "<67513x24939 sparse matrix of type '<class 'numpy.int64'>'\n",
       "\twith 350924 stored elements in Compressed Sparse Row format>"
      ]
     },
     "execution_count": 9,
     "metadata": {},
     "output_type": "execute_result"
    }
   ],
   "source": [
    "dtm"
   ]
  },
  {
   "cell_type": "code",
   "execution_count": 10,
   "id": "3f48b861",
   "metadata": {},
   "outputs": [],
   "source": [
    "from sklearn.decomposition import LatentDirichletAllocation"
   ]
  },
  {
   "cell_type": "code",
   "execution_count": 11,
   "id": "fdf60b9b",
   "metadata": {},
   "outputs": [
    {
     "data": {
      "text/html": [
       "<style>#sk-container-id-1 {color: black;background-color: white;}#sk-container-id-1 pre{padding: 0;}#sk-container-id-1 div.sk-toggleable {background-color: white;}#sk-container-id-1 label.sk-toggleable__label {cursor: pointer;display: block;width: 100%;margin-bottom: 0;padding: 0.3em;box-sizing: border-box;text-align: center;}#sk-container-id-1 label.sk-toggleable__label-arrow:before {content: \"▸\";float: left;margin-right: 0.25em;color: #696969;}#sk-container-id-1 label.sk-toggleable__label-arrow:hover:before {color: black;}#sk-container-id-1 div.sk-estimator:hover label.sk-toggleable__label-arrow:before {color: black;}#sk-container-id-1 div.sk-toggleable__content {max-height: 0;max-width: 0;overflow: hidden;text-align: left;background-color: #f0f8ff;}#sk-container-id-1 div.sk-toggleable__content pre {margin: 0.2em;color: black;border-radius: 0.25em;background-color: #f0f8ff;}#sk-container-id-1 input.sk-toggleable__control:checked~div.sk-toggleable__content {max-height: 200px;max-width: 100%;overflow: auto;}#sk-container-id-1 input.sk-toggleable__control:checked~label.sk-toggleable__label-arrow:before {content: \"▾\";}#sk-container-id-1 div.sk-estimator input.sk-toggleable__control:checked~label.sk-toggleable__label {background-color: #d4ebff;}#sk-container-id-1 div.sk-label input.sk-toggleable__control:checked~label.sk-toggleable__label {background-color: #d4ebff;}#sk-container-id-1 input.sk-hidden--visually {border: 0;clip: rect(1px 1px 1px 1px);clip: rect(1px, 1px, 1px, 1px);height: 1px;margin: -1px;overflow: hidden;padding: 0;position: absolute;width: 1px;}#sk-container-id-1 div.sk-estimator {font-family: monospace;background-color: #f0f8ff;border: 1px dotted black;border-radius: 0.25em;box-sizing: border-box;margin-bottom: 0.5em;}#sk-container-id-1 div.sk-estimator:hover {background-color: #d4ebff;}#sk-container-id-1 div.sk-parallel-item::after {content: \"\";width: 100%;border-bottom: 1px solid gray;flex-grow: 1;}#sk-container-id-1 div.sk-label:hover label.sk-toggleable__label {background-color: #d4ebff;}#sk-container-id-1 div.sk-serial::before {content: \"\";position: absolute;border-left: 1px solid gray;box-sizing: border-box;top: 0;bottom: 0;left: 50%;z-index: 0;}#sk-container-id-1 div.sk-serial {display: flex;flex-direction: column;align-items: center;background-color: white;padding-right: 0.2em;padding-left: 0.2em;position: relative;}#sk-container-id-1 div.sk-item {position: relative;z-index: 1;}#sk-container-id-1 div.sk-parallel {display: flex;align-items: stretch;justify-content: center;background-color: white;position: relative;}#sk-container-id-1 div.sk-item::before, #sk-container-id-1 div.sk-parallel-item::before {content: \"\";position: absolute;border-left: 1px solid gray;box-sizing: border-box;top: 0;bottom: 0;left: 50%;z-index: -1;}#sk-container-id-1 div.sk-parallel-item {display: flex;flex-direction: column;z-index: 1;position: relative;background-color: white;}#sk-container-id-1 div.sk-parallel-item:first-child::after {align-self: flex-end;width: 50%;}#sk-container-id-1 div.sk-parallel-item:last-child::after {align-self: flex-start;width: 50%;}#sk-container-id-1 div.sk-parallel-item:only-child::after {width: 0;}#sk-container-id-1 div.sk-dashed-wrapped {border: 1px dashed gray;margin: 0 0.4em 0.5em 0.4em;box-sizing: border-box;padding-bottom: 0.4em;background-color: white;}#sk-container-id-1 div.sk-label label {font-family: monospace;font-weight: bold;display: inline-block;line-height: 1.2em;}#sk-container-id-1 div.sk-label-container {text-align: center;}#sk-container-id-1 div.sk-container {/* jupyter's `normalize.less` sets `[hidden] { display: none; }` but bootstrap.min.css set `[hidden] { display: none !important; }` so we also need the `!important` here to be able to override the default hidden behavior on the sphinx rendered scikit-learn.org. See: https://github.com/scikit-learn/scikit-learn/issues/21755 */display: inline-block !important;position: relative;}#sk-container-id-1 div.sk-text-repr-fallback {display: none;}</style><div id=\"sk-container-id-1\" class=\"sk-top-container\"><div class=\"sk-text-repr-fallback\"><pre>LatentDirichletAllocation(n_components=7, random_state=42)</pre><b>In a Jupyter environment, please rerun this cell to show the HTML representation or trust the notebook. <br />On GitHub, the HTML representation is unable to render, please try loading this page with nbviewer.org.</b></div><div class=\"sk-container\" hidden><div class=\"sk-item\"><div class=\"sk-estimator sk-toggleable\"><input class=\"sk-toggleable__control sk-hidden--visually\" id=\"sk-estimator-id-1\" type=\"checkbox\" checked><label for=\"sk-estimator-id-1\" class=\"sk-toggleable__label sk-toggleable__label-arrow\">LatentDirichletAllocation</label><div class=\"sk-toggleable__content\"><pre>LatentDirichletAllocation(n_components=7, random_state=42)</pre></div></div></div></div></div>"
      ],
      "text/plain": [
       "LatentDirichletAllocation(n_components=7, random_state=42)"
      ]
     },
     "execution_count": 11,
     "metadata": {},
     "output_type": "execute_result"
    }
   ],
   "source": [
    "lda = LatentDirichletAllocation(n_components=7, random_state=42)\n",
    "lda.fit(dtm)"
   ]
  },
  {
   "cell_type": "markdown",
   "id": "a2f3296f",
   "metadata": {},
   "source": [
    "## Analyse extracted features"
   ]
  },
  {
   "cell_type": "code",
   "execution_count": 12,
   "id": "44c85ba2",
   "metadata": {},
   "outputs": [
    {
     "data": {
      "text/plain": [
       "24939"
      ]
     },
     "execution_count": 12,
     "metadata": {},
     "output_type": "execute_result"
    }
   ],
   "source": [
    "len(cv.get_feature_names_out())"
   ]
  },
  {
   "cell_type": "code",
   "execution_count": 13,
   "id": "79a3b48a",
   "metadata": {},
   "outputs": [
    {
     "data": {
      "text/plain": [
       "array(['00', '000', '007', ..., 'или', 'российские', 'украинцы'],\n",
       "      dtype=object)"
      ]
     },
     "execution_count": 13,
     "metadata": {},
     "output_type": "execute_result"
    }
   ],
   "source": [
    "cv.get_feature_names_out()"
   ]
  },
  {
   "cell_type": "code",
   "execution_count": 14,
   "id": "6d276a41",
   "metadata": {},
   "outputs": [
    {
     "data": {
      "text/plain": [
       "7"
      ]
     },
     "execution_count": 14,
     "metadata": {},
     "output_type": "execute_result"
    }
   ],
   "source": [
    "len(lda.components_)"
   ]
  },
  {
   "cell_type": "code",
   "execution_count": 15,
   "id": "be61548c",
   "metadata": {},
   "outputs": [
    {
     "data": {
      "text/plain": [
       "array([[1.43027242e-01, 1.43024873e-01, 1.42857397e-01, ...,\n",
       "        1.42857602e-01, 1.42857338e-01, 1.42857539e-01],\n",
       "       [1.42857251e-01, 2.48500645e+02, 1.44049478e-01, ...,\n",
       "        1.42857668e-01, 1.42857366e-01, 1.42857595e-01],\n",
       "       [1.43148393e-01, 4.48722291e+01, 1.42857443e-01, ...,\n",
       "        1.14298451e+00, 2.14285583e+00, 1.42857623e-01],\n",
       "       ...,\n",
       "       [3.14235903e+00, 2.34543085e-01, 1.42857455e-01, ...,\n",
       "        1.42857728e-01, 1.42857391e-01, 1.42857646e-01],\n",
       "       [1.42857223e-01, 3.15093314e+01, 1.42857353e-01, ...,\n",
       "        1.42857533e-01, 1.42857308e-01, 1.42857479e-01],\n",
       "       [1.42893606e-01, 1.14313352e+02, 2.14115857e+00, ...,\n",
       "        1.14272726e+00, 1.42857386e-01, 2.14285450e+00]])"
      ]
     },
     "execution_count": 15,
     "metadata": {},
     "output_type": "execute_result"
    }
   ],
   "source": [
    "lda.components_"
   ]
  },
  {
   "cell_type": "code",
   "execution_count": 16,
   "id": "45a65bd8",
   "metadata": {},
   "outputs": [
    {
     "data": {
      "text/plain": [
       "24939"
      ]
     },
     "execution_count": 16,
     "metadata": {},
     "output_type": "execute_result"
    }
   ],
   "source": [
    "len(lda.components_[0])"
   ]
  },
  {
   "cell_type": "markdown",
   "id": "9e30cf34",
   "metadata": {},
   "source": [
    "### Show most important words of first extracted topic"
   ]
  },
  {
   "cell_type": "code",
   "execution_count": 17,
   "id": "c617b9e0",
   "metadata": {},
   "outputs": [],
   "source": [
    "first_topic = lda.components_[0]"
   ]
  },
  {
   "cell_type": "code",
   "execution_count": 18,
   "id": "258f618e",
   "metadata": {},
   "outputs": [
    {
     "data": {
      "text/plain": [
       "array([22881,  5717, 12715, ..., 21919, 21221,  2841], dtype=int64)"
      ]
     },
     "execution_count": 18,
     "metadata": {},
     "output_type": "execute_result"
    }
   ],
   "source": [
    "first_topic.argsort() # returns indices of ascending sorted array values "
   ]
  },
  {
   "cell_type": "code",
   "execution_count": 19,
   "id": "5966880a",
   "metadata": {},
   "outputs": [],
   "source": [
    "# the last 10 entries are the 10 most important words for topic 1\n",
    "top_words_indices = first_topic.argsort()[-10:]"
   ]
  },
  {
   "cell_type": "code",
   "execution_count": 20,
   "id": "11648839",
   "metadata": {},
   "outputs": [
    {
     "name": "stdout",
     "output_type": "stream",
     "text": [
      "wahrheit\n",
      "afd\n",
      "bundesliga\n",
      "bayern\n",
      "wahl\n",
      "ex\n",
      "cdu\n",
      "us\n",
      "trump\n",
      "berlin\n"
     ]
    }
   ],
   "source": [
    "for index in top_words_indices:\n",
    "    print(cv.get_feature_names_out()[index])"
   ]
  },
  {
   "cell_type": "markdown",
   "id": "0d661247",
   "metadata": {},
   "source": [
    "### Show most important words of first extracted topic"
   ]
  },
  {
   "cell_type": "code",
   "execution_count": 21,
   "id": "f789d8f2",
   "metadata": {},
   "outputs": [
    {
     "name": "stdout",
     "output_type": "stream",
     "text": [
      "Die TOP-15 Wörter für das Thema #0\n",
      "['haft', 'letzte', 'generation', 'spd', 'gericht', 'wahrheit', 'afd', 'bundesliga', 'bayern', 'wahl', 'ex', 'cdu', 'us', 'trump', 'berlin']\n",
      "\n",
      "\n",
      "Die TOP-15 Wörter für das Thema #1\n",
      "['millionen', 'frauen', 'neue', 'prozent', 'biden', 'weg', '000', 'deutschland', 'gas', 'inflation', 'deutsche', 'us', 'iran', 'regierung', 'menschen']\n",
      "\n",
      "\n",
      "Die TOP-15 Wörter für das Thema #2\n",
      "['frauen', 'nordkorea', 'macron', 'steingart', 'gabor', 'lauterbach', 'usa', 'tote', 'dfb', 'gastbeitrag', 'polen', 'eu', 'frankreich', 'wm', 'deutschland']\n",
      "\n",
      "\n",
      "Die TOP-15 Wörter für das Thema #3\n",
      "['scholz', 'warnt', 'analyse', 'chinas', 'news', 'ampel', 'afd', 'kritik', 'lage', 'taiwan', 'marktbericht', 'pandemie', 'invasion', 'china', 'corona']\n",
      "\n",
      "\n",
      "Die TOP-15 Wörter für das Thema #4\n",
      "['online', 'wegen', 'fdp', 'tot', 'scholz', 'analyse', 'grünen', 'reitz', 'ampel', 'ulrich', 'stream', 'bundestag', 'türkei', 'nord', 'streit']\n",
      "\n",
      "\n",
      "Die TOP-15 Wörter für das Thema #5\n",
      "['nachrichten', 'usa', 'russen', 'russischer', 'moskau', 'putins', 'liveblog', 'eu', 'selenskyj', 'kiew', 'russische', 'putin', 'russland', 'krieg', 'ukraine']\n",
      "\n",
      "\n",
      "Die TOP-15 Wörter für das Thema #6\n",
      "['gestorben', 'auto', 'polizei', 'baerbock', 'bahn', 'länder', 'ticket', 'verletzt', 'klima', 'zwei', 'kinder', 'israel', 'eu', 'neue', 'euro']\n",
      "\n",
      "\n"
     ]
    }
   ],
   "source": [
    "for index, topic in enumerate(lda.components_):\n",
    "    print(f'Die TOP-15 Wörter für das Thema #{index}')\n",
    "    print([cv.get_feature_names_out()[i] for i in topic.argsort()[-15:]])\n",
    "    print('\\n')"
   ]
  },
  {
   "cell_type": "markdown",
   "id": "a0973fc9",
   "metadata": {},
   "source": [
    "### Get topics with highest probability for news items in train data"
   ]
  },
  {
   "cell_type": "code",
   "execution_count": 22,
   "id": "0f46f47f",
   "metadata": {},
   "outputs": [
    {
     "data": {
      "text/plain": [
       "(67513, 7)"
      ]
     },
     "execution_count": 22,
     "metadata": {},
     "output_type": "execute_result"
    }
   ],
   "source": [
    "topic_results = lda.transform(dtm)\n",
    "topic_results.shape"
   ]
  },
  {
   "cell_type": "code",
   "execution_count": 23,
   "id": "823c7020",
   "metadata": {},
   "outputs": [
    {
     "data": {
      "text/plain": [
       "array([0.01791, 0.01791, 0.01786, 0.89272, 0.01787, 0.01786, 0.01786])"
      ]
     },
     "execution_count": 23,
     "metadata": {},
     "output_type": "execute_result"
    }
   ],
   "source": [
    "topic_results[0].round(5)"
   ]
  },
  {
   "cell_type": "code",
   "execution_count": 24,
   "id": "f68cacd0",
   "metadata": {},
   "outputs": [
    {
     "data": {
      "text/plain": [
       "3"
      ]
     },
     "execution_count": 24,
     "metadata": {},
     "output_type": "execute_result"
    }
   ],
   "source": [
    "topic_results[0].argmax()"
   ]
  },
  {
   "cell_type": "code",
   "execution_count": 25,
   "id": "6e11fb89",
   "metadata": {},
   "outputs": [],
   "source": [
    "# save topic to train dataset\n",
    "train['topic'] = topic_results.argmax(axis=1)"
   ]
  },
  {
   "cell_type": "code",
   "execution_count": 26,
   "id": "7eb2c522",
   "metadata": {},
   "outputs": [
    {
     "data": {
      "text/html": [
       "<div>\n",
       "<style scoped>\n",
       "    .dataframe tbody tr th:only-of-type {\n",
       "        vertical-align: middle;\n",
       "    }\n",
       "\n",
       "    .dataframe tbody tr th {\n",
       "        vertical-align: top;\n",
       "    }\n",
       "\n",
       "    .dataframe thead th {\n",
       "        text-align: right;\n",
       "    }\n",
       "</style>\n",
       "<table border=\"1\" class=\"dataframe\">\n",
       "  <thead>\n",
       "    <tr style=\"text-align: right;\">\n",
       "      <th></th>\n",
       "      <th>date</th>\n",
       "      <th>title</th>\n",
       "      <th>description</th>\n",
       "      <th>category</th>\n",
       "      <th>text</th>\n",
       "      <th>source</th>\n",
       "      <th>title_description_text</th>\n",
       "      <th>topic</th>\n",
       "    </tr>\n",
       "  </thead>\n",
       "  <tbody>\n",
       "    <tr>\n",
       "      <th>0</th>\n",
       "      <td>2022-06-01 00:13:42</td>\n",
       "      <td>Preise: Grüne halten Senkung der Spritsteuer f...</td>\n",
       "      <td>Heute tritt die Steuersenkung auf Kraftstoffe ...</td>\n",
       "      <td>Other</td>\n",
       "      <td>NaN</td>\n",
       "      <td>stern</td>\n",
       "      <td>Preise: Grüne halten Senkung der Spritsteuer f...</td>\n",
       "      <td>3</td>\n",
       "    </tr>\n",
       "    <tr>\n",
       "      <th>1</th>\n",
       "      <td>2022-06-01 01:55:03</td>\n",
       "      <td>Biden warnt Putin: USA liefern moderne Raketen...</td>\n",
       "      <td>Die USA rüsten die Ukraine mit fortschrittlich...</td>\n",
       "      <td>Other</td>\n",
       "      <td>NaN</td>\n",
       "      <td>stern</td>\n",
       "      <td>Biden warnt Putin: USA liefern moderne Raketen...</td>\n",
       "      <td>5</td>\n",
       "    </tr>\n",
       "    <tr>\n",
       "      <th>2</th>\n",
       "      <td>2022-06-01 02:04:08</td>\n",
       "      <td>Soziale Medien: FDP-Politiker Kuhle: Internet-...</td>\n",
       "      <td>Eine «ZDF Magazin Royale»-Recherche beschäftig...</td>\n",
       "      <td>Other</td>\n",
       "      <td>NaN</td>\n",
       "      <td>stern</td>\n",
       "      <td>Soziale Medien: FDP-Politiker Kuhle: Internet-...</td>\n",
       "      <td>4</td>\n",
       "    </tr>\n",
       "    <tr>\n",
       "      <th>3</th>\n",
       "      <td>2022-06-01 02:26:58</td>\n",
       "      <td>Liveblog: ++ Zwei von drei ukrainischen Kinder...</td>\n",
       "      <td>Rund zwei von drei Mädchen und Jungen in der U...</td>\n",
       "      <td>Missing</td>\n",
       "      <td>NaN</td>\n",
       "      <td>Tagesschau</td>\n",
       "      <td>Liveblog: ++ Zwei von drei ukrainischen Kinder...</td>\n",
       "      <td>5</td>\n",
       "    </tr>\n",
       "    <tr>\n",
       "      <th>4</th>\n",
       "      <td>2022-06-01 02:31:43</td>\n",
       "      <td>Finanzen: Dänemark stimmt über EU-Verteidigung...</td>\n",
       "      <td>Vorbehalt verteidigen oder Verteidigung ohne V...</td>\n",
       "      <td>Other</td>\n",
       "      <td>NaN</td>\n",
       "      <td>stern</td>\n",
       "      <td>Finanzen: Dänemark stimmt über EU-Verteidigung...</td>\n",
       "      <td>4</td>\n",
       "    </tr>\n",
       "  </tbody>\n",
       "</table>\n",
       "</div>"
      ],
      "text/plain": [
       "                  date                                              title  \\\n",
       "0  2022-06-01 00:13:42  Preise: Grüne halten Senkung der Spritsteuer f...   \n",
       "1  2022-06-01 01:55:03  Biden warnt Putin: USA liefern moderne Raketen...   \n",
       "2  2022-06-01 02:04:08  Soziale Medien: FDP-Politiker Kuhle: Internet-...   \n",
       "3  2022-06-01 02:26:58  Liveblog: ++ Zwei von drei ukrainischen Kinder...   \n",
       "4  2022-06-01 02:31:43  Finanzen: Dänemark stimmt über EU-Verteidigung...   \n",
       "\n",
       "                                         description category  text  \\\n",
       "0  Heute tritt die Steuersenkung auf Kraftstoffe ...    Other   NaN   \n",
       "1  Die USA rüsten die Ukraine mit fortschrittlich...    Other   NaN   \n",
       "2  Eine «ZDF Magazin Royale»-Recherche beschäftig...    Other   NaN   \n",
       "3  Rund zwei von drei Mädchen und Jungen in der U...  Missing   NaN   \n",
       "4  Vorbehalt verteidigen oder Verteidigung ohne V...    Other   NaN   \n",
       "\n",
       "       source                             title_description_text  topic  \n",
       "0       stern  Preise: Grüne halten Senkung der Spritsteuer f...      3  \n",
       "1       stern  Biden warnt Putin: USA liefern moderne Raketen...      5  \n",
       "2       stern  Soziale Medien: FDP-Politiker Kuhle: Internet-...      4  \n",
       "3  Tagesschau  Liveblog: ++ Zwei von drei ukrainischen Kinder...      5  \n",
       "4       stern  Finanzen: Dänemark stimmt über EU-Verteidigung...      4  "
      ]
     },
     "execution_count": 26,
     "metadata": {},
     "output_type": "execute_result"
    }
   ],
   "source": [
    "train.head()"
   ]
  },
  {
   "cell_type": "markdown",
   "id": "a0751e64",
   "metadata": {},
   "source": [
    "## Visualize model"
   ]
  },
  {
   "cell_type": "code",
   "execution_count": 27,
   "id": "39e7a68b",
   "metadata": {},
   "outputs": [
    {
     "data": {
      "text/html": [
       "\n",
       "<link rel=\"stylesheet\" type=\"text/css\" href=\"https://cdn.jsdelivr.net/gh/bmabey/pyLDAvis@3.4.0/pyLDAvis/js/ldavis.v1.0.0.css\">\n",
       "\n",
       "\n",
       "<div id=\"ldavis_el1985620334637401126882854652\" style=\"background-color:white;\"></div>\n",
       "<script type=\"text/javascript\">\n",
       "\n",
       "var ldavis_el1985620334637401126882854652_data = {\"mdsDat\": {\"x\": [-15.867259979248047, 70.42231750488281, -54.4719352722168, -101.88711547851562, 22.866714477539062, -140.7081756591797, 108.87771606445312], \"y\": [5.233802795410156, -89.42822265625, -116.44416809082031, 99.50370788574219, 126.84103393554688, -22.340219497680664, 32.30909729003906], \"topics\": [1, 2, 3, 4, 5, 6, 7], \"cluster\": [1, 1, 1, 1, 1, 1, 1], \"Freq\": [18.393702708422534, 15.805916082895028, 13.92057924511361, 13.290075327171207, 13.16178024776361, 12.824983225491914, 12.602963163142089]}, \"tinfo\": {\"Term\": [\"ukraine\", \"krieg\", \"deutschland\", \"corona\", \"russland\", \"china\", \"putin\", \"russische\", \"berlin\", \"euro\", \"trump\", \"cdu\", \"kiew\", \"frankreich\", \"ex\", \"selenskyj\", \"wm\", \"wahl\", \"invasion\", \"pandemie\", \"liveblog\", \"israel\", \"lage\", \"menschen\", \"moskau\", \"regierung\", \"polen\", \"iran\", \"bundesliga\", \"marktbericht\", \"ukraine\", \"krieg\", \"kiew\", \"moskau\", \"nachrichten\", \"entwicklungen\", \"wagner\", \"liveblog\", \"meldet\", \"morgen\", \"bachmut\", \"krim\", \"armee\", \"angriffe\", \"sudan\", \"ukrainische\", \"saporischschja\", \"kriegsverlauf\", \"russlands\", \"waffen\", \"truppen\", \"front\", \"k\\u00e4mpfe\", \"ukrainekrieg\", \"prigoschin\", \"\\u00fcberblick\", \"belarus\", \"offensive\", \"ukrainer\", \"cherson\", \"selenskyj\", \"russischer\", \"russen\", \"putin\", \"russische\", \"russland\", \"soldaten\", \"russischen\", \"panzer\", \"stimmen\", \"putins\", \"kreml\", \"update\", \"angriff\", \"lage\", \"eu\", \"usa\", \"un\", \"tote\", \"scholz\", \"nato\", \"neue\", \"wahrheit\", \"generation\", \"letzte\", \"donald\", \"trump\", \"gericht\", \"republikaner\", \"boris\", \"kapitol\", \"csu\", \"ausschuss\", \"aiwanger\", \"hamburger\", \"dortmund\", \"for\", \"wolfsburg\", \"bochum\", \"spieltag\", \"hoffenheim\", \"demokraten\", \"fridays\", \"future\", \"porsche\", \"friedrich\", \"cdu\", \"desantis\", \"rb\", \"florida\", \"leipzig\", \"pr\\u00e4sidentschaftswahl\", \"bundesliga\", \"johnson\", \"letzten\", \"schwarz\", \"wahl\", \"maa\\u00dfen\", \"new\", \"york\", \"haft\", \"razzia\", \"prozess\", \"berlin\", \"anklage\", \"urteil\", \"fc\", \"ex\", \"merz\", \"bayern\", \"berliner\", \"union\", \"gewinnt\", \"us\", \"afd\", \"spd\", \"polizei\", \"pr\\u00e4sident\", \"gr\\u00fcne\", \"ohne\", \"chef\", \"scholz\", \"kirche\", \"queen\", \"sparen\", \"saudi\", \"arabien\", \"fehlen\", \"hartz\", \"verbraucher\", \"olympia\", \"iv\", \"ii\", \"11km\", \"19\", \"herr\", \"libyen\", \"katholische\", \"fachkr\\u00e4fte\", \"open\", \"elizabeth\", \"profitieren\", \"long\", \"heizen\", \"teure\", \"fukushima\", \"haus\", \"zinsen\", \"auswahl\", \"suisse\", \"james\", \"staatssekret\\u00e4r\", \"flut\", \"b\\u00fcrgergeld\", \"graichen\", \"inflation\", \"opfer\", \"dollar\", \"menschen\", \"zukunft\", \"regierung\", \"weg\", \"iran\", \"\\u00f6l\", \"prozent\", \"hohe\", \"joe\", \"000\", \"jahr\", \"millionen\", \"folgen\", \"gas\", \"biden\", \"lindner\", \"frauen\", \"deutsche\", \"klimaschutz\", \"habecks\", \"us\", \"angst\", \"geht\", \"jahre\", \"2023\", \"neue\", \"deutschland\", \"habeck\", \"un\", \"welt\", \"klima\", \"wollen\", \"corona\", \"invasion\", \"pandemie\", \"taiwan\", \"chinas\", \"versteher\", \"anleger\", \"rki\", \"inzidenz\", \"economist\", \"affenpocken\", \"lng\", \"partnerportals\", \"who\", \"champions\", \"beitrag\", \"schafft\", \"georgien\", \"schleswig\", \"sri\", \"jinping\", \"holstein\", \"entlastung\", \"f\\u00e4lle\", \"terminal\", \"welle\", \"lanka\", \"city\", \"benedikt\", \"impfung\", \"league\", \"china\", \"finnland\", \"xi\", \"herbst\", \"news\", \"druck\", \"ma\\u00dfnahmen\", \"album\", \"marktbericht\", \"regeln\", \"kritik\", \"lage\", \"analyse\", \"warnt\", \"krise\", \"afd\", \"debatte\", \"ampel\", \"nato\", \"kanzler\", \"lauterbach\", \"habeck\", \"fordert\", \"wegen\", \"scholz\", \"deutschen\", \"ticker\", \"neue\", \"usa\", \"regierung\", \"frankreich\", \"polen\", \"dfb\", \"gabor\", \"steingart\", \"macron\", \"m\\u00fcller\", \"hitze\", \"rentenreform\", \"waldbr\\u00e4nde\", \"erh\\u00f6ht\", \"hugo\", \"vogg\", \"s\\u00fcdkorea\", \"feuert\", \"fischsterben\", \"pokal\", \"gesunken\", \"tschechien\", \"macrons\", \"leichtathletik\", \"leitzins\", \"fifa\", \"lula\", \"million\", \"vierte\", \"klinik\", \"silber\", \"nordkorea\", \"unterst\\u00fctzen\", \"gazprom\", \"mittelmeer\", \"waldbrand\", \"deutschland\", \"gastbeitrag\", \"wm\", \"bolsonaro\", \"spanien\", \"afghanistan\", \"ausstellung\", \"deutlich\", \"brasilien\", \"steinmeier\", \"lauterbach\", \"energiekrise\", \"g7\", \"tote\", \"kommission\", \"katar\", \"fu\\u00dfball\", \"eu\", \"2022\", \"vier\", \"frauen\", \"erneut\", \"usa\", \"habeck\", \"gipfel\", \"gas\", \"scholz\", \"verletzt\", \"ticket\", \"l\\u00fctzerath\", \"unfall\", \"rbb\", \"nahost\", \"taz\", \"lufthansa\", \"aktivisten\", \"wall\", \"49\", \"zugungl\\u00fcck\", \"300\", \"israel\", \"kreis\", \"r\\u00e4umung\", \"au\\u00dfenministerin\", \"eintracht\", \"elon\", \"aktien\", \"vorpommern\", \"libanon\", \"haftbefehl\", \"schlesinger\", \"antwortet\", \"annalena\", \"tickets\", \"europas\", \"verkauft\", \"unf\\u00e4lle\", \"auto\", \"musk\", \"stunden\", \"schwer\", \"euro\", \"nawalny\", \"justizreform\", \"l\\u00e4nder\", \"kinder\", \"luft\", \"verkehr\", \"gestorben\", \"bahn\", \"stirbt\", \"klima\", \"street\", \"zwei\", \"neue\", \"woche\", \"documenta\", \"baerbock\", \"polizei\", \"eu\", \"milliarden\", \"marktbericht\", \"proteste\", \"t\\u00fcrkei\", \"millionen\", \"jahren\", \"iran\", \"fordern\", \"wegen\", \"deutsche\", \"drei\", \"ende\", \"nord\", \"stream\", \"ulrich\", \"reitz\", \"focus\", \"online\", \"wut\", \"schr\\u00f6der\", \"charles\", \"k\\u00f6nig\", \"intelligenz\", \"d\\u00e4nemark\", \"verfahren\", \"k\\u00fcnstliche\", \"harry\", \"wahlrechtsreform\", \"star\", \"politikerin\", \"schauspieler\", \"iii\", \"jan\", \"schuldig\", \"wagenknecht\", \"reportage\", \"altkanzler\", \"pipelines\", \"schwarzer\", \"k\\u00fchnert\", \"bosnien\", \"prinz\", \"mensch\", \"bundestag\", \"fehler\", \"beh\\u00f6rden\", \"merkel\", \"tot\", \"serie\", \"koalition\", \"buch\", \"streit\", \"wahlen\", \"kolumne\", \"t\\u00fcrkei\", \"gr\\u00fcnen\", \"analyse\", \"fdp\", \"linke\", \"erdogan\", \"frage\", \"ampel\", \"geld\", \"wegen\", \"scholz\", \"ex\", \"spd\", \"kommentar\", \"russland\", \"deutscher\"], \"Freq\": [4471.0, 2487.0, 1489.0, 1152.0, 1590.0, 988.0, 1222.0, 869.0, 939.0, 709.0, 608.0, 529.0, 496.0, 392.0, 661.0, 476.0, 475.0, 472.0, 357.0, 356.0, 426.0, 335.0, 560.0, 491.0, 387.0, 505.0, 309.0, 435.0, 348.0, 432.0, 4470.120046976542, 2486.4510433573296, 495.58194111523875, 386.43630553572063, 328.27508323272957, 282.9822803812195, 277.4360160126364, 424.69720506419134, 217.2991028878748, 201.6394041384513, 193.32056691057164, 192.39616766013083, 169.2639084292515, 157.27076098136158, 157.26959666740075, 243.6469390668157, 139.70838237159057, 136.01108141079646, 283.96285593308244, 207.63776454003835, 125.84312308235633, 121.22109580306909, 117.52391162054165, 117.52384093421362, 116.5994632660312, 134.9306835080115, 116.55132124672198, 109.20451276383423, 119.24986398476436, 99.03701291648287, 469.50786526480056, 345.60505619700507, 342.1589891422474, 1139.1629877195292, 812.4026829705251, 1444.4770097431533, 216.42167110692068, 171.56663721616619, 210.1902548831488, 316.8183567733173, 409.93070527350875, 225.32335009783472, 248.13394379752688, 265.9229150353812, 304.02954305420747, 439.6994549351274, 337.6035062879435, 244.99304681575816, 259.1146085362454, 270.9675592379349, 225.73146190584433, 230.2478614644867, 306.9658397683831, 258.6601121148565, 256.66419214759514, 139.180878896446, 604.2104046687382, 280.8440541687807, 116.0059436266053, 137.98403845038473, 99.31699926232125, 99.31657986009836, 81.70629708323301, 121.07647466059223, 70.58286515853129, 65.02074820009223, 57.59440264143649, 56.678293058199415, 50.18971439799317, 51.983611233178856, 49.241314615916124, 46.481623625063726, 46.48146158132327, 44.62755673721879, 43.70038405359791, 43.69987251865577, 519.7894245592341, 42.77359162941855, 42.77352542180662, 40.91947867124146, 172.704481666674, 39.991135542602365, 340.16622279947654, 184.67412934831077, 95.2642828453232, 78.26170273963328, 440.3585909333246, 53.42571166045716, 124.02414990513057, 98.36490322883142, 233.3254301578604, 127.31204787864797, 181.26139124670152, 778.0939217836394, 143.21596338992973, 184.54524884956876, 161.75165443021834, 495.8604382169816, 213.5299539525353, 371.48387185051644, 187.8703914639581, 228.3299271451076, 185.59696880676157, 597.3755955208954, 309.9467329810239, 272.22107348000134, 189.3226582644736, 196.7913401386146, 173.21718355531215, 178.15804636600748, 173.7492999331428, 173.36589018094836, 150.16769110822915, 146.4412493607, 115.68847961508108, 81.20828289044597, 77.48071295573274, 70.02501965033774, 62.57028542173011, 62.56907510188463, 61.638022661412535, 60.706494833017565, 59.772874633223005, 56.04691019408165, 90.03335003819454, 55.11425532303291, 53.233765796143125, 48.59156696882051, 44.86367900858375, 43.9321823561177, 43.000358864905785, 42.06807517828568, 40.20411666206776, 36.47691000854304, 35.5445443635317, 31.808426976746404, 115.38808982618613, 29.953361969968707, 29.953125865723894, 28.089673049115195, 28.08966331469083, 27.157764079385043, 48.168897082197994, 107.19322471787649, 66.85138705519643, 255.64747012782277, 108.42662869095845, 93.2161756142035, 375.9840427467812, 149.0876111480212, 360.87364763311393, 229.55472018409836, 305.2436908627709, 101.91597297067001, 220.84934032408026, 117.75202965054893, 85.93413373361246, 231.57844815085485, 158.38426670891377, 213.28232651405594, 141.98273518935275, 239.0598327294587, 221.95318292568112, 173.30892176544515, 217.45726823067272, 263.4578501449054, 103.97173223286003, 109.49007401228418, 287.39964243689576, 132.64419441148664, 196.093837210817, 155.73716646049584, 131.89668630797695, 219.37159271719526, 231.62912174336176, 163.68383835571433, 145.54474668073067, 127.38937193779658, 128.84993274705863, 122.94678693177184, 1151.758583063138, 356.37028503823257, 355.428997786412, 257.3293172313063, 197.10117409186586, 123.59213984558309, 88.72225575982661, 79.29814968812973, 78.35593648030246, 75.52830098807931, 74.58590374254737, 84.78013368647596, 65.16163286729615, 60.44823111828491, 79.02114138131918, 56.67949690562539, 53.8520264220873, 52.9098002228826, 51.967611702219095, 51.02531970626899, 51.02530076126529, 51.025086034661825, 49.12339661910445, 47.25522812978965, 44.428249392919355, 64.78421483633518, 43.48588742004913, 41.6006102602627, 38.77355301506557, 66.35046003294798, 165.68613489065717, 938.715607846416, 95.37841058277911, 164.98231297065686, 133.51423720052398, 202.4374820373701, 171.49609483845842, 101.23257187520727, 64.96408465738824, 262.8217166193611, 112.31579995535562, 235.45571842218644, 255.74877890560256, 191.73379385376023, 183.95862197682933, 142.91549412542142, 220.1981141275544, 152.36870177934708, 206.78373395328364, 165.3186292784236, 116.31459591269555, 140.00221716537249, 169.64546002999077, 153.01419719168746, 168.11710779501277, 181.4300299065216, 131.98652526560116, 125.52518320033988, 148.98656931636762, 141.90130640258013, 125.64712429225283, 391.6513352904304, 308.52051096311015, 248.72539427351043, 186.1101995469887, 186.11019954698867, 167.41767729873487, 124.42904330293698, 119.75624263625936, 90.78539593653653, 88.91584582993548, 81.41675454040195, 77.70141957580017, 74.89774129522638, 70.22422880622653, 60.87888704079807, 58.075613320858636, 51.53358371572755, 55.206397695373, 44.991160290914564, 43.12241734115965, 46.75831034788808, 41.25369905235673, 43.056432607457225, 38.44977090121257, 37.51475176534076, 36.57989826723642, 34.69964634932509, 33.77715399501249, 165.0310822521469, 31.906933827611404, 67.40667684639833, 45.58122820873913, 58.865633786050914, 1253.205925089381, 278.65529994318524, 392.42033441360223, 52.42332510735038, 141.11458736419777, 150.62248283899694, 61.91313625049236, 133.7387434444381, 99.4801824769854, 90.15534741647875, 186.71388987035144, 126.80110855750313, 157.20491268615132, 233.515301458709, 86.9695551569083, 104.9916300204603, 151.89706583581827, 320.26720253853676, 129.6478724470892, 121.82980885132577, 161.47208891793963, 135.304115438333, 201.51077290686612, 149.1420484988304, 129.69362216654284, 133.50196589408657, 137.6203022494573, 197.0619545162713, 195.18683193053826, 153.9253642779491, 168.7222592874303, 90.1580684909906, 82.65596639159014, 81.71833122673233, 81.71553262897245, 101.20880352275042, 70.46547097998759, 68.58991867799506, 60.14975893434672, 59.20317855997956, 330.78061579684083, 56.35664582030598, 50.77240662029111, 49.83390674036123, 49.821956246457674, 47.95908032233093, 45.14560372619932, 44.20824794788475, 44.2079358809229, 43.26964359583121, 40.45574134252342, 40.45378085195333, 39.5189423612973, 37.64374097864742, 100.06274454655406, 36.70554300890102, 35.76756796158961, 171.93068100825866, 107.7753936058412, 81.00222751726123, 135.44540818651654, 591.239948887903, 52.50414469479836, 92.15241971956247, 194.2929662277831, 249.5012070188867, 58.32756005573672, 104.66055950722979, 171.9282872539564, 194.17779848837762, 103.53911529086368, 238.51023338767845, 73.22095361162295, 247.36998700481192, 358.70465132271977, 115.58401280234395, 80.05461337830542, 189.39944559392188, 177.7464882120026, 334.9528207033505, 135.9311513755484, 169.17847240227115, 136.89548120622578, 146.75469153910464, 137.0991381850764, 126.34804513567573, 129.16292208513178, 113.43182370531046, 138.46393030269107, 130.0197162208098, 114.16439822971736, 115.33460509182193, 233.93704248767548, 210.27292736436135, 194.1813113259924, 191.34163140120336, 122.24200544409675, 139.08961628822917, 109.92324615742588, 124.00688079306458, 98.57779774062196, 89.00042107793875, 73.96663568634575, 68.28737764791924, 62.60772461922585, 61.65759012301015, 58.82214625780187, 58.820031245943504, 59.72853538042471, 56.91619715588507, 53.12861767915102, 48.409947521776026, 47.463038086906124, 49.30860391903108, 118.06748945475007, 43.676670753560465, 42.7304006558153, 42.7302792961904, 42.730003881371736, 41.78331281917469, 37.99750495982892, 37.99737764135235, 48.180255866334825, 218.1712889668767, 122.29204876373335, 84.9535914558659, 114.42198426861178, 171.29918009804697, 98.47276156403424, 131.07375459620064, 76.98067831579162, 235.06252537365546, 125.13337430828511, 96.86715363560548, 223.26976858183303, 188.26435668158865, 182.0766449057879, 165.16419531001964, 105.02756601928628, 99.77559689016711, 85.44475711305955, 192.2388625998619, 120.04285113109964, 164.91166054621627, 173.81976906277686, 137.47878552576984, 128.23748569559797, 115.42155956017156, 130.60472608051307, 102.40538258961226], \"Total\": [4471.0, 2487.0, 1489.0, 1152.0, 1590.0, 988.0, 1222.0, 869.0, 939.0, 709.0, 608.0, 529.0, 496.0, 392.0, 661.0, 476.0, 475.0, 472.0, 357.0, 356.0, 426.0, 335.0, 560.0, 491.0, 387.0, 505.0, 309.0, 435.0, 348.0, 432.0, 4471.084766148245, 2487.4344046892093, 496.385450342422, 387.31344496613536, 329.07846750363615, 283.7854146161251, 278.2393289858055, 426.1420155696242, 218.15715956730267, 202.44279749988291, 194.12366191109933, 193.19931528089342, 170.09104705876882, 158.07409381902386, 158.0741080514417, 244.9727915304294, 140.5114806906279, 136.81408730619276, 285.6432212456126, 208.91714698142292, 126.64626177690414, 122.0245263165474, 118.32713103232678, 118.32713252427547, 117.40278494579228, 135.89278752656975, 117.40394003938219, 110.00800364583317, 120.17819824982168, 99.84017091956798, 476.1131785126608, 351.2834801069397, 351.3340631808826, 1222.9566961605037, 869.0444619224496, 1590.3877471354376, 223.7743527257999, 177.56177942811868, 226.6468561576521, 363.4099266703897, 498.2741213397211, 250.14825174336988, 287.1041723703364, 328.3600659075661, 560.4470967655825, 1415.8094671122483, 1004.7597043443928, 393.134638392498, 638.4067410064566, 1012.2630265393873, 417.61499113218343, 1065.603353266044, 307.769162571665, 259.56613972137393, 257.71304502113884, 139.98367852938154, 608.1799238390174, 282.7486674578081, 116.8088899990654, 139.06235948848598, 100.12310942245287, 100.12308795891924, 82.5102209279443, 122.37879661496183, 71.38630758138174, 65.82436797796484, 58.40850964105458, 57.481431295239496, 50.992485191834675, 52.8476987134407, 50.06594274727923, 47.28451895877401, 47.28452149049355, 45.430535740720146, 44.50354916772247, 44.50355797052968, 529.5039923781848, 43.57655381268178, 43.5765557070725, 41.72257180317198, 176.1678506296766, 40.7955936813543, 348.64976672441264, 189.17539521788078, 98.27133260813464, 80.6898285068555, 472.4922032054415, 54.70588566822189, 130.79247056629285, 102.94709249268396, 255.05805266951498, 135.50028905114723, 198.50364293779504, 939.9501327439657, 155.9890279552596, 206.89333936098447, 182.00373430917875, 661.8597818150455, 257.4914527849493, 508.05290344649916, 233.10417432362286, 311.9053739866892, 241.8537436613695, 1295.189123860047, 578.3342172204672, 488.9085364679756, 406.9044990229249, 467.3013224950857, 352.381588509783, 505.61484008688205, 582.1319807330061, 1012.2630265393873, 150.9712918211598, 147.2436802491796, 116.49088773055783, 82.01048121755487, 78.28286976544675, 70.82764821865665, 63.372425083406654, 63.372433030393296, 62.44052522860236, 61.50861968464773, 60.57673165147537, 56.84910577338602, 91.32691899071092, 55.91720782559235, 54.05350330857161, 49.393884781206644, 45.66627557329522, 44.73436831663414, 43.80246730516763, 42.87056540940944, 41.006764379348034, 37.279147183183454, 36.34724528404904, 32.619585932042206, 118.33747898200863, 30.75583066663745, 30.755829190790724, 28.892024095689003, 28.89202593502639, 27.96012135078139, 50.318648519600565, 115.56705192706482, 71.80591428341869, 300.5561125646445, 122.17856724169594, 104.51658365087229, 491.5262480306745, 176.52362091278223, 505.7932372145908, 304.89895532426823, 435.07510185553616, 122.34770712662865, 352.2644399755474, 159.6646782457951, 106.1371923301454, 413.4219374164124, 247.74971666645396, 381.5133652817279, 215.15135840966838, 474.70906904427386, 451.099136698374, 315.24602275518123, 467.8083104944754, 689.4455949154204, 147.7536656872017, 164.6960383112018, 1295.189123860047, 256.5792726760273, 651.6837032335088, 391.5165695016836, 261.03975901001064, 1065.603353266044, 1489.9255287028116, 545.4479088649139, 393.134638392498, 277.6046260085899, 401.79463169432995, 432.3384918670497, 1152.5796140377508, 357.17204028833385, 356.22963815171573, 258.2156295950116, 197.90202102778744, 124.39277429247913, 89.52300281009116, 80.09874054591818, 79.15631596367587, 76.32903196288983, 75.38660727469025, 85.75139043894781, 65.9623431123531, 61.250202465256336, 80.09420316100737, 57.480505738134994, 54.653224998695364, 53.71079943622056, 52.768376624247736, 51.82595142204646, 51.82595119436498, 51.82594827249938, 49.94077993955161, 48.05624330184163, 45.228966113374035, 65.96018917571881, 44.28654108347981, 42.40168384863959, 39.574406450238016, 67.84368367835285, 169.5777706861901, 988.606340455024, 98.95698647887544, 179.72328330241723, 150.6432482321866, 276.52857549474265, 227.49704407426523, 119.5692676400659, 70.6073211720051, 432.66670986470183, 152.59220348490987, 480.38397955533816, 560.4470967655825, 412.2654346104558, 388.11091261144804, 257.287410668268, 578.3342172204672, 304.85628423259334, 588.5201985401045, 417.61499113218343, 205.84979826547917, 328.2562972928629, 545.4479088649139, 571.4412198986881, 780.7404844939209, 1012.2630265393873, 368.60929647401963, 302.84049334668174, 1065.603353266044, 1004.7597043443928, 505.7932372145908, 392.5142293277897, 309.33888699798706, 249.5273560643617, 186.9119714276327, 186.9119714276326, 168.22081844385778, 125.23114664369325, 120.55835743031626, 91.58705903183623, 89.71794464750002, 82.24176548239335, 78.50324890715024, 75.69957510678015, 71.0267852719339, 61.681198868970114, 58.87753088442613, 52.335622824923135, 56.07408106064357, 45.79371523570989, 43.92460685868695, 47.66200491012192, 42.055486718961255, 43.924829585445224, 39.25181125380284, 38.31725375746457, 37.382702003458384, 35.51353594437341, 34.57902208259326, 169.18333884768163, 32.70990859825302, 69.1656551648058, 46.72945722359279, 60.75033930635, 1489.9255287028116, 323.23553697841, 475.80358107868153, 55.145846741975305, 174.21883725294, 190.3225560161164, 68.24196054376942, 180.509435655929, 131.08298253137644, 116.74621987833676, 328.2562972928629, 202.45447604488908, 295.08412352957214, 638.4067410064566, 117.8313055253126, 166.69694489189433, 330.699743942436, 1415.8094671122483, 250.52254092732906, 231.76026880127816, 467.8083104944754, 315.8033928582246, 1004.7597043443928, 545.4479088649139, 361.85575403460024, 474.70906904427386, 1012.2630265393873, 197.86369555634295, 195.9881867852375, 154.7269206348498, 169.73112216051447, 90.9595108818728, 83.45746295320092, 82.51970824246932, 82.5196775174968, 102.21274175772224, 71.26663664792282, 69.39112435059968, 60.95131740838652, 60.01343665207823, 335.6569593895573, 57.20013530005537, 51.57375973898801, 50.63599942635193, 50.6359233834482, 48.7604910964844, 45.94722311552668, 45.00946828687128, 45.009467769593364, 44.07170088877779, 41.25843669081513, 41.25841092343556, 40.32068548127868, 38.44517536597416, 102.193354340166, 37.50741473618673, 36.56965487927879, 179.10024948508726, 112.48395717503067, 85.35054662457917, 146.28754079218322, 709.1546249285193, 54.37497214656255, 99.43091771751392, 224.8429889988214, 315.60222482849116, 62.804667549683195, 131.47775471732635, 249.11238767624775, 293.19788996249736, 130.9848413290034, 401.79463169432995, 87.05712515883285, 513.4027193157563, 1065.603353266044, 177.13685489846858, 99.53194022712066, 444.52989464261276, 406.9044990229249, 1415.8094671122483, 261.90110100185666, 432.66670986470183, 315.23958666482764, 435.5904302370899, 381.5133652817279, 289.6010582727277, 435.07510185553616, 217.03925275828823, 780.7404844939209, 689.4455949154204, 345.1440857483606, 454.768804456834, 234.73718238791307, 211.07298720927102, 194.98133617890124, 192.14163279072739, 123.04217874914171, 140.07744812238695, 110.73659055556189, 124.93230221407663, 99.37798238013218, 89.90999384034187, 74.76721043061835, 69.08780832931355, 63.40839725351168, 62.46180020450232, 59.62213768291804, 59.62209533230086, 60.56851815281687, 57.72874494492647, 53.94252173962989, 49.2098917794028, 48.26332021009083, 50.15547069386213, 120.17486544569877, 44.47704534352564, 43.530481010690465, 43.5304796037552, 43.53047541270582, 42.58390767408568, 38.797641792846974, 38.79763964186316, 49.20697263009015, 257.2582613862208, 141.53825871413918, 98.1973539732562, 145.201758565403, 241.991578467658, 122.6551416029258, 187.15534772156238, 92.6212864243006, 418.88088538829027, 181.51606741639378, 127.56577916541299, 435.5904302370899, 343.2209145677184, 412.2654346104558, 355.41798108616763, 161.82369653358202, 152.1337663489619, 113.91481244655074, 588.5201985401045, 269.89704004229714, 780.7404844939209, 1012.2630265393873, 661.8597818150455, 488.9085364679756, 308.6316631722947, 1590.3877471354376, 210.85521350692088], \"Category\": [\"Default\", \"Default\", \"Default\", \"Default\", \"Default\", \"Default\", \"Default\", \"Default\", \"Default\", \"Default\", \"Default\", \"Default\", \"Default\", \"Default\", \"Default\", \"Default\", \"Default\", \"Default\", \"Default\", \"Default\", \"Default\", \"Default\", \"Default\", \"Default\", \"Default\", \"Default\", \"Default\", \"Default\", \"Default\", \"Default\", \"Topic1\", \"Topic1\", \"Topic1\", \"Topic1\", \"Topic1\", \"Topic1\", \"Topic1\", \"Topic1\", \"Topic1\", \"Topic1\", \"Topic1\", \"Topic1\", \"Topic1\", \"Topic1\", \"Topic1\", \"Topic1\", \"Topic1\", \"Topic1\", \"Topic1\", \"Topic1\", \"Topic1\", \"Topic1\", \"Topic1\", \"Topic1\", \"Topic1\", \"Topic1\", \"Topic1\", \"Topic1\", \"Topic1\", \"Topic1\", \"Topic1\", \"Topic1\", \"Topic1\", \"Topic1\", \"Topic1\", \"Topic1\", \"Topic1\", \"Topic1\", \"Topic1\", \"Topic1\", \"Topic1\", \"Topic1\", \"Topic1\", \"Topic1\", \"Topic1\", \"Topic1\", \"Topic1\", \"Topic1\", \"Topic1\", \"Topic1\", \"Topic1\", \"Topic1\", \"Topic2\", \"Topic2\", \"Topic2\", \"Topic2\", \"Topic2\", \"Topic2\", \"Topic2\", \"Topic2\", \"Topic2\", \"Topic2\", \"Topic2\", \"Topic2\", \"Topic2\", \"Topic2\", \"Topic2\", \"Topic2\", \"Topic2\", \"Topic2\", \"Topic2\", \"Topic2\", \"Topic2\", \"Topic2\", \"Topic2\", \"Topic2\", \"Topic2\", \"Topic2\", \"Topic2\", \"Topic2\", \"Topic2\", \"Topic2\", \"Topic2\", \"Topic2\", \"Topic2\", \"Topic2\", \"Topic2\", \"Topic2\", \"Topic2\", \"Topic2\", \"Topic2\", \"Topic2\", \"Topic2\", \"Topic2\", \"Topic2\", \"Topic2\", \"Topic2\", \"Topic2\", \"Topic2\", \"Topic2\", \"Topic2\", \"Topic2\", \"Topic2\", \"Topic2\", \"Topic2\", \"Topic2\", \"Topic2\", \"Topic2\", \"Topic2\", \"Topic2\", \"Topic2\", \"Topic2\", \"Topic3\", \"Topic3\", \"Topic3\", \"Topic3\", \"Topic3\", \"Topic3\", \"Topic3\", \"Topic3\", \"Topic3\", \"Topic3\", \"Topic3\", \"Topic3\", \"Topic3\", \"Topic3\", \"Topic3\", \"Topic3\", \"Topic3\", \"Topic3\", \"Topic3\", \"Topic3\", \"Topic3\", \"Topic3\", \"Topic3\", \"Topic3\", \"Topic3\", \"Topic3\", \"Topic3\", \"Topic3\", \"Topic3\", \"Topic3\", \"Topic3\", \"Topic3\", \"Topic3\", \"Topic3\", \"Topic3\", \"Topic3\", \"Topic3\", \"Topic3\", \"Topic3\", \"Topic3\", \"Topic3\", \"Topic3\", \"Topic3\", \"Topic3\", \"Topic3\", \"Topic3\", \"Topic3\", \"Topic3\", \"Topic3\", \"Topic3\", \"Topic3\", \"Topic3\", \"Topic3\", \"Topic3\", \"Topic3\", \"Topic3\", \"Topic3\", \"Topic3\", \"Topic3\", \"Topic3\", \"Topic3\", \"Topic3\", \"Topic3\", \"Topic3\", \"Topic3\", \"Topic3\", \"Topic3\", \"Topic3\", \"Topic4\", \"Topic4\", \"Topic4\", \"Topic4\", \"Topic4\", \"Topic4\", \"Topic4\", \"Topic4\", \"Topic4\", \"Topic4\", \"Topic4\", \"Topic4\", \"Topic4\", \"Topic4\", \"Topic4\", \"Topic4\", \"Topic4\", \"Topic4\", \"Topic4\", \"Topic4\", \"Topic4\", \"Topic4\", \"Topic4\", \"Topic4\", \"Topic4\", \"Topic4\", \"Topic4\", \"Topic4\", \"Topic4\", \"Topic4\", \"Topic4\", \"Topic4\", \"Topic4\", \"Topic4\", \"Topic4\", \"Topic4\", \"Topic4\", \"Topic4\", \"Topic4\", \"Topic4\", \"Topic4\", \"Topic4\", \"Topic4\", \"Topic4\", \"Topic4\", \"Topic4\", \"Topic4\", \"Topic4\", \"Topic4\", \"Topic4\", \"Topic4\", \"Topic4\", \"Topic4\", \"Topic4\", \"Topic4\", \"Topic4\", \"Topic4\", \"Topic4\", \"Topic4\", \"Topic4\", \"Topic4\", \"Topic5\", \"Topic5\", \"Topic5\", \"Topic5\", \"Topic5\", \"Topic5\", \"Topic5\", \"Topic5\", \"Topic5\", \"Topic5\", \"Topic5\", \"Topic5\", \"Topic5\", \"Topic5\", \"Topic5\", \"Topic5\", \"Topic5\", \"Topic5\", \"Topic5\", \"Topic5\", \"Topic5\", \"Topic5\", \"Topic5\", \"Topic5\", \"Topic5\", \"Topic5\", \"Topic5\", \"Topic5\", \"Topic5\", \"Topic5\", \"Topic5\", \"Topic5\", \"Topic5\", \"Topic5\", \"Topic5\", \"Topic5\", \"Topic5\", \"Topic5\", \"Topic5\", \"Topic5\", \"Topic5\", \"Topic5\", \"Topic5\", \"Topic5\", \"Topic5\", \"Topic5\", \"Topic5\", \"Topic5\", \"Topic5\", \"Topic5\", \"Topic5\", \"Topic5\", \"Topic5\", \"Topic5\", \"Topic5\", \"Topic5\", \"Topic5\", \"Topic5\", \"Topic5\", \"Topic5\", \"Topic6\", \"Topic6\", \"Topic6\", \"Topic6\", \"Topic6\", \"Topic6\", \"Topic6\", \"Topic6\", \"Topic6\", \"Topic6\", \"Topic6\", \"Topic6\", \"Topic6\", \"Topic6\", \"Topic6\", \"Topic6\", \"Topic6\", \"Topic6\", \"Topic6\", \"Topic6\", \"Topic6\", \"Topic6\", \"Topic6\", \"Topic6\", \"Topic6\", \"Topic6\", \"Topic6\", \"Topic6\", \"Topic6\", \"Topic6\", \"Topic6\", \"Topic6\", \"Topic6\", \"Topic6\", \"Topic6\", \"Topic6\", \"Topic6\", \"Topic6\", \"Topic6\", \"Topic6\", \"Topic6\", \"Topic6\", \"Topic6\", \"Topic6\", \"Topic6\", \"Topic6\", \"Topic6\", \"Topic6\", \"Topic6\", \"Topic6\", \"Topic6\", \"Topic6\", \"Topic6\", \"Topic6\", \"Topic6\", \"Topic6\", \"Topic6\", \"Topic6\", \"Topic6\", \"Topic6\", \"Topic6\", \"Topic6\", \"Topic6\", \"Topic6\", \"Topic6\", \"Topic7\", \"Topic7\", \"Topic7\", \"Topic7\", \"Topic7\", \"Topic7\", \"Topic7\", \"Topic7\", \"Topic7\", \"Topic7\", \"Topic7\", \"Topic7\", \"Topic7\", \"Topic7\", \"Topic7\", \"Topic7\", \"Topic7\", \"Topic7\", \"Topic7\", \"Topic7\", \"Topic7\", \"Topic7\", \"Topic7\", \"Topic7\", \"Topic7\", \"Topic7\", \"Topic7\", \"Topic7\", \"Topic7\", \"Topic7\", \"Topic7\", \"Topic7\", \"Topic7\", \"Topic7\", \"Topic7\", \"Topic7\", \"Topic7\", \"Topic7\", \"Topic7\", \"Topic7\", \"Topic7\", \"Topic7\", \"Topic7\", \"Topic7\", \"Topic7\", \"Topic7\", \"Topic7\", \"Topic7\", \"Topic7\", \"Topic7\", \"Topic7\", \"Topic7\", \"Topic7\", \"Topic7\", \"Topic7\", \"Topic7\", \"Topic7\", \"Topic7\"], \"logprob\": [30.0, 29.0, 28.0, 27.0, 26.0, 25.0, 24.0, 23.0, 22.0, 21.0, 20.0, 19.0, 18.0, 17.0, 16.0, 15.0, 14.0, 13.0, 12.0, 11.0, 10.0, 9.0, 8.0, 7.0, 6.0, 5.0, 4.0, 3.0, 2.0, 1.0, -2.6761, -3.2626, -4.8755, -5.1243, -5.2874, -5.4358, -5.4556, -5.0298, -5.7, -5.7747, -5.8169, -5.8217, -5.9498, -6.0233, -6.0233, -5.5855, -6.1417, -6.1685, -5.4324, -5.7454, -6.2462, -6.2836, -6.3146, -6.3146, -6.3225, -6.1765, -6.3229, -6.388, -6.3, -6.4857, -4.9295, -5.2359, -5.246, -4.0432, -4.3812, -3.8057, -5.704, -5.9363, -5.7332, -5.3229, -5.0652, -5.6637, -5.5673, -5.498, -5.3641, -4.9951, -5.2594, -5.58, -5.524, -5.4792, -5.6619, -5.6421, -5.2029, -5.3741, -5.3818, -5.9938, -4.5257, -5.2918, -6.176, -6.0025, -6.3313, -6.3313, -6.5265, -6.1332, -6.6728, -6.7549, -6.8762, -6.8922, -7.0138, -6.9787, -7.0329, -7.0905, -7.0905, -7.1313, -7.1522, -7.1523, -4.6762, -7.1737, -7.1737, -7.218, -5.778, -7.2409, -5.1002, -5.711, -6.3729, -6.5695, -4.842, -6.9513, -6.1091, -6.3409, -5.4772, -6.083, -5.7297, -4.2728, -5.9652, -5.7117, -5.8435, -4.7233, -5.5658, -5.0121, -5.6938, -5.4988, -5.706, -4.5371, -5.1932, -5.323, -5.6861, -5.6475, -5.7751, -5.7469, -5.772, -5.7742, -5.7908, -5.816, -6.0517, -6.4056, -6.4526, -6.5537, -6.6663, -6.6663, -6.6813, -6.6965, -6.712, -6.7764, -6.3024, -6.7932, -6.8279, -6.9191, -6.999, -7.0199, -7.0414, -7.0633, -7.1086, -7.2059, -7.2318, -7.3429, -6.0543, -7.4029, -7.403, -7.4672, -7.4672, -7.5009, -6.9279, -6.128, -6.6001, -5.2588, -6.1165, -6.2677, -4.873, -5.7981, -4.9141, -5.3664, -5.0815, -6.1784, -5.4051, -6.034, -6.349, -5.3577, -5.7376, -5.44, -5.8469, -5.3259, -5.4001, -5.6475, -5.4206, -5.2287, -6.1585, -6.1068, -5.1417, -5.9149, -5.524, -5.7544, -5.9206, -5.4118, -5.3574, -5.7046, -5.8221, -5.9553, -5.9439, -5.9908, -3.7072, -4.8803, -4.8829, -5.2059, -5.4725, -5.9392, -6.2707, -6.383, -6.395, -6.4317, -6.4443, -6.3162, -6.5794, -6.6544, -6.3865, -6.7188, -6.77, -6.7876, -6.8056, -6.8239, -6.8239, -6.8239, -6.8619, -6.9007, -6.9624, -6.5852, -6.9838, -7.0281, -7.0985, -6.5613, -5.6461, -3.9117, -6.1984, -5.6504, -5.862, -5.4458, -5.6117, -6.1388, -6.5824, -5.1848, -6.0349, -5.2947, -5.212, -5.5001, -5.5415, -5.794, -5.3617, -5.7299, -5.4246, -5.6484, -5.9999, -5.8146, -5.6225, -5.7257, -5.6316, -5.5554, -5.8735, -5.9237, -5.7524, -5.8011, -5.9228, -4.7762, -5.0147, -5.2302, -5.5202, -5.5202, -5.626, -5.9228, -5.9611, -6.238, -6.2588, -6.347, -6.3937, -6.4304, -6.4948, -6.6376, -6.6848, -6.8043, -6.7355, -6.9401, -6.9825, -6.9015, -7.0268, -6.984, -7.0972, -7.1218, -7.147, -7.1998, -7.2267, -5.6404, -7.2837, -6.5358, -6.927, -6.6713, -3.6131, -5.1166, -4.7742, -6.7872, -5.797, -5.7318, -6.6208, -5.8506, -6.1466, -6.245, -5.517, -5.9039, -5.689, -5.2933, -6.281, -6.0927, -5.7233, -4.9774, -5.8817, -5.9439, -5.6622, -5.839, -5.4407, -5.7416, -5.8814, -5.8524, -5.822, -5.4371, -5.4467, -5.6841, -5.5924, -6.219, -6.3059, -6.3173, -6.3174, -6.1034, -6.4655, -6.4925, -6.6238, -6.6396, -4.9192, -6.6889, -6.7933, -6.8119, -6.8122, -6.8503, -6.9107, -6.9317, -6.9317, -6.9532, -7.0204, -7.0205, -7.0438, -7.0924, -6.1148, -7.1177, -7.1436, -5.5735, -6.0406, -6.3261, -5.812, -4.3384, -6.7597, -6.1972, -5.4512, -5.2011, -6.6545, -6.0699, -5.5735, -5.4518, -6.0807, -5.2462, -6.4271, -5.2097, -4.8381, -5.9706, -6.3379, -5.4768, -5.5403, -4.9066, -5.8085, -5.5897, -5.8014, -5.7319, -5.7999, -5.8816, -5.8595, -5.9894, -5.79, -5.8529, -5.983, -5.9728, -5.2481, -5.3547, -5.4344, -5.4491, -5.8971, -5.768, -6.0034, -5.8828, -6.1123, -6.2145, -6.3995, -6.4794, -6.5663, -6.5816, -6.6286, -6.6287, -6.6133, -6.6616, -6.7304, -6.8234, -6.8432, -6.8051, -5.9319, -6.9263, -6.9482, -6.9482, -6.9482, -6.9707, -7.0656, -7.0656, -6.8282, -5.3179, -5.8967, -6.261, -5.9633, -5.5597, -6.1134, -5.8274, -6.3596, -5.2433, -5.8738, -6.1298, -5.2948, -5.4653, -5.4987, -5.5962, -6.0489, -6.1002, -6.2553, -5.4444, -5.9153, -5.5977, -5.5451, -5.7797, -5.8493, -5.9546, -5.831, -6.0742], \"loglift\": [30.0, 29.0, 28.0, 27.0, 26.0, 25.0, 24.0, 23.0, 22.0, 21.0, 20.0, 19.0, 18.0, 17.0, 16.0, 15.0, 14.0, 13.0, 12.0, 11.0, 10.0, 9.0, 8.0, 7.0, 6.0, 5.0, 4.0, 3.0, 2.0, 1.0, 1.6929, 1.6928, 1.6915, 1.6909, 1.6907, 1.6903, 1.6903, 1.6898, 1.6892, 1.6892, 1.689, 1.689, 1.6883, 1.6881, 1.6881, 1.6877, 1.6874, 1.6873, 1.6873, 1.687, 1.6868, 1.6866, 1.6864, 1.6863, 1.6863, 1.6861, 1.6859, 1.6858, 1.6854, 1.6851, 1.6792, 1.6769, 1.6667, 1.6222, 1.6258, 1.5969, 1.6598, 1.6588, 1.6178, 1.556, 1.498, 1.5886, 1.5473, 1.4823, 1.0816, 0.5238, 0.6025, 1.2202, 0.7915, 0.3752, 1.0779, 0.161, 1.8422, 1.8413, 1.8407, 1.839, 1.8382, 1.838, 1.8379, 1.837, 1.8367, 1.8367, 1.835, 1.8341, 1.8335, 1.8325, 1.8307, 1.8307, 1.8289, 1.8283, 1.8282, 1.8277, 1.8277, 1.827, 1.8266, 1.8266, 1.8263, 1.8262, 1.8262, 1.8253, 1.8249, 1.8249, 1.8202, 1.8207, 1.8137, 1.8142, 1.7744, 1.8211, 1.7917, 1.7993, 1.7557, 1.7825, 1.7539, 1.6558, 1.7594, 1.7305, 1.7268, 1.556, 1.6576, 1.5317, 1.6291, 1.5329, 1.58, 1.0709, 1.221, 1.2592, 1.0797, 0.98, 1.1346, 0.8017, 0.6357, 0.0802, 1.9665, 1.9663, 1.9649, 1.962, 1.9615, 1.9604, 1.9591, 1.959, 1.9589, 1.9587, 1.9584, 1.9576, 1.9575, 1.9573, 1.9565, 1.9554, 1.9541, 1.9537, 1.9533, 1.9529, 1.952, 1.95, 1.9495, 1.9466, 1.9466, 1.9454, 1.9454, 1.9436, 1.9436, 1.9427, 1.9281, 1.8966, 1.9003, 1.81, 1.8524, 1.8574, 1.7038, 1.8029, 1.6342, 1.688, 1.6174, 1.7891, 1.5049, 1.6673, 1.7607, 1.3923, 1.5244, 1.3903, 1.5562, 1.2858, 1.2626, 1.3735, 1.2057, 1.0098, 1.6204, 1.5635, 0.4663, 1.312, 0.7708, 1.0499, 1.2891, 0.3913, 0.1105, 0.7681, 0.9781, 1.1929, 0.8345, 0.7143, 2.0174, 2.0159, 2.0159, 2.0147, 2.0141, 2.0117, 2.0092, 2.0081, 2.008, 2.0076, 2.0075, 2.0068, 2.0059, 2.005, 2.0047, 2.0041, 2.0034, 2.0031, 2.0029, 2.0026, 2.0026, 2.0026, 2.0017, 2.0013, 2.0003, 2.0002, 1.9999, 1.9991, 1.9977, 1.9959, 1.9949, 1.9664, 1.9813, 1.9326, 1.8974, 1.7063, 1.7356, 1.8517, 1.9349, 1.5197, 1.7117, 1.3051, 1.2336, 1.2526, 1.2716, 1.4302, 1.0525, 1.3246, 0.9722, 1.0915, 1.4473, 1.166, 0.8503, 0.7005, 0.4826, 0.2991, 0.9911, 1.1375, 0.0507, 0.0608, 0.6255, 2.0257, 2.0252, 2.0246, 2.0236, 2.0236, 2.0231, 2.0214, 2.0212, 2.0191, 2.0189, 2.0178, 2.0176, 2.0172, 2.0165, 2.0148, 2.0141, 2.0124, 2.0123, 2.0102, 2.0094, 2.0087, 2.0086, 2.0079, 2.0072, 2.0067, 2.0061, 2.0047, 2.0044, 2.003, 2.003, 2.0021, 2.003, 1.9963, 1.8548, 1.8794, 1.8352, 1.9772, 1.8171, 1.7939, 1.9305, 1.728, 1.752, 1.7694, 1.4636, 1.56, 1.3981, 1.0221, 1.7242, 1.5656, 1.2498, 0.5416, 1.3691, 1.3848, 0.9641, 1.1803, 0.4212, 0.7311, 1.0018, 0.7593, 0.0324, 2.0497, 2.0497, 2.0486, 2.0478, 2.0449, 2.0441, 2.044, 2.044, 2.0439, 2.0425, 2.0422, 2.0405, 2.0402, 2.0391, 2.0389, 2.0381, 2.0378, 2.0376, 2.0372, 2.0362, 2.0358, 2.0358, 2.0354, 2.0341, 2.0341, 2.0337, 2.0327, 2.0327, 2.0322, 2.0316, 2.0129, 2.011, 2.0015, 1.9768, 1.8719, 2.0188, 1.9778, 1.9077, 1.8188, 1.9798, 1.8257, 1.6829, 1.6417, 1.8186, 1.5322, 1.8807, 1.3236, 0.965, 1.6269, 1.836, 1.2006, 1.2256, 0.6123, 1.398, 1.1148, 1.2197, 0.9658, 1.0303, 1.2243, 0.8393, 1.4049, 0.3241, 0.3856, 0.9475, 0.6818, 2.0678, 2.0674, 2.0671, 2.0671, 2.0647, 2.0642, 2.0639, 2.0638, 2.0632, 2.0611, 2.0605, 2.0596, 2.0585, 2.0583, 2.0577, 2.0577, 2.0573, 2.0571, 2.056, 2.0548, 2.0545, 2.0542, 2.0535, 2.0531, 2.0527, 2.0527, 2.0527, 2.0523, 2.0504, 2.0504, 2.0502, 1.9064, 1.9251, 1.9264, 1.833, 1.7257, 1.8516, 1.7151, 1.8863, 1.4935, 1.6993, 1.7959, 1.4029, 1.4707, 1.254, 1.3049, 1.639, 1.6494, 1.7837, 0.9524, 1.261, 0.5164, 0.3093, 0.4997, 0.7329, 1.0877, -0.4283, 1.349]}, \"token.table\": {\"Topic\": [1, 3, 4, 5, 6, 3, 2, 3, 3, 4, 5, 7, 2, 3, 5, 7, 6, 6, 2, 4, 6, 7, 4, 1, 5, 7, 2, 4, 6, 6, 2, 4, 5, 7, 1, 2, 3, 4, 5, 6, 7, 1, 4, 5, 7, 1, 2, 6, 7, 1, 1, 2, 3, 4, 7, 2, 7, 4, 6, 6, 3, 1, 2, 5, 6, 3, 3, 4, 6, 6, 1, 1, 3, 4, 5, 6, 1, 2, 3, 4, 6, 2, 4, 6, 1, 3, 7, 4, 1, 4, 2, 4, 5, 6, 7, 2, 5, 6, 7, 1, 2, 3, 5, 2, 5, 6, 2, 7, 2, 5, 6, 7, 1, 4, 7, 2, 4, 5, 6, 4, 6, 7, 2, 3, 5, 2, 7, 4, 7, 1, 2, 4, 5, 6, 7, 1, 1, 4, 5, 4, 4, 4, 2, 1, 2, 4, 5, 7, 2, 2, 2, 4, 5, 7, 1, 2, 3, 4, 5, 6, 7, 1, 2, 4, 5, 6, 7, 1, 5, 7, 2, 3, 5, 5, 1, 6, 7, 1, 3, 7, 2, 2, 1, 2, 3, 5, 6, 7, 1, 3, 4, 5, 6, 7, 7, 4, 6, 3, 6, 1, 2, 3, 4, 5, 6, 1, 3, 5, 4, 1, 1, 4, 7, 5, 1, 2, 3, 4, 5, 6, 7, 1, 2, 3, 4, 5, 6, 7, 3, 5, 6, 1, 6, 1, 2, 7, 3, 2, 4, 6, 7, 1, 2, 4, 7, 3, 1, 2, 7, 5, 5, 4, 7, 5, 2, 2, 3, 7, 1, 3, 4, 2, 1, 2, 3, 4, 5, 6, 1, 2, 3, 4, 5, 6, 7, 1, 2, 7, 5, 2, 3, 5, 2, 2, 1, 3, 2, 2, 5, 7, 4, 1, 5, 6, 5, 1, 3, 4, 5, 7, 1, 4, 5, 4, 5, 1, 2, 3, 4, 5, 6, 7, 1, 2, 3, 4, 6, 7, 2, 4, 1, 2, 7, 2, 6, 7, 5, 1, 2, 3, 4, 5, 7, 1, 4, 5, 6, 7, 3, 4, 1, 2, 3, 4, 5, 6, 7, 2, 3, 4, 5, 7, 1, 2, 3, 4, 5, 7, 3, 5, 7, 2, 3, 6, 6, 2, 7, 3, 1, 3, 3, 4, 5, 3, 5, 2, 3, 5, 7, 4, 5, 3, 7, 4, 5, 3, 4, 5, 7, 4, 4, 3, 6, 1, 6, 3, 1, 2, 3, 4, 7, 1, 2, 3, 4, 6, 7, 2, 3, 5, 6, 7, 3, 7, 4, 2, 3, 2, 4, 4, 6, 2, 3, 4, 5, 7, 2, 3, 5, 7, 3, 1, 1, 3, 4, 5, 6, 3, 3, 6, 7, 2, 3, 7, 5, 1, 2, 7, 4, 5, 6, 7, 1, 2, 3, 4, 5, 6, 7, 2, 4, 5, 6, 6, 1, 7, 1, 1, 1, 2, 4, 5, 6, 7, 1, 2, 3, 4, 5, 7, 1, 7, 7, 7, 1, 4, 4, 2, 4, 5, 2, 4, 5, 2, 6, 5, 2, 1, 2, 3, 6, 3, 2, 3, 4, 6, 7, 2, 3, 5, 7, 1, 5, 4, 3, 3, 6, 6, 5, 1, 3, 4, 6, 7, 6, 2, 6, 5, 5, 4, 6, 3, 4, 6, 1, 7, 1, 3, 6, 1, 2, 4, 7, 2, 4, 1, 3, 4, 5, 6, 7, 5, 3, 4, 6, 7, 5, 1, 1, 2, 6, 5, 1, 6, 1, 4, 5, 7, 2, 6, 1, 2, 3, 4, 5, 6, 7, 2, 3, 6, 7, 2, 4, 6, 7, 4, 5, 1, 1, 2, 3, 4, 6, 7, 3, 7, 3, 3, 4, 6, 4, 1, 5, 4, 7, 5, 5, 7, 2, 5, 6, 7, 2, 1, 7, 3, 2, 3, 4, 5, 6, 2, 3, 5, 2, 3, 5, 6, 1, 2, 3, 4, 5, 7, 2, 1, 4, 5, 6, 7, 1, 4, 5, 7, 3, 2, 7, 2, 6, 4, 5, 7, 1, 3, 4, 7, 7, 5, 7, 2, 4, 1, 3, 1, 4, 1, 6, 1, 2, 1, 6, 7, 1, 3, 6, 1, 3, 4, 7, 6, 4, 1, 2, 3, 4, 5, 6, 7, 7, 7, 2, 7, 7, 2, 4, 6, 1, 5, 1, 3, 6, 7, 5, 1, 5, 3, 4, 5, 7, 3, 2, 4, 7, 2, 4, 3, 7, 5, 3, 5, 1, 2, 1, 2, 4, 6, 7, 7, 2, 6, 1, 2, 3, 4, 5, 7, 4, 6, 1, 3, 5, 4, 6, 4, 3, 1, 2, 4, 6, 6, 2, 6, 7, 1, 3, 5, 6, 2, 7, 1, 5, 4, 5, 6, 7, 1, 1, 1, 1, 7, 1, 3, 5, 6, 6, 2, 4, 5, 1, 6, 1, 2, 3, 5, 1, 2, 3, 4, 5, 7, 1, 2, 3, 4, 5, 6, 7, 3, 7, 6, 2, 4, 6, 7, 6, 4, 1, 2, 5, 6, 7, 5, 5, 6, 1, 2, 7, 1, 2, 7, 2, 6, 7, 7, 2, 5, 6, 5, 6, 1, 2, 3, 4, 5, 1, 3, 7, 1, 2, 3, 4, 5, 6, 7, 4, 1, 2, 3, 4, 6, 4, 5, 7, 1, 5, 6, 7, 2, 1, 2, 3, 4, 5, 6, 7, 7, 1, 4, 2, 3, 6, 7, 3, 6, 2, 3, 5, 7, 1, 2, 3, 4, 5, 6, 7, 1, 3, 4, 5, 7, 1], \"Freq\": [0.0701462534408043, 0.5611700275264344, 0.007256508976634928, 0.101591125672889, 0.25881548683331246, 0.9850638675519232, 0.010949674105415867, 0.985470669487428, 0.03592491105465315, 0.35525745376268114, 0.5189153819005455, 0.0878164492447077, 0.23368087769978635, 0.505670096006095, 0.1838800349113073, 0.07278584715239247, 0.9831131708394985, 0.9943634815798125, 0.5360222355334453, 0.38040287683018703, 0.013832831884734074, 0.06916415942367037, 0.99487167165805, 0.18389832888244848, 0.7933899331785634, 0.021016951872279827, 0.9887333700518407, 0.008171350165717692, 0.9793845405380637, 0.9881351215429008, 0.04248851181723435, 0.9205844227067443, 0.0283256745448229, 0.9878135734231793, 0.03738189454597082, 0.03398354049633712, 0.1954053578539384, 0.3517296441370891, 0.025487655372252834, 0.028886009421886547, 0.3262419887648363, 0.009702486951833707, 0.4657193736880179, 0.08247113909058651, 0.4414631563084337, 0.8100863278389019, 0.18272623936215832, 0.0030454373227026387, 0.0030454373227026387, 0.9932051242991558, 0.19876897875689173, 0.03897430956017485, 0.5183583171503254, 0.18317925493282178, 0.062358895296279755, 0.9167311436866888, 0.07692848758209976, 0.9941578946899198, 0.9920466262552115, 0.9694992876538354, 0.9836123820027227, 0.9935855115384653, 0.9938162700062351, 0.9085319282442667, 0.0879224446688, 0.9754248475597256, 0.022333860569708805, 0.016750395427281604, 0.9603560044974786, 0.9874397773608287, 0.994211617996296, 0.2766968014578365, 0.044991349830542524, 0.1214766445424648, 0.13047491450857332, 0.42516825589862683, 0.26944259390851966, 0.020463994474064783, 0.030695991711097173, 0.013642662982709854, 0.661669154661428, 0.7302389130801776, 0.13974922595334938, 0.1279394322108128, 0.0509178689413743, 0.08146859030619888, 0.8656037720033631, 0.9916405443556109, 0.9965593996313352, 0.9854854058023513, 0.8277034843633779, 0.004255544906752585, 0.0010638862266881463, 0.06383317360128879, 0.10213307776206206, 0.8065063637127154, 0.1286978239967099, 0.05576905706524096, 0.008579854933113994, 0.1618269556760673, 0.19729587746808205, 0.4921312898642047, 0.14852611000406177, 0.9805366381320517, 0.9429540585949371, 0.036267463792112965, 0.9923605532626251, 0.979440972286258, 0.007628755317347443, 0.7552467764173968, 0.09917381912551676, 0.12968884039490652, 0.032389962564943434, 0.12955985025977373, 0.8313423725002148, 0.9751906711262773, 0.005736415712507514, 0.002868207856253757, 0.017209247137522542, 0.12827576390426285, 0.023322866164411427, 0.8473974706402819, 0.017305970574227454, 0.9258694257211688, 0.05191791172268236, 0.9820511412284182, 0.016997038982799546, 0.9863385473876582, 0.9961965178696589, 0.31436170156735066, 0.298901290014858, 0.19239623265324193, 0.10822288086744859, 0.01889605856415769, 0.06699511672746818, 0.9915848409329665, 0.04754167364369462, 0.9498219479027499, 0.002023049942284877, 0.9954420827887311, 0.9905267005415758, 0.9994971158341762, 0.9887829272766732, 0.0032802341684288173, 0.13776983507401033, 0.4985955936011802, 0.06560468336857635, 0.29194084099016476, 0.9728342597733955, 0.9867691737359463, 0.08863802571793407, 0.13849691518427198, 0.7423434653876979, 0.0276993830368544, 0.18855730018254463, 0.08702644623809752, 0.38146592267699414, 0.08847688700873248, 0.004351322311904876, 0.18855730018254463, 0.05946807159603331, 0.040693493472585905, 0.10580308302872335, 0.35810274255875596, 0.1709126725848608, 0.23330936257615917, 0.08952568563968899, 0.3082684033224842, 0.20393140527487416, 0.4837442636752829, 0.002684697941569307, 0.15571248061101983, 0.8409816301965855, 0.9978865801622742, 0.020094052174972434, 0.8037620869988973, 0.17079944348726567, 0.009567859616808802, 0.8898109443632185, 0.09567859616808802, 0.9929729055578785, 0.9874762492479866, 0.1825324628217224, 0.14486703398549397, 0.1274829899072347, 0.17094310010288288, 0.33029683748692623, 0.04346011019564819, 0.05714359961422715, 0.008791323017573408, 0.7516581180025264, 0.12747418375481442, 0.03516529207029363, 0.008791323017573408, 0.9842546991195841, 0.9956892946965474, 0.9874412602564275, 0.9816798606439925, 0.9844035390254872, 0.14952652717949227, 0.1473276076621468, 0.1737146418702925, 0.20449951511312914, 0.07036542455505519, 0.2528757444947296, 0.07903011241130777, 0.2914235395166974, 0.6273015172647555, 0.9811620895650742, 0.9972323644004485, 0.32865813553390133, 0.013146325421356055, 0.6573162710678027, 0.9849010356829075, 0.1804920443827826, 0.1994912069493913, 0.06649706898313043, 0.028498743849913043, 0.4274811577486956, 0.0886627586441739, 0.006333054188869564, 0.31077628043937633, 0.0932328841318129, 0.0007063097282713098, 0.0720435922836736, 0.22601911304681913, 0.23661375897088877, 0.06074263663133264, 0.15934465633836917, 0.005640518808437847, 0.8333866539466919, 0.009785372115992485, 0.9785372115992486, 0.042305033134381484, 0.7494034440947578, 0.20699248355036656, 0.9854098989915252, 0.8900916270476219, 0.08791028415285154, 0.016483178278659666, 0.005494392759553221, 0.15193378746616712, 0.0815940710466453, 0.30105398627555335, 0.464242128368844, 0.988314616686106, 0.11304364025217202, 0.021195682547282255, 0.8619577569228116, 0.9889561344224649, 0.9789451753330951, 0.9600130660838168, 0.03031620208685737, 0.9850956575242824, 0.9826815133405308, 0.019873347743242172, 0.9539206916756243, 0.9915299065756427, 0.22309875408085267, 0.6600004808225225, 0.11154937704042633, 0.9930059910180032, 0.12440146036656925, 0.07371938392092993, 0.0046074614950581206, 0.14743876784185986, 0.12440146036656925, 0.5206431489415676, 0.20474546799536641, 0.12074732727931867, 0.08224817945113011, 0.26774407353240226, 0.08399814071604776, 0.11199752095473035, 0.1277471723389893, 0.07022791705647262, 0.17556979264118155, 0.7461716187250216, 0.9986899090800597, 0.18811123707268823, 0.46386520959969707, 0.3441580587352591, 0.972834207685663, 0.9886849952342432, 0.9916039312138804, 0.9810057082474003, 0.9905232079327154, 0.34774747216017726, 0.45963144146388646, 0.19050513692253188, 0.9780206851541149, 0.3829416460919003, 0.5320516675790119, 0.08133273899296997, 0.9951208506300209, 0.048450728034974404, 0.5034662608851688, 0.048450728034974404, 0.28227815463854655, 0.11586043660537358, 0.07734298101532641, 0.05878066557164807, 0.8631476681310427, 0.014458042761501077, 0.968688865020572, 0.14577624011254423, 0.16879354118294596, 0.30075940065324913, 0.09820715123371401, 0.08439677059147298, 0.056776009306990914, 0.14577624011254423, 0.003705116587582006, 0.05187163222614809, 0.1926660625542643, 0.1185637308026242, 0.1852558293791003, 0.44461399050984074, 0.9978188999459574, 0.9867661728426774, 0.0035367098596467143, 0.9938154705607267, 0.0035367098596467143, 0.020071261998010778, 0.6904514127315707, 0.2890261727713552, 0.9808453203275509, 0.04961676349654422, 0.7690598341964353, 0.004134730291378685, 0.01653892116551474, 0.004134730291378685, 0.15711975107239, 0.5167805069146952, 0.09396009216630823, 0.35925917593000206, 0.01105412849015391, 0.019344724857769342, 0.9330707737464397, 0.05570571783560834, 0.017026996289374593, 0.49094505967696744, 0.22135095176186972, 0.13621597031499674, 0.028378327148957657, 0.01986482900427036, 0.08797281416176873, 0.21560457670011715, 0.09032083618518422, 0.1427651926798073, 0.002913575360812394, 0.5477521678327301, 0.01466684511935912, 0.00183335563991989, 0.30067032494686197, 0.3116704587863813, 0.2731699903480636, 0.09900120455567406, 0.6618252698588827, 0.0789332890657383, 0.2550152415970007, 0.913517521055898, 0.07057216900861014, 0.011762028168101691, 0.9756827881119813, 0.9945884919045386, 0.9895653241045015, 0.9941232313120968, 0.01690081635340625, 0.9717969403208594, 0.9656873271027918, 0.8895187907357497, 0.10621119889382086, 0.9835970381701971, 0.9953685713523511, 0.9787092244989802, 0.7390488697715935, 0.16284127639035112, 0.09394689022520256, 0.9840630359881392, 0.9935894512118161, 0.9904793204296072, 0.9754136468166505, 0.9728245346008368, 0.014739765675770256, 0.8517544288670515, 0.14306812672376257, 0.00665433147552384, 0.9897386778749717, 0.9967185553287214, 0.985391993682393, 0.7010283941765835, 0.2965005339304238, 0.011916928542982102, 0.986125836931769, 0.9917309201985769, 0.1695259254586543, 0.08072663117078777, 0.6377403862492234, 0.10494462052202409, 0.004036331558539388, 0.005108340631778547, 0.3882338880151696, 0.39845056927872674, 0.005108340631778547, 0.08939596105612459, 0.11493766421501732, 0.2935072147421245, 0.1588391985663262, 0.034530260557897, 0.4350812830295022, 0.07596657322737341, 0.9691255318324712, 0.9738244239187942, 0.9840629805082133, 0.1884353595654663, 0.810272046131505, 0.9779284445893621, 0.021144398801932154, 0.07040063755508322, 0.9252655221525223, 0.13116359708635128, 0.014573733009594586, 0.5635176763709906, 0.11173195307355849, 0.17002688511193684, 0.9887827153098682, 0.16796948509259393, 0.6298855690972273, 0.20396294618386407, 0.9920256367169462, 0.9992234858170075, 0.03485400017689282, 0.12674181882506483, 0.015842727353133104, 0.03168545470626621, 0.7921363676566551, 0.993566380671165, 0.3210595409301991, 0.5948312424985859, 0.08462034412113775, 0.054144172753968794, 0.7038742458015943, 0.24364877739285956, 0.9855397123739583, 0.06411785795110073, 0.23509881248736933, 0.6999532826328496, 0.16462095193076473, 0.07055183654175631, 0.007839092949084034, 0.7603920160611514, 0.012960433025198021, 0.15552519630237627, 0.09396313943268565, 0.07776259815118813, 0.26244876876025997, 0.019440649537797033, 0.3726124494744431, 0.03394683596322131, 0.04243354495402664, 0.7383436822000635, 0.1782208888069119, 0.979018663264347, 0.8994666100278415, 0.09594310506963642, 0.9994233396922929, 0.9940496821473448, 0.9937923419700028, 0.0816207833311993, 0.5557986674457858, 0.13603463888533218, 0.22154212618468383, 0.003886703968152348, 0.2539635066784031, 0.004163336175055789, 0.0020816680875278947, 0.4891920005690552, 0.035388357487974205, 0.21233014492784524, 0.997235367497946, 0.989878835472308, 0.9862880673480087, 0.9926066779537195, 0.5424240784802454, 0.4567781713517856, 0.9709496146683777, 0.0030464000485200824, 0.4264960067928115, 0.5696768090732554, 0.017690997987888462, 0.9789018886631616, 0.9861104267147324, 0.9820179980719879, 0.017029213839398635, 0.9749025204246329, 0.9972331822741827, 0.010175907596446114, 0.9667112216623808, 0.010175907596446114, 0.9775721016129117, 0.9805099902117806, 0.22839304797800702, 0.5487777402804891, 0.13005715232080955, 0.08564739299175263, 0.0031721256663612084, 0.1544891170794133, 0.11123216429717757, 0.08651390556447144, 0.6488542917335358, 0.997320105673932, 0.002346635542762193, 0.9912375713664634, 0.9754488218081633, 0.06368953385249114, 0.9234982408611216, 0.9937023806547642, 0.9681081913466716, 0.02668528837264057, 0.09784605736634876, 0.0044475480621067615, 0.8628243240487117, 0.0044475480621067615, 0.9953019123506937, 0.9688171455889102, 0.01827956878469642, 0.9927427624288654, 0.9789501392314889, 0.6078581827620667, 0.3906008855010999, 0.033453412226635226, 0.8446986587225394, 0.11708694279322328, 0.9946957525043056, 0.9754715121541112, 0.042724066281582304, 0.7649642343749975, 0.19124105859374937, 0.10330453396846137, 0.05509575144984606, 0.0482087825186153, 0.7851144581603063, 0.8310955477762119, 0.16699583436624818, 0.04200058708390851, 0.3360046966712681, 0.007636470378892457, 0.061091763031139654, 0.519279985764687, 0.03436411670501606, 0.9917203419777242, 0.5583028522282844, 0.020969121210451996, 0.3590962007289904, 0.060286223480049486, 0.9843897775207947, 0.9978127278157023, 0.9966088319855506, 0.03556062660363024, 0.9601369182980164, 0.9901690060604803, 0.9967227649021909, 0.9945186093967721, 0.5411683124384453, 0.3951007590811658, 0.05268010121082211, 0.009578200220149474, 0.018390814018342767, 0.9747131429721666, 0.21584016162773562, 0.03284524198682934, 0.20551737128901784, 0.13982688731535917, 0.04879864523757501, 0.33689833923633516, 0.0197071451920976, 0.9480668073866679, 0.015291400119139806, 0.015291400119139806, 0.015291400119139806, 0.05424394196210358, 0.7304850850896616, 0.21335950505094076, 0.9968595414649953, 0.017732242550792466, 0.9752733402935856, 0.9908369971963277, 0.18591226472673855, 0.3520466289506326, 0.21953469558157426, 0.06526707165938694, 0.09691171246393819, 0.08108939206166256, 0.9929448827185623, 0.9923081970950415, 0.9835838004588282, 0.8839520910926412, 0.024554224752573368, 0.08184741584191123, 0.9965481868434765, 0.9265515681979157, 0.07059440519603168, 0.9854107197084563, 0.9878136053499986, 0.9935871055543586, 0.9989044798044119, 0.9873763937597865, 0.46448245338607524, 0.024575791184448425, 0.437449083083182, 0.07372737355334527, 0.9886851907962504, 0.99656920450415, 0.9794410265875428, 0.9796931670693954, 0.03489409473086112, 0.32039123343790665, 0.07613257032187881, 0.13323199806328792, 0.43459008892072487, 0.13058371717336303, 0.6273695977242006, 0.24129599912469255, 0.9118220568713686, 0.055414600141353895, 0.005037690921941263, 0.025188454609706316, 0.13053675875407242, 0.42156953236970934, 0.11341718383550556, 0.14123649307817673, 0.19045527096905648, 0.004279893729641719, 0.9804980486969129, 0.9313494121058519, 0.006541523526643384, 0.001635380881660846, 0.000817690440830423, 0.059691402180620884, 0.8228402448387718, 0.0622147502195169, 0.006020782279308087, 0.10837408102754556, 0.9915535916578904, 0.9372673732973468, 0.05166040640221596, 0.9867691308384218, 0.9894512308545843, 0.7339824541630391, 0.12451488061694414, 0.131068295386257, 0.005931277406002964, 0.7137303811890233, 0.2491136510521245, 0.031633479498682476, 0.9940583788419722, 0.9935901530408116, 0.9892743472539351, 0.9930750990008391, 0.9862826738793938, 0.9734325129297896, 0.0227703511796442, 0.9343595587776267, 0.06443859026052598, 0.9686769334817901, 0.028159213182610176, 0.9849594973685319, 0.014233518748100173, 0.9079546812410325, 0.009431662201257263, 0.08236984989098009, 0.99424729479507, 0.003500870756320669, 0.9888749677764085, 0.9963598654849132, 0.9876786332362287, 0.9880478233679539, 0.9825272955502663, 0.9694986821666154, 0.9854386912502694, 0.26771697957443413, 0.17090419729290443, 0.05729736094212981, 0.1788072815607844, 0.13632820362092954, 0.016794054069244946, 0.17189208282638943, 0.9925375407516377, 0.976962220115232, 0.9666645901146391, 0.024786271541401002, 0.9878137004552222, 0.02050755644502777, 0.047850965038398134, 0.9228400400262498, 0.9871602409079331, 0.012602045628611912, 0.024458819751005355, 0.1630587983400357, 0.008152939917001785, 0.7989881118661749, 0.9832551053291719, 0.9652580707703973, 0.031281511552744355, 0.005739907439217653, 0.005739907439217653, 0.8093269489296891, 0.17793713061574726, 0.9957860418087529, 0.5563412779924257, 0.1799927664093142, 0.26180766023172974, 0.9839595907848849, 0.9840629761850334, 0.965661044931246, 0.9906136360909066, 0.9951208506300213, 0.22270528353804556, 0.7709029045547732, 0.8722931784070852, 0.12657882084140668, 0.08397918330389517, 0.09924812572278521, 0.007634471209445016, 0.7939850057822817, 0.015268942418890033, 0.9949165109971785, 0.14932723744646897, 0.8385298718147873, 0.08833060015546446, 0.011936567588576277, 0.13607687050976958, 0.1814358273463594, 0.0214858216594373, 0.561018676663085, 0.04686554636368414, 0.9490273138646039, 0.9932050348745782, 0.9691255935293885, 0.9855436893560261, 0.9952921920453917, 0.993702010664625, 0.9728278972750908, 0.9904464483804657, 0.5712578198779888, 0.013208273291976621, 0.4160606086972636, 0.9949579267942289, 0.9884205141025795, 0.21488351094395527, 0.0743827537882922, 0.706636160988776, 0.4056974705368604, 0.08458557300768518, 0.3665374830333024, 0.14410875401309325, 0.9931271591264762, 0.004932750790363292, 0.9948971113095895, 0.9826675946333581, 0.13774407295252625, 0.011478672746043852, 0.33747297873368926, 0.5119488044735558, 0.9997573818871747, 0.9972353549241265, 0.9901962396925565, 0.9960289813233869, 0.9949670250592557, 0.6231961676075888, 0.3713740427375835, 0.0050873156539395, 0.9956924684689055, 0.9844227439072287, 0.7309909319155562, 0.26610634802189104, 0.9782968333243542, 0.8637979655694594, 0.132356139885643, 0.0048334083788710794, 0.8941805500911497, 0.0048334083788710794, 0.09666816757742158, 0.14438045884965792, 0.460936545097571, 0.22158926037353915, 0.0679437453410155, 0.08261341763055292, 0.02239055244192556, 0.3363988409751618, 0.1472989007820235, 0.11545048980212654, 0.14132732372329282, 0.20104309431059966, 0.03184841097989698, 0.026872096764288072, 0.9941231066477332, 0.9935592560102272, 0.9864716152857855, 0.015211698772160708, 0.015211698772160708, 0.7986141855384372, 0.17493453587984814, 0.9956348962657628, 0.9968424669783824, 0.0431480341808477, 0.11649969228828878, 0.5264060170063419, 0.2718326153393405, 0.038833230762762926, 0.989762591173239, 0.990758533244165, 0.977572090378021, 0.9956099966198348, 0.00832120756941352, 0.9819024931907955, 0.9955458166524376, 0.9312322976230917, 0.06560954824162692, 0.30300347943210576, 0.005509154171492833, 0.688644271436604, 0.9895660270100599, 0.9975008458767018, 0.9711879912715641, 0.016460813411382443, 0.9919977586388007, 0.9822267935249931, 0.21900955947893327, 0.05410824410655998, 0.14428865095082663, 0.4740912816955732, 0.10563990516042664, 0.13775055396740166, 0.7543482717262472, 0.10823257811724417, 0.07685012009962855, 0.13448771017434996, 0.08965847344956664, 0.21518033627895994, 0.09606265012453569, 0.17675527622914566, 0.2113378302739785, 0.9854428983949568, 0.19812349956408198, 0.12247634518506886, 0.4574851717206984, 0.11166960884520985, 0.1044651179519705, 0.9795885986505024, 0.8238693771730496, 0.1744417303708243, 0.039517468027826644, 0.22016875044074846, 0.6548608987468415, 0.0846802886310571, 0.9916245771131421, 0.22204823721668848, 0.11333712107935141, 0.2844993039338821, 0.02544302718107889, 0.15959717049949484, 0.16191017297050203, 0.03469503706510758, 0.9933482640934994, 0.0778975308193232, 0.9180780417991662, 0.9519452917717367, 0.009713727467058538, 0.019427454934117076, 0.009713727467058538, 0.9754248007530701, 0.9843921764313559, 0.005664964240078021, 0.844079671771625, 0.005664964240078021, 0.14162410600195052, 0.15192751628576384, 0.15192751628576384, 0.023373464043963666, 0.011686732021981833, 0.1714054029890669, 0.4811038015715855, 0.0058433660109909165, 0.008173426568305118, 0.833689509967122, 0.008173426568305118, 0.008173426568305118, 0.138948251661187, 0.993430206688525], \"Term\": [\"000\", \"000\", \"000\", \"000\", \"000\", \"11km\", \"19\", \"19\", \"2022\", \"2022\", \"2022\", \"2022\", \"2023\", \"2023\", \"2023\", \"2023\", \"300\", \"49\", \"afd\", \"afd\", \"afd\", \"afd\", \"affenpocken\", \"afghanistan\", \"afghanistan\", \"afghanistan\", \"aiwanger\", \"aiwanger\", \"aktien\", \"aktivisten\", \"album\", \"album\", \"album\", \"altkanzler\", \"ampel\", \"ampel\", \"ampel\", \"ampel\", \"ampel\", \"ampel\", \"ampel\", \"analyse\", \"analyse\", \"analyse\", \"analyse\", \"angriff\", \"angriff\", \"angriff\", \"angriff\", \"angriffe\", \"angst\", \"angst\", \"angst\", \"angst\", \"angst\", \"anklage\", \"anklage\", \"anleger\", \"annalena\", \"antwortet\", \"arabien\", \"armee\", \"ausschuss\", \"ausstellung\", \"ausstellung\", \"auswahl\", \"auto\", \"auto\", \"auto\", \"au\\u00dfenministerin\", \"bachmut\", \"baerbock\", \"baerbock\", \"baerbock\", \"baerbock\", \"baerbock\", \"bahn\", \"bahn\", \"bahn\", \"bahn\", \"bahn\", \"bayern\", \"bayern\", \"bayern\", \"beh\\u00f6rden\", \"beh\\u00f6rden\", \"beh\\u00f6rden\", \"beitrag\", \"belarus\", \"benedikt\", \"berlin\", \"berlin\", \"berlin\", \"berlin\", \"berlin\", \"berliner\", \"berliner\", \"berliner\", \"berliner\", \"biden\", \"biden\", \"biden\", \"biden\", \"bochum\", \"bolsonaro\", \"bolsonaro\", \"boris\", \"bosnien\", \"brasilien\", \"brasilien\", \"brasilien\", \"brasilien\", \"buch\", \"buch\", \"buch\", \"bundesliga\", \"bundesliga\", \"bundesliga\", \"bundesliga\", \"bundestag\", \"bundestag\", \"bundestag\", \"b\\u00fcrgergeld\", \"b\\u00fcrgergeld\", \"b\\u00fcrgergeld\", \"cdu\", \"cdu\", \"champions\", \"charles\", \"chef\", \"chef\", \"chef\", \"chef\", \"chef\", \"chef\", \"cherson\", \"china\", \"china\", \"china\", \"chinas\", \"city\", \"corona\", \"csu\", \"debatte\", \"debatte\", \"debatte\", \"debatte\", \"debatte\", \"demokraten\", \"desantis\", \"deutlich\", \"deutlich\", \"deutlich\", \"deutlich\", \"deutsche\", \"deutsche\", \"deutsche\", \"deutsche\", \"deutsche\", \"deutsche\", \"deutsche\", \"deutschen\", \"deutschen\", \"deutschen\", \"deutschen\", \"deutschen\", \"deutschen\", \"deutscher\", \"deutscher\", \"deutscher\", \"deutschland\", \"deutschland\", \"deutschland\", \"dfb\", \"documenta\", \"documenta\", \"documenta\", \"dollar\", \"dollar\", \"dollar\", \"donald\", \"dortmund\", \"drei\", \"drei\", \"drei\", \"drei\", \"drei\", \"drei\", \"druck\", \"druck\", \"druck\", \"druck\", \"druck\", \"druck\", \"d\\u00e4nemark\", \"economist\", \"eintracht\", \"elizabeth\", \"elon\", \"ende\", \"ende\", \"ende\", \"ende\", \"ende\", \"ende\", \"energiekrise\", \"energiekrise\", \"energiekrise\", \"entlastung\", \"entwicklungen\", \"erdogan\", \"erdogan\", \"erdogan\", \"erh\\u00f6ht\", \"erneut\", \"erneut\", \"erneut\", \"erneut\", \"erneut\", \"erneut\", \"erneut\", \"eu\", \"eu\", \"eu\", \"eu\", \"eu\", \"eu\", \"eu\", \"euro\", \"euro\", \"euro\", \"europas\", \"europas\", \"ex\", \"ex\", \"ex\", \"fachkr\\u00e4fte\", \"fc\", \"fc\", \"fc\", \"fc\", \"fdp\", \"fdp\", \"fdp\", \"fdp\", \"fehlen\", \"fehler\", \"fehler\", \"fehler\", \"feuert\", \"fifa\", \"finnland\", \"finnland\", \"fischsterben\", \"florida\", \"flut\", \"flut\", \"focus\", \"folgen\", \"folgen\", \"folgen\", \"for\", \"fordern\", \"fordern\", \"fordern\", \"fordern\", \"fordern\", \"fordern\", \"fordert\", \"fordert\", \"fordert\", \"fordert\", \"fordert\", \"fordert\", \"fordert\", \"frage\", \"frage\", \"frage\", \"frankreich\", \"frauen\", \"frauen\", \"frauen\", \"fridays\", \"friedrich\", \"front\", \"fukushima\", \"future\", \"fu\\u00dfball\", \"fu\\u00dfball\", \"fu\\u00dfball\", \"f\\u00e4lle\", \"g7\", \"g7\", \"g7\", \"gabor\", \"gas\", \"gas\", \"gas\", \"gas\", \"gas\", \"gastbeitrag\", \"gastbeitrag\", \"gastbeitrag\", \"gazprom\", \"gazprom\", \"geht\", \"geht\", \"geht\", \"geht\", \"geht\", \"geht\", \"geht\", \"geld\", \"geld\", \"geld\", \"geld\", \"geld\", \"geld\", \"generation\", \"georgien\", \"gericht\", \"gericht\", \"gericht\", \"gestorben\", \"gestorben\", \"gestorben\", \"gesunken\", \"gewinnt\", \"gewinnt\", \"gewinnt\", \"gewinnt\", \"gewinnt\", \"gewinnt\", \"gipfel\", \"gipfel\", \"gipfel\", \"gipfel\", \"gipfel\", \"graichen\", \"graichen\", \"gr\\u00fcne\", \"gr\\u00fcne\", \"gr\\u00fcne\", \"gr\\u00fcne\", \"gr\\u00fcne\", \"gr\\u00fcne\", \"gr\\u00fcne\", \"gr\\u00fcnen\", \"gr\\u00fcnen\", \"gr\\u00fcnen\", \"gr\\u00fcnen\", \"gr\\u00fcnen\", \"habeck\", \"habeck\", \"habeck\", \"habeck\", \"habeck\", \"habeck\", \"habecks\", \"habecks\", \"habecks\", \"haft\", \"haft\", \"haft\", \"haftbefehl\", \"hamburger\", \"harry\", \"hartz\", \"haus\", \"haus\", \"heizen\", \"herbst\", \"herbst\", \"herr\", \"hitze\", \"hoffenheim\", \"hohe\", \"hohe\", \"hohe\", \"holstein\", \"hugo\", \"ii\", \"iii\", \"impfung\", \"impfung\", \"inflation\", \"inflation\", \"inflation\", \"intelligenz\", \"invasion\", \"inzidenz\", \"iran\", \"iran\", \"israel\", \"israel\", \"iv\", \"jahr\", \"jahr\", \"jahr\", \"jahr\", \"jahr\", \"jahre\", \"jahre\", \"jahre\", \"jahre\", \"jahre\", \"jahre\", \"jahren\", \"jahren\", \"jahren\", \"jahren\", \"jahren\", \"james\", \"jan\", \"jinping\", \"joe\", \"joe\", \"johnson\", \"johnson\", \"justizreform\", \"justizreform\", \"kanzler\", \"kanzler\", \"kanzler\", \"kanzler\", \"kanzler\", \"kapitol\", \"katar\", \"katar\", \"katar\", \"katholische\", \"kiew\", \"kinder\", \"kinder\", \"kinder\", \"kinder\", \"kinder\", \"kirche\", \"klima\", \"klima\", \"klima\", \"klimaschutz\", \"klimaschutz\", \"klimaschutz\", \"klinik\", \"koalition\", \"koalition\", \"koalition\", \"kolumne\", \"kolumne\", \"kolumne\", \"kolumne\", \"kommentar\", \"kommentar\", \"kommentar\", \"kommentar\", \"kommentar\", \"kommentar\", \"kommentar\", \"kommission\", \"kommission\", \"kommission\", \"kommission\", \"kreis\", \"kreml\", \"kreml\", \"krieg\", \"kriegsverlauf\", \"krim\", \"krise\", \"krise\", \"krise\", \"krise\", \"krise\", \"kritik\", \"kritik\", \"kritik\", \"kritik\", \"kritik\", \"kritik\", \"k\\u00e4mpfe\", \"k\\u00f6nig\", \"k\\u00fchnert\", \"k\\u00fcnstliche\", \"lage\", \"lage\", \"lanka\", \"lauterbach\", \"lauterbach\", \"lauterbach\", \"league\", \"league\", \"leichtathletik\", \"leipzig\", \"leipzig\", \"leitzins\", \"letzte\", \"letzten\", \"letzten\", \"letzten\", \"libanon\", \"libyen\", \"lindner\", \"lindner\", \"lindner\", \"lindner\", \"lindner\", \"linke\", \"linke\", \"linke\", \"linke\", \"liveblog\", \"liveblog\", \"lng\", \"long\", \"luft\", \"luft\", \"lufthansa\", \"lula\", \"l\\u00e4nder\", \"l\\u00e4nder\", \"l\\u00e4nder\", \"l\\u00e4nder\", \"l\\u00e4nder\", \"l\\u00fctzerath\", \"maa\\u00dfen\", \"maa\\u00dfen\", \"macron\", \"macrons\", \"marktbericht\", \"marktbericht\", \"ma\\u00dfnahmen\", \"ma\\u00dfnahmen\", \"ma\\u00dfnahmen\", \"meldet\", \"mensch\", \"menschen\", \"menschen\", \"menschen\", \"merkel\", \"merkel\", \"merkel\", \"merkel\", \"merz\", \"merz\", \"milliarden\", \"milliarden\", \"milliarden\", \"milliarden\", \"milliarden\", \"milliarden\", \"million\", \"millionen\", \"millionen\", \"millionen\", \"millionen\", \"mittelmeer\", \"morgen\", \"moskau\", \"musk\", \"musk\", \"m\\u00fcller\", \"nachrichten\", \"nahost\", \"nato\", \"nato\", \"nato\", \"nato\", \"nawalny\", \"nawalny\", \"neue\", \"neue\", \"neue\", \"neue\", \"neue\", \"neue\", \"neue\", \"new\", \"new\", \"new\", \"new\", \"news\", \"news\", \"news\", \"nord\", \"nordkorea\", \"nordkorea\", \"offensive\", \"ohne\", \"ohne\", \"ohne\", \"ohne\", \"ohne\", \"ohne\", \"olympia\", \"online\", \"open\", \"opfer\", \"opfer\", \"opfer\", \"pandemie\", \"panzer\", \"panzer\", \"partnerportals\", \"pipelines\", \"pokal\", \"polen\", \"politikerin\", \"polizei\", \"polizei\", \"polizei\", \"polizei\", \"porsche\", \"prigoschin\", \"prinz\", \"profitieren\", \"proteste\", \"proteste\", \"proteste\", \"proteste\", \"proteste\", \"prozent\", \"prozent\", \"prozent\", \"prozess\", \"prozess\", \"prozess\", \"prozess\", \"pr\\u00e4sident\", \"pr\\u00e4sident\", \"pr\\u00e4sident\", \"pr\\u00e4sident\", \"pr\\u00e4sident\", \"pr\\u00e4sident\", \"pr\\u00e4sidentschaftswahl\", \"putin\", \"putin\", \"putin\", \"putin\", \"putin\", \"putins\", \"putins\", \"putins\", \"putins\", \"queen\", \"razzia\", \"razzia\", \"rb\", \"rbb\", \"regeln\", \"regeln\", \"regeln\", \"regierung\", \"regierung\", \"regierung\", \"regierung\", \"reitz\", \"rentenreform\", \"reportage\", \"republikaner\", \"rki\", \"russen\", \"russen\", \"russische\", \"russische\", \"russischen\", \"russischen\", \"russischer\", \"russischer\", \"russland\", \"russland\", \"russland\", \"russlands\", \"russlands\", \"r\\u00e4umung\", \"saporischschja\", \"saudi\", \"schafft\", \"schauspieler\", \"schlesinger\", \"schleswig\", \"scholz\", \"scholz\", \"scholz\", \"scholz\", \"scholz\", \"scholz\", \"scholz\", \"schr\\u00f6der\", \"schuldig\", \"schwarz\", \"schwarz\", \"schwarzer\", \"schwer\", \"schwer\", \"schwer\", \"selenskyj\", \"selenskyj\", \"serie\", \"serie\", \"serie\", \"serie\", \"silber\", \"soldaten\", \"soldaten\", \"spanien\", \"spanien\", \"spanien\", \"spanien\", \"sparen\", \"spd\", \"spd\", \"spd\", \"spieltag\", \"sri\", \"staatssekret\\u00e4r\", \"star\", \"steingart\", \"steinmeier\", \"steinmeier\", \"stimmen\", \"stimmen\", \"stirbt\", \"stirbt\", \"stirbt\", \"stirbt\", \"stirbt\", \"stream\", \"street\", \"street\", \"streit\", \"streit\", \"streit\", \"streit\", \"streit\", \"streit\", \"stunden\", \"stunden\", \"sudan\", \"suisse\", \"s\\u00fcdkorea\", \"taiwan\", \"taz\", \"terminal\", \"teure\", \"ticker\", \"ticker\", \"ticker\", \"ticket\", \"tickets\", \"tot\", \"tot\", \"tot\", \"tote\", \"tote\", \"tote\", \"tote\", \"trump\", \"trump\", \"truppen\", \"tschechien\", \"t\\u00fcrkei\", \"t\\u00fcrkei\", \"t\\u00fcrkei\", \"t\\u00fcrkei\", \"ukraine\", \"ukrainekrieg\", \"ukrainer\", \"ukrainische\", \"ulrich\", \"un\", \"un\", \"un\", \"unfall\", \"unf\\u00e4lle\", \"union\", \"union\", \"unterst\\u00fctzen\", \"update\", \"update\", \"urteil\", \"urteil\", \"urteil\", \"urteil\", \"us\", \"us\", \"us\", \"us\", \"us\", \"us\", \"usa\", \"usa\", \"usa\", \"usa\", \"usa\", \"usa\", \"usa\", \"verbraucher\", \"verfahren\", \"verkauft\", \"verkehr\", \"verkehr\", \"verkehr\", \"verkehr\", \"verletzt\", \"versteher\", \"vier\", \"vier\", \"vier\", \"vier\", \"vier\", \"vierte\", \"vogg\", \"vorpommern\", \"waffen\", \"wagenknecht\", \"wagenknecht\", \"wagner\", \"wahl\", \"wahl\", \"wahlen\", \"wahlen\", \"wahlen\", \"wahlrechtsreform\", \"wahrheit\", \"waldbrand\", \"waldbrand\", \"waldbr\\u00e4nde\", \"wall\", \"warnt\", \"warnt\", \"warnt\", \"warnt\", \"warnt\", \"weg\", \"weg\", \"weg\", \"wegen\", \"wegen\", \"wegen\", \"wegen\", \"wegen\", \"wegen\", \"wegen\", \"welle\", \"welt\", \"welt\", \"welt\", \"welt\", \"welt\", \"who\", \"wm\", \"wm\", \"woche\", \"woche\", \"woche\", \"woche\", \"wolfsburg\", \"wollen\", \"wollen\", \"wollen\", \"wollen\", \"wollen\", \"wollen\", \"wollen\", \"wut\", \"xi\", \"xi\", \"york\", \"york\", \"york\", \"york\", \"zinsen\", \"zugungl\\u00fcck\", \"zukunft\", \"zukunft\", \"zukunft\", \"zukunft\", \"zwei\", \"zwei\", \"zwei\", \"zwei\", \"zwei\", \"zwei\", \"zwei\", \"\\u00f6l\", \"\\u00f6l\", \"\\u00f6l\", \"\\u00f6l\", \"\\u00f6l\", \"\\u00fcberblick\"]}, \"R\": 30, \"lambda.step\": 0.01, \"plot.opts\": {\"xlab\": \"PC1\", \"ylab\": \"PC2\"}, \"topic.order\": [6, 1, 2, 4, 3, 7, 5]};\n",
       "\n",
       "function LDAvis_load_lib(url, callback){\n",
       "  var s = document.createElement('script');\n",
       "  s.src = url;\n",
       "  s.async = true;\n",
       "  s.onreadystatechange = s.onload = callback;\n",
       "  s.onerror = function(){console.warn(\"failed to load library \" + url);};\n",
       "  document.getElementsByTagName(\"head\")[0].appendChild(s);\n",
       "}\n",
       "\n",
       "if(typeof(LDAvis) !== \"undefined\"){\n",
       "   // already loaded: just create the visualization\n",
       "   !function(LDAvis){\n",
       "       new LDAvis(\"#\" + \"ldavis_el1985620334637401126882854652\", ldavis_el1985620334637401126882854652_data);\n",
       "   }(LDAvis);\n",
       "}else if(typeof define === \"function\" && define.amd){\n",
       "   // require.js is available: use it to load d3/LDAvis\n",
       "   require.config({paths: {d3: \"https://d3js.org/d3.v5\"}});\n",
       "   require([\"d3\"], function(d3){\n",
       "      window.d3 = d3;\n",
       "      LDAvis_load_lib(\"https://cdn.jsdelivr.net/gh/bmabey/pyLDAvis@3.4.0/pyLDAvis/js/ldavis.v3.0.0.js\", function(){\n",
       "        new LDAvis(\"#\" + \"ldavis_el1985620334637401126882854652\", ldavis_el1985620334637401126882854652_data);\n",
       "      });\n",
       "    });\n",
       "}else{\n",
       "    // require.js not available: dynamically load d3 & LDAvis\n",
       "    LDAvis_load_lib(\"https://d3js.org/d3.v5.js\", function(){\n",
       "         LDAvis_load_lib(\"https://cdn.jsdelivr.net/gh/bmabey/pyLDAvis@3.4.0/pyLDAvis/js/ldavis.v3.0.0.js\", function(){\n",
       "                 new LDAvis(\"#\" + \"ldavis_el1985620334637401126882854652\", ldavis_el1985620334637401126882854652_data);\n",
       "            })\n",
       "         });\n",
       "}\n",
       "</script>"
      ],
      "text/plain": [
       "PreparedData(topic_coordinates=                x           y  topics  cluster       Freq\n",
       "topic                                                    \n",
       "5      -15.867260    5.233803       1        1  18.393703\n",
       "0       70.422318  -89.428223       2        1  15.805916\n",
       "1      -54.471935 -116.444168       3        1  13.920579\n",
       "3     -101.887115   99.503708       4        1  13.290075\n",
       "2       22.866714  126.841034       5        1  13.161780\n",
       "6     -140.708176  -22.340219       6        1  12.824983\n",
       "4      108.877716   32.309097       7        1  12.602963, topic_info=              Term         Freq        Total Category  logprob  loglift\n",
       "21398      ukraine  4471.000000  4471.000000  Default  30.0000  30.0000\n",
       "12075        krieg  2487.000000  2487.000000  Default  29.0000  29.0000\n",
       "4661   deutschland  1489.000000  1489.000000  Default  28.0000  28.0000\n",
       "4303        corona  1152.000000  1152.000000  Default  27.0000  27.0000\n",
       "17650     russland  1590.000000  1590.000000  Default  26.0000  26.0000\n",
       "...            ...          ...          ...      ...      ...      ...\n",
       "6470            ex   137.478786   661.859782   Topic7  -5.7797   0.4997\n",
       "19362          spd   128.237486   488.908536   Topic7  -5.8493   0.7329\n",
       "11730    kommentar   115.421560   308.631663   Topic7  -5.9546   1.0877\n",
       "17650     russland   130.604726  1590.387747   Topic7  -5.8310  -0.4283\n",
       "4659     deutscher   102.405383   210.855214   Topic7  -6.0742   1.3490\n",
       "\n",
       "[454 rows x 6 columns], token_table=       Topic      Freq       Term\n",
       "term                             \n",
       "1          1  0.070146        000\n",
       "1          3  0.561170        000\n",
       "1          4  0.007257        000\n",
       "1          5  0.101591        000\n",
       "1          6  0.258815        000\n",
       "...      ...       ...        ...\n",
       "24740      3  0.833690         öl\n",
       "24740      4  0.008173         öl\n",
       "24740      5  0.008173         öl\n",
       "24740      7  0.138948         öl\n",
       "24780      1  0.993430  überblick\n",
       "\n",
       "[891 rows x 3 columns], R=30, lambda_step=0.01, plot_opts={'xlab': 'PC1', 'ylab': 'PC2'}, topic_order=[6, 1, 2, 4, 3, 7, 5])"
      ]
     },
     "execution_count": 27,
     "metadata": {},
     "output_type": "execute_result"
    }
   ],
   "source": [
    "pyLDAvis.enable_notebook()\n",
    "panel = pyLDAvis.lda_model.prepare(lda, dtm, cv, mds='tsne')\n",
    "panel"
   ]
  },
  {
   "cell_type": "markdown",
   "id": "3a4c2e1a",
   "metadata": {},
   "source": [
    "## Save train set with topics and dump model"
   ]
  },
  {
   "cell_type": "code",
   "execution_count": 28,
   "id": "78051ef9",
   "metadata": {},
   "outputs": [],
   "source": [
    "#Save result to csv\n",
    "train.to_csv('train_lda_topics_7.csv')"
   ]
  },
  {
   "cell_type": "code",
   "execution_count": 29,
   "id": "2c153876",
   "metadata": {},
   "outputs": [
    {
     "data": {
      "text/plain": [
       "['cv.jl']"
      ]
     },
     "execution_count": 29,
     "metadata": {},
     "output_type": "execute_result"
    }
   ],
   "source": [
    "# Dump countvectorizer\n",
    "joblib.dump(cv, 'cv.jl')"
   ]
  },
  {
   "cell_type": "code",
   "execution_count": 30,
   "id": "c06c71c2",
   "metadata": {},
   "outputs": [
    {
     "data": {
      "text/plain": [
       "['lda_model_7_topics.jl']"
      ]
     },
     "execution_count": 30,
     "metadata": {},
     "output_type": "execute_result"
    }
   ],
   "source": [
    "# Dump LDA model\n",
    "joblib.dump(lda, 'lda_model_7_topics.jl')"
   ]
  },
  {
   "cell_type": "code",
   "execution_count": null,
   "id": "25c09460",
   "metadata": {},
   "outputs": [],
   "source": []
  }
 ],
 "metadata": {
  "kernelspec": {
   "display_name": "nlp",
   "language": "python",
   "name": "nlp"
  },
  "language_info": {
   "codemirror_mode": {
    "name": "ipython",
    "version": 3
   },
   "file_extension": ".py",
   "mimetype": "text/x-python",
   "name": "python",
   "nbconvert_exporter": "python",
   "pygments_lexer": "ipython3",
   "version": "3.11.5"
  }
 },
 "nbformat": 4,
 "nbformat_minor": 5
}
