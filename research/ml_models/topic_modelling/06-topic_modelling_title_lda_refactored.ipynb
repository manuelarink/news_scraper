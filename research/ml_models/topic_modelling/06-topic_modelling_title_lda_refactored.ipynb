{
 "cells": [
  {
   "cell_type": "markdown",
   "id": "d23815fa",
   "metadata": {},
   "source": [
    "# Topic modelling of news headlines for prediction of news category with 7 topics"
   ]
  },
  {
   "cell_type": "markdown",
   "id": "75523a79",
   "metadata": {},
   "source": [
    "Now we wan't to perform topic modelling with unsupervised learning and train a modell for prediction of news category labels without using the provided labels in the corpus.\n",
    "We use the LDA classifier and assume 7 topics. "
   ]
  },
  {
   "cell_type": "code",
   "execution_count": 1,
   "id": "a2821ff5",
   "metadata": {},
   "outputs": [],
   "source": [
    "import pandas as pd\n",
    "import numpy as np\n",
    "import matplotlib.pyplot as plt\n",
    "import seaborn as sns\n",
    "\n",
    "import joblib\n",
    "\n",
    "import wordcloud\n",
    "\n",
    "import re\n",
    "\n",
    "import nlp_preprocessors\n",
    "\n",
    "import pyLDAvis.lda_model"
   ]
  },
  {
   "cell_type": "markdown",
   "id": "6594f2c8",
   "metadata": {},
   "source": [
    "## Load train set"
   ]
  },
  {
   "cell_type": "code",
   "execution_count": 2,
   "id": "d737f3a4",
   "metadata": {},
   "outputs": [],
   "source": [
    "train = pd.read_csv('../../data/01_train_nosplit_preprocessed.csv')"
   ]
  },
  {
   "cell_type": "code",
   "execution_count": 3,
   "id": "72fc6b38",
   "metadata": {},
   "outputs": [
    {
     "data": {
      "text/html": [
       "<div>\n",
       "<style scoped>\n",
       "    .dataframe tbody tr th:only-of-type {\n",
       "        vertical-align: middle;\n",
       "    }\n",
       "\n",
       "    .dataframe tbody tr th {\n",
       "        vertical-align: top;\n",
       "    }\n",
       "\n",
       "    .dataframe thead th {\n",
       "        text-align: right;\n",
       "    }\n",
       "</style>\n",
       "<table border=\"1\" class=\"dataframe\">\n",
       "  <thead>\n",
       "    <tr style=\"text-align: right;\">\n",
       "      <th></th>\n",
       "      <th>date</th>\n",
       "      <th>title</th>\n",
       "      <th>description</th>\n",
       "      <th>category</th>\n",
       "      <th>text</th>\n",
       "      <th>source</th>\n",
       "      <th>title_description_text</th>\n",
       "    </tr>\n",
       "  </thead>\n",
       "  <tbody>\n",
       "    <tr>\n",
       "      <th>0</th>\n",
       "      <td>2022-06-01 00:13:42</td>\n",
       "      <td>Preise: Grüne halten Senkung der Spritsteuer f...</td>\n",
       "      <td>Heute tritt die Steuersenkung auf Kraftstoffe ...</td>\n",
       "      <td>Other</td>\n",
       "      <td>NaN</td>\n",
       "      <td>stern</td>\n",
       "      <td>Preise: Grüne halten Senkung der Spritsteuer f...</td>\n",
       "    </tr>\n",
       "    <tr>\n",
       "      <th>1</th>\n",
       "      <td>2022-06-01 01:55:03</td>\n",
       "      <td>Biden warnt Putin: USA liefern moderne Raketen...</td>\n",
       "      <td>Die USA rüsten die Ukraine mit fortschrittlich...</td>\n",
       "      <td>Other</td>\n",
       "      <td>NaN</td>\n",
       "      <td>stern</td>\n",
       "      <td>Biden warnt Putin: USA liefern moderne Raketen...</td>\n",
       "    </tr>\n",
       "    <tr>\n",
       "      <th>2</th>\n",
       "      <td>2022-06-01 02:04:08</td>\n",
       "      <td>Soziale Medien: FDP-Politiker Kuhle: Internet-...</td>\n",
       "      <td>Eine «ZDF Magazin Royale»-Recherche beschäftig...</td>\n",
       "      <td>Other</td>\n",
       "      <td>NaN</td>\n",
       "      <td>stern</td>\n",
       "      <td>Soziale Medien: FDP-Politiker Kuhle: Internet-...</td>\n",
       "    </tr>\n",
       "    <tr>\n",
       "      <th>3</th>\n",
       "      <td>2022-06-01 02:26:58</td>\n",
       "      <td>Liveblog: ++ Zwei von drei ukrainischen Kinder...</td>\n",
       "      <td>Rund zwei von drei Mädchen und Jungen in der U...</td>\n",
       "      <td>Missing</td>\n",
       "      <td>NaN</td>\n",
       "      <td>Tagesschau</td>\n",
       "      <td>Liveblog: ++ Zwei von drei ukrainischen Kinder...</td>\n",
       "    </tr>\n",
       "    <tr>\n",
       "      <th>4</th>\n",
       "      <td>2022-06-01 02:31:43</td>\n",
       "      <td>Finanzen: Dänemark stimmt über EU-Verteidigung...</td>\n",
       "      <td>Vorbehalt verteidigen oder Verteidigung ohne V...</td>\n",
       "      <td>Other</td>\n",
       "      <td>NaN</td>\n",
       "      <td>stern</td>\n",
       "      <td>Finanzen: Dänemark stimmt über EU-Verteidigung...</td>\n",
       "    </tr>\n",
       "  </tbody>\n",
       "</table>\n",
       "</div>"
      ],
      "text/plain": [
       "                  date                                              title  \\\n",
       "0  2022-06-01 00:13:42  Preise: Grüne halten Senkung der Spritsteuer f...   \n",
       "1  2022-06-01 01:55:03  Biden warnt Putin: USA liefern moderne Raketen...   \n",
       "2  2022-06-01 02:04:08  Soziale Medien: FDP-Politiker Kuhle: Internet-...   \n",
       "3  2022-06-01 02:26:58  Liveblog: ++ Zwei von drei ukrainischen Kinder...   \n",
       "4  2022-06-01 02:31:43  Finanzen: Dänemark stimmt über EU-Verteidigung...   \n",
       "\n",
       "                                         description category  text  \\\n",
       "0  Heute tritt die Steuersenkung auf Kraftstoffe ...    Other   NaN   \n",
       "1  Die USA rüsten die Ukraine mit fortschrittlich...    Other   NaN   \n",
       "2  Eine «ZDF Magazin Royale»-Recherche beschäftig...    Other   NaN   \n",
       "3  Rund zwei von drei Mädchen und Jungen in der U...  Missing   NaN   \n",
       "4  Vorbehalt verteidigen oder Verteidigung ohne V...    Other   NaN   \n",
       "\n",
       "       source                             title_description_text  \n",
       "0       stern  Preise: Grüne halten Senkung der Spritsteuer f...  \n",
       "1       stern  Biden warnt Putin: USA liefern moderne Raketen...  \n",
       "2       stern  Soziale Medien: FDP-Politiker Kuhle: Internet-...  \n",
       "3  Tagesschau  Liveblog: ++ Zwei von drei ukrainischen Kinder...  \n",
       "4       stern  Finanzen: Dänemark stimmt über EU-Verteidigung...  "
      ]
     },
     "execution_count": 3,
     "metadata": {},
     "output_type": "execute_result"
    }
   ],
   "source": [
    "train.head()"
   ]
  },
  {
   "cell_type": "markdown",
   "id": "46b4f629",
   "metadata": {},
   "source": [
    "## Load German stopwords"
   ]
  },
  {
   "cell_type": "code",
   "execution_count": 4,
   "id": "da144b59",
   "metadata": {},
   "outputs": [],
   "source": [
    "stop_words = pd.read_csv('german_stopwords.txt', header=None)[0].values.tolist()"
   ]
  },
  {
   "cell_type": "code",
   "execution_count": 5,
   "id": "bd74c6d3",
   "metadata": {},
   "outputs": [
    {
     "name": "stdout",
     "output_type": "stream",
     "text": [
      "['ab', 'aber', 'alle', 'allein', 'allem', 'allen', 'aller', 'allerdings', 'allerlei', 'alles', 'allmählich', 'allzu', 'als', 'alsbald', 'also', 'am', 'an', 'and', 'ander', 'andere', 'anderem', 'anderen', 'anderer', 'andererseits', 'anderes', 'anderm', 'andern', 'andernfalls', 'anders', 'anstatt', 'auch', 'auf', 'aus', 'ausgenommen', 'ausser', 'ausserdem', 'außer', 'außerdem', 'außerhalb', 'bald', 'bei', 'beide', 'beiden', 'beiderlei', 'beides', 'beim', 'beinahe', 'bereits', 'besonders', 'besser', 'beträchtlich', 'bevor', 'bezüglich', 'bin', 'bis', 'bisher', 'bislang', 'bist', 'bloß', 'bsp.', 'bzw', 'ca', 'ca.', 'content', 'da', 'dabei', 'dadurch', 'dafür', 'dagegen', 'daher', 'dahin', 'damals', 'damit', 'danach', 'daneben', 'dann', 'daran', 'darauf', 'daraus', 'darin', 'darum', 'darunter', 'darüber', 'darüberhinaus', 'das', 'dass', 'dasselbe', 'davon', 'davor', 'dazu', 'daß', 'dein', 'deine', 'deinem', 'deinen', 'deiner', 'deines', 'dem', 'demnach', 'demselben', 'den', 'denen', 'denn', 'dennoch', 'denselben', 'der', 'derart', 'derartig', 'derem', 'deren', 'derer', 'derjenige', 'derjenigen', 'derselbe', 'derselben', 'derzeit', 'des', 'deshalb', 'desselben', 'dessen', 'desto', 'deswegen', 'dich', 'die', 'diejenige', 'dies', 'diese', 'dieselbe', 'dieselben', 'diesem', 'diesen', 'dieser', 'dieses', 'diesseits', 'dir', 'direkt', 'direkte', 'direkten', 'direkter', 'doch', 'dort', 'dorther', 'dorthin', 'drauf', 'drin', 'drunter', 'drüber', 'du', 'dunklen', 'durch', 'durchaus', 'eben', 'ebenfalls', 'ebenso', 'eher', 'eigenen', 'eigenes', 'eigentlich', 'ein', 'eine', 'einem', 'einen', 'einer', 'einerseits', 'eines', 'einfach', 'einführen', 'einführte', 'einführten', 'eingesetzt', 'einig', 'einige', 'einigem', 'einigen', 'einiger', 'einigermaßen', 'einiges', 'einmal', 'eins', 'einseitig', 'einseitige', 'einseitigen', 'einseitiger', 'einst', 'einstmals', 'einzig', 'entsprechend', 'entweder', 'er', 'erst', 'es', 'etc', 'etliche', 'etwa', 'etwas', 'euch', 'euer', 'eure', 'eurem', 'euren', 'eurer', 'eures', 'falls', 'fast', 'ferner', 'folgende', 'folgenden', 'folgender', 'folgendes', 'folglich', 'fuer', 'für', 'gab', 'ganze', 'ganzem', 'ganzen', 'ganzer', 'ganzes', 'gar', 'gegen', 'gemäss', 'ggf', 'gleich', 'gleichwohl', 'gleichzeitig', 'glücklicherweise', 'gänzlich', 'hab', 'habe', 'haben', 'haette', 'hast', 'hat', 'hatte', 'hatten', 'hattest', 'hattet', 'heraus', 'herein', 'hier', 'hier', 'hinter', 'hiermit', 'hiesige', 'hin', 'hinein', 'hinten', 'hinter', 'hinterher', 'http', 'hätt', 'hätte', 'hätten', 'höchstens', 'ich', 'igitt', 'ihm', 'ihn', 'ihnen', 'ihr', 'ihre', 'ihrem', 'ihren', 'ihrer', 'ihres', 'im', 'immer', 'immerhin', 'in', 'indem', 'indessen', 'infolge', 'innen', 'innerhalb', 'ins', 'insofern', 'inzwischen', 'irgend', 'irgendeine', 'irgendwas', 'irgendwen', 'irgendwer', 'irgendwie', 'irgendwo', 'ist', 'ja', 'je', 'jed', 'jede', 'jedem', 'jeden', 'jedenfalls', 'jeder', 'jederlei', 'jedes', 'jedoch', 'jemand', 'jene', 'jenem', 'jenen', 'jener', 'jenes', 'jenseits', 'jetzt', 'jährig', 'jährige', 'jährigen', 'jähriges', 'kam', 'kann', 'kannst', 'kaum', 'kein', 'keine', 'keinem', 'keinen', 'keiner', 'keinerlei', 'keines', 'keineswegs', 'klar', 'klare', 'klaren', 'klares', 'klein', 'kleinen', 'kleiner', 'kleines', 'koennen', 'koennt', 'koennte', 'koennten', 'komme', 'kommen', 'kommt', 'konkret', 'konkrete', 'konkreten', 'konkreter', 'konkretes', 'können', 'könnt', 'künftig', 'leider', 'machen', 'man', 'manche', 'manchem', 'manchen', 'mancher', 'mancherorts', 'manches', 'manchmal', 'mehr', 'mehrere', 'mein', 'meine', 'meinem', 'meinen', 'meiner', 'meines', 'mich', 'mir', 'mit', 'mithin', 'muessen', 'muesst', 'muesste', 'muss', 'musst', 'musste', 'mussten', 'muß', 'mußt', 'müssen', 'müsste', 'müssten', 'müßt', 'müßte', 'nach', 'nachdem', 'nachher', 'nachhinein', 'nahm', 'natürlich', 'neben', 'nebenan', 'nehmen', 'nein', 'nicht', 'nichts', 'nie', 'niemals', 'niemand', 'nirgends', 'nirgendwo', 'noch', 'nun', 'nur', 'nächste', 'nämlich', 'nötigenfalls', 'ob', 'oben', 'oberhalb', 'obgleich', 'obschon', 'obwohl', 'oder', 'oft', 'per', 'plötzlich', 'schließlich', 'schon', 'sehr', 'sehrwohl', 'seid', 'sein', 'seine', 'seinem', 'seinen', 'seiner', 'seines', 'seit', 'seitdem', 'seither', 'selber', 'selbst', 'sich', 'sicher', 'sicherlich', 'sie', 'sind', 'so', 'sobald', 'sodass', 'sodaß', 'soeben', 'sofern', 'sofort', 'sogar', 'solange', 'solch', 'solche', 'solchem', 'solchen', 'solcher', 'solches', 'soll', 'sollen', 'sollst', 'sollt', 'sollte', 'sollten', 'solltest', 'somit', 'sondern', 'sonst', 'sonstwo', 'sooft', 'soviel', 'soweit', 'sowie', 'sowohl', 'tatsächlich', 'tatsächlichen', 'tatsächlicher', 'tatsächliches', 'trotzdem', 'ueber', 'um', 'umso', 'unbedingt', 'und', 'unmöglich', 'unmögliche', 'unmöglichen', 'unmöglicher', 'uns', 'unser', 'unser', 'unsere', 'unsere', 'unserem', 'unseren', 'unserer', 'unseres', 'unter', 'usw', 'viel', 'viele', 'vielen', 'vieler', 'vieles', 'vielleicht', 'vielmals', 'vom', 'von', 'vor', 'voran', 'vorher', 'vorüber', 'völlig', 'wann', 'war', 'waren', 'warst', 'warum', 'was', 'weder', 'weil', 'weiter', 'weitere', 'weiterem', 'weiteren', 'weiterer', 'weiteres', 'weiterhin', 'weiß', 'welche', 'welchem', 'welchen', 'welcher', 'welches', 'wem', 'wen', 'wenig', 'wenige', 'weniger', 'wenigstens', 'wenn', 'wenngleich', 'wer', 'werde', 'werden', 'werdet', 'weshalb', 'wessen', 'wichtig', 'wie', 'wieder', 'wieso', 'wieviel', 'wiewohl', 'will', 'willst', 'wir', 'wird', 'wirklich', 'wirst', 'wo', 'wodurch', 'wogegen', 'woher', 'wohin', 'wohingegen', 'wohl', 'wohlweislich', 'womit', 'woraufhin', 'woraus', 'worin', 'wurde', 'wurden', 'während', 'währenddessen', 'wär', 'wäre', 'wären', 'würde', 'würden', 'z.B.', 'zB', 'zahlreich', 'zeitweise', 'zu', 'zudem', 'zuerst', 'zufolge', 'zugleich', 'zuletzt', 'zum', 'zumal', 'zur', 'zurück', 'zusammen', 'zuviel', 'zwar', 'zwischen', 'ähnlich', 'übel', 'über', 'überall', 'überallhin', 'überdies', 'übermorgen', 'übrig', 'übrigens']\n"
     ]
    }
   ],
   "source": [
    "print(stop_words)"
   ]
  },
  {
   "cell_type": "code",
   "execution_count": 6,
   "id": "11074738",
   "metadata": {},
   "outputs": [],
   "source": [
    "# append words to stopwords that contain no information\n",
    "stop_words += ['wegen', 'melden', 'meldet', 'können', 'könnte', 'könnten', 'update', 'neu', 'neue', 'neues', 'ohne', 'letzte', 'letzter',\n",
    "                  'letztes', 'eins', 'zwei', 'drei', 'vier', 'fünf', 'sechs', 'sieben', 'acht', 'neun', 'zehn',\n",
    "                   'gehen', 'geht', 'wollen', 'wollte', 'wollt', 'jahr', 'jahre', 'fordern', 'fordert',\n",
    "                  'warnen', 'warnt', 'frühjahr', 'frühling', 'sommer', 'herbst', 'winter', 'erneut', 'deutlich', 'schwer', 'jahren', 'woche',\n",
    "                  'wochen', 'monat', 'monate', 'tag', 'tage', 'stunden', 'stunde', 'minuten', 'minuten', 'ende', 'beenden', 'endet']"
   ]
  },
  {
   "cell_type": "markdown",
   "id": "174deee4",
   "metadata": {},
   "source": [
    "## Clean text"
   ]
  },
  {
   "cell_type": "code",
   "execution_count": 7,
   "id": "52b0a6a1",
   "metadata": {},
   "outputs": [],
   "source": [
    "train['title_cleaned'] = train['title'].apply(lambda x: nlp_preprocessors.clean_text(x))"
   ]
  },
  {
   "cell_type": "code",
   "execution_count": 8,
   "id": "24f72c5e",
   "metadata": {},
   "outputs": [
    {
     "data": {
      "text/html": [
       "<div>\n",
       "<style scoped>\n",
       "    .dataframe tbody tr th:only-of-type {\n",
       "        vertical-align: middle;\n",
       "    }\n",
       "\n",
       "    .dataframe tbody tr th {\n",
       "        vertical-align: top;\n",
       "    }\n",
       "\n",
       "    .dataframe thead th {\n",
       "        text-align: right;\n",
       "    }\n",
       "</style>\n",
       "<table border=\"1\" class=\"dataframe\">\n",
       "  <thead>\n",
       "    <tr style=\"text-align: right;\">\n",
       "      <th></th>\n",
       "      <th>date</th>\n",
       "      <th>title</th>\n",
       "      <th>description</th>\n",
       "      <th>category</th>\n",
       "      <th>text</th>\n",
       "      <th>source</th>\n",
       "      <th>title_description_text</th>\n",
       "      <th>title_cleaned</th>\n",
       "    </tr>\n",
       "  </thead>\n",
       "  <tbody>\n",
       "    <tr>\n",
       "      <th>0</th>\n",
       "      <td>2022-06-01 00:13:42</td>\n",
       "      <td>Preise: Grüne halten Senkung der Spritsteuer f...</td>\n",
       "      <td>Heute tritt die Steuersenkung auf Kraftstoffe ...</td>\n",
       "      <td>Other</td>\n",
       "      <td>NaN</td>\n",
       "      <td>stern</td>\n",
       "      <td>Preise: Grüne halten Senkung der Spritsteuer f...</td>\n",
       "      <td>Preis grüne halten Senkung Spritsteuer falsch ...</td>\n",
       "    </tr>\n",
       "    <tr>\n",
       "      <th>1</th>\n",
       "      <td>2022-06-01 01:55:03</td>\n",
       "      <td>Biden warnt Putin: USA liefern moderne Raketen...</td>\n",
       "      <td>Die USA rüsten die Ukraine mit fortschrittlich...</td>\n",
       "      <td>Other</td>\n",
       "      <td>NaN</td>\n",
       "      <td>stern</td>\n",
       "      <td>Biden warnt Putin: USA liefern moderne Raketen...</td>\n",
       "      <td>Biden warnen Putin USA liefern modern Raketens...</td>\n",
       "    </tr>\n",
       "    <tr>\n",
       "      <th>2</th>\n",
       "      <td>2022-06-01 02:04:08</td>\n",
       "      <td>Soziale Medien: FDP-Politiker Kuhle: Internet-...</td>\n",
       "      <td>Eine «ZDF Magazin Royale»-Recherche beschäftig...</td>\n",
       "      <td>Other</td>\n",
       "      <td>NaN</td>\n",
       "      <td>stern</td>\n",
       "      <td>Soziale Medien: FDP-Politiker Kuhle: Internet-...</td>\n",
       "      <td>sozial Medium FDP-Politiker Kuhle Internet-Str...</td>\n",
       "    </tr>\n",
       "    <tr>\n",
       "      <th>3</th>\n",
       "      <td>2022-06-01 02:26:58</td>\n",
       "      <td>Liveblog: ++ Zwei von drei ukrainischen Kinder...</td>\n",
       "      <td>Rund zwei von drei Mädchen und Jungen in der U...</td>\n",
       "      <td>Missing</td>\n",
       "      <td>NaN</td>\n",
       "      <td>Tagesschau</td>\n",
       "      <td>Liveblog: ++ Zwei von drei ukrainischen Kinder...</td>\n",
       "      <td>Liveblog ukrainisch Kind vertreiben</td>\n",
       "    </tr>\n",
       "    <tr>\n",
       "      <th>4</th>\n",
       "      <td>2022-06-01 02:31:43</td>\n",
       "      <td>Finanzen: Dänemark stimmt über EU-Verteidigung...</td>\n",
       "      <td>Vorbehalt verteidigen oder Verteidigung ohne V...</td>\n",
       "      <td>Other</td>\n",
       "      <td>NaN</td>\n",
       "      <td>stern</td>\n",
       "      <td>Finanzen: Dänemark stimmt über EU-Verteidigung...</td>\n",
       "      <td>Finanz Dänemark stimmen EU-Verteidigungsvorbehalt</td>\n",
       "    </tr>\n",
       "  </tbody>\n",
       "</table>\n",
       "</div>"
      ],
      "text/plain": [
       "                  date                                              title  \\\n",
       "0  2022-06-01 00:13:42  Preise: Grüne halten Senkung der Spritsteuer f...   \n",
       "1  2022-06-01 01:55:03  Biden warnt Putin: USA liefern moderne Raketen...   \n",
       "2  2022-06-01 02:04:08  Soziale Medien: FDP-Politiker Kuhle: Internet-...   \n",
       "3  2022-06-01 02:26:58  Liveblog: ++ Zwei von drei ukrainischen Kinder...   \n",
       "4  2022-06-01 02:31:43  Finanzen: Dänemark stimmt über EU-Verteidigung...   \n",
       "\n",
       "                                         description category  text  \\\n",
       "0  Heute tritt die Steuersenkung auf Kraftstoffe ...    Other   NaN   \n",
       "1  Die USA rüsten die Ukraine mit fortschrittlich...    Other   NaN   \n",
       "2  Eine «ZDF Magazin Royale»-Recherche beschäftig...    Other   NaN   \n",
       "3  Rund zwei von drei Mädchen und Jungen in der U...  Missing   NaN   \n",
       "4  Vorbehalt verteidigen oder Verteidigung ohne V...    Other   NaN   \n",
       "\n",
       "       source                             title_description_text  \\\n",
       "0       stern  Preise: Grüne halten Senkung der Spritsteuer f...   \n",
       "1       stern  Biden warnt Putin: USA liefern moderne Raketen...   \n",
       "2       stern  Soziale Medien: FDP-Politiker Kuhle: Internet-...   \n",
       "3  Tagesschau  Liveblog: ++ Zwei von drei ukrainischen Kinder...   \n",
       "4       stern  Finanzen: Dänemark stimmt über EU-Verteidigung...   \n",
       "\n",
       "                                       title_cleaned  \n",
       "0  Preis grüne halten Senkung Spritsteuer falsch ...  \n",
       "1  Biden warnen Putin USA liefern modern Raketens...  \n",
       "2  sozial Medium FDP-Politiker Kuhle Internet-Str...  \n",
       "3                Liveblog ukrainisch Kind vertreiben  \n",
       "4  Finanz Dänemark stimmen EU-Verteidigungsvorbehalt  "
      ]
     },
     "execution_count": 8,
     "metadata": {},
     "output_type": "execute_result"
    }
   ],
   "source": [
    "train.head()"
   ]
  },
  {
   "cell_type": "markdown",
   "id": "a12c363c",
   "metadata": {},
   "source": [
    "## Extract features from 'title' "
   ]
  },
  {
   "cell_type": "code",
   "execution_count": 9,
   "id": "cd42c0db",
   "metadata": {},
   "outputs": [],
   "source": [
    "from sklearn.feature_extraction.text import CountVectorizer"
   ]
  },
  {
   "cell_type": "code",
   "execution_count": 10,
   "id": "38ab615c",
   "metadata": {},
   "outputs": [],
   "source": [
    "cv = CountVectorizer(max_df=0.95, min_df=2, stop_words=stop_words)"
   ]
  },
  {
   "cell_type": "code",
   "execution_count": 11,
   "id": "a628f0d2",
   "metadata": {},
   "outputs": [
    {
     "name": "stderr",
     "output_type": "stream",
     "text": [
      "C:\\Users\\manuela.rink\\anaconda3\\envs\\nlp\\Lib\\site-packages\\sklearn\\feature_extraction\\text.py:409: UserWarning: Your stop_words may be inconsistent with your preprocessing. Tokenizing the stop words generated tokens ['bsp', 'zb'] not in stop_words.\n",
      "  warnings.warn(\n"
     ]
    }
   ],
   "source": [
    "# create Document-Term-Matrix\n",
    "dtm = cv.fit_transform(train['title_cleaned'])"
   ]
  },
  {
   "cell_type": "code",
   "execution_count": 12,
   "id": "faba69b8",
   "metadata": {},
   "outputs": [
    {
     "data": {
      "text/plain": [
       "<67513x21412 sparse matrix of type '<class 'numpy.int64'>'\n",
       "\twith 330201 stored elements in Compressed Sparse Row format>"
      ]
     },
     "execution_count": 12,
     "metadata": {},
     "output_type": "execute_result"
    }
   ],
   "source": [
    "dtm"
   ]
  },
  {
   "cell_type": "code",
   "execution_count": 13,
   "id": "3f48b861",
   "metadata": {},
   "outputs": [],
   "source": [
    "from sklearn.decomposition import LatentDirichletAllocation"
   ]
  },
  {
   "cell_type": "code",
   "execution_count": 14,
   "id": "fdf60b9b",
   "metadata": {},
   "outputs": [
    {
     "data": {
      "text/html": [
       "<style>#sk-container-id-1 {color: black;background-color: white;}#sk-container-id-1 pre{padding: 0;}#sk-container-id-1 div.sk-toggleable {background-color: white;}#sk-container-id-1 label.sk-toggleable__label {cursor: pointer;display: block;width: 100%;margin-bottom: 0;padding: 0.3em;box-sizing: border-box;text-align: center;}#sk-container-id-1 label.sk-toggleable__label-arrow:before {content: \"▸\";float: left;margin-right: 0.25em;color: #696969;}#sk-container-id-1 label.sk-toggleable__label-arrow:hover:before {color: black;}#sk-container-id-1 div.sk-estimator:hover label.sk-toggleable__label-arrow:before {color: black;}#sk-container-id-1 div.sk-toggleable__content {max-height: 0;max-width: 0;overflow: hidden;text-align: left;background-color: #f0f8ff;}#sk-container-id-1 div.sk-toggleable__content pre {margin: 0.2em;color: black;border-radius: 0.25em;background-color: #f0f8ff;}#sk-container-id-1 input.sk-toggleable__control:checked~div.sk-toggleable__content {max-height: 200px;max-width: 100%;overflow: auto;}#sk-container-id-1 input.sk-toggleable__control:checked~label.sk-toggleable__label-arrow:before {content: \"▾\";}#sk-container-id-1 div.sk-estimator input.sk-toggleable__control:checked~label.sk-toggleable__label {background-color: #d4ebff;}#sk-container-id-1 div.sk-label input.sk-toggleable__control:checked~label.sk-toggleable__label {background-color: #d4ebff;}#sk-container-id-1 input.sk-hidden--visually {border: 0;clip: rect(1px 1px 1px 1px);clip: rect(1px, 1px, 1px, 1px);height: 1px;margin: -1px;overflow: hidden;padding: 0;position: absolute;width: 1px;}#sk-container-id-1 div.sk-estimator {font-family: monospace;background-color: #f0f8ff;border: 1px dotted black;border-radius: 0.25em;box-sizing: border-box;margin-bottom: 0.5em;}#sk-container-id-1 div.sk-estimator:hover {background-color: #d4ebff;}#sk-container-id-1 div.sk-parallel-item::after {content: \"\";width: 100%;border-bottom: 1px solid gray;flex-grow: 1;}#sk-container-id-1 div.sk-label:hover label.sk-toggleable__label {background-color: #d4ebff;}#sk-container-id-1 div.sk-serial::before {content: \"\";position: absolute;border-left: 1px solid gray;box-sizing: border-box;top: 0;bottom: 0;left: 50%;z-index: 0;}#sk-container-id-1 div.sk-serial {display: flex;flex-direction: column;align-items: center;background-color: white;padding-right: 0.2em;padding-left: 0.2em;position: relative;}#sk-container-id-1 div.sk-item {position: relative;z-index: 1;}#sk-container-id-1 div.sk-parallel {display: flex;align-items: stretch;justify-content: center;background-color: white;position: relative;}#sk-container-id-1 div.sk-item::before, #sk-container-id-1 div.sk-parallel-item::before {content: \"\";position: absolute;border-left: 1px solid gray;box-sizing: border-box;top: 0;bottom: 0;left: 50%;z-index: -1;}#sk-container-id-1 div.sk-parallel-item {display: flex;flex-direction: column;z-index: 1;position: relative;background-color: white;}#sk-container-id-1 div.sk-parallel-item:first-child::after {align-self: flex-end;width: 50%;}#sk-container-id-1 div.sk-parallel-item:last-child::after {align-self: flex-start;width: 50%;}#sk-container-id-1 div.sk-parallel-item:only-child::after {width: 0;}#sk-container-id-1 div.sk-dashed-wrapped {border: 1px dashed gray;margin: 0 0.4em 0.5em 0.4em;box-sizing: border-box;padding-bottom: 0.4em;background-color: white;}#sk-container-id-1 div.sk-label label {font-family: monospace;font-weight: bold;display: inline-block;line-height: 1.2em;}#sk-container-id-1 div.sk-label-container {text-align: center;}#sk-container-id-1 div.sk-container {/* jupyter's `normalize.less` sets `[hidden] { display: none; }` but bootstrap.min.css set `[hidden] { display: none !important; }` so we also need the `!important` here to be able to override the default hidden behavior on the sphinx rendered scikit-learn.org. See: https://github.com/scikit-learn/scikit-learn/issues/21755 */display: inline-block !important;position: relative;}#sk-container-id-1 div.sk-text-repr-fallback {display: none;}</style><div id=\"sk-container-id-1\" class=\"sk-top-container\"><div class=\"sk-text-repr-fallback\"><pre>LatentDirichletAllocation(n_components=7, random_state=42)</pre><b>In a Jupyter environment, please rerun this cell to show the HTML representation or trust the notebook. <br />On GitHub, the HTML representation is unable to render, please try loading this page with nbviewer.org.</b></div><div class=\"sk-container\" hidden><div class=\"sk-item\"><div class=\"sk-estimator sk-toggleable\"><input class=\"sk-toggleable__control sk-hidden--visually\" id=\"sk-estimator-id-1\" type=\"checkbox\" checked><label for=\"sk-estimator-id-1\" class=\"sk-toggleable__label sk-toggleable__label-arrow\">LatentDirichletAllocation</label><div class=\"sk-toggleable__content\"><pre>LatentDirichletAllocation(n_components=7, random_state=42)</pre></div></div></div></div></div>"
      ],
      "text/plain": [
       "LatentDirichletAllocation(n_components=7, random_state=42)"
      ]
     },
     "execution_count": 14,
     "metadata": {},
     "output_type": "execute_result"
    }
   ],
   "source": [
    "lda = LatentDirichletAllocation(n_components=7, random_state=42)\n",
    "lda.fit(dtm)"
   ]
  },
  {
   "cell_type": "markdown",
   "id": "a2f3296f",
   "metadata": {},
   "source": [
    "## Analyse extracted features"
   ]
  },
  {
   "cell_type": "code",
   "execution_count": 15,
   "id": "44c85ba2",
   "metadata": {},
   "outputs": [
    {
     "data": {
      "text/plain": [
       "21412"
      ]
     },
     "execution_count": 15,
     "metadata": {},
     "output_type": "execute_result"
    }
   ],
   "source": [
    "len(cv.get_feature_names_out())"
   ]
  },
  {
   "cell_type": "code",
   "execution_count": 16,
   "id": "79a3b48a",
   "metadata": {},
   "outputs": [
    {
     "data": {
      "text/plain": [
       "array(['000', '034', '039', ..., 'войны', 'российские', 'украинцы'],\n",
       "      dtype=object)"
      ]
     },
     "execution_count": 16,
     "metadata": {},
     "output_type": "execute_result"
    }
   ],
   "source": [
    "cv.get_feature_names_out()"
   ]
  },
  {
   "cell_type": "code",
   "execution_count": 17,
   "id": "6d276a41",
   "metadata": {},
   "outputs": [
    {
     "data": {
      "text/plain": [
       "7"
      ]
     },
     "execution_count": 17,
     "metadata": {},
     "output_type": "execute_result"
    }
   ],
   "source": [
    "len(lda.components_)"
   ]
  },
  {
   "cell_type": "code",
   "execution_count": 18,
   "id": "be61548c",
   "metadata": {},
   "outputs": [
    {
     "data": {
      "text/plain": [
       "array([[ 0.14348793, 18.51293758,  1.26928899, ...,  0.14285737,\n",
       "         0.14285737,  0.14285766],\n",
       "       [ 1.4931218 ,  7.11578264,  0.18207471, ...,  2.14285544,\n",
       "         2.14285544,  0.14285779],\n",
       "       [12.86028139, 13.05717921, 27.06406766, ...,  0.14285742,\n",
       "         0.14285742,  0.14285776],\n",
       "       ...,\n",
       "       [ 0.14291442, 12.40353645, 22.27189586, ...,  0.14285744,\n",
       "         0.14285744,  0.14285782],\n",
       "       [ 0.14320841,  5.59882667,  0.14294238, ...,  0.14285742,\n",
       "         0.14285742,  0.14285777],\n",
       "       [ 2.07410323, 10.8853864 ,  0.14289863, ...,  0.14285745,\n",
       "         0.14285745,  2.14285337]])"
      ]
     },
     "execution_count": 18,
     "metadata": {},
     "output_type": "execute_result"
    }
   ],
   "source": [
    "lda.components_"
   ]
  },
  {
   "cell_type": "code",
   "execution_count": 19,
   "id": "45a65bd8",
   "metadata": {},
   "outputs": [
    {
     "data": {
      "text/plain": [
       "21412"
      ]
     },
     "execution_count": 19,
     "metadata": {},
     "output_type": "execute_result"
    }
   ],
   "source": [
    "len(lda.components_[0])"
   ]
  },
  {
   "cell_type": "markdown",
   "id": "9e30cf34",
   "metadata": {},
   "source": [
    "### Show most important words of first extracted topic"
   ]
  },
  {
   "cell_type": "code",
   "execution_count": 20,
   "id": "c617b9e0",
   "metadata": {},
   "outputs": [],
   "source": [
    "first_topic = lda.components_[0]"
   ]
  },
  {
   "cell_type": "code",
   "execution_count": 21,
   "id": "258f618e",
   "metadata": {},
   "outputs": [
    {
     "data": {
      "text/plain": [
       "array([20969, 15342, 16516, ..., 15091, 10150, 18325], dtype=int64)"
      ]
     },
     "execution_count": 21,
     "metadata": {},
     "output_type": "execute_result"
    }
   ],
   "source": [
    "first_topic.argsort() # returns indices of ascending sorted array values "
   ]
  },
  {
   "cell_type": "code",
   "execution_count": 22,
   "id": "5966880a",
   "metadata": {},
   "outputs": [],
   "source": [
    "# the last 10 entries are the 10 most important words for topic 1\n",
    "top_words_indices = first_topic.argsort()[-10:]"
   ]
  },
  {
   "cell_type": "code",
   "execution_count": 23,
   "id": "11648839",
   "metadata": {},
   "outputs": [
    {
     "name": "stdout",
     "output_type": "stream",
     "text": [
      "liveblog\n",
      "selenskyj\n",
      "angriff\n",
      "kiew\n",
      "lage\n",
      "putin\n",
      "russisch\n",
      "russland\n",
      "krieg\n",
      "ukraine\n"
     ]
    }
   ],
   "source": [
    "for index in top_words_indices:\n",
    "    print(cv.get_feature_names_out()[index])"
   ]
  },
  {
   "cell_type": "markdown",
   "id": "0d661247",
   "metadata": {},
   "source": [
    "### Show most important words of first extracted topic"
   ]
  },
  {
   "cell_type": "code",
   "execution_count": 24,
   "id": "f789d8f2",
   "metadata": {},
   "outputs": [
    {
     "name": "stdout",
     "output_type": "stream",
     "text": [
      "Die TOP-15 Wörter für das Thema #0\n",
      "['stimme', 'invasion', 'moskau', 'ukrainisch', 'nato', 'liveblog', 'selenskyj', 'angriff', 'kiew', 'lage', 'putin', 'russisch', 'russland', 'krieg', 'ukraine']\n",
      "\n",
      "\n",
      "Die TOP-15 Wörter für das Thema #1\n",
      "['johnson', 'großbritannien', 'eu', 'fdp', 'spd', 'land', 'panzer', 'faeser', 'streit', 'wahrheit', 'habeck', 'lindner', 'regierung', 'ampel', 'euro']\n",
      "\n",
      "\n",
      "Die TOP-15 Wörter für das Thema #2\n",
      "['usa', 'biden', 'us', 'million', 'fußball', 'gut', 'welt', 'taiwan', 'groß', 'analyse', 'berlin', 'wm', 'deutschland', 'scholz', 'china']\n",
      "\n",
      "\n",
      "Die TOP-15 Wörter für das Thema #3\n",
      "['podcast', 'nordkorea', 'tod', 'russland', 'haft', 'bahn', 'putin', 'ex', 'wahl', 'klima', 'partei', 'türkei', 'israel', 'afd', 'deutsch']\n",
      "\n",
      "\n",
      "Die TOP-15 Wörter für das Thema #4\n",
      "['mindestens', 'retten', 'europa', 'merz', 'steingart', 'gabor', 'spd', 'sanktion', 'gas', 'gastbeitrag', 'frau', 'grüne', 'cdu', 'tote', 'eu']\n",
      "\n",
      "\n",
      "Die TOP-15 Wörter für das Thema #5\n",
      "['stark', 'mensch', 'präsident', 'news', 'us', 'hoch', 'preis', 'inflation', 'kind', 'pandemie', 'deutschland', 'lauterbach', 'marktbericht', 'trump', 'corona']\n",
      "\n",
      "\n",
      "Die TOP-15 Wörter für das Thema #6\n",
      "['polizei', 'leipzig', 'auto', 'deutschland', 'berlin', 'bundesliga', 'g7', 'iran', 'wahl', 'gipfel', 'frankreich', 'bayern', 'usa', 'protest', 'us']\n",
      "\n",
      "\n"
     ]
    }
   ],
   "source": [
    "for index, topic in enumerate(lda.components_):\n",
    "    print(f'Die TOP-15 Wörter für das Thema #{index}')\n",
    "    print([cv.get_feature_names_out()[i] for i in topic.argsort()[-15:]])\n",
    "    print('\\n')"
   ]
  },
  {
   "cell_type": "markdown",
   "id": "a0973fc9",
   "metadata": {},
   "source": [
    "### Get topics with highest probability for news items in train data"
   ]
  },
  {
   "cell_type": "code",
   "execution_count": 25,
   "id": "0f46f47f",
   "metadata": {},
   "outputs": [
    {
     "data": {
      "text/plain": [
       "(67513, 7)"
      ]
     },
     "execution_count": 25,
     "metadata": {},
     "output_type": "execute_result"
    }
   ],
   "source": [
    "topic_results = lda.transform(dtm)\n",
    "topic_results.shape"
   ]
  },
  {
   "cell_type": "code",
   "execution_count": 26,
   "id": "823c7020",
   "metadata": {},
   "outputs": [
    {
     "data": {
      "text/plain": [
       "array([0.01787, 0.40656, 0.01789, 0.25146, 0.1279 , 0.16044, 0.01787])"
      ]
     },
     "execution_count": 26,
     "metadata": {},
     "output_type": "execute_result"
    }
   ],
   "source": [
    "topic_results[0].round(5)"
   ]
  },
  {
   "cell_type": "code",
   "execution_count": 27,
   "id": "f68cacd0",
   "metadata": {},
   "outputs": [
    {
     "data": {
      "text/plain": [
       "1"
      ]
     },
     "execution_count": 27,
     "metadata": {},
     "output_type": "execute_result"
    }
   ],
   "source": [
    "topic_results[0].argmax()"
   ]
  },
  {
   "cell_type": "code",
   "execution_count": 28,
   "id": "6e11fb89",
   "metadata": {},
   "outputs": [],
   "source": [
    "# save topic to train dataset\n",
    "train['topic'] = topic_results.argmax(axis=1)"
   ]
  },
  {
   "cell_type": "code",
   "execution_count": 29,
   "id": "7eb2c522",
   "metadata": {},
   "outputs": [
    {
     "data": {
      "text/html": [
       "<div>\n",
       "<style scoped>\n",
       "    .dataframe tbody tr th:only-of-type {\n",
       "        vertical-align: middle;\n",
       "    }\n",
       "\n",
       "    .dataframe tbody tr th {\n",
       "        vertical-align: top;\n",
       "    }\n",
       "\n",
       "    .dataframe thead th {\n",
       "        text-align: right;\n",
       "    }\n",
       "</style>\n",
       "<table border=\"1\" class=\"dataframe\">\n",
       "  <thead>\n",
       "    <tr style=\"text-align: right;\">\n",
       "      <th></th>\n",
       "      <th>date</th>\n",
       "      <th>title</th>\n",
       "      <th>description</th>\n",
       "      <th>category</th>\n",
       "      <th>text</th>\n",
       "      <th>source</th>\n",
       "      <th>title_description_text</th>\n",
       "      <th>title_cleaned</th>\n",
       "      <th>topic</th>\n",
       "    </tr>\n",
       "  </thead>\n",
       "  <tbody>\n",
       "    <tr>\n",
       "      <th>0</th>\n",
       "      <td>2022-06-01 00:13:42</td>\n",
       "      <td>Preise: Grüne halten Senkung der Spritsteuer f...</td>\n",
       "      <td>Heute tritt die Steuersenkung auf Kraftstoffe ...</td>\n",
       "      <td>Other</td>\n",
       "      <td>NaN</td>\n",
       "      <td>stern</td>\n",
       "      <td>Preise: Grüne halten Senkung der Spritsteuer f...</td>\n",
       "      <td>Preis grüne halten Senkung Spritsteuer falsch ...</td>\n",
       "      <td>1</td>\n",
       "    </tr>\n",
       "    <tr>\n",
       "      <th>1</th>\n",
       "      <td>2022-06-01 01:55:03</td>\n",
       "      <td>Biden warnt Putin: USA liefern moderne Raketen...</td>\n",
       "      <td>Die USA rüsten die Ukraine mit fortschrittlich...</td>\n",
       "      <td>Other</td>\n",
       "      <td>NaN</td>\n",
       "      <td>stern</td>\n",
       "      <td>Biden warnt Putin: USA liefern moderne Raketen...</td>\n",
       "      <td>Biden warnen Putin USA liefern modern Raketens...</td>\n",
       "      <td>0</td>\n",
       "    </tr>\n",
       "    <tr>\n",
       "      <th>2</th>\n",
       "      <td>2022-06-01 02:04:08</td>\n",
       "      <td>Soziale Medien: FDP-Politiker Kuhle: Internet-...</td>\n",
       "      <td>Eine «ZDF Magazin Royale»-Recherche beschäftig...</td>\n",
       "      <td>Other</td>\n",
       "      <td>NaN</td>\n",
       "      <td>stern</td>\n",
       "      <td>Soziale Medien: FDP-Politiker Kuhle: Internet-...</td>\n",
       "      <td>sozial Medium FDP-Politiker Kuhle Internet-Str...</td>\n",
       "      <td>1</td>\n",
       "    </tr>\n",
       "    <tr>\n",
       "      <th>3</th>\n",
       "      <td>2022-06-01 02:26:58</td>\n",
       "      <td>Liveblog: ++ Zwei von drei ukrainischen Kinder...</td>\n",
       "      <td>Rund zwei von drei Mädchen und Jungen in der U...</td>\n",
       "      <td>Missing</td>\n",
       "      <td>NaN</td>\n",
       "      <td>Tagesschau</td>\n",
       "      <td>Liveblog: ++ Zwei von drei ukrainischen Kinder...</td>\n",
       "      <td>Liveblog ukrainisch Kind vertreiben</td>\n",
       "      <td>0</td>\n",
       "    </tr>\n",
       "    <tr>\n",
       "      <th>4</th>\n",
       "      <td>2022-06-01 02:31:43</td>\n",
       "      <td>Finanzen: Dänemark stimmt über EU-Verteidigung...</td>\n",
       "      <td>Vorbehalt verteidigen oder Verteidigung ohne V...</td>\n",
       "      <td>Other</td>\n",
       "      <td>NaN</td>\n",
       "      <td>stern</td>\n",
       "      <td>Finanzen: Dänemark stimmt über EU-Verteidigung...</td>\n",
       "      <td>Finanz Dänemark stimmen EU-Verteidigungsvorbehalt</td>\n",
       "      <td>1</td>\n",
       "    </tr>\n",
       "  </tbody>\n",
       "</table>\n",
       "</div>"
      ],
      "text/plain": [
       "                  date                                              title  \\\n",
       "0  2022-06-01 00:13:42  Preise: Grüne halten Senkung der Spritsteuer f...   \n",
       "1  2022-06-01 01:55:03  Biden warnt Putin: USA liefern moderne Raketen...   \n",
       "2  2022-06-01 02:04:08  Soziale Medien: FDP-Politiker Kuhle: Internet-...   \n",
       "3  2022-06-01 02:26:58  Liveblog: ++ Zwei von drei ukrainischen Kinder...   \n",
       "4  2022-06-01 02:31:43  Finanzen: Dänemark stimmt über EU-Verteidigung...   \n",
       "\n",
       "                                         description category  text  \\\n",
       "0  Heute tritt die Steuersenkung auf Kraftstoffe ...    Other   NaN   \n",
       "1  Die USA rüsten die Ukraine mit fortschrittlich...    Other   NaN   \n",
       "2  Eine «ZDF Magazin Royale»-Recherche beschäftig...    Other   NaN   \n",
       "3  Rund zwei von drei Mädchen und Jungen in der U...  Missing   NaN   \n",
       "4  Vorbehalt verteidigen oder Verteidigung ohne V...    Other   NaN   \n",
       "\n",
       "       source                             title_description_text  \\\n",
       "0       stern  Preise: Grüne halten Senkung der Spritsteuer f...   \n",
       "1       stern  Biden warnt Putin: USA liefern moderne Raketen...   \n",
       "2       stern  Soziale Medien: FDP-Politiker Kuhle: Internet-...   \n",
       "3  Tagesschau  Liveblog: ++ Zwei von drei ukrainischen Kinder...   \n",
       "4       stern  Finanzen: Dänemark stimmt über EU-Verteidigung...   \n",
       "\n",
       "                                       title_cleaned  topic  \n",
       "0  Preis grüne halten Senkung Spritsteuer falsch ...      1  \n",
       "1  Biden warnen Putin USA liefern modern Raketens...      0  \n",
       "2  sozial Medium FDP-Politiker Kuhle Internet-Str...      1  \n",
       "3                Liveblog ukrainisch Kind vertreiben      0  \n",
       "4  Finanz Dänemark stimmen EU-Verteidigungsvorbehalt      1  "
      ]
     },
     "execution_count": 29,
     "metadata": {},
     "output_type": "execute_result"
    }
   ],
   "source": [
    "train.head()"
   ]
  },
  {
   "cell_type": "markdown",
   "id": "a0751e64",
   "metadata": {},
   "source": [
    "## Visualize model"
   ]
  },
  {
   "cell_type": "code",
   "execution_count": 30,
   "id": "39e7a68b",
   "metadata": {},
   "outputs": [
    {
     "data": {
      "text/html": [
       "\n",
       "<link rel=\"stylesheet\" type=\"text/css\" href=\"https://cdn.jsdelivr.net/gh/bmabey/pyLDAvis@3.4.0/pyLDAvis/js/ldavis.v1.0.0.css\">\n",
       "\n",
       "\n",
       "<div id=\"ldavis_el1048421056404899684390071915\" style=\"background-color:white;\"></div>\n",
       "<script type=\"text/javascript\">\n",
       "\n",
       "var ldavis_el1048421056404899684390071915_data = {\"mdsDat\": {\"x\": [-13.99721622467041, 17.531587600708008, 32.23877716064453, -28.602218627929688, 16.454648971557617, 1.8087642192840576, -12.819125175476074], \"y\": [36.42131805419922, -15.635833740234375, 10.958027839660645, 9.705538749694824, 36.96448516845703, 10.358518600463867, -16.30126190185547], \"topics\": [1, 2, 3, 4, 5, 6, 7], \"cluster\": [1, 1, 1, 1, 1, 1, 1], \"Freq\": [17.31891267916294, 14.534680611859125, 14.226685209401005, 14.11655949096064, 13.444288691147113, 13.190136964208229, 13.168736353260947]}, \"tinfo\": {\"Term\": [\"ukraine\", \"krieg\", \"russisch\", \"corona\", \"russland\", \"china\", \"eu\", \"putin\", \"protest\", \"scholz\", \"euro\", \"us\", \"lage\", \"ampel\", \"kiew\", \"trump\", \"wm\", \"selenskyj\", \"marktbericht\", \"cdu\", \"angriff\", \"tote\", \"deutsch\", \"liveblog\", \"regierung\", \"bayern\", \"frankreich\", \"wahl\", \"lauterbach\", \"pandemie\", \"ukraine\", \"krieg\", \"lage\", \"russisch\", \"selenskyj\", \"liveblog\", \"ukrainisch\", \"invasion\", \"stimme\", \"kiew\", \"entwicklung\", \"wagner\", \"russe\", \"soldat\", \"morgen\", \"bachmut\", \"russischer\", \"krim\", \"truppe\", \"saporischschja\", \"armee\", \"kriegsverlauf\", \"\\u00fcberblick\", \"front\", \"prigoschin\", \"ukrainer\", \"updat\", \"offensive\", \"beitritt\", \"cherson\", \"angriff\", \"nato\", \"russland\", \"putin\", \"nachricht\", \"waffe\", \"moskau\", \"kreml\", \"liefern\", \"chef\", \"westen\", \"akw\", \"usa\", \"taiwan\", \"ulrich\", \"reitz\", \"em\", \"zahlen\", \"olaf\", \"versteher\", \"heizungsgesetz\", \"york\", \"wm\", \"stiftung\", \"bundeskanzler\", \"letzten\", \"leichtathletik\", \"positiv\", \"auge\", \"j\\u00e4ger\", \"nachhaltig\", \"katar\", \"belgien\", \"milit\\u00e4rman\\u00f6ver\", \"viertelfinal\", \"legalisierung\", \"fukushima\", \"abe\", \"diktator\", \"wahlwiederholung\", \"staatssekret\\u00e4r\", \"zverev\", \"mut\", \"thomas\", \"pelosi\", \"fifa\", \"welt\", \"reise\", \"china\", \"aktion\", \"xi\", \"analyse\", \"generation\", \"scholz\", \"japan\", \"ddr\", \"fu\\u00dfball\", \"zahl\", \"kanzler\", \"new\", \"million\", \"deutschland\", \"besuch\", \"berlin\", \"gro\\u00df\", \"schlecht\", \"gut\", \"politik\", \"biden\", \"sterben\", \"habeck\", \"usa\", \"us\", \"treffen\", \"putin\", \"eu\", \"pandemie\", \"inflation\", \"news\", \"kirche\", \"preis\", \"lauterbach\", \"corona\", \"donald\", \"brand\", \"hitze\", \"wetter\", \"rbb\", \"anleger\", \"inzidenz\", \"rki\", \"waldbrand\", \"wall\", \"missbrauch\", \"katholisch\", \"anklage\", \"bolsonaro\", \"for\", \"georgien\", \"hei\\u00df\", \"fragen\", \"marktbericht\", \"holstein\", \"schleswig\", \"lanka\", \"sri\", \"dax\", \"trump\", \"warnstreik\", \"sparen\", \"sinken\", \"impfung\", \"kind\", \"street\", \"brasilien\", \"sudan\", \"stark\", \"klinik\", \"sturm\", \"hoch\", \"erwarten\", \"hilfe\", \"nord\", \"pr\\u00e4sident\", \"deutschland\", \"steigen\", \"mensch\", \"bleiben\", \"us\", \"deutsch\", \"ex\", \"lindner\", \"wahrheit\", \"panzer\", \"gro\\u00dfbritannien\", \"johnson\", \"ticket\", \"boris\", \"gr\\u00fcnen\", \"leopard\", \"ukrainekrieg\", \"musk\", \"pistorius\", \"bund\", \"nachfolge\", \"verbrenner\", \"entlastung\", \"chefin\", \"kommune\", \"wissing\", \"haushalt\", \"serbien\", \"kindergrundsicherung\", \"kosovo\", \"truss\", \"gasumlage\", \"energiewende\", \"entlastungspaket\", \"co2\", \"brexit\", \"sunak\", \"faeser\", \"euro\", \"lambrecht\", \"ampel\", \"milliarde\", \"minister\", \"regierung\", \"twitter\", \"druck\", \"streit\", \"r\\u00fccktritt\", \"fdp\", \"britisch\", \"studie\", \"habeck\", \"debatte\", \"spd\", \"bundeswehr\", \"land\", \"kritik\", \"plan\", \"eu\", \"stellen\", \"bleiben\", \"bundesregierung\", \"gastbeitrag\", \"sanktion\", \"steingart\", \"gabor\", \"erdbeben\", \"m\\u00fcller\", \"aiwanger\", \"ungarn\", \"mindestens\", \"hugo\", \"vogg\", \"trainer\", \"tour\", \"handball\", \"kleber\", \"kennen\", \"kultur\", \"toter\", \"mittelmeer\", \"leitzins\", \"iii\", \"friedrich\", \"bundesverfassungsgericht\", \"49\", \"hammer\", \"notfallplan\", \"entl\\u00e4ssen\", \"lukaschenko\", \"flugblatt\", \"venedig\", \"erde\", \"schu\\u00df\", \"kommission\", \"gr\\u00fcne\", \"de\", \"s\\u00f6der\", \"cdu\", \"retten\", \"csu\", \"eu\", \"syrien\", \"tote\", \"suche\", \"charles\", \"frau\", \"gas\", \"merz\", \"schlagen\", \"bundestag\", \"kommentar\", \"merkel\", \"gr\\u00fcn\", \"europa\", \"spd\", \"parlament\", \"weg\", \"iran\", \"mann\", \"t\\u00fcrkei\", \"zeit\", \"berlin\", \"chef\", \"g7\", \"leipzig\", \"fc\", \"freiburg\", \"rentenreform\", \"demonstration\", \"stuttgart\", \"zehntausend\", \"senat\", \"leverkusen\", \"spionage\", \"gladbach\", \"wolfsburg\", \"spieltag\", \"peru\", \"mainz\", \"demokrat\", \"bochum\", \"pokal\", \"hoffenheim\", \"terminal\", \"elmau\", \"uni\", \"repr\\u00e4sentantenhaus\", \"baum\", \"verabschieden\", \"augsburg\", \"kongress\", \"pentagon\", \"madrid\", \"protest\", \"demo\", \"frankreich\", \"gipfel\", \"bayern\", \"schalke\", \"bundesliga\", \"steinmeier\", \"verbot\", \"hertha\", \"bvb\", \"iran\", \"us\", \"auto\", \"siegen\", \"usa\", \"wahl\", \"sieg\", \"verletzen\", \"gewinnen\", \"fehlen\", \"berlin\", \"polizei\", \"deutschland\", \"republikaner\", \"biden\", \"schule\", \"sehen\", \"regierung\", \"israel\", \"geben\", \"macron\", \"hoch\", \"nordkorea\", \"ki\", \"gesellschaft\", \"reichsb\\u00fcrger\", \"cum\", \"nahost\", \"intelligenz\", \"mai\", \"queen\", \"partei\", \"s\\u00fcdkorea\", \"k\\u00fcnstliche\", \"teilmobilmachung\", \"vertrauen\", \"absolut\", \"gasspeicher\", \"notstand\", \"prinz\", \"westjordanland\", \"chatgpt\", \"11km\", \"pal\\u00e4stinenser\", \"beantragen\", \"rushdie\", \"rechtlich\", \"di\", \"sprache\", \"evg\", \"jong\", \"rtl\", \"rufen\", \"kim\", \"haft\", \"podcast\", \"bahn\", \"brauchen\", \"israel\", \"linke\", \"klima\", \"erdogan\", \"schr\\u00f6der\", \"t\\u00fcrkei\", \"deutsch\", \"streik\", \"tod\", \"wagenknecht\", \"reaktion\", \"verurteilen\", \"afd\", \"wahl\", \"ex\", \"italien\", \"ermittlung\", \"zweiter\", \"schweden\", \"putin\", \"russland\", \"scholz\", \"konflikt\", \"gro\\u00df\", \"deutschland\", \"halten\"], \"Freq\": [4527.0, 2623.0, 1378.0, 1140.0, 1759.0, 1171.0, 1427.0, 1733.0, 584.0, 1012.0, 636.0, 1312.0, 562.0, 589.0, 531.0, 657.0, 471.0, 478.0, 429.0, 538.0, 535.0, 687.0, 1137.0, 431.0, 514.0, 490.0, 459.0, 652.0, 358.0, 353.0, 4526.713238199104, 2622.4601802348475, 561.8598091131767, 1375.8043807801228, 477.60082957494, 430.7903587312259, 376.4891836226958, 354.0213862930588, 350.27598431959296, 530.4997303515033, 308.1467729957535, 282.86908490029924, 285.61951445199566, 261.33611577919123, 204.22731470400058, 199.5465775583334, 195.80121708923878, 194.86548231324986, 150.8634796223916, 141.5014215871752, 176.85395970346798, 137.75667855297428, 136.82000103384806, 136.81968485567364, 136.818825822188, 134.01142712798776, 119.96851590958154, 112.47854177249238, 104.05125733359876, 100.30814957852225, 502.16026284958804, 389.70943489846957, 1456.2137213538954, 1284.8060127038211, 304.8617397119121, 228.4512819067656, 364.70053170472676, 223.3258397431597, 190.04113751805602, 285.6389343645859, 166.80201553211316, 190.67312976397804, 204.73944234111778, 284.0145828123244, 190.97443272168394, 188.18169307778135, 173.2865809334164, 145.35783430809173, 127.67058530167749, 122.08537703813013, 111.84447652037133, 105.32819536573275, 466.45740483935094, 57.85018486799881, 53.195791735272245, 52.26414635299371, 46.67948445034375, 46.676968686099755, 42.02428093534384, 41.09378204224342, 41.09320838730106, 167.07366892801562, 39.231407430600896, 34.57690230913299, 33.64598465371856, 32.71518541369366, 31.78453998280121, 31.784501854924898, 53.545947438479914, 30.853250187111062, 29.922513836056392, 30.805965720151608, 28.990864852742686, 62.394505549077905, 54.227811387228805, 42.5395133930486, 268.02909887483804, 170.2471474653399, 1052.4116466906469, 67.30700469047054, 154.72042937159372, 331.3342798471553, 208.5593295668932, 669.2786763671461, 132.2317006933483, 54.557420528993326, 227.02499580984733, 150.6668781216124, 156.71312705455426, 120.13984743040916, 226.98140404852128, 648.6007128474855, 163.20350475068904, 421.47033535729133, 305.5211793371482, 101.78108631937725, 253.34498088808985, 163.67126459003308, 214.70039391411132, 196.29464203923666, 210.9144921740944, 211.28415272153248, 220.4676024225994, 160.32135776446222, 167.36901444327853, 164.64571103516778, 352.2061822817263, 299.8528018834448, 232.66916552747028, 165.42964308924942, 257.34539119664987, 356.7285626497459, 1134.0165958913308, 140.21516943119912, 147.5765365589673, 119.66965224122244, 94.45503488624604, 89.78497019626548, 89.78475144032026, 80.44711631858071, 78.5791080732522, 136.68104070551135, 70.1742630303844, 65.50431438787918, 62.703220163650194, 157.65271692242482, 58.96760215114983, 57.095463218581735, 56.16513387536003, 55.22485281988605, 70.8565699017037, 423.2059879545397, 53.36422966048182, 51.49651980250516, 50.562583341881655, 50.56258334188167, 169.3705837634392, 552.1768642733066, 153.35440913575442, 125.6821957466691, 147.96109104748768, 81.04885735103274, 344.1498857547347, 81.57927033345925, 137.73206970577445, 141.30634214841822, 202.48672225950654, 101.05762628797098, 112.68212868862346, 254.6066012760627, 175.39389396611347, 159.1372314300282, 139.35150090881123, 213.56109640464922, 355.0844764654811, 173.15920920212702, 203.3751700366274, 189.2315788576528, 241.50435002478991, 193.59575366947703, 142.19025609166326, 345.8663545957809, 318.54667179068883, 252.60136300641915, 229.05173889999023, 228.1103204625776, 160.28258218199244, 140.49971770049044, 135.751573153673, 124.48219573552795, 121.65763553023194, 112.2379357711104, 107.52120722982424, 199.12613778733905, 100.93350105548934, 100.9328271952135, 102.77982426585264, 99.97657339294244, 98.10709257485277, 88.68674086167874, 86.80253070230987, 83.03414135248735, 81.15050449932038, 74.55587104286366, 71.73003796579151, 98.70234537005831, 84.69628834778867, 66.07765374311792, 73.50457881519007, 58.51806677316325, 53.831104121190776, 268.07571302572, 589.2595021891312, 136.4898572587282, 540.3490772585302, 220.55436581802505, 132.14935309967473, 387.2517843300737, 135.73913685353529, 188.1711116048801, 294.1023668293359, 125.07014171056746, 241.50654722258218, 162.5895551800724, 180.93894828805523, 327.7423747175861, 188.30623908136312, 243.77198316546588, 160.20762817850422, 249.0423928397199, 226.31271678809154, 192.68616447988822, 237.86372346861702, 156.4149169951903, 177.83404440793748, 146.0913771076256, 325.5790080153103, 272.75398736020446, 187.85552631225207, 187.85552631225224, 168.9890571811715, 127.48276251710561, 134.0240956190454, 113.31387146920679, 171.06704095130678, 78.43023284406208, 76.54363942907075, 75.59967833801753, 65.21184481098132, 62.39322192059167, 51.07329787921948, 48.24308702444988, 47.30009305241597, 46.35685230641738, 47.277636458233644, 45.41402753914771, 44.470437901761706, 46.30505599671349, 43.52692395306194, 43.525522725257666, 42.57486796473812, 41.64063750373596, 40.69559512129857, 39.75248741786073, 38.81056178755884, 38.81052887136736, 55.42501381343065, 110.3609963864975, 112.80338971057114, 380.60269668179507, 77.66320625579809, 160.90859334490582, 443.1076336059274, 174.11395229071067, 92.99608633131471, 1022.5771237372132, 146.96404407493003, 471.1132375162742, 86.48360035912147, 85.28914128095565, 336.3871912078807, 279.7096460305029, 179.02176370758383, 145.52193310250456, 151.85840293745272, 166.65601851274454, 112.62107174710552, 152.4161018258465, 178.76824434542263, 188.91848562485782, 115.31122813706297, 143.79939349347927, 164.49956812380816, 149.73053149403407, 136.66113989939896, 122.68428773803221, 135.03622122917588, 126.59615821207383, 298.40843753975514, 184.7712367641635, 165.7048232785787, 105.24101016729598, 91.98452061701843, 91.91136894178527, 83.46063893081586, 77.78058251758318, 72.09925281685554, 70.13362974288691, 64.51728046342151, 62.63046423768778, 62.630400451299764, 62.62953976880838, 56.94886662019761, 74.65870805302558, 53.16123808009849, 53.157837690033226, 52.214521257512786, 54.06426817393202, 47.479912841895136, 45.58617068013637, 45.585626210557066, 41.79876359771675, 41.79682649435349, 38.0103984135813, 43.564668181652586, 37.063900001438306, 36.11698361599278, 39.74808664298258, 564.1822975286308, 71.90540532323902, 398.59102856752986, 331.8023695139677, 407.6867394193012, 74.60138313533628, 287.48174293417566, 107.89954875166617, 107.22206156278136, 82.33035642605482, 92.86194000451228, 313.87674511091075, 683.5562064076789, 200.69146823098274, 101.47984522954617, 456.37669911209383, 318.1715909580603, 168.00603784935205, 133.825459798914, 169.88780997239746, 105.06242360886908, 276.3354867546523, 173.84005648418625, 273.0801699802576, 91.37743796548048, 145.2442626173686, 99.28224997536782, 122.92440143082653, 126.13788144773963, 113.18206251320791, 112.85935716104383, 100.00947502842497, 101.39385174426504, 196.78616704340703, 112.61264427813056, 105.07802841858579, 97.51495293646005, 79.5514069243182, 83.25043443337431, 73.87919969331107, 66.3150784431059, 139.9050965288428, 279.7764200617844, 82.95255216587238, 50.24314833687784, 49.29684974130551, 48.35149255683977, 46.460439229187116, 46.44985586052662, 44.570215564611736, 43.62475367217267, 42.67956321870255, 40.78849940023514, 39.84322192563277, 39.84310825420934, 37.951751951884845, 36.06140595038715, 36.060717721584425, 35.11596178023869, 38.79947840302553, 34.17088512814157, 33.22211766471045, 32.27949036585792, 176.550028116775, 74.95960927341801, 243.25485872245582, 194.7679566775234, 258.63078438473264, 186.88956908469, 307.03730261537544, 141.4047341347609, 278.9017055040819, 141.2363954603063, 111.38169078997173, 287.35265454946295, 595.1666120917039, 169.87766916711644, 199.33640266881147, 99.23721346399374, 99.74788392288038, 133.90820316764413, 307.81553217333834, 278.6806859915624, 277.3724758458596, 182.02785436410826, 124.82286169061504, 120.52896775462389, 110.09128794202715, 263.46986826030326, 239.045559078754, 192.17346161759363, 131.26730272559664, 153.6111489904532, 167.1449196244974, 124.41244756407288], \"Total\": [4527.0, 2623.0, 1378.0, 1140.0, 1759.0, 1171.0, 1427.0, 1733.0, 584.0, 1012.0, 636.0, 1312.0, 562.0, 589.0, 531.0, 657.0, 471.0, 478.0, 429.0, 538.0, 535.0, 687.0, 1137.0, 431.0, 514.0, 490.0, 459.0, 652.0, 358.0, 353.0, 4527.519738924877, 2623.2666776428755, 562.6663884082735, 1378.1231507307205, 478.407403944697, 431.59685715194814, 377.2966283165145, 354.8275576288289, 351.08271766352397, 531.7767390737138, 308.9532226663263, 283.67552781880397, 286.4846009522438, 262.1426757999225, 205.03380789299877, 200.35275189228426, 196.6079109375611, 195.67169753850095, 151.66978345299285, 142.30767409624494, 177.88589120562662, 138.56282955607927, 137.62662106223354, 137.62661935174754, 137.6266334677352, 134.81798698300935, 120.77482278252121, 113.28513670664505, 104.85924858780564, 101.11439240780763, 535.8371661144785, 415.92936828431556, 1759.150596894944, 1733.8009456245063, 350.42396253973845, 253.0172227280651, 442.6507722960347, 259.68068603111357, 217.36765711437837, 618.6205995915122, 203.52147714784937, 316.290593621993, 1014.7716015036458, 284.8754443132067, 191.78168552839495, 188.98887710648904, 174.09390429091783, 146.16583274372226, 128.47804622277104, 122.89242578953392, 112.65213877243677, 106.13558269611538, 471.11324982096323, 58.657855887317055, 54.003173111907756, 53.07224770473378, 47.486619342329845, 47.486629348368446, 42.831945593901025, 41.90100397915928, 41.90101251560028, 170.4032796734947, 40.039139291420405, 35.3844559703644, 34.453523043760626, 33.5225819309183, 32.591643759250715, 32.59164557134439, 54.943156077662, 31.66071241619667, 30.729773544224987, 31.661501364325694, 29.798845576947663, 64.2573272311079, 55.87927759064394, 43.769360865859156, 284.1426544864086, 178.88052151709618, 1171.5101512159997, 70.77598703607138, 169.57149208716882, 408.5056695501355, 267.0691762200946, 1012.9394296231076, 168.1427194920238, 58.70166816999346, 337.8932188947563, 211.53433059025622, 228.24196570966163, 162.63124917517163, 386.72210059005386, 1666.5576489859252, 257.8628660128027, 985.1580340099935, 764.239396370056, 140.18270188166184, 616.5050116372176, 311.9001503248722, 523.5419164420956, 479.4053492529713, 710.2159745561976, 1014.7716015036458, 1312.8214272151686, 376.3603137638479, 1733.8009456245063, 1427.5487763255544, 353.01290984994114, 300.71631840384157, 233.47616020363057, 166.2367399173743, 258.6922916391782, 358.6270920836708, 1140.3153783564728, 141.02195314251293, 148.49328468032198, 120.47657543225208, 95.26179069545292, 90.59239221205321, 90.59239735303278, 81.2535752759634, 79.38581484295091, 138.22921762423522, 70.98088689074874, 66.31148793666488, 63.509840084593286, 159.70712089154443, 59.77431717113426, 57.906613377445, 56.972682241735974, 56.03877779151946, 71.91539766755113, 429.5735495856637, 54.17103332193893, 52.30327100515842, 51.36939060585422, 51.369390605854235, 177.42039341731723, 657.2911397633712, 168.27206313387086, 138.33891161606215, 166.37650376623677, 85.97332903036688, 452.0708911966536, 86.89597044564238, 159.9147108817318, 167.48077979515443, 285.64767743895527, 114.96025172813374, 133.7947695627526, 444.7542904671464, 272.21872699315264, 248.8540105798466, 220.4496705463327, 533.3085955637644, 1666.5576489859252, 365.48268077686083, 541.9897798125772, 547.2252193674227, 1312.8214272151686, 1137.2597317198897, 665.1119879703815, 346.6721362282694, 319.3526887205479, 253.40918286563064, 229.85794741719405, 228.91589863778162, 161.08830457031144, 141.30525662876042, 136.59471789537218, 125.29039056627838, 122.46425169703326, 113.04375806354535, 108.33346730803027, 200.65811972244077, 101.73916022225491, 101.73916006901827, 103.62293189763007, 100.7970295297369, 98.91301029078497, 89.49251026012394, 87.60841019642587, 83.84020939040693, 81.95611209989968, 75.3617611152581, 72.53561396361117, 99.85205070084916, 85.72238302638603, 66.88331355151607, 74.41842300860142, 59.346713269389596, 54.6366646570733, 272.21583890923404, 636.2718726204596, 141.27048724352417, 589.3815698941055, 242.7908504617035, 144.00312534124794, 514.060520516684, 152.6625732322791, 227.93449654223528, 422.3313610722909, 140.28083439183112, 355.1150316777256, 215.45441319754804, 262.12823494576935, 710.2159745561976, 300.9968795110096, 492.57582505772507, 229.74118115370928, 549.8749896091683, 481.8212808969119, 364.75918506852696, 1427.5487763255544, 299.2900373890549, 547.2252193674227, 254.04683283545106, 326.38599598503527, 273.55995924911986, 188.66095458317986, 188.66095458318003, 169.79450813037576, 128.2883280942403, 134.89150068311992, 114.13845734280828, 172.61880760030104, 79.2355686362782, 77.34892463015368, 76.40560329462544, 66.0290954716518, 63.19908865519808, 51.87922228928976, 49.04924947747921, 48.10593162325243, 47.16260936413374, 48.10563452838416, 46.21928936933809, 45.275967999571954, 47.16192965768851, 44.33264502656051, 44.33264143536754, 43.38921195725862, 42.44599988928243, 41.5026719443415, 40.55934453872752, 39.616033635993794, 39.61603318138192, 56.59307757323224, 114.13441404155078, 118.80843081666893, 433.64887616452654, 82.07916255032839, 181.0881969473259, 538.4258917893482, 198.05064414928705, 101.76929599385701, 1427.5487763255544, 168.74072655166853, 687.8990525621855, 99.94853963354986, 99.07442238902347, 563.9138605992341, 458.27756038897866, 259.96545829950094, 203.24022123452875, 264.34233726210795, 309.669906484708, 163.17734272701486, 287.4682386432317, 437.1902224540934, 492.57582505772507, 190.47330124046997, 319.89218848901703, 479.44656297956965, 490.4641611994377, 436.4432016751598, 250.82166872064363, 985.1580340099935, 618.6205995915122, 299.2136864350925, 185.58551225000733, 166.64681815234857, 106.04584923832729, 92.78923358621056, 92.78813817744694, 84.2671126590992, 78.58571059920641, 72.90430579042605, 71.00951717813653, 65.329083326092, 63.43529665453083, 63.43529527536497, 63.43529272723886, 57.753886746838965, 75.7445747117046, 53.96628079866281, 53.9662712579533, 53.019381015763614, 54.91244167452148, 48.28487446492118, 46.39107417962488, 46.39106902409004, 42.60347023720983, 42.60345045035513, 38.815860683656716, 44.49678963662194, 37.86896096027469, 36.922059784794, 40.70702586571245, 584.988829745862, 74.77454170838733, 459.6308910513353, 385.42537694255293, 490.7973521908133, 80.46034230784869, 355.7710794786089, 121.17249009480196, 121.96550182799585, 90.86140800081726, 105.99894551713092, 479.44656297956965, 1312.8214272151686, 285.58441144353867, 123.82653874851665, 1014.7716015036458, 652.9454559852285, 279.5786619045507, 205.3893492663806, 328.59664508586377, 145.35379919262297, 985.1580340099935, 411.0841207117579, 1666.5576489859252, 127.32781933330449, 523.5419164420956, 170.49353349313506, 431.4762028683184, 514.060520516684, 420.8898817087358, 568.284509263446, 212.4698274612845, 444.7542904671464, 197.59150329835137, 113.44682247863462, 105.8837435079079, 98.32022045462932, 80.35684690607167, 84.13733512666246, 74.68420150289535, 67.12067090384953, 141.79403206874014, 283.6166466391274, 84.13276577413473, 51.04818118010799, 50.10273199856332, 49.1572933261673, 47.266411502466426, 47.26627179152054, 45.37553443971395, 44.430093732901284, 43.48465553759274, 41.59377113685191, 40.64833185529614, 40.64833132985128, 38.757445964894046, 36.86656819894406, 36.86656512942958, 35.92112618576883, 39.70303641204909, 34.97568876712269, 34.03019980179691, 33.084803897342105, 184.28776330522527, 77.49358702647243, 259.8408120633779, 220.04086407474398, 303.3573498402286, 232.05179178108642, 420.8898817087358, 174.81714298230048, 398.69764938224364, 181.50332807905676, 137.97082716605524, 436.4432016751598, 1137.2597317198897, 240.56580287123901, 299.80356298653044, 123.77729287820759, 125.54878917117817, 188.50132470197372, 580.4827191543993, 652.9454559852285, 665.1119879703815, 338.64388050434184, 188.47087446171906, 189.8035519089392, 170.54864158273602, 1733.8009456245063, 1759.150596894944, 1012.9394296231076, 371.1977520225028, 764.239396370056, 1666.5576489859252, 316.3942484007212], \"Category\": [\"Default\", \"Default\", \"Default\", \"Default\", \"Default\", \"Default\", \"Default\", \"Default\", \"Default\", \"Default\", \"Default\", \"Default\", \"Default\", \"Default\", \"Default\", \"Default\", \"Default\", \"Default\", \"Default\", \"Default\", \"Default\", \"Default\", \"Default\", \"Default\", \"Default\", \"Default\", \"Default\", \"Default\", \"Default\", \"Default\", \"Topic1\", \"Topic1\", \"Topic1\", \"Topic1\", \"Topic1\", \"Topic1\", \"Topic1\", \"Topic1\", \"Topic1\", \"Topic1\", \"Topic1\", \"Topic1\", \"Topic1\", \"Topic1\", \"Topic1\", \"Topic1\", \"Topic1\", \"Topic1\", \"Topic1\", \"Topic1\", \"Topic1\", \"Topic1\", \"Topic1\", \"Topic1\", \"Topic1\", \"Topic1\", \"Topic1\", \"Topic1\", \"Topic1\", \"Topic1\", \"Topic1\", \"Topic1\", \"Topic1\", \"Topic1\", \"Topic1\", \"Topic1\", \"Topic1\", \"Topic1\", \"Topic1\", \"Topic1\", \"Topic1\", \"Topic1\", \"Topic1\", \"Topic2\", \"Topic2\", \"Topic2\", \"Topic2\", \"Topic2\", \"Topic2\", \"Topic2\", \"Topic2\", \"Topic2\", \"Topic2\", \"Topic2\", \"Topic2\", \"Topic2\", \"Topic2\", \"Topic2\", \"Topic2\", \"Topic2\", \"Topic2\", \"Topic2\", \"Topic2\", \"Topic2\", \"Topic2\", \"Topic2\", \"Topic2\", \"Topic2\", \"Topic2\", \"Topic2\", \"Topic2\", \"Topic2\", \"Topic2\", \"Topic2\", \"Topic2\", \"Topic2\", \"Topic2\", \"Topic2\", \"Topic2\", \"Topic2\", \"Topic2\", \"Topic2\", \"Topic2\", \"Topic2\", \"Topic2\", \"Topic2\", \"Topic2\", \"Topic2\", \"Topic2\", \"Topic2\", \"Topic2\", \"Topic2\", \"Topic2\", \"Topic2\", \"Topic2\", \"Topic2\", \"Topic2\", \"Topic2\", \"Topic2\", \"Topic2\", \"Topic2\", \"Topic2\", \"Topic2\", \"Topic2\", \"Topic2\", \"Topic2\", \"Topic3\", \"Topic3\", \"Topic3\", \"Topic3\", \"Topic3\", \"Topic3\", \"Topic3\", \"Topic3\", \"Topic3\", \"Topic3\", \"Topic3\", \"Topic3\", \"Topic3\", \"Topic3\", \"Topic3\", \"Topic3\", \"Topic3\", \"Topic3\", \"Topic3\", \"Topic3\", \"Topic3\", \"Topic3\", \"Topic3\", \"Topic3\", \"Topic3\", \"Topic3\", \"Topic3\", \"Topic3\", \"Topic3\", \"Topic3\", \"Topic3\", \"Topic3\", \"Topic3\", \"Topic3\", \"Topic3\", \"Topic3\", \"Topic3\", \"Topic3\", \"Topic3\", \"Topic3\", \"Topic3\", \"Topic3\", \"Topic3\", \"Topic3\", \"Topic3\", \"Topic3\", \"Topic3\", \"Topic3\", \"Topic3\", \"Topic3\", \"Topic3\", \"Topic3\", \"Topic3\", \"Topic3\", \"Topic3\", \"Topic4\", \"Topic4\", \"Topic4\", \"Topic4\", \"Topic4\", \"Topic4\", \"Topic4\", \"Topic4\", \"Topic4\", \"Topic4\", \"Topic4\", \"Topic4\", \"Topic4\", \"Topic4\", \"Topic4\", \"Topic4\", \"Topic4\", \"Topic4\", \"Topic4\", \"Topic4\", \"Topic4\", \"Topic4\", \"Topic4\", \"Topic4\", \"Topic4\", \"Topic4\", \"Topic4\", \"Topic4\", \"Topic4\", \"Topic4\", \"Topic4\", \"Topic4\", \"Topic4\", \"Topic4\", \"Topic4\", \"Topic4\", \"Topic4\", \"Topic4\", \"Topic4\", \"Topic4\", \"Topic4\", \"Topic4\", \"Topic4\", \"Topic4\", \"Topic4\", \"Topic4\", \"Topic4\", \"Topic4\", \"Topic4\", \"Topic4\", \"Topic4\", \"Topic4\", \"Topic4\", \"Topic4\", \"Topic4\", \"Topic5\", \"Topic5\", \"Topic5\", \"Topic5\", \"Topic5\", \"Topic5\", \"Topic5\", \"Topic5\", \"Topic5\", \"Topic5\", \"Topic5\", \"Topic5\", \"Topic5\", \"Topic5\", \"Topic5\", \"Topic5\", \"Topic5\", \"Topic5\", \"Topic5\", \"Topic5\", \"Topic5\", \"Topic5\", \"Topic5\", \"Topic5\", \"Topic5\", \"Topic5\", \"Topic5\", \"Topic5\", \"Topic5\", \"Topic5\", \"Topic5\", \"Topic5\", \"Topic5\", \"Topic5\", \"Topic5\", \"Topic5\", \"Topic5\", \"Topic5\", \"Topic5\", \"Topic5\", \"Topic5\", \"Topic5\", \"Topic5\", \"Topic5\", \"Topic5\", \"Topic5\", \"Topic5\", \"Topic5\", \"Topic5\", \"Topic5\", \"Topic5\", \"Topic5\", \"Topic5\", \"Topic5\", \"Topic5\", \"Topic5\", \"Topic5\", \"Topic5\", \"Topic5\", \"Topic5\", \"Topic5\", \"Topic5\", \"Topic6\", \"Topic6\", \"Topic6\", \"Topic6\", \"Topic6\", \"Topic6\", \"Topic6\", \"Topic6\", \"Topic6\", \"Topic6\", \"Topic6\", \"Topic6\", \"Topic6\", \"Topic6\", \"Topic6\", \"Topic6\", \"Topic6\", \"Topic6\", \"Topic6\", \"Topic6\", \"Topic6\", \"Topic6\", \"Topic6\", \"Topic6\", \"Topic6\", \"Topic6\", \"Topic6\", \"Topic6\", \"Topic6\", \"Topic6\", \"Topic6\", \"Topic6\", \"Topic6\", \"Topic6\", \"Topic6\", \"Topic6\", \"Topic6\", \"Topic6\", \"Topic6\", \"Topic6\", \"Topic6\", \"Topic6\", \"Topic6\", \"Topic6\", \"Topic6\", \"Topic6\", \"Topic6\", \"Topic6\", \"Topic6\", \"Topic6\", \"Topic6\", \"Topic6\", \"Topic6\", \"Topic6\", \"Topic6\", \"Topic6\", \"Topic6\", \"Topic6\", \"Topic6\", \"Topic6\", \"Topic6\", \"Topic6\", \"Topic6\", \"Topic7\", \"Topic7\", \"Topic7\", \"Topic7\", \"Topic7\", \"Topic7\", \"Topic7\", \"Topic7\", \"Topic7\", \"Topic7\", \"Topic7\", \"Topic7\", \"Topic7\", \"Topic7\", \"Topic7\", \"Topic7\", \"Topic7\", \"Topic7\", \"Topic7\", \"Topic7\", \"Topic7\", \"Topic7\", \"Topic7\", \"Topic7\", \"Topic7\", \"Topic7\", \"Topic7\", \"Topic7\", \"Topic7\", \"Topic7\", \"Topic7\", \"Topic7\", \"Topic7\", \"Topic7\", \"Topic7\", \"Topic7\", \"Topic7\", \"Topic7\", \"Topic7\", \"Topic7\", \"Topic7\", \"Topic7\", \"Topic7\", \"Topic7\", \"Topic7\", \"Topic7\", \"Topic7\", \"Topic7\", \"Topic7\", \"Topic7\", \"Topic7\", \"Topic7\", \"Topic7\", \"Topic7\", \"Topic7\", \"Topic7\", \"Topic7\", \"Topic7\", \"Topic7\", \"Topic7\", \"Topic7\", \"Topic7\"], \"logprob\": [30.0, 29.0, 28.0, 27.0, 26.0, 25.0, 24.0, 23.0, 22.0, 21.0, 20.0, 19.0, 18.0, 17.0, 16.0, 15.0, 14.0, 13.0, 12.0, 11.0, 10.0, 9.0, 8.0, 7.0, 6.0, 5.0, 4.0, 3.0, 2.0, 1.0, -2.543, -3.0889, -4.6295, -3.734, -4.792, -4.8951, -5.0299, -5.0914, -5.1021, -4.687, -5.2302, -5.3158, -5.3061, -5.395, -5.6415, -5.6647, -5.6837, -5.6885, -5.9444, -6.0085, -5.7854, -6.0353, -6.0421, -6.0421, -6.0421, -6.0628, -6.1735, -6.238, -6.3159, -6.3525, -4.7419, -4.9954, -3.6772, -3.8024, -5.2409, -5.5294, -5.0617, -5.5521, -5.7135, -5.306, -5.844, -5.7102, -5.639, -5.1365, -5.5334, -5.5481, -5.6306, -5.8063, -5.9361, -5.9808, -6.0684, -6.1284, -4.6403, -6.7277, -6.8115, -6.8292, -6.9422, -6.9423, -7.0473, -7.0697, -7.0697, -5.6671, -7.116, -7.2423, -7.2696, -7.2977, -7.3265, -7.3265, -6.805, -7.3563, -7.3869, -7.3578, -7.4185, -6.652, -6.7923, -7.0351, -5.1944, -5.6483, -3.8267, -6.5762, -5.7439, -4.9824, -5.4453, -4.2793, -5.901, -6.7863, -5.3604, -5.7704, -5.7311, -5.9969, -5.3606, -4.3107, -5.6905, -4.7418, -5.0635, -6.1627, -5.2508, -5.6876, -5.4163, -5.5059, -5.4341, -5.4323, -5.3898, -5.7083, -5.6653, -5.6817, -4.8999, -5.0608, -5.3145, -5.6555, -5.2137, -4.8871, -3.7306, -5.8209, -5.7697, -5.9794, -6.216, -6.2667, -6.2667, -6.3765, -6.4, -5.8464, -6.5131, -6.582, -6.6257, -5.7037, -6.6871, -6.7194, -6.7358, -6.7527, -6.5034, -4.7162, -6.787, -6.8226, -6.8409, -6.8409, -5.632, -4.4502, -5.7313, -5.9303, -5.7671, -6.369, -4.923, -6.3625, -5.8388, -5.8132, -5.4534, -6.1484, -6.0395, -5.2244, -5.5971, -5.6943, -5.8271, -5.4002, -4.8917, -5.6099, -5.449, -5.5211, -5.2772, -5.4983, -5.8069, -4.9103, -4.9926, -5.2245, -5.3224, -5.3265, -5.6794, -5.8111, -5.8455, -5.9322, -5.9551, -6.0357, -6.0786, -5.4624, -6.1419, -6.1419, -6.1237, -6.1514, -6.1703, -6.2712, -6.2927, -6.3371, -6.36, -6.4448, -6.4834, -6.1642, -6.3172, -6.5655, -6.459, -6.687, -6.7705, -5.1651, -4.3775, -5.8401, -4.4641, -5.3602, -5.8724, -4.7972, -5.8456, -5.519, -5.0724, -5.9274, -5.2694, -5.6651, -5.5582, -4.9641, -5.5183, -5.2601, -5.6799, -5.2387, -5.3344, -5.4953, -5.2846, -5.7038, -5.5755, -5.7721, -4.9219, -5.099, -5.4719, -5.4719, -5.5777, -5.8595, -5.8095, -5.9774, -5.5655, -6.3453, -6.3697, -6.3821, -6.5299, -6.5741, -6.7743, -6.8313, -6.851, -6.8712, -6.8515, -6.8917, -6.9127, -6.8723, -6.9341, -6.9342, -6.9563, -6.9785, -7.0014, -7.0249, -7.0488, -7.0488, -6.6925, -6.0038, -5.9819, -4.7658, -6.3551, -5.6267, -4.6137, -5.5478, -6.175, -3.7774, -5.7173, -4.5524, -6.2476, -6.2615, -4.8893, -5.0738, -5.52, -5.7272, -5.6846, -5.5916, -5.9835, -5.6809, -5.5214, -5.4662, -5.9599, -5.7391, -5.6046, -5.6987, -5.79, -5.8979, -5.802, -5.8665, -4.99, -5.4693, -5.5782, -6.0322, -6.1668, -6.1676, -6.2641, -6.3345, -6.4104, -6.438, -6.5215, -6.5512, -6.5512, -6.5512, -6.6463, -6.3755, -6.7151, -6.7152, -6.7331, -6.6983, -6.8281, -6.8688, -6.8688, -6.9556, -6.9556, -7.0506, -6.9142, -7.0758, -7.1017, -7.0059, -4.3531, -6.4131, -4.7005, -4.8839, -4.6779, -6.3763, -5.0273, -6.0072, -6.0135, -6.2777, -6.1573, -4.9394, -4.1611, -5.3867, -6.0686, -4.5651, -4.9259, -5.5644, -5.7919, -5.5533, -6.0339, -5.0668, -5.5303, -5.0787, -6.1734, -5.71, -6.0905, -5.8769, -5.8511, -5.9594, -5.9623, -6.0832, -6.0694, -5.4047, -5.9629, -6.0321, -6.1068, -6.3104, -6.265, -6.3844, -6.4924, -5.7459, -5.0528, -6.2685, -6.7699, -6.789, -6.8083, -6.8482, -6.8484, -6.8898, -6.9112, -6.9331, -6.9784, -7.0019, -7.0019, -7.0505, -7.1016, -7.1016, -7.1282, -7.0284, -7.1554, -7.1836, -7.2124, -5.5132, -6.3699, -5.1927, -5.415, -5.1314, -5.4563, -4.9598, -5.7352, -5.056, -5.7364, -5.9739, -5.0261, -4.298, -5.5517, -5.3918, -6.0893, -6.0842, -5.7897, -4.9573, -5.0568, -5.0615, -5.4827, -5.8599, -5.8949, -5.9855, -5.1129, -5.2102, -5.4284, -5.8096, -5.6524, -5.568, -5.8632], \"loglift\": [30.0, 29.0, 28.0, 27.0, 26.0, 25.0, 24.0, 23.0, 22.0, 21.0, 20.0, 19.0, 18.0, 17.0, 16.0, 15.0, 14.0, 13.0, 12.0, 11.0, 10.0, 9.0, 8.0, 7.0, 6.0, 5.0, 4.0, 3.0, 2.0, 1.0, 1.7532, 1.7531, 1.7519, 1.7517, 1.7517, 1.7515, 1.7512, 1.7511, 1.7511, 1.751, 1.7508, 1.7505, 1.7503, 1.7503, 1.7494, 1.7493, 1.7493, 1.7492, 1.748, 1.7477, 1.7476, 1.7475, 1.7475, 1.7475, 1.7475, 1.7474, 1.7467, 1.7462, 1.7456, 1.7454, 1.6885, 1.6883, 1.5644, 1.4537, 1.6141, 1.6512, 1.5597, 1.6026, 1.619, 0.9806, 1.5544, 1.2473, 0.1527, 1.9256, 1.9244, 1.9244, 1.924, 1.9231, 1.9223, 1.922, 1.9214, 1.921, 1.9187, 1.9148, 1.9136, 1.9133, 1.9115, 1.9114, 1.9096, 1.9092, 1.9092, 1.9089, 1.9083, 1.9055, 1.9049, 1.9043, 1.9036, 1.9036, 1.9029, 1.9028, 1.902, 1.9012, 1.9011, 1.8992, 1.8986, 1.9001, 1.8703, 1.8792, 1.8214, 1.8784, 1.837, 1.7193, 1.6813, 1.5142, 1.6884, 1.8554, 1.531, 1.5893, 1.5526, 1.6258, 1.3958, 0.9849, 1.4712, 1.0796, 1.0118, 1.6085, 1.0393, 1.2838, 1.0373, 1.0357, 0.7145, 0.3594, 0.1444, 1.0753, -0.4092, -0.2313, 1.9478, 1.9472, 1.9466, 1.9452, 1.9448, 1.9447, 1.9445, 1.9443, 1.9439, 1.9433, 1.9415, 1.9411, 1.9411, 1.9401, 1.9398, 1.9388, 1.9386, 1.9378, 1.9373, 1.9371, 1.9365, 1.9359, 1.9358, 1.9354, 1.9352, 1.9351, 1.935, 1.9345, 1.9342, 1.9342, 1.9036, 1.7758, 1.8572, 1.8541, 1.8327, 1.8911, 1.6773, 1.8869, 1.8007, 1.7801, 1.606, 1.8212, 1.7783, 1.3922, 1.5105, 1.503, 1.4914, 1.0349, 0.4039, 1.203, 0.9699, 0.8882, 0.257, 0.1794, 0.4073, 1.9555, 1.9553, 1.9546, 1.9543, 1.9543, 1.9528, 1.9521, 1.9516, 1.9514, 1.9512, 1.9507, 1.9503, 1.9502, 1.9499, 1.9499, 1.9497, 1.9496, 1.9496, 1.9488, 1.9486, 1.9482, 1.9479, 1.9471, 1.9467, 1.9462, 1.9458, 1.9457, 1.9455, 1.9438, 1.943, 1.9425, 1.8811, 1.9234, 1.871, 1.8618, 1.8719, 1.6746, 1.8403, 1.7661, 1.596, 1.843, 1.5723, 1.6763, 1.5871, 1.1845, 1.4888, 1.2544, 1.5973, 1.1658, 1.2022, 1.3196, 0.1658, 1.3089, 0.8338, 1.4045, 2.0041, 2.0037, 2.0023, 2.0023, 2.0019, 2.0003, 2.0002, 1.9994, 1.9976, 1.9964, 1.9962, 1.996, 1.9942, 1.9938, 1.991, 1.99, 1.9897, 1.9894, 1.9893, 1.989, 1.9887, 1.9883, 1.9883, 1.9882, 1.9877, 1.9875, 1.987, 1.9865, 1.9861, 1.9861, 1.9858, 1.973, 1.9547, 1.8761, 1.9513, 1.8885, 1.8118, 1.8778, 1.9165, 1.673, 1.8684, 1.6281, 1.8619, 1.8568, 1.49, 1.5129, 1.6336, 1.6726, 1.4523, 1.387, 1.6358, 1.3721, 1.1123, 1.0483, 1.5047, 1.2071, 0.9369, 0.8201, 0.8455, 1.2915, 0.0194, 0.4201, 2.023, 2.0213, 2.02, 2.0181, 2.017, 2.0162, 2.0161, 2.0154, 2.0146, 2.0133, 2.0132, 2.0129, 2.0129, 2.0129, 2.0117, 2.0113, 2.0107, 2.0106, 2.0104, 2.0101, 2.0089, 2.0082, 2.0082, 2.0066, 2.0066, 2.0047, 2.0045, 2.0042, 2.0037, 2.0019, 1.9895, 1.9866, 1.8832, 1.8759, 1.8402, 1.9501, 1.8126, 1.9097, 1.8969, 1.9271, 1.8934, 1.6021, 1.3731, 1.6729, 1.8267, 1.2266, 1.3068, 1.5164, 1.5973, 1.366, 1.7011, 0.7545, 1.165, 0.217, 1.6939, 0.7435, 1.485, 0.7701, 0.6207, 0.7123, 0.4092, 1.2722, 0.5472, 2.0232, 2.0199, 2.0197, 2.0191, 2.0173, 2.0167, 2.0165, 2.0152, 2.0139, 2.0137, 2.0132, 2.0114, 2.0111, 2.0108, 2.0101, 2.0099, 2.0094, 2.009, 2.0086, 2.0078, 2.0073, 2.0073, 2.0063, 2.0052, 2.0052, 2.0047, 2.0043, 2.004, 2.0033, 2.0027, 1.9844, 1.9941, 1.9614, 1.9053, 1.8678, 1.8109, 1.7119, 1.8152, 1.67, 1.7765, 1.8132, 1.6094, 1.3798, 1.6794, 1.6192, 1.8064, 1.7973, 1.6854, 1.393, 1.1759, 1.1527, 1.4065, 1.6153, 1.5732, 1.5896, 0.1432, 0.0314, 0.3651, 0.9878, 0.4229, -0.2723, 1.0939]}, \"token.table\": {\"Topic\": [7, 5, 2, 7, 2, 4, 5, 7, 5, 1, 2, 1, 4, 5, 2, 4, 5, 1, 2, 5, 1, 7, 2, 3, 7, 3, 1, 2, 6, 2, 3, 4, 6, 1, 4, 5, 7, 6, 3, 5, 6, 7, 1, 2, 1, 2, 5, 6, 7, 1, 2, 3, 4, 5, 6, 7, 1, 2, 3, 6, 1, 2, 3, 4, 5, 7, 6, 3, 4, 3, 3, 4, 7, 1, 2, 5, 6, 7, 4, 1, 4, 7, 4, 6, 2, 5, 6, 1, 2, 3, 4, 5, 6, 2, 3, 4, 5, 6, 5, 1, 4, 7, 5, 6, 1, 2, 4, 5, 5, 7, 7, 1, 2, 4, 5, 6, 7, 4, 1, 2, 3, 6, 4, 2, 3, 4, 2, 5, 7, 2, 3, 2, 5, 5, 6, 3, 4, 7, 1, 6, 6, 6, 1, 2, 3, 4, 5, 6, 7, 1, 2, 3, 4, 5, 6, 7, 7, 2, 7, 3, 1, 3, 4, 6, 7, 6, 2, 4, 4, 4, 5, 1, 5, 5, 5, 6, 7, 2, 3, 4, 5, 7, 1, 2, 3, 4, 6, 1, 2, 4, 5, 2, 4, 2, 3, 5, 6, 7, 7, 1, 2, 3, 4, 5, 6, 7, 2, 4, 6, 2, 3, 4, 5, 6, 7, 3, 4, 5, 6, 2, 7, 5, 3, 3, 2, 6, 7, 1, 2, 3, 4, 5, 6, 6, 5, 1, 2, 2, 5, 6, 6, 5, 3, 4, 5, 7, 7, 5, 4, 1, 2, 3, 4, 5, 6, 7, 2, 4, 5, 6, 3, 7, 1, 2, 3, 5, 6, 7, 2, 6, 6, 1, 2, 4, 5, 6, 7, 4, 1, 2, 3, 4, 5, 7, 1, 2, 4, 5, 7, 4, 1, 2, 3, 4, 5, 6, 7, 1, 2, 3, 4, 5, 1, 4, 7, 1, 2, 4, 6, 7, 5, 5, 4, 2, 3, 4, 5, 6, 1, 3, 4, 5, 3, 1, 3, 4, 5, 6, 6, 3, 5, 5, 3, 7, 3, 7, 1, 3, 5, 6, 6, 7, 2, 4, 5, 7, 2, 6, 7, 4, 7, 2, 2, 7, 2, 5, 3, 5, 7, 1, 6, 2, 7, 1, 3, 4, 5, 7, 4, 3, 5, 1, 5, 7, 2, 3, 5, 2, 5, 6, 7, 3, 4, 5, 4, 1, 2, 3, 4, 5, 7, 6, 4, 1, 7, 1, 1, 1, 1, 2, 4, 6, 7, 5, 7, 1, 3, 4, 1, 2, 3, 4, 5, 6, 3, 3, 5, 2, 2, 6, 5, 4, 2, 6, 1, 4, 4, 4, 5, 6, 7, 1, 5, 1, 2, 4, 6, 7, 6, 7, 6, 1, 2, 3, 4, 5, 6, 7, 2, 3, 1, 2, 3, 5, 6, 7, 1, 5, 7, 1, 2, 4, 5, 2, 2, 4, 2, 3, 4, 6, 7, 1, 5, 1, 2, 4, 3, 5, 1, 1, 6, 7, 4, 2, 5, 4, 2, 1, 4, 7, 1, 7, 2, 7, 3, 3, 7, 7, 5, 7, 1, 2, 7, 3, 4, 2, 5, 6, 7, 4, 5, 7, 2, 6, 6, 6, 4, 1, 2, 3, 4, 5, 6, 7, 1, 7, 6, 2, 4, 5, 7, 1, 2, 4, 5, 6, 2, 1, 3, 1, 7, 3, 5, 6, 1, 2, 3, 6, 7, 1, 2, 5, 6, 7, 2, 7, 3, 2, 6, 7, 7, 4, 6, 7, 2, 6, 2, 6, 6, 2, 3, 6, 3, 4, 5, 3, 7, 2, 5, 7, 7, 1, 1, 6, 1, 1, 5, 6, 7, 3, 4, 5, 5, 1, 5, 6, 1, 2, 3, 4, 5, 2, 4, 7, 3, 1, 2, 7, 5, 7, 2, 3, 6, 7, 4, 5, 1, 4, 5, 7, 1, 2, 3, 4, 5, 6, 7, 1, 6, 4, 1, 2, 5, 6, 7, 1, 2, 4, 6, 2, 3, 4, 1, 3, 5, 1, 4, 5, 6, 6, 7, 3, 2, 1, 2, 3, 5, 7, 1, 2, 3, 4, 5, 5, 5, 6, 7, 1, 2, 3, 4, 5, 6, 7, 1, 2, 3, 4, 5, 6, 2, 1, 3, 4, 3, 6, 7, 3, 4, 5, 6, 7, 3, 4, 1, 3, 6, 7, 6, 2, 5, 6, 3, 7, 4, 1, 5, 7, 4, 5, 2, 7, 2, 7, 6, 2, 5, 4, 1, 2, 6, 7, 1, 3, 5, 7, 5, 5, 5, 1, 2, 3, 4, 5, 6, 7, 2, 3, 6, 1, 4, 3, 4, 7, 1, 3, 5, 6, 7, 1, 4, 1, 1, 2, 5, 6, 1, 1, 2, 3, 6, 1, 2, 3, 6, 7, 5, 6, 2, 4, 6, 7, 4, 2, 3, 4, 5, 6, 2, 7, 1, 2, 7, 2, 5, 1, 6, 7, 1, 5, 6, 7, 1, 1, 2, 3, 6, 7, 2, 4, 3, 6, 3, 3, 5, 7, 1, 2, 3, 4, 5, 7, 2, 5, 1, 2, 6, 7, 3, 4, 2, 5, 6, 2, 3, 7, 2, 1, 2, 3, 2, 6, 1, 2, 3, 4, 5, 6, 2, 3, 5, 6, 7, 1], \"Freq\": [0.9840502223411249, 0.9924966926265267, 0.9818467106839005, 0.9732069462814975, 0.15332067099197727, 0.13781633347593464, 0.17916123351871502, 0.5305928838823483, 0.9933909795753982, 0.04238725767923283, 0.9466487548361998, 0.6038750562031224, 0.369912992543274, 0.025293196071334973, 0.052597504882227294, 0.9162146011742819, 0.030540486705809396, 0.08323017900202537, 0.8102702720491293, 0.10281375053191369, 0.9368517746541505, 0.06158587363264336, 0.006261461570515008, 0.9893109281413712, 0.006261461570515008, 0.9934608491403065, 0.9950198905623011, 0.9805765163742763, 0.9888353824921097, 0.16457480911661074, 0.12955889228328932, 0.0035015916833321436, 0.7038199283497608, 0.9982393459088902, 0.06263240369816939, 0.08570749979749495, 0.8537785556750459, 0.985835643733638, 0.06520002574822158, 0.10187504023159621, 0.8313003282898251, 0.980456762667485, 0.9918056957361645, 0.9740469123510087, 0.11368734368851918, 0.42734260440059446, 0.1370338517674115, 0.280158096946708, 0.04060262274589971, 0.20941363459955856, 0.6321189340690379, 0.0038780302703621955, 0.0038780302703621955, 0.02714621189253537, 0.06592651459615732, 0.05429242378507074, 0.13752480506107345, 0.410664348446261, 0.17381607306330116, 0.2769596768591062, 0.027411017382092857, 0.20101412746868094, 0.34537881901437, 0.3252774062675019, 0.051167232446573334, 0.04933983128776714, 0.9820949041794156, 0.9870459888497366, 0.990762858651539, 0.9966780674197899, 0.862960006863038, 0.0812933339798514, 0.056280000447589434, 0.11204395277640408, 0.0732595075845719, 0.0043093827990924646, 0.0043093827990924646, 0.8058545834302909, 0.994157835366286, 0.21814359382328438, 0.7565405487913905, 0.023206765300349402, 0.9917365929435881, 0.004983600969565769, 0.9814238117114167, 0.19113414193097325, 0.8066985107969018, 0.0511716672666423, 0.1180884629230207, 0.03936282097434023, 0.5746971862253674, 0.07872564194868047, 0.14170615550762483, 0.18914866425813068, 0.01134891985548784, 0.18536569097296807, 0.5750119393447173, 0.037829732851626136, 0.9924966122287263, 0.1610507955700158, 0.6964358727352035, 0.1392871745470407, 0.1132086733642141, 0.8773672185726592, 0.007429063239709405, 0.009286329049636756, 0.1597248596537522, 0.8227687537978166, 0.857940908968824, 0.13121449195993778, 0.9857245178635453, 0.46231890788772895, 0.009698998067574733, 0.14548497101362098, 0.2052954590969985, 0.04526199098201542, 0.13255297359018803, 0.9920927279955034, 0.9889788942872432, 0.897986243574628, 0.10072469272034801, 0.0008535990908504069, 0.9943774270982192, 0.0008769503761681192, 0.9944617265746472, 0.004384751880840596, 0.0786091710851856, 0.9138316138652827, 0.9955592221470713, 0.039454314496615024, 0.9525398785611342, 0.9369410055047526, 0.05110587302753196, 0.9503020934475644, 0.048733440689618684, 0.22923825692842834, 0.6245911927905003, 0.13953633030426071, 0.02674707132007288, 0.9628945675226236, 0.9820947305546623, 0.9915060459997622, 0.054517009853357556, 0.12925807174908968, 0.17058548244437688, 0.11167193953832918, 0.008793066105380252, 0.0017586132210760503, 0.523187433270125, 0.04980325766138617, 0.3894254725571039, 0.21301393337098903, 0.07440486686761306, 0.009600627982917815, 0.16381071495853522, 0.1002065545717047, 0.9743569792047957, 0.9828339661389518, 0.01820062900257318, 0.9927532336651147, 0.08774450687982671, 0.004387225343991335, 0.824798364670371, 0.0745828308478527, 0.004387225343991335, 0.9915700555216581, 0.9937165847628423, 0.9915729941132916, 0.9939884744986229, 0.9867932148601504, 0.9878882028362987, 0.9969146699357921, 0.9953207666188726, 0.9718503102933256, 0.11019081694903507, 0.11019081694903507, 0.7768452594906973, 0.053058596075178356, 0.16978750744057075, 0.058364455682696194, 0.053058596075178356, 0.6632324509397295, 0.187349344269334, 0.05142923176020933, 0.6428653970026167, 0.04040868209730734, 0.07347033108601334, 0.0014010029171457868, 0.11558274066452741, 0.16671934714034864, 0.7166129921200699, 0.07229613940115079, 0.9257049153756046, 0.08691868675994954, 0.28362939890088795, 0.4094327613166044, 0.1166540269673007, 0.10521735765678102, 0.972103801196909, 0.11276296526975224, 0.07517531017983482, 0.2134978809107309, 0.06164375434746456, 0.004510518610790089, 0.11426647147334894, 0.4164712183962849, 0.011020666585827512, 0.9845128816672577, 0.9961186288492034, 0.04505582296645876, 0.019711922547825708, 0.6814693223676888, 0.14079944677018363, 0.0028159889354036727, 0.10982356848074323, 0.20639295406543848, 0.06191788621963154, 0.0068797651355146155, 0.7223753392290346, 0.9824223874728939, 0.022847032266811486, 0.9844498911310978, 0.98434352616107, 0.9872711867383003, 0.06526976446552492, 0.8680878673914814, 0.06744542328104242, 0.0017733204836238037, 0.22166506045297546, 0.1010792675665568, 0.0035466409672476073, 0.595835682497598, 0.07625278079582355, 0.990137763563222, 0.975362974625465, 0.9954469610988117, 0.9818467652745257, 0.6718098715994173, 0.03255466338146956, 0.2959514852860869, 0.9959437469269783, 0.9964966010871709, 0.24875754314315243, 0.06546251135346116, 0.6109834392989709, 0.07419084620058931, 0.9732098229133506, 0.9988173635211575, 0.9914668682829374, 0.1372551930037577, 0.16892946831231714, 0.18652628792818352, 0.06334855061711893, 0.14077455692693094, 0.19884406165928997, 0.10558091769519821, 0.7825687822085496, 0.02995478592185836, 0.11981914368743345, 0.06739826832418132, 0.9829272169842931, 0.991653643150217, 0.051735159972670516, 0.22824335282060523, 0.05477840467694525, 0.1095568093538905, 0.5173515997267052, 0.04260542585984631, 0.13751040582856994, 0.8613859383978344, 0.9931379424785942, 0.1858056528811052, 0.4003980970536492, 0.08897735490081093, 0.010467924105977758, 0.11383867465250812, 0.20150753904007182, 0.9962674885648531, 0.010435935511203417, 0.02782916136320911, 0.02782916136320911, 0.2782916136320911, 0.5287540659009731, 0.12175258096403986, 0.0023060131248226726, 0.05303830187092147, 0.01844810499858138, 0.8785910005574382, 0.04612026249645345, 0.9956461135208191, 0.022708655624422237, 0.4103778480699162, 0.1265196527646382, 0.1330078400859017, 0.17842515133474615, 0.0016220468303158743, 0.12814169959495406, 0.015488246384311084, 0.29709272609905807, 0.07603320952298169, 0.46183134673218507, 0.1492503742488159, 0.05772765209932204, 0.003848510139954803, 0.935187964009017, 0.09797902508245891, 0.16751252675388137, 0.18647620902790568, 0.15170945819219445, 0.39191610032983565, 0.9910297527956484, 0.9810268046468189, 0.993055344857169, 0.994211039581289, 0.9814632325604242, 0.04402309063892144, 0.04402309063892144, 0.9024733580978895, 0.24110521610721064, 0.6389288226841082, 0.004018420268453511, 0.1125157675166983, 0.996044248182336, 0.029229622464901885, 0.573350286811537, 0.14839654482180956, 0.02248432497300145, 0.22709168222731463, 0.9833836987266068, 0.978382665972431, 0.9844063889798035, 0.9718179852149375, 0.9421526526138095, 0.046526056919200476, 0.9976179596516621, 0.9908387384597153, 0.9976677188368368, 0.9845720601006681, 0.3420610609466157, 0.6549217874221789, 0.2684787753538781, 0.7294069383508015, 0.0738238646532385, 0.1712713659955133, 0.21556568478745639, 0.5374377346755762, 0.7850473716541839, 0.10705191431647963, 0.10705191431647963, 0.9959989732332621, 0.9697268952930886, 0.9784968403237445, 0.6878664907737171, 0.311073381177923, 0.9800280858442653, 0.0176052949552862, 0.9919722662832374, 0.978608246025029, 0.9960613927400324, 0.9966588627460302, 0.0018804884202755286, 0.02580858722305349, 0.9678220208645059, 0.03760472158470583, 0.7609426014787533, 0.08405761295404833, 0.0066361273384775, 0.10839007986179916, 0.9883338524070756, 0.992560369518862, 0.9830525160075256, 0.002508166279759702, 0.2959636210116448, 0.6997783920529568, 0.0260959762605132, 0.8785645341039445, 0.08698658753504401, 0.4068848711530259, 0.5392839165282168, 0.019375470054905995, 0.03552169510066099, 0.04208455549518541, 0.008416911099037081, 0.9511109541911903, 0.990769563193953, 0.23437641937746936, 0.18049678273897066, 0.04310370931079897, 0.005387963663849871, 0.18588474640282054, 0.3529116199821665, 0.97705347761756, 0.9951996727530713, 0.8587469611555221, 0.13478091318584426, 0.9995171372953917, 0.9959380913490117, 0.9965672217957389, 0.0705655838544717, 0.16396120954421364, 0.4690535867973707, 0.18264033468216204, 0.11207475082769035, 0.9770104935933125, 0.9794668261262864, 0.9988156598261384, 0.02831447727015155, 0.9626922271851528, 0.1036599246685389, 0.24732894306879458, 0.08183678263305703, 0.4528301972362489, 0.060013640597575156, 0.054557855088704685, 0.9928091300773164, 0.9954629973039204, 0.002788411757153839, 0.9844110476933068, 0.9897524955646596, 0.996845054105201, 0.9736194695769821, 0.9897008017897768, 0.9797964519856176, 0.9857833538622149, 0.8740950816800791, 0.11961301117727399, 0.9980611760853292, 0.06292289081233701, 0.11440525602243093, 0.011440525602243092, 0.806557054958138, 0.9986170956946102, 0.9862092313105938, 0.12237031634403538, 0.32475199337455546, 0.02353275314308373, 0.4706550628616746, 0.05647860754340095, 0.9826313553821189, 0.9833036397169674, 0.9901699268292341, 0.12233309739343456, 0.21816069035162497, 0.02242773452212967, 0.19369407087293805, 0.3058327434835864, 0.0428165840877021, 0.09174982304507592, 0.013967340414201888, 0.9846974992012332, 0.0036901064826196724, 0.21771628247456065, 0.3745458079858967, 0.21033606950932132, 0.18081521764836395, 0.012915372689168852, 0.07966792314879254, 0.6924981012164274, 0.2267471658850249, 0.0076933297718954664, 0.08847329237679787, 0.21541323361307307, 0.6885530145846442, 0.9891348910186327, 0.09061296979751779, 0.9102484693296106, 0.5869848132642209, 0.19652354981533385, 0.17066518799752678, 0.03878754272671063, 0.007757508545342126, 0.005793111503327613, 0.9906220670690219, 0.006944293727169283, 0.0763872309988621, 0.9166467719863453, 0.9953026549945255, 0.9770165274977968, 0.9949578661996158, 0.8245778000267361, 0.0045182345206944445, 0.1716929117863889, 0.9907667784455766, 0.9731920629312685, 0.9899575579994003, 0.9927347520793353, 0.9784966409758041, 0.8703742683276481, 0.1284158756548989, 0.98648239660847, 0.9376592030726931, 0.06251061353817954, 0.7378655738587292, 0.2582529508505552, 0.9979605617840585, 0.6305294068052866, 0.36289462262174765, 0.9970064335334388, 0.9894925342683458, 0.9917238563831597, 0.9886557341589043, 0.9962791602392354, 0.984050235061552, 0.997130671933863, 0.9983852879323335, 0.11025167235111752, 0.6037591581132626, 0.2782542206956775, 0.005250079635767501, 0.007051772255613724, 0.003525886127806862, 0.9872481157859214, 0.9663689712595964, 0.017895721689992525, 0.9750268595476966, 0.9869465625726007, 0.9969218440402899, 0.12885213566635795, 0.07127990483670865, 0.10143678765223924, 0.5291162166724911, 0.09047064844659175, 0.04934762642541368, 0.030156882815530583, 0.11361526007963658, 0.8861990286211654, 0.980773426693523, 0.5258093009226805, 0.17954463933945186, 0.24687387909174632, 0.044886159834862965, 0.20433773957155288, 0.014595552826539493, 0.2602873587399543, 0.09730368551026328, 0.4232710319696453, 0.9897522870111823, 0.0038655964337537796, 0.9934582834747213, 0.9954468589985376, 0.9903197653489803, 0.01880377785124334, 0.015384909151017277, 0.9641209734637495, 0.08250382680122995, 0.20625956700307485, 0.40126861216961834, 0.18563361030276737, 0.1237557402018449, 0.7411462101476416, 0.09632016894525769, 0.002307069914856472, 0.008074744701997651, 0.15168984690181303, 0.007052482995301321, 0.987347619342185, 0.9934609055176887, 0.10354540323184867, 0.09558037221401416, 0.7965031017834513, 0.9764945520043085, 0.7528296466163652, 0.2451073268053282, 0.9967430864867, 0.9503550110331748, 0.04472258875450234, 0.9947675380602857, 0.9914943409304348, 0.9858351858698413, 0.01570748647445712, 0.25917352682854244, 0.7146906345877989, 0.010098427140143182, 0.11108269854157501, 0.8785631611924569, 0.9951400027358267, 0.9672114152253067, 0.02170518502291999, 0.016278888767189994, 0.9604544372642096, 0.9764944707012659, 0.9983084572412163, 0.9984593896927174, 0.0014512491129254615, 0.9969080036776641, 0.8276721746108425, 0.035244282160626535, 0.0011369123277621463, 0.13586102316757648, 0.07128557541986165, 0.8910696927482706, 0.028514230167944663, 0.9979530657532745, 0.9978379655334901, 0.06214241521456047, 0.932136228218407, 0.09840571850648121, 0.09840571850648121, 0.04428257332791654, 0.03936228740259248, 0.7183617450973128, 0.7276218722485848, 0.08560257320571586, 0.1783386941785747, 0.9750824187452849, 0.1490711049289332, 0.660454100645406, 0.18954736520765014, 0.18844563400861267, 0.8045178990367694, 0.09384520147002667, 0.25220897895069666, 0.58066718409579, 0.07038390110252, 0.026284797842899915, 0.9637759209063302, 0.3342155028091991, 0.011726859747691196, 0.005863429873845598, 0.6449772861230157, 0.2897031149552147, 0.08575212202674357, 0.10661074630351902, 0.1297869954999362, 0.09270499678566871, 0.2850678651159313, 0.00927049967856687, 0.9991484163051454, 0.9875959892818181, 0.9899784435592898, 0.11803475907351733, 0.03219129792914109, 0.10015070466843895, 0.6009042280106337, 0.14664924612164273, 0.01615162646241663, 0.05653069261845821, 0.1049855720057081, 0.8156571363520398, 0.006010464082146031, 0.8895486841576127, 0.10217788939648254, 0.995641015731469, 0.9108066452748533, 0.0867434900261765, 0.11977851327373969, 0.4953552074371607, 0.383697271334522, 0.9931380039639677, 0.994962682631725, 0.9822926285850588, 0.9928091300773162, 0.9762519062115858, 0.04200979369966863, 0.010502448424917158, 0.7071648606110886, 0.05951387440786389, 0.17504080708195263, 0.038305508677571126, 0.28729131508178346, 0.47334664294427176, 0.19426365115053928, 0.0027361077626836517, 0.9964966010871718, 0.008252698275141726, 0.8912914137153064, 0.09903237930170071, 0.020047443116860065, 0.05345984831162685, 0.10357845610377701, 0.5212335210383617, 0.1804269880517406, 0.006682481038953356, 0.11694341818168372, 0.12306913156462725, 0.40883982689266, 0.13975647143779704, 0.058405689556094285, 0.16061564627925928, 0.10846770917560368, 0.988784863044077, 0.9969160610618218, 0.943657106071391, 0.057540067443377495, 0.18705900615510967, 0.10392167008617205, 0.7066673565859699, 0.023678090053767732, 0.6961358475807713, 0.11602264126346189, 0.10418359623657802, 0.05919522513441933, 0.3051941352924109, 0.6905017310990796, 0.0074741337293531395, 0.8445771114169047, 0.0074741337293531395, 0.14200854085770964, 0.9849631413832194, 0.05002574343088895, 0.8604427870112898, 0.0800411894894223, 0.8418876492720953, 0.15524169419201758, 0.9883473000947383, 0.09482002553248926, 0.8711589845797452, 0.029631257978902897, 0.11044342114587129, 0.8890695402242639, 0.011885975586308778, 0.9865359736636284, 0.9969269225176033, 0.9779905814598105, 0.973389710977614, 0.9648705084948649, 0.015562427556368788, 0.9932440497575886, 0.21680863079976243, 0.05003276095379133, 0.06671034793838844, 0.663767961986965, 0.20497193516232343, 0.0901295034047096, 0.6846934855422293, 0.018898121681632657, 0.975348917716629, 0.984414515081558, 0.9946914456906858, 0.27898797019784505, 0.42512452601576384, 0.007971084862795573, 0.03454136773878081, 0.11425221636673653, 0.002657028287598524, 0.13816547095512324, 0.0608558332528265, 0.8398104988890057, 0.09889072903584306, 0.9955839361160529, 0.9926158484867879, 0.006550393975597937, 0.8908535806813195, 0.104806303609567, 0.006873746660471227, 0.004582497773647485, 0.31390109749485273, 0.0160387422077662, 0.6575884305184141, 0.9998852044927803, 0.9962090839522558, 0.9939326569005037, 0.9965633715776894, 0.995924086670522, 0.9900256463131529, 0.9915701657168762, 0.9935845670093308, 0.12720694264889468, 0.167578008279981, 0.18433580910797912, 0.52101526210685, 0.20201590160410446, 0.2079285621388587, 0.060112048770001814, 0.44936220064132504, 0.07982091721918273, 0.9844499024281049, 0.9789812548456454, 0.08199039769542939, 0.01639807953908588, 0.8772972553410945, 0.024597119308628818, 0.9927347535745643, 0.14606404912014873, 0.1704080573068402, 0.009737603274676583, 0.019475206549353166, 0.652419419403331, 0.9927381546600578, 0.9764573423827783, 0.23872511278711891, 0.047745022557423786, 0.7108703358549763, 0.9868366714433067, 0.9954889530549769, 0.9011244275851024, 0.011856900362961872, 0.08299830254073311, 0.07271123637237467, 0.01615805252719437, 0.10502734142676341, 0.7998236000961214, 0.9976186602207172, 0.0061260859744623015, 0.07810759617439433, 0.0030630429872311508, 0.48702383496975293, 0.42729449671874553, 0.9791314734958816, 0.9988956137430346, 0.991107396501536, 0.007234360558405372, 0.9861809716148168, 0.9092418381908054, 0.01188551422471641, 0.07131308534829846, 0.1344202876697514, 0.10315975565353012, 0.003126053201622125, 0.24070609652490363, 0.450151661033586, 0.06564711723406463, 0.9431882041237819, 0.052790384559166896, 0.8205522205338647, 0.014740459051506552, 0.16214504956657208, 0.9888545618770339, 0.9867544932103282, 0.9944966315204213, 0.9891464529539205, 0.0084905274931667, 0.9931379640707053, 0.9140687393392853, 0.041280523712096756, 0.041280523712096756, 0.9893006410548784, 0.023636825219094305, 0.713832121616648, 0.26000507741003737, 0.9920239037958594, 0.992546856231999, 0.03986896367848365, 0.15150206197823787, 0.2152924038638117, 0.003986896367848365, 0.4903882532453489, 0.09568551282836077, 0.9791070752863591, 0.121177921954983, 0.010537210604781131, 0.23181863330518487, 0.6375012415892585, 0.9954469487269458], \"Term\": [\"11km\", \"49\", \"abe\", \"absolut\", \"afd\", \"afd\", \"afd\", \"afd\", \"aiwanger\", \"aktion\", \"aktion\", \"akw\", \"akw\", \"akw\", \"ampel\", \"ampel\", \"ampel\", \"analyse\", \"analyse\", \"analyse\", \"angriff\", \"angriff\", \"anklage\", \"anklage\", \"anklage\", \"anleger\", \"armee\", \"auge\", \"augsburg\", \"auto\", \"auto\", \"auto\", \"auto\", \"bachmut\", \"bahn\", \"bahn\", \"bahn\", \"baum\", \"bayern\", \"bayern\", \"bayern\", \"beantragen\", \"beitritt\", \"belgien\", \"berlin\", \"berlin\", \"berlin\", \"berlin\", \"berlin\", \"besuch\", \"besuch\", \"besuch\", \"besuch\", \"besuch\", \"besuch\", \"besuch\", \"biden\", \"biden\", \"biden\", \"biden\", \"bleiben\", \"bleiben\", \"bleiben\", \"bleiben\", \"bleiben\", \"bleiben\", \"bochum\", \"bolsonaro\", \"boris\", \"brand\", \"brasilien\", \"brasilien\", \"brasilien\", \"brauchen\", \"brauchen\", \"brauchen\", \"brauchen\", \"brauchen\", \"brexit\", \"britisch\", \"britisch\", \"britisch\", \"bund\", \"bund\", \"bundeskanzler\", \"bundesliga\", \"bundesliga\", \"bundesregierung\", \"bundesregierung\", \"bundesregierung\", \"bundesregierung\", \"bundesregierung\", \"bundesregierung\", \"bundestag\", \"bundestag\", \"bundestag\", \"bundestag\", \"bundestag\", \"bundesverfassungsgericht\", \"bundeswehr\", \"bundeswehr\", \"bundeswehr\", \"bvb\", \"bvb\", \"cdu\", \"cdu\", \"cdu\", \"cdu\", \"charles\", \"charles\", \"chatgpt\", \"chef\", \"chef\", \"chef\", \"chef\", \"chef\", \"chef\", \"chefin\", \"cherson\", \"china\", \"china\", \"china\", \"co2\", \"corona\", \"corona\", \"corona\", \"csu\", \"csu\", \"cum\", \"dax\", \"dax\", \"ddr\", \"ddr\", \"de\", \"de\", \"debatte\", \"debatte\", \"debatte\", \"demo\", \"demo\", \"demokrat\", \"demonstration\", \"deutsch\", \"deutsch\", \"deutsch\", \"deutsch\", \"deutsch\", \"deutsch\", \"deutsch\", \"deutschland\", \"deutschland\", \"deutschland\", \"deutschland\", \"deutschland\", \"deutschland\", \"deutschland\", \"di\", \"diktator\", \"diktator\", \"donald\", \"druck\", \"druck\", \"druck\", \"druck\", \"druck\", \"elmau\", \"em\", \"energiewende\", \"entlastung\", \"entlastungspaket\", \"entl\\u00e4ssen\", \"entwicklung\", \"erdbeben\", \"erde\", \"erdogan\", \"erdogan\", \"erdogan\", \"ermittlung\", \"ermittlung\", \"ermittlung\", \"ermittlung\", \"ermittlung\", \"erwarten\", \"erwarten\", \"erwarten\", \"erwarten\", \"erwarten\", \"eu\", \"eu\", \"eu\", \"eu\", \"euro\", \"euro\", \"europa\", \"europa\", \"europa\", \"europa\", \"europa\", \"evg\", \"ex\", \"ex\", \"ex\", \"ex\", \"ex\", \"ex\", \"ex\", \"faeser\", \"faeser\", \"fc\", \"fdp\", \"fdp\", \"fdp\", \"fdp\", \"fdp\", \"fdp\", \"fehlen\", \"fehlen\", \"fehlen\", \"fehlen\", \"fifa\", \"fifa\", \"flugblatt\", \"for\", \"fragen\", \"frankreich\", \"frankreich\", \"frankreich\", \"frau\", \"frau\", \"frau\", \"frau\", \"frau\", \"frau\", \"freiburg\", \"friedrich\", \"front\", \"fukushima\", \"fu\\u00dfball\", \"fu\\u00dfball\", \"fu\\u00dfball\", \"g7\", \"gabor\", \"gas\", \"gas\", \"gas\", \"gas\", \"gasspeicher\", \"gastbeitrag\", \"gasumlage\", \"geben\", \"geben\", \"geben\", \"geben\", \"geben\", \"geben\", \"geben\", \"generation\", \"generation\", \"generation\", \"generation\", \"georgien\", \"gesellschaft\", \"gewinnen\", \"gewinnen\", \"gewinnen\", \"gewinnen\", \"gewinnen\", \"gewinnen\", \"gipfel\", \"gipfel\", \"gladbach\", \"gro\\u00df\", \"gro\\u00df\", \"gro\\u00df\", \"gro\\u00df\", \"gro\\u00df\", \"gro\\u00df\", \"gro\\u00dfbritannien\", \"gr\\u00fcn\", \"gr\\u00fcn\", \"gr\\u00fcn\", \"gr\\u00fcn\", \"gr\\u00fcn\", \"gr\\u00fcn\", \"gr\\u00fcne\", \"gr\\u00fcne\", \"gr\\u00fcne\", \"gr\\u00fcne\", \"gr\\u00fcne\", \"gr\\u00fcnen\", \"gut\", \"gut\", \"gut\", \"gut\", \"gut\", \"gut\", \"gut\", \"habeck\", \"habeck\", \"habeck\", \"habeck\", \"habeck\", \"haft\", \"haft\", \"haft\", \"halten\", \"halten\", \"halten\", \"halten\", \"halten\", \"hammer\", \"handball\", \"haushalt\", \"heizungsgesetz\", \"hei\\u00df\", \"hertha\", \"hertha\", \"hertha\", \"hilfe\", \"hilfe\", \"hilfe\", \"hilfe\", \"hitze\", \"hoch\", \"hoch\", \"hoch\", \"hoch\", \"hoch\", \"hoffenheim\", \"holstein\", \"hugo\", \"iii\", \"impfung\", \"impfung\", \"inflation\", \"intelligenz\", \"invasion\", \"inzidenz\", \"iran\", \"iran\", \"israel\", \"israel\", \"italien\", \"italien\", \"italien\", \"italien\", \"japan\", \"japan\", \"japan\", \"johnson\", \"jong\", \"j\\u00e4ger\", \"kanzler\", \"kanzler\", \"katar\", \"katar\", \"katholisch\", \"kennen\", \"ki\", \"kiew\", \"kiew\", \"kim\", \"kim\", \"kind\", \"kind\", \"kind\", \"kind\", \"kind\", \"kindergrundsicherung\", \"kirche\", \"kleber\", \"klima\", \"klima\", \"klima\", \"klinik\", \"klinik\", \"klinik\", \"kommentar\", \"kommentar\", \"kommentar\", \"kommentar\", \"kommission\", \"kommission\", \"kommission\", \"kommune\", \"konflikt\", \"konflikt\", \"konflikt\", \"konflikt\", \"konflikt\", \"konflikt\", \"kongress\", \"kosovo\", \"kreml\", \"kreml\", \"krieg\", \"kriegsverlauf\", \"krim\", \"kritik\", \"kritik\", \"kritik\", \"kritik\", \"kritik\", \"kultur\", \"k\\u00fcnstliche\", \"lage\", \"lambrecht\", \"lambrecht\", \"land\", \"land\", \"land\", \"land\", \"land\", \"land\", \"lanka\", \"lauterbach\", \"lauterbach\", \"legalisierung\", \"leichtathletik\", \"leipzig\", \"leitzins\", \"leopard\", \"letzten\", \"leverkusen\", \"liefern\", \"liefern\", \"lindner\", \"linke\", \"linke\", \"linke\", \"linke\", \"liveblog\", \"lukaschenko\", \"macron\", \"macron\", \"macron\", \"macron\", \"macron\", \"madrid\", \"mai\", \"mainz\", \"mann\", \"mann\", \"mann\", \"mann\", \"mann\", \"mann\", \"mann\", \"marktbericht\", \"marktbericht\", \"mensch\", \"mensch\", \"mensch\", \"mensch\", \"mensch\", \"mensch\", \"merkel\", \"merkel\", \"merkel\", \"merz\", \"merz\", \"merz\", \"merz\", \"milit\\u00e4rman\\u00f6ver\", \"milliarde\", \"milliarde\", \"million\", \"million\", \"million\", \"million\", \"million\", \"mindestens\", \"mindestens\", \"minister\", \"minister\", \"minister\", \"missbrauch\", \"mittelmeer\", \"morgen\", \"moskau\", \"moskau\", \"moskau\", \"musk\", \"mut\", \"m\\u00fcller\", \"nachfolge\", \"nachhaltig\", \"nachricht\", \"nachricht\", \"nahost\", \"nato\", \"nato\", \"new\", \"new\", \"news\", \"nord\", \"nord\", \"nordkorea\", \"notfallplan\", \"notstand\", \"offensive\", \"olaf\", \"pal\\u00e4stinenser\", \"pandemie\", \"panzer\", \"parlament\", \"parlament\", \"parlament\", \"parlament\", \"partei\", \"partei\", \"partei\", \"pelosi\", \"pelosi\", \"pentagon\", \"peru\", \"pistorius\", \"plan\", \"plan\", \"plan\", \"plan\", \"plan\", \"plan\", \"plan\", \"podcast\", \"podcast\", \"pokal\", \"politik\", \"politik\", \"politik\", \"politik\", \"polizei\", \"polizei\", \"polizei\", \"polizei\", \"polizei\", \"positiv\", \"preis\", \"preis\", \"prigoschin\", \"prinz\", \"protest\", \"protest\", \"protest\", \"pr\\u00e4sident\", \"pr\\u00e4sident\", \"pr\\u00e4sident\", \"pr\\u00e4sident\", \"pr\\u00e4sident\", \"putin\", \"putin\", \"putin\", \"putin\", \"putin\", \"queen\", \"queen\", \"rbb\", \"reaktion\", \"reaktion\", \"reaktion\", \"rechtlich\", \"regierung\", \"regierung\", \"reichsb\\u00fcrger\", \"reise\", \"reise\", \"reitz\", \"rentenreform\", \"repr\\u00e4sentantenhaus\", \"republikaner\", \"republikaner\", \"republikaner\", \"retten\", \"retten\", \"retten\", \"rki\", \"rtl\", \"rufen\", \"rufen\", \"rufen\", \"rushdie\", \"russe\", \"russisch\", \"russisch\", \"russischer\", \"russland\", \"russland\", \"russland\", \"russland\", \"r\\u00fccktritt\", \"r\\u00fccktritt\", \"r\\u00fccktritt\", \"sanktion\", \"saporischschja\", \"schalke\", \"schalke\", \"schlagen\", \"schlagen\", \"schlagen\", \"schlagen\", \"schlagen\", \"schlecht\", \"schlecht\", \"schlecht\", \"schleswig\", \"scholz\", \"scholz\", \"scholz\", \"schr\\u00f6der\", \"schr\\u00f6der\", \"schule\", \"schule\", \"schule\", \"schule\", \"schu\\u00df\", \"schu\\u00df\", \"schweden\", \"schweden\", \"schweden\", \"schweden\", \"sehen\", \"sehen\", \"sehen\", \"sehen\", \"sehen\", \"sehen\", \"sehen\", \"selenskyj\", \"senat\", \"serbien\", \"sieg\", \"sieg\", \"sieg\", \"sieg\", \"sieg\", \"siegen\", \"siegen\", \"siegen\", \"siegen\", \"sinken\", \"sinken\", \"sinken\", \"soldat\", \"sparen\", \"sparen\", \"spd\", \"spd\", \"spd\", \"spieltag\", \"spionage\", \"sprache\", \"sri\", \"staatssekret\\u00e4r\", \"stark\", \"stark\", \"stark\", \"stark\", \"stark\", \"steigen\", \"steigen\", \"steigen\", \"steigen\", \"steigen\", \"steingart\", \"steinmeier\", \"steinmeier\", \"steinmeier\", \"stellen\", \"stellen\", \"stellen\", \"stellen\", \"stellen\", \"stellen\", \"stellen\", \"sterben\", \"sterben\", \"sterben\", \"sterben\", \"sterben\", \"sterben\", \"stiftung\", \"stimme\", \"street\", \"street\", \"streik\", \"streik\", \"streik\", \"streit\", \"streit\", \"streit\", \"streit\", \"streit\", \"studie\", \"studie\", \"sturm\", \"sturm\", \"sturm\", \"sturm\", \"stuttgart\", \"suche\", \"suche\", \"suche\", \"sudan\", \"sudan\", \"sunak\", \"syrien\", \"syrien\", \"syrien\", \"s\\u00f6der\", \"s\\u00f6der\", \"s\\u00fcdkorea\", \"s\\u00fcdkorea\", \"taiwan\", \"teilmobilmachung\", \"terminal\", \"thomas\", \"thomas\", \"ticket\", \"tod\", \"tod\", \"tod\", \"tod\", \"tote\", \"tote\", \"tote\", \"tote\", \"toter\", \"tour\", \"trainer\", \"treffen\", \"treffen\", \"treffen\", \"treffen\", \"treffen\", \"treffen\", \"treffen\", \"trump\", \"trump\", \"trump\", \"truppe\", \"truss\", \"twitter\", \"twitter\", \"twitter\", \"t\\u00fcrkei\", \"t\\u00fcrkei\", \"t\\u00fcrkei\", \"t\\u00fcrkei\", \"t\\u00fcrkei\", \"ukraine\", \"ukrainekrieg\", \"ukrainer\", \"ukrainisch\", \"ulrich\", \"ungarn\", \"uni\", \"updat\", \"us\", \"us\", \"us\", \"us\", \"usa\", \"usa\", \"usa\", \"usa\", \"usa\", \"venedig\", \"verabschieden\", \"verbot\", \"verbot\", \"verbot\", \"verbot\", \"verbrenner\", \"verletzen\", \"verletzen\", \"verletzen\", \"verletzen\", \"verletzen\", \"versteher\", \"vertrauen\", \"verurteilen\", \"verurteilen\", \"verurteilen\", \"viertelfinal\", \"vogg\", \"waffe\", \"waffe\", \"waffe\", \"wagenknecht\", \"wagenknecht\", \"wagenknecht\", \"wagenknecht\", \"wagner\", \"wahl\", \"wahl\", \"wahl\", \"wahl\", \"wahl\", \"wahlwiederholung\", \"wahrheit\", \"waldbrand\", \"waldbrand\", \"wall\", \"warnstreik\", \"warnstreik\", \"warnstreik\", \"weg\", \"weg\", \"weg\", \"weg\", \"weg\", \"weg\", \"welt\", \"welt\", \"westen\", \"westen\", \"westen\", \"westjordanland\", \"wetter\", \"wissing\", \"wm\", \"wm\", \"wolfsburg\", \"xi\", \"xi\", \"xi\", \"york\", \"zahl\", \"zahl\", \"zahl\", \"zahlen\", \"zehntausend\", \"zeit\", \"zeit\", \"zeit\", \"zeit\", \"zeit\", \"zeit\", \"zverev\", \"zweiter\", \"zweiter\", \"zweiter\", \"zweiter\", \"\\u00fcberblick\"]}, \"R\": 30, \"lambda.step\": 0.01, \"plot.opts\": {\"xlab\": \"PC1\", \"ylab\": \"PC2\"}, \"topic.order\": [1, 3, 6, 2, 5, 7, 4]};\n",
       "\n",
       "function LDAvis_load_lib(url, callback){\n",
       "  var s = document.createElement('script');\n",
       "  s.src = url;\n",
       "  s.async = true;\n",
       "  s.onreadystatechange = s.onload = callback;\n",
       "  s.onerror = function(){console.warn(\"failed to load library \" + url);};\n",
       "  document.getElementsByTagName(\"head\")[0].appendChild(s);\n",
       "}\n",
       "\n",
       "if(typeof(LDAvis) !== \"undefined\"){\n",
       "   // already loaded: just create the visualization\n",
       "   !function(LDAvis){\n",
       "       new LDAvis(\"#\" + \"ldavis_el1048421056404899684390071915\", ldavis_el1048421056404899684390071915_data);\n",
       "   }(LDAvis);\n",
       "}else if(typeof define === \"function\" && define.amd){\n",
       "   // require.js is available: use it to load d3/LDAvis\n",
       "   require.config({paths: {d3: \"https://d3js.org/d3.v5\"}});\n",
       "   require([\"d3\"], function(d3){\n",
       "      window.d3 = d3;\n",
       "      LDAvis_load_lib(\"https://cdn.jsdelivr.net/gh/bmabey/pyLDAvis@3.4.0/pyLDAvis/js/ldavis.v3.0.0.js\", function(){\n",
       "        new LDAvis(\"#\" + \"ldavis_el1048421056404899684390071915\", ldavis_el1048421056404899684390071915_data);\n",
       "      });\n",
       "    });\n",
       "}else{\n",
       "    // require.js not available: dynamically load d3 & LDAvis\n",
       "    LDAvis_load_lib(\"https://d3js.org/d3.v5.js\", function(){\n",
       "         LDAvis_load_lib(\"https://cdn.jsdelivr.net/gh/bmabey/pyLDAvis@3.4.0/pyLDAvis/js/ldavis.v3.0.0.js\", function(){\n",
       "                 new LDAvis(\"#\" + \"ldavis_el1048421056404899684390071915\", ldavis_el1048421056404899684390071915_data);\n",
       "            })\n",
       "         });\n",
       "}\n",
       "</script>"
      ],
      "text/plain": [
       "PreparedData(topic_coordinates=               x          y  topics  cluster       Freq\n",
       "topic                                                  \n",
       "0     -13.997216  36.421318       1        1  17.318913\n",
       "2      17.531588 -15.635834       2        1  14.534681\n",
       "5      32.238777  10.958028       3        1  14.226685\n",
       "1     -28.602219   9.705539       4        1  14.116559\n",
       "4      16.454649  36.964485       5        1  13.444289\n",
       "6       1.808764  10.358519       6        1  13.190137\n",
       "3     -12.819125 -16.301262       7        1  13.168736, topic_info=              Term         Freq        Total Category  logprob  loglift\n",
       "18325      ukraine  4527.000000  4527.000000  Default  30.0000  30.0000\n",
       "10150        krieg  2623.000000  2623.000000  Default  29.0000  29.0000\n",
       "15087     russisch  1378.000000  1378.000000  Default  28.0000  28.0000\n",
       "3583        corona  1140.000000  1140.000000  Default  27.0000  27.0000\n",
       "15091     russland  1759.000000  1759.000000  Default  26.0000  26.0000\n",
       "...            ...          ...          ...      ...      ...      ...\n",
       "15666       scholz   192.173462  1012.939430   Topic7  -5.4284   0.3651\n",
       "9895      konflikt   131.267303   371.197752   Topic7  -5.8096   0.9878\n",
       "7467          groß   153.611149   764.239396   Topic7  -5.6524   0.4229\n",
       "3899   deutschland   167.144920  1666.557649   Topic7  -5.5680  -0.2723\n",
       "7716        halten   124.412448   316.394248   Topic7  -5.8632   1.0939\n",
       "\n",
       "[433 rows x 6 columns], token_table=       Topic      Freq       Term\n",
       "term                             \n",
       "8          7  0.984050       11km\n",
       "63         5  0.992497         49\n",
       "138        2  0.981847        abe\n",
       "301        7  0.973207    absolut\n",
       "418        2  0.153321        afd\n",
       "...      ...       ...        ...\n",
       "21131      3  0.121178    zweiter\n",
       "21131      5  0.010537    zweiter\n",
       "21131      6  0.231819    zweiter\n",
       "21131      7  0.637501    zweiter\n",
       "21275      1  0.995447  überblick\n",
       "\n",
       "[844 rows x 3 columns], R=30, lambda_step=0.01, plot_opts={'xlab': 'PC1', 'ylab': 'PC2'}, topic_order=[1, 3, 6, 2, 5, 7, 4])"
      ]
     },
     "execution_count": 30,
     "metadata": {},
     "output_type": "execute_result"
    }
   ],
   "source": [
    "pyLDAvis.enable_notebook()\n",
    "panel = pyLDAvis.lda_model.prepare(lda, dtm, cv, mds='tsne')\n",
    "panel"
   ]
  },
  {
   "cell_type": "markdown",
   "id": "3a4c2e1a",
   "metadata": {},
   "source": [
    "## Save train set with topics and dump model"
   ]
  },
  {
   "cell_type": "code",
   "execution_count": 31,
   "id": "78051ef9",
   "metadata": {},
   "outputs": [],
   "source": [
    "#Save result to csv\n",
    "train.to_csv('train_lda_topics_7.csv')"
   ]
  },
  {
   "cell_type": "code",
   "execution_count": 32,
   "id": "2c153876",
   "metadata": {},
   "outputs": [
    {
     "data": {
      "text/plain": [
       "['models/cv.jl']"
      ]
     },
     "execution_count": 32,
     "metadata": {},
     "output_type": "execute_result"
    }
   ],
   "source": [
    "# Dump countvectorizer\n",
    "joblib.dump(cv, 'models/cv.jl')"
   ]
  },
  {
   "cell_type": "code",
   "execution_count": 33,
   "id": "c06c71c2",
   "metadata": {},
   "outputs": [
    {
     "data": {
      "text/plain": [
       "['models/lda_model_7_topics.jl']"
      ]
     },
     "execution_count": 33,
     "metadata": {},
     "output_type": "execute_result"
    }
   ],
   "source": [
    "# Dump LDA model\n",
    "joblib.dump(lda, 'models/lda_model_7_topics.jl')"
   ]
  },
  {
   "cell_type": "code",
   "execution_count": null,
   "id": "25c09460",
   "metadata": {},
   "outputs": [],
   "source": []
  }
 ],
 "metadata": {
  "kernelspec": {
   "display_name": "nlp",
   "language": "python",
   "name": "nlp"
  },
  "language_info": {
   "codemirror_mode": {
    "name": "ipython",
    "version": 3
   },
   "file_extension": ".py",
   "mimetype": "text/x-python",
   "name": "python",
   "nbconvert_exporter": "python",
   "pygments_lexer": "ipython3",
   "version": "3.11.5"
  }
 },
 "nbformat": 4,
 "nbformat_minor": 5
}
