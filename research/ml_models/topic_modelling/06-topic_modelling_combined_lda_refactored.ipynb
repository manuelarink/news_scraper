{
 "cells": [
  {
   "cell_type": "markdown",
   "id": "d23815fa",
   "metadata": {},
   "source": [
    "# Topic modelling of news headlines for prediction of news category with 7 topics¶"
   ]
  },
  {
   "cell_type": "markdown",
   "id": "75523a79",
   "metadata": {},
   "source": [
    "Now we wan't to perform topic modelling with unsupervised learning and train a modell for prediction of news category labels without using the provided labels in the corpus.\n",
    "We use the LDA classifier on the combined feature 'title_description_text' feature and assume 7 topics. "
   ]
  },
  {
   "cell_type": "code",
   "execution_count": 1,
   "id": "a2821ff5",
   "metadata": {},
   "outputs": [
    {
     "name": "stderr",
     "output_type": "stream",
     "text": [
      "C:\\Users\\manuela.rink\\anaconda3\\envs\\nlp\\Lib\\site-packages\\certifi\\core.py:36: DeprecationWarning: path is deprecated. Use files() instead. Refer to https://importlib-resources.readthedocs.io/en/latest/using.html#migrating-from-legacy for migration advice.\n",
      "  _CACERT_CTX = get_path(\"certifi\", \"cacert.pem\")\n"
     ]
    }
   ],
   "source": [
    "import pandas as pd\n",
    "import numpy as np\n",
    "import matplotlib.pyplot as plt\n",
    "import seaborn as sns\n",
    "\n",
    "import joblib\n",
    "\n",
    "import pyLDAvis.lda_model\n",
    "\n",
    "import nlp_preprocessors"
   ]
  },
  {
   "cell_type": "markdown",
   "id": "6594f2c8",
   "metadata": {},
   "source": [
    "## Load data"
   ]
  },
  {
   "cell_type": "code",
   "execution_count": 2,
   "id": "d737f3a4",
   "metadata": {},
   "outputs": [],
   "source": [
    "train = pd.read_csv('../../data/01_train_nosplit_preprocessed.csv')"
   ]
  },
  {
   "cell_type": "code",
   "execution_count": 3,
   "id": "72fc6b38",
   "metadata": {},
   "outputs": [
    {
     "data": {
      "text/html": [
       "<div>\n",
       "<style scoped>\n",
       "    .dataframe tbody tr th:only-of-type {\n",
       "        vertical-align: middle;\n",
       "    }\n",
       "\n",
       "    .dataframe tbody tr th {\n",
       "        vertical-align: top;\n",
       "    }\n",
       "\n",
       "    .dataframe thead th {\n",
       "        text-align: right;\n",
       "    }\n",
       "</style>\n",
       "<table border=\"1\" class=\"dataframe\">\n",
       "  <thead>\n",
       "    <tr style=\"text-align: right;\">\n",
       "      <th></th>\n",
       "      <th>date</th>\n",
       "      <th>title</th>\n",
       "      <th>description</th>\n",
       "      <th>category</th>\n",
       "      <th>text</th>\n",
       "      <th>source</th>\n",
       "      <th>title_description_text</th>\n",
       "    </tr>\n",
       "  </thead>\n",
       "  <tbody>\n",
       "    <tr>\n",
       "      <th>0</th>\n",
       "      <td>2022-06-01 00:13:42</td>\n",
       "      <td>Preise: Grüne halten Senkung der Spritsteuer f...</td>\n",
       "      <td>Heute tritt die Steuersenkung auf Kraftstoffe ...</td>\n",
       "      <td>Other</td>\n",
       "      <td>NaN</td>\n",
       "      <td>stern</td>\n",
       "      <td>Preise: Grüne halten Senkung der Spritsteuer f...</td>\n",
       "    </tr>\n",
       "    <tr>\n",
       "      <th>1</th>\n",
       "      <td>2022-06-01 01:55:03</td>\n",
       "      <td>Biden warnt Putin: USA liefern moderne Raketen...</td>\n",
       "      <td>Die USA rüsten die Ukraine mit fortschrittlich...</td>\n",
       "      <td>Other</td>\n",
       "      <td>NaN</td>\n",
       "      <td>stern</td>\n",
       "      <td>Biden warnt Putin: USA liefern moderne Raketen...</td>\n",
       "    </tr>\n",
       "    <tr>\n",
       "      <th>2</th>\n",
       "      <td>2022-06-01 02:04:08</td>\n",
       "      <td>Soziale Medien: FDP-Politiker Kuhle: Internet-...</td>\n",
       "      <td>Eine «ZDF Magazin Royale»-Recherche beschäftig...</td>\n",
       "      <td>Other</td>\n",
       "      <td>NaN</td>\n",
       "      <td>stern</td>\n",
       "      <td>Soziale Medien: FDP-Politiker Kuhle: Internet-...</td>\n",
       "    </tr>\n",
       "    <tr>\n",
       "      <th>3</th>\n",
       "      <td>2022-06-01 02:26:58</td>\n",
       "      <td>Liveblog: ++ Zwei von drei ukrainischen Kinder...</td>\n",
       "      <td>Rund zwei von drei Mädchen und Jungen in der U...</td>\n",
       "      <td>Missing</td>\n",
       "      <td>NaN</td>\n",
       "      <td>Tagesschau</td>\n",
       "      <td>Liveblog: ++ Zwei von drei ukrainischen Kinder...</td>\n",
       "    </tr>\n",
       "    <tr>\n",
       "      <th>4</th>\n",
       "      <td>2022-06-01 02:31:43</td>\n",
       "      <td>Finanzen: Dänemark stimmt über EU-Verteidigung...</td>\n",
       "      <td>Vorbehalt verteidigen oder Verteidigung ohne V...</td>\n",
       "      <td>Other</td>\n",
       "      <td>NaN</td>\n",
       "      <td>stern</td>\n",
       "      <td>Finanzen: Dänemark stimmt über EU-Verteidigung...</td>\n",
       "    </tr>\n",
       "  </tbody>\n",
       "</table>\n",
       "</div>"
      ],
      "text/plain": [
       "                  date                                              title  \\\n",
       "0  2022-06-01 00:13:42  Preise: Grüne halten Senkung der Spritsteuer f...   \n",
       "1  2022-06-01 01:55:03  Biden warnt Putin: USA liefern moderne Raketen...   \n",
       "2  2022-06-01 02:04:08  Soziale Medien: FDP-Politiker Kuhle: Internet-...   \n",
       "3  2022-06-01 02:26:58  Liveblog: ++ Zwei von drei ukrainischen Kinder...   \n",
       "4  2022-06-01 02:31:43  Finanzen: Dänemark stimmt über EU-Verteidigung...   \n",
       "\n",
       "                                         description category  text  \\\n",
       "0  Heute tritt die Steuersenkung auf Kraftstoffe ...    Other   NaN   \n",
       "1  Die USA rüsten die Ukraine mit fortschrittlich...    Other   NaN   \n",
       "2  Eine «ZDF Magazin Royale»-Recherche beschäftig...    Other   NaN   \n",
       "3  Rund zwei von drei Mädchen und Jungen in der U...  Missing   NaN   \n",
       "4  Vorbehalt verteidigen oder Verteidigung ohne V...    Other   NaN   \n",
       "\n",
       "       source                             title_description_text  \n",
       "0       stern  Preise: Grüne halten Senkung der Spritsteuer f...  \n",
       "1       stern  Biden warnt Putin: USA liefern moderne Raketen...  \n",
       "2       stern  Soziale Medien: FDP-Politiker Kuhle: Internet-...  \n",
       "3  Tagesschau  Liveblog: ++ Zwei von drei ukrainischen Kinder...  \n",
       "4       stern  Finanzen: Dänemark stimmt über EU-Verteidigung...  "
      ]
     },
     "execution_count": 3,
     "metadata": {},
     "output_type": "execute_result"
    }
   ],
   "source": [
    "train.head()"
   ]
  },
  {
   "cell_type": "markdown",
   "id": "46b4f629",
   "metadata": {},
   "source": [
    "## Load German stopwords"
   ]
  },
  {
   "cell_type": "code",
   "execution_count": 4,
   "id": "da144b59",
   "metadata": {},
   "outputs": [],
   "source": [
    "stop_words = pd.read_csv('german_stopwords.txt', header=None)[0].values.tolist()"
   ]
  },
  {
   "cell_type": "code",
   "execution_count": 5,
   "id": "bd74c6d3",
   "metadata": {},
   "outputs": [
    {
     "name": "stdout",
     "output_type": "stream",
     "text": [
      "['ab', 'aber', 'alle', 'allein', 'allem', 'allen', 'aller', 'allerdings', 'allerlei', 'alles', 'allmählich', 'allzu', 'als', 'alsbald', 'also', 'am', 'an', 'and', 'ander', 'andere', 'anderem', 'anderen', 'anderer', 'andererseits', 'anderes', 'anderm', 'andern', 'andernfalls', 'anders', 'anstatt', 'auch', 'auf', 'aus', 'ausgenommen', 'ausser', 'ausserdem', 'außer', 'außerdem', 'außerhalb', 'bald', 'bei', 'beide', 'beiden', 'beiderlei', 'beides', 'beim', 'beinahe', 'bereits', 'besonders', 'besser', 'beträchtlich', 'bevor', 'bezüglich', 'bin', 'bis', 'bisher', 'bislang', 'bist', 'bloß', 'bsp.', 'bzw', 'ca', 'ca.', 'content', 'da', 'dabei', 'dadurch', 'dafür', 'dagegen', 'daher', 'dahin', 'damals', 'damit', 'danach', 'daneben', 'dann', 'daran', 'darauf', 'daraus', 'darin', 'darum', 'darunter', 'darüber', 'darüberhinaus', 'das', 'dass', 'dasselbe', 'davon', 'davor', 'dazu', 'daß', 'dein', 'deine', 'deinem', 'deinen', 'deiner', 'deines', 'dem', 'demnach', 'demselben', 'den', 'denen', 'denn', 'dennoch', 'denselben', 'der', 'derart', 'derartig', 'derem', 'deren', 'derer', 'derjenige', 'derjenigen', 'derselbe', 'derselben', 'derzeit', 'des', 'deshalb', 'desselben', 'dessen', 'desto', 'deswegen', 'dich', 'die', 'diejenige', 'dies', 'diese', 'dieselbe', 'dieselben', 'diesem', 'diesen', 'dieser', 'dieses', 'diesseits', 'dir', 'direkt', 'direkte', 'direkten', 'direkter', 'doch', 'dort', 'dorther', 'dorthin', 'drauf', 'drin', 'drunter', 'drüber', 'du', 'dunklen', 'durch', 'durchaus', 'eben', 'ebenfalls', 'ebenso', 'eher', 'eigenen', 'eigenes', 'eigentlich', 'ein', 'eine', 'einem', 'einen', 'einer', 'einerseits', 'eines', 'einfach', 'einführen', 'einführte', 'einführten', 'eingesetzt', 'einig', 'einige', 'einigem', 'einigen', 'einiger', 'einigermaßen', 'einiges', 'einmal', 'eins', 'einseitig', 'einseitige', 'einseitigen', 'einseitiger', 'einst', 'einstmals', 'einzig', 'entsprechend', 'entweder', 'er', 'erst', 'es', 'etc', 'etliche', 'etwa', 'etwas', 'euch', 'euer', 'eure', 'eurem', 'euren', 'eurer', 'eures', 'falls', 'fast', 'ferner', 'folgende', 'folgenden', 'folgender', 'folgendes', 'folglich', 'fuer', 'für', 'gab', 'ganze', 'ganzem', 'ganzen', 'ganzer', 'ganzes', 'gar', 'gegen', 'gemäss', 'ggf', 'gleich', 'gleichwohl', 'gleichzeitig', 'glücklicherweise', 'gänzlich', 'hab', 'habe', 'haben', 'haette', 'hast', 'hat', 'hatte', 'hatten', 'hattest', 'hattet', 'heraus', 'herein', 'hier', 'hier', 'hinter', 'hiermit', 'hiesige', 'hin', 'hinein', 'hinten', 'hinter', 'hinterher', 'http', 'hätt', 'hätte', 'hätten', 'höchstens', 'ich', 'igitt', 'ihm', 'ihn', 'ihnen', 'ihr', 'ihre', 'ihrem', 'ihren', 'ihrer', 'ihres', 'im', 'immer', 'immerhin', 'in', 'indem', 'indessen', 'infolge', 'innen', 'innerhalb', 'ins', 'insofern', 'inzwischen', 'irgend', 'irgendeine', 'irgendwas', 'irgendwen', 'irgendwer', 'irgendwie', 'irgendwo', 'ist', 'ja', 'je', 'jed', 'jede', 'jedem', 'jeden', 'jedenfalls', 'jeder', 'jederlei', 'jedes', 'jedoch', 'jemand', 'jene', 'jenem', 'jenen', 'jener', 'jenes', 'jenseits', 'jetzt', 'jährig', 'jährige', 'jährigen', 'jähriges', 'kam', 'kann', 'kannst', 'kaum', 'kein', 'keine', 'keinem', 'keinen', 'keiner', 'keinerlei', 'keines', 'keineswegs', 'klar', 'klare', 'klaren', 'klares', 'klein', 'kleinen', 'kleiner', 'kleines', 'koennen', 'koennt', 'koennte', 'koennten', 'komme', 'kommen', 'kommt', 'konkret', 'konkrete', 'konkreten', 'konkreter', 'konkretes', 'können', 'könnt', 'künftig', 'leider', 'machen', 'man', 'manche', 'manchem', 'manchen', 'mancher', 'mancherorts', 'manches', 'manchmal', 'mehr', 'mehrere', 'mein', 'meine', 'meinem', 'meinen', 'meiner', 'meines', 'mich', 'mir', 'mit', 'mithin', 'muessen', 'muesst', 'muesste', 'muss', 'musst', 'musste', 'mussten', 'muß', 'mußt', 'müssen', 'müsste', 'müssten', 'müßt', 'müßte', 'nach', 'nachdem', 'nachher', 'nachhinein', 'nahm', 'natürlich', 'neben', 'nebenan', 'nehmen', 'nein', 'nicht', 'nichts', 'nie', 'niemals', 'niemand', 'nirgends', 'nirgendwo', 'noch', 'nun', 'nur', 'nächste', 'nämlich', 'nötigenfalls', 'ob', 'oben', 'oberhalb', 'obgleich', 'obschon', 'obwohl', 'oder', 'oft', 'per', 'plötzlich', 'schließlich', 'schon', 'sehr', 'sehrwohl', 'seid', 'sein', 'seine', 'seinem', 'seinen', 'seiner', 'seines', 'seit', 'seitdem', 'seither', 'selber', 'selbst', 'sich', 'sicher', 'sicherlich', 'sie', 'sind', 'so', 'sobald', 'sodass', 'sodaß', 'soeben', 'sofern', 'sofort', 'sogar', 'solange', 'solch', 'solche', 'solchem', 'solchen', 'solcher', 'solches', 'soll', 'sollen', 'sollst', 'sollt', 'sollte', 'sollten', 'solltest', 'somit', 'sondern', 'sonst', 'sonstwo', 'sooft', 'soviel', 'soweit', 'sowie', 'sowohl', 'tatsächlich', 'tatsächlichen', 'tatsächlicher', 'tatsächliches', 'trotzdem', 'ueber', 'um', 'umso', 'unbedingt', 'und', 'unmöglich', 'unmögliche', 'unmöglichen', 'unmöglicher', 'uns', 'unser', 'unser', 'unsere', 'unsere', 'unserem', 'unseren', 'unserer', 'unseres', 'unter', 'usw', 'viel', 'viele', 'vielen', 'vieler', 'vieles', 'vielleicht', 'vielmals', 'vom', 'von', 'vor', 'voran', 'vorher', 'vorüber', 'völlig', 'wann', 'war', 'waren', 'warst', 'warum', 'was', 'weder', 'weil', 'weiter', 'weitere', 'weiterem', 'weiteren', 'weiterer', 'weiteres', 'weiterhin', 'weiß', 'welche', 'welchem', 'welchen', 'welcher', 'welches', 'wem', 'wen', 'wenig', 'wenige', 'weniger', 'wenigstens', 'wenn', 'wenngleich', 'wer', 'werde', 'werden', 'werdet', 'weshalb', 'wessen', 'wichtig', 'wie', 'wieder', 'wieso', 'wieviel', 'wiewohl', 'will', 'willst', 'wir', 'wird', 'wirklich', 'wirst', 'wo', 'wodurch', 'wogegen', 'woher', 'wohin', 'wohingegen', 'wohl', 'wohlweislich', 'womit', 'woraufhin', 'woraus', 'worin', 'wurde', 'wurden', 'während', 'währenddessen', 'wär', 'wäre', 'wären', 'würde', 'würden', 'z.B.', 'zB', 'zahlreich', 'zeitweise', 'zu', 'zudem', 'zuerst', 'zufolge', 'zugleich', 'zuletzt', 'zum', 'zumal', 'zur', 'zurück', 'zusammen', 'zuviel', 'zwar', 'zwischen', 'ähnlich', 'übel', 'über', 'überall', 'überallhin', 'überdies', 'übermorgen', 'übrig', 'übrigens']\n"
     ]
    }
   ],
   "source": [
    "print(stop_words)"
   ]
  },
  {
   "cell_type": "code",
   "execution_count": 6,
   "id": "83a61957",
   "metadata": {},
   "outputs": [],
   "source": [
    "# append words to stopwords that contain no information\n",
    "stop_words += ['wegen', 'melden', 'meldet', 'können', 'könnte', 'könnten', 'update', 'neu', 'neue', 'neues', 'ohne', 'letzte', 'letzter',\n",
    "                  'letztes', 'eins', 'zwei', 'drei', 'vier', 'fünf', 'sechs', 'sieben', 'acht', 'neun', 'zehn',\n",
    "                   'gehen', 'geht', 'wollen', 'wollte', 'wollt', 'jahr', 'jahre', 'fordern', 'fordert',\n",
    "                  'warnen', 'warnt', 'frühjahr', 'frühling', 'sommer', 'herbst', 'winter', 'erneut', 'deutlich', 'schwer', 'jahren', 'woche',\n",
    "                  'wochen', 'monat', 'monate', 'tag', 'tage', 'stunden', 'stunde', 'minuten', 'minuten', 'ende', 'beenden', 'endet']"
   ]
  },
  {
   "cell_type": "markdown",
   "id": "e6d2e4b7",
   "metadata": {},
   "source": [
    "## Clean text"
   ]
  },
  {
   "cell_type": "code",
   "execution_count": 7,
   "id": "733dff06",
   "metadata": {},
   "outputs": [],
   "source": [
    "train['ti_de_te_cleaned'] = train['title_description_text'].apply(lambda x: nlp_preprocessors.clean_text(x))"
   ]
  },
  {
   "cell_type": "markdown",
   "id": "a12c363c",
   "metadata": {},
   "source": [
    "## Extract features from 'title_description_text' "
   ]
  },
  {
   "cell_type": "code",
   "execution_count": 8,
   "id": "cd42c0db",
   "metadata": {},
   "outputs": [],
   "source": [
    "from sklearn.feature_extraction.text import CountVectorizer"
   ]
  },
  {
   "cell_type": "code",
   "execution_count": 9,
   "id": "38ab615c",
   "metadata": {},
   "outputs": [],
   "source": [
    "cv = CountVectorizer(max_df=0.95, min_df=3, stop_words=stop_words)"
   ]
  },
  {
   "cell_type": "code",
   "execution_count": 10,
   "id": "a628f0d2",
   "metadata": {},
   "outputs": [
    {
     "name": "stderr",
     "output_type": "stream",
     "text": [
      "C:\\Users\\manuela.rink\\anaconda3\\envs\\nlp\\Lib\\site-packages\\sklearn\\feature_extraction\\text.py:409: UserWarning: Your stop_words may be inconsistent with your preprocessing. Tokenizing the stop words generated tokens ['bsp', 'zb'] not in stop_words.\n",
      "  warnings.warn(\n"
     ]
    }
   ],
   "source": [
    "# create Document-Term-Matrix\n",
    "dtm = cv.fit_transform(train['ti_de_te_cleaned'])"
   ]
  },
  {
   "cell_type": "code",
   "execution_count": 11,
   "id": "faba69b8",
   "metadata": {},
   "outputs": [
    {
     "data": {
      "text/plain": [
       "<67513x29994 sparse matrix of type '<class 'numpy.int64'>'\n",
       "\twith 1026120 stored elements in Compressed Sparse Row format>"
      ]
     },
     "execution_count": 11,
     "metadata": {},
     "output_type": "execute_result"
    }
   ],
   "source": [
    "dtm"
   ]
  },
  {
   "cell_type": "code",
   "execution_count": 12,
   "id": "3f48b861",
   "metadata": {},
   "outputs": [],
   "source": [
    "from sklearn.decomposition import LatentDirichletAllocation"
   ]
  },
  {
   "cell_type": "code",
   "execution_count": 13,
   "id": "fdf60b9b",
   "metadata": {},
   "outputs": [
    {
     "data": {
      "text/html": [
       "<style>#sk-container-id-1 {color: black;background-color: white;}#sk-container-id-1 pre{padding: 0;}#sk-container-id-1 div.sk-toggleable {background-color: white;}#sk-container-id-1 label.sk-toggleable__label {cursor: pointer;display: block;width: 100%;margin-bottom: 0;padding: 0.3em;box-sizing: border-box;text-align: center;}#sk-container-id-1 label.sk-toggleable__label-arrow:before {content: \"▸\";float: left;margin-right: 0.25em;color: #696969;}#sk-container-id-1 label.sk-toggleable__label-arrow:hover:before {color: black;}#sk-container-id-1 div.sk-estimator:hover label.sk-toggleable__label-arrow:before {color: black;}#sk-container-id-1 div.sk-toggleable__content {max-height: 0;max-width: 0;overflow: hidden;text-align: left;background-color: #f0f8ff;}#sk-container-id-1 div.sk-toggleable__content pre {margin: 0.2em;color: black;border-radius: 0.25em;background-color: #f0f8ff;}#sk-container-id-1 input.sk-toggleable__control:checked~div.sk-toggleable__content {max-height: 200px;max-width: 100%;overflow: auto;}#sk-container-id-1 input.sk-toggleable__control:checked~label.sk-toggleable__label-arrow:before {content: \"▾\";}#sk-container-id-1 div.sk-estimator input.sk-toggleable__control:checked~label.sk-toggleable__label {background-color: #d4ebff;}#sk-container-id-1 div.sk-label input.sk-toggleable__control:checked~label.sk-toggleable__label {background-color: #d4ebff;}#sk-container-id-1 input.sk-hidden--visually {border: 0;clip: rect(1px 1px 1px 1px);clip: rect(1px, 1px, 1px, 1px);height: 1px;margin: -1px;overflow: hidden;padding: 0;position: absolute;width: 1px;}#sk-container-id-1 div.sk-estimator {font-family: monospace;background-color: #f0f8ff;border: 1px dotted black;border-radius: 0.25em;box-sizing: border-box;margin-bottom: 0.5em;}#sk-container-id-1 div.sk-estimator:hover {background-color: #d4ebff;}#sk-container-id-1 div.sk-parallel-item::after {content: \"\";width: 100%;border-bottom: 1px solid gray;flex-grow: 1;}#sk-container-id-1 div.sk-label:hover label.sk-toggleable__label {background-color: #d4ebff;}#sk-container-id-1 div.sk-serial::before {content: \"\";position: absolute;border-left: 1px solid gray;box-sizing: border-box;top: 0;bottom: 0;left: 50%;z-index: 0;}#sk-container-id-1 div.sk-serial {display: flex;flex-direction: column;align-items: center;background-color: white;padding-right: 0.2em;padding-left: 0.2em;position: relative;}#sk-container-id-1 div.sk-item {position: relative;z-index: 1;}#sk-container-id-1 div.sk-parallel {display: flex;align-items: stretch;justify-content: center;background-color: white;position: relative;}#sk-container-id-1 div.sk-item::before, #sk-container-id-1 div.sk-parallel-item::before {content: \"\";position: absolute;border-left: 1px solid gray;box-sizing: border-box;top: 0;bottom: 0;left: 50%;z-index: -1;}#sk-container-id-1 div.sk-parallel-item {display: flex;flex-direction: column;z-index: 1;position: relative;background-color: white;}#sk-container-id-1 div.sk-parallel-item:first-child::after {align-self: flex-end;width: 50%;}#sk-container-id-1 div.sk-parallel-item:last-child::after {align-self: flex-start;width: 50%;}#sk-container-id-1 div.sk-parallel-item:only-child::after {width: 0;}#sk-container-id-1 div.sk-dashed-wrapped {border: 1px dashed gray;margin: 0 0.4em 0.5em 0.4em;box-sizing: border-box;padding-bottom: 0.4em;background-color: white;}#sk-container-id-1 div.sk-label label {font-family: monospace;font-weight: bold;display: inline-block;line-height: 1.2em;}#sk-container-id-1 div.sk-label-container {text-align: center;}#sk-container-id-1 div.sk-container {/* jupyter's `normalize.less` sets `[hidden] { display: none; }` but bootstrap.min.css set `[hidden] { display: none !important; }` so we also need the `!important` here to be able to override the default hidden behavior on the sphinx rendered scikit-learn.org. See: https://github.com/scikit-learn/scikit-learn/issues/21755 */display: inline-block !important;position: relative;}#sk-container-id-1 div.sk-text-repr-fallback {display: none;}</style><div id=\"sk-container-id-1\" class=\"sk-top-container\"><div class=\"sk-text-repr-fallback\"><pre>LatentDirichletAllocation(n_components=7, random_state=42)</pre><b>In a Jupyter environment, please rerun this cell to show the HTML representation or trust the notebook. <br />On GitHub, the HTML representation is unable to render, please try loading this page with nbviewer.org.</b></div><div class=\"sk-container\" hidden><div class=\"sk-item\"><div class=\"sk-estimator sk-toggleable\"><input class=\"sk-toggleable__control sk-hidden--visually\" id=\"sk-estimator-id-1\" type=\"checkbox\" checked><label for=\"sk-estimator-id-1\" class=\"sk-toggleable__label sk-toggleable__label-arrow\">LatentDirichletAllocation</label><div class=\"sk-toggleable__content\"><pre>LatentDirichletAllocation(n_components=7, random_state=42)</pre></div></div></div></div></div>"
      ],
      "text/plain": [
       "LatentDirichletAllocation(n_components=7, random_state=42)"
      ]
     },
     "execution_count": 13,
     "metadata": {},
     "output_type": "execute_result"
    }
   ],
   "source": [
    "lda = LatentDirichletAllocation(n_components=7, random_state=42)\n",
    "lda.fit(dtm)"
   ]
  },
  {
   "cell_type": "markdown",
   "id": "a2f3296f",
   "metadata": {},
   "source": [
    "## Analyse extracted features"
   ]
  },
  {
   "cell_type": "code",
   "execution_count": 14,
   "id": "44c85ba2",
   "metadata": {},
   "outputs": [
    {
     "data": {
      "text/plain": [
       "29994"
      ]
     },
     "execution_count": 14,
     "metadata": {},
     "output_type": "execute_result"
    }
   ],
   "source": [
    "len(cv.get_feature_names_out())"
   ]
  },
  {
   "cell_type": "code",
   "execution_count": 15,
   "id": "79a3b48a",
   "metadata": {},
   "outputs": [
    {
     "data": {
      "text/plain": [
       "array(['000', '01', '034', ..., 'đoković', 'войны', 'украинцы'],\n",
       "      dtype=object)"
      ]
     },
     "execution_count": 15,
     "metadata": {},
     "output_type": "execute_result"
    }
   ],
   "source": [
    "cv.get_feature_names_out()"
   ]
  },
  {
   "cell_type": "code",
   "execution_count": 16,
   "id": "6d276a41",
   "metadata": {},
   "outputs": [
    {
     "data": {
      "text/plain": [
       "7"
      ]
     },
     "execution_count": 16,
     "metadata": {},
     "output_type": "execute_result"
    }
   ],
   "source": [
    "len(lda.components_)"
   ]
  },
  {
   "cell_type": "code",
   "execution_count": 17,
   "id": "be61548c",
   "metadata": {},
   "outputs": [
    {
     "data": {
      "text/plain": [
       "array([[14.65800592,  0.14285722,  5.14877427, ...,  0.14285719,\n",
       "         0.14285767,  0.1428576 ],\n",
       "       [19.91614703,  0.14285721,  6.77889673, ...,  0.14285718,\n",
       "         0.1428576 ,  0.14285755],\n",
       "       [ 2.9412196 ,  0.14285721,  9.52294605, ...,  0.14285718,\n",
       "         4.14285449,  0.14285753],\n",
       "       ...,\n",
       "       [ 3.37662323,  4.14210564, 12.3924028 , ...,  3.14280178,\n",
       "         0.14285754,  5.14285478],\n",
       "       [13.63719284,  0.14312224,  0.14305689, ...,  0.14285718,\n",
       "         0.14285765,  0.14285758],\n",
       "       [ 6.32692489,  0.14320768, 35.58916322, ...,  0.14285718,\n",
       "         0.14285757,  0.14285751]])"
      ]
     },
     "execution_count": 17,
     "metadata": {},
     "output_type": "execute_result"
    }
   ],
   "source": [
    "lda.components_"
   ]
  },
  {
   "cell_type": "code",
   "execution_count": 18,
   "id": "45a65bd8",
   "metadata": {},
   "outputs": [
    {
     "data": {
      "text/plain": [
       "29994"
      ]
     },
     "execution_count": 18,
     "metadata": {},
     "output_type": "execute_result"
    }
   ],
   "source": [
    "len(lda.components_[0])"
   ]
  },
  {
   "cell_type": "markdown",
   "id": "9e30cf34",
   "metadata": {},
   "source": [
    "### Show most important words of first extracted topic"
   ]
  },
  {
   "cell_type": "code",
   "execution_count": 19,
   "id": "c617b9e0",
   "metadata": {},
   "outputs": [],
   "source": [
    "first_topic = lda.components_[0]"
   ]
  },
  {
   "cell_type": "code",
   "execution_count": 20,
   "id": "258f618e",
   "metadata": {},
   "outputs": [
    {
     "data": {
      "text/plain": [
       "array([25046,   922, 23851, ...,  4305, 16450,  5532], dtype=int64)"
      ]
     },
     "execution_count": 20,
     "metadata": {},
     "output_type": "execute_result"
    }
   ],
   "source": [
    "first_topic.argsort() # returns indices of ascending sorted array values "
   ]
  },
  {
   "cell_type": "code",
   "execution_count": 21,
   "id": "5966880a",
   "metadata": {},
   "outputs": [],
   "source": [
    "# the last 10 entries are the 10 most important words for topic 1\n",
    "top_words_indices = first_topic.argsort()[-10:]"
   ]
  },
  {
   "cell_type": "code",
   "execution_count": 22,
   "id": "11648839",
   "metadata": {},
   "outputs": [
    {
     "name": "stdout",
     "output_type": "stream",
     "text": [
      "polen\n",
      "zahl\n",
      "bild\n",
      "faeser\n",
      "steigen\n",
      "geben\n",
      "groß\n",
      "britisch\n",
      "mensch\n",
      "deutschland\n"
     ]
    }
   ],
   "source": [
    "for index in top_words_indices:\n",
    "    print(cv.get_feature_names_out()[index])"
   ]
  },
  {
   "cell_type": "markdown",
   "id": "0d661247",
   "metadata": {},
   "source": [
    "### Show most important words of first extracted topic"
   ]
  },
  {
   "cell_type": "code",
   "execution_count": 23,
   "id": "f789d8f2",
   "metadata": {},
   "outputs": [
    {
     "name": "stdout",
     "output_type": "stream",
     "text": [
      "Die TOP-15 Wörter für das Thema #0\n",
      "['zeigen', 'hoch', 'johnson', 'deutsch', 'leben', 'polen', 'zahl', 'bild', 'faeser', 'steigen', 'geben', 'groß', 'britisch', 'mensch', 'deutschland']\n",
      "\n",
      "\n",
      "Die TOP-15 Wörter für das Thema #1\n",
      "['million', 'europa', 'gut', 'zeigen', 'land', 'geben', 'taiwan', 'hoch', 'groß', 'deutsch', 'usa', 'euro', 'deutschland', 'us', 'china']\n",
      "\n",
      "\n",
      "Die TOP-15 Wörter für das Thema #2\n",
      "['tot', 'tote', 'verletzen', 'geben', 'donald', 'protest', 'mann', 'präsident', 'gericht', 'polizei', 'mensch', 'ex', 'sterben', 'trump', 'us']\n",
      "\n",
      "\n",
      "Die TOP-15 Wörter für das Thema #3\n",
      "['liveblog', 'entwicklung', 'biden', 'moskau', 'scholz', 'selenskyj', 'kiew', 'eu', 'ukrainisch', 'präsident', 'putin', 'russisch', 'russland', 'krieg', 'ukraine']\n",
      "\n",
      "\n",
      "Die TOP-15 Wörter für das Thema #4\n",
      "['deutschland', 'geben', 'deutsch', 'gut', 'pandemie', 'gewinnen', 'lauterbach', 'partei', 'bayern', 'wahl', 'berlin', 'afd', 'online', 'focus', 'corona']\n",
      "\n",
      "\n",
      "Die TOP-15 Wörter für das Thema #5\n",
      "['un', 'fußball', 'türkei', 'generation', 'frau', 'protest', 'deutschland', 'land', 'deutsch', 'iran', 'israel', 'baerbock', 'wm', 'mensch', 'eu']\n",
      "\n",
      "\n",
      "Die TOP-15 Wörter für das Thema #6\n",
      "['bundestag', 'lindner', 'geben', 'bundesregierung', 'deutsch', 'kritik', 'chef', 'cdu', 'grüne', 'spd', 'scholz', 'fdp', 'deutschland', 'habeck', 'ampel']\n",
      "\n",
      "\n"
     ]
    }
   ],
   "source": [
    "for index, topic in enumerate(lda.components_):\n",
    "    print(f'Die TOP-15 Wörter für das Thema #{index}')\n",
    "    print([cv.get_feature_names_out()[i] for i in topic.argsort()[-15:]])\n",
    "    print('\\n')"
   ]
  },
  {
   "cell_type": "markdown",
   "id": "a0973fc9",
   "metadata": {},
   "source": [
    "### Get topics with highest probability for news items in train data"
   ]
  },
  {
   "cell_type": "code",
   "execution_count": 24,
   "id": "0f46f47f",
   "metadata": {},
   "outputs": [
    {
     "data": {
      "text/plain": [
       "(67513, 7)"
      ]
     },
     "execution_count": 24,
     "metadata": {},
     "output_type": "execute_result"
    }
   ],
   "source": [
    "topic_results = lda.transform(dtm)\n",
    "topic_results.shape"
   ]
  },
  {
   "cell_type": "code",
   "execution_count": 25,
   "id": "823c7020",
   "metadata": {},
   "outputs": [
    {
     "data": {
      "text/plain": [
       "array([0.00624, 0.44526, 0.00622, 0.00623, 0.00623, 0.00622, 0.52359])"
      ]
     },
     "execution_count": 25,
     "metadata": {},
     "output_type": "execute_result"
    }
   ],
   "source": [
    "topic_results[0].round(5)"
   ]
  },
  {
   "cell_type": "code",
   "execution_count": 26,
   "id": "f68cacd0",
   "metadata": {},
   "outputs": [
    {
     "data": {
      "text/plain": [
       "6"
      ]
     },
     "execution_count": 26,
     "metadata": {},
     "output_type": "execute_result"
    }
   ],
   "source": [
    "topic_results[0].argmax()"
   ]
  },
  {
   "cell_type": "code",
   "execution_count": 27,
   "id": "6e11fb89",
   "metadata": {},
   "outputs": [],
   "source": [
    "# save topic to train dataset\n",
    "train['topic'] = topic_results.argmax(axis=1)"
   ]
  },
  {
   "cell_type": "code",
   "execution_count": 28,
   "id": "7eb2c522",
   "metadata": {},
   "outputs": [
    {
     "data": {
      "text/html": [
       "<div>\n",
       "<style scoped>\n",
       "    .dataframe tbody tr th:only-of-type {\n",
       "        vertical-align: middle;\n",
       "    }\n",
       "\n",
       "    .dataframe tbody tr th {\n",
       "        vertical-align: top;\n",
       "    }\n",
       "\n",
       "    .dataframe thead th {\n",
       "        text-align: right;\n",
       "    }\n",
       "</style>\n",
       "<table border=\"1\" class=\"dataframe\">\n",
       "  <thead>\n",
       "    <tr style=\"text-align: right;\">\n",
       "      <th></th>\n",
       "      <th>date</th>\n",
       "      <th>title</th>\n",
       "      <th>description</th>\n",
       "      <th>category</th>\n",
       "      <th>text</th>\n",
       "      <th>source</th>\n",
       "      <th>title_description_text</th>\n",
       "      <th>ti_de_te_cleaned</th>\n",
       "      <th>topic</th>\n",
       "    </tr>\n",
       "  </thead>\n",
       "  <tbody>\n",
       "    <tr>\n",
       "      <th>0</th>\n",
       "      <td>2022-06-01 00:13:42</td>\n",
       "      <td>Preise: Grüne halten Senkung der Spritsteuer f...</td>\n",
       "      <td>Heute tritt die Steuersenkung auf Kraftstoffe ...</td>\n",
       "      <td>Other</td>\n",
       "      <td>NaN</td>\n",
       "      <td>stern</td>\n",
       "      <td>Preise: Grüne halten Senkung der Spritsteuer f...</td>\n",
       "      <td>Preis grüne halten Senkung Spritsteuer falsch ...</td>\n",
       "      <td>6</td>\n",
       "    </tr>\n",
       "    <tr>\n",
       "      <th>1</th>\n",
       "      <td>2022-06-01 01:55:03</td>\n",
       "      <td>Biden warnt Putin: USA liefern moderne Raketen...</td>\n",
       "      <td>Die USA rüsten die Ukraine mit fortschrittlich...</td>\n",
       "      <td>Other</td>\n",
       "      <td>NaN</td>\n",
       "      <td>stern</td>\n",
       "      <td>Biden warnt Putin: USA liefern moderne Raketen...</td>\n",
       "      <td>Biden warnen Putin USA liefern modern Raketens...</td>\n",
       "      <td>3</td>\n",
       "    </tr>\n",
       "    <tr>\n",
       "      <th>2</th>\n",
       "      <td>2022-06-01 02:04:08</td>\n",
       "      <td>Soziale Medien: FDP-Politiker Kuhle: Internet-...</td>\n",
       "      <td>Eine «ZDF Magazin Royale»-Recherche beschäftig...</td>\n",
       "      <td>Other</td>\n",
       "      <td>NaN</td>\n",
       "      <td>stern</td>\n",
       "      <td>Soziale Medien: FDP-Politiker Kuhle: Internet-...</td>\n",
       "      <td>sozial Medium FDP-Politiker Kuhle Internet-Str...</td>\n",
       "      <td>6</td>\n",
       "    </tr>\n",
       "    <tr>\n",
       "      <th>3</th>\n",
       "      <td>2022-06-01 02:26:58</td>\n",
       "      <td>Liveblog: ++ Zwei von drei ukrainischen Kinder...</td>\n",
       "      <td>Rund zwei von drei Mädchen und Jungen in der U...</td>\n",
       "      <td>Missing</td>\n",
       "      <td>NaN</td>\n",
       "      <td>Tagesschau</td>\n",
       "      <td>Liveblog: ++ Zwei von drei ukrainischen Kinder...</td>\n",
       "      <td>Liveblog ukrainisch Kind vertreiben rund Mädch...</td>\n",
       "      <td>3</td>\n",
       "    </tr>\n",
       "    <tr>\n",
       "      <th>4</th>\n",
       "      <td>2022-06-01 02:31:43</td>\n",
       "      <td>Finanzen: Dänemark stimmt über EU-Verteidigung...</td>\n",
       "      <td>Vorbehalt verteidigen oder Verteidigung ohne V...</td>\n",
       "      <td>Other</td>\n",
       "      <td>NaN</td>\n",
       "      <td>stern</td>\n",
       "      <td>Finanzen: Dänemark stimmt über EU-Verteidigung...</td>\n",
       "      <td>Finanz Dänemark stimmen EU-Verteidigungsvorbeh...</td>\n",
       "      <td>5</td>\n",
       "    </tr>\n",
       "  </tbody>\n",
       "</table>\n",
       "</div>"
      ],
      "text/plain": [
       "                  date                                              title  \\\n",
       "0  2022-06-01 00:13:42  Preise: Grüne halten Senkung der Spritsteuer f...   \n",
       "1  2022-06-01 01:55:03  Biden warnt Putin: USA liefern moderne Raketen...   \n",
       "2  2022-06-01 02:04:08  Soziale Medien: FDP-Politiker Kuhle: Internet-...   \n",
       "3  2022-06-01 02:26:58  Liveblog: ++ Zwei von drei ukrainischen Kinder...   \n",
       "4  2022-06-01 02:31:43  Finanzen: Dänemark stimmt über EU-Verteidigung...   \n",
       "\n",
       "                                         description category  text  \\\n",
       "0  Heute tritt die Steuersenkung auf Kraftstoffe ...    Other   NaN   \n",
       "1  Die USA rüsten die Ukraine mit fortschrittlich...    Other   NaN   \n",
       "2  Eine «ZDF Magazin Royale»-Recherche beschäftig...    Other   NaN   \n",
       "3  Rund zwei von drei Mädchen und Jungen in der U...  Missing   NaN   \n",
       "4  Vorbehalt verteidigen oder Verteidigung ohne V...    Other   NaN   \n",
       "\n",
       "       source                             title_description_text  \\\n",
       "0       stern  Preise: Grüne halten Senkung der Spritsteuer f...   \n",
       "1       stern  Biden warnt Putin: USA liefern moderne Raketen...   \n",
       "2       stern  Soziale Medien: FDP-Politiker Kuhle: Internet-...   \n",
       "3  Tagesschau  Liveblog: ++ Zwei von drei ukrainischen Kinder...   \n",
       "4       stern  Finanzen: Dänemark stimmt über EU-Verteidigung...   \n",
       "\n",
       "                                    ti_de_te_cleaned  topic  \n",
       "0  Preis grüne halten Senkung Spritsteuer falsch ...      6  \n",
       "1  Biden warnen Putin USA liefern modern Raketens...      3  \n",
       "2  sozial Medium FDP-Politiker Kuhle Internet-Str...      6  \n",
       "3  Liveblog ukrainisch Kind vertreiben rund Mädch...      3  \n",
       "4  Finanz Dänemark stimmen EU-Verteidigungsvorbeh...      5  "
      ]
     },
     "execution_count": 28,
     "metadata": {},
     "output_type": "execute_result"
    }
   ],
   "source": [
    "train.head()"
   ]
  },
  {
   "cell_type": "markdown",
   "id": "dc4070d6",
   "metadata": {},
   "source": [
    "## Visualize model"
   ]
  },
  {
   "cell_type": "code",
   "execution_count": 29,
   "id": "f6745175",
   "metadata": {},
   "outputs": [
    {
     "data": {
      "text/html": [
       "\n",
       "<link rel=\"stylesheet\" type=\"text/css\" href=\"https://cdn.jsdelivr.net/gh/bmabey/pyLDAvis@3.4.0/pyLDAvis/js/ldavis.v1.0.0.css\">\n",
       "\n",
       "\n",
       "<div id=\"ldavis_el1787217864976537122744309578\" style=\"background-color:white;\"></div>\n",
       "<script type=\"text/javascript\">\n",
       "\n",
       "var ldavis_el1787217864976537122744309578_data = {\"mdsDat\": {\"x\": [-0.3959658443927765, -23.083799362182617, 32.644588470458984, -78.89864349365234, 10.016417503356934, -56.18926239013672, -45.66477966308594], \"y\": [71.68820190429688, 20.324342727661133, 26.325420379638672, 14.251718521118164, -24.915483474731445, 65.49452209472656, -30.938453674316406], \"topics\": [1, 2, 3, 4, 5, 6, 7], \"cluster\": [1, 1, 1, 1, 1, 1, 1], \"Freq\": [18.30613528651302, 15.556034261463578, 14.956482825255366, 13.667792131764791, 13.435951806389212, 12.31153355857311, 11.766070130040925]}, \"tinfo\": {\"Term\": [\"ukraine\", \"krieg\", \"russland\", \"russisch\", \"china\", \"corona\", \"putin\", \"eu\", \"us\", \"ukrainisch\", \"habeck\", \"ampel\", \"trump\", \"pr\\u00e4sident\", \"scholz\", \"afd\", \"kiew\", \"focus\", \"selenskyj\", \"online\", \"fdp\", \"sterben\", \"cdu\", \"spd\", \"polizei\", \"wm\", \"baerbock\", \"gr\\u00fcne\", \"euro\", \"wahl\", \"selenskyj\", \"wagner\", \"stream\", \"nord\", \"liveblog\", \"krim\", \"bachmut\", \"merkel\", \"milit\\u00e4rexperte\", \"pipeline\", \"prigoschin\", \"s\\u00f6ldner\", \"gegenoffensiv\", \"gazprom\", \"newsblog\", \"macron\", \"selenski\", \"wolodymyr\", \"draghi\", \"meloni\", \"kiew\", \"gegenoffensive\", \"jewgeni\", \"luhansk\", \"emmanuel\", \"notfallplan\", \"sri\", \"orban\", \"lanka\", \"wahlrechtsreform\", \"ukraine\", \"truppe\", \"joe\", \"invasion\", \"kriegsverlauf\", \"moldau\", \"krieg\", \"russisch\", \"russland\", \"lieferung\", \"biden\", \"moskau\", \"cherson\", \"ukrainisch\", \"russe\", \"putin\", \"saporischschja\", \"entwicklung\", \"russlands\", \"nato\", \"pr\\u00e4sident\", \"kreml\", \"waffe\", \"armee\", \"eu\", \"angriff\", \"scholz\", \"liefern\", \"soldat\", \"usa\", \"us\", \"lage\", \"land\", \"weit\", \"geben\", \"lauterbach\", \"corona\", \"gesundheitsminister\", \"bremen\", \"reitz\", \"rki\", \"maskenpflicht\", \"ki\", \"impfung\", \"eintracht\", \"inzidenz\", \"stichwahl\", \"intelligenz\", \"giffey\", \"impfstoff\", \"hugo\", \"landtagswahl\", \"vogg\", \"schalke\", \"mainz\", \"maske\", \"infektion\", \"vfl\", \"ulrich\", \"ulf\", \"bundesgesundheitsminister\", \"bochum\", \"omikron\", \"ma\\u00dfnahm\", \"k\\u00fcnstliche\", \"afd\", \"patient\", \"hertha\", \"bundesliga\", \"katholisch\", \"wahl\", \"karl\", \"pandemie\", \"fc\", \"kirche\", \"focus\", \"online\", \"gewinnen\", \"bayern\", \"w\\u00e4hlen\", \"frankfurt\", \"partei\", \"berlin\", \"berliner\", \"covid\", \"trainer\", \"korrespondent\", \"cdu\", \"linke\", \"gut\", \"spd\", \"erster\", \"deutsch\", \"autor\", \"frau\", \"stehen\", \"geben\", \"finden\", \"deutschland\", \"mann\", \"gro\\u00df\", \"bleiben\", \"sehen\", \"sagen\", \"lindner\", \"habeck\", \"merz\", \"wirtschaftsminister\", \"heizungsgesetz\", \"entlastung\", \"gasumlage\", \"rbb\", \"atomkraft\", \"documenta\", \"kindergrundsicherung\", \"entlastungspaket\", \"erneuerbar\", \"stoltenberg\", \"heizung\", \"paus\", \"klingbeil\", \"jens\", \"staatssekret\\u00e4r\", \"bundeswirtschaftsminister\", \"grundsteuer\", \"lemke\", \"laufzeit\", \"schlesinger\", \"schuldenbremse\", \"ampel\", \"ampelkoalition\", \"bundesfinanzminister\", \"lanz\", \"uniper\", \"fdp\", \"w\\u00e4rmepumpe\", \"bund\", \"energie\", \"csu\", \"elon\", \"musk\", \"s\\u00f6der\", \"finanzminister\", \"gr\\u00fcnen\", \"bundestag\", \"gr\\u00fcne\", \"friedrich\", \"christian\", \"debatte\", \"koalition\", \"robert\", \"spd\", \"cdu\", \"bundesregierung\", \"gas\", \"kritik\", \"scholz\", \"chef\", \"kanzler\", \"union\", \"plan\", \"kritisieren\", \"deutschland\", \"streit\", \"deutsch\", \"sagen\", \"geben\", \"regierung\", \"hoch\", \"land\", \"sehen\", \"donald\", \"haft\", \"streik\", \"prozess\", \"trump\", \"flughafen\", \"warnstreik\", \"l\\u00fctzerath\", \"anklage\", \"waldbrand\", \"kapitol\", \"gef\\u00e4ngnis\", \"lufthansa\", \"verdi\", \"unfall\", \"haftstrafe\", \"anklagen\", \"wetter\", \"r\\u00e4umung\", \"j\\u00e4hriger\", \"brand\", \"fbi\", \"schuldig\", \"lkw\", \"trumps\", \"feuerwehr\", \"streiken\", \"evg\", \"hitzewelle\", \"zugungl\\u00fcck\", \"staatsanwaltschaft\", \"ermittler\", \"tot\", \"verd\\u00e4chtige\", \"t\\u00e4ter\", \"ermittlung\", \"mord\", \"gericht\", \"polizei\", \"sterben\", \"festnehmen\", \"verletzen\", \"mutma\\u00dflich\", \"urteil\", \"polizist\", \"t\\u00f6dlich\", \"ex\", \"verurteilen\", \"sturm\", \"us\", \"t\\u00f6ten\", \"mann\", \"mensch\", \"protest\", \"tote\", \"tod\", \"pr\\u00e4sident\", \"fall\", \"mindestens\", \"weit\", \"geben\", \"kind\", \"stadt\", \"usa\", \"leben\", \"china\", \"taiwan\", \"dax\", \"chinesisch\", \"marktbericht\", \"xi\", \"peking\", \"aiwanger\", \"anleger\", \"ezb\", \"wall\", \"notenbank\", \"jinping\", \"b\\u00f6rse\", \"ticket\", \"pelosi\", \"ballon\", \"versteher\", \"g\\u00f6rlach\", \"nawalny\", \"google\", \"flugblatt\", \"jong\", \"leitzins\", \"fed\", \"49\", \"aktie\", \"brics\", \"economist\", \"hubert\", \"ifo\", \"abh\\u00e4ngigkeit\", \"markt\", \"zins\", \"risiko\", \"hersteller\", \"wasserstoff\", \"kim\", \"euro\", \"nordkorea\", \"unternehmen\", \"street\", \"wirtschaft\", \"firma\", \"klimawandel\", \"verbrenner\", \"usa\", \"us\", \"milliarde\", \"hoch\", \"europa\", \"deutsch\", \"deutschland\", \"experte\", \"gro\\u00df\", \"million\", \"zeigen\", \"studie\", \"gut\", \"land\", \"stark\", \"geben\", \"welt\", \"online\", \"eu\", \"putin\", \"israel\", \"afghanistan\", \"syrien\", \"erdbeben\", \"sudan\", \"steinmeier\", \"israelisch\", \"taliban\", \"justizreform\", \"cannabis\", \"marokko\", \"kosovo\", \"lng\", \"au\\u00dfenministerin\", \"mittelmeer\", \"tunesien\", \"ti\", \"annalena\", \"pal\\u00e4stinenser\", \"netanjahu\", \"aserbaidschan\", \"libyen\", \"terminal\", \"bergkarabach\", \"armenien\", \"nordirland\", \"handball\", \"myanmar\", \"nahost\", \"arabisch\", \"katar\", \"baerbock\", \"bundespr\\u00e4sident\", \"waffenruhe\", \"kaili\", \"letzten\", \"iran\", \"serbien\", \"generation\", \"em\", \"wm\", \"dfb\", \"argentinien\", \"team\", \"spanien\", \"iranisch\", \"migrant\", \"england\", \"fu\\u00dfball\", \"t\\u00fcrkei\", \"eu\", \"protest\", \"un\", \"mensch\", \"frau\", \"league\", \"tote\", \"deutsch\", \"land\", \"regierung\", \"deutschland\", \"konflikt\", \"berlin\", \"geben\", \"frankreich\", \"stehen\", \"weit\", \"erster\", \"johnson\", \"gabor\", \"steingart\", \"charles\", \"promi\", \"queen\", \"heil\", \"melnyk\", \"bundesamt\", \"truss\", \"album\", \"litauen\", \"iii\", \"ii\", \"innenministerin\", \"sunak\", \"hartz\", \"iv\", \"elizabeth\", \"faeser\", \"ahrtal\", \"liz\", \"statistisch\", \"mindestlohn\", \"bundesinnenministerin\", \"andrij\", \"sch\\u00f6nbohm\", \"arbeitsminister\", \"royal\", \"springer\", \"fridays\", \"k\\u00f6nig\", \"future\", \"boris\", \"the\", \"for\", \"musik\", \"britisch\", \"bild\", \"leopard\", \"botschafter\", \"gro\\u00dfbritannien\", \"odessa\", \"polen\", \"zahl\", \"steigen\", \"deutschland\", \"sinken\", \"inflation\", \"leben\", \"mensch\", \"gro\\u00df\", \"aktuell\", \"million\", \"geben\", \"preis\", \"welt\", \"hoch\", \"prozent\", \"zeigen\", \"gut\", \"deutsch\", \"berlin\", \"kind\", \"heute\", \"land\"], \"Freq\": [11732.0, 5907.0, 5957.0, 5618.0, 2856.0, 2909.0, 3920.0, 4132.0, 4347.0, 2784.0, 1675.0, 1697.0, 1561.0, 4139.0, 2607.0, 1464.0, 1555.0, 2224.0, 1440.0, 2225.0, 1310.0, 1525.0, 1792.0, 1828.0, 1312.0, 1370.0, 1075.0, 1581.0, 1953.0, 1436.0, 1439.386120101055, 813.0685705129487, 602.1729505794087, 593.3771617966485, 1153.5503086620538, 516.1427984297496, 533.5193407220034, 362.72670536622354, 297.2371133141956, 279.65456343310115, 437.4355857545462, 217.04599571111436, 192.6723444933275, 181.9219738436941, 160.42125736317445, 570.37102530207, 136.9628644783963, 185.51887072076096, 129.14669324354566, 126.21404333635076, 1545.371436950055, 122.30545898409999, 124.24328841149821, 131.9588291749288, 107.64499308721858, 106.66708524736953, 105.69056407053435, 105.69027928727151, 104.71323702352599, 103.73314901034657, 11527.171562031366, 738.2660134954299, 422.7329317762543, 480.1305385660542, 182.21355387243685, 153.04246471568013, 5639.546904721793, 5298.818180560526, 5589.844816226321, 475.0223171560666, 1222.1347638088575, 1323.2277564317944, 314.36630319977195, 2542.935024805539, 615.0995209922934, 3397.7891332485565, 458.36591876471255, 1169.5475703933496, 580.8745923944242, 1062.2328743190287, 2863.98325134166, 703.9557877821654, 658.7070043724431, 666.3443447045794, 2105.778166591765, 1089.1649551304724, 1380.5315231597078, 693.5581862371376, 662.7811324834189, 1076.239466951653, 1152.6087893480312, 748.3108398784094, 1030.4497371605414, 889.4973059826092, 809.9329285711036, 839.315320825844, 2905.4881305068698, 355.36935689946665, 308.90799617902184, 403.2712233964777, 237.2819787363146, 235.34571175396172, 225.66588232666518, 223.73075292127837, 202.43617530362678, 200.50055217991215, 200.50016564349343, 200.49988436352862, 192.75147396616188, 180.17344640252102, 173.39803032465065, 185.91451413711363, 168.55843789696803, 166.62276628545018, 160.74283112368988, 139.52032907669354, 139.52010922790308, 138.46332853419318, 445.14516084845053, 131.69427863628508, 117.25084427685695, 116.28805975682742, 111.45058023168212, 106.61037192408747, 105.6423623260075, 1431.336819618692, 123.83249446964194, 174.36742220725594, 681.7818205816217, 177.7048160764737, 1255.0620240719184, 262.80285166952524, 789.1400217511266, 618.3982437963685, 350.86347513605915, 1662.748975456366, 1591.3161592026127, 834.9831255064188, 909.1125518113635, 436.4293163896112, 393.47432649697623, 856.7895106523782, 1428.4443852086922, 541.9794399092881, 282.1220281886644, 262.69948197310384, 254.58216909675016, 677.6545365409904, 346.18292336391835, 755.3521623256547, 608.6334445771604, 637.7306935733409, 742.4053760447836, 354.279094360097, 507.40015430525057, 603.6285449031594, 722.7095656084864, 499.75944733037676, 711.7808512990184, 476.7416414709202, 513.2162966037934, 458.3787366910426, 442.03188944875285, 441.3244044570594, 834.0829783378438, 1673.0132468725017, 657.1488393595146, 456.33509145014364, 270.9164600280998, 256.20928815222027, 221.87075013421367, 221.87052761187218, 215.00235469534564, 206.17275624433557, 192.43750086850253, 177.7207202871454, 158.0981297498794, 140.43697697837598, 138.47508537068313, 136.5139734311939, 136.5122281132364, 136.50819999989105, 132.58956083474538, 141.34549496795827, 134.5121937140845, 127.68385618495154, 125.72185739691282, 120.81642075127507, 118.85404077104405, 1684.7595045689252, 169.43261919765456, 106.09970833991366, 106.09922070669349, 134.29775739904107, 1280.7988437997228, 141.499104932294, 711.0754229329813, 704.3969851323479, 371.1373662742173, 185.3189225973586, 301.6554262758629, 401.4334098106669, 391.0147810935897, 354.6666897297716, 778.209897145864, 1187.404283933427, 267.478680053127, 529.5287595553259, 645.0204660155338, 575.4469765207759, 487.22077582302796, 1199.4823379246875, 1113.675197509207, 849.9398407178718, 736.2935909686859, 975.0006228001766, 1225.7689746424676, 1000.0746999163017, 689.3355218205697, 550.7717207404412, 590.0964647587123, 596.4912223268345, 1301.014765427097, 519.6413475986578, 907.9360387321764, 689.9407727902418, 846.5131481548283, 635.204905607587, 573.2214471855838, 575.4352564936584, 550.6050399012624, 647.7170458131914, 574.1505792485985, 523.8154075089775, 473.4803456832838, 1558.4506956685955, 382.4894230458051, 357.32316836883666, 354.3729040460042, 320.5396039654824, 259.55678910643974, 256.65319951926966, 256.603813200454, 199.541706269701, 178.2463066472671, 309.2232652900118, 170.50254932655113, 165.66247346851134, 163.72617535109723, 155.01459717163522, 179.9483132826163, 301.19014599084437, 138.55895217909728, 135.65491854582282, 135.6536058876693, 133.7190709816271, 129.84434897289393, 117.26325769887097, 116.29589852718266, 115.32723648972095, 112.42392008605395, 271.2606455057242, 218.6697326674084, 578.2365021261775, 136.33268501773003, 275.4745945705369, 393.4680134520068, 292.5686834246536, 921.4427965880509, 1182.1635058022366, 1315.5984230000943, 396.45322300425886, 589.4022075454736, 552.5247671482995, 498.032657489378, 297.4337897407476, 260.3880904197064, 1295.2147953350795, 515.0443412703067, 308.7165385111995, 1711.2105284816691, 535.2124640091948, 752.1864139821939, 1206.6947918497706, 660.5215819028485, 579.3314340605041, 464.77544344176135, 783.8939043134152, 461.5518927165376, 406.1018760002606, 558.9156147345657, 636.4261504687277, 466.5567805588805, 463.42379529988114, 469.01227865674656, 422.94576760138955, 2855.9214296701202, 727.034598614587, 509.16029462204244, 514.9674947631382, 449.5639413021631, 419.2763284037634, 419.2762587950434, 321.573365591658, 291.2882490884707, 209.21930584307836, 207.25293040554854, 194.5643783445138, 185.77115220829148, 183.75393091119565, 444.236817885978, 150.59864154434786, 133.98971737308844, 131.05855934207128, 130.08173292477693, 128.1270020624588, 124.21895163167022, 117.37947999659717, 114.44931775297448, 113.47256690047723, 109.56460427280409, 97.84004680506526, 132.64195809852316, 91.00092864539813, 90.99890755937994, 90.02336482806713, 116.1346773384754, 148.9319586269464, 221.101985401126, 160.57840866108887, 298.45389474361787, 148.75117595769444, 127.85736344279842, 199.9004446948255, 1253.0054781549911, 350.9320987829459, 507.82105589969757, 233.7347601870536, 459.0861904938415, 281.6511934614514, 326.91072658184737, 183.90426261217658, 1229.5715815609738, 1475.6424051107265, 471.6761176858867, 743.2795163098535, 560.0554332298086, 1098.2341919845742, 1296.298136652924, 533.9579609946378, 864.6294201768983, 536.2434181970855, 700.6128093602805, 371.85148014395253, 623.5188812864073, 705.6127335331248, 468.44414774708804, 719.0840175804047, 471.7736404206427, 472.24830290714067, 528.1716603432166, 521.1087544940635, 976.748245249776, 416.76791482753987, 424.491925896054, 386.5217654755912, 336.73837578935024, 284.0715076590091, 253.82447253077524, 234.31052128940345, 223.57780690602277, 178.69381957735865, 173.81633321882418, 170.87663917492918, 161.13133419988833, 493.10360560304264, 151.36197716135368, 147.47175695617426, 143.56879466376913, 244.44678641255567, 141.61462906327247, 150.30383703246488, 126.98204231863357, 121.1275991585811, 120.1514125428074, 118.2006540025513, 117.22476453045095, 115.27292058420271, 114.29752196140964, 113.32197986385245, 113.32106710579757, 118.15205466892442, 458.51972061572553, 1057.0689701811145, 239.47737836658266, 138.43934038434273, 138.27854961438587, 208.56109281717906, 975.5682091208139, 206.8190798191718, 672.4931935953261, 444.94832164088234, 1076.6668211000901, 512.4530780342825, 164.99139833498222, 444.11489875500405, 426.9827057635589, 245.03554478897385, 311.5172344650402, 213.5475502480903, 619.106741822231, 634.74200158144, 1495.1619673619423, 716.4373614636503, 609.5414462564103, 1212.9320195335902, 713.612477851948, 274.7363063440661, 486.1865318150946, 899.0913714243537, 792.3001690623928, 595.0696150362033, 772.6283395898922, 363.59942601007, 509.05858394265033, 575.9232414000326, 390.04730574757707, 429.77047848744826, 425.3069383861136, 405.6946063787562, 525.2140267636787, 390.2777485536368, 385.38937560097, 299.3438019660316, 298.36614459792884, 316.71969132114657, 222.09776343181048, 215.25321069961922, 186.89682310740787, 183.9644812344419, 177.1198067098538, 174.18498906220427, 165.38641488132768, 170.23438765993933, 250.93912834706163, 156.58615890591648, 141.91893724864175, 138.9855423561977, 162.28719589582533, 682.0417204952387, 117.47432952917285, 121.33797038307702, 112.58557384106953, 98.8955829113716, 143.2478929718371, 81.29556660582867, 79.34033962226329, 78.36236122110934, 76.40700484805147, 75.42709102159854, 102.46957600589145, 293.22974480154573, 108.65715522968678, 454.6080454986951, 194.87840310051268, 155.28833297074777, 148.8108556285583, 855.1746745470348, 681.1107943807199, 330.5666662859179, 333.08884175161245, 494.0857484643753, 197.7342052518717, 623.4779038674288, 680.4928879290368, 794.4514549135006, 1750.7148306442693, 304.4056216656779, 427.0634909332505, 576.0573657456083, 916.3411398854414, 844.3090533592682, 477.8535205321363, 462.54844047247747, 803.8181721665, 372.1746638952563, 456.2615328906064, 521.1833504225845, 423.1333224996766, 500.22674953542344, 498.5182045085145, 533.2503061903632, 423.2388645161268, 367.38756966358517, 365.34324884039705, 366.7367555897033], \"Total\": [11732.0, 5907.0, 5957.0, 5618.0, 2856.0, 2909.0, 3920.0, 4132.0, 4347.0, 2784.0, 1675.0, 1697.0, 1561.0, 4139.0, 2607.0, 1464.0, 1555.0, 2224.0, 1440.0, 2225.0, 1310.0, 1525.0, 1792.0, 1828.0, 1312.0, 1370.0, 1075.0, 1581.0, 1953.0, 1436.0, 1440.5798201587472, 814.1114149889188, 603.0092453991424, 594.2132925400441, 1155.1999866045867, 517.0043321472801, 534.593955073914, 363.563797860525, 298.0827047921279, 280.49089043276655, 438.8173580944344, 217.94160940399246, 193.50866725976815, 182.75805600624574, 161.2568317431607, 573.6656565169823, 137.80095138165055, 186.66751708578147, 129.98232331445894, 127.05033594427114, 1555.9042138879274, 123.14102529148622, 125.09567527613463, 132.91316169667962, 108.48109896074017, 107.50377278778357, 106.52644208718604, 106.52644083138898, 105.54911377201938, 104.57179181339718, 11732.91362995006, 744.6883765758945, 427.0889920251499, 485.7287699454476, 183.73259298936145, 154.4147176486553, 5907.021659609612, 5618.317562391109, 5957.615334215014, 485.7569397523041, 1277.3480779150807, 1394.5441176940767, 322.4460881547811, 2784.2972794547877, 651.6588020739453, 3920.863228153156, 481.8131593908794, 1310.4674403801835, 628.4094684773796, 1227.103622793761, 4139.868708100691, 817.9793972309121, 758.8843850632552, 774.7665997312132, 4132.424519949244, 1635.3047703766986, 2607.3467057702937, 915.4540709210505, 905.4032374600521, 2945.4019516654644, 4347.7435823103715, 1328.433512610276, 3820.7663519480275, 2891.669308803048, 5114.407223950083, 840.174162697546, 2909.647897451403, 356.2068129538969, 309.7459775561619, 404.60832182949923, 238.11884351743123, 236.18297812814995, 226.50364264872672, 224.5677668610831, 203.27321586231346, 201.3373461698626, 201.33734927039316, 201.33735231909472, 193.59387713376648, 181.01073374028826, 174.23519531067697, 186.8192459175188, 169.39552376759787, 167.45965250546342, 161.65289754958735, 140.35749926093825, 140.35750068888632, 139.3907781081134, 448.1816609548946, 132.61469906581704, 118.09511049607755, 117.12710267281015, 112.28740697195124, 107.44774061801496, 106.47980764948477, 1464.9312321696618, 124.87056473203121, 177.1545457688611, 714.6231998138603, 181.03587573202913, 1436.9389788299854, 276.03472405361754, 893.4269595530045, 706.5165915793692, 382.5993331024106, 2224.432162944195, 2225.994747343436, 1137.0578624675745, 1280.2014966412346, 535.41265714004, 490.754562905011, 1399.2557789008074, 2780.322471270438, 817.8510678907675, 337.35340465089166, 306.22635518942127, 291.6919156376404, 1792.0885119101893, 530.7241127721944, 2744.729692511237, 1828.275746042027, 2358.819940667683, 4579.807352026228, 665.932207318149, 1783.3092310727923, 2902.081736093075, 5114.407223950083, 1747.9479697879303, 6547.847353040058, 1562.5418325067392, 3651.7946800957247, 2188.750820979841, 2320.1356248371944, 2482.9240147881915, 834.9181223130329, 1675.7217829115662, 658.3162564676189, 457.1908431433663, 271.76118606698293, 257.0445786152792, 222.7057453793891, 222.70574260105673, 215.8379745388773, 207.00799019575808, 193.27245822051086, 178.5558137175598, 158.93362024751423, 141.27364359885945, 139.31142640180263, 137.34920978059048, 137.34920391784576, 137.34917965748153, 133.42477163877848, 142.2544734350213, 135.38682649228292, 128.5192226532798, 126.55700593408349, 121.65145777959304, 119.68923787922164, 1697.161762835883, 170.70128090478468, 106.93481448207562, 106.93481009372069, 135.3860126459682, 1310.3655144973907, 143.23242514095557, 757.9649306471043, 754.2612846853893, 390.2284423345767, 189.3067022882172, 315.731580345272, 429.4919539739667, 427.6362477261874, 385.16951974045685, 920.9523623401428, 1581.1004740692645, 293.00983993160986, 639.9837017872585, 837.1061223932247, 740.6913417399966, 609.5711517428371, 1828.275746042027, 1792.0885119101893, 1305.5699584191213, 1227.420669526482, 1862.1134925088923, 2607.3467057702937, 2090.8618125766316, 1202.8127839840458, 890.5068914755175, 1063.8230059677553, 1150.3893504474904, 6547.847353040058, 1036.6388296181458, 4579.807352026228, 2482.9240147881915, 5114.407223950083, 2445.2853343816573, 2275.4787775057193, 3820.7663519480275, 2320.1356248371944, 648.5544342124952, 574.9878589564515, 524.6528367459058, 474.3178122969131, 1561.3807537764428, 383.32758191703215, 358.16005937363406, 355.2564857876089, 321.37677350733077, 260.3939569313681, 257.4900098546172, 257.4904859832015, 200.37912319887974, 179.08353443189802, 310.7343220773879, 171.33968252403685, 166.49977781097402, 164.56381859460575, 155.85198536417408, 181.0213645671639, 302.9943463851121, 139.39630379224295, 136.49236104663888, 136.49237394403275, 134.5563969145112, 130.68450025236618, 118.1007170078667, 117.13273102329177, 116.16475620754842, 113.26080644708931, 273.9507634507817, 220.7163113521616, 590.5719880585048, 137.46265988576843, 279.7735559315774, 402.75748032348065, 298.18306421693933, 990.4680969796278, 1312.6490734521608, 1525.454268099526, 428.0988911163286, 666.5831750711874, 623.0434068600267, 556.861160237087, 328.3913690404779, 280.89715329248503, 1910.2310851244843, 651.6697206379209, 344.9571910529258, 4347.7435823103715, 815.4448897701068, 1562.5418325067392, 4174.16851541276, 1408.5615374644658, 1123.3961740926045, 770.3930958578846, 4139.868708100691, 999.9671788982209, 726.8741217776516, 2891.669308803048, 5114.407223950083, 1407.8383143785427, 1441.3855568327879, 2945.4019516654644, 1619.8810379027527, 2856.774499243366, 727.8702395734168, 509.99706866318127, 515.85913116531, 450.3994685496511, 420.1121662507833, 420.1121658026413, 322.41119634195803, 292.1238878376403, 210.05506944596456, 208.10093357822208, 195.39992272184335, 186.60683452366095, 184.65305002816487, 446.48955015297616, 151.4344816008447, 134.8253171161237, 131.89428774915166, 130.91727866908144, 128.96325511644693, 125.05521500659763, 118.2161516289445, 115.28512233373476, 114.30811300110186, 110.40007394692863, 98.67595606360072, 133.84986318031056, 91.83688848084698, 91.83689269943667, 90.85987871428149, 117.23935604687153, 151.43502792452725, 228.6237269740028, 165.11558414542299, 331.95033767394295, 155.33520361955618, 130.914332449944, 220.81825073118142, 1953.9613001962489, 440.7005740567941, 703.1575753614902, 270.65484458183175, 643.4605848327986, 349.0476950888701, 441.4155790644177, 207.1257463087685, 2945.4019516654644, 4347.7435823103715, 833.592782804035, 2275.4787775057193, 1401.7878949573333, 4579.807352026228, 6547.847353040058, 1297.728773364378, 3651.7946800957247, 1451.379545254452, 2591.0067430607414, 795.180433486028, 2744.729692511237, 3820.7663519480275, 1444.2609356940698, 5114.407223950083, 1571.7231551234536, 2225.994747343436, 4132.424519949244, 3920.863228153156, 977.6645550947642, 417.60506620134015, 425.4102202431646, 387.3579247263247, 337.59651463131297, 284.9079036012691, 254.66075251902726, 235.14646191968112, 224.41360264602304, 179.5307352321278, 174.65216298695455, 171.72503968834127, 161.96787634359697, 495.6659039401099, 152.2107462349335, 148.30786996073635, 144.4050119834353, 245.88011333588955, 142.4535589791891, 151.23425531518097, 127.81786716257614, 121.96357883950589, 120.98786591701132, 119.03643625567669, 118.06072210864038, 116.10929273462114, 115.13357636956925, 114.1578627281907, 114.1578653347671, 119.03616265154915, 462.4629707465812, 1075.2626610447892, 241.98565617727124, 139.52685674744995, 139.52317522284966, 212.71944340034452, 1050.2678582147394, 212.71338129343144, 730.9119480181784, 485.5851639874206, 1370.474629007001, 626.4954597605779, 170.7104851468002, 559.1443393099557, 539.7270502379116, 276.86306982508967, 372.37177086152445, 235.1906803616647, 909.9667542634285, 1064.5172380922127, 4132.424519949244, 1408.5615374644658, 1145.3290383145443, 4174.16851541276, 1783.3092310727923, 348.7171102367974, 1123.3961740926045, 4579.807352026228, 3820.7663519480275, 2445.2853343816573, 6547.847353040058, 778.2690770169938, 2780.322471270438, 5114.407223950083, 1195.5967621716673, 2902.081736093075, 2891.669308803048, 2358.819940667683, 526.0496182312413, 391.11423835978894, 386.22527369076425, 300.1795218217839, 299.20172964475637, 317.7796098020803, 222.933905876592, 216.08935734732418, 187.73336979967976, 184.79999383089458, 177.95544434055103, 175.02206581191058, 166.2219335110907, 171.1108629399071, 252.2692907794412, 157.42180006068287, 142.75491159648467, 139.82153380675314, 163.28842289706603, 686.3735677725894, 118.31009500272042, 122.22078634434301, 113.42113151786927, 99.73203681270968, 144.7041794829595, 82.13176807994932, 80.176181745323, 79.19839131793042, 77.24280385565609, 76.26500983656237, 103.64434980031253, 302.05465052721803, 110.49112711966808, 480.8422628314956, 203.3021575207606, 161.34079790056583, 155.4077613153074, 1043.86327024957, 827.7618810856889, 375.614916938867, 381.23555339289254, 643.0643951836655, 218.03569360565407, 918.8439496250984, 1077.4751765876867, 1468.4738896447898, 6547.847353040058, 475.7057589616926, 921.2379838034226, 1619.8810379027527, 4174.16851541276, 3651.7946800957247, 1457.7662729555343, 1451.379545254452, 5114.407223950083, 947.9218880130841, 1571.7231551234536, 2275.4787775057193, 1358.1223526486483, 2591.0067430607414, 2744.729692511237, 4579.807352026228, 2780.322471270438, 1407.8383143785427, 1815.9976212477652, 3820.7663519480275], \"Category\": [\"Default\", \"Default\", \"Default\", \"Default\", \"Default\", \"Default\", \"Default\", \"Default\", \"Default\", \"Default\", \"Default\", \"Default\", \"Default\", \"Default\", \"Default\", \"Default\", \"Default\", \"Default\", \"Default\", \"Default\", \"Default\", \"Default\", \"Default\", \"Default\", \"Default\", \"Default\", \"Default\", \"Default\", \"Default\", \"Default\", \"Topic1\", \"Topic1\", \"Topic1\", \"Topic1\", \"Topic1\", \"Topic1\", \"Topic1\", \"Topic1\", \"Topic1\", \"Topic1\", \"Topic1\", \"Topic1\", \"Topic1\", \"Topic1\", \"Topic1\", \"Topic1\", \"Topic1\", \"Topic1\", \"Topic1\", \"Topic1\", \"Topic1\", \"Topic1\", \"Topic1\", \"Topic1\", \"Topic1\", \"Topic1\", \"Topic1\", \"Topic1\", \"Topic1\", \"Topic1\", \"Topic1\", \"Topic1\", \"Topic1\", \"Topic1\", \"Topic1\", \"Topic1\", \"Topic1\", \"Topic1\", \"Topic1\", \"Topic1\", \"Topic1\", \"Topic1\", \"Topic1\", \"Topic1\", \"Topic1\", \"Topic1\", \"Topic1\", \"Topic1\", \"Topic1\", \"Topic1\", \"Topic1\", \"Topic1\", \"Topic1\", \"Topic1\", \"Topic1\", \"Topic1\", \"Topic1\", \"Topic1\", \"Topic1\", \"Topic1\", \"Topic1\", \"Topic1\", \"Topic1\", \"Topic1\", \"Topic1\", \"Topic2\", \"Topic2\", \"Topic2\", \"Topic2\", \"Topic2\", \"Topic2\", \"Topic2\", \"Topic2\", \"Topic2\", \"Topic2\", \"Topic2\", \"Topic2\", \"Topic2\", \"Topic2\", \"Topic2\", \"Topic2\", \"Topic2\", \"Topic2\", \"Topic2\", \"Topic2\", \"Topic2\", \"Topic2\", \"Topic2\", \"Topic2\", \"Topic2\", \"Topic2\", \"Topic2\", \"Topic2\", \"Topic2\", \"Topic2\", \"Topic2\", \"Topic2\", \"Topic2\", \"Topic2\", \"Topic2\", \"Topic2\", \"Topic2\", \"Topic2\", \"Topic2\", \"Topic2\", \"Topic2\", \"Topic2\", \"Topic2\", \"Topic2\", \"Topic2\", \"Topic2\", \"Topic2\", \"Topic2\", \"Topic2\", \"Topic2\", \"Topic2\", \"Topic2\", \"Topic2\", \"Topic2\", \"Topic2\", \"Topic2\", \"Topic2\", \"Topic2\", \"Topic2\", \"Topic2\", \"Topic2\", \"Topic2\", \"Topic2\", \"Topic2\", \"Topic2\", \"Topic2\", \"Topic2\", \"Topic2\", \"Topic2\", \"Topic3\", \"Topic3\", \"Topic3\", \"Topic3\", \"Topic3\", \"Topic3\", \"Topic3\", \"Topic3\", \"Topic3\", \"Topic3\", \"Topic3\", \"Topic3\", \"Topic3\", \"Topic3\", \"Topic3\", \"Topic3\", \"Topic3\", \"Topic3\", \"Topic3\", \"Topic3\", \"Topic3\", \"Topic3\", \"Topic3\", \"Topic3\", \"Topic3\", \"Topic3\", \"Topic3\", \"Topic3\", \"Topic3\", \"Topic3\", \"Topic3\", \"Topic3\", \"Topic3\", \"Topic3\", \"Topic3\", \"Topic3\", \"Topic3\", \"Topic3\", \"Topic3\", \"Topic3\", \"Topic3\", \"Topic3\", \"Topic3\", \"Topic3\", \"Topic3\", \"Topic3\", \"Topic3\", \"Topic3\", \"Topic3\", \"Topic3\", \"Topic3\", \"Topic3\", \"Topic3\", \"Topic3\", \"Topic3\", \"Topic3\", \"Topic3\", \"Topic3\", \"Topic3\", \"Topic3\", \"Topic3\", \"Topic3\", \"Topic3\", \"Topic3\", \"Topic3\", \"Topic3\", \"Topic3\", \"Topic4\", \"Topic4\", \"Topic4\", \"Topic4\", \"Topic4\", \"Topic4\", \"Topic4\", \"Topic4\", \"Topic4\", \"Topic4\", \"Topic4\", \"Topic4\", \"Topic4\", \"Topic4\", \"Topic4\", \"Topic4\", \"Topic4\", \"Topic4\", \"Topic4\", \"Topic4\", \"Topic4\", \"Topic4\", \"Topic4\", \"Topic4\", \"Topic4\", \"Topic4\", \"Topic4\", \"Topic4\", \"Topic4\", \"Topic4\", \"Topic4\", \"Topic4\", \"Topic4\", \"Topic4\", \"Topic4\", \"Topic4\", \"Topic4\", \"Topic4\", \"Topic4\", \"Topic4\", \"Topic4\", \"Topic4\", \"Topic4\", \"Topic4\", \"Topic4\", \"Topic4\", \"Topic4\", \"Topic4\", \"Topic4\", \"Topic4\", \"Topic4\", \"Topic4\", \"Topic4\", \"Topic4\", \"Topic4\", \"Topic4\", \"Topic4\", \"Topic4\", \"Topic4\", \"Topic4\", \"Topic4\", \"Topic4\", \"Topic4\", \"Topic4\", \"Topic4\", \"Topic5\", \"Topic5\", \"Topic5\", \"Topic5\", \"Topic5\", \"Topic5\", \"Topic5\", \"Topic5\", \"Topic5\", \"Topic5\", \"Topic5\", \"Topic5\", \"Topic5\", \"Topic5\", \"Topic5\", \"Topic5\", \"Topic5\", \"Topic5\", \"Topic5\", \"Topic5\", \"Topic5\", \"Topic5\", \"Topic5\", \"Topic5\", \"Topic5\", \"Topic5\", \"Topic5\", \"Topic5\", \"Topic5\", \"Topic5\", \"Topic5\", \"Topic5\", \"Topic5\", \"Topic5\", \"Topic5\", \"Topic5\", \"Topic5\", \"Topic5\", \"Topic5\", \"Topic5\", \"Topic5\", \"Topic5\", \"Topic5\", \"Topic5\", \"Topic5\", \"Topic5\", \"Topic5\", \"Topic5\", \"Topic5\", \"Topic5\", \"Topic5\", \"Topic5\", \"Topic5\", \"Topic5\", \"Topic5\", \"Topic5\", \"Topic5\", \"Topic5\", \"Topic5\", \"Topic5\", \"Topic5\", \"Topic5\", \"Topic5\", \"Topic5\", \"Topic5\", \"Topic5\", \"Topic6\", \"Topic6\", \"Topic6\", \"Topic6\", \"Topic6\", \"Topic6\", \"Topic6\", \"Topic6\", \"Topic6\", \"Topic6\", \"Topic6\", \"Topic6\", \"Topic6\", \"Topic6\", \"Topic6\", \"Topic6\", \"Topic6\", \"Topic6\", \"Topic6\", \"Topic6\", \"Topic6\", \"Topic6\", \"Topic6\", \"Topic6\", \"Topic6\", \"Topic6\", \"Topic6\", \"Topic6\", \"Topic6\", \"Topic6\", \"Topic6\", \"Topic6\", \"Topic6\", \"Topic6\", \"Topic6\", \"Topic6\", \"Topic6\", \"Topic6\", \"Topic6\", \"Topic6\", \"Topic6\", \"Topic6\", \"Topic6\", \"Topic6\", \"Topic6\", \"Topic6\", \"Topic6\", \"Topic6\", \"Topic6\", \"Topic6\", \"Topic6\", \"Topic6\", \"Topic6\", \"Topic6\", \"Topic6\", \"Topic6\", \"Topic6\", \"Topic6\", \"Topic6\", \"Topic6\", \"Topic6\", \"Topic6\", \"Topic6\", \"Topic6\", \"Topic6\", \"Topic6\", \"Topic6\", \"Topic6\", \"Topic7\", \"Topic7\", \"Topic7\", \"Topic7\", \"Topic7\", \"Topic7\", \"Topic7\", \"Topic7\", \"Topic7\", \"Topic7\", \"Topic7\", \"Topic7\", \"Topic7\", \"Topic7\", \"Topic7\", \"Topic7\", \"Topic7\", \"Topic7\", \"Topic7\", \"Topic7\", \"Topic7\", \"Topic7\", \"Topic7\", \"Topic7\", \"Topic7\", \"Topic7\", \"Topic7\", \"Topic7\", \"Topic7\", \"Topic7\", \"Topic7\", \"Topic7\", \"Topic7\", \"Topic7\", \"Topic7\", \"Topic7\", \"Topic7\", \"Topic7\", \"Topic7\", \"Topic7\", \"Topic7\", \"Topic7\", \"Topic7\", \"Topic7\", \"Topic7\", \"Topic7\", \"Topic7\", \"Topic7\", \"Topic7\", \"Topic7\", \"Topic7\", \"Topic7\", \"Topic7\", \"Topic7\", \"Topic7\", \"Topic7\", \"Topic7\", \"Topic7\", \"Topic7\", \"Topic7\", \"Topic7\", \"Topic7\", \"Topic7\", \"Topic7\", \"Topic7\", \"Topic7\"], \"logprob\": [30.0, 29.0, 28.0, 27.0, 26.0, 25.0, 24.0, 23.0, 22.0, 21.0, 20.0, 19.0, 18.0, 17.0, 16.0, 15.0, 14.0, 13.0, 12.0, 11.0, 10.0, 9.0, 8.0, 7.0, 6.0, 5.0, 4.0, 3.0, 2.0, 1.0, -5.0001, -5.5713, -5.8716, -5.8863, -5.2215, -6.0257, -5.9926, -6.3785, -6.5776, -6.6386, -6.1912, -6.892, -7.0111, -7.0685, -7.1943, -5.9258, -7.3524, -7.049, -7.4112, -7.4341, -4.9291, -7.4656, -7.4499, -7.3896, -7.5933, -7.6024, -7.6116, -7.6116, -7.6209, -7.6303, -2.9197, -5.6678, -6.2254, -6.0981, -7.0669, -7.2414, -3.6346, -3.6969, -3.6434, -6.1088, -5.1638, -5.0843, -6.5216, -4.431, -5.8503, -4.1412, -6.1445, -5.2077, -5.9076, -5.304, -4.3122, -5.7154, -5.7818, -5.7703, -4.6197, -5.279, -5.0419, -5.7303, -5.7757, -5.2909, -5.2223, -5.6543, -5.3344, -5.4815, -5.5752, -5.3767, -4.135, -6.2362, -6.3763, -6.1097, -6.6401, -6.6483, -6.6903, -6.6989, -6.7989, -6.8085, -6.8085, -6.8085, -6.8479, -6.9154, -6.9537, -6.884, -6.9821, -6.9936, -7.0295, -7.1711, -7.1711, -7.1787, -6.0109, -7.2289, -7.345, -7.3533, -7.3958, -7.4402, -7.4493, -4.843, -7.2904, -6.9482, -5.5846, -6.9292, -4.9744, -6.5379, -5.4384, -5.6822, -6.2489, -4.6931, -4.737, -5.3819, -5.2969, -6.0307, -6.1343, -5.3561, -4.845, -5.8141, -6.467, -6.5383, -6.5697, -5.5907, -6.2624, -5.4821, -5.6981, -5.6514, -5.4994, -6.2392, -5.88, -5.7064, -5.5263, -5.8952, -5.5416, -5.9424, -5.8686, -5.9816, -6.018, -6.0196, -5.3437, -4.6476, -5.5821, -5.9468, -6.4682, -6.524, -6.6679, -6.6679, -6.6994, -6.7413, -6.8103, -6.8898, -7.0068, -7.1253, -7.1393, -7.1536, -7.1536, -7.1536, -7.1828, -7.1188, -7.1684, -7.2205, -7.236, -7.2758, -7.2921, -4.6407, -6.9376, -7.4057, -7.4057, -7.17, -4.9148, -7.1177, -5.5033, -5.5127, -6.1535, -6.848, -6.3607, -6.075, -6.1013, -6.1989, -5.413, -4.9905, -6.481, -5.798, -5.6007, -5.7149, -5.8813, -4.9804, -5.0546, -5.3249, -5.4684, -5.1876, -4.9587, -5.1622, -5.5343, -5.7587, -5.6897, -5.679, -4.8991, -5.8169, -5.2589, -5.5334, -5.3289, -5.6161, -5.7188, -5.7149, -5.759, -5.5065, -5.627, -5.7188, -5.8198, -4.6285, -6.0332, -6.1013, -6.1096, -6.2099, -6.421, -6.4322, -6.4324, -6.6839, -6.7968, -6.2459, -6.8412, -6.87, -6.8817, -6.9364, -6.7873, -6.2722, -7.0486, -7.0698, -7.0698, -7.0842, -7.1136, -7.2155, -7.2238, -7.2322, -7.2577, -6.3768, -6.5924, -5.6199, -7.0648, -6.3614, -6.0049, -6.3012, -5.154, -4.9048, -4.7979, -5.9974, -5.6008, -5.6654, -5.7693, -6.2847, -6.4178, -4.8135, -5.7357, -6.2475, -4.535, -5.6973, -5.3569, -4.8843, -5.4869, -5.6181, -5.8384, -5.3157, -5.8453, -5.9733, -5.6539, -5.5241, -5.8345, -5.8413, -5.8293, -5.9327, -4.0057, -5.3738, -5.7301, -5.7187, -5.8545, -5.9243, -5.9243, -6.1896, -6.2885, -6.6194, -6.6289, -6.6921, -6.7383, -6.7492, -5.8665, -6.9482, -7.0651, -7.0872, -7.0947, -7.1098, -7.1408, -7.1974, -7.2227, -7.2313, -7.2663, -7.3795, -7.0752, -7.4519, -7.452, -7.4627, -7.2081, -6.9593, -6.5642, -6.884, -6.2642, -6.9605, -7.1119, -6.665, -4.8295, -6.1022, -5.7327, -6.5086, -5.8336, -6.3221, -6.1731, -6.7484, -4.8484, -4.666, -5.8065, -5.3517, -5.6348, -4.9614, -4.7956, -5.6825, -5.2005, -5.6782, -5.4109, -6.0443, -5.5274, -5.4038, -5.8134, -5.3848, -5.8063, -5.8053, -5.6934, -5.7069, -4.9912, -5.8429, -5.8245, -5.9182, -6.0561, -6.2262, -6.3388, -6.4188, -6.4657, -6.6897, -6.7174, -6.7345, -6.7932, -5.6747, -6.8557, -6.8818, -6.9086, -6.3764, -6.9223, -6.8628, -7.0314, -7.0786, -7.0867, -7.103, -7.1113, -7.1281, -7.1366, -7.1452, -7.1452, -7.1034, -5.7474, -4.9122, -6.397, -6.945, -6.9462, -6.5352, -4.9924, -6.5436, -5.3644, -5.7775, -4.8938, -5.6362, -6.7695, -5.7793, -5.8187, -6.374, -6.134, -6.5116, -5.4471, -5.4222, -4.5654, -5.3011, -5.4627, -4.7746, -5.3051, -6.2596, -5.6888, -5.074, -5.2005, -5.4867, -5.2256, -5.9794, -5.6429, -5.5194, -5.9092, -5.8122, -5.8226, -5.8698, -5.5663, -5.8632, -5.8759, -6.1285, -6.1318, -6.0721, -6.427, -6.4583, -6.5995, -6.6154, -6.6533, -6.67, -6.7218, -6.6929, -6.3049, -6.7765, -6.8748, -6.8957, -6.7407, -5.305, -7.0639, -7.0315, -7.1064, -7.236, -6.8655, -7.432, -7.4564, -7.4688, -7.494, -7.5069, -7.2005, -6.1491, -7.1419, -5.7107, -6.5577, -6.7848, -6.8274, -5.0788, -5.3064, -6.0293, -6.0217, -5.6274, -6.5432, -5.3948, -5.3073, -5.1525, -4.3623, -6.1117, -5.7732, -5.4739, -5.0097, -5.0916, -5.6608, -5.6934, -5.1407, -5.9107, -5.707, -5.574, -5.7824, -5.615, -5.6185, -5.5511, -5.7822, -5.9237, -5.9293, -5.9255], \"loglift\": [30.0, 29.0, 28.0, 27.0, 26.0, 25.0, 24.0, 23.0, 22.0, 21.0, 20.0, 19.0, 18.0, 17.0, 16.0, 15.0, 14.0, 13.0, 12.0, 11.0, 10.0, 9.0, 8.0, 7.0, 6.0, 5.0, 4.0, 3.0, 2.0, 1.0, 1.6971, 1.6967, 1.6965, 1.6965, 1.6965, 1.6963, 1.6959, 1.6956, 1.6951, 1.6949, 1.6948, 1.6938, 1.6936, 1.6933, 1.6927, 1.6922, 1.6918, 1.6918, 1.6915, 1.6913, 1.6911, 1.6911, 1.6911, 1.6907, 1.6902, 1.6901, 1.6901, 1.6901, 1.69, 1.6899, 1.6802, 1.6893, 1.6877, 1.6863, 1.6896, 1.689, 1.6516, 1.6394, 1.6342, 1.6756, 1.6537, 1.6454, 1.6726, 1.6073, 1.6402, 1.5547, 1.648, 1.5842, 1.6193, 1.5537, 1.3295, 1.5478, 1.5564, 1.5472, 1.0238, 1.2915, 1.0621, 1.4203, 1.386, 0.6912, 0.3703, 1.124, 0.3875, 0.519, -0.1449, 1.8597, 1.8593, 1.8584, 1.858, 1.8574, 1.8572, 1.8572, 1.857, 1.857, 1.8566, 1.8566, 1.8566, 1.8566, 1.8564, 1.8561, 1.8559, 1.8559, 1.8558, 1.8557, 1.8551, 1.8547, 1.8547, 1.854, 1.8539, 1.8538, 1.8535, 1.8535, 1.8532, 1.8529, 1.8528, 1.8375, 1.8524, 1.8449, 1.8137, 1.8422, 1.7254, 1.8116, 1.7366, 1.7275, 1.7741, 1.5697, 1.5251, 1.5519, 1.5184, 1.6563, 1.6398, 1.3702, 1.1947, 1.4493, 1.6819, 1.7074, 1.7246, 0.8882, 1.4334, 0.5705, 0.7608, 0.5527, 0.0412, 1.2296, 0.6038, 0.2905, -0.0961, 0.6087, -0.3584, 0.6736, -0.1016, 0.2973, 0.2027, 0.1333, 1.899, 1.8984, 1.8983, 1.8982, 1.8969, 1.8968, 1.8963, 1.8963, 1.8961, 1.896, 1.8957, 1.8953, 1.8948, 1.8941, 1.894, 1.8939, 1.8939, 1.8939, 1.8937, 1.8936, 1.8935, 1.8935, 1.8934, 1.8931, 1.893, 1.8927, 1.8926, 1.8922, 1.8922, 1.892, 1.8772, 1.8879, 1.8362, 1.8316, 1.8499, 1.8787, 1.8544, 1.8325, 1.8105, 1.8175, 1.7316, 1.6137, 1.8089, 1.7106, 1.6394, 1.6476, 1.676, 1.4785, 1.4243, 1.4708, 1.389, 1.253, 1.1453, 1.1625, 1.3433, 1.4196, 1.3107, 1.2432, 0.284, 1.2094, 0.2818, 0.6194, 0.1013, 0.5521, 0.5214, 0.0069, 0.4617, 1.9888, 1.9887, 1.9885, 1.9884, 1.9882, 1.9879, 1.9878, 1.9876, 1.9875, 1.9869, 1.9869, 1.9867, 1.9859, 1.9854, 1.9853, 1.9852, 1.9851, 1.985, 1.9847, 1.9842, 1.9842, 1.9841, 1.984, 1.984, 1.9839, 1.9837, 1.983, 1.983, 1.9829, 1.9827, 1.9803, 1.9808, 1.969, 1.9819, 1.9746, 1.9668, 1.9711, 1.9179, 1.8854, 1.8421, 1.9133, 1.8671, 1.87, 1.8785, 1.8911, 1.9143, 1.6016, 1.7548, 1.8791, 1.0577, 1.5691, 1.259, 0.7491, 1.2328, 1.3279, 1.4848, 0.326, 1.217, 1.408, 0.3465, -0.0938, 0.8857, 0.8554, 0.1528, 0.6473, 2.0069, 2.0061, 2.0056, 2.0055, 2.0054, 2.0052, 2.0052, 2.0046, 2.0044, 2.0032, 2.0032, 2.003, 2.0027, 2.0024, 2.0022, 2.0017, 2.001, 2.0009, 2.0008, 2.0007, 2.0005, 2.0001, 2.0, 1.9999, 1.9996, 1.9987, 1.9982, 1.9981, 1.9981, 1.998, 1.9978, 1.9906, 1.9738, 1.9794, 1.9009, 1.9639, 1.9836, 1.9077, 1.5629, 1.7795, 1.6818, 1.8606, 1.6696, 1.7927, 1.7069, 1.8883, 1.1337, 0.9267, 1.4378, 0.8884, 1.0898, 0.5793, 0.3876, 1.1192, 0.5666, 1.0116, 0.6994, 1.2472, 0.5252, 0.3181, 0.8813, 0.0454, 0.8038, 0.4568, -0.05, -0.0109, 2.0937, 2.0926, 2.0925, 2.0925, 2.0921, 2.0917, 2.0913, 2.0911, 2.0909, 2.09, 2.0898, 2.0897, 2.0895, 2.0895, 2.089, 2.089, 2.0888, 2.0888, 2.0887, 2.0885, 2.0881, 2.0878, 2.0877, 2.0876, 2.0875, 2.0874, 2.0873, 2.0873, 2.0873, 2.0872, 2.0861, 2.0776, 2.0842, 2.0868, 2.0857, 2.0749, 2.0209, 2.0665, 2.0113, 2.0072, 1.8533, 1.8937, 2.0606, 1.8643, 1.8603, 1.9725, 1.9162, 1.9981, 1.7095, 1.5776, 1.078, 1.4186, 1.4639, 0.8588, 1.1787, 1.8562, 1.2571, 0.4666, 0.5214, 0.6814, -0.0425, 1.3336, 0.3969, -0.0892, 0.9745, 0.1847, 0.1779, 0.3343, 2.1384, 2.1378, 2.1378, 2.1372, 2.1372, 2.1366, 2.1362, 2.1361, 2.1355, 2.1354, 2.1352, 2.1352, 2.1349, 2.1348, 2.1347, 2.1346, 2.1341, 2.134, 2.1338, 2.1336, 2.1329, 2.1327, 2.1326, 2.1315, 2.1298, 2.1297, 2.1295, 2.1293, 2.1291, 2.1289, 2.1286, 2.1103, 2.1232, 2.0838, 2.0976, 2.1017, 2.0966, 1.9406, 1.9449, 2.0122, 2.0049, 1.8764, 2.0422, 1.7521, 1.6804, 1.5256, 0.8208, 1.6935, 1.3712, 1.106, 0.6237, 0.6755, 1.0246, 0.9964, 0.2895, 1.205, 0.9031, 0.6661, 0.9738, 0.4952, 0.4342, -0.0105, 0.2576, 0.7966, 0.5364, -0.2036]}, \"token.table\": {\"Topic\": [5, 1, 5, 2, 3, 6, 7, 5, 3, 5, 1, 2, 3, 4, 5, 6, 7, 7, 1, 2, 3, 2, 3, 7, 1, 3, 4, 5, 6, 7, 4, 4, 5, 5, 6, 6, 7, 4, 6, 1, 4, 5, 6, 7, 6, 6, 3, 2, 3, 4, 5, 6, 7, 6, 7, 1, 1, 5, 6, 5, 2, 3, 4, 6, 6, 1, 2, 3, 4, 5, 6, 7, 2, 3, 4, 6, 7, 1, 5, 1, 3, 4, 5, 6, 7, 1, 2, 3, 4, 5, 6, 7, 2, 2, 3, 7, 6, 7, 1, 4, 2, 5, 1, 4, 6, 7, 2, 3, 5, 7, 3, 2, 2, 7, 2, 3, 6, 3, 6, 1, 2, 3, 5, 6, 7, 1, 2, 3, 6, 3, 5, 6, 2, 3, 7, 1, 2, 3, 4, 5, 6, 7, 1, 4, 5, 5, 1, 2, 3, 5, 7, 2, 5, 2, 5, 2, 3, 5, 1, 2, 3, 4, 5, 6, 7, 1, 2, 3, 4, 5, 6, 7, 1, 2, 3, 4, 5, 6, 7, 2, 3, 6, 3, 4, 1, 5, 2, 7, 3, 4, 2, 6, 1, 1, 3, 5, 6, 7, 6, 7, 3, 3, 1, 2, 5, 6, 7, 6, 4, 6, 1, 4, 6, 3, 1, 2, 3, 4, 5, 6, 7, 1, 2, 5, 6, 7, 1, 2, 3, 4, 5, 7, 1, 2, 3, 4, 5, 6, 7, 4, 1, 2, 3, 4, 5, 6, 7, 1, 2, 3, 4, 5, 6, 7, 5, 2, 7, 1, 2, 3, 4, 5, 6, 7, 4, 2, 3, 6, 2, 3, 5, 4, 6, 4, 3, 7, 1, 2, 3, 4, 5, 6, 7, 1, 3, 4, 5, 7, 5, 4, 1, 2, 3, 5, 7, 1, 3, 7, 2, 4, 1, 2, 4, 6, 1, 2, 3, 4, 5, 6, 7, 7, 2, 3, 3, 7, 2, 3, 6, 7, 1, 3, 5, 6, 7, 3, 1, 1, 2, 3, 4, 5, 6, 7, 4, 1, 1, 2, 3, 4, 6, 7, 1, 2, 4, 6, 2, 1, 2, 3, 6, 7, 2, 5, 1, 2, 3, 4, 5, 6, 7, 1, 4, 5, 6, 7, 3, 2, 3, 2, 3, 1, 2, 3, 4, 5, 6, 7, 5, 1, 3, 4, 4, 6, 7, 7, 3, 3, 1, 4, 5, 7, 2, 6, 1, 2, 3, 4, 5, 6, 7, 4, 1, 2, 3, 4, 5, 6, 7, 5, 2, 5, 7, 7, 2, 2, 2, 3, 5, 7, 3, 7, 2, 1, 5, 7, 2, 1, 4, 5, 6, 1, 4, 6, 6, 6, 7, 3, 1, 5, 1, 5, 7, 5, 6, 4, 4, 6, 1, 3, 4, 2, 3, 2, 6, 2, 7, 2, 1, 4, 7, 5, 7, 1, 2, 3, 4, 5, 6, 7, 3, 1, 2, 4, 6, 7, 3, 4, 5, 6, 7, 3, 1, 2, 3, 1, 3, 5, 6, 7, 1, 2, 4, 5, 7, 6, 1, 4, 5, 1, 3, 5, 7, 1, 7, 1, 1, 2, 3, 4, 5, 6, 7, 1, 2, 3, 4, 5, 6, 7, 2, 7, 2, 1, 2, 3, 4, 5, 6, 7, 1, 2, 3, 4, 5, 6, 7, 2, 1, 3, 3, 2, 2, 6, 1, 2, 3, 4, 5, 6, 7, 5, 3, 1, 3, 7, 3, 6, 6, 1, 2, 3, 5, 6, 7, 1, 3, 7, 3, 1, 2, 3, 7, 1, 7, 7, 4, 6, 4, 1, 4, 1, 4, 2, 1, 2, 3, 4, 5, 6, 7, 1, 5, 7, 5, 6, 2, 2, 2, 7, 1, 1, 2, 3, 4, 5, 6, 7, 1, 3, 3, 4, 6, 7, 1, 1, 3, 5, 6, 7, 1, 2, 3, 4, 5, 6, 7, 1, 3, 4, 6, 7, 7, 6, 1, 6, 4, 6, 1, 4, 5, 7, 2, 4, 7, 3, 4, 1, 4, 5, 6, 7, 6, 6, 1, 3, 5, 6, 7, 5, 6, 1, 1, 6, 5, 7, 5, 1, 1, 7, 2, 1, 2, 3, 5, 7, 1, 6, 2, 5, 7, 1, 2, 3, 4, 5, 7, 2, 3, 5, 5, 1, 1, 2, 3, 4, 5, 6, 7, 1, 6, 7, 4, 6, 4, 6, 1, 2, 3, 5, 6, 7, 1, 5, 7, 1, 2, 4, 5, 6, 1, 2, 3, 4, 5, 7, 4, 1, 2, 4, 5, 6, 7, 1, 4, 5, 7, 7, 3, 1, 2, 3, 4, 5, 6, 7, 1, 2, 1, 2, 3, 4, 5, 6, 7, 2, 2, 3, 7, 1, 4, 5, 7, 1, 4, 5, 6, 7, 1, 4, 5, 6, 7, 1, 5, 7, 4, 1, 2, 3, 4, 5, 6, 7, 1, 5, 2, 3, 1, 3, 3, 4, 7, 1, 2, 3, 4, 5, 6, 7, 1, 1, 1, 6, 2, 3, 5, 6, 7, 1, 4, 5, 6, 7, 2, 4, 6, 7, 1, 2, 3, 7, 7, 1, 2, 4, 6, 3, 1, 2, 4, 5, 6, 7, 1, 2, 3, 4, 5, 6, 7, 7, 1, 2, 3, 4, 5, 6, 7, 2, 3, 4, 5, 6, 7, 7, 6, 4, 5, 6, 7, 2, 3, 1, 4, 5, 7, 4, 4, 1, 2, 3, 4, 5, 6, 7, 2, 3, 4, 5, 6, 7, 2, 3, 4, 6, 6, 7, 6, 2, 3, 5, 1, 5, 6, 2, 6, 6, 4, 7, 6, 5, 6, 1, 4, 5, 6, 7, 4, 6, 7, 1, 4, 6, 7, 2, 3, 6, 1, 4, 4, 1, 4, 7, 7, 6, 2, 4, 6, 1, 4, 6, 1, 4, 6, 7, 2, 3, 6, 7, 1, 4, 5, 7, 1, 4, 7, 2, 1, 2, 1, 5, 6, 7, 4, 6, 1, 2, 3, 6, 3, 1, 3, 4, 5, 7, 1, 2, 3, 4, 5, 6, 1, 4, 5, 7, 1, 4, 5, 6, 7, 1, 5, 6, 4, 4, 4, 6, 5, 1, 4, 5, 6, 2, 2, 1, 4, 5, 6, 7, 6, 1, 1, 2, 4, 1, 4, 5, 4, 5, 6, 1, 2, 3, 4, 5, 6, 7, 1, 2, 3, 4, 5, 6, 7, 4, 1, 3, 5, 7, 3, 2, 6, 1, 1, 2, 3, 5, 3, 5, 7, 5, 2, 4, 5, 6, 7, 1, 2, 3, 4, 5, 6, 7, 5, 7, 4], \"Freq\": [0.9931497388972341, 0.013206984060496012, 0.983920312506953, 0.9768376621205574, 0.022526654682025433, 0.9985511042601949, 0.9889266000277467, 0.9987246213945935, 0.007471057319295795, 0.9936506234663408, 0.2483251305204548, 0.23597747209678577, 0.08711958998922033, 0.04939063369467609, 0.05076259574175043, 0.001371962047074336, 0.3278989292507663, 0.9946309912343979, 0.0005892190254917385, 0.0064814092804091235, 0.9928340579535793, 0.005858186855421367, 0.990033578566211, 0.98622009355932, 0.6659309137520248, 0.004280547654971693, 0.22442299848208733, 0.010395615733502683, 0.0642082148245754, 0.03057534039265495, 0.9988276268281031, 0.9969983274599836, 0.9961527013557173, 0.004067022690175556, 0.9923535364028355, 0.9912953960505072, 0.9848684891449417, 0.029289354990118602, 0.9665487146739138, 0.8596137213853214, 0.016779246813827597, 0.0012907112933713536, 0.10325690346970828, 0.01806995810719895, 0.991015452983048, 0.9936013080116893, 0.9961175759702733, 0.5315856420665303, 0.21323491856906016, 0.09610587879168908, 0.051056248108084824, 0.03303639583464312, 0.07358106344988696, 0.9946215708627156, 0.004034975946704728, 0.9988889603627638, 0.008370047920435612, 0.0074400425959427665, 0.9830156279889379, 0.9938786191363981, 0.7100444753305419, 0.25152290545262324, 0.024996065138148893, 0.0132791596046416, 0.9912931175673763, 0.010790115286983896, 0.5136094876604335, 0.0589859635688453, 0.07193410191322598, 0.009351433248719376, 0.18307228936916012, 0.15214062554647292, 0.6627123461461197, 0.03545877866833482, 0.22375712056225078, 0.0745857068540836, 0.003668149517413947, 0.956669541472657, 0.04305795808592155, 0.037450383628852946, 0.04590692186762619, 0.05677961388890608, 0.004832307565013283, 0.03261807606383966, 0.8227003629435115, 0.14026265441333557, 0.20925177759383615, 0.14665899695987206, 0.13112502220399777, 0.16813243265181593, 0.09411761175617958, 0.11010846812252077, 0.9903770976393169, 0.04783273388774486, 0.004159368164151727, 0.9462562573445179, 0.12328336006889391, 0.8734757213391845, 0.0033003916143338834, 0.9934178759144988, 0.9975916473167867, 0.990887229579631, 0.14657092012004627, 0.03257131558223251, 0.001915959740131324, 0.819072788906141, 0.03298305632512116, 0.938038121886446, 0.02770576731310178, 0.9960935565133556, 0.9912580903927007, 0.9907268769089815, 0.006910650428847917, 0.9882230113252521, 0.9543490893909438, 0.0069966942037459215, 0.037782148700227974, 0.00826495269014979, 0.9876618464728999, 0.14016866642794817, 0.022978469906221013, 0.6510566473429287, 0.04825478680306413, 0.09421172661550616, 0.04365909282181993, 0.06840744709087537, 0.08143743701294687, 0.8447776799476355, 0.004343329974023833, 0.9911814834027394, 0.9964633672280785, 0.9970437639469277, 0.3783295275283691, 0.6216210821041345, 0.9960706119637162, 0.3070504210935127, 0.08943680489795464, 0.4782716839462815, 0.035392104612024834, 0.049261983446467, 0.0004782716839462815, 0.04065309313543393, 0.9738062005865403, 0.021709055427088477, 0.9997288903119336, 0.9983345624543482, 0.04062603458086632, 0.037500954997722755, 0.8281460895330441, 0.0921898477027351, 0.0015625397915717814, 0.9984025910985744, 0.0010310525897747756, 0.8359186423265127, 0.163033777758717, 0.046126827384271075, 0.9507251644202539, 0.9980449521684609, 0.03344856673601916, 0.08123223350176081, 0.7705116265975842, 0.03225397506687562, 0.015529691698866038, 0.05614580844974645, 0.011945916691435415, 0.031224020795707273, 0.16201554846443914, 0.1982616145629525, 0.05589754771818924, 0.23974807576004606, 0.1962964664009849, 0.1163804411476362, 0.08720423204962072, 0.10873802665381778, 0.19869125375929345, 0.022144682394387046, 0.19792764402155597, 0.11805406545421508, 0.267416130155667, 0.17877224528139762, 0.0031923615228821004, 0.8172445498578177, 0.9951306701021305, 0.999145123087211, 0.9924426392034672, 0.9908871840625569, 0.9937364307593979, 0.9921095269694764, 0.9772501330583622, 0.015847299455000467, 0.08237483960905409, 0.9164200906507268, 0.9955651356287026, 0.01856120721593122, 0.9333635628582556, 0.014583805669660244, 0.014583805669660244, 0.01723540670050756, 0.9098999997403013, 0.08928925231096414, 0.9959361966671056, 0.9968871709859921, 0.8928111938901496, 0.007630864905044013, 0.08088716799346654, 0.0030523459620176055, 0.015261729810088026, 0.9990759845004396, 0.9922239034276757, 0.004530702755377515, 0.004965767484675071, 0.9757733107386515, 0.014897302454025214, 0.9941257221344341, 0.14837927811519588, 0.27047422696427137, 0.06571082316530104, 0.09199515243142145, 0.10344155388602227, 0.17211996261362722, 0.14795533732058103, 0.50962818312429, 0.00024198869094220802, 0.12777002881748584, 0.361773092958601, 0.00048397738188441604, 0.0010235617255055804, 0.010235617255055805, 0.23337207341527236, 0.0005117808627527902, 0.6412614210292461, 0.11412713239387222, 0.22471302622397646, 0.07133746864253221, 0.00998724560995451, 0.011413994982805153, 0.39948982439818037, 0.2004582868855155, 0.08346483831176268, 0.990329508981853, 0.1586195525554723, 0.060725637281962994, 0.06020214040884262, 0.6779284506908799, 0.0005234968731203706, 0.0005234968731203706, 0.041879749849629645, 0.22577907341947415, 0.1749209886219134, 0.08245174353543935, 0.013099809720583824, 0.41148814063480954, 0.017723271974907525, 0.07474597311156653, 0.9949771769434207, 0.00582773024459661, 0.993628006703722, 0.030000984665371173, 0.1680055141260786, 0.10300338068444104, 0.4620151638467161, 0.10600347915097814, 0.019000623621401744, 0.11200367608405239, 0.997156999278592, 0.8747140652684511, 0.04953882246665985, 0.0750159311637992, 0.02213122955324672, 0.9775898295761742, 0.9963761442123584, 0.9250199152989483, 0.07241317518754394, 0.9947621925244055, 0.9143284791198399, 0.08418369628724869, 0.17792291611387726, 0.28604970436314675, 0.12872236696341602, 0.18879280487967684, 0.07780551958677591, 0.061786736142439694, 0.0789497184042285, 0.002864937984321577, 0.17762615502793777, 0.002864937984321577, 0.8079125115786847, 0.008594813952964731, 0.9897124748844663, 0.9965366908627006, 0.0017982117264055892, 0.7476065252531237, 0.07687355130383894, 0.17172921987173376, 0.0022477646580069863, 0.01859418100714301, 0.01859418100714301, 0.9606993520357222, 0.8008076331957975, 0.19765481022898818, 0.41903760184996636, 0.0025092071967063854, 0.2525935244684428, 0.3261969355718301, 0.001121510484638075, 0.284302907855752, 0.0050467971808713374, 0.17719865657281583, 0.07401969198611294, 0.40037924301579275, 0.0583185452011799, 0.9841346894116213, 0.08532136670166142, 0.911232196373744, 0.009050500488758197, 0.9865045532746435, 0.31869296173873973, 0.0010989412473749647, 0.6802446321251031, 0.9971511178819219, 0.3804726542369216, 0.5996314208102234, 0.015479615482872614, 0.0008147166043617164, 0.0032588664174468657, 0.9968310409855532, 0.9958521335649366, 0.15837612542991858, 0.14136535640226067, 0.16561059041869264, 0.12435458737460274, 0.14058325207914996, 0.1126230225279421, 0.1572029689452525, 0.998095129684778, 0.9973713463744479, 0.9907339955243567, 0.009577076991257372, 0.0533580003798625, 0.012313384703045192, 0.9193993911607077, 0.005472615423575641, 0.007067365442002699, 0.0424041926520162, 0.9298633674406409, 0.01918284905686447, 0.9966120441552221, 0.07915164475859426, 0.7343513708158469, 0.0017589254390798727, 0.1547854386390288, 0.029022269744817898, 0.9969323558029879, 0.9915620071778537, 0.12596546090262173, 0.1404788727022716, 0.1026892344314851, 0.06654262391160234, 0.23686983408862564, 0.09611712342787004, 0.23111923696046247, 0.09952346993448606, 0.021770759048168827, 0.004665162653179034, 0.10574368680539144, 0.7681967835568143, 0.9971428055276488, 0.24856105380105245, 0.7507429284016521, 0.0752915236375438, 0.9216720997009672, 0.044448821438725535, 0.2750726244773588, 0.18180296637642657, 0.03023977196241163, 0.2273447916210224, 0.05938654011895297, 0.18180296637642657, 0.9929934483942334, 0.0011935155467902318, 0.9983757548900289, 0.998281948147141, 0.9980174906417888, 0.9901542503471744, 0.9947118345138377, 0.9958108396615588, 0.9905863687159429, 0.9971990626108199, 0.019313072182578387, 0.006437690727526129, 0.9592159184013932, 0.006437690727526129, 0.982193255300505, 0.011289577647132242, 0.10462568770847382, 0.12885479433569932, 0.16189448519100685, 0.13986802462080183, 0.17511036153312987, 0.08865650379507518, 0.20099145270312074, 0.9899732393406191, 0.04262839142201413, 0.07339114811831299, 0.2518151369568463, 0.05625189795894648, 0.3265246889335721, 0.02021552582899639, 0.22896280341102435, 0.990536211070835, 0.9929107588827016, 0.9894288395240243, 0.9935079344419108, 0.9926487829537299, 0.9944161668239053, 0.9974717348396918, 0.9974529277941565, 0.14437094685446672, 0.3918639986049811, 0.46350672411170896, 0.003964017962353963, 0.9949685085508448, 0.9933576541874098, 0.9882058253496268, 0.008235048544580223, 0.0020587621361450557, 0.9983244729491071, 0.0009521380590469698, 0.06855394025138183, 0.0009521380590469698, 0.9292867456298425, 0.0036118937806756154, 0.10835681342026846, 0.8849139762655258, 0.9993202626695413, 0.9974053617901805, 0.9941244114237183, 0.9974577230213365, 0.9912413017179367, 0.9967480584234228, 0.9904259016235448, 0.009365729566180092, 0.9980047162950703, 0.9888526610570398, 0.9981569626745156, 0.9943577678269853, 0.0071672680786025456, 0.9890829948471513, 0.4256689044359136, 0.5728239749147352, 0.9980969752772394, 0.9527786799348996, 0.04709552410324599, 0.0064870058572623086, 0.9925118961611332, 0.9832305297513358, 0.016571301063224762, 0.9977764479068101, 0.9929917190334746, 0.000642713086753058, 0.005784417780777522, 0.905722236897325, 0.0905722236897325, 0.04119791272025634, 0.3011709481618739, 0.03693605968022982, 0.3317142282820639, 0.0007103088400044195, 0.02841235360017678, 0.260683344281622, 0.9934162465142391, 0.03397810418169308, 0.9174088129057131, 0.013068501608343492, 0.0052274006433373965, 0.03397810418169308, 0.06343228768532846, 0.08382123729846977, 0.7407985026108004, 0.0022654388459045884, 0.11100650344932482, 0.9974575468376604, 0.03240216085639715, 0.18901260499565004, 0.7763017705178483, 0.20172971615647506, 0.005139610602712741, 0.3045219282107299, 0.4677045648468594, 0.021843345061529146, 0.10970478880104645, 0.8742100357583389, 0.0034282746500327015, 0.006856549300065403, 0.0034282746500327015, 0.9957779035040136, 0.8606573739916138, 0.0012225246789653605, 0.13814528872308574, 0.9547958895367824, 0.00016929005133630896, 0.01574397477427673, 0.029456468932517757, 0.990570029186592, 0.005442692468058198, 0.9980574009058902, 0.14982975050789912, 0.08592387125901024, 0.5235985904845937, 0.03651764528507936, 0.031684427526760026, 0.10149757292470585, 0.07088719378868345, 0.17472345334369874, 0.06258750567535477, 0.5180854636459923, 0.02868594010120427, 0.048679171080831495, 0.12517501135070955, 0.04172500378356985, 0.026485273396838906, 0.9700231381592249, 0.9954939095019384, 0.5630692036142885, 0.06097407151438151, 0.03462725048964876, 0.05796300625441205, 0.11291494724885465, 0.14829496405349576, 0.021830223134778566, 0.26957942598998547, 0.06150598554140445, 0.15049336887790452, 0.03036040137362943, 0.18477968422226188, 0.20728825765443543, 0.09605402848381035, 0.995614767025232, 0.9947975520362451, 0.9912581310716184, 0.9955987744023147, 0.9986024770224116, 0.20933873864241745, 0.7886048373515725, 0.0043213049824096005, 0.12902182018908664, 0.0049386342656109715, 0.26113028679418016, 0.03395311057607543, 0.21050928557166768, 0.35558166712399, 0.9885562540859261, 0.9959599611438628, 0.0026623010825812185, 0.11447894655099239, 0.8812216583343833, 0.014103083159887307, 0.9825147934721491, 0.992099454208589, 0.7580937395381916, 0.057894766852340275, 0.07209537004253695, 0.028401206380393344, 0.03495533092971488, 0.04915593411991156, 0.9778553040172946, 0.014410499217096973, 0.006175928235898703, 0.9989003444906797, 0.11870574274631052, 0.6519394760352927, 0.22610617665963909, 0.994160360254181, 0.9989612304202723, 0.0008656509795669604, 0.9900116307474607, 0.9963926633422417, 0.994024269716646, 0.9981079705668566, 0.9931296367867349, 0.9964631587659174, 0.9936101168418581, 0.005229526930746622, 0.9959611144651022, 0.037119006220110176, 0.305271827017113, 0.012159674451415402, 0.4812671151297043, 0.07423801244022035, 0.04351883487874986, 0.0467187492080697, 0.004373999204875668, 0.9666538242775226, 0.026243995229254007, 0.9991130794382652, 0.9962659323778128, 0.9974529379418935, 0.9949912642412864, 0.9958329452491075, 0.994958764463475, 0.9917329148603601, 0.0033539613813640245, 0.07282887570961882, 0.04072667391656316, 0.2891593848075984, 0.08408860320419805, 0.290596796828183, 0.21944490180924617, 0.9984492464215556, 0.9980005712228927, 0.0026854882089648907, 0.12890343403031476, 0.8378723211970459, 0.03222585850757869, 0.9963677705055617, 0.058781698943186696, 0.327498036969183, 0.5662237122690637, 0.002399253018089253, 0.04558580734369581, 0.04822997556282067, 0.1012829486819234, 0.06269896823166687, 0.05511997207179505, 0.36930381288102687, 0.044095977657436045, 0.31900683836551386, 0.005503016107132216, 0.05503016107132215, 0.5585561348739199, 0.3439385066957635, 0.03714535872314245, 0.9926599632765508, 0.9920455929368827, 0.9908381942460027, 0.006476066629058841, 0.9826178450793287, 0.016768222612275233, 0.9486971284835526, 0.006453721962473147, 0.0408735724289966, 0.0035854010902628595, 0.012869370120725131, 0.025738740241450262, 0.9587680739940223, 0.9565086890254828, 0.04117421509050091, 0.004815073824662078, 0.8875786083460431, 0.08025123041103463, 0.02568039373153108, 0.003210049216441385, 0.9898573545394104, 0.9898573319379119, 0.8654525830362495, 0.11816442988724687, 0.0032597084106826724, 0.0024447813080120044, 0.009779125232048018, 0.9925307785106916, 0.9918387847210361, 0.9922060248265172, 0.9979581531492543, 0.9904461330484845, 0.7964591395217149, 0.20195117782744337, 0.9979533117706876, 0.9953139059707417, 0.09172810042823815, 0.9081081942395577, 0.988534716343812, 0.002246186791755524, 0.7147366371366077, 0.06738560375266571, 0.21204003314172146, 0.0031446615084577334, 0.9950581205259431, 0.9968160923290421, 0.8831163997947287, 0.08282714015818748, 0.03357857033440033, 0.12863981175864783, 0.6124684370953399, 0.22011701123146404, 0.0007146656208813768, 0.002858662483525507, 0.03430394980230608, 0.9930282630346117, 0.9974575042612307, 0.9973526931777459, 0.9971308938608189, 0.9982498881442846, 0.17014108454568067, 0.0488803115821845, 0.5546035352594011, 0.009400059919650865, 0.08460053927685779, 0.10716068308401987, 0.02444015579109225, 0.22963638176655682, 0.09141922307294205, 0.6780259044576535, 0.9004691534893143, 0.09903637051912932, 0.9044086660005715, 0.09135441070712844, 0.01265927092911939, 0.0010549392440932824, 0.2289218159682423, 0.36395403921218245, 0.0010549392440932824, 0.39243739880270107, 0.9958585091019957, 0.002278852423574361, 0.9959835471332896, 0.015618770933928756, 0.001419888266720796, 0.4692730721512231, 0.004969608933522786, 0.508319999486045, 0.059641165497373284, 0.1288543699017324, 0.25255456500739554, 0.0058904854812220535, 0.2407735940449514, 0.31145941981961606, 0.9972216681247296, 0.691809378977615, 0.05265867479648047, 0.18937798642403983, 0.04613672883544848, 0.017633409450197587, 0.0021739819870106613, 0.8666458895074899, 0.00025504587684152145, 0.13287890183443268, 0.00025504587684152145, 0.9975466965845736, 0.9968310534213707, 0.25395809285260085, 0.04375767461389418, 0.25968339607311036, 0.05807093266516798, 0.08956010037797034, 0.2433253868716546, 0.05111877875454928, 0.0024715260315911077, 0.9960249907312164, 0.00903749645510751, 0.0692874728224909, 0.006024997636738339, 0.00903749645510751, 0.8977246478740125, 0.0030124988183691695, 0.0030124988183691695, 0.9953013230666504, 0.20014070490571503, 0.7989223220416658, 0.9839104253908426, 0.943745404869425, 0.03529454359674273, 0.0061381814950856916, 0.013810908363942807, 0.9431649139008066, 0.02491849178073465, 0.011569299755341088, 0.0001779892270052475, 0.020290771878598218, 0.9382948858574718, 0.001678523946077767, 0.052873504301449666, 0.0001678523946077767, 0.007049800573526621, 0.9245564065222448, 0.06524408376490884, 0.009547914697303733, 0.9945333685536102, 0.2158745079622278, 0.17761316793160906, 0.27789815390659917, 0.06444015163051575, 0.1200197824118356, 0.05678788362439201, 0.087396955648887, 0.9505759464498965, 0.04773634665578083, 0.9972551447552512, 0.9946448830825081, 0.5296572170259223, 0.47020981033582965, 0.9942414381490411, 0.9963927574930685, 0.9853300354329779, 0.23188299608034846, 0.19050610458645728, 0.23748611680347956, 0.06853047653675726, 0.10818333088506964, 0.07068552296873076, 0.09309800586125515, 0.9941876208137906, 0.998903344239146, 0.023505808471459805, 0.9731404707184359, 0.10510698905376585, 0.06726847299441015, 0.16817118248602536, 0.018919258029677852, 0.6390504934468964, 0.7322704100991827, 0.17671684104957652, 0.0011044802565598531, 0.026507526157436477, 0.06295537462391163, 0.0018527883669332492, 0.19083720179412467, 0.7911406326804974, 0.012969518568532745, 0.007657488226438562, 0.33310073785007743, 0.6558091702499882, 0.0032817806684736694, 0.9834129722231294, 0.9950581087956061, 0.0036502909771217377, 0.9892288547999909, 0.0036502909771217377, 0.9968163959843344, 0.3274626957114402, 0.10406653465405938, 0.3212187036321966, 0.002775107590774917, 0.08949721980249108, 0.15401847128800789, 0.042236135100258164, 0.16202058382721984, 0.10455174426457349, 0.015925100119769473, 0.3240411676544397, 0.115630074782674, 0.23472212785225438, 0.9962870100815127, 0.13059590820147898, 0.20812646056383458, 0.18435042450604552, 0.13852125355407535, 0.11853560005622367, 0.1481695000702796, 0.07201726863881032, 0.1116805693015557, 0.029963079568710065, 0.006128811729963423, 0.2349377829819312, 0.07626965708398925, 0.5406973903989952, 0.9968275672923846, 0.9968133435759658, 0.862693839809126, 0.0013110848629318025, 0.07800954934444225, 0.05768773396899931, 0.9983244575752306, 0.9909845632460934, 0.9983263185318587, 0.0036947426584771612, 0.8645697820836558, 0.13301073570517782, 0.9987556786122516, 0.9906798448328354, 0.12829926508636727, 0.048232806423446344, 0.5016211868038419, 0.045338838038039564, 0.03183365223947458, 0.22572953406172888, 0.019293122569378537, 0.2703788862830183, 0.05156062482606396, 0.04401516753444484, 0.4678183520803852, 0.0012575762152698528, 0.16600006041562057, 0.00869673129828947, 0.05218038778973682, 0.8957633237238154, 0.04348365649144735, 0.9982330545326736, 0.9973205740213854, 0.9966850344066522, 0.02793998790656593, 0.9336612625444114, 0.03492498488320741, 0.9956795335843968, 0.9988044028645451, 0.9951244772712221, 0.20388295469589884, 0.7940704551313955, 0.9918350000677844, 0.039350295626759714, 0.9591634559022679, 0.9971953052191724, 0.9944241692731147, 0.004479388149878895, 0.0038941158950279763, 0.6035879637293363, 0.027258811265195835, 0.160956790327823, 0.20379206517313075, 0.9787121835902937, 0.015239463066284849, 0.00507982102209495, 0.043617738007322784, 0.5154014348212222, 0.4326167483991607, 0.007121263348134332, 0.8588418192722735, 0.006531116496367099, 0.13388788817552555, 0.001280917543759066, 0.9978347665883124, 0.9958649538240483, 0.9910185565046041, 0.005371374289997855, 0.0026856871449989273, 0.9956710289090884, 0.991181385309609, 0.0035743192263837983, 0.9829377872555445, 0.010722957679151395, 0.04272026205799588, 0.925605677923244, 0.028480174705330586, 0.08706903543170966, 0.6560835768445727, 0.2538491596389281, 0.0012263244427001359, 0.2649088149153786, 0.005636357764156992, 0.5965145300399484, 0.1324544074576893, 0.9824499151323816, 8.523032143076096e-05, 0.0005113819285845658, 0.01687560364329067, 0.9133363806963752, 0.007901455122029201, 0.07865539416929068, 0.9953647742659962, 0.0044624762105142934, 0.9929009568394304, 0.27241080035754295, 0.18946520409482956, 0.5325980391605808, 0.005238669237645057, 0.9944186336874754, 0.0032181832805419914, 0.05053301712852289, 0.20550093632265976, 0.618748720840358, 0.12464810891702313, 0.9897625122501199, 0.007110781672841286, 0.25456598388771806, 0.0099550943419778, 0.7224554179606747, 0.004266469003704772, 0.008978898793859531, 0.052077613004385286, 0.0071831190350876255, 0.8942983198684094, 0.010774678552631438, 0.026936696381578595, 0.2651950323591303, 0.39353746779399124, 0.3394864421180193, 0.0016100305520502273, 0.36531516501222544, 0.15923123828135105, 0.41760004922401234, 0.048210737390089235, 0.009506342583961257, 0.0917317153400917, 0.8883492432935196, 0.01931194007159825, 0.9939495585937854, 0.9893595839991464, 0.8836106610958161, 0.11401427885107304, 0.9932196627737776, 0.09053666010789142, 0.7902776263654929, 0.007672598314228086, 0.11048541572488445, 0.9900224525109208, 0.9976650872537783, 0.8683799706131395, 0.061933017630982634, 0.009224066455678265, 0.03689626582271306, 0.02240130424950436, 0.9890568971232998, 0.9986348121787066, 0.10786818527687748, 0.8733843388547177, 0.018789941951456078, 0.9945320644938597, 0.9984870734482062, 0.9947096173030465, 0.9967610587968329, 0.9777386295648086, 0.015277166086950135, 0.3074348775960087, 0.05221897246006446, 0.13556183579036601, 0.1933139444051393, 0.11999989035524747, 0.14697392910945295, 0.04426508923767054, 0.05535325971141937, 0.1138877412453341, 0.1068890532358443, 0.03181221822495366, 0.3003073400435626, 0.10116285395535264, 0.2901274302115774, 0.9965738605276614, 0.0031081934886807313, 0.20514077025292826, 0.7133304056522278, 0.07925893396135865, 0.9973953040371965, 0.21379454518782134, 0.7858591302637665, 0.9964240319033401, 0.09525363160523992, 0.8143251643114628, 0.08031188547108464, 0.0074708730670776415, 0.9844139681447226, 0.006981659348544132, 0.006981659348544132, 0.9973526921138499, 0.13643005722465187, 0.013921434410678763, 0.09837813650212993, 0.11879624030445879, 0.6311050266174373, 0.08645288191546352, 0.16055535212871797, 0.1231181666563967, 0.1080661023943294, 0.2705512063515175, 0.05827850521979907, 0.19297518284701679, 0.9750745263281857, 0.02422545407026548, 0.9888681134574271], \"Term\": [\"49\", \"abh\\u00e4ngigkeit\", \"abh\\u00e4ngigkeit\", \"afd\", \"afd\", \"afghanistan\", \"ahrtal\", \"aiwanger\", \"aktie\", \"aktie\", \"aktuell\", \"aktuell\", \"aktuell\", \"aktuell\", \"aktuell\", \"aktuell\", \"aktuell\", \"album\", \"ampel\", \"ampel\", \"ampel\", \"ampelkoalition\", \"ampelkoalition\", \"andrij\", \"angriff\", \"angriff\", \"angriff\", \"angriff\", \"angriff\", \"angriff\", \"anklage\", \"anklagen\", \"anleger\", \"annalena\", \"annalena\", \"arabisch\", \"arbeitsminister\", \"argentinien\", \"argentinien\", \"armee\", \"armee\", \"armee\", \"armee\", \"armee\", \"armenien\", \"aserbaidschan\", \"atomkraft\", \"autor\", \"autor\", \"autor\", \"autor\", \"autor\", \"autor\", \"au\\u00dfenministerin\", \"au\\u00dfenministerin\", \"bachmut\", \"baerbock\", \"baerbock\", \"baerbock\", \"ballon\", \"bayern\", \"bayern\", \"bayern\", \"bayern\", \"bergkarabach\", \"berlin\", \"berlin\", \"berlin\", \"berlin\", \"berlin\", \"berlin\", \"berlin\", \"berliner\", \"berliner\", \"berliner\", \"berliner\", \"berliner\", \"biden\", \"biden\", \"bild\", \"bild\", \"bild\", \"bild\", \"bild\", \"bild\", \"bleiben\", \"bleiben\", \"bleiben\", \"bleiben\", \"bleiben\", \"bleiben\", \"bleiben\", \"bochum\", \"boris\", \"boris\", \"boris\", \"botschafter\", \"botschafter\", \"brand\", \"brand\", \"bremen\", \"brics\", \"britisch\", \"britisch\", \"britisch\", \"britisch\", \"bund\", \"bund\", \"bund\", \"bundesamt\", \"bundesfinanzminister\", \"bundesgesundheitsminister\", \"bundesinnenministerin\", \"bundesinnenministerin\", \"bundesliga\", \"bundesliga\", \"bundesliga\", \"bundespr\\u00e4sident\", \"bundespr\\u00e4sident\", \"bundesregierung\", \"bundesregierung\", \"bundesregierung\", \"bundesregierung\", \"bundesregierung\", \"bundesregierung\", \"bundestag\", \"bundestag\", \"bundestag\", \"bundestag\", \"bundeswirtschaftsminister\", \"b\\u00f6rse\", \"cannabis\", \"cdu\", \"cdu\", \"charles\", \"chef\", \"chef\", \"chef\", \"chef\", \"chef\", \"chef\", \"chef\", \"cherson\", \"cherson\", \"china\", \"chinesisch\", \"christian\", \"christian\", \"christian\", \"christian\", \"christian\", \"corona\", \"corona\", \"covid\", \"covid\", \"csu\", \"csu\", \"dax\", \"debatte\", \"debatte\", \"debatte\", \"debatte\", \"debatte\", \"debatte\", \"debatte\", \"deutsch\", \"deutsch\", \"deutsch\", \"deutsch\", \"deutsch\", \"deutsch\", \"deutsch\", \"deutschland\", \"deutschland\", \"deutschland\", \"deutschland\", \"deutschland\", \"deutschland\", \"deutschland\", \"dfb\", \"dfb\", \"dfb\", \"documenta\", \"donald\", \"draghi\", \"economist\", \"eintracht\", \"elizabeth\", \"elon\", \"elon\", \"em\", \"em\", \"emmanuel\", \"energie\", \"energie\", \"energie\", \"energie\", \"energie\", \"england\", \"england\", \"entlastung\", \"entlastungspaket\", \"entwicklung\", \"entwicklung\", \"entwicklung\", \"entwicklung\", \"entwicklung\", \"erdbeben\", \"ermittler\", \"ermittler\", \"ermittlung\", \"ermittlung\", \"ermittlung\", \"erneuerbar\", \"erster\", \"erster\", \"erster\", \"erster\", \"erster\", \"erster\", \"erster\", \"eu\", \"eu\", \"eu\", \"eu\", \"eu\", \"euro\", \"euro\", \"euro\", \"euro\", \"euro\", \"euro\", \"europa\", \"europa\", \"europa\", \"europa\", \"europa\", \"europa\", \"europa\", \"evg\", \"ex\", \"ex\", \"ex\", \"ex\", \"ex\", \"ex\", \"ex\", \"experte\", \"experte\", \"experte\", \"experte\", \"experte\", \"experte\", \"experte\", \"ezb\", \"faeser\", \"faeser\", \"fall\", \"fall\", \"fall\", \"fall\", \"fall\", \"fall\", \"fall\", \"fbi\", \"fc\", \"fc\", \"fc\", \"fdp\", \"fdp\", \"fed\", \"festnehmen\", \"festnehmen\", \"feuerwehr\", \"finanzminister\", \"finanzminister\", \"finden\", \"finden\", \"finden\", \"finden\", \"finden\", \"finden\", \"finden\", \"firma\", \"firma\", \"firma\", \"firma\", \"firma\", \"flugblatt\", \"flughafen\", \"focus\", \"focus\", \"focus\", \"focus\", \"focus\", \"for\", \"for\", \"for\", \"frankfurt\", \"frankfurt\", \"frankreich\", \"frankreich\", \"frankreich\", \"frankreich\", \"frau\", \"frau\", \"frau\", \"frau\", \"frau\", \"frau\", \"frau\", \"fridays\", \"friedrich\", \"friedrich\", \"future\", \"future\", \"fu\\u00dfball\", \"fu\\u00dfball\", \"fu\\u00dfball\", \"gabor\", \"gas\", \"gas\", \"gas\", \"gas\", \"gas\", \"gasumlage\", \"gazprom\", \"geben\", \"geben\", \"geben\", \"geben\", \"geben\", \"geben\", \"geben\", \"gef\\u00e4ngnis\", \"gegenoffensiv\", \"gegenoffensive\", \"generation\", \"generation\", \"generation\", \"generation\", \"generation\", \"gericht\", \"gericht\", \"gericht\", \"gericht\", \"gesundheitsminister\", \"gewinnen\", \"gewinnen\", \"gewinnen\", \"gewinnen\", \"gewinnen\", \"giffey\", \"google\", \"gro\\u00df\", \"gro\\u00df\", \"gro\\u00df\", \"gro\\u00df\", \"gro\\u00df\", \"gro\\u00df\", \"gro\\u00df\", \"gro\\u00dfbritannien\", \"gro\\u00dfbritannien\", \"gro\\u00dfbritannien\", \"gro\\u00dfbritannien\", \"gro\\u00dfbritannien\", \"grundsteuer\", \"gr\\u00fcne\", \"gr\\u00fcne\", \"gr\\u00fcnen\", \"gr\\u00fcnen\", \"gut\", \"gut\", \"gut\", \"gut\", \"gut\", \"gut\", \"gut\", \"g\\u00f6rlach\", \"habeck\", \"habeck\", \"haft\", \"haftstrafe\", \"handball\", \"hartz\", \"heil\", \"heizung\", \"heizungsgesetz\", \"hersteller\", \"hersteller\", \"hersteller\", \"hersteller\", \"hertha\", \"hertha\", \"heute\", \"heute\", \"heute\", \"heute\", \"heute\", \"heute\", \"heute\", \"hitzewelle\", \"hoch\", \"hoch\", \"hoch\", \"hoch\", \"hoch\", \"hoch\", \"hoch\", \"hubert\", \"hugo\", \"ifo\", \"ii\", \"iii\", \"impfstoff\", \"impfung\", \"infektion\", \"inflation\", \"inflation\", \"inflation\", \"innenministerin\", \"innenministerin\", \"intelligenz\", \"invasion\", \"invasion\", \"invasion\", \"inzidenz\", \"iran\", \"iran\", \"iran\", \"iran\", \"iranisch\", \"iranisch\", \"iranisch\", \"israel\", \"israelisch\", \"iv\", \"jens\", \"jewgeni\", \"jinping\", \"joe\", \"joe\", \"johnson\", \"jong\", \"justizreform\", \"j\\u00e4hriger\", \"kaili\", \"kaili\", \"kanzler\", \"kanzler\", \"kapitol\", \"karl\", \"karl\", \"katar\", \"katar\", \"katholisch\", \"katholisch\", \"ki\", \"kiew\", \"kiew\", \"kiew\", \"kim\", \"kim\", \"kind\", \"kind\", \"kind\", \"kind\", \"kind\", \"kind\", \"kind\", \"kindergrundsicherung\", \"kirche\", \"kirche\", \"kirche\", \"kirche\", \"kirche\", \"klimawandel\", \"klimawandel\", \"klimawandel\", \"klimawandel\", \"klimawandel\", \"klingbeil\", \"koalition\", \"koalition\", \"koalition\", \"konflikt\", \"konflikt\", \"konflikt\", \"konflikt\", \"konflikt\", \"korrespondent\", \"korrespondent\", \"korrespondent\", \"korrespondent\", \"korrespondent\", \"kosovo\", \"kreml\", \"kreml\", \"kreml\", \"krieg\", \"krieg\", \"krieg\", \"krieg\", \"kriegsverlauf\", \"kriegsverlauf\", \"krim\", \"kritik\", \"kritik\", \"kritik\", \"kritik\", \"kritik\", \"kritik\", \"kritik\", \"kritisieren\", \"kritisieren\", \"kritisieren\", \"kritisieren\", \"kritisieren\", \"kritisieren\", \"kritisieren\", \"k\\u00f6nig\", \"k\\u00f6nig\", \"k\\u00fcnstliche\", \"lage\", \"lage\", \"lage\", \"lage\", \"lage\", \"lage\", \"lage\", \"land\", \"land\", \"land\", \"land\", \"land\", \"land\", \"land\", \"landtagswahl\", \"lanka\", \"lanz\", \"laufzeit\", \"lauterbach\", \"league\", \"league\", \"leben\", \"leben\", \"leben\", \"leben\", \"leben\", \"leben\", \"leben\", \"leitzins\", \"lemke\", \"leopard\", \"leopard\", \"leopard\", \"letzten\", \"letzten\", \"libyen\", \"liefern\", \"liefern\", \"liefern\", \"liefern\", \"liefern\", \"liefern\", \"lieferung\", \"lieferung\", \"lieferung\", \"lindner\", \"linke\", \"linke\", \"linke\", \"litauen\", \"liveblog\", \"liveblog\", \"liz\", \"lkw\", \"lng\", \"lufthansa\", \"luhansk\", \"l\\u00fctzerath\", \"macron\", \"macron\", \"mainz\", \"mann\", \"mann\", \"mann\", \"mann\", \"mann\", \"mann\", \"mann\", \"markt\", \"markt\", \"markt\", \"marktbericht\", \"marokko\", \"maske\", \"maskenpflicht\", \"ma\\u00dfnahm\", \"melnyk\", \"meloni\", \"mensch\", \"mensch\", \"mensch\", \"mensch\", \"mensch\", \"mensch\", \"mensch\", \"merkel\", \"merz\", \"migrant\", \"migrant\", \"migrant\", \"migrant\", \"milit\\u00e4rexperte\", \"milliarde\", \"milliarde\", \"milliarde\", \"milliarde\", \"milliarde\", \"million\", \"million\", \"million\", \"million\", \"million\", \"million\", \"million\", \"mindestens\", \"mindestens\", \"mindestens\", \"mindestens\", \"mindestens\", \"mindestlohn\", \"mittelmeer\", \"moldau\", \"moldau\", \"mord\", \"mord\", \"moskau\", \"moskau\", \"moskau\", \"moskau\", \"musik\", \"musik\", \"musik\", \"musk\", \"musk\", \"mutma\\u00dflich\", \"mutma\\u00dflich\", \"mutma\\u00dflich\", \"mutma\\u00dflich\", \"mutma\\u00dflich\", \"myanmar\", \"nahost\", \"nato\", \"nato\", \"nato\", \"nato\", \"nato\", \"nawalny\", \"netanjahu\", \"newsblog\", \"nord\", \"nordirland\", \"nordkorea\", \"nordkorea\", \"notenbank\", \"notfallplan\", \"odessa\", \"odessa\", \"omikron\", \"online\", \"online\", \"online\", \"online\", \"online\", \"orban\", \"pal\\u00e4stinenser\", \"pandemie\", \"pandemie\", \"pandemie\", \"partei\", \"partei\", \"partei\", \"partei\", \"partei\", \"partei\", \"patient\", \"paus\", \"peking\", \"pelosi\", \"pipeline\", \"plan\", \"plan\", \"plan\", \"plan\", \"plan\", \"plan\", \"plan\", \"polen\", \"polen\", \"polen\", \"polizei\", \"polizei\", \"polizist\", \"polizist\", \"preis\", \"preis\", \"preis\", \"preis\", \"preis\", \"preis\", \"prigoschin\", \"prigoschin\", \"promi\", \"protest\", \"protest\", \"protest\", \"protest\", \"protest\", \"prozent\", \"prozent\", \"prozent\", \"prozent\", \"prozent\", \"prozent\", \"prozess\", \"pr\\u00e4sident\", \"pr\\u00e4sident\", \"pr\\u00e4sident\", \"pr\\u00e4sident\", \"pr\\u00e4sident\", \"pr\\u00e4sident\", \"putin\", \"putin\", \"putin\", \"putin\", \"queen\", \"rbb\", \"regierung\", \"regierung\", \"regierung\", \"regierung\", \"regierung\", \"regierung\", \"regierung\", \"reitz\", \"reitz\", \"risiko\", \"risiko\", \"risiko\", \"risiko\", \"risiko\", \"risiko\", \"risiko\", \"rki\", \"robert\", \"robert\", \"royal\", \"russe\", \"russe\", \"russe\", \"russe\", \"russisch\", \"russisch\", \"russisch\", \"russisch\", \"russisch\", \"russland\", \"russland\", \"russland\", \"russland\", \"russland\", \"russlands\", \"russlands\", \"russlands\", \"r\\u00e4umung\", \"sagen\", \"sagen\", \"sagen\", \"sagen\", \"sagen\", \"sagen\", \"sagen\", \"saporischschja\", \"saporischschja\", \"schalke\", \"schlesinger\", \"scholz\", \"scholz\", \"schuldenbremse\", \"schuldig\", \"sch\\u00f6nbohm\", \"sehen\", \"sehen\", \"sehen\", \"sehen\", \"sehen\", \"sehen\", \"sehen\", \"selenski\", \"selenskyj\", \"serbien\", \"serbien\", \"sinken\", \"sinken\", \"sinken\", \"sinken\", \"sinken\", \"soldat\", \"soldat\", \"soldat\", \"soldat\", \"soldat\", \"spanien\", \"spanien\", \"spanien\", \"spanien\", \"spd\", \"spd\", \"spd\", \"spd\", \"springer\", \"sri\", \"staatsanwaltschaft\", \"staatsanwaltschaft\", \"staatsanwaltschaft\", \"staatssekret\\u00e4r\", \"stadt\", \"stadt\", \"stadt\", \"stadt\", \"stadt\", \"stadt\", \"stark\", \"stark\", \"stark\", \"stark\", \"stark\", \"stark\", \"stark\", \"statistisch\", \"stehen\", \"stehen\", \"stehen\", \"stehen\", \"stehen\", \"stehen\", \"stehen\", \"steigen\", \"steigen\", \"steigen\", \"steigen\", \"steigen\", \"steigen\", \"steingart\", \"steinmeier\", \"sterben\", \"sterben\", \"sterben\", \"sterben\", \"stichwahl\", \"stoltenberg\", \"stream\", \"street\", \"street\", \"street\", \"streik\", \"streiken\", \"streit\", \"streit\", \"streit\", \"streit\", \"streit\", \"streit\", \"streit\", \"studie\", \"studie\", \"studie\", \"studie\", \"studie\", \"studie\", \"sturm\", \"sturm\", \"sturm\", \"sturm\", \"sudan\", \"sunak\", \"syrien\", \"s\\u00f6der\", \"s\\u00f6der\", \"s\\u00f6der\", \"s\\u00f6ldner\", \"taiwan\", \"taliban\", \"team\", \"team\", \"terminal\", \"the\", \"the\", \"ti\", \"ticket\", \"ticket\", \"tod\", \"tod\", \"tod\", \"tod\", \"tod\", \"tot\", \"tot\", \"tot\", \"tote\", \"tote\", \"tote\", \"tote\", \"trainer\", \"trainer\", \"trainer\", \"trump\", \"trump\", \"trumps\", \"truppe\", \"truppe\", \"truppe\", \"truss\", \"tunesien\", \"t\\u00e4ter\", \"t\\u00e4ter\", \"t\\u00e4ter\", \"t\\u00f6dlich\", \"t\\u00f6dlich\", \"t\\u00f6dlich\", \"t\\u00f6ten\", \"t\\u00f6ten\", \"t\\u00f6ten\", \"t\\u00f6ten\", \"t\\u00fcrkei\", \"t\\u00fcrkei\", \"t\\u00fcrkei\", \"t\\u00fcrkei\", \"ukraine\", \"ukraine\", \"ukraine\", \"ukraine\", \"ukrainisch\", \"ukrainisch\", \"ukrainisch\", \"ulf\", \"ulrich\", \"ulrich\", \"un\", \"un\", \"un\", \"un\", \"unfall\", \"unfall\", \"union\", \"union\", \"union\", \"union\", \"uniper\", \"unternehmen\", \"unternehmen\", \"unternehmen\", \"unternehmen\", \"unternehmen\", \"urteil\", \"urteil\", \"urteil\", \"urteil\", \"urteil\", \"urteil\", \"us\", \"us\", \"us\", \"us\", \"usa\", \"usa\", \"usa\", \"usa\", \"usa\", \"verbrenner\", \"verbrenner\", \"verbrenner\", \"verdi\", \"verd\\u00e4chtige\", \"verletzen\", \"verletzen\", \"versteher\", \"verurteilen\", \"verurteilen\", \"verurteilen\", \"verurteilen\", \"vfl\", \"vogg\", \"waffe\", \"waffe\", \"waffe\", \"waffe\", \"waffe\", \"waffenruhe\", \"wagner\", \"wahl\", \"wahl\", \"wahl\", \"wahlrechtsreform\", \"waldbrand\", \"wall\", \"warnstreik\", \"wasserstoff\", \"wasserstoff\", \"weit\", \"weit\", \"weit\", \"weit\", \"weit\", \"weit\", \"weit\", \"welt\", \"welt\", \"welt\", \"welt\", \"welt\", \"welt\", \"welt\", \"wetter\", \"wirtschaft\", \"wirtschaft\", \"wirtschaft\", \"wirtschaft\", \"wirtschaftsminister\", \"wm\", \"wm\", \"wolodymyr\", \"w\\u00e4hlen\", \"w\\u00e4hlen\", \"w\\u00e4hlen\", \"w\\u00e4hlen\", \"w\\u00e4rmepumpe\", \"w\\u00e4rmepumpe\", \"w\\u00e4rmepumpe\", \"xi\", \"zahl\", \"zahl\", \"zahl\", \"zahl\", \"zahl\", \"zeigen\", \"zeigen\", \"zeigen\", \"zeigen\", \"zeigen\", \"zeigen\", \"zeigen\", \"zins\", \"zins\", \"zugungl\\u00fcck\"]}, \"R\": 30, \"lambda.step\": 0.01, \"plot.opts\": {\"xlab\": \"PC1\", \"ylab\": \"PC2\"}, \"topic.order\": [4, 5, 7, 3, 2, 6, 1]};\n",
       "\n",
       "function LDAvis_load_lib(url, callback){\n",
       "  var s = document.createElement('script');\n",
       "  s.src = url;\n",
       "  s.async = true;\n",
       "  s.onreadystatechange = s.onload = callback;\n",
       "  s.onerror = function(){console.warn(\"failed to load library \" + url);};\n",
       "  document.getElementsByTagName(\"head\")[0].appendChild(s);\n",
       "}\n",
       "\n",
       "if(typeof(LDAvis) !== \"undefined\"){\n",
       "   // already loaded: just create the visualization\n",
       "   !function(LDAvis){\n",
       "       new LDAvis(\"#\" + \"ldavis_el1787217864976537122744309578\", ldavis_el1787217864976537122744309578_data);\n",
       "   }(LDAvis);\n",
       "}else if(typeof define === \"function\" && define.amd){\n",
       "   // require.js is available: use it to load d3/LDAvis\n",
       "   require.config({paths: {d3: \"https://d3js.org/d3.v5\"}});\n",
       "   require([\"d3\"], function(d3){\n",
       "      window.d3 = d3;\n",
       "      LDAvis_load_lib(\"https://cdn.jsdelivr.net/gh/bmabey/pyLDAvis@3.4.0/pyLDAvis/js/ldavis.v3.0.0.js\", function(){\n",
       "        new LDAvis(\"#\" + \"ldavis_el1787217864976537122744309578\", ldavis_el1787217864976537122744309578_data);\n",
       "      });\n",
       "    });\n",
       "}else{\n",
       "    // require.js not available: dynamically load d3 & LDAvis\n",
       "    LDAvis_load_lib(\"https://d3js.org/d3.v5.js\", function(){\n",
       "         LDAvis_load_lib(\"https://cdn.jsdelivr.net/gh/bmabey/pyLDAvis@3.4.0/pyLDAvis/js/ldavis.v3.0.0.js\", function(){\n",
       "                 new LDAvis(\"#\" + \"ldavis_el1787217864976537122744309578\", ldavis_el1787217864976537122744309578_data);\n",
       "            })\n",
       "         });\n",
       "}\n",
       "</script>"
      ],
      "text/plain": [
       "PreparedData(topic_coordinates=               x          y  topics  cluster       Freq\n",
       "topic                                                  \n",
       "3      -0.395966  71.688202       1        1  18.306135\n",
       "4     -23.083799  20.324343       2        1  15.556034\n",
       "6      32.644588  26.325420       3        1  14.956483\n",
       "2     -78.898643  14.251719       4        1  13.667792\n",
       "1      10.016418 -24.915483       5        1  13.435952\n",
       "5     -56.189262  65.494522       6        1  12.311534\n",
       "0     -45.664780 -30.938454       7        1  11.766070, topic_info=           Term          Freq         Total Category  logprob  loglift\n",
       "25499   ukraine  11732.000000  11732.000000  Default  30.0000  30.0000\n",
       "14352     krieg   5907.000000   5907.000000  Default  29.0000  29.0000\n",
       "21153  russland   5957.000000   5957.000000  Default  28.0000  28.0000\n",
       "21147  russisch   5618.000000   5618.000000  Default  27.0000  27.0000\n",
       "4946      china   2856.000000   2856.000000  Default  26.0000  26.0000\n",
       "...         ...           ...           ...      ...      ...      ...\n",
       "5527    deutsch    533.250306   4579.807352   Topic7  -5.5511  -0.0105\n",
       "3344     berlin    423.238865   2780.322471   Topic7  -5.7822   0.2576\n",
       "13441      kind    367.387570   1407.838314   Topic7  -5.9237   0.7966\n",
       "11478     heute    365.343249   1815.997621   Topic7  -5.9293   0.5364\n",
       "14878      land    366.736756   3820.766352   Topic7  -5.9255  -0.2036\n",
       "\n",
       "[496 rows x 6 columns], token_table=       Topic      Freq          Term\n",
       "term                                \n",
       "83         5  0.993150            49\n",
       "301        1  0.013207  abhängigkeit\n",
       "301        5  0.983920  abhängigkeit\n",
       "627        2  0.976838           afd\n",
       "627        3  0.022527           afd\n",
       "...      ...       ...           ...\n",
       "29061      6  0.058279        zeigen\n",
       "29061      7  0.192975        zeigen\n",
       "29214      5  0.975075          zins\n",
       "29214      7  0.024225          zins\n",
       "29330      4  0.988868    zugunglück\n",
       "\n",
       "[1057 rows x 3 columns], R=30, lambda_step=0.01, plot_opts={'xlab': 'PC1', 'ylab': 'PC2'}, topic_order=[4, 5, 7, 3, 2, 6, 1])"
      ]
     },
     "execution_count": 29,
     "metadata": {},
     "output_type": "execute_result"
    }
   ],
   "source": [
    "pyLDAvis.enable_notebook()\n",
    "panel = pyLDAvis.lda_model.prepare(lda, dtm, cv, mds='tsne')\n",
    "panel"
   ]
  },
  {
   "cell_type": "markdown",
   "id": "1c77ce17",
   "metadata": {},
   "source": [
    "## Save train set with topics and dump countvectorizer and model"
   ]
  },
  {
   "cell_type": "code",
   "execution_count": 30,
   "id": "78051ef9",
   "metadata": {},
   "outputs": [],
   "source": [
    "#Save result to csv\n",
    "train.to_csv('train_lda_combined.csv')"
   ]
  },
  {
   "cell_type": "code",
   "execution_count": 31,
   "id": "c49fa248",
   "metadata": {},
   "outputs": [
    {
     "data": {
      "text/plain": [
       "['models/cv_combined.jl']"
      ]
     },
     "execution_count": 31,
     "metadata": {},
     "output_type": "execute_result"
    }
   ],
   "source": [
    "# Dump countvectorizer\n",
    "joblib.dump(cv, 'models/cv_combined.jl')"
   ]
  },
  {
   "cell_type": "code",
   "execution_count": 32,
   "id": "205360e6",
   "metadata": {},
   "outputs": [
    {
     "data": {
      "text/plain": [
       "['models/lda_model_7_topics_combined.jl']"
      ]
     },
     "execution_count": 32,
     "metadata": {},
     "output_type": "execute_result"
    }
   ],
   "source": [
    "# Dump LDA model\n",
    "joblib.dump(lda, 'models/lda_model_7_topics_combined.jl')"
   ]
  }
 ],
 "metadata": {
  "kernelspec": {
   "display_name": "nlp",
   "language": "python",
   "name": "nlp"
  },
  "language_info": {
   "codemirror_mode": {
    "name": "ipython",
    "version": 3
   },
   "file_extension": ".py",
   "mimetype": "text/x-python",
   "name": "python",
   "nbconvert_exporter": "python",
   "pygments_lexer": "ipython3",
   "version": "3.11.5"
  }
 },
 "nbformat": 4,
 "nbformat_minor": 5
}
