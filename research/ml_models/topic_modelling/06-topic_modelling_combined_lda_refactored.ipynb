{
 "cells": [
  {
   "cell_type": "markdown",
   "id": "d23815fa",
   "metadata": {},
   "source": [
    "# Topic modelling of news headlines for prediction of news category¶"
   ]
  },
  {
   "cell_type": "markdown",
   "id": "75523a79",
   "metadata": {},
   "source": [
    "Now we wan't to perform topic modelling with unsupervised learning and train a modell for prediction of news category labels without using the provided labels in the corpus.\n",
    "We use the LDA classifier on the combined feature 'title_description_text' feature and assume 7 topics. "
   ]
  },
  {
   "cell_type": "code",
   "execution_count": 1,
   "id": "a2821ff5",
   "metadata": {},
   "outputs": [],
   "source": [
    "import pandas as pd\n",
    "import numpy as np\n",
    "import matplotlib.pyplot as plt\n",
    "import seaborn as sns\n",
    "\n",
    "import joblib\n",
    "\n",
    "import pyLDAvis.lda_model"
   ]
  },
  {
   "cell_type": "markdown",
   "id": "6594f2c8",
   "metadata": {},
   "source": [
    "## Load data"
   ]
  },
  {
   "cell_type": "code",
   "execution_count": 2,
   "id": "d737f3a4",
   "metadata": {},
   "outputs": [],
   "source": [
    "train = pd.read_csv('../../data/01_train_nosplit_preprocessed.csv')"
   ]
  },
  {
   "cell_type": "code",
   "execution_count": 3,
   "id": "72fc6b38",
   "metadata": {},
   "outputs": [
    {
     "data": {
      "text/html": [
       "<div>\n",
       "<style scoped>\n",
       "    .dataframe tbody tr th:only-of-type {\n",
       "        vertical-align: middle;\n",
       "    }\n",
       "\n",
       "    .dataframe tbody tr th {\n",
       "        vertical-align: top;\n",
       "    }\n",
       "\n",
       "    .dataframe thead th {\n",
       "        text-align: right;\n",
       "    }\n",
       "</style>\n",
       "<table border=\"1\" class=\"dataframe\">\n",
       "  <thead>\n",
       "    <tr style=\"text-align: right;\">\n",
       "      <th></th>\n",
       "      <th>date</th>\n",
       "      <th>title</th>\n",
       "      <th>description</th>\n",
       "      <th>category</th>\n",
       "      <th>text</th>\n",
       "      <th>source</th>\n",
       "      <th>title_description_text</th>\n",
       "    </tr>\n",
       "  </thead>\n",
       "  <tbody>\n",
       "    <tr>\n",
       "      <th>0</th>\n",
       "      <td>2022-06-01 00:13:42</td>\n",
       "      <td>Preise: Grüne halten Senkung der Spritsteuer f...</td>\n",
       "      <td>Heute tritt die Steuersenkung auf Kraftstoffe ...</td>\n",
       "      <td>Other</td>\n",
       "      <td>NaN</td>\n",
       "      <td>stern</td>\n",
       "      <td>Preise: Grüne halten Senkung der Spritsteuer f...</td>\n",
       "    </tr>\n",
       "    <tr>\n",
       "      <th>1</th>\n",
       "      <td>2022-06-01 01:55:03</td>\n",
       "      <td>Biden warnt Putin: USA liefern moderne Raketen...</td>\n",
       "      <td>Die USA rüsten die Ukraine mit fortschrittlich...</td>\n",
       "      <td>Other</td>\n",
       "      <td>NaN</td>\n",
       "      <td>stern</td>\n",
       "      <td>Biden warnt Putin: USA liefern moderne Raketen...</td>\n",
       "    </tr>\n",
       "    <tr>\n",
       "      <th>2</th>\n",
       "      <td>2022-06-01 02:04:08</td>\n",
       "      <td>Soziale Medien: FDP-Politiker Kuhle: Internet-...</td>\n",
       "      <td>Eine «ZDF Magazin Royale»-Recherche beschäftig...</td>\n",
       "      <td>Other</td>\n",
       "      <td>NaN</td>\n",
       "      <td>stern</td>\n",
       "      <td>Soziale Medien: FDP-Politiker Kuhle: Internet-...</td>\n",
       "    </tr>\n",
       "    <tr>\n",
       "      <th>3</th>\n",
       "      <td>2022-06-01 02:26:58</td>\n",
       "      <td>Liveblog: ++ Zwei von drei ukrainischen Kinder...</td>\n",
       "      <td>Rund zwei von drei Mädchen und Jungen in der U...</td>\n",
       "      <td>Missing</td>\n",
       "      <td>NaN</td>\n",
       "      <td>Tagesschau</td>\n",
       "      <td>Liveblog: ++ Zwei von drei ukrainischen Kinder...</td>\n",
       "    </tr>\n",
       "    <tr>\n",
       "      <th>4</th>\n",
       "      <td>2022-06-01 02:31:43</td>\n",
       "      <td>Finanzen: Dänemark stimmt über EU-Verteidigung...</td>\n",
       "      <td>Vorbehalt verteidigen oder Verteidigung ohne V...</td>\n",
       "      <td>Other</td>\n",
       "      <td>NaN</td>\n",
       "      <td>stern</td>\n",
       "      <td>Finanzen: Dänemark stimmt über EU-Verteidigung...</td>\n",
       "    </tr>\n",
       "  </tbody>\n",
       "</table>\n",
       "</div>"
      ],
      "text/plain": [
       "                  date                                              title  \\\n",
       "0  2022-06-01 00:13:42  Preise: Grüne halten Senkung der Spritsteuer f...   \n",
       "1  2022-06-01 01:55:03  Biden warnt Putin: USA liefern moderne Raketen...   \n",
       "2  2022-06-01 02:04:08  Soziale Medien: FDP-Politiker Kuhle: Internet-...   \n",
       "3  2022-06-01 02:26:58  Liveblog: ++ Zwei von drei ukrainischen Kinder...   \n",
       "4  2022-06-01 02:31:43  Finanzen: Dänemark stimmt über EU-Verteidigung...   \n",
       "\n",
       "                                         description category  text  \\\n",
       "0  Heute tritt die Steuersenkung auf Kraftstoffe ...    Other   NaN   \n",
       "1  Die USA rüsten die Ukraine mit fortschrittlich...    Other   NaN   \n",
       "2  Eine «ZDF Magazin Royale»-Recherche beschäftig...    Other   NaN   \n",
       "3  Rund zwei von drei Mädchen und Jungen in der U...  Missing   NaN   \n",
       "4  Vorbehalt verteidigen oder Verteidigung ohne V...    Other   NaN   \n",
       "\n",
       "       source                             title_description_text  \n",
       "0       stern  Preise: Grüne halten Senkung der Spritsteuer f...  \n",
       "1       stern  Biden warnt Putin: USA liefern moderne Raketen...  \n",
       "2       stern  Soziale Medien: FDP-Politiker Kuhle: Internet-...  \n",
       "3  Tagesschau  Liveblog: ++ Zwei von drei ukrainischen Kinder...  \n",
       "4       stern  Finanzen: Dänemark stimmt über EU-Verteidigung...  "
      ]
     },
     "execution_count": 3,
     "metadata": {},
     "output_type": "execute_result"
    }
   ],
   "source": [
    "train.head()"
   ]
  },
  {
   "cell_type": "markdown",
   "id": "46b4f629",
   "metadata": {},
   "source": [
    "## Load German stopwords"
   ]
  },
  {
   "cell_type": "code",
   "execution_count": 4,
   "id": "da144b59",
   "metadata": {},
   "outputs": [],
   "source": [
    "stop_words = pd.read_csv('german_stopwords.txt', header=None)[0].values.tolist()"
   ]
  },
  {
   "cell_type": "code",
   "execution_count": 5,
   "id": "bd74c6d3",
   "metadata": {},
   "outputs": [
    {
     "name": "stdout",
     "output_type": "stream",
     "text": [
      "['ab', 'aber', 'alle', 'allein', 'allem', 'allen', 'aller', 'allerdings', 'allerlei', 'alles', 'allmählich', 'allzu', 'als', 'alsbald', 'also', 'am', 'an', 'and', 'ander', 'andere', 'anderem', 'anderen', 'anderer', 'andererseits', 'anderes', 'anderm', 'andern', 'andernfalls', 'anders', 'anstatt', 'auch', 'auf', 'aus', 'ausgenommen', 'ausser', 'ausserdem', 'außer', 'außerdem', 'außerhalb', 'bald', 'bei', 'beide', 'beiden', 'beiderlei', 'beides', 'beim', 'beinahe', 'bereits', 'besonders', 'besser', 'beträchtlich', 'bevor', 'bezüglich', 'bin', 'bis', 'bisher', 'bislang', 'bist', 'bloß', 'bsp.', 'bzw', 'ca', 'ca.', 'content', 'da', 'dabei', 'dadurch', 'dafür', 'dagegen', 'daher', 'dahin', 'damals', 'damit', 'danach', 'daneben', 'dann', 'daran', 'darauf', 'daraus', 'darin', 'darum', 'darunter', 'darüber', 'darüberhinaus', 'das', 'dass', 'dasselbe', 'davon', 'davor', 'dazu', 'daß', 'dein', 'deine', 'deinem', 'deinen', 'deiner', 'deines', 'dem', 'demnach', 'demselben', 'den', 'denen', 'denn', 'dennoch', 'denselben', 'der', 'derart', 'derartig', 'derem', 'deren', 'derer', 'derjenige', 'derjenigen', 'derselbe', 'derselben', 'derzeit', 'des', 'deshalb', 'desselben', 'dessen', 'desto', 'deswegen', 'dich', 'die', 'diejenige', 'dies', 'diese', 'dieselbe', 'dieselben', 'diesem', 'diesen', 'dieser', 'dieses', 'diesseits', 'dir', 'direkt', 'direkte', 'direkten', 'direkter', 'doch', 'dort', 'dorther', 'dorthin', 'drauf', 'drin', 'drunter', 'drüber', 'du', 'dunklen', 'durch', 'durchaus', 'eben', 'ebenfalls', 'ebenso', 'eher', 'eigenen', 'eigenes', 'eigentlich', 'ein', 'eine', 'einem', 'einen', 'einer', 'einerseits', 'eines', 'einfach', 'einführen', 'einführte', 'einführten', 'eingesetzt', 'einig', 'einige', 'einigem', 'einigen', 'einiger', 'einigermaßen', 'einiges', 'einmal', 'eins', 'einseitig', 'einseitige', 'einseitigen', 'einseitiger', 'einst', 'einstmals', 'einzig', 'entsprechend', 'entweder', 'er', 'erst', 'es', 'etc', 'etliche', 'etwa', 'etwas', 'euch', 'euer', 'eure', 'eurem', 'euren', 'eurer', 'eures', 'falls', 'fast', 'ferner', 'folgende', 'folgenden', 'folgender', 'folgendes', 'folglich', 'fuer', 'für', 'gab', 'ganze', 'ganzem', 'ganzen', 'ganzer', 'ganzes', 'gar', 'gegen', 'gemäss', 'ggf', 'gleich', 'gleichwohl', 'gleichzeitig', 'glücklicherweise', 'gänzlich', 'hab', 'habe', 'haben', 'haette', 'hast', 'hat', 'hatte', 'hatten', 'hattest', 'hattet', 'heraus', 'herein', 'hier', 'hier', 'hinter', 'hiermit', 'hiesige', 'hin', 'hinein', 'hinten', 'hinter', 'hinterher', 'http', 'hätt', 'hätte', 'hätten', 'höchstens', 'ich', 'igitt', 'ihm', 'ihn', 'ihnen', 'ihr', 'ihre', 'ihrem', 'ihren', 'ihrer', 'ihres', 'im', 'immer', 'immerhin', 'in', 'indem', 'indessen', 'infolge', 'innen', 'innerhalb', 'ins', 'insofern', 'inzwischen', 'irgend', 'irgendeine', 'irgendwas', 'irgendwen', 'irgendwer', 'irgendwie', 'irgendwo', 'ist', 'ja', 'je', 'jed', 'jede', 'jedem', 'jeden', 'jedenfalls', 'jeder', 'jederlei', 'jedes', 'jedoch', 'jemand', 'jene', 'jenem', 'jenen', 'jener', 'jenes', 'jenseits', 'jetzt', 'jährig', 'jährige', 'jährigen', 'jähriges', 'kam', 'kann', 'kannst', 'kaum', 'kein', 'keine', 'keinem', 'keinen', 'keiner', 'keinerlei', 'keines', 'keineswegs', 'klar', 'klare', 'klaren', 'klares', 'klein', 'kleinen', 'kleiner', 'kleines', 'koennen', 'koennt', 'koennte', 'koennten', 'komme', 'kommen', 'kommt', 'konkret', 'konkrete', 'konkreten', 'konkreter', 'konkretes', 'können', 'könnt', 'künftig', 'leider', 'machen', 'man', 'manche', 'manchem', 'manchen', 'mancher', 'mancherorts', 'manches', 'manchmal', 'mehr', 'mehrere', 'mein', 'meine', 'meinem', 'meinen', 'meiner', 'meines', 'mich', 'mir', 'mit', 'mithin', 'muessen', 'muesst', 'muesste', 'muss', 'musst', 'musste', 'mussten', 'muß', 'mußt', 'müssen', 'müsste', 'müssten', 'müßt', 'müßte', 'nach', 'nachdem', 'nachher', 'nachhinein', 'nahm', 'natürlich', 'neben', 'nebenan', 'nehmen', 'nein', 'nicht', 'nichts', 'nie', 'niemals', 'niemand', 'nirgends', 'nirgendwo', 'noch', 'nun', 'nur', 'nächste', 'nämlich', 'nötigenfalls', 'ob', 'oben', 'oberhalb', 'obgleich', 'obschon', 'obwohl', 'oder', 'oft', 'per', 'plötzlich', 'schließlich', 'schon', 'sehr', 'sehrwohl', 'seid', 'sein', 'seine', 'seinem', 'seinen', 'seiner', 'seines', 'seit', 'seitdem', 'seither', 'selber', 'selbst', 'sich', 'sicher', 'sicherlich', 'sie', 'sind', 'so', 'sobald', 'sodass', 'sodaß', 'soeben', 'sofern', 'sofort', 'sogar', 'solange', 'solch', 'solche', 'solchem', 'solchen', 'solcher', 'solches', 'soll', 'sollen', 'sollst', 'sollt', 'sollte', 'sollten', 'solltest', 'somit', 'sondern', 'sonst', 'sonstwo', 'sooft', 'soviel', 'soweit', 'sowie', 'sowohl', 'tatsächlich', 'tatsächlichen', 'tatsächlicher', 'tatsächliches', 'trotzdem', 'ueber', 'um', 'umso', 'unbedingt', 'und', 'unmöglich', 'unmögliche', 'unmöglichen', 'unmöglicher', 'uns', 'unser', 'unser', 'unsere', 'unsere', 'unserem', 'unseren', 'unserer', 'unseres', 'unter', 'usw', 'viel', 'viele', 'vielen', 'vieler', 'vieles', 'vielleicht', 'vielmals', 'vom', 'von', 'vor', 'voran', 'vorher', 'vorüber', 'völlig', 'wann', 'war', 'waren', 'warst', 'warum', 'was', 'weder', 'weil', 'weiter', 'weitere', 'weiterem', 'weiteren', 'weiterer', 'weiteres', 'weiterhin', 'weiß', 'welche', 'welchem', 'welchen', 'welcher', 'welches', 'wem', 'wen', 'wenig', 'wenige', 'weniger', 'wenigstens', 'wenn', 'wenngleich', 'wer', 'werde', 'werden', 'werdet', 'weshalb', 'wessen', 'wichtig', 'wie', 'wieder', 'wieso', 'wieviel', 'wiewohl', 'will', 'willst', 'wir', 'wird', 'wirklich', 'wirst', 'wo', 'wodurch', 'wogegen', 'woher', 'wohin', 'wohingegen', 'wohl', 'wohlweislich', 'womit', 'woraufhin', 'woraus', 'worin', 'wurde', 'wurden', 'während', 'währenddessen', 'wär', 'wäre', 'wären', 'würde', 'würden', 'z.B.', 'zB', 'zahlreich', 'zeitweise', 'zu', 'zudem', 'zuerst', 'zufolge', 'zugleich', 'zuletzt', 'zum', 'zumal', 'zur', 'zurück', 'zusammen', 'zuviel', 'zwar', 'zwischen', 'ähnlich', 'übel', 'über', 'überall', 'überallhin', 'überdies', 'übermorgen', 'übrig', 'übrigens']\n"
     ]
    }
   ],
   "source": [
    "print(stop_words)"
   ]
  },
  {
   "cell_type": "markdown",
   "id": "a12c363c",
   "metadata": {},
   "source": [
    "## Extract features from 'title_description_text' "
   ]
  },
  {
   "cell_type": "code",
   "execution_count": 6,
   "id": "cd42c0db",
   "metadata": {},
   "outputs": [],
   "source": [
    "from sklearn.feature_extraction.text import CountVectorizer"
   ]
  },
  {
   "cell_type": "code",
   "execution_count": 7,
   "id": "38ab615c",
   "metadata": {},
   "outputs": [],
   "source": [
    "cv = CountVectorizer(max_df=0.95, min_df=3, stop_words=stop_words)"
   ]
  },
  {
   "cell_type": "code",
   "execution_count": 8,
   "id": "a628f0d2",
   "metadata": {},
   "outputs": [
    {
     "name": "stderr",
     "output_type": "stream",
     "text": [
      "C:\\Users\\manuela.rink\\anaconda3\\envs\\nlp\\Lib\\site-packages\\sklearn\\feature_extraction\\text.py:409: UserWarning: Your stop_words may be inconsistent with your preprocessing. Tokenizing the stop words generated tokens ['bsp', 'zb'] not in stop_words.\n",
      "  warnings.warn(\n"
     ]
    }
   ],
   "source": [
    "# create Document-Term-Matrix\n",
    "dtm = cv.fit_transform(train['title_description_text'])"
   ]
  },
  {
   "cell_type": "code",
   "execution_count": 9,
   "id": "faba69b8",
   "metadata": {},
   "outputs": [
    {
     "data": {
      "text/plain": [
       "<67513x37203 sparse matrix of type '<class 'numpy.int64'>'\n",
       "\twith 1119124 stored elements in Compressed Sparse Row format>"
      ]
     },
     "execution_count": 9,
     "metadata": {},
     "output_type": "execute_result"
    }
   ],
   "source": [
    "dtm"
   ]
  },
  {
   "cell_type": "code",
   "execution_count": 10,
   "id": "3f48b861",
   "metadata": {},
   "outputs": [],
   "source": [
    "from sklearn.decomposition import LatentDirichletAllocation"
   ]
  },
  {
   "cell_type": "code",
   "execution_count": 11,
   "id": "fdf60b9b",
   "metadata": {},
   "outputs": [
    {
     "data": {
      "text/html": [
       "<style>#sk-container-id-1 {color: black;background-color: white;}#sk-container-id-1 pre{padding: 0;}#sk-container-id-1 div.sk-toggleable {background-color: white;}#sk-container-id-1 label.sk-toggleable__label {cursor: pointer;display: block;width: 100%;margin-bottom: 0;padding: 0.3em;box-sizing: border-box;text-align: center;}#sk-container-id-1 label.sk-toggleable__label-arrow:before {content: \"▸\";float: left;margin-right: 0.25em;color: #696969;}#sk-container-id-1 label.sk-toggleable__label-arrow:hover:before {color: black;}#sk-container-id-1 div.sk-estimator:hover label.sk-toggleable__label-arrow:before {color: black;}#sk-container-id-1 div.sk-toggleable__content {max-height: 0;max-width: 0;overflow: hidden;text-align: left;background-color: #f0f8ff;}#sk-container-id-1 div.sk-toggleable__content pre {margin: 0.2em;color: black;border-radius: 0.25em;background-color: #f0f8ff;}#sk-container-id-1 input.sk-toggleable__control:checked~div.sk-toggleable__content {max-height: 200px;max-width: 100%;overflow: auto;}#sk-container-id-1 input.sk-toggleable__control:checked~label.sk-toggleable__label-arrow:before {content: \"▾\";}#sk-container-id-1 div.sk-estimator input.sk-toggleable__control:checked~label.sk-toggleable__label {background-color: #d4ebff;}#sk-container-id-1 div.sk-label input.sk-toggleable__control:checked~label.sk-toggleable__label {background-color: #d4ebff;}#sk-container-id-1 input.sk-hidden--visually {border: 0;clip: rect(1px 1px 1px 1px);clip: rect(1px, 1px, 1px, 1px);height: 1px;margin: -1px;overflow: hidden;padding: 0;position: absolute;width: 1px;}#sk-container-id-1 div.sk-estimator {font-family: monospace;background-color: #f0f8ff;border: 1px dotted black;border-radius: 0.25em;box-sizing: border-box;margin-bottom: 0.5em;}#sk-container-id-1 div.sk-estimator:hover {background-color: #d4ebff;}#sk-container-id-1 div.sk-parallel-item::after {content: \"\";width: 100%;border-bottom: 1px solid gray;flex-grow: 1;}#sk-container-id-1 div.sk-label:hover label.sk-toggleable__label {background-color: #d4ebff;}#sk-container-id-1 div.sk-serial::before {content: \"\";position: absolute;border-left: 1px solid gray;box-sizing: border-box;top: 0;bottom: 0;left: 50%;z-index: 0;}#sk-container-id-1 div.sk-serial {display: flex;flex-direction: column;align-items: center;background-color: white;padding-right: 0.2em;padding-left: 0.2em;position: relative;}#sk-container-id-1 div.sk-item {position: relative;z-index: 1;}#sk-container-id-1 div.sk-parallel {display: flex;align-items: stretch;justify-content: center;background-color: white;position: relative;}#sk-container-id-1 div.sk-item::before, #sk-container-id-1 div.sk-parallel-item::before {content: \"\";position: absolute;border-left: 1px solid gray;box-sizing: border-box;top: 0;bottom: 0;left: 50%;z-index: -1;}#sk-container-id-1 div.sk-parallel-item {display: flex;flex-direction: column;z-index: 1;position: relative;background-color: white;}#sk-container-id-1 div.sk-parallel-item:first-child::after {align-self: flex-end;width: 50%;}#sk-container-id-1 div.sk-parallel-item:last-child::after {align-self: flex-start;width: 50%;}#sk-container-id-1 div.sk-parallel-item:only-child::after {width: 0;}#sk-container-id-1 div.sk-dashed-wrapped {border: 1px dashed gray;margin: 0 0.4em 0.5em 0.4em;box-sizing: border-box;padding-bottom: 0.4em;background-color: white;}#sk-container-id-1 div.sk-label label {font-family: monospace;font-weight: bold;display: inline-block;line-height: 1.2em;}#sk-container-id-1 div.sk-label-container {text-align: center;}#sk-container-id-1 div.sk-container {/* jupyter's `normalize.less` sets `[hidden] { display: none; }` but bootstrap.min.css set `[hidden] { display: none !important; }` so we also need the `!important` here to be able to override the default hidden behavior on the sphinx rendered scikit-learn.org. See: https://github.com/scikit-learn/scikit-learn/issues/21755 */display: inline-block !important;position: relative;}#sk-container-id-1 div.sk-text-repr-fallback {display: none;}</style><div id=\"sk-container-id-1\" class=\"sk-top-container\"><div class=\"sk-text-repr-fallback\"><pre>LatentDirichletAllocation(n_components=7, random_state=42)</pre><b>In a Jupyter environment, please rerun this cell to show the HTML representation or trust the notebook. <br />On GitHub, the HTML representation is unable to render, please try loading this page with nbviewer.org.</b></div><div class=\"sk-container\" hidden><div class=\"sk-item\"><div class=\"sk-estimator sk-toggleable\"><input class=\"sk-toggleable__control sk-hidden--visually\" id=\"sk-estimator-id-1\" type=\"checkbox\" checked><label for=\"sk-estimator-id-1\" class=\"sk-toggleable__label sk-toggleable__label-arrow\">LatentDirichletAllocation</label><div class=\"sk-toggleable__content\"><pre>LatentDirichletAllocation(n_components=7, random_state=42)</pre></div></div></div></div></div>"
      ],
      "text/plain": [
       "LatentDirichletAllocation(n_components=7, random_state=42)"
      ]
     },
     "execution_count": 11,
     "metadata": {},
     "output_type": "execute_result"
    }
   ],
   "source": [
    "lda = LatentDirichletAllocation(n_components=7, random_state=42)\n",
    "lda.fit(dtm)"
   ]
  },
  {
   "cell_type": "markdown",
   "id": "a2f3296f",
   "metadata": {},
   "source": [
    "## Analyse extracted features"
   ]
  },
  {
   "cell_type": "code",
   "execution_count": 12,
   "id": "44c85ba2",
   "metadata": {},
   "outputs": [
    {
     "data": {
      "text/plain": [
       "37203"
      ]
     },
     "execution_count": 12,
     "metadata": {},
     "output_type": "execute_result"
    }
   ],
   "source": [
    "len(cv.get_feature_names_out())"
   ]
  },
  {
   "cell_type": "code",
   "execution_count": 13,
   "id": "79a3b48a",
   "metadata": {},
   "outputs": [
    {
     "data": {
      "text/plain": [
       "array(['00', '000', '007', ..., 'но', 'украинцы', 'это'], dtype=object)"
      ]
     },
     "execution_count": 13,
     "metadata": {},
     "output_type": "execute_result"
    }
   ],
   "source": [
    "cv.get_feature_names_out()"
   ]
  },
  {
   "cell_type": "code",
   "execution_count": 14,
   "id": "6d276a41",
   "metadata": {},
   "outputs": [
    {
     "data": {
      "text/plain": [
       "7"
      ]
     },
     "execution_count": 14,
     "metadata": {},
     "output_type": "execute_result"
    }
   ],
   "source": [
    "len(lda.components_)"
   ]
  },
  {
   "cell_type": "code",
   "execution_count": 15,
   "id": "be61548c",
   "metadata": {},
   "outputs": [
    {
     "data": {
      "text/plain": [
       "array([[1.42857289e-01, 1.70222415e+02, 1.42857227e-01, ...,\n",
       "        1.42857254e-01, 1.42857265e-01, 1.42857217e-01],\n",
       "       [1.43072769e-01, 4.84120087e+02, 3.14077412e+00, ...,\n",
       "        1.42857312e-01, 1.42857328e-01, 1.42857255e-01],\n",
       "       [1.13438875e+00, 2.21070825e+02, 1.44671435e-01, ...,\n",
       "        1.42857322e-01, 1.42857339e-01, 1.42857261e-01],\n",
       "       ...,\n",
       "       [1.49651046e-01, 2.62251529e+02, 1.14140668e+00, ...,\n",
       "        1.42857319e-01, 1.42857336e-01, 1.42857259e-01],\n",
       "       [1.43413041e-01, 1.43093711e-01, 1.43517587e-01, ...,\n",
       "        1.42857306e-01, 1.42857322e-01, 1.42857251e-01],\n",
       "       [1.43237738e-01, 2.00219022e+02, 1.42857280e-01, ...,\n",
       "        4.14285615e+00, 5.14285605e+00, 4.14285648e+00]])"
      ]
     },
     "execution_count": 15,
     "metadata": {},
     "output_type": "execute_result"
    }
   ],
   "source": [
    "lda.components_"
   ]
  },
  {
   "cell_type": "code",
   "execution_count": 16,
   "id": "45a65bd8",
   "metadata": {},
   "outputs": [
    {
     "data": {
      "text/plain": [
       "37203"
      ]
     },
     "execution_count": 16,
     "metadata": {},
     "output_type": "execute_result"
    }
   ],
   "source": [
    "len(lda.components_[0])"
   ]
  },
  {
   "cell_type": "markdown",
   "id": "9e30cf34",
   "metadata": {},
   "source": [
    "### Show most important words of first extracted topic"
   ]
  },
  {
   "cell_type": "code",
   "execution_count": 17,
   "id": "c617b9e0",
   "metadata": {},
   "outputs": [],
   "source": [
    "first_topic = lda.components_[0]"
   ]
  },
  {
   "cell_type": "code",
   "execution_count": 18,
   "id": "258f618e",
   "metadata": {},
   "outputs": [
    {
     "data": {
      "text/plain": [
       "array([ 9604,  9208, 35080, ..., 26228, 18192, 31472], dtype=int64)"
      ]
     },
     "execution_count": 18,
     "metadata": {},
     "output_type": "execute_result"
    }
   ],
   "source": [
    "first_topic.argsort() # returns indices of ascending sorted array values "
   ]
  },
  {
   "cell_type": "code",
   "execution_count": 19,
   "id": "5966880a",
   "metadata": {},
   "outputs": [],
   "source": [
    "# the last 10 entries are the 10 most important words for topic 1\n",
    "top_words_indices = first_topic.argsort()[-10:]"
   ]
  },
  {
   "cell_type": "code",
   "execution_count": 20,
   "id": "11648839",
   "metadata": {},
   "outputs": [
    {
     "name": "stdout",
     "output_type": "stream",
     "text": [
      "kiew\n",
      "ukrainische\n",
      "russischen\n",
      "china\n",
      "scholz\n",
      "russische\n",
      "putin\n",
      "russland\n",
      "krieg\n",
      "ukraine\n"
     ]
    }
   ],
   "source": [
    "for index in top_words_indices:\n",
    "    print(cv.get_feature_names_out()[index])"
   ]
  },
  {
   "cell_type": "markdown",
   "id": "0d661247",
   "metadata": {},
   "source": [
    "### Show most important words of first extracted topic"
   ]
  },
  {
   "cell_type": "code",
   "execution_count": 21,
   "id": "f789d8f2",
   "metadata": {},
   "outputs": [
    {
     "name": "stdout",
     "output_type": "stream",
     "text": [
      "Die TOP-15 Wörter für das Thema #0\n",
      "['moskau', 'usa', 'russlands', 'präsident', 'selenskyj', 'kiew', 'ukrainische', 'russischen', 'china', 'scholz', 'russische', 'putin', 'russland', 'krieg', 'ukraine']\n",
      "\n",
      "\n",
      "Die TOP-15 Wörter für das Thema #1\n",
      "['geld', 'millionen', 'länder', 'deutsche', 'neue', 'milliarden', 'faeser', 'gibt', 'inflation', 'menschen', 'prozent', 'jahr', 'euro', 'deutschland', 'eu']\n",
      "\n",
      "\n",
      "Die TOP-15 Wörter für das Thema #2\n",
      "['gibt', 'deutsche', 'deutschen', 'bahn', 'wegen', 'focus', 'online', 'frankreich', 'news', 'menschen', 'lauterbach', 'pandemie', 'deutschland', 'wm', 'corona']\n",
      "\n",
      "\n",
      "Die TOP-15 Wörter für das Thema #3\n",
      "['münchen', 'sieg', 'letzte', 'gestorben', 'berliner', 'fußball', 'ex', 'league', 'generation', 'bundesliga', 'fc', 'jahren', 'iran', 'bayern', 'berlin']\n",
      "\n",
      "\n",
      "Die TOP-15 Wörter für das Thema #4\n",
      "['nord', 'klima', 'menschen', 'euro', 'neue', 'energie', 'ampel', 'eu', 'regierung', 'deutschen', 'lindner', 'bundesregierung', 'gas', 'habeck', 'deutschland']\n",
      "\n",
      "\n",
      "Die TOP-15 Wörter für das Thema #5\n",
      "['chef', 'fdp', 'grünen', 'usa', 'biden', 'partei', 'regierung', 'wahl', 'ex', 'spd', 'afd', 'trump', 'cdu', 'präsident', 'us']\n",
      "\n",
      "\n",
      "Die TOP-15 Wörter für das Thema #6\n",
      "['jahren', 'geht', 'nen', 'worden', 'dax', 'polizei', 'mindestens', 'tote', 'verletzt', 'heute', 'kinder', 'leben', 'zwei', 'frauen', 'menschen']\n",
      "\n",
      "\n"
     ]
    }
   ],
   "source": [
    "for index, topic in enumerate(lda.components_):\n",
    "    print(f'Die TOP-15 Wörter für das Thema #{index}')\n",
    "    print([cv.get_feature_names_out()[i] for i in topic.argsort()[-15:]])\n",
    "    print('\\n')"
   ]
  },
  {
   "cell_type": "markdown",
   "id": "a0973fc9",
   "metadata": {},
   "source": [
    "### Get topics with highest probability for news items in train data"
   ]
  },
  {
   "cell_type": "code",
   "execution_count": 22,
   "id": "0f46f47f",
   "metadata": {},
   "outputs": [
    {
     "data": {
      "text/plain": [
       "(67513, 7)"
      ]
     },
     "execution_count": 22,
     "metadata": {},
     "output_type": "execute_result"
    }
   ],
   "source": [
    "topic_results = lda.transform(dtm)\n",
    "topic_results.shape"
   ]
  },
  {
   "cell_type": "code",
   "execution_count": 23,
   "id": "823c7020",
   "metadata": {},
   "outputs": [
    {
     "data": {
      "text/plain": [
       "array([0.00622, 0.21893, 0.00622, 0.00623, 0.74993, 0.00625, 0.00623])"
      ]
     },
     "execution_count": 23,
     "metadata": {},
     "output_type": "execute_result"
    }
   ],
   "source": [
    "topic_results[0].round(5)"
   ]
  },
  {
   "cell_type": "code",
   "execution_count": 24,
   "id": "f68cacd0",
   "metadata": {},
   "outputs": [
    {
     "data": {
      "text/plain": [
       "4"
      ]
     },
     "execution_count": 24,
     "metadata": {},
     "output_type": "execute_result"
    }
   ],
   "source": [
    "topic_results[0].argmax()"
   ]
  },
  {
   "cell_type": "code",
   "execution_count": 25,
   "id": "6e11fb89",
   "metadata": {},
   "outputs": [],
   "source": [
    "# save topic to train dataset\n",
    "train['topic'] = topic_results.argmax(axis=1)"
   ]
  },
  {
   "cell_type": "code",
   "execution_count": 26,
   "id": "7eb2c522",
   "metadata": {},
   "outputs": [
    {
     "data": {
      "text/html": [
       "<div>\n",
       "<style scoped>\n",
       "    .dataframe tbody tr th:only-of-type {\n",
       "        vertical-align: middle;\n",
       "    }\n",
       "\n",
       "    .dataframe tbody tr th {\n",
       "        vertical-align: top;\n",
       "    }\n",
       "\n",
       "    .dataframe thead th {\n",
       "        text-align: right;\n",
       "    }\n",
       "</style>\n",
       "<table border=\"1\" class=\"dataframe\">\n",
       "  <thead>\n",
       "    <tr style=\"text-align: right;\">\n",
       "      <th></th>\n",
       "      <th>date</th>\n",
       "      <th>title</th>\n",
       "      <th>description</th>\n",
       "      <th>category</th>\n",
       "      <th>text</th>\n",
       "      <th>source</th>\n",
       "      <th>title_description_text</th>\n",
       "      <th>topic</th>\n",
       "    </tr>\n",
       "  </thead>\n",
       "  <tbody>\n",
       "    <tr>\n",
       "      <th>0</th>\n",
       "      <td>2022-06-01 00:13:42</td>\n",
       "      <td>Preise: Grüne halten Senkung der Spritsteuer f...</td>\n",
       "      <td>Heute tritt die Steuersenkung auf Kraftstoffe ...</td>\n",
       "      <td>Other</td>\n",
       "      <td>NaN</td>\n",
       "      <td>stern</td>\n",
       "      <td>Preise: Grüne halten Senkung der Spritsteuer f...</td>\n",
       "      <td>4</td>\n",
       "    </tr>\n",
       "    <tr>\n",
       "      <th>1</th>\n",
       "      <td>2022-06-01 01:55:03</td>\n",
       "      <td>Biden warnt Putin: USA liefern moderne Raketen...</td>\n",
       "      <td>Die USA rüsten die Ukraine mit fortschrittlich...</td>\n",
       "      <td>Other</td>\n",
       "      <td>NaN</td>\n",
       "      <td>stern</td>\n",
       "      <td>Biden warnt Putin: USA liefern moderne Raketen...</td>\n",
       "      <td>0</td>\n",
       "    </tr>\n",
       "    <tr>\n",
       "      <th>2</th>\n",
       "      <td>2022-06-01 02:04:08</td>\n",
       "      <td>Soziale Medien: FDP-Politiker Kuhle: Internet-...</td>\n",
       "      <td>Eine «ZDF Magazin Royale»-Recherche beschäftig...</td>\n",
       "      <td>Other</td>\n",
       "      <td>NaN</td>\n",
       "      <td>stern</td>\n",
       "      <td>Soziale Medien: FDP-Politiker Kuhle: Internet-...</td>\n",
       "      <td>5</td>\n",
       "    </tr>\n",
       "    <tr>\n",
       "      <th>3</th>\n",
       "      <td>2022-06-01 02:26:58</td>\n",
       "      <td>Liveblog: ++ Zwei von drei ukrainischen Kinder...</td>\n",
       "      <td>Rund zwei von drei Mädchen und Jungen in der U...</td>\n",
       "      <td>Missing</td>\n",
       "      <td>NaN</td>\n",
       "      <td>Tagesschau</td>\n",
       "      <td>Liveblog: ++ Zwei von drei ukrainischen Kinder...</td>\n",
       "      <td>0</td>\n",
       "    </tr>\n",
       "    <tr>\n",
       "      <th>4</th>\n",
       "      <td>2022-06-01 02:31:43</td>\n",
       "      <td>Finanzen: Dänemark stimmt über EU-Verteidigung...</td>\n",
       "      <td>Vorbehalt verteidigen oder Verteidigung ohne V...</td>\n",
       "      <td>Other</td>\n",
       "      <td>NaN</td>\n",
       "      <td>stern</td>\n",
       "      <td>Finanzen: Dänemark stimmt über EU-Verteidigung...</td>\n",
       "      <td>0</td>\n",
       "    </tr>\n",
       "  </tbody>\n",
       "</table>\n",
       "</div>"
      ],
      "text/plain": [
       "                  date                                              title  \\\n",
       "0  2022-06-01 00:13:42  Preise: Grüne halten Senkung der Spritsteuer f...   \n",
       "1  2022-06-01 01:55:03  Biden warnt Putin: USA liefern moderne Raketen...   \n",
       "2  2022-06-01 02:04:08  Soziale Medien: FDP-Politiker Kuhle: Internet-...   \n",
       "3  2022-06-01 02:26:58  Liveblog: ++ Zwei von drei ukrainischen Kinder...   \n",
       "4  2022-06-01 02:31:43  Finanzen: Dänemark stimmt über EU-Verteidigung...   \n",
       "\n",
       "                                         description category  text  \\\n",
       "0  Heute tritt die Steuersenkung auf Kraftstoffe ...    Other   NaN   \n",
       "1  Die USA rüsten die Ukraine mit fortschrittlich...    Other   NaN   \n",
       "2  Eine «ZDF Magazin Royale»-Recherche beschäftig...    Other   NaN   \n",
       "3  Rund zwei von drei Mädchen und Jungen in der U...  Missing   NaN   \n",
       "4  Vorbehalt verteidigen oder Verteidigung ohne V...    Other   NaN   \n",
       "\n",
       "       source                             title_description_text  topic  \n",
       "0       stern  Preise: Grüne halten Senkung der Spritsteuer f...      4  \n",
       "1       stern  Biden warnt Putin: USA liefern moderne Raketen...      0  \n",
       "2       stern  Soziale Medien: FDP-Politiker Kuhle: Internet-...      5  \n",
       "3  Tagesschau  Liveblog: ++ Zwei von drei ukrainischen Kinder...      0  \n",
       "4       stern  Finanzen: Dänemark stimmt über EU-Verteidigung...      0  "
      ]
     },
     "execution_count": 26,
     "metadata": {},
     "output_type": "execute_result"
    }
   ],
   "source": [
    "train.head()"
   ]
  },
  {
   "cell_type": "markdown",
   "id": "dc4070d6",
   "metadata": {},
   "source": [
    "## Visualize model"
   ]
  },
  {
   "cell_type": "code",
   "execution_count": 27,
   "id": "f6745175",
   "metadata": {},
   "outputs": [
    {
     "data": {
      "text/html": [
       "\n",
       "<link rel=\"stylesheet\" type=\"text/css\" href=\"https://cdn.jsdelivr.net/gh/bmabey/pyLDAvis@3.4.0/pyLDAvis/js/ldavis.v1.0.0.css\">\n",
       "\n",
       "\n",
       "<div id=\"ldavis_el1395220891090164645761167158\" style=\"background-color:white;\"></div>\n",
       "<script type=\"text/javascript\">\n",
       "\n",
       "var ldavis_el1395220891090164645761167158_data = {\"mdsDat\": {\"x\": [28.31422996520996, -7.893434524536133, -0.7578142285346985, 21.144052505493164, 10.181519508361816, 17.304569244384766, 3.0446345806121826], \"y\": [-11.381308555603027, -6.9394001960754395, -23.699026107788086, 5.364447593688965, -9.144038200378418, -25.89947509765625, 7.625439167022705], \"topics\": [1, 2, 3, 4, 5, 6, 7], \"cluster\": [1, 1, 1, 1, 1, 1, 1], \"Freq\": [20.82960021886132, 14.720612084308545, 13.85647680649459, 13.411520797829498, 12.866064044403075, 12.668149927542322, 11.647576120560634]}, \"tinfo\": {\"Term\": [\"ukraine\", \"krieg\", \"russland\", \"corona\", \"eu\", \"putin\", \"russische\", \"pr\\u00e4sident\", \"us\", \"cdu\", \"scholz\", \"trump\", \"china\", \"habeck\", \"russischen\", \"afd\", \"ukrainische\", \"deutschland\", \"gas\", \"wm\", \"kiew\", \"bayern\", \"selenskyj\", \"menschen\", \"russlands\", \"ex\", \"partei\", \"wahl\", \"moskau\", \"nato\", \"ukraine\", \"krieg\", \"putin\", \"ukrainische\", \"kiew\", \"selenskyj\", \"moskau\", \"liveblog\", \"entwicklungen\", \"nato\", \"ukrainischen\", \"russlands\", \"armee\", \"soldaten\", \"g7\", \"russische\", \"kreml\", \"taiwan\", \"truppen\", \"wladimir\", \"baerbock\", \"panzer\", \"chinas\", \"bachmut\", \"wagner\", \"krim\", \"invasion\", \"saporischschja\", \"xi\", \"prigoschin\", \"putins\", \"raketen\", \"russland\", \"russischen\", \"russen\", \"russischer\", \"china\", \"olaf\", \"scholz\", \"gipfel\", \"un\", \"usa\", \"pr\\u00e4sident\", \"lage\", \"us\", \"kanzler\", \"deutschland\", \"trump\", \"donald\", \"wahlen\", \"republikaner\", \"trumps\", \"stichwahl\", \"parlamentswahl\", \"demokraten\", \"fbi\", \"bolsonaro\", \"kongress\", \"maa\\u00dfen\", \"florida\", \"nordirland\", \"supreme\", \"desantis\", \"bidens\", \"partei\", \"lula\", \"court\", \"erdo\\u011fan\", \"landrat\", \"pr\\u00e4sidentschaftswahl\", \"neuwahlen\", \"brasiliens\", \"orban\", \"kandidatur\", \"repr\\u00e4sentantenhaus\", \"laufzeiten\", \"umfragen\", \"wahl\", \"kapitol\", \"afd\", \"parteitag\", \"netanjahu\", \"ministerpr\\u00e4sident\", \"joe\", \"arabien\", \"cdu\", \"wahlkampf\", \"saudi\", \"parteien\", \"s\\u00f6der\", \"demokratie\", \"w\\u00e4hler\", \"senat\", \"erdogan\", \"biden\", \"mehrheit\", \"gew\\u00e4hlt\", \"kandidaten\", \"us\", \"spd\", \"merz\", \"new\", \"opposition\", \"pr\\u00e4sident\", \"ex\", \"gr\\u00fcnen\", \"fdp\", \"linke\", \"york\", \"gr\\u00fcne\", \"politiker\", \"parlament\", \"regierung\", \"pr\\u00e4sidenten\", \"gericht\", \"usa\", \"chef\", \"ampel\", \"t\\u00fcrkei\", \"koalition\", \"streit\", \"kritik\", \"geht\", \"neue\", \"wegen\", \"k\\u00f6nnte\", \"faeser\", \"syrien\", \"innenministerin\", \"musk\", \"ki\", \"intelligenz\", \"rbb\", \"cannabis\", \"erdbeben\", \"bundesinnenministerin\", \"k\\u00fcnstliche\", \"hartz\", \"elon\", \"grundsteuer\", \"iv\", \"schlesinger\", \"chatgpt\", \"amazon\", \"fl\\u00fcchtlingsgipfel\", \"puma\", \"leitzins\", \"google\", \"meta\", \"intendantin\", \"sch\\u00f6nbohm\", \"zentralbank\", \"legalisierung\", \"marin\", \"inflationsrate\", \"quartal\", \"zinsen\", \"\\u00f6zdemir\", \"schr\\u00f6der\", \"kommunen\", \"ezb\", \"waldbrand\", \"kommission\", \"altkanzler\", \"eu\", \"inflation\", \"kaili\", \"milliarden\", \"prozent\", \"gestiegen\", \"europ\\u00e4ische\", \"jahr\", \"euro\", \"twitter\", \"l\\u00e4nder\", \"bund\", \"br\\u00fcssel\", \"zahl\", \"geld\", \"hohe\", \"millionen\", \"deutschland\", \"deutlich\", \"2022\", \"t\\u00fcrkei\", \"000\", \"gibt\", \"deutsche\", \"menschen\", \"neue\", \"laut\", \"2023\", \"online\", \"geht\", \"unternehmen\", \"focus\", \"k\\u00f6nnte\", \"steinmeier\", \"johnson\", \"gasumlage\", \"co2\", \"verbrenner\", \"gazprom\", \"unwetter\", \"lng\", \"affenpocken\", \"uniper\", \"franziskus\", \"entlastungspaket\", \"\\u00fcberschwemmungen\", \"bundesnetzagentur\", \"gasspeicher\", \"gas\", \"2035\", \"ruanda\", \"benedikt\", \"klimaziele\", \"terminal\", \"starkregen\", \"flie\\u00dft\", \"notfallplan\", \"nordsee\", \"umlage\", \"emissionen\", \"habeck\", \"xvi\", \"special\", \"pipeline\", \"energiewende\", \"wirtschaftsminister\", \"bundeswirtschaftsminister\", \"boris\", \"bundespr\\u00e4sident\", \"energien\", \"graichen\", \"energie\", \"\\u00f6l\", \"klimaschutz\", \"finanzminister\", \"lindner\", \"papst\", \"industrie\", \"robert\", \"nord\", \"stream\", \"deutschland\", \"klima\", \"gro\\u00dfbritannien\", \"winter\", \"strom\", \"bundesregierung\", \"studie\", \"energiekrise\", \"ampel\", \"kosten\", \"deutschen\", \"regierung\", \"euro\", \"neue\", \"eu\", \"k\\u00f6nnte\", \"menschen\", \"laut\", \"deutsche\", \"gibt\", \"kritik\", \"land\", \"geht\", \"fordert\", \"dax\", \"marktbericht\", \"gabor\", \"steingart\", \"heizungsgesetz\", \"wall\", \"kindergrundsicherung\", \"hugo\", \"vogg\", \"iii\", \"olympia\", \"paus\", \"charles\", \"w\\u00fcrttemberg\", \"fed\", \"zugungl\\u00fcck\", \"wahlrechtsreform\", \"france\", \"familienministerin\", \"messerattacke\", \"b\\u00f6rsen\", \"1972\", \"ataman\", \"messerangriff\", \"wissler\", \"aktienmarkt\", \"garmisch\", \"sterbehilfe\", \"ferda\", \"k\\u00fchnert\", \"baden\", \"verletzt\", \"unfall\", \"anleger\", \"eltern\", \"ums\", \"kinder\", \"m\\u00e4dchen\", \"j\\u00e4hriger\", \"street\", \"wahrheit\", \"k\\u00f6nig\", \"frauen\", \"mindestens\", \"leben\", \"nen\", \"ticket\", \"tote\", \"menschen\", \"verletzte\", \"heute\", \"zwei\", \"bundestag\", \"m\\u00e4nner\", \"mann\", \"get\\u00f6tet\", \"polizei\", \"frau\", \"opfer\", \"worden\", \"drei\", \"jahren\", \"geht\", \"euro\", \"ampel\", \"gibt\", \"us\", \"online\", \"jahre\", \"corona\", \"bahn\", \"lauterbach\", \"bildern\", \"covid\", \"sudan\", \"promi\", \"rki\", \"maskenpflicht\", \"streiks\", \"rentenreform\", \"warnstreiks\", \"gewerkschaft\", \"inzidenz\", \"verdi\", \"impfung\", \"flugh\\u00e4fen\", \"warnstreik\", \"pandemie\", \"gesundheitsminister\", \"flick\", \"l\\u00fctzerath\", \"evg\", \"bundesgesundheitsminister\", \"omikron\", \"neuinfektionen\", \"masken\", \"bergkarabach\", \"sri\", \"kliniken\", \"em\", \"r\\u00e4umung\", \"gold\", \"wm\", \"streik\", \"karl\", \"herbst\", \"england\", \"frankreich\", \"katar\", \"news\", \"aktuellen\", \"team\", \"online\", \"focus\", \"wegen\", \"deutschland\", \"menschen\", \"deutschen\", \"ticker\", \"polizei\", \"spanien\", \"deutsche\", \"fu\\u00dfball\", \"gibt\", \"frauen\", \"geht\", \"neue\", \"fc\", \"champions\", \"trainer\", \"bremen\", \"dortmund\", \"bvb\", \"borussia\", \"ddr\", \"cum\", \"eintracht\", \"hertha\", \"schalke\", \"rb\", \"leverkusen\", \"spieltag\", \"city\", \"pokal\", \"regisseur\", \"bochum\", \"vfb\", \"real\", \"westjordanland\", \"hoffenheim\", \"augsburg\", \"bundesliga\", \"manchester\", \"wegner\", \"liga\", \"flugblatt\", \"werder\", \"league\", \"aiwanger\", \"film\", \"vfl\", \"musik\", \"generation\", \"bayern\", \"giffey\", \"stuttgart\", \"iran\", \"leipzig\", \"album\", \"mainz\", \"frankfurt\", \"berlin\", \"merkel\", \"gestorben\", \"berliner\", \"m\\u00fcnchen\", \"letzte\", \"fu\\u00dfball\", \"dfb\", \"sieg\", \"jahren\", \"ex\", \"proteste\", \"spiel\", \"letzten\", \"verurteilt\", \"jahre\", \"polizei\", \"wegen\", \"geht\", \"worden\", \"zwei\"], \"Freq\": [11641.0, 5292.0, 5136.0, 2890.0, 4126.0, 2947.0, 2656.0, 3445.0, 4367.0, 1807.0, 2582.0, 1518.0, 2289.0, 1396.0, 1943.0, 1491.0, 1657.0, 5829.0, 1289.0, 1354.0, 1446.0, 1231.0, 1433.0, 3983.0, 1401.0, 1937.0, 1064.0, 1101.0, 1242.0, 1223.0, 11640.249428496594, 5291.930303747211, 2947.03428001618, 1656.8545089171344, 1445.5241123324552, 1432.9219116541622, 1241.9413730761673, 1145.0077695844093, 1100.4145336134918, 1222.4611887442852, 907.5029412878837, 1400.2967325645427, 754.2554031167075, 820.0650204111927, 665.1509198861227, 2652.8124579270007, 779.359912039813, 633.1609933706517, 630.2528022188202, 552.6999468511308, 1016.3440551499419, 542.036589292651, 549.7658800170356, 517.8017395186077, 797.5004220874571, 511.98524615438413, 479.99465262832274, 477.0865965093289, 427.6465845425782, 402.44205204133584, 955.5010448815808, 447.88295374751783, 4904.73149937689, 1890.2316663956708, 708.722024082344, 727.9951687116118, 2104.9028512791037, 742.8897155630547, 2269.1167830603554, 790.2366238558645, 922.0883760348806, 1395.7963210988564, 1432.2548809171374, 820.010456314124, 1006.9402564381732, 779.882271283541, 870.6580198155267, 1517.416400521177, 658.8410556089807, 373.30073550815706, 346.72131638077275, 207.89199452254542, 203.9536739640828, 179.33836569591332, 160.6307962534241, 140.9387053756653, 136.0159462997488, 134.02271422192817, 124.20069330350555, 123.21490269127133, 115.3385585668255, 114.35457829101539, 113.3700941289178, 116.29826424522454, 1056.2823098088768, 108.44674996843251, 107.46219599976298, 104.50794355785224, 103.52014681049201, 98.60090355525598, 98.60071671226363, 95.64637616228086, 95.64599994008225, 93.67784117194857, 92.69323306729439, 92.6929251244511, 124.86726261559814, 1074.9043042718022, 242.69563443555865, 1450.5541664853238, 225.00320229087583, 141.18632475700295, 596.3065807827157, 416.9392377041123, 208.79903517965695, 1697.061203594214, 269.42228820948526, 223.66463842349967, 388.9335542445432, 377.4527106621247, 325.95943079267664, 194.98145765877553, 184.93762323809676, 391.70461554709095, 979.5346378110914, 457.1054766391732, 251.13558643395106, 170.7590127999453, 2685.2894768755878, 1273.3645177125452, 524.8121882978687, 402.73495354237934, 365.07957446094224, 1999.4629462133562, 1205.126125472305, 959.3465928292558, 855.1966955469154, 400.2879401065446, 315.8752853776443, 608.8554841685643, 606.3355046022252, 475.94749371391083, 1074.659596256399, 499.797600195908, 553.8398315664211, 966.7702435998827, 749.0051309156187, 674.6216107031074, 557.3585298043729, 473.0982117358657, 505.7730113869113, 563.9538586293487, 555.2518932105651, 551.7894733388572, 514.7118766206498, 488.2603058906021, 650.9317876141243, 378.3201562432804, 250.14403320878515, 312.098530472041, 226.79736625395049, 201.50512978682582, 222.74567515302994, 178.15801663161392, 371.63093212504367, 143.13777340525942, 141.19236427485583, 142.123936900699, 186.58657293733688, 133.410207775233, 140.08028711563796, 112.98181585616557, 107.1449096773216, 107.1447574100054, 106.17213966806786, 99.36155879070655, 98.39006725507856, 123.4377780485925, 81.85257652630318, 80.87974252358963, 78.93420995490666, 76.98883880915008, 75.04284897529863, 72.12394951483286, 75.95169600857922, 72.06430418904974, 151.7331827044292, 120.00849303103095, 282.15733215391253, 312.8792252557937, 199.1482255385763, 105.55870989820535, 369.029288148045, 121.26026447883638, 2908.9462618337357, 732.6792655387085, 123.99412400576801, 620.081988061993, 837.3364405896243, 245.22441725430403, 281.04546794092596, 1037.4759586843923, 1055.6535241684653, 295.84267954033936, 589.580216510204, 430.4126049317565, 253.99446522155463, 430.5328407454201, 525.6546423205019, 362.32067553994796, 584.5356100222369, 1272.3905084250423, 455.8152190990105, 402.4683889200723, 448.284102380102, 470.9450000634217, 678.5118030080757, 600.285540771947, 742.7847832635736, 612.0379342850231, 517.2133526511187, 353.71142008584854, 477.29507668598745, 440.52499527941154, 343.1849437252829, 383.0220715110099, 379.27330096780116, 281.6244697912373, 454.89478846819276, 221.02752960753415, 208.3209387610793, 193.66033523322187, 180.9521366630422, 158.4745119436585, 161.38734441241812, 151.63280173631284, 134.04052530968696, 131.10709500861003, 152.46808493269333, 167.99188406642682, 122.31189758313812, 118.40167074799389, 1279.2333535832945, 101.7866847677667, 95.92237107448456, 95.92193336988987, 92.99023565634081, 90.05555927495618, 86.14867052368125, 84.19359525606535, 81.26172364580886, 76.3743941513891, 70.51087321415012, 70.5089340191615, 1379.964920764117, 66.60120312545284, 66.60042475070374, 184.3395160667852, 233.38920889986494, 429.9506077641684, 136.34759208263455, 453.56245429037125, 209.261689100889, 141.24480206277292, 166.32841485549906, 548.9131642103524, 328.73028020097706, 357.03766317823386, 355.5595513047677, 615.24737507953, 258.35295392293597, 236.02470258584836, 440.97089705777483, 456.2285630608355, 427.5495671741772, 2238.3353470025118, 475.6226215751792, 381.5730190836032, 328.1843547635356, 334.7284198966101, 617.5596969131558, 400.9875228010373, 312.5280400055151, 549.2518351916714, 285.5603239822648, 559.5269796175251, 553.4102586800369, 520.5391264265454, 548.790288574569, 553.0445975917568, 441.25464126199364, 491.86174311756133, 406.26019157113836, 393.21050098100454, 406.4519944154232, 370.7492905649053, 369.74878479233445, 366.1398374154142, 362.97958288766955, 502.9263248075329, 444.0587191655328, 385.17566060334536, 380.3603511085669, 246.22324283817716, 204.7272673342299, 189.28591151239252, 172.87573314584793, 167.08480275259993, 169.91307908649856, 138.13852482635835, 134.27873715671203, 294.4134618856652, 116.90713011936896, 108.21837460328308, 104.36220665987702, 102.43105683130152, 81.20111389196869, 71.54812543003005, 66.72576004446717, 65.76030874216883, 62.86515080175006, 86.65978202878004, 59.970347650365326, 57.069396546117034, 55.145220948696185, 49.354875602787196, 48.389649183592525, 58.817651085453754, 92.00517852609693, 185.1301798295111, 597.9188772902978, 223.3903803663275, 256.6278910828094, 240.78438523052603, 365.3423470711084, 784.6896648675237, 157.14923527781755, 211.1532671911581, 236.24270117259482, 383.37410231150363, 241.40236764325093, 937.6556688530904, 509.5991910694223, 792.4890855642363, 473.34006093592626, 340.1172216195207, 562.94268154077, 1640.5321233404206, 240.9448863492814, 678.5832027442337, 820.9126090673687, 423.0547277580827, 348.05830540842044, 415.93247840483315, 345.44719516017346, 505.67723911050126, 328.048511746909, 301.1029866425033, 491.797914958578, 452.80857178487, 466.84807799378314, 472.4685507962429, 421.0818446878927, 384.9258267438219, 428.3164056615389, 442.62810802428334, 373.4678366727347, 348.3928356424608, 2887.6128122641394, 671.285268391043, 785.132265776645, 326.7003750520918, 342.01280503363927, 313.252467907232, 267.1510148238963, 235.45523424559278, 226.81066384607618, 226.81063518859278, 218.16612770012227, 211.44325109979997, 217.17716977519748, 188.39171607501834, 175.9051427225574, 162.45834859496796, 221.58348351601444, 144.20916616450842, 880.3174975667495, 344.5711856151364, 126.92026381996742, 344.3827402597229, 115.39499687091141, 116.32326867311815, 110.59260271116935, 108.67167797310685, 108.67116753317595, 108.67115084315496, 103.86897039604402, 203.86306202274537, 474.03772823973367, 153.14642993074358, 199.0917792241322, 1287.9693658224837, 281.6116991855076, 265.0153327295445, 437.6866651577605, 202.98408860643963, 731.7693075128657, 350.3863801433075, 769.9701218263829, 473.48350507542307, 320.12816725051084, 705.1333787088702, 685.413496514781, 671.6007559230533, 932.756411768506, 779.3909258998273, 596.835604418141, 404.3911360129876, 425.07500398397644, 285.00147224493924, 498.08195314131456, 357.28805874398216, 479.478573307452, 342.8647929750802, 332.21160993848656, 332.3399515940481, 730.4656658992017, 310.6381432866527, 300.0076353662075, 303.85906967318334, 231.32850793223832, 216.81878595151395, 189.73371806500828, 180.05887965813682, 175.2235796505699, 201.2044567235282, 166.51794932673752, 164.58330778464034, 154.90999458542714, 149.10600834127865, 127.82484724764923, 146.97699851043888, 127.76084082449637, 114.27965377836176, 113.31478411567049, 112.34779614212565, 109.4453216084941, 109.44089514229854, 102.67452262093606, 102.67433375335877, 710.0175226263566, 100.73982185652733, 100.73851866795134, 167.85574496416453, 97.8375739702504, 93.0013004117715, 541.7456674837447, 288.64237822292114, 258.1893747264062, 138.03140637811165, 153.19470129782903, 667.3308234831077, 1122.057554078583, 181.47199249646536, 198.46448285117282, 839.3414239345524, 377.9235769029689, 166.08910099098986, 155.45562253786204, 370.10375284596466, 1408.881531483654, 268.89888202275614, 501.06432995409097, 515.2769193623457, 409.0813397186597, 439.6933114519851, 523.5448127375352, 382.47715277899624, 414.48143003414833, 806.2129992979507, 535.8468507520732, 329.27676110339513, 282.8910088157908, 304.41348048097205, 286.5521292991894, 379.2072619706233, 370.9682799533249, 371.63878800587815, 365.05688974332077, 338.86205815177163, 317.5919009010038], \"Total\": [11641.0, 5292.0, 5136.0, 2890.0, 4126.0, 2947.0, 2656.0, 3445.0, 4367.0, 1807.0, 2582.0, 1518.0, 2289.0, 1396.0, 1943.0, 1491.0, 1657.0, 5829.0, 1289.0, 1354.0, 1446.0, 1231.0, 1433.0, 3983.0, 1401.0, 1937.0, 1064.0, 1101.0, 1242.0, 1223.0, 11641.612937872022, 5292.965053399241, 2947.968993972583, 1657.6876654782156, 1446.3569270354214, 1433.7546352889271, 1242.781555967827, 1145.8407393322784, 1101.2480163999412, 1223.3936486491002, 908.3360110852075, 1401.7675528590753, 755.1689475480888, 821.0900396429075, 665.9842459171829, 2656.1868998759674, 780.3771186987319, 633.9938130272091, 631.0855918225782, 553.5330286908412, 1017.8814554384843, 542.8695512237767, 550.6245861473309, 518.6343730830887, 798.7921049047536, 512.8179305696743, 480.82749814925245, 477.9192768459848, 428.47951777711, 403.27493315124, 958.7642005475859, 448.83680509328815, 5136.997331680377, 1943.0431683199295, 715.4444624432056, 740.7234329925941, 2289.284741225632, 762.7905258400701, 2582.956892660649, 836.7589692393835, 1141.2265558053361, 2940.297958994644, 3445.99825677452, 1318.5609664349538, 4367.238225950247, 1115.3112914813823, 5829.303909781891, 1518.2469804007378, 659.6716049580767, 374.1361296470422, 347.5518864757422, 208.72261054246127, 204.78419319085734, 180.1690696490401, 161.4615785001462, 141.76948223897708, 136.846462172561, 134.87688227347954, 125.03120499967045, 124.04657980482581, 116.16975267652633, 115.18515624411009, 114.20055333969319, 117.15397225133812, 1064.2465236937658, 109.27752547070179, 108.29291959477497, 105.3390994992161, 104.35443038167566, 99.4314794730904, 99.43147787035073, 96.47765482159018, 96.47764990496023, 94.50845586503632, 93.52385081013136, 93.52384737553572, 126.00949812181621, 1101.292455650858, 245.12443757847316, 1491.8276261962667, 228.36556730828153, 142.74868055208887, 615.0797689452424, 429.09651043468483, 212.6118826018973, 1807.4803345199894, 276.5476585652973, 230.29021504023873, 410.18032766148974, 399.3593427425483, 344.3426288313921, 201.7221422718389, 190.90772824580986, 429.6765871187175, 1175.4991451040044, 516.2934693440844, 274.2883020404965, 177.147723193793, 4367.238225950247, 1835.4851037511846, 658.9397354893, 482.16537162805685, 429.47410166310175, 3445.99825677452, 1937.8437880646334, 1468.249146650534, 1308.3187441934142, 496.41344960877814, 369.37584219038905, 935.1586713501295, 946.9632056812916, 676.9737013542768, 2377.4578436250476, 747.3698698278723, 929.3208996173046, 2940.297958994644, 1958.9851989663455, 1686.597956340741, 1069.734041232146, 725.2366447757666, 1011.8671694886633, 1854.9536076890035, 2875.5552230499393, 3301.09283431828, 2713.6879092425297, 2086.679337337912, 651.7645012531132, 379.38326070482424, 250.976875901056, 313.2337630455438, 227.6300238696092, 202.337600824063, 223.73798230130632, 178.99075094644647, 373.53871819925524, 143.97047142973395, 142.0248996144535, 142.99736803146328, 187.74346502055533, 134.24261648735708, 141.0510179988625, 113.81412191856437, 107.97740677437488, 107.97740567218483, 107.00462532686312, 100.19511967247276, 99.22233915690656, 124.517733045225, 82.68498486561153, 81.71220217575897, 79.76663286550722, 77.8210583245073, 75.87548642427636, 72.95713824471137, 76.84857720919106, 72.95741439314013, 153.68932795986566, 121.60558201282811, 297.58377215414885, 334.3750350114143, 209.07417273912353, 107.95734430205711, 407.78144007363437, 125.52878398803232, 4126.145354596803, 917.1188229947614, 129.35313670296884, 841.4350952999595, 1354.2280319876977, 298.32989133009454, 360.80687548540965, 1943.6958241010623, 2058.701049413551, 404.71662563627507, 1019.463257850331, 672.9841297530098, 330.9676902151087, 732.4683383666704, 1001.1371024558385, 580.4221674176445, 1346.4150774228124, 5829.303909781891, 988.9320010354386, 821.4823121820353, 1069.734041232146, 1316.3286588861963, 3092.788197296052, 2354.4713014487515, 3983.8747412496223, 3301.09283431828, 2215.8007819711493, 718.8069862699228, 2227.9553734547994, 2875.5552230499393, 669.4156003696263, 2219.677278973984, 2086.679337337912, 282.4567917809482, 456.435859692547, 221.8591625805244, 209.15320626223374, 194.49248967975547, 181.78651797980524, 159.30675474879, 162.23881240999086, 152.46508269468504, 134.87223128633264, 131.94007229473615, 153.44179307331618, 169.07732380678937, 123.14365461408411, 119.23412670650612, 1289.1196421359596, 102.61864913588235, 96.75436035408984, 96.7543516273301, 93.8222206472019, 90.8900604761562, 86.98054627597787, 85.02578286549404, 82.09364353305901, 77.20673444354081, 71.34245204466647, 71.34244130247573, 1396.7332807935643, 67.43292468171491, 67.43291924296174, 187.6691418906789, 239.4274249284373, 446.76547154097597, 139.7648909137341, 480.62988281787074, 217.8688061756909, 145.6067453505274, 175.81184407283325, 644.7025697916333, 372.52624392919154, 415.2250454617538, 418.1105186831439, 786.7660104657482, 302.4290458891078, 272.5145246446165, 606.228583361106, 646.4547158034393, 601.3748537558259, 5829.303909781891, 755.5845105515832, 571.4561059937521, 469.4273959740523, 500.4284889380152, 1296.4373335557768, 730.5344227845817, 506.7208922630822, 1686.597956340741, 467.1317581594526, 2204.6516551386244, 2377.4578436250476, 2058.701049413551, 3301.09283431828, 4126.145354596803, 2086.679337337912, 3983.8747412496223, 2215.8007819711493, 2354.4713014487515, 3092.788197296052, 1854.9536076890035, 1935.1278341314035, 2875.5552230499393, 1737.348934743132, 503.7598640752007, 444.8920693363313, 386.0245815959474, 381.19915195773086, 247.05769794750293, 205.56071406963983, 190.11999101204805, 173.7141833840991, 167.92390525118626, 170.81999248124237, 138.97255688896038, 135.11237510070657, 296.28822775048656, 117.74155287385723, 109.05621003026853, 105.19595358601751, 103.26588859087006, 82.03485007375764, 72.3844527095083, 67.55916447009551, 66.59412326086124, 63.698986135079785, 87.82591384604197, 60.803844631188994, 57.908764209385374, 55.97861634591517, 50.188342091943795, 49.223297041634844, 59.83924587575549, 93.62533370226531, 190.1003380197831, 633.2166240699557, 234.5364136952747, 271.2938828874236, 259.5546492223862, 415.43078037948385, 960.2389762250081, 170.81939446491143, 235.5080395961, 267.7102752862181, 463.10877433150836, 277.1905576691496, 1443.459855287247, 723.1535085392605, 1311.1317199043951, 703.8780689023854, 466.38905018493654, 919.9607767091255, 3983.8747412496223, 321.676369243647, 1804.1538352091159, 2497.251776647887, 834.8981420114983, 613.5504230870721, 858.2900751911125, 610.0663708673584, 1313.3413499133449, 561.1909958015015, 483.3363035560584, 1769.6448946480434, 1531.59996188943, 2339.1161765308734, 2875.5552230499393, 2058.701049413551, 1686.597956340741, 3092.788197296052, 4367.238225950247, 2227.9553734547994, 1399.5627884566456, 2890.1233050393853, 672.3529867536839, 786.6542995638835, 327.5350252647932, 342.9033140123876, 314.0883002516362, 267.9851104998454, 236.28919118289107, 227.644852748931, 227.6448524231179, 219.0005184405256, 212.27713010771762, 218.04023582309168, 189.2255522976779, 176.7392852905867, 163.2925329647632, 222.84991119523315, 145.04336529862277, 885.6319505923145, 346.76182505201996, 127.75468552683365, 346.75192877082975, 116.22889191780172, 117.18978725182536, 111.42647986781277, 109.50551443906812, 109.5055201695138, 109.50551968522302, 104.703107945103, 205.56282342400596, 478.35496295331586, 154.6513640152335, 201.74320946553067, 1354.7572073541924, 291.0978910438893, 273.8085341360267, 484.7840460706766, 216.206709802816, 927.7713083727062, 439.6607053279431, 1292.6549292913573, 794.5201924082878, 477.5435664588405, 2227.9553734547994, 2219.677278973984, 2713.6879092425297, 5829.303909781891, 3983.8747412496223, 2204.6516551386244, 1029.6517266355838, 1313.3413499133449, 434.20557353936874, 2354.4713014487515, 882.5590595514354, 3092.788197296052, 1443.459855287247, 2875.5552230499393, 3301.09283431828, 731.3011297606882, 311.48219970755616, 300.8416521207089, 304.7108374237764, 232.16160197528862, 217.6517323306264, 190.56664123442863, 180.89340518944636, 176.05677437307787, 202.17421536353186, 167.35084942667007, 165.4161996519945, 155.74295229514968, 149.93900459830382, 128.65786118908719, 148.0063312469503, 128.6574400165086, 115.11531149269987, 114.14799078136693, 113.18066718774517, 110.27869710172473, 110.27868493317786, 103.50742025012337, 103.50742154063842, 715.8122241838545, 101.57277073411308, 101.57279473531436, 169.28409565180579, 98.67080305515852, 93.8341735712628, 550.3566622716047, 292.18325585696965, 261.18624225751665, 139.2974106212649, 154.77039391229528, 690.8590233067542, 1231.2883204375132, 187.7604086907147, 206.98870220480765, 963.8695513103531, 411.8517918404671, 173.11237366959432, 161.52030203449286, 461.0654229293892, 2636.9399379602, 325.6992051495121, 743.0764520747605, 811.49855758113, 599.207210674557, 665.0610445542247, 882.5590595514354, 620.3114290662002, 731.1512998762655, 2339.1161765308734, 1937.8437880646334, 703.8747782793532, 516.7468319643001, 671.954705918384, 575.9987565404542, 1399.5627884566456, 1313.3413499133449, 2713.6879092425297, 2875.5552230499393, 1769.6448946480434, 2497.251776647887], \"Category\": [\"Default\", \"Default\", \"Default\", \"Default\", \"Default\", \"Default\", \"Default\", \"Default\", \"Default\", \"Default\", \"Default\", \"Default\", \"Default\", \"Default\", \"Default\", \"Default\", \"Default\", \"Default\", \"Default\", \"Default\", \"Default\", \"Default\", \"Default\", \"Default\", \"Default\", \"Default\", \"Default\", \"Default\", \"Default\", \"Default\", \"Topic1\", \"Topic1\", \"Topic1\", \"Topic1\", \"Topic1\", \"Topic1\", \"Topic1\", \"Topic1\", \"Topic1\", \"Topic1\", \"Topic1\", \"Topic1\", \"Topic1\", \"Topic1\", \"Topic1\", \"Topic1\", \"Topic1\", \"Topic1\", \"Topic1\", \"Topic1\", \"Topic1\", \"Topic1\", \"Topic1\", \"Topic1\", \"Topic1\", \"Topic1\", \"Topic1\", \"Topic1\", \"Topic1\", \"Topic1\", \"Topic1\", \"Topic1\", \"Topic1\", \"Topic1\", \"Topic1\", \"Topic1\", \"Topic1\", \"Topic1\", \"Topic1\", \"Topic1\", \"Topic1\", \"Topic1\", \"Topic1\", \"Topic1\", \"Topic1\", \"Topic1\", \"Topic1\", \"Topic2\", \"Topic2\", \"Topic2\", \"Topic2\", \"Topic2\", \"Topic2\", \"Topic2\", \"Topic2\", \"Topic2\", \"Topic2\", \"Topic2\", \"Topic2\", \"Topic2\", \"Topic2\", \"Topic2\", \"Topic2\", \"Topic2\", \"Topic2\", \"Topic2\", \"Topic2\", \"Topic2\", \"Topic2\", \"Topic2\", \"Topic2\", \"Topic2\", \"Topic2\", \"Topic2\", \"Topic2\", \"Topic2\", \"Topic2\", \"Topic2\", \"Topic2\", \"Topic2\", \"Topic2\", \"Topic2\", \"Topic2\", \"Topic2\", \"Topic2\", \"Topic2\", \"Topic2\", \"Topic2\", \"Topic2\", \"Topic2\", \"Topic2\", \"Topic2\", \"Topic2\", \"Topic2\", \"Topic2\", \"Topic2\", \"Topic2\", \"Topic2\", \"Topic2\", \"Topic2\", \"Topic2\", \"Topic2\", \"Topic2\", \"Topic2\", \"Topic2\", \"Topic2\", \"Topic2\", \"Topic2\", \"Topic2\", \"Topic2\", \"Topic2\", \"Topic2\", \"Topic2\", \"Topic2\", \"Topic2\", \"Topic2\", \"Topic2\", \"Topic2\", \"Topic2\", \"Topic2\", \"Topic2\", \"Topic2\", \"Topic2\", \"Topic2\", \"Topic2\", \"Topic2\", \"Topic3\", \"Topic3\", \"Topic3\", \"Topic3\", \"Topic3\", \"Topic3\", \"Topic3\", \"Topic3\", \"Topic3\", \"Topic3\", \"Topic3\", \"Topic3\", \"Topic3\", \"Topic3\", \"Topic3\", \"Topic3\", \"Topic3\", \"Topic3\", \"Topic3\", \"Topic3\", \"Topic3\", \"Topic3\", \"Topic3\", \"Topic3\", \"Topic3\", \"Topic3\", \"Topic3\", \"Topic3\", \"Topic3\", \"Topic3\", \"Topic3\", \"Topic3\", \"Topic3\", \"Topic3\", \"Topic3\", \"Topic3\", \"Topic3\", \"Topic3\", \"Topic3\", \"Topic3\", \"Topic3\", \"Topic3\", \"Topic3\", \"Topic3\", \"Topic3\", \"Topic3\", \"Topic3\", \"Topic3\", \"Topic3\", \"Topic3\", \"Topic3\", \"Topic3\", \"Topic3\", \"Topic3\", \"Topic3\", \"Topic3\", \"Topic3\", \"Topic3\", \"Topic3\", \"Topic3\", \"Topic3\", \"Topic3\", \"Topic3\", \"Topic3\", \"Topic3\", \"Topic3\", \"Topic3\", \"Topic3\", \"Topic3\", \"Topic3\", \"Topic3\", \"Topic4\", \"Topic4\", \"Topic4\", \"Topic4\", \"Topic4\", \"Topic4\", \"Topic4\", \"Topic4\", \"Topic4\", \"Topic4\", \"Topic4\", \"Topic4\", \"Topic4\", \"Topic4\", \"Topic4\", \"Topic4\", \"Topic4\", \"Topic4\", \"Topic4\", \"Topic4\", \"Topic4\", \"Topic4\", \"Topic4\", \"Topic4\", \"Topic4\", \"Topic4\", \"Topic4\", \"Topic4\", \"Topic4\", \"Topic4\", \"Topic4\", \"Topic4\", \"Topic4\", \"Topic4\", \"Topic4\", \"Topic4\", \"Topic4\", \"Topic4\", \"Topic4\", \"Topic4\", \"Topic4\", \"Topic4\", \"Topic4\", \"Topic4\", \"Topic4\", \"Topic4\", \"Topic4\", \"Topic4\", \"Topic4\", \"Topic4\", \"Topic4\", \"Topic4\", \"Topic4\", \"Topic4\", \"Topic4\", \"Topic4\", \"Topic4\", \"Topic4\", \"Topic4\", \"Topic4\", \"Topic4\", \"Topic4\", \"Topic4\", \"Topic4\", \"Topic4\", \"Topic4\", \"Topic4\", \"Topic4\", \"Topic4\", \"Topic4\", \"Topic4\", \"Topic4\", \"Topic5\", \"Topic5\", \"Topic5\", \"Topic5\", \"Topic5\", \"Topic5\", \"Topic5\", \"Topic5\", \"Topic5\", \"Topic5\", \"Topic5\", \"Topic5\", \"Topic5\", \"Topic5\", \"Topic5\", \"Topic5\", \"Topic5\", \"Topic5\", \"Topic5\", \"Topic5\", \"Topic5\", \"Topic5\", \"Topic5\", \"Topic5\", \"Topic5\", \"Topic5\", \"Topic5\", \"Topic5\", \"Topic5\", \"Topic5\", \"Topic5\", \"Topic5\", \"Topic5\", \"Topic5\", \"Topic5\", \"Topic5\", \"Topic5\", \"Topic5\", \"Topic5\", \"Topic5\", \"Topic5\", \"Topic5\", \"Topic5\", \"Topic5\", \"Topic5\", \"Topic5\", \"Topic5\", \"Topic5\", \"Topic5\", \"Topic5\", \"Topic5\", \"Topic5\", \"Topic5\", \"Topic5\", \"Topic5\", \"Topic5\", \"Topic5\", \"Topic5\", \"Topic5\", \"Topic5\", \"Topic5\", \"Topic5\", \"Topic5\", \"Topic5\", \"Topic5\", \"Topic5\", \"Topic5\", \"Topic5\", \"Topic5\", \"Topic6\", \"Topic6\", \"Topic6\", \"Topic6\", \"Topic6\", \"Topic6\", \"Topic6\", \"Topic6\", \"Topic6\", \"Topic6\", \"Topic6\", \"Topic6\", \"Topic6\", \"Topic6\", \"Topic6\", \"Topic6\", \"Topic6\", \"Topic6\", \"Topic6\", \"Topic6\", \"Topic6\", \"Topic6\", \"Topic6\", \"Topic6\", \"Topic6\", \"Topic6\", \"Topic6\", \"Topic6\", \"Topic6\", \"Topic6\", \"Topic6\", \"Topic6\", \"Topic6\", \"Topic6\", \"Topic6\", \"Topic6\", \"Topic6\", \"Topic6\", \"Topic6\", \"Topic6\", \"Topic6\", \"Topic6\", \"Topic6\", \"Topic6\", \"Topic6\", \"Topic6\", \"Topic6\", \"Topic6\", \"Topic6\", \"Topic6\", \"Topic6\", \"Topic6\", \"Topic6\", \"Topic6\", \"Topic6\", \"Topic6\", \"Topic6\", \"Topic6\", \"Topic7\", \"Topic7\", \"Topic7\", \"Topic7\", \"Topic7\", \"Topic7\", \"Topic7\", \"Topic7\", \"Topic7\", \"Topic7\", \"Topic7\", \"Topic7\", \"Topic7\", \"Topic7\", \"Topic7\", \"Topic7\", \"Topic7\", \"Topic7\", \"Topic7\", \"Topic7\", \"Topic7\", \"Topic7\", \"Topic7\", \"Topic7\", \"Topic7\", \"Topic7\", \"Topic7\", \"Topic7\", \"Topic7\", \"Topic7\", \"Topic7\", \"Topic7\", \"Topic7\", \"Topic7\", \"Topic7\", \"Topic7\", \"Topic7\", \"Topic7\", \"Topic7\", \"Topic7\", \"Topic7\", \"Topic7\", \"Topic7\", \"Topic7\", \"Topic7\", \"Topic7\", \"Topic7\", \"Topic7\", \"Topic7\", \"Topic7\", \"Topic7\", \"Topic7\", \"Topic7\", \"Topic7\", \"Topic7\", \"Topic7\", \"Topic7\", \"Topic7\", \"Topic7\", \"Topic7\", \"Topic7\", \"Topic7\", \"Topic7\", \"Topic7\", \"Topic7\"], \"logprob\": [30.0, 29.0, 28.0, 27.0, 26.0, 25.0, 24.0, 23.0, 22.0, 21.0, 20.0, 19.0, 18.0, 17.0, 16.0, 15.0, 14.0, 13.0, 12.0, 11.0, 10.0, 9.0, 8.0, 7.0, 6.0, 5.0, 4.0, 3.0, 2.0, 1.0, -3.111, -3.8993, -4.4847, -5.0606, -5.197, -5.2058, -5.3488, -5.4301, -5.4698, -5.3646, -5.6625, -5.2288, -5.8475, -5.7639, -5.9732, -4.5899, -5.8148, -6.0225, -6.0271, -6.1584, -5.5493, -6.1779, -6.1637, -6.2236, -5.7918, -6.2349, -6.2995, -6.3055, -6.4149, -6.4757, -5.611, -6.3687, -3.9753, -4.9288, -5.9098, -5.8829, -4.8212, -5.8627, -4.7461, -5.8009, -5.6466, -5.232, -5.2062, -5.7639, -5.5586, -5.8141, -5.704, -4.8013, -5.6356, -6.2037, -6.2776, -6.7891, -6.8082, -6.9368, -7.047, -7.1778, -7.2133, -7.2281, -7.3042, -7.3122, -7.3782, -7.3868, -7.3955, -7.37, -5.1636, -7.4399, -7.449, -7.4768, -7.4863, -7.535, -7.535, -7.5655, -7.5655, -7.5862, -7.5968, -7.5968, -7.2989, -5.1461, -6.6343, -4.8464, -6.71, -7.176, -5.7354, -6.0932, -6.7847, -4.6895, -6.5298, -6.716, -6.1627, -6.1927, -6.3393, -6.8532, -6.9061, -6.1556, -5.239, -6.0012, -6.6001, -6.9859, -4.2306, -4.9767, -5.8631, -6.1278, -6.226, -4.5255, -5.0318, -5.2599, -5.3748, -6.1339, -6.3708, -5.7145, -5.7187, -5.9608, -5.1464, -5.9119, -5.8092, -5.2521, -5.5074, -5.612, -5.8029, -5.9668, -5.9, -5.7911, -5.8067, -5.8129, -5.8825, -5.9353, -5.5872, -6.1299, -6.5436, -6.3223, -6.6416, -6.7598, -6.6596, -6.8829, -6.1477, -7.1018, -7.1155, -7.1089, -6.8367, -7.1722, -7.1234, -7.3384, -7.3914, -7.3914, -7.4006, -7.4668, -7.4767, -7.2499, -7.6607, -7.6726, -7.697, -7.722, -7.7476, -7.7872, -7.7355, -7.7881, -7.0435, -7.2781, -6.4231, -6.3198, -6.7716, -7.4063, -6.1547, -7.2677, -4.0901, -5.4689, -7.2454, -5.6358, -5.3354, -6.5634, -6.4271, -5.1211, -5.1037, -6.3758, -5.6862, -6.0009, -6.5283, -6.0006, -5.801, -6.1731, -5.6948, -4.917, -5.9435, -6.068, -5.9602, -5.9109, -5.5457, -5.6682, -5.4552, -5.6488, -5.8172, -6.1971, -5.8975, -5.9776, -6.2273, -6.1175, -6.1274, -6.3924, -5.9129, -6.6347, -6.6939, -6.7669, -6.8347, -6.9674, -6.9492, -7.0115, -7.1348, -7.157, -7.006, -6.9091, -7.2264, -7.2589, -4.879, -7.4101, -7.4694, -7.4694, -7.5005, -7.5325, -7.5769, -7.5999, -7.6353, -7.6973, -7.7772, -7.7772, -4.8032, -7.8343, -7.8343, -6.8162, -6.5803, -5.9693, -7.1178, -5.9158, -6.6894, -7.0825, -6.919, -5.725, -6.2377, -6.1551, -6.1593, -5.611, -6.4786, -6.569, -5.944, -5.91, -5.9749, -4.3195, -5.8683, -6.0887, -6.2394, -6.2197, -5.6072, -6.039, -6.2883, -5.7244, -6.3785, -5.7059, -5.7169, -5.7781, -5.7253, -5.7175, -5.9434, -5.8348, -6.026, -6.0586, -6.0255, -6.1174, -6.1202, -6.13, -6.1386, -5.771, -5.8955, -6.0378, -6.0503, -6.4852, -6.6698, -6.7482, -6.8389, -6.873, -6.8562, -7.0632, -7.0915, -6.3065, -7.2301, -7.3073, -7.3436, -7.3623, -7.5945, -7.7211, -7.7909, -7.8054, -7.8505, -7.5295, -7.8976, -7.9472, -7.9815, -8.0924, -8.1122, -7.917, -7.4696, -6.7704, -5.598, -6.5825, -6.4438, -6.5076, -6.0906, -5.3262, -6.9343, -6.6389, -6.5266, -6.0424, -6.505, -5.1481, -5.7578, -5.3163, -5.8316, -6.1622, -5.6583, -4.5887, -6.5069, -5.4714, -5.281, -5.944, -6.1391, -5.9609, -6.1466, -5.7656, -6.1983, -6.284, -5.7934, -5.876, -5.8454, -5.8335, -5.9486, -6.0384, -5.9316, -5.8987, -6.0686, -6.1381, -4.0078, -5.4668, -5.3101, -6.1869, -6.1411, -6.2289, -6.3881, -6.5144, -6.5518, -6.5518, -6.5907, -6.622, -6.5952, -6.7374, -6.806, -6.8855, -6.5752, -7.0047, -5.1957, -6.1337, -7.1324, -6.1342, -7.2276, -7.2196, -7.2701, -7.2876, -7.2876, -7.2876, -7.3328, -6.6585, -5.8147, -6.9446, -6.6822, -4.8151, -6.3354, -6.3962, -5.8944, -6.6628, -5.3805, -6.1169, -5.3296, -5.8158, -6.2072, -5.4176, -5.4459, -5.4663, -5.1378, -5.3174, -5.5843, -5.9736, -5.9237, -6.3235, -5.7652, -6.0974, -5.8033, -6.1386, -6.1702, -6.1698, -5.2983, -6.1533, -6.1882, -6.1754, -6.4481, -6.5129, -6.6463, -6.6987, -6.7259, -6.5876, -6.7769, -6.7885, -6.8491, -6.8873, -7.0413, -6.9017, -7.0418, -7.1533, -7.1618, -7.1704, -7.1965, -7.1966, -7.2604, -7.2604, -5.3267, -7.2794, -7.2794, -6.7689, -7.3087, -7.3593, -5.5972, -6.2268, -6.3383, -6.9645, -6.8602, -5.3887, -4.869, -6.6909, -6.6013, -5.1593, -5.9573, -6.7794, -6.8456, -5.9782, -4.6414, -6.2976, -5.6752, -5.6473, -5.878, -5.8059, -5.6313, -5.9453, -5.8649, -5.1996, -5.6081, -6.0951, -6.2469, -6.1736, -6.234, -5.9539, -5.9758, -5.974, -5.9919, -6.0664, -6.1312], \"loglift\": [30.0, 29.0, 28.0, 27.0, 26.0, 25.0, 24.0, 23.0, 22.0, 21.0, 20.0, 19.0, 18.0, 17.0, 16.0, 15.0, 14.0, 13.0, 12.0, 11.0, 10.0, 9.0, 8.0, 7.0, 6.0, 5.0, 4.0, 3.0, 2.0, 1.0, 1.5687, 1.5686, 1.5685, 1.5683, 1.5682, 1.5682, 1.5681, 1.5681, 1.568, 1.568, 1.5679, 1.5677, 1.5676, 1.5675, 1.5675, 1.5675, 1.5675, 1.5675, 1.5675, 1.5673, 1.5673, 1.5673, 1.5672, 1.5672, 1.5672, 1.5672, 1.5671, 1.5671, 1.5668, 1.5667, 1.5654, 1.5667, 1.5225, 1.5412, 1.5594, 1.5515, 1.4848, 1.5424, 1.4393, 1.5116, 1.3556, 0.8237, 0.6908, 1.0938, 0.1016, 1.211, -0.3326, 1.9154, 1.9147, 1.9137, 1.9135, 1.9119, 1.9119, 1.9113, 1.9108, 1.91, 1.9098, 1.9096, 1.9093, 1.9092, 1.9087, 1.9087, 1.9086, 1.9086, 1.9084, 1.9083, 1.9082, 1.908, 1.9079, 1.9075, 1.9075, 1.9073, 1.9073, 1.9071, 1.907, 1.907, 1.9068, 1.8917, 1.906, 1.8879, 1.9011, 1.9049, 1.8849, 1.8872, 1.8978, 1.8529, 1.8898, 1.8867, 1.8627, 1.8595, 1.8611, 1.8819, 1.8841, 1.8234, 1.7336, 1.7942, 1.8277, 1.8792, 1.4296, 1.5503, 1.6883, 1.7359, 1.7535, 1.3716, 1.4409, 1.4903, 1.4908, 1.7007, 1.7595, 1.4868, 1.4701, 1.5636, 1.1219, 1.5136, 1.3983, 0.8036, 0.9545, 0.9996, 1.264, 1.4887, 1.2225, 0.7253, 0.2713, 0.1271, 0.2535, 0.4634, 1.9751, 1.9736, 1.9731, 1.9728, 1.9728, 1.9723, 1.972, 1.9718, 1.9713, 1.9706, 1.9705, 1.9703, 1.9702, 1.9702, 1.9695, 1.9691, 1.9687, 1.9687, 1.9686, 1.9681, 1.968, 1.9677, 1.9663, 1.9662, 1.9659, 1.9657, 1.9654, 1.9649, 1.9647, 1.9641, 1.9636, 1.9632, 1.9232, 1.91, 1.9278, 1.9539, 1.8766, 1.9418, 1.6269, 1.7519, 1.9341, 1.6712, 1.4957, 1.7804, 1.7266, 1.3486, 1.3085, 1.6631, 1.4288, 1.5294, 1.7117, 1.445, 1.3322, 1.5052, 1.142, 0.4544, 1.2019, 1.2629, 1.1067, 0.9486, 0.4595, 0.6098, 0.2968, 0.2912, 0.5215, 1.2673, 0.4357, 0.1004, 1.3083, 0.2194, 0.2713, 2.0061, 2.0057, 2.0053, 2.0051, 2.0048, 2.0045, 2.0038, 2.0038, 2.0036, 2.0029, 2.0027, 2.0027, 2.0026, 2.0023, 2.002, 2.0014, 2.0009, 2.0004, 2.0004, 2.0001, 1.9998, 1.9994, 1.9992, 1.9989, 1.9982, 1.9973, 1.9973, 1.997, 1.9966, 1.9966, 1.9912, 1.9835, 1.9707, 1.9843, 1.9511, 1.9687, 1.9786, 1.9536, 1.8482, 1.884, 1.8581, 1.847, 1.7631, 1.8515, 1.8653, 1.6908, 1.6605, 1.6679, 1.0519, 1.5462, 1.6052, 1.6511, 1.6069, 1.2675, 1.4092, 1.5258, 0.8871, 1.5169, 0.6378, 0.5514, 0.6341, 0.2148, -0.0006, 0.4553, -0.0828, 0.3127, 0.2193, -0.0203, 0.399, 0.354, -0.0519, 0.4433, 2.0489, 2.0487, 2.0484, 2.0484, 2.0472, 2.0465, 2.0462, 2.0457, 2.0456, 2.0453, 2.0446, 2.0444, 2.0442, 2.0435, 2.0429, 2.0426, 2.0425, 2.0404, 2.039, 2.0382, 2.038, 2.0374, 2.0372, 2.0368, 2.036, 2.0356, 2.0338, 2.0335, 2.0334, 2.0331, 2.0241, 1.9932, 2.0019, 1.995, 1.9755, 1.9221, 1.8487, 1.9672, 1.9414, 1.9255, 1.8616, 1.9123, 1.6192, 1.7006, 1.5471, 1.6538, 1.7348, 1.5594, 1.1633, 1.7616, 1.0727, 0.938, 1.3708, 1.4837, 1.3262, 1.4818, 1.0961, 1.5137, 1.5773, 0.7701, 0.832, 0.4391, 0.2445, 0.4636, 0.5732, 0.0736, -0.2386, 0.2646, 0.66, 2.0652, 2.0645, 2.0641, 2.0635, 2.0635, 2.0634, 2.063, 2.0625, 2.0624, 2.0624, 2.0623, 2.0621, 2.0621, 2.0617, 2.0613, 2.061, 2.0604, 2.0603, 2.0601, 2.0597, 2.0595, 2.0592, 2.0589, 2.0587, 2.0586, 2.0584, 2.0584, 2.0584, 2.0581, 2.0578, 2.057, 2.0563, 2.0528, 2.0155, 2.0329, 2.0334, 1.9639, 2.003, 1.8288, 1.8391, 1.548, 1.5485, 1.6661, 0.9156, 0.891, 0.6697, 0.2336, 0.4346, 0.7594, 1.1315, 0.938, 1.6451, 0.5128, 1.1618, 0.202, 0.6286, -0.0921, -0.2298, 2.1489, 2.1474, 2.1473, 2.1473, 2.1465, 2.1462, 2.1457, 2.1454, 2.1453, 2.1453, 2.1451, 2.145, 2.1447, 2.1445, 2.1436, 2.1431, 2.1431, 2.1428, 2.1427, 2.1427, 2.1425, 2.1424, 2.142, 2.142, 2.1419, 2.1418, 2.1418, 2.1416, 2.1416, 2.1412, 2.1343, 2.1379, 2.1385, 2.1409, 2.1398, 2.1154, 2.0572, 2.116, 2.108, 2.0117, 2.0641, 2.1087, 2.1118, 1.9303, 1.5232, 1.9584, 1.756, 1.6959, 1.7684, 1.7363, 1.6279, 1.6665, 1.5825, 1.0849, 0.8646, 1.3904, 1.5476, 1.3583, 1.4519, 0.8442, 0.8859, 0.1619, 0.0861, 0.4971, 0.0879]}, \"token.table\": {\"Topic\": [1, 3, 4, 5, 6, 7, 5, 1, 2, 3, 4, 5, 6, 7, 1, 2, 3, 4, 5, 6, 7, 4, 2, 5, 4, 2, 7, 5, 1, 2, 3, 4, 5, 6, 7, 6, 7, 2, 3, 3, 1, 2, 3, 4, 5, 7, 3, 5, 2, 3, 7, 1, 5, 7, 1, 5, 6, 1, 3, 6, 2, 5, 6, 7, 4, 6, 1, 2, 3, 4, 5, 6, 7, 2, 3, 4, 5, 6, 7, 1, 2, 2, 6, 7, 2, 1, 2, 4, 7, 7, 2, 7, 1, 2, 3, 4, 2, 3, 4, 5, 6, 7, 6, 3, 5, 7, 4, 4, 7, 1, 2, 3, 4, 5, 6, 7, 1, 2, 3, 4, 5, 6, 7, 2, 4, 5, 7, 5, 3, 2, 5, 7, 7, 4, 5, 3, 1, 2, 3, 4, 5, 6, 7, 1, 4, 5, 6, 1, 7, 4, 3, 6, 2, 6, 7, 5, 7, 2, 1, 2, 4, 5, 7, 2, 1, 2, 3, 4, 5, 6, 7, 1, 2, 3, 4, 5, 6, 7, 1, 2, 3, 4, 5, 6, 7, 1, 2, 3, 4, 5, 6, 7, 5, 6, 7, 2, 7, 1, 2, 3, 4, 5, 6, 7, 7, 3, 3, 5, 6, 7, 6, 7, 4, 1, 2, 3, 4, 5, 2, 3, 4, 6, 3, 4, 3, 4, 6, 7, 4, 1, 3, 5, 1, 2, 2, 1, 2, 3, 4, 3, 4, 5, 6, 7, 1, 2, 3, 4, 6, 6, 1, 2, 3, 4, 6, 7, 3, 5, 3, 5, 2, 7, 1, 2, 3, 4, 5, 6, 7, 5, 5, 2, 5, 7, 2, 3, 4, 5, 6, 4, 2, 7, 4, 6, 3, 1, 2, 3, 4, 5, 6, 7, 1, 2, 3, 4, 5, 6, 7, 5, 5, 6, 7, 1, 2, 3, 4, 5, 6, 4, 1, 2, 4, 5, 6, 7, 4, 5, 6, 7, 5, 6, 7, 1, 5, 5, 3, 4, 4, 4, 4, 1, 2, 3, 4, 5, 6, 7, 1, 3, 4, 5, 6, 7, 2, 5, 6, 7, 1, 2, 3, 4, 5, 6, 7, 1, 3, 4, 5, 6, 1, 2, 3, 4, 5, 6, 7, 3, 6, 1, 3, 5, 6, 7, 6, 2, 6, 7, 1, 2, 3, 4, 5, 6, 7, 2, 7, 1, 3, 4, 6, 3, 4, 5, 1, 2, 3, 4, 5, 6, 7, 3, 2, 3, 4, 5, 6, 7, 2, 3, 4, 5, 6, 7, 2, 4, 5, 3, 5, 2, 3, 4, 6, 7, 1, 2, 3, 4, 5, 6, 7, 7, 1, 2, 3, 4, 5, 6, 5, 5, 6, 3, 4, 3, 4, 5, 3, 3, 3, 3, 1, 6, 1, 3, 7, 3, 1, 2, 3, 4, 5, 6, 7, 1, 2, 3, 4, 5, 6, 7, 1, 2, 3, 4, 5, 6, 7, 1, 2, 2, 4, 2, 5, 6, 7, 3, 7, 2, 3, 2, 1, 2, 3, 4, 5, 7, 2, 7, 3, 5, 6, 7, 3, 4, 6, 7, 3, 1, 1, 2, 3, 5, 6, 7, 5, 1, 2, 3, 4, 5, 6, 7, 2, 3, 4, 5, 7, 4, 3, 6, 1, 2, 4, 5, 7, 2, 3, 4, 3, 6, 2, 3, 4, 5, 6, 1, 1, 1, 1, 2, 3, 4, 5, 6, 7, 2, 4, 5, 6, 7, 1, 2, 3, 4, 5, 6, 7, 4, 5, 3, 1, 2, 3, 4, 5, 6, 7, 1, 2, 3, 4, 5, 6, 7, 2, 2, 1, 2, 3, 4, 5, 6, 7, 3, 6, 6, 7, 1, 2, 3, 4, 5, 6, 7, 3, 5, 6, 7, 3, 1, 2, 3, 4, 5, 6, 7, 1, 2, 3, 4, 5, 6, 7, 7, 5, 7, 2, 3, 4, 5, 2, 3, 4, 5, 6, 7, 1, 4, 2, 1, 2, 3, 4, 5, 6, 5, 6, 2, 5, 6, 7, 7, 1, 2, 3, 5, 6, 7, 3, 5, 6, 6, 2, 3, 4, 5, 1, 2, 3, 4, 5, 6, 7, 1, 2, 7, 2, 5, 5, 5, 3, 1, 3, 4, 5, 1, 2, 3, 4, 5, 6, 7, 1, 3, 4, 5, 6, 7, 1, 2, 7, 1, 6, 7, 3, 5, 6, 7, 1, 3, 5, 6, 7, 1, 3, 5, 6, 7, 1, 1, 3, 4, 5, 7, 2, 4, 1, 2, 3, 4, 5, 6, 7, 6, 2, 1, 2, 4, 5, 1, 2, 6, 2, 4, 2, 4, 4, 1, 4, 6, 7, 5, 6, 1, 2, 3, 4, 5, 6, 7, 1, 2, 3, 4, 5, 6, 7, 1, 2, 3, 4, 5, 7, 2, 3, 6, 1, 4, 5, 1, 2, 3, 4, 2, 2, 4, 5, 7, 2, 5, 7, 2, 5, 7, 5, 2, 4, 7, 1, 2, 3, 4, 5, 6, 7, 3, 5, 6, 7, 1, 6, 1, 2, 3, 4, 5, 6, 7, 2, 3, 4, 5, 6, 1, 2, 4, 6, 1, 2, 7, 2, 3, 1, 1, 4, 3, 1, 7, 3, 7, 1, 2, 3, 4, 5, 6, 7, 7, 6, 2, 2, 6, 2, 4, 5, 6, 7, 4, 1, 3, 1, 3, 1, 3, 4, 1, 3, 4, 1, 2, 3, 4, 1, 3, 5, 6, 1, 2, 3, 7, 7, 3, 1, 2, 3, 4, 7, 1, 3, 6, 3, 1, 2, 7, 1, 2, 5, 6, 7, 1, 2, 3, 5, 6, 7, 1, 2, 3, 4, 5, 6, 7, 4, 1, 2, 4, 5, 6, 7, 7, 6, 4, 5, 4, 5, 2, 2, 4, 4, 5, 6, 7, 6, 1, 2, 3, 4, 5, 6, 7, 1, 3, 4, 3, 4, 5, 6, 7, 5, 6, 7, 6, 2, 3, 2, 7, 1, 2, 5, 6, 7, 4, 1, 2, 6, 7, 3, 4, 5, 6, 1, 3, 4, 5, 6, 7, 2, 2, 1, 1, 2, 3, 5, 7, 1, 2, 3, 4, 7, 1, 3, 1, 1, 2, 4, 1, 2, 3, 4, 5, 7, 1, 2, 3, 4, 5, 7, 4, 3, 4, 5, 6, 4, 1, 2, 3, 5, 6, 7, 1, 2, 3, 4, 5, 6, 7, 4, 6, 1, 5, 6, 7, 1, 5, 6, 7, 1, 2, 5, 6, 7, 7, 5, 7, 5, 1, 7, 2, 6, 7, 2, 2, 7, 5, 2, 5, 7, 3, 6, 5, 6, 6, 1, 2, 3, 4, 5, 6, 7, 7, 7, 7, 1, 3, 4, 6, 2, 4, 5, 5, 1, 6, 7, 1, 2, 3, 4, 5, 6, 7, 2, 5, 7, 5, 1, 4, 1, 2, 4, 1, 3, 4, 5, 6, 3, 3, 5, 5, 1, 2, 3, 4, 5, 6, 7, 1, 2, 3, 4, 2, 3, 4], \"Freq\": [0.125348634542086, 0.35781337496559096, 0.19448030571378191, 0.1466199179795309, 0.16105400316922563, 0.01367439649550029, 0.9890267306045104, 0.040171284896378154, 0.019476986616425773, 0.4893592887376975, 0.11686191969855463, 0.036519349905798325, 0.23250652773358266, 0.06451751816691037, 0.013911940466651014, 0.0013911940466651016, 0.49248269251944593, 0.12798985229318935, 0.051474179726608754, 0.16972567369314237, 0.14190179275984036, 0.9939713771220748, 0.972632477452931, 0.027483067936299222, 0.9969495789693934, 0.010267528819203002, 0.9891052762498891, 0.9825180326025228, 0.23662079553969423, 0.0541207138734407, 0.03901725883899214, 0.05915519888492356, 0.011327591275836426, 0.5953278526078477, 0.005034485011482856, 0.03465956749834485, 0.9589147007875408, 0.03186520153323044, 0.9639223463802208, 0.9909480537516137, 0.0005929095290555253, 0.4002139321124795, 0.04328239562105334, 0.32550733145148336, 0.22827016868637723, 0.0017787285871665758, 0.051604554629082644, 0.9473121814053028, 0.9830118497720077, 0.0047034059797703715, 0.009406811959540743, 0.9984520714842895, 0.9905960119300348, 0.9950977279398348, 0.9987768394923044, 0.9731702843197874, 0.021041519660968375, 0.9981515967027086, 0.0009824326739199887, 0.9979876838798374, 0.0064972597134336195, 0.07877927402538264, 0.0032486298567168097, 0.9112406748090651, 0.9922034346296316, 0.9953836145732549, 0.05233338765643242, 0.17558230786179863, 0.036405834891431246, 0.05991793659214726, 0.0629517561664332, 0.07850008148464863, 0.5343314725211107, 0.14171312927873297, 0.002464576161369269, 0.002464576161369269, 0.023413473533008055, 0.19470151674817227, 0.6346283615525868, 0.1658869772999682, 0.8336883987383017, 0.9901499519891445, 0.9983665097668236, 0.9899429611199576, 0.9938145118322926, 0.006241809149300889, 0.004161206099533926, 0.9445937845942013, 0.04369266404510623, 0.9970265455131175, 0.9950490626821985, 0.9976671738039045, 0.08157896011677652, 0.036257315607456236, 0.7674465136911569, 0.11481483275694473, 0.022288787115240166, 0.6389452306368847, 0.20059908403716148, 0.052007169935560385, 0.08321147189689661, 0.001485919141016011, 0.9898473469427104, 0.9932592328128369, 0.0069850721056081925, 0.9918802389963634, 0.9907128416996541, 0.9592929050681123, 0.03671934564854018, 0.13961338146871008, 0.06325026121786866, 0.2707419717984378, 0.4766909930810101, 0.03316781990693112, 0.016198237628966362, 0.0015426892979967964, 0.027548270672380106, 0.17247612942707546, 0.2143974108850452, 0.05629429224355935, 0.5066486301920341, 0.013175259886790486, 0.00958200719039308, 0.01430974536541114, 0.9730626848479575, 0.00715487268270557, 0.9970056184545484, 0.9910784430852262, 0.9944647925034803, 0.938876051700264, 0.058091918343269135, 0.0027662818258699586, 0.9984519188961395, 0.0033750919082824, 0.9922770210350256, 0.9909480436364134, 0.30628102770586974, 0.3823408162528274, 0.03675372332470437, 0.10362508104048593, 0.06482948419774243, 0.0714655731313696, 0.03522231818617502, 0.9195011708648484, 0.07993763148136211, 0.000436817658368099, 0.000436817658368099, 0.9988656769729426, 0.9932007554104477, 0.9944863084681195, 0.000692011997035796, 0.9992653237196895, 0.9880609037080819, 0.9973656888823332, 0.993997536437658, 0.9984916144985158, 0.9950611511320122, 0.9971412486832228, 0.017424505413002202, 0.9467314607731196, 0.017424505413002202, 0.017424505413002202, 0.002904084235500367, 0.9894873246706424, 0.09505203583419229, 0.08291773338727412, 0.4611034929828903, 0.1698802342568543, 0.07583939029323854, 0.08291773338727412, 0.03235813985844844, 0.12316990222881774, 0.026757599449708683, 0.254834280473416, 0.1669164537100875, 0.13591161625248854, 0.2115124527929353, 0.08027279834912605, 0.061234163540231236, 0.053069608401533734, 0.14650840609996066, 0.25400838209281107, 0.1347151597885087, 0.27079107876680036, 0.07983120580059776, 0.14941749709402083, 0.026418248625119642, 0.21820787176072848, 0.38392234040920625, 0.059012191734033485, 0.1600534153716664, 0.0029163001729028176, 0.0016120934632872597, 0.3804540573357933, 0.6158197029757332, 0.998981910161012, 0.9949965801174465, 0.1377644327828944, 0.117524160667872, 0.17498041699438718, 0.0463567522634384, 0.2957691376808112, 0.1423348168088672, 0.084878560482352, 0.9941920617254753, 0.9960399952111573, 0.00770550635864897, 0.9285135162172009, 0.05779129768986728, 0.003852753179324485, 0.9908959595058264, 0.006271493414593839, 0.9952000338616973, 0.0015511028602277763, 0.029470954344327747, 0.0915150687534388, 0.8515554702650492, 0.026368748623872198, 0.06315113603681069, 0.3157556801840535, 0.6176970493600547, 0.001973473001150334, 0.02747125478541926, 0.968361731186029, 0.020883154891276366, 0.9731550179334786, 0.9389162814842299, 0.06012764364184724, 0.9906036481688709, 0.9988667254048538, 0.9958806995786861, 0.002677098654781414, 0.08611127789882832, 0.9123140793605594, 0.9967808771782919, 0.1412941013700593, 0.019630912883318703, 0.7050163651552358, 0.13402339289475607, 0.5129448009466047, 0.2530721981943002, 0.2044978799228414, 0.026230131866587736, 0.0034002022790021137, 0.09146167172009576, 0.002771565809699871, 0.7788099925256639, 0.09423323752979562, 0.03048722390669858, 0.9894269669311585, 0.0856622195361721, 0.6218251478378759, 0.010836786808792857, 0.0005160374670853742, 0.004644337203768368, 0.27659608235776056, 0.9518153169894696, 0.04304692388394586, 0.9988270283950057, 0.994688739154371, 0.9945722998573135, 0.99822080165374, 0.013758115199287388, 0.653510471966151, 0.012993775465993644, 0.051975101863974575, 0.25911116958657915, 0.003821698666468719, 0.005350378133056206, 0.9903149941669953, 0.985974992440613, 0.0038286855821986583, 0.0076573711643973166, 0.9878008802072539, 0.06218451542881069, 0.019133697055018672, 0.851449518948331, 0.06696793969256536, 0.9940926978629278, 0.9879356257487595, 0.9915630095850083, 0.9932016053950273, 0.004487325099824363, 0.9961861721610086, 0.9906113840986376, 0.22435693905475926, 0.1283970434349526, 0.1725476057389012, 0.0009010318837540533, 0.15002180864504988, 0.30860342018576326, 0.015317542023818907, 0.26477122171661577, 0.1916713409383327, 0.15656037458025973, 0.20893902931115546, 0.06676839504158136, 0.09324551721324294, 0.017267688372822766, 0.9873852384343093, 0.13230226550591276, 0.06289779835527, 0.8024891514293069, 0.0635932578077726, 0.1390428857152994, 0.005389259136251915, 0.0010778518272503831, 0.0021557036545007662, 0.7889875375472803, 0.9928750054597806, 0.0017819245274450367, 0.10513354711925715, 0.0017819245274450367, 0.584471245001972, 0.03207464149401066, 0.2744163772265356, 0.0020783397536213457, 0.6498275629656074, 0.23762351183070718, 0.1108447868598051, 0.0011330686475625263, 0.40450550717982187, 0.5937279713227638, 0.9985221183185387, 0.9973458125601447, 0.9763223481308312, 0.006981508702394589, 0.9921499589291866, 0.9896495513441055, 0.9961274415240228, 0.995673397628461, 0.11962907101993979, 0.19300620469786797, 0.15336168697614375, 0.12727976742237782, 0.16414221372503368, 0.11545596389133725, 0.12693200849499425, 0.0009988641890775508, 0.5254025634547916, 0.25371150402569786, 0.1598182702524081, 0.056935258777420394, 0.002996592567232652, 0.017369679768475393, 0.013027259826356545, 0.0014474733140396163, 0.965464700464424, 0.007532381982243817, 0.5961342311661535, 0.026901364222299346, 0.01398870939559566, 0.015064763964487634, 0.23350384144955832, 0.10760545688919738, 0.0033519939806954347, 0.8212385252703814, 0.053631903691126956, 0.053631903691126956, 0.06703987961390868, 0.022877861292110547, 0.1022774975412001, 0.002691513093189476, 0.013457565465947379, 0.17763986415050542, 0.005383026186378952, 0.6742240298439638, 0.002883823788417262, 0.9949192070039554, 0.3933998192012803, 0.0016391659133386679, 0.5655122401018404, 0.004917497740016004, 0.03278331826677336, 0.9952291565858713, 0.915095533177138, 0.003645798936960709, 0.0802075766131356, 0.16813307825431534, 0.11445982635005313, 0.21954300025900023, 0.13127313417548467, 0.13838645671701338, 0.15487643169964815, 0.07307322247206782, 0.03195561855579151, 0.9639944930997104, 0.9441189506676128, 0.05497401484900023, 0.009913592657212658, 0.9864024693926594, 0.9878111092443856, 0.9441912225847053, 0.05119109038109848, 0.18199123066354472, 0.033248397909686055, 0.07524637421665792, 0.6684677895526354, 0.017499156794571608, 0.024498819512400252, 0.0017499156794571608, 0.9907435021763442, 0.6512263839897459, 0.01497072147102864, 0.19034203013164988, 0.08982432882617185, 0.010693372479306172, 0.04170415266929407, 0.6531589016671547, 0.00953516644769569, 0.1784438292354479, 0.05652991536848159, 0.021113582848469026, 0.08036783148772082, 0.009307431976285375, 0.988019702097986, 0.0021478689176043174, 0.993025270008859, 0.9957188221363267, 0.018564967376603583, 0.07632264365937029, 0.0020627741529559537, 0.9034950789947077, 0.9979035097349548, 0.1224950975283016, 0.08535857474822825, 0.08757568058584457, 0.1385691148510199, 0.37635371593537004, 0.15907734384897085, 0.030485205267224376, 0.9950977403465645, 0.04996363272792261, 0.010337303323018472, 0.6236839671554478, 0.18779434370150225, 0.04479498106641338, 0.08097554269697803, 0.9958887445447101, 0.995199669140997, 0.9920845556052332, 0.13210305045922688, 0.8660088863438208, 0.7992421283061888, 0.19081496924090458, 0.00981334127524652, 0.9889578019527787, 0.9961077055503667, 0.9983314973455846, 0.991284016869022, 0.9982790124266238, 0.9935233255614975, 0.08507375286263928, 0.04357436122232744, 0.870449739655541, 0.9925486677531744, 0.10032433963281541, 0.034984897923238195, 0.5335196933293824, 0.1353092375560536, 0.04578905757600293, 0.06379599033061083, 0.08540430963614029, 0.015004685872762841, 0.19220288094158117, 0.06430579659755503, 0.05501718153346375, 0.2486490801772128, 0.15361940298304813, 0.2707988545608151, 0.019665547381328564, 0.09661768930826642, 0.14791911725955834, 0.0564315707464211, 0.19964805711044434, 0.13552127217132945, 0.34457459107284394, 0.025635258578208295, 0.9718093479193509, 0.002190888333518745, 0.996854191751029, 0.004246139544599054, 0.8959354439104004, 0.02123069772299527, 0.07643051180278297, 0.9586161044145288, 0.0386538751780052, 0.965296064307484, 0.03387003734412224, 0.9946199960587396, 0.6993563195831953, 0.036761037311424376, 0.03138137331463056, 0.19456451455070947, 0.0008966106661323017, 0.036761037311424376, 0.9913332281372678, 0.008159121219236773, 0.003652187113726722, 0.003652187113726722, 0.9678295851375813, 0.025565309796087055, 0.015921368262325597, 0.01137240590166114, 0.7960684131162798, 0.17513505088558157, 0.9972322461734218, 0.9997532234065121, 0.05415318612084238, 0.00624844455240489, 0.016662518806413038, 0.8175048289396397, 0.1041407425400815, 0.0010414074254008149, 0.9941090307963613, 0.0013234786923702173, 0.08867307238880456, 0.017205223000812824, 0.6299758575682234, 0.0383808820787363, 0.031763488616885216, 0.19322788908605174, 0.045758318790406594, 0.05057498392623887, 0.8597747267460607, 0.00722499770374841, 0.03853332108665818, 0.9912363975023178, 0.004864692862956748, 0.9923973440431766, 0.02344062468776129, 0.6522009104300641, 0.176494115296085, 0.13926488785081706, 0.006894301378753321, 0.0024522940519789886, 0.9048965051802469, 0.09073487992322259, 0.9360746683415386, 0.06280373174176457, 0.9934986466272141, 0.3553601250620535, 0.612246962456309, 0.008562894579808517, 0.023547960094473425, 0.9982353164057036, 0.9998176724407767, 0.9984050273578271, 0.1450171038698558, 0.3040507307903297, 0.11752315480902813, 0.20000500199151117, 0.10296753471800171, 0.07008261525309017, 0.060378868525739225, 0.018038132474800687, 0.021645758969760825, 0.8694379852853931, 0.0036076264949601376, 0.0865830358790433, 0.2055898059293088, 0.2338643946235494, 0.181628290086732, 0.21134056973152723, 0.04744380136830203, 0.08482376608272181, 0.03546304344701364, 0.010680869807952466, 0.9826400223316268, 0.9927836624617534, 0.6218900914510361, 0.01516805101100088, 0.10390114942535604, 0.06446421679675375, 0.00379201275275022, 0.18201661213201056, 0.00910083060660053, 0.2976547542961377, 0.17724927208954033, 0.1632967054819089, 0.19120183869717178, 0.054259981251900104, 0.10593615387275734, 0.01085199625038002, 0.9966035904716328, 0.9943987828747863, 0.27664941947293775, 0.07988082748239801, 0.23332422490621343, 0.1832294686884384, 0.10379994531611042, 0.10379994531611042, 0.0189547726229419, 0.0012712064251786256, 0.9978970437652211, 0.014536028267523628, 0.9848159151247258, 0.05720249068908869, 0.0007626998758545158, 0.08847318559912384, 0.07779538733716061, 0.6040583016767765, 0.06101599006836127, 0.10906608224719576, 0.9884615379019666, 0.0024280579077518133, 0.07769785304805803, 0.9178058891301855, 0.9876808068899323, 0.07668468995080616, 0.12480057384150806, 0.03909415566119529, 0.009021728229506606, 0.040597777032779725, 0.0481158838907019, 0.6615934034971511, 0.07440977726566146, 0.1532841411672626, 0.05952782181252917, 0.04911045299533656, 0.03869308417814396, 0.17114248771102136, 0.4524114457752217, 0.9937374227552098, 0.005907229478053645, 0.9924145523130123, 0.07371950392933888, 0.0025420518596323753, 0.7816809468369554, 0.14108387820959684, 0.8057799407232796, 0.024173398221698388, 0.02014449851808199, 0.07856354422051977, 0.04431789673978038, 0.028202297925314788, 0.9992662685978784, 0.9923642660372767, 0.9883093484666772, 0.17656349909024976, 0.0009809083282791655, 0.5787359136847076, 0.15302169921154982, 0.014713624924187482, 0.07552994127749574, 0.005767812185182713, 0.9920636958514266, 0.9917524189287533, 0.012382344354289887, 0.018573516531434832, 0.9596316874574663, 0.9943609814916596, 0.03495321787720778, 0.21554484357611464, 0.005825536312867963, 0.4846846212306145, 0.025632359776619037, 0.23185634525214494, 0.9868808143008438, 0.9979948634785465, 0.995383610171147, 0.9971672860548172, 0.8851554922447252, 0.061980253286282726, 0.04842207287990838, 0.0038737658303926704, 0.07003232232961372, 0.0005020238159828941, 0.18650184763764513, 0.12349785873179193, 0.41191054101396457, 0.19553827632533724, 0.012299583491580904, 0.06140635188476744, 0.11053143339258138, 0.825915432850122, 0.7967344686083588, 0.20183939871411757, 0.9867797071704136, 0.9917233365083575, 0.9917157284756738, 0.010696012146714215, 0.7368363923292015, 0.2507620625507444, 0.0011884457940793572, 0.06684417124344, 0.009655269179608, 0.43448711308236004, 0.255493276752704, 0.06684417124344, 0.138144620569776, 0.028965807538824002, 0.14243172270304771, 0.08158710329592053, 0.04701629681459827, 0.7052444522189741, 0.022125316148046244, 0.0013828322592528903, 0.027638691529640325, 0.9689800089215078, 0.0016258053840964896, 0.9993711236185684, 0.006461184046392467, 0.9885611590980474, 0.9960612067053435, 0.9190993826655315, 0.023416544781287428, 0.05268722575789671, 0.1303886314632152, 0.006519431573160759, 0.567190546864986, 0.23795925242036772, 0.057045026265156645, 0.020026461274541423, 0.018357589501662972, 0.19692686919965732, 0.08177471687104414, 0.6825685551072869, 0.9988608338365668, 0.002841401214728516, 0.08524203644185548, 0.0610901261166631, 0.6719913872832941, 0.17900827652789653, 0.987749935443706, 0.007005318691090114, 0.199327929575142, 0.16721735125452641, 0.18539315030393147, 0.16630856130205615, 0.100875684724198, 0.10057275474004125, 0.08027644580153895, 0.9953836622597723, 0.9956605505661563, 0.1285865880219762, 0.8358128221428454, 0.008295908904643627, 0.026961703940091786, 0.36359278052469685, 0.0402272863559239, 0.5956732787319501, 0.293910764907733, 0.7053858357785592, 0.9899306605241427, 0.9843700882800157, 0.9866780972802285, 0.9740550974747955, 0.0013109759050804785, 0.019664638576207177, 0.003932927715241436, 0.9930018061786295, 0.9961725447279792, 0.2199325919352581, 0.059695989239570056, 0.21409764561860842, 0.0017953680974306784, 0.16741807508541076, 0.31643362717215706, 0.020197891096095134, 0.06206858408789179, 0.0393101032556648, 0.05379277287617288, 0.014482669620508083, 0.6227547936818476, 0.07034439529961069, 0.1344819321904322, 0.018627432874347215, 0.8498766248920917, 0.03958329485798783, 0.06053915684162845, 0.030269578420814226, 0.002328429109293402, 0.9950491133912283, 0.005645686107706455, 0.9936407549563362, 0.9983982317265417, 0.8530926625830818, 0.14218211043051365, 0.0177259470729722, 0.7031292338945639, 0.25111758353377284, 0.026588920609458302, 0.9935112633299523, 0.9922513031424863, 0.0028188957475638815, 0.0018792638317092544, 0.0018792638317092544, 0.9483633752446332, 0.021941569093063492, 0.02925542545741799, 0.985262369682299, 0.008757887730509324, 0.004378943865254662, 0.9917670376242187, 0.015985579567191505, 0.980448880121079, 0.9948899961290678, 0.06969647775545447, 0.6399403866637183, 0.0739205067103305, 0.07180849223289248, 0.07603252118776851, 0.021120144774380144, 0.047520325742355325, 0.008375583393247907, 0.3852768360894037, 0.3236020856482146, 0.2824855853540885, 0.9968385509575873, 0.9963240103227826, 0.024152023235662883, 0.1307050669224109, 0.021310608737349603, 0.05540758271710897, 0.0028414144983132804, 0.29834852232289444, 0.46741268497253463, 0.0893497971847471, 0.6180642995341598, 0.23555855621433328, 0.013291705366326016, 0.04356725647851305, 0.41555447603167467, 0.580093154739747, 0.0008705750196194302, 0.003192108405271244, 0.3291542915111852, 0.6690127876243601, 0.0013380255752487203, 0.9956605345170673, 0.9880720769995637, 0.9996713011654585, 0.9971169130574471, 0.002086018646563697, 0.9868770788945318, 0.9981356139162557, 0.9952296249416044, 0.9967015779184399, 0.9884048584601501, 0.12955014147816585, 0.4521636431461957, 0.11861409057416483, 0.2326013903812523, 0.015142224328616786, 0.0483709943830814, 0.0037855560821541965, 0.9903113540828093, 0.9954314334612074, 0.9943987463562117, 0.9984120745787386, 0.9945440111905364, 0.06103308391508255, 0.7274483785554434, 0.026392684936251916, 0.13691205310680682, 0.04948628425547234, 0.9922033451378406, 0.9909923651918444, 0.008386395192032534, 0.9988001974273286, 0.0007529590632697539, 0.9727009830842854, 0.008234505676904003, 0.018527637773034008, 0.9828229641106531, 0.0013500315441080399, 0.014850346985188438, 0.9548379497396998, 0.004866656216818042, 0.0007786649946908867, 0.0395172484805625, 0.9987390542351546, 0.0007133850387393962, 0.006466157000086322, 0.9893220210132073, 0.9980765018476518, 0.9726857042573882, 0.008684693788012395, 0.01736938757602479, 0.9974839244713026, 0.9928469164911988, 0.8784505875600391, 0.0003871531897576197, 0.0003871531897576197, 0.11459734416825544, 0.005807297846364296, 0.036964381224060774, 0.9476323186531945, 0.013441593172385738, 0.990389053192206, 0.9994736649700351, 0.9690545359263656, 0.026190663133145015, 0.1449768331369152, 0.11215188978516083, 0.016412471675877192, 0.15865389286681286, 0.5662302728177632, 0.9986724480991371, 0.1082436589122654, 0.0806069800410487, 0.07369781032324453, 0.6563711231913966, 0.0806069800410487, 0.01525482279468046, 0.693549622058151, 0.05284706468157159, 0.06810188747625205, 0.12312821255706372, 0.0016344452994300493, 0.04467483818442135, 0.9935800014618686, 0.0793425280308879, 0.05805550831528383, 0.0696666099783406, 0.046444406652227065, 0.19932391188247447, 0.5476569617741774, 0.994886739271063, 0.9932847461846916, 0.9887268324015036, 0.9968542638367048, 0.99838279059226, 0.9751480068350534, 0.9961706361285098, 0.2876741501902615, 0.7117025218579879, 0.11579682538093411, 0.8815500254806596, 0.968746283213307, 0.030917434570637458, 0.997167287481997, 0.07313212863442851, 0.5000656363381193, 0.08696793675445552, 0.1680062414574709, 0.10475683290877598, 0.0474370564115212, 0.020753712180040525, 0.10590923812605872, 0.22380820132299203, 0.6694263164571637, 0.09855798406536032, 0.548913216808465, 0.11498431474292037, 0.2368129339348241, 0.001368860889796671, 0.03381827087873501, 0.004831181554105002, 0.9565739477127904, 0.9965350500137563, 0.9897108596041801, 0.9963539226737247, 0.9440119702997346, 0.05258422115727964, 0.9984324562688336, 0.010470248897031157, 0.05444529426456202, 0.6700959294099941, 0.2638502722051852, 0.9902072848065747, 0.5778652962047461, 0.004856010892476859, 0.3923656801121302, 0.024280054462384293, 0.0021441326712183136, 0.2251339304779229, 0.7290051082142266, 0.04288265342436627, 0.266315701932871, 0.018479048705546154, 0.028262074490835294, 0.6119826130130873, 0.07500319768721674, 0.9972023417808809, 0.9991786709166326, 0.9965379383643045, 0.9982798025550813, 0.004941729282447196, 0.09883458564894392, 0.731375933802185, 0.054359022106919154, 0.1136597734962855, 0.05702351953737837, 0.5206901702019632, 0.4187956844712379, 0.001869623591389455, 0.0009348117956947275, 0.9998614506528752, 8.589875005608893e-05, 0.9995851658351953, 0.9996300806297375, 0.9919887140504258, 0.9951998840122278, 0.052957077421908035, 0.01444283929688401, 0.009628559531256006, 0.038514238125024025, 0.8786060572271106, 0.0024071398828140016, 0.8079026862018355, 0.008762502019542684, 0.12004627766773478, 0.06221376433875306, 0.9508118440394353, 0.04263730242329306, 0.9935329068258618, 0.5123872222437126, 0.44068288793555455, 0.03435832685599239, 0.010456882086606379, 0.9917972420513453, 0.23058050600866672, 0.6148050234689872, 0.035262560005297594, 0.10143710443082359, 0.00045795532474412456, 0.017402302340276732, 0.4747818144516635, 0.3288782339360735, 0.04523351097569574, 0.012583758692486784, 0.11801525044034902, 0.015644672969037623, 0.004761422207967972, 0.997467821608092, 0.9958170856616784, 0.04737715160915563, 0.9443845554091689, 0.0015792383869718545, 0.007896191934859272, 0.22071873096224406, 0.7492001994633918, 0.012434858082379947, 0.015543572602974932, 0.13194472928460615, 0.12500026984857424, 0.005208344577023927, 0.23958385054310063, 0.498264964535289, 0.9895682962728373, 0.007178884342070761, 0.9906860392057651, 0.994498071910582, 0.9990083716402679, 0.0012518901900253985, 0.9761258187905052, 0.0018160480349590795, 0.021792576419508953, 0.9969633254930124, 0.9727075665566874, 0.021696079551450278, 0.9877414642129755, 0.08205415683357008, 0.8270195280857194, 0.08853211658358877, 0.9818692807357265, 0.018525835485579747, 0.9972722702770439, 0.9928065286097393, 0.9939836660356697, 0.09839009087619349, 0.1897786397050174, 0.1271332634917107, 0.132292294473983, 0.06817290940859848, 0.24763348714907124, 0.13708282324323587, 0.9943607465285661, 0.9911101303553415, 0.9884049675242984, 0.05751688169791529, 0.09160095974112435, 0.6987235998857857, 0.1512480963167402, 0.03581297351564137, 0.9624736632328618, 0.0022383108447275855, 0.9843069659352515, 0.9990370426637379, 0.9507238588642997, 0.048717216370375606, 0.22885947413791657, 0.12431872669220159, 0.05424817164750615, 0.02429866021711213, 0.27802187969346903, 0.0983248111111049, 0.1915638561302561, 0.9666762300056273, 0.004957314000028858, 0.024786570000144288, 0.9937018592352719, 0.9988808851830359, 0.9935799213254012, 0.1407780208138176, 0.8554972034070455, 0.0027072696310349543, 0.05051412881887321, 0.5884213384036312, 0.08054955676523025, 0.14062041265794434, 0.13925516593310994, 0.9894494068548444, 0.9890081635316487, 0.006506632654813478, 0.9886311826144568, 0.15016507486616762, 0.08649508312291254, 0.12093294029222032, 0.07888671932969339, 0.32876140390699626, 0.10771841370399757, 0.12733998348651013, 0.008053123904393241, 0.08053123904393242, 0.02684374634797747, 0.8831592548484588, 0.008223306722009773, 0.9867968066411726, 0.9936282182463424], \"Term\": [\"000\", \"000\", \"000\", \"000\", \"000\", \"000\", \"1972\", \"2022\", \"2022\", \"2022\", \"2022\", \"2022\", \"2022\", \"2022\", \"2023\", \"2023\", \"2023\", \"2023\", \"2023\", \"2023\", \"2023\", \"2035\", \"afd\", \"afd\", \"affenpocken\", \"aiwanger\", \"aiwanger\", \"aktienmarkt\", \"aktuellen\", \"aktuellen\", \"aktuellen\", \"aktuellen\", \"aktuellen\", \"aktuellen\", \"aktuellen\", \"album\", \"album\", \"altkanzler\", \"altkanzler\", \"amazon\", \"ampel\", \"ampel\", \"ampel\", \"ampel\", \"ampel\", \"ampel\", \"anleger\", \"anleger\", \"arabien\", \"arabien\", \"arabien\", \"armee\", \"ataman\", \"augsburg\", \"bachmut\", \"baden\", \"baden\", \"baerbock\", \"baerbock\", \"bahn\", \"bayern\", \"bayern\", \"bayern\", \"bayern\", \"benedikt\", \"bergkarabach\", \"berlin\", \"berlin\", \"berlin\", \"berlin\", \"berlin\", \"berlin\", \"berlin\", \"berliner\", \"berliner\", \"berliner\", \"berliner\", \"berliner\", \"berliner\", \"biden\", \"biden\", \"bidens\", \"bildern\", \"bochum\", \"bolsonaro\", \"boris\", \"boris\", \"boris\", \"boris\", \"borussia\", \"brasiliens\", \"bremen\", \"br\\u00fcssel\", \"br\\u00fcssel\", \"br\\u00fcssel\", \"br\\u00fcssel\", \"bund\", \"bund\", \"bund\", \"bund\", \"bund\", \"bund\", \"bundesgesundheitsminister\", \"bundesinnenministerin\", \"bundesliga\", \"bundesliga\", \"bundesnetzagentur\", \"bundespr\\u00e4sident\", \"bundespr\\u00e4sident\", \"bundesregierung\", \"bundesregierung\", \"bundesregierung\", \"bundesregierung\", \"bundesregierung\", \"bundesregierung\", \"bundesregierung\", \"bundestag\", \"bundestag\", \"bundestag\", \"bundestag\", \"bundestag\", \"bundestag\", \"bundestag\", \"bundeswirtschaftsminister\", \"bundeswirtschaftsminister\", \"bundeswirtschaftsminister\", \"bvb\", \"b\\u00f6rsen\", \"cannabis\", \"cdu\", \"cdu\", \"cdu\", \"champions\", \"charles\", \"charles\", \"chatgpt\", \"chef\", \"chef\", \"chef\", \"chef\", \"chef\", \"chef\", \"chef\", \"china\", \"china\", \"china\", \"china\", \"chinas\", \"city\", \"co2\", \"corona\", \"corona\", \"court\", \"covid\", \"cum\", \"dax\", \"ddr\", \"demokraten\", \"demokratie\", \"demokratie\", \"demokratie\", \"demokratie\", \"demokratie\", \"desantis\", \"deutlich\", \"deutlich\", \"deutlich\", \"deutlich\", \"deutlich\", \"deutlich\", \"deutlich\", \"deutsche\", \"deutsche\", \"deutsche\", \"deutsche\", \"deutsche\", \"deutsche\", \"deutsche\", \"deutschen\", \"deutschen\", \"deutschen\", \"deutschen\", \"deutschen\", \"deutschen\", \"deutschen\", \"deutschland\", \"deutschland\", \"deutschland\", \"deutschland\", \"deutschland\", \"deutschland\", \"deutschland\", \"dfb\", \"dfb\", \"dfb\", \"donald\", \"dortmund\", \"drei\", \"drei\", \"drei\", \"drei\", \"drei\", \"drei\", \"drei\", \"eintracht\", \"elon\", \"eltern\", \"eltern\", \"eltern\", \"eltern\", \"em\", \"em\", \"emissionen\", \"energie\", \"energie\", \"energie\", \"energie\", \"energie\", \"energiekrise\", \"energiekrise\", \"energiekrise\", \"energiekrise\", \"energien\", \"energien\", \"energiewende\", \"energiewende\", \"england\", \"england\", \"entlastungspaket\", \"entwicklungen\", \"erdbeben\", \"erdbeben\", \"erdogan\", \"erdogan\", \"erdo\\u011fan\", \"eu\", \"eu\", \"eu\", \"eu\", \"euro\", \"euro\", \"euro\", \"euro\", \"euro\", \"europ\\u00e4ische\", \"europ\\u00e4ische\", \"europ\\u00e4ische\", \"europ\\u00e4ische\", \"europ\\u00e4ische\", \"evg\", \"ex\", \"ex\", \"ex\", \"ex\", \"ex\", \"ex\", \"ezb\", \"ezb\", \"faeser\", \"familienministerin\", \"fbi\", \"fc\", \"fdp\", \"fdp\", \"fdp\", \"fdp\", \"fdp\", \"fdp\", \"fdp\", \"fed\", \"ferda\", \"film\", \"film\", \"film\", \"finanzminister\", \"finanzminister\", \"finanzminister\", \"finanzminister\", \"flick\", \"flie\\u00dft\", \"florida\", \"flugblatt\", \"flugh\\u00e4fen\", \"flugh\\u00e4fen\", \"fl\\u00fcchtlingsgipfel\", \"focus\", \"focus\", \"focus\", \"focus\", \"focus\", \"focus\", \"focus\", \"fordert\", \"fordert\", \"fordert\", \"fordert\", \"fordert\", \"fordert\", \"fordert\", \"france\", \"frankfurt\", \"frankfurt\", \"frankfurt\", \"frankreich\", \"frankreich\", \"frankreich\", \"frankreich\", \"frankreich\", \"frankreich\", \"franziskus\", \"frau\", \"frau\", \"frau\", \"frau\", \"frau\", \"frau\", \"frauen\", \"frauen\", \"frauen\", \"frauen\", \"fu\\u00dfball\", \"fu\\u00dfball\", \"fu\\u00dfball\", \"g7\", \"gabor\", \"garmisch\", \"gas\", \"gas\", \"gasspeicher\", \"gasumlage\", \"gazprom\", \"geht\", \"geht\", \"geht\", \"geht\", \"geht\", \"geht\", \"geht\", \"geld\", \"geld\", \"geld\", \"geld\", \"geld\", \"geld\", \"generation\", \"generation\", \"generation\", \"generation\", \"gericht\", \"gericht\", \"gericht\", \"gericht\", \"gericht\", \"gericht\", \"gericht\", \"gestiegen\", \"gestiegen\", \"gestiegen\", \"gestiegen\", \"gestiegen\", \"gestorben\", \"gestorben\", \"gestorben\", \"gestorben\", \"gestorben\", \"gestorben\", \"gestorben\", \"gesundheitsminister\", \"gesundheitsminister\", \"get\\u00f6tet\", \"get\\u00f6tet\", \"get\\u00f6tet\", \"get\\u00f6tet\", \"get\\u00f6tet\", \"gewerkschaft\", \"gew\\u00e4hlt\", \"gew\\u00e4hlt\", \"gew\\u00e4hlt\", \"gibt\", \"gibt\", \"gibt\", \"gibt\", \"gibt\", \"gibt\", \"gibt\", \"giffey\", \"giffey\", \"gipfel\", \"gipfel\", \"gold\", \"gold\", \"google\", \"graichen\", \"graichen\", \"gro\\u00dfbritannien\", \"gro\\u00dfbritannien\", \"gro\\u00dfbritannien\", \"gro\\u00dfbritannien\", \"gro\\u00dfbritannien\", \"gro\\u00dfbritannien\", \"gro\\u00dfbritannien\", \"grundsteuer\", \"gr\\u00fcne\", \"gr\\u00fcne\", \"gr\\u00fcne\", \"gr\\u00fcne\", \"gr\\u00fcne\", \"gr\\u00fcne\", \"gr\\u00fcnen\", \"gr\\u00fcnen\", \"gr\\u00fcnen\", \"gr\\u00fcnen\", \"gr\\u00fcnen\", \"gr\\u00fcnen\", \"habeck\", \"habeck\", \"habeck\", \"hartz\", \"heizungsgesetz\", \"herbst\", \"herbst\", \"herbst\", \"herbst\", \"hertha\", \"heute\", \"heute\", \"heute\", \"heute\", \"heute\", \"heute\", \"heute\", \"hoffenheim\", \"hohe\", \"hohe\", \"hohe\", \"hohe\", \"hohe\", \"hohe\", \"hugo\", \"iii\", \"impfung\", \"industrie\", \"industrie\", \"inflation\", \"inflation\", \"inflation\", \"inflationsrate\", \"innenministerin\", \"intelligenz\", \"intendantin\", \"invasion\", \"inzidenz\", \"iran\", \"iran\", \"iran\", \"iv\", \"jahr\", \"jahr\", \"jahr\", \"jahr\", \"jahr\", \"jahr\", \"jahr\", \"jahre\", \"jahre\", \"jahre\", \"jahre\", \"jahre\", \"jahre\", \"jahre\", \"jahren\", \"jahren\", \"jahren\", \"jahren\", \"jahren\", \"jahren\", \"jahren\", \"joe\", \"joe\", \"johnson\", \"johnson\", \"j\\u00e4hriger\", \"j\\u00e4hriger\", \"j\\u00e4hriger\", \"j\\u00e4hriger\", \"kaili\", \"kaili\", \"kandidaten\", \"kandidaten\", \"kandidatur\", \"kanzler\", \"kanzler\", \"kanzler\", \"kanzler\", \"kanzler\", \"kanzler\", \"kapitol\", \"kapitol\", \"karl\", \"karl\", \"karl\", \"karl\", \"katar\", \"katar\", \"katar\", \"katar\", \"ki\", \"kiew\", \"kinder\", \"kinder\", \"kinder\", \"kinder\", \"kinder\", \"kinder\", \"kindergrundsicherung\", \"klima\", \"klima\", \"klima\", \"klima\", \"klima\", \"klima\", \"klima\", \"klimaschutz\", \"klimaschutz\", \"klimaschutz\", \"klimaschutz\", \"klimaschutz\", \"klimaziele\", \"kliniken\", \"kliniken\", \"koalition\", \"koalition\", \"koalition\", \"koalition\", \"koalition\", \"kommission\", \"kommission\", \"kommission\", \"kommunen\", \"kommunen\", \"kongress\", \"kosten\", \"kosten\", \"kosten\", \"kosten\", \"kreml\", \"krieg\", \"krim\", \"kritik\", \"kritik\", \"kritik\", \"kritik\", \"kritik\", \"kritik\", \"kritik\", \"k\\u00f6nig\", \"k\\u00f6nig\", \"k\\u00f6nig\", \"k\\u00f6nig\", \"k\\u00f6nig\", \"k\\u00f6nnte\", \"k\\u00f6nnte\", \"k\\u00f6nnte\", \"k\\u00f6nnte\", \"k\\u00f6nnte\", \"k\\u00f6nnte\", \"k\\u00f6nnte\", \"k\\u00fchnert\", \"k\\u00fchnert\", \"k\\u00fcnstliche\", \"lage\", \"lage\", \"lage\", \"lage\", \"lage\", \"lage\", \"lage\", \"land\", \"land\", \"land\", \"land\", \"land\", \"land\", \"land\", \"landrat\", \"laufzeiten\", \"laut\", \"laut\", \"laut\", \"laut\", \"laut\", \"laut\", \"laut\", \"lauterbach\", \"lauterbach\", \"league\", \"league\", \"leben\", \"leben\", \"leben\", \"leben\", \"leben\", \"leben\", \"leben\", \"legalisierung\", \"leipzig\", \"leipzig\", \"leipzig\", \"leitzins\", \"letzte\", \"letzte\", \"letzte\", \"letzte\", \"letzte\", \"letzte\", \"letzte\", \"letzten\", \"letzten\", \"letzten\", \"letzten\", \"letzten\", \"letzten\", \"letzten\", \"leverkusen\", \"liga\", \"liga\", \"lindner\", \"lindner\", \"lindner\", \"lindner\", \"linke\", \"linke\", \"linke\", \"linke\", \"linke\", \"linke\", \"liveblog\", \"lng\", \"lula\", \"l\\u00e4nder\", \"l\\u00e4nder\", \"l\\u00e4nder\", \"l\\u00e4nder\", \"l\\u00e4nder\", \"l\\u00e4nder\", \"l\\u00fctzerath\", \"l\\u00fctzerath\", \"maa\\u00dfen\", \"mainz\", \"mainz\", \"mainz\", \"manchester\", \"mann\", \"mann\", \"mann\", \"mann\", \"mann\", \"mann\", \"marin\", \"marktbericht\", \"masken\", \"maskenpflicht\", \"mehrheit\", \"mehrheit\", \"mehrheit\", \"mehrheit\", \"menschen\", \"menschen\", \"menschen\", \"menschen\", \"menschen\", \"menschen\", \"menschen\", \"merkel\", \"merkel\", \"merkel\", \"merz\", \"merz\", \"messerangriff\", \"messerattacke\", \"meta\", \"milliarden\", \"milliarden\", \"milliarden\", \"milliarden\", \"millionen\", \"millionen\", \"millionen\", \"millionen\", \"millionen\", \"millionen\", \"millionen\", \"mindestens\", \"mindestens\", \"mindestens\", \"mindestens\", \"mindestens\", \"mindestens\", \"ministerpr\\u00e4sident\", \"ministerpr\\u00e4sident\", \"ministerpr\\u00e4sident\", \"moskau\", \"musik\", \"musik\", \"musk\", \"m\\u00e4dchen\", \"m\\u00e4dchen\", \"m\\u00e4dchen\", \"m\\u00e4nner\", \"m\\u00e4nner\", \"m\\u00e4nner\", \"m\\u00e4nner\", \"m\\u00e4nner\", \"m\\u00fcnchen\", \"m\\u00fcnchen\", \"m\\u00fcnchen\", \"m\\u00fcnchen\", \"m\\u00fcnchen\", \"nato\", \"nen\", \"nen\", \"nen\", \"nen\", \"nen\", \"netanjahu\", \"netanjahu\", \"neue\", \"neue\", \"neue\", \"neue\", \"neue\", \"neue\", \"neue\", \"neuinfektionen\", \"neuwahlen\", \"new\", \"new\", \"new\", \"new\", \"news\", \"news\", \"news\", \"nord\", \"nord\", \"nordirland\", \"nordsee\", \"notfallplan\", \"olaf\", \"olaf\", \"olaf\", \"olaf\", \"olympia\", \"omikron\", \"online\", \"online\", \"online\", \"online\", \"online\", \"online\", \"online\", \"opfer\", \"opfer\", \"opfer\", \"opfer\", \"opfer\", \"opfer\", \"opfer\", \"opposition\", \"opposition\", \"opposition\", \"opposition\", \"opposition\", \"opposition\", \"orban\", \"pandemie\", \"pandemie\", \"panzer\", \"papst\", \"papst\", \"parlament\", \"parlament\", \"parlament\", \"parlament\", \"parlamentswahl\", \"partei\", \"partei\", \"partei\", \"partei\", \"parteien\", \"parteien\", \"parteien\", \"parteitag\", \"parteitag\", \"parteitag\", \"paus\", \"pipeline\", \"pipeline\", \"pokal\", \"politiker\", \"politiker\", \"politiker\", \"politiker\", \"politiker\", \"politiker\", \"politiker\", \"polizei\", \"polizei\", \"polizei\", \"polizei\", \"prigoschin\", \"promi\", \"proteste\", \"proteste\", \"proteste\", \"proteste\", \"proteste\", \"proteste\", \"proteste\", \"prozent\", \"prozent\", \"prozent\", \"prozent\", \"prozent\", \"pr\\u00e4sident\", \"pr\\u00e4sident\", \"pr\\u00e4sident\", \"pr\\u00e4sident\", \"pr\\u00e4sidenten\", \"pr\\u00e4sidenten\", \"pr\\u00e4sidenten\", \"pr\\u00e4sidentschaftswahl\", \"puma\", \"putin\", \"putins\", \"putins\", \"quartal\", \"raketen\", \"rb\", \"rbb\", \"real\", \"regierung\", \"regierung\", \"regierung\", \"regierung\", \"regierung\", \"regierung\", \"regierung\", \"regisseur\", \"rentenreform\", \"repr\\u00e4sentantenhaus\", \"republikaner\", \"rki\", \"robert\", \"robert\", \"robert\", \"robert\", \"robert\", \"ruanda\", \"russen\", \"russen\", \"russische\", \"russische\", \"russischen\", \"russischen\", \"russischen\", \"russischer\", \"russischer\", \"russischer\", \"russland\", \"russland\", \"russland\", \"russland\", \"russlands\", \"russlands\", \"r\\u00e4umung\", \"r\\u00e4umung\", \"saporischschja\", \"saudi\", \"saudi\", \"saudi\", \"schalke\", \"schlesinger\", \"scholz\", \"scholz\", \"scholz\", \"scholz\", \"scholz\", \"schr\\u00f6der\", \"schr\\u00f6der\", \"schr\\u00f6der\", \"sch\\u00f6nbohm\", \"selenskyj\", \"senat\", \"senat\", \"sieg\", \"sieg\", \"sieg\", \"sieg\", \"sieg\", \"soldaten\", \"spanien\", \"spanien\", \"spanien\", \"spanien\", \"spanien\", \"spd\", \"spd\", \"spd\", \"spd\", \"spd\", \"spd\", \"spd\", \"special\", \"spiel\", \"spiel\", \"spiel\", \"spiel\", \"spiel\", \"spiel\", \"spieltag\", \"sri\", \"starkregen\", \"steingart\", \"steinmeier\", \"sterbehilfe\", \"stichwahl\", \"stream\", \"stream\", \"street\", \"street\", \"streik\", \"streik\", \"streiks\", \"streit\", \"streit\", \"streit\", \"streit\", \"streit\", \"streit\", \"streit\", \"strom\", \"strom\", \"strom\", \"studie\", \"studie\", \"studie\", \"studie\", \"studie\", \"stuttgart\", \"stuttgart\", \"stuttgart\", \"sudan\", \"supreme\", \"syrien\", \"s\\u00f6der\", \"s\\u00f6der\", \"taiwan\", \"team\", \"team\", \"team\", \"team\", \"terminal\", \"ticker\", \"ticker\", \"ticker\", \"ticker\", \"ticket\", \"ticket\", \"ticket\", \"ticket\", \"tote\", \"tote\", \"tote\", \"tote\", \"tote\", \"trainer\", \"trump\", \"trumps\", \"truppen\", \"twitter\", \"twitter\", \"twitter\", \"twitter\", \"twitter\", \"t\\u00fcrkei\", \"t\\u00fcrkei\", \"t\\u00fcrkei\", \"t\\u00fcrkei\", \"t\\u00fcrkei\", \"ukraine\", \"ukraine\", \"ukrainische\", \"ukrainischen\", \"umfragen\", \"umlage\", \"ums\", \"ums\", \"ums\", \"ums\", \"ums\", \"ums\", \"un\", \"un\", \"un\", \"un\", \"unfall\", \"unfall\", \"uniper\", \"unternehmen\", \"unternehmen\", \"unternehmen\", \"unternehmen\", \"unwetter\", \"us\", \"us\", \"us\", \"us\", \"us\", \"us\", \"usa\", \"usa\", \"usa\", \"usa\", \"usa\", \"usa\", \"usa\", \"verbrenner\", \"verdi\", \"verletzt\", \"verletzt\", \"verletzt\", \"verletzt\", \"verletzte\", \"verletzte\", \"verletzte\", \"verletzte\", \"verurteilt\", \"verurteilt\", \"verurteilt\", \"verurteilt\", \"verurteilt\", \"vfb\", \"vfl\", \"vfl\", \"vogg\", \"wagner\", \"wagner\", \"wahl\", \"wahl\", \"wahl\", \"wahlen\", \"wahlkampf\", \"wahlkampf\", \"wahlrechtsreform\", \"wahrheit\", \"wahrheit\", \"wahrheit\", \"waldbrand\", \"waldbrand\", \"wall\", \"warnstreik\", \"warnstreiks\", \"wegen\", \"wegen\", \"wegen\", \"wegen\", \"wegen\", \"wegen\", \"wegen\", \"wegner\", \"werder\", \"westjordanland\", \"winter\", \"winter\", \"winter\", \"winter\", \"wirtschaftsminister\", \"wirtschaftsminister\", \"wirtschaftsminister\", \"wissler\", \"wladimir\", \"wm\", \"wm\", \"worden\", \"worden\", \"worden\", \"worden\", \"worden\", \"worden\", \"worden\", \"w\\u00e4hler\", \"w\\u00e4hler\", \"w\\u00e4hler\", \"w\\u00fcrttemberg\", \"xi\", \"xvi\", \"york\", \"york\", \"york\", \"zahl\", \"zahl\", \"zahl\", \"zahl\", \"zahl\", \"zentralbank\", \"zinsen\", \"zinsen\", \"zugungl\\u00fcck\", \"zwei\", \"zwei\", \"zwei\", \"zwei\", \"zwei\", \"zwei\", \"zwei\", \"\\u00f6l\", \"\\u00f6l\", \"\\u00f6l\", \"\\u00f6l\", \"\\u00f6zdemir\", \"\\u00f6zdemir\", \"\\u00fcberschwemmungen\"]}, \"R\": 30, \"lambda.step\": 0.01, \"plot.opts\": {\"xlab\": \"PC1\", \"ylab\": \"PC2\"}, \"topic.order\": [1, 6, 2, 5, 7, 3, 4]};\n",
       "\n",
       "function LDAvis_load_lib(url, callback){\n",
       "  var s = document.createElement('script');\n",
       "  s.src = url;\n",
       "  s.async = true;\n",
       "  s.onreadystatechange = s.onload = callback;\n",
       "  s.onerror = function(){console.warn(\"failed to load library \" + url);};\n",
       "  document.getElementsByTagName(\"head\")[0].appendChild(s);\n",
       "}\n",
       "\n",
       "if(typeof(LDAvis) !== \"undefined\"){\n",
       "   // already loaded: just create the visualization\n",
       "   !function(LDAvis){\n",
       "       new LDAvis(\"#\" + \"ldavis_el1395220891090164645761167158\", ldavis_el1395220891090164645761167158_data);\n",
       "   }(LDAvis);\n",
       "}else if(typeof define === \"function\" && define.amd){\n",
       "   // require.js is available: use it to load d3/LDAvis\n",
       "   require.config({paths: {d3: \"https://d3js.org/d3.v5\"}});\n",
       "   require([\"d3\"], function(d3){\n",
       "      window.d3 = d3;\n",
       "      LDAvis_load_lib(\"https://cdn.jsdelivr.net/gh/bmabey/pyLDAvis@3.4.0/pyLDAvis/js/ldavis.v3.0.0.js\", function(){\n",
       "        new LDAvis(\"#\" + \"ldavis_el1395220891090164645761167158\", ldavis_el1395220891090164645761167158_data);\n",
       "      });\n",
       "    });\n",
       "}else{\n",
       "    // require.js not available: dynamically load d3 & LDAvis\n",
       "    LDAvis_load_lib(\"https://d3js.org/d3.v5.js\", function(){\n",
       "         LDAvis_load_lib(\"https://cdn.jsdelivr.net/gh/bmabey/pyLDAvis@3.4.0/pyLDAvis/js/ldavis.v3.0.0.js\", function(){\n",
       "                 new LDAvis(\"#\" + \"ldavis_el1395220891090164645761167158\", ldavis_el1395220891090164645761167158_data);\n",
       "            })\n",
       "         });\n",
       "}\n",
       "</script>"
      ],
      "text/plain": [
       "PreparedData(topic_coordinates=               x          y  topics  cluster       Freq\n",
       "topic                                                  \n",
       "0      28.314230 -11.381309       1        1  20.829600\n",
       "5      -7.893435  -6.939400       2        1  14.720612\n",
       "1      -0.757814 -23.699026       3        1  13.856477\n",
       "4      21.144053   5.364448       4        1  13.411521\n",
       "6      10.181520  -9.144038       5        1  12.866064\n",
       "2      17.304569 -25.899475       6        1  12.668150\n",
       "3       3.044635   7.625439       7        1  11.647576, topic_info=           Term          Freq         Total Category  logprob  loglift\n",
       "31472   ukraine  11641.000000  11641.000000  Default  30.0000  30.0000\n",
       "18192     krieg   5292.000000   5292.000000  Default  29.0000  29.0000\n",
       "26228  russland   5136.000000   5136.000000  Default  28.0000  28.0000\n",
       "6556     corona   2890.000000   2890.000000  Default  27.0000  27.0000\n",
       "9760         eu   4126.000000   4126.000000  Default  26.0000  26.0000\n",
       "...         ...           ...           ...      ...      ...      ...\n",
       "24024   polizei    370.968280   1313.341350   Topic7  -5.9758   0.8859\n",
       "34719     wegen    371.638788   2713.687909   Topic7  -5.9740   0.1619\n",
       "12189      geht    365.056890   2875.555223   Topic7  -5.9919   0.0861\n",
       "35689    worden    338.862058   1769.644895   Topic7  -6.0664   0.4971\n",
       "36592      zwei    317.591901   2497.251777   Topic7  -6.1312   0.0879\n",
       "\n",
       "[491 rows x 6 columns], token_table=       Topic      Freq              Term\n",
       "term                                    \n",
       "1          1  0.125349               000\n",
       "1          3  0.357813               000\n",
       "1          4  0.194480               000\n",
       "1          5  0.146620               000\n",
       "1          6  0.161054               000\n",
       "...      ...       ...               ...\n",
       "36838      3  0.026844                öl\n",
       "36838      4  0.883159                öl\n",
       "36891      2  0.008223           özdemir\n",
       "36891      3  0.986797           özdemir\n",
       "37100      4  0.993628  überschwemmungen\n",
       "\n",
       "[1122 rows x 3 columns], R=30, lambda_step=0.01, plot_opts={'xlab': 'PC1', 'ylab': 'PC2'}, topic_order=[1, 6, 2, 5, 7, 3, 4])"
      ]
     },
     "execution_count": 27,
     "metadata": {},
     "output_type": "execute_result"
    }
   ],
   "source": [
    "pyLDAvis.enable_notebook()\n",
    "panel = pyLDAvis.lda_model.prepare(lda, dtm, cv, mds='tsne')\n",
    "panel"
   ]
  },
  {
   "cell_type": "markdown",
   "id": "1c77ce17",
   "metadata": {},
   "source": [
    "## Save train set with topics and dump countvectorizer and model"
   ]
  },
  {
   "cell_type": "code",
   "execution_count": 28,
   "id": "78051ef9",
   "metadata": {},
   "outputs": [],
   "source": [
    "#Save result to csv\n",
    "train.to_csv('train_lda_combined.csv')"
   ]
  },
  {
   "cell_type": "code",
   "execution_count": 29,
   "id": "c49fa248",
   "metadata": {},
   "outputs": [
    {
     "data": {
      "text/plain": [
       "['cv_combined.jl']"
      ]
     },
     "execution_count": 29,
     "metadata": {},
     "output_type": "execute_result"
    }
   ],
   "source": [
    "# Dump countvectorizer\n",
    "joblib.dump(cv, 'cv_combined.jl')"
   ]
  },
  {
   "cell_type": "code",
   "execution_count": 30,
   "id": "205360e6",
   "metadata": {},
   "outputs": [
    {
     "data": {
      "text/plain": [
       "['lda_model_7_topics_combined.jl']"
      ]
     },
     "execution_count": 30,
     "metadata": {},
     "output_type": "execute_result"
    }
   ],
   "source": [
    "# Dump LDA model\n",
    "joblib.dump(lda, 'lda_model_7_topics_combined.jl')"
   ]
  }
 ],
 "metadata": {
  "kernelspec": {
   "display_name": "nlp",
   "language": "python",
   "name": "nlp"
  },
  "language_info": {
   "codemirror_mode": {
    "name": "ipython",
    "version": 3
   },
   "file_extension": ".py",
   "mimetype": "text/x-python",
   "name": "python",
   "nbconvert_exporter": "python",
   "pygments_lexer": "ipython3",
   "version": "3.11.5"
  }
 },
 "nbformat": 4,
 "nbformat_minor": 5
}
