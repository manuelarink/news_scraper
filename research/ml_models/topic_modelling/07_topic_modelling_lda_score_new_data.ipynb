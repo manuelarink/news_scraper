{
 "cells": [
  {
   "cell_type": "markdown",
   "id": "7f626c32",
   "metadata": {},
   "source": [
    "# Topic modelling of news headlines for prediction of news category - Score new data"
   ]
  },
  {
   "cell_type": "code",
   "execution_count": 1,
   "id": "0a24ec27",
   "metadata": {},
   "outputs": [],
   "source": [
    "import pandas as pd\n",
    "import numpy as np\n",
    "import matplotlib.pyplot as plt\n",
    "import seaborn as sns\n",
    "\n",
    "import joblib"
   ]
  },
  {
   "cell_type": "markdown",
   "id": "34629ef2",
   "metadata": {},
   "source": [
    "## Load LDA model"
   ]
  },
  {
   "cell_type": "code",
   "execution_count": 2,
   "id": "297c8249",
   "metadata": {},
   "outputs": [],
   "source": [
    "# this model was trained on 'title' feature of news item\n",
    "lda_model = joblib.load('lda_model_7_topics.jl')"
   ]
  },
  {
   "cell_type": "code",
   "execution_count": 3,
   "id": "55204754",
   "metadata": {},
   "outputs": [],
   "source": [
    "# this model was trained on concatenation of 'title', 'description' and 'text' of news item\n",
    "lda_model_combined = joblib.load('lda_model_7_topics_combined.jl')"
   ]
  },
  {
   "cell_type": "markdown",
   "id": "a6e2fbcd",
   "metadata": {},
   "source": [
    "## Load data set for prediction"
   ]
  },
  {
   "cell_type": "code",
   "execution_count": 4,
   "id": "db9d99ba",
   "metadata": {},
   "outputs": [],
   "source": [
    "pred = pd.read_csv('../../data/01_pred_preprocessed.csv')"
   ]
  },
  {
   "cell_type": "code",
   "execution_count": 5,
   "id": "3d2ff4d7",
   "metadata": {},
   "outputs": [
    {
     "data": {
      "text/html": [
       "<div>\n",
       "<style scoped>\n",
       "    .dataframe tbody tr th:only-of-type {\n",
       "        vertical-align: middle;\n",
       "    }\n",
       "\n",
       "    .dataframe tbody tr th {\n",
       "        vertical-align: top;\n",
       "    }\n",
       "\n",
       "    .dataframe thead th {\n",
       "        text-align: right;\n",
       "    }\n",
       "</style>\n",
       "<table border=\"1\" class=\"dataframe\">\n",
       "  <thead>\n",
       "    <tr style=\"text-align: right;\">\n",
       "      <th></th>\n",
       "      <th>date</th>\n",
       "      <th>title</th>\n",
       "      <th>description</th>\n",
       "      <th>category</th>\n",
       "      <th>text</th>\n",
       "      <th>source</th>\n",
       "      <th>title_description_text</th>\n",
       "    </tr>\n",
       "  </thead>\n",
       "  <tbody>\n",
       "    <tr>\n",
       "      <th>0</th>\n",
       "      <td>2023-10-01 09:03:00</td>\n",
       "      <td>Frauen für den Frieden</td>\n",
       "      <td>Jolina und Louisa setzen sich in Nordirland fü...</td>\n",
       "      <td>Other</td>\n",
       "      <td>NaN</td>\n",
       "      <td>ZDF heute</td>\n",
       "      <td>Frauen für den Frieden - Jolina und Louisa set...</td>\n",
       "    </tr>\n",
       "    <tr>\n",
       "      <th>1</th>\n",
       "      <td>2023-10-01 09:18:18</td>\n",
       "      <td>PKK hatte sich bekannt - Türkei greift nach An...</td>\n",
       "      <td>Die türkische Hauptstadt Ankara ist am Sonntag...</td>\n",
       "      <td>Ausland</td>\n",
       "      <td>NaN</td>\n",
       "      <td>Focus</td>\n",
       "      <td>PKK hatte sich bekannt - Türkei greift nach An...</td>\n",
       "    </tr>\n",
       "    <tr>\n",
       "      <th>2</th>\n",
       "      <td>2023-10-01 11:25:35</td>\n",
       "      <td>Gastbeitrag von Gabor Steingart - Unbequeme Pu...</td>\n",
       "      <td>Für 2023 erwartet Russland ein Wirtschaftswach...</td>\n",
       "      <td>Ausland</td>\n",
       "      <td>NaN</td>\n",
       "      <td>Focus</td>\n",
       "      <td>Gastbeitrag von Gabor Steingart - Unbequeme Pu...</td>\n",
       "    </tr>\n",
       "    <tr>\n",
       "      <th>3</th>\n",
       "      <td>2023-10-01 12:06:00</td>\n",
       "      <td>Was ist dran an Söders Berlin-Bashing?</td>\n",
       "      <td>\"Wir sind solidarisch, aber nicht naiv\", sagt ...</td>\n",
       "      <td>Politik</td>\n",
       "      <td>NaN</td>\n",
       "      <td>ZDF heute</td>\n",
       "      <td>Was ist dran an Söders Berlin-Bashing? - \"Wir ...</td>\n",
       "    </tr>\n",
       "    <tr>\n",
       "      <th>4</th>\n",
       "      <td>2023-10-01 14:11:00</td>\n",
       "      <td>Trübe Wirtschaftslage - Lotto-Boom in China</td>\n",
       "      <td>Chinas Wirtschaft kämpft mit einem geringeren ...</td>\n",
       "      <td>Other</td>\n",
       "      <td>NaN</td>\n",
       "      <td>ZDF heute</td>\n",
       "      <td>Trübe Wirtschaftslage - Lotto-Boom in China - ...</td>\n",
       "    </tr>\n",
       "  </tbody>\n",
       "</table>\n",
       "</div>"
      ],
      "text/plain": [
       "                  date                                              title  \\\n",
       "0  2023-10-01 09:03:00                             Frauen für den Frieden   \n",
       "1  2023-10-01 09:18:18  PKK hatte sich bekannt - Türkei greift nach An...   \n",
       "2  2023-10-01 11:25:35  Gastbeitrag von Gabor Steingart - Unbequeme Pu...   \n",
       "3  2023-10-01 12:06:00             Was ist dran an Söders Berlin-Bashing?   \n",
       "4  2023-10-01 14:11:00        Trübe Wirtschaftslage - Lotto-Boom in China   \n",
       "\n",
       "                                         description category  text  \\\n",
       "0  Jolina und Louisa setzen sich in Nordirland fü...    Other   NaN   \n",
       "1  Die türkische Hauptstadt Ankara ist am Sonntag...  Ausland   NaN   \n",
       "2  Für 2023 erwartet Russland ein Wirtschaftswach...  Ausland   NaN   \n",
       "3  \"Wir sind solidarisch, aber nicht naiv\", sagt ...  Politik   NaN   \n",
       "4  Chinas Wirtschaft kämpft mit einem geringeren ...    Other   NaN   \n",
       "\n",
       "      source                             title_description_text  \n",
       "0  ZDF heute  Frauen für den Frieden - Jolina und Louisa set...  \n",
       "1      Focus  PKK hatte sich bekannt - Türkei greift nach An...  \n",
       "2      Focus  Gastbeitrag von Gabor Steingart - Unbequeme Pu...  \n",
       "3  ZDF heute  Was ist dran an Söders Berlin-Bashing? - \"Wir ...  \n",
       "4  ZDF heute  Trübe Wirtschaftslage - Lotto-Boom in China - ...  "
      ]
     },
     "execution_count": 5,
     "metadata": {},
     "output_type": "execute_result"
    }
   ],
   "source": [
    "pred.head()"
   ]
  },
  {
   "cell_type": "code",
   "execution_count": null,
   "id": "2c345b85",
   "metadata": {},
   "outputs": [],
   "source": []
  }
 ],
 "metadata": {
  "kernelspec": {
   "display_name": "nlp",
   "language": "python",
   "name": "nlp"
  },
  "language_info": {
   "codemirror_mode": {
    "name": "ipython",
    "version": 3
   },
   "file_extension": ".py",
   "mimetype": "text/x-python",
   "name": "python",
   "nbconvert_exporter": "python",
   "pygments_lexer": "ipython3",
   "version": "3.11.5"
  }
 },
 "nbformat": 4,
 "nbformat_minor": 5
}
