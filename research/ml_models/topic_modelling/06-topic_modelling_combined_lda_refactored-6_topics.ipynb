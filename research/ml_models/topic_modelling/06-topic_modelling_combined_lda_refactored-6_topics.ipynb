{
 "cells": [
  {
   "cell_type": "markdown",
   "id": "d23815fa",
   "metadata": {},
   "source": [
    "# Topic modelling of news headlines for prediction of news category with 6 topics"
   ]
  },
  {
   "cell_type": "markdown",
   "id": "75523a79",
   "metadata": {},
   "source": [
    "Now we wan't to perform topic modelling with unsupervised learning and train a modell for prediction of news category labels without using the provided labels in the corpus.\n",
    "We use the LDA classifier on the combined feature 'title_description_text' feature and assume 6 topics. "
   ]
  },
  {
   "cell_type": "code",
   "execution_count": 1,
   "id": "a2821ff5",
   "metadata": {},
   "outputs": [
    {
     "name": "stderr",
     "output_type": "stream",
     "text": [
      "C:\\Users\\manuela.rink\\anaconda3\\envs\\nlp\\Lib\\site-packages\\certifi\\core.py:36: DeprecationWarning: path is deprecated. Use files() instead. Refer to https://importlib-resources.readthedocs.io/en/latest/using.html#migrating-from-legacy for migration advice.\n",
      "  _CACERT_CTX = get_path(\"certifi\", \"cacert.pem\")\n"
     ]
    }
   ],
   "source": [
    "import pandas as pd\n",
    "import numpy as np\n",
    "import matplotlib.pyplot as plt\n",
    "import seaborn as sns\n",
    "\n",
    "import joblib\n",
    "\n",
    "import pyLDAvis.lda_model\n",
    "\n",
    "import nlp_preprocessors"
   ]
  },
  {
   "cell_type": "markdown",
   "id": "6594f2c8",
   "metadata": {},
   "source": [
    "## Load data"
   ]
  },
  {
   "cell_type": "code",
   "execution_count": 2,
   "id": "d737f3a4",
   "metadata": {},
   "outputs": [],
   "source": [
    "train = pd.read_csv('../../data/01_train_nosplit_preprocessed.csv')"
   ]
  },
  {
   "cell_type": "code",
   "execution_count": 3,
   "id": "72fc6b38",
   "metadata": {},
   "outputs": [
    {
     "data": {
      "text/html": [
       "<div>\n",
       "<style scoped>\n",
       "    .dataframe tbody tr th:only-of-type {\n",
       "        vertical-align: middle;\n",
       "    }\n",
       "\n",
       "    .dataframe tbody tr th {\n",
       "        vertical-align: top;\n",
       "    }\n",
       "\n",
       "    .dataframe thead th {\n",
       "        text-align: right;\n",
       "    }\n",
       "</style>\n",
       "<table border=\"1\" class=\"dataframe\">\n",
       "  <thead>\n",
       "    <tr style=\"text-align: right;\">\n",
       "      <th></th>\n",
       "      <th>date</th>\n",
       "      <th>title</th>\n",
       "      <th>description</th>\n",
       "      <th>category</th>\n",
       "      <th>text</th>\n",
       "      <th>source</th>\n",
       "      <th>title_description_text</th>\n",
       "    </tr>\n",
       "  </thead>\n",
       "  <tbody>\n",
       "    <tr>\n",
       "      <th>0</th>\n",
       "      <td>2022-06-01 00:13:42</td>\n",
       "      <td>Preise: Grüne halten Senkung der Spritsteuer f...</td>\n",
       "      <td>Heute tritt die Steuersenkung auf Kraftstoffe ...</td>\n",
       "      <td>Other</td>\n",
       "      <td>NaN</td>\n",
       "      <td>stern</td>\n",
       "      <td>Preise: Grüne halten Senkung der Spritsteuer f...</td>\n",
       "    </tr>\n",
       "    <tr>\n",
       "      <th>1</th>\n",
       "      <td>2022-06-01 01:55:03</td>\n",
       "      <td>Biden warnt Putin: USA liefern moderne Raketen...</td>\n",
       "      <td>Die USA rüsten die Ukraine mit fortschrittlich...</td>\n",
       "      <td>Other</td>\n",
       "      <td>NaN</td>\n",
       "      <td>stern</td>\n",
       "      <td>Biden warnt Putin: USA liefern moderne Raketen...</td>\n",
       "    </tr>\n",
       "    <tr>\n",
       "      <th>2</th>\n",
       "      <td>2022-06-01 02:04:08</td>\n",
       "      <td>Soziale Medien: FDP-Politiker Kuhle: Internet-...</td>\n",
       "      <td>Eine «ZDF Magazin Royale»-Recherche beschäftig...</td>\n",
       "      <td>Other</td>\n",
       "      <td>NaN</td>\n",
       "      <td>stern</td>\n",
       "      <td>Soziale Medien: FDP-Politiker Kuhle: Internet-...</td>\n",
       "    </tr>\n",
       "    <tr>\n",
       "      <th>3</th>\n",
       "      <td>2022-06-01 02:26:58</td>\n",
       "      <td>Liveblog: ++ Zwei von drei ukrainischen Kinder...</td>\n",
       "      <td>Rund zwei von drei Mädchen und Jungen in der U...</td>\n",
       "      <td>Missing</td>\n",
       "      <td>NaN</td>\n",
       "      <td>Tagesschau</td>\n",
       "      <td>Liveblog: ++ Zwei von drei ukrainischen Kinder...</td>\n",
       "    </tr>\n",
       "    <tr>\n",
       "      <th>4</th>\n",
       "      <td>2022-06-01 02:31:43</td>\n",
       "      <td>Finanzen: Dänemark stimmt über EU-Verteidigung...</td>\n",
       "      <td>Vorbehalt verteidigen oder Verteidigung ohne V...</td>\n",
       "      <td>Other</td>\n",
       "      <td>NaN</td>\n",
       "      <td>stern</td>\n",
       "      <td>Finanzen: Dänemark stimmt über EU-Verteidigung...</td>\n",
       "    </tr>\n",
       "  </tbody>\n",
       "</table>\n",
       "</div>"
      ],
      "text/plain": [
       "                  date                                              title  \\\n",
       "0  2022-06-01 00:13:42  Preise: Grüne halten Senkung der Spritsteuer f...   \n",
       "1  2022-06-01 01:55:03  Biden warnt Putin: USA liefern moderne Raketen...   \n",
       "2  2022-06-01 02:04:08  Soziale Medien: FDP-Politiker Kuhle: Internet-...   \n",
       "3  2022-06-01 02:26:58  Liveblog: ++ Zwei von drei ukrainischen Kinder...   \n",
       "4  2022-06-01 02:31:43  Finanzen: Dänemark stimmt über EU-Verteidigung...   \n",
       "\n",
       "                                         description category  text  \\\n",
       "0  Heute tritt die Steuersenkung auf Kraftstoffe ...    Other   NaN   \n",
       "1  Die USA rüsten die Ukraine mit fortschrittlich...    Other   NaN   \n",
       "2  Eine «ZDF Magazin Royale»-Recherche beschäftig...    Other   NaN   \n",
       "3  Rund zwei von drei Mädchen und Jungen in der U...  Missing   NaN   \n",
       "4  Vorbehalt verteidigen oder Verteidigung ohne V...    Other   NaN   \n",
       "\n",
       "       source                             title_description_text  \n",
       "0       stern  Preise: Grüne halten Senkung der Spritsteuer f...  \n",
       "1       stern  Biden warnt Putin: USA liefern moderne Raketen...  \n",
       "2       stern  Soziale Medien: FDP-Politiker Kuhle: Internet-...  \n",
       "3  Tagesschau  Liveblog: ++ Zwei von drei ukrainischen Kinder...  \n",
       "4       stern  Finanzen: Dänemark stimmt über EU-Verteidigung...  "
      ]
     },
     "execution_count": 3,
     "metadata": {},
     "output_type": "execute_result"
    }
   ],
   "source": [
    "train.head()"
   ]
  },
  {
   "cell_type": "markdown",
   "id": "46b4f629",
   "metadata": {},
   "source": [
    "## Load German stopwords"
   ]
  },
  {
   "cell_type": "code",
   "execution_count": 4,
   "id": "da144b59",
   "metadata": {},
   "outputs": [],
   "source": [
    "stop_words = pd.read_csv('german_stopwords.txt', header=None)[0].values.tolist()"
   ]
  },
  {
   "cell_type": "code",
   "execution_count": 5,
   "id": "bd74c6d3",
   "metadata": {},
   "outputs": [
    {
     "name": "stdout",
     "output_type": "stream",
     "text": [
      "['ab', 'aber', 'alle', 'allein', 'allem', 'allen', 'aller', 'allerdings', 'allerlei', 'alles', 'allmählich', 'allzu', 'als', 'alsbald', 'also', 'am', 'an', 'and', 'ander', 'andere', 'anderem', 'anderen', 'anderer', 'andererseits', 'anderes', 'anderm', 'andern', 'andernfalls', 'anders', 'anstatt', 'auch', 'auf', 'aus', 'ausgenommen', 'ausser', 'ausserdem', 'außer', 'außerdem', 'außerhalb', 'bald', 'bei', 'beide', 'beiden', 'beiderlei', 'beides', 'beim', 'beinahe', 'bereits', 'besonders', 'besser', 'beträchtlich', 'bevor', 'bezüglich', 'bin', 'bis', 'bisher', 'bislang', 'bist', 'bloß', 'bsp.', 'bzw', 'ca', 'ca.', 'content', 'da', 'dabei', 'dadurch', 'dafür', 'dagegen', 'daher', 'dahin', 'damals', 'damit', 'danach', 'daneben', 'dann', 'daran', 'darauf', 'daraus', 'darin', 'darum', 'darunter', 'darüber', 'darüberhinaus', 'das', 'dass', 'dasselbe', 'davon', 'davor', 'dazu', 'daß', 'dein', 'deine', 'deinem', 'deinen', 'deiner', 'deines', 'dem', 'demnach', 'demselben', 'den', 'denen', 'denn', 'dennoch', 'denselben', 'der', 'derart', 'derartig', 'derem', 'deren', 'derer', 'derjenige', 'derjenigen', 'derselbe', 'derselben', 'derzeit', 'des', 'deshalb', 'desselben', 'dessen', 'desto', 'deswegen', 'dich', 'die', 'diejenige', 'dies', 'diese', 'dieselbe', 'dieselben', 'diesem', 'diesen', 'dieser', 'dieses', 'diesseits', 'dir', 'direkt', 'direkte', 'direkten', 'direkter', 'doch', 'dort', 'dorther', 'dorthin', 'drauf', 'drin', 'drunter', 'drüber', 'du', 'dunklen', 'durch', 'durchaus', 'eben', 'ebenfalls', 'ebenso', 'eher', 'eigenen', 'eigenes', 'eigentlich', 'ein', 'eine', 'einem', 'einen', 'einer', 'einerseits', 'eines', 'einfach', 'einführen', 'einführte', 'einführten', 'eingesetzt', 'einig', 'einige', 'einigem', 'einigen', 'einiger', 'einigermaßen', 'einiges', 'einmal', 'eins', 'einseitig', 'einseitige', 'einseitigen', 'einseitiger', 'einst', 'einstmals', 'einzig', 'entsprechend', 'entweder', 'er', 'erst', 'es', 'etc', 'etliche', 'etwa', 'etwas', 'euch', 'euer', 'eure', 'eurem', 'euren', 'eurer', 'eures', 'falls', 'fast', 'ferner', 'folgende', 'folgenden', 'folgender', 'folgendes', 'folglich', 'fuer', 'für', 'gab', 'ganze', 'ganzem', 'ganzen', 'ganzer', 'ganzes', 'gar', 'gegen', 'gemäss', 'ggf', 'gleich', 'gleichwohl', 'gleichzeitig', 'glücklicherweise', 'gänzlich', 'hab', 'habe', 'haben', 'haette', 'hast', 'hat', 'hatte', 'hatten', 'hattest', 'hattet', 'heraus', 'herein', 'hier', 'hier', 'hinter', 'hiermit', 'hiesige', 'hin', 'hinein', 'hinten', 'hinter', 'hinterher', 'http', 'hätt', 'hätte', 'hätten', 'höchstens', 'ich', 'igitt', 'ihm', 'ihn', 'ihnen', 'ihr', 'ihre', 'ihrem', 'ihren', 'ihrer', 'ihres', 'im', 'immer', 'immerhin', 'in', 'indem', 'indessen', 'infolge', 'innen', 'innerhalb', 'ins', 'insofern', 'inzwischen', 'irgend', 'irgendeine', 'irgendwas', 'irgendwen', 'irgendwer', 'irgendwie', 'irgendwo', 'ist', 'ja', 'je', 'jed', 'jede', 'jedem', 'jeden', 'jedenfalls', 'jeder', 'jederlei', 'jedes', 'jedoch', 'jemand', 'jene', 'jenem', 'jenen', 'jener', 'jenes', 'jenseits', 'jetzt', 'jährig', 'jährige', 'jährigen', 'jähriges', 'kam', 'kann', 'kannst', 'kaum', 'kein', 'keine', 'keinem', 'keinen', 'keiner', 'keinerlei', 'keines', 'keineswegs', 'klar', 'klare', 'klaren', 'klares', 'klein', 'kleinen', 'kleiner', 'kleines', 'koennen', 'koennt', 'koennte', 'koennten', 'komme', 'kommen', 'kommt', 'konkret', 'konkrete', 'konkreten', 'konkreter', 'konkretes', 'können', 'könnt', 'künftig', 'leider', 'machen', 'man', 'manche', 'manchem', 'manchen', 'mancher', 'mancherorts', 'manches', 'manchmal', 'mehr', 'mehrere', 'mein', 'meine', 'meinem', 'meinen', 'meiner', 'meines', 'mich', 'mir', 'mit', 'mithin', 'muessen', 'muesst', 'muesste', 'muss', 'musst', 'musste', 'mussten', 'muß', 'mußt', 'müssen', 'müsste', 'müssten', 'müßt', 'müßte', 'nach', 'nachdem', 'nachher', 'nachhinein', 'nahm', 'natürlich', 'neben', 'nebenan', 'nehmen', 'nein', 'nicht', 'nichts', 'nie', 'niemals', 'niemand', 'nirgends', 'nirgendwo', 'noch', 'nun', 'nur', 'nächste', 'nämlich', 'nötigenfalls', 'ob', 'oben', 'oberhalb', 'obgleich', 'obschon', 'obwohl', 'oder', 'oft', 'per', 'plötzlich', 'schließlich', 'schon', 'sehr', 'sehrwohl', 'seid', 'sein', 'seine', 'seinem', 'seinen', 'seiner', 'seines', 'seit', 'seitdem', 'seither', 'selber', 'selbst', 'sich', 'sicher', 'sicherlich', 'sie', 'sind', 'so', 'sobald', 'sodass', 'sodaß', 'soeben', 'sofern', 'sofort', 'sogar', 'solange', 'solch', 'solche', 'solchem', 'solchen', 'solcher', 'solches', 'soll', 'sollen', 'sollst', 'sollt', 'sollte', 'sollten', 'solltest', 'somit', 'sondern', 'sonst', 'sonstwo', 'sooft', 'soviel', 'soweit', 'sowie', 'sowohl', 'tatsächlich', 'tatsächlichen', 'tatsächlicher', 'tatsächliches', 'trotzdem', 'ueber', 'um', 'umso', 'unbedingt', 'und', 'unmöglich', 'unmögliche', 'unmöglichen', 'unmöglicher', 'uns', 'unser', 'unser', 'unsere', 'unsere', 'unserem', 'unseren', 'unserer', 'unseres', 'unter', 'usw', 'viel', 'viele', 'vielen', 'vieler', 'vieles', 'vielleicht', 'vielmals', 'vom', 'von', 'vor', 'voran', 'vorher', 'vorüber', 'völlig', 'wann', 'war', 'waren', 'warst', 'warum', 'was', 'weder', 'weil', 'weiter', 'weitere', 'weiterem', 'weiteren', 'weiterer', 'weiteres', 'weiterhin', 'weiß', 'welche', 'welchem', 'welchen', 'welcher', 'welches', 'wem', 'wen', 'wenig', 'wenige', 'weniger', 'wenigstens', 'wenn', 'wenngleich', 'wer', 'werde', 'werden', 'werdet', 'weshalb', 'wessen', 'wichtig', 'wie', 'wieder', 'wieso', 'wieviel', 'wiewohl', 'will', 'willst', 'wir', 'wird', 'wirklich', 'wirst', 'wo', 'wodurch', 'wogegen', 'woher', 'wohin', 'wohingegen', 'wohl', 'wohlweislich', 'womit', 'woraufhin', 'woraus', 'worin', 'wurde', 'wurden', 'während', 'währenddessen', 'wär', 'wäre', 'wären', 'würde', 'würden', 'z.B.', 'zB', 'zahlreich', 'zeitweise', 'zu', 'zudem', 'zuerst', 'zufolge', 'zugleich', 'zuletzt', 'zum', 'zumal', 'zur', 'zurück', 'zusammen', 'zuviel', 'zwar', 'zwischen', 'ähnlich', 'übel', 'über', 'überall', 'überallhin', 'überdies', 'übermorgen', 'übrig', 'übrigens']\n"
     ]
    }
   ],
   "source": [
    "print(stop_words)"
   ]
  },
  {
   "cell_type": "code",
   "execution_count": 6,
   "id": "073ffbd9",
   "metadata": {},
   "outputs": [],
   "source": [
    "# append words to stopwords that contain no information\n",
    "stop_words += ['wegen', 'melden', 'meldet', 'können', 'könnte', 'könnten', 'update', 'neu', 'neue', 'neues', 'ohne', 'letzte', 'letzter',\n",
    "                  'letztes', 'eins', 'zwei', 'drei', 'vier', 'fünf', 'sechs', 'sieben', 'acht', 'neun', 'zehn',\n",
    "                   'gehen', 'geht', 'wollen', 'wollte', 'wollt', 'jahr', 'jahre', 'fordern', 'fordert',\n",
    "                  'warnen', 'warnt', 'frühjahr', 'frühling', 'sommer', 'herbst', 'winter', 'erneut', 'deutlich', 'schwer', 'jahren', 'woche',\n",
    "                  'wochen', 'monat', 'monate', 'tag', 'tage', 'stunden', 'stunde', 'minuten', 'minuten', 'ende', 'beenden', 'endet']"
   ]
  },
  {
   "cell_type": "markdown",
   "id": "450013ef",
   "metadata": {},
   "source": [
    "## Clean text"
   ]
  },
  {
   "cell_type": "code",
   "execution_count": 7,
   "id": "820860aa",
   "metadata": {},
   "outputs": [],
   "source": [
    "train['ti_de_te_cleaned'] = train['title_description_text'].apply(lambda x: nlp_preprocessors.clean_text(x))"
   ]
  },
  {
   "cell_type": "markdown",
   "id": "a12c363c",
   "metadata": {},
   "source": [
    "## Extract features from 'title_description_text' "
   ]
  },
  {
   "cell_type": "code",
   "execution_count": 8,
   "id": "cd42c0db",
   "metadata": {},
   "outputs": [],
   "source": [
    "from sklearn.feature_extraction.text import CountVectorizer"
   ]
  },
  {
   "cell_type": "code",
   "execution_count": 9,
   "id": "38ab615c",
   "metadata": {},
   "outputs": [],
   "source": [
    "cv = CountVectorizer(max_df=0.95, min_df=3, stop_words=stop_words)"
   ]
  },
  {
   "cell_type": "code",
   "execution_count": 10,
   "id": "a628f0d2",
   "metadata": {},
   "outputs": [
    {
     "name": "stderr",
     "output_type": "stream",
     "text": [
      "C:\\Users\\manuela.rink\\anaconda3\\envs\\nlp\\Lib\\site-packages\\sklearn\\feature_extraction\\text.py:409: UserWarning: Your stop_words may be inconsistent with your preprocessing. Tokenizing the stop words generated tokens ['bsp', 'zb'] not in stop_words.\n",
      "  warnings.warn(\n"
     ]
    }
   ],
   "source": [
    "# create Document-Term-Matrix\n",
    "dtm = cv.fit_transform(train['ti_de_te_cleaned'])"
   ]
  },
  {
   "cell_type": "code",
   "execution_count": 11,
   "id": "faba69b8",
   "metadata": {},
   "outputs": [
    {
     "data": {
      "text/plain": [
       "<67513x29994 sparse matrix of type '<class 'numpy.int64'>'\n",
       "\twith 1026120 stored elements in Compressed Sparse Row format>"
      ]
     },
     "execution_count": 11,
     "metadata": {},
     "output_type": "execute_result"
    }
   ],
   "source": [
    "dtm"
   ]
  },
  {
   "cell_type": "code",
   "execution_count": 12,
   "id": "3f48b861",
   "metadata": {},
   "outputs": [],
   "source": [
    "from sklearn.decomposition import LatentDirichletAllocation"
   ]
  },
  {
   "cell_type": "code",
   "execution_count": 13,
   "id": "fdf60b9b",
   "metadata": {},
   "outputs": [
    {
     "data": {
      "text/html": [
       "<style>#sk-container-id-1 {color: black;background-color: white;}#sk-container-id-1 pre{padding: 0;}#sk-container-id-1 div.sk-toggleable {background-color: white;}#sk-container-id-1 label.sk-toggleable__label {cursor: pointer;display: block;width: 100%;margin-bottom: 0;padding: 0.3em;box-sizing: border-box;text-align: center;}#sk-container-id-1 label.sk-toggleable__label-arrow:before {content: \"▸\";float: left;margin-right: 0.25em;color: #696969;}#sk-container-id-1 label.sk-toggleable__label-arrow:hover:before {color: black;}#sk-container-id-1 div.sk-estimator:hover label.sk-toggleable__label-arrow:before {color: black;}#sk-container-id-1 div.sk-toggleable__content {max-height: 0;max-width: 0;overflow: hidden;text-align: left;background-color: #f0f8ff;}#sk-container-id-1 div.sk-toggleable__content pre {margin: 0.2em;color: black;border-radius: 0.25em;background-color: #f0f8ff;}#sk-container-id-1 input.sk-toggleable__control:checked~div.sk-toggleable__content {max-height: 200px;max-width: 100%;overflow: auto;}#sk-container-id-1 input.sk-toggleable__control:checked~label.sk-toggleable__label-arrow:before {content: \"▾\";}#sk-container-id-1 div.sk-estimator input.sk-toggleable__control:checked~label.sk-toggleable__label {background-color: #d4ebff;}#sk-container-id-1 div.sk-label input.sk-toggleable__control:checked~label.sk-toggleable__label {background-color: #d4ebff;}#sk-container-id-1 input.sk-hidden--visually {border: 0;clip: rect(1px 1px 1px 1px);clip: rect(1px, 1px, 1px, 1px);height: 1px;margin: -1px;overflow: hidden;padding: 0;position: absolute;width: 1px;}#sk-container-id-1 div.sk-estimator {font-family: monospace;background-color: #f0f8ff;border: 1px dotted black;border-radius: 0.25em;box-sizing: border-box;margin-bottom: 0.5em;}#sk-container-id-1 div.sk-estimator:hover {background-color: #d4ebff;}#sk-container-id-1 div.sk-parallel-item::after {content: \"\";width: 100%;border-bottom: 1px solid gray;flex-grow: 1;}#sk-container-id-1 div.sk-label:hover label.sk-toggleable__label {background-color: #d4ebff;}#sk-container-id-1 div.sk-serial::before {content: \"\";position: absolute;border-left: 1px solid gray;box-sizing: border-box;top: 0;bottom: 0;left: 50%;z-index: 0;}#sk-container-id-1 div.sk-serial {display: flex;flex-direction: column;align-items: center;background-color: white;padding-right: 0.2em;padding-left: 0.2em;position: relative;}#sk-container-id-1 div.sk-item {position: relative;z-index: 1;}#sk-container-id-1 div.sk-parallel {display: flex;align-items: stretch;justify-content: center;background-color: white;position: relative;}#sk-container-id-1 div.sk-item::before, #sk-container-id-1 div.sk-parallel-item::before {content: \"\";position: absolute;border-left: 1px solid gray;box-sizing: border-box;top: 0;bottom: 0;left: 50%;z-index: -1;}#sk-container-id-1 div.sk-parallel-item {display: flex;flex-direction: column;z-index: 1;position: relative;background-color: white;}#sk-container-id-1 div.sk-parallel-item:first-child::after {align-self: flex-end;width: 50%;}#sk-container-id-1 div.sk-parallel-item:last-child::after {align-self: flex-start;width: 50%;}#sk-container-id-1 div.sk-parallel-item:only-child::after {width: 0;}#sk-container-id-1 div.sk-dashed-wrapped {border: 1px dashed gray;margin: 0 0.4em 0.5em 0.4em;box-sizing: border-box;padding-bottom: 0.4em;background-color: white;}#sk-container-id-1 div.sk-label label {font-family: monospace;font-weight: bold;display: inline-block;line-height: 1.2em;}#sk-container-id-1 div.sk-label-container {text-align: center;}#sk-container-id-1 div.sk-container {/* jupyter's `normalize.less` sets `[hidden] { display: none; }` but bootstrap.min.css set `[hidden] { display: none !important; }` so we also need the `!important` here to be able to override the default hidden behavior on the sphinx rendered scikit-learn.org. See: https://github.com/scikit-learn/scikit-learn/issues/21755 */display: inline-block !important;position: relative;}#sk-container-id-1 div.sk-text-repr-fallback {display: none;}</style><div id=\"sk-container-id-1\" class=\"sk-top-container\"><div class=\"sk-text-repr-fallback\"><pre>LatentDirichletAllocation(n_components=6, random_state=42)</pre><b>In a Jupyter environment, please rerun this cell to show the HTML representation or trust the notebook. <br />On GitHub, the HTML representation is unable to render, please try loading this page with nbviewer.org.</b></div><div class=\"sk-container\" hidden><div class=\"sk-item\"><div class=\"sk-estimator sk-toggleable\"><input class=\"sk-toggleable__control sk-hidden--visually\" id=\"sk-estimator-id-1\" type=\"checkbox\" checked><label for=\"sk-estimator-id-1\" class=\"sk-toggleable__label sk-toggleable__label-arrow\">LatentDirichletAllocation</label><div class=\"sk-toggleable__content\"><pre>LatentDirichletAllocation(n_components=6, random_state=42)</pre></div></div></div></div></div>"
      ],
      "text/plain": [
       "LatentDirichletAllocation(n_components=6, random_state=42)"
      ]
     },
     "execution_count": 13,
     "metadata": {},
     "output_type": "execute_result"
    }
   ],
   "source": [
    "lda = LatentDirichletAllocation(n_components=6, random_state=42)\n",
    "lda.fit(dtm)"
   ]
  },
  {
   "cell_type": "markdown",
   "id": "a2f3296f",
   "metadata": {},
   "source": [
    "## Analyse extracted features"
   ]
  },
  {
   "cell_type": "code",
   "execution_count": 14,
   "id": "44c85ba2",
   "metadata": {},
   "outputs": [
    {
     "data": {
      "text/plain": [
       "29994"
      ]
     },
     "execution_count": 14,
     "metadata": {},
     "output_type": "execute_result"
    }
   ],
   "source": [
    "len(cv.get_feature_names_out())"
   ]
  },
  {
   "cell_type": "code",
   "execution_count": 15,
   "id": "79a3b48a",
   "metadata": {},
   "outputs": [
    {
     "data": {
      "text/plain": [
       "array(['000', '01', '034', ..., 'đoković', 'войны', 'украинцы'],\n",
       "      dtype=object)"
      ]
     },
     "execution_count": 15,
     "metadata": {},
     "output_type": "execute_result"
    }
   ],
   "source": [
    "cv.get_feature_names_out()"
   ]
  },
  {
   "cell_type": "code",
   "execution_count": 16,
   "id": "6d276a41",
   "metadata": {},
   "outputs": [
    {
     "data": {
      "text/plain": [
       "6"
      ]
     },
     "execution_count": 16,
     "metadata": {},
     "output_type": "execute_result"
    }
   ],
   "source": [
    "len(lda.components_)"
   ]
  },
  {
   "cell_type": "code",
   "execution_count": 17,
   "id": "be61548c",
   "metadata": {},
   "outputs": [
    {
     "data": {
      "text/plain": [
       "array([[14.00755783,  0.16666719,  5.18607024, ...,  0.16666702,\n",
       "         0.16667001,  0.16666999],\n",
       "       [23.52251668,  0.16671058,  9.86061821, ...,  0.16673405,\n",
       "         4.16665146,  0.16667006],\n",
       "       [ 2.19246081,  0.16666716, 10.23530109, ...,  0.16666701,\n",
       "         0.16666983,  0.16666981],\n",
       "       [ 0.16994032,  0.70156754, 29.45859678, ...,  0.16677223,\n",
       "         0.16666901,  0.16666899],\n",
       "       [ 4.46161208,  3.63118249, 35.09225977, ...,  3.16624056,\n",
       "         0.16666933,  5.16665082],\n",
       "       [16.64591227,  0.16720504,  0.16715391, ...,  0.16691914,\n",
       "         0.16667036,  0.16667033]])"
      ]
     },
     "execution_count": 17,
     "metadata": {},
     "output_type": "execute_result"
    }
   ],
   "source": [
    "lda.components_"
   ]
  },
  {
   "cell_type": "code",
   "execution_count": 18,
   "id": "45a65bd8",
   "metadata": {},
   "outputs": [
    {
     "data": {
      "text/plain": [
       "29994"
      ]
     },
     "execution_count": 18,
     "metadata": {},
     "output_type": "execute_result"
    }
   ],
   "source": [
    "len(lda.components_[0])"
   ]
  },
  {
   "cell_type": "markdown",
   "id": "9e30cf34",
   "metadata": {},
   "source": [
    "### Show most important words of first extracted topic"
   ]
  },
  {
   "cell_type": "code",
   "execution_count": 19,
   "id": "c617b9e0",
   "metadata": {},
   "outputs": [],
   "source": [
    "first_topic = lda.components_[0]"
   ]
  },
  {
   "cell_type": "code",
   "execution_count": 20,
   "id": "258f618e",
   "metadata": {},
   "outputs": [
    {
     "data": {
      "text/plain": [
       "array([25046, 17447, 28947, ..., 11666, 16450,  5532], dtype=int64)"
      ]
     },
     "execution_count": 20,
     "metadata": {},
     "output_type": "execute_result"
    }
   ],
   "source": [
    "first_topic.argsort() # returns indices of ascending sorted array values "
   ]
  },
  {
   "cell_type": "code",
   "execution_count": 21,
   "id": "5966880a",
   "metadata": {},
   "outputs": [],
   "source": [
    "# the last 10 entries are the 10 most important words for topic 1\n",
    "top_words_indices = first_topic.argsort()[-10:]"
   ]
  },
  {
   "cell_type": "code",
   "execution_count": 22,
   "id": "11648839",
   "metadata": {},
   "outputs": [
    {
     "name": "stdout",
     "output_type": "stream",
     "text": [
      "deutsch\n",
      "zahl\n",
      "euro\n",
      "gut\n",
      "groß\n",
      "steigen\n",
      "geben\n",
      "hoch\n",
      "mensch\n",
      "deutschland\n"
     ]
    }
   ],
   "source": [
    "for index in top_words_indices:\n",
    "    print(cv.get_feature_names_out()[index])"
   ]
  },
  {
   "cell_type": "markdown",
   "id": "0d661247",
   "metadata": {},
   "source": [
    "### Show most important words of first extracted topic"
   ]
  },
  {
   "cell_type": "code",
   "execution_count": 23,
   "id": "f789d8f2",
   "metadata": {},
   "outputs": [
    {
     "name": "stdout",
     "output_type": "stream",
     "text": [
      "Die TOP-15 Wörter für das Thema #0\n",
      "['million', 'inflation', 'preis', 'britisch', 'lindner', 'deutsch', 'zahl', 'euro', 'gut', 'groß', 'steigen', 'geben', 'hoch', 'mensch', 'deutschland']\n",
      "\n",
      "\n",
      "Die TOP-15 Wörter für das Thema #1\n",
      "['gut', 'experte', 'online', 'zeigen', 'taiwan', 'geben', 'groß', 'putin', 'land', 'euro', 'deutschland', 'usa', 'deutsch', 'us', 'china']\n",
      "\n",
      "\n",
      "Die TOP-15 Wörter für das Thema #2\n",
      "['weit', 'donald', 'töten', 'geben', 'mann', 'tote', 'gericht', 'protest', 'präsident', 'polizei', 'ex', 'sterben', 'trump', 'mensch', 'us']\n",
      "\n",
      "\n",
      "Die TOP-15 Wörter für das Thema #3\n",
      "['entwicklung', 'kanzler', 'habeck', 'moskau', 'selenskyj', 'kiew', 'eu', 'präsident', 'scholz', 'ukrainisch', 'putin', 'russisch', 'russland', 'krieg', 'ukraine']\n",
      "\n",
      "\n",
      "Die TOP-15 Wörter für das Thema #4\n",
      "['stehen', 'gut', 'lauterbach', 'deutschland', 'geben', 'partei', 'wahl', 'grüne', 'spd', 'berlin', 'afd', 'online', 'focus', 'cdu', 'corona']\n",
      "\n",
      "\n",
      "Die TOP-15 Wörter für das Thema #5\n",
      "['fc', 'iran', 'bayern', 'land', 'generation', 'bundesliga', 'frau', 'mensch', 'deutschland', 'fußball', 'israel', 'baerbock', 'deutsch', 'wm', 'eu']\n",
      "\n",
      "\n"
     ]
    }
   ],
   "source": [
    "for index, topic in enumerate(lda.components_):\n",
    "    print(f'Die TOP-15 Wörter für das Thema #{index}')\n",
    "    print([cv.get_feature_names_out()[i] for i in topic.argsort()[-15:]])\n",
    "    print('\\n')"
   ]
  },
  {
   "cell_type": "markdown",
   "id": "a0973fc9",
   "metadata": {},
   "source": [
    "### Get topics with highest probability for news items in train data"
   ]
  },
  {
   "cell_type": "code",
   "execution_count": 24,
   "id": "0f46f47f",
   "metadata": {},
   "outputs": [
    {
     "data": {
      "text/plain": [
       "(67513, 6)"
      ]
     },
     "execution_count": 24,
     "metadata": {},
     "output_type": "execute_result"
    }
   ],
   "source": [
    "topic_results = lda.transform(dtm)\n",
    "topic_results.shape"
   ]
  },
  {
   "cell_type": "code",
   "execution_count": 25,
   "id": "823c7020",
   "metadata": {},
   "outputs": [
    {
     "data": {
      "text/plain": [
       "array([0.36251, 0.18005, 0.00728, 0.12336, 0.31954, 0.00726])"
      ]
     },
     "execution_count": 25,
     "metadata": {},
     "output_type": "execute_result"
    }
   ],
   "source": [
    "topic_results[0].round(5)"
   ]
  },
  {
   "cell_type": "code",
   "execution_count": 26,
   "id": "f68cacd0",
   "metadata": {},
   "outputs": [
    {
     "data": {
      "text/plain": [
       "0"
      ]
     },
     "execution_count": 26,
     "metadata": {},
     "output_type": "execute_result"
    }
   ],
   "source": [
    "topic_results[0].argmax()"
   ]
  },
  {
   "cell_type": "code",
   "execution_count": 27,
   "id": "6e11fb89",
   "metadata": {},
   "outputs": [],
   "source": [
    "# save topic to train dataset\n",
    "train['topic'] = topic_results.argmax(axis=1)"
   ]
  },
  {
   "cell_type": "code",
   "execution_count": 28,
   "id": "7eb2c522",
   "metadata": {},
   "outputs": [
    {
     "data": {
      "text/html": [
       "<div>\n",
       "<style scoped>\n",
       "    .dataframe tbody tr th:only-of-type {\n",
       "        vertical-align: middle;\n",
       "    }\n",
       "\n",
       "    .dataframe tbody tr th {\n",
       "        vertical-align: top;\n",
       "    }\n",
       "\n",
       "    .dataframe thead th {\n",
       "        text-align: right;\n",
       "    }\n",
       "</style>\n",
       "<table border=\"1\" class=\"dataframe\">\n",
       "  <thead>\n",
       "    <tr style=\"text-align: right;\">\n",
       "      <th></th>\n",
       "      <th>date</th>\n",
       "      <th>title</th>\n",
       "      <th>description</th>\n",
       "      <th>category</th>\n",
       "      <th>text</th>\n",
       "      <th>source</th>\n",
       "      <th>title_description_text</th>\n",
       "      <th>ti_de_te_cleaned</th>\n",
       "      <th>topic</th>\n",
       "    </tr>\n",
       "  </thead>\n",
       "  <tbody>\n",
       "    <tr>\n",
       "      <th>0</th>\n",
       "      <td>2022-06-01 00:13:42</td>\n",
       "      <td>Preise: Grüne halten Senkung der Spritsteuer f...</td>\n",
       "      <td>Heute tritt die Steuersenkung auf Kraftstoffe ...</td>\n",
       "      <td>Other</td>\n",
       "      <td>NaN</td>\n",
       "      <td>stern</td>\n",
       "      <td>Preise: Grüne halten Senkung der Spritsteuer f...</td>\n",
       "      <td>Preis grüne halten Senkung Spritsteuer falsch ...</td>\n",
       "      <td>0</td>\n",
       "    </tr>\n",
       "    <tr>\n",
       "      <th>1</th>\n",
       "      <td>2022-06-01 01:55:03</td>\n",
       "      <td>Biden warnt Putin: USA liefern moderne Raketen...</td>\n",
       "      <td>Die USA rüsten die Ukraine mit fortschrittlich...</td>\n",
       "      <td>Other</td>\n",
       "      <td>NaN</td>\n",
       "      <td>stern</td>\n",
       "      <td>Biden warnt Putin: USA liefern moderne Raketen...</td>\n",
       "      <td>Biden warnen Putin USA liefern modern Raketens...</td>\n",
       "      <td>3</td>\n",
       "    </tr>\n",
       "    <tr>\n",
       "      <th>2</th>\n",
       "      <td>2022-06-01 02:04:08</td>\n",
       "      <td>Soziale Medien: FDP-Politiker Kuhle: Internet-...</td>\n",
       "      <td>Eine «ZDF Magazin Royale»-Recherche beschäftig...</td>\n",
       "      <td>Other</td>\n",
       "      <td>NaN</td>\n",
       "      <td>stern</td>\n",
       "      <td>Soziale Medien: FDP-Politiker Kuhle: Internet-...</td>\n",
       "      <td>sozial Medium FDP-Politiker Kuhle Internet-Str...</td>\n",
       "      <td>4</td>\n",
       "    </tr>\n",
       "    <tr>\n",
       "      <th>3</th>\n",
       "      <td>2022-06-01 02:26:58</td>\n",
       "      <td>Liveblog: ++ Zwei von drei ukrainischen Kinder...</td>\n",
       "      <td>Rund zwei von drei Mädchen und Jungen in der U...</td>\n",
       "      <td>Missing</td>\n",
       "      <td>NaN</td>\n",
       "      <td>Tagesschau</td>\n",
       "      <td>Liveblog: ++ Zwei von drei ukrainischen Kinder...</td>\n",
       "      <td>Liveblog ukrainisch Kind vertreiben rund Mädch...</td>\n",
       "      <td>2</td>\n",
       "    </tr>\n",
       "    <tr>\n",
       "      <th>4</th>\n",
       "      <td>2022-06-01 02:31:43</td>\n",
       "      <td>Finanzen: Dänemark stimmt über EU-Verteidigung...</td>\n",
       "      <td>Vorbehalt verteidigen oder Verteidigung ohne V...</td>\n",
       "      <td>Other</td>\n",
       "      <td>NaN</td>\n",
       "      <td>stern</td>\n",
       "      <td>Finanzen: Dänemark stimmt über EU-Verteidigung...</td>\n",
       "      <td>Finanz Dänemark stimmen EU-Verteidigungsvorbeh...</td>\n",
       "      <td>5</td>\n",
       "    </tr>\n",
       "  </tbody>\n",
       "</table>\n",
       "</div>"
      ],
      "text/plain": [
       "                  date                                              title  \\\n",
       "0  2022-06-01 00:13:42  Preise: Grüne halten Senkung der Spritsteuer f...   \n",
       "1  2022-06-01 01:55:03  Biden warnt Putin: USA liefern moderne Raketen...   \n",
       "2  2022-06-01 02:04:08  Soziale Medien: FDP-Politiker Kuhle: Internet-...   \n",
       "3  2022-06-01 02:26:58  Liveblog: ++ Zwei von drei ukrainischen Kinder...   \n",
       "4  2022-06-01 02:31:43  Finanzen: Dänemark stimmt über EU-Verteidigung...   \n",
       "\n",
       "                                         description category  text  \\\n",
       "0  Heute tritt die Steuersenkung auf Kraftstoffe ...    Other   NaN   \n",
       "1  Die USA rüsten die Ukraine mit fortschrittlich...    Other   NaN   \n",
       "2  Eine «ZDF Magazin Royale»-Recherche beschäftig...    Other   NaN   \n",
       "3  Rund zwei von drei Mädchen und Jungen in der U...  Missing   NaN   \n",
       "4  Vorbehalt verteidigen oder Verteidigung ohne V...    Other   NaN   \n",
       "\n",
       "       source                             title_description_text  \\\n",
       "0       stern  Preise: Grüne halten Senkung der Spritsteuer f...   \n",
       "1       stern  Biden warnt Putin: USA liefern moderne Raketen...   \n",
       "2       stern  Soziale Medien: FDP-Politiker Kuhle: Internet-...   \n",
       "3  Tagesschau  Liveblog: ++ Zwei von drei ukrainischen Kinder...   \n",
       "4       stern  Finanzen: Dänemark stimmt über EU-Verteidigung...   \n",
       "\n",
       "                                    ti_de_te_cleaned  topic  \n",
       "0  Preis grüne halten Senkung Spritsteuer falsch ...      0  \n",
       "1  Biden warnen Putin USA liefern modern Raketens...      3  \n",
       "2  sozial Medium FDP-Politiker Kuhle Internet-Str...      4  \n",
       "3  Liveblog ukrainisch Kind vertreiben rund Mädch...      2  \n",
       "4  Finanz Dänemark stimmen EU-Verteidigungsvorbeh...      5  "
      ]
     },
     "execution_count": 28,
     "metadata": {},
     "output_type": "execute_result"
    }
   ],
   "source": [
    "train.head()"
   ]
  },
  {
   "cell_type": "markdown",
   "id": "dc4070d6",
   "metadata": {},
   "source": [
    "## Visualize model"
   ]
  },
  {
   "cell_type": "code",
   "execution_count": 29,
   "id": "f6745175",
   "metadata": {},
   "outputs": [
    {
     "data": {
      "text/html": [
       "\n",
       "<link rel=\"stylesheet\" type=\"text/css\" href=\"https://cdn.jsdelivr.net/gh/bmabey/pyLDAvis@3.4.0/pyLDAvis/js/ldavis.v1.0.0.css\">\n",
       "\n",
       "\n",
       "<div id=\"ldavis_el1607220748059085608138884494\" style=\"background-color:white;\"></div>\n",
       "<script type=\"text/javascript\">\n",
       "\n",
       "var ldavis_el1607220748059085608138884494_data = {\"mdsDat\": {\"x\": [-56.40022659301758, -116.33190155029297, -19.901344299316406, -43.252079010009766, 61.954078674316406, 54.253055572509766], \"y\": [93.65319061279297, -3.196837902069092, 3.9725215435028076, -89.99552154541016, -47.543460845947266, 65.92473602294922], \"topics\": [1, 2, 3, 4, 5, 6], \"cluster\": [1, 1, 1, 1, 1, 1], \"Freq\": [21.400051058809183, 19.20432117831399, 15.807423630456844, 15.403957543620555, 14.672082073680267, 13.51216451511916]}, \"tinfo\": {\"Term\": [\"ukraine\", \"krieg\", \"russland\", \"russisch\", \"china\", \"corona\", \"putin\", \"scholz\", \"us\", \"ukrainisch\", \"eu\", \"trump\", \"wm\", \"cdu\", \"sterben\", \"focus\", \"afd\", \"online\", \"kiew\", \"polizei\", \"euro\", \"selenskyj\", \"baerbock\", \"deutschland\", \"gr\\u00fcne\", \"israel\", \"mensch\", \"wahl\", \"pr\\u00e4sident\", \"usa\", \"selenskyj\", \"liveblog\", \"stream\", \"nord\", \"krim\", \"merkel\", \"olaf\", \"scholz\", \"milit\\u00e4rexperte\", \"bachmut\", \"pipeline\", \"heizungsgesetz\", \"kiew\", \"gegenoffensiv\", \"lieferung\", \"macron\", \"bundeskanzler\", \"gazprom\", \"wolodymyr\", \"waffenlieferunge\", \"newsblog\", \"gaslieferunge\", \"verteidigungsministerin\", \"selenski\", \"uniper\", \"waffenlieferung\", \"ukraine\", \"draghi\", \"gegenoffensive\", \"meloni\", \"wagner\", \"kanzler\", \"krieg\", \"s\\u00f6ldner\", \"kriegsverlauf\", \"truppe\", \"invasion\", \"lambrecht\", \"ukrainisch\", \"russisch\", \"russland\", \"prigoschin\", \"saporischschja\", \"moskau\", \"panzer\", \"entwicklung\", \"nato\", \"putin\", \"russe\", \"gas\", \"waffe\", \"biden\", \"habeck\", \"pr\\u00e4sident\", \"eu\", \"angriff\", \"liefern\", \"armee\", \"land\", \"weit\", \"lage\", \"ampel\", \"chef\", \"usa\", \"geben\", \"deutschland\", \"us\", \"regierung\", \"afd\", \"lauterbach\", \"gesundheitsminister\", \"niedersachsen\", \"karl\", \"reitz\", \"rki\", \"maskenpflicht\", \"ki\", \"impfung\", \"parteitag\", \"eintracht\", \"inzidenz\", \"stichwahl\", \"intelligenz\", \"landtagswahl\", \"katholisch\", \"impfstoff\", \"hugo\", \"vogg\", \"corona\", \"bolsonaro\", \"maske\", \"infektion\", \"ulrich\", \"staatssekret\\u00e4r\", \"verfassungsschutz\", \"bundesgesundheitsminister\", \"koalitionsvertrag\", \"omikron\", \"giffey\", \"cdu\", \"w\\u00e4hler\", \"w\\u00e4hlen\", \"documenta\", \"kirche\", \"wahl\", \"partei\", \"gr\\u00fcne\", \"papst\", \"focus\", \"pandemie\", \"spd\", \"csu\", \"online\", \"m\\u00fcller\", \"merz\", \"linke\", \"berlin\", \"umfrage\", \"s\\u00f6der\", \"ard\", \"gr\\u00fcn\", \"berliner\", \"autor\", \"fdp\", \"politiker\", \"ampel\", \"chef\", \"gut\", \"sagen\", \"bayern\", \"kritik\", \"stehen\", \"geben\", \"deutschland\", \"sehen\", \"deutsch\", \"finden\", \"gro\\u00df\", \"erster\", \"politik\", \"zeigen\", \"trump\", \"donald\", \"haft\", \"streik\", \"prozess\", \"flughafen\", \"warnstreik\", \"tot\", \"anklage\", \"l\\u00fctzerath\", \"waldbrand\", \"kapitol\", \"gef\\u00e4ngnis\", \"t\\u00e4ter\", \"mord\", \"ermittler\", \"lufthansa\", \"verdi\", \"ermittlung\", \"haftstrafe\", \"erschie\\u00dfen\", \"anklagen\", \"wetter\", \"j\\u00e4hriger\", \"r\\u00e4umung\", \"florida\", \"brand\", \"fbi\", \"verd\\u00e4chtige\", \"schuldig\", \"festnehmen\", \"unfall\", \"staatsanwaltschaft\", \"sterben\", \"polizei\", \"tat\", \"gericht\", \"verletzen\", \"polizist\", \"t\\u00f6ten\", \"mutma\\u00dflich\", \"t\\u00f6dlich\", \"tote\", \"verurteilen\", \"ex\", \"mindestens\", \"tod\", \"urteil\", \"protest\", \"twitter\", \"us\", \"mensch\", \"mann\", \"pr\\u00e4sident\", \"leben\", \"fall\", \"stadt\", \"geben\", \"weit\", \"usa\", \"kind\", \"angriff\", \"johnson\", \"gabor\", \"steingart\", \"queen\", \"charles\", \"promi\", \"heil\", \"melnyk\", \"truss\", \"album\", \"b\\u00fcrgergeld\", \"litauen\", \"iii\", \"elizabeth\", \"ii\", \"sunak\", \"bundesamt\", \"hartz\", \"iv\", \"liz\", \"mieter\", \"statistisch\", \"future\", \"armut\", \"fridays\", \"mindestlohn\", \"inflationsrate\", \"miete\", \"einkommen\", \"andrij\", \"kindergrundsicherung\", \"lebensmittel\", \"fachkr\\u00e4ftemangel\", \"finanzminister\", \"kommune\", \"boris\", \"lindner\", \"k\\u00f6nig\", \"rente\", \"tankrabatt\", \"for\", \"sinken\", \"sparen\", \"preis\", \"steigen\", \"bild\", \"inflation\", \"zahl\", \"britisch\", \"botschafter\", \"faeser\", \"gro\\u00dfbritannien\", \"deutschland\", \"hoch\", \"geld\", \"steigend\", \"teuer\", \"euro\", \"prozent\", \"million\", \"mensch\", \"gut\", \"gro\\u00df\", \"geben\", \"polen\", \"leben\", \"welt\", \"zeigen\", \"deutsch\", \"stark\", \"aktuell\", \"land\", \"kind\", \"china\", \"taiwan\", \"dax\", \"marktbericht\", \"chinesisch\", \"xi\", \"peking\", \"aiwanger\", \"anleger\", \"ezb\", \"wall\", \"notenbank\", \"jinping\", \"b\\u00f6rse\", \"pelosi\", \"ballon\", \"aktie\", \"versteher\", \"g\\u00f6rlach\", \"nawalny\", \"schlesinger\", \"flugblatt\", \"jong\", \"leitzins\", \"google\", \"fed\", \"investieren\", \"49\", \"investor\", \"diktator\", \"nordkorea\", \"ticket\", \"wasserstoff\", \"man\\u00f6ver\", \"affenpocken\", \"firma\", \"kim\", \"street\", \"unternehmen\", \"co2\", \"euro\", \"konzern\", \"klimawandel\", \"bank\", \"wirtschaft\", \"usa\", \"global\", \"us\", \"klima\", \"deutsch\", \"experte\", \"bahn\", \"westen\", \"europa\", \"deutschland\", \"land\", \"gro\\u00df\", \"putin\", \"online\", \"zeigen\", \"geben\", \"hoch\", \"gut\", \"focus\", \"welt\", \"russland\", \"eu\", \"million\", \"staat\", \"israel\", \"em\", \"au\\u00dfenministerin\", \"erdbeben\", \"league\", \"steinmeier\", \"bundespr\\u00e4sident\", \"taliban\", \"israelisch\", \"katar\", \"justizreform\", \"bvb\", \"dortmund\", \"serbien\", \"letzten\", \"sudan\", \"annalena\", \"borussia\", \"mali\", \"team\", \"marokko\", \"kosovo\", \"hertha\", \"pokal\", \"wolfsburg\", \"lng\", \"leverkusen\", \"mittelmeer\", \"tunesien\", \"pal\\u00e4stinenser\", \"wm\", \"baerbock\", \"fu\\u00dfball\", \"bundesliga\", \"dfb\", \"generation\", \"syrien\", \"afghanistan\", \"fc\", \"tor\", \"leipzig\", \"spiel\", \"iran\", \"sieg\", \"eu\", \"bayern\", \"spanien\", \"frau\", \"un\", \"deutsch\", \"t\\u00fcrkei\", \"gewinnen\", \"mensch\", \"deutschland\", \"berlin\", \"land\", \"erster\", \"stehen\", \"regierung\", \"geben\"], \"Freq\": [11628.0, 5856.0, 5908.0, 5571.0, 2851.0, 2944.0, 3891.0, 2579.0, 4342.0, 2761.0, 4105.0, 1566.0, 1365.0, 1797.0, 1529.0, 2243.0, 1482.0, 2243.0, 1541.0, 1316.0, 1957.0, 1427.0, 1069.0, 6557.0, 1581.0, 972.0, 4184.0, 1451.0, 4121.0, 2935.0, 1426.8575022001899, 1143.9019917255107, 596.797472685694, 588.0811786869724, 511.55902474689015, 359.4234707822441, 759.4311377625686, 2572.836320515744, 294.60450324455616, 528.3301626093105, 277.1702428587682, 267.48438479416455, 1536.1852062758207, 190.96852466184131, 479.3403009768473, 566.0350329693878, 562.1807831511335, 180.31432396617157, 184.16629207301753, 167.72241491103884, 159.0063409450283, 152.2033544958877, 146.3959024753442, 135.75998214746852, 132.85380187548228, 142.47222460356437, 11555.49052062115, 128.01172678643022, 121.23183348456826, 125.02171190373116, 800.931548751912, 1174.454798826098, 5629.917918164865, 214.0909406688765, 180.69721013721355, 720.1036679558025, 471.82794982527497, 295.687081987215, 2592.312780356071, 5055.872412671613, 5321.2877644193195, 422.33306111499604, 458.58294704872975, 1237.6548458228315, 581.3295048427258, 1155.5429654152817, 1083.7759694999595, 3046.5890452942403, 576.3918326350425, 968.3588284027551, 651.486283621986, 983.0791671826935, 1211.6208150319849, 2430.9869175533804, 1971.8721828503956, 1042.8730555882898, 723.7053545526611, 650.6329094176878, 1147.3676372736033, 1034.1912235861641, 762.4089520828209, 807.7793610173453, 856.5698642536682, 917.555442960771, 1018.00850728591, 977.7376206039876, 859.9287382152665, 796.8666203931505, 1481.4066504364516, 849.5393602710056, 359.70230377669697, 330.3098204800564, 278.38872521096107, 408.2265494383901, 240.1828623515476, 238.22286440625174, 228.42218155206334, 226.46703355121957, 249.88078639260553, 204.9106403677781, 202.95543227089456, 202.954637871013, 202.95387902072812, 188.2602938423715, 182.38131370481673, 182.3809698656668, 175.52425348364685, 170.62598980854926, 2930.0607349609973, 144.16983894868287, 141.23501832320724, 141.2048221747449, 450.82489554256153, 132.41791743122724, 128.4967219512802, 118.70299071310968, 121.59983760458563, 112.82542769908588, 193.67439861323126, 1728.8315673517277, 237.43504200792148, 521.5435945148295, 203.32321067309363, 373.3363201216377, 1341.0218964938992, 1248.4437194974319, 1351.1830482092976, 306.7811386059129, 1700.9579667415683, 754.6303716816238, 1367.5048859009466, 353.0902233738785, 1606.5143727440445, 296.15321262350477, 539.5989985138287, 440.12266784834185, 1432.121621283297, 398.5133251944064, 350.416607463224, 335.71301301457447, 524.5704618139877, 523.0014064998687, 451.95478212715136, 667.5978745933472, 539.778910666829, 673.1008504020542, 734.4356779467935, 810.1741115050488, 751.5939308484051, 565.6658913791606, 651.3535113059214, 763.3099929399906, 913.0684330320565, 908.7297477809988, 656.645575735745, 727.6163297105702, 577.3070441707891, 582.5199754430189, 545.0830499556429, 528.7062130184825, 530.4883435136734, 1565.733822405024, 649.9950741983291, 576.1719360315569, 525.6610062821434, 475.15076886350516, 383.8432481880759, 358.58999340399725, 591.1579404021962, 321.6781794273233, 355.46285114852554, 260.4828998397746, 257.5697324261447, 257.56774771291833, 279.71437903299733, 298.0732437131585, 220.65122414794376, 200.25824577998281, 178.88879810570904, 402.1955935731754, 171.1186011316744, 168.20061516882998, 166.26177611734266, 164.31789310218628, 180.72507332208727, 155.57671556400996, 150.71932602473933, 302.2800530417701, 139.06393538496457, 137.11854375852428, 136.14911313687588, 424.96766120120503, 309.4476776810351, 272.9311691909094, 1478.7991048612237, 1271.7145029874625, 192.47980047879548, 919.3171695126315, 628.7073543304439, 318.6581990068739, 734.0211153585074, 567.0858534759008, 270.83828497395814, 910.9745214900228, 553.8368662645643, 1285.3534689375908, 576.7439318028297, 597.5786802528343, 466.3863624165106, 929.3911854851383, 362.6699843824645, 1846.1433637146297, 1671.1367523683316, 810.8429427518001, 956.6577302578429, 628.506447322183, 489.4023363613588, 543.4897383911441, 775.4455854314383, 633.2331113797634, 577.4493438970453, 505.19045149339894, 499.96592949770246, 529.218105868867, 393.2593357664349, 388.3333879333397, 319.36920451197386, 301.6352389992551, 300.65068574838784, 223.8038414557748, 216.90616719411508, 185.38223594559844, 178.48092569219344, 290.26807350843615, 175.5244278399157, 166.66317870759326, 163.7074526974091, 171.5417989332659, 157.7957855758569, 188.1479233212052, 143.01812386478628, 140.06247387335998, 122.32869231416869, 116.40995772332322, 113.46223442396229, 110.50525784332858, 147.60515623860317, 103.60871351907483, 99.66897547293225, 87.84647688042811, 85.87593059318824, 85.85045478289611, 81.93317821412252, 191.01043517269974, 209.1351612899025, 126.43071078036087, 416.49809079147417, 336.1804160262999, 456.0146858697947, 751.8816405998265, 285.8171491030151, 202.5096747384851, 170.9400877558269, 157.0708769213511, 411.09982269381385, 344.96572845359566, 728.6925632722235, 1058.6991250455342, 639.1227713290688, 697.4002438870907, 785.1423195643347, 746.4041294765617, 327.49598788793065, 525.4844411372177, 497.8934328738177, 2558.7992130997613, 1170.3094127966485, 658.583699853757, 373.20124277641054, 424.6529473341241, 875.2183058777434, 689.1242003292895, 689.1872126895621, 1192.9913998258148, 887.5459291745211, 1007.7275302938366, 1113.99841795896, 462.7636059150834, 558.5168890367602, 551.0615834085011, 652.1429832416568, 765.8250845380875, 507.1827406173302, 503.2369972589552, 596.1430329079408, 486.90252247371893, 2851.086707842227, 725.817002202937, 508.3157898430436, 448.8200286384981, 514.0107282083967, 418.58361542486557, 418.5834048865217, 321.0468392616425, 290.81409651874895, 208.88476530045733, 206.9346224102323, 194.25534766719665, 185.47706663246612, 183.5261963651132, 150.36433353677484, 133.78404961153578, 132.80835950193526, 130.85788504532007, 129.88285548106208, 127.9301444613779, 120.127956599542, 117.2008066911085, 114.2767260944342, 113.30189465431468, 123.93855018098687, 109.40081163902522, 121.92430776777061, 97.69565375612963, 160.5204249480311, 151.81807011723927, 431.96587664195306, 433.77746676156886, 129.47164896242663, 144.5902755466595, 130.76333092793982, 298.05534523409426, 198.6499946537716, 234.80953511951813, 514.3955662928821, 181.91297481041613, 1045.2012058905887, 301.9632595411481, 327.15403060296086, 247.24270906946077, 429.59952562840766, 1320.3640675253457, 250.622260611867, 1634.8818799897924, 429.812596248492, 1327.8797465803648, 593.6039798560246, 401.3165761261636, 426.59862317673947, 568.9917804995773, 1188.9595062384456, 860.7916516706831, 837.4965301712308, 839.7249565481022, 624.8696977057862, 638.8430578794527, 763.2958592938147, 562.2563469028755, 575.1428914531095, 534.0303454850413, 467.10320132467893, 536.6710802813852, 476.98869703727206, 446.1844947884915, 433.9322589723568, 971.267487392079, 482.5715244449852, 492.2598800041367, 384.5386177120334, 346.67892202262215, 282.6195814899713, 239.9099310908755, 233.1171944308032, 252.4479067131342, 458.4632139258446, 222.44066400689502, 217.58276438708597, 239.81789072822545, 210.79103980810615, 210.78488572910754, 334.5468346376498, 243.6498868759657, 190.40937666870195, 181.6719790103531, 554.6698875136293, 172.93725813809036, 170.02510194112713, 176.7766722608093, 163.23107378323422, 161.28599142397218, 160.31700673742432, 154.49445296518218, 150.60828277516916, 146.72758188880294, 140.90394648301213, 1356.8942048435258, 1061.2467995822801, 899.4974697053373, 694.1761011387289, 598.9297167481842, 685.4214744347365, 404.7622146145721, 395.0012641549823, 637.7898418581519, 222.87296013831693, 381.81695627130034, 568.3636373168329, 669.5375805619148, 530.1265814085142, 1644.167465838401, 682.5423857222133, 379.2359718410365, 707.586290185758, 549.9926661172339, 1126.8080905866123, 512.1199843311956, 507.325704049701, 731.0995156540378, 828.2511724611691, 629.675673614717, 683.6830641369523, 566.2217434321238, 531.1716595054519, 510.4619106919581, 533.186183006686], \"Total\": [11628.0, 5856.0, 5908.0, 5571.0, 2851.0, 2944.0, 3891.0, 2579.0, 4342.0, 2761.0, 4105.0, 1566.0, 1365.0, 1797.0, 1529.0, 2243.0, 1482.0, 2243.0, 1541.0, 1316.0, 1957.0, 1427.0, 1069.0, 6557.0, 1581.0, 972.0, 4184.0, 1451.0, 4121.0, 2935.0, 1427.6772535522582, 1144.855576121108, 597.6136055587166, 588.8964815376834, 512.3795675147478, 360.3150804758917, 761.3198099324728, 2579.39962498393, 295.4201052462804, 529.8156914148094, 277.9858561181333, 268.3001816246391, 1541.9918863777734, 191.78321700647498, 481.4064554880024, 568.5614373689771, 564.7060949842293, 181.12896233402722, 185.00361974249486, 168.53757033270128, 159.82043879275713, 153.0406212507533, 147.2292624056467, 136.57479168939676, 133.66908952714937, 143.35526069355407, 11628.713911246443, 128.82623643629205, 122.0462517882326, 125.92148952069905, 806.8574332714416, 1189.6437066602211, 5856.401274189346, 216.0027094915319, 182.09921043798005, 738.1060533996309, 481.44645371552826, 301.2857376525938, 2761.1865316713147, 5571.436843639695, 5908.355507190569, 434.9749267231169, 477.6377185128441, 1383.0477383122459, 622.5094093362459, 1300.2270591287308, 1216.0603018699728, 3891.7501270129496, 646.292812834971, 1217.6706232084423, 752.9509348040124, 1267.8984800822059, 1659.389014559847, 4121.374210306086, 4105.050407572489, 1626.1229472449488, 909.428436652504, 768.3960567466763, 3810.897310859254, 2883.432813376516, 1321.655642910113, 1686.6690648588278, 2083.208396424999, 2935.380971362401, 5117.002986008865, 6557.100263271459, 4342.2885830147015, 2436.7517602998373, 1482.241795069479, 850.3523916171742, 360.51544777504375, 331.1252074125053, 279.2025099998939, 409.4940531471649, 240.99523593486515, 239.03588059939474, 229.23915384980094, 227.27979755179305, 250.79086044237005, 205.7269360852175, 203.7676287916284, 203.76762486422064, 203.76762155077085, 189.07251819504322, 183.19446952774763, 183.19446884349853, 176.33675809425702, 171.43838793130396, 2944.8379784091917, 144.9871477747748, 142.0481644898706, 142.04803616308294, 453.56495437425593, 133.23110470722912, 129.31238894555327, 119.51567027614692, 122.45422303297055, 113.63762892818191, 195.9179733861624, 1797.894217237533, 241.9347577723303, 540.5775095293735, 206.72114977320885, 386.8560143713014, 1451.7085301249676, 1408.2219867457281, 1581.5011869306798, 323.37642009619447, 2243.0114118274764, 903.3759211418454, 1830.0417141622663, 389.5799419311434, 2243.59185673634, 319.11528101610054, 656.031027300105, 533.8473309478833, 2796.807907815596, 509.8991725231427, 428.7483779662409, 404.1651006627844, 798.6977547709722, 824.6420726574127, 670.6838760214277, 1303.4596489970097, 1023.1657406384821, 1686.6690648588278, 2083.208396424999, 2755.390365616202, 2481.97791763489, 1284.685322665026, 1857.2378793264681, 2903.4054536123276, 5117.002986008865, 6557.100263271459, 2319.3694853616103, 4580.010220107248, 1751.5499834888556, 3656.482169775094, 2361.8948220948587, 1245.3192075322834, 2596.171998611772, 1566.7928438038196, 650.8092032450884, 576.9865002087068, 526.4762373769468, 475.9659615506199, 384.65893648089354, 359.4037929032929, 592.5316194447896, 322.49244238193927, 356.48959007765075, 261.29730550251975, 258.3832465139853, 258.3832524316519, 280.7256280226514, 299.18082544302143, 221.4718943101392, 201.07352667522804, 179.7037929758112, 404.0847751121684, 171.9329772102729, 169.01891914549418, 167.07622002371727, 165.1335280734135, 181.6464171719398, 156.39135392648132, 151.5346073575343, 304.0399688466315, 139.87838154262604, 137.93567736026515, 136.96433551540142, 429.33853098493216, 311.8064686140573, 274.90541959350656, 1529.3135309394406, 1316.1535042827907, 194.27341124745118, 994.2079077387809, 668.2656481959148, 329.2848402298127, 815.8506991749368, 624.7924695769312, 281.66870942105055, 1122.7270674380723, 652.6636618228708, 1913.9543878691425, 727.0989896100539, 772.0502227512192, 558.892722099128, 1407.211763071355, 407.4247230567537, 4342.2885830147015, 4184.1754233642005, 1570.2295080795955, 4121.374210306086, 1625.834624042609, 1003.2711224396377, 1441.1877780910645, 5117.002986008865, 2883.432813376516, 2935.380971362401, 1417.501215357651, 1626.1229472449488, 530.0300572080547, 394.07180028342316, 389.14577713189635, 320.1814479164389, 302.44775490158105, 301.4625620946221, 224.6165827776156, 217.72012430644193, 186.19361563388074, 179.2971153611851, 291.6015634636822, 176.34147841819896, 167.47472358182858, 164.51910863844054, 172.40004650613375, 158.6078725711456, 189.1481542937765, 143.82980977481373, 140.8741950378465, 123.1405071239546, 117.22917163967603, 114.27367121468144, 111.31803878110746, 148.75243901044084, 104.42160326070565, 100.48079836511441, 88.65834330451898, 86.68793383430135, 86.6875059110775, 82.7470778735337, 194.0372081549683, 212.76563700762335, 128.06053556516494, 429.335372685857, 349.6653005584525, 484.55409600714546, 836.9814532121314, 304.3157375517807, 212.64488985197198, 178.20120284823417, 162.47089924638246, 479.29188437181864, 397.29062970538513, 952.1964069499694, 1477.6364211383807, 831.6482418622322, 925.7520249838184, 1084.4331914959942, 1047.2803284199263, 383.42041445327584, 690.6751991550459, 645.910373716021, 6557.100263271459, 2282.417615481402, 1080.133616471612, 504.34246880513643, 609.8897275981251, 1957.528657887649, 1362.6946436185985, 1456.700038848811, 4184.1754233642005, 2755.390365616202, 3656.482169775094, 5117.002986008865, 918.4689789670716, 1625.834624042609, 1575.4151078792586, 2596.171998611772, 4580.010220107248, 1448.0746429040464, 1461.5599035895125, 3810.897310859254, 1417.501215357651, 2851.9017648450326, 726.6300814671388, 509.1286671216755, 449.6327633977694, 514.9796392111316, 419.39713719150757, 419.3971380028901, 321.86288435714613, 291.62724942622725, 209.69847038140682, 207.74777977083883, 195.06832702851725, 186.29023938501825, 184.33955717428344, 151.17790105865404, 134.59707762222197, 133.62174012160008, 131.67105106421005, 130.69570813023236, 128.74501234317904, 120.94228900803617, 118.0162593757509, 115.09022367420839, 114.11488495222987, 124.84398740328652, 110.2135125380588, 122.89452969228012, 98.50940147488298, 161.90780087345965, 153.133511110383, 439.95111763787054, 445.6778357456338, 130.69384307901942, 146.30111867372491, 133.63081806961435, 348.6339225864496, 220.63908719947486, 270.51901120680185, 702.0290399101233, 201.81451859202474, 1957.528657887649, 394.8170785206368, 441.35542278362624, 305.0143900313822, 643.3020237034555, 2935.380971362401, 312.4713848060613, 4342.2885830147015, 729.4151650614515, 4580.010220107248, 1297.5106483532122, 733.2203054819944, 827.2316951708135, 1398.4930627521624, 6557.100263271459, 3810.897310859254, 3656.482169775094, 3891.7501270129496, 2243.59185673634, 2596.171998611772, 5117.002986008865, 2282.417615481402, 2755.390365616202, 2243.0114118274764, 1575.4151078792586, 5908.355507190569, 4105.050407572489, 1456.700038848811, 1353.803199889569, 972.6033281358343, 483.38958667615697, 493.0963857281881, 385.353628404231, 347.4982146213331, 283.43508924968853, 240.72637790499527, 233.93179533277313, 253.34561500752437, 460.1012440181732, 223.25461188372532, 218.40139440416795, 240.72643060166018, 211.60677595920336, 211.60679212386822, 335.85269360083186, 244.60967154703027, 191.22307206652718, 182.48719979665668, 557.174890583808, 173.75132403637258, 170.83936297942546, 177.63433681065823, 164.04479567842756, 162.1035241208095, 161.13284547323042, 155.30892825654718, 151.4263328755481, 147.54370737036032, 141.71979134264598, 1365.7872841474684, 1069.6882161863648, 907.6322062735852, 716.5446852812478, 624.3608775622446, 727.5348094674079, 423.2218608622392, 415.45798680033573, 708.2516717100407, 230.09675577529336, 422.2739489562608, 726.0877892843255, 1045.7065052391238, 782.1329437747725, 4105.050407572489, 1284.685322665026, 538.3881557738384, 1786.874776472027, 1139.3727558070618, 4580.010220107248, 1065.5366754411077, 1142.6167489219254, 4184.1754233642005, 6557.100263271459, 2796.807907815596, 3810.897310859254, 2361.8948220948587, 2903.4054536123276, 2436.7517602998373, 5117.002986008865], \"Category\": [\"Default\", \"Default\", \"Default\", \"Default\", \"Default\", \"Default\", \"Default\", \"Default\", \"Default\", \"Default\", \"Default\", \"Default\", \"Default\", \"Default\", \"Default\", \"Default\", \"Default\", \"Default\", \"Default\", \"Default\", \"Default\", \"Default\", \"Default\", \"Default\", \"Default\", \"Default\", \"Default\", \"Default\", \"Default\", \"Default\", \"Topic1\", \"Topic1\", \"Topic1\", \"Topic1\", \"Topic1\", \"Topic1\", \"Topic1\", \"Topic1\", \"Topic1\", \"Topic1\", \"Topic1\", \"Topic1\", \"Topic1\", \"Topic1\", \"Topic1\", \"Topic1\", \"Topic1\", \"Topic1\", \"Topic1\", \"Topic1\", \"Topic1\", \"Topic1\", \"Topic1\", \"Topic1\", \"Topic1\", \"Topic1\", \"Topic1\", \"Topic1\", \"Topic1\", \"Topic1\", \"Topic1\", \"Topic1\", \"Topic1\", \"Topic1\", \"Topic1\", \"Topic1\", \"Topic1\", \"Topic1\", \"Topic1\", \"Topic1\", \"Topic1\", \"Topic1\", \"Topic1\", \"Topic1\", \"Topic1\", \"Topic1\", \"Topic1\", \"Topic1\", \"Topic1\", \"Topic1\", \"Topic1\", \"Topic1\", \"Topic1\", \"Topic1\", \"Topic1\", \"Topic1\", \"Topic1\", \"Topic1\", \"Topic1\", \"Topic1\", \"Topic1\", \"Topic1\", \"Topic1\", \"Topic1\", \"Topic1\", \"Topic1\", \"Topic1\", \"Topic1\", \"Topic2\", \"Topic2\", \"Topic2\", \"Topic2\", \"Topic2\", \"Topic2\", \"Topic2\", \"Topic2\", \"Topic2\", \"Topic2\", \"Topic2\", \"Topic2\", \"Topic2\", \"Topic2\", \"Topic2\", \"Topic2\", \"Topic2\", \"Topic2\", \"Topic2\", \"Topic2\", \"Topic2\", \"Topic2\", \"Topic2\", \"Topic2\", \"Topic2\", \"Topic2\", \"Topic2\", \"Topic2\", \"Topic2\", \"Topic2\", \"Topic2\", \"Topic2\", \"Topic2\", \"Topic2\", \"Topic2\", \"Topic2\", \"Topic2\", \"Topic2\", \"Topic2\", \"Topic2\", \"Topic2\", \"Topic2\", \"Topic2\", \"Topic2\", \"Topic2\", \"Topic2\", \"Topic2\", \"Topic2\", \"Topic2\", \"Topic2\", \"Topic2\", \"Topic2\", \"Topic2\", \"Topic2\", \"Topic2\", \"Topic2\", \"Topic2\", \"Topic2\", \"Topic2\", \"Topic2\", \"Topic2\", \"Topic2\", \"Topic2\", \"Topic2\", \"Topic2\", \"Topic2\", \"Topic2\", \"Topic2\", \"Topic2\", \"Topic2\", \"Topic2\", \"Topic2\", \"Topic2\", \"Topic3\", \"Topic3\", \"Topic3\", \"Topic3\", \"Topic3\", \"Topic3\", \"Topic3\", \"Topic3\", \"Topic3\", \"Topic3\", \"Topic3\", \"Topic3\", \"Topic3\", \"Topic3\", \"Topic3\", \"Topic3\", \"Topic3\", \"Topic3\", \"Topic3\", \"Topic3\", \"Topic3\", \"Topic3\", \"Topic3\", \"Topic3\", \"Topic3\", \"Topic3\", \"Topic3\", \"Topic3\", \"Topic3\", \"Topic3\", \"Topic3\", \"Topic3\", \"Topic3\", \"Topic3\", \"Topic3\", \"Topic3\", \"Topic3\", \"Topic3\", \"Topic3\", \"Topic3\", \"Topic3\", \"Topic3\", \"Topic3\", \"Topic3\", \"Topic3\", \"Topic3\", \"Topic3\", \"Topic3\", \"Topic3\", \"Topic3\", \"Topic3\", \"Topic3\", \"Topic3\", \"Topic3\", \"Topic3\", \"Topic3\", \"Topic3\", \"Topic3\", \"Topic3\", \"Topic3\", \"Topic3\", \"Topic3\", \"Topic4\", \"Topic4\", \"Topic4\", \"Topic4\", \"Topic4\", \"Topic4\", \"Topic4\", \"Topic4\", \"Topic4\", \"Topic4\", \"Topic4\", \"Topic4\", \"Topic4\", \"Topic4\", \"Topic4\", \"Topic4\", \"Topic4\", \"Topic4\", \"Topic4\", \"Topic4\", \"Topic4\", \"Topic4\", \"Topic4\", \"Topic4\", \"Topic4\", \"Topic4\", \"Topic4\", \"Topic4\", \"Topic4\", \"Topic4\", \"Topic4\", \"Topic4\", \"Topic4\", \"Topic4\", \"Topic4\", \"Topic4\", \"Topic4\", \"Topic4\", \"Topic4\", \"Topic4\", \"Topic4\", \"Topic4\", \"Topic4\", \"Topic4\", \"Topic4\", \"Topic4\", \"Topic4\", \"Topic4\", \"Topic4\", \"Topic4\", \"Topic4\", \"Topic4\", \"Topic4\", \"Topic4\", \"Topic4\", \"Topic4\", \"Topic4\", \"Topic4\", \"Topic4\", \"Topic4\", \"Topic4\", \"Topic4\", \"Topic4\", \"Topic4\", \"Topic4\", \"Topic4\", \"Topic4\", \"Topic4\", \"Topic4\", \"Topic4\", \"Topic4\", \"Topic4\", \"Topic4\", \"Topic5\", \"Topic5\", \"Topic5\", \"Topic5\", \"Topic5\", \"Topic5\", \"Topic5\", \"Topic5\", \"Topic5\", \"Topic5\", \"Topic5\", \"Topic5\", \"Topic5\", \"Topic5\", \"Topic5\", \"Topic5\", \"Topic5\", \"Topic5\", \"Topic5\", \"Topic5\", \"Topic5\", \"Topic5\", \"Topic5\", \"Topic5\", \"Topic5\", \"Topic5\", \"Topic5\", \"Topic5\", \"Topic5\", \"Topic5\", \"Topic5\", \"Topic5\", \"Topic5\", \"Topic5\", \"Topic5\", \"Topic5\", \"Topic5\", \"Topic5\", \"Topic5\", \"Topic5\", \"Topic5\", \"Topic5\", \"Topic5\", \"Topic5\", \"Topic5\", \"Topic5\", \"Topic5\", \"Topic5\", \"Topic5\", \"Topic5\", \"Topic5\", \"Topic5\", \"Topic5\", \"Topic5\", \"Topic5\", \"Topic5\", \"Topic5\", \"Topic5\", \"Topic5\", \"Topic5\", \"Topic5\", \"Topic5\", \"Topic5\", \"Topic5\", \"Topic5\", \"Topic5\", \"Topic5\", \"Topic5\", \"Topic5\", \"Topic6\", \"Topic6\", \"Topic6\", \"Topic6\", \"Topic6\", \"Topic6\", \"Topic6\", \"Topic6\", \"Topic6\", \"Topic6\", \"Topic6\", \"Topic6\", \"Topic6\", \"Topic6\", \"Topic6\", \"Topic6\", \"Topic6\", \"Topic6\", \"Topic6\", \"Topic6\", \"Topic6\", \"Topic6\", \"Topic6\", \"Topic6\", \"Topic6\", \"Topic6\", \"Topic6\", \"Topic6\", \"Topic6\", \"Topic6\", \"Topic6\", \"Topic6\", \"Topic6\", \"Topic6\", \"Topic6\", \"Topic6\", \"Topic6\", \"Topic6\", \"Topic6\", \"Topic6\", \"Topic6\", \"Topic6\", \"Topic6\", \"Topic6\", \"Topic6\", \"Topic6\", \"Topic6\", \"Topic6\", \"Topic6\", \"Topic6\", \"Topic6\", \"Topic6\", \"Topic6\", \"Topic6\", \"Topic6\", \"Topic6\", \"Topic6\", \"Topic6\", \"Topic6\", \"Topic6\"], \"logprob\": [30.0, 29.0, 28.0, 27.0, 26.0, 25.0, 24.0, 23.0, 22.0, 21.0, 20.0, 19.0, 18.0, 17.0, 16.0, 15.0, 14.0, 13.0, 12.0, 11.0, 10.0, 9.0, 8.0, 7.0, 6.0, 5.0, 4.0, 3.0, 2.0, 1.0, -5.165, -5.3861, -6.0367, -6.0514, -6.1908, -6.5438, -5.7957, -4.5755, -6.7426, -6.1586, -6.8036, -6.8392, -5.0912, -7.1762, -6.2559, -6.0896, -6.0965, -7.2336, -7.2124, -7.306, -7.3593, -7.4031, -7.442, -7.5174, -7.539, -7.4691, -3.0734, -7.5762, -7.6306, -7.5998, -5.7425, -5.3597, -3.7924, -7.0619, -7.2315, -5.8489, -6.2717, -6.739, -4.568, -3.9, -3.8488, -6.3825, -6.3001, -5.3073, -6.063, -5.376, -5.4401, -4.4065, -6.0715, -5.5527, -5.949, -5.5376, -5.3286, -4.6322, -4.8415, -5.4785, -5.8439, -5.9503, -5.3831, -5.4869, -5.7918, -5.734, -5.6753, -5.6066, -5.5027, -5.543, -5.6714, -5.7476, -5.0193, -5.5753, -6.4347, -6.52, -6.691, -6.3082, -6.8386, -6.8468, -6.8888, -6.8974, -6.799, -6.9974, -7.007, -7.007, -7.007, -7.0822, -7.1139, -7.1139, -7.1522, -7.1805, -4.3372, -7.349, -7.3696, -7.3698, -6.2089, -7.4341, -7.4641, -7.5434, -7.5193, -7.5942, -7.0538, -4.8648, -6.8501, -6.0632, -7.0052, -6.3975, -5.1188, -5.1904, -5.1113, -6.5939, -4.8811, -5.6938, -5.0993, -6.4533, -4.9382, -6.6291, -6.0292, -6.233, -5.0531, -6.3323, -6.4609, -6.5038, -6.0574, -6.0604, -6.2064, -5.8163, -6.0289, -5.8081, -5.7209, -5.6228, -5.6978, -5.982, -5.841, -5.6824, -5.5032, -5.508, -5.8329, -5.7302, -5.9616, -5.9527, -6.0191, -6.0496, -6.0462, -4.7693, -5.6484, -5.769, -5.8607, -5.9617, -6.1751, -6.2432, -5.7433, -6.3518, -6.2519, -6.5628, -6.5741, -6.5741, -6.4916, -6.428, -6.7288, -6.8258, -6.9386, -6.1284, -6.983, -7.0002, -7.0118, -7.0236, -6.9284, -7.0782, -7.1099, -6.414, -7.1904, -7.2045, -7.2116, -6.0734, -6.3906, -6.5161, -4.8264, -4.9772, -6.8654, -5.3017, -5.6817, -6.3612, -5.5268, -5.7849, -6.5238, -5.3108, -5.8085, -4.9666, -5.768, -5.7325, -5.9803, -5.2908, -6.2319, -4.6045, -4.7041, -5.4273, -5.2619, -5.682, -5.9322, -5.8274, -5.4719, -5.6745, -5.7667, -5.9004, -5.9108, -5.8281, -6.125, -6.1376, -6.3332, -6.3903, -6.3936, -6.6887, -6.72, -6.8771, -6.915, -6.4287, -6.9317, -6.9835, -7.0014, -6.9547, -7.0382, -6.8623, -7.1365, -7.1574, -7.2928, -7.3424, -7.368, -7.3944, -7.105, -7.4589, -7.4977, -7.6239, -7.6466, -7.6469, -7.6936, -6.8472, -6.7565, -7.2598, -6.0676, -6.2819, -5.977, -5.4769, -6.4442, -6.7887, -6.9582, -7.0428, -6.0807, -6.2561, -5.5083, -5.1347, -5.6394, -5.5521, -5.4336, -5.4842, -6.308, -5.8352, -5.8891, -4.2522, -5.0345, -5.6094, -6.1774, -6.0482, -5.325, -5.5641, -5.564, -5.0153, -5.311, -5.1841, -5.0838, -5.9623, -5.7742, -5.7877, -5.6192, -5.4586, -5.8706, -5.8784, -5.709, -5.9114, -4.0954, -5.4635, -5.8197, -5.9442, -5.8086, -6.014, -6.014, -6.2792, -6.3781, -6.709, -6.7184, -6.7817, -6.8279, -6.8385, -7.0378, -7.1546, -7.1619, -7.1767, -7.1842, -7.1993, -7.2623, -7.2869, -7.3122, -7.3208, -7.231, -7.3558, -7.2474, -7.469, -6.9724, -7.0281, -5.9825, -5.9783, -7.1874, -7.0769, -7.1774, -6.3536, -6.7593, -6.5921, -5.8078, -6.8473, -5.0989, -6.3405, -6.2604, -6.5405, -5.988, -4.8652, -6.5269, -4.6515, -5.9875, -4.8595, -5.6646, -6.0561, -5.995, -5.707, -4.97, -5.293, -5.3204, -5.3178, -5.6133, -5.5912, -5.4132, -5.7189, -5.6962, -5.7704, -5.9043, -5.7654, -5.8833, -5.9501, -5.9779, -5.0899, -5.7893, -5.7695, -6.0164, -6.1201, -6.3244, -6.4882, -6.5169, -6.4373, -5.8406, -6.5638, -6.5859, -6.4886, -6.6176, -6.6176, -6.1557, -6.4727, -6.7193, -6.7663, -5.6501, -6.8155, -6.8325, -6.7936, -6.8733, -6.8853, -6.8913, -6.9283, -6.9538, -6.9799, -7.0204, -4.7555, -5.0013, -5.1666, -5.4257, -5.5733, -5.4384, -5.9652, -5.9896, -5.5105, -6.5619, -6.0235, -5.6257, -5.4619, -5.6954, -4.5635, -5.4427, -6.0303, -5.4066, -5.6586, -4.9413, -5.7299, -5.7393, -5.3739, -5.2492, -5.5233, -5.441, -5.6295, -5.6934, -5.7332, -5.6896], \"loglift\": [30.0, 29.0, 28.0, 27.0, 26.0, 25.0, 24.0, 23.0, 22.0, 21.0, 20.0, 19.0, 18.0, 17.0, 16.0, 15.0, 14.0, 13.0, 12.0, 11.0, 10.0, 9.0, 8.0, 7.0, 6.0, 5.0, 4.0, 3.0, 2.0, 1.0, 1.5412, 1.5409, 1.5404, 1.5404, 1.5402, 1.5393, 1.5393, 1.5392, 1.539, 1.539, 1.5388, 1.5387, 1.538, 1.5375, 1.5375, 1.5373, 1.5373, 1.5373, 1.5372, 1.5369, 1.5367, 1.5363, 1.5361, 1.5358, 1.5357, 1.5356, 1.5355, 1.5354, 1.5351, 1.5346, 1.5344, 1.5289, 1.5023, 1.5329, 1.534, 1.5171, 1.5216, 1.523, 1.4787, 1.4447, 1.4371, 1.5123, 1.5011, 1.4307, 1.4733, 1.4238, 1.4266, 1.2969, 1.4273, 1.3127, 1.397, 1.2874, 1.2273, 1.0139, 0.8085, 1.0976, 1.3133, 1.3754, 0.3414, 0.5164, 0.9916, 0.8056, 0.653, 0.3789, -0.0729, -0.3613, -0.0775, 0.424, 1.6495, 1.6491, 1.6478, 1.6476, 1.6471, 1.6469, 1.6467, 1.6466, 1.6465, 1.6465, 1.6464, 1.6461, 1.646, 1.646, 1.646, 1.6457, 1.6456, 1.6456, 1.6454, 1.6453, 1.645, 1.6444, 1.6443, 1.6441, 1.644, 1.6439, 1.6437, 1.6432, 1.643, 1.6429, 1.6385, 1.6109, 1.6313, 1.6142, 1.6335, 1.6145, 1.5707, 1.5296, 1.4926, 1.5974, 1.3734, 1.4701, 1.3587, 1.5517, 1.316, 1.5754, 1.4547, 1.457, 0.9807, 1.4036, 1.4483, 1.4645, 1.2296, 1.1947, 1.2553, 0.9809, 1.0105, 0.7314, 0.6075, 0.426, 0.4554, 0.8298, 0.6022, 0.3141, -0.0735, -0.3262, 0.3881, -0.1896, 0.5402, -0.1869, 0.1838, 0.7933, 0.062, 1.844, 1.8434, 1.8433, 1.8431, 1.843, 1.8426, 1.8424, 1.8424, 1.8422, 1.8418, 1.8416, 1.8415, 1.8415, 1.8411, 1.841, 1.841, 1.8406, 1.8401, 1.84, 1.8399, 1.8398, 1.8398, 1.8397, 1.8396, 1.8395, 1.8393, 1.8389, 1.8389, 1.8387, 1.8387, 1.8345, 1.8371, 1.8375, 1.8111, 1.8103, 1.8354, 1.7664, 1.7837, 1.8119, 1.739, 1.7478, 1.8055, 1.6357, 1.6805, 1.4466, 1.613, 1.5885, 1.6637, 1.4299, 1.7283, 0.9894, 0.9269, 1.1838, 0.3842, 0.8943, 1.1269, 0.8695, -0.0422, 0.3288, 0.2187, 0.813, 0.6653, 1.869, 1.8685, 1.8685, 1.868, 1.8679, 1.8678, 1.8669, 1.8668, 1.8662, 1.866, 1.866, 1.8659, 1.8657, 1.8656, 1.8656, 1.8654, 1.8652, 1.8649, 1.8648, 1.8639, 1.8635, 1.8634, 1.8632, 1.8628, 1.8627, 1.8624, 1.8613, 1.8611, 1.8608, 1.8607, 1.8548, 1.8533, 1.8577, 1.8402, 1.8312, 1.8098, 1.7633, 1.8078, 1.8217, 1.8289, 1.8367, 1.7171, 1.7293, 1.603, 1.5371, 1.6072, 1.5873, 1.5476, 1.5319, 1.7129, 1.5972, 1.6103, 0.9295, 1.2026, 1.3758, 1.5694, 1.5085, 1.0656, 1.1887, 1.1221, 0.6157, 0.7377, 0.5817, 0.3459, 1.1851, 0.8021, 0.8201, 0.489, 0.082, 0.8214, 0.8043, 0.0154, 0.802, 1.9189, 1.9181, 1.9176, 1.9174, 1.9173, 1.9173, 1.9173, 1.9167, 1.9164, 1.9153, 1.9153, 1.915, 1.9148, 1.9148, 1.9138, 1.9132, 1.9131, 1.913, 1.913, 1.9129, 1.9125, 1.9123, 1.9121, 1.9121, 1.9119, 1.9118, 1.9113, 1.9109, 1.9106, 1.9106, 1.9009, 1.8922, 1.9098, 1.9075, 1.8975, 1.7625, 1.8142, 1.7777, 1.6082, 1.8154, 1.2918, 1.6511, 1.6198, 1.7092, 1.5155, 1.1203, 1.6987, 0.9424, 1.3903, 0.6811, 1.1372, 1.3165, 1.257, 1.0199, 0.2118, 0.4315, 0.4454, 0.3857, 0.6409, 0.5171, 0.0165, 0.5182, 0.3525, 0.4841, 0.7035, -0.4795, -0.2333, 0.736, 0.7814, 2.0002, 1.9999, 1.9999, 1.9995, 1.9992, 1.9987, 1.9982, 1.9981, 1.998, 1.998, 1.9979, 1.9978, 1.9978, 1.9977, 1.9977, 1.9977, 1.9976, 1.9973, 1.9971, 1.9971, 1.9969, 1.9968, 1.9967, 1.9966, 1.9965, 1.9965, 1.9963, 1.9962, 1.996, 1.9958, 1.995, 1.9937, 1.9926, 1.9699, 1.96, 1.942, 1.957, 1.9511, 1.8968, 1.9697, 1.9009, 1.7567, 1.5557, 1.6127, 1.0866, 1.3691, 1.6512, 1.0752, 1.2733, 0.5993, 1.2689, 1.1897, 0.2571, -0.0674, 0.5106, 0.2835, 0.5733, 0.303, 0.4385, -0.2599]}, \"token.table\": {\"Topic\": [5, 2, 2, 5, 3, 6, 5, 5, 1, 2, 3, 4, 5, 6, 4, 1, 2, 4, 5, 6, 4, 1, 3, 4, 5, 6, 3, 3, 5, 6, 1, 2, 3, 4, 5, 1, 3, 4, 5, 6, 4, 1, 2, 3, 4, 5, 6, 6, 1, 3, 1, 5, 6, 1, 2, 3, 5, 5, 1, 3, 4, 5, 6, 2, 3, 5, 6, 1, 2, 3, 4, 5, 6, 2, 3, 4, 5, 6, 1, 5, 1, 2, 3, 4, 5, 6, 2, 2, 4, 6, 4, 5, 6, 3, 5, 1, 3, 4, 6, 4, 2, 1, 4, 6, 2, 6, 6, 6, 5, 1, 4, 1, 2, 4, 1, 2, 3, 4, 5, 6, 5, 5, 1, 4, 5, 2, 4, 5, 1, 2, 5, 5, 1, 2, 3, 4, 5, 6, 1, 2, 3, 4, 5, 6, 2, 6, 4, 5, 2, 4, 3, 6, 1, 4, 2, 4, 6, 1, 2, 3, 4, 5, 6, 6, 3, 3, 6, 3, 1, 2, 3, 4, 5, 6, 1, 2, 4, 5, 6, 1, 2, 4, 5, 1, 2, 3, 4, 5, 6, 1, 2, 3, 4, 5, 6, 1, 2, 3, 4, 5, 6, 5, 2, 4, 2, 4, 1, 2, 3, 4, 5, 6, 3, 2, 6, 1, 2, 4, 5, 6, 5, 3, 6, 1, 4, 6, 1, 2, 3, 4, 5, 6, 1, 3, 4, 5, 3, 5, 3, 1, 2, 4, 5, 1, 4, 1, 2, 3, 4, 5, 6, 4, 4, 2, 6, 4, 1, 4, 5, 6, 1, 1, 1, 2, 3, 4, 5, 6, 3, 1, 1, 1, 2, 3, 4, 5, 6, 2, 3, 4, 6, 1, 2, 3, 6, 2, 1, 2, 4, 5, 6, 2, 3, 1, 4, 5, 6, 5, 1, 2, 3, 4, 5, 6, 1, 3, 4, 5, 6, 1, 2, 3, 4, 5, 6, 1, 2, 5, 6, 1, 2, 3, 4, 5, 6, 5, 1, 2, 3, 3, 4, 4, 1, 6, 1, 2, 3, 4, 5, 6, 2, 4, 4, 2, 2, 2, 4, 5, 4, 2, 1, 5, 5, 2, 5, 2, 3, 5, 6, 2, 6, 6, 4, 5, 4, 5, 6, 3, 1, 4, 6, 3, 2, 2, 6, 2, 2, 1, 3, 4, 4, 5, 1, 2, 3, 4, 5, 6, 1, 4, 1, 2, 3, 4, 1, 2, 3, 4, 5, 6, 2, 3, 4, 5, 2, 2, 4, 1, 3, 4, 5, 6, 1, 3, 4, 5, 1, 3, 1, 1, 2, 3, 4, 5, 6, 2, 4, 1, 2, 3, 4, 5, 6, 1, 2, 1, 2, 3, 4, 5, 6, 2, 2, 6, 1, 2, 3, 4, 5, 6, 4, 5, 2, 3, 6, 5, 6, 6, 1, 2, 4, 5, 6, 1, 4, 1, 2, 4, 5, 1, 2, 3, 4, 1, 4, 6, 3, 3, 1, 3, 6, 1, 2, 3, 4, 5, 6, 3, 5, 5, 6, 2, 2, 4, 1, 1, 2, 3, 4, 5, 6, 1, 1, 2, 4, 4, 1, 1, 2, 3, 4, 5, 6, 1, 3, 4, 6, 4, 6, 3, 1, 3, 5, 1, 3, 5, 6, 1, 2, 1, 3, 4, 5, 6, 5, 1, 2, 1, 4, 5, 5, 1, 4, 2, 1, 2, 4, 5, 6, 2, 4, 5, 1, 4, 2, 4, 1, 2, 3, 4, 5, 2, 5, 5, 1, 6, 1, 4, 6, 1, 2, 3, 4, 5, 6, 1, 2, 3, 4, 5, 6, 3, 6, 3, 6, 1, 4, 5, 6, 1, 5, 4, 1, 2, 3, 5, 6, 1, 2, 3, 4, 5, 3, 1, 2, 3, 4, 5, 6, 1, 3, 5, 4, 1, 2, 3, 4, 5, 6, 1, 2, 1, 4, 5, 2, 1, 3, 4, 5, 1, 3, 4, 5, 1, 3, 4, 5, 6, 3, 1, 2, 3, 4, 5, 6, 1, 5, 5, 1, 4, 3, 1, 2, 3, 4, 5, 6, 1, 1, 6, 1, 2, 6, 2, 4, 5, 6, 2, 3, 4, 6, 1, 4, 5, 1, 2, 4, 1, 2, 4, 5, 6, 1, 2, 3, 4, 5, 6, 2, 3, 2, 1, 2, 3, 4, 5, 6, 1, 2, 3, 4, 5, 6, 4, 1, 2, 3, 4, 5, 6, 2, 3, 4, 5, 6, 1, 2, 4, 5, 4, 6, 3, 4, 5, 6, 2, 1, 4, 5, 3, 5, 6, 4, 3, 6, 2, 5, 1, 3, 5, 5, 6, 1, 4, 3, 6, 2, 6, 1, 2, 4, 5, 5, 6, 2, 3, 4, 5, 6, 2, 3, 6, 3, 1, 3, 6, 3, 1, 3, 4, 6, 1, 2, 3, 4, 3, 1, 3, 6, 1, 3, 6, 2, 3, 4, 6, 1, 3, 4, 5, 1, 3, 4, 1, 2, 5, 1, 2, 4, 5, 1, 4, 5, 6, 3, 6, 1, 1, 2, 3, 4, 5, 6, 1, 2, 3, 5, 6, 1, 3, 4, 5, 1, 3, 4, 5, 6, 3, 3, 2, 3, 6, 5, 1, 1, 3, 5, 6, 2, 1, 3, 4, 5, 6, 1, 1, 1, 3, 5, 1, 2, 3, 3, 5, 3, 5, 6, 1, 2, 3, 4, 5, 6, 1, 2, 3, 4, 5, 6, 1, 4, 5, 6, 3, 1, 2, 4, 5, 6, 2, 6, 6, 1, 1, 2, 6, 1, 2, 5, 1, 2, 3, 4, 5, 6, 1, 2, 3, 4, 5, 6], \"Freq\": [0.9948289049851464, 0.9991622182874551, 0.014966607470427289, 0.9803127893129874, 0.048139645007262234, 0.9507579888934291, 0.9973190933186672, 0.9953470137341852, 0.289416806633197, 0.2620487870934148, 0.048578234683113446, 0.34415284571276145, 0.04720983370612433, 0.008210405861934666, 0.9927655536533752, 0.4790507022595026, 0.3990112903720857, 0.11916979103237627, 0.0005928845324993844, 0.0017786535974981532, 0.9909715497787669, 0.6414029159154896, 0.3074798254628426, 0.004919677207405481, 0.014144071971290757, 0.032592861499061314, 0.9984730110935249, 0.9935585086641026, 0.9978491398610337, 0.9975075738290542, 0.06680438255485963, 0.8313434273493642, 0.007422709172762181, 0.01731965473644509, 0.07917556450946325, 0.8472193399277435, 0.052056487860383624, 0.002602824393019181, 0.0013014121965095906, 0.0963045025417097, 0.994941669424405, 0.0014910154183698475, 0.6739389691031711, 0.09840701761240993, 0.13717341849002596, 0.06858670924501298, 0.020874215857177865, 0.9977765285653656, 0.9965729753870429, 0.0018874488170209146, 0.0018697036853695256, 0.005609111056108577, 0.9918778050885333, 0.001363846571792135, 0.02454923829225843, 0.4268839769709383, 0.5469024752886461, 0.9955639629569238, 0.10819161678439075, 0.01967120305170741, 0.016392669209756176, 0.809797858961955, 0.04262093994536605, 0.44057481627162726, 0.0038920036773111948, 0.024130422799329407, 0.5316477023207092, 0.01644732191705207, 0.5120122822873601, 0.0818790591088027, 0.1544618058297064, 0.010368963817271957, 0.22525680016832184, 0.634214548761295, 0.2207018123796476, 0.037592066943786126, 0.0012126473207672945, 0.10550031690675461, 0.7752986658176811, 0.22399269694020493, 0.052906983728451, 0.0072145886902433174, 0.11904071338901474, 0.7683536955109134, 0.0072145886902433174, 0.04569239503820768, 0.9931914808317476, 0.057785085774173496, 0.9410713968936827, 0.9936039513783061, 0.8528497379730643, 0.015648619045377326, 0.1304051587114777, 0.9932904583092478, 0.0032890412526796284, 0.20624850304014383, 0.08020775118227816, 0.7123212188330894, 0.0009548541807414066, 0.9939298678432079, 0.9956853333545682, 0.9952079586031299, 0.003541665333107224, 0.001770832666553612, 0.03070290025438522, 0.9685369443883337, 0.9969825579094538, 0.9981621252681879, 0.9981579798742686, 0.0034293368942260346, 0.99450769932555, 0.037822024982360807, 0.9616806058014976, 0.9985195628192818, 0.4113846706218641, 0.3523411297974892, 0.0748844908016462, 0.06288377112189522, 0.09792587258676812, 0.0004800287871900398, 0.9996838022767304, 0.9980977127316485, 0.07928071831315849, 0.014865134683717217, 0.9018181708121779, 0.9949613600075862, 0.0003395772559752854, 0.004754081583653995, 0.06160481435731077, 0.9061041445054459, 0.030802407178655386, 0.9977831397158279, 0.0825325669232128, 0.15895161037063205, 0.055458391530412834, 0.16724853508778043, 0.2899556848519222, 0.24606931990069, 0.1491512956539813, 0.13862835148207464, 0.014488111541030904, 0.39026397298419035, 0.1813301539187973, 0.1262753300628799, 0.04004094570692839, 0.9593810591380042, 0.0065302492756087295, 0.9925978898925268, 0.9819991820996967, 0.014512303183739361, 0.9987566198494835, 0.9969823396631413, 0.9935864272748459, 0.9920691464836614, 0.9964665002111519, 0.9968446909131913, 0.9991940524022542, 0.8890754825350459, 0.013843735887223898, 0.0007690964381791055, 0.023072893145373162, 0.07229506518883591, 0.0007690964381791055, 0.9990823275605438, 0.9978692812846114, 0.9948407481781769, 0.0024747282292989477, 0.9939715674988012, 0.16427488488071934, 0.23074693881441247, 0.0978028309470262, 0.1524199962810798, 0.1147383860893684, 0.23963810526414214, 0.4803838696748518, 0.00024360236798927576, 0.002436023679892758, 0.11619832953088453, 0.4004822929743694, 0.005619330248717788, 0.012771205110722245, 0.4469921788752786, 0.5338363736281898, 0.21737683803861255, 0.0221667170368322, 0.016446273930552924, 0.10940347440759118, 0.4068665159341136, 0.2281026688628862, 0.14315910647434585, 0.14524902043747498, 0.6713848606552351, 0.02769136001146106, 0.003657349435475989, 0.00888213434329883, 0.21733925679755434, 0.18342816708446075, 0.019267664609712264, 0.10866962839877717, 0.4577997111267634, 0.013102011934604339, 0.9966691679718196, 0.007808806948891289, 0.9839096755603024, 0.2374488040118327, 0.7601257445500741, 0.0398695817165879, 0.2382207507566127, 0.4874056364852871, 0.09568699611981096, 0.1196087451497637, 0.01893805131537925, 0.9937203910072525, 0.09883492379338585, 0.9008097340025738, 0.39740393989073025, 0.5124823008629494, 0.08439079804629407, 0.0007671890731481279, 0.004603134438888767, 0.9889894395876391, 0.9898948483030878, 0.009316657395793768, 0.025620996311544672, 0.9689394968729622, 0.0023291814828676977, 0.20952870512378105, 0.3294225145951544, 0.2072450135148025, 0.10676258271974676, 0.08335474372771672, 0.0633724421491545, 0.008605014617463394, 0.002868338205821131, 0.13194355746777203, 0.854764785334697, 0.9964720444599633, 0.991388818954893, 0.9982869591256038, 0.0017833168297351776, 0.7583554818448842, 0.0017833168297351776, 0.2380727967696462, 0.030774741958051476, 0.9663268974828163, 0.0005596363064536519, 0.28821269782363074, 0.2244141588879144, 0.05036726758082867, 0.04085345037111659, 0.39622250496918554, 0.9959624900639281, 0.9971429717538157, 0.007712375069566459, 0.9904893125057495, 0.9972801903545184, 0.7949604610230435, 0.1921701940902812, 0.011497362039589473, 0.0008212401456849623, 0.9932003592101977, 0.9937670799883165, 0.19894457806326485, 0.1784247541962287, 0.15145584282812402, 0.21770555988455503, 0.14911072010046275, 0.10416253448695498, 0.9985167288202889, 0.9959161337540368, 0.9914274156485527, 0.04906800343195591, 0.03795826680585268, 0.020367850481189245, 0.6101097030501688, 0.276817604267072, 0.006480679698560214, 0.013745046793459276, 0.004123514038037783, 0.03848613102168597, 0.9415357053519604, 0.0010058258360410677, 0.062361201834546194, 0.9243539433217411, 0.011064084196451744, 0.9985702477432662, 0.07351546358764227, 0.46122201560342235, 0.020129234077568718, 0.0008751840903290747, 0.4437183337968409, 0.9902103244893107, 0.010208353860714543, 0.03200293046419789, 0.1472134801353103, 0.8032735546513671, 0.019201758278518735, 0.9932396631921074, 0.14686246918934934, 0.15944286692251522, 0.07903771619315077, 0.2756748025006781, 0.2289085413621702, 0.10994173671157996, 0.11147057382864592, 0.02786764345716148, 0.771004802314801, 0.001548202414286749, 0.08669933520005794, 0.098911007985309, 0.6573199897757876, 0.008764266530343835, 0.01752853306068767, 0.20783832057672524, 0.010016304606107241, 0.1447991325535676, 0.8542516510037984, 0.000632310622504662, 0.000632310622504662, 0.06351187192340489, 0.2939692357597598, 0.022501348910006304, 0.3222773843884774, 0.2086818648911875, 0.08891662069276685, 0.9946768861794671, 0.7303893115873634, 0.26937625600623055, 0.9982902542635747, 0.9945735994024469, 0.9942306134165587, 0.9972549543315505, 0.9951540039340783, 0.9964289741384045, 0.0736061616684315, 0.09770341697654895, 0.05038517018970013, 0.5126143401908622, 0.24623013605749106, 0.01883967233180092, 0.9980902558383373, 0.9976795452539537, 0.9971654016100129, 0.9934797767037445, 0.9943690659461213, 0.9926219595047431, 0.7529014046846758, 0.2462862557648581, 0.9925743784512447, 0.9962328580717148, 0.9803790148569463, 0.018693667656170587, 0.9927211593996904, 0.00617635465743592, 0.994393099847183, 0.9962328226707031, 0.34904631287201826, 0.009562912681425157, 0.6407151496554856, 0.0010281683920583288, 0.9983515086886373, 0.9946886193096951, 0.9937944984344957, 0.9930740365717624, 0.9980566060470598, 0.9905272260370739, 0.9943803540131179, 0.996441343671932, 0.9868500908527151, 0.01176822936280921, 0.0008405878116292293, 0.9985167516889895, 0.9956930544790076, 0.0021734346798690718, 0.995433083380035, 0.9934797729930013, 0.9945944930043982, 0.9961141907225928, 0.0025940473716734185, 0.0006485118429183546, 0.0951780587317893, 0.9019254136964796, 0.0239858700871882, 0.2708992386317726, 0.35626071747147176, 0.34356231566060746, 0.0007054667672702411, 0.004232800603621447, 0.01030730146561733, 0.9843472899664552, 0.025849410707111505, 0.9641830193752591, 0.0025849410707111504, 0.005169882141422301, 0.01370961350818299, 0.1439509418359214, 0.009596729455728092, 0.032903072419639176, 0.5895133808518686, 0.21112804802601803, 0.004531495245682065, 0.09969289540500542, 0.15407083835319021, 0.7408994726690176, 0.9962906707362126, 0.03717841026615345, 0.9609189114944275, 0.09371428444442541, 0.08864864744742944, 0.05065636996995968, 0.7649111865463912, 0.995086829142962, 0.9613412292652906, 0.0005122599800703148, 0.013831019461898497, 0.024246972389994896, 0.9939636726851464, 0.00549151200378534, 0.9992592063797765, 0.29506182600514996, 0.3505205268783807, 0.042536285135778916, 0.13622379923230463, 0.05653556885135172, 0.11899391158236886, 0.05914909345408802, 0.9398133737705096, 0.5765495755930611, 0.0590168856906283, 0.08928195527556589, 0.03253494980380791, 0.12484341203786756, 0.11727714464163316, 0.9824560641543255, 0.016595541624228473, 0.30097898380299903, 0.08816821147149753, 0.04906980817014893, 0.15639361320539444, 0.22593104189571245, 0.1794852876384057, 0.994327477069212, 0.9995855934308551, 0.9985662814933424, 0.0024602748279859304, 0.12362881010629301, 0.3868782167007876, 0.3438234072110338, 0.016606855088905033, 0.12793429105526838, 0.9823014794090625, 0.014100021235536782, 0.0023681309312869312, 0.09235710632019031, 0.9046260157516077, 0.9902301531242258, 0.9971324544085852, 0.9915720990979667, 0.796104422097198, 0.045083261472355134, 0.07147346330983131, 0.032987752296845224, 0.0549795871614087, 0.9950011981339906, 0.0020772467601962224, 0.09797110758584186, 0.0023895392094107773, 0.8984667427384523, 0.0011947696047053887, 0.16484113509334183, 0.8242056754667092, 0.00936597358484897, 0.9980635388720677, 0.9992526776835845, 0.9907381644708791, 0.9929694937745103, 0.9946610242880854, 0.9958215046971602, 0.9954948802352299, 0.003517649753481378, 0.9973302248201542, 0.02037918650448512, 0.32351958575870127, 0.5164850079730448, 0.0382109746959096, 0.05795331162212956, 0.04394262090029604, 0.006835217728103373, 0.9911065705749891, 0.9985927106534948, 0.9956758658356163, 0.9926210627667397, 0.9956664221421603, 0.9966924311258046, 0.9926820312862676, 0.006930875755845615, 0.0834095047858662, 0.39936184096613875, 0.28512188885254547, 0.050428096016669824, 0.17470586819045328, 0.9963501930750309, 0.17682090506816098, 0.8231317994552322, 0.9920642492689202, 0.9895147971918279, 0.9985779395551627, 0.054918650282471164, 0.08443742480929942, 0.05079975151128582, 0.4729868755577829, 0.30617147532477673, 0.030205257655359138, 0.009627299858791068, 0.7935645740746352, 0.06051445625525814, 0.13615752657433083, 0.9952150224427224, 0.9971845525976087, 0.9960531379600518, 0.8951245612900898, 0.020245143550987492, 0.08459577840948344, 0.0016005314543517703, 0.9075013346174537, 0.08482816708064383, 0.006402125817407081, 0.06894060331410459, 0.9275644809534073, 0.8914031634229819, 0.08716673000261631, 0.002466982924602348, 0.01644655283068232, 0.002466982924602348, 0.9942132721911342, 0.9948664964321553, 0.9966018672474442, 0.9984776924879182, 0.015910858546248293, 0.9819272702827517, 0.9945233188555461, 0.9969529100619638, 0.001313508445404432, 0.9943889279088629, 0.0022285693295719536, 0.7162621825244259, 0.003119997061400735, 0.2785711661964942, 0.9949210245384451, 0.8357539561666623, 0.0863427928225161, 0.07859408064613645, 0.933319225840288, 0.06586245827788607, 0.9493580265026034, 0.04947794274932135, 0.09941614412904258, 0.8862239133788938, 0.001420230630414894, 0.012071960358526599, 0.000710115315207447, 0.9968465340364675, 0.9990530741225818, 0.9922085103020644, 0.9964535745382874, 0.9936310342909284, 0.39631169733066174, 0.5040997688574076, 0.09907792433266543, 0.19753971392400832, 0.42479068563333494, 0.02730223688380603, 0.11563300327259024, 0.20797880449722828, 0.026499229916635263, 0.1827660882031753, 0.5277737306401853, 0.08893964720047567, 0.05766416686624247, 0.08307549463780695, 0.059618884387132046, 0.9664526180729571, 0.03343075093963059, 0.9687661289762542, 0.030368844168534616, 0.028355494520804932, 0.7655983520617331, 0.20268927564871672, 0.004200814003082212, 0.9701708629026885, 0.02758779704936555, 0.9984656068355283, 0.012791251801870619, 0.006395625900935309, 0.6601707179965447, 0.0028425004004156928, 0.31764941974645367, 0.10273761671817672, 0.17758930889856261, 0.00366920059707774, 0.5056158422773126, 0.20987827415284674, 0.9979705238847901, 0.5898518008680058, 0.07279125473484234, 0.2322041026041471, 0.00048527503156561565, 0.08734950568181081, 0.017227263620579355, 0.7829382412942004, 0.0012847690208306539, 0.21584119549954983, 0.9963100675441157, 0.3270747611574233, 0.14281307011641567, 0.09561909579633579, 0.11983165653446373, 0.10464750827495976, 0.20929501654991953, 0.002442037905836493, 0.9963514655812891, 0.03762140724646156, 0.9546432088789623, 0.00940535181161539, 0.9958703086764166, 0.8912368953530045, 0.08974260404596227, 0.001547286276654522, 0.01702014904319974, 0.9074858320922881, 0.06802554002432303, 0.0023333298689081775, 0.022076890298131216, 0.9005890037463474, 0.007277828821855467, 0.0010155109983984371, 0.09088823435666013, 0.0001692518330664062, 0.9974975987057105, 0.2828389386594322, 0.3029841622106738, 0.06728504666114697, 0.14947755875021274, 0.13658461567741811, 0.06083857512474966, 0.960979382928815, 0.037685465997208435, 0.9922087715077598, 0.9975189478505216, 0.0023261226922281887, 0.9929592217435832, 0.2953388859874572, 0.28326663955293346, 0.07631384353252545, 0.1509030804315475, 0.1155486444447278, 0.0793319051411564, 0.9957913778795726, 0.9995256255917974, 0.9971325305796429, 0.1751620374648882, 0.14575527205107486, 0.6776341595356989, 0.08971568558136077, 0.8575150412544017, 0.050073871022154846, 0.002086411292589785, 0.0018573959870322103, 0.22288751844386523, 0.06872365152019178, 0.7039530790852077, 0.07299442229862114, 0.8683819204491136, 0.057892128029940905, 0.20764554002199434, 0.7475239440791797, 0.04480772179421983, 0.038562830023072606, 0.08676636755191336, 0.023413146799722652, 0.06748495254037705, 0.7822745518966157, 0.2851226825520034, 0.008125257792932739, 0.03767164976723361, 0.16028917646058222, 0.32057835292116443, 0.18835824883616806, 0.0036376147166493353, 0.9930688176452686, 0.9907596299682838, 0.31918116916679395, 0.09159111810873219, 0.37677255403819376, 0.1415499098044043, 0.0034693605344216735, 0.06730559436778047, 0.06422320869695834, 0.17747703908729348, 0.02555116905147805, 0.35012007321890193, 0.2617268397435184, 0.12085012389212592, 0.9888542023622515, 0.16153444894046218, 0.2627948497688116, 0.14259117667665533, 0.10367136275283394, 0.1463798311294167, 0.18288868312875356, 0.08594807097550991, 0.008121077572489126, 0.7166850957721653, 0.13467453641044466, 0.05414051714992751, 0.003965559364330952, 0.12293234029425952, 0.7395768214477226, 0.13086345902292143, 0.9970556608879556, 0.9984649421818579, 0.9671005781865191, 0.019616644587961845, 0.0006538881529320616, 0.013077763058641232, 0.9962328418720484, 0.9989732403127889, 0.1293809253695807, 0.868700498910042, 0.999095424744487, 0.002977495845808286, 0.9974611083457758, 0.9961674501946747, 0.042530884305759166, 0.9569448968795813, 0.8163296189252488, 0.18192488650334115, 0.9907283131019686, 0.0046295715565512555, 0.0046295715565512555, 0.9991328717552312, 0.9960168076705963, 0.03928144079903647, 0.9595894823764624, 0.988297877548691, 0.0051473847788994324, 0.003589537206000794, 0.9960965746652203, 0.011477484671806955, 0.0016396406674009936, 0.6968472836454223, 0.29021639812997585, 0.9737975846923229, 0.024681505602800812, 0.0025905050488463726, 0.7745610096050655, 0.15672555545520556, 0.023314545439617355, 0.04274333330596515, 0.02172998912197994, 0.008691995648791976, 0.9691575148403054, 0.9974151262236017, 0.003562753687882058, 0.8114171524151387, 0.1843725033478965, 0.999493970241851, 0.9754695774188051, 0.02303192057794401, 0.9935893847390139, 0.9963149402976874, 0.0024544411357695184, 0.07608767520885507, 0.8909621322843352, 0.02945329362923422, 0.9974151700086575, 0.031952430990644445, 0.9621231998294049, 0.003550270110071605, 0.017160002454074116, 0.8996744143778859, 0.0821228688873547, 0.2702863323599581, 0.1304506951320631, 0.11825027040748165, 0.4805090353065921, 0.9936610435333565, 0.00042997016163278084, 0.004815665810287145, 0.001031928387918674, 0.9387268734905396, 0.028610888505305798, 0.03223251996167362, 0.0044095117594771535, 0.994344901762098, 0.0022047558797385768, 0.001961172039271378, 0.7825076436692798, 0.1882725157700523, 0.027456408549799294, 0.25803671230645536, 0.0008776758921988277, 0.25803671230645536, 0.4827217407093552, 0.9909993252335921, 0.006414235114780532, 0.9949944334212476, 0.08546654994169679, 0.005697769996113119, 0.005697769996113119, 0.168084214885337, 0.7321634445005358, 0.0014244424990282798, 0.02683878212559641, 0.07693784209337638, 0.8337914980351951, 0.023260277842183555, 0.037574294975834976, 0.1980522444694202, 0.42512144568668575, 0.00023029330752258166, 0.376529557799421, 0.3127362372911779, 0.19656732997495602, 0.004428726671879425, 0.4496860928369878, 0.036451827222392194, 0.9960835942071298, 0.9932165674742633, 0.9898510192545755, 0.9412424560473542, 0.058360025096735796, 0.994903579345753, 0.9916506923585624, 0.07201258894777496, 0.8488292399376027, 0.026047106640684558, 0.052094213281369116, 0.9974428834953836, 0.8645981695599468, 0.09562376068865772, 0.0053124311493698735, 0.011952970086082215, 0.021249724597479494, 0.9905461391022743, 0.9968103828028368, 0.9927404358813523, 0.0012393763244461327, 0.006196881622230663, 0.04821904572949928, 0.923739147475122, 0.027553740416856733, 0.9950351363171357, 0.9964005402528793, 0.9988764923707926, 0.9870396107489525, 0.007651469850767073, 0.3586003444239022, 0.0738702837159489, 0.21952999808542561, 0.07907241637200164, 0.13664268443231864, 0.13248097830747643, 0.05776255384683941, 0.16567062147280315, 0.05966681386376819, 0.3497490897759178, 0.29642980930191215, 0.07045762062636456, 0.48112276442432217, 0.0012088511668952818, 0.5161794482642853, 0.0012088511668952818, 0.9931356879088203, 0.05440679293764205, 0.0015544797982183444, 0.27514292428464693, 0.668426313233888, 0.0015544797982183444, 0.0058574275019653895, 0.9935661400208793, 0.9931924729780267, 0.9945751345628167, 0.025898228752040373, 0.9656339577546482, 0.007399493929154392, 0.016533382953449582, 0.9796029399918879, 0.9990530760553898, 0.0018442814326265372, 0.08852550876607378, 0.0470291765319767, 0.7238804623059159, 0.06178342799298899, 0.07653767945400129, 0.11786584254187499, 0.2041467207424632, 0.11632511257400735, 0.25113898476242646, 0.2461316123668566, 0.06432547615847425], \"Term\": [\"49\", \"afd\", \"affenpocken\", \"affenpocken\", \"afghanistan\", \"afghanistan\", \"aiwanger\", \"aktie\", \"aktuell\", \"aktuell\", \"aktuell\", \"aktuell\", \"aktuell\", \"aktuell\", \"album\", \"ampel\", \"ampel\", \"ampel\", \"ampel\", \"ampel\", \"andrij\", \"angriff\", \"angriff\", \"angriff\", \"angriff\", \"angriff\", \"anklage\", \"anklagen\", \"anleger\", \"annalena\", \"ard\", \"ard\", \"ard\", \"ard\", \"ard\", \"armee\", \"armee\", \"armee\", \"armee\", \"armee\", \"armut\", \"autor\", \"autor\", \"autor\", \"autor\", \"autor\", \"autor\", \"au\\u00dfenministerin\", \"bachmut\", \"bachmut\", \"baerbock\", \"baerbock\", \"baerbock\", \"bahn\", \"bahn\", \"bahn\", \"bahn\", \"ballon\", \"bank\", \"bank\", \"bank\", \"bank\", \"bank\", \"bayern\", \"bayern\", \"bayern\", \"bayern\", \"berlin\", \"berlin\", \"berlin\", \"berlin\", \"berlin\", \"berlin\", \"berliner\", \"berliner\", \"berliner\", \"berliner\", \"berliner\", \"biden\", \"biden\", \"bild\", \"bild\", \"bild\", \"bild\", \"bild\", \"bild\", \"bolsonaro\", \"boris\", \"boris\", \"borussia\", \"botschafter\", \"botschafter\", \"botschafter\", \"brand\", \"brand\", \"britisch\", \"britisch\", \"britisch\", \"britisch\", \"bundesamt\", \"bundesgesundheitsminister\", \"bundeskanzler\", \"bundeskanzler\", \"bundeskanzler\", \"bundesliga\", \"bundesliga\", \"bundespr\\u00e4sident\", \"bvb\", \"b\\u00f6rse\", \"b\\u00fcrgergeld\", \"b\\u00fcrgergeld\", \"cdu\", \"cdu\", \"charles\", \"chef\", \"chef\", \"chef\", \"chef\", \"chef\", \"chef\", \"china\", \"chinesisch\", \"co2\", \"co2\", \"co2\", \"corona\", \"corona\", \"corona\", \"csu\", \"csu\", \"csu\", \"dax\", \"deutsch\", \"deutsch\", \"deutsch\", \"deutsch\", \"deutsch\", \"deutsch\", \"deutschland\", \"deutschland\", \"deutschland\", \"deutschland\", \"deutschland\", \"deutschland\", \"dfb\", \"dfb\", \"diktator\", \"diktator\", \"documenta\", \"documenta\", \"donald\", \"dortmund\", \"draghi\", \"einkommen\", \"eintracht\", \"elizabeth\", \"em\", \"entwicklung\", \"entwicklung\", \"entwicklung\", \"entwicklung\", \"entwicklung\", \"entwicklung\", \"erdbeben\", \"ermittler\", \"ermittlung\", \"ermittlung\", \"erschie\\u00dfen\", \"erster\", \"erster\", \"erster\", \"erster\", \"erster\", \"erster\", \"eu\", \"eu\", \"eu\", \"eu\", \"eu\", \"euro\", \"euro\", \"euro\", \"euro\", \"europa\", \"europa\", \"europa\", \"europa\", \"europa\", \"europa\", \"ex\", \"ex\", \"ex\", \"ex\", \"ex\", \"ex\", \"experte\", \"experte\", \"experte\", \"experte\", \"experte\", \"experte\", \"ezb\", \"fachkr\\u00e4ftemangel\", \"fachkr\\u00e4ftemangel\", \"faeser\", \"faeser\", \"fall\", \"fall\", \"fall\", \"fall\", \"fall\", \"fall\", \"fbi\", \"fc\", \"fc\", \"fdp\", \"fdp\", \"fdp\", \"fdp\", \"fdp\", \"fed\", \"festnehmen\", \"festnehmen\", \"finanzminister\", \"finanzminister\", \"finanzminister\", \"finden\", \"finden\", \"finden\", \"finden\", \"finden\", \"finden\", \"firma\", \"firma\", \"firma\", \"firma\", \"florida\", \"flugblatt\", \"flughafen\", \"focus\", \"focus\", \"focus\", \"focus\", \"for\", \"for\", \"frau\", \"frau\", \"frau\", \"frau\", \"frau\", \"frau\", \"fridays\", \"future\", \"fu\\u00dfball\", \"fu\\u00dfball\", \"gabor\", \"gas\", \"gas\", \"gas\", \"gas\", \"gaslieferunge\", \"gazprom\", \"geben\", \"geben\", \"geben\", \"geben\", \"geben\", \"geben\", \"gef\\u00e4ngnis\", \"gegenoffensiv\", \"gegenoffensive\", \"geld\", \"geld\", \"geld\", \"geld\", \"geld\", \"geld\", \"generation\", \"generation\", \"generation\", \"generation\", \"gericht\", \"gericht\", \"gericht\", \"gericht\", \"gesundheitsminister\", \"gewinnen\", \"gewinnen\", \"gewinnen\", \"gewinnen\", \"gewinnen\", \"giffey\", \"giffey\", \"global\", \"global\", \"global\", \"global\", \"google\", \"gro\\u00df\", \"gro\\u00df\", \"gro\\u00df\", \"gro\\u00df\", \"gro\\u00df\", \"gro\\u00df\", \"gro\\u00dfbritannien\", \"gro\\u00dfbritannien\", \"gro\\u00dfbritannien\", \"gro\\u00dfbritannien\", \"gro\\u00dfbritannien\", \"gr\\u00fcn\", \"gr\\u00fcn\", \"gr\\u00fcn\", \"gr\\u00fcn\", \"gr\\u00fcn\", \"gr\\u00fcn\", \"gr\\u00fcne\", \"gr\\u00fcne\", \"gr\\u00fcne\", \"gr\\u00fcne\", \"gut\", \"gut\", \"gut\", \"gut\", \"gut\", \"gut\", \"g\\u00f6rlach\", \"habeck\", \"habeck\", \"haft\", \"haftstrafe\", \"hartz\", \"heil\", \"heizungsgesetz\", \"hertha\", \"hoch\", \"hoch\", \"hoch\", \"hoch\", \"hoch\", \"hoch\", \"hugo\", \"ii\", \"iii\", \"impfstoff\", \"impfung\", \"infektion\", \"inflation\", \"inflation\", \"inflationsrate\", \"intelligenz\", \"invasion\", \"invasion\", \"investieren\", \"investor\", \"investor\", \"inzidenz\", \"iran\", \"iran\", \"iran\", \"israel\", \"israel\", \"israelisch\", \"iv\", \"jinping\", \"johnson\", \"jong\", \"justizreform\", \"j\\u00e4hriger\", \"kanzler\", \"kanzler\", \"kanzler\", \"kapitol\", \"karl\", \"katar\", \"katar\", \"katholisch\", \"ki\", \"kiew\", \"kiew\", \"kiew\", \"kim\", \"kim\", \"kind\", \"kind\", \"kind\", \"kind\", \"kind\", \"kind\", \"kindergrundsicherung\", \"kindergrundsicherung\", \"kirche\", \"kirche\", \"kirche\", \"kirche\", \"klima\", \"klima\", \"klima\", \"klima\", \"klima\", \"klima\", \"klimawandel\", \"klimawandel\", \"klimawandel\", \"klimawandel\", \"koalitionsvertrag\", \"kommune\", \"kommune\", \"konzern\", \"konzern\", \"konzern\", \"konzern\", \"kosovo\", \"krieg\", \"krieg\", \"krieg\", \"krieg\", \"kriegsverlauf\", \"kriegsverlauf\", \"krim\", \"kritik\", \"kritik\", \"kritik\", \"kritik\", \"kritik\", \"kritik\", \"k\\u00f6nig\", \"k\\u00f6nig\", \"lage\", \"lage\", \"lage\", \"lage\", \"lage\", \"lage\", \"lambrecht\", \"lambrecht\", \"land\", \"land\", \"land\", \"land\", \"land\", \"land\", \"landtagswahl\", \"lauterbach\", \"league\", \"leben\", \"leben\", \"leben\", \"leben\", \"leben\", \"leben\", \"lebensmittel\", \"lebensmittel\", \"leipzig\", \"leipzig\", \"leipzig\", \"leitzins\", \"letzten\", \"leverkusen\", \"liefern\", \"liefern\", \"liefern\", \"liefern\", \"liefern\", \"lieferung\", \"lieferung\", \"lindner\", \"lindner\", \"lindner\", \"lindner\", \"linke\", \"linke\", \"linke\", \"litauen\", \"liveblog\", \"liz\", \"lng\", \"lufthansa\", \"l\\u00fctzerath\", \"macron\", \"macron\", \"mali\", \"mann\", \"mann\", \"mann\", \"mann\", \"mann\", \"mann\", \"man\\u00f6ver\", \"man\\u00f6ver\", \"marktbericht\", \"marokko\", \"maske\", \"maskenpflicht\", \"melnyk\", \"meloni\", \"mensch\", \"mensch\", \"mensch\", \"mensch\", \"mensch\", \"mensch\", \"merkel\", \"merz\", \"merz\", \"miete\", \"mieter\", \"milit\\u00e4rexperte\", \"million\", \"million\", \"million\", \"million\", \"million\", \"million\", \"mindestens\", \"mindestens\", \"mindestens\", \"mindestens\", \"mindestlohn\", \"mittelmeer\", \"mord\", \"moskau\", \"moskau\", \"moskau\", \"mutma\\u00dflich\", \"mutma\\u00dflich\", \"mutma\\u00dflich\", \"mutma\\u00dflich\", \"m\\u00fcller\", \"m\\u00fcller\", \"nato\", \"nato\", \"nato\", \"nato\", \"nato\", \"nawalny\", \"newsblog\", \"niedersachsen\", \"nord\", \"nordkorea\", \"nordkorea\", \"notenbank\", \"olaf\", \"olaf\", \"omikron\", \"online\", \"online\", \"online\", \"online\", \"pal\\u00e4stinenser\", \"pandemie\", \"pandemie\", \"pandemie\", \"panzer\", \"panzer\", \"papst\", \"papst\", \"partei\", \"partei\", \"partei\", \"partei\", \"partei\", \"parteitag\", \"peking\", \"pelosi\", \"pipeline\", \"pokal\", \"polen\", \"polen\", \"polen\", \"politik\", \"politik\", \"politik\", \"politik\", \"politik\", \"politik\", \"politiker\", \"politiker\", \"politiker\", \"politiker\", \"politiker\", \"politiker\", \"polizei\", \"polizei\", \"polizist\", \"polizist\", \"preis\", \"preis\", \"preis\", \"preis\", \"prigoschin\", \"prigoschin\", \"promi\", \"protest\", \"protest\", \"protest\", \"protest\", \"protest\", \"prozent\", \"prozent\", \"prozent\", \"prozent\", \"prozent\", \"prozess\", \"pr\\u00e4sident\", \"pr\\u00e4sident\", \"pr\\u00e4sident\", \"pr\\u00e4sident\", \"pr\\u00e4sident\", \"pr\\u00e4sident\", \"putin\", \"putin\", \"putin\", \"queen\", \"regierung\", \"regierung\", \"regierung\", \"regierung\", \"regierung\", \"regierung\", \"reitz\", \"reitz\", \"rente\", \"rente\", \"rente\", \"rki\", \"russe\", \"russe\", \"russe\", \"russe\", \"russisch\", \"russisch\", \"russisch\", \"russisch\", \"russland\", \"russland\", \"russland\", \"russland\", \"russland\", \"r\\u00e4umung\", \"sagen\", \"sagen\", \"sagen\", \"sagen\", \"sagen\", \"sagen\", \"saporischschja\", \"saporischschja\", \"schlesinger\", \"scholz\", \"scholz\", \"schuldig\", \"sehen\", \"sehen\", \"sehen\", \"sehen\", \"sehen\", \"sehen\", \"selenski\", \"selenskyj\", \"serbien\", \"sieg\", \"sieg\", \"sieg\", \"sinken\", \"sinken\", \"sinken\", \"sinken\", \"spanien\", \"spanien\", \"spanien\", \"spanien\", \"sparen\", \"sparen\", \"sparen\", \"spd\", \"spd\", \"spd\", \"spiel\", \"spiel\", \"spiel\", \"spiel\", \"spiel\", \"staat\", \"staat\", \"staat\", \"staat\", \"staat\", \"staat\", \"staatsanwaltschaft\", \"staatsanwaltschaft\", \"staatssekret\\u00e4r\", \"stadt\", \"stadt\", \"stadt\", \"stadt\", \"stadt\", \"stadt\", \"stark\", \"stark\", \"stark\", \"stark\", \"stark\", \"stark\", \"statistisch\", \"stehen\", \"stehen\", \"stehen\", \"stehen\", \"stehen\", \"stehen\", \"steigen\", \"steigen\", \"steigen\", \"steigen\", \"steigen\", \"steigend\", \"steigend\", \"steigend\", \"steigend\", \"steingart\", \"steinmeier\", \"sterben\", \"sterben\", \"sterben\", \"sterben\", \"stichwahl\", \"stream\", \"street\", \"street\", \"streik\", \"sudan\", \"sudan\", \"sunak\", \"syrien\", \"syrien\", \"s\\u00f6der\", \"s\\u00f6der\", \"s\\u00f6ldner\", \"s\\u00f6ldner\", \"s\\u00f6ldner\", \"taiwan\", \"taliban\", \"tankrabatt\", \"tankrabatt\", \"tat\", \"tat\", \"team\", \"team\", \"teuer\", \"teuer\", \"teuer\", \"teuer\", \"ticket\", \"ticket\", \"tod\", \"tod\", \"tod\", \"tod\", \"tod\", \"tor\", \"tor\", \"tor\", \"tot\", \"tote\", \"tote\", \"tote\", \"trump\", \"truppe\", \"truppe\", \"truss\", \"tunesien\", \"twitter\", \"twitter\", \"twitter\", \"twitter\", \"t\\u00e4ter\", \"t\\u00f6dlich\", \"t\\u00f6dlich\", \"t\\u00f6dlich\", \"t\\u00f6ten\", \"t\\u00f6ten\", \"t\\u00f6ten\", \"t\\u00fcrkei\", \"t\\u00fcrkei\", \"t\\u00fcrkei\", \"t\\u00fcrkei\", \"ukraine\", \"ukraine\", \"ukraine\", \"ukraine\", \"ukrainisch\", \"ukrainisch\", \"ukrainisch\", \"ulrich\", \"ulrich\", \"ulrich\", \"umfrage\", \"umfrage\", \"umfrage\", \"umfrage\", \"un\", \"un\", \"un\", \"un\", \"unfall\", \"unfall\", \"uniper\", \"unternehmen\", \"unternehmen\", \"unternehmen\", \"unternehmen\", \"unternehmen\", \"unternehmen\", \"urteil\", \"urteil\", \"urteil\", \"urteil\", \"urteil\", \"us\", \"us\", \"us\", \"us\", \"usa\", \"usa\", \"usa\", \"usa\", \"usa\", \"verdi\", \"verd\\u00e4chtige\", \"verfassungsschutz\", \"verletzen\", \"verletzen\", \"versteher\", \"verteidigungsministerin\", \"verurteilen\", \"verurteilen\", \"verurteilen\", \"verurteilen\", \"vogg\", \"waffe\", \"waffe\", \"waffe\", \"waffe\", \"waffe\", \"waffenlieferung\", \"waffenlieferunge\", \"wagner\", \"wagner\", \"wagner\", \"wahl\", \"wahl\", \"wahl\", \"waldbrand\", \"wall\", \"warnstreik\", \"wasserstoff\", \"wasserstoff\", \"weit\", \"weit\", \"weit\", \"weit\", \"weit\", \"weit\", \"welt\", \"welt\", \"welt\", \"welt\", \"welt\", \"welt\", \"westen\", \"westen\", \"westen\", \"westen\", \"wetter\", \"wirtschaft\", \"wirtschaft\", \"wirtschaft\", \"wirtschaft\", \"wirtschaft\", \"wm\", \"wm\", \"wolfsburg\", \"wolodymyr\", \"w\\u00e4hlen\", \"w\\u00e4hlen\", \"w\\u00e4hlen\", \"w\\u00e4hler\", \"w\\u00e4hler\", \"xi\", \"zahl\", \"zahl\", \"zahl\", \"zahl\", \"zahl\", \"zahl\", \"zeigen\", \"zeigen\", \"zeigen\", \"zeigen\", \"zeigen\", \"zeigen\"]}, \"R\": 30, \"lambda.step\": 0.01, \"plot.opts\": {\"xlab\": \"PC1\", \"ylab\": \"PC2\"}, \"topic.order\": [4, 5, 3, 1, 2, 6]};\n",
       "\n",
       "function LDAvis_load_lib(url, callback){\n",
       "  var s = document.createElement('script');\n",
       "  s.src = url;\n",
       "  s.async = true;\n",
       "  s.onreadystatechange = s.onload = callback;\n",
       "  s.onerror = function(){console.warn(\"failed to load library \" + url);};\n",
       "  document.getElementsByTagName(\"head\")[0].appendChild(s);\n",
       "}\n",
       "\n",
       "if(typeof(LDAvis) !== \"undefined\"){\n",
       "   // already loaded: just create the visualization\n",
       "   !function(LDAvis){\n",
       "       new LDAvis(\"#\" + \"ldavis_el1607220748059085608138884494\", ldavis_el1607220748059085608138884494_data);\n",
       "   }(LDAvis);\n",
       "}else if(typeof define === \"function\" && define.amd){\n",
       "   // require.js is available: use it to load d3/LDAvis\n",
       "   require.config({paths: {d3: \"https://d3js.org/d3.v5\"}});\n",
       "   require([\"d3\"], function(d3){\n",
       "      window.d3 = d3;\n",
       "      LDAvis_load_lib(\"https://cdn.jsdelivr.net/gh/bmabey/pyLDAvis@3.4.0/pyLDAvis/js/ldavis.v3.0.0.js\", function(){\n",
       "        new LDAvis(\"#\" + \"ldavis_el1607220748059085608138884494\", ldavis_el1607220748059085608138884494_data);\n",
       "      });\n",
       "    });\n",
       "}else{\n",
       "    // require.js not available: dynamically load d3 & LDAvis\n",
       "    LDAvis_load_lib(\"https://d3js.org/d3.v5.js\", function(){\n",
       "         LDAvis_load_lib(\"https://cdn.jsdelivr.net/gh/bmabey/pyLDAvis@3.4.0/pyLDAvis/js/ldavis.v3.0.0.js\", function(){\n",
       "                 new LDAvis(\"#\" + \"ldavis_el1607220748059085608138884494\", ldavis_el1607220748059085608138884494_data);\n",
       "            })\n",
       "         });\n",
       "}\n",
       "</script>"
      ],
      "text/plain": [
       "PreparedData(topic_coordinates=                x          y  topics  cluster       Freq\n",
       "topic                                                   \n",
       "3      -56.400227  93.653191       1        1  21.400051\n",
       "4     -116.331902  -3.196838       2        1  19.204321\n",
       "2      -19.901344   3.972522       3        1  15.807424\n",
       "0      -43.252079 -89.995522       4        1  15.403958\n",
       "1       61.954079 -47.543461       5        1  14.672082\n",
       "5       54.253056  65.924736       6        1  13.512165, topic_info=            Term          Freq         Total Category  logprob  loglift\n",
       "25499    ukraine  11628.000000  11628.000000  Default  30.0000  30.0000\n",
       "14352      krieg   5856.000000   5856.000000  Default  29.0000  29.0000\n",
       "21153   russland   5908.000000   5908.000000  Default  28.0000  28.0000\n",
       "21147   russisch   5571.000000   5571.000000  Default  27.0000  27.0000\n",
       "4946       china   2851.000000   2851.000000  Default  26.0000  26.0000\n",
       "...          ...           ...           ...      ...      ...      ...\n",
       "14878       land    683.683064   3810.897311   Topic6  -5.4410   0.2835\n",
       "7470      erster    566.221743   2361.894822   Topic6  -5.6295   0.5733\n",
       "23685     stehen    531.171660   2903.405454   Topic6  -5.6934   0.3030\n",
       "20431  regierung    510.461911   2436.751760   Topic6  -5.7332   0.4385\n",
       "9305       geben    533.186183   5117.002986   Topic6  -5.6896  -0.2599\n",
       "\n",
       "[435 rows x 6 columns], token_table=       Topic      Freq         Term\n",
       "term                               \n",
       "83         5  0.994829           49\n",
       "627        2  0.999162          afd\n",
       "631        2  0.014967  affenpocken\n",
       "631        5  0.980313  affenpocken\n",
       "643        3  0.048140  afghanistan\n",
       "...      ...       ...          ...\n",
       "29061      2  0.204147       zeigen\n",
       "29061      3  0.116325       zeigen\n",
       "29061      4  0.251139       zeigen\n",
       "29061      5  0.246132       zeigen\n",
       "29061      6  0.064325       zeigen\n",
       "\n",
       "[901 rows x 3 columns], R=30, lambda_step=0.01, plot_opts={'xlab': 'PC1', 'ylab': 'PC2'}, topic_order=[4, 5, 3, 1, 2, 6])"
      ]
     },
     "execution_count": 29,
     "metadata": {},
     "output_type": "execute_result"
    }
   ],
   "source": [
    "pyLDAvis.enable_notebook()\n",
    "panel = pyLDAvis.lda_model.prepare(lda, dtm, cv, mds='tsne')\n",
    "panel"
   ]
  },
  {
   "cell_type": "markdown",
   "id": "1c77ce17",
   "metadata": {},
   "source": [
    "## Save train set with topics and dump countvectorizer and model"
   ]
  },
  {
   "cell_type": "code",
   "execution_count": 30,
   "id": "78051ef9",
   "metadata": {},
   "outputs": [],
   "source": [
    "#Save result to csv\n",
    "train.to_csv('train_lda_combined.csv')"
   ]
  },
  {
   "cell_type": "code",
   "execution_count": 31,
   "id": "c49fa248",
   "metadata": {},
   "outputs": [
    {
     "data": {
      "text/plain": [
       "['models/cv_combined.jl']"
      ]
     },
     "execution_count": 31,
     "metadata": {},
     "output_type": "execute_result"
    }
   ],
   "source": [
    "# Dump countvectorizer\n",
    "joblib.dump(cv, 'models/cv_combined.jl')"
   ]
  },
  {
   "cell_type": "code",
   "execution_count": 32,
   "id": "205360e6",
   "metadata": {},
   "outputs": [
    {
     "data": {
      "text/plain": [
       "['models/lda_model_6_topics_combined.jl']"
      ]
     },
     "execution_count": 32,
     "metadata": {},
     "output_type": "execute_result"
    }
   ],
   "source": [
    "# Dump LDA model\n",
    "joblib.dump(lda, 'models/lda_model_6_topics_combined.jl')"
   ]
  }
 ],
 "metadata": {
  "kernelspec": {
   "display_name": "nlp",
   "language": "python",
   "name": "nlp"
  },
  "language_info": {
   "codemirror_mode": {
    "name": "ipython",
    "version": 3
   },
   "file_extension": ".py",
   "mimetype": "text/x-python",
   "name": "python",
   "nbconvert_exporter": "python",
   "pygments_lexer": "ipython3",
   "version": "3.11.5"
  }
 },
 "nbformat": 4,
 "nbformat_minor": 5
}
