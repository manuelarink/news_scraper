{
 "cells": [
  {
   "cell_type": "markdown",
   "id": "d23815fa",
   "metadata": {},
   "source": [
    "# Topic modelling of news headlines for prediction of news category¶"
   ]
  },
  {
   "cell_type": "markdown",
   "id": "75523a79",
   "metadata": {},
   "source": [
    "Now we wan't to perform unsupervised learning and train a modell for prediction of news category labels without using the provided labels in the corpus.\n",
    "We use the LDA classifier and assume 7 topics. "
   ]
  },
  {
   "cell_type": "code",
   "execution_count": 1,
   "id": "a2821ff5",
   "metadata": {},
   "outputs": [],
   "source": [
    "import pandas as pd\n",
    "import numpy as np\n",
    "import matplotlib.pyplot as plt\n",
    "import seaborn as sns"
   ]
  },
  {
   "cell_type": "markdown",
   "id": "6594f2c8",
   "metadata": {},
   "source": [
    "## Load data"
   ]
  },
  {
   "cell_type": "code",
   "execution_count": 2,
   "id": "d737f3a4",
   "metadata": {},
   "outputs": [],
   "source": [
    "train = pd.read_csv('../../data/01_train_preprocessed.csv')\n",
    "test = pd.read_csv('../../data/01_test_preprocessed.csv')\n",
    "pred = pd.read_csv('../../data/01_pred_preprocessed.csv')"
   ]
  },
  {
   "cell_type": "code",
   "execution_count": 3,
   "id": "72fc6b38",
   "metadata": {},
   "outputs": [
    {
     "data": {
      "text/html": [
       "<div>\n",
       "<style scoped>\n",
       "    .dataframe tbody tr th:only-of-type {\n",
       "        vertical-align: middle;\n",
       "    }\n",
       "\n",
       "    .dataframe tbody tr th {\n",
       "        vertical-align: top;\n",
       "    }\n",
       "\n",
       "    .dataframe thead th {\n",
       "        text-align: right;\n",
       "    }\n",
       "</style>\n",
       "<table border=\"1\" class=\"dataframe\">\n",
       "  <thead>\n",
       "    <tr style=\"text-align: right;\">\n",
       "      <th></th>\n",
       "      <th>date</th>\n",
       "      <th>title</th>\n",
       "      <th>description</th>\n",
       "      <th>category</th>\n",
       "      <th>text</th>\n",
       "      <th>source</th>\n",
       "      <th>title_description_text</th>\n",
       "    </tr>\n",
       "  </thead>\n",
       "  <tbody>\n",
       "    <tr>\n",
       "      <th>0</th>\n",
       "      <td>2022-12-18 12:22:42</td>\n",
       "      <td>Potsdam: Ausstellung befasst sich mit Justizmi...</td>\n",
       "      <td>NaN</td>\n",
       "      <td>News</td>\n",
       "      <td>NaN</td>\n",
       "      <td>Zeit</td>\n",
       "      <td>Potsdam: Ausstellung befasst sich mit Justizmi...</td>\n",
       "    </tr>\n",
       "    <tr>\n",
       "      <th>1</th>\n",
       "      <td>2023-07-16 10:51:03</td>\n",
       "      <td>Heizdebakel und AfD-Hoch - Auf Sommerreise bek...</td>\n",
       "      <td>Sommer des Missvergnügens: Zur Halbzeit der Ko...</td>\n",
       "      <td>Deutschland</td>\n",
       "      <td>NaN</td>\n",
       "      <td>Focus</td>\n",
       "      <td>Heizdebakel und AfD-Hoch - Auf Sommerreise bek...</td>\n",
       "    </tr>\n",
       "    <tr>\n",
       "      <th>2</th>\n",
       "      <td>2022-09-26 20:36:37</td>\n",
       "      <td>Allianz der Ausgestoßenen - Wie der Iran Putin...</td>\n",
       "      <td>Russland kann viel vom stark sanktionierten Ir...</td>\n",
       "      <td>Ukraine-Krise</td>\n",
       "      <td>NaN</td>\n",
       "      <td>Focus</td>\n",
       "      <td>Allianz der Ausgestoßenen - Wie der Iran Putin...</td>\n",
       "    </tr>\n",
       "    <tr>\n",
       "      <th>3</th>\n",
       "      <td>2022-08-04 08:23:25</td>\n",
       "      <td>Im Newsticker - China-Taiwan-Konflikt: China s...</td>\n",
       "      <td>China reagiert wütend auf den Besuch von Nancy...</td>\n",
       "      <td>Ausland</td>\n",
       "      <td>NaN</td>\n",
       "      <td>Focus</td>\n",
       "      <td>Im Newsticker - China-Taiwan-Konflikt: China s...</td>\n",
       "    </tr>\n",
       "    <tr>\n",
       "      <th>4</th>\n",
       "      <td>2023-03-08 02:37:24</td>\n",
       "      <td>US-Regierung erwägt Inhaftierung von Migranten...</td>\n",
       "      <td>Bald soll eine kontroverse US-Asylbeschränkung...</td>\n",
       "      <td>Missing</td>\n",
       "      <td>NaN</td>\n",
       "      <td>Tagesschau</td>\n",
       "      <td>US-Regierung erwägt Inhaftierung von Migranten...</td>\n",
       "    </tr>\n",
       "  </tbody>\n",
       "</table>\n",
       "</div>"
      ],
      "text/plain": [
       "                  date                                              title  \\\n",
       "0  2022-12-18 12:22:42  Potsdam: Ausstellung befasst sich mit Justizmi...   \n",
       "1  2023-07-16 10:51:03  Heizdebakel und AfD-Hoch - Auf Sommerreise bek...   \n",
       "2  2022-09-26 20:36:37  Allianz der Ausgestoßenen - Wie der Iran Putin...   \n",
       "3  2022-08-04 08:23:25  Im Newsticker - China-Taiwan-Konflikt: China s...   \n",
       "4  2023-03-08 02:37:24  US-Regierung erwägt Inhaftierung von Migranten...   \n",
       "\n",
       "                                         description       category  text  \\\n",
       "0                                                NaN           News   NaN   \n",
       "1  Sommer des Missvergnügens: Zur Halbzeit der Ko...    Deutschland   NaN   \n",
       "2  Russland kann viel vom stark sanktionierten Ir...  Ukraine-Krise   NaN   \n",
       "3  China reagiert wütend auf den Besuch von Nancy...        Ausland   NaN   \n",
       "4  Bald soll eine kontroverse US-Asylbeschränkung...        Missing   NaN   \n",
       "\n",
       "       source                             title_description_text  \n",
       "0        Zeit  Potsdam: Ausstellung befasst sich mit Justizmi...  \n",
       "1       Focus  Heizdebakel und AfD-Hoch - Auf Sommerreise bek...  \n",
       "2       Focus  Allianz der Ausgestoßenen - Wie der Iran Putin...  \n",
       "3       Focus  Im Newsticker - China-Taiwan-Konflikt: China s...  \n",
       "4  Tagesschau  US-Regierung erwägt Inhaftierung von Migranten...  "
      ]
     },
     "execution_count": 3,
     "metadata": {},
     "output_type": "execute_result"
    }
   ],
   "source": [
    "train.head()"
   ]
  },
  {
   "cell_type": "code",
   "execution_count": 4,
   "id": "a7b770f7",
   "metadata": {},
   "outputs": [
    {
     "data": {
      "text/html": [
       "<div>\n",
       "<style scoped>\n",
       "    .dataframe tbody tr th:only-of-type {\n",
       "        vertical-align: middle;\n",
       "    }\n",
       "\n",
       "    .dataframe tbody tr th {\n",
       "        vertical-align: top;\n",
       "    }\n",
       "\n",
       "    .dataframe thead th {\n",
       "        text-align: right;\n",
       "    }\n",
       "</style>\n",
       "<table border=\"1\" class=\"dataframe\">\n",
       "  <thead>\n",
       "    <tr style=\"text-align: right;\">\n",
       "      <th></th>\n",
       "      <th>date</th>\n",
       "      <th>title</th>\n",
       "      <th>description</th>\n",
       "      <th>category</th>\n",
       "      <th>text</th>\n",
       "      <th>source</th>\n",
       "      <th>title_description_text</th>\n",
       "    </tr>\n",
       "  </thead>\n",
       "  <tbody>\n",
       "    <tr>\n",
       "      <th>0</th>\n",
       "      <td>2022-10-14 14:23:59</td>\n",
       "      <td>Nordkorea feuert Hunderte Geschosse ab</td>\n",
       "      <td>Raketentests und an die 300 Artilleriegeschoss...</td>\n",
       "      <td>Missing</td>\n",
       "      <td>NaN</td>\n",
       "      <td>Tagesschau</td>\n",
       "      <td>Nordkorea feuert Hunderte Geschosse ab - Raket...</td>\n",
       "    </tr>\n",
       "    <tr>\n",
       "      <th>1</th>\n",
       "      <td>2023-03-15 14:40:00</td>\n",
       "      <td>Deutsche Emissionen sinken zu langsam</td>\n",
       "      <td>Deutschland hat 2022 weniger Treibhausgase fre...</td>\n",
       "      <td>Other</td>\n",
       "      <td>NaN</td>\n",
       "      <td>ZDF heute</td>\n",
       "      <td>Deutsche Emissionen sinken zu langsam - Deutsc...</td>\n",
       "    </tr>\n",
       "    <tr>\n",
       "      <th>2</th>\n",
       "      <td>2022-09-04 04:40:46</td>\n",
       "      <td>Werner Herzog: Ein lebenslang abenteuerliches ...</td>\n",
       "      <td>Seine Biografie ist eine einzige Aneinanderrei...</td>\n",
       "      <td>Other</td>\n",
       "      <td>NaN</td>\n",
       "      <td>Zeit</td>\n",
       "      <td>Werner Herzog: Ein lebenslang abenteuerliches ...</td>\n",
       "    </tr>\n",
       "    <tr>\n",
       "      <th>3</th>\n",
       "      <td>2022-07-22 12:31:19</td>\n",
       "      <td>Soziales: Scholz sagt Bürgergeld ab 2023 zu - ...</td>\n",
       "      <td>Das Bürgergeld soll nach Aussage von Bundeskan...</td>\n",
       "      <td>Other</td>\n",
       "      <td>NaN</td>\n",
       "      <td>stern</td>\n",
       "      <td>Soziales: Scholz sagt Bürgergeld ab 2023 zu - ...</td>\n",
       "    </tr>\n",
       "    <tr>\n",
       "      <th>4</th>\n",
       "      <td>2023-08-23 10:42:36</td>\n",
       "      <td>Selbstbestimmungsgesetz: Ein Schritt in Richtu...</td>\n",
       "      <td>Lange wurde über das Selbstbestimmungsgesetz g...</td>\n",
       "      <td>Deutschland</td>\n",
       "      <td>NaN</td>\n",
       "      <td>Zeit</td>\n",
       "      <td>Selbstbestimmungsgesetz: Ein Schritt in Richtu...</td>\n",
       "    </tr>\n",
       "  </tbody>\n",
       "</table>\n",
       "</div>"
      ],
      "text/plain": [
       "                  date                                              title  \\\n",
       "0  2022-10-14 14:23:59             Nordkorea feuert Hunderte Geschosse ab   \n",
       "1  2023-03-15 14:40:00              Deutsche Emissionen sinken zu langsam   \n",
       "2  2022-09-04 04:40:46  Werner Herzog: Ein lebenslang abenteuerliches ...   \n",
       "3  2022-07-22 12:31:19  Soziales: Scholz sagt Bürgergeld ab 2023 zu - ...   \n",
       "4  2023-08-23 10:42:36  Selbstbestimmungsgesetz: Ein Schritt in Richtu...   \n",
       "\n",
       "                                         description     category  text  \\\n",
       "0  Raketentests und an die 300 Artilleriegeschoss...      Missing   NaN   \n",
       "1  Deutschland hat 2022 weniger Treibhausgase fre...        Other   NaN   \n",
       "2  Seine Biografie ist eine einzige Aneinanderrei...        Other   NaN   \n",
       "3  Das Bürgergeld soll nach Aussage von Bundeskan...        Other   NaN   \n",
       "4  Lange wurde über das Selbstbestimmungsgesetz g...  Deutschland   NaN   \n",
       "\n",
       "       source                             title_description_text  \n",
       "0  Tagesschau  Nordkorea feuert Hunderte Geschosse ab - Raket...  \n",
       "1   ZDF heute  Deutsche Emissionen sinken zu langsam - Deutsc...  \n",
       "2        Zeit  Werner Herzog: Ein lebenslang abenteuerliches ...  \n",
       "3       stern  Soziales: Scholz sagt Bürgergeld ab 2023 zu - ...  \n",
       "4        Zeit  Selbstbestimmungsgesetz: Ein Schritt in Richtu...  "
      ]
     },
     "execution_count": 4,
     "metadata": {},
     "output_type": "execute_result"
    }
   ],
   "source": [
    "test.head()"
   ]
  },
  {
   "cell_type": "markdown",
   "id": "46b4f629",
   "metadata": {},
   "source": [
    "## Load German stopwords"
   ]
  },
  {
   "cell_type": "code",
   "execution_count": 5,
   "id": "da144b59",
   "metadata": {},
   "outputs": [],
   "source": [
    "stop_words = pd.read_csv('german_stopwords.txt', header=None)[0].values.tolist()"
   ]
  },
  {
   "cell_type": "code",
   "execution_count": 6,
   "id": "bd74c6d3",
   "metadata": {},
   "outputs": [
    {
     "name": "stdout",
     "output_type": "stream",
     "text": [
      "['ab', 'aber', 'alle', 'allein', 'allem', 'allen', 'aller', 'allerdings', 'allerlei', 'alles', 'allmählich', 'allzu', 'als', 'alsbald', 'also', 'am', 'an', 'and', 'ander', 'andere', 'anderem', 'anderen', 'anderer', 'andererseits', 'anderes', 'anderm', 'andern', 'andernfalls', 'anders', 'anstatt', 'auch', 'auf', 'aus', 'ausgenommen', 'ausser', 'ausserdem', 'außer', 'außerdem', 'außerhalb', 'bald', 'bei', 'beide', 'beiden', 'beiderlei', 'beides', 'beim', 'beinahe', 'bereits', 'besonders', 'besser', 'beträchtlich', 'bevor', 'bezüglich', 'bin', 'bis', 'bisher', 'bislang', 'bist', 'bloß', 'bsp.', 'bzw', 'ca', 'ca.', 'content', 'da', 'dabei', 'dadurch', 'dafür', 'dagegen', 'daher', 'dahin', 'damals', 'damit', 'danach', 'daneben', 'dann', 'daran', 'darauf', 'daraus', 'darin', 'darum', 'darunter', 'darüber', 'darüberhinaus', 'das', 'dass', 'dasselbe', 'davon', 'davor', 'dazu', 'daß', 'dein', 'deine', 'deinem', 'deinen', 'deiner', 'deines', 'dem', 'demnach', 'demselben', 'den', 'denen', 'denn', 'dennoch', 'denselben', 'der', 'derart', 'derartig', 'derem', 'deren', 'derer', 'derjenige', 'derjenigen', 'derselbe', 'derselben', 'derzeit', 'des', 'deshalb', 'desselben', 'dessen', 'desto', 'deswegen', 'dich', 'die', 'diejenige', 'dies', 'diese', 'dieselbe', 'dieselben', 'diesem', 'diesen', 'dieser', 'dieses', 'diesseits', 'dir', 'direkt', 'direkte', 'direkten', 'direkter', 'doch', 'dort', 'dorther', 'dorthin', 'drauf', 'drin', 'drunter', 'drüber', 'du', 'dunklen', 'durch', 'durchaus', 'eben', 'ebenfalls', 'ebenso', 'eher', 'eigenen', 'eigenes', 'eigentlich', 'ein', 'eine', 'einem', 'einen', 'einer', 'einerseits', 'eines', 'einfach', 'einführen', 'einführte', 'einführten', 'eingesetzt', 'einig', 'einige', 'einigem', 'einigen', 'einiger', 'einigermaßen', 'einiges', 'einmal', 'eins', 'einseitig', 'einseitige', 'einseitigen', 'einseitiger', 'einst', 'einstmals', 'einzig', 'entsprechend', 'entweder', 'er', 'erst', 'es', 'etc', 'etliche', 'etwa', 'etwas', 'euch', 'euer', 'eure', 'eurem', 'euren', 'eurer', 'eures', 'falls', 'fast', 'ferner', 'folgende', 'folgenden', 'folgender', 'folgendes', 'folglich', 'fuer', 'für', 'gab', 'ganze', 'ganzem', 'ganzen', 'ganzer', 'ganzes', 'gar', 'gegen', 'gemäss', 'ggf', 'gleich', 'gleichwohl', 'gleichzeitig', 'glücklicherweise', 'gänzlich', 'hab', 'habe', 'haben', 'haette', 'hast', 'hat', 'hatte', 'hatten', 'hattest', 'hattet', 'heraus', 'herein', 'hier', 'hier', 'hinter', 'hiermit', 'hiesige', 'hin', 'hinein', 'hinten', 'hinter', 'hinterher', 'http', 'hätt', 'hätte', 'hätten', 'höchstens', 'ich', 'igitt', 'ihm', 'ihn', 'ihnen', 'ihr', 'ihre', 'ihrem', 'ihren', 'ihrer', 'ihres', 'im', 'immer', 'immerhin', 'in', 'indem', 'indessen', 'infolge', 'innen', 'innerhalb', 'ins', 'insofern', 'inzwischen', 'irgend', 'irgendeine', 'irgendwas', 'irgendwen', 'irgendwer', 'irgendwie', 'irgendwo', 'ist', 'ja', 'je', 'jed', 'jede', 'jedem', 'jeden', 'jedenfalls', 'jeder', 'jederlei', 'jedes', 'jedoch', 'jemand', 'jene', 'jenem', 'jenen', 'jener', 'jenes', 'jenseits', 'jetzt', 'jährig', 'jährige', 'jährigen', 'jähriges', 'kam', 'kann', 'kannst', 'kaum', 'kein', 'keine', 'keinem', 'keinen', 'keiner', 'keinerlei', 'keines', 'keineswegs', 'klar', 'klare', 'klaren', 'klares', 'klein', 'kleinen', 'kleiner', 'kleines', 'koennen', 'koennt', 'koennte', 'koennten', 'komme', 'kommen', 'kommt', 'konkret', 'konkrete', 'konkreten', 'konkreter', 'konkretes', 'können', 'könnt', 'künftig', 'leider', 'machen', 'man', 'manche', 'manchem', 'manchen', 'mancher', 'mancherorts', 'manches', 'manchmal', 'mehr', 'mehrere', 'mein', 'meine', 'meinem', 'meinen', 'meiner', 'meines', 'mich', 'mir', 'mit', 'mithin', 'muessen', 'muesst', 'muesste', 'muss', 'musst', 'musste', 'mussten', 'muß', 'mußt', 'müssen', 'müsste', 'müssten', 'müßt', 'müßte', 'nach', 'nachdem', 'nachher', 'nachhinein', 'nahm', 'natürlich', 'neben', 'nebenan', 'nehmen', 'nein', 'nicht', 'nichts', 'nie', 'niemals', 'niemand', 'nirgends', 'nirgendwo', 'noch', 'nun', 'nur', 'nächste', 'nämlich', 'nötigenfalls', 'ob', 'oben', 'oberhalb', 'obgleich', 'obschon', 'obwohl', 'oder', 'oft', 'per', 'plötzlich', 'schließlich', 'schon', 'sehr', 'sehrwohl', 'seid', 'sein', 'seine', 'seinem', 'seinen', 'seiner', 'seines', 'seit', 'seitdem', 'seither', 'selber', 'selbst', 'sich', 'sicher', 'sicherlich', 'sie', 'sind', 'so', 'sobald', 'sodass', 'sodaß', 'soeben', 'sofern', 'sofort', 'sogar', 'solange', 'solch', 'solche', 'solchem', 'solchen', 'solcher', 'solches', 'soll', 'sollen', 'sollst', 'sollt', 'sollte', 'sollten', 'solltest', 'somit', 'sondern', 'sonst', 'sonstwo', 'sooft', 'soviel', 'soweit', 'sowie', 'sowohl', 'tatsächlich', 'tatsächlichen', 'tatsächlicher', 'tatsächliches', 'trotzdem', 'ueber', 'um', 'umso', 'unbedingt', 'und', 'unmöglich', 'unmögliche', 'unmöglichen', 'unmöglicher', 'uns', 'unser', 'unser', 'unsere', 'unsere', 'unserem', 'unseren', 'unserer', 'unseres', 'unter', 'usw', 'viel', 'viele', 'vielen', 'vieler', 'vieles', 'vielleicht', 'vielmals', 'vom', 'von', 'vor', 'voran', 'vorher', 'vorüber', 'völlig', 'wann', 'war', 'waren', 'warst', 'warum', 'was', 'weder', 'weil', 'weiter', 'weitere', 'weiterem', 'weiteren', 'weiterer', 'weiteres', 'weiterhin', 'weiß', 'welche', 'welchem', 'welchen', 'welcher', 'welches', 'wem', 'wen', 'wenig', 'wenige', 'weniger', 'wenigstens', 'wenn', 'wenngleich', 'wer', 'werde', 'werden', 'werdet', 'weshalb', 'wessen', 'wichtig', 'wie', 'wieder', 'wieso', 'wieviel', 'wiewohl', 'will', 'willst', 'wir', 'wird', 'wirklich', 'wirst', 'wo', 'wodurch', 'wogegen', 'woher', 'wohin', 'wohingegen', 'wohl', 'wohlweislich', 'womit', 'woraufhin', 'woraus', 'worin', 'wurde', 'wurden', 'während', 'währenddessen', 'wär', 'wäre', 'wären', 'würde', 'würden', 'z.B.', 'zB', 'zahlreich', 'zeitweise', 'zu', 'zudem', 'zuerst', 'zufolge', 'zugleich', 'zuletzt', 'zum', 'zumal', 'zur', 'zurück', 'zusammen', 'zuviel', 'zwar', 'zwischen', 'ähnlich', 'übel', 'über', 'überall', 'überallhin', 'überdies', 'übermorgen', 'übrig', 'übrigens']\n"
     ]
    }
   ],
   "source": [
    "print(stop_words)"
   ]
  },
  {
   "cell_type": "markdown",
   "id": "a12c363c",
   "metadata": {},
   "source": [
    "## Extract features from 'title' "
   ]
  },
  {
   "cell_type": "code",
   "execution_count": 7,
   "id": "cd42c0db",
   "metadata": {},
   "outputs": [],
   "source": [
    "from sklearn.feature_extraction.text import CountVectorizer"
   ]
  },
  {
   "cell_type": "code",
   "execution_count": 8,
   "id": "38ab615c",
   "metadata": {},
   "outputs": [],
   "source": [
    "cv = CountVectorizer(max_df=0.95, min_df=2, stop_words=stop_words)"
   ]
  },
  {
   "cell_type": "code",
   "execution_count": 9,
   "id": "a628f0d2",
   "metadata": {},
   "outputs": [
    {
     "name": "stderr",
     "output_type": "stream",
     "text": [
      "C:\\Users\\manuela.rink\\anaconda3\\envs\\nlp\\Lib\\site-packages\\sklearn\\feature_extraction\\text.py:409: UserWarning: Your stop_words may be inconsistent with your preprocessing. Tokenizing the stop words generated tokens ['bsp', 'zb'] not in stop_words.\n",
      "  warnings.warn(\n"
     ]
    }
   ],
   "source": [
    "# create Document-Term-Matrix\n",
    "dtm = cv.fit_transform(train['title'])"
   ]
  },
  {
   "cell_type": "code",
   "execution_count": 10,
   "id": "faba69b8",
   "metadata": {},
   "outputs": [
    {
     "data": {
      "text/plain": [
       "<54010x21586 sparse matrix of type '<class 'numpy.int64'>'\n",
       "\twith 277413 stored elements in Compressed Sparse Row format>"
      ]
     },
     "execution_count": 10,
     "metadata": {},
     "output_type": "execute_result"
    }
   ],
   "source": [
    "dtm"
   ]
  },
  {
   "cell_type": "code",
   "execution_count": 11,
   "id": "3f48b861",
   "metadata": {},
   "outputs": [],
   "source": [
    "from sklearn.decomposition import LatentDirichletAllocation"
   ]
  },
  {
   "cell_type": "code",
   "execution_count": 12,
   "id": "fdf60b9b",
   "metadata": {},
   "outputs": [
    {
     "data": {
      "text/html": [
       "<style>#sk-container-id-1 {color: black;background-color: white;}#sk-container-id-1 pre{padding: 0;}#sk-container-id-1 div.sk-toggleable {background-color: white;}#sk-container-id-1 label.sk-toggleable__label {cursor: pointer;display: block;width: 100%;margin-bottom: 0;padding: 0.3em;box-sizing: border-box;text-align: center;}#sk-container-id-1 label.sk-toggleable__label-arrow:before {content: \"▸\";float: left;margin-right: 0.25em;color: #696969;}#sk-container-id-1 label.sk-toggleable__label-arrow:hover:before {color: black;}#sk-container-id-1 div.sk-estimator:hover label.sk-toggleable__label-arrow:before {color: black;}#sk-container-id-1 div.sk-toggleable__content {max-height: 0;max-width: 0;overflow: hidden;text-align: left;background-color: #f0f8ff;}#sk-container-id-1 div.sk-toggleable__content pre {margin: 0.2em;color: black;border-radius: 0.25em;background-color: #f0f8ff;}#sk-container-id-1 input.sk-toggleable__control:checked~div.sk-toggleable__content {max-height: 200px;max-width: 100%;overflow: auto;}#sk-container-id-1 input.sk-toggleable__control:checked~label.sk-toggleable__label-arrow:before {content: \"▾\";}#sk-container-id-1 div.sk-estimator input.sk-toggleable__control:checked~label.sk-toggleable__label {background-color: #d4ebff;}#sk-container-id-1 div.sk-label input.sk-toggleable__control:checked~label.sk-toggleable__label {background-color: #d4ebff;}#sk-container-id-1 input.sk-hidden--visually {border: 0;clip: rect(1px 1px 1px 1px);clip: rect(1px, 1px, 1px, 1px);height: 1px;margin: -1px;overflow: hidden;padding: 0;position: absolute;width: 1px;}#sk-container-id-1 div.sk-estimator {font-family: monospace;background-color: #f0f8ff;border: 1px dotted black;border-radius: 0.25em;box-sizing: border-box;margin-bottom: 0.5em;}#sk-container-id-1 div.sk-estimator:hover {background-color: #d4ebff;}#sk-container-id-1 div.sk-parallel-item::after {content: \"\";width: 100%;border-bottom: 1px solid gray;flex-grow: 1;}#sk-container-id-1 div.sk-label:hover label.sk-toggleable__label {background-color: #d4ebff;}#sk-container-id-1 div.sk-serial::before {content: \"\";position: absolute;border-left: 1px solid gray;box-sizing: border-box;top: 0;bottom: 0;left: 50%;z-index: 0;}#sk-container-id-1 div.sk-serial {display: flex;flex-direction: column;align-items: center;background-color: white;padding-right: 0.2em;padding-left: 0.2em;position: relative;}#sk-container-id-1 div.sk-item {position: relative;z-index: 1;}#sk-container-id-1 div.sk-parallel {display: flex;align-items: stretch;justify-content: center;background-color: white;position: relative;}#sk-container-id-1 div.sk-item::before, #sk-container-id-1 div.sk-parallel-item::before {content: \"\";position: absolute;border-left: 1px solid gray;box-sizing: border-box;top: 0;bottom: 0;left: 50%;z-index: -1;}#sk-container-id-1 div.sk-parallel-item {display: flex;flex-direction: column;z-index: 1;position: relative;background-color: white;}#sk-container-id-1 div.sk-parallel-item:first-child::after {align-self: flex-end;width: 50%;}#sk-container-id-1 div.sk-parallel-item:last-child::after {align-self: flex-start;width: 50%;}#sk-container-id-1 div.sk-parallel-item:only-child::after {width: 0;}#sk-container-id-1 div.sk-dashed-wrapped {border: 1px dashed gray;margin: 0 0.4em 0.5em 0.4em;box-sizing: border-box;padding-bottom: 0.4em;background-color: white;}#sk-container-id-1 div.sk-label label {font-family: monospace;font-weight: bold;display: inline-block;line-height: 1.2em;}#sk-container-id-1 div.sk-label-container {text-align: center;}#sk-container-id-1 div.sk-container {/* jupyter's `normalize.less` sets `[hidden] { display: none; }` but bootstrap.min.css set `[hidden] { display: none !important; }` so we also need the `!important` here to be able to override the default hidden behavior on the sphinx rendered scikit-learn.org. See: https://github.com/scikit-learn/scikit-learn/issues/21755 */display: inline-block !important;position: relative;}#sk-container-id-1 div.sk-text-repr-fallback {display: none;}</style><div id=\"sk-container-id-1\" class=\"sk-top-container\"><div class=\"sk-text-repr-fallback\"><pre>LatentDirichletAllocation(n_components=7, random_state=42)</pre><b>In a Jupyter environment, please rerun this cell to show the HTML representation or trust the notebook. <br />On GitHub, the HTML representation is unable to render, please try loading this page with nbviewer.org.</b></div><div class=\"sk-container\" hidden><div class=\"sk-item\"><div class=\"sk-estimator sk-toggleable\"><input class=\"sk-toggleable__control sk-hidden--visually\" id=\"sk-estimator-id-1\" type=\"checkbox\" checked><label for=\"sk-estimator-id-1\" class=\"sk-toggleable__label sk-toggleable__label-arrow\">LatentDirichletAllocation</label><div class=\"sk-toggleable__content\"><pre>LatentDirichletAllocation(n_components=7, random_state=42)</pre></div></div></div></div></div>"
      ],
      "text/plain": [
       "LatentDirichletAllocation(n_components=7, random_state=42)"
      ]
     },
     "execution_count": 12,
     "metadata": {},
     "output_type": "execute_result"
    }
   ],
   "source": [
    "lda = LatentDirichletAllocation(n_components=7, random_state=42)\n",
    "lda.fit(dtm)"
   ]
  },
  {
   "cell_type": "markdown",
   "id": "a2f3296f",
   "metadata": {},
   "source": [
    "## Analyse extracted features"
   ]
  },
  {
   "cell_type": "code",
   "execution_count": 13,
   "id": "44c85ba2",
   "metadata": {},
   "outputs": [
    {
     "data": {
      "text/plain": [
       "21586"
      ]
     },
     "execution_count": 13,
     "metadata": {},
     "output_type": "execute_result"
    }
   ],
   "source": [
    "len(cv.get_feature_names_out())"
   ]
  },
  {
   "cell_type": "code",
   "execution_count": 14,
   "id": "79a3b48a",
   "metadata": {},
   "outputs": [
    {
     "data": {
      "text/plain": [
       "array(['00', '000', '007', ..., 'или', 'российские', 'украинцы'],\n",
       "      dtype=object)"
      ]
     },
     "execution_count": 14,
     "metadata": {},
     "output_type": "execute_result"
    }
   ],
   "source": [
    "cv.get_feature_names_out()"
   ]
  },
  {
   "cell_type": "code",
   "execution_count": 15,
   "id": "6d276a41",
   "metadata": {},
   "outputs": [
    {
     "data": {
      "text/plain": [
       "7"
      ]
     },
     "execution_count": 15,
     "metadata": {},
     "output_type": "execute_result"
    }
   ],
   "source": [
    "len(lda.components_)"
   ]
  },
  {
   "cell_type": "code",
   "execution_count": 16,
   "id": "be61548c",
   "metadata": {},
   "outputs": [
    {
     "data": {
      "text/plain": [
       "array([[ 0.14285724, 45.00769289,  0.14285768, ...,  0.14285778,\n",
       "         0.14285741,  0.14285769],\n",
       "       [ 2.14265927, 67.73431258,  0.14285759, ...,  0.14285769,\n",
       "         0.14285737,  0.14285761],\n",
       "       [ 0.14285722, 42.82589072,  1.13971317, ...,  0.14285769,\n",
       "         0.14285738,  0.14285762],\n",
       "       ...,\n",
       "       [ 0.14285723, 50.65704713,  0.14285762, ...,  1.14272807,\n",
       "         0.14285739,  2.14285418],\n",
       "       [ 0.1430546 , 27.50387518,  0.14568351, ...,  0.14285777,\n",
       "         0.14285741,  0.14285769],\n",
       "       [ 0.14285723, 86.02621569,  1.14317286, ...,  1.14298333,\n",
       "         2.14285567,  0.14285762]])"
      ]
     },
     "execution_count": 16,
     "metadata": {},
     "output_type": "execute_result"
    }
   ],
   "source": [
    "lda.components_"
   ]
  },
  {
   "cell_type": "code",
   "execution_count": 17,
   "id": "45a65bd8",
   "metadata": {},
   "outputs": [
    {
     "data": {
      "text/plain": [
       "21586"
      ]
     },
     "execution_count": 17,
     "metadata": {},
     "output_type": "execute_result"
    }
   ],
   "source": [
    "len(lda.components_[0])"
   ]
  },
  {
   "cell_type": "markdown",
   "id": "9e30cf34",
   "metadata": {},
   "source": [
    "### Show most important words of first extracted topic"
   ]
  },
  {
   "cell_type": "code",
   "execution_count": 18,
   "id": "c617b9e0",
   "metadata": {},
   "outputs": [],
   "source": [
    "first_topic = lda.components_[0]"
   ]
  },
  {
   "cell_type": "code",
   "execution_count": 19,
   "id": "258f618e",
   "metadata": {},
   "outputs": [
    {
     "data": {
      "text/plain": [
       "array([ 4925, 16667, 15886, ..., 11657,  4025, 15841], dtype=int64)"
      ]
     },
     "execution_count": 19,
     "metadata": {},
     "output_type": "execute_result"
    }
   ],
   "source": [
    "first_topic.argsort() # returns indices of ascending sorted array values "
   ]
  },
  {
   "cell_type": "code",
   "execution_count": 20,
   "id": "5966880a",
   "metadata": {},
   "outputs": [],
   "source": [
    "# the last 10 entries are the 10 most important words for topic 1\n",
    "top_words_indices = first_topic.argsort()[-10:]"
   ]
  },
  {
   "cell_type": "code",
   "execution_count": 21,
   "id": "11648839",
   "metadata": {},
   "outputs": [
    {
     "name": "stdout",
     "output_type": "stream",
     "text": [
      "türkei\n",
      "dax\n",
      "kanzler\n",
      "nato\n",
      "gastbeitrag\n",
      "inflation\n",
      "klima\n",
      "marktbericht\n",
      "deutschland\n",
      "scholz\n"
     ]
    }
   ],
   "source": [
    "for index in top_words_indices:\n",
    "    print(cv.get_feature_names_out()[index])"
   ]
  },
  {
   "cell_type": "markdown",
   "id": "0d661247",
   "metadata": {},
   "source": [
    "### Show most important words of first extracted topic"
   ]
  },
  {
   "cell_type": "code",
   "execution_count": 22,
   "id": "f789d8f2",
   "metadata": {},
   "outputs": [
    {
     "name": "stdout",
     "output_type": "stream",
     "text": [
      "Die TOP-15 Wörter für das Thema #0\n",
      "['verletzt', 'fragen', 'fordert', 'steingart', 'gabor', 'türkei', 'dax', 'kanzler', 'nato', 'gastbeitrag', 'inflation', 'klima', 'marktbericht', 'deutschland', 'scholz']\n",
      "\n",
      "\n",
      "Die TOP-15 Wörter für das Thema #1\n",
      "['grüne', 'un', 'fdp', 'streit', 'lindner', 'eu', 'putin', 'tote', 'regierung', 'macht', 'habeck', 'ampel', 'spd', 'analyse', 'neue']\n",
      "\n",
      "\n",
      "Die TOP-15 Wörter für das Thema #2\n",
      "['jahre', 'gericht', 'israel', 'chef', 'haft', 'polizei', 'generation', 'letzte', 'biden', 'wegen', 'präsident', 'us', 'berlin', 'trump', 'ex']\n",
      "\n",
      "\n",
      "Die TOP-15 Wörter für das Thema #3\n",
      "['russischer', 'entwicklungen', 'kiew', 'putin', 'nachrichten', 'russen', 'stimmen', 'usa', 'invasion', 'us', 'lage', 'russland', 'russische', 'krieg', 'ukraine']\n",
      "\n",
      "\n",
      "Die TOP-15 Wörter für das Thema #4\n",
      "['scholz', 'neue', 'baerbock', 'moskau', 'g7', 'usa', 'deutschland', 'selenskyj', 'gipfel', 'china', 'liveblog', 'putin', 'russland', 'ukraine', 'eu']\n",
      "\n",
      "\n",
      "Die TOP-15 Wörter für das Thema #5\n",
      "['länder', 'deutsche', 'neue', 'berlin', 'bund', 'stream', 'bahn', 'ende', 'nord', 'news', 'deutschland', 'china', 'lauterbach', 'pandemie', 'corona']\n",
      "\n",
      "\n",
      "Die TOP-15 Wörter für das Thema #6\n",
      "['gewalt', 'ampel', 'sieg', 'gewinnt', 'merz', 'dfb', 'union', 'fußball', 'afd', 'cdu', 'bundesliga', 'euro', 'frauen', 'wm', 'bayern']\n",
      "\n",
      "\n"
     ]
    }
   ],
   "source": [
    "for index, topic in enumerate(lda.components_):\n",
    "    print(f'Die TOP-15 Wörter für das Thema #{index}')\n",
    "    print([cv.get_feature_names_out()[i] for i in topic.argsort()[-15:]])\n",
    "    print('\\n')"
   ]
  },
  {
   "cell_type": "markdown",
   "id": "a0973fc9",
   "metadata": {},
   "source": [
    "### Get topics with highest probability for news items in train data"
   ]
  },
  {
   "cell_type": "code",
   "execution_count": 23,
   "id": "0f46f47f",
   "metadata": {},
   "outputs": [
    {
     "data": {
      "text/plain": [
       "(54010, 7)"
      ]
     },
     "execution_count": 23,
     "metadata": {},
     "output_type": "execute_result"
    }
   ],
   "source": [
    "topic_results = lda.transform(dtm)\n",
    "topic_results.shape"
   ]
  },
  {
   "cell_type": "code",
   "execution_count": 24,
   "id": "823c7020",
   "metadata": {},
   "outputs": [
    {
     "data": {
      "text/plain": [
       "array([0.30036, 0.02042, 0.02041, 0.39232, 0.2256 , 0.02043, 0.02046])"
      ]
     },
     "execution_count": 24,
     "metadata": {},
     "output_type": "execute_result"
    }
   ],
   "source": [
    "topic_results[0].round(5)"
   ]
  },
  {
   "cell_type": "code",
   "execution_count": 25,
   "id": "f68cacd0",
   "metadata": {},
   "outputs": [
    {
     "data": {
      "text/plain": [
       "3"
      ]
     },
     "execution_count": 25,
     "metadata": {},
     "output_type": "execute_result"
    }
   ],
   "source": [
    "topic_results[0].argmax()"
   ]
  },
  {
   "cell_type": "code",
   "execution_count": 26,
   "id": "6e11fb89",
   "metadata": {},
   "outputs": [],
   "source": [
    "# save topic to train dataset\n",
    "train['topic'] = topic_results.argmax(axis=1)"
   ]
  },
  {
   "cell_type": "code",
   "execution_count": 27,
   "id": "7eb2c522",
   "metadata": {},
   "outputs": [
    {
     "data": {
      "text/html": [
       "<div>\n",
       "<style scoped>\n",
       "    .dataframe tbody tr th:only-of-type {\n",
       "        vertical-align: middle;\n",
       "    }\n",
       "\n",
       "    .dataframe tbody tr th {\n",
       "        vertical-align: top;\n",
       "    }\n",
       "\n",
       "    .dataframe thead th {\n",
       "        text-align: right;\n",
       "    }\n",
       "</style>\n",
       "<table border=\"1\" class=\"dataframe\">\n",
       "  <thead>\n",
       "    <tr style=\"text-align: right;\">\n",
       "      <th></th>\n",
       "      <th>date</th>\n",
       "      <th>title</th>\n",
       "      <th>description</th>\n",
       "      <th>category</th>\n",
       "      <th>text</th>\n",
       "      <th>source</th>\n",
       "      <th>title_description_text</th>\n",
       "      <th>topic</th>\n",
       "    </tr>\n",
       "  </thead>\n",
       "  <tbody>\n",
       "    <tr>\n",
       "      <th>0</th>\n",
       "      <td>2022-12-18 12:22:42</td>\n",
       "      <td>Potsdam: Ausstellung befasst sich mit Justizmi...</td>\n",
       "      <td>NaN</td>\n",
       "      <td>News</td>\n",
       "      <td>NaN</td>\n",
       "      <td>Zeit</td>\n",
       "      <td>Potsdam: Ausstellung befasst sich mit Justizmi...</td>\n",
       "      <td>3</td>\n",
       "    </tr>\n",
       "    <tr>\n",
       "      <th>1</th>\n",
       "      <td>2023-07-16 10:51:03</td>\n",
       "      <td>Heizdebakel und AfD-Hoch - Auf Sommerreise bek...</td>\n",
       "      <td>Sommer des Missvergnügens: Zur Halbzeit der Ko...</td>\n",
       "      <td>Deutschland</td>\n",
       "      <td>NaN</td>\n",
       "      <td>Focus</td>\n",
       "      <td>Heizdebakel und AfD-Hoch - Auf Sommerreise bek...</td>\n",
       "      <td>1</td>\n",
       "    </tr>\n",
       "    <tr>\n",
       "      <th>2</th>\n",
       "      <td>2022-09-26 20:36:37</td>\n",
       "      <td>Allianz der Ausgestoßenen - Wie der Iran Putin...</td>\n",
       "      <td>Russland kann viel vom stark sanktionierten Ir...</td>\n",
       "      <td>Ukraine-Krise</td>\n",
       "      <td>NaN</td>\n",
       "      <td>Focus</td>\n",
       "      <td>Allianz der Ausgestoßenen - Wie der Iran Putin...</td>\n",
       "      <td>4</td>\n",
       "    </tr>\n",
       "    <tr>\n",
       "      <th>3</th>\n",
       "      <td>2022-08-04 08:23:25</td>\n",
       "      <td>Im Newsticker - China-Taiwan-Konflikt: China s...</td>\n",
       "      <td>China reagiert wütend auf den Besuch von Nancy...</td>\n",
       "      <td>Ausland</td>\n",
       "      <td>NaN</td>\n",
       "      <td>Focus</td>\n",
       "      <td>Im Newsticker - China-Taiwan-Konflikt: China s...</td>\n",
       "      <td>4</td>\n",
       "    </tr>\n",
       "    <tr>\n",
       "      <th>4</th>\n",
       "      <td>2023-03-08 02:37:24</td>\n",
       "      <td>US-Regierung erwägt Inhaftierung von Migranten...</td>\n",
       "      <td>Bald soll eine kontroverse US-Asylbeschränkung...</td>\n",
       "      <td>Missing</td>\n",
       "      <td>NaN</td>\n",
       "      <td>Tagesschau</td>\n",
       "      <td>US-Regierung erwägt Inhaftierung von Migranten...</td>\n",
       "      <td>3</td>\n",
       "    </tr>\n",
       "  </tbody>\n",
       "</table>\n",
       "</div>"
      ],
      "text/plain": [
       "                  date                                              title  \\\n",
       "0  2022-12-18 12:22:42  Potsdam: Ausstellung befasst sich mit Justizmi...   \n",
       "1  2023-07-16 10:51:03  Heizdebakel und AfD-Hoch - Auf Sommerreise bek...   \n",
       "2  2022-09-26 20:36:37  Allianz der Ausgestoßenen - Wie der Iran Putin...   \n",
       "3  2022-08-04 08:23:25  Im Newsticker - China-Taiwan-Konflikt: China s...   \n",
       "4  2023-03-08 02:37:24  US-Regierung erwägt Inhaftierung von Migranten...   \n",
       "\n",
       "                                         description       category  text  \\\n",
       "0                                                NaN           News   NaN   \n",
       "1  Sommer des Missvergnügens: Zur Halbzeit der Ko...    Deutschland   NaN   \n",
       "2  Russland kann viel vom stark sanktionierten Ir...  Ukraine-Krise   NaN   \n",
       "3  China reagiert wütend auf den Besuch von Nancy...        Ausland   NaN   \n",
       "4  Bald soll eine kontroverse US-Asylbeschränkung...        Missing   NaN   \n",
       "\n",
       "       source                             title_description_text  topic  \n",
       "0        Zeit  Potsdam: Ausstellung befasst sich mit Justizmi...      3  \n",
       "1       Focus  Heizdebakel und AfD-Hoch - Auf Sommerreise bek...      1  \n",
       "2       Focus  Allianz der Ausgestoßenen - Wie der Iran Putin...      4  \n",
       "3       Focus  Im Newsticker - China-Taiwan-Konflikt: China s...      4  \n",
       "4  Tagesschau  US-Regierung erwägt Inhaftierung von Migranten...      3  "
      ]
     },
     "execution_count": 27,
     "metadata": {},
     "output_type": "execute_result"
    }
   ],
   "source": [
    "train.head()"
   ]
  },
  {
   "cell_type": "code",
   "execution_count": 28,
   "id": "78051ef9",
   "metadata": {},
   "outputs": [],
   "source": [
    "#Save result to csv\n",
    "train.to_csv('train_lda_topics_7.csv')"
   ]
  },
  {
   "cell_type": "code",
   "execution_count": null,
   "id": "205360e6",
   "metadata": {},
   "outputs": [],
   "source": []
  }
 ],
 "metadata": {
  "kernelspec": {
   "display_name": "nlp",
   "language": "python",
   "name": "nlp"
  },
  "language_info": {
   "codemirror_mode": {
    "name": "ipython",
    "version": 3
   },
   "file_extension": ".py",
   "mimetype": "text/x-python",
   "name": "python",
   "nbconvert_exporter": "python",
   "pygments_lexer": "ipython3",
   "version": "3.11.5"
  }
 },
 "nbformat": 4,
 "nbformat_minor": 5
}
