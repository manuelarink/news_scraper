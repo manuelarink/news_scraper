{
 "cells": [
  {
   "cell_type": "markdown",
   "id": "767d1c1f",
   "metadata": {},
   "source": [
    "# Exploratory Data Analysis"
   ]
  },
  {
   "cell_type": "code",
   "execution_count": 1,
   "id": "f1b6dbe6",
   "metadata": {},
   "outputs": [],
   "source": [
    "import pandas as pd\n",
    "import numpy as np\n",
    "import matplotlib.pyplot as plt\n",
    "import seaborn as sns\n",
    "import sqlalchemy as sql"
   ]
  },
  {
   "cell_type": "markdown",
   "id": "88ed8222",
   "metadata": {},
   "source": [
    "### Load the cleaned data from file"
   ]
  },
  {
   "cell_type": "code",
   "execution_count": 2,
   "id": "ab3d1a5c",
   "metadata": {},
   "outputs": [],
   "source": [
    "news = pd.read_csv('news.csv')"
   ]
  },
  {
   "cell_type": "code",
   "execution_count": 3,
   "id": "e0848d95",
   "metadata": {},
   "outputs": [
    {
     "data": {
      "text/html": [
       "<div>\n",
       "<style scoped>\n",
       "    .dataframe tbody tr th:only-of-type {\n",
       "        vertical-align: middle;\n",
       "    }\n",
       "\n",
       "    .dataframe tbody tr th {\n",
       "        vertical-align: top;\n",
       "    }\n",
       "\n",
       "    .dataframe thead th {\n",
       "        text-align: right;\n",
       "    }\n",
       "</style>\n",
       "<table border=\"1\" class=\"dataframe\">\n",
       "  <thead>\n",
       "    <tr style=\"text-align: right;\">\n",
       "      <th></th>\n",
       "      <th>date</th>\n",
       "      <th>title</th>\n",
       "      <th>description</th>\n",
       "      <th>category</th>\n",
       "      <th>text</th>\n",
       "      <th>source</th>\n",
       "    </tr>\n",
       "  </thead>\n",
       "  <tbody>\n",
       "    <tr>\n",
       "      <th>67760</th>\n",
       "      <td>2023-10-04 08:31:26</td>\n",
       "      <td>So sieht eine Moschee von innen aus</td>\n",
       "      <td>Tag der offenen Moschee</td>\n",
       "      <td>Nachrichten | Panorama</td>\n",
       "      <td>NaN</td>\n",
       "      <td>ZDF heute</td>\n",
       "    </tr>\n",
       "    <tr>\n",
       "      <th>67759</th>\n",
       "      <td>2023-10-04 08:27:00</td>\n",
       "      <td>Auf Antrag des ultrakonservativen Abgeordneten...</td>\n",
       "      <td>Auf Antrag des ultrakonservativen Abgeordneten...</td>\n",
       "      <td>NaN</td>\n",
       "      <td>NaN</td>\n",
       "      <td>taz</td>\n",
       "    </tr>\n",
       "    <tr>\n",
       "      <th>67758</th>\n",
       "      <td>2023-10-04 08:25:31</td>\n",
       "      <td>Schweigebefehl gegen Trump - Richter verbietet...</td>\n",
       "      <td>New Yorker Richter reagieren: Nach einem abfäl...</td>\n",
       "      <td>Ausland</td>\n",
       "      <td>NaN</td>\n",
       "      <td>Focus</td>\n",
       "    </tr>\n",
       "    <tr>\n",
       "      <th>67757</th>\n",
       "      <td>2023-10-04 08:22:00</td>\n",
       "      <td>McCarthy als Vorsitzender abgewählt</td>\n",
       "      <td>Einmalig in der US-Geschichte: Der Vorsitzende...</td>\n",
       "      <td>US-Repräsentantenhaus</td>\n",
       "      <td>NaN</td>\n",
       "      <td>ZDF heute</td>\n",
       "    </tr>\n",
       "    <tr>\n",
       "      <th>67756</th>\n",
       "      <td>2023-10-04 08:09:00</td>\n",
       "      <td>Deutsche Lehrer gegen Handyverbot an Schulen</td>\n",
       "      <td>Andere Länder machen es vor, aber an deutschen...</td>\n",
       "      <td>Nach britischem Vorstoß</td>\n",
       "      <td>NaN</td>\n",
       "      <td>ZDF heute</td>\n",
       "    </tr>\n",
       "  </tbody>\n",
       "</table>\n",
       "</div>"
      ],
      "text/plain": [
       "                      date                                              title  \\\n",
       "67760  2023-10-04 08:31:26                So sieht eine Moschee von innen aus   \n",
       "67759  2023-10-04 08:27:00  Auf Antrag des ultrakonservativen Abgeordneten...   \n",
       "67758  2023-10-04 08:25:31  Schweigebefehl gegen Trump - Richter verbietet...   \n",
       "67757  2023-10-04 08:22:00                McCarthy als Vorsitzender abgewählt   \n",
       "67756  2023-10-04 08:09:00       Deutsche Lehrer gegen Handyverbot an Schulen   \n",
       "\n",
       "                                             description  \\\n",
       "67760                            Tag der offenen Moschee   \n",
       "67759  Auf Antrag des ultrakonservativen Abgeordneten...   \n",
       "67758  New Yorker Richter reagieren: Nach einem abfäl...   \n",
       "67757  Einmalig in der US-Geschichte: Der Vorsitzende...   \n",
       "67756  Andere Länder machen es vor, aber an deutschen...   \n",
       "\n",
       "                      category  text     source  \n",
       "67760   Nachrichten | Panorama   NaN  ZDF heute  \n",
       "67759                      NaN   NaN        taz  \n",
       "67758                  Ausland   NaN      Focus  \n",
       "67757    US-Repräsentantenhaus   NaN  ZDF heute  \n",
       "67756  Nach britischem Vorstoß   NaN  ZDF heute  "
      ]
     },
     "execution_count": 3,
     "metadata": {},
     "output_type": "execute_result"
    }
   ],
   "source": [
    "news.sort_values(by='date', ascending=False, inplace=True)\n",
    "news.head()"
   ]
  },
  {
   "cell_type": "markdown",
   "id": "acfa8d5a",
   "metadata": {},
   "source": [
    "### Show news entries over time"
   ]
  },
  {
   "cell_type": "code",
   "execution_count": 4,
   "id": "f2f5884f",
   "metadata": {},
   "outputs": [
    {
     "name": "stdout",
     "output_type": "stream",
     "text": [
      "0\n"
     ]
    }
   ],
   "source": [
    "print(news['date'].isnull().sum())"
   ]
  },
  {
   "cell_type": "code",
   "execution_count": null,
   "id": "61795dca",
   "metadata": {},
   "outputs": [],
   "source": []
  },
  {
   "cell_type": "code",
   "execution_count": null,
   "id": "2d3b8969",
   "metadata": {},
   "outputs": [],
   "source": []
  }
 ],
 "metadata": {
  "kernelspec": {
   "display_name": "nlp",
   "language": "python",
   "name": "nlp"
  },
  "language_info": {
   "codemirror_mode": {
    "name": "ipython",
    "version": 3
   },
   "file_extension": ".py",
   "mimetype": "text/x-python",
   "name": "python",
   "nbconvert_exporter": "python",
   "pygments_lexer": "ipython3",
   "version": "3.11.5"
  }
 },
 "nbformat": 4,
 "nbformat_minor": 5
}
