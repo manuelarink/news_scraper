{
 "cells": [
  {
   "cell_type": "markdown",
   "id": "767d1c1f",
   "metadata": {},
   "source": [
    "# Feature engineering for classification and topic modelling of news headlines"
   ]
  },
  {
   "cell_type": "markdown",
   "id": "c53ef551",
   "metadata": {},
   "source": [
    "As a first task we want to explore the different labels of category of the gathered news items. Missing values will be filled with 'Missing', rare labels will be grouped as 'Other'.\n",
    "In a later step we want to train a ML model for text classification to predict a category label (supervised learning) as well as clustering the news into different topics (unsupervised learning) and compare them with the labeled categories."
   ]
  },
  {
   "cell_type": "code",
   "execution_count": 1,
   "id": "f1b6dbe6",
   "metadata": {},
   "outputs": [],
   "source": [
    "import pandas as pd\n",
    "import numpy as np\n",
    "import matplotlib.pyplot as plt\n",
    "import seaborn as sns\n",
    "import sqlalchemy as sql\n",
    "\n",
    "from sklearn.model_selection import train_test_split"
   ]
  },
  {
   "cell_type": "markdown",
   "id": "88ed8222",
   "metadata": {},
   "source": [
    "### Load the cleaned data from file"
   ]
  },
  {
   "cell_type": "code",
   "execution_count": 2,
   "id": "ab3d1a5c",
   "metadata": {},
   "outputs": [],
   "source": [
    "news = pd.read_csv('../eda/news.csv')"
   ]
  },
  {
   "cell_type": "code",
   "execution_count": 3,
   "id": "e0848d95",
   "metadata": {},
   "outputs": [
    {
     "data": {
      "text/html": [
       "<div>\n",
       "<style scoped>\n",
       "    .dataframe tbody tr th:only-of-type {\n",
       "        vertical-align: middle;\n",
       "    }\n",
       "\n",
       "    .dataframe tbody tr th {\n",
       "        vertical-align: top;\n",
       "    }\n",
       "\n",
       "    .dataframe thead th {\n",
       "        text-align: right;\n",
       "    }\n",
       "</style>\n",
       "<table border=\"1\" class=\"dataframe\">\n",
       "  <thead>\n",
       "    <tr style=\"text-align: right;\">\n",
       "      <th></th>\n",
       "      <th>date</th>\n",
       "      <th>title</th>\n",
       "      <th>description</th>\n",
       "      <th>category</th>\n",
       "      <th>text</th>\n",
       "      <th>source</th>\n",
       "    </tr>\n",
       "  </thead>\n",
       "  <tbody>\n",
       "    <tr>\n",
       "      <th>67501</th>\n",
       "      <td>2023-09-29 11:30:00</td>\n",
       "      <td>Escobar - Mein Vater, der Drogenbaron (4/4)</td>\n",
       "      <td>Er trägt den Namen des grausamsten Drogenbosse...</td>\n",
       "      <td>ZDFinfo Doku</td>\n",
       "      <td>NaN</td>\n",
       "      <td>ZDF heute</td>\n",
       "    </tr>\n",
       "    <tr>\n",
       "      <th>67500</th>\n",
       "      <td>2023-09-29 09:05:24</td>\n",
       "      <td>Liveblog: ++ Selenskyj: Haben NATO-Mitgliedsch...</td>\n",
       "      <td>Nach dem Besuch von NATO-Generalsekretär Stolt...</td>\n",
       "      <td>NaN</td>\n",
       "      <td>NaN</td>\n",
       "      <td>Tagesschau</td>\n",
       "    </tr>\n",
       "    <tr>\n",
       "      <th>67499</th>\n",
       "      <td>2023-09-29 09:02:20</td>\n",
       "      <td>Biden sieht Demokratie in Gefahr - „Etwas Gefä...</td>\n",
       "      <td>US-Präsident Joe Biden sieht die Demokratie du...</td>\n",
       "      <td>US-Wahl</td>\n",
       "      <td>NaN</td>\n",
       "      <td>Focus</td>\n",
       "    </tr>\n",
       "    <tr>\n",
       "      <th>67498</th>\n",
       "      <td>2023-09-29 08:44:40</td>\n",
       "      <td>Arme Eltern sollen mit Kindern zu McDonald&amp;#03...</td>\n",
       "      <td>Österreichs Bundeskanzler Nehammer in der Krit...</td>\n",
       "      <td>Ausland</td>\n",
       "      <td>NaN</td>\n",
       "      <td>Focus</td>\n",
       "    </tr>\n",
       "    <tr>\n",
       "      <th>67497</th>\n",
       "      <td>2023-09-29 08:39:00</td>\n",
       "      <td>Beim VfL Bochum kickt die Nachhaltigkeit mit</td>\n",
       "      <td>Grüne Politik, Klimadiskussionen, nachhaltiges...</td>\n",
       "      <td>Bundesligist für Preis nominiert</td>\n",
       "      <td>NaN</td>\n",
       "      <td>ZDF heute</td>\n",
       "    </tr>\n",
       "  </tbody>\n",
       "</table>\n",
       "</div>"
      ],
      "text/plain": [
       "                      date                                              title  \\\n",
       "67501  2023-09-29 11:30:00        Escobar - Mein Vater, der Drogenbaron (4/4)   \n",
       "67500  2023-09-29 09:05:24  Liveblog: ++ Selenskyj: Haben NATO-Mitgliedsch...   \n",
       "67499  2023-09-29 09:02:20  Biden sieht Demokratie in Gefahr - „Etwas Gefä...   \n",
       "67498  2023-09-29 08:44:40  Arme Eltern sollen mit Kindern zu McDonald&#03...   \n",
       "67497  2023-09-29 08:39:00       Beim VfL Bochum kickt die Nachhaltigkeit mit   \n",
       "\n",
       "                                             description  \\\n",
       "67501  Er trägt den Namen des grausamsten Drogenbosse...   \n",
       "67500  Nach dem Besuch von NATO-Generalsekretär Stolt...   \n",
       "67499  US-Präsident Joe Biden sieht die Demokratie du...   \n",
       "67498  Österreichs Bundeskanzler Nehammer in der Krit...   \n",
       "67497  Grüne Politik, Klimadiskussionen, nachhaltiges...   \n",
       "\n",
       "                               category  text      source  \n",
       "67501                      ZDFinfo Doku   NaN   ZDF heute  \n",
       "67500                               NaN   NaN  Tagesschau  \n",
       "67499                           US-Wahl   NaN       Focus  \n",
       "67498                           Ausland   NaN       Focus  \n",
       "67497  Bundesligist für Preis nominiert   NaN   ZDF heute  "
      ]
     },
     "execution_count": 3,
     "metadata": {},
     "output_type": "execute_result"
    }
   ],
   "source": [
    "news.sort_values(by='date', ascending=False, inplace=True)\n",
    "news.head()"
   ]
  },
  {
   "cell_type": "markdown",
   "id": "615b1d89",
   "metadata": {},
   "source": [
    "### Split the data into train and test set"
   ]
  },
  {
   "cell_type": "code",
   "execution_count": 4,
   "id": "afab5f5f",
   "metadata": {},
   "outputs": [],
   "source": [
    "train, test = train_test_split(news, test_size=0.2, random_state=42)"
   ]
  },
  {
   "cell_type": "code",
   "execution_count": 5,
   "id": "9b81615b",
   "metadata": {},
   "outputs": [
    {
     "data": {
      "text/html": [
       "<div>\n",
       "<style scoped>\n",
       "    .dataframe tbody tr th:only-of-type {\n",
       "        vertical-align: middle;\n",
       "    }\n",
       "\n",
       "    .dataframe tbody tr th {\n",
       "        vertical-align: top;\n",
       "    }\n",
       "\n",
       "    .dataframe thead th {\n",
       "        text-align: right;\n",
       "    }\n",
       "</style>\n",
       "<table border=\"1\" class=\"dataframe\">\n",
       "  <thead>\n",
       "    <tr style=\"text-align: right;\">\n",
       "      <th></th>\n",
       "      <th>date</th>\n",
       "      <th>title</th>\n",
       "      <th>description</th>\n",
       "      <th>category</th>\n",
       "      <th>text</th>\n",
       "      <th>source</th>\n",
       "    </tr>\n",
       "  </thead>\n",
       "  <tbody>\n",
       "    <tr>\n",
       "      <th>51787</th>\n",
       "      <td>2023-05-04 17:18:27</td>\n",
       "      <td>Fans bemerken Fehler sofort - FDP-Minister fei...</td>\n",
       "      <td>Justizminister Marco Buschmann hat mit einem V...</td>\n",
       "      <td>Panorama</td>\n",
       "      <td>NaN</td>\n",
       "      <td>Focus</td>\n",
       "    </tr>\n",
       "    <tr>\n",
       "      <th>26914</th>\n",
       "      <td>2022-10-24 12:00:00</td>\n",
       "      <td>\"Rishi Sunak ist auf der Siegerstraße\"</td>\n",
       "      <td>Auf der Suche nach einer Nachfolge für das Amt...</td>\n",
       "      <td>ZDF-Korrespondent Stamm</td>\n",
       "      <td>NaN</td>\n",
       "      <td>ZDF heute</td>\n",
       "    </tr>\n",
       "    <tr>\n",
       "      <th>49420</th>\n",
       "      <td>2023-04-18 19:00:00</td>\n",
       "      <td>Nach Springer-Enthüllungen: Vom Clickbait-Boul...</td>\n",
       "      <td>In einem Interview verteidigte Autorin Nora Bo...</td>\n",
       "      <td>NaN</td>\n",
       "      <td>NaN</td>\n",
       "      <td>taz</td>\n",
       "    </tr>\n",
       "    <tr>\n",
       "      <th>50566</th>\n",
       "      <td>2023-04-25 16:44:58</td>\n",
       "      <td>Jetzt droht der Ausverkauf der nächsten deutsc...</td>\n",
       "      <td>Erfolgreich, traditionell, familienorientiert ...</td>\n",
       "      <td>Energie</td>\n",
       "      <td>NaN</td>\n",
       "      <td>Welt</td>\n",
       "    </tr>\n",
       "    <tr>\n",
       "      <th>56620</th>\n",
       "      <td>2023-06-12 10:08:32</td>\n",
       "      <td>UBS schließt Übernahme der Credit Suisse ab</td>\n",
       "      <td>Die Übernahme der Großbank Credit Suisse ist n...</td>\n",
       "      <td>NaN</td>\n",
       "      <td>NaN</td>\n",
       "      <td>Tagesschau</td>\n",
       "    </tr>\n",
       "  </tbody>\n",
       "</table>\n",
       "</div>"
      ],
      "text/plain": [
       "                      date                                              title  \\\n",
       "51787  2023-05-04 17:18:27  Fans bemerken Fehler sofort - FDP-Minister fei...   \n",
       "26914  2022-10-24 12:00:00             \"Rishi Sunak ist auf der Siegerstraße\"   \n",
       "49420  2023-04-18 19:00:00  Nach Springer-Enthüllungen: Vom Clickbait-Boul...   \n",
       "50566  2023-04-25 16:44:58  Jetzt droht der Ausverkauf der nächsten deutsc...   \n",
       "56620  2023-06-12 10:08:32        UBS schließt Übernahme der Credit Suisse ab   \n",
       "\n",
       "                                             description  \\\n",
       "51787  Justizminister Marco Buschmann hat mit einem V...   \n",
       "26914  Auf der Suche nach einer Nachfolge für das Amt...   \n",
       "49420  In einem Interview verteidigte Autorin Nora Bo...   \n",
       "50566  Erfolgreich, traditionell, familienorientiert ...   \n",
       "56620  Die Übernahme der Großbank Credit Suisse ist n...   \n",
       "\n",
       "                      category  text      source  \n",
       "51787                 Panorama   NaN       Focus  \n",
       "26914  ZDF-Korrespondent Stamm   NaN   ZDF heute  \n",
       "49420                      NaN   NaN         taz  \n",
       "50566                  Energie   NaN        Welt  \n",
       "56620                      NaN   NaN  Tagesschau  "
      ]
     },
     "execution_count": 5,
     "metadata": {},
     "output_type": "execute_result"
    }
   ],
   "source": [
    "train.head()"
   ]
  },
  {
   "cell_type": "code",
   "execution_count": 6,
   "id": "1341ac11",
   "metadata": {},
   "outputs": [
    {
     "data": {
      "text/html": [
       "<div>\n",
       "<style scoped>\n",
       "    .dataframe tbody tr th:only-of-type {\n",
       "        vertical-align: middle;\n",
       "    }\n",
       "\n",
       "    .dataframe tbody tr th {\n",
       "        vertical-align: top;\n",
       "    }\n",
       "\n",
       "    .dataframe thead th {\n",
       "        text-align: right;\n",
       "    }\n",
       "</style>\n",
       "<table border=\"1\" class=\"dataframe\">\n",
       "  <thead>\n",
       "    <tr style=\"text-align: right;\">\n",
       "      <th></th>\n",
       "      <th>date</th>\n",
       "      <th>title</th>\n",
       "      <th>description</th>\n",
       "      <th>category</th>\n",
       "      <th>text</th>\n",
       "      <th>source</th>\n",
       "    </tr>\n",
       "  </thead>\n",
       "  <tbody>\n",
       "    <tr>\n",
       "      <th>43290</th>\n",
       "      <td>2023-03-14 07:56:23</td>\n",
       "      <td>Bundesweite Warnstreiks im Gesundheitswesen</td>\n",
       "      <td>Die Gewerkschaft ver.di hat im Tarifstreit des...</td>\n",
       "      <td>NaN</td>\n",
       "      <td>NaN</td>\n",
       "      <td>Tagesschau</td>\n",
       "    </tr>\n",
       "    <tr>\n",
       "      <th>29137</th>\n",
       "      <td>2022-11-22 07:20:06</td>\n",
       "      <td>Gräuel im Ukraine-Krieg - Putins Männer holen ...</td>\n",
       "      <td>Die russische Armee hat in der Ukraine einen K...</td>\n",
       "      <td>Ukraine-Krise</td>\n",
       "      <td>NaN</td>\n",
       "      <td>Focus</td>\n",
       "    </tr>\n",
       "    <tr>\n",
       "      <th>52488</th>\n",
       "      <td>2023-05-10 08:45:00</td>\n",
       "      <td>Der Speckgürtel um Metropolen wächst</td>\n",
       "      <td>Wohnen wird in Metropolen immer teurer, deshal...</td>\n",
       "      <td>So wohnen die Deutschen</td>\n",
       "      <td>NaN</td>\n",
       "      <td>ZDF heute</td>\n",
       "    </tr>\n",
       "    <tr>\n",
       "      <th>33136</th>\n",
       "      <td>2022-12-31 04:28:49</td>\n",
       "      <td>Nordkorea feuert drei Kurzstreckenraketen ab</td>\n",
       "      <td>Kurz vor Jahresende feuert Nordkorea nach Anga...</td>\n",
       "      <td>NaN</td>\n",
       "      <td>NaN</td>\n",
       "      <td>Tagesschau</td>\n",
       "    </tr>\n",
       "    <tr>\n",
       "      <th>61526</th>\n",
       "      <td>2023-08-15 10:20:54</td>\n",
       "      <td>Ermittlungen: Schüsse auf Shisha-Bar in Altona...</td>\n",
       "      <td>NaN</td>\n",
       "      <td>News</td>\n",
       "      <td>NaN</td>\n",
       "      <td>Zeit</td>\n",
       "    </tr>\n",
       "  </tbody>\n",
       "</table>\n",
       "</div>"
      ],
      "text/plain": [
       "                      date                                              title  \\\n",
       "43290  2023-03-14 07:56:23        Bundesweite Warnstreiks im Gesundheitswesen   \n",
       "29137  2022-11-22 07:20:06  Gräuel im Ukraine-Krieg - Putins Männer holen ...   \n",
       "52488  2023-05-10 08:45:00               Der Speckgürtel um Metropolen wächst   \n",
       "33136  2022-12-31 04:28:49       Nordkorea feuert drei Kurzstreckenraketen ab   \n",
       "61526  2023-08-15 10:20:54  Ermittlungen: Schüsse auf Shisha-Bar in Altona...   \n",
       "\n",
       "                                             description  \\\n",
       "43290  Die Gewerkschaft ver.di hat im Tarifstreit des...   \n",
       "29137  Die russische Armee hat in der Ukraine einen K...   \n",
       "52488  Wohnen wird in Metropolen immer teurer, deshal...   \n",
       "33136  Kurz vor Jahresende feuert Nordkorea nach Anga...   \n",
       "61526                                                NaN   \n",
       "\n",
       "                      category  text      source  \n",
       "43290                      NaN   NaN  Tagesschau  \n",
       "29137            Ukraine-Krise   NaN       Focus  \n",
       "52488  So wohnen die Deutschen   NaN   ZDF heute  \n",
       "33136                      NaN   NaN  Tagesschau  \n",
       "61526                     News   NaN        Zeit  "
      ]
     },
     "execution_count": 6,
     "metadata": {},
     "output_type": "execute_result"
    }
   ],
   "source": [
    "test.head()"
   ]
  },
  {
   "cell_type": "markdown",
   "id": "7af31240",
   "metadata": {},
   "source": [
    "### Replace missing categories by 'Missing'"
   ]
  },
  {
   "cell_type": "markdown",
   "id": "0899dcb6",
   "metadata": {},
   "source": [
    "First we detect the number of missing values in category and replace them with 'Missing'."
   ]
  },
  {
   "cell_type": "code",
   "execution_count": 7,
   "id": "399d1806",
   "metadata": {},
   "outputs": [
    {
     "name": "stdout",
     "output_type": "stream",
     "text": [
      "20617\n",
      "0.38178922612544214\n"
     ]
    }
   ],
   "source": [
    "print(train['category'].isnull().sum())\n",
    "print(train['category'].isnull().mean()) # == print(train['category'].isnull().sum() / len(train))"
   ]
  },
  {
   "cell_type": "code",
   "execution_count": 8,
   "id": "25886c84",
   "metadata": {},
   "outputs": [
    {
     "name": "stdout",
     "output_type": "stream",
     "text": [
      "5079\n",
      "0.3761943559736316\n"
     ]
    }
   ],
   "source": [
    "print(test['category'].isnull().sum())\n",
    "print(test['category'].isnull().mean())"
   ]
  },
  {
   "cell_type": "code",
   "execution_count": 9,
   "id": "670e1cec",
   "metadata": {},
   "outputs": [
    {
     "name": "stdout",
     "output_type": "stream",
     "text": [
      "0\n"
     ]
    }
   ],
   "source": [
    "train['category'] = train['category'].fillna('Missing')\n",
    "print(train['category'].isnull().sum())"
   ]
  },
  {
   "cell_type": "code",
   "execution_count": 10,
   "id": "75fa46e7",
   "metadata": {},
   "outputs": [
    {
     "name": "stdout",
     "output_type": "stream",
     "text": [
      "0\n"
     ]
    }
   ],
   "source": [
    "test['category'] = test['category'].fillna('Missing')\n",
    "print(test['category'].isnull().sum())"
   ]
  },
  {
   "cell_type": "markdown",
   "id": "5dbfc2d0",
   "metadata": {},
   "source": [
    "### Remove rare labels from category and group them as 'Other'"
   ]
  },
  {
   "cell_type": "code",
   "execution_count": 11,
   "id": "12fb12e4",
   "metadata": {},
   "outputs": [
    {
     "name": "stdout",
     "output_type": "stream",
     "text": [
      "14990\n",
      "0.27758745208422064\n"
     ]
    }
   ],
   "source": [
    "print(train['category'].nunique())\n",
    "print(train['category'].nunique() / len(train['category']))"
   ]
  },
  {
   "cell_type": "code",
   "execution_count": 12,
   "id": "bf57fd41",
   "metadata": {},
   "outputs": [
    {
     "name": "stdout",
     "output_type": "stream",
     "text": [
      "3941\n",
      "0.29190430338493445\n"
     ]
    }
   ],
   "source": [
    "print(test['category'].nunique())\n",
    "print(test['category'].nunique() / len(test['category']))"
   ]
  },
  {
   "cell_type": "markdown",
   "id": "5f55056c",
   "metadata": {},
   "source": [
    "About 27-29% of the category labels in train and test set have unique values. We will group those categories that are present \n",
    "in less than 1% of the observations into a new label 'Other'."
   ]
  },
  {
   "cell_type": "markdown",
   "id": "231dd54e",
   "metadata": {},
   "source": [
    "We compute the frequent category labels of the training set and build a list out of them. Then we compare the category labels of both train and test set with the entries in this list and store them accordingly as the orignal label or 'Other' in a new feature 'frequent_category'."
   ]
  },
  {
   "cell_type": "code",
   "execution_count": 13,
   "id": "601ad08f",
   "metadata": {},
   "outputs": [],
   "source": [
    "tmp = train.groupby('category')['category'].count() / len(train)\n",
    "frequent_labels_percentage = tmp[tmp > 0.01]"
   ]
  },
  {
   "cell_type": "code",
   "execution_count": 14,
   "id": "53fec1b7",
   "metadata": {},
   "outputs": [
    {
     "name": "stdout",
     "output_type": "stream",
     "text": [
      "category\n",
      "Ausland          0.054184\n",
      "Deutschland      0.049203\n",
      "Missing          0.381789\n",
      "News             0.060147\n",
      "Politik          0.012166\n",
      "Ukraine-Krise    0.018129\n",
      "Wirtschaft       0.016481\n",
      "Name: category, dtype: float64\n"
     ]
    }
   ],
   "source": [
    "print(frequent_labels_percentage)"
   ]
  },
  {
   "cell_type": "code",
   "execution_count": 15,
   "id": "1827afe3",
   "metadata": {},
   "outputs": [
    {
     "name": "stdout",
     "output_type": "stream",
     "text": [
      "['Ausland', 'Deutschland', 'Missing', 'News', 'Politik', 'Ukraine-Krise', 'Wirtschaft']\n"
     ]
    }
   ],
   "source": [
    "frequent_labels = frequent_labels_percentage.index.to_list()\n",
    "print(frequent_labels)"
   ]
  },
  {
   "cell_type": "code",
   "execution_count": 16,
   "id": "666d1c9c",
   "metadata": {},
   "outputs": [
    {
     "data": {
      "text/html": [
       "<div>\n",
       "<style scoped>\n",
       "    .dataframe tbody tr th:only-of-type {\n",
       "        vertical-align: middle;\n",
       "    }\n",
       "\n",
       "    .dataframe tbody tr th {\n",
       "        vertical-align: top;\n",
       "    }\n",
       "\n",
       "    .dataframe thead th {\n",
       "        text-align: right;\n",
       "    }\n",
       "</style>\n",
       "<table border=\"1\" class=\"dataframe\">\n",
       "  <thead>\n",
       "    <tr style=\"text-align: right;\">\n",
       "      <th></th>\n",
       "      <th>date</th>\n",
       "      <th>title</th>\n",
       "      <th>description</th>\n",
       "      <th>category</th>\n",
       "      <th>text</th>\n",
       "      <th>source</th>\n",
       "      <th>frequent_category</th>\n",
       "    </tr>\n",
       "  </thead>\n",
       "  <tbody>\n",
       "    <tr>\n",
       "      <th>51787</th>\n",
       "      <td>2023-05-04 17:18:27</td>\n",
       "      <td>Fans bemerken Fehler sofort - FDP-Minister fei...</td>\n",
       "      <td>Justizminister Marco Buschmann hat mit einem V...</td>\n",
       "      <td>Panorama</td>\n",
       "      <td>NaN</td>\n",
       "      <td>Focus</td>\n",
       "      <td>Other</td>\n",
       "    </tr>\n",
       "    <tr>\n",
       "      <th>26914</th>\n",
       "      <td>2022-10-24 12:00:00</td>\n",
       "      <td>\"Rishi Sunak ist auf der Siegerstraße\"</td>\n",
       "      <td>Auf der Suche nach einer Nachfolge für das Amt...</td>\n",
       "      <td>ZDF-Korrespondent Stamm</td>\n",
       "      <td>NaN</td>\n",
       "      <td>ZDF heute</td>\n",
       "      <td>Other</td>\n",
       "    </tr>\n",
       "    <tr>\n",
       "      <th>49420</th>\n",
       "      <td>2023-04-18 19:00:00</td>\n",
       "      <td>Nach Springer-Enthüllungen: Vom Clickbait-Boul...</td>\n",
       "      <td>In einem Interview verteidigte Autorin Nora Bo...</td>\n",
       "      <td>Missing</td>\n",
       "      <td>NaN</td>\n",
       "      <td>taz</td>\n",
       "      <td>Missing</td>\n",
       "    </tr>\n",
       "    <tr>\n",
       "      <th>50566</th>\n",
       "      <td>2023-04-25 16:44:58</td>\n",
       "      <td>Jetzt droht der Ausverkauf der nächsten deutsc...</td>\n",
       "      <td>Erfolgreich, traditionell, familienorientiert ...</td>\n",
       "      <td>Energie</td>\n",
       "      <td>NaN</td>\n",
       "      <td>Welt</td>\n",
       "      <td>Other</td>\n",
       "    </tr>\n",
       "    <tr>\n",
       "      <th>56620</th>\n",
       "      <td>2023-06-12 10:08:32</td>\n",
       "      <td>UBS schließt Übernahme der Credit Suisse ab</td>\n",
       "      <td>Die Übernahme der Großbank Credit Suisse ist n...</td>\n",
       "      <td>Missing</td>\n",
       "      <td>NaN</td>\n",
       "      <td>Tagesschau</td>\n",
       "      <td>Missing</td>\n",
       "    </tr>\n",
       "  </tbody>\n",
       "</table>\n",
       "</div>"
      ],
      "text/plain": [
       "                      date                                              title  \\\n",
       "51787  2023-05-04 17:18:27  Fans bemerken Fehler sofort - FDP-Minister fei...   \n",
       "26914  2022-10-24 12:00:00             \"Rishi Sunak ist auf der Siegerstraße\"   \n",
       "49420  2023-04-18 19:00:00  Nach Springer-Enthüllungen: Vom Clickbait-Boul...   \n",
       "50566  2023-04-25 16:44:58  Jetzt droht der Ausverkauf der nächsten deutsc...   \n",
       "56620  2023-06-12 10:08:32        UBS schließt Übernahme der Credit Suisse ab   \n",
       "\n",
       "                                             description  \\\n",
       "51787  Justizminister Marco Buschmann hat mit einem V...   \n",
       "26914  Auf der Suche nach einer Nachfolge für das Amt...   \n",
       "49420  In einem Interview verteidigte Autorin Nora Bo...   \n",
       "50566  Erfolgreich, traditionell, familienorientiert ...   \n",
       "56620  Die Übernahme der Großbank Credit Suisse ist n...   \n",
       "\n",
       "                      category  text      source frequent_category  \n",
       "51787                 Panorama   NaN       Focus             Other  \n",
       "26914  ZDF-Korrespondent Stamm   NaN   ZDF heute             Other  \n",
       "49420                  Missing   NaN         taz           Missing  \n",
       "50566                  Energie   NaN        Welt             Other  \n",
       "56620                  Missing   NaN  Tagesschau           Missing  "
      ]
     },
     "execution_count": 16,
     "metadata": {},
     "output_type": "execute_result"
    }
   ],
   "source": [
    "train['frequent_category'] = np.where(train['category'].isin(frequent_labels), train['category'], 'Other')\n",
    "train.head()"
   ]
  },
  {
   "cell_type": "code",
   "execution_count": 17,
   "id": "c0f3e9f0",
   "metadata": {},
   "outputs": [
    {
     "data": {
      "text/html": [
       "<div>\n",
       "<style scoped>\n",
       "    .dataframe tbody tr th:only-of-type {\n",
       "        vertical-align: middle;\n",
       "    }\n",
       "\n",
       "    .dataframe tbody tr th {\n",
       "        vertical-align: top;\n",
       "    }\n",
       "\n",
       "    .dataframe thead th {\n",
       "        text-align: right;\n",
       "    }\n",
       "</style>\n",
       "<table border=\"1\" class=\"dataframe\">\n",
       "  <thead>\n",
       "    <tr style=\"text-align: right;\">\n",
       "      <th></th>\n",
       "      <th>date</th>\n",
       "      <th>title</th>\n",
       "      <th>description</th>\n",
       "      <th>category</th>\n",
       "      <th>text</th>\n",
       "      <th>source</th>\n",
       "      <th>frequent_category</th>\n",
       "    </tr>\n",
       "  </thead>\n",
       "  <tbody>\n",
       "    <tr>\n",
       "      <th>43290</th>\n",
       "      <td>2023-03-14 07:56:23</td>\n",
       "      <td>Bundesweite Warnstreiks im Gesundheitswesen</td>\n",
       "      <td>Die Gewerkschaft ver.di hat im Tarifstreit des...</td>\n",
       "      <td>Missing</td>\n",
       "      <td>NaN</td>\n",
       "      <td>Tagesschau</td>\n",
       "      <td>Missing</td>\n",
       "    </tr>\n",
       "    <tr>\n",
       "      <th>29137</th>\n",
       "      <td>2022-11-22 07:20:06</td>\n",
       "      <td>Gräuel im Ukraine-Krieg - Putins Männer holen ...</td>\n",
       "      <td>Die russische Armee hat in der Ukraine einen K...</td>\n",
       "      <td>Ukraine-Krise</td>\n",
       "      <td>NaN</td>\n",
       "      <td>Focus</td>\n",
       "      <td>Ukraine-Krise</td>\n",
       "    </tr>\n",
       "    <tr>\n",
       "      <th>52488</th>\n",
       "      <td>2023-05-10 08:45:00</td>\n",
       "      <td>Der Speckgürtel um Metropolen wächst</td>\n",
       "      <td>Wohnen wird in Metropolen immer teurer, deshal...</td>\n",
       "      <td>So wohnen die Deutschen</td>\n",
       "      <td>NaN</td>\n",
       "      <td>ZDF heute</td>\n",
       "      <td>Other</td>\n",
       "    </tr>\n",
       "    <tr>\n",
       "      <th>33136</th>\n",
       "      <td>2022-12-31 04:28:49</td>\n",
       "      <td>Nordkorea feuert drei Kurzstreckenraketen ab</td>\n",
       "      <td>Kurz vor Jahresende feuert Nordkorea nach Anga...</td>\n",
       "      <td>Missing</td>\n",
       "      <td>NaN</td>\n",
       "      <td>Tagesschau</td>\n",
       "      <td>Missing</td>\n",
       "    </tr>\n",
       "    <tr>\n",
       "      <th>61526</th>\n",
       "      <td>2023-08-15 10:20:54</td>\n",
       "      <td>Ermittlungen: Schüsse auf Shisha-Bar in Altona...</td>\n",
       "      <td>NaN</td>\n",
       "      <td>News</td>\n",
       "      <td>NaN</td>\n",
       "      <td>Zeit</td>\n",
       "      <td>News</td>\n",
       "    </tr>\n",
       "  </tbody>\n",
       "</table>\n",
       "</div>"
      ],
      "text/plain": [
       "                      date                                              title  \\\n",
       "43290  2023-03-14 07:56:23        Bundesweite Warnstreiks im Gesundheitswesen   \n",
       "29137  2022-11-22 07:20:06  Gräuel im Ukraine-Krieg - Putins Männer holen ...   \n",
       "52488  2023-05-10 08:45:00               Der Speckgürtel um Metropolen wächst   \n",
       "33136  2022-12-31 04:28:49       Nordkorea feuert drei Kurzstreckenraketen ab   \n",
       "61526  2023-08-15 10:20:54  Ermittlungen: Schüsse auf Shisha-Bar in Altona...   \n",
       "\n",
       "                                             description  \\\n",
       "43290  Die Gewerkschaft ver.di hat im Tarifstreit des...   \n",
       "29137  Die russische Armee hat in der Ukraine einen K...   \n",
       "52488  Wohnen wird in Metropolen immer teurer, deshal...   \n",
       "33136  Kurz vor Jahresende feuert Nordkorea nach Anga...   \n",
       "61526                                                NaN   \n",
       "\n",
       "                      category  text      source frequent_category  \n",
       "43290                  Missing   NaN  Tagesschau           Missing  \n",
       "29137            Ukraine-Krise   NaN       Focus     Ukraine-Krise  \n",
       "52488  So wohnen die Deutschen   NaN   ZDF heute             Other  \n",
       "33136                  Missing   NaN  Tagesschau           Missing  \n",
       "61526                     News   NaN        Zeit              News  "
      ]
     },
     "execution_count": 17,
     "metadata": {},
     "output_type": "execute_result"
    }
   ],
   "source": [
    "test['frequent_category'] = np.where(test['category'].isin(frequent_labels), test['category'], 'Other')\n",
    "test.head()"
   ]
  },
  {
   "cell_type": "code",
   "execution_count": 18,
   "id": "c0d95b85",
   "metadata": {},
   "outputs": [
    {
     "data": {
      "text/plain": [
       "frequent_category\n",
       "Other            22027\n",
       "Missing          20617\n",
       "News              3248\n",
       "Ausland           2926\n",
       "Deutschland       2657\n",
       "Ukraine-Krise      979\n",
       "Wirtschaft         890\n",
       "Politik            657\n",
       "Name: count, dtype: int64"
      ]
     },
     "execution_count": 18,
     "metadata": {},
     "output_type": "execute_result"
    }
   ],
   "source": [
    "train['frequent_category'].value_counts()"
   ]
  },
  {
   "cell_type": "code",
   "execution_count": 19,
   "id": "5db011ca",
   "metadata": {},
   "outputs": [
    {
     "data": {
      "text/plain": [
       "frequent_category\n",
       "Other            5512\n",
       "Missing          5079\n",
       "Ausland           799\n",
       "News              775\n",
       "Deutschland       685\n",
       "Ukraine-Krise     265\n",
       "Wirtschaft        231\n",
       "Politik           155\n",
       "Name: count, dtype: int64"
      ]
     },
     "execution_count": 19,
     "metadata": {},
     "output_type": "execute_result"
    }
   ],
   "source": [
    "test['frequent_category'].value_counts()"
   ]
  },
  {
   "cell_type": "code",
   "execution_count": 20,
   "id": "edb05eff",
   "metadata": {},
   "outputs": [
    {
     "data": {
      "image/png": "[encoded data removed]",
      "text/plain": [
       "<Figure size 1000x500 with 1 Axes>"
      ]
     },
     "metadata": {},
     "output_type": "display_data"
    }
   ],
   "source": [
    "fig, ax = plt.subplots(figsize=(10, 5))\n",
    "sns.countplot(data=train, x='frequent_category', order=train['frequent_category'].value_counts().index)\n",
    "plt.title('Most frequent category labels of news headlines in training set')\n",
    "plt.show()"
   ]
  },
  {
   "cell_type": "code",
   "execution_count": 21,
   "id": "81a1f751",
   "metadata": {},
   "outputs": [
    {
     "data": {
      "image/png": "[encoded data removed]",
      "text/plain": [
       "<Figure size 1000x500 with 1 Axes>"
      ]
     },
     "metadata": {},
     "output_type": "display_data"
    }
   ],
   "source": [
    "fig, ax = plt.subplots(figsize=(10, 5))\n",
    "sns.countplot(data=test, x='frequent_category', order=test['frequent_category'].value_counts().index)\n",
    "plt.title('Most frequent category labels of news headlines in test set')\n",
    "plt.show()"
   ]
  },
  {
   "cell_type": "markdown",
   "id": "625dc403",
   "metadata": {},
   "source": [
    "### Store news"
   ]
  },
  {
   "cell_type": "code",
   "execution_count": 22,
   "id": "25b81b0e",
   "metadata": {},
   "outputs": [],
   "source": [
    "train.to_csv('train.csv', index=False)\n",
    "test.to_csv('test.csv', index=False)"
   ]
  },
  {
   "cell_type": "code",
   "execution_count": null,
   "id": "fcb73507",
   "metadata": {},
   "outputs": [],
   "source": []
  }
 ],
 "metadata": {
  "kernelspec": {
   "display_name": "nlp",
   "language": "python",
   "name": "nlp"
  },
  "language_info": {
   "codemirror_mode": {
    "name": "ipython",
    "version": 3
   },
   "file_extension": ".py",
   "mimetype": "text/x-python",
   "name": "python",
   "nbconvert_exporter": "python",
   "pygments_lexer": "ipython3",
   "version": "3.11.5"
  }
 },
 "nbformat": 4,
 "nbformat_minor": 5
}
