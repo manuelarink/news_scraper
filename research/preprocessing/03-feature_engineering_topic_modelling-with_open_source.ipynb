{
 "cells": [
  {
   "cell_type": "markdown",
   "id": "767d1c1f",
   "metadata": {},
   "source": [
    "# Feature engineering for classification and topic modelling of news headlines using open source"
   ]
  },
  {
   "cell_type": "markdown",
   "id": "c53ef551",
   "metadata": {},
   "source": [
    "As a first task we want to explore the different labels of category of the gathered news items. Missing values will be filled with 'Missing', rare labels will be grouped as 'Other'.\n",
    "In a later step we want to train a ML model for text classification to predict a category label (supervised learning) as well as clustering the news into different topics (unsupervised learning) and compare them with the labeled categories."
   ]
  },
  {
   "cell_type": "code",
   "execution_count": 1,
   "id": "f1b6dbe6",
   "metadata": {},
   "outputs": [],
   "source": [
    "import pandas as pd\n",
    "import numpy as np\n",
    "import matplotlib.pyplot as plt\n",
    "import seaborn as sns\n",
    "import sqlalchemy as sql\n",
    "\n",
    "from sklearn.model_selection import train_test_split\n",
    "from sklearn.preprocessing import Binarizer\n",
    "\n",
    "# for saving the pipeline\n",
    "import joblib\n",
    "\n",
    "# from feature-engine\n",
    "from feature_engine.imputation import CategoricalImputer, AddMissingIndicator\n",
    "from feature_engine.encoding import RareLabelEncoder\n",
    "from feature_engine.selection import DropFeatures\n",
    "from feature_engine.wrappers import SklearnTransformerWrapper"
   ]
  },
  {
   "cell_type": "markdown",
   "id": "88ed8222",
   "metadata": {},
   "source": [
    "### Load the cleaned data from file"
   ]
  },
  {
   "cell_type": "code",
   "execution_count": 2,
   "id": "ab3d1a5c",
   "metadata": {},
   "outputs": [],
   "source": [
    "news = pd.read_csv('../eda/news.csv')"
   ]
  },
  {
   "cell_type": "code",
   "execution_count": 3,
   "id": "e0848d95",
   "metadata": {},
   "outputs": [
    {
     "data": {
      "text/html": [
       "<div>\n",
       "<style scoped>\n",
       "    .dataframe tbody tr th:only-of-type {\n",
       "        vertical-align: middle;\n",
       "    }\n",
       "\n",
       "    .dataframe tbody tr th {\n",
       "        vertical-align: top;\n",
       "    }\n",
       "\n",
       "    .dataframe thead th {\n",
       "        text-align: right;\n",
       "    }\n",
       "</style>\n",
       "<table border=\"1\" class=\"dataframe\">\n",
       "  <thead>\n",
       "    <tr style=\"text-align: right;\">\n",
       "      <th></th>\n",
       "      <th>date</th>\n",
       "      <th>title</th>\n",
       "      <th>description</th>\n",
       "      <th>category</th>\n",
       "      <th>text</th>\n",
       "      <th>source</th>\n",
       "    </tr>\n",
       "  </thead>\n",
       "  <tbody>\n",
       "    <tr>\n",
       "      <th>67977</th>\n",
       "      <td>2023-10-05 09:28:04</td>\n",
       "      <td>Liveblog: ++ Russland: Stromausfälle nach ukra...</td>\n",
       "      <td>Ein ukrainischer Drohnenangriff hat nach russi...</td>\n",
       "      <td>NaN</td>\n",
       "      <td>NaN</td>\n",
       "      <td>Tagesschau</td>\n",
       "    </tr>\n",
       "    <tr>\n",
       "      <th>67976</th>\n",
       "      <td>2023-10-05 09:27:00</td>\n",
       "      <td>USA liefern Kiew beschlagnahmte Munition</td>\n",
       "      <td>Es ist eine Premiere: Die USA haben Munition s...</td>\n",
       "      <td>Iran unterstützt Huthi-Rebellen</td>\n",
       "      <td>NaN</td>\n",
       "      <td>ZDF heute</td>\n",
       "    </tr>\n",
       "    <tr>\n",
       "      <th>67975</th>\n",
       "      <td>2023-10-05 09:26:00</td>\n",
       "      <td>Deutschlands Volleyballer entzaubern Italien</td>\n",
       "      <td>Die deutschen Volleyballer landen in der Olymp...</td>\n",
       "      <td>Olympia-Qualifikation</td>\n",
       "      <td>NaN</td>\n",
       "      <td>ZDF heute</td>\n",
       "    </tr>\n",
       "    <tr>\n",
       "      <th>67974</th>\n",
       "      <td>2023-10-05 09:21:03</td>\n",
       "      <td>Rechtsextreme Äußerungen  - BGH entscheidet, o...</td>\n",
       "      <td>Der wegen rechtsextremer Äußerungen umstritten...</td>\n",
       "      <td>Aus aller Welt</td>\n",
       "      <td>NaN</td>\n",
       "      <td>Focus</td>\n",
       "    </tr>\n",
       "    <tr>\n",
       "      <th>67973</th>\n",
       "      <td>2023-10-05 09:12:58</td>\n",
       "      <td>USA: Mögliche McCarthy-Nachfolger bringen sich...</td>\n",
       "      <td>Nach der Abwahl des Sprechers des US-Repräsent...</td>\n",
       "      <td>NaN</td>\n",
       "      <td>NaN</td>\n",
       "      <td>Tagesschau</td>\n",
       "    </tr>\n",
       "  </tbody>\n",
       "</table>\n",
       "</div>"
      ],
      "text/plain": [
       "                      date                                              title  \\\n",
       "67977  2023-10-05 09:28:04  Liveblog: ++ Russland: Stromausfälle nach ukra...   \n",
       "67976  2023-10-05 09:27:00           USA liefern Kiew beschlagnahmte Munition   \n",
       "67975  2023-10-05 09:26:00       Deutschlands Volleyballer entzaubern Italien   \n",
       "67974  2023-10-05 09:21:03  Rechtsextreme Äußerungen  - BGH entscheidet, o...   \n",
       "67973  2023-10-05 09:12:58  USA: Mögliche McCarthy-Nachfolger bringen sich...   \n",
       "\n",
       "                                             description  \\\n",
       "67977  Ein ukrainischer Drohnenangriff hat nach russi...   \n",
       "67976  Es ist eine Premiere: Die USA haben Munition s...   \n",
       "67975  Die deutschen Volleyballer landen in der Olymp...   \n",
       "67974  Der wegen rechtsextremer Äußerungen umstritten...   \n",
       "67973  Nach der Abwahl des Sprechers des US-Repräsent...   \n",
       "\n",
       "                               category  text      source  \n",
       "67977                               NaN   NaN  Tagesschau  \n",
       "67976  Iran unterstützt Huthi-Rebellen    NaN   ZDF heute  \n",
       "67975             Olympia-Qualifikation   NaN   ZDF heute  \n",
       "67974                    Aus aller Welt   NaN       Focus  \n",
       "67973                               NaN   NaN  Tagesschau  "
      ]
     },
     "execution_count": 3,
     "metadata": {},
     "output_type": "execute_result"
    }
   ],
   "source": [
    "news.sort_values(by='date', ascending=False, inplace=True)\n",
    "news.head()"
   ]
  },
  {
   "cell_type": "markdown",
   "id": "615b1d89",
   "metadata": {},
   "source": [
    "### Split the data into train and test set"
   ]
  },
  {
   "cell_type": "code",
   "execution_count": 4,
   "id": "afab5f5f",
   "metadata": {},
   "outputs": [],
   "source": [
    "train, test = train_test_split(news, test_size=0.2, random_state=42)"
   ]
  },
  {
   "cell_type": "code",
   "execution_count": 5,
   "id": "9b81615b",
   "metadata": {},
   "outputs": [
    {
     "data": {
      "text/html": [
       "<div>\n",
       "<style scoped>\n",
       "    .dataframe tbody tr th:only-of-type {\n",
       "        vertical-align: middle;\n",
       "    }\n",
       "\n",
       "    .dataframe tbody tr th {\n",
       "        vertical-align: top;\n",
       "    }\n",
       "\n",
       "    .dataframe thead th {\n",
       "        text-align: right;\n",
       "    }\n",
       "</style>\n",
       "<table border=\"1\" class=\"dataframe\">\n",
       "  <thead>\n",
       "    <tr style=\"text-align: right;\">\n",
       "      <th></th>\n",
       "      <th>date</th>\n",
       "      <th>title</th>\n",
       "      <th>description</th>\n",
       "      <th>category</th>\n",
       "      <th>text</th>\n",
       "      <th>source</th>\n",
       "    </tr>\n",
       "  </thead>\n",
       "  <tbody>\n",
       "    <tr>\n",
       "      <th>11502</th>\n",
       "      <td>2022-07-17 04:35:48</td>\n",
       "      <td>Ukraine-Überblick: Selenskyj warnt vor Informa...</td>\n",
       "      <td>Ukraines Präsident wirft Russland vor, Falschn...</td>\n",
       "      <td>Ausland</td>\n",
       "      <td>NaN</td>\n",
       "      <td>Zeit</td>\n",
       "    </tr>\n",
       "    <tr>\n",
       "      <th>47261</th>\n",
       "      <td>2023-04-06 11:18:53</td>\n",
       "      <td>Amoklauf in Hamburg: Vertraute warnten Sportsc...</td>\n",
       "      <td>Hätte der Amoklauf von Hamburg verhindert werd...</td>\n",
       "      <td>Hamburg</td>\n",
       "      <td>NaN</td>\n",
       "      <td>Zeit</td>\n",
       "    </tr>\n",
       "    <tr>\n",
       "      <th>8137</th>\n",
       "      <td>2022-07-04 03:18:36</td>\n",
       "      <td>Pandemie: Lauterbach: Schulschließungen nicht ...</td>\n",
       "      <td>Im September läuft die Rechtsgrundlage für Cor...</td>\n",
       "      <td>Karl Lauterbach, FDP, Schulschließung, Coronav...</td>\n",
       "      <td>NaN</td>\n",
       "      <td>stern</td>\n",
       "    </tr>\n",
       "    <tr>\n",
       "      <th>65399</th>\n",
       "      <td>2023-09-14 09:29:15</td>\n",
       "      <td>Tarifeinigung: Spaniens Fußballerinnen beenden...</td>\n",
       "      <td>Die Liga F und die Spielerinnen in Spanien hab...</td>\n",
       "      <td>Sport</td>\n",
       "      <td>NaN</td>\n",
       "      <td>Zeit</td>\n",
       "    </tr>\n",
       "    <tr>\n",
       "      <th>10933</th>\n",
       "      <td>2022-07-14 17:34:00</td>\n",
       "      <td>Urteil des EuGH: Thermofenster meist illegal</td>\n",
       "      <td>Abgasreinigung bei Autos darf nicht systematis...</td>\n",
       "      <td>NaN</td>\n",
       "      <td>NaN</td>\n",
       "      <td>taz</td>\n",
       "    </tr>\n",
       "  </tbody>\n",
       "</table>\n",
       "</div>"
      ],
      "text/plain": [
       "                      date                                              title  \\\n",
       "11502  2022-07-17 04:35:48  Ukraine-Überblick: Selenskyj warnt vor Informa...   \n",
       "47261  2023-04-06 11:18:53  Amoklauf in Hamburg: Vertraute warnten Sportsc...   \n",
       "8137   2022-07-04 03:18:36  Pandemie: Lauterbach: Schulschließungen nicht ...   \n",
       "65399  2023-09-14 09:29:15  Tarifeinigung: Spaniens Fußballerinnen beenden...   \n",
       "10933  2022-07-14 17:34:00       Urteil des EuGH: Thermofenster meist illegal   \n",
       "\n",
       "                                             description  \\\n",
       "11502  Ukraines Präsident wirft Russland vor, Falschn...   \n",
       "47261  Hätte der Amoklauf von Hamburg verhindert werd...   \n",
       "8137   Im September läuft die Rechtsgrundlage für Cor...   \n",
       "65399  Die Liga F und die Spielerinnen in Spanien hab...   \n",
       "10933  Abgasreinigung bei Autos darf nicht systematis...   \n",
       "\n",
       "                                                category  text source  \n",
       "11502                                            Ausland   NaN   Zeit  \n",
       "47261                                            Hamburg   NaN   Zeit  \n",
       "8137   Karl Lauterbach, FDP, Schulschließung, Coronav...   NaN  stern  \n",
       "65399                                              Sport   NaN   Zeit  \n",
       "10933                                                NaN   NaN    taz  "
      ]
     },
     "execution_count": 5,
     "metadata": {},
     "output_type": "execute_result"
    }
   ],
   "source": [
    "train.head()"
   ]
  },
  {
   "cell_type": "code",
   "execution_count": 6,
   "id": "1341ac11",
   "metadata": {},
   "outputs": [
    {
     "data": {
      "text/html": [
       "<div>\n",
       "<style scoped>\n",
       "    .dataframe tbody tr th:only-of-type {\n",
       "        vertical-align: middle;\n",
       "    }\n",
       "\n",
       "    .dataframe tbody tr th {\n",
       "        vertical-align: top;\n",
       "    }\n",
       "\n",
       "    .dataframe thead th {\n",
       "        text-align: right;\n",
       "    }\n",
       "</style>\n",
       "<table border=\"1\" class=\"dataframe\">\n",
       "  <thead>\n",
       "    <tr style=\"text-align: right;\">\n",
       "      <th></th>\n",
       "      <th>date</th>\n",
       "      <th>title</th>\n",
       "      <th>description</th>\n",
       "      <th>category</th>\n",
       "      <th>text</th>\n",
       "      <th>source</th>\n",
       "    </tr>\n",
       "  </thead>\n",
       "  <tbody>\n",
       "    <tr>\n",
       "      <th>36521</th>\n",
       "      <td>2023-01-27 14:42:55</td>\n",
       "      <td>„Die Russen sind nicht weit weg“ - Nach Soleda...</td>\n",
       "      <td>Die meisten der einst 70.000 Einwohner Bachmut...</td>\n",
       "      <td>Ukraine-Krise</td>\n",
       "      <td>NaN</td>\n",
       "      <td>Focus</td>\n",
       "    </tr>\n",
       "    <tr>\n",
       "      <th>6172</th>\n",
       "      <td>2022-06-26 18:56:00</td>\n",
       "      <td>Giffey, die EU und die Documenta: In die Torte...</td>\n",
       "      <td>Berlin fällt auf einen Deepfake-Klitschko rein...</td>\n",
       "      <td>NaN</td>\n",
       "      <td>NaN</td>\n",
       "      <td>taz</td>\n",
       "    </tr>\n",
       "    <tr>\n",
       "      <th>57317</th>\n",
       "      <td>2023-06-16 09:22:47</td>\n",
       "      <td>Katholische Kirche: Papst Franziskus verlässt ...</td>\n",
       "      <td>Nach knapp eineinhalb Wochen verlässt Papst Fr...</td>\n",
       "      <td>Papst Franziskus, Katholische Kirche, Vatikan,...</td>\n",
       "      <td>NaN</td>\n",
       "      <td>stern</td>\n",
       "    </tr>\n",
       "    <tr>\n",
       "      <th>64384</th>\n",
       "      <td>2023-09-07 11:09:18</td>\n",
       "      <td>Der neue Botox-Feminismus</td>\n",
       "      <td>Früher waren Schönheits-OPs umstritten. Heute ...</td>\n",
       "      <td>Kommentare</td>\n",
       "      <td>NaN</td>\n",
       "      <td>Welt</td>\n",
       "    </tr>\n",
       "    <tr>\n",
       "      <th>9731</th>\n",
       "      <td>2022-07-10 14:55:00</td>\n",
       "      <td>Ukraine-Krieg : Noch hat Kiew den Krieg nicht ...</td>\n",
       "      <td>In den letzten Wochen hat Kiew Niederlage eins...</td>\n",
       "      <td>Ukraine, Kiew, Moskau, Russland, Streitkräfte,...</td>\n",
       "      <td>NaN</td>\n",
       "      <td>stern</td>\n",
       "    </tr>\n",
       "  </tbody>\n",
       "</table>\n",
       "</div>"
      ],
      "text/plain": [
       "                      date                                              title  \\\n",
       "36521  2023-01-27 14:42:55  „Die Russen sind nicht weit weg“ - Nach Soleda...   \n",
       "6172   2022-06-26 18:56:00  Giffey, die EU und die Documenta: In die Torte...   \n",
       "57317  2023-06-16 09:22:47  Katholische Kirche: Papst Franziskus verlässt ...   \n",
       "64384  2023-09-07 11:09:18                          Der neue Botox-Feminismus   \n",
       "9731   2022-07-10 14:55:00  Ukraine-Krieg : Noch hat Kiew den Krieg nicht ...   \n",
       "\n",
       "                                             description  \\\n",
       "36521  Die meisten der einst 70.000 Einwohner Bachmut...   \n",
       "6172   Berlin fällt auf einen Deepfake-Klitschko rein...   \n",
       "57317  Nach knapp eineinhalb Wochen verlässt Papst Fr...   \n",
       "64384  Früher waren Schönheits-OPs umstritten. Heute ...   \n",
       "9731   In den letzten Wochen hat Kiew Niederlage eins...   \n",
       "\n",
       "                                                category  text source  \n",
       "36521                                      Ukraine-Krise   NaN  Focus  \n",
       "6172                                                 NaN   NaN    taz  \n",
       "57317  Papst Franziskus, Katholische Kirche, Vatikan,...   NaN  stern  \n",
       "64384                                         Kommentare   NaN   Welt  \n",
       "9731   Ukraine, Kiew, Moskau, Russland, Streitkräfte,...   NaN  stern  "
      ]
     },
     "execution_count": 6,
     "metadata": {},
     "output_type": "execute_result"
    }
   ],
   "source": [
    "test.head()"
   ]
  },
  {
   "cell_type": "markdown",
   "id": "7af31240",
   "metadata": {},
   "source": [
    "### Replace missing categories by 'Missing'"
   ]
  },
  {
   "cell_type": "markdown",
   "id": "0899dcb6",
   "metadata": {},
   "source": [
    "First we detect the number of missing values in category and replace them with 'Missing'."
   ]
  },
  {
   "cell_type": "code",
   "execution_count": 7,
   "id": "399d1806",
   "metadata": {},
   "outputs": [
    {
     "name": "stdout",
     "output_type": "stream",
     "text": [
      "20702\n",
      "0.3806774300319959\n"
     ]
    }
   ],
   "source": [
    "print(train['category'].isnull().sum())\n",
    "print(train['category'].isnull().mean()) # == print(train['category'].isnull().sum() / len(train))"
   ]
  },
  {
   "cell_type": "code",
   "execution_count": 8,
   "id": "25886c84",
   "metadata": {},
   "outputs": [
    {
     "name": "stdout",
     "output_type": "stream",
     "text": [
      "5168\n",
      "0.3801117975875257\n"
     ]
    }
   ],
   "source": [
    "print(test['category'].isnull().sum())\n",
    "print(test['category'].isnull().mean())"
   ]
  },
  {
   "cell_type": "code",
   "execution_count": 9,
   "id": "9625b28d",
   "metadata": {},
   "outputs": [
    {
     "data": {
      "text/html": [
       "<style>#sk-container-id-1 {color: black;background-color: white;}#sk-container-id-1 pre{padding: 0;}#sk-container-id-1 div.sk-toggleable {background-color: white;}#sk-container-id-1 label.sk-toggleable__label {cursor: pointer;display: block;width: 100%;margin-bottom: 0;padding: 0.3em;box-sizing: border-box;text-align: center;}#sk-container-id-1 label.sk-toggleable__label-arrow:before {content: \"▸\";float: left;margin-right: 0.25em;color: #696969;}#sk-container-id-1 label.sk-toggleable__label-arrow:hover:before {color: black;}#sk-container-id-1 div.sk-estimator:hover label.sk-toggleable__label-arrow:before {color: black;}#sk-container-id-1 div.sk-toggleable__content {max-height: 0;max-width: 0;overflow: hidden;text-align: left;background-color: #f0f8ff;}#sk-container-id-1 div.sk-toggleable__content pre {margin: 0.2em;color: black;border-radius: 0.25em;background-color: #f0f8ff;}#sk-container-id-1 input.sk-toggleable__control:checked~div.sk-toggleable__content {max-height: 200px;max-width: 100%;overflow: auto;}#sk-container-id-1 input.sk-toggleable__control:checked~label.sk-toggleable__label-arrow:before {content: \"▾\";}#sk-container-id-1 div.sk-estimator input.sk-toggleable__control:checked~label.sk-toggleable__label {background-color: #d4ebff;}#sk-container-id-1 div.sk-label input.sk-toggleable__control:checked~label.sk-toggleable__label {background-color: #d4ebff;}#sk-container-id-1 input.sk-hidden--visually {border: 0;clip: rect(1px 1px 1px 1px);clip: rect(1px, 1px, 1px, 1px);height: 1px;margin: -1px;overflow: hidden;padding: 0;position: absolute;width: 1px;}#sk-container-id-1 div.sk-estimator {font-family: monospace;background-color: #f0f8ff;border: 1px dotted black;border-radius: 0.25em;box-sizing: border-box;margin-bottom: 0.5em;}#sk-container-id-1 div.sk-estimator:hover {background-color: #d4ebff;}#sk-container-id-1 div.sk-parallel-item::after {content: \"\";width: 100%;border-bottom: 1px solid gray;flex-grow: 1;}#sk-container-id-1 div.sk-label:hover label.sk-toggleable__label {background-color: #d4ebff;}#sk-container-id-1 div.sk-serial::before {content: \"\";position: absolute;border-left: 1px solid gray;box-sizing: border-box;top: 0;bottom: 0;left: 50%;z-index: 0;}#sk-container-id-1 div.sk-serial {display: flex;flex-direction: column;align-items: center;background-color: white;padding-right: 0.2em;padding-left: 0.2em;position: relative;}#sk-container-id-1 div.sk-item {position: relative;z-index: 1;}#sk-container-id-1 div.sk-parallel {display: flex;align-items: stretch;justify-content: center;background-color: white;position: relative;}#sk-container-id-1 div.sk-item::before, #sk-container-id-1 div.sk-parallel-item::before {content: \"\";position: absolute;border-left: 1px solid gray;box-sizing: border-box;top: 0;bottom: 0;left: 50%;z-index: -1;}#sk-container-id-1 div.sk-parallel-item {display: flex;flex-direction: column;z-index: 1;position: relative;background-color: white;}#sk-container-id-1 div.sk-parallel-item:first-child::after {align-self: flex-end;width: 50%;}#sk-container-id-1 div.sk-parallel-item:last-child::after {align-self: flex-start;width: 50%;}#sk-container-id-1 div.sk-parallel-item:only-child::after {width: 0;}#sk-container-id-1 div.sk-dashed-wrapped {border: 1px dashed gray;margin: 0 0.4em 0.5em 0.4em;box-sizing: border-box;padding-bottom: 0.4em;background-color: white;}#sk-container-id-1 div.sk-label label {font-family: monospace;font-weight: bold;display: inline-block;line-height: 1.2em;}#sk-container-id-1 div.sk-label-container {text-align: center;}#sk-container-id-1 div.sk-container {/* jupyter's `normalize.less` sets `[hidden] { display: none; }` but bootstrap.min.css set `[hidden] { display: none !important; }` so we also need the `!important` here to be able to override the default hidden behavior on the sphinx rendered scikit-learn.org. See: https://github.com/scikit-learn/scikit-learn/issues/21755 */display: inline-block !important;position: relative;}#sk-container-id-1 div.sk-text-repr-fallback {display: none;}</style><div id=\"sk-container-id-1\" class=\"sk-top-container\"><div class=\"sk-text-repr-fallback\"><pre>CategoricalImputer(variables=[&#x27;category&#x27;])</pre><b>In a Jupyter environment, please rerun this cell to show the HTML representation or trust the notebook. <br />On GitHub, the HTML representation is unable to render, please try loading this page with nbviewer.org.</b></div><div class=\"sk-container\" hidden><div class=\"sk-item\"><div class=\"sk-estimator sk-toggleable\"><input class=\"sk-toggleable__control sk-hidden--visually\" id=\"sk-estimator-id-1\" type=\"checkbox\" checked><label for=\"sk-estimator-id-1\" class=\"sk-toggleable__label sk-toggleable__label-arrow\">CategoricalImputer</label><div class=\"sk-toggleable__content\"><pre>CategoricalImputer(variables=[&#x27;category&#x27;])</pre></div></div></div></div></div>"
      ],
      "text/plain": [
       "CategoricalImputer(variables=['category'])"
      ]
     },
     "execution_count": 9,
     "metadata": {},
     "output_type": "execute_result"
    }
   ],
   "source": [
    "cat_imputer_missing = CategoricalImputer(imputation_method='missing', variables=['category'])\n",
    "cat_imputer_missing.fit(train)"
   ]
  },
  {
   "cell_type": "code",
   "execution_count": 10,
   "id": "670e1cec",
   "metadata": {},
   "outputs": [
    {
     "name": "stdout",
     "output_type": "stream",
     "text": [
      "0\n"
     ]
    }
   ],
   "source": [
    "train = cat_imputer_missing.transform(train)\n",
    "print(train['category'].isnull().sum())"
   ]
  },
  {
   "cell_type": "code",
   "execution_count": 11,
   "id": "75fa46e7",
   "metadata": {},
   "outputs": [
    {
     "name": "stdout",
     "output_type": "stream",
     "text": [
      "0\n"
     ]
    }
   ],
   "source": [
    "test = cat_imputer_missing.transform(test)\n",
    "print(test['category'].isnull().sum())"
   ]
  },
  {
   "cell_type": "markdown",
   "id": "5dbfc2d0",
   "metadata": {},
   "source": [
    "### Remove rare labels from category and group them as 'Other'"
   ]
  },
  {
   "cell_type": "code",
   "execution_count": 12,
   "id": "12fb12e4",
   "metadata": {},
   "outputs": [
    {
     "name": "stdout",
     "output_type": "stream",
     "text": [
      "15011\n",
      "0.2760288330697657\n"
     ]
    }
   ],
   "source": [
    "print(train['category'].nunique())\n",
    "print(train['category'].nunique() / len(train['category']))"
   ]
  },
  {
   "cell_type": "code",
   "execution_count": 13,
   "id": "bf57fd41",
   "metadata": {},
   "outputs": [
    {
     "name": "stdout",
     "output_type": "stream",
     "text": [
      "4013\n",
      "0.29516034127684615\n"
     ]
    }
   ],
   "source": [
    "print(test['category'].nunique())\n",
    "print(test['category'].nunique() / len(test['category']))"
   ]
  },
  {
   "cell_type": "markdown",
   "id": "5f55056c",
   "metadata": {},
   "source": [
    "About 27-29% of the category labels in train and test set have unique values. We will group those categories that are present \n",
    "in less than 1% of the observations into a new label 'Other'."
   ]
  },
  {
   "cell_type": "markdown",
   "id": "231dd54e",
   "metadata": {},
   "source": [
    "We compute the frequent category labels of the training set and build a list out of them. Then we compare the category labels of both train and test set with the entries in this list and store them accordingly as the orignal label or 'Other' in a new feature 'frequent_category'."
   ]
  },
  {
   "cell_type": "code",
   "execution_count": 14,
   "id": "601ad08f",
   "metadata": {},
   "outputs": [],
   "source": [
    "tmp = train.groupby('category')['category'].count() / len(train)\n",
    "frequent_labels_percentage = tmp[tmp > 0.01]"
   ]
  },
  {
   "cell_type": "code",
   "execution_count": 15,
   "id": "53fec1b7",
   "metadata": {},
   "outputs": [
    {
     "name": "stdout",
     "output_type": "stream",
     "text": [
      "category\n",
      "Ausland          0.055055\n",
      "Deutschland      0.050605\n",
      "Missing          0.380677\n",
      "News             0.058990\n",
      "Politik          0.012173\n",
      "Ukraine-Krise    0.018903\n",
      "Wirtschaft       0.015796\n",
      "Name: category, dtype: float64\n"
     ]
    }
   ],
   "source": [
    "print(frequent_labels_percentage)"
   ]
  },
  {
   "cell_type": "code",
   "execution_count": 16,
   "id": "c6b45fe1",
   "metadata": {},
   "outputs": [
    {
     "data": {
      "text/plain": [
       "{'category': ['Missing',\n",
       "  'News',\n",
       "  'Ausland',\n",
       "  'Deutschland',\n",
       "  'Ukraine-Krise',\n",
       "  'Wirtschaft',\n",
       "  'Politik']}"
      ]
     },
     "execution_count": 16,
     "metadata": {},
     "output_type": "execute_result"
    }
   ],
   "source": [
    "rle = RareLabelEncoder(tol=0.01, n_categories=1, variables=['category'], replace_with='Other')\n",
    "\n",
    "# find common labels\n",
    "rle.fit(train)\n",
    "\n",
    "# the common labels are stored, we can save the class\n",
    "# and then use it later :)\n",
    "rle.encoder_dict_"
   ]
  },
  {
   "cell_type": "code",
   "execution_count": 17,
   "id": "d45b52e9",
   "metadata": {},
   "outputs": [
    {
     "data": {
      "text/html": [
       "<div>\n",
       "<style scoped>\n",
       "    .dataframe tbody tr th:only-of-type {\n",
       "        vertical-align: middle;\n",
       "    }\n",
       "\n",
       "    .dataframe tbody tr th {\n",
       "        vertical-align: top;\n",
       "    }\n",
       "\n",
       "    .dataframe thead th {\n",
       "        text-align: right;\n",
       "    }\n",
       "</style>\n",
       "<table border=\"1\" class=\"dataframe\">\n",
       "  <thead>\n",
       "    <tr style=\"text-align: right;\">\n",
       "      <th></th>\n",
       "      <th>date</th>\n",
       "      <th>title</th>\n",
       "      <th>description</th>\n",
       "      <th>category</th>\n",
       "      <th>text</th>\n",
       "      <th>source</th>\n",
       "    </tr>\n",
       "  </thead>\n",
       "  <tbody>\n",
       "    <tr>\n",
       "      <th>11502</th>\n",
       "      <td>2022-07-17 04:35:48</td>\n",
       "      <td>Ukraine-Überblick: Selenskyj warnt vor Informa...</td>\n",
       "      <td>Ukraines Präsident wirft Russland vor, Falschn...</td>\n",
       "      <td>Ausland</td>\n",
       "      <td>NaN</td>\n",
       "      <td>Zeit</td>\n",
       "    </tr>\n",
       "    <tr>\n",
       "      <th>47261</th>\n",
       "      <td>2023-04-06 11:18:53</td>\n",
       "      <td>Amoklauf in Hamburg: Vertraute warnten Sportsc...</td>\n",
       "      <td>Hätte der Amoklauf von Hamburg verhindert werd...</td>\n",
       "      <td>Other</td>\n",
       "      <td>NaN</td>\n",
       "      <td>Zeit</td>\n",
       "    </tr>\n",
       "    <tr>\n",
       "      <th>8137</th>\n",
       "      <td>2022-07-04 03:18:36</td>\n",
       "      <td>Pandemie: Lauterbach: Schulschließungen nicht ...</td>\n",
       "      <td>Im September läuft die Rechtsgrundlage für Cor...</td>\n",
       "      <td>Other</td>\n",
       "      <td>NaN</td>\n",
       "      <td>stern</td>\n",
       "    </tr>\n",
       "    <tr>\n",
       "      <th>65399</th>\n",
       "      <td>2023-09-14 09:29:15</td>\n",
       "      <td>Tarifeinigung: Spaniens Fußballerinnen beenden...</td>\n",
       "      <td>Die Liga F und die Spielerinnen in Spanien hab...</td>\n",
       "      <td>Other</td>\n",
       "      <td>NaN</td>\n",
       "      <td>Zeit</td>\n",
       "    </tr>\n",
       "    <tr>\n",
       "      <th>10933</th>\n",
       "      <td>2022-07-14 17:34:00</td>\n",
       "      <td>Urteil des EuGH: Thermofenster meist illegal</td>\n",
       "      <td>Abgasreinigung bei Autos darf nicht systematis...</td>\n",
       "      <td>Missing</td>\n",
       "      <td>NaN</td>\n",
       "      <td>taz</td>\n",
       "    </tr>\n",
       "  </tbody>\n",
       "</table>\n",
       "</div>"
      ],
      "text/plain": [
       "                      date                                              title  \\\n",
       "11502  2022-07-17 04:35:48  Ukraine-Überblick: Selenskyj warnt vor Informa...   \n",
       "47261  2023-04-06 11:18:53  Amoklauf in Hamburg: Vertraute warnten Sportsc...   \n",
       "8137   2022-07-04 03:18:36  Pandemie: Lauterbach: Schulschließungen nicht ...   \n",
       "65399  2023-09-14 09:29:15  Tarifeinigung: Spaniens Fußballerinnen beenden...   \n",
       "10933  2022-07-14 17:34:00       Urteil des EuGH: Thermofenster meist illegal   \n",
       "\n",
       "                                             description category  text source  \n",
       "11502  Ukraines Präsident wirft Russland vor, Falschn...  Ausland   NaN   Zeit  \n",
       "47261  Hätte der Amoklauf von Hamburg verhindert werd...    Other   NaN   Zeit  \n",
       "8137   Im September läuft die Rechtsgrundlage für Cor...    Other   NaN  stern  \n",
       "65399  Die Liga F und die Spielerinnen in Spanien hab...    Other   NaN   Zeit  \n",
       "10933  Abgasreinigung bei Autos darf nicht systematis...  Missing   NaN    taz  "
      ]
     },
     "execution_count": 17,
     "metadata": {},
     "output_type": "execute_result"
    }
   ],
   "source": [
    "train = rle.transform(train)\n",
    "train.head()"
   ]
  },
  {
   "cell_type": "code",
   "execution_count": 18,
   "id": "971d9fb5",
   "metadata": {},
   "outputs": [
    {
     "data": {
      "text/html": [
       "<div>\n",
       "<style scoped>\n",
       "    .dataframe tbody tr th:only-of-type {\n",
       "        vertical-align: middle;\n",
       "    }\n",
       "\n",
       "    .dataframe tbody tr th {\n",
       "        vertical-align: top;\n",
       "    }\n",
       "\n",
       "    .dataframe thead th {\n",
       "        text-align: right;\n",
       "    }\n",
       "</style>\n",
       "<table border=\"1\" class=\"dataframe\">\n",
       "  <thead>\n",
       "    <tr style=\"text-align: right;\">\n",
       "      <th></th>\n",
       "      <th>date</th>\n",
       "      <th>title</th>\n",
       "      <th>description</th>\n",
       "      <th>category</th>\n",
       "      <th>text</th>\n",
       "      <th>source</th>\n",
       "    </tr>\n",
       "  </thead>\n",
       "  <tbody>\n",
       "    <tr>\n",
       "      <th>36521</th>\n",
       "      <td>2023-01-27 14:42:55</td>\n",
       "      <td>„Die Russen sind nicht weit weg“ - Nach Soleda...</td>\n",
       "      <td>Die meisten der einst 70.000 Einwohner Bachmut...</td>\n",
       "      <td>Ukraine-Krise</td>\n",
       "      <td>NaN</td>\n",
       "      <td>Focus</td>\n",
       "    </tr>\n",
       "    <tr>\n",
       "      <th>6172</th>\n",
       "      <td>2022-06-26 18:56:00</td>\n",
       "      <td>Giffey, die EU und die Documenta: In die Torte...</td>\n",
       "      <td>Berlin fällt auf einen Deepfake-Klitschko rein...</td>\n",
       "      <td>Missing</td>\n",
       "      <td>NaN</td>\n",
       "      <td>taz</td>\n",
       "    </tr>\n",
       "    <tr>\n",
       "      <th>57317</th>\n",
       "      <td>2023-06-16 09:22:47</td>\n",
       "      <td>Katholische Kirche: Papst Franziskus verlässt ...</td>\n",
       "      <td>Nach knapp eineinhalb Wochen verlässt Papst Fr...</td>\n",
       "      <td>Other</td>\n",
       "      <td>NaN</td>\n",
       "      <td>stern</td>\n",
       "    </tr>\n",
       "    <tr>\n",
       "      <th>64384</th>\n",
       "      <td>2023-09-07 11:09:18</td>\n",
       "      <td>Der neue Botox-Feminismus</td>\n",
       "      <td>Früher waren Schönheits-OPs umstritten. Heute ...</td>\n",
       "      <td>Other</td>\n",
       "      <td>NaN</td>\n",
       "      <td>Welt</td>\n",
       "    </tr>\n",
       "    <tr>\n",
       "      <th>9731</th>\n",
       "      <td>2022-07-10 14:55:00</td>\n",
       "      <td>Ukraine-Krieg : Noch hat Kiew den Krieg nicht ...</td>\n",
       "      <td>In den letzten Wochen hat Kiew Niederlage eins...</td>\n",
       "      <td>Other</td>\n",
       "      <td>NaN</td>\n",
       "      <td>stern</td>\n",
       "    </tr>\n",
       "  </tbody>\n",
       "</table>\n",
       "</div>"
      ],
      "text/plain": [
       "                      date                                              title  \\\n",
       "36521  2023-01-27 14:42:55  „Die Russen sind nicht weit weg“ - Nach Soleda...   \n",
       "6172   2022-06-26 18:56:00  Giffey, die EU und die Documenta: In die Torte...   \n",
       "57317  2023-06-16 09:22:47  Katholische Kirche: Papst Franziskus verlässt ...   \n",
       "64384  2023-09-07 11:09:18                          Der neue Botox-Feminismus   \n",
       "9731   2022-07-10 14:55:00  Ukraine-Krieg : Noch hat Kiew den Krieg nicht ...   \n",
       "\n",
       "                                             description       category  text  \\\n",
       "36521  Die meisten der einst 70.000 Einwohner Bachmut...  Ukraine-Krise   NaN   \n",
       "6172   Berlin fällt auf einen Deepfake-Klitschko rein...        Missing   NaN   \n",
       "57317  Nach knapp eineinhalb Wochen verlässt Papst Fr...          Other   NaN   \n",
       "64384  Früher waren Schönheits-OPs umstritten. Heute ...          Other   NaN   \n",
       "9731   In den letzten Wochen hat Kiew Niederlage eins...          Other   NaN   \n",
       "\n",
       "      source  \n",
       "36521  Focus  \n",
       "6172     taz  \n",
       "57317  stern  \n",
       "64384   Welt  \n",
       "9731   stern  "
      ]
     },
     "execution_count": 18,
     "metadata": {},
     "output_type": "execute_result"
    }
   ],
   "source": [
    "test = rle.transform(test)\n",
    "test.head()"
   ]
  },
  {
   "cell_type": "code",
   "execution_count": 19,
   "id": "c0d95b85",
   "metadata": {},
   "outputs": [
    {
     "data": {
      "text/plain": [
       "category\n",
       "Other            22177\n",
       "Missing          20702\n",
       "News              3208\n",
       "Ausland           2994\n",
       "Deutschland       2752\n",
       "Ukraine-Krise     1028\n",
       "Wirtschaft         859\n",
       "Politik            662\n",
       "Name: count, dtype: int64"
      ]
     },
     "execution_count": 19,
     "metadata": {},
     "output_type": "execute_result"
    }
   ],
   "source": [
    "train['category'].value_counts()"
   ]
  },
  {
   "cell_type": "code",
   "execution_count": 20,
   "id": "5db011ca",
   "metadata": {},
   "outputs": [
    {
     "data": {
      "text/plain": [
       "category\n",
       "Other            5560\n",
       "Missing          5168\n",
       "News              833\n",
       "Ausland           760\n",
       "Deutschland       610\n",
       "Wirtschaft        264\n",
       "Ukraine-Krise     235\n",
       "Politik           166\n",
       "Name: count, dtype: int64"
      ]
     },
     "execution_count": 20,
     "metadata": {},
     "output_type": "execute_result"
    }
   ],
   "source": [
    "test['category'].value_counts()"
   ]
  },
  {
   "cell_type": "code",
   "execution_count": 21,
   "id": "edb05eff",
   "metadata": {},
   "outputs": [
    {
     "data": {
      "image/png": "[encoded data removed]",
      "text/plain": [
       "<Figure size 1000x500 with 1 Axes>"
      ]
     },
     "metadata": {},
     "output_type": "display_data"
    }
   ],
   "source": [
    "fig, ax = plt.subplots(figsize=(10, 5))\n",
    "sns.countplot(data=train, x='category', order=train['category'].value_counts().index)\n",
    "plt.title('Most frequent category labels of news headlines in training set')\n",
    "plt.show()"
   ]
  },
  {
   "cell_type": "code",
   "execution_count": 22,
   "id": "81a1f751",
   "metadata": {},
   "outputs": [
    {
     "data": {
      "image/png": "[encoded data removed]",
      "text/plain": [
       "<Figure size 1000x500 with 1 Axes>"
      ]
     },
     "metadata": {},
     "output_type": "display_data"
    }
   ],
   "source": [
    "fig, ax = plt.subplots(figsize=(10, 5))\n",
    "sns.countplot(data=test, x='category', order=test['category'].value_counts().index)\n",
    "plt.title('Most frequent category labels of news headlines in test set')\n",
    "plt.show()"
   ]
  },
  {
   "cell_type": "markdown",
   "id": "625dc403",
   "metadata": {},
   "source": [
    "### Store news"
   ]
  },
  {
   "cell_type": "code",
   "execution_count": 23,
   "id": "25b81b0e",
   "metadata": {},
   "outputs": [],
   "source": [
    "train.to_csv('train_with_open_source.csv', index=False)\n",
    "test.to_csv('test_with_open_source.csv', index=False)"
   ]
  },
  {
   "cell_type": "code",
   "execution_count": null,
   "id": "fcb73507",
   "metadata": {},
   "outputs": [],
   "source": []
  }
 ],
 "metadata": {
  "kernelspec": {
   "display_name": "nlp",
   "language": "python",
   "name": "nlp"
  },
  "language_info": {
   "codemirror_mode": {
    "name": "ipython",
    "version": 3
   },
   "file_extension": ".py",
   "mimetype": "text/x-python",
   "name": "python",
   "nbconvert_exporter": "python",
   "pygments_lexer": "ipython3",
   "version": "3.11.5"
  }
 },
 "nbformat": 4,
 "nbformat_minor": 5
}
