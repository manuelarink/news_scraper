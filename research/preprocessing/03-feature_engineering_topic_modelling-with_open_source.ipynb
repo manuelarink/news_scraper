{
 "cells": [
  {
   "cell_type": "markdown",
   "id": "767d1c1f",
   "metadata": {},
   "source": [
    "# Feature engineering for classification and topic modelling of news headlines using open source"
   ]
  },
  {
   "cell_type": "markdown",
   "id": "c53ef551",
   "metadata": {},
   "source": [
    "As a first task we want to explore the different labels of category of the gathered news items. Missing values will be filled with 'Missing', rare labels will be grouped as 'Other'.\n",
    "In a later step we want to train a ML model for text classification to predict a category label (supervised learning) as well as clustering the news into different topics (unsupervised learning) and compare them with the labeled categories."
   ]
  },
  {
   "cell_type": "code",
   "execution_count": 110,
   "id": "f1b6dbe6",
   "metadata": {},
   "outputs": [],
   "source": [
    "import pandas as pd\n",
    "import numpy as np\n",
    "import matplotlib.pyplot as plt\n",
    "import seaborn as sns\n",
    "import sqlalchemy as sql\n",
    "\n",
    "from sklearn.model_selection import train_test_split\n",
    "from sklearn.preprocessing import Binarizer\n",
    "\n",
    "# for saving the pipeline\n",
    "import joblib\n",
    "\n",
    "# from feature-engine\n",
    "from feature_engine.imputation import CategoricalImputer, AddMissingIndicator\n",
    "from feature_engine.encoding import RareLabelEncoder\n",
    "from feature_engine.selection import DropFeatures\n",
    "from feature_engine.wrappers import SklearnTransformerWrapper"
   ]
  },
  {
   "cell_type": "markdown",
   "id": "88ed8222",
   "metadata": {},
   "source": [
    "### Load the cleaned data from file"
   ]
  },
  {
   "cell_type": "code",
   "execution_count": 111,
   "id": "ab3d1a5c",
   "metadata": {},
   "outputs": [],
   "source": [
    "news = pd.read_csv('../eda/news.csv')"
   ]
  },
  {
   "cell_type": "code",
   "execution_count": 112,
   "id": "e0848d95",
   "metadata": {},
   "outputs": [
    {
     "data": {
      "text/html": [
       "<div>\n",
       "<style scoped>\n",
       "    .dataframe tbody tr th:only-of-type {\n",
       "        vertical-align: middle;\n",
       "    }\n",
       "\n",
       "    .dataframe tbody tr th {\n",
       "        vertical-align: top;\n",
       "    }\n",
       "\n",
       "    .dataframe thead th {\n",
       "        text-align: right;\n",
       "    }\n",
       "</style>\n",
       "<table border=\"1\" class=\"dataframe\">\n",
       "  <thead>\n",
       "    <tr style=\"text-align: right;\">\n",
       "      <th></th>\n",
       "      <th>date</th>\n",
       "      <th>title</th>\n",
       "      <th>description</th>\n",
       "      <th>category</th>\n",
       "      <th>text</th>\n",
       "      <th>source</th>\n",
       "    </tr>\n",
       "  </thead>\n",
       "  <tbody>\n",
       "    <tr>\n",
       "      <th>67501</th>\n",
       "      <td>2023-09-29 11:30:00</td>\n",
       "      <td>Escobar - Mein Vater, der Drogenbaron (4/4)</td>\n",
       "      <td>Er trägt den Namen des grausamsten Drogenbosse...</td>\n",
       "      <td>ZDFinfo Doku</td>\n",
       "      <td>NaN</td>\n",
       "      <td>ZDF heute</td>\n",
       "    </tr>\n",
       "    <tr>\n",
       "      <th>67500</th>\n",
       "      <td>2023-09-29 09:05:24</td>\n",
       "      <td>Liveblog: ++ Selenskyj: Haben NATO-Mitgliedsch...</td>\n",
       "      <td>Nach dem Besuch von NATO-Generalsekretär Stolt...</td>\n",
       "      <td>NaN</td>\n",
       "      <td>NaN</td>\n",
       "      <td>Tagesschau</td>\n",
       "    </tr>\n",
       "    <tr>\n",
       "      <th>67499</th>\n",
       "      <td>2023-09-29 09:02:20</td>\n",
       "      <td>Biden sieht Demokratie in Gefahr - „Etwas Gefä...</td>\n",
       "      <td>US-Präsident Joe Biden sieht die Demokratie du...</td>\n",
       "      <td>US-Wahl</td>\n",
       "      <td>NaN</td>\n",
       "      <td>Focus</td>\n",
       "    </tr>\n",
       "    <tr>\n",
       "      <th>67498</th>\n",
       "      <td>2023-09-29 08:44:40</td>\n",
       "      <td>Arme Eltern sollen mit Kindern zu McDonald&amp;#03...</td>\n",
       "      <td>Österreichs Bundeskanzler Nehammer in der Krit...</td>\n",
       "      <td>Ausland</td>\n",
       "      <td>NaN</td>\n",
       "      <td>Focus</td>\n",
       "    </tr>\n",
       "    <tr>\n",
       "      <th>67497</th>\n",
       "      <td>2023-09-29 08:39:00</td>\n",
       "      <td>Beim VfL Bochum kickt die Nachhaltigkeit mit</td>\n",
       "      <td>Grüne Politik, Klimadiskussionen, nachhaltiges...</td>\n",
       "      <td>Bundesligist für Preis nominiert</td>\n",
       "      <td>NaN</td>\n",
       "      <td>ZDF heute</td>\n",
       "    </tr>\n",
       "  </tbody>\n",
       "</table>\n",
       "</div>"
      ],
      "text/plain": [
       "                      date  ...      source\n",
       "67501  2023-09-29 11:30:00  ...   ZDF heute\n",
       "67500  2023-09-29 09:05:24  ...  Tagesschau\n",
       "67499  2023-09-29 09:02:20  ...       Focus\n",
       "67498  2023-09-29 08:44:40  ...       Focus\n",
       "67497  2023-09-29 08:39:00  ...   ZDF heute\n",
       "\n",
       "[5 rows x 6 columns]"
      ]
     },
     "execution_count": 112,
     "metadata": {},
     "output_type": "execute_result"
    }
   ],
   "source": [
    "news.sort_values(by='date', ascending=False, inplace=True)\n",
    "news.head()"
   ]
  },
  {
   "cell_type": "markdown",
   "id": "615b1d89",
   "metadata": {},
   "source": [
    "### Split the data into train and test set"
   ]
  },
  {
   "cell_type": "code",
   "execution_count": 113,
   "id": "afab5f5f",
   "metadata": {},
   "outputs": [],
   "source": [
    "train, test = train_test_split(news, test_size=0.2, random_state=42)"
   ]
  },
  {
   "cell_type": "code",
   "execution_count": 114,
   "id": "9b81615b",
   "metadata": {},
   "outputs": [
    {
     "data": {
      "text/html": [
       "<div>\n",
       "<style scoped>\n",
       "    .dataframe tbody tr th:only-of-type {\n",
       "        vertical-align: middle;\n",
       "    }\n",
       "\n",
       "    .dataframe tbody tr th {\n",
       "        vertical-align: top;\n",
       "    }\n",
       "\n",
       "    .dataframe thead th {\n",
       "        text-align: right;\n",
       "    }\n",
       "</style>\n",
       "<table border=\"1\" class=\"dataframe\">\n",
       "  <thead>\n",
       "    <tr style=\"text-align: right;\">\n",
       "      <th></th>\n",
       "      <th>date</th>\n",
       "      <th>title</th>\n",
       "      <th>description</th>\n",
       "      <th>category</th>\n",
       "      <th>text</th>\n",
       "      <th>source</th>\n",
       "    </tr>\n",
       "  </thead>\n",
       "  <tbody>\n",
       "    <tr>\n",
       "      <th>51787</th>\n",
       "      <td>2023-05-04 17:18:27</td>\n",
       "      <td>Fans bemerken Fehler sofort - FDP-Minister fei...</td>\n",
       "      <td>Justizminister Marco Buschmann hat mit einem V...</td>\n",
       "      <td>Panorama</td>\n",
       "      <td>NaN</td>\n",
       "      <td>Focus</td>\n",
       "    </tr>\n",
       "    <tr>\n",
       "      <th>26914</th>\n",
       "      <td>2022-10-24 12:00:00</td>\n",
       "      <td>\"Rishi Sunak ist auf der Siegerstraße\"</td>\n",
       "      <td>Auf der Suche nach einer Nachfolge für das Amt...</td>\n",
       "      <td>ZDF-Korrespondent Stamm</td>\n",
       "      <td>NaN</td>\n",
       "      <td>ZDF heute</td>\n",
       "    </tr>\n",
       "    <tr>\n",
       "      <th>49420</th>\n",
       "      <td>2023-04-18 19:00:00</td>\n",
       "      <td>Nach Springer-Enthüllungen: Vom Clickbait-Boul...</td>\n",
       "      <td>In einem Interview verteidigte Autorin Nora Bo...</td>\n",
       "      <td>NaN</td>\n",
       "      <td>NaN</td>\n",
       "      <td>taz</td>\n",
       "    </tr>\n",
       "    <tr>\n",
       "      <th>50566</th>\n",
       "      <td>2023-04-25 16:44:58</td>\n",
       "      <td>Jetzt droht der Ausverkauf der nächsten deutsc...</td>\n",
       "      <td>Erfolgreich, traditionell, familienorientiert ...</td>\n",
       "      <td>Energie</td>\n",
       "      <td>NaN</td>\n",
       "      <td>Welt</td>\n",
       "    </tr>\n",
       "    <tr>\n",
       "      <th>56620</th>\n",
       "      <td>2023-06-12 10:08:32</td>\n",
       "      <td>UBS schließt Übernahme der Credit Suisse ab</td>\n",
       "      <td>Die Übernahme der Großbank Credit Suisse ist n...</td>\n",
       "      <td>NaN</td>\n",
       "      <td>NaN</td>\n",
       "      <td>Tagesschau</td>\n",
       "    </tr>\n",
       "  </tbody>\n",
       "</table>\n",
       "</div>"
      ],
      "text/plain": [
       "                      date  ...      source\n",
       "51787  2023-05-04 17:18:27  ...       Focus\n",
       "26914  2022-10-24 12:00:00  ...   ZDF heute\n",
       "49420  2023-04-18 19:00:00  ...         taz\n",
       "50566  2023-04-25 16:44:58  ...        Welt\n",
       "56620  2023-06-12 10:08:32  ...  Tagesschau\n",
       "\n",
       "[5 rows x 6 columns]"
      ]
     },
     "execution_count": 114,
     "metadata": {},
     "output_type": "execute_result"
    }
   ],
   "source": [
    "train.head()"
   ]
  },
  {
   "cell_type": "code",
   "execution_count": 115,
   "id": "1341ac11",
   "metadata": {},
   "outputs": [
    {
     "data": {
      "text/html": [
       "<div>\n",
       "<style scoped>\n",
       "    .dataframe tbody tr th:only-of-type {\n",
       "        vertical-align: middle;\n",
       "    }\n",
       "\n",
       "    .dataframe tbody tr th {\n",
       "        vertical-align: top;\n",
       "    }\n",
       "\n",
       "    .dataframe thead th {\n",
       "        text-align: right;\n",
       "    }\n",
       "</style>\n",
       "<table border=\"1\" class=\"dataframe\">\n",
       "  <thead>\n",
       "    <tr style=\"text-align: right;\">\n",
       "      <th></th>\n",
       "      <th>date</th>\n",
       "      <th>title</th>\n",
       "      <th>description</th>\n",
       "      <th>category</th>\n",
       "      <th>text</th>\n",
       "      <th>source</th>\n",
       "    </tr>\n",
       "  </thead>\n",
       "  <tbody>\n",
       "    <tr>\n",
       "      <th>43290</th>\n",
       "      <td>2023-03-14 07:56:23</td>\n",
       "      <td>Bundesweite Warnstreiks im Gesundheitswesen</td>\n",
       "      <td>Die Gewerkschaft ver.di hat im Tarifstreit des...</td>\n",
       "      <td>NaN</td>\n",
       "      <td>NaN</td>\n",
       "      <td>Tagesschau</td>\n",
       "    </tr>\n",
       "    <tr>\n",
       "      <th>29137</th>\n",
       "      <td>2022-11-22 07:20:06</td>\n",
       "      <td>Gräuel im Ukraine-Krieg - Putins Männer holen ...</td>\n",
       "      <td>Die russische Armee hat in der Ukraine einen K...</td>\n",
       "      <td>Ukraine-Krise</td>\n",
       "      <td>NaN</td>\n",
       "      <td>Focus</td>\n",
       "    </tr>\n",
       "    <tr>\n",
       "      <th>52488</th>\n",
       "      <td>2023-05-10 08:45:00</td>\n",
       "      <td>Der Speckgürtel um Metropolen wächst</td>\n",
       "      <td>Wohnen wird in Metropolen immer teurer, deshal...</td>\n",
       "      <td>So wohnen die Deutschen</td>\n",
       "      <td>NaN</td>\n",
       "      <td>ZDF heute</td>\n",
       "    </tr>\n",
       "    <tr>\n",
       "      <th>33136</th>\n",
       "      <td>2022-12-31 04:28:49</td>\n",
       "      <td>Nordkorea feuert drei Kurzstreckenraketen ab</td>\n",
       "      <td>Kurz vor Jahresende feuert Nordkorea nach Anga...</td>\n",
       "      <td>NaN</td>\n",
       "      <td>NaN</td>\n",
       "      <td>Tagesschau</td>\n",
       "    </tr>\n",
       "    <tr>\n",
       "      <th>61526</th>\n",
       "      <td>2023-08-15 10:20:54</td>\n",
       "      <td>Ermittlungen: Schüsse auf Shisha-Bar in Altona...</td>\n",
       "      <td>NaN</td>\n",
       "      <td>News</td>\n",
       "      <td>NaN</td>\n",
       "      <td>Zeit</td>\n",
       "    </tr>\n",
       "  </tbody>\n",
       "</table>\n",
       "</div>"
      ],
      "text/plain": [
       "                      date  ...      source\n",
       "43290  2023-03-14 07:56:23  ...  Tagesschau\n",
       "29137  2022-11-22 07:20:06  ...       Focus\n",
       "52488  2023-05-10 08:45:00  ...   ZDF heute\n",
       "33136  2022-12-31 04:28:49  ...  Tagesschau\n",
       "61526  2023-08-15 10:20:54  ...        Zeit\n",
       "\n",
       "[5 rows x 6 columns]"
      ]
     },
     "execution_count": 115,
     "metadata": {},
     "output_type": "execute_result"
    }
   ],
   "source": [
    "test.head()"
   ]
  },
  {
   "cell_type": "markdown",
   "id": "7af31240",
   "metadata": {},
   "source": [
    "### Replace missing categories by 'Missing'"
   ]
  },
  {
   "cell_type": "markdown",
   "id": "0899dcb6",
   "metadata": {},
   "source": [
    "First we detect the number of missing values in category and replace them with 'Missing'."
   ]
  },
  {
   "cell_type": "code",
   "execution_count": 116,
   "id": "399d1806",
   "metadata": {},
   "outputs": [
    {
     "name": "stdout",
     "output_type": "stream",
     "text": [
      "20617\n",
      "0.38178922612544214\n"
     ]
    }
   ],
   "source": [
    "print(train['category'].isnull().sum())\n",
    "print(train['category'].isnull().mean()) # == print(train['category'].isnull().sum() / len(train))"
   ]
  },
  {
   "cell_type": "code",
   "execution_count": 117,
   "id": "25886c84",
   "metadata": {},
   "outputs": [
    {
     "name": "stdout",
     "output_type": "stream",
     "text": [
      "5079\n",
      "0.3761943559736316\n"
     ]
    }
   ],
   "source": [
    "print(test['category'].isnull().sum())\n",
    "print(test['category'].isnull().mean())"
   ]
  },
  {
   "cell_type": "code",
   "execution_count": 118,
   "id": "9625b28d",
   "metadata": {},
   "outputs": [
    {
     "data": {
      "text/html": [
       "<style>#sk-container-id-6 {color: black;background-color: white;}#sk-container-id-6 pre{padding: 0;}#sk-container-id-6 div.sk-toggleable {background-color: white;}#sk-container-id-6 label.sk-toggleable__label {cursor: pointer;display: block;width: 100%;margin-bottom: 0;padding: 0.3em;box-sizing: border-box;text-align: center;}#sk-container-id-6 label.sk-toggleable__label-arrow:before {content: \"▸\";float: left;margin-right: 0.25em;color: #696969;}#sk-container-id-6 label.sk-toggleable__label-arrow:hover:before {color: black;}#sk-container-id-6 div.sk-estimator:hover label.sk-toggleable__label-arrow:before {color: black;}#sk-container-id-6 div.sk-toggleable__content {max-height: 0;max-width: 0;overflow: hidden;text-align: left;background-color: #f0f8ff;}#sk-container-id-6 div.sk-toggleable__content pre {margin: 0.2em;color: black;border-radius: 0.25em;background-color: #f0f8ff;}#sk-container-id-6 input.sk-toggleable__control:checked~div.sk-toggleable__content {max-height: 200px;max-width: 100%;overflow: auto;}#sk-container-id-6 input.sk-toggleable__control:checked~label.sk-toggleable__label-arrow:before {content: \"▾\";}#sk-container-id-6 div.sk-estimator input.sk-toggleable__control:checked~label.sk-toggleable__label {background-color: #d4ebff;}#sk-container-id-6 div.sk-label input.sk-toggleable__control:checked~label.sk-toggleable__label {background-color: #d4ebff;}#sk-container-id-6 input.sk-hidden--visually {border: 0;clip: rect(1px 1px 1px 1px);clip: rect(1px, 1px, 1px, 1px);height: 1px;margin: -1px;overflow: hidden;padding: 0;position: absolute;width: 1px;}#sk-container-id-6 div.sk-estimator {font-family: monospace;background-color: #f0f8ff;border: 1px dotted black;border-radius: 0.25em;box-sizing: border-box;margin-bottom: 0.5em;}#sk-container-id-6 div.sk-estimator:hover {background-color: #d4ebff;}#sk-container-id-6 div.sk-parallel-item::after {content: \"\";width: 100%;border-bottom: 1px solid gray;flex-grow: 1;}#sk-container-id-6 div.sk-label:hover label.sk-toggleable__label {background-color: #d4ebff;}#sk-container-id-6 div.sk-serial::before {content: \"\";position: absolute;border-left: 1px solid gray;box-sizing: border-box;top: 0;bottom: 0;left: 50%;z-index: 0;}#sk-container-id-6 div.sk-serial {display: flex;flex-direction: column;align-items: center;background-color: white;padding-right: 0.2em;padding-left: 0.2em;position: relative;}#sk-container-id-6 div.sk-item {position: relative;z-index: 1;}#sk-container-id-6 div.sk-parallel {display: flex;align-items: stretch;justify-content: center;background-color: white;position: relative;}#sk-container-id-6 div.sk-item::before, #sk-container-id-6 div.sk-parallel-item::before {content: \"\";position: absolute;border-left: 1px solid gray;box-sizing: border-box;top: 0;bottom: 0;left: 50%;z-index: -1;}#sk-container-id-6 div.sk-parallel-item {display: flex;flex-direction: column;z-index: 1;position: relative;background-color: white;}#sk-container-id-6 div.sk-parallel-item:first-child::after {align-self: flex-end;width: 50%;}#sk-container-id-6 div.sk-parallel-item:last-child::after {align-self: flex-start;width: 50%;}#sk-container-id-6 div.sk-parallel-item:only-child::after {width: 0;}#sk-container-id-6 div.sk-dashed-wrapped {border: 1px dashed gray;margin: 0 0.4em 0.5em 0.4em;box-sizing: border-box;padding-bottom: 0.4em;background-color: white;}#sk-container-id-6 div.sk-label label {font-family: monospace;font-weight: bold;display: inline-block;line-height: 1.2em;}#sk-container-id-6 div.sk-label-container {text-align: center;}#sk-container-id-6 div.sk-container {/* jupyter's `normalize.less` sets `[hidden] { display: none; }` but bootstrap.min.css set `[hidden] { display: none !important; }` so we also need the `!important` here to be able to override the default hidden behavior on the sphinx rendered scikit-learn.org. See: https://github.com/scikit-learn/scikit-learn/issues/21755 */display: inline-block !important;position: relative;}#sk-container-id-6 div.sk-text-repr-fallback {display: none;}</style><div id=\"sk-container-id-6\" class=\"sk-top-container\"><div class=\"sk-text-repr-fallback\"><pre>CategoricalImputer(variables=[&#x27;category&#x27;])</pre><b>In a Jupyter environment, please rerun this cell to show the HTML representation or trust the notebook. <br />On GitHub, the HTML representation is unable to render, please try loading this page with nbviewer.org.</b></div><div class=\"sk-container\" hidden><div class=\"sk-item\"><div class=\"sk-estimator sk-toggleable\"><input class=\"sk-toggleable__control sk-hidden--visually\" id=\"sk-estimator-id-6\" type=\"checkbox\" checked><label for=\"sk-estimator-id-6\" class=\"sk-toggleable__label sk-toggleable__label-arrow\">CategoricalImputer</label><div class=\"sk-toggleable__content\"><pre>CategoricalImputer(variables=[&#x27;category&#x27;])</pre></div></div></div></div></div>"
      ],
      "text/plain": [
       "CategoricalImputer(variables=['category'])"
      ]
     },
     "execution_count": 118,
     "metadata": {},
     "output_type": "execute_result"
    }
   ],
   "source": [
    "cat_imputer_missing = CategoricalImputer(imputation_method='missing', variables=['category'])\n",
    "cat_imputer_missing.fit(train)"
   ]
  },
  {
   "cell_type": "code",
   "execution_count": 119,
   "id": "670e1cec",
   "metadata": {},
   "outputs": [
    {
     "name": "stdout",
     "output_type": "stream",
     "text": [
      "0\n"
     ]
    }
   ],
   "source": [
    "train = cat_imputer_missing.transform(train)\n",
    "print(train['category'].isnull().sum())"
   ]
  },
  {
   "cell_type": "code",
   "execution_count": 120,
   "id": "75fa46e7",
   "metadata": {},
   "outputs": [
    {
     "name": "stdout",
     "output_type": "stream",
     "text": [
      "0\n"
     ]
    }
   ],
   "source": [
    "test = cat_imputer_missing.transform(test)\n",
    "print(test['category'].isnull().sum())"
   ]
  },
  {
   "cell_type": "markdown",
   "id": "5dbfc2d0",
   "metadata": {},
   "source": [
    "### Remove rare labels from category and group them as 'Other'"
   ]
  },
  {
   "cell_type": "code",
   "execution_count": 121,
   "id": "12fb12e4",
   "metadata": {},
   "outputs": [
    {
     "name": "stdout",
     "output_type": "stream",
     "text": [
      "14990\n",
      "0.27758745208422064\n"
     ]
    }
   ],
   "source": [
    "print(train['category'].nunique())\n",
    "print(train['category'].nunique() / len(train['category']))"
   ]
  },
  {
   "cell_type": "code",
   "execution_count": 122,
   "id": "bf57fd41",
   "metadata": {},
   "outputs": [
    {
     "name": "stdout",
     "output_type": "stream",
     "text": [
      "3941\n",
      "0.29190430338493445\n"
     ]
    }
   ],
   "source": [
    "print(test['category'].nunique())\n",
    "print(test['category'].nunique() / len(test['category']))"
   ]
  },
  {
   "cell_type": "markdown",
   "id": "5f55056c",
   "metadata": {},
   "source": [
    "About 27-29% of the category labels in train and test set have unique values. We will group those categories that are present \n",
    "in less than 1% of the observations into a new label 'Other'."
   ]
  },
  {
   "cell_type": "markdown",
   "id": "231dd54e",
   "metadata": {},
   "source": [
    "We compute the frequent category labels of the training set and build a list out of them. Then we compare the category labels of both train and test set with the entries in this list and store them accordingly as the orignal label or 'Other' in a new feature 'frequent_category'."
   ]
  },
  {
   "cell_type": "code",
   "execution_count": 123,
   "id": "601ad08f",
   "metadata": {},
   "outputs": [],
   "source": [
    "tmp = train.groupby('category')['category'].count() / len(train)\n",
    "frequent_labels_percentage = tmp[tmp > 0.01]"
   ]
  },
  {
   "cell_type": "code",
   "execution_count": 124,
   "id": "53fec1b7",
   "metadata": {},
   "outputs": [
    {
     "name": "stdout",
     "output_type": "stream",
     "text": [
      "category\n",
      "Ausland          0.054184\n",
      "Deutschland      0.049203\n",
      "Missing          0.381789\n",
      "News             0.060147\n",
      "Politik          0.012166\n",
      "Ukraine-Krise    0.018129\n",
      "Wirtschaft       0.016481\n",
      "Name: category, dtype: float64\n"
     ]
    }
   ],
   "source": [
    "print(frequent_labels_percentage)"
   ]
  },
  {
   "cell_type": "code",
   "execution_count": 125,
   "id": "c6b45fe1",
   "metadata": {},
   "outputs": [
    {
     "data": {
      "text/plain": [
       "{'category': ['Missing',\n",
       "  'News',\n",
       "  'Ausland',\n",
       "  'Deutschland',\n",
       "  'Ukraine-Krise',\n",
       "  'Wirtschaft',\n",
       "  'Politik']}"
      ]
     },
     "execution_count": 125,
     "metadata": {},
     "output_type": "execute_result"
    }
   ],
   "source": [
    "rle = RareLabelEncoder(tol=0.01, n_categories=1, variables=['category'], replace_with='Other')\n",
    "\n",
    "# find common labels\n",
    "rle.fit(train)\n",
    "\n",
    "# the common labels are stored, we can save the class\n",
    "# and then use it later :)\n",
    "rle.encoder_dict_"
   ]
  },
  {
   "cell_type": "code",
   "execution_count": 126,
   "id": "d45b52e9",
   "metadata": {},
   "outputs": [
    {
     "data": {
      "text/html": [
       "<div>\n",
       "<style scoped>\n",
       "    .dataframe tbody tr th:only-of-type {\n",
       "        vertical-align: middle;\n",
       "    }\n",
       "\n",
       "    .dataframe tbody tr th {\n",
       "        vertical-align: top;\n",
       "    }\n",
       "\n",
       "    .dataframe thead th {\n",
       "        text-align: right;\n",
       "    }\n",
       "</style>\n",
       "<table border=\"1\" class=\"dataframe\">\n",
       "  <thead>\n",
       "    <tr style=\"text-align: right;\">\n",
       "      <th></th>\n",
       "      <th>date</th>\n",
       "      <th>title</th>\n",
       "      <th>description</th>\n",
       "      <th>category</th>\n",
       "      <th>text</th>\n",
       "      <th>source</th>\n",
       "    </tr>\n",
       "  </thead>\n",
       "  <tbody>\n",
       "    <tr>\n",
       "      <th>51787</th>\n",
       "      <td>2023-05-04 17:18:27</td>\n",
       "      <td>Fans bemerken Fehler sofort - FDP-Minister fei...</td>\n",
       "      <td>Justizminister Marco Buschmann hat mit einem V...</td>\n",
       "      <td>Other</td>\n",
       "      <td>NaN</td>\n",
       "      <td>Focus</td>\n",
       "    </tr>\n",
       "    <tr>\n",
       "      <th>26914</th>\n",
       "      <td>2022-10-24 12:00:00</td>\n",
       "      <td>\"Rishi Sunak ist auf der Siegerstraße\"</td>\n",
       "      <td>Auf der Suche nach einer Nachfolge für das Amt...</td>\n",
       "      <td>Other</td>\n",
       "      <td>NaN</td>\n",
       "      <td>ZDF heute</td>\n",
       "    </tr>\n",
       "    <tr>\n",
       "      <th>49420</th>\n",
       "      <td>2023-04-18 19:00:00</td>\n",
       "      <td>Nach Springer-Enthüllungen: Vom Clickbait-Boul...</td>\n",
       "      <td>In einem Interview verteidigte Autorin Nora Bo...</td>\n",
       "      <td>Missing</td>\n",
       "      <td>NaN</td>\n",
       "      <td>taz</td>\n",
       "    </tr>\n",
       "    <tr>\n",
       "      <th>50566</th>\n",
       "      <td>2023-04-25 16:44:58</td>\n",
       "      <td>Jetzt droht der Ausverkauf der nächsten deutsc...</td>\n",
       "      <td>Erfolgreich, traditionell, familienorientiert ...</td>\n",
       "      <td>Other</td>\n",
       "      <td>NaN</td>\n",
       "      <td>Welt</td>\n",
       "    </tr>\n",
       "    <tr>\n",
       "      <th>56620</th>\n",
       "      <td>2023-06-12 10:08:32</td>\n",
       "      <td>UBS schließt Übernahme der Credit Suisse ab</td>\n",
       "      <td>Die Übernahme der Großbank Credit Suisse ist n...</td>\n",
       "      <td>Missing</td>\n",
       "      <td>NaN</td>\n",
       "      <td>Tagesschau</td>\n",
       "    </tr>\n",
       "  </tbody>\n",
       "</table>\n",
       "</div>"
      ],
      "text/plain": [
       "                      date  ...      source\n",
       "51787  2023-05-04 17:18:27  ...       Focus\n",
       "26914  2022-10-24 12:00:00  ...   ZDF heute\n",
       "49420  2023-04-18 19:00:00  ...         taz\n",
       "50566  2023-04-25 16:44:58  ...        Welt\n",
       "56620  2023-06-12 10:08:32  ...  Tagesschau\n",
       "\n",
       "[5 rows x 6 columns]"
      ]
     },
     "execution_count": 126,
     "metadata": {},
     "output_type": "execute_result"
    }
   ],
   "source": [
    "train = rle.transform(train)\n",
    "train.head()"
   ]
  },
  {
   "cell_type": "code",
   "execution_count": 127,
   "id": "971d9fb5",
   "metadata": {},
   "outputs": [
    {
     "data": {
      "text/html": [
       "<div>\n",
       "<style scoped>\n",
       "    .dataframe tbody tr th:only-of-type {\n",
       "        vertical-align: middle;\n",
       "    }\n",
       "\n",
       "    .dataframe tbody tr th {\n",
       "        vertical-align: top;\n",
       "    }\n",
       "\n",
       "    .dataframe thead th {\n",
       "        text-align: right;\n",
       "    }\n",
       "</style>\n",
       "<table border=\"1\" class=\"dataframe\">\n",
       "  <thead>\n",
       "    <tr style=\"text-align: right;\">\n",
       "      <th></th>\n",
       "      <th>date</th>\n",
       "      <th>title</th>\n",
       "      <th>description</th>\n",
       "      <th>category</th>\n",
       "      <th>text</th>\n",
       "      <th>source</th>\n",
       "    </tr>\n",
       "  </thead>\n",
       "  <tbody>\n",
       "    <tr>\n",
       "      <th>43290</th>\n",
       "      <td>2023-03-14 07:56:23</td>\n",
       "      <td>Bundesweite Warnstreiks im Gesundheitswesen</td>\n",
       "      <td>Die Gewerkschaft ver.di hat im Tarifstreit des...</td>\n",
       "      <td>Missing</td>\n",
       "      <td>NaN</td>\n",
       "      <td>Tagesschau</td>\n",
       "    </tr>\n",
       "    <tr>\n",
       "      <th>29137</th>\n",
       "      <td>2022-11-22 07:20:06</td>\n",
       "      <td>Gräuel im Ukraine-Krieg - Putins Männer holen ...</td>\n",
       "      <td>Die russische Armee hat in der Ukraine einen K...</td>\n",
       "      <td>Ukraine-Krise</td>\n",
       "      <td>NaN</td>\n",
       "      <td>Focus</td>\n",
       "    </tr>\n",
       "    <tr>\n",
       "      <th>52488</th>\n",
       "      <td>2023-05-10 08:45:00</td>\n",
       "      <td>Der Speckgürtel um Metropolen wächst</td>\n",
       "      <td>Wohnen wird in Metropolen immer teurer, deshal...</td>\n",
       "      <td>Other</td>\n",
       "      <td>NaN</td>\n",
       "      <td>ZDF heute</td>\n",
       "    </tr>\n",
       "    <tr>\n",
       "      <th>33136</th>\n",
       "      <td>2022-12-31 04:28:49</td>\n",
       "      <td>Nordkorea feuert drei Kurzstreckenraketen ab</td>\n",
       "      <td>Kurz vor Jahresende feuert Nordkorea nach Anga...</td>\n",
       "      <td>Missing</td>\n",
       "      <td>NaN</td>\n",
       "      <td>Tagesschau</td>\n",
       "    </tr>\n",
       "    <tr>\n",
       "      <th>61526</th>\n",
       "      <td>2023-08-15 10:20:54</td>\n",
       "      <td>Ermittlungen: Schüsse auf Shisha-Bar in Altona...</td>\n",
       "      <td>NaN</td>\n",
       "      <td>News</td>\n",
       "      <td>NaN</td>\n",
       "      <td>Zeit</td>\n",
       "    </tr>\n",
       "  </tbody>\n",
       "</table>\n",
       "</div>"
      ],
      "text/plain": [
       "                      date  ...      source\n",
       "43290  2023-03-14 07:56:23  ...  Tagesschau\n",
       "29137  2022-11-22 07:20:06  ...       Focus\n",
       "52488  2023-05-10 08:45:00  ...   ZDF heute\n",
       "33136  2022-12-31 04:28:49  ...  Tagesschau\n",
       "61526  2023-08-15 10:20:54  ...        Zeit\n",
       "\n",
       "[5 rows x 6 columns]"
      ]
     },
     "execution_count": 127,
     "metadata": {},
     "output_type": "execute_result"
    }
   ],
   "source": [
    "test = rle.transform(test)\n",
    "test.head()"
   ]
  },
  {
   "cell_type": "code",
   "execution_count": 128,
   "id": "c0d95b85",
   "metadata": {},
   "outputs": [
    {
     "data": {
      "text/plain": [
       "category\n",
       "Other            22027\n",
       "Missing          20617\n",
       "News              3248\n",
       "Ausland           2926\n",
       "Deutschland       2657\n",
       "Ukraine-Krise      979\n",
       "Wirtschaft         890\n",
       "Politik            657\n",
       "Name: count, dtype: int64"
      ]
     },
     "execution_count": 128,
     "metadata": {},
     "output_type": "execute_result"
    }
   ],
   "source": [
    "train['category'].value_counts()"
   ]
  },
  {
   "cell_type": "code",
   "execution_count": 129,
   "id": "5db011ca",
   "metadata": {},
   "outputs": [
    {
     "data": {
      "text/plain": [
       "category\n",
       "Other            5512\n",
       "Missing          5079\n",
       "Ausland           799\n",
       "News              775\n",
       "Deutschland       685\n",
       "Ukraine-Krise     265\n",
       "Wirtschaft        231\n",
       "Politik           155\n",
       "Name: count, dtype: int64"
      ]
     },
     "execution_count": 129,
     "metadata": {},
     "output_type": "execute_result"
    }
   ],
   "source": [
    "test['category'].value_counts()"
   ]
  },
  {
   "cell_type": "code",
   "execution_count": 130,
   "id": "edb05eff",
   "metadata": {},
   "outputs": [
    {
     "data": {
      "image/png": "[encoded data removed]",
      "text/plain": [
       "<Figure size 1000x500 with 1 Axes>"
      ]
     },
     "metadata": {},
     "output_type": "display_data"
    }
   ],
   "source": [
    "fig, ax = plt.subplots(figsize=(10, 5))\n",
    "sns.countplot(data=train, x='category', order=train['category'].value_counts().index)\n",
    "plt.title('Most frequent category labels of news headlines in training set')\n",
    "plt.show()"
   ]
  },
  {
   "cell_type": "code",
   "execution_count": 131,
   "id": "81a1f751",
   "metadata": {},
   "outputs": [
    {
     "data": {
      "image/png": "[encoded data removed]",
      "text/plain": [
       "<Figure size 1000x500 with 1 Axes>"
      ]
     },
     "metadata": {},
     "output_type": "display_data"
    }
   ],
   "source": [
    "fig, ax = plt.subplots(figsize=(10, 5))\n",
    "sns.countplot(data=test, x='category', order=test['category'].value_counts().index)\n",
    "plt.title('Most frequent category labels of news headlines in test set')\n",
    "plt.show()"
   ]
  },
  {
   "cell_type": "markdown",
   "id": "625dc403",
   "metadata": {},
   "source": [
    "### Store news"
   ]
  },
  {
   "cell_type": "code",
   "execution_count": 132,
   "id": "25b81b0e",
   "metadata": {},
   "outputs": [],
   "source": [
    "train.to_csv('train_with_open_source.csv', index=False)\n",
    "test.to_csv('test_with_open_source.csv', index=False)"
   ]
  },
  {
   "cell_type": "code",
   "execution_count": null,
   "id": "fcb73507",
   "metadata": {},
   "outputs": [],
   "source": []
  }
 ],
 "metadata": {
  "kernelspec": {
   "display_name": "nlp",
   "language": "python",
   "name": "nlp"
  },
  "language_info": {
   "codemirror_mode": {
    "name": "ipython",
    "version": 3
   },
   "file_extension": ".py",
   "mimetype": "text/x-python",
   "name": "python",
   "nbconvert_exporter": "python",
   "pygments_lexer": "ipython3",
   "version": "3.11.5"
  }
 },
 "nbformat": 4,
 "nbformat_minor": 5
}
