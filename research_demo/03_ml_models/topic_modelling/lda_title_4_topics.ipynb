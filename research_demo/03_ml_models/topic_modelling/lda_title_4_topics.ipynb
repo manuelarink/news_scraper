{
 "cells": [
  {
   "cell_type": "markdown",
   "id": "d23815fa",
   "metadata": {},
   "source": [
    "# Topic modelling of news headlines for prediction of news category with 4 topics"
   ]
  },
  {
   "cell_type": "markdown",
   "id": "75523a79",
   "metadata": {},
   "source": [
    "Now we wan't to perform topic modelling with unsupervised learning and train a modell for prediction of news category labels without using the provided labels in the corpus.\n",
    "We use the LDA classifier and assume 4 topics. "
   ]
  },
  {
   "cell_type": "code",
   "execution_count": 1,
   "id": "a2821ff5",
   "metadata": {},
   "outputs": [],
   "source": [
    "import pandas as pd\n",
    "import numpy as np\n",
    "import matplotlib.pyplot as plt\n",
    "import seaborn as sns\n",
    "\n",
    "import joblib\n",
    "\n",
    "import wordcloud\n",
    "\n",
    "import pyLDAvis.lda_model"
   ]
  },
  {
   "cell_type": "markdown",
   "id": "6594f2c8",
   "metadata": {},
   "source": [
    "## Load train set"
   ]
  },
  {
   "cell_type": "code",
   "execution_count": 2,
   "id": "d737f3a4",
   "metadata": {},
   "outputs": [],
   "source": [
    "train = pd.read_csv('../../data/01_train_nosplit_preprocessed.csv')"
   ]
  },
  {
   "cell_type": "code",
   "execution_count": 3,
   "id": "72fc6b38",
   "metadata": {},
   "outputs": [
    {
     "data": {
      "text/html": [
       "<div>\n",
       "<style scoped>\n",
       "    .dataframe tbody tr th:only-of-type {\n",
       "        vertical-align: middle;\n",
       "    }\n",
       "\n",
       "    .dataframe tbody tr th {\n",
       "        vertical-align: top;\n",
       "    }\n",
       "\n",
       "    .dataframe thead th {\n",
       "        text-align: right;\n",
       "    }\n",
       "</style>\n",
       "<table border=\"1\" class=\"dataframe\">\n",
       "  <thead>\n",
       "    <tr style=\"text-align: right;\">\n",
       "      <th></th>\n",
       "      <th>date</th>\n",
       "      <th>title</th>\n",
       "      <th>description</th>\n",
       "      <th>category</th>\n",
       "      <th>text</th>\n",
       "      <th>source</th>\n",
       "      <th>title_description_text</th>\n",
       "      <th>title_cleaned</th>\n",
       "      <th>title_description_text_cleaned</th>\n",
       "    </tr>\n",
       "  </thead>\n",
       "  <tbody>\n",
       "    <tr>\n",
       "      <th>0</th>\n",
       "      <td>2022-06-01 00:13:42</td>\n",
       "      <td>Preise: Grüne halten Senkung der Spritsteuer f...</td>\n",
       "      <td>Heute tritt die Steuersenkung auf Kraftstoffe ...</td>\n",
       "      <td>Other</td>\n",
       "      <td>NaN</td>\n",
       "      <td>stern</td>\n",
       "      <td>Preise: Grüne halten Senkung der Spritsteuer f...</td>\n",
       "      <td>Preis grüne halten Senkung Spritsteuer falsch ...</td>\n",
       "      <td>Preis grüne halten Senkung Spritsteuer falsch ...</td>\n",
       "    </tr>\n",
       "    <tr>\n",
       "      <th>1</th>\n",
       "      <td>2022-06-01 01:55:03</td>\n",
       "      <td>Biden warnt Putin: USA liefern moderne Raketen...</td>\n",
       "      <td>Die USA rüsten die Ukraine mit fortschrittlich...</td>\n",
       "      <td>Other</td>\n",
       "      <td>NaN</td>\n",
       "      <td>stern</td>\n",
       "      <td>Biden warnt Putin: USA liefern moderne Raketen...</td>\n",
       "      <td>Biden warnen Putin USA liefern modern Raketens...</td>\n",
       "      <td>Biden warnen Putin USA liefern modern Raketens...</td>\n",
       "    </tr>\n",
       "    <tr>\n",
       "      <th>2</th>\n",
       "      <td>2022-06-01 02:04:08</td>\n",
       "      <td>Soziale Medien: FDP-Politiker Kuhle: Internet-...</td>\n",
       "      <td>Eine «ZDF Magazin Royale»-Recherche beschäftig...</td>\n",
       "      <td>Other</td>\n",
       "      <td>NaN</td>\n",
       "      <td>stern</td>\n",
       "      <td>Soziale Medien: FDP-Politiker Kuhle: Internet-...</td>\n",
       "      <td>sozial Medium FDP-Politiker Kuhle Internet-Str...</td>\n",
       "      <td>sozial Medium FDP-Politiker Kuhle Internet-Str...</td>\n",
       "    </tr>\n",
       "    <tr>\n",
       "      <th>3</th>\n",
       "      <td>2022-06-01 02:26:58</td>\n",
       "      <td>Liveblog: ++ Zwei von drei ukrainischen Kinder...</td>\n",
       "      <td>Rund zwei von drei Mädchen und Jungen in der U...</td>\n",
       "      <td>Missing</td>\n",
       "      <td>NaN</td>\n",
       "      <td>Tagesschau</td>\n",
       "      <td>Liveblog: ++ Zwei von drei ukrainischen Kinder...</td>\n",
       "      <td>Liveblog ukrainisch Kind vertreiben</td>\n",
       "      <td>Liveblog ukrainisch Kind vertreiben rund Mädch...</td>\n",
       "    </tr>\n",
       "    <tr>\n",
       "      <th>4</th>\n",
       "      <td>2022-06-01 02:31:43</td>\n",
       "      <td>Finanzen: Dänemark stimmt über EU-Verteidigung...</td>\n",
       "      <td>Vorbehalt verteidigen oder Verteidigung ohne V...</td>\n",
       "      <td>Other</td>\n",
       "      <td>NaN</td>\n",
       "      <td>stern</td>\n",
       "      <td>Finanzen: Dänemark stimmt über EU-Verteidigung...</td>\n",
       "      <td>Finanz Dänemark stimmen EU-Verteidigungsvorbehalt</td>\n",
       "      <td>Finanz Dänemark stimmen EU-Verteidigungsvorbeh...</td>\n",
       "    </tr>\n",
       "  </tbody>\n",
       "</table>\n",
       "</div>"
      ],
      "text/plain": [
       "                  date                                              title  \\\n",
       "0  2022-06-01 00:13:42  Preise: Grüne halten Senkung der Spritsteuer f...   \n",
       "1  2022-06-01 01:55:03  Biden warnt Putin: USA liefern moderne Raketen...   \n",
       "2  2022-06-01 02:04:08  Soziale Medien: FDP-Politiker Kuhle: Internet-...   \n",
       "3  2022-06-01 02:26:58  Liveblog: ++ Zwei von drei ukrainischen Kinder...   \n",
       "4  2022-06-01 02:31:43  Finanzen: Dänemark stimmt über EU-Verteidigung...   \n",
       "\n",
       "                                         description category  text  \\\n",
       "0  Heute tritt die Steuersenkung auf Kraftstoffe ...    Other   NaN   \n",
       "1  Die USA rüsten die Ukraine mit fortschrittlich...    Other   NaN   \n",
       "2  Eine «ZDF Magazin Royale»-Recherche beschäftig...    Other   NaN   \n",
       "3  Rund zwei von drei Mädchen und Jungen in der U...  Missing   NaN   \n",
       "4  Vorbehalt verteidigen oder Verteidigung ohne V...    Other   NaN   \n",
       "\n",
       "       source                             title_description_text  \\\n",
       "0       stern  Preise: Grüne halten Senkung der Spritsteuer f...   \n",
       "1       stern  Biden warnt Putin: USA liefern moderne Raketen...   \n",
       "2       stern  Soziale Medien: FDP-Politiker Kuhle: Internet-...   \n",
       "3  Tagesschau  Liveblog: ++ Zwei von drei ukrainischen Kinder...   \n",
       "4       stern  Finanzen: Dänemark stimmt über EU-Verteidigung...   \n",
       "\n",
       "                                       title_cleaned  \\\n",
       "0  Preis grüne halten Senkung Spritsteuer falsch ...   \n",
       "1  Biden warnen Putin USA liefern modern Raketens...   \n",
       "2  sozial Medium FDP-Politiker Kuhle Internet-Str...   \n",
       "3                Liveblog ukrainisch Kind vertreiben   \n",
       "4  Finanz Dänemark stimmen EU-Verteidigungsvorbehalt   \n",
       "\n",
       "                      title_description_text_cleaned  \n",
       "0  Preis grüne halten Senkung Spritsteuer falsch ...  \n",
       "1  Biden warnen Putin USA liefern modern Raketens...  \n",
       "2  sozial Medium FDP-Politiker Kuhle Internet-Str...  \n",
       "3  Liveblog ukrainisch Kind vertreiben rund Mädch...  \n",
       "4  Finanz Dänemark stimmen EU-Verteidigungsvorbeh...  "
      ]
     },
     "execution_count": 3,
     "metadata": {},
     "output_type": "execute_result"
    }
   ],
   "source": [
    "train.head()"
   ]
  },
  {
   "cell_type": "markdown",
   "id": "46b4f629",
   "metadata": {},
   "source": [
    "## Load German stopwords"
   ]
  },
  {
   "cell_type": "code",
   "execution_count": 4,
   "id": "da144b59",
   "metadata": {},
   "outputs": [],
   "source": [
    "stop_words = pd.read_csv('german_stopwords.txt', header=None)[0].values.tolist()"
   ]
  },
  {
   "cell_type": "code",
   "execution_count": 5,
   "id": "bd74c6d3",
   "metadata": {},
   "outputs": [
    {
     "name": "stdout",
     "output_type": "stream",
     "text": [
      "['ab', 'aber', 'alle', 'allein', 'allem', 'allen', 'aller', 'allerdings', 'allerlei', 'alles', 'allmählich', 'allzu', 'als', 'alsbald', 'also', 'am', 'an', 'and', 'ander', 'andere', 'anderem', 'anderen', 'anderer', 'andererseits', 'anderes', 'anderm', 'andern', 'andernfalls', 'anders', 'anstatt', 'auch', 'auf', 'aus', 'ausgenommen', 'ausser', 'ausserdem', 'außer', 'außerdem', 'außerhalb', 'bald', 'bei', 'beide', 'beiden', 'beiderlei', 'beides', 'beim', 'beinahe', 'bereits', 'besonders', 'besser', 'beträchtlich', 'bevor', 'bezüglich', 'bin', 'bis', 'bisher', 'bislang', 'bist', 'bloß', 'bsp.', 'bzw', 'ca', 'ca.', 'content', 'da', 'dabei', 'dadurch', 'dafür', 'dagegen', 'daher', 'dahin', 'damals', 'damit', 'danach', 'daneben', 'dann', 'daran', 'darauf', 'daraus', 'darin', 'darum', 'darunter', 'darüber', 'darüberhinaus', 'das', 'dass', 'dasselbe', 'davon', 'davor', 'dazu', 'daß', 'dein', 'deine', 'deinem', 'deinen', 'deiner', 'deines', 'dem', 'demnach', 'demselben', 'den', 'denen', 'denn', 'dennoch', 'denselben', 'der', 'derart', 'derartig', 'derem', 'deren', 'derer', 'derjenige', 'derjenigen', 'derselbe', 'derselben', 'derzeit', 'des', 'deshalb', 'desselben', 'dessen', 'desto', 'deswegen', 'dich', 'die', 'diejenige', 'dies', 'diese', 'dieselbe', 'dieselben', 'diesem', 'diesen', 'dieser', 'dieses', 'diesseits', 'dir', 'direkt', 'direkte', 'direkten', 'direkter', 'doch', 'dort', 'dorther', 'dorthin', 'drauf', 'drin', 'drunter', 'drüber', 'du', 'dunklen', 'durch', 'durchaus', 'eben', 'ebenfalls', 'ebenso', 'eher', 'eigenen', 'eigenes', 'eigentlich', 'ein', 'eine', 'einem', 'einen', 'einer', 'einerseits', 'eines', 'einfach', 'einführen', 'einführte', 'einführten', 'eingesetzt', 'einig', 'einige', 'einigem', 'einigen', 'einiger', 'einigermaßen', 'einiges', 'einmal', 'eins', 'einseitig', 'einseitige', 'einseitigen', 'einseitiger', 'einst', 'einstmals', 'einzig', 'entsprechend', 'entweder', 'er', 'erst', 'es', 'etc', 'etliche', 'etwa', 'etwas', 'euch', 'euer', 'eure', 'eurem', 'euren', 'eurer', 'eures', 'falls', 'fast', 'ferner', 'folgende', 'folgenden', 'folgender', 'folgendes', 'folglich', 'fuer', 'für', 'gab', 'ganze', 'ganzem', 'ganzen', 'ganzer', 'ganzes', 'gar', 'gegen', 'gemäss', 'ggf', 'gleich', 'gleichwohl', 'gleichzeitig', 'glücklicherweise', 'gänzlich', 'hab', 'habe', 'haben', 'haette', 'hast', 'hat', 'hatte', 'hatten', 'hattest', 'hattet', 'heraus', 'herein', 'hier', 'hier', 'hinter', 'hiermit', 'hiesige', 'hin', 'hinein', 'hinten', 'hinter', 'hinterher', 'http', 'hätt', 'hätte', 'hätten', 'höchstens', 'ich', 'igitt', 'ihm', 'ihn', 'ihnen', 'ihr', 'ihre', 'ihrem', 'ihren', 'ihrer', 'ihres', 'im', 'immer', 'immerhin', 'in', 'indem', 'indessen', 'infolge', 'innen', 'innerhalb', 'ins', 'insofern', 'inzwischen', 'irgend', 'irgendeine', 'irgendwas', 'irgendwen', 'irgendwer', 'irgendwie', 'irgendwo', 'ist', 'ja', 'je', 'jed', 'jede', 'jedem', 'jeden', 'jedenfalls', 'jeder', 'jederlei', 'jedes', 'jedoch', 'jemand', 'jene', 'jenem', 'jenen', 'jener', 'jenes', 'jenseits', 'jetzt', 'jährig', 'jährige', 'jährigen', 'jähriges', 'kam', 'kann', 'kannst', 'kaum', 'kein', 'keine', 'keinem', 'keinen', 'keiner', 'keinerlei', 'keines', 'keineswegs', 'klar', 'klare', 'klaren', 'klares', 'klein', 'kleinen', 'kleiner', 'kleines', 'koennen', 'koennt', 'koennte', 'koennten', 'komme', 'kommen', 'kommt', 'konkret', 'konkrete', 'konkreten', 'konkreter', 'konkretes', 'können', 'könnt', 'künftig', 'leider', 'machen', 'man', 'manche', 'manchem', 'manchen', 'mancher', 'mancherorts', 'manches', 'manchmal', 'mehr', 'mehrere', 'mein', 'meine', 'meinem', 'meinen', 'meiner', 'meines', 'mich', 'mir', 'mit', 'mithin', 'muessen', 'muesst', 'muesste', 'muss', 'musst', 'musste', 'mussten', 'muß', 'mußt', 'müssen', 'müsste', 'müssten', 'müßt', 'müßte', 'nach', 'nachdem', 'nachher', 'nachhinein', 'nahm', 'natürlich', 'neben', 'nebenan', 'nehmen', 'nein', 'nicht', 'nichts', 'nie', 'niemals', 'niemand', 'nirgends', 'nirgendwo', 'noch', 'nun', 'nur', 'nächste', 'nämlich', 'nötigenfalls', 'ob', 'oben', 'oberhalb', 'obgleich', 'obschon', 'obwohl', 'oder', 'oft', 'per', 'plötzlich', 'schließlich', 'schon', 'sehr', 'sehrwohl', 'seid', 'sein', 'seine', 'seinem', 'seinen', 'seiner', 'seines', 'seit', 'seitdem', 'seither', 'selber', 'selbst', 'sich', 'sicher', 'sicherlich', 'sie', 'sind', 'so', 'sobald', 'sodass', 'sodaß', 'soeben', 'sofern', 'sofort', 'sogar', 'solange', 'solch', 'solche', 'solchem', 'solchen', 'solcher', 'solches', 'soll', 'sollen', 'sollst', 'sollt', 'sollte', 'sollten', 'solltest', 'somit', 'sondern', 'sonst', 'sonstwo', 'sooft', 'soviel', 'soweit', 'sowie', 'sowohl', 'tatsächlich', 'tatsächlichen', 'tatsächlicher', 'tatsächliches', 'trotzdem', 'ueber', 'um', 'umso', 'unbedingt', 'und', 'unmöglich', 'unmögliche', 'unmöglichen', 'unmöglicher', 'uns', 'unser', 'unser', 'unsere', 'unsere', 'unserem', 'unseren', 'unserer', 'unseres', 'unter', 'usw', 'viel', 'viele', 'vielen', 'vieler', 'vieles', 'vielleicht', 'vielmals', 'vom', 'von', 'vor', 'voran', 'vorher', 'vorüber', 'völlig', 'wann', 'war', 'waren', 'warst', 'warum', 'was', 'weder', 'weil', 'weiter', 'weitere', 'weiterem', 'weiteren', 'weiterer', 'weiteres', 'weiterhin', 'weiß', 'welche', 'welchem', 'welchen', 'welcher', 'welches', 'wem', 'wen', 'wenig', 'wenige', 'weniger', 'wenigstens', 'wenn', 'wenngleich', 'wer', 'werde', 'werden', 'werdet', 'weshalb', 'wessen', 'wichtig', 'wie', 'wieder', 'wieso', 'wieviel', 'wiewohl', 'will', 'willst', 'wir', 'wird', 'wirklich', 'wirst', 'wo', 'wodurch', 'wogegen', 'woher', 'wohin', 'wohingegen', 'wohl', 'wohlweislich', 'womit', 'woraufhin', 'woraus', 'worin', 'wurde', 'wurden', 'während', 'währenddessen', 'wär', 'wäre', 'wären', 'würde', 'würden', 'z.B.', 'zB', 'zahlreich', 'zeitweise', 'zu', 'zudem', 'zuerst', 'zufolge', 'zugleich', 'zuletzt', 'zum', 'zumal', 'zur', 'zurück', 'zusammen', 'zuviel', 'zwar', 'zwischen', 'ähnlich', 'übel', 'über', 'überall', 'überallhin', 'überdies', 'übermorgen', 'übrig', 'übrigens']\n"
     ]
    }
   ],
   "source": [
    "print(stop_words)"
   ]
  },
  {
   "cell_type": "code",
   "execution_count": 6,
   "id": "11074738",
   "metadata": {},
   "outputs": [],
   "source": [
    "# append words to stopwords that contain no information\n",
    "stop_words += ['wegen', 'melden', 'meldet', 'können', 'könnte', 'könnten', 'update', 'neu', 'neue', 'neues', 'ohne', 'letzte', 'letzter',\n",
    "                  'letztes', 'eins', 'zwei', 'drei', 'vier', 'fünf', 'sechs', 'sieben', 'acht', 'neun', 'zehn',\n",
    "                   'gehen', 'geht', 'wollen', 'wollte', 'wollt', 'jahr', 'jahre', 'fordern', 'fordert',\n",
    "                  'warnen', 'warnt', 'frühjahr', 'frühling', 'sommer', 'herbst', 'winter', 'erneut', 'deutlich', 'schwer', 'jahren', 'woche',\n",
    "                  'wochen', 'monat', 'monate', 'tag', 'tage', 'stunden', 'stunde', 'minuten', 'minuten', 'ende', 'beenden', 'endet']"
   ]
  },
  {
   "cell_type": "markdown",
   "id": "a12c363c",
   "metadata": {},
   "source": [
    "## Extract features from 'title' "
   ]
  },
  {
   "cell_type": "code",
   "execution_count": 7,
   "id": "7ef6a539",
   "metadata": {},
   "outputs": [
    {
     "data": {
      "text/html": [
       "<div>\n",
       "<style scoped>\n",
       "    .dataframe tbody tr th:only-of-type {\n",
       "        vertical-align: middle;\n",
       "    }\n",
       "\n",
       "    .dataframe tbody tr th {\n",
       "        vertical-align: top;\n",
       "    }\n",
       "\n",
       "    .dataframe thead th {\n",
       "        text-align: right;\n",
       "    }\n",
       "</style>\n",
       "<table border=\"1\" class=\"dataframe\">\n",
       "  <thead>\n",
       "    <tr style=\"text-align: right;\">\n",
       "      <th></th>\n",
       "      <th>date</th>\n",
       "      <th>title</th>\n",
       "      <th>description</th>\n",
       "      <th>category</th>\n",
       "      <th>text</th>\n",
       "      <th>source</th>\n",
       "      <th>title_description_text</th>\n",
       "      <th>title_cleaned</th>\n",
       "      <th>title_description_text_cleaned</th>\n",
       "    </tr>\n",
       "  </thead>\n",
       "  <tbody>\n",
       "    <tr>\n",
       "      <th>39381</th>\n",
       "      <td>2023-02-16 15:30:15</td>\n",
       "      <td>Champions League</td>\n",
       "      <td>Liveticker und Highlightvideos</td>\n",
       "      <td>Missing</td>\n",
       "      <td>NaN</td>\n",
       "      <td>ZDF heute</td>\n",
       "      <td>Champions League - Liveticker und Highlightvid...</td>\n",
       "      <td>NaN</td>\n",
       "      <td>Champion Liveticker Highlightvideos</td>\n",
       "    </tr>\n",
       "    <tr>\n",
       "      <th>66356</th>\n",
       "      <td>2023-09-21 00:30:05</td>\n",
       "      <td>Champions League</td>\n",
       "      <td>Die wichtigsten Spiele im Video.</td>\n",
       "      <td>Missing</td>\n",
       "      <td>NaN</td>\n",
       "      <td>ZDF heute</td>\n",
       "      <td>Champions League - Die wichtigsten Spiele im V...</td>\n",
       "      <td>NaN</td>\n",
       "      <td>wichtig Spiel Video</td>\n",
       "    </tr>\n",
       "  </tbody>\n",
       "</table>\n",
       "</div>"
      ],
      "text/plain": [
       "                      date             title  \\\n",
       "39381  2023-02-16 15:30:15  Champions League   \n",
       "66356  2023-09-21 00:30:05  Champions League   \n",
       "\n",
       "                            description category  text     source  \\\n",
       "39381    Liveticker und Highlightvideos  Missing   NaN  ZDF heute   \n",
       "66356  Die wichtigsten Spiele im Video.  Missing   NaN  ZDF heute   \n",
       "\n",
       "                                  title_description_text title_cleaned  \\\n",
       "39381  Champions League - Liveticker und Highlightvid...           NaN   \n",
       "66356  Champions League - Die wichtigsten Spiele im V...           NaN   \n",
       "\n",
       "            title_description_text_cleaned  \n",
       "39381  Champion Liveticker Highlightvideos  \n",
       "66356                  wichtig Spiel Video  "
      ]
     },
     "execution_count": 7,
     "metadata": {},
     "output_type": "execute_result"
    }
   ],
   "source": [
    "train[train['title_cleaned'].isnull()]"
   ]
  },
  {
   "cell_type": "code",
   "execution_count": 8,
   "id": "2fc5a4b2",
   "metadata": {},
   "outputs": [],
   "source": [
    "# TODO workaround for missing title_cleaned -> TODO Solve this in NLP preprocessing!\n",
    "train['title_cleaned'] = train['title_cleaned'].fillna(train['title'].apply(lambda x: x.lower()))"
   ]
  },
  {
   "cell_type": "code",
   "execution_count": 9,
   "id": "dd39b14f",
   "metadata": {},
   "outputs": [
    {
     "data": {
      "text/html": [
       "<div>\n",
       "<style scoped>\n",
       "    .dataframe tbody tr th:only-of-type {\n",
       "        vertical-align: middle;\n",
       "    }\n",
       "\n",
       "    .dataframe tbody tr th {\n",
       "        vertical-align: top;\n",
       "    }\n",
       "\n",
       "    .dataframe thead th {\n",
       "        text-align: right;\n",
       "    }\n",
       "</style>\n",
       "<table border=\"1\" class=\"dataframe\">\n",
       "  <thead>\n",
       "    <tr style=\"text-align: right;\">\n",
       "      <th></th>\n",
       "      <th>date</th>\n",
       "      <th>title</th>\n",
       "      <th>description</th>\n",
       "      <th>category</th>\n",
       "      <th>text</th>\n",
       "      <th>source</th>\n",
       "      <th>title_description_text</th>\n",
       "      <th>title_cleaned</th>\n",
       "      <th>title_description_text_cleaned</th>\n",
       "    </tr>\n",
       "  </thead>\n",
       "  <tbody>\n",
       "  </tbody>\n",
       "</table>\n",
       "</div>"
      ],
      "text/plain": [
       "Empty DataFrame\n",
       "Columns: [date, title, description, category, text, source, title_description_text, title_cleaned, title_description_text_cleaned]\n",
       "Index: []"
      ]
     },
     "execution_count": 9,
     "metadata": {},
     "output_type": "execute_result"
    }
   ],
   "source": [
    "train[train['title_cleaned'].isnull()]"
   ]
  },
  {
   "cell_type": "code",
   "execution_count": 10,
   "id": "cd42c0db",
   "metadata": {},
   "outputs": [],
   "source": [
    "from sklearn.feature_extraction.text import CountVectorizer"
   ]
  },
  {
   "cell_type": "code",
   "execution_count": 11,
   "id": "38ab615c",
   "metadata": {},
   "outputs": [],
   "source": [
    "cv = CountVectorizer(max_df=0.95, min_df=2, stop_words=stop_words)"
   ]
  },
  {
   "cell_type": "code",
   "execution_count": 12,
   "id": "a628f0d2",
   "metadata": {},
   "outputs": [
    {
     "name": "stderr",
     "output_type": "stream",
     "text": [
      "C:\\Users\\manuela.rink\\anaconda3\\envs\\nlp\\Lib\\site-packages\\sklearn\\feature_extraction\\text.py:409: UserWarning: Your stop_words may be inconsistent with your preprocessing. Tokenizing the stop words generated tokens ['bsp', 'zb'] not in stop_words.\n",
      "  warnings.warn(\n"
     ]
    }
   ],
   "source": [
    "# create Document-Term-Matrix\n",
    "dtm = cv.fit_transform(train['title_cleaned'])"
   ]
  },
  {
   "cell_type": "code",
   "execution_count": 13,
   "id": "faba69b8",
   "metadata": {},
   "outputs": [
    {
     "data": {
      "text/plain": [
       "<67513x21412 sparse matrix of type '<class 'numpy.int64'>'\n",
       "\twith 330205 stored elements in Compressed Sparse Row format>"
      ]
     },
     "execution_count": 13,
     "metadata": {},
     "output_type": "execute_result"
    }
   ],
   "source": [
    "dtm"
   ]
  },
  {
   "cell_type": "code",
   "execution_count": 14,
   "id": "3f48b861",
   "metadata": {},
   "outputs": [],
   "source": [
    "from sklearn.decomposition import LatentDirichletAllocation"
   ]
  },
  {
   "cell_type": "code",
   "execution_count": 15,
   "id": "fdf60b9b",
   "metadata": {},
   "outputs": [
    {
     "data": {
      "text/html": [
       "<style>#sk-container-id-1 {color: black;background-color: white;}#sk-container-id-1 pre{padding: 0;}#sk-container-id-1 div.sk-toggleable {background-color: white;}#sk-container-id-1 label.sk-toggleable__label {cursor: pointer;display: block;width: 100%;margin-bottom: 0;padding: 0.3em;box-sizing: border-box;text-align: center;}#sk-container-id-1 label.sk-toggleable__label-arrow:before {content: \"▸\";float: left;margin-right: 0.25em;color: #696969;}#sk-container-id-1 label.sk-toggleable__label-arrow:hover:before {color: black;}#sk-container-id-1 div.sk-estimator:hover label.sk-toggleable__label-arrow:before {color: black;}#sk-container-id-1 div.sk-toggleable__content {max-height: 0;max-width: 0;overflow: hidden;text-align: left;background-color: #f0f8ff;}#sk-container-id-1 div.sk-toggleable__content pre {margin: 0.2em;color: black;border-radius: 0.25em;background-color: #f0f8ff;}#sk-container-id-1 input.sk-toggleable__control:checked~div.sk-toggleable__content {max-height: 200px;max-width: 100%;overflow: auto;}#sk-container-id-1 input.sk-toggleable__control:checked~label.sk-toggleable__label-arrow:before {content: \"▾\";}#sk-container-id-1 div.sk-estimator input.sk-toggleable__control:checked~label.sk-toggleable__label {background-color: #d4ebff;}#sk-container-id-1 div.sk-label input.sk-toggleable__control:checked~label.sk-toggleable__label {background-color: #d4ebff;}#sk-container-id-1 input.sk-hidden--visually {border: 0;clip: rect(1px 1px 1px 1px);clip: rect(1px, 1px, 1px, 1px);height: 1px;margin: -1px;overflow: hidden;padding: 0;position: absolute;width: 1px;}#sk-container-id-1 div.sk-estimator {font-family: monospace;background-color: #f0f8ff;border: 1px dotted black;border-radius: 0.25em;box-sizing: border-box;margin-bottom: 0.5em;}#sk-container-id-1 div.sk-estimator:hover {background-color: #d4ebff;}#sk-container-id-1 div.sk-parallel-item::after {content: \"\";width: 100%;border-bottom: 1px solid gray;flex-grow: 1;}#sk-container-id-1 div.sk-label:hover label.sk-toggleable__label {background-color: #d4ebff;}#sk-container-id-1 div.sk-serial::before {content: \"\";position: absolute;border-left: 1px solid gray;box-sizing: border-box;top: 0;bottom: 0;left: 50%;z-index: 0;}#sk-container-id-1 div.sk-serial {display: flex;flex-direction: column;align-items: center;background-color: white;padding-right: 0.2em;padding-left: 0.2em;position: relative;}#sk-container-id-1 div.sk-item {position: relative;z-index: 1;}#sk-container-id-1 div.sk-parallel {display: flex;align-items: stretch;justify-content: center;background-color: white;position: relative;}#sk-container-id-1 div.sk-item::before, #sk-container-id-1 div.sk-parallel-item::before {content: \"\";position: absolute;border-left: 1px solid gray;box-sizing: border-box;top: 0;bottom: 0;left: 50%;z-index: -1;}#sk-container-id-1 div.sk-parallel-item {display: flex;flex-direction: column;z-index: 1;position: relative;background-color: white;}#sk-container-id-1 div.sk-parallel-item:first-child::after {align-self: flex-end;width: 50%;}#sk-container-id-1 div.sk-parallel-item:last-child::after {align-self: flex-start;width: 50%;}#sk-container-id-1 div.sk-parallel-item:only-child::after {width: 0;}#sk-container-id-1 div.sk-dashed-wrapped {border: 1px dashed gray;margin: 0 0.4em 0.5em 0.4em;box-sizing: border-box;padding-bottom: 0.4em;background-color: white;}#sk-container-id-1 div.sk-label label {font-family: monospace;font-weight: bold;display: inline-block;line-height: 1.2em;}#sk-container-id-1 div.sk-label-container {text-align: center;}#sk-container-id-1 div.sk-container {/* jupyter's `normalize.less` sets `[hidden] { display: none; }` but bootstrap.min.css set `[hidden] { display: none !important; }` so we also need the `!important` here to be able to override the default hidden behavior on the sphinx rendered scikit-learn.org. See: https://github.com/scikit-learn/scikit-learn/issues/21755 */display: inline-block !important;position: relative;}#sk-container-id-1 div.sk-text-repr-fallback {display: none;}</style><div id=\"sk-container-id-1\" class=\"sk-top-container\"><div class=\"sk-text-repr-fallback\"><pre>LatentDirichletAllocation(n_components=4, random_state=42)</pre><b>In a Jupyter environment, please rerun this cell to show the HTML representation or trust the notebook. <br />On GitHub, the HTML representation is unable to render, please try loading this page with nbviewer.org.</b></div><div class=\"sk-container\" hidden><div class=\"sk-item\"><div class=\"sk-estimator sk-toggleable\"><input class=\"sk-toggleable__control sk-hidden--visually\" id=\"sk-estimator-id-1\" type=\"checkbox\" checked><label for=\"sk-estimator-id-1\" class=\"sk-toggleable__label sk-toggleable__label-arrow\">LatentDirichletAllocation</label><div class=\"sk-toggleable__content\"><pre>LatentDirichletAllocation(n_components=4, random_state=42)</pre></div></div></div></div></div>"
      ],
      "text/plain": [
       "LatentDirichletAllocation(n_components=4, random_state=42)"
      ]
     },
     "execution_count": 15,
     "metadata": {},
     "output_type": "execute_result"
    }
   ],
   "source": [
    "lda = LatentDirichletAllocation(n_components=4, random_state=42)\n",
    "lda.fit(dtm)"
   ]
  },
  {
   "cell_type": "markdown",
   "id": "a2f3296f",
   "metadata": {},
   "source": [
    "## Analyse extracted features"
   ]
  },
  {
   "cell_type": "code",
   "execution_count": 16,
   "id": "44c85ba2",
   "metadata": {},
   "outputs": [
    {
     "data": {
      "text/plain": [
       "21412"
      ]
     },
     "execution_count": 16,
     "metadata": {},
     "output_type": "execute_result"
    }
   ],
   "source": [
    "len(cv.get_feature_names_out())"
   ]
  },
  {
   "cell_type": "code",
   "execution_count": 17,
   "id": "79a3b48a",
   "metadata": {},
   "outputs": [
    {
     "data": {
      "text/plain": [
       "array(['000', '034', '039', ..., 'войны', 'российские', 'украинцы'],\n",
       "      dtype=object)"
      ]
     },
     "execution_count": 17,
     "metadata": {},
     "output_type": "execute_result"
    }
   ],
   "source": [
    "cv.get_feature_names_out()"
   ]
  },
  {
   "cell_type": "code",
   "execution_count": 18,
   "id": "6d276a41",
   "metadata": {},
   "outputs": [
    {
     "data": {
      "text/plain": [
       "4"
      ]
     },
     "execution_count": 18,
     "metadata": {},
     "output_type": "execute_result"
    }
   ],
   "source": [
    "len(lda.components_)"
   ]
  },
  {
   "cell_type": "code",
   "execution_count": 19,
   "id": "be61548c",
   "metadata": {},
   "outputs": [
    {
     "data": {
      "text/plain": [
       "array([[ 1.84247673, 26.3601608 , 16.33707256, ...,  0.25011902,\n",
       "         0.25011902,  2.24900075],\n",
       "       [ 0.26236012,  7.45169546,  0.3470461 , ...,  2.24962611,\n",
       "         2.24962611,  0.25034796],\n",
       "       [14.6442121 , 19.90433425, 14.83869652, ...,  0.25011748,\n",
       "         0.25011748,  0.25030011],\n",
       "       [ 0.25095105, 36.28380949, 25.47718481, ...,  0.25013739,\n",
       "         0.25013739,  0.25035118]])"
      ]
     },
     "execution_count": 19,
     "metadata": {},
     "output_type": "execute_result"
    }
   ],
   "source": [
    "lda.components_"
   ]
  },
  {
   "cell_type": "code",
   "execution_count": 20,
   "id": "45a65bd8",
   "metadata": {},
   "outputs": [
    {
     "data": {
      "text/plain": [
       "21412"
      ]
     },
     "execution_count": 20,
     "metadata": {},
     "output_type": "execute_result"
    }
   ],
   "source": [
    "len(lda.components_[0])"
   ]
  },
  {
   "cell_type": "markdown",
   "id": "9e30cf34",
   "metadata": {},
   "source": [
    "### Show most important words of first extracted topic"
   ]
  },
  {
   "cell_type": "code",
   "execution_count": 21,
   "id": "c617b9e0",
   "metadata": {},
   "outputs": [],
   "source": [
    "first_topic = lda.components_[0]"
   ]
  },
  {
   "cell_type": "code",
   "execution_count": 22,
   "id": "258f618e",
   "metadata": {},
   "outputs": [
    {
     "data": {
      "text/plain": [
       "array([16516, 15345, 16164, ..., 15091, 10150, 18325], dtype=int64)"
      ]
     },
     "execution_count": 22,
     "metadata": {},
     "output_type": "execute_result"
    }
   ],
   "source": [
    "first_topic.argsort() # returns indices of ascending sorted array values "
   ]
  },
  {
   "cell_type": "code",
   "execution_count": 23,
   "id": "5966880a",
   "metadata": {},
   "outputs": [],
   "source": [
    "# the last 10 entries are the 10 most important words for topic 1\n",
    "top_words_indices = first_topic.argsort()[-10:]"
   ]
  },
  {
   "cell_type": "code",
   "execution_count": 24,
   "id": "11648839",
   "metadata": {},
   "outputs": [
    {
     "name": "stdout",
     "output_type": "stream",
     "text": [
      "selenskyj\n",
      "lage\n",
      "chef\n",
      "kiew\n",
      "angriff\n",
      "putin\n",
      "russisch\n",
      "russland\n",
      "krieg\n",
      "ukraine\n"
     ]
    }
   ],
   "source": [
    "for index in top_words_indices:\n",
    "    print(cv.get_feature_names_out()[index])"
   ]
  },
  {
   "cell_type": "markdown",
   "id": "0d661247",
   "metadata": {},
   "source": [
    "### Show most important words of first extracted topic"
   ]
  },
  {
   "cell_type": "code",
   "execution_count": 25,
   "id": "f789d8f2",
   "metadata": {},
   "outputs": [
    {
     "name": "stdout",
     "output_type": "stream",
     "text": [
      "Die TOP-15 Wörter für das Thema #0\n",
      "['moskau', 'stimme', 'us', 'ukrainisch', 'liveblog', 'selenskyj', 'lage', 'chef', 'kiew', 'angriff', 'putin', 'russisch', 'russland', 'krieg', 'ukraine']\n",
      "\n",
      "\n",
      "Die TOP-15 Wörter für das Thema #1\n",
      "['faeser', 'gas', 'fdp', 'wahrheit', 'land', 'invasion', 'lindner', 'cdu', 'spd', 'streit', 'habeck', 'regierung', 'euro', 'ampel', 'eu']\n",
      "\n",
      "\n",
      "Die TOP-15 Wörter für das Thema #2\n",
      "['million', 'eu', 'biden', 'analyse', 'marktbericht', 'trump', 'wm', 'bayern', 'usa', 'scholz', 'berlin', 'us', 'corona', 'china', 'deutschland']\n",
      "\n",
      "\n",
      "Die TOP-15 Wörter für das Thema #3\n",
      "['frankreich', 'g7', 'scholz', 'wahl', 'gastbeitrag', 'italien', 'afd', 'gipfel', 'israel', 'türkei', 'deutschland', 'russland', 'putin', 'tote', 'deutsch']\n",
      "\n",
      "\n"
     ]
    }
   ],
   "source": [
    "for index, topic in enumerate(lda.components_):\n",
    "    print(f'Die TOP-15 Wörter für das Thema #{index}')\n",
    "    print([cv.get_feature_names_out()[i] for i in topic.argsort()[-15:]])\n",
    "    print('\\n')"
   ]
  },
  {
   "cell_type": "markdown",
   "id": "a0973fc9",
   "metadata": {},
   "source": [
    "### Get topics with highest probability for news items in train data"
   ]
  },
  {
   "cell_type": "code",
   "execution_count": 26,
   "id": "0f46f47f",
   "metadata": {},
   "outputs": [
    {
     "data": {
      "text/plain": [
       "(67513, 4)"
      ]
     },
     "execution_count": 26,
     "metadata": {},
     "output_type": "execute_result"
    }
   ],
   "source": [
    "topic_results = lda.transform(dtm)\n",
    "topic_results.shape"
   ]
  },
  {
   "cell_type": "code",
   "execution_count": 27,
   "id": "823c7020",
   "metadata": {},
   "outputs": [
    {
     "data": {
      "text/plain": [
       "array([0.03192, 0.74299, 0.03248, 0.19261])"
      ]
     },
     "execution_count": 27,
     "metadata": {},
     "output_type": "execute_result"
    }
   ],
   "source": [
    "topic_results[0].round(5)"
   ]
  },
  {
   "cell_type": "code",
   "execution_count": 28,
   "id": "f68cacd0",
   "metadata": {},
   "outputs": [
    {
     "data": {
      "text/plain": [
       "1"
      ]
     },
     "execution_count": 28,
     "metadata": {},
     "output_type": "execute_result"
    }
   ],
   "source": [
    "topic_results[0].argmax()"
   ]
  },
  {
   "cell_type": "code",
   "execution_count": 29,
   "id": "6e11fb89",
   "metadata": {},
   "outputs": [],
   "source": [
    "# save topic to train dataset\n",
    "train['topic'] = topic_results.argmax(axis=1)"
   ]
  },
  {
   "cell_type": "code",
   "execution_count": 30,
   "id": "7eb2c522",
   "metadata": {},
   "outputs": [
    {
     "data": {
      "text/html": [
       "<div>\n",
       "<style scoped>\n",
       "    .dataframe tbody tr th:only-of-type {\n",
       "        vertical-align: middle;\n",
       "    }\n",
       "\n",
       "    .dataframe tbody tr th {\n",
       "        vertical-align: top;\n",
       "    }\n",
       "\n",
       "    .dataframe thead th {\n",
       "        text-align: right;\n",
       "    }\n",
       "</style>\n",
       "<table border=\"1\" class=\"dataframe\">\n",
       "  <thead>\n",
       "    <tr style=\"text-align: right;\">\n",
       "      <th></th>\n",
       "      <th>date</th>\n",
       "      <th>title</th>\n",
       "      <th>description</th>\n",
       "      <th>category</th>\n",
       "      <th>text</th>\n",
       "      <th>source</th>\n",
       "      <th>title_description_text</th>\n",
       "      <th>title_cleaned</th>\n",
       "      <th>title_description_text_cleaned</th>\n",
       "      <th>topic</th>\n",
       "    </tr>\n",
       "  </thead>\n",
       "  <tbody>\n",
       "    <tr>\n",
       "      <th>0</th>\n",
       "      <td>2022-06-01 00:13:42</td>\n",
       "      <td>Preise: Grüne halten Senkung der Spritsteuer f...</td>\n",
       "      <td>Heute tritt die Steuersenkung auf Kraftstoffe ...</td>\n",
       "      <td>Other</td>\n",
       "      <td>NaN</td>\n",
       "      <td>stern</td>\n",
       "      <td>Preise: Grüne halten Senkung der Spritsteuer f...</td>\n",
       "      <td>Preis grüne halten Senkung Spritsteuer falsch ...</td>\n",
       "      <td>Preis grüne halten Senkung Spritsteuer falsch ...</td>\n",
       "      <td>1</td>\n",
       "    </tr>\n",
       "    <tr>\n",
       "      <th>1</th>\n",
       "      <td>2022-06-01 01:55:03</td>\n",
       "      <td>Biden warnt Putin: USA liefern moderne Raketen...</td>\n",
       "      <td>Die USA rüsten die Ukraine mit fortschrittlich...</td>\n",
       "      <td>Other</td>\n",
       "      <td>NaN</td>\n",
       "      <td>stern</td>\n",
       "      <td>Biden warnt Putin: USA liefern moderne Raketen...</td>\n",
       "      <td>Biden warnen Putin USA liefern modern Raketens...</td>\n",
       "      <td>Biden warnen Putin USA liefern modern Raketens...</td>\n",
       "      <td>0</td>\n",
       "    </tr>\n",
       "    <tr>\n",
       "      <th>2</th>\n",
       "      <td>2022-06-01 02:04:08</td>\n",
       "      <td>Soziale Medien: FDP-Politiker Kuhle: Internet-...</td>\n",
       "      <td>Eine «ZDF Magazin Royale»-Recherche beschäftig...</td>\n",
       "      <td>Other</td>\n",
       "      <td>NaN</td>\n",
       "      <td>stern</td>\n",
       "      <td>Soziale Medien: FDP-Politiker Kuhle: Internet-...</td>\n",
       "      <td>sozial Medium FDP-Politiker Kuhle Internet-Str...</td>\n",
       "      <td>sozial Medium FDP-Politiker Kuhle Internet-Str...</td>\n",
       "      <td>1</td>\n",
       "    </tr>\n",
       "    <tr>\n",
       "      <th>3</th>\n",
       "      <td>2022-06-01 02:26:58</td>\n",
       "      <td>Liveblog: ++ Zwei von drei ukrainischen Kinder...</td>\n",
       "      <td>Rund zwei von drei Mädchen und Jungen in der U...</td>\n",
       "      <td>Missing</td>\n",
       "      <td>NaN</td>\n",
       "      <td>Tagesschau</td>\n",
       "      <td>Liveblog: ++ Zwei von drei ukrainischen Kinder...</td>\n",
       "      <td>Liveblog ukrainisch Kind vertreiben</td>\n",
       "      <td>Liveblog ukrainisch Kind vertreiben rund Mädch...</td>\n",
       "      <td>0</td>\n",
       "    </tr>\n",
       "    <tr>\n",
       "      <th>4</th>\n",
       "      <td>2022-06-01 02:31:43</td>\n",
       "      <td>Finanzen: Dänemark stimmt über EU-Verteidigung...</td>\n",
       "      <td>Vorbehalt verteidigen oder Verteidigung ohne V...</td>\n",
       "      <td>Other</td>\n",
       "      <td>NaN</td>\n",
       "      <td>stern</td>\n",
       "      <td>Finanzen: Dänemark stimmt über EU-Verteidigung...</td>\n",
       "      <td>Finanz Dänemark stimmen EU-Verteidigungsvorbehalt</td>\n",
       "      <td>Finanz Dänemark stimmen EU-Verteidigungsvorbeh...</td>\n",
       "      <td>1</td>\n",
       "    </tr>\n",
       "  </tbody>\n",
       "</table>\n",
       "</div>"
      ],
      "text/plain": [
       "                  date                                              title  \\\n",
       "0  2022-06-01 00:13:42  Preise: Grüne halten Senkung der Spritsteuer f...   \n",
       "1  2022-06-01 01:55:03  Biden warnt Putin: USA liefern moderne Raketen...   \n",
       "2  2022-06-01 02:04:08  Soziale Medien: FDP-Politiker Kuhle: Internet-...   \n",
       "3  2022-06-01 02:26:58  Liveblog: ++ Zwei von drei ukrainischen Kinder...   \n",
       "4  2022-06-01 02:31:43  Finanzen: Dänemark stimmt über EU-Verteidigung...   \n",
       "\n",
       "                                         description category  text  \\\n",
       "0  Heute tritt die Steuersenkung auf Kraftstoffe ...    Other   NaN   \n",
       "1  Die USA rüsten die Ukraine mit fortschrittlich...    Other   NaN   \n",
       "2  Eine «ZDF Magazin Royale»-Recherche beschäftig...    Other   NaN   \n",
       "3  Rund zwei von drei Mädchen und Jungen in der U...  Missing   NaN   \n",
       "4  Vorbehalt verteidigen oder Verteidigung ohne V...    Other   NaN   \n",
       "\n",
       "       source                             title_description_text  \\\n",
       "0       stern  Preise: Grüne halten Senkung der Spritsteuer f...   \n",
       "1       stern  Biden warnt Putin: USA liefern moderne Raketen...   \n",
       "2       stern  Soziale Medien: FDP-Politiker Kuhle: Internet-...   \n",
       "3  Tagesschau  Liveblog: ++ Zwei von drei ukrainischen Kinder...   \n",
       "4       stern  Finanzen: Dänemark stimmt über EU-Verteidigung...   \n",
       "\n",
       "                                       title_cleaned  \\\n",
       "0  Preis grüne halten Senkung Spritsteuer falsch ...   \n",
       "1  Biden warnen Putin USA liefern modern Raketens...   \n",
       "2  sozial Medium FDP-Politiker Kuhle Internet-Str...   \n",
       "3                Liveblog ukrainisch Kind vertreiben   \n",
       "4  Finanz Dänemark stimmen EU-Verteidigungsvorbehalt   \n",
       "\n",
       "                      title_description_text_cleaned  topic  \n",
       "0  Preis grüne halten Senkung Spritsteuer falsch ...      1  \n",
       "1  Biden warnen Putin USA liefern modern Raketens...      0  \n",
       "2  sozial Medium FDP-Politiker Kuhle Internet-Str...      1  \n",
       "3  Liveblog ukrainisch Kind vertreiben rund Mädch...      0  \n",
       "4  Finanz Dänemark stimmen EU-Verteidigungsvorbeh...      1  "
      ]
     },
     "execution_count": 30,
     "metadata": {},
     "output_type": "execute_result"
    }
   ],
   "source": [
    "train.head()"
   ]
  },
  {
   "cell_type": "markdown",
   "id": "a0751e64",
   "metadata": {},
   "source": [
    "## Visualize model"
   ]
  },
  {
   "cell_type": "code",
   "execution_count": 31,
   "id": "39e7a68b",
   "metadata": {},
   "outputs": [
    {
     "data": {
      "text/html": [
       "\n",
       "<link rel=\"stylesheet\" type=\"text/css\" href=\"https://cdn.jsdelivr.net/gh/bmabey/pyLDAvis@3.4.0/pyLDAvis/js/ldavis.v1.0.0.css\">\n",
       "\n",
       "\n",
       "<div id=\"ldavis_el1794018463384014724050486275\" style=\"background-color:white;\"></div>\n",
       "<script type=\"text/javascript\">\n",
       "\n",
       "var ldavis_el1794018463384014724050486275_data = {\"mdsDat\": {\"x\": [39.66997146606445, 42.227394104003906, -4.811670780181885, -7.187783718109131], \"y\": [24.009553909301758, -22.953699111938477, -25.219648361206055, 21.73535919189453], \"topics\": [1, 2, 3, 4], \"cluster\": [1, 1, 1, 1], \"Freq\": [26.565682069242126, 26.32429874321315, 23.84295725183514, 23.26706193570959]}, \"tinfo\": {\"Term\": [\"ukraine\", \"krieg\", \"russisch\", \"china\", \"russland\", \"eu\", \"putin\", \"deutschland\", \"corona\", \"us\", \"berlin\", \"regierung\", \"ampel\", \"kiew\", \"angriff\", \"euro\", \"tote\", \"t\\u00fcrkei\", \"selenskyj\", \"bayern\", \"israel\", \"wm\", \"liveblog\", \"marktbericht\", \"gipfel\", \"analyse\", \"streit\", \"lage\", \"lindner\", \"ukrainisch\", \"china\", \"marktbericht\", \"taiwan\", \"analyse\", \"spanien\", \"ulrich\", \"reitz\", \"dax\", \"welt\", \"em\", \"katar\", \"frankfurt\", \"m\\u00fcller\", \"republikaner\", \"versteher\", \"olaf\", \"bayern\", \"wm\", \"heizungsgesetz\", \"europ\\u00e4isch\", \"york\", \"joe\", \"m\\u00fcnchen\", \"million\", \"anleger\", \"saudi\", \"inzidenz\", \"arabien\", \"hugo\", \"rki\", \"unfall\", \"zahl\", \"fc\", \"news\", \"pandemie\", \"waldbrand\", \"corona\", \"auto\", \"berlin\", \"parlament\", \"fu\\u00dfball\", \"deutschland\", \"us\", \"inflation\", \"biden\", \"trump\", \"kommentar\", \"scholz\", \"usa\", \"frau\", \"mensch\", \"wahl\", \"bleiben\", \"sterben\", \"eu\", \"gewinnen\", \"gut\", \"gro\\u00df\", \"pr\\u00e4sident\", \"krieg\", \"ukraine\", \"kiew\", \"stimme\", \"liveblog\", \"entwicklung\", \"wagner\", \"russe\", \"soldat\", \"ukrainisch\", \"morgen\", \"berliner\", \"bachmut\", \"krim\", \"russischer\", \"leipzig\", \"l\\u00fctzerath\", \"truppe\", \"angriff\", \"armee\", \"saporischschja\", \"kriegsverlauf\", \"selenskyj\", \"\\u00fcberblick\", \"front\", \"ukrainer\", \"updat\", \"kampfjet\", \"offensive\", \"k\\u00e4mpfen\", \"erfolg\", \"prigoschin\", \"russisch\", \"waffe\", \"lage\", \"chef\", \"russland\", \"putin\", \"kreml\", \"nachricht\", \"moskau\", \"polizei\", \"hoch\", \"ex\", \"us\", \"weit\", \"usa\", \"nato\", \"kampf\", \"regierung\", \"lindner\", \"wahrheit\", \"studie\", \"panzer\", \"milliarde\", \"johnson\", \"gro\\u00dfbritannien\", \"bund\", \"ticket\", \"boris\", \"lambrecht\", \"koalition\", \"gr\\u00fcnen\", \"\\u00f6sterreich\", \"energiekris\", \"leopard\", \"kommission\", \"ukrainekrieg\", \"musk\", \"verbrenner\", \"nachfolge\", \"deal\", \"wetter\", \"rentenreform\", \"chefin\", \"wissing\", \"haushalt\", \"energiewende\", \"serbien\", \"faeser\", \"twitter\", \"sachsen\", \"sparen\", \"invasion\", \"ampel\", \"streit\", \"euro\", \"th\\u00fcringen\", \"fdp\", \"bundesregierung\", \"eu\", \"gr\\u00fcn\", \"spd\", \"debatte\", \"energie\", \"habeck\", \"cdu\", \"land\", \"gas\", \"bringen\", \"plan\", \"kritik\", \"gr\\u00fcne\", \"protest\", \"deutsch\", \"israel\", \"t\\u00fcrkei\", \"g7\", \"nord\", \"stream\", \"nordkorea\", \"steingart\", \"gabor\", \"erdogan\", \"zweiter\", \"sudan\", \"schr\\u00f6der\", \"erdbeben\", \"focus\", \"online\", \"gesellschaft\", \"mindestens\", \"parlamentswahl\", \"justizreform\", \"charles\", \"k\\u00f6nig\", \"lng\", \"rbb\", \"nahost\", \"taz\", \"pipeline\", \"kim\", \"intelligenz\", \"unwetter\", \"ki\", \"gipfel\", \"streik\", \"reichsb\\u00fcrger\", \"schweden\", \"gastbeitrag\", \"italien\", \"kirche\", \"syrien\", \"brasilien\", \"afghanistan\", \"tote\", \"bahn\", \"podcast\", \"deutsch\", \"tv\", \"warnstreik\", \"brauchen\", \"afd\", \"klima\", \"wahl\", \"frankreich\", \"deutschland\", \"putin\", \"russland\", \"kind\", \"europa\", \"scholz\", \"protest\", \"konflikt\", \"ex\", \"un\", \"usa\", \"gro\\u00df\"], \"Freq\": [4532.0, 2626.0, 1380.0, 1165.0, 1762.0, 1430.0, 1737.0, 1658.0, 1135.0, 1297.0, 975.0, 517.0, 593.0, 532.0, 536.0, 640.0, 690.0, 437.0, 478.0, 480.0, 421.0, 468.0, 432.0, 426.0, 385.0, 405.0, 425.0, 564.0, 349.0, 377.0, 1164.6795146058025, 425.3286943856865, 282.8364093069214, 404.76950698831126, 204.03152449360482, 190.17699755923243, 187.39760189444488, 175.35487130142252, 281.4729751066546, 172.5723921965822, 168.85983420615236, 190.04643570530408, 125.31266883580231, 124.38719251198448, 121.61091953003927, 127.13509926228153, 478.1131409487448, 465.9256634905167, 111.40596387695281, 114.14699957570039, 104.93196342123697, 105.77974939450893, 154.50581394992173, 380.6863311133619, 89.17863238906021, 84.54377030897136, 79.91714888320291, 78.05948942735075, 77.13434392717105, 78.04844790983954, 201.77384592760058, 207.97990531222734, 161.26767600937956, 228.1532197026461, 342.21995325231137, 134.96575479391373, 966.9816661385687, 261.2824698101765, 795.2274990877074, 175.98290794977072, 292.47274799707253, 1175.3070877701045, 915.3949203418085, 257.6226299330309, 401.3866095485868, 459.23121285392085, 249.6419834341729, 535.2457750777808, 512.1071314562563, 347.3174845952863, 338.76719222628213, 335.0073443784334, 295.077589782661, 278.8295156971733, 389.18409359963096, 234.0036881461028, 273.38097338304067, 276.70959448574564, 254.08836385522773, 2623.848190631983, 4527.689152868272, 531.5798766322786, 350.75578471606804, 431.1537789300479, 308.5842971822966, 283.265920722798, 286.06532040306604, 261.7213434042204, 376.508857603049, 204.54853749741105, 235.35966727787275, 199.8677441190001, 195.1808910978566, 196.1117926347432, 182.96576834340829, 157.67885180378687, 151.12882743746232, 533.5114473644504, 177.21039563924046, 141.75739280515577, 138.00967173745317, 476.4884948056804, 137.06512560759816, 137.0617146623025, 134.25351957665728, 120.19922556204828, 117.37730591928671, 112.6963812971266, 175.06839128106316, 137.68388612288982, 136.63735948451964, 1307.3562178983896, 238.25188658601618, 486.788378813593, 523.24356645971, 1316.0773354096093, 1248.2448540293574, 222.99016786053622, 279.90128632513273, 321.60913542067266, 272.2261223944994, 257.4042239587999, 289.80133831275595, 370.8201353479087, 258.2814241136105, 299.85447036705096, 235.95485479096777, 216.6866254859084, 517.0688510348227, 348.8006506728474, 321.3094729692407, 264.329402757285, 254.83271149446762, 244.3954409899896, 230.15406244672857, 231.08518293427, 201.6478337446452, 161.74562396355938, 141.7954005153677, 141.78790817936434, 196.58173956879259, 137.03861315845757, 143.63000584096986, 136.03939933792074, 125.63519005866878, 118.99178964254612, 122.76275459343248, 113.28430719836061, 101.89235410174952, 101.89226677320563, 103.72865939679969, 96.17911506430995, 92.38651849234904, 100.85300114916595, 89.5393987672308, 87.63802235697545, 85.72463740967865, 83.83236713656137, 271.5961714766262, 152.45341557927748, 131.86033170915243, 139.24642216820072, 348.688671518589, 563.3126319690198, 404.43144993548793, 551.2869439316869, 106.25269784323966, 317.5978493712051, 229.95035022057908, 1036.4267293962216, 256.38262415025713, 386.31757382745116, 247.79070644989048, 241.0350234129912, 456.418395043033, 369.9004952334327, 343.7432834058644, 298.0172728357992, 205.08268358131616, 239.371286384023, 247.26770055194194, 232.31243561859205, 214.61149143433846, 211.88590161587027, 420.34854129232923, 436.3862660297816, 298.2849224670745, 221.64924317556333, 212.1880626635384, 197.04349324942734, 188.52875690653744, 188.52875690105654, 180.95453845898837, 189.39505891589803, 168.61691869294523, 137.4295829129182, 169.4256686365202, 122.2755150509755, 138.21308492711904, 105.2423820089279, 171.95573608954243, 100.53071055143198, 99.58597208806944, 98.63881346064746, 96.73975003039011, 85.38976380253366, 91.00412538598022, 83.48948731901424, 79.71719090836729, 76.87449271817916, 76.86800566600581, 74.03765748922655, 79.64896390050164, 112.39494402731303, 381.665597954831, 237.4902203066665, 97.32040879000385, 166.07995517291855, 309.22807078576085, 317.46079315767025, 160.79385294540262, 160.4952998871592, 152.33995303461984, 179.8740171356817, 533.4165850677126, 246.0122649605657, 188.85023348929604, 652.3665965209019, 153.3855516923291, 150.8110157284926, 183.35600545758643, 322.9685141340908, 249.38137342435664, 305.50617116887463, 253.40378017699513, 441.4586078619275, 444.03604720555046, 442.8536832701866, 243.59582585267773, 238.18510024004198, 298.588926315096, 238.32589775754994, 202.08719764136148, 210.03661238140666, 193.8956194461615, 194.94611075201476, 192.6015451292071], \"Total\": [4532.0, 2626.0, 1380.0, 1165.0, 1762.0, 1430.0, 1737.0, 1658.0, 1135.0, 1297.0, 975.0, 517.0, 593.0, 532.0, 536.0, 640.0, 690.0, 437.0, 478.0, 480.0, 421.0, 468.0, 432.0, 426.0, 385.0, 405.0, 425.0, 564.0, 349.0, 377.0, 1165.6825335491221, 426.2516129020594, 283.5529850082361, 405.8685056061953, 204.7931289413187, 190.89306246887955, 188.11325863715604, 176.06740181960026, 282.6369167195078, 173.28764646135465, 169.58139687608312, 190.89457030025676, 126.03114619258191, 125.10452637912567, 122.32465911379514, 127.88500216635285, 480.9560472835595, 468.92013869029205, 112.13239347541574, 114.9131189807848, 105.64587943888468, 106.57337413895841, 155.68763759357756, 383.68007638821047, 89.8937165312019, 85.26075869317161, 80.62763229862965, 78.77452257779188, 77.84790365036527, 78.77474611291129, 203.89982623134327, 210.37109820487208, 163.1078288493275, 231.70112963881436, 350.4539561823218, 137.16721823572112, 1135.411029430135, 280.98918189566274, 975.2502334184148, 187.4441244881862, 334.99203540374947, 1658.4629480604997, 1297.9948868526778, 298.83910372011457, 519.3151652554943, 653.6175294491637, 306.97578609083945, 1012.749907760706, 1007.263862085789, 559.4460257367108, 538.9087962995438, 646.6936310098704, 546.4979704610421, 477.64530598772546, 1430.4067669619183, 324.4685012662487, 616.9115545972304, 763.7285153274105, 531.5521510164289, 2626.2115644014552, 4532.621448034484, 532.3642019930634, 351.47320160557723, 432.0793901265139, 309.2967313060926, 283.9910006327394, 286.80289712624835, 262.43401871113645, 377.72308434111494, 205.26152086874183, 236.18990839059705, 200.57521280855158, 195.88894806336106, 196.82623072289937, 183.70444829978737, 158.39888860088573, 151.83800159193888, 536.130352223546, 178.08266776192016, 142.46545695733738, 138.71642711622536, 478.95640175438695, 137.77922844274204, 137.77925986494816, 134.967433373737, 120.90862398684345, 118.09690714515459, 113.41060728921515, 176.2022774473259, 138.72012115701133, 137.78333425217141, 1380.6211608309227, 253.19634826536102, 564.3305622686719, 617.6430848094575, 1762.5346762575602, 1737.619793816277, 259.96655255359997, 351.4454127678306, 443.53744532626257, 410.4577040637715, 442.4350748238977, 663.4271686218817, 1297.9948868526778, 519.8568259479997, 1007.263862085789, 417.86363539571744, 377.2162943660339, 517.7887359854888, 349.62140871866757, 322.0700784839997, 265.0647022505627, 255.56376039136572, 245.11288449443097, 230.86172727376714, 231.8116850208543, 202.35896008101602, 162.45521147616697, 142.50336064167652, 142.50325214631619, 197.60074869826207, 137.75281445114052, 144.40319390743863, 136.80150783062538, 126.35170779689543, 119.70116958040715, 123.5011709175741, 114.00052843110517, 102.59958354749686, 102.59960409446774, 104.4983745561507, 96.89878276554036, 93.098679644844, 101.64832130449614, 90.24842451791189, 88.34818154554277, 86.4478990996043, 84.54772716399974, 274.5099750937827, 153.88706116309265, 132.99174400897394, 140.58901499832726, 359.9297012092258, 593.9868728545525, 425.54633669816394, 640.0219021805906, 107.34478856031583, 357.52413657373666, 255.88428329476554, 1430.4067669619183, 289.59344248392017, 495.04185106476314, 303.62649639562505, 294.9330459422979, 713.8830383391097, 538.8468396426905, 552.1268462385756, 461.98159100873977, 258.08741738116566, 366.3932516047357, 483.2207651845565, 433.49930457319806, 583.1931750302853, 1140.0175896920664, 421.06866794726267, 437.153530831105, 299.00418115996644, 222.3591817285218, 212.89681952470522, 197.7569778807748, 189.2408831826855, 189.2408831826336, 181.6709364725119, 190.18635493839216, 169.37008029315774, 138.14413409763625, 170.31242186646097, 123.00422256581233, 139.08881236355606, 105.9721231635876, 173.150240446567, 101.24100253368032, 100.29475731481595, 99.34852508733177, 97.45595966558933, 86.10123534578725, 91.77804789753041, 84.20852658527481, 80.42383494062486, 77.58510960017801, 77.58491690393275, 74.74638930772473, 80.42261273280994, 113.53307067000104, 385.9844343449639, 241.2198960629428, 98.39877674720823, 171.23797904973276, 327.1915416852073, 339.74284803404623, 168.3580582452121, 169.36853621911337, 161.83549059283604, 194.94097205240672, 690.196488989542, 303.96755649490586, 220.17332365377638, 1140.0175896920664, 173.2313724612354, 169.92616635022685, 232.11473438561967, 581.9176334209665, 399.52713446966254, 646.6936310098704, 458.3232218570887, 1658.4629480604997, 1737.619793816277, 1762.5346762575602, 456.89059387293366, 437.30385672541684, 1012.749907760706, 583.1931750302853, 371.4555122921846, 663.4271686218817, 396.6941005986643, 1007.263862085789, 763.7285153274105], \"Category\": [\"Default\", \"Default\", \"Default\", \"Default\", \"Default\", \"Default\", \"Default\", \"Default\", \"Default\", \"Default\", \"Default\", \"Default\", \"Default\", \"Default\", \"Default\", \"Default\", \"Default\", \"Default\", \"Default\", \"Default\", \"Default\", \"Default\", \"Default\", \"Default\", \"Default\", \"Default\", \"Default\", \"Default\", \"Default\", \"Default\", \"Topic1\", \"Topic1\", \"Topic1\", \"Topic1\", \"Topic1\", \"Topic1\", \"Topic1\", \"Topic1\", \"Topic1\", \"Topic1\", \"Topic1\", \"Topic1\", \"Topic1\", \"Topic1\", \"Topic1\", \"Topic1\", \"Topic1\", \"Topic1\", \"Topic1\", \"Topic1\", \"Topic1\", \"Topic1\", \"Topic1\", \"Topic1\", \"Topic1\", \"Topic1\", \"Topic1\", \"Topic1\", \"Topic1\", \"Topic1\", \"Topic1\", \"Topic1\", \"Topic1\", \"Topic1\", \"Topic1\", \"Topic1\", \"Topic1\", \"Topic1\", \"Topic1\", \"Topic1\", \"Topic1\", \"Topic1\", \"Topic1\", \"Topic1\", \"Topic1\", \"Topic1\", \"Topic1\", \"Topic1\", \"Topic1\", \"Topic1\", \"Topic1\", \"Topic1\", \"Topic1\", \"Topic1\", \"Topic1\", \"Topic1\", \"Topic1\", \"Topic1\", \"Topic1\", \"Topic2\", \"Topic2\", \"Topic2\", \"Topic2\", \"Topic2\", \"Topic2\", \"Topic2\", \"Topic2\", \"Topic2\", \"Topic2\", \"Topic2\", \"Topic2\", \"Topic2\", \"Topic2\", \"Topic2\", \"Topic2\", \"Topic2\", \"Topic2\", \"Topic2\", \"Topic2\", \"Topic2\", \"Topic2\", \"Topic2\", \"Topic2\", \"Topic2\", \"Topic2\", \"Topic2\", \"Topic2\", \"Topic2\", \"Topic2\", \"Topic2\", \"Topic2\", \"Topic2\", \"Topic2\", \"Topic2\", \"Topic2\", \"Topic2\", \"Topic2\", \"Topic2\", \"Topic2\", \"Topic2\", \"Topic2\", \"Topic2\", \"Topic2\", \"Topic2\", \"Topic2\", \"Topic2\", \"Topic2\", \"Topic2\", \"Topic3\", \"Topic3\", \"Topic3\", \"Topic3\", \"Topic3\", \"Topic3\", \"Topic3\", \"Topic3\", \"Topic3\", \"Topic3\", \"Topic3\", \"Topic3\", \"Topic3\", \"Topic3\", \"Topic3\", \"Topic3\", \"Topic3\", \"Topic3\", \"Topic3\", \"Topic3\", \"Topic3\", \"Topic3\", \"Topic3\", \"Topic3\", \"Topic3\", \"Topic3\", \"Topic3\", \"Topic3\", \"Topic3\", \"Topic3\", \"Topic3\", \"Topic3\", \"Topic3\", \"Topic3\", \"Topic3\", \"Topic3\", \"Topic3\", \"Topic3\", \"Topic3\", \"Topic3\", \"Topic3\", \"Topic3\", \"Topic3\", \"Topic3\", \"Topic3\", \"Topic3\", \"Topic3\", \"Topic3\", \"Topic3\", \"Topic3\", \"Topic3\", \"Topic3\", \"Topic3\", \"Topic3\", \"Topic3\", \"Topic3\", \"Topic4\", \"Topic4\", \"Topic4\", \"Topic4\", \"Topic4\", \"Topic4\", \"Topic4\", \"Topic4\", \"Topic4\", \"Topic4\", \"Topic4\", \"Topic4\", \"Topic4\", \"Topic4\", \"Topic4\", \"Topic4\", \"Topic4\", \"Topic4\", \"Topic4\", \"Topic4\", \"Topic4\", \"Topic4\", \"Topic4\", \"Topic4\", \"Topic4\", \"Topic4\", \"Topic4\", \"Topic4\", \"Topic4\", \"Topic4\", \"Topic4\", \"Topic4\", \"Topic4\", \"Topic4\", \"Topic4\", \"Topic4\", \"Topic4\", \"Topic4\", \"Topic4\", \"Topic4\", \"Topic4\", \"Topic4\", \"Topic4\", \"Topic4\", \"Topic4\", \"Topic4\", \"Topic4\", \"Topic4\", \"Topic4\", \"Topic4\", \"Topic4\", \"Topic4\", \"Topic4\", \"Topic4\", \"Topic4\", \"Topic4\", \"Topic4\", \"Topic4\", \"Topic4\", \"Topic4\", \"Topic4\", \"Topic4\", \"Topic4\"], \"logprob\": [30.0, 29.0, 28.0, 27.0, 26.0, 25.0, 24.0, 23.0, 22.0, 21.0, 20.0, 19.0, 18.0, 17.0, 16.0, 15.0, 14.0, 13.0, 12.0, 11.0, 10.0, 9.0, 8.0, 7.0, 6.0, 5.0, 4.0, 3.0, 2.0, 1.0, -4.3284, -5.3357, -5.7437, -5.3853, -6.0703, -6.1406, -6.1554, -6.2218, -5.7486, -6.2378, -6.2595, -6.1413, -6.5578, -6.5652, -6.5878, -6.5434, -5.2188, -5.2446, -6.6754, -6.6511, -6.7353, -6.7272, -6.3484, -5.4466, -6.898, -6.9513, -7.0076, -7.0311, -7.0431, -7.0313, -6.0815, -6.0512, -6.3055, -5.9586, -5.5532, -6.4836, -4.5144, -5.823, -4.71, -6.2182, -5.7102, -4.3193, -4.5692, -5.8371, -5.3937, -5.2591, -5.8686, -5.1059, -5.1501, -5.5384, -5.5633, -5.5745, -5.7014, -5.758, -5.4246, -5.9333, -5.7777, -5.7656, -5.8509, -3.5071, -2.9615, -5.1036, -5.5194, -5.313, -5.6475, -5.7331, -5.7233, -5.8122, -5.4485, -6.0587, -5.9184, -6.0818, -6.1055, -6.1008, -6.1702, -6.3189, -6.3613, -5.1, -6.2021, -6.4254, -6.4522, -5.213, -6.459, -6.459, -6.4797, -6.5903, -6.6141, -6.6548, -6.2143, -6.4545, -6.4621, -4.2037, -5.9061, -5.1916, -5.1194, -4.1971, -4.25, -5.9723, -5.745, -5.6061, -5.7728, -5.8288, -5.7103, -5.4638, -5.8254, -5.6762, -5.9158, -6.001, -5.0323, -5.426, -5.5081, -5.7033, -5.7399, -5.7817, -5.8417, -5.8377, -5.974, -6.1944, -6.3261, -6.3261, -5.9994, -6.3602, -6.3132, -6.3675, -6.4471, -6.5014, -6.4702, -6.5506, -6.6566, -6.6566, -6.6387, -6.7143, -6.7545, -6.6668, -6.7858, -6.8073, -6.8293, -6.8517, -5.6762, -6.2536, -6.3987, -6.3442, -5.4263, -4.9466, -5.278, -4.9682, -6.6147, -5.5197, -5.8426, -4.3369, -5.7338, -5.3238, -5.7679, -5.7955, -5.1571, -5.3672, -5.4406, -5.5833, -5.9571, -5.8025, -5.77, -5.8324, -5.9116, -5.9244, -5.2149, -5.1775, -5.558, -5.8549, -5.8986, -5.9726, -6.0168, -6.0168, -6.0578, -6.0122, -6.1284, -6.3329, -6.1236, -6.4497, -6.3272, -6.5998, -6.1088, -6.6456, -6.655, -6.6646, -6.684, -6.8088, -6.7451, -6.8313, -6.8775, -6.9138, -6.9139, -6.9514, -6.8784, -6.534, -5.3115, -5.7859, -6.678, -6.1436, -5.5219, -5.4957, -6.1759, -6.1778, -6.2299, -6.0638, -4.9767, -5.7506, -6.0151, -4.7754, -6.2231, -6.24, -6.0446, -5.4785, -5.737, -5.5341, -5.721, -5.1659, -5.1601, -5.1628, -5.7605, -5.783, -5.557, -5.7824, -5.9473, -5.9087, -5.9887, -5.9833, -5.9954], \"loglift\": [30.0, 29.0, 28.0, 27.0, 26.0, 25.0, 24.0, 23.0, 22.0, 21.0, 20.0, 19.0, 18.0, 17.0, 16.0, 15.0, 14.0, 13.0, 12.0, 11.0, 10.0, 9.0, 8.0, 7.0, 6.0, 5.0, 4.0, 3.0, 2.0, 1.0, 1.3247, 1.3234, 1.323, 1.3228, 1.3218, 1.3218, 1.3217, 1.3215, 1.3214, 1.3214, 1.3213, 1.3211, 1.3198, 1.3198, 1.3197, 1.3197, 1.3196, 1.3191, 1.3191, 1.3189, 1.3188, 1.3181, 1.3179, 1.3177, 1.3176, 1.3171, 1.3167, 1.3164, 1.3163, 1.3163, 1.3151, 1.3141, 1.3142, 1.3101, 1.3018, 1.3094, 1.165, 1.2528, 1.1215, 1.2625, 1.1898, 0.9812, 0.9763, 1.1771, 1.068, 0.9726, 1.1188, 0.6879, 0.6491, 0.8488, 0.8613, 0.6678, 0.7093, 0.7873, 0.0239, 0.9987, 0.5117, 0.3103, 0.5874, 1.3338, 1.3336, 1.3332, 1.3326, 1.3325, 1.3324, 1.3321, 1.3321, 1.332, 1.3315, 1.3312, 1.3312, 1.3311, 1.3311, 1.331, 1.3306, 1.3301, 1.33, 1.3298, 1.3298, 1.3297, 1.3296, 1.3295, 1.3295, 1.3295, 1.3294, 1.3288, 1.3286, 1.3284, 1.3282, 1.3272, 1.3263, 1.2802, 1.2738, 1.1869, 1.1688, 1.0426, 1.0039, 1.1813, 1.1071, 1.0132, 0.924, 0.793, 0.5065, 0.0818, 0.6352, 0.123, 0.7632, 0.7803, 1.4323, 1.4313, 1.4313, 1.4309, 1.4308, 1.4308, 1.4306, 1.4305, 1.4302, 1.4293, 1.4287, 1.4286, 1.4285, 1.4285, 1.4283, 1.4281, 1.428, 1.4277, 1.4277, 1.4274, 1.4268, 1.4268, 1.4263, 1.4262, 1.426, 1.4258, 1.4258, 1.4256, 1.4253, 1.4252, 1.423, 1.4243, 1.4251, 1.4241, 1.402, 1.3807, 1.3828, 1.2844, 1.4235, 1.3153, 1.3268, 1.1115, 1.3119, 1.1857, 1.2305, 1.2319, 0.9864, 1.0575, 0.9598, 0.9953, 1.2038, 1.008, 0.7637, 0.8099, 0.434, -0.2491, 1.4564, 1.4564, 1.4557, 1.4549, 1.4548, 1.4545, 1.4544, 1.4544, 1.4542, 1.454, 1.4537, 1.4529, 1.4529, 1.4522, 1.4518, 1.4512, 1.4512, 1.4511, 1.451, 1.451, 1.4508, 1.4498, 1.4497, 1.4496, 1.4493, 1.4489, 1.4488, 1.4486, 1.4485, 1.4481, 1.4469, 1.4425, 1.4471, 1.4275, 1.4017, 1.3903, 1.4122, 1.4043, 1.3977, 1.3777, 1.2005, 1.2466, 1.3047, 0.8999, 1.3365, 1.3388, 1.2223, 0.8694, 0.9868, 0.7082, 0.8655, 0.1346, 0.0938, 0.0769, 0.8292, 0.8506, 0.2368, 0.5633, 0.8494, 0.308, 0.7423, -0.1841, 0.0805]}, \"token.table\": {\"Topic\": [1, 2, 3, 4, 1, 2, 3, 4, 1, 3, 1, 2, 2, 4, 1, 1, 2, 1, 2, 2, 3, 4, 1, 2, 3, 4, 1, 2, 4, 2, 1, 2, 1, 2, 3, 4, 3, 3, 4, 1, 2, 4, 1, 2, 3, 4, 3, 1, 2, 3, 1, 2, 3, 4, 1, 2, 3, 4, 3, 1, 1, 3, 4, 1, 3, 1, 2, 3, 4, 1, 2, 3, 4, 1, 2, 3, 4, 1, 1, 2, 3, 4, 3, 3, 2, 4, 4, 2, 1, 2, 3, 1, 3, 1, 2, 3, 4, 1, 1, 2, 3, 4, 1, 3, 1, 2, 1, 3, 4, 4, 1, 1, 3, 4, 1, 2, 3, 2, 1, 2, 4, 4, 1, 2, 3, 4, 1, 2, 4, 4, 1, 2, 3, 4, 1, 4, 1, 2, 3, 4, 3, 2, 3, 4, 1, 2, 3, 4, 3, 1, 2, 3, 4, 1, 2, 3, 4, 3, 1, 1, 2, 3, 4, 1, 1, 2, 4, 2, 3, 1, 4, 1, 2, 3, 4, 1, 3, 4, 1, 2, 4, 2, 1, 1, 4, 2, 4, 2, 3, 4, 2, 4, 1, 2, 3, 4, 1, 3, 1, 3, 4, 3, 1, 2, 3, 4, 2, 4, 2, 3, 2, 2, 1, 2, 3, 4, 1, 2, 4, 2, 3, 3, 1, 2, 3, 4, 2, 3, 3, 2, 4, 2, 1, 1, 2, 4, 3, 1, 3, 4, 2, 4, 2, 2, 4, 3, 1, 1, 2, 3, 2, 3, 4, 4, 2, 4, 1, 2, 4, 4, 4, 2, 1, 4, 1, 3, 3, 1, 3, 4, 4, 4, 1, 2, 3, 4, 2, 4, 1, 2, 3, 4, 2, 4, 1, 2, 3, 4, 1, 2, 4, 1, 2, 4, 4, 3, 2, 4, 1, 3, 1, 1, 2, 2, 3, 2, 2, 3, 4, 1, 3, 2, 1, 1, 2, 3, 4, 4, 2, 3, 4, 2, 4, 3, 2, 1, 1, 3, 1, 2, 3, 4, 1, 2, 3, 2, 4, 1, 4, 3, 4, 3, 4, 1, 2, 3, 4, 1, 4, 2, 3, 3, 2, 4, 1, 2, 4, 2, 3, 4, 1, 3, 4, 2, 3, 3, 2, 2, 3, 1, 1, 2, 3, 4, 1, 3, 4, 2, 1, 2, 3, 4, 1, 2, 4, 3, 1, 2, 4, 2, 1, 2, 4, 3, 1, 2, 1, 4, 1, 2, 3, 4, 1, 3, 3, 3, 1, 4, 1, 1, 2, 4, 3, 2], \"Freq\": [0.13575804454588578, 0.0017184562600745035, 0.30760367055333615, 0.5550613720040647, 0.005129757944015823, 0.005129757944015823, 0.0666868532722057, 0.9233564299228482, 0.05050616666969001, 0.9478323945011825, 0.9978601305738218, 0.00246385217425635, 0.9960264286199978, 0.003730436062247183, 0.990058075628771, 0.9901678543716083, 0.993920420355744, 0.9288613826311465, 0.06761826157084974, 0.9971321839797791, 0.1875200125213207, 0.8092968961446472, 0.9938538099265926, 0.0020791920709761352, 0.0020791920709761352, 0.0020791920709761352, 0.8151754008952065, 0.15483205727695118, 0.029735958020076714, 0.9949620692996364, 0.7721707872765756, 0.2252967134946617, 0.5398007237815159, 0.11710930956615938, 0.34217876388862195, 0.0018298329619712403, 0.9964677279229771, 0.05561202902423433, 0.9392253790759576, 0.07323964178748495, 0.13786285512938343, 0.7884032027711615, 0.1937328076949823, 0.003874656153899646, 0.7943045115494274, 0.007749312307799292, 0.9982261221303356, 0.09770041238211291, 0.003908016495284517, 0.8988437939154388, 0.21341871481747307, 0.09835819030718324, 0.6866515172388263, 0.9964918947007477, 0.003238116072516215, 0.8467673529629902, 0.03400021876142026, 0.11495312057432563, 0.9936219182355798, 0.9994144773302521, 0.8516739532513958, 0.11978041121219218, 0.02818362616757463, 0.9939375386439, 0.9952307913087882, 0.013174080811405878, 0.032935202028514694, 0.8167930103071644, 0.1383278485197617, 0.16578691566596912, 0.0754374325252558, 0.18596204296923521, 0.5719210000751951, 0.7084873384564373, 0.006632647423847498, 0.018692006376297494, 0.26590886490152243, 0.9983400636616137, 0.05085900073379594, 0.003390600048919729, 0.8171346117896547, 0.12884280185894972, 0.9941410892077467, 0.9948188550066643, 0.9990406257937496, 0.9922940332121516, 0.9963068585127627, 0.9948088197227261, 0.2719506150171592, 0.0034955091904519176, 0.7242695042616374, 0.13749529461441717, 0.8609080378698167, 0.31557005015542366, 0.0045734789877597635, 0.13491763013891303, 0.5442439995434118, 0.9920538317218812, 0.20650345129004316, 0.4371240939716242, 0.040697760473220185, 0.31653813701393474, 0.007285709742666824, 0.9908565250026881, 0.9870770835207756, 0.006130913562240842, 0.06433132101350149, 0.8894504383605858, 0.044752223313740166, 0.9918358691688407, 0.9953137991360902, 0.2050954337838689, 0.2421871611703133, 0.5520121781629663, 0.620256439471619, 0.2359476945540453, 0.14299860276002746, 0.9943441424659125, 0.8716625147462588, 0.12537611513473584, 0.9966415815455464, 0.9987271081249334, 0.0021645884153446322, 0.006493765246033897, 0.6450473477727003, 0.34633414645514116, 0.009168941179067263, 0.04584470589533631, 0.944400941443928, 0.9908266142588561, 0.7211794028905965, 0.26196687711837907, 0.003081963260216224, 0.015409816301081122, 0.010363112198522234, 0.9896772149588734, 0.3626943271605488, 0.2671106236128229, 0.11784292218212776, 0.25270759979056284, 0.9964985155050261, 0.01381246745675915, 0.8839979172325856, 0.10014038906150384, 0.26297620041683517, 0.07151107204317447, 0.5351796359360154, 0.1291812914328313, 0.9945350339726994, 0.44252696835648736, 0.08915378483372456, 0.24152570800409018, 0.2269369068494807, 0.24653898544707578, 0.07844422264225138, 0.6387600986583327, 0.03642053194104528, 0.9960589845829109, 0.9899012815091296, 0.3910178235051982, 0.5808761886753523, 0.024862404962758267, 0.002260218632978024, 0.9891082018833363, 0.863340830528111, 0.13719757384361453, 0.990014376418212, 0.03056152343928333, 0.9696337891190802, 0.9922156674983954, 0.9974620102880785, 0.002943402652290088, 0.005886805304580176, 0.05886805304580176, 0.9330586407759579, 0.9946199119283696, 0.9962673445965113, 0.9970610895054989, 0.2544958991268969, 0.5752667719847565, 0.1696639327512646, 0.9907118046384876, 0.9965715763238585, 0.008808006284852746, 0.9864967039035074, 0.9993158781306108, 0.9924609456673518, 0.15977566835245924, 0.30641908999101775, 0.5340446996986309, 0.04157805140401749, 0.9562951822924023, 0.007508876722433981, 0.06007101377947185, 0.3078639456197932, 0.6232367679620204, 0.00506070957011913, 0.9969597853134685, 0.8143964811805081, 0.009772757774166098, 0.17590963993498973, 0.9941423330877636, 0.16421885792885416, 0.2853639170566974, 0.005384224850126366, 0.5438067098627629, 0.8578026588786717, 0.1384793530028349, 0.9991578879510573, 0.0007615532682553791, 0.9948353116417489, 0.9954619794932305, 0.1655557992617424, 0.12209740195553502, 0.5111535302206297, 0.20073640660486267, 0.005675295543776051, 0.9931767201608088, 0.9953213772954069, 0.8629693880873749, 0.1364448519152523, 0.9964684865872432, 0.2752990567937723, 0.09961479028722024, 0.6230452337964321, 0.001811178005222186, 0.9961653171368078, 0.997216438123173, 0.9982226239493028, 0.9975018708339737, 0.987209993661942, 0.9974817462141998, 0.9970636758567598, 0.6290489268829308, 0.1614373352177433, 0.20782737407341667, 0.9954597062625802, 0.9930148148075879, 0.005212676193215684, 0.002606338096607842, 0.005775331281209472, 0.9933569803680292, 0.9987259138116342, 0.7259815453983584, 0.27280672979255083, 0.9912234754972226, 0.991818322504135, 0.9955832228929272, 0.006423117567051143, 0.9941558829611501, 0.7967097871468638, 0.16787813372023203, 0.03414470516343702, 0.9856484059954311, 0.5647775494426732, 0.43315566292001634, 0.9840262771071343, 0.008631809448308195, 0.0043159047241540975, 0.9983846777734579, 0.9961721811847712, 0.9963794630940646, 0.99307970323837, 0.9921718192494873, 0.975877127271111, 0.0228275351408447, 0.9977940519011679, 0.9389464752793174, 0.048014308394965094, 0.010669846309992242, 0.9976195165234546, 0.9924584807162962, 0.15284124299432425, 0.15284124299432425, 0.652304590636491, 0.043668926569806935, 0.14079816521618055, 0.8584146201889717, 0.004872609236466582, 0.6626748561594552, 0.3313374280797276, 0.002436304618233291, 0.9943147387423666, 0.007257771815637713, 0.17832856153469093, 0.046296838090737064, 0.3686600070188322, 0.4080980542813119, 0.4778458699006366, 0.2897175746641655, 0.23139780314085945, 0.025897495044740475, 0.7182238625741358, 0.255521951108106, 0.9915225054862891, 0.9984767223953075, 0.010162727963265783, 0.985784612436781, 0.9940819767558046, 0.9881987623343824, 0.991171171730602, 0.9901650446222853, 0.9972005264441421, 0.9466753350451227, 0.05287475092447893, 0.9958022326604294, 0.746651976682978, 0.0017020941717697067, 0.2513425726979933, 0.0075192637516846355, 0.9925428152223719, 0.9967328434044418, 0.9969416329719748, 0.5282646741315828, 0.16983462420678927, 0.005924463635120556, 0.29523577115017435, 0.9917178235246122, 0.017519477960719846, 0.011679651973813232, 0.9694111138264982, 0.9938274094603229, 0.004175745417900516, 0.9935216808024029, 0.9983461796863532, 0.9961271701574227, 0.007112931262886351, 0.9886974455412028, 0.06464099940474254, 0.15554240481766174, 0.7797320553197069, 0.9987271081246595, 0.584115444038656, 0.26379407150132855, 0.15073946942933059, 0.9986536623463309, 0.9957875391153922, 0.012436785061946938, 0.982506019893808, 0.9493678247465527, 0.04934832752395447, 0.9959832363889922, 0.9978149606322605, 0.005904284363102084, 0.005904284363102084, 0.04132999054171459, 0.9446854980963334, 0.9980498000815614, 0.9947299834565491, 0.009315775953465232, 0.9874722510673146, 0.9971979262959271, 0.22602259282481477, 0.7722438588181171, 0.7022455477698438, 0.2968096650704786, 0.0015299467271674158, 0.9944809495439028, 0.10967990226049672, 0.8832118445187367, 0.006498272125297003, 0.9877373630451445, 0.9973612684108671, 0.998980402822634, 0.0008824915219281219, 0.9959419743646918, 0.9928320977175428, 0.9980856760651093, 0.0026474421115785392, 0.9953216609481282, 0.15125004357123537, 0.17897921822596186, 0.17897921822596186, 0.48904180754699433, 0.990682551003316, 0.009808738128745702, 0.9947451006818941, 0.9924850357494572, 0.7049334394672792, 0.28582547108454703, 0.000770419059527081, 0.00847460965479789, 0.5083077228044073, 0.29783655633070744, 0.1935937616149598, 0.9941560820544725, 0.9973459225952708, 0.939981961155954, 0.05529305653858553, 0.996510450575788, 0.5180196370217336, 0.009277963648150454, 0.4731761460556731, 0.9966774979872809, 0.9842001736012699, 0.014580743312611406, 0.11181326812752305, 0.8886212361713675, 0.11734000008321852, 0.49629049215525206, 0.17120098372797457, 0.21352032802028287, 0.9942084114895285, 0.0035381082259413827, 0.9907245195461837, 0.997247325709685, 0.9937726310956743, 0.006397677882590177, 0.9938863735877336, 0.9887289735847509, 0.009507009361391835, 0.9937621448248669, 0.9972078601828082, 0.9943443692380244], \"Term\": [\"afd\", \"afd\", \"afd\", \"afd\", \"afghanistan\", \"afghanistan\", \"afghanistan\", \"afghanistan\", \"ampel\", \"ampel\", \"analyse\", \"analyse\", \"angriff\", \"angriff\", \"anleger\", \"arabien\", \"armee\", \"auto\", \"auto\", \"bachmut\", \"bahn\", \"bahn\", \"bayern\", \"bayern\", \"bayern\", \"bayern\", \"berlin\", \"berlin\", \"berlin\", \"berliner\", \"biden\", \"biden\", \"bleiben\", \"bleiben\", \"bleiben\", \"bleiben\", \"boris\", \"brasilien\", \"brasilien\", \"brauchen\", \"brauchen\", \"brauchen\", \"bringen\", \"bringen\", \"bringen\", \"bringen\", \"bund\", \"bundesregierung\", \"bundesregierung\", \"bundesregierung\", \"cdu\", \"cdu\", \"cdu\", \"charles\", \"chef\", \"chef\", \"chef\", \"chef\", \"chefin\", \"china\", \"corona\", \"corona\", \"corona\", \"dax\", \"deal\", \"debatte\", \"debatte\", \"debatte\", \"debatte\", \"deutsch\", \"deutsch\", \"deutsch\", \"deutsch\", \"deutschland\", \"deutschland\", \"deutschland\", \"deutschland\", \"em\", \"energie\", \"energie\", \"energie\", \"energie\", \"energiekris\", \"energiewende\", \"entwicklung\", \"erdbeben\", \"erdogan\", \"erfolg\", \"eu\", \"eu\", \"eu\", \"euro\", \"euro\", \"europa\", \"europa\", \"europa\", \"europa\", \"europ\\u00e4isch\", \"ex\", \"ex\", \"ex\", \"ex\", \"faeser\", \"faeser\", \"fc\", \"fc\", \"fdp\", \"fdp\", \"fdp\", \"focus\", \"frankfurt\", \"frankreich\", \"frankreich\", \"frankreich\", \"frau\", \"frau\", \"frau\", \"front\", \"fu\\u00dfball\", \"fu\\u00dfball\", \"g7\", \"gabor\", \"gas\", \"gas\", \"gas\", \"gas\", \"gastbeitrag\", \"gastbeitrag\", \"gastbeitrag\", \"gesellschaft\", \"gewinnen\", \"gewinnen\", \"gewinnen\", \"gewinnen\", \"gipfel\", \"gipfel\", \"gro\\u00df\", \"gro\\u00df\", \"gro\\u00df\", \"gro\\u00df\", \"gro\\u00dfbritannien\", \"gr\\u00fcn\", \"gr\\u00fcn\", \"gr\\u00fcn\", \"gr\\u00fcne\", \"gr\\u00fcne\", \"gr\\u00fcne\", \"gr\\u00fcne\", \"gr\\u00fcnen\", \"gut\", \"gut\", \"gut\", \"gut\", \"habeck\", \"habeck\", \"habeck\", \"habeck\", \"haushalt\", \"heizungsgesetz\", \"hoch\", \"hoch\", \"hoch\", \"hoch\", \"hugo\", \"inflation\", \"inflation\", \"intelligenz\", \"invasion\", \"invasion\", \"inzidenz\", \"israel\", \"italien\", \"italien\", \"italien\", \"italien\", \"joe\", \"johnson\", \"justizreform\", \"kampf\", \"kampf\", \"kampf\", \"kampfjet\", \"katar\", \"ki\", \"ki\", \"kiew\", \"kim\", \"kind\", \"kind\", \"kind\", \"kirche\", \"kirche\", \"klima\", \"klima\", \"klima\", \"klima\", \"koalition\", \"koalition\", \"kommentar\", \"kommentar\", \"kommentar\", \"kommission\", \"konflikt\", \"konflikt\", \"konflikt\", \"konflikt\", \"kreml\", \"kreml\", \"krieg\", \"krieg\", \"kriegsverlauf\", \"krim\", \"kritik\", \"kritik\", \"kritik\", \"kritik\", \"k\\u00e4mpfen\", \"k\\u00e4mpfen\", \"k\\u00f6nig\", \"lage\", \"lage\", \"lambrecht\", \"land\", \"land\", \"land\", \"land\", \"leipzig\", \"leopard\", \"lindner\", \"liveblog\", \"lng\", \"l\\u00fctzerath\", \"marktbericht\", \"mensch\", \"mensch\", \"mensch\", \"milliarde\", \"million\", \"million\", \"million\", \"mindestens\", \"mindestens\", \"morgen\", \"moskau\", \"moskau\", \"musk\", \"m\\u00fcller\", \"m\\u00fcnchen\", \"m\\u00fcnchen\", \"nachfolge\", \"nachricht\", \"nachricht\", \"nachricht\", \"nahost\", \"nato\", \"nato\", \"news\", \"news\", \"news\", \"nord\", \"nordkorea\", \"offensive\", \"olaf\", \"online\", \"pandemie\", \"pandemie\", \"panzer\", \"parlament\", \"parlament\", \"parlament\", \"parlamentswahl\", \"pipeline\", \"plan\", \"plan\", \"plan\", \"plan\", \"podcast\", \"podcast\", \"polizei\", \"polizei\", \"polizei\", \"polizei\", \"prigoschin\", \"prigoschin\", \"protest\", \"protest\", \"protest\", \"protest\", \"pr\\u00e4sident\", \"pr\\u00e4sident\", \"pr\\u00e4sident\", \"putin\", \"putin\", \"putin\", \"rbb\", \"regierung\", \"reichsb\\u00fcrger\", \"reichsb\\u00fcrger\", \"reitz\", \"rentenreform\", \"republikaner\", \"rki\", \"russe\", \"russisch\", \"russisch\", \"russischer\", \"russland\", \"russland\", \"russland\", \"sachsen\", \"sachsen\", \"saporischschja\", \"saudi\", \"scholz\", \"scholz\", \"scholz\", \"scholz\", \"schr\\u00f6der\", \"schweden\", \"schweden\", \"schweden\", \"selenskyj\", \"selenskyj\", \"serbien\", \"soldat\", \"spanien\", \"sparen\", \"sparen\", \"spd\", \"spd\", \"spd\", \"steingart\", \"sterben\", \"sterben\", \"sterben\", \"stimme\", \"stream\", \"streik\", \"streik\", \"streit\", \"streit\", \"studie\", \"sudan\", \"syrien\", \"syrien\", \"syrien\", \"syrien\", \"taiwan\", \"taz\", \"th\\u00fcringen\", \"th\\u00fcringen\", \"ticket\", \"tote\", \"tote\", \"trump\", \"trump\", \"trump\", \"truppe\", \"tv\", \"tv\", \"twitter\", \"twitter\", \"t\\u00fcrkei\", \"ukraine\", \"ukraine\", \"ukrainekrieg\", \"ukrainer\", \"ukrainisch\", \"ukrainisch\", \"ulrich\", \"un\", \"un\", \"un\", \"un\", \"unfall\", \"unfall\", \"unwetter\", \"updat\", \"us\", \"us\", \"us\", \"us\", \"usa\", \"usa\", \"usa\", \"verbrenner\", \"versteher\", \"waffe\", \"waffe\", \"wagner\", \"wahl\", \"wahl\", \"wahl\", \"wahrheit\", \"waldbrand\", \"waldbrand\", \"warnstreik\", \"warnstreik\", \"weit\", \"weit\", \"weit\", \"weit\", \"welt\", \"welt\", \"wetter\", \"wissing\", \"wm\", \"wm\", \"york\", \"zahl\", \"zahl\", \"zweiter\", \"\\u00f6sterreich\", \"\\u00fcberblick\"]}, \"R\": 30, \"lambda.step\": 0.01, \"plot.opts\": {\"xlab\": \"PC1\", \"ylab\": \"PC2\"}, \"topic.order\": [3, 1, 2, 4]};\n",
       "\n",
       "function LDAvis_load_lib(url, callback){\n",
       "  var s = document.createElement('script');\n",
       "  s.src = url;\n",
       "  s.async = true;\n",
       "  s.onreadystatechange = s.onload = callback;\n",
       "  s.onerror = function(){console.warn(\"failed to load library \" + url);};\n",
       "  document.getElementsByTagName(\"head\")[0].appendChild(s);\n",
       "}\n",
       "\n",
       "if(typeof(LDAvis) !== \"undefined\"){\n",
       "   // already loaded: just create the visualization\n",
       "   !function(LDAvis){\n",
       "       new LDAvis(\"#\" + \"ldavis_el1794018463384014724050486275\", ldavis_el1794018463384014724050486275_data);\n",
       "   }(LDAvis);\n",
       "}else if(typeof define === \"function\" && define.amd){\n",
       "   // require.js is available: use it to load d3/LDAvis\n",
       "   require.config({paths: {d3: \"https://d3js.org/d3.v5\"}});\n",
       "   require([\"d3\"], function(d3){\n",
       "      window.d3 = d3;\n",
       "      LDAvis_load_lib(\"https://cdn.jsdelivr.net/gh/bmabey/pyLDAvis@3.4.0/pyLDAvis/js/ldavis.v3.0.0.js\", function(){\n",
       "        new LDAvis(\"#\" + \"ldavis_el1794018463384014724050486275\", ldavis_el1794018463384014724050486275_data);\n",
       "      });\n",
       "    });\n",
       "}else{\n",
       "    // require.js not available: dynamically load d3 & LDAvis\n",
       "    LDAvis_load_lib(\"https://d3js.org/d3.v5.js\", function(){\n",
       "         LDAvis_load_lib(\"https://cdn.jsdelivr.net/gh/bmabey/pyLDAvis@3.4.0/pyLDAvis/js/ldavis.v3.0.0.js\", function(){\n",
       "                 new LDAvis(\"#\" + \"ldavis_el1794018463384014724050486275\", ldavis_el1794018463384014724050486275_data);\n",
       "            })\n",
       "         });\n",
       "}\n",
       "</script>"
      ],
      "text/plain": [
       "PreparedData(topic_coordinates=               x          y  topics  cluster       Freq\n",
       "topic                                                  \n",
       "2      39.669971  24.009554       1        1  26.565682\n",
       "0      42.227394 -22.953699       2        1  26.324299\n",
       "1      -4.811671 -25.219648       3        1  23.842957\n",
       "3      -7.187784  21.735359       4        1  23.267062, topic_info=           Term         Freq        Total Category  logprob  loglift\n",
       "18325   ukraine  4532.000000  4532.000000  Default  30.0000  30.0000\n",
       "10150     krieg  2626.000000  2626.000000  Default  29.0000  29.0000\n",
       "15087  russisch  1380.000000  1380.000000  Default  28.0000  28.0000\n",
       "3455      china  1165.000000  1165.000000  Default  27.0000  27.0000\n",
       "15091  russland  1762.000000  1762.000000  Default  26.0000  26.0000\n",
       "...         ...          ...          ...      ...      ...      ...\n",
       "9895   konflikt   202.087198   371.455512   Topic4  -5.9473   0.8494\n",
       "5426         ex   210.036612   663.427169   Topic4  -5.9087   0.3080\n",
       "18444        un   193.895619   396.694101   Topic4  -5.9887   0.7423\n",
       "18782       usa   194.946111  1007.263862   Topic4  -5.9833  -0.1841\n",
       "7467       groß   192.601545   763.728515   Topic4  -5.9954   0.0805\n",
       "\n",
       "[257 rows x 6 columns], token_table=       Topic      Freq         Term\n",
       "term                               \n",
       "418        1  0.135758          afd\n",
       "418        2  0.001718          afd\n",
       "418        3  0.307604          afd\n",
       "418        4  0.555061          afd\n",
       "434        1  0.005130  afghanistan\n",
       "...      ...       ...          ...\n",
       "20775      1  0.988729         zahl\n",
       "20775      2  0.009507         zahl\n",
       "21131      4  0.993762      zweiter\n",
       "21262      3  0.997208   österreich\n",
       "21275      2  0.994344    überblick\n",
       "\n",
       "[414 rows x 3 columns], R=30, lambda_step=0.01, plot_opts={'xlab': 'PC1', 'ylab': 'PC2'}, topic_order=[3, 1, 2, 4])"
      ]
     },
     "execution_count": 31,
     "metadata": {},
     "output_type": "execute_result"
    }
   ],
   "source": [
    "pyLDAvis.enable_notebook()\n",
    "panel = pyLDAvis.lda_model.prepare(lda, dtm, cv, mds='tsne')\n",
    "panel"
   ]
  },
  {
   "cell_type": "markdown",
   "id": "3a4c2e1a",
   "metadata": {},
   "source": [
    "## Save train set with topics and dump model"
   ]
  },
  {
   "cell_type": "code",
   "execution_count": 32,
   "id": "78051ef9",
   "metadata": {},
   "outputs": [],
   "source": [
    "#Save result to csv\n",
    "train.to_csv('evaluation/train_lda_topics_4.csv')"
   ]
  },
  {
   "cell_type": "code",
   "execution_count": 33,
   "id": "2c153876",
   "metadata": {},
   "outputs": [
    {
     "data": {
      "text/plain": [
       "['models/cv.jl']"
      ]
     },
     "execution_count": 33,
     "metadata": {},
     "output_type": "execute_result"
    }
   ],
   "source": [
    "# Dump countvectorizer\n",
    "joblib.dump(cv, 'models/cv.jl')"
   ]
  },
  {
   "cell_type": "code",
   "execution_count": 34,
   "id": "c06c71c2",
   "metadata": {},
   "outputs": [
    {
     "data": {
      "text/plain": [
       "['models/lda_model_4_topics.jl']"
      ]
     },
     "execution_count": 34,
     "metadata": {},
     "output_type": "execute_result"
    }
   ],
   "source": [
    "# Dump LDA model\n",
    "joblib.dump(lda, 'models/lda_model_4_topics.jl')"
   ]
  },
  {
   "cell_type": "code",
   "execution_count": null,
   "id": "25c09460",
   "metadata": {},
   "outputs": [],
   "source": []
  }
 ],
 "metadata": {
  "kernelspec": {
   "display_name": "nlp",
   "language": "python",
   "name": "nlp"
  },
  "language_info": {
   "codemirror_mode": {
    "name": "ipython",
    "version": 3
   },
   "file_extension": ".py",
   "mimetype": "text/x-python",
   "name": "python",
   "nbconvert_exporter": "python",
   "pygments_lexer": "ipython3",
   "version": "3.11.5"
  }
 },
 "nbformat": 4,
 "nbformat_minor": 5
}
