{
 "cells": [
  {
   "cell_type": "markdown",
   "id": "d23815fa",
   "metadata": {},
   "source": [
    "# Topic modelling of news headlines for prediction of news category with 4 topics¶"
   ]
  },
  {
   "cell_type": "markdown",
   "id": "75523a79",
   "metadata": {},
   "source": [
    "Now we wan't to perform topic modelling with unsupervised learning and train a modell for prediction of news category labels without using the provided labels in the corpus.\n",
    "We use the LDA classifier on the combined feature 'title_description_text' feature and assume 4 topics. "
   ]
  },
  {
   "cell_type": "code",
   "execution_count": 1,
   "id": "a2821ff5",
   "metadata": {},
   "outputs": [],
   "source": [
    "import pandas as pd\n",
    "import numpy as np\n",
    "import matplotlib.pyplot as plt\n",
    "import seaborn as sns\n",
    "\n",
    "import joblib\n",
    "\n",
    "import pyLDAvis.lda_model"
   ]
  },
  {
   "cell_type": "markdown",
   "id": "6594f2c8",
   "metadata": {},
   "source": [
    "## Load data"
   ]
  },
  {
   "cell_type": "code",
   "execution_count": 2,
   "id": "d737f3a4",
   "metadata": {},
   "outputs": [],
   "source": [
    "train = pd.read_csv('../../data/01_train_nosplit_preprocessed.csv')"
   ]
  },
  {
   "cell_type": "code",
   "execution_count": 3,
   "id": "72fc6b38",
   "metadata": {},
   "outputs": [
    {
     "data": {
      "text/html": [
       "<div>\n",
       "<style scoped>\n",
       "    .dataframe tbody tr th:only-of-type {\n",
       "        vertical-align: middle;\n",
       "    }\n",
       "\n",
       "    .dataframe tbody tr th {\n",
       "        vertical-align: top;\n",
       "    }\n",
       "\n",
       "    .dataframe thead th {\n",
       "        text-align: right;\n",
       "    }\n",
       "</style>\n",
       "<table border=\"1\" class=\"dataframe\">\n",
       "  <thead>\n",
       "    <tr style=\"text-align: right;\">\n",
       "      <th></th>\n",
       "      <th>date</th>\n",
       "      <th>title</th>\n",
       "      <th>description</th>\n",
       "      <th>category</th>\n",
       "      <th>text</th>\n",
       "      <th>source</th>\n",
       "      <th>title_description_text</th>\n",
       "      <th>title_cleaned</th>\n",
       "      <th>title_description_text_cleaned</th>\n",
       "    </tr>\n",
       "  </thead>\n",
       "  <tbody>\n",
       "    <tr>\n",
       "      <th>0</th>\n",
       "      <td>2022-06-01 00:13:42</td>\n",
       "      <td>Preise: Grüne halten Senkung der Spritsteuer f...</td>\n",
       "      <td>Heute tritt die Steuersenkung auf Kraftstoffe ...</td>\n",
       "      <td>Other</td>\n",
       "      <td>NaN</td>\n",
       "      <td>stern</td>\n",
       "      <td>Preise: Grüne halten Senkung der Spritsteuer f...</td>\n",
       "      <td>Preis grüne halten Senkung Spritsteuer falsch ...</td>\n",
       "      <td>Preis grüne halten Senkung Spritsteuer falsch ...</td>\n",
       "    </tr>\n",
       "    <tr>\n",
       "      <th>1</th>\n",
       "      <td>2022-06-01 01:55:03</td>\n",
       "      <td>Biden warnt Putin: USA liefern moderne Raketen...</td>\n",
       "      <td>Die USA rüsten die Ukraine mit fortschrittlich...</td>\n",
       "      <td>Other</td>\n",
       "      <td>NaN</td>\n",
       "      <td>stern</td>\n",
       "      <td>Biden warnt Putin: USA liefern moderne Raketen...</td>\n",
       "      <td>Biden warnen Putin USA liefern modern Raketens...</td>\n",
       "      <td>Biden warnen Putin USA liefern modern Raketens...</td>\n",
       "    </tr>\n",
       "    <tr>\n",
       "      <th>2</th>\n",
       "      <td>2022-06-01 02:04:08</td>\n",
       "      <td>Soziale Medien: FDP-Politiker Kuhle: Internet-...</td>\n",
       "      <td>Eine «ZDF Magazin Royale»-Recherche beschäftig...</td>\n",
       "      <td>Other</td>\n",
       "      <td>NaN</td>\n",
       "      <td>stern</td>\n",
       "      <td>Soziale Medien: FDP-Politiker Kuhle: Internet-...</td>\n",
       "      <td>sozial Medium FDP-Politiker Kuhle Internet-Str...</td>\n",
       "      <td>sozial Medium FDP-Politiker Kuhle Internet-Str...</td>\n",
       "    </tr>\n",
       "    <tr>\n",
       "      <th>3</th>\n",
       "      <td>2022-06-01 02:26:58</td>\n",
       "      <td>Liveblog: ++ Zwei von drei ukrainischen Kinder...</td>\n",
       "      <td>Rund zwei von drei Mädchen und Jungen in der U...</td>\n",
       "      <td>Missing</td>\n",
       "      <td>NaN</td>\n",
       "      <td>Tagesschau</td>\n",
       "      <td>Liveblog: ++ Zwei von drei ukrainischen Kinder...</td>\n",
       "      <td>Liveblog ukrainisch Kind vertreiben</td>\n",
       "      <td>Liveblog ukrainisch Kind vertreiben rund Mädch...</td>\n",
       "    </tr>\n",
       "    <tr>\n",
       "      <th>4</th>\n",
       "      <td>2022-06-01 02:31:43</td>\n",
       "      <td>Finanzen: Dänemark stimmt über EU-Verteidigung...</td>\n",
       "      <td>Vorbehalt verteidigen oder Verteidigung ohne V...</td>\n",
       "      <td>Other</td>\n",
       "      <td>NaN</td>\n",
       "      <td>stern</td>\n",
       "      <td>Finanzen: Dänemark stimmt über EU-Verteidigung...</td>\n",
       "      <td>Finanz Dänemark stimmen EU-Verteidigungsvorbehalt</td>\n",
       "      <td>Finanz Dänemark stimmen EU-Verteidigungsvorbeh...</td>\n",
       "    </tr>\n",
       "  </tbody>\n",
       "</table>\n",
       "</div>"
      ],
      "text/plain": [
       "                  date                                              title  \\\n",
       "0  2022-06-01 00:13:42  Preise: Grüne halten Senkung der Spritsteuer f...   \n",
       "1  2022-06-01 01:55:03  Biden warnt Putin: USA liefern moderne Raketen...   \n",
       "2  2022-06-01 02:04:08  Soziale Medien: FDP-Politiker Kuhle: Internet-...   \n",
       "3  2022-06-01 02:26:58  Liveblog: ++ Zwei von drei ukrainischen Kinder...   \n",
       "4  2022-06-01 02:31:43  Finanzen: Dänemark stimmt über EU-Verteidigung...   \n",
       "\n",
       "                                         description category  text  \\\n",
       "0  Heute tritt die Steuersenkung auf Kraftstoffe ...    Other   NaN   \n",
       "1  Die USA rüsten die Ukraine mit fortschrittlich...    Other   NaN   \n",
       "2  Eine «ZDF Magazin Royale»-Recherche beschäftig...    Other   NaN   \n",
       "3  Rund zwei von drei Mädchen und Jungen in der U...  Missing   NaN   \n",
       "4  Vorbehalt verteidigen oder Verteidigung ohne V...    Other   NaN   \n",
       "\n",
       "       source                             title_description_text  \\\n",
       "0       stern  Preise: Grüne halten Senkung der Spritsteuer f...   \n",
       "1       stern  Biden warnt Putin: USA liefern moderne Raketen...   \n",
       "2       stern  Soziale Medien: FDP-Politiker Kuhle: Internet-...   \n",
       "3  Tagesschau  Liveblog: ++ Zwei von drei ukrainischen Kinder...   \n",
       "4       stern  Finanzen: Dänemark stimmt über EU-Verteidigung...   \n",
       "\n",
       "                                       title_cleaned  \\\n",
       "0  Preis grüne halten Senkung Spritsteuer falsch ...   \n",
       "1  Biden warnen Putin USA liefern modern Raketens...   \n",
       "2  sozial Medium FDP-Politiker Kuhle Internet-Str...   \n",
       "3                Liveblog ukrainisch Kind vertreiben   \n",
       "4  Finanz Dänemark stimmen EU-Verteidigungsvorbehalt   \n",
       "\n",
       "                      title_description_text_cleaned  \n",
       "0  Preis grüne halten Senkung Spritsteuer falsch ...  \n",
       "1  Biden warnen Putin USA liefern modern Raketens...  \n",
       "2  sozial Medium FDP-Politiker Kuhle Internet-Str...  \n",
       "3  Liveblog ukrainisch Kind vertreiben rund Mädch...  \n",
       "4  Finanz Dänemark stimmen EU-Verteidigungsvorbeh...  "
      ]
     },
     "execution_count": 3,
     "metadata": {},
     "output_type": "execute_result"
    }
   ],
   "source": [
    "train.head()"
   ]
  },
  {
   "cell_type": "markdown",
   "id": "46b4f629",
   "metadata": {},
   "source": [
    "## Load German stopwords"
   ]
  },
  {
   "cell_type": "code",
   "execution_count": 4,
   "id": "da144b59",
   "metadata": {},
   "outputs": [],
   "source": [
    "stop_words = pd.read_csv('german_stopwords.txt', header=None)[0].values.tolist()"
   ]
  },
  {
   "cell_type": "code",
   "execution_count": 5,
   "id": "bd74c6d3",
   "metadata": {},
   "outputs": [
    {
     "name": "stdout",
     "output_type": "stream",
     "text": [
      "['ab', 'aber', 'alle', 'allein', 'allem', 'allen', 'aller', 'allerdings', 'allerlei', 'alles', 'allmählich', 'allzu', 'als', 'alsbald', 'also', 'am', 'an', 'and', 'ander', 'andere', 'anderem', 'anderen', 'anderer', 'andererseits', 'anderes', 'anderm', 'andern', 'andernfalls', 'anders', 'anstatt', 'auch', 'auf', 'aus', 'ausgenommen', 'ausser', 'ausserdem', 'außer', 'außerdem', 'außerhalb', 'bald', 'bei', 'beide', 'beiden', 'beiderlei', 'beides', 'beim', 'beinahe', 'bereits', 'besonders', 'besser', 'beträchtlich', 'bevor', 'bezüglich', 'bin', 'bis', 'bisher', 'bislang', 'bist', 'bloß', 'bsp.', 'bzw', 'ca', 'ca.', 'content', 'da', 'dabei', 'dadurch', 'dafür', 'dagegen', 'daher', 'dahin', 'damals', 'damit', 'danach', 'daneben', 'dann', 'daran', 'darauf', 'daraus', 'darin', 'darum', 'darunter', 'darüber', 'darüberhinaus', 'das', 'dass', 'dasselbe', 'davon', 'davor', 'dazu', 'daß', 'dein', 'deine', 'deinem', 'deinen', 'deiner', 'deines', 'dem', 'demnach', 'demselben', 'den', 'denen', 'denn', 'dennoch', 'denselben', 'der', 'derart', 'derartig', 'derem', 'deren', 'derer', 'derjenige', 'derjenigen', 'derselbe', 'derselben', 'derzeit', 'des', 'deshalb', 'desselben', 'dessen', 'desto', 'deswegen', 'dich', 'die', 'diejenige', 'dies', 'diese', 'dieselbe', 'dieselben', 'diesem', 'diesen', 'dieser', 'dieses', 'diesseits', 'dir', 'direkt', 'direkte', 'direkten', 'direkter', 'doch', 'dort', 'dorther', 'dorthin', 'drauf', 'drin', 'drunter', 'drüber', 'du', 'dunklen', 'durch', 'durchaus', 'eben', 'ebenfalls', 'ebenso', 'eher', 'eigenen', 'eigenes', 'eigentlich', 'ein', 'eine', 'einem', 'einen', 'einer', 'einerseits', 'eines', 'einfach', 'einführen', 'einführte', 'einführten', 'eingesetzt', 'einig', 'einige', 'einigem', 'einigen', 'einiger', 'einigermaßen', 'einiges', 'einmal', 'eins', 'einseitig', 'einseitige', 'einseitigen', 'einseitiger', 'einst', 'einstmals', 'einzig', 'entsprechend', 'entweder', 'er', 'erst', 'es', 'etc', 'etliche', 'etwa', 'etwas', 'euch', 'euer', 'eure', 'eurem', 'euren', 'eurer', 'eures', 'falls', 'fast', 'ferner', 'folgende', 'folgenden', 'folgender', 'folgendes', 'folglich', 'fuer', 'für', 'gab', 'ganze', 'ganzem', 'ganzen', 'ganzer', 'ganzes', 'gar', 'gegen', 'gemäss', 'ggf', 'gleich', 'gleichwohl', 'gleichzeitig', 'glücklicherweise', 'gänzlich', 'hab', 'habe', 'haben', 'haette', 'hast', 'hat', 'hatte', 'hatten', 'hattest', 'hattet', 'heraus', 'herein', 'hier', 'hier', 'hinter', 'hiermit', 'hiesige', 'hin', 'hinein', 'hinten', 'hinter', 'hinterher', 'http', 'hätt', 'hätte', 'hätten', 'höchstens', 'ich', 'igitt', 'ihm', 'ihn', 'ihnen', 'ihr', 'ihre', 'ihrem', 'ihren', 'ihrer', 'ihres', 'im', 'immer', 'immerhin', 'in', 'indem', 'indessen', 'infolge', 'innen', 'innerhalb', 'ins', 'insofern', 'inzwischen', 'irgend', 'irgendeine', 'irgendwas', 'irgendwen', 'irgendwer', 'irgendwie', 'irgendwo', 'ist', 'ja', 'je', 'jed', 'jede', 'jedem', 'jeden', 'jedenfalls', 'jeder', 'jederlei', 'jedes', 'jedoch', 'jemand', 'jene', 'jenem', 'jenen', 'jener', 'jenes', 'jenseits', 'jetzt', 'jährig', 'jährige', 'jährigen', 'jähriges', 'kam', 'kann', 'kannst', 'kaum', 'kein', 'keine', 'keinem', 'keinen', 'keiner', 'keinerlei', 'keines', 'keineswegs', 'klar', 'klare', 'klaren', 'klares', 'klein', 'kleinen', 'kleiner', 'kleines', 'koennen', 'koennt', 'koennte', 'koennten', 'komme', 'kommen', 'kommt', 'konkret', 'konkrete', 'konkreten', 'konkreter', 'konkretes', 'können', 'könnt', 'künftig', 'leider', 'machen', 'man', 'manche', 'manchem', 'manchen', 'mancher', 'mancherorts', 'manches', 'manchmal', 'mehr', 'mehrere', 'mein', 'meine', 'meinem', 'meinen', 'meiner', 'meines', 'mich', 'mir', 'mit', 'mithin', 'muessen', 'muesst', 'muesste', 'muss', 'musst', 'musste', 'mussten', 'muß', 'mußt', 'müssen', 'müsste', 'müssten', 'müßt', 'müßte', 'nach', 'nachdem', 'nachher', 'nachhinein', 'nahm', 'natürlich', 'neben', 'nebenan', 'nehmen', 'nein', 'nicht', 'nichts', 'nie', 'niemals', 'niemand', 'nirgends', 'nirgendwo', 'noch', 'nun', 'nur', 'nächste', 'nämlich', 'nötigenfalls', 'ob', 'oben', 'oberhalb', 'obgleich', 'obschon', 'obwohl', 'oder', 'oft', 'per', 'plötzlich', 'schließlich', 'schon', 'sehr', 'sehrwohl', 'seid', 'sein', 'seine', 'seinem', 'seinen', 'seiner', 'seines', 'seit', 'seitdem', 'seither', 'selber', 'selbst', 'sich', 'sicher', 'sicherlich', 'sie', 'sind', 'so', 'sobald', 'sodass', 'sodaß', 'soeben', 'sofern', 'sofort', 'sogar', 'solange', 'solch', 'solche', 'solchem', 'solchen', 'solcher', 'solches', 'soll', 'sollen', 'sollst', 'sollt', 'sollte', 'sollten', 'solltest', 'somit', 'sondern', 'sonst', 'sonstwo', 'sooft', 'soviel', 'soweit', 'sowie', 'sowohl', 'tatsächlich', 'tatsächlichen', 'tatsächlicher', 'tatsächliches', 'trotzdem', 'ueber', 'um', 'umso', 'unbedingt', 'und', 'unmöglich', 'unmögliche', 'unmöglichen', 'unmöglicher', 'uns', 'unser', 'unser', 'unsere', 'unsere', 'unserem', 'unseren', 'unserer', 'unseres', 'unter', 'usw', 'viel', 'viele', 'vielen', 'vieler', 'vieles', 'vielleicht', 'vielmals', 'vom', 'von', 'vor', 'voran', 'vorher', 'vorüber', 'völlig', 'wann', 'war', 'waren', 'warst', 'warum', 'was', 'weder', 'weil', 'weiter', 'weitere', 'weiterem', 'weiteren', 'weiterer', 'weiteres', 'weiterhin', 'weiß', 'welche', 'welchem', 'welchen', 'welcher', 'welches', 'wem', 'wen', 'wenig', 'wenige', 'weniger', 'wenigstens', 'wenn', 'wenngleich', 'wer', 'werde', 'werden', 'werdet', 'weshalb', 'wessen', 'wichtig', 'wie', 'wieder', 'wieso', 'wieviel', 'wiewohl', 'will', 'willst', 'wir', 'wird', 'wirklich', 'wirst', 'wo', 'wodurch', 'wogegen', 'woher', 'wohin', 'wohingegen', 'wohl', 'wohlweislich', 'womit', 'woraufhin', 'woraus', 'worin', 'wurde', 'wurden', 'während', 'währenddessen', 'wär', 'wäre', 'wären', 'würde', 'würden', 'z.B.', 'zB', 'zahlreich', 'zeitweise', 'zu', 'zudem', 'zuerst', 'zufolge', 'zugleich', 'zuletzt', 'zum', 'zumal', 'zur', 'zurück', 'zusammen', 'zuviel', 'zwar', 'zwischen', 'ähnlich', 'übel', 'über', 'überall', 'überallhin', 'überdies', 'übermorgen', 'übrig', 'übrigens']\n"
     ]
    }
   ],
   "source": [
    "print(stop_words)"
   ]
  },
  {
   "cell_type": "code",
   "execution_count": 6,
   "id": "83a61957",
   "metadata": {},
   "outputs": [],
   "source": [
    "# append words to stopwords that contain no information\n",
    "stop_words += ['wegen', 'melden', 'meldet', 'können', 'könnte', 'könnten', 'update', 'neu', 'neue', 'neues', 'ohne', 'letzte', 'letzter',\n",
    "                  'letztes', 'eins', 'zwei', 'drei', 'vier', 'fünf', 'sechs', 'sieben', 'acht', 'neun', 'zehn',\n",
    "                   'gehen', 'geht', 'wollen', 'wollte', 'wollt', 'jahr', 'jahre', 'fordern', 'fordert',\n",
    "                  'warnen', 'warnt', 'frühjahr', 'frühling', 'sommer', 'herbst', 'winter', 'erneut', 'deutlich', 'schwer', 'jahren', 'woche',\n",
    "                  'wochen', 'monat', 'monate', 'tag', 'tage', 'stunden', 'stunde', 'minuten', 'minuten', 'ende', 'beenden', 'endet']"
   ]
  },
  {
   "cell_type": "markdown",
   "id": "a12c363c",
   "metadata": {},
   "source": [
    "## Extract features from 'title_description_text' "
   ]
  },
  {
   "cell_type": "code",
   "execution_count": 7,
   "id": "cd42c0db",
   "metadata": {},
   "outputs": [],
   "source": [
    "from sklearn.feature_extraction.text import CountVectorizer"
   ]
  },
  {
   "cell_type": "code",
   "execution_count": 8,
   "id": "38ab615c",
   "metadata": {},
   "outputs": [],
   "source": [
    "cv = CountVectorizer(max_df=0.95, min_df=3, stop_words=stop_words)"
   ]
  },
  {
   "cell_type": "code",
   "execution_count": 9,
   "id": "a628f0d2",
   "metadata": {},
   "outputs": [
    {
     "name": "stderr",
     "output_type": "stream",
     "text": [
      "C:\\Users\\manuela.rink\\anaconda3\\envs\\nlp\\Lib\\site-packages\\sklearn\\feature_extraction\\text.py:409: UserWarning: Your stop_words may be inconsistent with your preprocessing. Tokenizing the stop words generated tokens ['bsp', 'zb'] not in stop_words.\n",
      "  warnings.warn(\n"
     ]
    }
   ],
   "source": [
    "# create Document-Term-Matrix\n",
    "dtm = cv.fit_transform(train['title_description_text_cleaned'])"
   ]
  },
  {
   "cell_type": "code",
   "execution_count": 10,
   "id": "faba69b8",
   "metadata": {},
   "outputs": [
    {
     "data": {
      "text/plain": [
       "<67513x29998 sparse matrix of type '<class 'numpy.int64'>'\n",
       "\twith 1026097 stored elements in Compressed Sparse Row format>"
      ]
     },
     "execution_count": 10,
     "metadata": {},
     "output_type": "execute_result"
    }
   ],
   "source": [
    "dtm"
   ]
  },
  {
   "cell_type": "code",
   "execution_count": 11,
   "id": "3f48b861",
   "metadata": {},
   "outputs": [],
   "source": [
    "from sklearn.decomposition import LatentDirichletAllocation"
   ]
  },
  {
   "cell_type": "code",
   "execution_count": 12,
   "id": "fdf60b9b",
   "metadata": {},
   "outputs": [
    {
     "data": {
      "text/html": [
       "<style>#sk-container-id-1 {color: black;background-color: white;}#sk-container-id-1 pre{padding: 0;}#sk-container-id-1 div.sk-toggleable {background-color: white;}#sk-container-id-1 label.sk-toggleable__label {cursor: pointer;display: block;width: 100%;margin-bottom: 0;padding: 0.3em;box-sizing: border-box;text-align: center;}#sk-container-id-1 label.sk-toggleable__label-arrow:before {content: \"▸\";float: left;margin-right: 0.25em;color: #696969;}#sk-container-id-1 label.sk-toggleable__label-arrow:hover:before {color: black;}#sk-container-id-1 div.sk-estimator:hover label.sk-toggleable__label-arrow:before {color: black;}#sk-container-id-1 div.sk-toggleable__content {max-height: 0;max-width: 0;overflow: hidden;text-align: left;background-color: #f0f8ff;}#sk-container-id-1 div.sk-toggleable__content pre {margin: 0.2em;color: black;border-radius: 0.25em;background-color: #f0f8ff;}#sk-container-id-1 input.sk-toggleable__control:checked~div.sk-toggleable__content {max-height: 200px;max-width: 100%;overflow: auto;}#sk-container-id-1 input.sk-toggleable__control:checked~label.sk-toggleable__label-arrow:before {content: \"▾\";}#sk-container-id-1 div.sk-estimator input.sk-toggleable__control:checked~label.sk-toggleable__label {background-color: #d4ebff;}#sk-container-id-1 div.sk-label input.sk-toggleable__control:checked~label.sk-toggleable__label {background-color: #d4ebff;}#sk-container-id-1 input.sk-hidden--visually {border: 0;clip: rect(1px 1px 1px 1px);clip: rect(1px, 1px, 1px, 1px);height: 1px;margin: -1px;overflow: hidden;padding: 0;position: absolute;width: 1px;}#sk-container-id-1 div.sk-estimator {font-family: monospace;background-color: #f0f8ff;border: 1px dotted black;border-radius: 0.25em;box-sizing: border-box;margin-bottom: 0.5em;}#sk-container-id-1 div.sk-estimator:hover {background-color: #d4ebff;}#sk-container-id-1 div.sk-parallel-item::after {content: \"\";width: 100%;border-bottom: 1px solid gray;flex-grow: 1;}#sk-container-id-1 div.sk-label:hover label.sk-toggleable__label {background-color: #d4ebff;}#sk-container-id-1 div.sk-serial::before {content: \"\";position: absolute;border-left: 1px solid gray;box-sizing: border-box;top: 0;bottom: 0;left: 50%;z-index: 0;}#sk-container-id-1 div.sk-serial {display: flex;flex-direction: column;align-items: center;background-color: white;padding-right: 0.2em;padding-left: 0.2em;position: relative;}#sk-container-id-1 div.sk-item {position: relative;z-index: 1;}#sk-container-id-1 div.sk-parallel {display: flex;align-items: stretch;justify-content: center;background-color: white;position: relative;}#sk-container-id-1 div.sk-item::before, #sk-container-id-1 div.sk-parallel-item::before {content: \"\";position: absolute;border-left: 1px solid gray;box-sizing: border-box;top: 0;bottom: 0;left: 50%;z-index: -1;}#sk-container-id-1 div.sk-parallel-item {display: flex;flex-direction: column;z-index: 1;position: relative;background-color: white;}#sk-container-id-1 div.sk-parallel-item:first-child::after {align-self: flex-end;width: 50%;}#sk-container-id-1 div.sk-parallel-item:last-child::after {align-self: flex-start;width: 50%;}#sk-container-id-1 div.sk-parallel-item:only-child::after {width: 0;}#sk-container-id-1 div.sk-dashed-wrapped {border: 1px dashed gray;margin: 0 0.4em 0.5em 0.4em;box-sizing: border-box;padding-bottom: 0.4em;background-color: white;}#sk-container-id-1 div.sk-label label {font-family: monospace;font-weight: bold;display: inline-block;line-height: 1.2em;}#sk-container-id-1 div.sk-label-container {text-align: center;}#sk-container-id-1 div.sk-container {/* jupyter's `normalize.less` sets `[hidden] { display: none; }` but bootstrap.min.css set `[hidden] { display: none !important; }` so we also need the `!important` here to be able to override the default hidden behavior on the sphinx rendered scikit-learn.org. See: https://github.com/scikit-learn/scikit-learn/issues/21755 */display: inline-block !important;position: relative;}#sk-container-id-1 div.sk-text-repr-fallback {display: none;}</style><div id=\"sk-container-id-1\" class=\"sk-top-container\"><div class=\"sk-text-repr-fallback\"><pre>LatentDirichletAllocation(n_components=4, random_state=42)</pre><b>In a Jupyter environment, please rerun this cell to show the HTML representation or trust the notebook. <br />On GitHub, the HTML representation is unable to render, please try loading this page with nbviewer.org.</b></div><div class=\"sk-container\" hidden><div class=\"sk-item\"><div class=\"sk-estimator sk-toggleable\"><input class=\"sk-toggleable__control sk-hidden--visually\" id=\"sk-estimator-id-1\" type=\"checkbox\" checked><label for=\"sk-estimator-id-1\" class=\"sk-toggleable__label sk-toggleable__label-arrow\">LatentDirichletAllocation</label><div class=\"sk-toggleable__content\"><pre>LatentDirichletAllocation(n_components=4, random_state=42)</pre></div></div></div></div></div>"
      ],
      "text/plain": [
       "LatentDirichletAllocation(n_components=4, random_state=42)"
      ]
     },
     "execution_count": 12,
     "metadata": {},
     "output_type": "execute_result"
    }
   ],
   "source": [
    "lda = LatentDirichletAllocation(n_components=4, random_state=42)\n",
    "lda.fit(dtm)"
   ]
  },
  {
   "cell_type": "markdown",
   "id": "a2f3296f",
   "metadata": {},
   "source": [
    "## Analyse extracted features"
   ]
  },
  {
   "cell_type": "code",
   "execution_count": 13,
   "id": "44c85ba2",
   "metadata": {},
   "outputs": [
    {
     "data": {
      "text/plain": [
       "29998"
      ]
     },
     "execution_count": 13,
     "metadata": {},
     "output_type": "execute_result"
    }
   ],
   "source": [
    "len(cv.get_feature_names_out())"
   ]
  },
  {
   "cell_type": "code",
   "execution_count": 14,
   "id": "79a3b48a",
   "metadata": {},
   "outputs": [
    {
     "data": {
      "text/plain": [
       "array(['000', '01', '034', ..., 'đoković', 'войны', 'украинцы'],\n",
       "      dtype=object)"
      ]
     },
     "execution_count": 14,
     "metadata": {},
     "output_type": "execute_result"
    }
   ],
   "source": [
    "cv.get_feature_names_out()"
   ]
  },
  {
   "cell_type": "code",
   "execution_count": 15,
   "id": "6d276a41",
   "metadata": {},
   "outputs": [
    {
     "data": {
      "text/plain": [
       "4"
      ]
     },
     "execution_count": 15,
     "metadata": {},
     "output_type": "execute_result"
    }
   ],
   "source": [
    "len(lda.components_)"
   ]
  },
  {
   "cell_type": "code",
   "execution_count": 16,
   "id": "be61548c",
   "metadata": {},
   "outputs": [
    {
     "data": {
      "text/plain": [
       "array([[ 7.60501273,  0.25295922, 31.7886554 , ...,  0.25002535,\n",
       "         0.25040763,  5.24954511],\n",
       "       [27.9948475 ,  0.25973101, 13.32410326, ...,  0.25200651,\n",
       "         0.25044091,  0.25017456],\n",
       "       [18.12925748,  1.2470038 , 40.22519753, ...,  3.24659232,\n",
       "         3.2487361 ,  0.25011584],\n",
       "       [ 7.2708823 ,  3.24030597,  4.6620438 , ...,  0.25137582,\n",
       "         0.25041536,  0.25016449]])"
      ]
     },
     "execution_count": 16,
     "metadata": {},
     "output_type": "execute_result"
    }
   ],
   "source": [
    "lda.components_"
   ]
  },
  {
   "cell_type": "code",
   "execution_count": 17,
   "id": "45a65bd8",
   "metadata": {},
   "outputs": [
    {
     "data": {
      "text/plain": [
       "29998"
      ]
     },
     "execution_count": 17,
     "metadata": {},
     "output_type": "execute_result"
    }
   ],
   "source": [
    "len(lda.components_[0])"
   ]
  },
  {
   "cell_type": "markdown",
   "id": "9e30cf34",
   "metadata": {},
   "source": [
    "### Show most important words of first extracted topic"
   ]
  },
  {
   "cell_type": "code",
   "execution_count": 18,
   "id": "c617b9e0",
   "metadata": {},
   "outputs": [],
   "source": [
    "first_topic = lda.components_[0]"
   ]
  },
  {
   "cell_type": "code",
   "execution_count": 19,
   "id": "258f618e",
   "metadata": {},
   "outputs": [
    {
     "data": {
      "text/plain": [
       "array([ 9857, 28495, 28950, ..., 14353, 21156, 25501], dtype=int64)"
      ]
     },
     "execution_count": 19,
     "metadata": {},
     "output_type": "execute_result"
    }
   ],
   "source": [
    "first_topic.argsort() # returns indices of ascending sorted array values "
   ]
  },
  {
   "cell_type": "code",
   "execution_count": 20,
   "id": "5966880a",
   "metadata": {},
   "outputs": [],
   "source": [
    "# the last 10 entries are the 10 most important words for topic 1\n",
    "top_words_indices = first_topic.argsort()[-10:]"
   ]
  },
  {
   "cell_type": "code",
   "execution_count": 21,
   "id": "11648839",
   "metadata": {},
   "outputs": [
    {
     "name": "stdout",
     "output_type": "stream",
     "text": [
      "moskau\n",
      "selenskyj\n",
      "präsident\n",
      "kiew\n",
      "ukrainisch\n",
      "putin\n",
      "russisch\n",
      "krieg\n",
      "russland\n",
      "ukraine\n"
     ]
    }
   ],
   "source": [
    "for index in top_words_indices:\n",
    "    print(cv.get_feature_names_out()[index])"
   ]
  },
  {
   "cell_type": "markdown",
   "id": "0d661247",
   "metadata": {},
   "source": [
    "### Show most important words of first extracted topic"
   ]
  },
  {
   "cell_type": "code",
   "execution_count": 22,
   "id": "f789d8f2",
   "metadata": {},
   "outputs": [
    {
     "name": "stdout",
     "output_type": "stream",
     "text": [
      "Die TOP-15 Wörter für das Thema #0\n",
      "['geben', 'liveblog', 'deutschland', 'entwicklung', 'angriff', 'moskau', 'selenskyj', 'präsident', 'kiew', 'ukrainisch', 'putin', 'russisch', 'krieg', 'russland', 'ukraine']\n",
      "\n",
      "\n",
      "Die TOP-15 Wörter für das Thema #1\n",
      "['berlin', 'gewinnen', 'erster', 'stehen', 'sterben', 'fußball', 'mensch', 'geben', 'mann', 'deutsch', 'frau', 'bayern', 'polizei', 'wm', 'afd']\n",
      "\n",
      "\n",
      "Die TOP-15 Wörter für das Thema #2\n",
      "['online', 'hoch', 'focus', 'cdu', 'grüne', 'scholz', 'groß', 'habeck', 'ampel', 'spd', 'berlin', 'gut', 'geben', 'deutsch', 'deutschland']\n",
      "\n",
      "\n",
      "Die TOP-15 Wörter für das Thema #3\n",
      "['türkei', 'iran', 'regierung', 'deutschland', 'geben', 'biden', 'mensch', 'trump', 'land', 'china', 'usa', 'präsident', 'corona', 'eu', 'us']\n",
      "\n",
      "\n"
     ]
    }
   ],
   "source": [
    "for index, topic in enumerate(lda.components_):\n",
    "    print(f'Die TOP-15 Wörter für das Thema #{index}')\n",
    "    print([cv.get_feature_names_out()[i] for i in topic.argsort()[-15:]])\n",
    "    print('\\n')"
   ]
  },
  {
   "cell_type": "markdown",
   "id": "a0973fc9",
   "metadata": {},
   "source": [
    "### Get topics with highest probability for news items in train data"
   ]
  },
  {
   "cell_type": "code",
   "execution_count": 23,
   "id": "0f46f47f",
   "metadata": {},
   "outputs": [
    {
     "data": {
      "text/plain": [
       "(67513, 4)"
      ]
     },
     "execution_count": 23,
     "metadata": {},
     "output_type": "execute_result"
    }
   ],
   "source": [
    "topic_results = lda.transform(dtm)\n",
    "topic_results.shape"
   ]
  },
  {
   "cell_type": "code",
   "execution_count": 24,
   "id": "823c7020",
   "metadata": {},
   "outputs": [
    {
     "data": {
      "text/plain": [
       "array([0.01108, 0.01117, 0.96649, 0.01126])"
      ]
     },
     "execution_count": 24,
     "metadata": {},
     "output_type": "execute_result"
    }
   ],
   "source": [
    "topic_results[0].round(5)"
   ]
  },
  {
   "cell_type": "code",
   "execution_count": 25,
   "id": "f68cacd0",
   "metadata": {},
   "outputs": [
    {
     "data": {
      "text/plain": [
       "2"
      ]
     },
     "execution_count": 25,
     "metadata": {},
     "output_type": "execute_result"
    }
   ],
   "source": [
    "topic_results[0].argmax()"
   ]
  },
  {
   "cell_type": "code",
   "execution_count": 26,
   "id": "6e11fb89",
   "metadata": {},
   "outputs": [],
   "source": [
    "# save topic to train dataset\n",
    "train['topic'] = topic_results.argmax(axis=1)"
   ]
  },
  {
   "cell_type": "code",
   "execution_count": 27,
   "id": "7eb2c522",
   "metadata": {},
   "outputs": [
    {
     "data": {
      "text/html": [
       "<div>\n",
       "<style scoped>\n",
       "    .dataframe tbody tr th:only-of-type {\n",
       "        vertical-align: middle;\n",
       "    }\n",
       "\n",
       "    .dataframe tbody tr th {\n",
       "        vertical-align: top;\n",
       "    }\n",
       "\n",
       "    .dataframe thead th {\n",
       "        text-align: right;\n",
       "    }\n",
       "</style>\n",
       "<table border=\"1\" class=\"dataframe\">\n",
       "  <thead>\n",
       "    <tr style=\"text-align: right;\">\n",
       "      <th></th>\n",
       "      <th>date</th>\n",
       "      <th>title</th>\n",
       "      <th>description</th>\n",
       "      <th>category</th>\n",
       "      <th>text</th>\n",
       "      <th>source</th>\n",
       "      <th>title_description_text</th>\n",
       "      <th>title_cleaned</th>\n",
       "      <th>title_description_text_cleaned</th>\n",
       "      <th>topic</th>\n",
       "    </tr>\n",
       "  </thead>\n",
       "  <tbody>\n",
       "    <tr>\n",
       "      <th>0</th>\n",
       "      <td>2022-06-01 00:13:42</td>\n",
       "      <td>Preise: Grüne halten Senkung der Spritsteuer f...</td>\n",
       "      <td>Heute tritt die Steuersenkung auf Kraftstoffe ...</td>\n",
       "      <td>Other</td>\n",
       "      <td>NaN</td>\n",
       "      <td>stern</td>\n",
       "      <td>Preise: Grüne halten Senkung der Spritsteuer f...</td>\n",
       "      <td>Preis grüne halten Senkung Spritsteuer falsch ...</td>\n",
       "      <td>Preis grüne halten Senkung Spritsteuer falsch ...</td>\n",
       "      <td>2</td>\n",
       "    </tr>\n",
       "    <tr>\n",
       "      <th>1</th>\n",
       "      <td>2022-06-01 01:55:03</td>\n",
       "      <td>Biden warnt Putin: USA liefern moderne Raketen...</td>\n",
       "      <td>Die USA rüsten die Ukraine mit fortschrittlich...</td>\n",
       "      <td>Other</td>\n",
       "      <td>NaN</td>\n",
       "      <td>stern</td>\n",
       "      <td>Biden warnt Putin: USA liefern moderne Raketen...</td>\n",
       "      <td>Biden warnen Putin USA liefern modern Raketens...</td>\n",
       "      <td>Biden warnen Putin USA liefern modern Raketens...</td>\n",
       "      <td>0</td>\n",
       "    </tr>\n",
       "    <tr>\n",
       "      <th>2</th>\n",
       "      <td>2022-06-01 02:04:08</td>\n",
       "      <td>Soziale Medien: FDP-Politiker Kuhle: Internet-...</td>\n",
       "      <td>Eine «ZDF Magazin Royale»-Recherche beschäftig...</td>\n",
       "      <td>Other</td>\n",
       "      <td>NaN</td>\n",
       "      <td>stern</td>\n",
       "      <td>Soziale Medien: FDP-Politiker Kuhle: Internet-...</td>\n",
       "      <td>sozial Medium FDP-Politiker Kuhle Internet-Str...</td>\n",
       "      <td>sozial Medium FDP-Politiker Kuhle Internet-Str...</td>\n",
       "      <td>2</td>\n",
       "    </tr>\n",
       "    <tr>\n",
       "      <th>3</th>\n",
       "      <td>2022-06-01 02:26:58</td>\n",
       "      <td>Liveblog: ++ Zwei von drei ukrainischen Kinder...</td>\n",
       "      <td>Rund zwei von drei Mädchen und Jungen in der U...</td>\n",
       "      <td>Missing</td>\n",
       "      <td>NaN</td>\n",
       "      <td>Tagesschau</td>\n",
       "      <td>Liveblog: ++ Zwei von drei ukrainischen Kinder...</td>\n",
       "      <td>Liveblog ukrainisch Kind vertreiben</td>\n",
       "      <td>Liveblog ukrainisch Kind vertreiben rund Mädch...</td>\n",
       "      <td>0</td>\n",
       "    </tr>\n",
       "    <tr>\n",
       "      <th>4</th>\n",
       "      <td>2022-06-01 02:31:43</td>\n",
       "      <td>Finanzen: Dänemark stimmt über EU-Verteidigung...</td>\n",
       "      <td>Vorbehalt verteidigen oder Verteidigung ohne V...</td>\n",
       "      <td>Other</td>\n",
       "      <td>NaN</td>\n",
       "      <td>stern</td>\n",
       "      <td>Finanzen: Dänemark stimmt über EU-Verteidigung...</td>\n",
       "      <td>Finanz Dänemark stimmen EU-Verteidigungsvorbehalt</td>\n",
       "      <td>Finanz Dänemark stimmen EU-Verteidigungsvorbeh...</td>\n",
       "      <td>3</td>\n",
       "    </tr>\n",
       "  </tbody>\n",
       "</table>\n",
       "</div>"
      ],
      "text/plain": [
       "                  date                                              title  \\\n",
       "0  2022-06-01 00:13:42  Preise: Grüne halten Senkung der Spritsteuer f...   \n",
       "1  2022-06-01 01:55:03  Biden warnt Putin: USA liefern moderne Raketen...   \n",
       "2  2022-06-01 02:04:08  Soziale Medien: FDP-Politiker Kuhle: Internet-...   \n",
       "3  2022-06-01 02:26:58  Liveblog: ++ Zwei von drei ukrainischen Kinder...   \n",
       "4  2022-06-01 02:31:43  Finanzen: Dänemark stimmt über EU-Verteidigung...   \n",
       "\n",
       "                                         description category  text  \\\n",
       "0  Heute tritt die Steuersenkung auf Kraftstoffe ...    Other   NaN   \n",
       "1  Die USA rüsten die Ukraine mit fortschrittlich...    Other   NaN   \n",
       "2  Eine «ZDF Magazin Royale»-Recherche beschäftig...    Other   NaN   \n",
       "3  Rund zwei von drei Mädchen und Jungen in der U...  Missing   NaN   \n",
       "4  Vorbehalt verteidigen oder Verteidigung ohne V...    Other   NaN   \n",
       "\n",
       "       source                             title_description_text  \\\n",
       "0       stern  Preise: Grüne halten Senkung der Spritsteuer f...   \n",
       "1       stern  Biden warnt Putin: USA liefern moderne Raketen...   \n",
       "2       stern  Soziale Medien: FDP-Politiker Kuhle: Internet-...   \n",
       "3  Tagesschau  Liveblog: ++ Zwei von drei ukrainischen Kinder...   \n",
       "4       stern  Finanzen: Dänemark stimmt über EU-Verteidigung...   \n",
       "\n",
       "                                       title_cleaned  \\\n",
       "0  Preis grüne halten Senkung Spritsteuer falsch ...   \n",
       "1  Biden warnen Putin USA liefern modern Raketens...   \n",
       "2  sozial Medium FDP-Politiker Kuhle Internet-Str...   \n",
       "3                Liveblog ukrainisch Kind vertreiben   \n",
       "4  Finanz Dänemark stimmen EU-Verteidigungsvorbehalt   \n",
       "\n",
       "                      title_description_text_cleaned  topic  \n",
       "0  Preis grüne halten Senkung Spritsteuer falsch ...      2  \n",
       "1  Biden warnen Putin USA liefern modern Raketens...      0  \n",
       "2  sozial Medium FDP-Politiker Kuhle Internet-Str...      2  \n",
       "3  Liveblog ukrainisch Kind vertreiben rund Mädch...      0  \n",
       "4  Finanz Dänemark stimmen EU-Verteidigungsvorbeh...      3  "
      ]
     },
     "execution_count": 27,
     "metadata": {},
     "output_type": "execute_result"
    }
   ],
   "source": [
    "train.head()"
   ]
  },
  {
   "cell_type": "markdown",
   "id": "dc4070d6",
   "metadata": {},
   "source": [
    "## Visualize model"
   ]
  },
  {
   "cell_type": "code",
   "execution_count": 28,
   "id": "f6745175",
   "metadata": {},
   "outputs": [
    {
     "data": {
      "text/html": [
       "\n",
       "<link rel=\"stylesheet\" type=\"text/css\" href=\"https://cdn.jsdelivr.net/gh/bmabey/pyLDAvis@3.4.0/pyLDAvis/js/ldavis.v1.0.0.css\">\n",
       "\n",
       "\n",
       "<div id=\"ldavis_el1318417559876053447613985751\" style=\"background-color:white;\"></div>\n",
       "<script type=\"text/javascript\">\n",
       "\n",
       "var ldavis_el1318417559876053447613985751_data = {\"mdsDat\": {\"x\": [-55.51811218261719, -3.288924217224121, -7.352235317230225, 45.004554748535156], \"y\": [20.807893753051758, 69.5051040649414, -31.66548728942871, 16.861026763916016], \"topics\": [1, 2, 3, 4], \"cluster\": [1, 1, 1, 1], \"Freq\": [32.652858240885436, 23.046099178295638, 22.891779070979418, 21.40926350983952]}, \"tinfo\": {\"Term\": [\"ukraine\", \"russland\", \"krieg\", \"russisch\", \"putin\", \"eu\", \"us\", \"corona\", \"ukrainisch\", \"pr\\u00e4sident\", \"usa\", \"china\", \"trump\", \"kiew\", \"afd\", \"selenskyj\", \"wm\", \"moskau\", \"bayern\", \"polizei\", \"entwicklung\", \"biden\", \"ampel\", \"habeck\", \"liveblog\", \"spd\", \"gr\\u00fcne\", \"iran\", \"angriff\", \"fdp\", \"habeck\", \"lindner\", \"fdp\", \"koalition\", \"johnson\", \"ampel\", \"streik\", \"wirtschaftsminister\", \"finanzminister\", \"sparen\", \"gabor\", \"gewerkschaft\", \"steingart\", \"warnstreik\", \"heizungsgesetz\", \"verbraucher\", \"entlastung\", \"energiewende\", \"gasumlage\", \"atomkraft\", \"lufthansa\", \"intelligenz\", \"giffey\", \"kindergrundsicherung\", \"truss\", \"verdi\", \"branche\", \"energiekris\", \"promi\", \"hugo\", \"gr\\u00fcne\", \"merz\", \"energiekrise\", \"energie\", \"wahrheit\", \"papst\", \"spd\", \"niedersachsen\", \"bahn\", \"gr\\u00fcn\", \"teuer\", \"friedrich\", \"cdu\", \"preis\", \"boris\", \"autor\", \"kosten\", \"deutschland\", \"gut\", \"berlin\", \"deutsch\", \"scholz\", \"focus\", \"gas\", \"hoch\", \"online\", \"euro\", \"kanzler\", \"gro\\u00df\", \"inflation\", \"geld\", \"geben\", \"prozent\", \"sagen\", \"bundesregierung\", \"zeigen\", \"stehen\", \"sehen\", \"regierung\", \"chef\", \"frage\", \"mensch\", \"bleiben\", \"krieg\", \"ukraine\", \"putin\", \"ukrainisch\", \"russisch\", \"kiew\", \"russland\", \"moskau\", \"liveblog\", \"selenskyj\", \"kreml\", \"wagner\", \"truppe\", \"panzer\", \"russlands\", \"wladimir\", \"bachmut\", \"krim\", \"explosion\", \"lieferung\", \"invasion\", \"saporischschja\", \"prigoschin\", \"angriffskrieg\", \"ukrainer\", \"leopard\", \"front\", \"cherson\", \"milit\\u00e4rexperte\", \"schr\\u00f6der\", \"entwicklung\", \"soldat\", \"armee\", \"russe\", \"reitz\", \"nord\", \"westen\", \"angriff\", \"waffe\", \"stream\", \"polen\", \"region\", \"nato\", \"lage\", \"liefern\", \"pr\\u00e4sident\", \"stadt\", \"weit\", \"deutschland\", \"mensch\", \"land\", \"geben\", \"gro\\u00df\", \"trump\", \"biden\", \"donald\", \"joe\", \"afghanistan\", \"republikaner\", \"kommission\", \"covid\", \"sudan\", \"musk\", \"corona\", \"kapitol\", \"bundesstaat\", \"nancy\", \"rki\", \"taliban\", \"impfung\", \"inzidenz\", \"mexiko\", \"elon\", \"impfstoff\", \"demokrat\", \"arabien\", \"repr\\u00e4sentantenhaus\", \"gerichtshof\", \"pelosi\", \"florida\", \"bolsonaro\", \"fbi\", \"bundesinnenministerin\", \"faeser\", \"eu\", \"iran\", \"brasilien\", \"innenministerin\", \"oberer\", \"saudi\", \"pandemie\", \"york\", \"us\", \"taiwan\", \"t\\u00fcrkei\", \"g7\", \"israel\", \"syrien\", \"erdogan\", \"gipfel\", \"t\\u00fcrkisch\", \"usa\", \"china\", \"migrant\", \"pr\\u00e4sident\", \"parlament\", \"land\", \"lauterbach\", \"baerbock\", \"staat\", \"protest\", \"regierung\", \"europ\\u00e4isch\", \"gericht\", \"mensch\", \"ex\", \"geben\", \"weit\", \"deutschland\", \"afd\", \"fu\\u00dfball\", \"bundesliga\", \"fc\", \"dfb\", \"bayern\", \"dax\", \"wm\", \"em\", \"marktbericht\", \"leipzig\", \"l\\u00fctzerath\", \"league\", \"aiwanger\", \"trainer\", \"charles\", \"queen\", \"anleger\", \"bayer\", \"dortmund\", \"th\\u00fcringen\", \"freiburg\", \"bvb\", \"rbb\", \"wall\", \"documenta\", \"wagenknecht\", \"eintracht\", \"tor\", \"k\\u00f6nig\", \"polizist\", \"england\", \"polizei\", \"katar\", \"ticket\", \"team\", \"frankfurt\", \"film\", \"m\\u00fcnchen\", \"spiel\", \"frau\", \"mann\", \"gewinnen\", \"sieg\", \"verletzen\", \"sterben\", \"linke\", \"generation\", \"partei\", \"erster\", \"deutsch\", \"mensch\", \"geben\", \"stehen\", \"berlin\", \"frankreich\", \"gro\\u00df\", \"bleiben\", \"euro\", \"zeigen\", \"heute\"], \"Freq\": [11706.0, 5941.0, 5892.0, 5603.0, 3913.0, 4126.0, 4364.0, 2939.0, 2777.0, 4144.0, 2948.0, 2856.0, 1576.0, 1553.0, 1468.0, 1437.0, 1367.0, 1392.0, 1282.0, 1317.0, 1308.0, 1276.0, 1684.0, 1661.0, 1153.0, 1819.0, 1573.0, 1052.0, 1634.0, 1299.0, 1661.0668390589333, 827.741870926968, 1298.1863535861148, 736.0403302930957, 523.020463988391, 1681.8010506730482, 525.9242189176948, 452.9268235738807, 423.72213062033006, 392.56534526593174, 388.67530536752344, 387.6991363366481, 383.80762214138707, 359.4761310404656, 268.9364429779274, 344.5568088607155, 254.28456915207497, 235.82159124355195, 220.26062699121078, 213.44027337476342, 200.78845866367044, 199.80726711602588, 193.96947882706723, 190.08196014363264, 183.26218044281296, 179.37084713188008, 240.44719785776772, 178.3829471939703, 296.65809933927164, 174.50158194189893, 1545.0168966987997, 643.9968380311344, 324.7308260977512, 735.4398006852878, 476.4792229074476, 318.6523047593753, 1747.4710876706263, 325.43391222648654, 700.0314934207053, 744.7684111612709, 573.7017217182714, 284.9522273623133, 1539.011043527356, 847.0879468782414, 437.0159989666601, 576.3715952112976, 539.5550319948951, 3690.621564347738, 1792.8613804499942, 1790.4021176404533, 2480.4851535494113, 1610.5525625919472, 1426.2670009330445, 901.2338854196123, 1412.9574697600729, 1364.5903523226732, 1205.8229682773422, 855.5121532811529, 1635.217270688384, 697.9732212620121, 762.456971769726, 1867.0506078129629, 861.8451377895195, 1176.8573602585982, 838.3052004886628, 1085.029747414764, 1073.557529198234, 983.5245809054356, 968.1600872223972, 916.2597115053194, 831.1780703798739, 931.1200137077028, 838.4726184178147, 5890.809102303928, 11703.554739015897, 3912.8019501290337, 2776.443995147895, 5600.433957886903, 1552.20778220304, 5938.685200635616, 1391.3136458294205, 1152.3160927630465, 1436.63467079192, 815.7664605976472, 811.8620618080038, 742.604001107734, 624.5662904944455, 627.4065895584026, 556.2798717189654, 532.8726379294365, 515.3129990251197, 519.2001375992874, 484.0904832633795, 484.09048673112574, 480.1942809211752, 437.2714003714414, 444.0346019303732, 407.0241747187312, 373.86146149462166, 373.791676329172, 321.1863335647929, 296.7976656450543, 319.1690978649663, 1301.8588303042359, 900.5045895940062, 771.1696529846993, 648.9899707210255, 406.3011308503456, 581.3237992646651, 770.3225249183433, 1352.0825613709267, 691.8020184633427, 567.2324615625594, 746.8436987157361, 650.6548353166976, 874.3812895156232, 875.2716035001581, 705.1103186861901, 1441.0831192241726, 800.1861626095993, 984.21536379707, 1218.6990520269846, 991.0186169275638, 955.2562290508375, 1020.8868012888393, 745.4189011263923, 1575.5503425250597, 1275.3388011755653, 654.4199586476905, 425.6004556059032, 417.7741134578567, 399.2018012436955, 408.96149268524846, 339.5502020075463, 337.5913080976201, 314.12463087249785, 2932.42639442498, 259.3722354736637, 255.45321146413008, 272.9775875218523, 239.8141402517707, 234.92155033008686, 226.12285202399957, 202.65536707671316, 199.7070881759166, 187.98164997566658, 182.1215455450939, 175.26944894991368, 219.0795194795695, 152.78560761148583, 152.7811872058841, 150.83103015506737, 151.79736783007212, 143.98595395712732, 140.07086424774002, 142.9818195620465, 679.5689130059302, 4022.348866151901, 1033.8949816254528, 357.7695802334934, 248.30709557457214, 176.04427947376604, 238.3220968402016, 874.1719911860803, 371.5715242402111, 4037.0095639350707, 699.8936930813281, 1007.7900579353322, 638.8823855530732, 910.381843031648, 412.14676575658467, 454.92010229942565, 856.5771282283273, 464.77431809938486, 2323.539936825116, 2177.0076019542084, 356.05328325995026, 2687.987530159996, 634.0923038999766, 1911.5065696983127, 640.6630324010032, 726.8025506146155, 827.5323868264088, 836.8208405463168, 1126.297479789298, 560.509368964247, 647.79389376834, 1298.01266964033, 873.0685091923677, 1227.1008697987284, 924.0794797013353, 1132.4106245401422, 1467.783424466202, 909.2407803444414, 716.5440078681903, 708.7583403367594, 625.0580613475669, 1281.1943720731847, 507.2930204298558, 1365.4118175160568, 483.93485881551965, 447.92712359194337, 422.60917815308295, 356.4416755504302, 347.6874374089103, 319.4587275121652, 306.79933133642857, 298.04393603862985, 316.4538936325525, 290.21071106982134, 247.4380946702646, 240.63185703855265, 237.70424497860608, 231.8701006616026, 218.24747801723407, 220.186394085678, 206.559786237159, 204.6183012529454, 316.13942390562045, 203.647753044596, 229.79313996093063, 299.59929484802313, 328.50060443412906, 232.68341538343927, 1285.7544400734128, 455.9913281303261, 440.67937933510933, 547.5160003025474, 478.2538797965699, 352.01601563937675, 570.3325685753925, 603.0023317381977, 1194.8122922704213, 989.6016513494883, 770.5769515120824, 589.189822833938, 491.981678768597, 796.9303280926937, 426.209403113761, 475.6239742502262, 627.2678586333528, 773.7753292021678, 1014.1706865140304, 956.9361317282401, 988.5936137883996, 794.6734824914562, 766.1985221818795, 570.9649230317882, 670.7499067822473, 561.9616417278648, 544.1807979540345, 550.2027913485416, 505.93738135623596], \"Total\": [11706.0, 5941.0, 5892.0, 5603.0, 3913.0, 4126.0, 4364.0, 2939.0, 2777.0, 4144.0, 2948.0, 2856.0, 1576.0, 1553.0, 1468.0, 1437.0, 1367.0, 1392.0, 1282.0, 1317.0, 1308.0, 1276.0, 1684.0, 1661.0, 1153.0, 1819.0, 1573.0, 1052.0, 1634.0, 1299.0, 1661.8275412284004, 828.480666008998, 1299.6732395560846, 736.9683925755664, 523.7639010638178, 1684.2217606677277, 526.6845837142091, 453.6693004941196, 424.4632261760962, 393.3100861623571, 389.4159280395017, 388.4423932265266, 384.548248260218, 360.20982689706494, 269.67097727397305, 345.60816252254114, 255.06792867223234, 236.57081647188082, 220.9941773430373, 214.17944177593876, 201.52346313668016, 200.54994574632835, 194.70871200744412, 190.8145569591428, 183.9998099352049, 180.1056676635858, 241.43854747323203, 179.13217855520912, 297.90567530884596, 175.23798261705414, 1573.2283893603474, 650.3218568854086, 326.13884351943926, 746.7300299765975, 481.90606622721646, 321.2722092929929, 1819.5281850371532, 329.0558014122448, 733.0641989794032, 794.5887255537799, 605.5803032103902, 289.14065508491933, 1782.4711304057164, 943.55531170423, 478.99300663346014, 665.9931861400646, 616.427703488962, 6525.13344492537, 2738.2718979249416, 2783.7390554301683, 4564.229290966152, 2594.31941613572, 2233.106968127442, 1219.531147597561, 2267.9575623679175, 2234.1934473981414, 1945.6571134456317, 1195.4952124941235, 3645.9212397647275, 917.0315123954223, 1071.5999821232422, 5103.631892688931, 1349.8779402729658, 2474.5749168068196, 1295.3107638589297, 2581.579321680865, 2897.6083000232725, 2315.0633388025303, 2434.4389992671004, 2081.201215767505, 1461.802108817118, 4177.0874320038365, 2185.2133285971236, 5892.089086052562, 11706.139584176719, 3913.7513780981694, 2777.2804406418795, 5603.341632470874, 1553.0136875905448, 5941.844653902953, 1392.0541669057188, 1153.0538849227528, 1437.9044648218733, 816.50248437505, 812.60042545106, 743.3391325358608, 625.3022625689734, 628.2290033739731, 557.0164767355518, 533.604204692114, 516.0450016019176, 519.9470217202249, 484.8286334400914, 484.82864976911895, 480.92659369486574, 438.00409517219776, 444.83281895436295, 407.7632409817289, 374.59585814396786, 374.59597891161735, 321.9182518832538, 297.5304705149867, 319.96708804969336, 1308.168920511832, 903.3279649188579, 773.5839897070812, 650.6678041751917, 407.76177155722655, 593.088015490621, 829.3229454320788, 1634.9383717123753, 758.1270103028321, 601.8146116022671, 914.4489213696916, 762.0883193526822, 1225.1017935410068, 1326.8515721449414, 912.8515823902644, 4144.502564316516, 1443.9240255314676, 2887.62739915457, 6525.13344492537, 4177.0874320038365, 3813.923088456271, 5103.631892688931, 3645.9212397647275, 1576.2847841858245, 1276.086059753941, 655.1539342815357, 426.33798077928674, 418.5152027146631, 399.936149159221, 409.7145369231628, 340.28753655529226, 338.3318458341232, 314.86353824670323, 2939.373168738747, 260.10419355746257, 256.19278237702014, 273.7936670664013, 240.54726962469312, 235.65802842476668, 226.85742110804853, 203.38912187129495, 200.4555384389792, 188.72141313733732, 182.85436273442966, 176.00941195273413, 220.0115686991388, 153.51898398143626, 153.5189679026993, 151.56329797609786, 152.54109247182404, 144.71837332424596, 140.8069786793603, 143.74041673777108, 683.4973225009528, 4126.25980696827, 1052.1046134347478, 360.81139266928244, 250.32001838020093, 176.98632987797987, 240.54024173323748, 901.4456167669205, 377.4246190227898, 4364.266735117401, 728.4258533803655, 1068.6388818855087, 669.7495037060759, 979.5063328689392, 426.3058554709645, 475.1835483055072, 945.3632367319569, 495.6927369350288, 2948.658847898184, 2856.6160727917822, 372.48212976498826, 4144.502564316516, 757.2808170055843, 3813.923088456271, 847.8534353091428, 1076.747460350562, 1351.4280859382982, 1414.2502890484407, 2434.4389992671004, 747.3368397187818, 995.8413303065303, 4177.0874320038365, 1918.32572615779, 5103.631892688931, 2887.62739915457, 6525.13344492537, 1468.6148528323956, 909.9773986585334, 717.2766770256695, 709.4907892053077, 625.7925025048181, 1282.7270224103688, 508.0309649308505, 1367.3986695367278, 484.67329423244826, 448.66357457129624, 423.35943683472146, 357.1793914912498, 348.4202605234334, 320.19642291888476, 307.54435597376585, 298.7852544583474, 317.2767488153191, 290.9993826768694, 248.17696976448718, 241.3643073005077, 238.44461288616898, 232.6051903372237, 218.9798808479669, 220.92635809353072, 207.3010777689804, 205.35458251388323, 317.2776518816156, 204.38134382338984, 230.65902017421283, 300.7318389744181, 329.9320345231629, 233.57848113105382, 1317.9089376966929, 461.33734532834774, 446.73828296864133, 558.6596051031452, 493.4368758515407, 364.9691660898676, 617.0508232029395, 726.1763133461616, 1781.4364400180243, 1566.2561997370713, 1139.3063565309583, 783.0081489988688, 668.0967249706977, 1529.6787289962672, 531.4208632728873, 729.77907297358, 1398.337546452136, 2359.0939723085867, 4564.229290966152, 4177.0874320038365, 5103.631892688931, 2897.6083000232725, 2783.7390554301683, 1191.8089455857173, 3645.9212397647275, 2185.2133285971236, 1945.6571134456317, 2581.579321680865, 1814.23348346096], \"Category\": [\"Default\", \"Default\", \"Default\", \"Default\", \"Default\", \"Default\", \"Default\", \"Default\", \"Default\", \"Default\", \"Default\", \"Default\", \"Default\", \"Default\", \"Default\", \"Default\", \"Default\", \"Default\", \"Default\", \"Default\", \"Default\", \"Default\", \"Default\", \"Default\", \"Default\", \"Default\", \"Default\", \"Default\", \"Default\", \"Default\", \"Topic1\", \"Topic1\", \"Topic1\", \"Topic1\", \"Topic1\", \"Topic1\", \"Topic1\", \"Topic1\", \"Topic1\", \"Topic1\", \"Topic1\", \"Topic1\", \"Topic1\", \"Topic1\", \"Topic1\", \"Topic1\", \"Topic1\", \"Topic1\", \"Topic1\", \"Topic1\", \"Topic1\", \"Topic1\", \"Topic1\", \"Topic1\", \"Topic1\", \"Topic1\", \"Topic1\", \"Topic1\", \"Topic1\", \"Topic1\", \"Topic1\", \"Topic1\", \"Topic1\", \"Topic1\", \"Topic1\", \"Topic1\", \"Topic1\", \"Topic1\", \"Topic1\", \"Topic1\", \"Topic1\", \"Topic1\", \"Topic1\", \"Topic1\", \"Topic1\", \"Topic1\", \"Topic1\", \"Topic1\", \"Topic1\", \"Topic1\", \"Topic1\", \"Topic1\", \"Topic1\", \"Topic1\", \"Topic1\", \"Topic1\", \"Topic1\", \"Topic1\", \"Topic1\", \"Topic1\", \"Topic1\", \"Topic1\", \"Topic1\", \"Topic1\", \"Topic1\", \"Topic1\", \"Topic1\", \"Topic1\", \"Topic1\", \"Topic1\", \"Topic1\", \"Topic1\", \"Topic1\", \"Topic2\", \"Topic2\", \"Topic2\", \"Topic2\", \"Topic2\", \"Topic2\", \"Topic2\", \"Topic2\", \"Topic2\", \"Topic2\", \"Topic2\", \"Topic2\", \"Topic2\", \"Topic2\", \"Topic2\", \"Topic2\", \"Topic2\", \"Topic2\", \"Topic2\", \"Topic2\", \"Topic2\", \"Topic2\", \"Topic2\", \"Topic2\", \"Topic2\", \"Topic2\", \"Topic2\", \"Topic2\", \"Topic2\", \"Topic2\", \"Topic2\", \"Topic2\", \"Topic2\", \"Topic2\", \"Topic2\", \"Topic2\", \"Topic2\", \"Topic2\", \"Topic2\", \"Topic2\", \"Topic2\", \"Topic2\", \"Topic2\", \"Topic2\", \"Topic2\", \"Topic2\", \"Topic2\", \"Topic2\", \"Topic2\", \"Topic2\", \"Topic2\", \"Topic2\", \"Topic2\", \"Topic3\", \"Topic3\", \"Topic3\", \"Topic3\", \"Topic3\", \"Topic3\", \"Topic3\", \"Topic3\", \"Topic3\", \"Topic3\", \"Topic3\", \"Topic3\", \"Topic3\", \"Topic3\", \"Topic3\", \"Topic3\", \"Topic3\", \"Topic3\", \"Topic3\", \"Topic3\", \"Topic3\", \"Topic3\", \"Topic3\", \"Topic3\", \"Topic3\", \"Topic3\", \"Topic3\", \"Topic3\", \"Topic3\", \"Topic3\", \"Topic3\", \"Topic3\", \"Topic3\", \"Topic3\", \"Topic3\", \"Topic3\", \"Topic3\", \"Topic3\", \"Topic3\", \"Topic3\", \"Topic3\", \"Topic3\", \"Topic3\", \"Topic3\", \"Topic3\", \"Topic3\", \"Topic3\", \"Topic3\", \"Topic3\", \"Topic3\", \"Topic3\", \"Topic3\", \"Topic3\", \"Topic3\", \"Topic3\", \"Topic3\", \"Topic3\", \"Topic3\", \"Topic3\", \"Topic3\", \"Topic3\", \"Topic3\", \"Topic3\", \"Topic3\", \"Topic3\", \"Topic3\", \"Topic4\", \"Topic4\", \"Topic4\", \"Topic4\", \"Topic4\", \"Topic4\", \"Topic4\", \"Topic4\", \"Topic4\", \"Topic4\", \"Topic4\", \"Topic4\", \"Topic4\", \"Topic4\", \"Topic4\", \"Topic4\", \"Topic4\", \"Topic4\", \"Topic4\", \"Topic4\", \"Topic4\", \"Topic4\", \"Topic4\", \"Topic4\", \"Topic4\", \"Topic4\", \"Topic4\", \"Topic4\", \"Topic4\", \"Topic4\", \"Topic4\", \"Topic4\", \"Topic4\", \"Topic4\", \"Topic4\", \"Topic4\", \"Topic4\", \"Topic4\", \"Topic4\", \"Topic4\", \"Topic4\", \"Topic4\", \"Topic4\", \"Topic4\", \"Topic4\", \"Topic4\", \"Topic4\", \"Topic4\", \"Topic4\", \"Topic4\", \"Topic4\", \"Topic4\", \"Topic4\", \"Topic4\", \"Topic4\", \"Topic4\", \"Topic4\", \"Topic4\", \"Topic4\", \"Topic4\", \"Topic4\"], \"logprob\": [30.0, 29.0, 28.0, 27.0, 26.0, 25.0, 24.0, 23.0, 22.0, 21.0, 20.0, 19.0, 18.0, 17.0, 16.0, 15.0, 14.0, 13.0, 12.0, 11.0, 10.0, 9.0, 8.0, 7.0, 6.0, 5.0, 4.0, 3.0, 2.0, 1.0, -5.4343, -6.1308, -5.6808, -6.2482, -6.5899, -5.4219, -6.5844, -6.7338, -6.8005, -6.8768, -6.8868, -6.8893, -6.8994, -6.9649, -7.2551, -7.0073, -7.3111, -7.3865, -7.4547, -7.4862, -7.5473, -7.5522, -7.5818, -7.6021, -7.6386, -7.6601, -7.367, -7.6656, -7.157, -7.6876, -5.5067, -6.3818, -7.0665, -6.2491, -6.6831, -7.0854, -5.3836, -7.0644, -6.2984, -6.2365, -6.4974, -7.1972, -5.5106, -6.1077, -6.7696, -6.4928, -6.5588, -4.636, -5.358, -5.3593, -5.0333, -5.4652, -5.5867, -6.0458, -5.5961, -5.6309, -5.7546, -6.0978, -5.45, -6.3014, -6.213, -5.3174, -6.0905, -5.7789, -6.1182, -5.8602, -5.8708, -5.9584, -5.9741, -6.0292, -6.1267, -6.0131, -6.118, -3.8199, -3.1335, -4.2291, -4.5722, -3.8705, -5.1537, -3.8119, -5.2631, -5.4516, -5.231, -5.797, -5.8018, -5.8909, -6.064, -6.0595, -6.1798, -6.2228, -6.2563, -6.2488, -6.3188, -6.3188, -6.3269, -6.4205, -6.4052, -6.4922, -6.5772, -6.5774, -6.7291, -6.808, -6.7354, -5.3296, -5.6981, -5.8532, -6.0257, -6.494, -6.1358, -5.8543, -5.2917, -5.9618, -6.1603, -5.8852, -6.0231, -5.7276, -5.7266, -5.9427, -5.2279, -5.8163, -5.6093, -5.3956, -5.6024, -5.6391, -5.5727, -5.8872, -5.132, -5.3434, -6.0106, -6.4409, -6.4594, -6.5049, -6.4808, -6.6668, -6.6725, -6.7446, -4.5108, -6.9361, -6.9513, -6.885, -7.0145, -7.0351, -7.0733, -7.1829, -7.1975, -7.258, -7.2897, -7.3281, -7.1049, -7.4653, -7.4654, -7.4782, -7.4718, -7.5247, -7.5522, -7.5317, -5.9729, -4.1948, -5.5533, -6.6145, -6.9797, -7.3236, -7.0208, -5.7211, -6.5766, -4.1911, -5.9435, -5.5789, -6.0347, -5.6805, -6.473, -6.3743, -5.7414, -6.3528, -4.7435, -4.8087, -6.6193, -4.5978, -6.0422, -4.9387, -6.0319, -5.9057, -5.7759, -5.7648, -5.4677, -6.1655, -6.0208, -5.3258, -5.7224, -5.382, -5.6656, -5.4623, -5.1359, -5.6148, -5.853, -5.8639, -5.9896, -5.2719, -6.1983, -5.2082, -6.2455, -6.3228, -6.381, -6.5513, -6.5761, -6.6608, -6.7012, -6.7302, -6.6702, -6.7568, -6.9163, -6.9442, -6.9564, -6.9812, -7.0418, -7.033, -7.0968, -7.1063, -6.6712, -7.111, -6.9902, -6.725, -6.6329, -6.9777, -5.2683, -6.305, -6.3391, -6.122, -6.2573, -6.5637, -6.0812, -6.0255, -5.3417, -5.5301, -5.7803, -6.0487, -6.229, -5.7467, -6.3725, -6.2628, -5.9861, -5.7761, -5.5056, -5.5637, -5.5311, -5.7495, -5.786, -6.0801, -5.919, -6.096, -6.1281, -6.1171, -6.201], \"loglift\": [30.0, 29.0, 28.0, 27.0, 26.0, 25.0, 24.0, 23.0, 22.0, 21.0, 20.0, 19.0, 18.0, 17.0, 16.0, 15.0, 14.0, 13.0, 12.0, 11.0, 10.0, 9.0, 8.0, 7.0, 6.0, 5.0, 4.0, 3.0, 2.0, 1.0, 1.1188, 1.1183, 1.1181, 1.118, 1.1178, 1.1178, 1.1178, 1.1176, 1.1175, 1.1173, 1.1173, 1.1173, 1.1173, 1.1172, 1.1165, 1.1162, 1.1162, 1.1161, 1.1159, 1.1158, 1.1156, 1.1155, 1.1154, 1.1154, 1.1152, 1.1151, 1.1151, 1.115, 1.115, 1.115, 1.1011, 1.1095, 1.1149, 1.104, 1.1079, 1.111, 1.0788, 1.1082, 1.0731, 1.0545, 1.0652, 1.1046, 0.9724, 1.0114, 1.0275, 0.9747, 0.986, 0.5494, 0.6957, 0.6779, 0.5094, 0.6425, 0.6709, 0.8168, 0.646, 0.6262, 0.6408, 0.7846, 0.3174, 0.8463, 0.7789, 0.1136, 0.6705, 0.376, 0.6841, 0.2524, 0.1263, 0.2632, 0.1972, 0.2988, 0.5547, -0.3817, 0.1614, 1.4675, 1.4675, 1.4674, 1.4674, 1.4672, 1.4672, 1.4671, 1.4671, 1.467, 1.4668, 1.4668, 1.4668, 1.4667, 1.4665, 1.4664, 1.4664, 1.4663, 1.4663, 1.4662, 1.4662, 1.4661, 1.4661, 1.466, 1.4659, 1.4659, 1.4657, 1.4655, 1.4654, 1.4652, 1.4652, 1.4628, 1.4645, 1.4645, 1.4651, 1.4641, 1.4476, 1.3939, 1.2777, 1.3761, 1.4085, 1.2652, 1.3096, 1.1304, 1.0516, 1.2095, 0.4113, 0.8774, 0.3913, -0.2102, 0.029, 0.0832, -0.1416, -0.1197, 1.4739, 1.4738, 1.4733, 1.4727, 1.4726, 1.4726, 1.4726, 1.4722, 1.4722, 1.472, 1.472, 1.4716, 1.4715, 1.4714, 1.4713, 1.4713, 1.4711, 1.4708, 1.4707, 1.4705, 1.4704, 1.4702, 1.4701, 1.4696, 1.4696, 1.4695, 1.4695, 1.4693, 1.4692, 1.4691, 1.4686, 1.4489, 1.4569, 1.4659, 1.4663, 1.4691, 1.4651, 1.4437, 1.4588, 1.3964, 1.4344, 1.4158, 1.4272, 1.4012, 1.4406, 1.4308, 1.3758, 1.41, 1.2361, 1.2027, 1.4293, 1.0414, 1.2969, 0.7836, 1.1942, 1.0813, 0.9839, 0.9496, 0.7036, 1.1867, 1.0444, 0.3056, 0.6872, 0.0491, 0.335, -0.2769, 1.5408, 1.5405, 1.5403, 1.5403, 1.5402, 1.5402, 1.5399, 1.5399, 1.5398, 1.5397, 1.5396, 1.5393, 1.5392, 1.539, 1.5389, 1.5389, 1.5387, 1.5386, 1.5384, 1.5383, 1.5382, 1.5382, 1.538, 1.538, 1.5378, 1.5378, 1.5378, 1.5378, 1.5376, 1.5376, 1.537, 1.5375, 1.5166, 1.5297, 1.5277, 1.5212, 1.5101, 1.5052, 1.4626, 1.3555, 1.1419, 1.0822, 1.1503, 1.257, 1.2354, 0.8893, 1.3207, 1.1132, 0.7397, 0.4266, 0.0372, 0.0677, -0.1001, 0.2476, 0.2512, 0.8054, -0.1516, 0.1833, 0.2673, -0.0045, 0.2643]}, \"token.table\": {\"Topic\": [4, 3, 4, 1, 3, 4, 2, 3, 4, 2, 4, 3, 2, 3, 1, 1, 2, 3, 4, 2, 2, 3, 1, 4, 4, 1, 4, 1, 2, 3, 4, 3, 1, 2, 3, 4, 3, 1, 2, 4, 1, 3, 4, 3, 4, 1, 2, 3, 4, 3, 4, 1, 4, 4, 1, 2, 3, 4, 2, 2, 3, 1, 3, 4, 3, 4, 3, 1, 2, 3, 4, 1, 2, 3, 4, 4, 4, 3, 4, 4, 3, 4, 1, 2, 3, 1, 1, 3, 1, 4, 1, 1, 2, 3, 2, 3, 1, 2, 3, 4, 2, 3, 1, 2, 3, 4, 1, 2, 3, 4, 1, 2, 3, 4, 2, 1, 3, 3, 4, 1, 3, 4, 1, 4, 1, 3, 1, 2, 3, 4, 1, 2, 3, 4, 1, 4, 1, 2, 3, 4, 1, 2, 3, 4, 4, 1, 4, 2, 4, 2, 3, 1, 1, 2, 3, 1, 1, 2, 3, 4, 1, 2, 3, 4, 1, 3, 4, 1, 2, 3, 4, 3, 1, 1, 2, 3, 4, 1, 2, 3, 1, 2, 3, 4, 1, 3, 4, 1, 4, 1, 2, 3, 4, 1, 1, 1, 2, 3, 4, 1, 2, 3, 4, 1, 3, 3, 1, 3, 4, 1, 3, 1, 2, 3, 2, 3, 4, 1, 2, 3, 4, 3, 1, 1, 2, 3, 3, 3, 4, 2, 1, 1, 3, 1, 2, 3, 4, 2, 2, 3, 2, 1, 4, 1, 2, 3, 4, 1, 2, 3, 4, 1, 3, 4, 4, 2, 1, 2, 3, 4, 2, 1, 1, 4, 2, 1, 4, 1, 2, 3, 4, 4, 1, 2, 3, 4, 1, 4, 3, 3, 4, 2, 2, 3, 1, 2, 3, 4, 3, 2, 3, 1, 4, 1, 2, 3, 1, 2, 3, 4, 1, 3, 4, 2, 1, 2, 1, 3, 4, 1, 2, 3, 4, 3, 2, 3, 4, 1, 2, 3, 4, 3, 4, 1, 2, 3, 4, 2, 1, 3, 1, 2, 3, 4, 1, 2, 3, 4, 1, 2, 3, 4, 2, 4, 4, 1, 2, 3, 4, 1, 2, 3, 4, 1, 2, 3, 3, 3, 2, 3, 2, 3, 2, 3, 2, 1, 2, 3, 4, 2, 3, 4, 1, 2, 3, 2, 1, 2, 3, 4, 2, 3, 1, 2, 3, 4, 2, 3, 1, 1, 2, 3, 4, 1, 2, 3, 4, 1, 2, 3, 4, 1, 2, 3, 4, 1, 2, 3, 4, 1, 1, 2, 3, 4, 1, 2, 4, 1, 3, 2, 3, 2, 3, 3, 1, 2, 4, 1, 2, 3, 4, 4, 1, 3, 4, 4, 4, 3, 2, 1, 2, 3, 2, 3, 2, 3, 2, 2, 1, 2, 3, 4, 2, 3, 4, 1, 3, 1, 2, 3, 4, 2, 3, 4, 2, 4, 2, 1, 2, 4, 4, 1, 1, 2, 3, 4, 2, 3, 1, 2, 1, 4, 1, 2, 3, 4, 1, 2, 3, 4], \"Freq\": [0.9995813382717669, 0.9987689749110158, 0.9962634719401976, 0.9986808384028675, 0.0005937460394785181, 0.0005937460394785181, 0.8269424850454541, 0.08318356358445396, 0.08991164593319656, 0.9981277933666841, 0.9965656879829909, 0.9954022022336376, 0.996659716667534, 0.002585368914831476, 0.9944932073491319, 0.8648737134059233, 0.05255309022431826, 0.012012134908415602, 0.06906977572338971, 0.9988676912835374, 0.32412428433903556, 0.6751815321331772, 0.9548959026706852, 0.045016521125903736, 0.9952575383380493, 0.0007795890961437008, 0.9986536321600806, 0.6430200404410367, 0.05496204814942939, 0.026582951392534478, 0.27516946982001905, 0.9991489133937013, 0.38348658642768957, 0.14232020092960793, 0.21691246058081723, 0.2571831283679732, 0.9950360599850274, 0.9123306477299064, 0.02296484467970016, 0.06471910773370045, 0.9940417655412231, 0.9922081377517384, 0.008314593333115128, 0.9948489314656583, 0.9996142673607947, 0.6469489974000288, 0.15980721057494746, 0.18605573791576008, 0.006176124080191205, 0.9953441999186972, 0.9955252471406393, 0.8634080932630315, 0.13632759367311023, 0.9973718433335307, 0.4401304367209865, 0.3339417614859013, 0.14654998165928043, 0.079281137618955, 0.9971475619108829, 0.237693824685517, 0.7620905100741834, 0.0006804171791695908, 0.9974915846626201, 0.0013608343583391817, 0.9991550188461118, 0.9979706651719727, 0.9942650115040144, 0.543355699703473, 0.10932842506130365, 0.1251032679559206, 0.2221623707658555, 0.5656589296071041, 0.18681610273396365, 0.17348304207944779, 0.07402147466817427, 0.9987336017902962, 0.9982733157958175, 0.9982386822071042, 0.9984906330824875, 0.9981341554162626, 0.9961773646914549, 0.9986108286954112, 0.9842914714746839, 0.012052548630302253, 0.002678344140067167, 0.9936796472619229, 0.9965081021716097, 0.003066178775912645, 0.997587122197092, 0.9975233971543412, 0.9958131597422244, 0.0007644272725946903, 0.9952843089182868, 0.0038221363629734515, 0.04208899923265337, 0.9575247325428643, 0.25772606226661543, 0.16616548751400206, 0.24840044817144186, 0.328092059530198, 0.024962073359039955, 0.9747326121364922, 0.6198420017925218, 0.0349496319418669, 0.0652735773031926, 0.2795970555349352, 0.1271180476473606, 0.0802850827246488, 0.7506655234754663, 0.042818710786479364, 0.2846231964441107, 0.1475244772778083, 0.45508434156723193, 0.11259818760426357, 0.9981786188194871, 0.004389190566281725, 0.9948831950238577, 0.9942689013930345, 0.999308251477292, 0.9987125690480047, 0.0007694241672172609, 0.0007694241672172609, 0.0328794898718792, 0.9644650362417899, 0.9989086777192235, 0.9964528084658631, 0.6385721868020336, 0.2176339991485192, 0.08329202436548265, 0.06045388865236644, 0.5684763997723608, 0.16144456118685577, 0.16554908392889447, 0.10466532992198699, 0.030399025152131148, 0.9687156015145791, 0.3826116607774728, 0.12250285630155927, 0.01510309187279498, 0.47910363663144073, 0.1751395632149768, 0.0005613447538941564, 0.1532471178131047, 0.6708069809035169, 0.997398207940475, 0.9856794435092386, 0.013834097452761243, 0.9984090087850143, 0.9989259088632594, 0.04479286633882405, 0.9540880530169523, 0.9989319182664261, 0.7388085181546551, 0.2541960495315684, 0.006559898052427571, 0.9955013414607115, 0.3658179193281005, 0.2000536130873008, 0.24041702571803925, 0.19378356840679772, 0.7110862380663647, 0.03359462542045818, 0.14277715803694727, 0.1119820847348606, 0.11510332799449982, 0.23157693370321988, 0.6522521919688323, 0.04217539353088706, 0.03213363316639014, 0.6507060716194003, 0.2751442339872156, 0.9966195193350426, 0.9988611098215827, 0.18783358731676222, 0.06495180122168413, 0.07109589052643804, 0.6767275505664658, 0.9963601422856876, 0.09308591299171816, 0.906529857203437, 0.4484463301531733, 0.20433793025328081, 0.16319606510161352, 0.1840412767784583, 0.9375919592626745, 0.05285753327386889, 0.010068101575975028, 0.9820570302752898, 0.01716216169413128, 0.6547925358905128, 0.0719431843672231, 0.11576644388025241, 0.15776373424690548, 0.9995020294176924, 0.9975118669396471, 0.43875278857795863, 0.1372480456732559, 0.14496480326131045, 0.2789056671111144, 0.6230275307818027, 0.08509859408413865, 0.22002175361650358, 0.07187083334567151, 0.9986419461494589, 0.995327632758369, 0.996220440557507, 0.7611515968265044, 0.23118071422237668, 0.007633325469606777, 0.003994886251890332, 0.9907317904688024, 0.9972578115427467, 0.998290839929708, 0.9980868108003279, 0.011405709894973528, 0.9827920026168856, 0.005702854947486764, 0.05921350179546064, 0.006125534668495928, 0.9290394247218824, 0.005104612223746607, 0.9992072468451697, 0.9985415163926604, 0.7160212697248318, 0.18653357844466997, 0.09786739317500623, 0.9957548029412351, 0.01083805603563559, 0.9884307104499659, 0.9993472771047385, 0.9957311592358374, 0.998685978143266, 0.9982560127631087, 0.8760151384235595, 0.05677875897189738, 0.04217850666483805, 0.025956004101438803, 0.999384589288256, 0.9998151613058363, 0.0001697190903591642, 0.9979749797039527, 0.0033252215775033565, 0.997566473251007, 0.1236008634597187, 0.6594558263856943, 0.18540129518957804, 0.031653879666513327, 0.21316633323328787, 0.25039833731585476, 0.5013210690554076, 0.035134426387774385, 0.24414597072962738, 0.7560268948680732, 0.9987938114654927, 0.9991509889624551, 0.9984093306666011, 0.1391244781188369, 0.7723051738092915, 0.05039154325564172, 0.03834139160755348, 0.9982908735521419, 0.9994198222979499, 0.19758351102990468, 0.8016245304641847, 0.9990860054880927, 0.9974024705186555, 0.9966980416022163, 0.13663154216782947, 0.12896996036402594, 0.10215442405071362, 0.6320804988137906, 0.9985209974490791, 0.2228825743188669, 0.2372466499999969, 0.310742837235112, 0.22910700711402324, 0.9902788798831307, 0.00922620074425277, 0.9977274838972939, 0.9557505489581811, 0.04295508085205309, 0.9982170884411653, 0.9992427256562422, 0.99725742062256, 0.0729275422831745, 0.001620612050737211, 0.001620612050737211, 0.9237488689202104, 0.9971012219716213, 0.713410105680941, 0.2856905457532372, 0.9876744266630824, 0.009116994707659223, 0.018546994227999117, 0.9796185133152261, 0.994427084404429, 0.610958733940263, 0.21797575342777148, 0.09533641782364544, 0.07564250991641351, 0.0011093292611334112, 0.9695537742306014, 0.02884256078946869, 0.9995166136649951, 0.9929274639160567, 0.006225250557467439, 0.139974495087756, 0.837205942317333, 0.021128225673623546, 0.4641225587102654, 0.001430269826533946, 0.08581618959203675, 0.44838959061839206, 0.9962834143646921, 0.8168854296215025, 0.181530095471445, 0.0010935547919966565, 0.0007587777663513673, 0.0007587777663513673, 0.023522110756892388, 0.9757882075278584, 0.003030927267930374, 0.9971750711490931, 0.8976686257747478, 0.06358927691438591, 0.020136604356222207, 0.019076783074315776, 0.9977075667025374, 0.9969598588281106, 0.0033567672014414495, 0.05091036611945417, 0.019798475713121065, 0.5918330061386547, 0.3379882639597096, 0.6385762551432543, 0.049634117279116055, 0.2392808937485744, 0.07259915661721453, 0.0016889843573192223, 0.34768949412814276, 0.6485699932105814, 0.0021715513165532856, 0.9998080158841018, 0.995975914339496, 0.9958069372005918, 0.39762754387824917, 0.10680078657886859, 0.4625295603377155, 0.032861780485805715, 0.007873103218661585, 0.8542316992247819, 0.13121838697769309, 0.007873103218661585, 0.002452412339148514, 0.9956794096942967, 0.9966194149545764, 0.9976592534553602, 0.9977248977901642, 0.9974367808511659, 0.0015368825590927056, 0.9994036357784237, 0.0003569298699208656, 0.999521250711076, 0.0005048937114216582, 0.9980437016320918, 0.4756372466260975, 0.2517604117655554, 0.14669186110898336, 0.12567815097766893, 0.9980733157471146, 0.9894394313611166, 0.008314617070261484, 0.6209721092862228, 0.25363106636271543, 0.12527370299070292, 0.9969775389850623, 0.42504236644729354, 0.2535567775452859, 0.17926075414189718, 0.14254469606464112, 0.9993709840646574, 0.0006954564955216823, 0.01787976283248136, 0.17496625057499615, 0.05491641441404989, 0.7522271648808229, 0.9974229017485725, 0.0022140352979990513, 0.9992115987530787, 0.9601390153592635, 0.0016487790761750374, 0.0005495930253916791, 0.03737232572663418, 0.10878900695063215, 0.05232888941929141, 0.008262456224098644, 0.8303768505219137, 0.2345666804607709, 0.1494715124702704, 0.6126852095316034, 0.004439747895156547, 0.20084159198975804, 0.5540457710062291, 0.08864732336099666, 0.15582537309550193, 0.37065051200722127, 0.14563735201773498, 0.20948311060370886, 0.2743642058154012, 0.9985743056620375, 0.11767176766464617, 0.2647614772454539, 0.09675234230204241, 0.52102443793735, 0.019939695329183323, 0.942150604303912, 0.03655610810350276, 0.9987002017234273, 0.9990191705622476, 0.03284027141624268, 0.9664422731065704, 0.038439053021061716, 0.960976325526543, 0.9972076978273764, 0.0035799975185797452, 0.016109988833608854, 0.9809193200908501, 0.9478511717719812, 0.009907851969741964, 0.013210469292989285, 0.02972355590922589, 0.9981353619996387, 0.0022384470687285933, 0.011192235343642967, 0.9871551573093096, 0.9971428814112057, 0.9982299919891481, 0.9998193320212936, 0.9995437714482972, 0.9945662447392909, 0.05614618840569966, 0.9432559652157544, 0.06052136286179264, 0.9380811243577859, 0.9998172254686241, 0.00017085051699737254, 0.9981282251438571, 0.99953895882348, 0.00045826713200337855, 0.06965660406451353, 0.9250122059488196, 0.005040938452037164, 0.21094335834861472, 0.7881549273346955, 0.0006782744641434556, 0.9982403120397902, 0.002893450179825479, 0.9938610057199808, 0.2334991239581994, 0.02993578512284608, 0.7364203140220136, 0.9127758153921758, 0.08705665291312659, 0.0013190401956534332, 0.00315181354271093, 0.9959730794966538, 0.9992611061571538, 0.9877443621462284, 0.004150186395572388, 0.006225279593358582, 0.9985476304695534, 0.9966413273411037, 0.22128893782732645, 0.34076418595006136, 0.3199858819287162, 0.11809002785464526, 0.9284682212655151, 0.06993656731610373, 0.9985246952055371, 0.9981751406322682, 0.0007313156157587883, 0.9982458155107461, 0.007948607082832753, 0.002649535694277584, 0.9856272782712613, 0.005299071388555168, 0.4202853620990259, 0.21459731852798186, 0.15223239382941675, 0.21304787940503617], \"Term\": [\"afd\", \"afghanistan\", \"aiwanger\", \"ampel\", \"ampel\", \"ampel\", \"angriff\", \"angriff\", \"angriff\", \"angriffskrieg\", \"anleger\", \"arabien\", \"armee\", \"armee\", \"atomkraft\", \"autor\", \"autor\", \"autor\", \"autor\", \"bachmut\", \"baerbock\", \"baerbock\", \"bahn\", \"bahn\", \"bayer\", \"bayern\", \"bayern\", \"berlin\", \"berlin\", \"berlin\", \"berlin\", \"biden\", \"bleiben\", \"bleiben\", \"bleiben\", \"bleiben\", \"bolsonaro\", \"boris\", \"boris\", \"boris\", \"branche\", \"brasilien\", \"brasilien\", \"bundesinnenministerin\", \"bundesliga\", \"bundesregierung\", \"bundesregierung\", \"bundesregierung\", \"bundesregierung\", \"bundesstaat\", \"bvb\", \"cdu\", \"cdu\", \"charles\", \"chef\", \"chef\", \"chef\", \"chef\", \"cherson\", \"china\", \"china\", \"corona\", \"corona\", \"corona\", \"covid\", \"dax\", \"demokrat\", \"deutsch\", \"deutsch\", \"deutsch\", \"deutsch\", \"deutschland\", \"deutschland\", \"deutschland\", \"deutschland\", \"dfb\", \"documenta\", \"donald\", \"dortmund\", \"eintracht\", \"elon\", \"em\", \"energie\", \"energie\", \"energie\", \"energiekris\", \"energiekrise\", \"energiekrise\", \"energiewende\", \"england\", \"entlastung\", \"entwicklung\", \"entwicklung\", \"entwicklung\", \"erdogan\", \"erdogan\", \"erster\", \"erster\", \"erster\", \"erster\", \"eu\", \"eu\", \"euro\", \"euro\", \"euro\", \"euro\", \"europ\\u00e4isch\", \"europ\\u00e4isch\", \"europ\\u00e4isch\", \"europ\\u00e4isch\", \"ex\", \"ex\", \"ex\", \"ex\", \"explosion\", \"faeser\", \"faeser\", \"fbi\", \"fc\", \"fdp\", \"fdp\", \"fdp\", \"film\", \"film\", \"finanzminister\", \"florida\", \"focus\", \"focus\", \"focus\", \"focus\", \"frage\", \"frage\", \"frage\", \"frage\", \"frankfurt\", \"frankfurt\", \"frankreich\", \"frankreich\", \"frankreich\", \"frankreich\", \"frau\", \"frau\", \"frau\", \"frau\", \"freiburg\", \"friedrich\", \"friedrich\", \"front\", \"fu\\u00dfball\", \"g7\", \"g7\", \"gabor\", \"gas\", \"gas\", \"gas\", \"gasumlage\", \"geben\", \"geben\", \"geben\", \"geben\", \"geld\", \"geld\", \"geld\", \"geld\", \"generation\", \"generation\", \"generation\", \"gericht\", \"gericht\", \"gericht\", \"gericht\", \"gerichtshof\", \"gewerkschaft\", \"gewinnen\", \"gewinnen\", \"gewinnen\", \"gewinnen\", \"giffey\", \"gipfel\", \"gipfel\", \"gro\\u00df\", \"gro\\u00df\", \"gro\\u00df\", \"gro\\u00df\", \"gr\\u00fcn\", \"gr\\u00fcn\", \"gr\\u00fcn\", \"gr\\u00fcne\", \"gr\\u00fcne\", \"gut\", \"gut\", \"gut\", \"gut\", \"habeck\", \"heizungsgesetz\", \"heute\", \"heute\", \"heute\", \"heute\", \"hoch\", \"hoch\", \"hoch\", \"hoch\", \"hugo\", \"impfstoff\", \"impfung\", \"inflation\", \"inflation\", \"inflation\", \"innenministerin\", \"innenministerin\", \"intelligenz\", \"invasion\", \"inzidenz\", \"iran\", \"iran\", \"iran\", \"israel\", \"israel\", \"israel\", \"israel\", \"joe\", \"johnson\", \"kanzler\", \"kanzler\", \"kanzler\", \"kapitol\", \"katar\", \"katar\", \"kiew\", \"kindergrundsicherung\", \"koalition\", \"kommission\", \"kosten\", \"kosten\", \"kosten\", \"kosten\", \"kreml\", \"krieg\", \"krieg\", \"krim\", \"k\\u00f6nig\", \"k\\u00f6nig\", \"lage\", \"lage\", \"lage\", \"lage\", \"land\", \"land\", \"land\", \"land\", \"lauterbach\", \"lauterbach\", \"league\", \"leipzig\", \"leopard\", \"liefern\", \"liefern\", \"liefern\", \"liefern\", \"lieferung\", \"lindner\", \"linke\", \"linke\", \"liveblog\", \"lufthansa\", \"l\\u00fctzerath\", \"mann\", \"mann\", \"mann\", \"mann\", \"marktbericht\", \"mensch\", \"mensch\", \"mensch\", \"mensch\", \"merz\", \"merz\", \"mexiko\", \"migrant\", \"migrant\", \"milit\\u00e4rexperte\", \"moskau\", \"musk\", \"m\\u00fcnchen\", \"m\\u00fcnchen\", \"m\\u00fcnchen\", \"m\\u00fcnchen\", \"nancy\", \"nato\", \"nato\", \"niedersachsen\", \"niedersachsen\", \"nord\", \"nord\", \"oberer\", \"online\", \"online\", \"online\", \"online\", \"pandemie\", \"pandemie\", \"pandemie\", \"panzer\", \"papst\", \"papst\", \"parlament\", \"parlament\", \"parlament\", \"partei\", \"partei\", \"partei\", \"partei\", \"pelosi\", \"polen\", \"polen\", \"polen\", \"polizei\", \"polizei\", \"polizei\", \"polizei\", \"polizist\", \"polizist\", \"preis\", \"preis\", \"preis\", \"preis\", \"prigoschin\", \"promi\", \"promi\", \"protest\", \"protest\", \"protest\", \"protest\", \"prozent\", \"prozent\", \"prozent\", \"prozent\", \"pr\\u00e4sident\", \"pr\\u00e4sident\", \"pr\\u00e4sident\", \"pr\\u00e4sident\", \"putin\", \"queen\", \"rbb\", \"regierung\", \"regierung\", \"regierung\", \"regierung\", \"region\", \"region\", \"region\", \"region\", \"reitz\", \"reitz\", \"repr\\u00e4sentantenhaus\", \"republikaner\", \"rki\", \"russe\", \"russe\", \"russisch\", \"russisch\", \"russland\", \"russland\", \"russlands\", \"sagen\", \"sagen\", \"sagen\", \"sagen\", \"saporischschja\", \"saudi\", \"saudi\", \"scholz\", \"scholz\", \"scholz\", \"schr\\u00f6der\", \"sehen\", \"sehen\", \"sehen\", \"sehen\", \"selenskyj\", \"selenskyj\", \"sieg\", \"sieg\", \"sieg\", \"sieg\", \"soldat\", \"soldat\", \"sparen\", \"spd\", \"spd\", \"spd\", \"spd\", \"spiel\", \"spiel\", \"spiel\", \"spiel\", \"staat\", \"staat\", \"staat\", \"staat\", \"stadt\", \"stadt\", \"stadt\", \"stadt\", \"stehen\", \"stehen\", \"stehen\", \"stehen\", \"steingart\", \"sterben\", \"sterben\", \"sterben\", \"sterben\", \"stream\", \"stream\", \"stream\", \"streik\", \"sudan\", \"syrien\", \"syrien\", \"taiwan\", \"taiwan\", \"taliban\", \"team\", \"team\", \"team\", \"teuer\", \"teuer\", \"teuer\", \"teuer\", \"th\\u00fcringen\", \"ticket\", \"ticket\", \"ticket\", \"tor\", \"trainer\", \"trump\", \"truppe\", \"truss\", \"t\\u00fcrkei\", \"t\\u00fcrkei\", \"t\\u00fcrkisch\", \"t\\u00fcrkisch\", \"ukraine\", \"ukraine\", \"ukrainer\", \"ukrainisch\", \"us\", \"us\", \"us\", \"us\", \"usa\", \"usa\", \"usa\", \"verbraucher\", \"verbraucher\", \"verdi\", \"verletzen\", \"verletzen\", \"verletzen\", \"waffe\", \"waffe\", \"waffe\", \"wagenknecht\", \"wagenknecht\", \"wagner\", \"wahrheit\", \"wahrheit\", \"wahrheit\", \"wall\", \"warnstreik\", \"weit\", \"weit\", \"weit\", \"weit\", \"westen\", \"westen\", \"wirtschaftsminister\", \"wladimir\", \"wm\", \"wm\", \"york\", \"york\", \"york\", \"york\", \"zeigen\", \"zeigen\", \"zeigen\", \"zeigen\"]}, \"R\": 30, \"lambda.step\": 0.01, \"plot.opts\": {\"xlab\": \"PC1\", \"ylab\": \"PC2\"}, \"topic.order\": [3, 1, 4, 2]};\n",
       "\n",
       "function LDAvis_load_lib(url, callback){\n",
       "  var s = document.createElement('script');\n",
       "  s.src = url;\n",
       "  s.async = true;\n",
       "  s.onreadystatechange = s.onload = callback;\n",
       "  s.onerror = function(){console.warn(\"failed to load library \" + url);};\n",
       "  document.getElementsByTagName(\"head\")[0].appendChild(s);\n",
       "}\n",
       "\n",
       "if(typeof(LDAvis) !== \"undefined\"){\n",
       "   // already loaded: just create the visualization\n",
       "   !function(LDAvis){\n",
       "       new LDAvis(\"#\" + \"ldavis_el1318417559876053447613985751\", ldavis_el1318417559876053447613985751_data);\n",
       "   }(LDAvis);\n",
       "}else if(typeof define === \"function\" && define.amd){\n",
       "   // require.js is available: use it to load d3/LDAvis\n",
       "   require.config({paths: {d3: \"https://d3js.org/d3.v5\"}});\n",
       "   require([\"d3\"], function(d3){\n",
       "      window.d3 = d3;\n",
       "      LDAvis_load_lib(\"https://cdn.jsdelivr.net/gh/bmabey/pyLDAvis@3.4.0/pyLDAvis/js/ldavis.v3.0.0.js\", function(){\n",
       "        new LDAvis(\"#\" + \"ldavis_el1318417559876053447613985751\", ldavis_el1318417559876053447613985751_data);\n",
       "      });\n",
       "    });\n",
       "}else{\n",
       "    // require.js not available: dynamically load d3 & LDAvis\n",
       "    LDAvis_load_lib(\"https://d3js.org/d3.v5.js\", function(){\n",
       "         LDAvis_load_lib(\"https://cdn.jsdelivr.net/gh/bmabey/pyLDAvis@3.4.0/pyLDAvis/js/ldavis.v3.0.0.js\", function(){\n",
       "                 new LDAvis(\"#\" + \"ldavis_el1318417559876053447613985751\", ldavis_el1318417559876053447613985751_data);\n",
       "            })\n",
       "         });\n",
       "}\n",
       "</script>"
      ],
      "text/plain": [
       "PreparedData(topic_coordinates=               x          y  topics  cluster       Freq\n",
       "topic                                                  \n",
       "2     -55.518112  20.807894       1        1  32.652858\n",
       "0      -3.288924  69.505104       2        1  23.046099\n",
       "3      -7.352235 -31.665487       3        1  22.891779\n",
       "1      45.004555  16.861027       4        1  21.409264, topic_info=           Term          Freq         Total Category  logprob  loglift\n",
       "25501   ukraine  11706.000000  11706.000000  Default  30.0000  30.0000\n",
       "21156  russland   5941.000000   5941.000000  Default  29.0000  29.0000\n",
       "14353     krieg   5892.000000   5892.000000  Default  28.0000  28.0000\n",
       "21150  russisch   5603.000000   5603.000000  Default  27.0000  27.0000\n",
       "19899     putin   3913.000000   3913.000000  Default  26.0000  26.0000\n",
       "...         ...           ...           ...      ...      ...      ...\n",
       "10573      groß    670.749907   3645.921240   Topic4  -5.9190  -0.1516\n",
       "3938    bleiben    561.961642   2185.213329   Topic4  -6.0960   0.1833\n",
       "7618       euro    544.180798   1945.657113   Topic4  -6.1281   0.2673\n",
       "29064    zeigen    550.202791   2581.579322   Topic4  -6.1171  -0.0045\n",
       "11479     heute    505.937381   1814.233483   Topic4  -6.2010   0.2643\n",
       "\n",
       "[283 rows x 6 columns], token_table=       Topic      Freq         Term\n",
       "term                               \n",
       "627        4  0.999581          afd\n",
       "643        3  0.998769  afghanistan\n",
       "706        4  0.996263     aiwanger\n",
       "979        1  0.998681        ampel\n",
       "979        3  0.000594        ampel\n",
       "...      ...       ...          ...\n",
       "28982      4  0.005299         york\n",
       "29064      1  0.420285       zeigen\n",
       "29064      2  0.214597       zeigen\n",
       "29064      3  0.152232       zeigen\n",
       "29064      4  0.213048       zeigen\n",
       "\n",
       "[490 rows x 3 columns], R=30, lambda_step=0.01, plot_opts={'xlab': 'PC1', 'ylab': 'PC2'}, topic_order=[3, 1, 4, 2])"
      ]
     },
     "execution_count": 28,
     "metadata": {},
     "output_type": "execute_result"
    }
   ],
   "source": [
    "pyLDAvis.enable_notebook()\n",
    "panel = pyLDAvis.lda_model.prepare(lda, dtm, cv, mds='tsne')\n",
    "panel"
   ]
  },
  {
   "cell_type": "markdown",
   "id": "1c77ce17",
   "metadata": {},
   "source": [
    "## Save train set with topics and dump countvectorizer and model"
   ]
  },
  {
   "cell_type": "code",
   "execution_count": 29,
   "id": "78051ef9",
   "metadata": {},
   "outputs": [],
   "source": [
    "#Save result to csv\n",
    "train.to_csv('evaluation/train_lda_combined_4.csv')"
   ]
  },
  {
   "cell_type": "code",
   "execution_count": 30,
   "id": "c49fa248",
   "metadata": {},
   "outputs": [
    {
     "data": {
      "text/plain": [
       "['models/cv_combined.jl']"
      ]
     },
     "execution_count": 30,
     "metadata": {},
     "output_type": "execute_result"
    }
   ],
   "source": [
    "# Dump countvectorizer\n",
    "joblib.dump(cv, 'models/cv_combined.jl')"
   ]
  },
  {
   "cell_type": "code",
   "execution_count": 31,
   "id": "205360e6",
   "metadata": {},
   "outputs": [
    {
     "data": {
      "text/plain": [
       "['models/lda_model_4_topics_combined.jl']"
      ]
     },
     "execution_count": 31,
     "metadata": {},
     "output_type": "execute_result"
    }
   ],
   "source": [
    "# Dump LDA model\n",
    "joblib.dump(lda, 'models/lda_model_4_topics_combined.jl')"
   ]
  }
 ],
 "metadata": {
  "kernelspec": {
   "display_name": "nlp",
   "language": "python",
   "name": "nlp"
  },
  "language_info": {
   "codemirror_mode": {
    "name": "ipython",
    "version": 3
   },
   "file_extension": ".py",
   "mimetype": "text/x-python",
   "name": "python",
   "nbconvert_exporter": "python",
   "pygments_lexer": "ipython3",
   "version": "3.11.5"
  }
 },
 "nbformat": 4,
 "nbformat_minor": 5
}
