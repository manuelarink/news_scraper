{
 "cells": [
  {
   "cell_type": "markdown",
   "id": "d23815fa",
   "metadata": {},
   "source": [
    "# Topic modelling of news headlines for prediction of news category with 6 topics"
   ]
  },
  {
   "cell_type": "markdown",
   "id": "75523a79",
   "metadata": {},
   "source": [
    "Now we wan't to perform topic modelling with unsupervised learning and train a modell for prediction of news category labels without using the provided labels in the corpus.\n",
    "We use the LDA classifier on the combined feature 'title_description_text' feature and assume 6 topics. "
   ]
  },
  {
   "cell_type": "code",
   "execution_count": 1,
   "id": "a2821ff5",
   "metadata": {},
   "outputs": [],
   "source": [
    "import pandas as pd\n",
    "import numpy as np\n",
    "import matplotlib.pyplot as plt\n",
    "import seaborn as sns\n",
    "\n",
    "import joblib\n",
    "\n",
    "import pyLDAvis.lda_model"
   ]
  },
  {
   "cell_type": "markdown",
   "id": "6594f2c8",
   "metadata": {},
   "source": [
    "## Load data"
   ]
  },
  {
   "cell_type": "code",
   "execution_count": 2,
   "id": "d737f3a4",
   "metadata": {},
   "outputs": [],
   "source": [
    "train = pd.read_csv('../../data/01_train_nosplit_preprocessed.csv')"
   ]
  },
  {
   "cell_type": "code",
   "execution_count": 3,
   "id": "72fc6b38",
   "metadata": {},
   "outputs": [
    {
     "data": {
      "text/html": [
       "<div>\n",
       "<style scoped>\n",
       "    .dataframe tbody tr th:only-of-type {\n",
       "        vertical-align: middle;\n",
       "    }\n",
       "\n",
       "    .dataframe tbody tr th {\n",
       "        vertical-align: top;\n",
       "    }\n",
       "\n",
       "    .dataframe thead th {\n",
       "        text-align: right;\n",
       "    }\n",
       "</style>\n",
       "<table border=\"1\" class=\"dataframe\">\n",
       "  <thead>\n",
       "    <tr style=\"text-align: right;\">\n",
       "      <th></th>\n",
       "      <th>date</th>\n",
       "      <th>title</th>\n",
       "      <th>description</th>\n",
       "      <th>category</th>\n",
       "      <th>text</th>\n",
       "      <th>source</th>\n",
       "      <th>title_description_text</th>\n",
       "      <th>title_cleaned</th>\n",
       "      <th>title_description_text_cleaned</th>\n",
       "    </tr>\n",
       "  </thead>\n",
       "  <tbody>\n",
       "    <tr>\n",
       "      <th>0</th>\n",
       "      <td>2022-06-01 00:13:42</td>\n",
       "      <td>Preise: Grüne halten Senkung der Spritsteuer f...</td>\n",
       "      <td>Heute tritt die Steuersenkung auf Kraftstoffe ...</td>\n",
       "      <td>Other</td>\n",
       "      <td>NaN</td>\n",
       "      <td>stern</td>\n",
       "      <td>Preise: Grüne halten Senkung der Spritsteuer f...</td>\n",
       "      <td>Preis grüne halten Senkung Spritsteuer falsch ...</td>\n",
       "      <td>Preis grüne halten Senkung Spritsteuer falsch ...</td>\n",
       "    </tr>\n",
       "    <tr>\n",
       "      <th>1</th>\n",
       "      <td>2022-06-01 01:55:03</td>\n",
       "      <td>Biden warnt Putin: USA liefern moderne Raketen...</td>\n",
       "      <td>Die USA rüsten die Ukraine mit fortschrittlich...</td>\n",
       "      <td>Other</td>\n",
       "      <td>NaN</td>\n",
       "      <td>stern</td>\n",
       "      <td>Biden warnt Putin: USA liefern moderne Raketen...</td>\n",
       "      <td>Biden warnen Putin USA liefern modern Raketens...</td>\n",
       "      <td>Biden warnen Putin USA liefern modern Raketens...</td>\n",
       "    </tr>\n",
       "    <tr>\n",
       "      <th>2</th>\n",
       "      <td>2022-06-01 02:04:08</td>\n",
       "      <td>Soziale Medien: FDP-Politiker Kuhle: Internet-...</td>\n",
       "      <td>Eine «ZDF Magazin Royale»-Recherche beschäftig...</td>\n",
       "      <td>Other</td>\n",
       "      <td>NaN</td>\n",
       "      <td>stern</td>\n",
       "      <td>Soziale Medien: FDP-Politiker Kuhle: Internet-...</td>\n",
       "      <td>sozial Medium FDP-Politiker Kuhle Internet-Str...</td>\n",
       "      <td>sozial Medium FDP-Politiker Kuhle Internet-Str...</td>\n",
       "    </tr>\n",
       "    <tr>\n",
       "      <th>3</th>\n",
       "      <td>2022-06-01 02:26:58</td>\n",
       "      <td>Liveblog: ++ Zwei von drei ukrainischen Kinder...</td>\n",
       "      <td>Rund zwei von drei Mädchen und Jungen in der U...</td>\n",
       "      <td>Missing</td>\n",
       "      <td>NaN</td>\n",
       "      <td>Tagesschau</td>\n",
       "      <td>Liveblog: ++ Zwei von drei ukrainischen Kinder...</td>\n",
       "      <td>Liveblog ukrainisch Kind vertreiben</td>\n",
       "      <td>Liveblog ukrainisch Kind vertreiben rund Mädch...</td>\n",
       "    </tr>\n",
       "    <tr>\n",
       "      <th>4</th>\n",
       "      <td>2022-06-01 02:31:43</td>\n",
       "      <td>Finanzen: Dänemark stimmt über EU-Verteidigung...</td>\n",
       "      <td>Vorbehalt verteidigen oder Verteidigung ohne V...</td>\n",
       "      <td>Other</td>\n",
       "      <td>NaN</td>\n",
       "      <td>stern</td>\n",
       "      <td>Finanzen: Dänemark stimmt über EU-Verteidigung...</td>\n",
       "      <td>Finanz Dänemark stimmen EU-Verteidigungsvorbehalt</td>\n",
       "      <td>Finanz Dänemark stimmen EU-Verteidigungsvorbeh...</td>\n",
       "    </tr>\n",
       "  </tbody>\n",
       "</table>\n",
       "</div>"
      ],
      "text/plain": [
       "                  date                                              title  \\\n",
       "0  2022-06-01 00:13:42  Preise: Grüne halten Senkung der Spritsteuer f...   \n",
       "1  2022-06-01 01:55:03  Biden warnt Putin: USA liefern moderne Raketen...   \n",
       "2  2022-06-01 02:04:08  Soziale Medien: FDP-Politiker Kuhle: Internet-...   \n",
       "3  2022-06-01 02:26:58  Liveblog: ++ Zwei von drei ukrainischen Kinder...   \n",
       "4  2022-06-01 02:31:43  Finanzen: Dänemark stimmt über EU-Verteidigung...   \n",
       "\n",
       "                                         description category  text  \\\n",
       "0  Heute tritt die Steuersenkung auf Kraftstoffe ...    Other   NaN   \n",
       "1  Die USA rüsten die Ukraine mit fortschrittlich...    Other   NaN   \n",
       "2  Eine «ZDF Magazin Royale»-Recherche beschäftig...    Other   NaN   \n",
       "3  Rund zwei von drei Mädchen und Jungen in der U...  Missing   NaN   \n",
       "4  Vorbehalt verteidigen oder Verteidigung ohne V...    Other   NaN   \n",
       "\n",
       "       source                             title_description_text  \\\n",
       "0       stern  Preise: Grüne halten Senkung der Spritsteuer f...   \n",
       "1       stern  Biden warnt Putin: USA liefern moderne Raketen...   \n",
       "2       stern  Soziale Medien: FDP-Politiker Kuhle: Internet-...   \n",
       "3  Tagesschau  Liveblog: ++ Zwei von drei ukrainischen Kinder...   \n",
       "4       stern  Finanzen: Dänemark stimmt über EU-Verteidigung...   \n",
       "\n",
       "                                       title_cleaned  \\\n",
       "0  Preis grüne halten Senkung Spritsteuer falsch ...   \n",
       "1  Biden warnen Putin USA liefern modern Raketens...   \n",
       "2  sozial Medium FDP-Politiker Kuhle Internet-Str...   \n",
       "3                Liveblog ukrainisch Kind vertreiben   \n",
       "4  Finanz Dänemark stimmen EU-Verteidigungsvorbehalt   \n",
       "\n",
       "                      title_description_text_cleaned  \n",
       "0  Preis grüne halten Senkung Spritsteuer falsch ...  \n",
       "1  Biden warnen Putin USA liefern modern Raketens...  \n",
       "2  sozial Medium FDP-Politiker Kuhle Internet-Str...  \n",
       "3  Liveblog ukrainisch Kind vertreiben rund Mädch...  \n",
       "4  Finanz Dänemark stimmen EU-Verteidigungsvorbeh...  "
      ]
     },
     "execution_count": 3,
     "metadata": {},
     "output_type": "execute_result"
    }
   ],
   "source": [
    "train.head()"
   ]
  },
  {
   "cell_type": "markdown",
   "id": "46b4f629",
   "metadata": {},
   "source": [
    "## Load German stopwords"
   ]
  },
  {
   "cell_type": "code",
   "execution_count": 4,
   "id": "da144b59",
   "metadata": {},
   "outputs": [],
   "source": [
    "stop_words = pd.read_csv('german_stopwords.txt', header=None)[0].values.tolist()"
   ]
  },
  {
   "cell_type": "code",
   "execution_count": 5,
   "id": "bd74c6d3",
   "metadata": {},
   "outputs": [
    {
     "name": "stdout",
     "output_type": "stream",
     "text": [
      "['ab', 'aber', 'alle', 'allein', 'allem', 'allen', 'aller', 'allerdings', 'allerlei', 'alles', 'allmählich', 'allzu', 'als', 'alsbald', 'also', 'am', 'an', 'and', 'ander', 'andere', 'anderem', 'anderen', 'anderer', 'andererseits', 'anderes', 'anderm', 'andern', 'andernfalls', 'anders', 'anstatt', 'auch', 'auf', 'aus', 'ausgenommen', 'ausser', 'ausserdem', 'außer', 'außerdem', 'außerhalb', 'bald', 'bei', 'beide', 'beiden', 'beiderlei', 'beides', 'beim', 'beinahe', 'bereits', 'besonders', 'besser', 'beträchtlich', 'bevor', 'bezüglich', 'bin', 'bis', 'bisher', 'bislang', 'bist', 'bloß', 'bsp.', 'bzw', 'ca', 'ca.', 'content', 'da', 'dabei', 'dadurch', 'dafür', 'dagegen', 'daher', 'dahin', 'damals', 'damit', 'danach', 'daneben', 'dann', 'daran', 'darauf', 'daraus', 'darin', 'darum', 'darunter', 'darüber', 'darüberhinaus', 'das', 'dass', 'dasselbe', 'davon', 'davor', 'dazu', 'daß', 'dein', 'deine', 'deinem', 'deinen', 'deiner', 'deines', 'dem', 'demnach', 'demselben', 'den', 'denen', 'denn', 'dennoch', 'denselben', 'der', 'derart', 'derartig', 'derem', 'deren', 'derer', 'derjenige', 'derjenigen', 'derselbe', 'derselben', 'derzeit', 'des', 'deshalb', 'desselben', 'dessen', 'desto', 'deswegen', 'dich', 'die', 'diejenige', 'dies', 'diese', 'dieselbe', 'dieselben', 'diesem', 'diesen', 'dieser', 'dieses', 'diesseits', 'dir', 'direkt', 'direkte', 'direkten', 'direkter', 'doch', 'dort', 'dorther', 'dorthin', 'drauf', 'drin', 'drunter', 'drüber', 'du', 'dunklen', 'durch', 'durchaus', 'eben', 'ebenfalls', 'ebenso', 'eher', 'eigenen', 'eigenes', 'eigentlich', 'ein', 'eine', 'einem', 'einen', 'einer', 'einerseits', 'eines', 'einfach', 'einführen', 'einführte', 'einführten', 'eingesetzt', 'einig', 'einige', 'einigem', 'einigen', 'einiger', 'einigermaßen', 'einiges', 'einmal', 'eins', 'einseitig', 'einseitige', 'einseitigen', 'einseitiger', 'einst', 'einstmals', 'einzig', 'entsprechend', 'entweder', 'er', 'erst', 'es', 'etc', 'etliche', 'etwa', 'etwas', 'euch', 'euer', 'eure', 'eurem', 'euren', 'eurer', 'eures', 'falls', 'fast', 'ferner', 'folgende', 'folgenden', 'folgender', 'folgendes', 'folglich', 'fuer', 'für', 'gab', 'ganze', 'ganzem', 'ganzen', 'ganzer', 'ganzes', 'gar', 'gegen', 'gemäss', 'ggf', 'gleich', 'gleichwohl', 'gleichzeitig', 'glücklicherweise', 'gänzlich', 'hab', 'habe', 'haben', 'haette', 'hast', 'hat', 'hatte', 'hatten', 'hattest', 'hattet', 'heraus', 'herein', 'hier', 'hier', 'hinter', 'hiermit', 'hiesige', 'hin', 'hinein', 'hinten', 'hinter', 'hinterher', 'http', 'hätt', 'hätte', 'hätten', 'höchstens', 'ich', 'igitt', 'ihm', 'ihn', 'ihnen', 'ihr', 'ihre', 'ihrem', 'ihren', 'ihrer', 'ihres', 'im', 'immer', 'immerhin', 'in', 'indem', 'indessen', 'infolge', 'innen', 'innerhalb', 'ins', 'insofern', 'inzwischen', 'irgend', 'irgendeine', 'irgendwas', 'irgendwen', 'irgendwer', 'irgendwie', 'irgendwo', 'ist', 'ja', 'je', 'jed', 'jede', 'jedem', 'jeden', 'jedenfalls', 'jeder', 'jederlei', 'jedes', 'jedoch', 'jemand', 'jene', 'jenem', 'jenen', 'jener', 'jenes', 'jenseits', 'jetzt', 'jährig', 'jährige', 'jährigen', 'jähriges', 'kam', 'kann', 'kannst', 'kaum', 'kein', 'keine', 'keinem', 'keinen', 'keiner', 'keinerlei', 'keines', 'keineswegs', 'klar', 'klare', 'klaren', 'klares', 'klein', 'kleinen', 'kleiner', 'kleines', 'koennen', 'koennt', 'koennte', 'koennten', 'komme', 'kommen', 'kommt', 'konkret', 'konkrete', 'konkreten', 'konkreter', 'konkretes', 'können', 'könnt', 'künftig', 'leider', 'machen', 'man', 'manche', 'manchem', 'manchen', 'mancher', 'mancherorts', 'manches', 'manchmal', 'mehr', 'mehrere', 'mein', 'meine', 'meinem', 'meinen', 'meiner', 'meines', 'mich', 'mir', 'mit', 'mithin', 'muessen', 'muesst', 'muesste', 'muss', 'musst', 'musste', 'mussten', 'muß', 'mußt', 'müssen', 'müsste', 'müssten', 'müßt', 'müßte', 'nach', 'nachdem', 'nachher', 'nachhinein', 'nahm', 'natürlich', 'neben', 'nebenan', 'nehmen', 'nein', 'nicht', 'nichts', 'nie', 'niemals', 'niemand', 'nirgends', 'nirgendwo', 'noch', 'nun', 'nur', 'nächste', 'nämlich', 'nötigenfalls', 'ob', 'oben', 'oberhalb', 'obgleich', 'obschon', 'obwohl', 'oder', 'oft', 'per', 'plötzlich', 'schließlich', 'schon', 'sehr', 'sehrwohl', 'seid', 'sein', 'seine', 'seinem', 'seinen', 'seiner', 'seines', 'seit', 'seitdem', 'seither', 'selber', 'selbst', 'sich', 'sicher', 'sicherlich', 'sie', 'sind', 'so', 'sobald', 'sodass', 'sodaß', 'soeben', 'sofern', 'sofort', 'sogar', 'solange', 'solch', 'solche', 'solchem', 'solchen', 'solcher', 'solches', 'soll', 'sollen', 'sollst', 'sollt', 'sollte', 'sollten', 'solltest', 'somit', 'sondern', 'sonst', 'sonstwo', 'sooft', 'soviel', 'soweit', 'sowie', 'sowohl', 'tatsächlich', 'tatsächlichen', 'tatsächlicher', 'tatsächliches', 'trotzdem', 'ueber', 'um', 'umso', 'unbedingt', 'und', 'unmöglich', 'unmögliche', 'unmöglichen', 'unmöglicher', 'uns', 'unser', 'unser', 'unsere', 'unsere', 'unserem', 'unseren', 'unserer', 'unseres', 'unter', 'usw', 'viel', 'viele', 'vielen', 'vieler', 'vieles', 'vielleicht', 'vielmals', 'vom', 'von', 'vor', 'voran', 'vorher', 'vorüber', 'völlig', 'wann', 'war', 'waren', 'warst', 'warum', 'was', 'weder', 'weil', 'weiter', 'weitere', 'weiterem', 'weiteren', 'weiterer', 'weiteres', 'weiterhin', 'weiß', 'welche', 'welchem', 'welchen', 'welcher', 'welches', 'wem', 'wen', 'wenig', 'wenige', 'weniger', 'wenigstens', 'wenn', 'wenngleich', 'wer', 'werde', 'werden', 'werdet', 'weshalb', 'wessen', 'wichtig', 'wie', 'wieder', 'wieso', 'wieviel', 'wiewohl', 'will', 'willst', 'wir', 'wird', 'wirklich', 'wirst', 'wo', 'wodurch', 'wogegen', 'woher', 'wohin', 'wohingegen', 'wohl', 'wohlweislich', 'womit', 'woraufhin', 'woraus', 'worin', 'wurde', 'wurden', 'während', 'währenddessen', 'wär', 'wäre', 'wären', 'würde', 'würden', 'z.B.', 'zB', 'zahlreich', 'zeitweise', 'zu', 'zudem', 'zuerst', 'zufolge', 'zugleich', 'zuletzt', 'zum', 'zumal', 'zur', 'zurück', 'zusammen', 'zuviel', 'zwar', 'zwischen', 'ähnlich', 'übel', 'über', 'überall', 'überallhin', 'überdies', 'übermorgen', 'übrig', 'übrigens']\n"
     ]
    }
   ],
   "source": [
    "print(stop_words)"
   ]
  },
  {
   "cell_type": "code",
   "execution_count": 6,
   "id": "073ffbd9",
   "metadata": {},
   "outputs": [],
   "source": [
    "# append words to stopwords that contain no information\n",
    "stop_words += ['wegen', 'melden', 'meldet', 'können', 'könnte', 'könnten', 'update', 'neu', 'neue', 'neues', 'ohne', 'letzte', 'letzter',\n",
    "                  'letztes', 'eins', 'zwei', 'drei', 'vier', 'fünf', 'sechs', 'sieben', 'acht', 'neun', 'zehn',\n",
    "                   'gehen', 'geht', 'wollen', 'wollte', 'wollt', 'jahr', 'jahre', 'fordern', 'fordert',\n",
    "                  'warnen', 'warnt', 'frühjahr', 'frühling', 'sommer', 'herbst', 'winter', 'erneut', 'deutlich', 'schwer', 'jahren', 'woche',\n",
    "                  'wochen', 'monat', 'monate', 'tag', 'tage', 'stunden', 'stunde', 'minuten', 'minuten', 'ende', 'beenden', 'endet']"
   ]
  },
  {
   "cell_type": "markdown",
   "id": "a12c363c",
   "metadata": {},
   "source": [
    "## Extract features from 'title_description_text' "
   ]
  },
  {
   "cell_type": "code",
   "execution_count": 7,
   "id": "cd42c0db",
   "metadata": {},
   "outputs": [],
   "source": [
    "from sklearn.feature_extraction.text import CountVectorizer"
   ]
  },
  {
   "cell_type": "code",
   "execution_count": 8,
   "id": "38ab615c",
   "metadata": {},
   "outputs": [],
   "source": [
    "cv = CountVectorizer(max_df=0.95, min_df=3, stop_words=stop_words)"
   ]
  },
  {
   "cell_type": "code",
   "execution_count": 9,
   "id": "a628f0d2",
   "metadata": {},
   "outputs": [
    {
     "name": "stderr",
     "output_type": "stream",
     "text": [
      "C:\\Users\\manuela.rink\\anaconda3\\envs\\nlp\\Lib\\site-packages\\sklearn\\feature_extraction\\text.py:409: UserWarning: Your stop_words may be inconsistent with your preprocessing. Tokenizing the stop words generated tokens ['bsp', 'zb'] not in stop_words.\n",
      "  warnings.warn(\n"
     ]
    }
   ],
   "source": [
    "# create Document-Term-Matrix\n",
    "dtm = cv.fit_transform(train['title_description_text_cleaned'])"
   ]
  },
  {
   "cell_type": "code",
   "execution_count": 10,
   "id": "faba69b8",
   "metadata": {},
   "outputs": [
    {
     "data": {
      "text/plain": [
       "<67513x29998 sparse matrix of type '<class 'numpy.int64'>'\n",
       "\twith 1026097 stored elements in Compressed Sparse Row format>"
      ]
     },
     "execution_count": 10,
     "metadata": {},
     "output_type": "execute_result"
    }
   ],
   "source": [
    "dtm"
   ]
  },
  {
   "cell_type": "code",
   "execution_count": 11,
   "id": "3f48b861",
   "metadata": {},
   "outputs": [],
   "source": [
    "from sklearn.decomposition import LatentDirichletAllocation"
   ]
  },
  {
   "cell_type": "code",
   "execution_count": 12,
   "id": "fdf60b9b",
   "metadata": {},
   "outputs": [
    {
     "data": {
      "text/html": [
       "<style>#sk-container-id-1 {color: black;background-color: white;}#sk-container-id-1 pre{padding: 0;}#sk-container-id-1 div.sk-toggleable {background-color: white;}#sk-container-id-1 label.sk-toggleable__label {cursor: pointer;display: block;width: 100%;margin-bottom: 0;padding: 0.3em;box-sizing: border-box;text-align: center;}#sk-container-id-1 label.sk-toggleable__label-arrow:before {content: \"▸\";float: left;margin-right: 0.25em;color: #696969;}#sk-container-id-1 label.sk-toggleable__label-arrow:hover:before {color: black;}#sk-container-id-1 div.sk-estimator:hover label.sk-toggleable__label-arrow:before {color: black;}#sk-container-id-1 div.sk-toggleable__content {max-height: 0;max-width: 0;overflow: hidden;text-align: left;background-color: #f0f8ff;}#sk-container-id-1 div.sk-toggleable__content pre {margin: 0.2em;color: black;border-radius: 0.25em;background-color: #f0f8ff;}#sk-container-id-1 input.sk-toggleable__control:checked~div.sk-toggleable__content {max-height: 200px;max-width: 100%;overflow: auto;}#sk-container-id-1 input.sk-toggleable__control:checked~label.sk-toggleable__label-arrow:before {content: \"▾\";}#sk-container-id-1 div.sk-estimator input.sk-toggleable__control:checked~label.sk-toggleable__label {background-color: #d4ebff;}#sk-container-id-1 div.sk-label input.sk-toggleable__control:checked~label.sk-toggleable__label {background-color: #d4ebff;}#sk-container-id-1 input.sk-hidden--visually {border: 0;clip: rect(1px 1px 1px 1px);clip: rect(1px, 1px, 1px, 1px);height: 1px;margin: -1px;overflow: hidden;padding: 0;position: absolute;width: 1px;}#sk-container-id-1 div.sk-estimator {font-family: monospace;background-color: #f0f8ff;border: 1px dotted black;border-radius: 0.25em;box-sizing: border-box;margin-bottom: 0.5em;}#sk-container-id-1 div.sk-estimator:hover {background-color: #d4ebff;}#sk-container-id-1 div.sk-parallel-item::after {content: \"\";width: 100%;border-bottom: 1px solid gray;flex-grow: 1;}#sk-container-id-1 div.sk-label:hover label.sk-toggleable__label {background-color: #d4ebff;}#sk-container-id-1 div.sk-serial::before {content: \"\";position: absolute;border-left: 1px solid gray;box-sizing: border-box;top: 0;bottom: 0;left: 50%;z-index: 0;}#sk-container-id-1 div.sk-serial {display: flex;flex-direction: column;align-items: center;background-color: white;padding-right: 0.2em;padding-left: 0.2em;position: relative;}#sk-container-id-1 div.sk-item {position: relative;z-index: 1;}#sk-container-id-1 div.sk-parallel {display: flex;align-items: stretch;justify-content: center;background-color: white;position: relative;}#sk-container-id-1 div.sk-item::before, #sk-container-id-1 div.sk-parallel-item::before {content: \"\";position: absolute;border-left: 1px solid gray;box-sizing: border-box;top: 0;bottom: 0;left: 50%;z-index: -1;}#sk-container-id-1 div.sk-parallel-item {display: flex;flex-direction: column;z-index: 1;position: relative;background-color: white;}#sk-container-id-1 div.sk-parallel-item:first-child::after {align-self: flex-end;width: 50%;}#sk-container-id-1 div.sk-parallel-item:last-child::after {align-self: flex-start;width: 50%;}#sk-container-id-1 div.sk-parallel-item:only-child::after {width: 0;}#sk-container-id-1 div.sk-dashed-wrapped {border: 1px dashed gray;margin: 0 0.4em 0.5em 0.4em;box-sizing: border-box;padding-bottom: 0.4em;background-color: white;}#sk-container-id-1 div.sk-label label {font-family: monospace;font-weight: bold;display: inline-block;line-height: 1.2em;}#sk-container-id-1 div.sk-label-container {text-align: center;}#sk-container-id-1 div.sk-container {/* jupyter's `normalize.less` sets `[hidden] { display: none; }` but bootstrap.min.css set `[hidden] { display: none !important; }` so we also need the `!important` here to be able to override the default hidden behavior on the sphinx rendered scikit-learn.org. See: https://github.com/scikit-learn/scikit-learn/issues/21755 */display: inline-block !important;position: relative;}#sk-container-id-1 div.sk-text-repr-fallback {display: none;}</style><div id=\"sk-container-id-1\" class=\"sk-top-container\"><div class=\"sk-text-repr-fallback\"><pre>LatentDirichletAllocation(n_components=6, random_state=42)</pre><b>In a Jupyter environment, please rerun this cell to show the HTML representation or trust the notebook. <br />On GitHub, the HTML representation is unable to render, please try loading this page with nbviewer.org.</b></div><div class=\"sk-container\" hidden><div class=\"sk-item\"><div class=\"sk-estimator sk-toggleable\"><input class=\"sk-toggleable__control sk-hidden--visually\" id=\"sk-estimator-id-1\" type=\"checkbox\" checked><label for=\"sk-estimator-id-1\" class=\"sk-toggleable__label sk-toggleable__label-arrow\">LatentDirichletAllocation</label><div class=\"sk-toggleable__content\"><pre>LatentDirichletAllocation(n_components=6, random_state=42)</pre></div></div></div></div></div>"
      ],
      "text/plain": [
       "LatentDirichletAllocation(n_components=6, random_state=42)"
      ]
     },
     "execution_count": 12,
     "metadata": {},
     "output_type": "execute_result"
    }
   ],
   "source": [
    "lda = LatentDirichletAllocation(n_components=6, random_state=42)\n",
    "lda.fit(dtm)"
   ]
  },
  {
   "cell_type": "markdown",
   "id": "a2f3296f",
   "metadata": {},
   "source": [
    "## Analyse extracted features"
   ]
  },
  {
   "cell_type": "code",
   "execution_count": 13,
   "id": "44c85ba2",
   "metadata": {},
   "outputs": [
    {
     "data": {
      "text/plain": [
       "29998"
      ]
     },
     "execution_count": 13,
     "metadata": {},
     "output_type": "execute_result"
    }
   ],
   "source": [
    "len(cv.get_feature_names_out())"
   ]
  },
  {
   "cell_type": "code",
   "execution_count": 14,
   "id": "79a3b48a",
   "metadata": {},
   "outputs": [
    {
     "data": {
      "text/plain": [
       "array(['000', '01', '034', ..., 'đoković', 'войны', 'украинцы'],\n",
       "      dtype=object)"
      ]
     },
     "execution_count": 14,
     "metadata": {},
     "output_type": "execute_result"
    }
   ],
   "source": [
    "cv.get_feature_names_out()"
   ]
  },
  {
   "cell_type": "code",
   "execution_count": 15,
   "id": "6d276a41",
   "metadata": {},
   "outputs": [
    {
     "data": {
      "text/plain": [
       "6"
      ]
     },
     "execution_count": 15,
     "metadata": {},
     "output_type": "execute_result"
    }
   ],
   "source": [
    "len(lda.components_)"
   ]
  },
  {
   "cell_type": "code",
   "execution_count": 16,
   "id": "be61548c",
   "metadata": {},
   "outputs": [
    {
     "data": {
      "text/plain": [
       "array([[ 4.65770126,  0.16690303, 32.05245157, ...,  0.16673374,\n",
       "         0.16667028,  5.16665164],\n",
       "       [26.65850161,  0.16745963,  1.11436323, ...,  0.16716151,\n",
       "         3.16664744,  0.16667027],\n",
       "       [ 2.18952282,  1.1662503 , 20.78679717, ...,  3.16586354,\n",
       "         0.16667026,  0.16666929],\n",
       "       [ 6.02067306,  3.16577162,  1.25047601, ...,  0.1669073 ,\n",
       "         0.16667192,  0.16667051],\n",
       "       [ 6.44166401,  0.1666673 , 10.80989339, ...,  0.16666699,\n",
       "         0.16667044,  0.16666943],\n",
       "       [15.03193724,  0.16694813, 23.98601864, ...,  0.16666692,\n",
       "         0.16666967,  0.16666886]])"
      ]
     },
     "execution_count": 16,
     "metadata": {},
     "output_type": "execute_result"
    }
   ],
   "source": [
    "lda.components_"
   ]
  },
  {
   "cell_type": "code",
   "execution_count": 17,
   "id": "45a65bd8",
   "metadata": {},
   "outputs": [
    {
     "data": {
      "text/plain": [
       "29998"
      ]
     },
     "execution_count": 17,
     "metadata": {},
     "output_type": "execute_result"
    }
   ],
   "source": [
    "len(lda.components_[0])"
   ]
  },
  {
   "cell_type": "markdown",
   "id": "9e30cf34",
   "metadata": {},
   "source": [
    "### Show most important words of first extracted topic"
   ]
  },
  {
   "cell_type": "code",
   "execution_count": 18,
   "id": "c617b9e0",
   "metadata": {},
   "outputs": [],
   "source": [
    "first_topic = lda.components_[0]"
   ]
  },
  {
   "cell_type": "code",
   "execution_count": 19,
   "id": "258f618e",
   "metadata": {},
   "outputs": [
    {
     "data": {
      "text/plain": [
       "array([ 1589, 12143, 17489, ..., 21156, 14353, 25501], dtype=int64)"
      ]
     },
     "execution_count": 19,
     "metadata": {},
     "output_type": "execute_result"
    }
   ],
   "source": [
    "first_topic.argsort() # returns indices of ascending sorted array values "
   ]
  },
  {
   "cell_type": "code",
   "execution_count": 20,
   "id": "5966880a",
   "metadata": {},
   "outputs": [],
   "source": [
    "# the last 10 entries are the 10 most important words for topic 1\n",
    "top_words_indices = first_topic.argsort()[-10:]"
   ]
  },
  {
   "cell_type": "code",
   "execution_count": 21,
   "id": "11648839",
   "metadata": {},
   "outputs": [
    {
     "name": "stdout",
     "output_type": "stream",
     "text": [
      "präsident\n",
      "selenskyj\n",
      "moskau\n",
      "kiew\n",
      "ukrainisch\n",
      "putin\n",
      "russisch\n",
      "russland\n",
      "krieg\n",
      "ukraine\n"
     ]
    }
   ],
   "source": [
    "for index in top_words_indices:\n",
    "    print(cv.get_feature_names_out()[index])"
   ]
  },
  {
   "cell_type": "markdown",
   "id": "0d661247",
   "metadata": {},
   "source": [
    "### Show most important words of first extracted topic"
   ]
  },
  {
   "cell_type": "code",
   "execution_count": 22,
   "id": "f789d8f2",
   "metadata": {},
   "outputs": [
    {
     "name": "stdout",
     "output_type": "stream",
     "text": [
      "Die TOP-15 Wörter für das Thema #0\n",
      "['deutschland', 'soldat', 'liveblog', 'angriff', 'entwicklung', 'präsident', 'selenskyj', 'moskau', 'kiew', 'ukrainisch', 'putin', 'russisch', 'russland', 'krieg', 'ukraine']\n",
      "\n",
      "\n",
      "Die TOP-15 Wörter für das Thema #1\n",
      "['stehen', 'spiel', 'erster', 'sieg', 'dfb', 'partei', 'fc', 'bundesliga', 'frau', 'gewinnen', 'deutsch', 'fußball', 'bayern', 'wm', 'afd']\n",
      "\n",
      "\n",
      "Die TOP-15 Wörter für das Thema #2\n",
      "['berliner', 'stehen', 'deutschland', 'groß', 'kanzler', 'wahl', 'gut', 'cdu', 'geben', 'spd', 'deutsch', 'online', 'scholz', 'focus', 'berlin']\n",
      "\n",
      "\n",
      "Die TOP-15 Wörter für das Thema #3\n",
      "['deutschland', 'scholz', 'geben', 'nato', 'biden', 'gipfel', 'usa', 'baerbock', 'türkei', 'us', 'präsident', 'land', 'china', 'corona', 'eu']\n",
      "\n",
      "\n",
      "Die TOP-15 Wörter für das Thema #4\n",
      "['taiwan', 'geben', 'iran', 'tote', 'regierung', 'sterben', 'gericht', 'ex', 'polizei', 'usa', 'protest', 'trump', 'präsident', 'mensch', 'us']\n",
      "\n",
      "\n",
      "Die TOP-15 Wörter für das Thema #5\n",
      "['million', 'mensch', 'groß', 'gut', 'bundesregierung', 'land', 'eu', 'gas', 'ampel', 'deutsch', 'habeck', 'geben', 'hoch', 'euro', 'deutschland']\n",
      "\n",
      "\n"
     ]
    }
   ],
   "source": [
    "for index, topic in enumerate(lda.components_):\n",
    "    print(f'Die TOP-15 Wörter für das Thema #{index}')\n",
    "    print([cv.get_feature_names_out()[i] for i in topic.argsort()[-15:]])\n",
    "    print('\\n')"
   ]
  },
  {
   "cell_type": "markdown",
   "id": "a0973fc9",
   "metadata": {},
   "source": [
    "### Get topics with highest probability for news items in train data"
   ]
  },
  {
   "cell_type": "code",
   "execution_count": 23,
   "id": "0f46f47f",
   "metadata": {},
   "outputs": [
    {
     "data": {
      "text/plain": [
       "(67513, 6)"
      ]
     },
     "execution_count": 23,
     "metadata": {},
     "output_type": "execute_result"
    }
   ],
   "source": [
    "topic_results = lda.transform(dtm)\n",
    "topic_results.shape"
   ]
  },
  {
   "cell_type": "code",
   "execution_count": 24,
   "id": "823c7020",
   "metadata": {},
   "outputs": [
    {
     "data": {
      "text/plain": [
       "array([0.00732, 0.00728, 0.20736, 0.00744, 0.00727, 0.76333])"
      ]
     },
     "execution_count": 24,
     "metadata": {},
     "output_type": "execute_result"
    }
   ],
   "source": [
    "topic_results[0].round(5)"
   ]
  },
  {
   "cell_type": "code",
   "execution_count": 25,
   "id": "f68cacd0",
   "metadata": {},
   "outputs": [
    {
     "data": {
      "text/plain": [
       "5"
      ]
     },
     "execution_count": 25,
     "metadata": {},
     "output_type": "execute_result"
    }
   ],
   "source": [
    "topic_results[0].argmax()"
   ]
  },
  {
   "cell_type": "code",
   "execution_count": 26,
   "id": "6e11fb89",
   "metadata": {},
   "outputs": [],
   "source": [
    "# save topic to train dataset\n",
    "train['topic'] = topic_results.argmax(axis=1)"
   ]
  },
  {
   "cell_type": "code",
   "execution_count": 27,
   "id": "7eb2c522",
   "metadata": {},
   "outputs": [
    {
     "data": {
      "text/html": [
       "<div>\n",
       "<style scoped>\n",
       "    .dataframe tbody tr th:only-of-type {\n",
       "        vertical-align: middle;\n",
       "    }\n",
       "\n",
       "    .dataframe tbody tr th {\n",
       "        vertical-align: top;\n",
       "    }\n",
       "\n",
       "    .dataframe thead th {\n",
       "        text-align: right;\n",
       "    }\n",
       "</style>\n",
       "<table border=\"1\" class=\"dataframe\">\n",
       "  <thead>\n",
       "    <tr style=\"text-align: right;\">\n",
       "      <th></th>\n",
       "      <th>date</th>\n",
       "      <th>title</th>\n",
       "      <th>description</th>\n",
       "      <th>category</th>\n",
       "      <th>text</th>\n",
       "      <th>source</th>\n",
       "      <th>title_description_text</th>\n",
       "      <th>title_cleaned</th>\n",
       "      <th>title_description_text_cleaned</th>\n",
       "      <th>topic</th>\n",
       "    </tr>\n",
       "  </thead>\n",
       "  <tbody>\n",
       "    <tr>\n",
       "      <th>0</th>\n",
       "      <td>2022-06-01 00:13:42</td>\n",
       "      <td>Preise: Grüne halten Senkung der Spritsteuer f...</td>\n",
       "      <td>Heute tritt die Steuersenkung auf Kraftstoffe ...</td>\n",
       "      <td>Other</td>\n",
       "      <td>NaN</td>\n",
       "      <td>stern</td>\n",
       "      <td>Preise: Grüne halten Senkung der Spritsteuer f...</td>\n",
       "      <td>Preis grüne halten Senkung Spritsteuer falsch ...</td>\n",
       "      <td>Preis grüne halten Senkung Spritsteuer falsch ...</td>\n",
       "      <td>5</td>\n",
       "    </tr>\n",
       "    <tr>\n",
       "      <th>1</th>\n",
       "      <td>2022-06-01 01:55:03</td>\n",
       "      <td>Biden warnt Putin: USA liefern moderne Raketen...</td>\n",
       "      <td>Die USA rüsten die Ukraine mit fortschrittlich...</td>\n",
       "      <td>Other</td>\n",
       "      <td>NaN</td>\n",
       "      <td>stern</td>\n",
       "      <td>Biden warnt Putin: USA liefern moderne Raketen...</td>\n",
       "      <td>Biden warnen Putin USA liefern modern Raketens...</td>\n",
       "      <td>Biden warnen Putin USA liefern modern Raketens...</td>\n",
       "      <td>0</td>\n",
       "    </tr>\n",
       "    <tr>\n",
       "      <th>2</th>\n",
       "      <td>2022-06-01 02:04:08</td>\n",
       "      <td>Soziale Medien: FDP-Politiker Kuhle: Internet-...</td>\n",
       "      <td>Eine «ZDF Magazin Royale»-Recherche beschäftig...</td>\n",
       "      <td>Other</td>\n",
       "      <td>NaN</td>\n",
       "      <td>stern</td>\n",
       "      <td>Soziale Medien: FDP-Politiker Kuhle: Internet-...</td>\n",
       "      <td>sozial Medium FDP-Politiker Kuhle Internet-Str...</td>\n",
       "      <td>sozial Medium FDP-Politiker Kuhle Internet-Str...</td>\n",
       "      <td>2</td>\n",
       "    </tr>\n",
       "    <tr>\n",
       "      <th>3</th>\n",
       "      <td>2022-06-01 02:26:58</td>\n",
       "      <td>Liveblog: ++ Zwei von drei ukrainischen Kinder...</td>\n",
       "      <td>Rund zwei von drei Mädchen und Jungen in der U...</td>\n",
       "      <td>Missing</td>\n",
       "      <td>NaN</td>\n",
       "      <td>Tagesschau</td>\n",
       "      <td>Liveblog: ++ Zwei von drei ukrainischen Kinder...</td>\n",
       "      <td>Liveblog ukrainisch Kind vertreiben</td>\n",
       "      <td>Liveblog ukrainisch Kind vertreiben rund Mädch...</td>\n",
       "      <td>0</td>\n",
       "    </tr>\n",
       "    <tr>\n",
       "      <th>4</th>\n",
       "      <td>2022-06-01 02:31:43</td>\n",
       "      <td>Finanzen: Dänemark stimmt über EU-Verteidigung...</td>\n",
       "      <td>Vorbehalt verteidigen oder Verteidigung ohne V...</td>\n",
       "      <td>Other</td>\n",
       "      <td>NaN</td>\n",
       "      <td>stern</td>\n",
       "      <td>Finanzen: Dänemark stimmt über EU-Verteidigung...</td>\n",
       "      <td>Finanz Dänemark stimmen EU-Verteidigungsvorbehalt</td>\n",
       "      <td>Finanz Dänemark stimmen EU-Verteidigungsvorbeh...</td>\n",
       "      <td>3</td>\n",
       "    </tr>\n",
       "  </tbody>\n",
       "</table>\n",
       "</div>"
      ],
      "text/plain": [
       "                  date                                              title  \\\n",
       "0  2022-06-01 00:13:42  Preise: Grüne halten Senkung der Spritsteuer f...   \n",
       "1  2022-06-01 01:55:03  Biden warnt Putin: USA liefern moderne Raketen...   \n",
       "2  2022-06-01 02:04:08  Soziale Medien: FDP-Politiker Kuhle: Internet-...   \n",
       "3  2022-06-01 02:26:58  Liveblog: ++ Zwei von drei ukrainischen Kinder...   \n",
       "4  2022-06-01 02:31:43  Finanzen: Dänemark stimmt über EU-Verteidigung...   \n",
       "\n",
       "                                         description category  text  \\\n",
       "0  Heute tritt die Steuersenkung auf Kraftstoffe ...    Other   NaN   \n",
       "1  Die USA rüsten die Ukraine mit fortschrittlich...    Other   NaN   \n",
       "2  Eine «ZDF Magazin Royale»-Recherche beschäftig...    Other   NaN   \n",
       "3  Rund zwei von drei Mädchen und Jungen in der U...  Missing   NaN   \n",
       "4  Vorbehalt verteidigen oder Verteidigung ohne V...    Other   NaN   \n",
       "\n",
       "       source                             title_description_text  \\\n",
       "0       stern  Preise: Grüne halten Senkung der Spritsteuer f...   \n",
       "1       stern  Biden warnt Putin: USA liefern moderne Raketen...   \n",
       "2       stern  Soziale Medien: FDP-Politiker Kuhle: Internet-...   \n",
       "3  Tagesschau  Liveblog: ++ Zwei von drei ukrainischen Kinder...   \n",
       "4       stern  Finanzen: Dänemark stimmt über EU-Verteidigung...   \n",
       "\n",
       "                                       title_cleaned  \\\n",
       "0  Preis grüne halten Senkung Spritsteuer falsch ...   \n",
       "1  Biden warnen Putin USA liefern modern Raketens...   \n",
       "2  sozial Medium FDP-Politiker Kuhle Internet-Str...   \n",
       "3                Liveblog ukrainisch Kind vertreiben   \n",
       "4  Finanz Dänemark stimmen EU-Verteidigungsvorbehalt   \n",
       "\n",
       "                      title_description_text_cleaned  topic  \n",
       "0  Preis grüne halten Senkung Spritsteuer falsch ...      5  \n",
       "1  Biden warnen Putin USA liefern modern Raketens...      0  \n",
       "2  sozial Medium FDP-Politiker Kuhle Internet-Str...      2  \n",
       "3  Liveblog ukrainisch Kind vertreiben rund Mädch...      0  \n",
       "4  Finanz Dänemark stimmen EU-Verteidigungsvorbeh...      3  "
      ]
     },
     "execution_count": 27,
     "metadata": {},
     "output_type": "execute_result"
    }
   ],
   "source": [
    "train.head()"
   ]
  },
  {
   "cell_type": "markdown",
   "id": "dc4070d6",
   "metadata": {},
   "source": [
    "## Visualize model"
   ]
  },
  {
   "cell_type": "code",
   "execution_count": 28,
   "id": "f6745175",
   "metadata": {},
   "outputs": [
    {
     "data": {
      "text/html": [
       "\n",
       "<link rel=\"stylesheet\" type=\"text/css\" href=\"https://cdn.jsdelivr.net/gh/bmabey/pyLDAvis@3.4.0/pyLDAvis/js/ldavis.v1.0.0.css\">\n",
       "\n",
       "\n",
       "<div id=\"ldavis_el1367217878584589282900557735\" style=\"background-color:white;\"></div>\n",
       "<script type=\"text/javascript\">\n",
       "\n",
       "var ldavis_el1367217878584589282900557735_data = {\"mdsDat\": {\"x\": [-53.36721420288086, 78.2601318359375, 19.25898551940918, -38.98774719238281, 42.26066589355469, 9.482669830322266], \"y\": [16.534852981567383, -1.98967707157135, 55.28303146362305, -64.51744842529297, -75.86925506591797, -14.049941062927246], \"topics\": [1, 2, 3, 4, 5, 6], \"cluster\": [1, 1, 1, 1, 1, 1], \"Freq\": [21.66978763719546, 18.159448914526806, 17.825486886088985, 17.19297266718867, 12.578740979041731, 12.573562915958348]}, \"tinfo\": {\"Term\": [\"ukraine\", \"krieg\", \"russland\", \"russisch\", \"putin\", \"eu\", \"corona\", \"ukrainisch\", \"us\", \"pr\\u00e4sident\", \"china\", \"afd\", \"euro\", \"trump\", \"wm\", \"berlin\", \"protest\", \"kiew\", \"scholz\", \"moskau\", \"usa\", \"t\\u00fcrkei\", \"bayern\", \"selenskyj\", \"polizei\", \"baerbock\", \"gipfel\", \"liveblog\", \"biden\", \"nato\", \"stream\", \"gas\", \"nord\", \"s\\u00f6der\", \"faeser\", \"verbraucher\", \"kommune\", \"aiwanger\", \"bund\", \"pipeline\", \"entlastung\", \"industrie\", \"gasumlage\", \"rbb\", \"energiewende\", \"energie\", \"atomkraft\", \"verbrenner\", \"co2\", \"innenministerin\", \"cannabis\", \"entlastungspaket\", \"flie\\u00dfen\", \"lng\", \"erneuerbar\", \"bundesinnenministerin\", \"w\\u00e4rmepumpe\", \"f\\u00f6rderung\", \"entlasten\", \"heizung\", \"euro\", \"sparen\", \"teuer\", \"documenta\", \"ticket\", \"milliarde\", \"lauterbach\", \"energiepreis\", \"kosten\", \"steigend\", \"habeck\", \"gesundheitsminister\", \"geld\", \"klimaschutz\", \"ampel\", \"bundesregierung\", \"studie\", \"csu\", \"deutschland\", \"wirtschaftsminister\", \"preis\", \"hoch\", \"unternehmen\", \"million\", \"fdp\", \"gr\\u00fcne\", \"prozent\", \"inflation\", \"plan\", \"steigen\", \"deutsch\", \"gut\", \"geben\", \"land\", \"eu\", \"gro\\u00df\", \"mensch\", \"cdu\", \"sagen\", \"chef\", \"sehen\", \"kritik\", \"johnson\", \"gabor\", \"steingart\", \"warnstreik\", \"papst\", \"giffey\", \"truss\", \"verdi\", \"hugo\", \"cum\", \"vogg\", \"sunak\", \"tour\", \"wahrheit\", \"olympia\", \"staatssekret\\u00e4r\", \"franziskus\", \"evg\", \"lufthansa\", \"wegner\", \"bundesfinanzminister\", \"franziska\", \"benedikt\", \"roman\", \"porsche\", \"wimbledon\", \"open\", \"vatikan\", \"france\", \"graichen\", \"boris\", \"streik\", \"finanzminister\", \"berlin\", \"sprache\", \"bahn\", \"autor\", \"jan\", \"berliner\", \"focus\", \"gastbeitrag\", \"online\", \"kanzler\", \"spd\", \"scholz\", \"lindner\", \"gewerkschaft\", \"olaf\", \"wahl\", \"christian\", \"cdu\", \"buch\", \"deutsch\", \"gut\", \"flughafen\", \"frage\", \"kind\", \"gr\\u00fcne\", \"heute\", \"stehen\", \"geben\", \"gro\\u00df\", \"sagen\", \"deutschland\", \"britisch\", \"leben\", \"zeigen\", \"ex\", \"wagner\", \"kreml\", \"panzer\", \"bachmut\", \"krim\", \"saporischschja\", \"prigoschin\", \"reitz\", \"leopard\", \"cherson\", \"schr\\u00f6der\", \"truppe\", \"milit\\u00e4rexperte\", \"wladimir\", \"kampfpanzer\", \"ulrich\", \"donbass\", \"odessa\", \"s\\u00f6ldner\", \"meldung\", \"br\\u00fccke\", \"munition\", \"drohn\", \"gerhard\", \"gegenoffensiv\", \"moskau\", \"kriegsverlauf\", \"ukrainer\", \"donezk\", \"front\", \"putin\", \"ukraine\", \"krieg\", \"liveblog\", \"ukrainisch\", \"russisch\", \"korrespondent\", \"invasion\", \"getreide\", \"russland\", \"kiew\", \"offensive\", \"russe\", \"russlands\", \"selenskyj\", \"soldat\", \"entwicklung\", \"lieferung\", \"armee\", \"angriffskrieg\", \"waffe\", \"angriff\", \"westen\", \"liefern\", \"nachricht\", \"pr\\u00e4sident\", \"lage\", \"stadt\", \"china\", \"chef\", \"deutschland\", \"weit\", \"geben\", \"land\", \"trump\", \"donald\", \"haft\", \"protest\", \"l\\u00fctzerath\", \"prozess\", \"anklage\", \"queen\", \"steinmeier\", \"waldbrand\", \"kapitol\", \"justiz\", \"bundesstaat\", \"rentenreform\", \"demonstrant\", \"demonstration\", \"mexiko\", \"york\", \"razzia\", \"unwetter\", \"haftstrafe\", \"ii\", \"anklagen\", \"mord\", \"elizabeth\", \"r\\u00e4umung\", \"florida\", \"pelosi\", \"fbi\", \"kaili\", \"gericht\", \"festnehmen\", \"ermittlung\", \"\\u00fcberschwemmung\", \"polizei\", \"taiwan\", \"polizist\", \"ermittler\", \"staatsanwaltschaft\", \"protestieren\", \"sturm\", \"republikaner\", \"festnahme\", \"verurteilen\", \"mutma\\u00dflich\", \"urteil\", \"us\", \"new\", \"stra\\u00dfe\", \"iran\", \"tod\", \"ex\", \"mensch\", \"sterben\", \"tote\", \"pr\\u00e4sident\", \"usa\", \"verletzen\", \"regierung\", \"opfer\", \"frankreich\", \"mindestens\", \"mann\", \"weit\", \"leben\", \"geben\", \"land\", \"china\", \"gipfel\", \"g7\", \"afghanistan\", \"erdogan\", \"sudan\", \"beitritt\", \"musk\", \"taliban\", \"syrien\", \"inzidenz\", \"covid\", \"elon\", \"arabien\", \"rki\", \"al\", \"waffenruhe\", \"erdo\\u011fan\", \"leyen\", \"omikron\", \"saudi\", \"g20\", \"brics\", \"kabul\", \"inflationsrate\", \"gazastreifen\", \"salman\", \"rushdie\", \"beitrittskandidat\", \"elmau\", \"afghanisch\", \"t\\u00fcrkei\", \"nahost\", \"t\\u00fcrkisch\", \"au\\u00dfenministerin\", \"baerbock\", \"s\\u00fcdkorea\", \"vereint\", \"impfstoff\", \"corona\", \"erdbeben\", \"eu\", \"annalena\", \"nato\", \"biden\", \"schweden\", \"china\", \"pandemie\", \"indien\", \"twitter\", \"reise\", \"un\", \"besuch\", \"joe\", \"land\", \"usa\", \"pr\\u00e4sident\", \"sanktion\", \"us\", \"staat\", \"scholz\", \"israel\", \"geben\", \"treffen\", \"news\", \"deutschland\", \"steigen\", \"weit\", \"mensch\", \"fu\\u00dfball\", \"bundesliga\", \"fc\", \"dfb\", \"dax\", \"afd\", \"marktbericht\", \"league\", \"anleger\", \"em\", \"dortmund\", \"th\\u00fcringen\", \"freiburg\", \"england\", \"bvb\", \"wall\", \"eintracht\", \"borussia\", \"weltmeister\", \"hertha\", \"schalke\", \"serbien\", \"kosovo\", \"pokal\", \"wolfsburg\", \"mainz\", \"spieltag\", \"leverkusen\", \"wagenknecht\", \"sahra\", \"wm\", \"tor\", \"ezb\", \"team\", \"trainer\", \"b\\u00f6rse\", \"bayer\", \"finale\", \"leipzig\", \"frankfurt\", \"bayern\", \"katar\", \"spiel\", \"sieg\", \"film\", \"gewinnen\", \"linke\", \"frau\", \"partei\", \"m\\u00fcnchen\", \"deutsch\", \"erster\", \"frankreich\", \"fan\", \"stehen\", \"gro\\u00df\", \"mann\", \"geben\", \"bleiben\", \"gut\"], \"Freq\": [11711.0, 5894.0, 5946.0, 5607.0, 3914.0, 4161.0, 2970.0, 2778.0, 4366.0, 4155.0, 2878.0, 1446.0, 1942.0, 1569.0, 1347.0, 2788.0, 1411.0, 1554.0, 2613.0, 1392.0, 2957.0, 1084.0, 1267.0, 1440.0, 1317.0, 1092.0, 960.0, 1153.0, 1288.0, 1240.0, 599.0738902460262, 1215.3951103074244, 590.1908962285099, 424.1384926111555, 678.1248196966562, 344.3724028639506, 344.3636330584674, 319.11686261652954, 748.6912506955997, 278.27386912449714, 253.92005895555496, 268.3861836307339, 219.9302447217625, 219.92921343078802, 235.429261074915, 743.075737773051, 213.122237462879, 205.34322680791192, 200.4808301207018, 247.88092217491393, 178.11493416121033, 176.16902601521545, 162.54684922740665, 160.6117318576764, 155.7496074421129, 142.13403386186175, 141.15747878125322, 140.17837900342852, 180.77999790824242, 136.30100226702928, 1930.7338449547888, 389.99124616912593, 597.458011563075, 203.5165545574085, 429.6359010568885, 764.21832937123, 777.2265799819914, 266.3913686310272, 564.3723611574512, 460.2046516027345, 1359.0540493750452, 337.8825830684374, 900.3106025069752, 387.66446571219467, 1315.5829796896294, 1032.5365564247656, 667.7189181500985, 356.7998232607356, 3652.7011386683444, 406.61162934971117, 727.4053968809308, 1450.1454363312282, 559.6666116156824, 952.9498966363067, 864.163136651399, 948.6806997041058, 842.7568583966939, 629.4300174238031, 683.6498730760028, 807.421691899213, 1355.4347163994305, 1030.951439424657, 1367.854250522238, 1182.0812073521754, 1213.5397426661248, 1014.760884556409, 962.5557059076699, 750.2981243126925, 753.9823855488721, 730.6837156516666, 735.4524760799604, 712.4719115210919, 524.8759851935818, 390.0330129847016, 385.1474065259702, 360.71996579704756, 321.5965699358782, 194.60920907324208, 183.8610335762354, 179.95177771940985, 175.06679345624428, 174.08938610503287, 170.18135234237576, 156.50067852219675, 161.3573578513115, 481.032671953207, 139.88831658016778, 132.07275867352269, 131.09563534879717, 117.41710559825545, 200.76664637735928, 105.691668364079, 105.68779449327234, 101.78252688081264, 99.8284948113291, 205.47134264720358, 97.87266893335224, 94.94244965000324, 92.95807905182919, 88.10220127693532, 82.23998742678152, 79.3057726443314, 461.96733374083, 504.846883643822, 394.74484383253366, 2224.7893742882, 125.76458335274273, 594.8275327764447, 543.1131260160145, 215.9744476028605, 645.5689757310646, 1551.0446715451212, 316.8616709947828, 1451.057018832584, 817.796561665565, 1126.2525962153752, 1506.7578249738017, 582.8707709502695, 317.82185559586037, 540.6982332955185, 831.9274002837697, 449.63227023315625, 942.9634792872282, 263.2891035935443, 1396.7324571173506, 936.9016279872941, 293.0521090902391, 616.1971812865274, 597.2588837719625, 623.266156892585, 636.8095124059977, 764.7070730850087, 952.0895157533746, 814.5363040454355, 639.4756405817025, 784.5662044722114, 492.06809993534347, 531.5551347085598, 565.0621997646982, 519.5795362858175, 811.8854908992944, 815.7483164511243, 624.5645199074213, 532.8564447857561, 515.2949843269274, 480.17200580099603, 437.244484890731, 406.99752270890457, 373.8280765832842, 321.138920711917, 319.1884274155192, 741.4489832342207, 296.7535516489481, 555.5482924461021, 286.02107737067763, 450.15704407919526, 217.72732156276382, 216.75188508993895, 216.7518107029369, 214.79794256096005, 213.82179482665802, 209.9201012761201, 207.97075020750674, 210.86599420889374, 192.36137451291796, 1386.2927158703674, 182.60165902061834, 405.94531189576065, 198.09894385620402, 372.88803510353625, 3877.867663689484, 11467.995665219822, 5769.873225697281, 1147.04912069099, 2723.100842080941, 5420.224904498243, 291.1728743456933, 479.88003377001417, 262.9454676832594, 5716.273866560412, 1500.3331556672356, 279.9310820583652, 629.2091707881104, 605.2554531171506, 1323.6434069101856, 850.8553444829403, 1200.7268104640477, 465.0694413324829, 705.5626371688917, 429.859399673925, 658.0173874916045, 1188.4182681021668, 694.595421018838, 663.8795128580349, 573.0368737575285, 1207.418874110723, 725.472723994961, 673.5927277906709, 756.059213136391, 693.0511566361337, 830.8287048730954, 717.8607712029976, 736.6827285112612, 674.5492433413904, 1569.1163170571258, 651.7016838204661, 576.7104900931118, 1408.4099318244114, 356.6088293668715, 476.1230081889347, 322.52234993934286, 316.6780728526649, 283.53418567279044, 261.16369583877565, 258.2459984297453, 258.24389587852545, 254.34987615763865, 221.23742365051237, 210.52281343204396, 211.48378162993305, 198.83664875672798, 374.3825443671349, 254.06275996583008, 177.4111318265901, 171.56801493725283, 169.6190413645522, 165.72320795631825, 298.47495074095855, 161.82914225350996, 155.9850704343405, 151.11526489456932, 150.14171795517638, 139.42921953467066, 138.45511186914484, 982.1746864840349, 426.4108435323996, 401.13188911161865, 174.1334298323666, 1257.9603653926856, 698.9931727355713, 323.727424309321, 219.39745638379395, 270.2428828859364, 295.7907829516908, 333.4234250247576, 375.6421198112873, 248.05710435372123, 579.1219363611452, 550.4947683929453, 491.2462374018654, 2661.405471712978, 614.3194720867992, 474.2708377292439, 744.7457038383707, 589.9089475758648, 1128.4962218184078, 1918.9818437843135, 928.7270449895193, 745.8299387712141, 1767.3508706632063, 1271.03219459724, 464.7798583305452, 899.1106766968321, 414.8602410524479, 591.5498744257274, 471.5018437674707, 631.7137879943883, 698.8868023227966, 556.1565547987165, 709.0147077297805, 576.8616668959527, 535.5526185348809, 959.453856273742, 679.4439196211763, 424.2177933137103, 481.7054037073544, 342.7844714862976, 321.9289050123826, 318.9494420063621, 238.5087126153214, 431.40471863797944, 205.7368164934562, 344.1702660556929, 190.83944806755648, 222.42476706898884, 242.97227760847676, 209.34289386200206, 141.18275175392134, 122.30443759889431, 185.37065186341277, 114.37168277878648, 242.45063591202214, 184.27399908079778, 92.52307333154566, 89.54301800980804, 88.54135510867327, 83.58553324861779, 81.5986655481102, 81.5979626719419, 71.66787916943855, 134.50091640985133, 70.67325145911734, 1056.8742946468108, 114.78434840751481, 484.30448221338713, 483.616376699666, 1000.5512118278159, 208.14262391515624, 139.06291586321868, 176.9201307924184, 2284.7945123991185, 350.59304910691543, 2749.4165987266306, 228.61275873172752, 918.6562984624381, 925.8644955936977, 392.67936684716904, 1586.6260654899042, 613.340232872641, 331.2705291804972, 338.2325873511285, 383.1938832301765, 651.2976586168251, 564.8653267395308, 332.7426220682495, 1204.2434356757026, 998.3729942647718, 1169.0889866561527, 461.4481588055889, 1144.0359440458774, 613.7418495258725, 801.7460089240202, 502.2796555371034, 857.9064193609997, 579.5133921911539, 467.0525792922668, 801.2256448936057, 493.4988224423517, 508.1013148776243, 504.3467492830314, 895.6611380589399, 705.8230717999032, 698.1528056051166, 615.6030416912096, 499.68447311721656, 1444.4322293553546, 441.19912425434404, 342.44454963311875, 285.87557148047944, 476.05764975089, 236.97821655128763, 234.1007574136316, 228.34889842930636, 229.25650862007993, 214.92671086481582, 203.42050769515922, 200.5448272313751, 188.08087833126027, 166.02779893791137, 174.61301077769605, 165.07007962568673, 206.09503071024565, 165.0669591786895, 161.23508996481743, 159.31723664317312, 159.31574143140827, 156.44114619600174, 152.60598296833103, 310.8190210126216, 141.09947738566848, 1320.2070096138457, 225.70288483950264, 204.63513147395724, 538.8731686529356, 294.33868922381464, 179.4841344976333, 237.88239275661766, 226.83259097476605, 389.96630572559496, 446.75677757177624, 1025.9544770301673, 400.24190173565995, 571.6954890840753, 605.961982962815, 323.3223719172902, 772.7048910951282, 392.427255717946, 772.303871142913, 628.6165562310898, 394.7884969688072, 835.6384950674874, 603.5404152398162, 431.282360782287, 262.26577749517963, 553.1879311743701, 511.8203992866268, 415.6056765629635, 486.1155542474635, 403.4596535882679, 379.129941610084], \"Total\": [11711.0, 5894.0, 5946.0, 5607.0, 3914.0, 4161.0, 2970.0, 2778.0, 4366.0, 4155.0, 2878.0, 1446.0, 1942.0, 1569.0, 1347.0, 2788.0, 1411.0, 1554.0, 2613.0, 1392.0, 2957.0, 1084.0, 1267.0, 1440.0, 1317.0, 1092.0, 960.0, 1153.0, 1288.0, 1240.0, 599.9909059346861, 1217.486336664707, 591.2395151653781, 424.95361173313233, 679.7463287725304, 345.2149325565705, 345.2146752343993, 319.9314229643194, 750.7199403199415, 279.089475996188, 254.77899462548328, 269.36609474176504, 220.7438093009874, 220.74380782180253, 236.30299533327184, 745.8646014821087, 213.9368186531922, 206.15740513670391, 201.2952654442935, 248.94886476348555, 178.92942183397025, 176.9845734785171, 163.3706098229796, 161.4257258676197, 156.56359137709225, 142.94960414635707, 141.97719863315416, 141.00483386112546, 181.84792112579757, 137.1150327841135, 1942.7764591914888, 392.8734357529086, 604.8853391919057, 205.1862629540117, 446.1239575094654, 828.3478144898361, 845.4736532717421, 274.37641133849075, 615.723332216931, 499.3402966050131, 1661.3850826646053, 358.2634048255507, 1070.0183139281937, 418.4824593862125, 1684.0685820041974, 1294.178195829842, 789.8973201396674, 386.665796919899, 6529.1420340620825, 453.37473812182833, 943.0720190882507, 2267.6782674676183, 700.6138443904003, 1448.8419637676548, 1300.284123290641, 1574.4137653612452, 1350.1810580130573, 918.032356051454, 1056.3592266979067, 1470.9031534192904, 4561.4166691029395, 2737.6762405607083, 5109.663176125118, 3827.46877434309, 4161.209254013579, 3643.6785199741817, 4178.880426025834, 1783.7699535850065, 2476.5056213849402, 2082.823782399239, 2315.220427439464, 1850.405190417565, 525.6893168598658, 390.8465768050256, 385.9609703406656, 361.5329334242212, 322.4480308977, 195.4223037693956, 184.67396998045103, 180.76548216421588, 175.87987248274376, 174.90275429728047, 170.99426863210314, 157.3145749290437, 162.19993890029215, 483.6653366797953, 140.70348706218036, 132.88653341791712, 131.90942444419733, 118.22972257321118, 202.25887990651708, 106.50426248388425, 106.50425186987263, 102.59577571047396, 100.64153135188145, 207.14490997599694, 98.68727010304825, 95.75591065503949, 93.80156976689194, 88.91607628513721, 83.05334408235973, 80.12196928177588, 480.4109707904777, 528.5397617474817, 425.8766068630744, 2788.842286083371, 129.94782294488965, 735.0972786754008, 667.8402037987343, 238.00974233246313, 819.8371365383701, 2240.9862481093055, 371.21100813608035, 2241.5873628598265, 1203.1568404374495, 1822.383254385026, 2613.5273375939682, 830.3377534061239, 389.56801321645463, 771.0615880245883, 1444.7491716351592, 637.4428187570093, 1783.7699535850065, 309.2314065399016, 4561.4166691029395, 2737.6762405607083, 386.74663261778704, 1464.617914624307, 1412.1128289460908, 1574.4137653612452, 1813.8917537894358, 2895.0178081816953, 5109.663176125118, 3643.6785199741817, 2476.5056213849402, 6529.1420340620825, 1042.1491464172454, 1618.375967411487, 2580.471796951347, 1915.8065897688402, 812.6993487104974, 816.6025882039402, 625.3783887768, 533.6691629755682, 516.107823143278, 480.9851446559683, 438.0574191081886, 407.81288494015627, 374.64146911683946, 321.9575458939388, 320.0061311368019, 743.4505233244049, 297.56669800894974, 557.0972234430161, 286.83476445633664, 451.71737173995575, 218.54066483925885, 217.56503056392782, 217.56503172354513, 215.61377813497074, 214.63812918505545, 210.73562127685608, 208.78436598828927, 211.7112915990964, 193.17428148238923, 1392.3152280671643, 183.41804079632635, 407.83175338154837, 199.03012210036326, 374.6582168958531, 3914.8637692028465, 11711.835314734992, 5894.991731818058, 1153.2897103116202, 2778.5799256725745, 5607.24193979624, 292.689613500532, 484.96277160823803, 264.4066698969793, 5946.48678695032, 1554.1347250127744, 281.97823749769907, 651.1156698491591, 628.7034537935372, 1440.1128356344525, 904.3512729153169, 1309.4896982271705, 484.82758458922683, 774.8792428283992, 445.14135309027716, 757.9932054596629, 1636.4703664675733, 831.3105656996219, 912.9557533633226, 743.1222144003887, 4155.853189621978, 1330.3913162949364, 1444.252091966994, 2878.7247003149123, 2082.823782399239, 6529.1420340620825, 2891.224197310949, 5109.663176125118, 3827.46877434309, 1569.9299312838423, 652.5150382861063, 577.5246510703165, 1411.1864547685757, 357.4229821420119, 477.2137397461254, 323.33644018655497, 317.4930365484586, 284.3809993325482, 261.9806761919862, 259.0589681058436, 259.0589678551286, 255.16336584031114, 222.05072179046905, 211.33782312878486, 212.31151755473846, 199.65100105627826, 375.92842772676016, 255.16646158432047, 178.22517307097087, 172.38176795752688, 170.43396237751813, 166.53837419621397, 299.9733034115693, 162.6427524272247, 156.7993410385126, 151.92985646534268, 150.95596273135857, 140.24303109755797, 139.26913352286135, 993.3609566412932, 429.45872634918277, 405.09964839501737, 175.30410473301941, 1317.8428338484189, 725.847350947935, 330.12683631854776, 222.04603761804069, 275.5807844262169, 304.9392836217054, 347.4890078073038, 398.757998813302, 254.19889811476062, 654.2495124556496, 626.3845479018014, 559.8172470469977, 4366.364194623731, 763.804435522322, 566.7567078877574, 1053.3950784226295, 772.8025611066628, 1915.8065897688402, 4178.880426025834, 1528.012117353243, 1129.0447525659542, 4155.853189621978, 2957.391512735687, 666.0863480895339, 2436.06235835049, 551.5862494317806, 1185.413452249004, 729.7216727363361, 1561.143264892312, 2891.224197310949, 1618.375967411487, 5109.663176125118, 3827.46877434309, 2878.7247003149123, 960.3095820661121, 680.2559704798715, 425.0291095610952, 482.6269753400389, 343.5948749209383, 322.7397529961072, 319.7604464411095, 239.31929897448867, 432.9593295594143, 206.5469854191194, 345.56870890312626, 191.6504601037771, 223.4229690179354, 244.27435364925933, 210.50675754813938, 141.99539631149554, 123.12631580259973, 186.67610242330915, 115.1817281923145, 244.2494284950297, 185.68118206152047, 93.3335077251019, 90.3541887904985, 89.3609027799517, 84.39560730939336, 82.40939341420332, 82.40938063103513, 72.47838962534084, 136.02512376505865, 71.48525377695636, 1084.9093823106414, 116.16360578269936, 503.13142851271886, 504.12665154814096, 1092.7426149080445, 216.34159015623104, 142.93365859782486, 185.5261390972029, 2970.641403265692, 393.41479800955625, 4161.209254013579, 249.87738605838956, 1240.573315495997, 1288.8387089021066, 496.8153494274573, 2878.7247003149123, 909.1443066925907, 402.7942507010689, 414.7689380315944, 517.532754481291, 1154.7438986153375, 977.5349328851903, 431.05184069939844, 3827.46877434309, 2957.391512735687, 4155.853189621978, 771.9536242307065, 4366.364194623731, 1359.3265219303105, 2613.5273375939682, 985.9147058517605, 5109.663176125118, 1690.8096404811517, 942.8970359089287, 6529.1420340620825, 1470.9031534192904, 2891.224197310949, 4178.880426025834, 896.4775656387948, 706.6387159379525, 698.9684598739008, 616.5145544787632, 500.500597880373, 1446.8407861442379, 442.01488965564846, 343.2603418746226, 286.6922226545338, 477.50161268873865, 237.7943260288202, 234.91800033948357, 229.16529311426154, 230.12505441888257, 215.74233267177408, 204.23696683179966, 201.3606062154368, 188.89643551736916, 166.84447034284142, 175.47434647267838, 165.88566811690134, 207.11690128310363, 165.88576181062996, 162.05053743804913, 160.1329783914064, 160.13300837995442, 157.25662903072478, 153.42150087406648, 312.59591654693594, 141.91613718785925, 1347.6039897770065, 227.26053293060437, 206.17912336302072, 550.5460408455901, 303.14140172519325, 181.243904901032, 244.58845509723025, 233.10278408419404, 417.4992040804971, 486.8561589865396, 1267.0635610836205, 455.3164315814432, 717.7386861707722, 774.0219072600897, 360.23319637159614, 1128.2845087203923, 525.7083013827925, 1773.040032276609, 1389.9721866875534, 611.8998692162886, 4561.4166691029395, 2354.59924761619, 1185.413452249004, 320.30661973777393, 2895.0178081816953, 3643.6785199741817, 1561.143264892312, 5109.663176125118, 2183.8192686109805, 2737.6762405607083], \"Category\": [\"Default\", \"Default\", \"Default\", \"Default\", \"Default\", \"Default\", \"Default\", \"Default\", \"Default\", \"Default\", \"Default\", \"Default\", \"Default\", \"Default\", \"Default\", \"Default\", \"Default\", \"Default\", \"Default\", \"Default\", \"Default\", \"Default\", \"Default\", \"Default\", \"Default\", \"Default\", \"Default\", \"Default\", \"Default\", \"Default\", \"Topic1\", \"Topic1\", \"Topic1\", \"Topic1\", \"Topic1\", \"Topic1\", \"Topic1\", \"Topic1\", \"Topic1\", \"Topic1\", \"Topic1\", \"Topic1\", \"Topic1\", \"Topic1\", \"Topic1\", \"Topic1\", \"Topic1\", \"Topic1\", \"Topic1\", \"Topic1\", \"Topic1\", \"Topic1\", \"Topic1\", \"Topic1\", \"Topic1\", \"Topic1\", \"Topic1\", \"Topic1\", \"Topic1\", \"Topic1\", \"Topic1\", \"Topic1\", \"Topic1\", \"Topic1\", \"Topic1\", \"Topic1\", \"Topic1\", \"Topic1\", \"Topic1\", \"Topic1\", \"Topic1\", \"Topic1\", \"Topic1\", \"Topic1\", \"Topic1\", \"Topic1\", \"Topic1\", \"Topic1\", \"Topic1\", \"Topic1\", \"Topic1\", \"Topic1\", \"Topic1\", \"Topic1\", \"Topic1\", \"Topic1\", \"Topic1\", \"Topic1\", \"Topic1\", \"Topic1\", \"Topic1\", \"Topic1\", \"Topic1\", \"Topic1\", \"Topic1\", \"Topic1\", \"Topic1\", \"Topic1\", \"Topic1\", \"Topic1\", \"Topic1\", \"Topic1\", \"Topic2\", \"Topic2\", \"Topic2\", \"Topic2\", \"Topic2\", \"Topic2\", \"Topic2\", \"Topic2\", \"Topic2\", \"Topic2\", \"Topic2\", \"Topic2\", \"Topic2\", \"Topic2\", \"Topic2\", \"Topic2\", \"Topic2\", \"Topic2\", \"Topic2\", \"Topic2\", \"Topic2\", \"Topic2\", \"Topic2\", \"Topic2\", \"Topic2\", \"Topic2\", \"Topic2\", \"Topic2\", \"Topic2\", \"Topic2\", \"Topic2\", \"Topic2\", \"Topic2\", \"Topic2\", \"Topic2\", \"Topic2\", \"Topic2\", \"Topic2\", \"Topic2\", \"Topic2\", \"Topic2\", \"Topic2\", \"Topic2\", \"Topic2\", \"Topic2\", \"Topic2\", \"Topic2\", \"Topic2\", \"Topic2\", \"Topic2\", \"Topic2\", \"Topic2\", \"Topic2\", \"Topic2\", \"Topic2\", \"Topic2\", \"Topic2\", \"Topic2\", \"Topic2\", \"Topic2\", \"Topic2\", \"Topic2\", \"Topic2\", \"Topic2\", \"Topic2\", \"Topic2\", \"Topic2\", \"Topic2\", \"Topic3\", \"Topic3\", \"Topic3\", \"Topic3\", \"Topic3\", \"Topic3\", \"Topic3\", \"Topic3\", \"Topic3\", \"Topic3\", \"Topic3\", \"Topic3\", \"Topic3\", \"Topic3\", \"Topic3\", \"Topic3\", \"Topic3\", \"Topic3\", \"Topic3\", \"Topic3\", \"Topic3\", \"Topic3\", \"Topic3\", \"Topic3\", \"Topic3\", \"Topic3\", \"Topic3\", \"Topic3\", \"Topic3\", \"Topic3\", \"Topic3\", \"Topic3\", \"Topic3\", \"Topic3\", \"Topic3\", \"Topic3\", \"Topic3\", \"Topic3\", \"Topic3\", \"Topic3\", \"Topic3\", \"Topic3\", \"Topic3\", \"Topic3\", \"Topic3\", \"Topic3\", \"Topic3\", \"Topic3\", \"Topic3\", \"Topic3\", \"Topic3\", \"Topic3\", \"Topic3\", \"Topic3\", \"Topic3\", \"Topic3\", \"Topic3\", \"Topic3\", \"Topic3\", \"Topic3\", \"Topic3\", \"Topic3\", \"Topic3\", \"Topic3\", \"Topic4\", \"Topic4\", \"Topic4\", \"Topic4\", \"Topic4\", \"Topic4\", \"Topic4\", \"Topic4\", \"Topic4\", \"Topic4\", \"Topic4\", \"Topic4\", \"Topic4\", \"Topic4\", \"Topic4\", \"Topic4\", \"Topic4\", \"Topic4\", \"Topic4\", \"Topic4\", \"Topic4\", \"Topic4\", \"Topic4\", \"Topic4\", \"Topic4\", \"Topic4\", \"Topic4\", \"Topic4\", \"Topic4\", \"Topic4\", \"Topic4\", \"Topic4\", \"Topic4\", \"Topic4\", \"Topic4\", \"Topic4\", \"Topic4\", \"Topic4\", \"Topic4\", \"Topic4\", \"Topic4\", \"Topic4\", \"Topic4\", \"Topic4\", \"Topic4\", \"Topic4\", \"Topic4\", \"Topic4\", \"Topic4\", \"Topic4\", \"Topic4\", \"Topic4\", \"Topic4\", \"Topic4\", \"Topic4\", \"Topic4\", \"Topic4\", \"Topic4\", \"Topic4\", \"Topic4\", \"Topic4\", \"Topic4\", \"Topic4\", \"Topic4\", \"Topic4\", \"Topic4\", \"Topic4\", \"Topic4\", \"Topic5\", \"Topic5\", \"Topic5\", \"Topic5\", \"Topic5\", \"Topic5\", \"Topic5\", \"Topic5\", \"Topic5\", \"Topic5\", \"Topic5\", \"Topic5\", \"Topic5\", \"Topic5\", \"Topic5\", \"Topic5\", \"Topic5\", \"Topic5\", \"Topic5\", \"Topic5\", \"Topic5\", \"Topic5\", \"Topic5\", \"Topic5\", \"Topic5\", \"Topic5\", \"Topic5\", \"Topic5\", \"Topic5\", \"Topic5\", \"Topic5\", \"Topic5\", \"Topic5\", \"Topic5\", \"Topic5\", \"Topic5\", \"Topic5\", \"Topic5\", \"Topic5\", \"Topic5\", \"Topic5\", \"Topic5\", \"Topic5\", \"Topic5\", \"Topic5\", \"Topic5\", \"Topic5\", \"Topic5\", \"Topic5\", \"Topic5\", \"Topic5\", \"Topic5\", \"Topic5\", \"Topic5\", \"Topic5\", \"Topic5\", \"Topic5\", \"Topic5\", \"Topic5\", \"Topic5\", \"Topic5\", \"Topic5\", \"Topic5\", \"Topic5\", \"Topic5\", \"Topic5\", \"Topic5\", \"Topic5\", \"Topic6\", \"Topic6\", \"Topic6\", \"Topic6\", \"Topic6\", \"Topic6\", \"Topic6\", \"Topic6\", \"Topic6\", \"Topic6\", \"Topic6\", \"Topic6\", \"Topic6\", \"Topic6\", \"Topic6\", \"Topic6\", \"Topic6\", \"Topic6\", \"Topic6\", \"Topic6\", \"Topic6\", \"Topic6\", \"Topic6\", \"Topic6\", \"Topic6\", \"Topic6\", \"Topic6\", \"Topic6\", \"Topic6\", \"Topic6\", \"Topic6\", \"Topic6\", \"Topic6\", \"Topic6\", \"Topic6\", \"Topic6\", \"Topic6\", \"Topic6\", \"Topic6\", \"Topic6\", \"Topic6\", \"Topic6\", \"Topic6\", \"Topic6\", \"Topic6\", \"Topic6\", \"Topic6\", \"Topic6\", \"Topic6\", \"Topic6\", \"Topic6\", \"Topic6\", \"Topic6\", \"Topic6\", \"Topic6\", \"Topic6\", \"Topic6\", \"Topic6\", \"Topic6\", \"Topic6\"], \"logprob\": [30.0, 29.0, 28.0, 27.0, 26.0, 25.0, 24.0, 23.0, 22.0, 21.0, 20.0, 19.0, 18.0, 17.0, 16.0, 15.0, 14.0, 13.0, 12.0, 11.0, 10.0, 9.0, 8.0, 7.0, 6.0, 5.0, 4.0, 3.0, 2.0, 1.0, -6.0441, -5.3367, -6.0591, -6.3895, -5.9202, -6.5978, -6.5978, -6.674, -5.8212, -6.8109, -6.9025, -6.8471, -7.0462, -7.0462, -6.9781, -5.8287, -7.0777, -7.1148, -7.1388, -6.9266, -7.2571, -7.2681, -7.3486, -7.3605, -7.3913, -7.4828, -7.4896, -7.4966, -7.2422, -7.5247, -4.8739, -6.4734, -6.0468, -7.1238, -6.3766, -5.8007, -5.7838, -6.8546, -6.1038, -6.3078, -5.225, -6.6168, -5.6368, -6.4794, -5.2575, -5.4997, -5.9357, -6.5623, -4.2363, -6.4317, -5.85, -5.1601, -6.1122, -5.58, -5.6778, -5.5844, -5.7028, -5.9947, -5.9121, -5.7457, -5.2276, -5.5013, -5.2185, -5.3645, -5.3382, -5.5171, -5.5699, -5.8191, -5.8142, -5.8455, -5.839, -5.8708, -5.9996, -6.2966, -6.3092, -6.3747, -6.4895, -6.9918, -7.0486, -7.0701, -7.0976, -7.1032, -7.1259, -7.2097, -7.1792, -6.0869, -7.3219, -7.3794, -7.3869, -7.4971, -6.9606, -7.6023, -7.6023, -7.64, -7.6593, -6.9375, -7.6791, -7.7095, -7.7306, -7.7843, -7.8532, -7.8895, -6.1273, -6.0385, -6.2846, -4.5554, -7.4284, -5.8745, -5.9655, -6.8876, -5.7927, -4.9161, -6.5043, -4.9827, -5.5562, -5.2361, -4.9451, -5.8948, -6.5013, -5.9699, -5.539, -6.1544, -5.4138, -6.6895, -5.0209, -5.4202, -6.5824, -5.8392, -5.8704, -5.8278, -5.8063, -5.6233, -5.4041, -5.5602, -5.8021, -5.5977, -6.0642, -5.987, -5.9259, -6.0098, -5.5449, -5.5401, -5.8072, -5.966, -5.9995, -6.0701, -6.1637, -6.2354, -6.3204, -6.4724, -6.4784, -5.6356, -6.5513, -5.9243, -6.5882, -6.1346, -6.861, -6.8655, -6.8655, -6.8745, -6.8791, -6.8975, -6.9068, -6.893, -6.9849, -5.0098, -7.0369, -6.238, -6.9555, -6.323, -3.9812, -2.8969, -3.5838, -5.1993, -4.3347, -3.6463, -6.5703, -6.0707, -6.6723, -3.5932, -4.9308, -6.6097, -5.7998, -5.8386, -5.0561, -5.498, -5.1535, -6.102, -5.6852, -6.1808, -5.755, -5.1639, -5.7009, -5.7461, -5.8933, -5.148, -5.6574, -5.7316, -5.6161, -5.7031, -5.5218, -5.668, -5.6421, -5.7302, -4.8498, -5.7285, -5.8508, -4.9579, -6.3315, -6.0424, -6.4319, -6.4502, -6.5608, -6.643, -6.6542, -6.6542, -6.6694, -6.8089, -6.8585, -6.854, -6.9156, -6.2828, -6.6705, -7.0296, -7.0631, -7.0745, -7.0978, -6.5094, -7.1216, -7.1583, -7.1901, -7.1965, -7.2705, -7.2776, -5.3183, -6.1527, -6.2138, -7.0483, -5.0709, -5.6585, -6.4282, -6.8172, -6.6088, -6.5185, -6.3987, -6.2795, -6.6944, -5.8466, -5.8973, -6.0112, -4.3215, -5.7876, -6.0463, -5.5951, -5.8281, -5.1795, -4.6486, -5.3743, -5.5936, -4.7309, -5.0605, -6.0665, -5.4067, -6.1802, -5.8254, -6.0522, -5.7597, -5.6586, -5.8871, -5.6442, -5.8505, -5.9248, -5.0292, -5.3743, -5.8454, -5.7183, -6.0585, -6.1213, -6.1306, -6.4212, -5.8286, -6.569, -6.0545, -6.6442, -6.491, -6.4027, -6.5516, -6.9456, -7.0891, -6.6733, -7.1562, -6.4048, -6.6792, -7.3682, -7.4009, -7.4121, -7.4697, -7.4938, -7.4938, -7.6236, -6.994, -7.6375, -4.9325, -7.1526, -5.7129, -5.7143, -4.9873, -6.5574, -6.9607, -6.7199, -4.1616, -6.036, -3.9765, -6.4636, -5.0727, -5.0649, -5.9226, -4.5262, -5.4767, -6.0927, -6.0719, -5.9471, -5.4166, -5.559, -6.0882, -4.802, -4.9895, -4.8316, -5.7612, -4.8533, -5.476, -5.2088, -5.6765, -5.1411, -5.5334, -5.7492, -5.2095, -5.6941, -5.6649, -5.6723, -5.0976, -5.3358, -5.3468, -5.4726, -5.6812, -4.6197, -5.8057, -6.0591, -6.2396, -5.7297, -6.4272, -6.4394, -6.4643, -6.4604, -6.5249, -6.5799, -6.5942, -6.6583, -6.783, -6.7326, -6.7888, -6.5669, -6.7888, -6.8123, -6.8243, -6.8243, -6.8425, -6.8673, -6.156, -6.9457, -4.7097, -6.476, -6.574, -5.6057, -6.2105, -6.7051, -6.4234, -6.471, -5.9291, -5.7932, -4.9618, -5.9031, -5.5466, -5.4884, -6.1165, -5.2453, -5.9228, -5.2458, -5.4517, -5.9168, -5.167, -5.4924, -5.8284, -6.3258, -5.5795, -5.6572, -5.8655, -5.7088, -5.8951, -5.9573], \"loglift\": [30.0, 29.0, 28.0, 27.0, 26.0, 25.0, 24.0, 23.0, 22.0, 21.0, 20.0, 19.0, 18.0, 17.0, 16.0, 15.0, 14.0, 13.0, 12.0, 11.0, 10.0, 9.0, 8.0, 7.0, 6.0, 5.0, 4.0, 3.0, 2.0, 1.0, 1.5277, 1.5275, 1.5275, 1.5273, 1.5269, 1.5268, 1.5268, 1.5267, 1.5265, 1.5263, 1.5259, 1.5256, 1.5256, 1.5256, 1.5255, 1.5255, 1.5254, 1.5253, 1.5252, 1.525, 1.5247, 1.5246, 1.5242, 1.5242, 1.524, 1.5235, 1.5235, 1.5234, 1.5234, 1.5233, 1.523, 1.5219, 1.5169, 1.5211, 1.4916, 1.4487, 1.4451, 1.4997, 1.4422, 1.4476, 1.3284, 1.4707, 1.3566, 1.4528, 1.2823, 1.3034, 1.3612, 1.4489, 0.9484, 1.4204, 1.2696, 1.0822, 1.3046, 1.1103, 1.1207, 1.0227, 1.0579, 1.1518, 1.0941, 0.9295, 0.3157, 0.5526, 0.2114, 0.3543, 0.297, 0.2509, 0.061, 0.6632, 0.34, 0.4818, 0.3825, 0.5748, 1.7044, 1.7039, 1.7039, 1.7037, 1.7033, 1.7018, 1.7016, 1.7015, 1.7013, 1.7013, 1.7012, 1.7008, 1.7008, 1.7005, 1.7002, 1.6998, 1.6998, 1.6991, 1.6986, 1.6983, 1.6983, 1.698, 1.6979, 1.6979, 1.6977, 1.6974, 1.6969, 1.6968, 1.6961, 1.6957, 1.6668, 1.6601, 1.6301, 1.48, 1.6733, 1.4942, 1.4992, 1.6088, 1.467, 1.338, 1.5477, 1.2711, 1.3199, 1.2247, 1.1552, 1.3521, 1.5024, 1.3511, 1.154, 1.3569, 1.0685, 1.5451, 0.5225, 0.6337, 1.4286, 0.8402, 0.8455, 0.7793, 0.6592, 0.3747, 0.0257, 0.2078, 0.352, -0.4129, 0.9556, 0.5926, 0.1872, 0.4011, 1.7235, 1.7235, 1.7232, 1.723, 1.723, 1.7228, 1.7227, 1.7225, 1.7224, 1.722, 1.722, 1.7218, 1.7218, 1.7218, 1.7217, 1.7211, 1.7208, 1.7208, 1.7208, 1.7207, 1.7207, 1.7207, 1.7206, 1.7205, 1.7203, 1.7202, 1.7201, 1.7199, 1.7199, 1.7198, 1.715, 1.7035, 1.7031, 1.7191, 1.7044, 1.6906, 1.7193, 1.714, 1.719, 1.6851, 1.6893, 1.7173, 1.6903, 1.6865, 1.6402, 1.6636, 1.6378, 1.6829, 1.6308, 1.6896, 1.5831, 1.4046, 1.5449, 1.406, 1.4646, 0.4885, 1.1181, 0.9618, 0.3876, 0.6242, -0.3371, 0.3314, -0.2122, -0.0114, 1.7602, 1.7594, 1.7593, 1.7587, 1.7584, 1.7584, 1.7581, 1.7581, 1.7577, 1.7575, 1.7575, 1.7575, 1.7575, 1.757, 1.7568, 1.7568, 1.7566, 1.7565, 1.7563, 1.7561, 1.7559, 1.7559, 1.7558, 1.7557, 1.7557, 1.7555, 1.7553, 1.7553, 1.7548, 1.7548, 1.7493, 1.7535, 1.7508, 1.754, 1.7142, 1.723, 1.7411, 1.7487, 1.7411, 1.7302, 1.7193, 1.701, 1.7362, 1.6387, 1.6315, 1.63, 1.2656, 1.5429, 1.5825, 1.4139, 1.4906, 1.2314, 0.9824, 1.2628, 1.346, 0.9056, 0.9162, 1.4008, 0.7639, 1.4758, 1.0656, 1.3239, 0.8559, 0.3407, 0.6925, -0.2143, -0.1317, 0.0789, 2.0723, 2.072, 2.0713, 2.0713, 2.0708, 2.0706, 2.0706, 2.0698, 2.0696, 2.0692, 2.0691, 2.0689, 2.0687, 2.0678, 2.0676, 2.0674, 2.0665, 2.0661, 2.0661, 2.0658, 2.0656, 2.0644, 2.0641, 2.0639, 2.0635, 2.0633, 2.0633, 2.0619, 2.0619, 2.0617, 2.047, 2.0612, 2.035, 2.0316, 1.985, 2.0345, 2.0457, 2.0257, 1.8107, 1.9579, 1.6587, 1.9842, 1.7727, 1.7424, 1.8379, 1.4774, 1.6796, 1.8777, 1.8692, 1.7726, 1.5005, 1.5247, 1.8143, 0.9168, 0.9872, 0.8049, 1.5586, 0.7338, 1.278, 0.8915, 1.3987, 0.2888, 1.0024, 1.3706, -0.0247, 0.9811, 0.3344, -0.0414, 2.0727, 2.0724, 2.0724, 2.0721, 2.0719, 2.0719, 2.0717, 2.0712, 2.0707, 2.0705, 2.0701, 2.0701, 2.07, 2.0698, 2.0698, 2.0696, 2.0695, 2.0692, 2.0687, 2.0687, 2.0686, 2.0686, 2.0686, 2.0685, 2.0685, 2.0685, 2.0684, 2.0682, 2.0679, 2.0678, 2.053, 2.0667, 2.0661, 2.0521, 2.0441, 2.0638, 2.0458, 2.0463, 2.0054, 1.9876, 1.8625, 1.9447, 1.8461, 1.8288, 1.9655, 1.695, 1.7812, 1.2425, 1.2801, 1.6354, 0.3764, 0.7123, 1.0625, 1.8737, 0.4185, 0.1108, 0.7501, -0.2789, 0.3848, 0.0966]}, \"token.table\": {\"Topic\": [1, 6, 5, 5, 1, 5, 6, 1, 2, 3, 4, 5, 6, 3, 5, 4, 4, 6, 3, 5, 5, 3, 5, 1, 1, 2, 3, 4, 5, 6, 2, 3, 5, 3, 3, 5, 1, 2, 1, 6, 1, 6, 5, 5, 2, 1, 2, 3, 4, 5, 6, 2, 4, 6, 1, 2, 3, 4, 5, 4, 5, 1, 2, 3, 4, 5, 6, 2, 3, 6, 6, 5, 2, 3, 4, 5, 6, 3, 1, 2, 3, 4, 6, 1, 2, 2, 1, 6, 1, 2, 3, 4, 5, 4, 6, 2, 6, 1, 1, 2, 6, 1, 2, 3, 4, 5, 6, 3, 3, 4, 5, 1, 2, 3, 5, 6, 1, 1, 5, 6, 5, 1, 2, 6, 2, 6, 4, 4, 1, 2, 3, 4, 5, 6, 1, 2, 3, 4, 5, 6, 6, 1, 4, 4, 3, 3, 6, 3, 6, 4, 2, 5, 5, 2, 6, 1, 2, 3, 1, 5, 1, 6, 1, 1, 1, 1, 3, 5, 4, 5, 5, 5, 2, 4, 6, 4, 6, 1, 1, 2, 3, 4, 5, 6, 1, 3, 4, 5, 1, 2, 3, 6, 2, 1, 2, 3, 4, 6, 5, 6, 1, 5, 2, 4, 6, 4, 6, 1, 2, 3, 4, 4, 6, 2, 4, 6, 2, 6, 1, 2, 1, 4, 1, 2, 3, 4, 5, 1, 2, 3, 4, 5, 6, 1, 2, 3, 4, 5, 6, 2, 2, 6, 1, 2, 3, 4, 6, 2, 2, 1, 2, 3, 4, 5, 6, 6, 3, 5, 6, 1, 3, 5, 5, 2, 1, 3, 1, 2, 3, 1, 5, 1, 2, 3, 4, 5, 6, 3, 1, 2, 3, 4, 5, 6, 3, 1, 2, 3, 4, 6, 1, 5, 3, 5, 1, 2, 4, 1, 2, 3, 4, 5, 6, 2, 5, 2, 1, 2, 3, 4, 5, 6, 1, 2, 6, 1, 2, 3, 4, 5, 6, 1, 2, 4, 4, 1, 6, 1, 2, 3, 4, 5, 6, 1, 2, 3, 4, 5, 6, 2, 4, 1, 5, 2, 3, 4, 5, 6, 1, 1, 2, 5, 6, 5, 1, 3, 5, 5, 3, 4, 5, 2, 4, 5, 6, 2, 6, 4, 5, 2, 4, 5, 4, 3, 1, 2, 3, 5, 4, 1, 4, 6, 3, 5, 1, 2, 3, 4, 5, 6, 1, 2, 4, 5, 6, 1, 2, 3, 6, 1, 2, 3, 4, 3, 3, 5, 3, 3, 1, 2, 3, 4, 5, 6, 1, 2, 3, 4, 5, 6, 1, 2, 3, 4, 5, 6, 1, 5, 6, 1, 2, 3, 4, 5, 6, 1, 4, 6, 3, 6, 3, 5, 1, 2, 3, 4, 5, 6, 1, 3, 1, 2, 1, 2, 6, 3, 5, 1, 1, 2, 4, 6, 1, 2, 3, 4, 5, 6, 6, 3, 1, 2, 3, 4, 5, 6, 4, 3, 1, 2, 3, 5, 1, 2, 3, 4, 5, 6, 1, 2, 3, 4, 5, 6, 4, 5, 3, 5, 3, 5, 3, 4, 5, 6, 1, 2, 3, 4, 5, 6, 1, 2, 3, 4, 5, 4, 5, 3, 5, 1, 2, 3, 4, 6, 2, 3, 4, 5, 1, 3, 3, 5, 2, 3, 5, 2, 5, 1, 2, 3, 4, 5, 6, 2, 1, 2, 3, 4, 5, 6, 1, 5, 6, 3, 2, 1, 2, 3, 4, 6, 4, 1, 1, 2, 3, 4, 5, 6, 6, 2, 4, 6, 2, 4, 6, 2, 1, 2, 3, 4, 5, 6, 3, 2, 4, 5, 6, 4, 5, 6, 1, 2, 3, 5, 6, 4, 3, 4, 5, 6, 3, 5, 4, 4, 1, 1, 2, 3, 4, 5, 6, 1, 2, 3, 4, 5, 6, 3, 4, 4, 5, 1, 5, 2, 4, 5, 3, 5, 1, 3, 5, 1, 3, 5, 3, 5, 4, 1, 2, 3, 4, 5, 6, 6, 5, 1, 3, 4, 5, 3, 5, 6, 6, 2, 3, 5, 3, 1, 5, 6, 1, 2, 3, 4, 5, 6, 3, 5, 6, 2, 3, 4, 5, 6, 3, 4, 5, 1, 2, 1, 2, 3, 6, 1, 2, 3, 4, 6, 6, 2, 3, 1, 2, 3, 4, 5, 6, 2, 4, 6, 2, 1, 2, 3, 4, 5, 6, 1, 2, 3, 4, 5, 6, 1, 2, 3, 4, 5, 6, 1, 2, 5, 6, 2, 4, 1, 2, 3, 4, 5, 6, 1, 2, 3, 4, 5, 6, 1, 1, 2, 4, 1, 2, 5, 6, 2, 4, 6, 5, 2, 4, 5, 1, 3, 3, 5, 3, 4, 5, 5, 2, 3, 6, 1, 2, 3, 6, 1, 6, 2, 3, 4, 5, 3, 6, 3, 4, 5, 2, 2, 6, 1, 2, 3, 4, 5, 6, 4, 3, 5, 2, 2, 4, 5, 6, 3, 4, 5, 3, 4, 5, 3, 5, 3, 5, 3, 5, 2, 3, 1, 3, 4, 5, 1, 2, 5, 6, 4, 1, 4, 6, 3, 4, 5, 6, 3, 4, 5, 6, 2, 1, 1, 2, 3, 5, 3, 4, 5, 6, 3, 4, 5, 2, 3, 4, 5, 5, 3, 6, 3, 1, 2, 4, 5, 6, 1, 2, 4, 6, 2, 2, 1, 2, 3, 4, 5, 6, 6, 3, 4, 5, 6, 2, 1, 2, 3, 5, 2, 6, 6, 1, 3, 4, 1, 2, 3, 4, 5, 6, 3, 4], \"Freq\": [0.0013823221042378168, 0.9980365592597037, 0.9932118338913587, 0.9975787315787431, 0.99708867933106, 0.9928422366783413, 0.004750441323819815, 0.7814408593941218, 0.21851841660869056, 0.7259526504988749, 0.19859815775432185, 0.0702731942822985, 0.004888570037029461, 0.9659852921208908, 0.03369716135305433, 0.9989594733387896, 0.9967672664104451, 0.9975854850608629, 0.08003925571450689, 0.9164494779311039, 0.9936310531357178, 0.9111097071370992, 0.08904613285050969, 0.9956210499011352, 0.11978913450396204, 0.8130687504456424, 0.038931468713787665, 0.005989456725198102, 0.008984185087797154, 0.01347627763169573, 0.003967257025309269, 0.03570531322778342, 0.9600762001248431, 0.9987461089716387, 0.08419182957163421, 0.9160437108826722, 0.1904509839191232, 0.8094166816562737, 0.024531002485848503, 0.9730630986053239, 0.18941433355935733, 0.8097462759662525, 0.9977078962562256, 0.9933995549871657, 0.9936255803815384, 0.02115573200191939, 0.7978220966825532, 0.040160033630762225, 0.04410432264806923, 0.013267153967305378, 0.08390578454998537, 0.7879613781922964, 0.10733839207573077, 0.10367912870951268, 0.004091925378251206, 0.062401862018330895, 0.18311366067674148, 0.17186086588655067, 0.577984459677983, 0.28087300412350946, 0.7184762481170435, 0.24498364296432235, 0.21201388166818924, 0.09799345718572894, 0.12729991167118057, 0.13279487188720276, 0.18453908058807833, 0.9616766229127035, 0.0020815511318456785, 0.03538636924137654, 0.9952543545095813, 0.99642670962197, 0.4721013318404791, 0.2849879990988258, 0.23029333260511173, 0.001919111105042598, 0.00959555552521299, 0.997026953284217, 0.003233824181021423, 0.8504957596086342, 0.03557206599123565, 0.032338241810214226, 0.07761178034451414, 0.9977089454701196, 0.0013320546668492918, 0.9952654296798523, 0.9933570704722985, 0.9990961209405224, 0.7981899272670318, 0.051770305059913965, 0.10972213908220572, 0.00231807336089167, 0.03863455601486117, 0.9954407019343082, 0.9965591700869229, 0.005517426920072422, 0.9876194186929635, 0.9948056511643307, 0.4204578053872115, 0.5286556139735206, 0.05045493664646538, 0.35096584078656384, 0.16468027823500875, 0.3327213784748136, 0.015843875165467314, 0.09266266384652096, 0.04369068606234926, 0.9970258628625085, 0.26261628974708795, 0.18619355992650682, 0.5512857828421014, 0.18354587510789724, 0.7059456734919125, 0.07843840816576805, 0.018825217959784334, 0.01411891346983825, 0.993565345705302, 0.2299166770008534, 0.7691941536558565, 0.0010098829150842754, 0.9954605007261638, 0.9232779388396629, 0.007758638141509772, 0.06982774327358796, 0.9948385358429173, 0.9989998056296175, 0.9984015018051028, 0.9938226735419555, 0.2970568352543154, 0.3062645009965156, 0.08681513414074457, 0.028938378046914858, 0.09777664097669717, 0.18327639429712744, 0.5594915811208504, 0.12023019194630923, 0.12727552803488276, 0.02052337034497508, 0.12268074362929132, 0.04992999054076026, 0.9991653814577042, 0.9942186044185737, 0.004873620609894969, 0.9992106874847526, 0.997526021806255, 0.9948242904667274, 0.9966596089903175, 0.9962431766163312, 0.9982091521166211, 0.9960480721235192, 0.0073515830923057334, 0.992463717461274, 0.9966060081284184, 0.002094233764717888, 0.9968552720057147, 0.9961593545578964, 0.0026814518292271774, 0.0013407259146135887, 0.9694710952095769, 0.025512397242357286, 0.9944859127518288, 0.9951111172065833, 0.9953371964851279, 0.9969424691912755, 0.9944369531244112, 0.026727968954153768, 0.9171511632553907, 0.05574690667580643, 0.10675755007817422, 0.8921880970818846, 0.9987009111133974, 0.9908523551991478, 0.004503570569091535, 0.9862819546310463, 0.004503570569091535, 0.9898799013742422, 0.007405585297064156, 0.9964002398505614, 0.14779585118457725, 0.182196609649953, 0.13335602664355534, 0.15204285840252488, 0.12825961798201818, 0.25651923596403636, 0.2917421177099109, 0.004565980425443416, 0.04301634190286165, 0.6606252731338921, 0.99393833544988, 0.0005147272581304402, 0.0005147272581304402, 0.005147272581304402, 0.98959887119375, 0.0015659200756596092, 0.27142614644766555, 0.10648256514485342, 0.588785948448013, 0.03184037487174538, 0.004850151575430333, 0.9942810729632183, 0.9974309110640084, 0.001471137036967564, 0.12175833278727805, 0.05619615359412833, 0.8179662356478679, 0.9911365927573736, 0.9986144440994155, 0.6644701604242211, 0.33454226826913913, 0.019669636796547797, 0.9756139851087707, 0.991946312562827, 0.004657024941609516, 0.09715928557538041, 0.0027759795878680117, 0.8966414068813678, 0.025739718311699224, 0.9738193427926207, 0.0704429393785544, 0.927498701817633, 0.9977314779972899, 0.9938796989151715, 0.17582570671585618, 0.7576019421727332, 0.00258567215758612, 0.033613738048619564, 0.031028065891033442, 0.054440316223685, 0.6921059874011101, 0.17179935857474365, 0.00044623210019413935, 0.07719815333358611, 0.004016088901747254, 0.24443235087140902, 0.42058750876197754, 0.1201678596462793, 0.08193263157700861, 0.09763638596260192, 0.034821368420228656, 0.9873172586366278, 0.08010579568549375, 0.9181356582414283, 0.04302296376276242, 0.01940251306948109, 0.07423570217888417, 0.4994038146579481, 0.36358622317158046, 0.9941929801071416, 0.9931056901504255, 0.021432116200561728, 0.2554933852330122, 0.0005640030579095192, 0.21375715894770775, 0.07332039752823749, 0.43541036070614875, 0.9949150541147584, 0.9955740543752333, 0.002669099341488561, 0.999467286570128, 0.9928737630220882, 0.005385575365783038, 0.990945867304079, 0.9981536795936014, 0.9978339920181828, 0.9979578114432739, 0.0008213644538627769, 0.013469428143055164, 0.8539617442696974, 0.1320003958019406, 0.9966304409471651, 0.9953124656364749, 0.2677280190193308, 0.18631365066257524, 0.14423651317050207, 0.13875669991572043, 0.16791713473580835, 0.09511390149370963, 0.9939211292860624, 0.8411070990887701, 0.08691440023917292, 0.013083888208047536, 0.005607380660591801, 0.01775670542520737, 0.03551341085041474, 0.9966402755671467, 0.004026733659358445, 0.004026733659358445, 0.0010066834148396112, 0.9885631133724981, 0.0020133668296792224, 0.9434399256172492, 0.05582484766965971, 0.9946799001041564, 0.0037820528521070582, 0.11294561798520249, 0.816288784529418, 0.06930753830910152, 0.000886301276203923, 0.20562189607931014, 0.06026848678186676, 0.04165615998158438, 0.0053178076572235385, 0.6851108865056325, 0.9978390195937208, 0.9986362917848903, 0.9859967335821453, 0.2785646413194521, 0.22367505682300834, 0.15780755542727581, 0.11142585652778084, 0.08837223103927445, 0.14051733631089602, 0.6027640388308307, 0.39570284108704695, 0.0012703140965876307, 0.3765967592241072, 0.34226107021628366, 0.05332989994832168, 0.009497105470249066, 0.07999484992248251, 0.13843857589324599, 0.8179921766363604, 0.18177603925252453, 0.9990915520760124, 0.997785334481423, 0.9918679027275651, 0.9972967759549272, 0.1482999189108319, 0.3511786183873603, 0.08710552857959643, 0.16153113844190983, 0.08986203264857101, 0.16208243925570476, 0.6394205125135572, 0.05688637663051647, 0.05335853932009684, 0.039688169742220794, 0.13185291947693353, 0.07893535982063914, 0.9949973099802532, 0.9974537799188352, 0.04312060844325851, 0.9540434618070945, 0.00496531416850904, 0.022343913758290684, 0.15144208213952573, 0.8217594948882462, 0.00248265708425452, 0.9949284829515211, 0.6851610358325385, 0.03594644544113477, 0.20042866548996355, 0.0773393220097142, 0.9959612899072829, 0.9961885154030045, 0.9897666957160847, 0.00824805579763404, 0.9973517627574691, 0.02563140891110886, 0.707237023658374, 0.26675651496376257, 0.11157151764458954, 0.377314586943521, 0.509171835068945, 0.001014286524041723, 0.9075258763915685, 0.08823168242695804, 0.22735084448541312, 0.7725288899351282, 0.9986887371727785, 0.9959122517012389, 0.9960799959001376, 0.9908871873418167, 0.9970897375082172, 0.005818027845359635, 0.6798781110720259, 0.08560812401029176, 0.22856537963912849, 0.9959122507374039, 0.008785099158637575, 0.11201001427262909, 0.8785099158637575, 0.9651672894624181, 0.03410257756100544, 0.19970075635561393, 0.4227707501570976, 0.10268301301973057, 0.21598840669667463, 0.02832634841923602, 0.03045082455067872, 0.9271595291450899, 0.023895864153223968, 0.009558345661289587, 0.03584379622983595, 0.004779172830644793, 0.9964813916628124, 0.0034165886108499795, 0.994227285757344, 0.9946604108697339, 0.9159958222945693, 0.03410622742586163, 0.029233909222167107, 0.017865166746879897, 0.9992620789933259, 0.9787969623191466, 0.021034804736148036, 0.997720830543651, 0.9978535044546875, 0.38478058950933286, 0.20265831610393234, 0.10105894696382758, 0.10754401307915343, 0.0837654373229587, 0.11943330095725078, 0.11425209871582091, 0.024053073413857037, 0.5449524445326984, 0.1067355132739906, 0.1954312214875884, 0.014281512339477614, 0.3088202855953716, 0.03762277591009604, 0.17635676207857515, 0.15075237291753757, 0.3145682096927474, 0.012018386749058455, 0.9190114878130518, 0.08042828979573684, 0.9963283207499603, 0.07600211723159266, 0.3287246046114414, 0.09762873595602958, 0.34355428602248383, 0.04943227137014156, 0.10442567326942405, 0.004790428294120495, 0.05988035367650618, 0.9341335173534964, 0.9982877786638206, 0.997252660991679, 0.005356872074243264, 0.9910213337350038, 0.12377379690495272, 0.06243457012019739, 0.7273079747335275, 0.005476716677210297, 0.04271839008224032, 0.03833701674047208, 0.03918918931994735, 0.959103843882922, 0.2974693117189754, 0.7021239219925615, 0.11603392953763363, 0.1369580807657315, 0.7456606619467603, 0.99454628767136, 0.005202508915456112, 0.997362713623671, 0.00494415869633113, 0.993775897962557, 0.9988165782192376, 0.9929245794391992, 0.007046118218214126, 0.22611633918450785, 0.08711564342519283, 0.4048315194464843, 0.008967786823181615, 0.26647137988882513, 0.9977039469045056, 0.997153344557663, 0.2304444975267753, 0.08064360920718928, 0.07442184707250998, 0.45921390524806005, 0.12060646599532165, 0.034698288828019126, 0.9967393048227454, 0.9980955597089944, 0.9223178798033448, 0.0024144447115270807, 0.03259500360561559, 0.04104556009596037, 0.6577667018435621, 0.02622784330540961, 0.10698199242996026, 0.09179745156893364, 0.08558559394396821, 0.031059288124827174, 0.09729737056289103, 0.0041111565026573675, 0.1644462601062947, 0.6468219564180926, 0.08359351555403315, 0.0041111565026573675, 0.9934217365707978, 0.00333362998849261, 0.9954642253852735, 0.003591140784218158, 0.9965092694229911, 0.9976218245578115, 0.11494536421943709, 0.8780548655651444, 0.004789390175809879, 0.0015964633919366262, 0.004902762937083728, 0.19774477179571034, 0.004902762937083728, 0.1225690734270932, 0.022879560373057398, 0.6455304533826908, 0.09016013611443582, 0.07266637836088857, 0.7710710148294287, 0.002691347346699577, 0.061900988974090264, 0.008608548204595534, 0.9899830435284864, 0.25875133375060555, 0.7407865287127929, 0.040586305287427245, 0.11652197324454919, 0.036658598324127836, 0.803870691821946, 0.002618471308866274, 0.043483008683421136, 0.4411934539586145, 0.020150662560609794, 0.4952820745160408, 0.9979035312532665, 0.997402934826138, 0.9929844320070438, 0.0035463729714537277, 0.7016300752135873, 0.04798579072625274, 0.25030425973423726, 0.9950002158662247, 0.9897403154922159, 0.08520747536527927, 0.647309145314242, 0.17710663727757, 0.0013383373094022922, 0.0811924634370724, 0.007583911419946323, 0.9914546231061597, 0.0018129530985048214, 0.0924606080237459, 0.05982745225065911, 0.7523755358795009, 0.04894973365963018, 0.045323827462620536, 0.30908184534780864, 0.6742603957231554, 0.015399095497755588, 0.9993949442711955, 0.9986105330013874, 0.12230460553683989, 0.3510861617763404, 0.0035971942804952912, 0.07050500789770771, 0.4525270404863076, 0.9936672741237801, 0.9960963200339275, 0.6475070058678131, 0.09087817626214921, 0.13347732138503166, 0.055852212494445864, 0.062478746180227585, 0.009466476693973876, 0.9935172233634169, 0.004552894962807176, 0.9545903105352378, 0.040217238838130054, 0.009087416319905674, 0.9814409625498127, 0.009087416319905674, 0.9930358788693758, 0.7708849221323031, 0.13572664378670535, 0.038173118565010884, 0.006362186427501813, 0.021207288091672712, 0.02650911011459089, 0.997586117568009, 0.0007086235816825444, 0.9977420030090225, 0.0007086235816825444, 0.0007086235816825444, 0.970685037639181, 0.022955389403629282, 0.006558682686751223, 0.6243607070303363, 0.07184221658593432, 0.007406414081024156, 0.1807165035769894, 0.11554005966397683, 0.9974566119014698, 0.29043374366883984, 0.4251834507562883, 0.2812900135450487, 0.0026468692463605947, 0.9905836393355898, 0.009195722283672313, 0.9984470949227156, 0.9954286249960989, 0.9966304476254981, 0.26477154732473407, 0.1465479727053179, 0.08209970459681677, 0.36903817216269136, 0.12766504064805007, 0.009851964551618011, 0.0019322448508641212, 0.13139264985876023, 0.013525713956048848, 0.06183183522765188, 0.7400497778809584, 0.05217061097333127, 0.9980067208021749, 0.9952681000899402, 0.9429277935965437, 0.055171307072138194, 0.004093757633827771, 0.9947831050201483, 0.9896453648016479, 0.004827538364886088, 0.9950323539880973, 0.9660341919673312, 0.032252333913058755, 0.0005350223928645062, 0.9666071231085412, 0.03281470676235638, 0.0008408326090915727, 0.9612398387134858, 0.037669300887302457, 0.9622978788322017, 0.03658322514568701, 0.994902140320116, 0.3044612511633789, 0.25802485343952136, 0.21239604524129616, 0.09085382163363429, 0.08156654208886278, 0.052089524403283655, 0.9935445171633546, 0.9950321996408147, 0.025908292120438037, 0.36660233350419824, 0.009067902242153314, 0.5971861333760968, 0.9979518189555044, 0.9907904452064031, 0.0040941753934148895, 0.9946609726629476, 0.5766153574606779, 0.1163178955992343, 0.3068649745742958, 0.9968559004378207, 0.0020128202583765287, 0.7910383615419758, 0.20732048661278246, 0.31746437241523434, 0.2021405799868431, 0.23669452528373933, 0.11359609516354643, 0.0682440419613701, 0.06176517721820205, 0.9193724041885245, 0.08054924387150214, 0.9946073870544395, 0.029714921224150124, 0.16020218399107025, 0.009043671676915256, 0.018087343353830512, 0.7829235766015207, 0.9410060288373003, 0.0011057650162600474, 0.057499780845522465, 0.9926861032296522, 0.005090697965280268, 0.3451524252576935, 0.6178722270908791, 0.01426703188664552, 0.022498011821248703, 0.05573058937843398, 0.09752853141225946, 0.04040467729936464, 0.009752853141225946, 0.796947428111606, 0.9920090552718177, 0.9696199377917711, 0.02308618899504217, 0.34281682324439394, 0.021334094150402196, 0.08386505976365001, 0.1007852034001759, 0.45169426925334305, 0.000735658418979386, 0.007257400054812143, 0.9797490073996393, 0.010886100082218216, 0.9933286436547408, 0.1301711806724504, 0.12740158108367486, 0.4666775307086785, 0.19664157080306335, 0.042928793626020874, 0.036004794654082024, 0.16614750991881008, 0.2642470791848019, 0.11433435713747636, 0.15785740547379667, 0.1063896737110052, 0.19101782325385025, 0.5486425113196827, 0.003399272065177712, 0.023794904456243982, 0.03331286623874157, 0.3351682256265224, 0.05438835304284339, 0.921215457930222, 0.0020026422998483083, 0.058076626695600944, 0.018023780698634778, 0.9975101877793047, 0.998660250391403, 0.0006544450718965221, 0.14397791581723485, 0.11649122279758092, 0.607979471791869, 0.020942242300688706, 0.11060121715051223, 0.042346212521145926, 0.07234144639029096, 0.019408680738858552, 0.8363376972926321, 0.005293276565143241, 0.024701957304001793, 0.9983484650769123, 0.007568020969273951, 0.9554626473708363, 0.03784010484636976, 0.8456795370338592, 0.01772382263244615, 0.027851721279558237, 0.10760892312556591, 0.0028777888725462623, 0.9583036945579053, 0.037411255343101406, 0.9982686734746111, 0.9980003446649137, 0.0023096857642901807, 0.9954745644090678, 0.9977559627526329, 0.99740292951, 0.032356238090627654, 0.9614425032643646, 0.016532401729273186, 0.963012400730163, 0.01928780201748538, 0.9986658034857326, 0.0018163785147997582, 0.01816378514799758, 0.9790280194770696, 0.9869639108753403, 0.009919235285179299, 0.0016532058808632166, 0.9960922520276992, 0.963857673998323, 0.03586447159063527, 0.09057940995919984, 0.1397510896513369, 0.7634550267989701, 0.005175966283382848, 0.0044002360951312085, 0.9944533574996531, 0.2107976671953019, 0.6607355450743496, 0.12842715018201167, 0.9926021001707666, 0.026390324628940785, 0.9698444301135739, 0.07097191613235168, 0.1295237469415418, 0.24603597592548582, 0.07570337720784179, 0.34303092797303314, 0.1348466406514682, 0.9994076606443946, 0.9967038515038672, 0.0013450794217326142, 0.9963504873993754, 0.1301929702264412, 0.05063059953250491, 0.814911554380317, 0.002410980930119281, 0.002765207904839569, 0.023043399206996412, 0.9742749184718082, 0.003975104488924689, 0.033788388155859855, 0.9619752863197747, 0.9791804351596188, 0.020748242565729626, 0.9955085562456568, 0.0024519915178464456, 0.9799970030881436, 0.01979428394045094, 0.002213773617224708, 0.9961981277511187, 0.02597978654485487, 0.38450084086385206, 0.025113793660026373, 0.5637613680233506, 0.7992990782065582, 0.08278454738567924, 0.09563042542828463, 0.022837116520187377, 0.9931257013256877, 0.112536725748128, 0.8770719419417594, 0.008931486170486348, 0.07282947226242621, 0.6094315273280382, 0.2620028813465899, 0.05542368643870171, 0.2055865776924407, 0.42977062540640154, 0.3374595469359471, 0.02671272966727437, 0.9896972929597172, 0.9964806488885837, 0.9943858182734865, 0.995765330000777, 0.02098875820733839, 0.9724791302733454, 0.08107057013686375, 0.6981076872896601, 0.009007841126318195, 0.21168426646847757, 0.05961028515499848, 0.8849834642242083, 0.05502487860461398, 0.9941853686672837, 0.8680816599153749, 0.12401166570219642, 0.00791563823631041, 0.9929899395518997, 0.00319901811593195, 0.9948946340548364, 0.9991394742574766, 0.0020764850113079605, 0.575878509802741, 0.17580906429074064, 0.10382425056539803, 0.14189314243937728, 0.004135090626360258, 0.9944892956396422, 0.9962566850111206, 0.9939434723743309, 0.9985259062869499, 0.9952653304935983, 0.19023083734272161, 0.08681443667822386, 0.2483377112946802, 0.24176610055011347, 0.17570411885473197, 0.057415125452530524, 0.9949385775800291, 0.8360293116389007, 0.006014599364308638, 0.14916206423485423, 0.00962335898289382, 0.992105859054877, 0.8977121259249191, 0.10146132135760758, 0.9980304632713211, 0.0017950188188333113, 0.020035559559650605, 0.979516245138474, 0.9929247653869454, 0.9931172142952399, 0.0026600808192320056, 0.9948702263927701, 0.27281832757549546, 0.2189522089206746, 0.19182538657652023, 0.10385697697476247, 0.08370562323339065, 0.12904616915147724, 0.0057043729895712185, 0.9925609001853921], \"Term\": [\"afd\", \"afd\", \"afghanisch\", \"afghanistan\", \"aiwanger\", \"al\", \"al\", \"ampel\", \"ampel\", \"angriff\", \"angriff\", \"angriff\", \"angriff\", \"angriffskrieg\", \"angriffskrieg\", \"anklage\", \"anklagen\", \"anleger\", \"annalena\", \"annalena\", \"arabien\", \"armee\", \"armee\", \"atomkraft\", \"autor\", \"autor\", \"autor\", \"autor\", \"autor\", \"autor\", \"au\\u00dfenministerin\", \"au\\u00dfenministerin\", \"au\\u00dfenministerin\", \"bachmut\", \"baerbock\", \"baerbock\", \"bahn\", \"bahn\", \"bayer\", \"bayer\", \"bayern\", \"bayern\", \"beitritt\", \"beitrittskandidat\", \"benedikt\", \"berlin\", \"berlin\", \"berlin\", \"berlin\", \"berlin\", \"berlin\", \"berliner\", \"berliner\", \"berliner\", \"besuch\", \"besuch\", \"besuch\", \"besuch\", \"besuch\", \"biden\", \"biden\", \"bleiben\", \"bleiben\", \"bleiben\", \"bleiben\", \"bleiben\", \"bleiben\", \"boris\", \"boris\", \"boris\", \"borussia\", \"brics\", \"britisch\", \"britisch\", \"britisch\", \"britisch\", \"britisch\", \"br\\u00fccke\", \"buch\", \"buch\", \"buch\", \"buch\", \"buch\", \"bund\", \"bund\", \"bundesfinanzminister\", \"bundesinnenministerin\", \"bundesliga\", \"bundesregierung\", \"bundesregierung\", \"bundesregierung\", \"bundesregierung\", \"bundesregierung\", \"bundesstaat\", \"bvb\", \"b\\u00f6rse\", \"b\\u00f6rse\", \"cannabis\", \"cdu\", \"cdu\", \"cdu\", \"chef\", \"chef\", \"chef\", \"chef\", \"chef\", \"chef\", \"cherson\", \"china\", \"china\", \"china\", \"christian\", \"christian\", \"christian\", \"christian\", \"christian\", \"co2\", \"corona\", \"corona\", \"corona\", \"covid\", \"csu\", \"csu\", \"csu\", \"cum\", \"dax\", \"demonstrant\", \"demonstration\", \"deutsch\", \"deutsch\", \"deutsch\", \"deutsch\", \"deutsch\", \"deutsch\", \"deutschland\", \"deutschland\", \"deutschland\", \"deutschland\", \"deutschland\", \"deutschland\", \"dfb\", \"documenta\", \"documenta\", \"donald\", \"donbass\", \"donezk\", \"dortmund\", \"drohn\", \"eintracht\", \"elizabeth\", \"elmau\", \"elmau\", \"elon\", \"em\", \"em\", \"energie\", \"energie\", \"energie\", \"energiepreis\", \"energiepreis\", \"energiewende\", \"england\", \"entlasten\", \"entlastung\", \"entlastungspaket\", \"entwicklung\", \"entwicklung\", \"entwicklung\", \"erdbeben\", \"erdbeben\", \"erdogan\", \"erdo\\u011fan\", \"ermittler\", \"ermittler\", \"ermittler\", \"ermittlung\", \"ermittlung\", \"erneuerbar\", \"erster\", \"erster\", \"erster\", \"erster\", \"erster\", \"erster\", \"eu\", \"eu\", \"eu\", \"eu\", \"euro\", \"euro\", \"euro\", \"euro\", \"evg\", \"ex\", \"ex\", \"ex\", \"ex\", \"ex\", \"ezb\", \"ezb\", \"faeser\", \"faeser\", \"fan\", \"fan\", \"fan\", \"fbi\", \"fc\", \"fdp\", \"fdp\", \"festnahme\", \"festnahme\", \"festnehmen\", \"festnehmen\", \"film\", \"film\", \"film\", \"finale\", \"finale\", \"finanzminister\", \"finanzminister\", \"flie\\u00dfen\", \"florida\", \"flughafen\", \"flughafen\", \"flughafen\", \"flughafen\", \"flughafen\", \"focus\", \"focus\", \"focus\", \"focus\", \"focus\", \"focus\", \"frage\", \"frage\", \"frage\", \"frage\", \"frage\", \"frage\", \"france\", \"frankfurt\", \"frankfurt\", \"frankreich\", \"frankreich\", \"frankreich\", \"frankreich\", \"frankreich\", \"franziska\", \"franziskus\", \"frau\", \"frau\", \"frau\", \"frau\", \"frau\", \"frau\", \"freiburg\", \"front\", \"front\", \"fu\\u00dfball\", \"f\\u00f6rderung\", \"g20\", \"g20\", \"g7\", \"gabor\", \"gas\", \"gas\", \"gastbeitrag\", \"gastbeitrag\", \"gastbeitrag\", \"gasumlage\", \"gazastreifen\", \"geben\", \"geben\", \"geben\", \"geben\", \"geben\", \"geben\", \"gegenoffensiv\", \"geld\", \"geld\", \"geld\", \"geld\", \"geld\", \"geld\", \"gerhard\", \"gericht\", \"gericht\", \"gericht\", \"gericht\", \"gericht\", \"gesundheitsminister\", \"gesundheitsminister\", \"getreide\", \"getreide\", \"gewerkschaft\", \"gewerkschaft\", \"gewerkschaft\", \"gewinnen\", \"gewinnen\", \"gewinnen\", \"gewinnen\", \"gewinnen\", \"gewinnen\", \"giffey\", \"gipfel\", \"graichen\", \"gro\\u00df\", \"gro\\u00df\", \"gro\\u00df\", \"gro\\u00df\", \"gro\\u00df\", \"gro\\u00df\", \"gr\\u00fcne\", \"gr\\u00fcne\", \"gr\\u00fcne\", \"gut\", \"gut\", \"gut\", \"gut\", \"gut\", \"gut\", \"habeck\", \"habeck\", \"haft\", \"haftstrafe\", \"heizung\", \"hertha\", \"heute\", \"heute\", \"heute\", \"heute\", \"heute\", \"heute\", \"hoch\", \"hoch\", \"hoch\", \"hoch\", \"hoch\", \"hoch\", \"hugo\", \"ii\", \"impfstoff\", \"impfstoff\", \"indien\", \"indien\", \"indien\", \"indien\", \"indien\", \"industrie\", \"inflation\", \"inflation\", \"inflation\", \"inflation\", \"inflationsrate\", \"innenministerin\", \"invasion\", \"invasion\", \"inzidenz\", \"iran\", \"iran\", \"iran\", \"israel\", \"israel\", \"israel\", \"israel\", \"jan\", \"jan\", \"joe\", \"joe\", \"johnson\", \"justiz\", \"kabul\", \"kaili\", \"kampfpanzer\", \"kanzler\", \"kanzler\", \"kanzler\", \"kanzler\", \"kapitol\", \"katar\", \"katar\", \"katar\", \"kiew\", \"kiew\", \"kind\", \"kind\", \"kind\", \"kind\", \"kind\", \"kind\", \"klimaschutz\", \"klimaschutz\", \"klimaschutz\", \"klimaschutz\", \"klimaschutz\", \"kommune\", \"korrespondent\", \"korrespondent\", \"kosovo\", \"kosten\", \"kosten\", \"kosten\", \"kosten\", \"kreml\", \"krieg\", \"krieg\", \"kriegsverlauf\", \"krim\", \"kritik\", \"kritik\", \"kritik\", \"kritik\", \"kritik\", \"kritik\", \"lage\", \"lage\", \"lage\", \"lage\", \"lage\", \"lage\", \"land\", \"land\", \"land\", \"land\", \"land\", \"land\", \"lauterbach\", \"lauterbach\", \"league\", \"leben\", \"leben\", \"leben\", \"leben\", \"leben\", \"leben\", \"leipzig\", \"leipzig\", \"leipzig\", \"leopard\", \"leverkusen\", \"leyen\", \"leyen\", \"liefern\", \"liefern\", \"liefern\", \"liefern\", \"liefern\", \"liefern\", \"lieferung\", \"lieferung\", \"lindner\", \"lindner\", \"linke\", \"linke\", \"linke\", \"liveblog\", \"liveblog\", \"lng\", \"lufthansa\", \"lufthansa\", \"l\\u00fctzerath\", \"mainz\", \"mann\", \"mann\", \"mann\", \"mann\", \"mann\", \"mann\", \"marktbericht\", \"meldung\", \"mensch\", \"mensch\", \"mensch\", \"mensch\", \"mensch\", \"mensch\", \"mexiko\", \"milit\\u00e4rexperte\", \"milliarde\", \"milliarde\", \"milliarde\", \"milliarde\", \"million\", \"million\", \"million\", \"million\", \"million\", \"million\", \"mindestens\", \"mindestens\", \"mindestens\", \"mindestens\", \"mindestens\", \"mindestens\", \"mord\", \"mord\", \"moskau\", \"moskau\", \"munition\", \"musk\", \"mutma\\u00dflich\", \"mutma\\u00dflich\", \"mutma\\u00dflich\", \"mutma\\u00dflich\", \"m\\u00fcnchen\", \"m\\u00fcnchen\", \"m\\u00fcnchen\", \"m\\u00fcnchen\", \"m\\u00fcnchen\", \"m\\u00fcnchen\", \"nachricht\", \"nachricht\", \"nachricht\", \"nachricht\", \"nachricht\", \"nahost\", \"nahost\", \"nato\", \"nato\", \"new\", \"new\", \"new\", \"new\", \"new\", \"news\", \"news\", \"news\", \"news\", \"nord\", \"odessa\", \"offensive\", \"offensive\", \"olaf\", \"olaf\", \"olaf\", \"olympia\", \"omikron\", \"online\", \"online\", \"online\", \"online\", \"online\", \"online\", \"open\", \"opfer\", \"opfer\", \"opfer\", \"opfer\", \"opfer\", \"opfer\", \"pandemie\", \"pandemie\", \"pandemie\", \"panzer\", \"papst\", \"partei\", \"partei\", \"partei\", \"partei\", \"partei\", \"pelosi\", \"pipeline\", \"plan\", \"plan\", \"plan\", \"plan\", \"plan\", \"plan\", \"pokal\", \"polizei\", \"polizei\", \"polizei\", \"polizist\", \"polizist\", \"polizist\", \"porsche\", \"preis\", \"preis\", \"preis\", \"preis\", \"preis\", \"preis\", \"prigoschin\", \"protest\", \"protest\", \"protest\", \"protest\", \"protestieren\", \"protestieren\", \"protestieren\", \"prozent\", \"prozent\", \"prozent\", \"prozent\", \"prozent\", \"prozess\", \"pr\\u00e4sident\", \"pr\\u00e4sident\", \"pr\\u00e4sident\", \"pr\\u00e4sident\", \"putin\", \"putin\", \"queen\", \"razzia\", \"rbb\", \"regierung\", \"regierung\", \"regierung\", \"regierung\", \"regierung\", \"regierung\", \"reise\", \"reise\", \"reise\", \"reise\", \"reise\", \"reise\", \"reitz\", \"rentenreform\", \"republikaner\", \"republikaner\", \"rki\", \"rki\", \"roman\", \"roman\", \"rushdie\", \"russe\", \"russe\", \"russisch\", \"russisch\", \"russisch\", \"russland\", \"russland\", \"russland\", \"russlands\", \"russlands\", \"r\\u00e4umung\", \"sagen\", \"sagen\", \"sagen\", \"sagen\", \"sagen\", \"sagen\", \"sahra\", \"salman\", \"sanktion\", \"sanktion\", \"sanktion\", \"sanktion\", \"saporischschja\", \"saudi\", \"saudi\", \"schalke\", \"scholz\", \"scholz\", \"scholz\", \"schr\\u00f6der\", \"schweden\", \"schweden\", \"schweden\", \"sehen\", \"sehen\", \"sehen\", \"sehen\", \"sehen\", \"sehen\", \"selenskyj\", \"selenskyj\", \"serbien\", \"sieg\", \"sieg\", \"sieg\", \"sieg\", \"sieg\", \"soldat\", \"soldat\", \"soldat\", \"sparen\", \"sparen\", \"spd\", \"spd\", \"spd\", \"spd\", \"spiel\", \"spiel\", \"spiel\", \"spiel\", \"spiel\", \"spieltag\", \"sprache\", \"sprache\", \"staat\", \"staat\", \"staat\", \"staat\", \"staat\", \"staat\", \"staatsanwaltschaft\", \"staatsanwaltschaft\", \"staatsanwaltschaft\", \"staatssekret\\u00e4r\", \"stadt\", \"stadt\", \"stadt\", \"stadt\", \"stadt\", \"stadt\", \"stehen\", \"stehen\", \"stehen\", \"stehen\", \"stehen\", \"stehen\", \"steigen\", \"steigen\", \"steigen\", \"steigen\", \"steigen\", \"steigen\", \"steigend\", \"steigend\", \"steigend\", \"steigend\", \"steingart\", \"steinmeier\", \"sterben\", \"sterben\", \"sterben\", \"sterben\", \"sterben\", \"sterben\", \"stra\\u00dfe\", \"stra\\u00dfe\", \"stra\\u00dfe\", \"stra\\u00dfe\", \"stra\\u00dfe\", \"stra\\u00dfe\", \"stream\", \"streik\", \"streik\", \"streik\", \"studie\", \"studie\", \"studie\", \"studie\", \"sturm\", \"sturm\", \"sturm\", \"sudan\", \"sunak\", \"syrien\", \"syrien\", \"s\\u00f6der\", \"s\\u00f6ldner\", \"s\\u00fcdkorea\", \"s\\u00fcdkorea\", \"taiwan\", \"taiwan\", \"taiwan\", \"taliban\", \"team\", \"team\", \"team\", \"teuer\", \"teuer\", \"teuer\", \"th\\u00fcringen\", \"ticket\", \"ticket\", \"tod\", \"tod\", \"tod\", \"tod\", \"tor\", \"tor\", \"tote\", \"tote\", \"tote\", \"tour\", \"trainer\", \"trainer\", \"treffen\", \"treffen\", \"treffen\", \"treffen\", \"treffen\", \"treffen\", \"trump\", \"truppe\", \"truppe\", \"truss\", \"twitter\", \"twitter\", \"twitter\", \"twitter\", \"t\\u00fcrkei\", \"t\\u00fcrkei\", \"t\\u00fcrkei\", \"t\\u00fcrkisch\", \"t\\u00fcrkisch\", \"t\\u00fcrkisch\", \"ukraine\", \"ukraine\", \"ukrainer\", \"ukrainer\", \"ukrainisch\", \"ukrainisch\", \"ulrich\", \"ulrich\", \"un\", \"un\", \"un\", \"un\", \"unternehmen\", \"unternehmen\", \"unternehmen\", \"unternehmen\", \"unwetter\", \"urteil\", \"urteil\", \"urteil\", \"us\", \"us\", \"us\", \"us\", \"usa\", \"usa\", \"usa\", \"usa\", \"vatikan\", \"verbraucher\", \"verbrenner\", \"verdi\", \"vereint\", \"vereint\", \"verletzen\", \"verletzen\", \"verletzen\", \"verletzen\", \"verurteilen\", \"verurteilen\", \"verurteilen\", \"vogg\", \"waffe\", \"waffe\", \"waffe\", \"waffenruhe\", \"wagenknecht\", \"wagenknecht\", \"wagner\", \"wahl\", \"wahl\", \"wahl\", \"wahl\", \"wahl\", \"wahrheit\", \"wahrheit\", \"waldbrand\", \"wall\", \"warnstreik\", \"wegner\", \"weit\", \"weit\", \"weit\", \"weit\", \"weit\", \"weit\", \"weltmeister\", \"westen\", \"westen\", \"westen\", \"westen\", \"wimbledon\", \"wirtschaftsminister\", \"wirtschaftsminister\", \"wladimir\", \"wladimir\", \"wm\", \"wm\", \"wolfsburg\", \"w\\u00e4rmepumpe\", \"york\", \"york\", \"zeigen\", \"zeigen\", \"zeigen\", \"zeigen\", \"zeigen\", \"zeigen\", \"\\u00fcberschwemmung\", \"\\u00fcberschwemmung\"]}, \"R\": 30, \"lambda.step\": 0.01, \"plot.opts\": {\"xlab\": \"PC1\", \"ylab\": \"PC2\"}, \"topic.order\": [6, 3, 1, 5, 4, 2]};\n",
       "\n",
       "function LDAvis_load_lib(url, callback){\n",
       "  var s = document.createElement('script');\n",
       "  s.src = url;\n",
       "  s.async = true;\n",
       "  s.onreadystatechange = s.onload = callback;\n",
       "  s.onerror = function(){console.warn(\"failed to load library \" + url);};\n",
       "  document.getElementsByTagName(\"head\")[0].appendChild(s);\n",
       "}\n",
       "\n",
       "if(typeof(LDAvis) !== \"undefined\"){\n",
       "   // already loaded: just create the visualization\n",
       "   !function(LDAvis){\n",
       "       new LDAvis(\"#\" + \"ldavis_el1367217878584589282900557735\", ldavis_el1367217878584589282900557735_data);\n",
       "   }(LDAvis);\n",
       "}else if(typeof define === \"function\" && define.amd){\n",
       "   // require.js is available: use it to load d3/LDAvis\n",
       "   require.config({paths: {d3: \"https://d3js.org/d3.v5\"}});\n",
       "   require([\"d3\"], function(d3){\n",
       "      window.d3 = d3;\n",
       "      LDAvis_load_lib(\"https://cdn.jsdelivr.net/gh/bmabey/pyLDAvis@3.4.0/pyLDAvis/js/ldavis.v3.0.0.js\", function(){\n",
       "        new LDAvis(\"#\" + \"ldavis_el1367217878584589282900557735\", ldavis_el1367217878584589282900557735_data);\n",
       "      });\n",
       "    });\n",
       "}else{\n",
       "    // require.js not available: dynamically load d3 & LDAvis\n",
       "    LDAvis_load_lib(\"https://d3js.org/d3.v5.js\", function(){\n",
       "         LDAvis_load_lib(\"https://cdn.jsdelivr.net/gh/bmabey/pyLDAvis@3.4.0/pyLDAvis/js/ldavis.v3.0.0.js\", function(){\n",
       "                 new LDAvis(\"#\" + \"ldavis_el1367217878584589282900557735\", ldavis_el1367217878584589282900557735_data);\n",
       "            })\n",
       "         });\n",
       "}\n",
       "</script>"
      ],
      "text/plain": [
       "PreparedData(topic_coordinates=               x          y  topics  cluster       Freq\n",
       "topic                                                  \n",
       "5     -53.367214  16.534853       1        1  21.669788\n",
       "2      78.260132  -1.989677       2        1  18.159449\n",
       "0      19.258986  55.283031       3        1  17.825487\n",
       "4     -38.987747 -64.517448       4        1  17.192973\n",
       "3      42.260666 -75.869255       5        1  12.578741\n",
       "1       9.482670 -14.049941       6        1  12.573563, topic_info=           Term          Freq         Total Category  logprob  loglift\n",
       "25501   ukraine  11711.000000  11711.000000  Default  30.0000  30.0000\n",
       "14353     krieg   5894.000000   5894.000000  Default  29.0000  29.0000\n",
       "21156  russland   5946.000000   5946.000000  Default  28.0000  28.0000\n",
       "21150  russisch   5607.000000   5607.000000  Default  27.0000  27.0000\n",
       "19899     putin   3914.000000   3914.000000  Default  26.0000  26.0000\n",
       "...         ...           ...           ...      ...      ...      ...\n",
       "10573      groß    511.820399   3643.678520   Topic6  -5.6572   0.1108\n",
       "16019      mann    415.605677   1561.143265   Topic6  -5.8655   0.7501\n",
       "9307      geben    486.115554   5109.663176   Topic6  -5.7088  -0.2789\n",
       "3938    bleiben    403.459654   2183.819269   Topic6  -5.8951   0.3848\n",
       "10761       gut    379.129942   2737.676241   Topic6  -5.9573   0.0966\n",
       "\n",
       "[430 rows x 6 columns], token_table=       Topic      Freq            Term\n",
       "term                                  \n",
       "627        1  0.001382             afd\n",
       "627        6  0.998037             afd\n",
       "641        5  0.993212      afghanisch\n",
       "643        5  0.997579     afghanistan\n",
       "706        1  0.997089        aiwanger\n",
       "...      ...       ...             ...\n",
       "29064      4  0.103857          zeigen\n",
       "29064      5  0.083706          zeigen\n",
       "29064      6  0.129046          zeigen\n",
       "29934      3  0.005704  überschwemmung\n",
       "29934      4  0.992561  überschwemmung\n",
       "\n",
       "[891 rows x 3 columns], R=30, lambda_step=0.01, plot_opts={'xlab': 'PC1', 'ylab': 'PC2'}, topic_order=[6, 3, 1, 5, 4, 2])"
      ]
     },
     "execution_count": 28,
     "metadata": {},
     "output_type": "execute_result"
    }
   ],
   "source": [
    "pyLDAvis.enable_notebook()\n",
    "panel = pyLDAvis.lda_model.prepare(lda, dtm, cv, mds='tsne')\n",
    "panel"
   ]
  },
  {
   "cell_type": "markdown",
   "id": "1c77ce17",
   "metadata": {},
   "source": [
    "## Save train set with topics and dump countvectorizer and model"
   ]
  },
  {
   "cell_type": "code",
   "execution_count": 29,
   "id": "78051ef9",
   "metadata": {},
   "outputs": [],
   "source": [
    "#Save result to csv\n",
    "train.to_csv('train_lda_combined_6.csv')"
   ]
  },
  {
   "cell_type": "code",
   "execution_count": 30,
   "id": "c49fa248",
   "metadata": {},
   "outputs": [
    {
     "data": {
      "text/plain": [
       "['models/cv_combined.jl']"
      ]
     },
     "execution_count": 30,
     "metadata": {},
     "output_type": "execute_result"
    }
   ],
   "source": [
    "# Dump countvectorizer\n",
    "joblib.dump(cv, 'models/cv_combined.jl')"
   ]
  },
  {
   "cell_type": "code",
   "execution_count": 31,
   "id": "205360e6",
   "metadata": {},
   "outputs": [
    {
     "data": {
      "text/plain": [
       "['models/lda_model_6_topics_combined.jl']"
      ]
     },
     "execution_count": 31,
     "metadata": {},
     "output_type": "execute_result"
    }
   ],
   "source": [
    "# Dump LDA model\n",
    "joblib.dump(lda, 'models/lda_model_6_topics_combined.jl')"
   ]
  }
 ],
 "metadata": {
  "kernelspec": {
   "display_name": "nlp",
   "language": "python",
   "name": "nlp"
  },
  "language_info": {
   "codemirror_mode": {
    "name": "ipython",
    "version": 3
   },
   "file_extension": ".py",
   "mimetype": "text/x-python",
   "name": "python",
   "nbconvert_exporter": "python",
   "pygments_lexer": "ipython3",
   "version": "3.11.5"
  }
 },
 "nbformat": 4,
 "nbformat_minor": 5
}
