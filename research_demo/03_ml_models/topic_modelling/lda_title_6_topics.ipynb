{
 "cells": [
  {
   "cell_type": "markdown",
   "id": "d23815fa",
   "metadata": {},
   "source": [
    "# Topic modelling of news headlines for prediction of news category with 6 topics"
   ]
  },
  {
   "cell_type": "markdown",
   "id": "75523a79",
   "metadata": {},
   "source": [
    "Now we wan't to perform topic modelling with unsupervised learning and train a modell for prediction of news category labels without using the provided labels in the corpus.\n",
    "We use the LDA classifier and assume 6 topics. "
   ]
  },
  {
   "cell_type": "code",
   "execution_count": 1,
   "id": "a2821ff5",
   "metadata": {},
   "outputs": [],
   "source": [
    "import pandas as pd\n",
    "import numpy as np\n",
    "import matplotlib.pyplot as plt\n",
    "import seaborn as sns\n",
    "\n",
    "import joblib\n",
    "\n",
    "import wordcloud\n",
    "\n",
    "import pyLDAvis.lda_model"
   ]
  },
  {
   "cell_type": "markdown",
   "id": "6594f2c8",
   "metadata": {},
   "source": [
    "## Load train set"
   ]
  },
  {
   "cell_type": "code",
   "execution_count": 2,
   "id": "d737f3a4",
   "metadata": {},
   "outputs": [],
   "source": [
    "train = pd.read_csv('../../data/01_train_nosplit_preprocessed.csv')"
   ]
  },
  {
   "cell_type": "code",
   "execution_count": 3,
   "id": "72fc6b38",
   "metadata": {},
   "outputs": [
    {
     "data": {
      "text/html": [
       "<div>\n",
       "<style scoped>\n",
       "    .dataframe tbody tr th:only-of-type {\n",
       "        vertical-align: middle;\n",
       "    }\n",
       "\n",
       "    .dataframe tbody tr th {\n",
       "        vertical-align: top;\n",
       "    }\n",
       "\n",
       "    .dataframe thead th {\n",
       "        text-align: right;\n",
       "    }\n",
       "</style>\n",
       "<table border=\"1\" class=\"dataframe\">\n",
       "  <thead>\n",
       "    <tr style=\"text-align: right;\">\n",
       "      <th></th>\n",
       "      <th>date</th>\n",
       "      <th>title</th>\n",
       "      <th>description</th>\n",
       "      <th>category</th>\n",
       "      <th>text</th>\n",
       "      <th>source</th>\n",
       "      <th>title_description_text</th>\n",
       "      <th>title_cleaned</th>\n",
       "      <th>title_description_text_cleaned</th>\n",
       "    </tr>\n",
       "  </thead>\n",
       "  <tbody>\n",
       "    <tr>\n",
       "      <th>0</th>\n",
       "      <td>2022-06-01 00:13:42</td>\n",
       "      <td>Preise: Grüne halten Senkung der Spritsteuer f...</td>\n",
       "      <td>Heute tritt die Steuersenkung auf Kraftstoffe ...</td>\n",
       "      <td>Other</td>\n",
       "      <td>NaN</td>\n",
       "      <td>stern</td>\n",
       "      <td>Preise: Grüne halten Senkung der Spritsteuer f...</td>\n",
       "      <td>Preis grüne halten Senkung Spritsteuer falsch ...</td>\n",
       "      <td>Preis grüne halten Senkung Spritsteuer falsch ...</td>\n",
       "    </tr>\n",
       "    <tr>\n",
       "      <th>1</th>\n",
       "      <td>2022-06-01 01:55:03</td>\n",
       "      <td>Biden warnt Putin: USA liefern moderne Raketen...</td>\n",
       "      <td>Die USA rüsten die Ukraine mit fortschrittlich...</td>\n",
       "      <td>Other</td>\n",
       "      <td>NaN</td>\n",
       "      <td>stern</td>\n",
       "      <td>Biden warnt Putin: USA liefern moderne Raketen...</td>\n",
       "      <td>Biden warnen Putin USA liefern modern Raketens...</td>\n",
       "      <td>Biden warnen Putin USA liefern modern Raketens...</td>\n",
       "    </tr>\n",
       "    <tr>\n",
       "      <th>2</th>\n",
       "      <td>2022-06-01 02:04:08</td>\n",
       "      <td>Soziale Medien: FDP-Politiker Kuhle: Internet-...</td>\n",
       "      <td>Eine «ZDF Magazin Royale»-Recherche beschäftig...</td>\n",
       "      <td>Other</td>\n",
       "      <td>NaN</td>\n",
       "      <td>stern</td>\n",
       "      <td>Soziale Medien: FDP-Politiker Kuhle: Internet-...</td>\n",
       "      <td>sozial Medium FDP-Politiker Kuhle Internet-Str...</td>\n",
       "      <td>sozial Medium FDP-Politiker Kuhle Internet-Str...</td>\n",
       "    </tr>\n",
       "    <tr>\n",
       "      <th>3</th>\n",
       "      <td>2022-06-01 02:26:58</td>\n",
       "      <td>Liveblog: ++ Zwei von drei ukrainischen Kinder...</td>\n",
       "      <td>Rund zwei von drei Mädchen und Jungen in der U...</td>\n",
       "      <td>Missing</td>\n",
       "      <td>NaN</td>\n",
       "      <td>Tagesschau</td>\n",
       "      <td>Liveblog: ++ Zwei von drei ukrainischen Kinder...</td>\n",
       "      <td>Liveblog ukrainisch Kind vertreiben</td>\n",
       "      <td>Liveblog ukrainisch Kind vertreiben rund Mädch...</td>\n",
       "    </tr>\n",
       "    <tr>\n",
       "      <th>4</th>\n",
       "      <td>2022-06-01 02:31:43</td>\n",
       "      <td>Finanzen: Dänemark stimmt über EU-Verteidigung...</td>\n",
       "      <td>Vorbehalt verteidigen oder Verteidigung ohne V...</td>\n",
       "      <td>Other</td>\n",
       "      <td>NaN</td>\n",
       "      <td>stern</td>\n",
       "      <td>Finanzen: Dänemark stimmt über EU-Verteidigung...</td>\n",
       "      <td>Finanz Dänemark stimmen EU-Verteidigungsvorbehalt</td>\n",
       "      <td>Finanz Dänemark stimmen EU-Verteidigungsvorbeh...</td>\n",
       "    </tr>\n",
       "  </tbody>\n",
       "</table>\n",
       "</div>"
      ],
      "text/plain": [
       "                  date                                              title  \\\n",
       "0  2022-06-01 00:13:42  Preise: Grüne halten Senkung der Spritsteuer f...   \n",
       "1  2022-06-01 01:55:03  Biden warnt Putin: USA liefern moderne Raketen...   \n",
       "2  2022-06-01 02:04:08  Soziale Medien: FDP-Politiker Kuhle: Internet-...   \n",
       "3  2022-06-01 02:26:58  Liveblog: ++ Zwei von drei ukrainischen Kinder...   \n",
       "4  2022-06-01 02:31:43  Finanzen: Dänemark stimmt über EU-Verteidigung...   \n",
       "\n",
       "                                         description category  text  \\\n",
       "0  Heute tritt die Steuersenkung auf Kraftstoffe ...    Other   NaN   \n",
       "1  Die USA rüsten die Ukraine mit fortschrittlich...    Other   NaN   \n",
       "2  Eine «ZDF Magazin Royale»-Recherche beschäftig...    Other   NaN   \n",
       "3  Rund zwei von drei Mädchen und Jungen in der U...  Missing   NaN   \n",
       "4  Vorbehalt verteidigen oder Verteidigung ohne V...    Other   NaN   \n",
       "\n",
       "       source                             title_description_text  \\\n",
       "0       stern  Preise: Grüne halten Senkung der Spritsteuer f...   \n",
       "1       stern  Biden warnt Putin: USA liefern moderne Raketen...   \n",
       "2       stern  Soziale Medien: FDP-Politiker Kuhle: Internet-...   \n",
       "3  Tagesschau  Liveblog: ++ Zwei von drei ukrainischen Kinder...   \n",
       "4       stern  Finanzen: Dänemark stimmt über EU-Verteidigung...   \n",
       "\n",
       "                                       title_cleaned  \\\n",
       "0  Preis grüne halten Senkung Spritsteuer falsch ...   \n",
       "1  Biden warnen Putin USA liefern modern Raketens...   \n",
       "2  sozial Medium FDP-Politiker Kuhle Internet-Str...   \n",
       "3                Liveblog ukrainisch Kind vertreiben   \n",
       "4  Finanz Dänemark stimmen EU-Verteidigungsvorbehalt   \n",
       "\n",
       "                      title_description_text_cleaned  \n",
       "0  Preis grüne halten Senkung Spritsteuer falsch ...  \n",
       "1  Biden warnen Putin USA liefern modern Raketens...  \n",
       "2  sozial Medium FDP-Politiker Kuhle Internet-Str...  \n",
       "3  Liveblog ukrainisch Kind vertreiben rund Mädch...  \n",
       "4  Finanz Dänemark stimmen EU-Verteidigungsvorbeh...  "
      ]
     },
     "execution_count": 3,
     "metadata": {},
     "output_type": "execute_result"
    }
   ],
   "source": [
    "train.head()"
   ]
  },
  {
   "cell_type": "markdown",
   "id": "46b4f629",
   "metadata": {},
   "source": [
    "## Load German stopwords"
   ]
  },
  {
   "cell_type": "code",
   "execution_count": 4,
   "id": "da144b59",
   "metadata": {},
   "outputs": [],
   "source": [
    "stop_words = pd.read_csv('german_stopwords.txt', header=None)[0].values.tolist()"
   ]
  },
  {
   "cell_type": "code",
   "execution_count": 5,
   "id": "bd74c6d3",
   "metadata": {},
   "outputs": [
    {
     "name": "stdout",
     "output_type": "stream",
     "text": [
      "['ab', 'aber', 'alle', 'allein', 'allem', 'allen', 'aller', 'allerdings', 'allerlei', 'alles', 'allmählich', 'allzu', 'als', 'alsbald', 'also', 'am', 'an', 'and', 'ander', 'andere', 'anderem', 'anderen', 'anderer', 'andererseits', 'anderes', 'anderm', 'andern', 'andernfalls', 'anders', 'anstatt', 'auch', 'auf', 'aus', 'ausgenommen', 'ausser', 'ausserdem', 'außer', 'außerdem', 'außerhalb', 'bald', 'bei', 'beide', 'beiden', 'beiderlei', 'beides', 'beim', 'beinahe', 'bereits', 'besonders', 'besser', 'beträchtlich', 'bevor', 'bezüglich', 'bin', 'bis', 'bisher', 'bislang', 'bist', 'bloß', 'bsp.', 'bzw', 'ca', 'ca.', 'content', 'da', 'dabei', 'dadurch', 'dafür', 'dagegen', 'daher', 'dahin', 'damals', 'damit', 'danach', 'daneben', 'dann', 'daran', 'darauf', 'daraus', 'darin', 'darum', 'darunter', 'darüber', 'darüberhinaus', 'das', 'dass', 'dasselbe', 'davon', 'davor', 'dazu', 'daß', 'dein', 'deine', 'deinem', 'deinen', 'deiner', 'deines', 'dem', 'demnach', 'demselben', 'den', 'denen', 'denn', 'dennoch', 'denselben', 'der', 'derart', 'derartig', 'derem', 'deren', 'derer', 'derjenige', 'derjenigen', 'derselbe', 'derselben', 'derzeit', 'des', 'deshalb', 'desselben', 'dessen', 'desto', 'deswegen', 'dich', 'die', 'diejenige', 'dies', 'diese', 'dieselbe', 'dieselben', 'diesem', 'diesen', 'dieser', 'dieses', 'diesseits', 'dir', 'direkt', 'direkte', 'direkten', 'direkter', 'doch', 'dort', 'dorther', 'dorthin', 'drauf', 'drin', 'drunter', 'drüber', 'du', 'dunklen', 'durch', 'durchaus', 'eben', 'ebenfalls', 'ebenso', 'eher', 'eigenen', 'eigenes', 'eigentlich', 'ein', 'eine', 'einem', 'einen', 'einer', 'einerseits', 'eines', 'einfach', 'einführen', 'einführte', 'einführten', 'eingesetzt', 'einig', 'einige', 'einigem', 'einigen', 'einiger', 'einigermaßen', 'einiges', 'einmal', 'eins', 'einseitig', 'einseitige', 'einseitigen', 'einseitiger', 'einst', 'einstmals', 'einzig', 'entsprechend', 'entweder', 'er', 'erst', 'es', 'etc', 'etliche', 'etwa', 'etwas', 'euch', 'euer', 'eure', 'eurem', 'euren', 'eurer', 'eures', 'falls', 'fast', 'ferner', 'folgende', 'folgenden', 'folgender', 'folgendes', 'folglich', 'fuer', 'für', 'gab', 'ganze', 'ganzem', 'ganzen', 'ganzer', 'ganzes', 'gar', 'gegen', 'gemäss', 'ggf', 'gleich', 'gleichwohl', 'gleichzeitig', 'glücklicherweise', 'gänzlich', 'hab', 'habe', 'haben', 'haette', 'hast', 'hat', 'hatte', 'hatten', 'hattest', 'hattet', 'heraus', 'herein', 'hier', 'hier', 'hinter', 'hiermit', 'hiesige', 'hin', 'hinein', 'hinten', 'hinter', 'hinterher', 'http', 'hätt', 'hätte', 'hätten', 'höchstens', 'ich', 'igitt', 'ihm', 'ihn', 'ihnen', 'ihr', 'ihre', 'ihrem', 'ihren', 'ihrer', 'ihres', 'im', 'immer', 'immerhin', 'in', 'indem', 'indessen', 'infolge', 'innen', 'innerhalb', 'ins', 'insofern', 'inzwischen', 'irgend', 'irgendeine', 'irgendwas', 'irgendwen', 'irgendwer', 'irgendwie', 'irgendwo', 'ist', 'ja', 'je', 'jed', 'jede', 'jedem', 'jeden', 'jedenfalls', 'jeder', 'jederlei', 'jedes', 'jedoch', 'jemand', 'jene', 'jenem', 'jenen', 'jener', 'jenes', 'jenseits', 'jetzt', 'jährig', 'jährige', 'jährigen', 'jähriges', 'kam', 'kann', 'kannst', 'kaum', 'kein', 'keine', 'keinem', 'keinen', 'keiner', 'keinerlei', 'keines', 'keineswegs', 'klar', 'klare', 'klaren', 'klares', 'klein', 'kleinen', 'kleiner', 'kleines', 'koennen', 'koennt', 'koennte', 'koennten', 'komme', 'kommen', 'kommt', 'konkret', 'konkrete', 'konkreten', 'konkreter', 'konkretes', 'können', 'könnt', 'künftig', 'leider', 'machen', 'man', 'manche', 'manchem', 'manchen', 'mancher', 'mancherorts', 'manches', 'manchmal', 'mehr', 'mehrere', 'mein', 'meine', 'meinem', 'meinen', 'meiner', 'meines', 'mich', 'mir', 'mit', 'mithin', 'muessen', 'muesst', 'muesste', 'muss', 'musst', 'musste', 'mussten', 'muß', 'mußt', 'müssen', 'müsste', 'müssten', 'müßt', 'müßte', 'nach', 'nachdem', 'nachher', 'nachhinein', 'nahm', 'natürlich', 'neben', 'nebenan', 'nehmen', 'nein', 'nicht', 'nichts', 'nie', 'niemals', 'niemand', 'nirgends', 'nirgendwo', 'noch', 'nun', 'nur', 'nächste', 'nämlich', 'nötigenfalls', 'ob', 'oben', 'oberhalb', 'obgleich', 'obschon', 'obwohl', 'oder', 'oft', 'per', 'plötzlich', 'schließlich', 'schon', 'sehr', 'sehrwohl', 'seid', 'sein', 'seine', 'seinem', 'seinen', 'seiner', 'seines', 'seit', 'seitdem', 'seither', 'selber', 'selbst', 'sich', 'sicher', 'sicherlich', 'sie', 'sind', 'so', 'sobald', 'sodass', 'sodaß', 'soeben', 'sofern', 'sofort', 'sogar', 'solange', 'solch', 'solche', 'solchem', 'solchen', 'solcher', 'solches', 'soll', 'sollen', 'sollst', 'sollt', 'sollte', 'sollten', 'solltest', 'somit', 'sondern', 'sonst', 'sonstwo', 'sooft', 'soviel', 'soweit', 'sowie', 'sowohl', 'tatsächlich', 'tatsächlichen', 'tatsächlicher', 'tatsächliches', 'trotzdem', 'ueber', 'um', 'umso', 'unbedingt', 'und', 'unmöglich', 'unmögliche', 'unmöglichen', 'unmöglicher', 'uns', 'unser', 'unser', 'unsere', 'unsere', 'unserem', 'unseren', 'unserer', 'unseres', 'unter', 'usw', 'viel', 'viele', 'vielen', 'vieler', 'vieles', 'vielleicht', 'vielmals', 'vom', 'von', 'vor', 'voran', 'vorher', 'vorüber', 'völlig', 'wann', 'war', 'waren', 'warst', 'warum', 'was', 'weder', 'weil', 'weiter', 'weitere', 'weiterem', 'weiteren', 'weiterer', 'weiteres', 'weiterhin', 'weiß', 'welche', 'welchem', 'welchen', 'welcher', 'welches', 'wem', 'wen', 'wenig', 'wenige', 'weniger', 'wenigstens', 'wenn', 'wenngleich', 'wer', 'werde', 'werden', 'werdet', 'weshalb', 'wessen', 'wichtig', 'wie', 'wieder', 'wieso', 'wieviel', 'wiewohl', 'will', 'willst', 'wir', 'wird', 'wirklich', 'wirst', 'wo', 'wodurch', 'wogegen', 'woher', 'wohin', 'wohingegen', 'wohl', 'wohlweislich', 'womit', 'woraufhin', 'woraus', 'worin', 'wurde', 'wurden', 'während', 'währenddessen', 'wär', 'wäre', 'wären', 'würde', 'würden', 'z.B.', 'zB', 'zahlreich', 'zeitweise', 'zu', 'zudem', 'zuerst', 'zufolge', 'zugleich', 'zuletzt', 'zum', 'zumal', 'zur', 'zurück', 'zusammen', 'zuviel', 'zwar', 'zwischen', 'ähnlich', 'übel', 'über', 'überall', 'überallhin', 'überdies', 'übermorgen', 'übrig', 'übrigens']\n"
     ]
    }
   ],
   "source": [
    "print(stop_words)"
   ]
  },
  {
   "cell_type": "code",
   "execution_count": 6,
   "id": "11074738",
   "metadata": {},
   "outputs": [],
   "source": [
    "# append words to stopwords that contain no information\n",
    "stop_words += ['wegen', 'melden', 'meldet', 'können', 'könnte', 'könnten', 'update', 'neu', 'neue', 'neues', 'ohne', 'letzte', 'letzter',\n",
    "                  'letztes', 'eins', 'zwei', 'drei', 'vier', 'fünf', 'sechs', 'sieben', 'acht', 'neun', 'zehn',\n",
    "                   'gehen', 'geht', 'wollen', 'wollte', 'wollt', 'jahr', 'jahre', 'fordern', 'fordert',\n",
    "                  'warnen', 'warnt', 'frühjahr', 'frühling', 'sommer', 'herbst', 'winter', 'erneut', 'deutlich', 'schwer', 'jahren', 'woche',\n",
    "                  'wochen', 'monat', 'monate', 'tag', 'tage', 'stunden', 'stunde', 'minuten', 'minuten', 'ende', 'beenden', 'endet']"
   ]
  },
  {
   "cell_type": "markdown",
   "id": "a12c363c",
   "metadata": {},
   "source": [
    "## Extract features from 'title' "
   ]
  },
  {
   "cell_type": "code",
   "execution_count": 7,
   "id": "4a3ab422",
   "metadata": {},
   "outputs": [
    {
     "data": {
      "text/html": [
       "<div>\n",
       "<style scoped>\n",
       "    .dataframe tbody tr th:only-of-type {\n",
       "        vertical-align: middle;\n",
       "    }\n",
       "\n",
       "    .dataframe tbody tr th {\n",
       "        vertical-align: top;\n",
       "    }\n",
       "\n",
       "    .dataframe thead th {\n",
       "        text-align: right;\n",
       "    }\n",
       "</style>\n",
       "<table border=\"1\" class=\"dataframe\">\n",
       "  <thead>\n",
       "    <tr style=\"text-align: right;\">\n",
       "      <th></th>\n",
       "      <th>date</th>\n",
       "      <th>title</th>\n",
       "      <th>description</th>\n",
       "      <th>category</th>\n",
       "      <th>text</th>\n",
       "      <th>source</th>\n",
       "      <th>title_description_text</th>\n",
       "      <th>title_cleaned</th>\n",
       "      <th>title_description_text_cleaned</th>\n",
       "    </tr>\n",
       "  </thead>\n",
       "  <tbody>\n",
       "    <tr>\n",
       "      <th>39381</th>\n",
       "      <td>2023-02-16 15:30:15</td>\n",
       "      <td>Champions League</td>\n",
       "      <td>Liveticker und Highlightvideos</td>\n",
       "      <td>Missing</td>\n",
       "      <td>NaN</td>\n",
       "      <td>ZDF heute</td>\n",
       "      <td>Champions League - Liveticker und Highlightvid...</td>\n",
       "      <td>NaN</td>\n",
       "      <td>Champion Liveticker Highlightvideos</td>\n",
       "    </tr>\n",
       "    <tr>\n",
       "      <th>66356</th>\n",
       "      <td>2023-09-21 00:30:05</td>\n",
       "      <td>Champions League</td>\n",
       "      <td>Die wichtigsten Spiele im Video.</td>\n",
       "      <td>Missing</td>\n",
       "      <td>NaN</td>\n",
       "      <td>ZDF heute</td>\n",
       "      <td>Champions League - Die wichtigsten Spiele im V...</td>\n",
       "      <td>NaN</td>\n",
       "      <td>wichtig Spiel Video</td>\n",
       "    </tr>\n",
       "  </tbody>\n",
       "</table>\n",
       "</div>"
      ],
      "text/plain": [
       "                      date             title  \\\n",
       "39381  2023-02-16 15:30:15  Champions League   \n",
       "66356  2023-09-21 00:30:05  Champions League   \n",
       "\n",
       "                            description category  text     source  \\\n",
       "39381    Liveticker und Highlightvideos  Missing   NaN  ZDF heute   \n",
       "66356  Die wichtigsten Spiele im Video.  Missing   NaN  ZDF heute   \n",
       "\n",
       "                                  title_description_text title_cleaned  \\\n",
       "39381  Champions League - Liveticker und Highlightvid...           NaN   \n",
       "66356  Champions League - Die wichtigsten Spiele im V...           NaN   \n",
       "\n",
       "            title_description_text_cleaned  \n",
       "39381  Champion Liveticker Highlightvideos  \n",
       "66356                  wichtig Spiel Video  "
      ]
     },
     "execution_count": 7,
     "metadata": {},
     "output_type": "execute_result"
    }
   ],
   "source": [
    "train[train['title_cleaned'].isnull()]"
   ]
  },
  {
   "cell_type": "code",
   "execution_count": 8,
   "id": "695bac5b",
   "metadata": {},
   "outputs": [],
   "source": [
    "# TODO workaround for missing title_cleaned -> TODO Solve this in NLP preprocessing!\n",
    "train['title_cleaned'] = train['title_cleaned'].fillna(train['title'].apply(lambda x: x.lower()))"
   ]
  },
  {
   "cell_type": "code",
   "execution_count": 9,
   "id": "42ca946f",
   "metadata": {},
   "outputs": [
    {
     "data": {
      "text/html": [
       "<div>\n",
       "<style scoped>\n",
       "    .dataframe tbody tr th:only-of-type {\n",
       "        vertical-align: middle;\n",
       "    }\n",
       "\n",
       "    .dataframe tbody tr th {\n",
       "        vertical-align: top;\n",
       "    }\n",
       "\n",
       "    .dataframe thead th {\n",
       "        text-align: right;\n",
       "    }\n",
       "</style>\n",
       "<table border=\"1\" class=\"dataframe\">\n",
       "  <thead>\n",
       "    <tr style=\"text-align: right;\">\n",
       "      <th></th>\n",
       "      <th>date</th>\n",
       "      <th>title</th>\n",
       "      <th>description</th>\n",
       "      <th>category</th>\n",
       "      <th>text</th>\n",
       "      <th>source</th>\n",
       "      <th>title_description_text</th>\n",
       "      <th>title_cleaned</th>\n",
       "      <th>title_description_text_cleaned</th>\n",
       "    </tr>\n",
       "  </thead>\n",
       "  <tbody>\n",
       "  </tbody>\n",
       "</table>\n",
       "</div>"
      ],
      "text/plain": [
       "Empty DataFrame\n",
       "Columns: [date, title, description, category, text, source, title_description_text, title_cleaned, title_description_text_cleaned]\n",
       "Index: []"
      ]
     },
     "execution_count": 9,
     "metadata": {},
     "output_type": "execute_result"
    }
   ],
   "source": [
    "train[train['title_cleaned'].isnull()]"
   ]
  },
  {
   "cell_type": "code",
   "execution_count": 10,
   "id": "cd42c0db",
   "metadata": {},
   "outputs": [],
   "source": [
    "from sklearn.feature_extraction.text import CountVectorizer"
   ]
  },
  {
   "cell_type": "code",
   "execution_count": 11,
   "id": "38ab615c",
   "metadata": {},
   "outputs": [],
   "source": [
    "cv = CountVectorizer(max_df=0.95, min_df=2, stop_words=stop_words)"
   ]
  },
  {
   "cell_type": "code",
   "execution_count": 12,
   "id": "a628f0d2",
   "metadata": {},
   "outputs": [
    {
     "name": "stderr",
     "output_type": "stream",
     "text": [
      "C:\\Users\\manuela.rink\\anaconda3\\envs\\nlp\\Lib\\site-packages\\sklearn\\feature_extraction\\text.py:409: UserWarning: Your stop_words may be inconsistent with your preprocessing. Tokenizing the stop words generated tokens ['bsp', 'zb'] not in stop_words.\n",
      "  warnings.warn(\n"
     ]
    }
   ],
   "source": [
    "# create Document-Term-Matrix\n",
    "dtm = cv.fit_transform(train['title_cleaned'])"
   ]
  },
  {
   "cell_type": "code",
   "execution_count": 13,
   "id": "faba69b8",
   "metadata": {},
   "outputs": [
    {
     "data": {
      "text/plain": [
       "<67513x21412 sparse matrix of type '<class 'numpy.int64'>'\n",
       "\twith 330205 stored elements in Compressed Sparse Row format>"
      ]
     },
     "execution_count": 13,
     "metadata": {},
     "output_type": "execute_result"
    }
   ],
   "source": [
    "dtm"
   ]
  },
  {
   "cell_type": "code",
   "execution_count": 14,
   "id": "3f48b861",
   "metadata": {},
   "outputs": [],
   "source": [
    "from sklearn.decomposition import LatentDirichletAllocation"
   ]
  },
  {
   "cell_type": "code",
   "execution_count": 15,
   "id": "fdf60b9b",
   "metadata": {},
   "outputs": [
    {
     "data": {
      "text/html": [
       "<style>#sk-container-id-1 {color: black;background-color: white;}#sk-container-id-1 pre{padding: 0;}#sk-container-id-1 div.sk-toggleable {background-color: white;}#sk-container-id-1 label.sk-toggleable__label {cursor: pointer;display: block;width: 100%;margin-bottom: 0;padding: 0.3em;box-sizing: border-box;text-align: center;}#sk-container-id-1 label.sk-toggleable__label-arrow:before {content: \"▸\";float: left;margin-right: 0.25em;color: #696969;}#sk-container-id-1 label.sk-toggleable__label-arrow:hover:before {color: black;}#sk-container-id-1 div.sk-estimator:hover label.sk-toggleable__label-arrow:before {color: black;}#sk-container-id-1 div.sk-toggleable__content {max-height: 0;max-width: 0;overflow: hidden;text-align: left;background-color: #f0f8ff;}#sk-container-id-1 div.sk-toggleable__content pre {margin: 0.2em;color: black;border-radius: 0.25em;background-color: #f0f8ff;}#sk-container-id-1 input.sk-toggleable__control:checked~div.sk-toggleable__content {max-height: 200px;max-width: 100%;overflow: auto;}#sk-container-id-1 input.sk-toggleable__control:checked~label.sk-toggleable__label-arrow:before {content: \"▾\";}#sk-container-id-1 div.sk-estimator input.sk-toggleable__control:checked~label.sk-toggleable__label {background-color: #d4ebff;}#sk-container-id-1 div.sk-label input.sk-toggleable__control:checked~label.sk-toggleable__label {background-color: #d4ebff;}#sk-container-id-1 input.sk-hidden--visually {border: 0;clip: rect(1px 1px 1px 1px);clip: rect(1px, 1px, 1px, 1px);height: 1px;margin: -1px;overflow: hidden;padding: 0;position: absolute;width: 1px;}#sk-container-id-1 div.sk-estimator {font-family: monospace;background-color: #f0f8ff;border: 1px dotted black;border-radius: 0.25em;box-sizing: border-box;margin-bottom: 0.5em;}#sk-container-id-1 div.sk-estimator:hover {background-color: #d4ebff;}#sk-container-id-1 div.sk-parallel-item::after {content: \"\";width: 100%;border-bottom: 1px solid gray;flex-grow: 1;}#sk-container-id-1 div.sk-label:hover label.sk-toggleable__label {background-color: #d4ebff;}#sk-container-id-1 div.sk-serial::before {content: \"\";position: absolute;border-left: 1px solid gray;box-sizing: border-box;top: 0;bottom: 0;left: 50%;z-index: 0;}#sk-container-id-1 div.sk-serial {display: flex;flex-direction: column;align-items: center;background-color: white;padding-right: 0.2em;padding-left: 0.2em;position: relative;}#sk-container-id-1 div.sk-item {position: relative;z-index: 1;}#sk-container-id-1 div.sk-parallel {display: flex;align-items: stretch;justify-content: center;background-color: white;position: relative;}#sk-container-id-1 div.sk-item::before, #sk-container-id-1 div.sk-parallel-item::before {content: \"\";position: absolute;border-left: 1px solid gray;box-sizing: border-box;top: 0;bottom: 0;left: 50%;z-index: -1;}#sk-container-id-1 div.sk-parallel-item {display: flex;flex-direction: column;z-index: 1;position: relative;background-color: white;}#sk-container-id-1 div.sk-parallel-item:first-child::after {align-self: flex-end;width: 50%;}#sk-container-id-1 div.sk-parallel-item:last-child::after {align-self: flex-start;width: 50%;}#sk-container-id-1 div.sk-parallel-item:only-child::after {width: 0;}#sk-container-id-1 div.sk-dashed-wrapped {border: 1px dashed gray;margin: 0 0.4em 0.5em 0.4em;box-sizing: border-box;padding-bottom: 0.4em;background-color: white;}#sk-container-id-1 div.sk-label label {font-family: monospace;font-weight: bold;display: inline-block;line-height: 1.2em;}#sk-container-id-1 div.sk-label-container {text-align: center;}#sk-container-id-1 div.sk-container {/* jupyter's `normalize.less` sets `[hidden] { display: none; }` but bootstrap.min.css set `[hidden] { display: none !important; }` so we also need the `!important` here to be able to override the default hidden behavior on the sphinx rendered scikit-learn.org. See: https://github.com/scikit-learn/scikit-learn/issues/21755 */display: inline-block !important;position: relative;}#sk-container-id-1 div.sk-text-repr-fallback {display: none;}</style><div id=\"sk-container-id-1\" class=\"sk-top-container\"><div class=\"sk-text-repr-fallback\"><pre>LatentDirichletAllocation(n_components=6, random_state=42)</pre><b>In a Jupyter environment, please rerun this cell to show the HTML representation or trust the notebook. <br />On GitHub, the HTML representation is unable to render, please try loading this page with nbviewer.org.</b></div><div class=\"sk-container\" hidden><div class=\"sk-item\"><div class=\"sk-estimator sk-toggleable\"><input class=\"sk-toggleable__control sk-hidden--visually\" id=\"sk-estimator-id-1\" type=\"checkbox\" checked><label for=\"sk-estimator-id-1\" class=\"sk-toggleable__label sk-toggleable__label-arrow\">LatentDirichletAllocation</label><div class=\"sk-toggleable__content\"><pre>LatentDirichletAllocation(n_components=6, random_state=42)</pre></div></div></div></div></div>"
      ],
      "text/plain": [
       "LatentDirichletAllocation(n_components=6, random_state=42)"
      ]
     },
     "execution_count": 15,
     "metadata": {},
     "output_type": "execute_result"
    }
   ],
   "source": [
    "lda = LatentDirichletAllocation(n_components=6, random_state=42)\n",
    "lda.fit(dtm)"
   ]
  },
  {
   "cell_type": "markdown",
   "id": "a2f3296f",
   "metadata": {},
   "source": [
    "## Analyse extracted features"
   ]
  },
  {
   "cell_type": "code",
   "execution_count": 16,
   "id": "44c85ba2",
   "metadata": {},
   "outputs": [
    {
     "data": {
      "text/plain": [
       "21412"
      ]
     },
     "execution_count": 16,
     "metadata": {},
     "output_type": "execute_result"
    }
   ],
   "source": [
    "len(cv.get_feature_names_out())"
   ]
  },
  {
   "cell_type": "code",
   "execution_count": 17,
   "id": "79a3b48a",
   "metadata": {},
   "outputs": [
    {
     "data": {
      "text/plain": [
       "array(['000', '034', '039', ..., 'войны', 'российские', 'украинцы'],\n",
       "      dtype=object)"
      ]
     },
     "execution_count": 17,
     "metadata": {},
     "output_type": "execute_result"
    }
   ],
   "source": [
    "cv.get_feature_names_out()"
   ]
  },
  {
   "cell_type": "code",
   "execution_count": 18,
   "id": "6d276a41",
   "metadata": {},
   "outputs": [
    {
     "data": {
      "text/plain": [
       "6"
      ]
     },
     "execution_count": 18,
     "metadata": {},
     "output_type": "execute_result"
    }
   ],
   "source": [
    "len(lda.components_)"
   ]
  },
  {
   "cell_type": "code",
   "execution_count": 19,
   "id": "be61548c",
   "metadata": {},
   "outputs": [
    {
     "data": {
      "text/plain": [
       "array([[ 1.33150739, 16.87201671,  6.54814522, ...,  0.16666854,\n",
       "         0.16666854,  0.16667097],\n",
       "       [ 2.91656852,  5.13646195,  0.16790719, ...,  2.16665603,\n",
       "         2.16665603,  0.16667174],\n",
       "       [12.2518729 ,  8.9610429 , 29.85138169, ...,  0.16666872,\n",
       "         0.16666872,  0.16667137],\n",
       "       [ 0.16666822, 33.27981301,  4.70423329, ...,  0.16666891,\n",
       "         0.16666891,  0.16667181],\n",
       "       [ 0.16671478, 19.02249721, 15.56146644, ...,  0.16666894,\n",
       "         0.16666894,  2.16664244],\n",
       "       [ 0.16666819,  6.72816821,  0.16686616, ...,  0.16666886,\n",
       "         0.16666886,  0.16667169]])"
      ]
     },
     "execution_count": 19,
     "metadata": {},
     "output_type": "execute_result"
    }
   ],
   "source": [
    "lda.components_"
   ]
  },
  {
   "cell_type": "code",
   "execution_count": 20,
   "id": "45a65bd8",
   "metadata": {},
   "outputs": [
    {
     "data": {
      "text/plain": [
       "21412"
      ]
     },
     "execution_count": 20,
     "metadata": {},
     "output_type": "execute_result"
    }
   ],
   "source": [
    "len(lda.components_[0])"
   ]
  },
  {
   "cell_type": "markdown",
   "id": "9e30cf34",
   "metadata": {},
   "source": [
    "### Show most important words of first extracted topic"
   ]
  },
  {
   "cell_type": "code",
   "execution_count": 21,
   "id": "c617b9e0",
   "metadata": {},
   "outputs": [],
   "source": [
    "first_topic = lda.components_[0]"
   ]
  },
  {
   "cell_type": "code",
   "execution_count": 22,
   "id": "258f618e",
   "metadata": {},
   "outputs": [
    {
     "data": {
      "text/plain": [
       "array([ 3800, 19585, 20969, ..., 15087, 10150, 18325], dtype=int64)"
      ]
     },
     "execution_count": 22,
     "metadata": {},
     "output_type": "execute_result"
    }
   ],
   "source": [
    "first_topic.argsort() # returns indices of ascending sorted array values "
   ]
  },
  {
   "cell_type": "code",
   "execution_count": 23,
   "id": "5966880a",
   "metadata": {},
   "outputs": [],
   "source": [
    "# the last 10 entries are the 10 most important words for topic 1\n",
    "top_words_indices = first_topic.argsort()[-10:]"
   ]
  },
  {
   "cell_type": "code",
   "execution_count": 24,
   "id": "11648839",
   "metadata": {},
   "outputs": [
    {
     "name": "stdout",
     "output_type": "stream",
     "text": [
      "liveblog\n",
      "selenskyj\n",
      "kiew\n",
      "angriff\n",
      "lage\n",
      "putin\n",
      "russland\n",
      "russisch\n",
      "krieg\n",
      "ukraine\n"
     ]
    }
   ],
   "source": [
    "for index in top_words_indices:\n",
    "    print(cv.get_feature_names_out()[index])"
   ]
  },
  {
   "cell_type": "markdown",
   "id": "0d661247",
   "metadata": {},
   "source": [
    "### Show most important words of first extracted topic"
   ]
  },
  {
   "cell_type": "code",
   "execution_count": 25,
   "id": "f789d8f2",
   "metadata": {},
   "outputs": [
    {
     "name": "stdout",
     "output_type": "stream",
     "text": [
      "Die TOP-15 Wörter für das Thema #0\n",
      "['moskau', 'chef', 'stimme', 'invasion', 'ukrainisch', 'liveblog', 'selenskyj', 'kiew', 'angriff', 'lage', 'putin', 'russland', 'russisch', 'krieg', 'ukraine']\n",
      "\n",
      "\n",
      "Die TOP-15 Wörter für das Thema #1\n",
      "['milliarde', 'panzer', 'kritik', 'faeser', 'land', 'spd', 'fdp', 'wahrheit', 'lindner', 'habeck', 'streit', 'eu', 'regierung', 'euro', 'ampel']\n",
      "\n",
      "\n",
      "Die TOP-15 Wörter für das Thema #2\n",
      "['million', 'eu', 'welt', 'taiwan', 'groß', 'analyse', 'marktbericht', 'wm', 'biden', 'usa', 'berlin', 'scholz', 'us', 'deutschland', 'china']\n",
      "\n",
      "\n",
      "Die TOP-15 Wörter für das Thema #3\n",
      "['brauchen', 'partei', 'groß', 'deutschland', 'g7', 'afd', 'türkei', 'klima', 'frankreich', 'gipfel', 'russland', 'wahl', 'israel', 'putin', 'deutsch']\n",
      "\n",
      "\n",
      "Die TOP-15 Wörter für das Thema #4\n",
      "['europa', 'protest', 'mann', 'gas', 'union', 'sanktion', 'cdu', 'gastbeitrag', 'grüne', 'bundesliga', 'tote', 'frau', 'iran', 'bayern', 'eu']\n",
      "\n",
      "\n",
      "Die TOP-15 Wörter für das Thema #5\n",
      "['erwarten', 'steigen', 'mensch', 'news', 'deutsch', 'preis', 'hoch', 'kind', 'inflation', 'us', 'pandemie', 'lauterbach', 'deutschland', 'trump', 'corona']\n",
      "\n",
      "\n"
     ]
    }
   ],
   "source": [
    "for index, topic in enumerate(lda.components_):\n",
    "    print(f'Die TOP-15 Wörter für das Thema #{index}')\n",
    "    print([cv.get_feature_names_out()[i] for i in topic.argsort()[-15:]])\n",
    "    print('\\n')"
   ]
  },
  {
   "cell_type": "markdown",
   "id": "a0973fc9",
   "metadata": {},
   "source": [
    "### Get topics with highest probability for news items in train data"
   ]
  },
  {
   "cell_type": "code",
   "execution_count": 26,
   "id": "0f46f47f",
   "metadata": {},
   "outputs": [
    {
     "data": {
      "text/plain": [
       "(67513, 6)"
      ]
     },
     "execution_count": 26,
     "metadata": {},
     "output_type": "execute_result"
    }
   ],
   "source": [
    "topic_results = lda.transform(dtm)\n",
    "topic_results.shape"
   ]
  },
  {
   "cell_type": "code",
   "execution_count": 27,
   "id": "823c7020",
   "metadata": {},
   "outputs": [
    {
     "data": {
      "text/plain": [
       "array([0.02086, 0.25029, 0.0209 , 0.29752, 0.24661, 0.16382])"
      ]
     },
     "execution_count": 27,
     "metadata": {},
     "output_type": "execute_result"
    }
   ],
   "source": [
    "topic_results[0].round(5)"
   ]
  },
  {
   "cell_type": "code",
   "execution_count": 28,
   "id": "f68cacd0",
   "metadata": {},
   "outputs": [
    {
     "data": {
      "text/plain": [
       "3"
      ]
     },
     "execution_count": 28,
     "metadata": {},
     "output_type": "execute_result"
    }
   ],
   "source": [
    "topic_results[0].argmax()"
   ]
  },
  {
   "cell_type": "code",
   "execution_count": 29,
   "id": "6e11fb89",
   "metadata": {},
   "outputs": [],
   "source": [
    "# save topic to train dataset\n",
    "train['topic'] = topic_results.argmax(axis=1)"
   ]
  },
  {
   "cell_type": "code",
   "execution_count": 30,
   "id": "7eb2c522",
   "metadata": {},
   "outputs": [
    {
     "data": {
      "text/html": [
       "<div>\n",
       "<style scoped>\n",
       "    .dataframe tbody tr th:only-of-type {\n",
       "        vertical-align: middle;\n",
       "    }\n",
       "\n",
       "    .dataframe tbody tr th {\n",
       "        vertical-align: top;\n",
       "    }\n",
       "\n",
       "    .dataframe thead th {\n",
       "        text-align: right;\n",
       "    }\n",
       "</style>\n",
       "<table border=\"1\" class=\"dataframe\">\n",
       "  <thead>\n",
       "    <tr style=\"text-align: right;\">\n",
       "      <th></th>\n",
       "      <th>date</th>\n",
       "      <th>title</th>\n",
       "      <th>description</th>\n",
       "      <th>category</th>\n",
       "      <th>text</th>\n",
       "      <th>source</th>\n",
       "      <th>title_description_text</th>\n",
       "      <th>title_cleaned</th>\n",
       "      <th>title_description_text_cleaned</th>\n",
       "      <th>topic</th>\n",
       "    </tr>\n",
       "  </thead>\n",
       "  <tbody>\n",
       "    <tr>\n",
       "      <th>0</th>\n",
       "      <td>2022-06-01 00:13:42</td>\n",
       "      <td>Preise: Grüne halten Senkung der Spritsteuer f...</td>\n",
       "      <td>Heute tritt die Steuersenkung auf Kraftstoffe ...</td>\n",
       "      <td>Other</td>\n",
       "      <td>NaN</td>\n",
       "      <td>stern</td>\n",
       "      <td>Preise: Grüne halten Senkung der Spritsteuer f...</td>\n",
       "      <td>Preis grüne halten Senkung Spritsteuer falsch ...</td>\n",
       "      <td>Preis grüne halten Senkung Spritsteuer falsch ...</td>\n",
       "      <td>3</td>\n",
       "    </tr>\n",
       "    <tr>\n",
       "      <th>1</th>\n",
       "      <td>2022-06-01 01:55:03</td>\n",
       "      <td>Biden warnt Putin: USA liefern moderne Raketen...</td>\n",
       "      <td>Die USA rüsten die Ukraine mit fortschrittlich...</td>\n",
       "      <td>Other</td>\n",
       "      <td>NaN</td>\n",
       "      <td>stern</td>\n",
       "      <td>Biden warnt Putin: USA liefern moderne Raketen...</td>\n",
       "      <td>Biden warnen Putin USA liefern modern Raketens...</td>\n",
       "      <td>Biden warnen Putin USA liefern modern Raketens...</td>\n",
       "      <td>0</td>\n",
       "    </tr>\n",
       "    <tr>\n",
       "      <th>2</th>\n",
       "      <td>2022-06-01 02:04:08</td>\n",
       "      <td>Soziale Medien: FDP-Politiker Kuhle: Internet-...</td>\n",
       "      <td>Eine «ZDF Magazin Royale»-Recherche beschäftig...</td>\n",
       "      <td>Other</td>\n",
       "      <td>NaN</td>\n",
       "      <td>stern</td>\n",
       "      <td>Soziale Medien: FDP-Politiker Kuhle: Internet-...</td>\n",
       "      <td>sozial Medium FDP-Politiker Kuhle Internet-Str...</td>\n",
       "      <td>sozial Medium FDP-Politiker Kuhle Internet-Str...</td>\n",
       "      <td>1</td>\n",
       "    </tr>\n",
       "    <tr>\n",
       "      <th>3</th>\n",
       "      <td>2022-06-01 02:26:58</td>\n",
       "      <td>Liveblog: ++ Zwei von drei ukrainischen Kinder...</td>\n",
       "      <td>Rund zwei von drei Mädchen und Jungen in der U...</td>\n",
       "      <td>Missing</td>\n",
       "      <td>NaN</td>\n",
       "      <td>Tagesschau</td>\n",
       "      <td>Liveblog: ++ Zwei von drei ukrainischen Kinder...</td>\n",
       "      <td>Liveblog ukrainisch Kind vertreiben</td>\n",
       "      <td>Liveblog ukrainisch Kind vertreiben rund Mädch...</td>\n",
       "      <td>0</td>\n",
       "    </tr>\n",
       "    <tr>\n",
       "      <th>4</th>\n",
       "      <td>2022-06-01 02:31:43</td>\n",
       "      <td>Finanzen: Dänemark stimmt über EU-Verteidigung...</td>\n",
       "      <td>Vorbehalt verteidigen oder Verteidigung ohne V...</td>\n",
       "      <td>Other</td>\n",
       "      <td>NaN</td>\n",
       "      <td>stern</td>\n",
       "      <td>Finanzen: Dänemark stimmt über EU-Verteidigung...</td>\n",
       "      <td>Finanz Dänemark stimmen EU-Verteidigungsvorbehalt</td>\n",
       "      <td>Finanz Dänemark stimmen EU-Verteidigungsvorbeh...</td>\n",
       "      <td>1</td>\n",
       "    </tr>\n",
       "  </tbody>\n",
       "</table>\n",
       "</div>"
      ],
      "text/plain": [
       "                  date                                              title  \\\n",
       "0  2022-06-01 00:13:42  Preise: Grüne halten Senkung der Spritsteuer f...   \n",
       "1  2022-06-01 01:55:03  Biden warnt Putin: USA liefern moderne Raketen...   \n",
       "2  2022-06-01 02:04:08  Soziale Medien: FDP-Politiker Kuhle: Internet-...   \n",
       "3  2022-06-01 02:26:58  Liveblog: ++ Zwei von drei ukrainischen Kinder...   \n",
       "4  2022-06-01 02:31:43  Finanzen: Dänemark stimmt über EU-Verteidigung...   \n",
       "\n",
       "                                         description category  text  \\\n",
       "0  Heute tritt die Steuersenkung auf Kraftstoffe ...    Other   NaN   \n",
       "1  Die USA rüsten die Ukraine mit fortschrittlich...    Other   NaN   \n",
       "2  Eine «ZDF Magazin Royale»-Recherche beschäftig...    Other   NaN   \n",
       "3  Rund zwei von drei Mädchen und Jungen in der U...  Missing   NaN   \n",
       "4  Vorbehalt verteidigen oder Verteidigung ohne V...    Other   NaN   \n",
       "\n",
       "       source                             title_description_text  \\\n",
       "0       stern  Preise: Grüne halten Senkung der Spritsteuer f...   \n",
       "1       stern  Biden warnt Putin: USA liefern moderne Raketen...   \n",
       "2       stern  Soziale Medien: FDP-Politiker Kuhle: Internet-...   \n",
       "3  Tagesschau  Liveblog: ++ Zwei von drei ukrainischen Kinder...   \n",
       "4       stern  Finanzen: Dänemark stimmt über EU-Verteidigung...   \n",
       "\n",
       "                                       title_cleaned  \\\n",
       "0  Preis grüne halten Senkung Spritsteuer falsch ...   \n",
       "1  Biden warnen Putin USA liefern modern Raketens...   \n",
       "2  sozial Medium FDP-Politiker Kuhle Internet-Str...   \n",
       "3                Liveblog ukrainisch Kind vertreiben   \n",
       "4  Finanz Dänemark stimmen EU-Verteidigungsvorbehalt   \n",
       "\n",
       "                      title_description_text_cleaned  topic  \n",
       "0  Preis grüne halten Senkung Spritsteuer falsch ...      3  \n",
       "1  Biden warnen Putin USA liefern modern Raketens...      0  \n",
       "2  sozial Medium FDP-Politiker Kuhle Internet-Str...      1  \n",
       "3  Liveblog ukrainisch Kind vertreiben rund Mädch...      0  \n",
       "4  Finanz Dänemark stimmen EU-Verteidigungsvorbeh...      1  "
      ]
     },
     "execution_count": 30,
     "metadata": {},
     "output_type": "execute_result"
    }
   ],
   "source": [
    "train.head()"
   ]
  },
  {
   "cell_type": "markdown",
   "id": "a0751e64",
   "metadata": {},
   "source": [
    "## Visualize model"
   ]
  },
  {
   "cell_type": "code",
   "execution_count": 31,
   "id": "39e7a68b",
   "metadata": {},
   "outputs": [
    {
     "data": {
      "text/html": [
       "\n",
       "<link rel=\"stylesheet\" type=\"text/css\" href=\"https://cdn.jsdelivr.net/gh/bmabey/pyLDAvis@3.4.0/pyLDAvis/js/ldavis.v1.0.0.css\">\n",
       "\n",
       "\n",
       "<div id=\"ldavis_el475215045452670881456685578\" style=\"background-color:white;\"></div>\n",
       "<script type=\"text/javascript\">\n",
       "\n",
       "var ldavis_el475215045452670881456685578_data = {\"mdsDat\": {\"x\": [-83.28376007080078, -17.855073928833008, -58.26904296875, 22.107683181762695, -18.216829299926758, 47.030670166015625], \"y\": [44.359619140625, 91.50702667236328, -32.293758392333984, -32.15965270996094, 23.200260162353516, 44.16613006591797], \"topics\": [1, 2, 3, 4, 5, 6], \"cluster\": [1, 1, 1, 1, 1, 1], \"Freq\": [18.793371752422647, 17.134109506258905, 16.373832227942806, 16.102300242255634, 15.955264152352239, 15.64112211876777]}, \"tinfo\": {\"Term\": [\"ukraine\", \"krieg\", \"russisch\", \"corona\", \"russland\", \"putin\", \"china\", \"eu\", \"deutschland\", \"us\", \"lage\", \"regierung\", \"scholz\", \"trump\", \"ampel\", \"angriff\", \"kiew\", \"euro\", \"selenskyj\", \"bayern\", \"israel\", \"iran\", \"liveblog\", \"berlin\", \"gipfel\", \"bundesliga\", \"lauterbach\", \"pandemie\", \"lindner\", \"wahl\", \"ukraine\", \"krieg\", \"russisch\", \"lage\", \"angriff\", \"kiew\", \"selenskyj\", \"liveblog\", \"invasion\", \"stimme\", \"entwicklung\", \"wagner\", \"soldat\", \"ukrainisch\", \"morgen\", \"bachmut\", \"russe\", \"russischer\", \"krim\", \"truppe\", \"l\\u00fctzerath\", \"armee\", \"saporischschja\", \"kriegsverlauf\", \"front\", \"\\u00fcberblick\", \"prigoschin\", \"ukrainer\", \"updat\", \"offensive\", \"kampfjet\", \"russland\", \"nachricht\", \"putin\", \"waffe\", \"liefern\", \"moskau\", \"chef\", \"nato\", \"kreml\", \"explosion\", \"usa\", \"us\", \"weit\", \"kampf\", \"taiwan\", \"ulrich\", \"reitz\", \"em\", \"dax\", \"olaf\", \"versteher\", \"heizungsgesetz\", \"joe\", \"york\", \"anleger\", \"abtreibung\", \"olympia\", \"b\\u00f6rse\", \"pelosi\", \"ballon\", \"nawalny\", \"bundeskanzler\", \"m\\u00fcnchner\", \"sicherheitskonferenz\", \"reise\", \"leichtathletik\", \"fifa\", \"repr\\u00e4sentantenhaus\", \"j\\u00e4ger\", \"nachhaltig\", \"belgien\", \"messi\", \"halbfinal\", \"verabschieden\", \"welt\", \"positiv\", \"china\", \"zahlen\", \"analyse\", \"marktbericht\", \"wm\", \"antisemitismus\", \"scholz\", \"biden\", \"attentat\", \"berlin\", \"us\", \"deutschland\", \"katar\", \"auto\", \"spanien\", \"usa\", \"recht\", \"million\", \"besuch\", \"fu\\u00dfball\", \"gro\\u00df\", \"kanzler\", \"pr\\u00e4sident\", \"wahl\", \"sterben\", \"eu\", \"gut\", \"regierung\", \"lindner\", \"wahrheit\", \"panzer\", \"gro\\u00dfbritannien\", \"johnson\", \"bund\", \"koalition\", \"twitter\", \"boris\", \"lambrecht\", \"gr\\u00fcnen\", \"leopard\", \"ukrainekrieg\", \"musk\", \"nachfolge\", \"chefin\", \"pistorius\", \"wissing\", \"haushalt\", \"serbien\", \"kindergrundsicherung\", \"verbrenner\", \"kosovo\", \"kaufen\", \"truss\", \"entlastungspaket\", \"faeser\", \"brexit\", \"sunak\", \"christian\", \"milliarde\", \"kommune\", \"ampel\", \"ticket\", \"euro\", \"fdp\", \"streit\", \"bundesregierung\", \"\\u00f6sterreich\", \"druck\", \"debatte\", \"spd\", \"habeck\", \"minister\", \"kritik\", \"land\", \"britisch\", \"eu\", \"bundeswehr\", \"plan\", \"generation\", \"gr\\u00fcn\", \"lang\", \"cdu\", \"bleiben\", \"corona\", \"pandemie\", \"inflation\", \"preis\", \"news\", \"kirche\", \"schule\", \"donald\", \"lauterbach\", \"hitze\", \"kapitol\", \"wetter\", \"maskenpflicht\", \"rbb\", \"sturm\", \"street\", \"impfung\", \"inzidenz\", \"rki\", \"waldbrand\", \"wall\", \"waffenruhe\", \"tunesien\", \"lebensmittel\", \"missbrauch\", \"katholisch\", \"fragen\", \"post\", \"bolsonaro\", \"regen\", \"warnstreik\", \"sinken\", \"brand\", \"trump\", \"brasilien\", \"anklage\", \"kind\", \"hoch\", \"papst\", \"sudan\", \"afghanistan\", \"erwarten\", \"deutschland\", \"stark\", \"hilfe\", \"steigen\", \"us\", \"mensch\", \"deutsch\", \"pr\\u00e4sident\", \"krise\", \"bleiben\", \"china\", \"israel\", \"g7\", \"nord\", \"stream\", \"nordkorea\", \"erdogan\", \"gesellschaft\", \"parlamentswahl\", \"justizreform\", \"reichsb\\u00fcrger\", \"ki\", \"liebe\", \"pipeline\", \"kim\", \"intelligenz\", \"feuern\", \"mai\", \"tiktok\", \"bereit\", \"netanjahu\", \"stimmung\", \"s\\u00fcdkorea\", \"k\\u00fcnstliche\", \"gipfel\", \"vertrauen\", \"terminal\", \"elmau\", \"notstand\", \"g20\", \"s\\u00fcdafrika\", \"brauchen\", \"lufthansa\", \"nahost\", \"rentenreform\", \"klima\", \"podcast\", \"partei\", \"t\\u00fcrkei\", \"frankreich\", \"reaktion\", \"haft\", \"schweden\", \"wahl\", \"streik\", \"bahn\", \"deutsch\", \"afd\", \"italien\", \"macron\", \"queen\", \"putin\", \"tod\", \"russland\", \"gro\\u00df\", \"ex\", \"protest\", \"deutschland\", \"halten\", \"scholz\", \"nato\", \"baerbock\", \"bundesliga\", \"sanktion\", \"gastbeitrag\", \"gabor\", \"steingart\", \"leipzig\", \"erdbeben\", \"fc\", \"m\\u00fcller\", \"freiburg\", \"bvb\", \"hertha\", \"de\", \"schalke\", \"hugo\", \"vogg\", \"trainer\", \"economist\", \"stuttgart\", \"partnerportal\", \"leverkusen\", \"\\u00fcberschwemmung\", \"bayer\", \"tour\", \"aiwanger\", \"gladbach\", \"spieltag\", \"handball\", \"hartz\", \"mainz\", \"bayern\", \"iran\", \"denken\", \"vorbei\", \"csu\", \"gr\\u00fcne\", \"frau\", \"schlagen\", \"dfb\", \"eu\", \"tote\", \"mindestens\", \"cdu\", \"union\", \"unfall\", \"s\\u00f6der\", \"sieg\", \"gas\", \"europa\", \"mann\", \"protest\", \"verletzter\", \"mensch\", \"kommentar\", \"leben\", \"habeck\", \"fu\\u00dfball\", \"berlin\"], \"Freq\": [4537.0, 2629.0, 1381.0, 1141.0, 1762.0, 1738.0, 1173.0, 1427.0, 1663.0, 1304.0, 563.0, 515.0, 1014.0, 656.0, 592.0, 536.0, 532.0, 638.0, 479.0, 488.0, 420.0, 477.0, 432.0, 982.0, 385.0, 354.0, 358.0, 353.0, 348.0, 649.0, 4537.073268694289, 2628.471303189749, 1380.3702188569712, 563.164735934004, 535.9503069331828, 532.1982976115647, 478.70151077477897, 431.78759749444504, 354.85218239154807, 351.09727774406696, 308.8723472982425, 283.53691613583896, 261.9545077604464, 376.81770246160534, 204.715409964887, 200.0245520406467, 286.01311880380973, 196.2699837240463, 195.33263906660906, 151.2299230037317, 157.72369142344922, 177.31846051020833, 141.84667999008724, 138.09359166045516, 137.15389604335493, 137.1485419753864, 137.13840415282846, 134.33919328220827, 120.26457791411163, 112.75702865394416, 117.37474713928086, 1348.7557823412549, 311.8545051527641, 1211.9980744810882, 228.88829520025186, 199.55034508875622, 312.7003961165701, 344.2772629182322, 257.05582550723676, 192.37327492995746, 171.15957936943425, 250.6555266299944, 233.78601816897788, 203.05681846992724, 195.68745740487384, 284.4863507227697, 191.272811290972, 188.47613638952663, 173.49032951233258, 176.26123510887965, 127.87694608971152, 122.28406227807194, 112.02721642011976, 106.43469090867397, 105.50242375963686, 89.44213707805906, 64.48181204076555, 61.68489592665684, 57.023612783431474, 55.15964639428441, 55.159639420176795, 54.22507083456087, 53.29427730553875, 52.36156784893235, 51.42938713703233, 176.26490839563223, 46.76769309076614, 43.01801429213219, 41.17529967918418, 41.17468963443543, 41.16264680038399, 39.3097430595532, 37.44561797836344, 37.44457526563681, 37.4435819615019, 275.40664212355097, 46.31054520458832, 1020.482107471562, 134.49769370926415, 334.07598762467546, 343.46614028921806, 369.0001178567383, 68.85762421403649, 672.1870578301845, 373.3565636947402, 73.22446298035679, 607.7859645333408, 738.1210697056406, 856.3788062937538, 134.13516592786107, 193.48835159835542, 151.79814751204464, 495.77158750762555, 174.37105294904214, 230.84727592711565, 169.76812330803088, 193.81526967488094, 288.0414435253769, 149.9511772795968, 201.81223953190852, 206.3941716883968, 182.20554607945846, 233.0503266119592, 176.88567741154623, 515.0511965379255, 347.50526782116873, 320.0710493465859, 253.81441260506205, 230.15506596074957, 229.2099431029303, 200.81411386060827, 195.94900207734392, 152.53560220009746, 141.18545238983498, 141.1640752288784, 136.45174952614573, 125.09035166855995, 122.25177073284145, 112.78966709492309, 101.43240853748004, 100.46303242108614, 107.94319404913101, 89.12782696543971, 87.23361621453314, 83.44743995907461, 81.55566876563844, 101.18156834427808, 74.92949987057594, 75.82602990665988, 72.06990228489386, 66.41172574772344, 270.25859064046085, 58.82040022491731, 54.10764726729097, 57.817231537932486, 236.1038056836146, 97.15112755379253, 552.4022020477965, 155.68279120516797, 549.133792302114, 304.74012608467, 351.2500293922999, 213.12528358640452, 128.52441390002295, 182.98811374797452, 208.3379552067758, 282.254310307994, 348.8891394144825, 125.82309556038221, 263.2241453036334, 281.3463842023361, 158.69859941687213, 428.8670321572626, 155.05606041607683, 176.33662047386443, 157.9933296214786, 159.6843312305628, 157.07592911980146, 166.58394643339673, 155.38763437876548, 1140.344994472338, 352.51984703072463, 300.1589483675119, 258.11038536794, 232.88352681936885, 165.58806504627185, 168.2789594745291, 140.3529178418365, 356.77148945859807, 119.79037765782158, 102.0290425287188, 94.55512241230247, 91.75075058732845, 89.88113371184465, 132.46443654031611, 86.14225974271604, 85.20613651521683, 80.53598544292055, 78.66454031900689, 136.9655020450525, 70.2541895734264, 70.24905136216448, 68.38280531266875, 65.57984114754139, 65.57824511078216, 62.77706097455763, 71.08265244590581, 87.65107602694691, 59.03809351558437, 58.09264828583568, 164.8862093895917, 158.5406868671193, 139.84155764449335, 546.5898682303629, 143.49708928523276, 134.0973271182482, 290.7252115536676, 281.8438296215824, 109.16077634169024, 132.6773532452429, 140.7047630979179, 173.22290944079967, 464.72452081942134, 169.9097548817878, 156.37793157391695, 188.3811335639372, 309.9351552459188, 199.11650319938803, 244.7307848199269, 170.98672266336263, 146.80275520387443, 149.6208486247835, 151.58344515133425, 419.20270759021025, 297.6443978613206, 221.14877153266966, 211.70483958553524, 196.59371396985978, 180.45230337027937, 104.9845107986198, 100.26423006328172, 99.31985122327762, 97.43052017413902, 112.3468479400047, 81.3746153065173, 76.65367965626355, 76.65325048025692, 73.8206503282328, 70.98618451182607, 66.26409190376573, 64.37511032069021, 59.65123775049523, 56.82122096689007, 52.095675836628715, 82.78345281177218, 50.21051937163077, 379.23105247610164, 48.31986286210219, 47.376344841034374, 45.48884593658658, 44.5424367604195, 76.98820468430324, 62.13766525572101, 227.3060024825964, 81.37574360341304, 82.03627970592134, 89.672392241022, 333.82254767393886, 187.28570595735502, 232.46406558033195, 331.399899296155, 342.697488543302, 112.2295231522912, 202.96629146151844, 141.52766490393736, 404.30505287849576, 175.41499187163285, 207.66090208066814, 531.2004487359392, 301.66568450633116, 203.51464682339468, 149.5627077596563, 114.02586491376613, 427.1840191442888, 167.82396364726344, 401.8089452562843, 251.58077936052405, 220.41868574791437, 198.97238669746275, 278.62843239169786, 150.0503984817877, 199.97096411135325, 159.89711136906595, 154.29151154670447, 353.2238800731807, 272.25171096876085, 324.62815460203194, 187.5172785899696, 187.51727858996668, 183.74933049208983, 168.68670526208112, 164.92140166772688, 127.26060978994198, 104.66390843873427, 104.66267974430365, 89.59339280239281, 81.12560349533327, 79.24352386377916, 78.30182688015172, 76.41898808951504, 75.47715922655739, 75.47579724808561, 82.89221145711743, 71.71003996261554, 69.81137360106142, 67.9441353164406, 96.78861125790829, 65.12009380142004, 133.02874844708853, 62.29645878996542, 62.296141337645146, 62.29607036252099, 62.29583746298464, 74.38053768672839, 457.90778576413527, 445.5353281620701, 117.5398974064608, 80.90515485645483, 96.9307446884579, 339.5968969169223, 407.98474007931253, 164.1613375029027, 193.78651941465372, 761.5510787067547, 398.38716476055373, 139.32093097889035, 322.0775827107937, 216.09043597686676, 157.70527387808562, 139.0792274529357, 162.34084596888593, 209.92053433390066, 194.76364850859815, 198.36741322004656, 194.85548989316604, 123.25834318637584, 177.0834734888489, 142.17019611226726, 145.13193406762824, 157.36917310873497, 143.5238508737789, 154.54874014990804], \"Total\": [4537.0, 2629.0, 1381.0, 1141.0, 1762.0, 1738.0, 1173.0, 1427.0, 1663.0, 1304.0, 563.0, 515.0, 1014.0, 656.0, 592.0, 536.0, 532.0, 638.0, 479.0, 488.0, 420.0, 477.0, 432.0, 982.0, 385.0, 354.0, 358.0, 353.0, 348.0, 649.0, 4537.857755751347, 2629.255585795902, 1381.2519702978232, 563.9491087341274, 536.736992016692, 532.98359440056, 479.4977614051544, 432.5802835219882, 355.6355977031832, 351.88220360527464, 309.6564911324809, 284.3210658205773, 262.7390342357879, 378.16079001469, 205.49973663098243, 200.80798858135753, 287.1372523093387, 197.05459393711638, 196.11624352644733, 152.013834393622, 158.5825286684765, 178.28880461494037, 142.63034226643973, 138.87694469551698, 137.93859759230884, 137.93861678714745, 137.93870144946848, 135.12354905229026, 121.04831225960723, 113.5415211611564, 118.23374113125551, 1762.962482947958, 351.2674803494702, 1738.0595079879906, 253.5078514114839, 217.8476366362592, 443.7383087105387, 619.0054650079345, 417.6544686443155, 260.3546685347611, 204.64363748033847, 1009.7492036673057, 1304.0527570246365, 519.6439929032778, 377.7224758417185, 285.28691483515104, 192.058272342016, 189.26141300070356, 174.34552022103753, 177.14193129770013, 128.66282465139003, 123.06909911916387, 112.81397725154122, 107.22023825856536, 106.28795464958833, 90.43962720514037, 65.26736874081732, 62.470512160311365, 57.8090805521813, 55.94450088333036, 55.944501820418104, 55.01223894337715, 54.079939228896336, 53.147655220539605, 52.21536767343923, 179.01143100190572, 47.55394193483575, 43.825066788005884, 41.960210527544845, 41.96021487630305, 41.96037421562972, 40.09564946353185, 38.231071023346225, 38.23108234359512, 38.23109873504778, 284.4433829067595, 47.5584634206582, 1173.2136034821053, 146.54536777706076, 408.98200645032114, 429.0738821587599, 472.77559139687014, 74.66540772543857, 1014.0840563712895, 521.8275731535526, 80.26424833497605, 982.5138561447845, 1304.0527570246365, 1663.7252748485128, 170.96903786743746, 283.00179544248266, 206.7341713405506, 1009.7492036673057, 252.78330211634244, 387.10766732216376, 258.11901578530006, 337.96788230290065, 765.1166780395049, 228.4814105095512, 532.567658486114, 649.5449338611337, 479.8623681518204, 1427.2651030252532, 617.6139274728339, 515.835528219898, 348.3049304646048, 320.85655576175225, 254.6015406732013, 230.93907053597286, 229.99258205138887, 201.5975767617349, 196.86411834360578, 153.3259948315074, 141.9680934549946, 141.96782929791968, 137.23558429767354, 125.87755489566742, 123.03806508470808, 113.57308812139794, 102.2150981400284, 101.2684049658207, 108.83961017878845, 89.91060115711852, 88.01758907098065, 84.23158780457783, 82.33859799261695, 102.21195973823704, 75.71309478407875, 76.65916639450762, 72.87355879401187, 67.19460124537886, 273.4941813555083, 59.62235924460755, 54.89010713902025, 58.67545089682446, 244.09867850426073, 99.37241386450286, 592.0550653834881, 161.81625765587395, 638.6144867946791, 356.5383784803052, 423.74171823258393, 254.92975991424356, 143.82858841285127, 228.73571287735558, 301.86339438700674, 493.37195129436657, 712.8008544521033, 144.56214096428218, 482.7928402297469, 551.4243821959034, 216.27683690727446, 1427.2651030252532, 230.43248926662739, 365.4892012021717, 269.359883880873, 288.07904248817005, 301.53932495868924, 538.0172986490817, 548.2817924852376, 1141.2184972206771, 353.3044300899294, 300.9637268288943, 258.9043497554092, 233.66863485072332, 166.37350430677532, 169.17720942824735, 141.13782013696292, 358.9225194832101, 120.57542235746374, 102.81699558872158, 95.33974491783101, 92.5357858804699, 90.66647876162287, 133.66360795720482, 86.92785856110262, 85.99322332393659, 81.31992064405678, 79.45062613523348, 138.33768439118106, 71.03872106991072, 71.03875866858408, 69.16943041699346, 66.36545604655213, 66.3654681635997, 63.56148539004995, 71.97379951170059, 88.8017369540916, 59.82286878901786, 58.88834608087105, 168.26168711742787, 166.43627283012, 148.6644598517733, 656.7892147153751, 159.97797464083476, 159.76998481934396, 452.9355251550293, 443.9988888651864, 128.2730453067323, 167.66149884765855, 192.90998628236974, 272.41416926229505, 1663.7252748485128, 285.67830298844484, 249.28791014135612, 366.1227528568917, 1304.0527570246365, 541.5337996911942, 1137.1290602944682, 532.567658486114, 295.91603621218496, 548.2817924852376, 1173.2136034821053, 420.2579515750271, 298.4294863789392, 221.93210402349317, 212.48798103448732, 197.37738005344067, 181.32210462353467, 105.76937868798194, 101.04732683326513, 100.1029111057751, 98.2140843248448, 113.32219008428315, 82.15906972182873, 77.43701331181693, 77.43700815032774, 74.60377687544661, 71.77053751368997, 67.04847021167869, 65.15964255128696, 60.437579805700274, 57.60435519032477, 52.88228346588511, 84.0417254184311, 50.99347021209598, 385.2475191109643, 49.104636841515024, 48.16022221178491, 46.27141040476545, 45.32697908782972, 78.37574184572011, 63.268584581183624, 232.29189651083988, 83.09740756204275, 84.03213323488565, 92.55223696542501, 398.34371455397593, 219.8380021569432, 283.39044862728935, 435.91525738751335, 457.87985946521167, 125.44386466495341, 259.3988951020013, 170.9014130230177, 649.5449338611337, 240.152676049666, 303.0106887725171, 1137.1290602944682, 580.4262423644421, 338.9974332091524, 212.75636899662302, 141.48471081974927, 1738.0595079879906, 299.1365747114756, 1762.962482947958, 765.1166780395049, 664.1087309699434, 581.3114899248989, 1663.7252748485128, 316.5264337485248, 1014.0840563712895, 417.6544686443155, 479.04752998203594, 354.0076280322441, 273.0373651296131, 325.7632582546298, 188.30104245047056, 188.30104245047053, 184.53497184532037, 169.47074765835953, 165.70468946006122, 128.044102557772, 105.4477476866942, 105.44773798760511, 90.38354834723997, 81.90987606198911, 80.02685315921399, 79.08533670778326, 77.20230895486189, 76.26079419663529, 76.2607868399713, 83.79209824643675, 72.49472854345345, 70.6115805832885, 68.72867122232716, 97.91227467430535, 65.90412991420278, 134.63905748714396, 63.07958910035335, 63.07958508425261, 63.07958470330922, 63.07959084757235, 75.31777771965176, 488.42599627652993, 477.13230445461596, 121.46204404378368, 82.84001954664646, 101.64724992947237, 432.3975604857814, 563.552533191171, 203.11852475986055, 250.82592795211818, 1427.2651030252532, 687.1827383112277, 172.18706194345597, 538.0172986490817, 315.3265992458705, 206.6696307074127, 180.9854812560339, 278.5342334522385, 458.3181825866486, 436.72194476537936, 491.0840900436828, 581.3114899248989, 173.81307119987798, 541.5337996911942, 309.6127128204, 358.6761544820458, 712.8008544521033, 337.96788230290065, 982.5138561447845], \"Category\": [\"Default\", \"Default\", \"Default\", \"Default\", \"Default\", \"Default\", \"Default\", \"Default\", \"Default\", \"Default\", \"Default\", \"Default\", \"Default\", \"Default\", \"Default\", \"Default\", \"Default\", \"Default\", \"Default\", \"Default\", \"Default\", \"Default\", \"Default\", \"Default\", \"Default\", \"Default\", \"Default\", \"Default\", \"Default\", \"Default\", \"Topic1\", \"Topic1\", \"Topic1\", \"Topic1\", \"Topic1\", \"Topic1\", \"Topic1\", \"Topic1\", \"Topic1\", \"Topic1\", \"Topic1\", \"Topic1\", \"Topic1\", \"Topic1\", \"Topic1\", \"Topic1\", \"Topic1\", \"Topic1\", \"Topic1\", \"Topic1\", \"Topic1\", \"Topic1\", \"Topic1\", \"Topic1\", \"Topic1\", \"Topic1\", \"Topic1\", \"Topic1\", \"Topic1\", \"Topic1\", \"Topic1\", \"Topic1\", \"Topic1\", \"Topic1\", \"Topic1\", \"Topic1\", \"Topic1\", \"Topic1\", \"Topic1\", \"Topic1\", \"Topic1\", \"Topic1\", \"Topic1\", \"Topic1\", \"Topic1\", \"Topic2\", \"Topic2\", \"Topic2\", \"Topic2\", \"Topic2\", \"Topic2\", \"Topic2\", \"Topic2\", \"Topic2\", \"Topic2\", \"Topic2\", \"Topic2\", \"Topic2\", \"Topic2\", \"Topic2\", \"Topic2\", \"Topic2\", \"Topic2\", \"Topic2\", \"Topic2\", \"Topic2\", \"Topic2\", \"Topic2\", \"Topic2\", \"Topic2\", \"Topic2\", \"Topic2\", \"Topic2\", \"Topic2\", \"Topic2\", \"Topic2\", \"Topic2\", \"Topic2\", \"Topic2\", \"Topic2\", \"Topic2\", \"Topic2\", \"Topic2\", \"Topic2\", \"Topic2\", \"Topic2\", \"Topic2\", \"Topic2\", \"Topic2\", \"Topic2\", \"Topic2\", \"Topic2\", \"Topic2\", \"Topic2\", \"Topic2\", \"Topic2\", \"Topic2\", \"Topic2\", \"Topic2\", \"Topic2\", \"Topic2\", \"Topic2\", \"Topic2\", \"Topic2\", \"Topic3\", \"Topic3\", \"Topic3\", \"Topic3\", \"Topic3\", \"Topic3\", \"Topic3\", \"Topic3\", \"Topic3\", \"Topic3\", \"Topic3\", \"Topic3\", \"Topic3\", \"Topic3\", \"Topic3\", \"Topic3\", \"Topic3\", \"Topic3\", \"Topic3\", \"Topic3\", \"Topic3\", \"Topic3\", \"Topic3\", \"Topic3\", \"Topic3\", \"Topic3\", \"Topic3\", \"Topic3\", \"Topic3\", \"Topic3\", \"Topic3\", \"Topic3\", \"Topic3\", \"Topic3\", \"Topic3\", \"Topic3\", \"Topic3\", \"Topic3\", \"Topic3\", \"Topic3\", \"Topic3\", \"Topic3\", \"Topic3\", \"Topic3\", \"Topic3\", \"Topic3\", \"Topic3\", \"Topic3\", \"Topic3\", \"Topic3\", \"Topic3\", \"Topic3\", \"Topic3\", \"Topic3\", \"Topic3\", \"Topic3\", \"Topic4\", \"Topic4\", \"Topic4\", \"Topic4\", \"Topic4\", \"Topic4\", \"Topic4\", \"Topic4\", \"Topic4\", \"Topic4\", \"Topic4\", \"Topic4\", \"Topic4\", \"Topic4\", \"Topic4\", \"Topic4\", \"Topic4\", \"Topic4\", \"Topic4\", \"Topic4\", \"Topic4\", \"Topic4\", \"Topic4\", \"Topic4\", \"Topic4\", \"Topic4\", \"Topic4\", \"Topic4\", \"Topic4\", \"Topic4\", \"Topic4\", \"Topic4\", \"Topic4\", \"Topic4\", \"Topic4\", \"Topic4\", \"Topic4\", \"Topic4\", \"Topic4\", \"Topic4\", \"Topic4\", \"Topic4\", \"Topic4\", \"Topic4\", \"Topic4\", \"Topic4\", \"Topic4\", \"Topic4\", \"Topic4\", \"Topic4\", \"Topic4\", \"Topic4\", \"Topic4\", \"Topic5\", \"Topic5\", \"Topic5\", \"Topic5\", \"Topic5\", \"Topic5\", \"Topic5\", \"Topic5\", \"Topic5\", \"Topic5\", \"Topic5\", \"Topic5\", \"Topic5\", \"Topic5\", \"Topic5\", \"Topic5\", \"Topic5\", \"Topic5\", \"Topic5\", \"Topic5\", \"Topic5\", \"Topic5\", \"Topic5\", \"Topic5\", \"Topic5\", \"Topic5\", \"Topic5\", \"Topic5\", \"Topic5\", \"Topic5\", \"Topic5\", \"Topic5\", \"Topic5\", \"Topic5\", \"Topic5\", \"Topic5\", \"Topic5\", \"Topic5\", \"Topic5\", \"Topic5\", \"Topic5\", \"Topic5\", \"Topic5\", \"Topic5\", \"Topic5\", \"Topic5\", \"Topic5\", \"Topic5\", \"Topic5\", \"Topic5\", \"Topic5\", \"Topic5\", \"Topic5\", \"Topic5\", \"Topic5\", \"Topic5\", \"Topic5\", \"Topic5\", \"Topic5\", \"Topic5\", \"Topic5\", \"Topic6\", \"Topic6\", \"Topic6\", \"Topic6\", \"Topic6\", \"Topic6\", \"Topic6\", \"Topic6\", \"Topic6\", \"Topic6\", \"Topic6\", \"Topic6\", \"Topic6\", \"Topic6\", \"Topic6\", \"Topic6\", \"Topic6\", \"Topic6\", \"Topic6\", \"Topic6\", \"Topic6\", \"Topic6\", \"Topic6\", \"Topic6\", \"Topic6\", \"Topic6\", \"Topic6\", \"Topic6\", \"Topic6\", \"Topic6\", \"Topic6\", \"Topic6\", \"Topic6\", \"Topic6\", \"Topic6\", \"Topic6\", \"Topic6\", \"Topic6\", \"Topic6\", \"Topic6\", \"Topic6\", \"Topic6\", \"Topic6\", \"Topic6\", \"Topic6\", \"Topic6\", \"Topic6\", \"Topic6\", \"Topic6\", \"Topic6\", \"Topic6\", \"Topic6\", \"Topic6\", \"Topic6\", \"Topic6\", \"Topic6\", \"Topic6\", \"Topic6\"], \"logprob\": [30.0, 29.0, 28.0, 27.0, 26.0, 25.0, 24.0, 23.0, 22.0, 21.0, 20.0, 19.0, 18.0, 17.0, 16.0, 15.0, 14.0, 13.0, 12.0, 11.0, 10.0, 9.0, 8.0, 7.0, 6.0, 5.0, 4.0, 3.0, 2.0, 1.0, -2.6225, -3.1683, -3.8124, -4.7089, -4.7584, -4.7655, -4.8714, -4.9746, -5.1708, -5.1814, -5.3096, -5.3951, -5.4743, -5.1107, -5.7209, -5.744, -5.3865, -5.763, -5.7678, -6.0237, -5.9816, -5.8645, -6.0877, -6.1146, -6.1214, -6.1214, -6.1215, -6.1421, -6.2528, -6.3173, -6.2771, -3.8356, -5.3, -3.9425, -5.6093, -5.7464, -5.2972, -5.201, -5.4932, -5.7831, -5.8999, -5.5184, -5.5881, -5.729, -5.766, -5.2994, -5.6964, -5.7111, -5.7939, -5.7781, -6.099, -6.1437, -6.2313, -6.2825, -6.2913, -6.4565, -6.7837, -6.828, -6.9066, -6.9398, -6.9398, -6.9569, -6.9742, -6.9919, -7.0098, -5.7781, -7.1049, -7.1884, -7.2322, -7.2322, -7.2325, -7.2786, -7.3272, -7.3272, -7.3272, -5.3318, -7.1147, -4.022, -6.0485, -5.1387, -5.111, -5.0393, -6.718, -4.4395, -5.0275, -6.6565, -4.5402, -4.3459, -4.1973, -6.0512, -5.6848, -5.9275, -4.7439, -5.7889, -5.5083, -5.8156, -5.6832, -5.287, -5.9397, -5.6427, -5.6203, -5.7449, -5.4988, -5.7746, -4.6604, -5.0539, -5.1361, -5.3681, -5.4659, -5.47, -5.6023, -5.6268, -5.8773, -5.9546, -5.9547, -5.9887, -6.0756, -6.0986, -6.1791, -6.2853, -6.2949, -6.2231, -6.4146, -6.4361, -6.4805, -6.5034, -6.2878, -6.5881, -6.5762, -6.627, -6.7088, -5.3053, -6.8302, -6.9137, -6.8474, -5.4404, -6.3284, -4.5904, -5.8568, -4.5963, -5.1852, -5.0432, -5.5428, -6.0485, -5.6952, -5.5655, -5.2619, -5.0499, -6.0698, -5.3317, -5.2651, -5.8377, -4.8435, -5.8609, -5.7323, -5.8421, -5.8315, -5.8479, -5.7892, -5.8587, -3.8489, -5.0228, -5.1836, -5.3346, -5.4374, -5.7784, -5.7623, -5.9438, -5.0109, -6.1022, -6.2627, -6.3388, -6.3689, -6.3895, -6.0016, -6.4319, -6.4429, -6.4992, -6.5228, -5.9682, -6.6358, -6.6359, -6.6628, -6.7047, -6.7047, -6.7484, -6.6241, -6.4146, -6.8098, -6.8259, -5.7827, -5.8219, -5.9474, -4.5842, -5.9216, -5.9894, -5.2156, -5.2466, -6.1951, -6.0, -5.9413, -5.7334, -4.7465, -5.7527, -5.8357, -5.6495, -5.1516, -5.5941, -5.3878, -5.7464, -5.8989, -5.8798, -5.8668, -4.8404, -5.1829, -5.4799, -5.5236, -5.5976, -5.6833, -6.225, -6.271, -6.2804, -6.2996, -6.1572, -6.4797, -6.5395, -6.5395, -6.5771, -6.6163, -6.6851, -6.714, -6.7903, -6.8389, -6.9257, -6.4625, -6.9625, -4.9406, -7.0009, -7.0207, -7.0613, -7.0823, -6.5351, -6.7494, -5.4525, -6.4797, -6.4716, -6.3826, -5.0682, -5.6461, -5.43, -5.0754, -5.0419, -6.1582, -5.5657, -5.9263, -4.8766, -5.7116, -5.5429, -4.6036, -5.1695, -5.563, -5.8711, -6.1423, -4.8216, -5.7559, -4.8828, -5.351, -5.4832, -5.5856, -5.2489, -5.8678, -5.5806, -5.8042, -5.8399, -4.9918, -5.2522, -5.0762, -5.625, -5.625, -5.6453, -5.7308, -5.7534, -6.0127, -6.2081, -6.2081, -6.3636, -6.4629, -6.4864, -6.4983, -6.5227, -6.5351, -6.5351, -6.4413, -6.5863, -6.6131, -6.6402, -6.2864, -6.6827, -5.9683, -6.727, -6.727, -6.727, -6.727, -6.5497, -4.7322, -4.7596, -6.0921, -6.4656, -6.2849, -5.0311, -4.8477, -5.758, -5.5921, -4.2235, -4.8715, -5.9221, -5.0841, -5.4832, -5.7982, -5.9238, -5.7692, -5.5122, -5.5871, -5.5688, -5.5866, -6.0446, -5.6823, -5.9019, -5.8812, -5.8003, -5.8924, -5.8184], \"loglift\": [30.0, 29.0, 28.0, 27.0, 26.0, 25.0, 24.0, 23.0, 22.0, 21.0, 20.0, 19.0, 18.0, 17.0, 16.0, 15.0, 14.0, 13.0, 12.0, 11.0, 10.0, 9.0, 8.0, 7.0, 6.0, 5.0, 4.0, 3.0, 2.0, 1.0, 1.6715, 1.6714, 1.671, 1.6703, 1.6702, 1.6702, 1.67, 1.6698, 1.6695, 1.6694, 1.6691, 1.6689, 1.6687, 1.6681, 1.6678, 1.6678, 1.6677, 1.6677, 1.6677, 1.6665, 1.6662, 1.6662, 1.6662, 1.666, 1.666, 1.6659, 1.6658, 1.6658, 1.6652, 1.6647, 1.6644, 1.4039, 1.5527, 1.3112, 1.5695, 1.5839, 1.3217, 1.085, 1.1863, 1.3691, 1.493, 0.2783, -0.0472, 0.732, 1.014, 1.7613, 1.76, 1.7599, 1.7592, 1.7591, 1.758, 1.7577, 1.7571, 1.7567, 1.7567, 1.753, 1.752, 1.7514, 1.7504, 1.75, 1.75, 1.7497, 1.7495, 1.7492, 1.7489, 1.7486, 1.7474, 1.7455, 1.7452, 1.7452, 1.7449, 1.7443, 1.7433, 1.7433, 1.7433, 1.7318, 1.7375, 1.6246, 1.6783, 1.5618, 1.5416, 1.5163, 1.6831, 1.3529, 1.4293, 1.6723, 1.2838, 1.195, 1.1, 1.5215, 1.3839, 1.4552, 1.0528, 1.3928, 1.2472, 1.3451, 1.2081, 0.7872, 1.343, 0.7937, 0.6176, 0.7957, -0.0482, 0.5137, 1.808, 1.8072, 1.807, 1.8064, 1.8061, 1.8061, 1.8056, 1.8048, 1.8043, 1.804, 1.8038, 1.8038, 1.8032, 1.8031, 1.8026, 1.8018, 1.8015, 1.8012, 1.8007, 1.8005, 1.8001, 1.7999, 1.7994, 1.7991, 1.7986, 1.7984, 1.7978, 1.7976, 1.7959, 1.7951, 1.7948, 1.7762, 1.7869, 1.7402, 1.7708, 1.6585, 1.6525, 1.6219, 1.6304, 1.697, 1.5863, 1.4387, 1.251, 1.095, 1.6707, 1.2029, 1.1366, 1.4999, 0.6071, 1.4133, 1.0806, 1.276, 1.2194, 1.1573, 0.6371, 0.5486, 1.8254, 1.824, 1.8235, 1.8231, 1.8228, 1.8215, 1.8209, 1.8206, 1.8202, 1.8197, 1.8185, 1.8179, 1.8177, 1.8175, 1.8172, 1.8171, 1.817, 1.8165, 1.8163, 1.8162, 1.8151, 1.815, 1.8148, 1.8143, 1.8143, 1.8138, 1.8137, 1.8132, 1.813, 1.8126, 1.8059, 1.7776, 1.765, 1.6425, 1.7175, 1.651, 1.3828, 1.3717, 1.6649, 1.5922, 1.5106, 1.3735, 0.5508, 1.3066, 1.3599, 1.1617, 0.3893, 0.8257, 0.2901, 0.6901, 1.1252, 0.5275, -0.2202, 1.8329, 1.8327, 1.8318, 1.8317, 1.8314, 1.8306, 1.8279, 1.8276, 1.8275, 1.8274, 1.8267, 1.8258, 1.8252, 1.8252, 1.8248, 1.8244, 1.8236, 1.8233, 1.8223, 1.8217, 1.8204, 1.8203, 1.8199, 1.8196, 1.8193, 1.819, 1.8183, 1.8179, 1.8175, 1.8173, 1.8137, 1.8144, 1.8113, 1.8038, 1.6587, 1.6751, 1.6373, 1.5613, 1.5456, 1.7241, 1.5901, 1.6468, 1.3613, 1.5213, 1.4575, 1.0743, 1.1809, 1.3251, 1.4829, 1.6196, 0.4321, 1.2574, 0.3566, 0.7231, 0.7325, 0.7633, 0.0484, 1.0889, 0.2118, 0.8753, 0.7024, 1.8531, 1.8524, 1.8518, 1.8511, 1.8511, 1.851, 1.8506, 1.8505, 1.8491, 1.8478, 1.8478, 1.8465, 1.8456, 1.8454, 1.8453, 1.8451, 1.8449, 1.8449, 1.8445, 1.8444, 1.8439, 1.8438, 1.8437, 1.8433, 1.8432, 1.8428, 1.8428, 1.8428, 1.8428, 1.8427, 1.7907, 1.7867, 1.8224, 1.8316, 1.8078, 1.6137, 1.5322, 1.6423, 1.5973, 1.2271, 1.3101, 1.6435, 1.3422, 1.4774, 1.5849, 1.5919, 1.3154, 1.0744, 1.0478, 0.9488, 0.7622, 1.5116, 0.7375, 1.077, 0.9505, 0.3447, 0.9988, 0.0057]}, \"token.table\": {\"Topic\": [2, 2, 3, 5, 6, 1, 4, 6, 3, 6, 2, 3, 6, 1, 2, 6, 1, 2, 4, 2, 2, 3, 1, 2, 5, 2, 4, 6, 1, 1, 2, 3, 4, 5, 6, 3, 4, 5, 6, 2, 6, 4, 6, 2, 5, 1, 2, 5, 6, 1, 2, 3, 4, 5, 1, 2, 4, 1, 2, 3, 4, 5, 6, 4, 3, 1, 3, 4, 6, 2, 3, 4, 5, 1, 5, 3, 1, 3, 5, 3, 2, 6, 1, 2, 3, 4, 1, 3, 5, 6, 2, 1, 2, 3, 6, 1, 2, 3, 5, 6, 3, 2, 4, 5, 3, 4, 2, 6, 2, 6, 1, 3, 4, 5, 5, 6, 1, 2, 3, 4, 5, 6, 1, 2, 3, 4, 5, 2, 6, 4, 1, 2, 3, 5, 6, 5, 2, 3, 1, 6, 5, 1, 2, 3, 4, 1, 2, 3, 4, 6, 2, 3, 6, 2, 4, 5, 6, 1, 2, 3, 4, 5, 6, 1, 4, 5, 6, 2, 3, 6, 2, 3, 4, 5, 6, 5, 2, 4, 2, 3, 4, 5, 1, 2, 3, 4, 6, 6, 1, 2, 6, 5, 5, 6, 3, 4, 5, 6, 5, 6, 2, 3, 5, 6, 5, 2, 5, 6, 1, 2, 3, 5, 3, 1, 3, 4, 5, 6, 1, 2, 3, 5, 6, 3, 1, 2, 3, 4, 5, 6, 1, 2, 3, 4, 6, 1, 3, 5, 2, 1, 2, 3, 5, 6, 6, 3, 2, 6, 1, 3, 4, 5, 6, 4, 1, 2, 3, 4, 6, 6, 4, 4, 5, 1, 4, 4, 5, 6, 5, 2, 3, 5, 6, 2, 3, 5, 2, 1, 2, 4, 5, 6, 1, 2, 5, 4, 2, 6, 4, 3, 5, 1, 5, 1, 3, 4, 5, 6, 3, 4, 1, 2, 3, 5, 6, 3, 2, 5, 6, 3, 5, 3, 1, 5, 1, 1, 1, 3, 4, 5, 6, 1, 2, 3, 5, 5, 1, 3, 1, 2, 3, 4, 5, 6, 1, 2, 3, 4, 5, 6, 4, 6, 1, 2, 3, 4, 5, 6, 4, 2, 6, 3, 6, 5, 1, 3, 5, 3, 1, 1, 5, 1, 1, 2, 5, 5, 6, 1, 2, 3, 4, 5, 6, 2, 4, 4, 1, 2, 4, 5, 6, 2, 3, 4, 1, 2, 3, 4, 6, 1, 6, 1, 2, 3, 4, 1, 1, 5, 3, 6, 2, 3, 2, 1, 3, 5, 2, 5, 1, 5, 2, 5, 4, 5, 5, 5, 1, 2, 2, 4, 3, 2, 3, 4, 5, 2, 3, 5, 6, 2, 5, 3, 1, 2, 3, 4, 5, 6, 1, 5, 2, 6, 3, 4, 4, 1, 2, 3, 4, 5, 6, 1, 2, 4, 5, 1, 2, 5, 6, 2, 3, 4, 5, 4, 2, 5, 2, 3, 4, 5, 4, 3, 5, 2, 4, 2, 3, 5, 2, 4, 1, 1, 1, 1, 5, 6, 6, 1, 6, 1, 2, 6, 1, 2, 5, 4, 1, 3, 5, 1, 3, 2, 1, 2, 4, 5, 6, 2, 3, 4, 1, 2, 3, 6, 1, 2, 3, 6, 6, 1, 2, 3, 4, 5, 6, 1, 2, 3, 4, 6, 6, 1, 2, 3, 4, 6, 1, 5, 5, 4, 4, 5, 3, 4, 5, 6, 4, 6, 4, 5, 3, 3, 6, 1, 5, 2, 5, 2, 5, 3, 6, 5, 1, 2, 4, 5, 1, 4, 5, 6, 6, 6, 2, 4, 1, 3, 4, 3, 1, 4, 5, 6, 1, 3, 1, 1, 3, 2, 2, 3, 4, 6, 2, 3, 6, 1, 1, 2, 3, 4, 5, 1, 2, 4, 5, 2, 3, 4, 6, 2, 5, 6, 2, 6, 1, 5, 4, 1, 1, 2, 3, 4, 5, 3, 4, 6, 4, 4, 6, 1, 2, 3, 4, 5, 6, 2, 3, 6, 4, 3, 2, 5, 6, 2, 2, 3, 3, 5, 1, 6], \"Freq\": [0.9805818931378993, 0.17228717914723657, 0.16884143556429185, 0.5203072810246545, 0.13782974331778927, 0.01555129445506665, 0.7309108393881325, 0.25400447609942195, 0.007427265302235833, 0.9878262851973658, 0.04053676997840502, 0.9323457095033154, 0.025335481236503136, 0.06846266964901583, 0.8166618450989747, 0.11247438585195459, 0.9986269028823168, 0.1564749475833533, 0.8387057190467737, 0.9840818980614005, 0.9241227243240733, 0.06696541480609226, 0.9927712532611126, 0.9094958404810655, 0.07475308277926565, 0.6819744719224771, 0.173143777845603, 0.14134185946579836, 0.9959763125607417, 0.1461232876049376, 0.15864814082821796, 0.016699804297707153, 0.1857853228119921, 0.3214712327308627, 0.17117299405149833, 0.10230662200590887, 0.006600427226187669, 0.6864444315235175, 0.20791345762491156, 0.9831171645169, 0.9906827343421452, 0.06142179210095737, 0.9377060260746158, 0.9726741060890316, 0.9927598059500886, 0.11602889800182198, 0.6188207893430505, 0.10788651919467658, 0.15775858938844217, 0.1704640003609754, 0.6586109104855867, 0.04261600009024385, 0.027119272784700627, 0.10460290931241671, 0.14564197813601598, 0.7147954979570259, 0.13797661086569937, 0.045596991077673114, 0.24622375181943482, 0.2827013446815733, 0.2735819464660387, 0.08025070429670468, 0.07295518572427698, 0.9862449125948818, 0.9931809082489264, 0.033632786242154156, 0.006726557248430832, 0.9417180147803164, 0.013453114496861663, 0.018752581452135993, 0.05625774435640798, 0.8938730492184823, 0.03125430242022666, 0.017219713903422112, 0.9772187640192049, 0.9895616467967285, 0.24505629339642587, 0.7351688801892776, 0.02311851824494584, 0.9970357939250373, 0.9800306870848091, 0.9971536544626312, 0.003922649126317745, 0.1569059650527098, 0.8355242639056797, 0.003922649126317745, 0.2300022890377888, 0.6726482037897598, 0.09547264827983687, 0.9957539346395677, 0.9860042653428646, 0.005576028888908888, 0.08549910962993627, 0.3103989414825947, 0.598493767409554, 0.5557301501297578, 0.0032309892449404526, 0.13893253753243945, 0.1163156128178563, 0.18578188158407602, 0.9874748203425462, 0.8694068982601579, 0.12955867503484705, 0.0008523597041766254, 0.9884883560927009, 0.9989322840247993, 0.03935177786684232, 0.9542806132709262, 0.9935535799495094, 0.9888917416832554, 0.00331275675883357, 0.6890534058373825, 0.2550822704301849, 0.05300410814133712, 0.024699073884501595, 0.9714969061237294, 0.06419675879279357, 0.13103174054967456, 0.12047884869332494, 0.2154548754004716, 0.4669654646434711, 0.001758815309391605, 0.03726576793494064, 0.5145080218114384, 0.0012021215462884075, 0.2794932595120548, 0.16769595570723286, 0.22326240535504052, 0.7734447614085332, 0.991938233594236, 0.12241201711694732, 0.008743715508353381, 0.8000499690143343, 0.06557786631265035, 0.983467429432416, 0.9725227652746348, 0.9922824502784375, 0.9822217674747937, 0.9978799374426806, 0.997222248294387, 0.9927085303455988, 0.20924021740263196, 0.0770885011483381, 0.07341762014127437, 0.6350624142220234, 0.0007006406853781996, 0.1632492796931205, 0.3005748540272476, 0.0021019220561345987, 0.533888202258188, 0.11744174545184291, 0.8596735767074901, 0.021922459151010674, 0.09159145877473422, 0.2885130951404128, 0.174023771671995, 0.4465083615268293, 0.14907197478853895, 0.18219908029710316, 0.08281776377141054, 0.19876263305138528, 0.33127105508564214, 0.05420799083219598, 0.8355989079622822, 0.03909234657133484, 0.05375197653558541, 0.06841160649983598, 0.010969154755436548, 0.9872239279892894, 0.9957473173368997, 0.008414241442357704, 0.8554478799730332, 0.0028047471474525677, 0.014023735737262838, 0.11779938019300785, 0.9892638742806824, 0.9811736330717541, 0.9864700833038239, 0.18563821544646483, 0.054599475131313184, 0.010919895026262637, 0.7491047988016168, 0.001774457465992394, 0.1597011719393155, 0.001774457465992394, 0.11356527782351322, 0.7239786461248968, 0.9957538430500712, 0.9931955405615841, 0.5740190419222417, 0.4260759898804269, 0.9824468411612841, 0.998560844693497, 0.998401270398969, 0.04145591582853666, 0.20946146944944838, 0.2901914107997566, 0.4581969644206683, 0.003069713893941837, 0.9976570155310971, 0.28215040378325873, 0.5865758394441432, 0.003712505312937615, 0.12622518063987892, 0.9927258843956001, 0.01297866891275121, 0.9837831035865418, 0.9828852864175156, 0.19996950058916402, 0.37641317757960285, 0.09410329439490071, 0.3293615303821525, 0.9959336870379125, 0.006942539043193779, 0.5554031234555022, 0.010413808564790667, 0.11455189421269735, 0.31241425694372005, 0.0046253729964458624, 0.17807686036316572, 0.030064924476898108, 0.0023126864982229312, 0.7863134093957966, 0.9909966186685701, 0.061527109913938026, 0.28658680144123766, 0.1554369092562645, 0.16515171608478102, 0.11495854747077895, 0.2153448846987831, 0.03366999330892733, 0.1893937123627162, 0.48961781936731824, 0.06593707022998269, 0.2202578728958996, 0.19275332680325763, 0.023130399216390915, 0.782578506821226, 0.9677989147016298, 0.08846022642849966, 0.19271692186208852, 0.24642491647939188, 0.4738940701526767, 0.9828853549308072, 0.982885259192928, 0.9884387986342136, 0.9927847836644719, 0.9957564362734861, 0.22463985505051481, 0.13237705744048195, 0.6257824533550056, 0.008022851966089815, 0.0040114259830449075, 0.9952276977661516, 0.10135160498940701, 0.0855857997688326, 0.13738773120786285, 0.635136724600284, 0.04054064199576281, 0.9862763850675186, 0.9884499814573166, 0.9967978638520707, 0.9919068859415169, 0.9982127837953003, 0.9960659006855517, 0.06077978734461991, 0.002095854736021376, 0.9347512122655337, 0.9970067155890505, 0.0029498748428075164, 0.2153408635249487, 0.6017744679327334, 0.17699249056845098, 0.9886193289775881, 0.9956842866733542, 0.988982227453808, 0.9771160638921006, 0.5188994897993102, 0.08207083767233987, 0.26739208402923637, 0.002647446376527093, 0.12707742607330044, 0.9895652364591433, 0.6565085521201715, 0.34138444710248916, 0.9920538857992929, 0.783767643963103, 0.21056444166172916, 0.9911662638686879, 0.9914013362587928, 0.9883324697193041, 0.9981545503259509, 0.994356598211034, 0.10155970871186416, 0.1302613655217388, 0.6424755485902711, 0.11701444699410436, 0.0066234592638172276, 0.9958877367252802, 0.9977550253068745, 0.007531184478106023, 0.0025103948260353413, 0.010041579304141365, 0.838471871895804, 0.1405821102579791, 0.9956105848497107, 0.3972705089514518, 0.1388831860561986, 0.45863749813907445, 0.9761260316395483, 0.020126309930712336, 0.9905816188585029, 0.737455568131536, 0.25734126596256723, 0.9995224557845631, 0.9936854551528358, 0.9943082556224018, 0.19600154402720987, 0.4967625339999974, 0.12503546774149596, 0.18248419616326436, 0.10149280585164093, 0.16155997666179575, 0.5447471007955421, 0.19262920294291033, 0.980517697501977, 0.9983170312366344, 0.9931827562433974, 0.08704729342734638, 0.23031263052652065, 0.5095893636059237, 0.10518214622471021, 0.03445622031499128, 0.032642735035254895, 0.03979580441670086, 0.13265268138900285, 0.5206617744518363, 0.13265268138900285, 0.1724484858057037, 0.0033163170347250714, 0.994643636498545, 0.002786116628847465, 0.07527681910995714, 0.12267333484585607, 0.08364091012217459, 0.25649879104133544, 0.058548637085522215, 0.40426439892384386, 0.9944932790592779, 0.9883512930306634, 0.9971009731111088, 0.9930285037996268, 0.9913388062094557, 0.9858923704254069, 0.9180728470969852, 0.07803619200324374, 0.004590364235484926, 0.9991245301517895, 0.9986585530037023, 0.012034069766296538, 0.9747596510700196, 0.9963266529209261, 0.09870444818661726, 0.19740889637323453, 0.7050317727615518, 0.9843625035982392, 0.9825037625969688, 0.14254177933920315, 0.16901382407362658, 0.23213946920955938, 0.0020363111334171877, 0.05090777833542969, 0.4031896044166032, 0.7993961279449024, 0.1981010812691449, 0.9942099602292027, 0.06832445180910035, 0.20866656903860378, 0.3674747543246208, 0.027699102084770413, 0.3268494046002909, 0.9677992012676166, 0.9668221124592472, 0.0286769270644692, 0.0025832606388748354, 0.596733207580087, 0.14982911705474045, 0.24540976069310935, 0.005166521277749671, 0.18584439294578584, 0.8072615818582572, 0.027669761760019198, 0.09684416616006719, 0.8715974954406047, 0.9944930974840895, 0.9975681884601156, 0.7053706967729431, 0.2929654651133629, 0.994954014803354, 0.9918457583214275, 0.9784062868667049, 0.9881123418933297, 0.9771123534148084, 0.8882120248922456, 0.09963916945906601, 0.011387333652464688, 0.01190020961630013, 0.9758171885366107, 0.6153411954006107, 0.38309179480193667, 0.9815997501134425, 0.9895085156612208, 0.9971385340135596, 0.9958000487239355, 0.9980880278513247, 0.9927862148678355, 0.995230633202564, 0.9948483592429598, 0.9924682519153366, 0.9991383349202503, 0.9976373250860512, 0.007795870111360923, 0.14032566200449662, 0.8497498421383406, 0.9896352841179729, 0.010586101311923722, 0.16937762099077955, 0.8186585014554345, 0.99317566182544, 0.9831171809844175, 0.9943565319331571, 0.9922858031427232, 0.11765053484087588, 0.06566541479490746, 0.48154637516265475, 0.15869141908769305, 0.05472117899575622, 0.12038659379066369, 0.14556173039252365, 0.8506263619813101, 0.9672305766720537, 0.021026751666783774, 0.011261040991990691, 0.9909716072951807, 0.9965070121214126, 0.9931947927622593, 0.08601240619974608, 0.048166947471857804, 0.18922729363944138, 0.34232937667498936, 0.3354483841790097, 0.11453943743673742, 0.37929453052821244, 0.3210859639620016, 0.18589187387273778, 0.6973294035271745, 0.055809366453907536, 0.245676283255861, 0.000575354293339253, 0.00706790150120174, 0.06361111351081566, 0.1201543255204296, 0.8057407711369984, 0.9926491160710548, 0.0956603181195881, 0.8928296357828223, 0.6883366050812851, 0.1542823425182191, 0.007911915000934312, 0.14637042751728477, 0.984914738823687, 0.9983802429763197, 0.987638388799419, 0.98317743741251, 0.011172470879687613, 0.9933350756464083, 0.021609418265569804, 0.9724238219506411, 0.9771161651604556, 0.9943282242424816, 0.9960393425088797, 0.9990935974574189, 0.9946482144057351, 0.7651892839740152, 0.22802527217016613, 0.006806724542393019, 0.9962006477424047, 0.9955805878579312, 0.987168642540885, 0.09846467732889087, 0.08861820959600178, 0.8074103540969051, 0.13904172845842994, 0.662666961163581, 0.19722230987011338, 0.9930415601946275, 0.06436459362988692, 0.10532388048526951, 0.8308883904949039, 0.9989619108883935, 0.9853785517205828, 0.976723946845682, 0.12565780358916495, 0.07539468215349897, 0.003590222959690427, 0.2118231546217352, 0.5816161194698491, 0.012016611319104592, 0.03604983395731377, 0.955320599868815, 0.9971871928435091, 0.7352437142556966, 0.1499510206705697, 0.11125398307816461, 0.1175583651398025, 0.06688665602781867, 0.5715768787831776, 0.24119733537304305, 0.9828853489950726, 0.01750220421955615, 0.1400176337564492, 0.014001763375644922, 0.5950749434649092, 0.17852248303947274, 0.04900617181475722, 0.038238541283644976, 0.24581919396628915, 0.15841681388938633, 0.513488982951804, 0.0437011900384514, 0.9984012703989692, 0.14170729882799632, 0.3792754174514019, 0.08127330373958612, 0.10419654325587965, 0.291750321116463, 0.9974929007598683, 0.9833160860677607, 0.9977034887709337, 0.9893261081492025, 0.2664971344594309, 0.7287031020375064, 0.8283347730405498, 0.0259592094115272, 0.13687583144259796, 0.0047198562566413095, 0.9875537703745252, 0.9905468622577376, 0.7932650066599198, 0.20278955057471634, 0.9837838330909816, 0.22653750850875556, 0.7680174068955372, 0.015805632552390064, 0.979949218248184, 0.011898851374375652, 0.987604664073179, 0.9954890506075448, 0.9759091183864803, 0.9640564073095604, 0.03707909258882925, 0.9822030553593935, 0.24737864325475672, 0.14709000409742293, 0.04345841030151132, 0.5616163792810693, 0.2372003703128187, 0.1251486616374381, 0.05675346283558239, 0.5791763643220972, 0.9862811341962966, 0.9834673345600836, 0.16748143473651494, 0.8328394981897607, 0.9933306439004966, 0.988012678281829, 0.9830932478416627, 0.997873844993697, 0.0022940238568227842, 0.025234262425050624, 0.7593218966083415, 0.21334421868451892, 0.9998109778231237, 0.9915630574652372, 0.9916850241118559, 0.9969304326483851, 0.002644377805433382, 0.9944898372295495, 0.2177388126449387, 0.0048386402809986375, 0.014515920842995913, 0.7645051643977847, 0.1268526032870785, 0.1871075898484408, 0.6850040577502239, 0.9913397201494313, 0.17944059298176018, 0.5659280240193975, 0.000766840140947693, 0.23772044369378484, 0.016103642959901555, 0.24857657633043306, 0.49121108310715056, 0.11388966644621434, 0.14558070406603052, 0.9677984997611594, 0.9881426817239308, 0.28766536172933754, 0.7076567898541704, 0.9913130174282929, 0.9775044290607375, 0.9844265155908115, 0.012071460212982074, 0.9777882772515479, 0.9033250793810574, 0.09467162403993615, 0.9853775785493355, 0.9988707631646967, 0.013855854354063996, 0.31714511077079816, 0.0015395393726737774, 0.04464664180753954, 0.621973906560206, 0.9973304090367776, 0.9903302964982524, 0.007228688295607682, 0.9853781000802577, 0.9806153903879997, 0.01782937073432727, 0.390652067131246, 0.06927819909716679, 0.1096904819038474, 0.12893442609750486, 0.14240518703306507, 0.157800342387991, 0.9668004830688748, 0.007031276240500908, 0.024609466841753178, 0.9964364817828721, 0.9898721491637316, 0.7804971464574701, 0.014806178930087508, 0.20305616818405725, 0.997290806370885, 0.9143926009579094, 0.07506207918311197, 0.8969009667932866, 0.10429081009224263, 0.9931954023535278, 0.9893978566824023], \"Term\": [\"abtreibung\", \"afd\", \"afd\", \"afd\", \"afd\", \"afghanistan\", \"afghanistan\", \"afghanistan\", \"aiwanger\", \"aiwanger\", \"ampel\", \"ampel\", \"ampel\", \"analyse\", \"analyse\", \"analyse\", \"angriff\", \"anklage\", \"anklage\", \"anleger\", \"antisemitismus\", \"antisemitismus\", \"armee\", \"attentat\", \"attentat\", \"auto\", \"auto\", \"auto\", \"bachmut\", \"baerbock\", \"baerbock\", \"baerbock\", \"baerbock\", \"baerbock\", \"baerbock\", \"bahn\", \"bahn\", \"bahn\", \"bahn\", \"ballon\", \"bayer\", \"bayern\", \"bayern\", \"belgien\", \"bereit\", \"berlin\", \"berlin\", \"berlin\", \"berlin\", \"besuch\", \"besuch\", \"besuch\", \"besuch\", \"besuch\", \"biden\", \"biden\", \"biden\", \"bleiben\", \"bleiben\", \"bleiben\", \"bleiben\", \"bleiben\", \"bleiben\", \"bolsonaro\", \"boris\", \"brand\", \"brand\", \"brand\", \"brand\", \"brasilien\", \"brasilien\", \"brasilien\", \"brasilien\", \"brauchen\", \"brauchen\", \"brexit\", \"britisch\", \"britisch\", \"britisch\", \"bund\", \"bundeskanzler\", \"bundesliga\", \"bundesregierung\", \"bundesregierung\", \"bundesregierung\", \"bundesregierung\", \"bundeswehr\", \"bundeswehr\", \"bundeswehr\", \"bvb\", \"b\\u00f6rse\", \"cdu\", \"cdu\", \"cdu\", \"cdu\", \"chef\", \"chef\", \"chef\", \"chef\", \"chef\", \"chefin\", \"china\", \"china\", \"china\", \"christian\", \"corona\", \"csu\", \"csu\", \"dax\", \"de\", \"debatte\", \"debatte\", \"debatte\", \"debatte\", \"denken\", \"denken\", \"deutsch\", \"deutsch\", \"deutsch\", \"deutsch\", \"deutsch\", \"deutsch\", \"deutschland\", \"deutschland\", \"deutschland\", \"deutschland\", \"deutschland\", \"dfb\", \"dfb\", \"donald\", \"druck\", \"druck\", \"druck\", \"druck\", \"economist\", \"elmau\", \"em\", \"entlastungspaket\", \"entwicklung\", \"erdbeben\", \"erdogan\", \"erwarten\", \"erwarten\", \"erwarten\", \"erwarten\", \"eu\", \"eu\", \"eu\", \"eu\", \"eu\", \"euro\", \"euro\", \"euro\", \"europa\", \"europa\", \"europa\", \"europa\", \"ex\", \"ex\", \"ex\", \"ex\", \"ex\", \"ex\", \"explosion\", \"explosion\", \"explosion\", \"explosion\", \"faeser\", \"faeser\", \"fc\", \"fdp\", \"fdp\", \"fdp\", \"fdp\", \"fdp\", \"feuern\", \"fifa\", \"fragen\", \"frankreich\", \"frankreich\", \"frankreich\", \"frankreich\", \"frau\", \"frau\", \"frau\", \"frau\", \"frau\", \"freiburg\", \"front\", \"fu\\u00dfball\", \"fu\\u00dfball\", \"g20\", \"g7\", \"gabor\", \"gas\", \"gas\", \"gas\", \"gas\", \"gastbeitrag\", \"gastbeitrag\", \"generation\", \"generation\", \"generation\", \"generation\", \"gesellschaft\", \"gipfel\", \"gipfel\", \"gladbach\", \"gro\\u00df\", \"gro\\u00df\", \"gro\\u00df\", \"gro\\u00df\", \"gro\\u00dfbritannien\", \"gr\\u00fcn\", \"gr\\u00fcn\", \"gr\\u00fcn\", \"gr\\u00fcn\", \"gr\\u00fcn\", \"gr\\u00fcne\", \"gr\\u00fcne\", \"gr\\u00fcne\", \"gr\\u00fcne\", \"gr\\u00fcne\", \"gr\\u00fcnen\", \"gut\", \"gut\", \"gut\", \"gut\", \"gut\", \"gut\", \"habeck\", \"habeck\", \"habeck\", \"habeck\", \"habeck\", \"haft\", \"haft\", \"haft\", \"halbfinal\", \"halten\", \"halten\", \"halten\", \"halten\", \"handball\", \"hartz\", \"haushalt\", \"heizungsgesetz\", \"hertha\", \"hilfe\", \"hilfe\", \"hilfe\", \"hilfe\", \"hilfe\", \"hitze\", \"hoch\", \"hoch\", \"hoch\", \"hoch\", \"hoch\", \"hugo\", \"impfung\", \"inflation\", \"intelligenz\", \"invasion\", \"inzidenz\", \"iran\", \"iran\", \"iran\", \"israel\", \"italien\", \"italien\", \"italien\", \"italien\", \"joe\", \"johnson\", \"justizreform\", \"j\\u00e4ger\", \"kampf\", \"kampf\", \"kampf\", \"kampf\", \"kampf\", \"kampfjet\", \"kanzler\", \"kanzler\", \"kapitol\", \"katar\", \"katar\", \"katholisch\", \"kaufen\", \"ki\", \"kiew\", \"kim\", \"kind\", \"kind\", \"kind\", \"kind\", \"kind\", \"kindergrundsicherung\", \"kirche\", \"klima\", \"klima\", \"klima\", \"klima\", \"klima\", \"koalition\", \"kommentar\", \"kommentar\", \"kommentar\", \"kommune\", \"kommune\", \"kosovo\", \"kreml\", \"kreml\", \"krieg\", \"kriegsverlauf\", \"krim\", \"krise\", \"krise\", \"krise\", \"krise\", \"kritik\", \"kritik\", \"kritik\", \"kritik\", \"k\\u00fcnstliche\", \"lage\", \"lambrecht\", \"land\", \"land\", \"land\", \"land\", \"land\", \"land\", \"lang\", \"lang\", \"lang\", \"lang\", \"lang\", \"lang\", \"lauterbach\", \"lauterbach\", \"leben\", \"leben\", \"leben\", \"leben\", \"leben\", \"leben\", \"lebensmittel\", \"leichtathletik\", \"leipzig\", \"leopard\", \"leverkusen\", \"liebe\", \"liefern\", \"liefern\", \"liefern\", \"lindner\", \"liveblog\", \"lufthansa\", \"lufthansa\", \"l\\u00fctzerath\", \"macron\", \"macron\", \"macron\", \"mai\", \"mainz\", \"mann\", \"mann\", \"mann\", \"mann\", \"mann\", \"mann\", \"marktbericht\", \"marktbericht\", \"maskenpflicht\", \"mensch\", \"mensch\", \"mensch\", \"mensch\", \"mensch\", \"messi\", \"milliarde\", \"milliarde\", \"million\", \"million\", \"million\", \"million\", \"million\", \"mindestens\", \"mindestens\", \"minister\", \"minister\", \"minister\", \"missbrauch\", \"morgen\", \"moskau\", \"moskau\", \"musk\", \"m\\u00fcller\", \"m\\u00fcnchner\", \"nachfolge\", \"nachhaltig\", \"nachricht\", \"nachricht\", \"nachricht\", \"nahost\", \"nahost\", \"nato\", \"nato\", \"nawalny\", \"netanjahu\", \"news\", \"nord\", \"nordkorea\", \"notstand\", \"offensive\", \"olaf\", \"olympia\", \"pandemie\", \"panzer\", \"papst\", \"papst\", \"papst\", \"parlamentswahl\", \"partei\", \"partei\", \"partei\", \"partnerportal\", \"pelosi\", \"pipeline\", \"pistorius\", \"plan\", \"plan\", \"plan\", \"plan\", \"plan\", \"plan\", \"podcast\", \"podcast\", \"positiv\", \"positiv\", \"post\", \"post\", \"preis\", \"prigoschin\", \"protest\", \"protest\", \"protest\", \"protest\", \"protest\", \"pr\\u00e4sident\", \"pr\\u00e4sident\", \"pr\\u00e4sident\", \"pr\\u00e4sident\", \"putin\", \"putin\", \"putin\", \"putin\", \"queen\", \"queen\", \"queen\", \"queen\", \"rbb\", \"reaktion\", \"reaktion\", \"recht\", \"recht\", \"recht\", \"recht\", \"regen\", \"regierung\", \"reichsb\\u00fcrger\", \"reise\", \"reise\", \"reitz\", \"rentenreform\", \"rentenreform\", \"repr\\u00e4sentantenhaus\", \"rki\", \"russe\", \"russisch\", \"russischer\", \"russland\", \"russland\", \"russland\", \"sanktion\", \"saporischschja\", \"schalke\", \"schlagen\", \"schlagen\", \"schlagen\", \"scholz\", \"scholz\", \"scholz\", \"schule\", \"schweden\", \"schweden\", \"schweden\", \"selenskyj\", \"serbien\", \"sicherheitskonferenz\", \"sieg\", \"sieg\", \"sieg\", \"sieg\", \"sieg\", \"sinken\", \"sinken\", \"sinken\", \"soldat\", \"spanien\", \"spanien\", \"spanien\", \"spd\", \"spd\", \"spd\", \"spd\", \"spieltag\", \"stark\", \"stark\", \"stark\", \"stark\", \"stark\", \"stark\", \"steigen\", \"steigen\", \"steigen\", \"steigen\", \"steigen\", \"steingart\", \"sterben\", \"sterben\", \"sterben\", \"sterben\", \"sterben\", \"stimme\", \"stimmung\", \"stream\", \"street\", \"streik\", \"streik\", \"streit\", \"streit\", \"streit\", \"streit\", \"sturm\", \"stuttgart\", \"sudan\", \"sudan\", \"sunak\", \"s\\u00f6der\", \"s\\u00f6der\", \"s\\u00fcdafrika\", \"s\\u00fcdafrika\", \"s\\u00fcdkorea\", \"s\\u00fcdkorea\", \"taiwan\", \"terminal\", \"ticket\", \"ticket\", \"tiktok\", \"tod\", \"tod\", \"tod\", \"tod\", \"tote\", \"tote\", \"tote\", \"tote\", \"tour\", \"trainer\", \"trump\", \"trump\", \"truppe\", \"truss\", \"tunesien\", \"twitter\", \"t\\u00fcrkei\", \"t\\u00fcrkei\", \"t\\u00fcrkei\", \"t\\u00fcrkei\", \"ukraine\", \"ukrainekrieg\", \"ukrainer\", \"ukrainisch\", \"ukrainisch\", \"ulrich\", \"unfall\", \"unfall\", \"unfall\", \"unfall\", \"union\", \"union\", \"union\", \"updat\", \"us\", \"us\", \"us\", \"us\", \"us\", \"usa\", \"usa\", \"usa\", \"usa\", \"verabschieden\", \"verbrenner\", \"verletzter\", \"verletzter\", \"versteher\", \"vertrauen\", \"vogg\", \"vorbei\", \"vorbei\", \"waffe\", \"waffe\", \"waffenruhe\", \"wagner\", \"wahl\", \"wahl\", \"wahl\", \"wahl\", \"wahl\", \"wahrheit\", \"waldbrand\", \"waldbrand\", \"wall\", \"warnstreik\", \"warnstreik\", \"weit\", \"weit\", \"weit\", \"weit\", \"weit\", \"weit\", \"welt\", \"welt\", \"welt\", \"wetter\", \"wissing\", \"wm\", \"wm\", \"wm\", \"york\", \"zahlen\", \"zahlen\", \"\\u00f6sterreich\", \"\\u00f6sterreich\", \"\\u00fcberblick\", \"\\u00fcberschwemmung\"]}, \"R\": 30, \"lambda.step\": 0.01, \"plot.opts\": {\"xlab\": \"PC1\", \"ylab\": \"PC2\"}, \"topic.order\": [1, 3, 2, 6, 4, 5]};\n",
       "\n",
       "function LDAvis_load_lib(url, callback){\n",
       "  var s = document.createElement('script');\n",
       "  s.src = url;\n",
       "  s.async = true;\n",
       "  s.onreadystatechange = s.onload = callback;\n",
       "  s.onerror = function(){console.warn(\"failed to load library \" + url);};\n",
       "  document.getElementsByTagName(\"head\")[0].appendChild(s);\n",
       "}\n",
       "\n",
       "if(typeof(LDAvis) !== \"undefined\"){\n",
       "   // already loaded: just create the visualization\n",
       "   !function(LDAvis){\n",
       "       new LDAvis(\"#\" + \"ldavis_el475215045452670881456685578\", ldavis_el475215045452670881456685578_data);\n",
       "   }(LDAvis);\n",
       "}else if(typeof define === \"function\" && define.amd){\n",
       "   // require.js is available: use it to load d3/LDAvis\n",
       "   require.config({paths: {d3: \"https://d3js.org/d3.v5\"}});\n",
       "   require([\"d3\"], function(d3){\n",
       "      window.d3 = d3;\n",
       "      LDAvis_load_lib(\"https://cdn.jsdelivr.net/gh/bmabey/pyLDAvis@3.4.0/pyLDAvis/js/ldavis.v3.0.0.js\", function(){\n",
       "        new LDAvis(\"#\" + \"ldavis_el475215045452670881456685578\", ldavis_el475215045452670881456685578_data);\n",
       "      });\n",
       "    });\n",
       "}else{\n",
       "    // require.js not available: dynamically load d3 & LDAvis\n",
       "    LDAvis_load_lib(\"https://d3js.org/d3.v5.js\", function(){\n",
       "         LDAvis_load_lib(\"https://cdn.jsdelivr.net/gh/bmabey/pyLDAvis@3.4.0/pyLDAvis/js/ldavis.v3.0.0.js\", function(){\n",
       "                 new LDAvis(\"#\" + \"ldavis_el475215045452670881456685578\", ldavis_el475215045452670881456685578_data);\n",
       "            })\n",
       "         });\n",
       "}\n",
       "</script>"
      ],
      "text/plain": [
       "PreparedData(topic_coordinates=               x          y  topics  cluster       Freq\n",
       "topic                                                  \n",
       "0     -83.283760  44.359619       1        1  18.793372\n",
       "2     -17.855074  91.507027       2        1  17.134110\n",
       "1     -58.269043 -32.293758       3        1  16.373832\n",
       "5      22.107683 -32.159653       4        1  16.102300\n",
       "3     -18.216829  23.200260       5        1  15.955264\n",
       "4      47.030670  44.166130       6        1  15.641122, topic_info=            Term         Freq        Total Category  logprob  loglift\n",
       "18325    ukraine  4537.000000  4537.000000  Default  30.0000  30.0000\n",
       "10150      krieg  2629.000000  2629.000000  Default  29.0000  29.0000\n",
       "15087   russisch  1381.000000  1381.000000  Default  28.0000  28.0000\n",
       "3583      corona  1141.000000  1141.000000  Default  27.0000  27.0000\n",
       "15091   russland  1762.000000  1762.000000  Default  26.0000  26.0000\n",
       "...          ...          ...          ...      ...      ...      ...\n",
       "9854   kommentar   142.170196   309.612713   Topic6  -5.9019   1.0770\n",
       "10650      leben   145.131934   358.676154   Topic6  -5.8812   0.9505\n",
       "7647      habeck   157.369173   712.800854   Topic6  -5.8003   0.3447\n",
       "6369     fußball   143.523851   337.967882   Topic6  -5.8924   0.9988\n",
       "2314      berlin   154.548740   982.513856   Topic6  -5.8184   0.0057\n",
       "\n",
       "[362 rows x 6 columns], token_table=       Topic      Freq            Term\n",
       "term                                  \n",
       "333        2  0.980582      abtreibung\n",
       "418        2  0.172287             afd\n",
       "418        3  0.168841             afd\n",
       "418        5  0.520307             afd\n",
       "418        6  0.137830             afd\n",
       "...      ...       ...             ...\n",
       "20777      3  0.075062          zahlen\n",
       "21262      3  0.896901      österreich\n",
       "21262      5  0.104291      österreich\n",
       "21275      1  0.993195       überblick\n",
       "21368      6  0.989398  überschwemmung\n",
       "\n",
       "[650 rows x 3 columns], R=30, lambda_step=0.01, plot_opts={'xlab': 'PC1', 'ylab': 'PC2'}, topic_order=[1, 3, 2, 6, 4, 5])"
      ]
     },
     "execution_count": 31,
     "metadata": {},
     "output_type": "execute_result"
    }
   ],
   "source": [
    "pyLDAvis.enable_notebook()\n",
    "panel = pyLDAvis.lda_model.prepare(lda, dtm, cv, mds='tsne')\n",
    "panel"
   ]
  },
  {
   "cell_type": "markdown",
   "id": "3a4c2e1a",
   "metadata": {},
   "source": [
    "## Save train set with topics and dump model"
   ]
  },
  {
   "cell_type": "code",
   "execution_count": 32,
   "id": "78051ef9",
   "metadata": {},
   "outputs": [],
   "source": [
    "#Save result to csv\n",
    "train.to_csv('train_lda_topics_6.csv')"
   ]
  },
  {
   "cell_type": "code",
   "execution_count": 33,
   "id": "2c153876",
   "metadata": {},
   "outputs": [
    {
     "data": {
      "text/plain": [
       "['models/cv.jl']"
      ]
     },
     "execution_count": 33,
     "metadata": {},
     "output_type": "execute_result"
    }
   ],
   "source": [
    "# Dump countvectorizer\n",
    "joblib.dump(cv, 'models/cv.jl')"
   ]
  },
  {
   "cell_type": "code",
   "execution_count": 34,
   "id": "c06c71c2",
   "metadata": {},
   "outputs": [
    {
     "data": {
      "text/plain": [
       "['models/lda_model_6_topics.jl']"
      ]
     },
     "execution_count": 34,
     "metadata": {},
     "output_type": "execute_result"
    }
   ],
   "source": [
    "# Dump LDA model\n",
    "joblib.dump(lda, 'models/lda_model_6_topics.jl')"
   ]
  },
  {
   "cell_type": "code",
   "execution_count": null,
   "id": "25c09460",
   "metadata": {},
   "outputs": [],
   "source": []
  }
 ],
 "metadata": {
  "kernelspec": {
   "display_name": "nlp",
   "language": "python",
   "name": "nlp"
  },
  "language_info": {
   "codemirror_mode": {
    "name": "ipython",
    "version": 3
   },
   "file_extension": ".py",
   "mimetype": "text/x-python",
   "name": "python",
   "nbconvert_exporter": "python",
   "pygments_lexer": "ipython3",
   "version": "3.11.5"
  }
 },
 "nbformat": 4,
 "nbformat_minor": 5
}
