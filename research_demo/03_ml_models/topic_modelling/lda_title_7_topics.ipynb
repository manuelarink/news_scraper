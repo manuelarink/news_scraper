{
 "cells": [
  {
   "cell_type": "markdown",
   "id": "d23815fa",
   "metadata": {},
   "source": [
    "# Topic modelling of news headlines for prediction of news category with 7 topics"
   ]
  },
  {
   "cell_type": "markdown",
   "id": "75523a79",
   "metadata": {},
   "source": [
    "Now we wan't to perform topic modelling with unsupervised learning and train a modell for prediction of news category labels without using the provided labels in the corpus.\n",
    "We use the LDA classifier and assume 7 topics. "
   ]
  },
  {
   "cell_type": "code",
   "execution_count": 1,
   "id": "a2821ff5",
   "metadata": {},
   "outputs": [],
   "source": [
    "import pandas as pd\n",
    "import numpy as np\n",
    "import matplotlib.pyplot as plt\n",
    "import seaborn as sns\n",
    "\n",
    "import joblib\n",
    "\n",
    "import wordcloud\n",
    "\n",
    "import pyLDAvis.lda_model"
   ]
  },
  {
   "cell_type": "markdown",
   "id": "6594f2c8",
   "metadata": {},
   "source": [
    "## Load train set"
   ]
  },
  {
   "cell_type": "code",
   "execution_count": 2,
   "id": "d737f3a4",
   "metadata": {},
   "outputs": [],
   "source": [
    "train = pd.read_csv('../../data/01_train_nosplit_preprocessed.csv')"
   ]
  },
  {
   "cell_type": "code",
   "execution_count": 3,
   "id": "72fc6b38",
   "metadata": {},
   "outputs": [
    {
     "data": {
      "text/html": [
       "<div>\n",
       "<style scoped>\n",
       "    .dataframe tbody tr th:only-of-type {\n",
       "        vertical-align: middle;\n",
       "    }\n",
       "\n",
       "    .dataframe tbody tr th {\n",
       "        vertical-align: top;\n",
       "    }\n",
       "\n",
       "    .dataframe thead th {\n",
       "        text-align: right;\n",
       "    }\n",
       "</style>\n",
       "<table border=\"1\" class=\"dataframe\">\n",
       "  <thead>\n",
       "    <tr style=\"text-align: right;\">\n",
       "      <th></th>\n",
       "      <th>date</th>\n",
       "      <th>title</th>\n",
       "      <th>description</th>\n",
       "      <th>category</th>\n",
       "      <th>text</th>\n",
       "      <th>source</th>\n",
       "      <th>title_description_text</th>\n",
       "      <th>title_cleaned</th>\n",
       "      <th>title_description_text_cleaned</th>\n",
       "    </tr>\n",
       "  </thead>\n",
       "  <tbody>\n",
       "    <tr>\n",
       "      <th>0</th>\n",
       "      <td>2022-06-01 00:13:42</td>\n",
       "      <td>Preise: Grüne halten Senkung der Spritsteuer f...</td>\n",
       "      <td>Heute tritt die Steuersenkung auf Kraftstoffe ...</td>\n",
       "      <td>Other</td>\n",
       "      <td>NaN</td>\n",
       "      <td>stern</td>\n",
       "      <td>Preise: Grüne halten Senkung der Spritsteuer f...</td>\n",
       "      <td>Preis grüne halten Senkung Spritsteuer falsch ...</td>\n",
       "      <td>Preis grüne halten Senkung Spritsteuer falsch ...</td>\n",
       "    </tr>\n",
       "    <tr>\n",
       "      <th>1</th>\n",
       "      <td>2022-06-01 01:55:03</td>\n",
       "      <td>Biden warnt Putin: USA liefern moderne Raketen...</td>\n",
       "      <td>Die USA rüsten die Ukraine mit fortschrittlich...</td>\n",
       "      <td>Other</td>\n",
       "      <td>NaN</td>\n",
       "      <td>stern</td>\n",
       "      <td>Biden warnt Putin: USA liefern moderne Raketen...</td>\n",
       "      <td>Biden warnen Putin USA liefern modern Raketens...</td>\n",
       "      <td>Biden warnen Putin USA liefern modern Raketens...</td>\n",
       "    </tr>\n",
       "    <tr>\n",
       "      <th>2</th>\n",
       "      <td>2022-06-01 02:04:08</td>\n",
       "      <td>Soziale Medien: FDP-Politiker Kuhle: Internet-...</td>\n",
       "      <td>Eine «ZDF Magazin Royale»-Recherche beschäftig...</td>\n",
       "      <td>Other</td>\n",
       "      <td>NaN</td>\n",
       "      <td>stern</td>\n",
       "      <td>Soziale Medien: FDP-Politiker Kuhle: Internet-...</td>\n",
       "      <td>sozial Medium FDP-Politiker Kuhle Internet-Str...</td>\n",
       "      <td>sozial Medium FDP-Politiker Kuhle Internet-Str...</td>\n",
       "    </tr>\n",
       "    <tr>\n",
       "      <th>3</th>\n",
       "      <td>2022-06-01 02:26:58</td>\n",
       "      <td>Liveblog: ++ Zwei von drei ukrainischen Kinder...</td>\n",
       "      <td>Rund zwei von drei Mädchen und Jungen in der U...</td>\n",
       "      <td>Missing</td>\n",
       "      <td>NaN</td>\n",
       "      <td>Tagesschau</td>\n",
       "      <td>Liveblog: ++ Zwei von drei ukrainischen Kinder...</td>\n",
       "      <td>Liveblog ukrainisch Kind vertreiben</td>\n",
       "      <td>Liveblog ukrainisch Kind vertreiben rund Mädch...</td>\n",
       "    </tr>\n",
       "    <tr>\n",
       "      <th>4</th>\n",
       "      <td>2022-06-01 02:31:43</td>\n",
       "      <td>Finanzen: Dänemark stimmt über EU-Verteidigung...</td>\n",
       "      <td>Vorbehalt verteidigen oder Verteidigung ohne V...</td>\n",
       "      <td>Other</td>\n",
       "      <td>NaN</td>\n",
       "      <td>stern</td>\n",
       "      <td>Finanzen: Dänemark stimmt über EU-Verteidigung...</td>\n",
       "      <td>Finanz Dänemark stimmen EU-Verteidigungsvorbehalt</td>\n",
       "      <td>Finanz Dänemark stimmen EU-Verteidigungsvorbeh...</td>\n",
       "    </tr>\n",
       "  </tbody>\n",
       "</table>\n",
       "</div>"
      ],
      "text/plain": [
       "                  date                                              title  \\\n",
       "0  2022-06-01 00:13:42  Preise: Grüne halten Senkung der Spritsteuer f...   \n",
       "1  2022-06-01 01:55:03  Biden warnt Putin: USA liefern moderne Raketen...   \n",
       "2  2022-06-01 02:04:08  Soziale Medien: FDP-Politiker Kuhle: Internet-...   \n",
       "3  2022-06-01 02:26:58  Liveblog: ++ Zwei von drei ukrainischen Kinder...   \n",
       "4  2022-06-01 02:31:43  Finanzen: Dänemark stimmt über EU-Verteidigung...   \n",
       "\n",
       "                                         description category  text  \\\n",
       "0  Heute tritt die Steuersenkung auf Kraftstoffe ...    Other   NaN   \n",
       "1  Die USA rüsten die Ukraine mit fortschrittlich...    Other   NaN   \n",
       "2  Eine «ZDF Magazin Royale»-Recherche beschäftig...    Other   NaN   \n",
       "3  Rund zwei von drei Mädchen und Jungen in der U...  Missing   NaN   \n",
       "4  Vorbehalt verteidigen oder Verteidigung ohne V...    Other   NaN   \n",
       "\n",
       "       source                             title_description_text  \\\n",
       "0       stern  Preise: Grüne halten Senkung der Spritsteuer f...   \n",
       "1       stern  Biden warnt Putin: USA liefern moderne Raketen...   \n",
       "2       stern  Soziale Medien: FDP-Politiker Kuhle: Internet-...   \n",
       "3  Tagesschau  Liveblog: ++ Zwei von drei ukrainischen Kinder...   \n",
       "4       stern  Finanzen: Dänemark stimmt über EU-Verteidigung...   \n",
       "\n",
       "                                       title_cleaned  \\\n",
       "0  Preis grüne halten Senkung Spritsteuer falsch ...   \n",
       "1  Biden warnen Putin USA liefern modern Raketens...   \n",
       "2  sozial Medium FDP-Politiker Kuhle Internet-Str...   \n",
       "3                Liveblog ukrainisch Kind vertreiben   \n",
       "4  Finanz Dänemark stimmen EU-Verteidigungsvorbehalt   \n",
       "\n",
       "                      title_description_text_cleaned  \n",
       "0  Preis grüne halten Senkung Spritsteuer falsch ...  \n",
       "1  Biden warnen Putin USA liefern modern Raketens...  \n",
       "2  sozial Medium FDP-Politiker Kuhle Internet-Str...  \n",
       "3  Liveblog ukrainisch Kind vertreiben rund Mädch...  \n",
       "4  Finanz Dänemark stimmen EU-Verteidigungsvorbeh...  "
      ]
     },
     "execution_count": 3,
     "metadata": {},
     "output_type": "execute_result"
    }
   ],
   "source": [
    "train.head()"
   ]
  },
  {
   "cell_type": "markdown",
   "id": "46b4f629",
   "metadata": {},
   "source": [
    "## Load German stopwords"
   ]
  },
  {
   "cell_type": "code",
   "execution_count": 4,
   "id": "da144b59",
   "metadata": {},
   "outputs": [],
   "source": [
    "stop_words = pd.read_csv('german_stopwords.txt', header=None)[0].values.tolist()"
   ]
  },
  {
   "cell_type": "code",
   "execution_count": 5,
   "id": "bd74c6d3",
   "metadata": {},
   "outputs": [
    {
     "name": "stdout",
     "output_type": "stream",
     "text": [
      "['ab', 'aber', 'alle', 'allein', 'allem', 'allen', 'aller', 'allerdings', 'allerlei', 'alles', 'allmählich', 'allzu', 'als', 'alsbald', 'also', 'am', 'an', 'and', 'ander', 'andere', 'anderem', 'anderen', 'anderer', 'andererseits', 'anderes', 'anderm', 'andern', 'andernfalls', 'anders', 'anstatt', 'auch', 'auf', 'aus', 'ausgenommen', 'ausser', 'ausserdem', 'außer', 'außerdem', 'außerhalb', 'bald', 'bei', 'beide', 'beiden', 'beiderlei', 'beides', 'beim', 'beinahe', 'bereits', 'besonders', 'besser', 'beträchtlich', 'bevor', 'bezüglich', 'bin', 'bis', 'bisher', 'bislang', 'bist', 'bloß', 'bsp.', 'bzw', 'ca', 'ca.', 'content', 'da', 'dabei', 'dadurch', 'dafür', 'dagegen', 'daher', 'dahin', 'damals', 'damit', 'danach', 'daneben', 'dann', 'daran', 'darauf', 'daraus', 'darin', 'darum', 'darunter', 'darüber', 'darüberhinaus', 'das', 'dass', 'dasselbe', 'davon', 'davor', 'dazu', 'daß', 'dein', 'deine', 'deinem', 'deinen', 'deiner', 'deines', 'dem', 'demnach', 'demselben', 'den', 'denen', 'denn', 'dennoch', 'denselben', 'der', 'derart', 'derartig', 'derem', 'deren', 'derer', 'derjenige', 'derjenigen', 'derselbe', 'derselben', 'derzeit', 'des', 'deshalb', 'desselben', 'dessen', 'desto', 'deswegen', 'dich', 'die', 'diejenige', 'dies', 'diese', 'dieselbe', 'dieselben', 'diesem', 'diesen', 'dieser', 'dieses', 'diesseits', 'dir', 'direkt', 'direkte', 'direkten', 'direkter', 'doch', 'dort', 'dorther', 'dorthin', 'drauf', 'drin', 'drunter', 'drüber', 'du', 'dunklen', 'durch', 'durchaus', 'eben', 'ebenfalls', 'ebenso', 'eher', 'eigenen', 'eigenes', 'eigentlich', 'ein', 'eine', 'einem', 'einen', 'einer', 'einerseits', 'eines', 'einfach', 'einführen', 'einführte', 'einführten', 'eingesetzt', 'einig', 'einige', 'einigem', 'einigen', 'einiger', 'einigermaßen', 'einiges', 'einmal', 'eins', 'einseitig', 'einseitige', 'einseitigen', 'einseitiger', 'einst', 'einstmals', 'einzig', 'entsprechend', 'entweder', 'er', 'erst', 'es', 'etc', 'etliche', 'etwa', 'etwas', 'euch', 'euer', 'eure', 'eurem', 'euren', 'eurer', 'eures', 'falls', 'fast', 'ferner', 'folgende', 'folgenden', 'folgender', 'folgendes', 'folglich', 'fuer', 'für', 'gab', 'ganze', 'ganzem', 'ganzen', 'ganzer', 'ganzes', 'gar', 'gegen', 'gemäss', 'ggf', 'gleich', 'gleichwohl', 'gleichzeitig', 'glücklicherweise', 'gänzlich', 'hab', 'habe', 'haben', 'haette', 'hast', 'hat', 'hatte', 'hatten', 'hattest', 'hattet', 'heraus', 'herein', 'hier', 'hier', 'hinter', 'hiermit', 'hiesige', 'hin', 'hinein', 'hinten', 'hinter', 'hinterher', 'http', 'hätt', 'hätte', 'hätten', 'höchstens', 'ich', 'igitt', 'ihm', 'ihn', 'ihnen', 'ihr', 'ihre', 'ihrem', 'ihren', 'ihrer', 'ihres', 'im', 'immer', 'immerhin', 'in', 'indem', 'indessen', 'infolge', 'innen', 'innerhalb', 'ins', 'insofern', 'inzwischen', 'irgend', 'irgendeine', 'irgendwas', 'irgendwen', 'irgendwer', 'irgendwie', 'irgendwo', 'ist', 'ja', 'je', 'jed', 'jede', 'jedem', 'jeden', 'jedenfalls', 'jeder', 'jederlei', 'jedes', 'jedoch', 'jemand', 'jene', 'jenem', 'jenen', 'jener', 'jenes', 'jenseits', 'jetzt', 'jährig', 'jährige', 'jährigen', 'jähriges', 'kam', 'kann', 'kannst', 'kaum', 'kein', 'keine', 'keinem', 'keinen', 'keiner', 'keinerlei', 'keines', 'keineswegs', 'klar', 'klare', 'klaren', 'klares', 'klein', 'kleinen', 'kleiner', 'kleines', 'koennen', 'koennt', 'koennte', 'koennten', 'komme', 'kommen', 'kommt', 'konkret', 'konkrete', 'konkreten', 'konkreter', 'konkretes', 'können', 'könnt', 'künftig', 'leider', 'machen', 'man', 'manche', 'manchem', 'manchen', 'mancher', 'mancherorts', 'manches', 'manchmal', 'mehr', 'mehrere', 'mein', 'meine', 'meinem', 'meinen', 'meiner', 'meines', 'mich', 'mir', 'mit', 'mithin', 'muessen', 'muesst', 'muesste', 'muss', 'musst', 'musste', 'mussten', 'muß', 'mußt', 'müssen', 'müsste', 'müssten', 'müßt', 'müßte', 'nach', 'nachdem', 'nachher', 'nachhinein', 'nahm', 'natürlich', 'neben', 'nebenan', 'nehmen', 'nein', 'nicht', 'nichts', 'nie', 'niemals', 'niemand', 'nirgends', 'nirgendwo', 'noch', 'nun', 'nur', 'nächste', 'nämlich', 'nötigenfalls', 'ob', 'oben', 'oberhalb', 'obgleich', 'obschon', 'obwohl', 'oder', 'oft', 'per', 'plötzlich', 'schließlich', 'schon', 'sehr', 'sehrwohl', 'seid', 'sein', 'seine', 'seinem', 'seinen', 'seiner', 'seines', 'seit', 'seitdem', 'seither', 'selber', 'selbst', 'sich', 'sicher', 'sicherlich', 'sie', 'sind', 'so', 'sobald', 'sodass', 'sodaß', 'soeben', 'sofern', 'sofort', 'sogar', 'solange', 'solch', 'solche', 'solchem', 'solchen', 'solcher', 'solches', 'soll', 'sollen', 'sollst', 'sollt', 'sollte', 'sollten', 'solltest', 'somit', 'sondern', 'sonst', 'sonstwo', 'sooft', 'soviel', 'soweit', 'sowie', 'sowohl', 'tatsächlich', 'tatsächlichen', 'tatsächlicher', 'tatsächliches', 'trotzdem', 'ueber', 'um', 'umso', 'unbedingt', 'und', 'unmöglich', 'unmögliche', 'unmöglichen', 'unmöglicher', 'uns', 'unser', 'unser', 'unsere', 'unsere', 'unserem', 'unseren', 'unserer', 'unseres', 'unter', 'usw', 'viel', 'viele', 'vielen', 'vieler', 'vieles', 'vielleicht', 'vielmals', 'vom', 'von', 'vor', 'voran', 'vorher', 'vorüber', 'völlig', 'wann', 'war', 'waren', 'warst', 'warum', 'was', 'weder', 'weil', 'weiter', 'weitere', 'weiterem', 'weiteren', 'weiterer', 'weiteres', 'weiterhin', 'weiß', 'welche', 'welchem', 'welchen', 'welcher', 'welches', 'wem', 'wen', 'wenig', 'wenige', 'weniger', 'wenigstens', 'wenn', 'wenngleich', 'wer', 'werde', 'werden', 'werdet', 'weshalb', 'wessen', 'wichtig', 'wie', 'wieder', 'wieso', 'wieviel', 'wiewohl', 'will', 'willst', 'wir', 'wird', 'wirklich', 'wirst', 'wo', 'wodurch', 'wogegen', 'woher', 'wohin', 'wohingegen', 'wohl', 'wohlweislich', 'womit', 'woraufhin', 'woraus', 'worin', 'wurde', 'wurden', 'während', 'währenddessen', 'wär', 'wäre', 'wären', 'würde', 'würden', 'z.B.', 'zB', 'zahlreich', 'zeitweise', 'zu', 'zudem', 'zuerst', 'zufolge', 'zugleich', 'zuletzt', 'zum', 'zumal', 'zur', 'zurück', 'zusammen', 'zuviel', 'zwar', 'zwischen', 'ähnlich', 'übel', 'über', 'überall', 'überallhin', 'überdies', 'übermorgen', 'übrig', 'übrigens']\n"
     ]
    }
   ],
   "source": [
    "print(stop_words)"
   ]
  },
  {
   "cell_type": "code",
   "execution_count": 6,
   "id": "11074738",
   "metadata": {},
   "outputs": [],
   "source": [
    "# append words to stopwords that contain no information\n",
    "stop_words += ['wegen', 'melden', 'meldet', 'können', 'könnte', 'könnten', 'update', 'neu', 'neue', 'neues', 'ohne', 'letzte', 'letzter',\n",
    "                  'letztes', 'eins', 'zwei', 'drei', 'vier', 'fünf', 'sechs', 'sieben', 'acht', 'neun', 'zehn',\n",
    "                   'gehen', 'geht', 'wollen', 'wollte', 'wollt', 'jahr', 'jahre', 'fordern', 'fordert',\n",
    "                  'warnen', 'warnt', 'frühjahr', 'frühling', 'sommer', 'herbst', 'winter', 'erneut', 'deutlich', 'schwer', 'jahren', 'woche',\n",
    "                  'wochen', 'monat', 'monate', 'tag', 'tage', 'stunden', 'stunde', 'minuten', 'minuten', 'ende', 'beenden', 'endet']"
   ]
  },
  {
   "cell_type": "markdown",
   "id": "a12c363c",
   "metadata": {},
   "source": [
    "## Extract features from 'title' "
   ]
  },
  {
   "cell_type": "code",
   "execution_count": 7,
   "id": "7ef6a539",
   "metadata": {},
   "outputs": [
    {
     "data": {
      "text/html": [
       "<div>\n",
       "<style scoped>\n",
       "    .dataframe tbody tr th:only-of-type {\n",
       "        vertical-align: middle;\n",
       "    }\n",
       "\n",
       "    .dataframe tbody tr th {\n",
       "        vertical-align: top;\n",
       "    }\n",
       "\n",
       "    .dataframe thead th {\n",
       "        text-align: right;\n",
       "    }\n",
       "</style>\n",
       "<table border=\"1\" class=\"dataframe\">\n",
       "  <thead>\n",
       "    <tr style=\"text-align: right;\">\n",
       "      <th></th>\n",
       "      <th>date</th>\n",
       "      <th>title</th>\n",
       "      <th>description</th>\n",
       "      <th>category</th>\n",
       "      <th>text</th>\n",
       "      <th>source</th>\n",
       "      <th>title_description_text</th>\n",
       "      <th>title_cleaned</th>\n",
       "      <th>title_description_text_cleaned</th>\n",
       "    </tr>\n",
       "  </thead>\n",
       "  <tbody>\n",
       "    <tr>\n",
       "      <th>39381</th>\n",
       "      <td>2023-02-16 15:30:15</td>\n",
       "      <td>Champions League</td>\n",
       "      <td>Liveticker und Highlightvideos</td>\n",
       "      <td>Missing</td>\n",
       "      <td>NaN</td>\n",
       "      <td>ZDF heute</td>\n",
       "      <td>Champions League - Liveticker und Highlightvid...</td>\n",
       "      <td>NaN</td>\n",
       "      <td>Champion Liveticker Highlightvideos</td>\n",
       "    </tr>\n",
       "    <tr>\n",
       "      <th>66356</th>\n",
       "      <td>2023-09-21 00:30:05</td>\n",
       "      <td>Champions League</td>\n",
       "      <td>Die wichtigsten Spiele im Video.</td>\n",
       "      <td>Missing</td>\n",
       "      <td>NaN</td>\n",
       "      <td>ZDF heute</td>\n",
       "      <td>Champions League - Die wichtigsten Spiele im V...</td>\n",
       "      <td>NaN</td>\n",
       "      <td>wichtig Spiel Video</td>\n",
       "    </tr>\n",
       "  </tbody>\n",
       "</table>\n",
       "</div>"
      ],
      "text/plain": [
       "                      date             title  \\\n",
       "39381  2023-02-16 15:30:15  Champions League   \n",
       "66356  2023-09-21 00:30:05  Champions League   \n",
       "\n",
       "                            description category  text     source  \\\n",
       "39381    Liveticker und Highlightvideos  Missing   NaN  ZDF heute   \n",
       "66356  Die wichtigsten Spiele im Video.  Missing   NaN  ZDF heute   \n",
       "\n",
       "                                  title_description_text title_cleaned  \\\n",
       "39381  Champions League - Liveticker und Highlightvid...           NaN   \n",
       "66356  Champions League - Die wichtigsten Spiele im V...           NaN   \n",
       "\n",
       "            title_description_text_cleaned  \n",
       "39381  Champion Liveticker Highlightvideos  \n",
       "66356                  wichtig Spiel Video  "
      ]
     },
     "execution_count": 7,
     "metadata": {},
     "output_type": "execute_result"
    }
   ],
   "source": [
    "train[train['title_cleaned'].isnull()]"
   ]
  },
  {
   "cell_type": "code",
   "execution_count": 8,
   "id": "2fc5a4b2",
   "metadata": {},
   "outputs": [],
   "source": [
    "# TODO workaround for missing title_cleaned -> TODO Solve this in NLP preprocessing!\n",
    "train['title_cleaned'] = train['title_cleaned'].fillna(train['title'].apply(lambda x: x.lower()))"
   ]
  },
  {
   "cell_type": "code",
   "execution_count": 9,
   "id": "dd39b14f",
   "metadata": {},
   "outputs": [
    {
     "data": {
      "text/html": [
       "<div>\n",
       "<style scoped>\n",
       "    .dataframe tbody tr th:only-of-type {\n",
       "        vertical-align: middle;\n",
       "    }\n",
       "\n",
       "    .dataframe tbody tr th {\n",
       "        vertical-align: top;\n",
       "    }\n",
       "\n",
       "    .dataframe thead th {\n",
       "        text-align: right;\n",
       "    }\n",
       "</style>\n",
       "<table border=\"1\" class=\"dataframe\">\n",
       "  <thead>\n",
       "    <tr style=\"text-align: right;\">\n",
       "      <th></th>\n",
       "      <th>date</th>\n",
       "      <th>title</th>\n",
       "      <th>description</th>\n",
       "      <th>category</th>\n",
       "      <th>text</th>\n",
       "      <th>source</th>\n",
       "      <th>title_description_text</th>\n",
       "      <th>title_cleaned</th>\n",
       "      <th>title_description_text_cleaned</th>\n",
       "    </tr>\n",
       "  </thead>\n",
       "  <tbody>\n",
       "  </tbody>\n",
       "</table>\n",
       "</div>"
      ],
      "text/plain": [
       "Empty DataFrame\n",
       "Columns: [date, title, description, category, text, source, title_description_text, title_cleaned, title_description_text_cleaned]\n",
       "Index: []"
      ]
     },
     "execution_count": 9,
     "metadata": {},
     "output_type": "execute_result"
    }
   ],
   "source": [
    "train[train['title_cleaned'].isnull()]"
   ]
  },
  {
   "cell_type": "code",
   "execution_count": 10,
   "id": "cd42c0db",
   "metadata": {},
   "outputs": [],
   "source": [
    "from sklearn.feature_extraction.text import CountVectorizer"
   ]
  },
  {
   "cell_type": "code",
   "execution_count": 11,
   "id": "38ab615c",
   "metadata": {},
   "outputs": [],
   "source": [
    "cv = CountVectorizer(max_df=0.95, min_df=2, stop_words=stop_words)"
   ]
  },
  {
   "cell_type": "code",
   "execution_count": 12,
   "id": "a628f0d2",
   "metadata": {},
   "outputs": [
    {
     "name": "stderr",
     "output_type": "stream",
     "text": [
      "C:\\Users\\manuela.rink\\anaconda3\\envs\\nlp\\Lib\\site-packages\\sklearn\\feature_extraction\\text.py:409: UserWarning: Your stop_words may be inconsistent with your preprocessing. Tokenizing the stop words generated tokens ['bsp', 'zb'] not in stop_words.\n",
      "  warnings.warn(\n"
     ]
    }
   ],
   "source": [
    "# create Document-Term-Matrix\n",
    "dtm = cv.fit_transform(train['title_cleaned'])"
   ]
  },
  {
   "cell_type": "code",
   "execution_count": 13,
   "id": "faba69b8",
   "metadata": {},
   "outputs": [
    {
     "data": {
      "text/plain": [
       "<67513x21412 sparse matrix of type '<class 'numpy.int64'>'\n",
       "\twith 330205 stored elements in Compressed Sparse Row format>"
      ]
     },
     "execution_count": 13,
     "metadata": {},
     "output_type": "execute_result"
    }
   ],
   "source": [
    "dtm"
   ]
  },
  {
   "cell_type": "code",
   "execution_count": 14,
   "id": "3f48b861",
   "metadata": {},
   "outputs": [],
   "source": [
    "from sklearn.decomposition import LatentDirichletAllocation"
   ]
  },
  {
   "cell_type": "code",
   "execution_count": 15,
   "id": "fdf60b9b",
   "metadata": {},
   "outputs": [
    {
     "data": {
      "text/html": [
       "<style>#sk-container-id-1 {color: black;background-color: white;}#sk-container-id-1 pre{padding: 0;}#sk-container-id-1 div.sk-toggleable {background-color: white;}#sk-container-id-1 label.sk-toggleable__label {cursor: pointer;display: block;width: 100%;margin-bottom: 0;padding: 0.3em;box-sizing: border-box;text-align: center;}#sk-container-id-1 label.sk-toggleable__label-arrow:before {content: \"▸\";float: left;margin-right: 0.25em;color: #696969;}#sk-container-id-1 label.sk-toggleable__label-arrow:hover:before {color: black;}#sk-container-id-1 div.sk-estimator:hover label.sk-toggleable__label-arrow:before {color: black;}#sk-container-id-1 div.sk-toggleable__content {max-height: 0;max-width: 0;overflow: hidden;text-align: left;background-color: #f0f8ff;}#sk-container-id-1 div.sk-toggleable__content pre {margin: 0.2em;color: black;border-radius: 0.25em;background-color: #f0f8ff;}#sk-container-id-1 input.sk-toggleable__control:checked~div.sk-toggleable__content {max-height: 200px;max-width: 100%;overflow: auto;}#sk-container-id-1 input.sk-toggleable__control:checked~label.sk-toggleable__label-arrow:before {content: \"▾\";}#sk-container-id-1 div.sk-estimator input.sk-toggleable__control:checked~label.sk-toggleable__label {background-color: #d4ebff;}#sk-container-id-1 div.sk-label input.sk-toggleable__control:checked~label.sk-toggleable__label {background-color: #d4ebff;}#sk-container-id-1 input.sk-hidden--visually {border: 0;clip: rect(1px 1px 1px 1px);clip: rect(1px, 1px, 1px, 1px);height: 1px;margin: -1px;overflow: hidden;padding: 0;position: absolute;width: 1px;}#sk-container-id-1 div.sk-estimator {font-family: monospace;background-color: #f0f8ff;border: 1px dotted black;border-radius: 0.25em;box-sizing: border-box;margin-bottom: 0.5em;}#sk-container-id-1 div.sk-estimator:hover {background-color: #d4ebff;}#sk-container-id-1 div.sk-parallel-item::after {content: \"\";width: 100%;border-bottom: 1px solid gray;flex-grow: 1;}#sk-container-id-1 div.sk-label:hover label.sk-toggleable__label {background-color: #d4ebff;}#sk-container-id-1 div.sk-serial::before {content: \"\";position: absolute;border-left: 1px solid gray;box-sizing: border-box;top: 0;bottom: 0;left: 50%;z-index: 0;}#sk-container-id-1 div.sk-serial {display: flex;flex-direction: column;align-items: center;background-color: white;padding-right: 0.2em;padding-left: 0.2em;position: relative;}#sk-container-id-1 div.sk-item {position: relative;z-index: 1;}#sk-container-id-1 div.sk-parallel {display: flex;align-items: stretch;justify-content: center;background-color: white;position: relative;}#sk-container-id-1 div.sk-item::before, #sk-container-id-1 div.sk-parallel-item::before {content: \"\";position: absolute;border-left: 1px solid gray;box-sizing: border-box;top: 0;bottom: 0;left: 50%;z-index: -1;}#sk-container-id-1 div.sk-parallel-item {display: flex;flex-direction: column;z-index: 1;position: relative;background-color: white;}#sk-container-id-1 div.sk-parallel-item:first-child::after {align-self: flex-end;width: 50%;}#sk-container-id-1 div.sk-parallel-item:last-child::after {align-self: flex-start;width: 50%;}#sk-container-id-1 div.sk-parallel-item:only-child::after {width: 0;}#sk-container-id-1 div.sk-dashed-wrapped {border: 1px dashed gray;margin: 0 0.4em 0.5em 0.4em;box-sizing: border-box;padding-bottom: 0.4em;background-color: white;}#sk-container-id-1 div.sk-label label {font-family: monospace;font-weight: bold;display: inline-block;line-height: 1.2em;}#sk-container-id-1 div.sk-label-container {text-align: center;}#sk-container-id-1 div.sk-container {/* jupyter's `normalize.less` sets `[hidden] { display: none; }` but bootstrap.min.css set `[hidden] { display: none !important; }` so we also need the `!important` here to be able to override the default hidden behavior on the sphinx rendered scikit-learn.org. See: https://github.com/scikit-learn/scikit-learn/issues/21755 */display: inline-block !important;position: relative;}#sk-container-id-1 div.sk-text-repr-fallback {display: none;}</style><div id=\"sk-container-id-1\" class=\"sk-top-container\"><div class=\"sk-text-repr-fallback\"><pre>LatentDirichletAllocation(n_components=7, random_state=42)</pre><b>In a Jupyter environment, please rerun this cell to show the HTML representation or trust the notebook. <br />On GitHub, the HTML representation is unable to render, please try loading this page with nbviewer.org.</b></div><div class=\"sk-container\" hidden><div class=\"sk-item\"><div class=\"sk-estimator sk-toggleable\"><input class=\"sk-toggleable__control sk-hidden--visually\" id=\"sk-estimator-id-1\" type=\"checkbox\" checked><label for=\"sk-estimator-id-1\" class=\"sk-toggleable__label sk-toggleable__label-arrow\">LatentDirichletAllocation</label><div class=\"sk-toggleable__content\"><pre>LatentDirichletAllocation(n_components=7, random_state=42)</pre></div></div></div></div></div>"
      ],
      "text/plain": [
       "LatentDirichletAllocation(n_components=7, random_state=42)"
      ]
     },
     "execution_count": 15,
     "metadata": {},
     "output_type": "execute_result"
    }
   ],
   "source": [
    "lda = LatentDirichletAllocation(n_components=7, random_state=42)\n",
    "lda.fit(dtm)"
   ]
  },
  {
   "cell_type": "markdown",
   "id": "a2f3296f",
   "metadata": {},
   "source": [
    "## Analyse extracted features"
   ]
  },
  {
   "cell_type": "code",
   "execution_count": 16,
   "id": "44c85ba2",
   "metadata": {},
   "outputs": [
    {
     "data": {
      "text/plain": [
       "21412"
      ]
     },
     "execution_count": 16,
     "metadata": {},
     "output_type": "execute_result"
    }
   ],
   "source": [
    "len(cv.get_feature_names_out())"
   ]
  },
  {
   "cell_type": "code",
   "execution_count": 17,
   "id": "79a3b48a",
   "metadata": {},
   "outputs": [
    {
     "data": {
      "text/plain": [
       "array(['000', '034', '039', ..., 'войны', 'российские', 'украинцы'],\n",
       "      dtype=object)"
      ]
     },
     "execution_count": 17,
     "metadata": {},
     "output_type": "execute_result"
    }
   ],
   "source": [
    "cv.get_feature_names_out()"
   ]
  },
  {
   "cell_type": "code",
   "execution_count": 18,
   "id": "6d276a41",
   "metadata": {},
   "outputs": [
    {
     "data": {
      "text/plain": [
       "7"
      ]
     },
     "execution_count": 18,
     "metadata": {},
     "output_type": "execute_result"
    }
   ],
   "source": [
    "len(lda.components_)"
   ]
  },
  {
   "cell_type": "code",
   "execution_count": 19,
   "id": "be61548c",
   "metadata": {},
   "outputs": [
    {
     "data": {
      "text/plain": [
       "array([[ 0.14342263, 19.20866123,  2.10579852, ...,  0.14285737,\n",
       "         0.14285737,  0.14285766],\n",
       "       [ 1.51820379,  7.75579704,  0.20856291, ...,  2.14285544,\n",
       "         2.14285544,  0.14285779],\n",
       "       [12.73526902, 10.37410041, 23.28693696, ...,  0.14285742,\n",
       "         0.14285742,  0.14285775],\n",
       "       ...,\n",
       "       [ 0.14291439, 14.18302458, 21.06086724, ...,  0.14285744,\n",
       "         0.14285744,  0.14285782],\n",
       "       [ 0.14326918,  4.85435504,  0.14298397, ...,  0.14285742,\n",
       "         0.14285742,  0.14285777],\n",
       "       [ 2.17404299, 11.2785756 ,  0.14292771, ...,  0.14285745,\n",
       "         0.14285745,  2.14285337]])"
      ]
     },
     "execution_count": 19,
     "metadata": {},
     "output_type": "execute_result"
    }
   ],
   "source": [
    "lda.components_"
   ]
  },
  {
   "cell_type": "code",
   "execution_count": 20,
   "id": "45a65bd8",
   "metadata": {},
   "outputs": [
    {
     "data": {
      "text/plain": [
       "21412"
      ]
     },
     "execution_count": 20,
     "metadata": {},
     "output_type": "execute_result"
    }
   ],
   "source": [
    "len(lda.components_[0])"
   ]
  },
  {
   "cell_type": "markdown",
   "id": "9e30cf34",
   "metadata": {},
   "source": [
    "### Show most important words of first extracted topic"
   ]
  },
  {
   "cell_type": "code",
   "execution_count": 21,
   "id": "c617b9e0",
   "metadata": {},
   "outputs": [],
   "source": [
    "first_topic = lda.components_[0]"
   ]
  },
  {
   "cell_type": "code",
   "execution_count": 22,
   "id": "258f618e",
   "metadata": {},
   "outputs": [
    {
     "data": {
      "text/plain": [
       "array([20969, 15342, 16516, ..., 15091, 10150, 18325], dtype=int64)"
      ]
     },
     "execution_count": 22,
     "metadata": {},
     "output_type": "execute_result"
    }
   ],
   "source": [
    "first_topic.argsort() # returns indices of ascending sorted array values "
   ]
  },
  {
   "cell_type": "code",
   "execution_count": 23,
   "id": "5966880a",
   "metadata": {},
   "outputs": [],
   "source": [
    "# the last 10 entries are the 10 most important words for topic 1\n",
    "top_words_indices = first_topic.argsort()[-10:]"
   ]
  },
  {
   "cell_type": "code",
   "execution_count": 24,
   "id": "11648839",
   "metadata": {},
   "outputs": [
    {
     "name": "stdout",
     "output_type": "stream",
     "text": [
      "liveblog\n",
      "selenskyj\n",
      "angriff\n",
      "kiew\n",
      "lage\n",
      "putin\n",
      "russisch\n",
      "russland\n",
      "krieg\n",
      "ukraine\n"
     ]
    }
   ],
   "source": [
    "for index in top_words_indices:\n",
    "    print(cv.get_feature_names_out()[index])"
   ]
  },
  {
   "cell_type": "markdown",
   "id": "0d661247",
   "metadata": {},
   "source": [
    "### Show most important words of first extracted topic"
   ]
  },
  {
   "cell_type": "code",
   "execution_count": 25,
   "id": "f789d8f2",
   "metadata": {},
   "outputs": [
    {
     "name": "stdout",
     "output_type": "stream",
     "text": [
      "Die TOP-15 Wörter für das Thema #0\n",
      "['stimme', 'invasion', 'ukrainisch', 'moskau', 'nato', 'liveblog', 'selenskyj', 'angriff', 'kiew', 'lage', 'putin', 'russisch', 'russland', 'krieg', 'ukraine']\n",
      "\n",
      "\n",
      "Die TOP-15 Wörter für das Thema #1\n",
      "['johnson', 'großbritannien', 'eu', 'fdp', 'spd', 'panzer', 'land', 'faeser', 'streit', 'habeck', 'wahrheit', 'lindner', 'regierung', 'ampel', 'euro']\n",
      "\n",
      "\n",
      "Die TOP-15 Wörter für das Thema #2\n",
      "['usa', 'biden', 'million', 'fußball', 'us', 'gut', 'welt', 'taiwan', 'groß', 'analyse', 'berlin', 'wm', 'deutschland', 'scholz', 'china']\n",
      "\n",
      "\n",
      "Die TOP-15 Wörter für das Thema #3\n",
      "['podcast', 'nordkorea', 'brauchen', 'russland', 'haft', 'putin', 'bahn', 'ex', 'partei', 'türkei', 'klima', 'wahl', 'israel', 'afd', 'deutsch']\n",
      "\n",
      "\n",
      "Die TOP-15 Wörter für das Thema #4\n",
      "['retten', 'mindestens', 'merz', 'europa', 'steingart', 'gabor', 'spd', 'sanktion', 'gas', 'gastbeitrag', 'frau', 'grüne', 'cdu', 'tote', 'eu']\n",
      "\n",
      "\n",
      "Die TOP-15 Wörter für das Thema #5\n",
      "['deutsch', 'präsident', 'mensch', 'news', 'us', 'hoch', 'preis', 'inflation', 'kind', 'pandemie', 'deutschland', 'lauterbach', 'marktbericht', 'trump', 'corona']\n",
      "\n",
      "\n",
      "Die TOP-15 Wörter für das Thema #6\n",
      "['polizei', 'leipzig', 'auto', 'bundesliga', 'deutschland', 'berlin', 'g7', 'wahl', 'gipfel', 'iran', 'bayern', 'frankreich', 'usa', 'protest', 'us']\n",
      "\n",
      "\n"
     ]
    }
   ],
   "source": [
    "for index, topic in enumerate(lda.components_):\n",
    "    print(f'Die TOP-15 Wörter für das Thema #{index}')\n",
    "    print([cv.get_feature_names_out()[i] for i in topic.argsort()[-15:]])\n",
    "    print('\\n')"
   ]
  },
  {
   "cell_type": "markdown",
   "id": "a0973fc9",
   "metadata": {},
   "source": [
    "### Get topics with highest probability for news items in train data"
   ]
  },
  {
   "cell_type": "code",
   "execution_count": 26,
   "id": "0f46f47f",
   "metadata": {},
   "outputs": [
    {
     "data": {
      "text/plain": [
       "(67513, 7)"
      ]
     },
     "execution_count": 26,
     "metadata": {},
     "output_type": "execute_result"
    }
   ],
   "source": [
    "topic_results = lda.transform(dtm)\n",
    "topic_results.shape"
   ]
  },
  {
   "cell_type": "code",
   "execution_count": 27,
   "id": "823c7020",
   "metadata": {},
   "outputs": [
    {
     "data": {
      "text/plain": [
       "array([0.01796, 0.34617, 0.01789, 0.25018, 0.18461, 0.16531, 0.01787])"
      ]
     },
     "execution_count": 27,
     "metadata": {},
     "output_type": "execute_result"
    }
   ],
   "source": [
    "topic_results[0].round(5)"
   ]
  },
  {
   "cell_type": "code",
   "execution_count": 28,
   "id": "f68cacd0",
   "metadata": {},
   "outputs": [
    {
     "data": {
      "text/plain": [
       "1"
      ]
     },
     "execution_count": 28,
     "metadata": {},
     "output_type": "execute_result"
    }
   ],
   "source": [
    "topic_results[0].argmax()"
   ]
  },
  {
   "cell_type": "code",
   "execution_count": 29,
   "id": "6e11fb89",
   "metadata": {},
   "outputs": [],
   "source": [
    "# save topic to train dataset\n",
    "train['topic'] = topic_results.argmax(axis=1)"
   ]
  },
  {
   "cell_type": "code",
   "execution_count": 30,
   "id": "7eb2c522",
   "metadata": {},
   "outputs": [
    {
     "data": {
      "text/html": [
       "<div>\n",
       "<style scoped>\n",
       "    .dataframe tbody tr th:only-of-type {\n",
       "        vertical-align: middle;\n",
       "    }\n",
       "\n",
       "    .dataframe tbody tr th {\n",
       "        vertical-align: top;\n",
       "    }\n",
       "\n",
       "    .dataframe thead th {\n",
       "        text-align: right;\n",
       "    }\n",
       "</style>\n",
       "<table border=\"1\" class=\"dataframe\">\n",
       "  <thead>\n",
       "    <tr style=\"text-align: right;\">\n",
       "      <th></th>\n",
       "      <th>date</th>\n",
       "      <th>title</th>\n",
       "      <th>description</th>\n",
       "      <th>category</th>\n",
       "      <th>text</th>\n",
       "      <th>source</th>\n",
       "      <th>title_description_text</th>\n",
       "      <th>title_cleaned</th>\n",
       "      <th>title_description_text_cleaned</th>\n",
       "      <th>topic</th>\n",
       "    </tr>\n",
       "  </thead>\n",
       "  <tbody>\n",
       "    <tr>\n",
       "      <th>0</th>\n",
       "      <td>2022-06-01 00:13:42</td>\n",
       "      <td>Preise: Grüne halten Senkung der Spritsteuer f...</td>\n",
       "      <td>Heute tritt die Steuersenkung auf Kraftstoffe ...</td>\n",
       "      <td>Other</td>\n",
       "      <td>NaN</td>\n",
       "      <td>stern</td>\n",
       "      <td>Preise: Grüne halten Senkung der Spritsteuer f...</td>\n",
       "      <td>Preis grüne halten Senkung Spritsteuer falsch ...</td>\n",
       "      <td>Preis grüne halten Senkung Spritsteuer falsch ...</td>\n",
       "      <td>1</td>\n",
       "    </tr>\n",
       "    <tr>\n",
       "      <th>1</th>\n",
       "      <td>2022-06-01 01:55:03</td>\n",
       "      <td>Biden warnt Putin: USA liefern moderne Raketen...</td>\n",
       "      <td>Die USA rüsten die Ukraine mit fortschrittlich...</td>\n",
       "      <td>Other</td>\n",
       "      <td>NaN</td>\n",
       "      <td>stern</td>\n",
       "      <td>Biden warnt Putin: USA liefern moderne Raketen...</td>\n",
       "      <td>Biden warnen Putin USA liefern modern Raketens...</td>\n",
       "      <td>Biden warnen Putin USA liefern modern Raketens...</td>\n",
       "      <td>0</td>\n",
       "    </tr>\n",
       "    <tr>\n",
       "      <th>2</th>\n",
       "      <td>2022-06-01 02:04:08</td>\n",
       "      <td>Soziale Medien: FDP-Politiker Kuhle: Internet-...</td>\n",
       "      <td>Eine «ZDF Magazin Royale»-Recherche beschäftig...</td>\n",
       "      <td>Other</td>\n",
       "      <td>NaN</td>\n",
       "      <td>stern</td>\n",
       "      <td>Soziale Medien: FDP-Politiker Kuhle: Internet-...</td>\n",
       "      <td>sozial Medium FDP-Politiker Kuhle Internet-Str...</td>\n",
       "      <td>sozial Medium FDP-Politiker Kuhle Internet-Str...</td>\n",
       "      <td>1</td>\n",
       "    </tr>\n",
       "    <tr>\n",
       "      <th>3</th>\n",
       "      <td>2022-06-01 02:26:58</td>\n",
       "      <td>Liveblog: ++ Zwei von drei ukrainischen Kinder...</td>\n",
       "      <td>Rund zwei von drei Mädchen und Jungen in der U...</td>\n",
       "      <td>Missing</td>\n",
       "      <td>NaN</td>\n",
       "      <td>Tagesschau</td>\n",
       "      <td>Liveblog: ++ Zwei von drei ukrainischen Kinder...</td>\n",
       "      <td>Liveblog ukrainisch Kind vertreiben</td>\n",
       "      <td>Liveblog ukrainisch Kind vertreiben rund Mädch...</td>\n",
       "      <td>0</td>\n",
       "    </tr>\n",
       "    <tr>\n",
       "      <th>4</th>\n",
       "      <td>2022-06-01 02:31:43</td>\n",
       "      <td>Finanzen: Dänemark stimmt über EU-Verteidigung...</td>\n",
       "      <td>Vorbehalt verteidigen oder Verteidigung ohne V...</td>\n",
       "      <td>Other</td>\n",
       "      <td>NaN</td>\n",
       "      <td>stern</td>\n",
       "      <td>Finanzen: Dänemark stimmt über EU-Verteidigung...</td>\n",
       "      <td>Finanz Dänemark stimmen EU-Verteidigungsvorbehalt</td>\n",
       "      <td>Finanz Dänemark stimmen EU-Verteidigungsvorbeh...</td>\n",
       "      <td>1</td>\n",
       "    </tr>\n",
       "  </tbody>\n",
       "</table>\n",
       "</div>"
      ],
      "text/plain": [
       "                  date                                              title  \\\n",
       "0  2022-06-01 00:13:42  Preise: Grüne halten Senkung der Spritsteuer f...   \n",
       "1  2022-06-01 01:55:03  Biden warnt Putin: USA liefern moderne Raketen...   \n",
       "2  2022-06-01 02:04:08  Soziale Medien: FDP-Politiker Kuhle: Internet-...   \n",
       "3  2022-06-01 02:26:58  Liveblog: ++ Zwei von drei ukrainischen Kinder...   \n",
       "4  2022-06-01 02:31:43  Finanzen: Dänemark stimmt über EU-Verteidigung...   \n",
       "\n",
       "                                         description category  text  \\\n",
       "0  Heute tritt die Steuersenkung auf Kraftstoffe ...    Other   NaN   \n",
       "1  Die USA rüsten die Ukraine mit fortschrittlich...    Other   NaN   \n",
       "2  Eine «ZDF Magazin Royale»-Recherche beschäftig...    Other   NaN   \n",
       "3  Rund zwei von drei Mädchen und Jungen in der U...  Missing   NaN   \n",
       "4  Vorbehalt verteidigen oder Verteidigung ohne V...    Other   NaN   \n",
       "\n",
       "       source                             title_description_text  \\\n",
       "0       stern  Preise: Grüne halten Senkung der Spritsteuer f...   \n",
       "1       stern  Biden warnt Putin: USA liefern moderne Raketen...   \n",
       "2       stern  Soziale Medien: FDP-Politiker Kuhle: Internet-...   \n",
       "3  Tagesschau  Liveblog: ++ Zwei von drei ukrainischen Kinder...   \n",
       "4       stern  Finanzen: Dänemark stimmt über EU-Verteidigung...   \n",
       "\n",
       "                                       title_cleaned  \\\n",
       "0  Preis grüne halten Senkung Spritsteuer falsch ...   \n",
       "1  Biden warnen Putin USA liefern modern Raketens...   \n",
       "2  sozial Medium FDP-Politiker Kuhle Internet-Str...   \n",
       "3                Liveblog ukrainisch Kind vertreiben   \n",
       "4  Finanz Dänemark stimmen EU-Verteidigungsvorbehalt   \n",
       "\n",
       "                      title_description_text_cleaned  topic  \n",
       "0  Preis grüne halten Senkung Spritsteuer falsch ...      1  \n",
       "1  Biden warnen Putin USA liefern modern Raketens...      0  \n",
       "2  sozial Medium FDP-Politiker Kuhle Internet-Str...      1  \n",
       "3  Liveblog ukrainisch Kind vertreiben rund Mädch...      0  \n",
       "4  Finanz Dänemark stimmen EU-Verteidigungsvorbeh...      1  "
      ]
     },
     "execution_count": 30,
     "metadata": {},
     "output_type": "execute_result"
    }
   ],
   "source": [
    "train.head()"
   ]
  },
  {
   "cell_type": "markdown",
   "id": "a0751e64",
   "metadata": {},
   "source": [
    "## Visualize model"
   ]
  },
  {
   "cell_type": "code",
   "execution_count": 31,
   "id": "39e7a68b",
   "metadata": {},
   "outputs": [
    {
     "data": {
      "text/html": [
       "\n",
       "<link rel=\"stylesheet\" type=\"text/css\" href=\"https://cdn.jsdelivr.net/gh/bmabey/pyLDAvis@3.4.0/pyLDAvis/js/ldavis.v1.0.0.css\">\n",
       "\n",
       "\n",
       "<div id=\"ldavis_el1419625860414553767431286394\" style=\"background-color:white;\"></div>\n",
       "<script type=\"text/javascript\">\n",
       "\n",
       "var ldavis_el1419625860414553767431286394_data = {\"mdsDat\": {\"x\": [13.659903526306152, -19.863859176635742, -3.5887434482574463, -2.9912943840026855, -20.1840763092041, 13.293282508850098, -3.2806501388549805], \"y\": [-17.311046600341797, -16.828155517578125, -46.07796859741211, -7.3950371742248535, -36.156700134277344, -36.64271545410156, -26.73194122314453], \"topics\": [1, 2, 3, 4, 5, 6, 7], \"cluster\": [1, 1, 1, 1, 1, 1, 1], \"Freq\": [17.31041987925007, 14.593922536350714, 14.189604598738415, 14.116161199835739, 13.414833315457866, 13.191745845607047, 13.183312624760148]}, \"tinfo\": {\"Term\": [\"ukraine\", \"krieg\", \"russisch\", \"corona\", \"russland\", \"china\", \"eu\", \"putin\", \"protest\", \"scholz\", \"euro\", \"us\", \"lage\", \"ampel\", \"kiew\", \"trump\", \"tote\", \"selenskyj\", \"angriff\", \"wm\", \"marktbericht\", \"deutsch\", \"cdu\", \"frankreich\", \"liveblog\", \"wahl\", \"regierung\", \"lauterbach\", \"pandemie\", \"iran\", \"ukraine\", \"krieg\", \"lage\", \"selenskyj\", \"russisch\", \"liveblog\", \"ukrainisch\", \"invasion\", \"stimme\", \"kiew\", \"entwicklung\", \"wagner\", \"soldat\", \"russe\", \"morgen\", \"bachmut\", \"russischer\", \"krim\", \"truppe\", \"saporischschja\", \"kriegsverlauf\", \"\\u00fcberblick\", \"prigoschin\", \"front\", \"ukrainer\", \"armee\", \"updat\", \"offensive\", \"cherson\", \"angriffskrieg\", \"angriff\", \"russlands\", \"nato\", \"russland\", \"putin\", \"moskau\", \"nachricht\", \"waffe\", \"kreml\", \"liefern\", \"chef\", \"westen\", \"akw\", \"kampf\", \"usa\", \"taiwan\", \"ulrich\", \"reitz\", \"em\", \"zahlen\", \"olaf\", \"versteher\", \"heizungsgesetz\", \"york\", \"stiftung\", \"bundeskanzler\", \"letzten\", \"leichtathletik\", \"fifa\", \"auge\", \"j\\u00e4ger\", \"nachhaltig\", \"belgien\", \"messi\", \"milit\\u00e4rman\\u00f6ver\", \"viertelfinal\", \"abe\", \"fukushima\", \"zverev\", \"wahlwiederholung\", \"staatssekret\\u00e4r\", \"mut\", \"diktator\", \"fraue\", \"klimakleber\", \"wm\", \"katar\", \"pelosi\", \"china\", \"xi\", \"welt\", \"aktion\", \"analyse\", \"reise\", \"ddr\", \"scholz\", \"generation\", \"zahl\", \"japan\", \"thomas\", \"fu\\u00dfball\", \"ehemalig\", \"new\", \"deutschland\", \"million\", \"kanzler\", \"besuch\", \"berlin\", \"schlecht\", \"afrika\", \"gro\\u00df\", \"politik\", \"gut\", \"biden\", \"sterben\", \"habeck\", \"us\", \"usa\", \"treffen\", \"eu\", \"putin\", \"deutsch\", \"pandemie\", \"corona\", \"inflation\", \"news\", \"lauterbach\", \"preis\", \"kirche\", \"marktbericht\", \"donald\", \"hitze\", \"brand\", \"wetter\", \"anleger\", \"rbb\", \"inzidenz\", \"rki\", \"wall\", \"missbrauch\", \"waffenruhe\", \"katholisch\", \"waldbrand\", \"anklage\", \"bolsonaro\", \"georgien\", \"hei\\u00df\", \"holstein\", \"fragen\", \"schleswig\", \"lanka\", \"sri\", \"dax\", \"trump\", \"klinik\", \"sinken\", \"sparen\", \"warnstreik\", \"kind\", \"sudan\", \"brasilien\", \"stark\", \"impfung\", \"street\", \"hoch\", \"erwarten\", \"hilfe\", \"steigen\", \"mensch\", \"pr\\u00e4sident\", \"deutschland\", \"bleiben\", \"us\", \"deutsch\", \"ex\", \"lindner\", \"wahrheit\", \"panzer\", \"gro\\u00dfbritannien\", \"johnson\", \"ticket\", \"boris\", \"gr\\u00fcnen\", \"bund\", \"leopard\", \"ukrainekrieg\", \"musk\", \"pistorius\", \"nachfolge\", \"chefin\", \"kommune\", \"verbrenner\", \"entlastung\", \"wissing\", \"haushalt\", \"serbien\", \"kindergrundsicherung\", \"kosovo\", \"truss\", \"entlastungspaket\", \"brexit\", \"co2\", \"\\u00f6pnv\", \"sunak\", \"christian\", \"faeser\", \"gasumlage\", \"euro\", \"ampel\", \"milliarde\", \"energiewende\", \"minister\", \"lambrecht\", \"r\\u00fccktritt\", \"regierung\", \"druck\", \"streit\", \"twitter\", \"fdp\", \"studie\", \"debatte\", \"britisch\", \"habeck\", \"land\", \"spd\", \"kritik\", \"bundeswehr\", \"plan\", \"eu\", \"bleiben\", \"stellen\", \"bundesregierung\", \"energie\", \"gastbeitrag\", \"sanktion\", \"gabor\", \"steingart\", \"erdbeben\", \"m\\u00fcller\", \"ungarn\", \"mindestens\", \"hugo\", \"vogg\", \"trainer\", \"handball\", \"partnerportal\", \"economist\", \"kleber\", \"tour\", \"kennen\", \"toter\", \"mittelmeer\", \"leitzins\", \"friedrich\", \"iii\", \"bundesverfassungsgericht\", \"49\", \"hammer\", \"notfallplan\", \"entl\\u00e4ssen\", \"lukaschenko\", \"flugblatt\", \"venedig\", \"de\", \"beitrag\", \"schu\\u00df\", \"kommission\", \"katastrophe\", \"denken\", \"gr\\u00fcne\", \"syrien\", \"cdu\", \"charles\", \"eu\", \"s\\u00f6der\", \"retten\", \"csu\", \"tote\", \"aiwanger\", \"gas\", \"frau\", \"schlagen\", \"merz\", \"kommentar\", \"bundestag\", \"gr\\u00fcn\", \"europa\", \"spd\", \"merkel\", \"mann\", \"t\\u00fcrkei\", \"iran\", \"weg\", \"berlin\", \"chef\", \"drohen\", \"nordkorea\", \"gesellschaft\", \"reichsb\\u00fcrger\", \"ki\", \"cum\", \"nahost\", \"intelligenz\", \"mai\", \"s\\u00fcdkorea\", \"k\\u00fcnstliche\", \"teilmobilmachung\", \"vertrauen\", \"gasspeicher\", \"notstand\", \"prinz\", \"westjordanland\", \"norwegen\", \"chatgpt\", \"kim\", \"11km\", \"pal\\u00e4stinenser\", \"aufkl\\u00e4rung\", \"sprache\", \"beantragen\", \"rushdie\", \"rechtlich\", \"di\", \"evg\", \"jong\", \"rtl\", \"partei\", \"haft\", \"queen\", \"bahn\", \"podcast\", \"brauchen\", \"rufen\", \"israel\", \"klima\", \"linke\", \"erdogan\", \"feuern\", \"wagenknecht\", \"t\\u00fcrkei\", \"schr\\u00f6der\", \"deutsch\", \"reaktion\", \"verurteilen\", \"afd\", \"streik\", \"tod\", \"nord\", \"stream\", \"wahl\", \"italien\", \"ex\", \"ermittlung\", \"gefahr\", \"putin\", \"russland\", \"scholz\", \"konflikt\", \"gro\\u00df\", \"deutschland\", \"g7\", \"leipzig\", \"freiburg\", \"rentenreform\", \"demonstration\", \"zehntausend\", \"stuttgart\", \"mainz\", \"senat\", \"gladbach\", \"wolfsburg\", \"peru\", \"spionage\", \"hoffenheim\", \"demokrat\", \"pokal\", \"spieltag\", \"leverkusen\", \"terminal\", \"elmau\", \"uni\", \"lng\", \"repr\\u00e4sentantenhaus\", \"baum\", \"verabschieden\", \"kongress\", \"pentagon\", \"ecuador\", \"w\\u00fcten\", \"energiesparen\", \"protest\", \"fc\", \"ballon\", \"frankreich\", \"gipfel\", \"verbot\", \"bayern\", \"steinmeier\", \"iran\", \"bundesliga\", \"siegen\", \"us\", \"auto\", \"hertha\", \"demo\", \"usa\", \"bvb\", \"wahl\", \"verletzen\", \"sieg\", \"gewinnen\", \"berlin\", \"polizei\", \"fehlen\", \"deutschland\", \"republikaner\", \"macron\", \"biden\", \"sehen\", \"schule\", \"regierung\", \"israel\", \"geben\", \"hoch\", \"baerbock\"], \"Freq\": [4529.0, 2624.0, 1378.0, 1139.0, 1759.0, 1171.0, 1426.0, 1734.0, 584.0, 1013.0, 636.0, 1312.0, 562.0, 589.0, 531.0, 656.0, 687.0, 478.0, 535.0, 471.0, 429.0, 1138.0, 537.0, 459.0, 431.0, 653.0, 514.0, 358.0, 352.0, 479.0, 4528.5342119406305, 2623.51512280433, 562.0858388590106, 477.79295559804825, 1376.2014185764872, 430.9636451793582, 376.64092070312694, 354.1637976702988, 350.41690605165184, 530.7277400479218, 308.2707284865699, 282.9828788489657, 261.44125103709774, 285.6143978903481, 204.30946198115112, 199.62684847255088, 195.8799882981676, 194.9438690334398, 150.92416399506996, 141.55833915777092, 137.8120927222511, 136.87503520604284, 136.87492139861988, 136.8747815451101, 134.06532904805786, 176.89010811883836, 120.01677200110312, 112.52377476097409, 100.34849665919043, 96.60201049814195, 513.5636073036794, 136.31148800357067, 384.0008545313686, 1463.0653044587852, 1298.408669047715, 378.0532270045759, 307.1235145045712, 226.80978477091958, 224.10146274873085, 189.46150148614072, 289.68780579921247, 168.6514078095294, 192.71497645460602, 189.21941102844576, 200.63442933682822, 284.10748106855107, 191.0537189464524, 188.25984596079613, 173.35853281279773, 145.4180081330106, 127.72361522250941, 122.13608398252491, 111.89093876267245, 105.37196441096226, 57.87419584726201, 53.21791347883334, 52.28618152030219, 46.69886580862844, 42.96690482272283, 42.04157129276442, 41.11078832493852, 41.11037816082242, 39.247734330121766, 37.385396258745594, 34.59118979636866, 33.65994745414935, 31.797715123906823, 31.79769918213517, 30.866213893011665, 30.866071488477594, 29.934924164691786, 29.002912264224584, 53.4320009473563, 27.14075426563742, 26.20944364731041, 453.89366364442526, 164.96184523537497, 54.14661725777747, 1058.6196321236832, 159.30712299959782, 262.676772381179, 67.41380029110393, 348.8528821773608, 160.13021159580913, 54.38757169329271, 664.8833495586845, 204.3087337103299, 162.5647357725361, 130.70509028982036, 58.8134908048268, 226.48773790775994, 74.69126206269587, 121.28961152125947, 647.8649672512258, 221.08894020070545, 149.14046568674468, 161.93037190104567, 405.74193104126994, 103.41165348222765, 94.5946067878614, 296.2095586752441, 166.3871502348824, 247.31791020979603, 217.08668715088024, 198.63285223899695, 211.2612528558923, 230.39868697055937, 213.41127610423706, 157.91994321276687, 182.50081829670043, 170.66907606049324, 159.1293477767826, 351.99733098881507, 1136.036253611346, 299.50323086221874, 232.5312584429569, 357.12725605172733, 257.46476984869145, 165.33155813582448, 427.19559605630457, 140.13201526837415, 119.59869343703276, 147.37803201788853, 94.39901422179535, 89.73230632159041, 89.73218514925898, 80.39941331062202, 78.53251498466996, 70.13264887858838, 65.46547216174052, 70.0680129492875, 62.66604465089676, 136.38527725280576, 157.5651129624385, 58.93262764768072, 56.131843227205415, 55.18177138248348, 53.332573386156284, 70.78889324276702, 51.46596266164296, 50.532604466974746, 50.532604466974746, 174.33896811607966, 547.3269403925939, 107.16914269714388, 150.17945331761018, 126.06486501649503, 149.09312260708327, 341.11830410478154, 142.0094075134335, 133.83347826548234, 201.6791027037939, 80.68974751414449, 80.82932484613148, 248.72833900161467, 176.35491704931036, 158.69582449944608, 177.67052720779344, 215.9651839919576, 212.95866599026502, 354.5754376039009, 192.28502947274634, 237.1827780597881, 204.95024669956055, 141.62224574833178, 345.8870678893588, 318.5657818882899, 252.61713934269181, 229.06544774513085, 228.12398708257902, 160.29212963065092, 140.50812336067025, 135.76300413005774, 199.39041056092302, 124.49082860401545, 121.66486502168327, 112.24461584851755, 107.53140236968515, 100.93956395898547, 99.98470369809125, 98.11297183333394, 100.89754490372157, 102.76201237534909, 88.69204084766758, 86.80774682083536, 83.03912922803698, 81.15536597401234, 74.56028453583316, 71.73433852963792, 66.08160094837855, 58.53516331203784, 73.37315002868857, 57.58363909357127, 53.834327573237935, 57.53228964701423, 266.49974250103037, 98.14452708119815, 584.8888832925896, 536.1549129076603, 224.6974612327982, 83.5468398945552, 131.99825786604092, 129.24469146707105, 127.38336845592696, 382.3432626155534, 190.65164670231914, 301.9275196164238, 135.12976958018263, 236.77028652201565, 183.07436502949702, 192.06578254766, 157.50049254931386, 314.160544238629, 259.6349443023466, 242.4185198351891, 222.50034678291948, 156.5010241785731, 188.94514368107843, 233.43816074274176, 172.42434567835483, 151.6632856555305, 143.60362519495825, 140.82217614970787, 325.1839155110351, 272.42315497701696, 187.62767131978407, 187.62767131978407, 168.78408397152992, 127.32817440971763, 113.14855832938339, 170.80148635669693, 78.33511053287607, 76.45080876970512, 75.50813543921517, 62.31765403802107, 71.54130287070153, 75.13750453651176, 51.01133870416396, 64.90751121924956, 48.18456367855933, 46.300637585912085, 47.220982893274304, 45.35895221309235, 46.278831528975054, 44.4166545473833, 43.47409328120511, 43.47274610446642, 42.530829759525496, 41.59014438115307, 40.64632686620357, 39.70425752877439, 38.763475451156815, 38.763433107971835, 80.06920169837633, 61.60143411710386, 109.90688305296946, 113.35283285341441, 73.56568666437926, 114.6011649567218, 386.4646131109829, 152.46722289824453, 440.9386254148304, 90.91189413461407, 1008.2161798587572, 156.73588822470327, 169.7211766269578, 92.33932096301683, 489.6464601272576, 114.61435410495379, 301.8871768040164, 335.59767606259066, 150.53485667301226, 177.48739519959827, 166.18848174455562, 151.91920056683017, 157.26031997535452, 185.70849206387092, 192.03035332508466, 109.85860118916544, 156.85848294320252, 138.0153477761036, 137.72810585712674, 124.4015386740172, 133.11720230521016, 127.15296817253535, 120.36586606528142, 197.10765452892434, 105.24975345910154, 97.67429085451631, 112.67512743991593, 79.68167928010077, 83.3713968757519, 73.99988348935327, 66.42341322465387, 83.23015957584042, 50.32520479995704, 49.37726435043069, 48.430523668675946, 46.52290342240045, 44.64280020169758, 43.69601345753394, 42.74927941748364, 50.158105308148016, 40.85515421023776, 76.12463732823831, 39.90831202481459, 39.9081845260878, 39.907549505609445, 38.95961344199559, 38.01223943579459, 36.12032309849255, 36.119580472138374, 35.17331416942198, 34.22671113666249, 33.279150821997334, 32.33225730193761, 277.1484120406173, 244.2767968712664, 133.0610193838758, 271.75265840083654, 194.99253841619725, 202.03842380839532, 161.07048342312854, 299.9184154435552, 285.30259535009833, 138.47490928251037, 140.500905916458, 64.41033292999485, 100.92975966630523, 283.5253933793898, 110.18549468228726, 596.4249923765109, 99.8199239870918, 135.80564154117093, 317.06612526233374, 162.07948038771548, 187.7411278627921, 148.91165969989578, 144.38714318766577, 288.89309321038394, 188.03886682243734, 272.3453594482555, 122.8209363037057, 112.83262757199613, 246.0308713837267, 231.37984509781418, 194.2735063871005, 138.36256959860867, 154.8136478713549, 163.42747667073854, 298.1750870565292, 184.29310399058866, 105.15868205723199, 91.91259680616437, 91.89160228985283, 77.7197808686674, 83.31098669566155, 74.88102320653539, 72.04288262830659, 62.58145516758408, 62.561979008198655, 56.904336819686065, 64.35443999887752, 54.06463348514647, 53.11974228759347, 52.173319118621464, 62.41847828497254, 69.86191836860407, 47.44281765644717, 45.5505247573637, 45.550015940319824, 84.51172719934662, 41.76608582179071, 41.764047156936066, 37.979004017647696, 37.03492280243392, 36.08872580026197, 37.90373298503989, 33.24909663843659, 33.24524483055363, 567.4828579948928, 162.076990299864, 55.24501602259961, 415.4062689565502, 328.54778115376956, 109.29299631843655, 382.69345013747363, 106.8300803551395, 340.6355934126954, 256.68514493779696, 103.98727262315376, 678.1355239967631, 197.59112889708197, 79.49894513930217, 68.16103500595213, 476.03247069652656, 88.39102514239619, 314.8889025873865, 129.1672017902158, 151.10238183234142, 159.36938392764893, 283.9309843142909, 169.36395327470913, 99.43741882579829, 276.47800247654254, 93.14451070632116, 110.41545731607188, 141.5030128488756, 130.11792768794484, 100.3634518807152, 130.9921782279, 120.70475451942502, 127.13827200135178, 111.31579088498901, 111.32547219134823], \"Total\": [4529.0, 2624.0, 1378.0, 1139.0, 1759.0, 1171.0, 1426.0, 1734.0, 584.0, 1013.0, 636.0, 1312.0, 562.0, 589.0, 531.0, 656.0, 687.0, 478.0, 535.0, 471.0, 429.0, 1138.0, 537.0, 459.0, 431.0, 653.0, 514.0, 358.0, 352.0, 479.0, 4529.340647162292, 2624.32155711189, 562.8923447930088, 478.59946530789625, 1378.676938381258, 431.77008790672215, 377.4480134650488, 354.9699063933876, 351.2235596460071, 531.9895630999694, 309.07711732955636, 283.7892539040795, 262.24773961983436, 286.6000789673603, 205.1158987140666, 200.43295960385615, 196.68661233847897, 195.75002217908923, 151.7304072602019, 142.3645318293753, 138.6181808678254, 137.68159536924338, 137.6815975943626, 137.68159369666833, 134.87183171833476, 177.95772712558457, 120.82301862847275, 113.33031929961093, 101.15467928104489, 97.40832926310435, 535.9684532352165, 138.6302841904025, 416.19270911224856, 1759.973488629932, 1734.5926725203485, 442.7734527082096, 350.53677021198644, 253.15834743039107, 259.82046847732704, 217.45017244257062, 618.68337603921, 203.5747771013141, 316.3533094707068, 377.6480683713126, 1014.8567711319793, 284.9933645181361, 191.8609401360271, 189.06697154248874, 174.16581224204782, 146.2261427134557, 128.53100774454796, 122.94306751878484, 112.69852661867091, 106.17926399836661, 58.68181756622528, 54.025201719227695, 53.093884497109705, 47.50594172065277, 43.78076298491296, 42.8493354603607, 41.91800655050731, 41.91801325408018, 40.05536721053032, 38.19271796089508, 35.39875245317639, 34.46743192066757, 32.60478138276542, 32.60477984823583, 31.673461063536433, 31.67346090877111, 30.742135866441327, 29.81082106720495, 54.96858286293491, 27.948170882994695, 27.016849482947727, 471.4526555886639, 170.49497227948095, 55.90272715462451, 1171.8660310804648, 169.58098056116773, 284.27885702504193, 70.80448493093789, 408.59130797469663, 179.10736257019485, 58.7224589608331, 1013.6378071900436, 267.13212904272433, 211.52582132840968, 168.23936061728904, 64.32393893558397, 337.8450709811594, 86.75028320037487, 162.73068806144707, 1666.709737510704, 386.796950190633, 228.55125893282167, 257.98303947583497, 985.2712783961508, 140.2485195238052, 123.04271154957493, 764.7683506322935, 311.8987455889248, 616.679178289517, 523.4593062297683, 479.37238557150084, 710.1653365499949, 1312.2106496086617, 1014.8567711319793, 376.5603444280579, 1426.1879869215256, 1734.5926725203485, 1138.017905842402, 352.80412643480395, 1139.618711008176, 300.54039629337507, 233.3382599953497, 358.4085461559088, 258.53903977689936, 166.13871160780496, 429.3340815828928, 140.93887680631525, 120.40568232652215, 148.40590395773864, 95.20584947014319, 90.53921473340901, 90.53921507222785, 81.20594010994643, 79.33928741796544, 70.93934341029244, 66.27271379711817, 70.93995901883424, 63.47272663255954, 138.151782954366, 159.61402075762638, 59.739419462348145, 56.93944545627524, 56.0061252521898, 54.13945755537726, 71.87364045605123, 52.27280296933869, 51.3394763270037, 51.3394763270037, 177.3339227306822, 656.9967060251934, 114.84464601525629, 166.27156457620413, 138.24574500087414, 168.25483644906876, 451.97592090567855, 167.42699097805473, 159.91661710538128, 285.62104542490266, 85.93661651312703, 86.85453271329207, 444.5988587648292, 272.14720555004726, 248.7497051231812, 365.33473143911516, 541.5374386369308, 533.3307234513568, 1666.709737510704, 547.1278423560364, 1312.2106496086617, 1138.017905842402, 665.4717855031498, 346.692823697143, 319.37174091728485, 253.4242917814653, 229.87164149896387, 228.92953640112128, 161.09788175501208, 141.31364941195466, 136.60286490942022, 200.6683686486038, 125.29783277924959, 122.47151684931303, 113.05045852234512, 108.339910512844, 101.74518407398176, 100.80300558116224, 98.91886494678042, 101.74518575783853, 103.62882051755469, 89.49780115389099, 87.61358815464922, 83.84516235011313, 81.96095153269427, 75.36620639353745, 72.53988963137657, 66.88725098317629, 59.350310977725975, 74.42129449796445, 58.40837284632964, 54.63986868578605, 58.40788123071838, 272.2219099515765, 99.85248384591846, 636.275900469347, 589.3898124842586, 242.8601885690009, 85.71654574761021, 144.01377381107977, 141.2086924040308, 140.27917540855972, 514.0063809811888, 227.9508370013481, 422.2752831250101, 152.69347154673977, 354.94812073439766, 262.11169322277124, 300.9134412366429, 215.5035180699301, 710.1653365499949, 549.8902561071251, 492.3973729093507, 481.78261906095736, 229.81083300954643, 364.671428398674, 1426.1879869215256, 547.1278423560364, 299.2242826574191, 254.05759768407088, 292.146579718196, 325.9912461511194, 273.2292861068518, 188.43325558651597, 188.433255586516, 169.58969239252104, 128.13385581796436, 114.00112641395381, 172.41142690694386, 79.14059264879353, 77.25623698506416, 76.31406019312874, 63.12356426521289, 72.54416723780285, 76.31185638057164, 51.81742844276208, 65.95109733040472, 48.99088792820634, 47.10653544833366, 48.04846062316068, 46.16435908246961, 47.106284791776076, 45.222181788328214, 44.28000410741093, 44.28000196261714, 43.33781650216581, 42.395646759769186, 41.45346457768039, 40.51128181528975, 39.56911243200826, 39.569112543083335, 81.97172167179691, 63.11931306945164, 114.00045512189209, 118.66944435089917, 76.31913363593337, 121.49650013227426, 433.31435649663047, 168.5585527388495, 537.896795928498, 98.96311270483403, 1426.1879869215256, 180.89398769523225, 197.8527255498563, 101.65369379670875, 687.4790449051799, 134.7276308789371, 458.07835708373057, 563.4540493534977, 203.10180340188077, 259.7393549776513, 309.58270003036256, 264.1512850155675, 287.36419483535883, 436.9935953087737, 492.3973729093507, 163.11739938631897, 490.43626844915156, 436.75217274756386, 479.11495936079586, 319.67300115638756, 985.2712783961508, 618.68337603921, 437.6573183441028, 197.91277950179668, 106.05518788847, 98.47930833148841, 113.62857906727783, 80.48658601427339, 84.27290255504145, 74.80467319992312, 67.22878444947796, 84.27056716500849, 51.13003641360582, 50.1830405865289, 49.23605824582028, 47.34187250402546, 45.448118499134964, 44.501135726035606, 43.55415359198947, 51.12788302923456, 41.66017982236301, 77.63378565205495, 40.71319586454487, 40.71319523006285, 40.71318943266984, 39.766200768328126, 38.8191951114279, 36.92525375343832, 36.9252489500653, 35.97826712654176, 35.03128555844893, 34.084293247510026, 33.137310532920814, 284.056713307587, 260.2495195576026, 141.9154783389702, 303.8150351469502, 220.36765758402038, 232.5812407845998, 184.3797072487551, 421.2962390159337, 399.0406143131747, 175.00946297743857, 181.6976253342321, 71.88961878359004, 123.90435660040677, 436.75217274756386, 138.1142988892285, 1138.017905842402, 125.72874654361094, 188.78128498378774, 580.8894576563399, 240.75669994867565, 300.0129418519251, 221.48415388890712, 212.08562531952518, 653.2961336861811, 338.9862599823973, 665.4717855031498, 188.62598126856037, 177.1866233049168, 1734.5926725203485, 1759.973488629932, 1013.6378071900436, 371.4500835785161, 764.7683506322935, 1666.709737510704, 298.98043877885044, 185.43970834707173, 105.96365005396206, 92.71740094369504, 92.71707906830791, 78.52498461574814, 84.20158332137308, 75.68650380220208, 72.84802240740802, 63.386417037005295, 63.3863340418826, 57.70945006675502, 65.27883827468453, 54.870947859463065, 53.92480688382308, 52.97864111707155, 63.38573081036338, 70.95280974108631, 48.24784272508347, 46.35552323620643, 46.355518231701865, 86.08372938677606, 42.57088070540394, 42.57086854203696, 38.786207261072526, 37.84007370217601, 36.89391303306853, 38.78502355341935, 34.05542131365079, 34.05538201177418, 584.5641644555914, 166.50261766560573, 56.75210380660168, 459.58518856915845, 385.14377878593507, 121.91451916954584, 490.3140982062372, 121.10803954166494, 479.11495936079586, 355.3364558940274, 123.78922669075594, 1312.2106496086617, 285.3894859705455, 90.78048937985122, 74.68192552814465, 1014.8567711319793, 105.89307054578444, 653.2961336861811, 205.22373880738047, 279.4399746356938, 328.44251164039775, 985.2712783961508, 410.8877600858084, 145.21806488663458, 1666.709737510704, 127.26411536159269, 212.6370651353588, 523.4593062297683, 431.50952616068275, 170.45002997643846, 514.0063809811888, 421.2962390159337, 568.3257938082962, 444.5988587648292, 479.16987060240217], \"Category\": [\"Default\", \"Default\", \"Default\", \"Default\", \"Default\", \"Default\", \"Default\", \"Default\", \"Default\", \"Default\", \"Default\", \"Default\", \"Default\", \"Default\", \"Default\", \"Default\", \"Default\", \"Default\", \"Default\", \"Default\", \"Default\", \"Default\", \"Default\", \"Default\", \"Default\", \"Default\", \"Default\", \"Default\", \"Default\", \"Default\", \"Topic1\", \"Topic1\", \"Topic1\", \"Topic1\", \"Topic1\", \"Topic1\", \"Topic1\", \"Topic1\", \"Topic1\", \"Topic1\", \"Topic1\", \"Topic1\", \"Topic1\", \"Topic1\", \"Topic1\", \"Topic1\", \"Topic1\", \"Topic1\", \"Topic1\", \"Topic1\", \"Topic1\", \"Topic1\", \"Topic1\", \"Topic1\", \"Topic1\", \"Topic1\", \"Topic1\", \"Topic1\", \"Topic1\", \"Topic1\", \"Topic1\", \"Topic1\", \"Topic1\", \"Topic1\", \"Topic1\", \"Topic1\", \"Topic1\", \"Topic1\", \"Topic1\", \"Topic1\", \"Topic1\", \"Topic1\", \"Topic1\", \"Topic1\", \"Topic1\", \"Topic2\", \"Topic2\", \"Topic2\", \"Topic2\", \"Topic2\", \"Topic2\", \"Topic2\", \"Topic2\", \"Topic2\", \"Topic2\", \"Topic2\", \"Topic2\", \"Topic2\", \"Topic2\", \"Topic2\", \"Topic2\", \"Topic2\", \"Topic2\", \"Topic2\", \"Topic2\", \"Topic2\", \"Topic2\", \"Topic2\", \"Topic2\", \"Topic2\", \"Topic2\", \"Topic2\", \"Topic2\", \"Topic2\", \"Topic2\", \"Topic2\", \"Topic2\", \"Topic2\", \"Topic2\", \"Topic2\", \"Topic2\", \"Topic2\", \"Topic2\", \"Topic2\", \"Topic2\", \"Topic2\", \"Topic2\", \"Topic2\", \"Topic2\", \"Topic2\", \"Topic2\", \"Topic2\", \"Topic2\", \"Topic2\", \"Topic2\", \"Topic2\", \"Topic2\", \"Topic2\", \"Topic2\", \"Topic2\", \"Topic2\", \"Topic2\", \"Topic2\", \"Topic2\", \"Topic2\", \"Topic2\", \"Topic2\", \"Topic2\", \"Topic2\", \"Topic2\", \"Topic2\", \"Topic2\", \"Topic3\", \"Topic3\", \"Topic3\", \"Topic3\", \"Topic3\", \"Topic3\", \"Topic3\", \"Topic3\", \"Topic3\", \"Topic3\", \"Topic3\", \"Topic3\", \"Topic3\", \"Topic3\", \"Topic3\", \"Topic3\", \"Topic3\", \"Topic3\", \"Topic3\", \"Topic3\", \"Topic3\", \"Topic3\", \"Topic3\", \"Topic3\", \"Topic3\", \"Topic3\", \"Topic3\", \"Topic3\", \"Topic3\", \"Topic3\", \"Topic3\", \"Topic3\", \"Topic3\", \"Topic3\", \"Topic3\", \"Topic3\", \"Topic3\", \"Topic3\", \"Topic3\", \"Topic3\", \"Topic3\", \"Topic3\", \"Topic3\", \"Topic3\", \"Topic3\", \"Topic3\", \"Topic3\", \"Topic3\", \"Topic3\", \"Topic3\", \"Topic3\", \"Topic3\", \"Topic3\", \"Topic4\", \"Topic4\", \"Topic4\", \"Topic4\", \"Topic4\", \"Topic4\", \"Topic4\", \"Topic4\", \"Topic4\", \"Topic4\", \"Topic4\", \"Topic4\", \"Topic4\", \"Topic4\", \"Topic4\", \"Topic4\", \"Topic4\", \"Topic4\", \"Topic4\", \"Topic4\", \"Topic4\", \"Topic4\", \"Topic4\", \"Topic4\", \"Topic4\", \"Topic4\", \"Topic4\", \"Topic4\", \"Topic4\", \"Topic4\", \"Topic4\", \"Topic4\", \"Topic4\", \"Topic4\", \"Topic4\", \"Topic4\", \"Topic4\", \"Topic4\", \"Topic4\", \"Topic4\", \"Topic4\", \"Topic4\", \"Topic4\", \"Topic4\", \"Topic4\", \"Topic4\", \"Topic4\", \"Topic4\", \"Topic4\", \"Topic4\", \"Topic4\", \"Topic4\", \"Topic4\", \"Topic4\", \"Topic4\", \"Topic4\", \"Topic4\", \"Topic4\", \"Topic5\", \"Topic5\", \"Topic5\", \"Topic5\", \"Topic5\", \"Topic5\", \"Topic5\", \"Topic5\", \"Topic5\", \"Topic5\", \"Topic5\", \"Topic5\", \"Topic5\", \"Topic5\", \"Topic5\", \"Topic5\", \"Topic5\", \"Topic5\", \"Topic5\", \"Topic5\", \"Topic5\", \"Topic5\", \"Topic5\", \"Topic5\", \"Topic5\", \"Topic5\", \"Topic5\", \"Topic5\", \"Topic5\", \"Topic5\", \"Topic5\", \"Topic5\", \"Topic5\", \"Topic5\", \"Topic5\", \"Topic5\", \"Topic5\", \"Topic5\", \"Topic5\", \"Topic5\", \"Topic5\", \"Topic5\", \"Topic5\", \"Topic5\", \"Topic5\", \"Topic5\", \"Topic5\", \"Topic5\", \"Topic5\", \"Topic5\", \"Topic5\", \"Topic5\", \"Topic5\", \"Topic5\", \"Topic5\", \"Topic5\", \"Topic5\", \"Topic5\", \"Topic5\", \"Topic5\", \"Topic5\", \"Topic5\", \"Topic5\", \"Topic6\", \"Topic6\", \"Topic6\", \"Topic6\", \"Topic6\", \"Topic6\", \"Topic6\", \"Topic6\", \"Topic6\", \"Topic6\", \"Topic6\", \"Topic6\", \"Topic6\", \"Topic6\", \"Topic6\", \"Topic6\", \"Topic6\", \"Topic6\", \"Topic6\", \"Topic6\", \"Topic6\", \"Topic6\", \"Topic6\", \"Topic6\", \"Topic6\", \"Topic6\", \"Topic6\", \"Topic6\", \"Topic6\", \"Topic6\", \"Topic6\", \"Topic6\", \"Topic6\", \"Topic6\", \"Topic6\", \"Topic6\", \"Topic6\", \"Topic6\", \"Topic6\", \"Topic6\", \"Topic6\", \"Topic6\", \"Topic6\", \"Topic6\", \"Topic6\", \"Topic6\", \"Topic6\", \"Topic6\", \"Topic6\", \"Topic6\", \"Topic6\", \"Topic6\", \"Topic6\", \"Topic6\", \"Topic6\", \"Topic6\", \"Topic6\", \"Topic6\", \"Topic6\", \"Topic6\", \"Topic6\", \"Topic6\", \"Topic6\", \"Topic6\", \"Topic7\", \"Topic7\", \"Topic7\", \"Topic7\", \"Topic7\", \"Topic7\", \"Topic7\", \"Topic7\", \"Topic7\", \"Topic7\", \"Topic7\", \"Topic7\", \"Topic7\", \"Topic7\", \"Topic7\", \"Topic7\", \"Topic7\", \"Topic7\", \"Topic7\", \"Topic7\", \"Topic7\", \"Topic7\", \"Topic7\", \"Topic7\", \"Topic7\", \"Topic7\", \"Topic7\", \"Topic7\", \"Topic7\", \"Topic7\", \"Topic7\", \"Topic7\", \"Topic7\", \"Topic7\", \"Topic7\", \"Topic7\", \"Topic7\", \"Topic7\", \"Topic7\", \"Topic7\", \"Topic7\", \"Topic7\", \"Topic7\", \"Topic7\", \"Topic7\", \"Topic7\", \"Topic7\", \"Topic7\", \"Topic7\", \"Topic7\", \"Topic7\", \"Topic7\", \"Topic7\", \"Topic7\", \"Topic7\", \"Topic7\", \"Topic7\", \"Topic7\", \"Topic7\", \"Topic7\", \"Topic7\", \"Topic7\", \"Topic7\", \"Topic7\", \"Topic7\"], \"logprob\": [30.0, 29.0, 28.0, 27.0, 26.0, 25.0, 24.0, 23.0, 22.0, 21.0, 20.0, 19.0, 18.0, 17.0, 16.0, 15.0, 14.0, 13.0, 12.0, 11.0, 10.0, 9.0, 8.0, 7.0, 6.0, 5.0, 4.0, 3.0, 2.0, 1.0, -2.5421, -3.088, -4.6286, -4.7911, -3.7332, -4.8943, -5.029, -5.0905, -5.1012, -4.686, -5.2293, -5.3149, -5.3941, -5.3057, -5.6407, -5.6638, -5.6828, -5.6876, -5.9435, -6.0076, -6.0344, -6.0412, -6.0412, -6.0412, -6.062, -5.7848, -6.1727, -6.2371, -6.3516, -6.3897, -4.7189, -6.0454, -5.0096, -3.672, -3.7914, -5.0253, -5.233, -5.5362, -5.5482, -5.7161, -5.2915, -5.8325, -5.6991, -5.7174, -5.6588, -5.1402, -5.537, -5.5518, -5.6342, -5.81, -5.9397, -5.9845, -6.0721, -6.1321, -6.7313, -6.8152, -6.8329, -6.9459, -7.0292, -7.0509, -7.0733, -7.0733, -7.1197, -7.1683, -7.246, -7.2733, -7.3302, -7.3302, -7.3599, -7.3599, -7.3906, -7.4222, -6.8112, -7.4886, -7.5235, -4.6717, -5.6839, -6.7979, -3.8249, -5.7188, -5.2187, -6.5787, -4.9349, -5.7136, -6.7935, -4.29, -5.47, -5.6985, -5.9166, -6.7152, -5.3669, -6.4762, -5.9914, -4.3159, -5.391, -5.7847, -5.7024, -4.7839, -6.1509, -6.24, -5.0985, -5.6753, -5.2789, -5.4093, -5.4981, -5.4365, -5.3498, -5.4264, -5.7275, -5.5828, -5.6499, -5.7199, -4.8979, -3.7262, -5.0594, -5.3125, -4.8834, -5.2106, -5.6535, -4.7043, -5.8189, -5.9774, -5.7685, -6.214, -6.2647, -6.2647, -6.3745, -6.398, -6.5111, -6.58, -6.512, -6.6237, -5.846, -5.7017, -6.6851, -6.7338, -6.7509, -6.7849, -6.5018, -6.8206, -6.8389, -6.8389, -5.6005, -4.4564, -6.0871, -5.7497, -5.9247, -5.7569, -4.9293, -5.8056, -5.8649, -5.4548, -6.3709, -6.3692, -5.2451, -5.589, -5.6945, -5.5816, -5.3864, -5.4004, -4.8906, -5.5025, -5.2927, -5.4387, -5.8083, -4.9102, -4.9925, -5.2244, -5.3223, -5.3264, -5.6793, -5.811, -5.8454, -5.461, -5.9321, -5.955, -6.0356, -6.0785, -6.1418, -6.1513, -6.1702, -6.1422, -6.1239, -6.2711, -6.2926, -6.337, -6.3599, -6.4447, -6.4833, -6.5654, -6.6867, -6.4607, -6.7031, -6.7704, -6.704, -5.1709, -6.1699, -4.3849, -4.4719, -5.3415, -6.3309, -5.8735, -5.8946, -5.9091, -4.81, -5.5059, -5.0461, -5.8501, -5.2892, -5.5464, -5.4985, -5.6969, -5.0064, -5.197, -5.2656, -5.3514, -5.7032, -5.5148, -5.3034, -5.6063, -5.7346, -5.7892, -5.8088, -4.921, -5.098, -5.4709, -5.4709, -5.5767, -5.8586, -5.9766, -5.5648, -6.3443, -6.3687, -6.3811, -6.5731, -6.4351, -6.386, -6.7733, -6.5324, -6.8303, -6.8702, -6.8505, -6.8907, -6.8707, -6.9117, -6.9332, -6.9332, -6.9551, -6.9775, -7.0004, -7.0239, -7.0479, -7.0479, -6.3225, -6.5847, -6.0057, -5.9748, -6.4072, -5.9639, -4.7483, -5.6784, -4.6164, -6.1955, -3.7894, -5.6508, -5.5712, -6.1799, -4.5117, -5.9638, -4.9953, -4.8894, -5.6912, -5.5264, -5.5922, -5.682, -5.6474, -5.4812, -5.4477, -6.0062, -5.65, -5.778, -5.7801, -5.8818, -5.8141, -5.86, -5.9148, -5.4048, -6.0322, -6.1069, -5.9641, -6.3105, -6.2653, -6.3845, -6.4925, -6.267, -6.7701, -6.7891, -6.8084, -6.8486, -6.8899, -6.9113, -6.9332, -6.7734, -6.9785, -6.3562, -7.002, -7.002, -7.002, -7.0261, -7.0507, -7.1017, -7.1017, -7.1283, -7.1556, -7.1836, -7.2125, -5.064, -5.1903, -5.7978, -5.0837, -5.4156, -5.3801, -5.6067, -4.9851, -5.035, -5.7579, -5.7434, -6.5233, -6.0742, -5.0413, -5.9864, -4.2976, -6.0852, -5.7774, -4.9295, -5.6005, -5.4535, -5.6852, -5.7161, -5.0225, -5.4519, -5.0815, -5.8778, -5.9627, -5.1831, -5.2445, -5.4193, -5.7587, -5.6464, -5.5922, -4.9903, -5.4714, -6.0325, -6.1671, -6.1673, -6.3348, -6.2654, -6.372, -6.4107, -6.5515, -6.5518, -6.6466, -6.5235, -6.6978, -6.7154, -6.7334, -6.5541, -6.4414, -6.8284, -6.8691, -6.8691, -6.251, -6.9559, -6.9559, -7.0509, -7.0761, -7.102, -7.0529, -7.1839, -7.184, -4.3467, -5.5999, -6.6762, -4.6587, -4.8933, -5.9939, -4.7407, -6.0167, -4.8571, -5.1401, -6.0437, -4.1686, -5.4017, -6.3122, -6.4661, -4.5225, -6.2062, -4.9357, -5.8268, -5.67, -5.6167, -5.0392, -5.5559, -6.0884, -5.0658, -6.1538, -5.9837, -5.7356, -5.8195, -6.0791, -5.8128, -5.8946, -5.8427, -5.9756, -5.9755], \"loglift\": [30.0, 29.0, 28.0, 27.0, 26.0, 25.0, 24.0, 23.0, 22.0, 21.0, 20.0, 19.0, 18.0, 17.0, 16.0, 15.0, 14.0, 13.0, 12.0, 11.0, 10.0, 9.0, 8.0, 7.0, 6.0, 5.0, 4.0, 3.0, 2.0, 1.0, 1.7537, 1.7536, 1.7524, 1.7522, 1.7521, 1.752, 1.7517, 1.7516, 1.7516, 1.7515, 1.7512, 1.751, 1.7508, 1.7504, 1.7499, 1.7498, 1.7498, 1.7497, 1.7485, 1.7482, 1.748, 1.748, 1.748, 1.748, 1.7479, 1.7478, 1.7472, 1.7467, 1.7459, 1.7455, 1.7112, 1.737, 1.6734, 1.5691, 1.4642, 1.5958, 1.6216, 1.644, 1.606, 1.6161, 0.9951, 1.5657, 1.2582, 1.0628, 0.1328, 1.9215, 1.9203, 1.9203, 1.9199, 1.919, 1.9183, 1.918, 1.9174, 1.9169, 1.9107, 1.9095, 1.9092, 1.9074, 1.9058, 1.9055, 1.9051, 1.9051, 1.9042, 1.9032, 1.9015, 1.9009, 1.8995, 1.8995, 1.8987, 1.8987, 1.898, 1.8971, 1.8962, 1.8952, 1.8942, 1.8866, 1.8916, 1.8926, 1.8229, 1.8621, 1.8455, 1.8755, 1.7665, 1.8126, 1.8479, 1.5029, 1.6565, 1.6613, 1.6721, 1.835, 1.5247, 1.7749, 1.6306, 0.9796, 1.3652, 1.4977, 1.4588, 1.0374, 1.6199, 1.6616, 0.9761, 1.2962, 1.0109, 1.0444, 1.0435, 0.7122, 0.1849, 0.3653, 1.0556, -0.1314, -0.3942, -0.0428, 1.9504, 1.9495, 1.9492, 1.9492, 1.9491, 1.9485, 1.9478, 1.9477, 1.9469, 1.9459, 1.9457, 1.9441, 1.9437, 1.9437, 1.9427, 1.9424, 1.9412, 1.9404, 1.9403, 1.9399, 1.9398, 1.9397, 1.9391, 1.9384, 1.9378, 1.9376, 1.9375, 1.9371, 1.9368, 1.9368, 1.9356, 1.77, 1.8835, 1.8509, 1.8604, 1.8318, 1.6713, 1.788, 1.7746, 1.6047, 1.8897, 1.8808, 1.3718, 1.5188, 1.5032, 1.2318, 1.0334, 1.0346, 0.405, 0.907, 0.242, 0.2384, 0.4053, 1.9555, 1.9553, 1.9547, 1.9543, 1.9543, 1.9528, 1.9521, 1.9517, 1.9515, 1.9514, 1.9512, 1.9507, 1.9504, 1.9499, 1.9497, 1.9497, 1.9495, 1.9495, 1.9488, 1.9486, 1.9482, 1.948, 1.9471, 1.9467, 1.9457, 1.944, 1.9437, 1.9436, 1.943, 1.9427, 1.9366, 1.9406, 1.8736, 1.8632, 1.8801, 1.9322, 1.8707, 1.8693, 1.8614, 1.6619, 1.7792, 1.6224, 1.8357, 1.553, 1.599, 1.5089, 1.6443, 1.1423, 1.2074, 1.2492, 1.1853, 1.5737, 1.3003, 0.148, 0.8031, 1.2783, 1.3873, 1.2281, 2.0063, 2.0059, 2.0045, 2.0045, 2.004, 2.0025, 2.0013, 1.9994, 1.9986, 1.9983, 1.9982, 1.996, 1.9949, 1.9933, 1.9931, 1.9929, 1.9922, 1.9916, 1.9914, 1.9912, 1.9911, 1.9908, 1.9904, 1.9904, 1.99, 1.9896, 1.9891, 1.9887, 1.9882, 1.9882, 1.9853, 1.9845, 1.9722, 1.963, 1.9721, 1.9504, 1.8944, 1.9085, 1.81, 1.924, 1.662, 1.8655, 1.8554, 1.9127, 1.6695, 1.8471, 1.5918, 1.4906, 1.7093, 1.628, 1.3867, 1.4556, 1.406, 1.1531, 1.0672, 1.6135, 0.8689, 0.8568, 0.7622, 1.065, 0.0071, 0.4266, 0.7179, 2.0215, 2.018, 2.0174, 2.0172, 2.0155, 2.0148, 2.0148, 2.0135, 2.0132, 2.0097, 2.0094, 2.0091, 2.0081, 2.0077, 2.0073, 2.0069, 2.0064, 2.0061, 2.0059, 2.0056, 2.0056, 2.0056, 2.0051, 2.0046, 2.0035, 2.0035, 2.003, 2.0023, 2.0017, 2.001, 2.001, 1.9622, 1.9612, 1.9141, 1.9032, 1.8848, 1.8904, 1.6858, 1.6901, 1.7914, 1.7684, 1.9157, 1.8205, 1.5935, 1.7997, 1.3795, 1.7948, 1.6962, 1.4201, 1.6299, 1.5568, 1.6286, 1.6411, 1.2096, 1.4363, 1.1322, 1.5965, 1.5743, 0.0725, -0.0034, 0.3735, 1.038, 0.4282, -0.2967, 2.0235, 2.02, 2.0186, 2.0175, 2.0173, 2.0159, 2.0156, 2.0155, 2.0151, 2.0134, 2.0131, 2.0122, 2.012, 2.0114, 2.0112, 2.0109, 2.0108, 2.0107, 2.0094, 2.0087, 2.0087, 2.0078, 2.0071, 2.0071, 2.0052, 2.0047, 2.0042, 2.0032, 2.0023, 2.0021, 1.9966, 1.9993, 1.9993, 1.9252, 1.8673, 1.9169, 1.7784, 1.9008, 1.6851, 1.701, 1.8519, 1.3661, 1.6586, 1.8935, 1.9349, 1.2692, 1.8456, 1.2964, 1.5632, 1.4114, 1.3031, 0.782, 1.1399, 1.6475, 0.2297, 1.7141, 1.3709, 0.7181, 0.8274, 1.4966, 0.6591, 0.7762, 0.5288, 0.6414, 0.5666]}, \"token.table\": {\"Topic\": [6, 5, 2, 2, 4, 5, 6, 1, 2, 3, 4, 5, 1, 2, 1, 4, 5, 2, 4, 5, 1, 2, 5, 1, 6, 1, 2, 3, 6, 3, 1, 6, 2, 2, 3, 7, 1, 1, 2, 3, 4, 5, 6, 7, 4, 5, 6, 2, 7, 7, 3, 5, 7, 6, 1, 5, 2, 1, 2, 5, 6, 7, 1, 2, 3, 4, 5, 6, 7, 1, 2, 3, 7, 1, 2, 3, 4, 5, 6, 3, 4, 3, 3, 4, 6, 1, 2, 5, 6, 4, 1, 4, 6, 4, 7, 2, 5, 7, 1, 2, 3, 4, 5, 7, 2, 3, 4, 5, 7, 5, 1, 4, 6, 5, 7, 1, 2, 4, 5, 5, 6, 6, 1, 2, 4, 5, 6, 7, 4, 1, 2, 3, 7, 4, 4, 2, 3, 4, 2, 5, 6, 2, 3, 2, 5, 5, 7, 1, 3, 4, 6, 1, 7, 7, 7, 2, 5, 6, 1, 2, 3, 4, 5, 6, 1, 2, 3, 4, 5, 6, 7, 6, 2, 6, 3, 1, 2, 3, 4, 5, 6, 7, 1, 4, 6, 7, 1, 5, 7, 2, 4, 7, 2, 2, 3, 4, 5, 6, 7, 7, 3, 4, 4, 4, 5, 1, 5, 1, 5, 6, 7, 2, 3, 4, 5, 6, 1, 2, 3, 4, 7, 1, 2, 4, 5, 2, 4, 2, 3, 5, 6, 7, 6, 1, 2, 3, 4, 5, 6, 7, 2, 4, 7, 5, 7, 2, 3, 4, 5, 6, 7, 3, 4, 5, 7, 1, 6, 2, 5, 3, 2, 6, 7, 1, 2, 3, 4, 5, 7, 2, 7, 5, 1, 2, 2, 5, 7, 7, 5, 3, 4, 5, 6, 6, 5, 3, 4, 1, 2, 3, 4, 5, 6, 7, 1, 2, 3, 6, 7, 2, 4, 5, 7, 3, 6, 1, 2, 3, 5, 6, 7, 2, 7, 7, 1, 2, 4, 5, 6, 7, 4, 1, 2, 3, 4, 5, 6, 1, 2, 4, 5, 6, 4, 1, 2, 3, 4, 5, 6, 7, 1, 2, 3, 4, 5, 1, 4, 6, 5, 5, 4, 2, 3, 4, 5, 7, 1, 3, 5, 3, 1, 2, 3, 4, 5, 7, 7, 3, 5, 5, 3, 6, 3, 6, 1, 3, 5, 7, 6, 7, 2, 4, 5, 6, 2, 6, 7, 4, 6, 2, 1, 2, 3, 5, 6, 7, 2, 6, 2, 5, 1, 5, 6, 3, 5, 6, 1, 7, 2, 6, 1, 3, 4, 5, 6, 4, 3, 5, 1, 5, 6, 2, 2, 3, 5, 2, 5, 6, 7, 3, 5, 4, 1, 2, 3, 5, 6, 7, 4, 1, 6, 1, 1, 1, 1, 2, 4, 6, 7, 6, 1, 3, 4, 1, 2, 3, 4, 5, 7, 3, 3, 5, 2, 7, 5, 4, 2, 7, 1, 4, 4, 2, 4, 5, 6, 7, 1, 3, 7, 5, 1, 2, 6, 7, 6, 7, 1, 2, 3, 4, 5, 6, 7, 2, 3, 1, 2, 3, 5, 6, 7, 1, 5, 6, 1, 2, 4, 5, 6, 2, 2, 2, 4, 2, 3, 4, 6, 7, 1, 5, 1, 2, 4, 3, 5, 1, 1, 6, 7, 4, 2, 5, 4, 2, 1, 4, 6, 1, 6, 2, 6, 3, 3, 6, 6, 6, 5, 6, 1, 2, 6, 3, 4, 4, 5, 6, 5, 2, 7, 7, 7, 4, 1, 2, 3, 4, 5, 6, 7, 1, 6, 7, 2, 4, 5, 6, 1, 2, 4, 5, 7, 3, 1, 6, 3, 5, 7, 1, 2, 3, 6, 7, 1, 2, 5, 6, 7, 2, 3, 6, 3, 2, 6, 7, 6, 4, 7, 6, 2, 7, 2, 7, 7, 2, 3, 7, 4, 5, 3, 6, 2, 5, 6, 6, 1, 1, 7, 1, 1, 5, 6, 7, 1, 5, 7, 3, 4, 5, 5, 1, 1, 2, 3, 4, 5, 2, 4, 5, 6, 3, 1, 2, 6, 5, 6, 2, 3, 6, 7, 4, 5, 1, 2, 3, 4, 5, 6, 7, 1, 7, 4, 1, 2, 5, 6, 7, 1, 2, 4, 7, 2, 3, 4, 1, 3, 5, 1, 4, 5, 7, 7, 6, 3, 2, 1, 2, 3, 5, 6, 1, 2, 3, 4, 5, 5, 5, 6, 7, 1, 2, 3, 4, 5, 6, 7, 1, 2, 3, 4, 5, 7, 2, 1, 3, 6, 3, 4, 3, 6, 7, 3, 4, 5, 6, 7, 3, 4, 7, 3, 6, 4, 1, 5, 4, 5, 6, 2, 6, 7, 2, 5, 4, 1, 2, 6, 7, 1, 3, 5, 6, 5, 5, 5, 1, 2, 4, 5, 6, 7, 2, 3, 7, 1, 4, 3, 4, 6, 1, 3, 5, 6, 7, 1, 4, 1, 1, 2, 5, 7, 1, 1, 2, 3, 7, 1, 2, 3, 6, 7, 5, 7, 2, 6, 7, 4, 2, 3, 4, 5, 7, 2, 6, 1, 2, 6, 2, 5, 1, 6, 7, 3, 1, 5, 6, 7, 1, 1, 2, 3, 6, 7, 2, 4, 3, 7, 3, 3, 5, 6, 1, 2, 3, 4, 5, 6, 2, 3, 4, 5, 1, 2, 7, 6, 3, 4, 2, 5, 6, 7, 7, 2, 3, 6, 2, 1, 2, 3, 2, 7, 2, 4, 1], \"Freq\": [0.9824824396758801, 0.971093001222137, 0.9814511443685037, 0.1618208055957031, 0.10673287177588929, 0.1842002787100025, 0.5457148444025307, 0.08939985035658132, 0.7720896167159297, 0.13816340509653477, 0.14102526613173305, 0.8535739792183842, 0.04237019735298089, 0.94626774088324, 0.6100773857017959, 0.36667863596584627, 0.022127159066904517, 0.054293439286167935, 0.9094151080433129, 0.03563006953154771, 0.007342300096569321, 0.8541542445675643, 0.13705626846929397, 0.9590116673796556, 0.0410471919890125, 0.9958080662486117, 0.006265113774174628, 0.9898879763195912, 0.006265113774174628, 0.9940444067800155, 0.994618232424891, 0.9824825948885854, 0.980178561668794, 0.1576792496295549, 0.14716729965425124, 0.6937886983700416, 0.9978398782080958, 0.20034648647526782, 0.20660731417761993, 0.07304298986077473, 0.006260827702352119, 0.17947706080076076, 0.10434712837253532, 0.23165062498702843, 0.0263318107220419, 0.07570395582587046, 0.8952815645494245, 0.017620492156692084, 0.9691270686180647, 0.9865901598537212, 0.06118526901378496, 0.15704219046871473, 0.7811319344093213, 0.9788971639139746, 0.015843011455141737, 0.9822667102187878, 0.9736522897172973, 0.11976397017487747, 0.4120692533135615, 0.13498820367168393, 0.044657751590632275, 0.2882454875395356, 0.20543986189047309, 0.6279482570991819, 0.003876223809254209, 0.003876223809254209, 0.031009790474033672, 0.03876223809254209, 0.09302937142210102, 0.14900871772019372, 0.41454989417028254, 0.1642916631273931, 0.2712722809777886, 0.025588169557800865, 0.20470535646240692, 0.350923468221269, 0.3143689402815535, 0.06031497110053061, 0.04386543352765863, 0.9876225870789692, 0.9977804733423853, 0.9905266305433577, 0.8379366849143461, 0.06878584726908811, 0.09379888263966561, 0.09029103090669598, 0.03439658320255085, 0.0042995729003188566, 0.8685137258644089, 0.9940975713192565, 0.22273418285646815, 0.7331666852358744, 0.04176265928558778, 0.9916859410387427, 0.004983346437380617, 0.9810236392164581, 0.2757949497566518, 0.7232581845659134, 0.05510561434737909, 0.1220195746263394, 0.01574446124210831, 0.5668006047158992, 0.08265842152106863, 0.1574446124210831, 0.1968568882674011, 0.011357128169273142, 0.17792834131861254, 0.5754278272431725, 0.03407138450781942, 0.9710929541852346, 0.1697047936742822, 0.6831705796631361, 0.1435963638782388, 0.16053930547466558, 0.8310269930453277, 0.0074363707504435765, 0.00929546343805447, 0.16360015650975868, 0.8198598752364042, 0.9195345367866036, 0.0707334259066618, 0.9841532171685771, 0.46873734002127254, 0.008081678276228837, 0.14223753766162753, 0.20527462821621248, 0.13092318807490716, 0.04364106269163572, 0.9920339123170718, 0.988585013671619, 0.9036869163479362, 0.09557406480733603, 0.0008533398643512146, 0.9930166747684752, 0.9809020454756625, 0.0008774864701153768, 0.996824630051068, 0.0017549729402307535, 0.08853588752021713, 0.9050335168733307, 0.99395444584782, 0.011278158003854732, 0.9811997463353617, 0.9195800202443344, 0.06811703853661737, 0.9759463186622893, 0.012199328983278617, 0.0033232147952260626, 0.25256432443718074, 0.638057240683404, 0.10301965865200795, 0.08034072444662449, 0.9105282103950776, 0.9828500659109358, 0.9922659441441246, 0.0329227590559824, 0.9465293228594941, 0.0164613795279912, 0.04393603979630549, 0.13971660655225146, 0.1801377631648525, 0.10720393710298538, 0.004393603979630549, 0.5237175943719614, 0.0497987130764375, 0.3887899526931506, 0.21299449568837725, 0.07319810837741415, 0.011999689897936747, 0.09779747266818448, 0.1655957205915271, 0.972809498492492, 0.9641871272569714, 0.018192209948244744, 0.9933384114618318, 0.19193098453789822, 0.10510506296122998, 0.002284892673070217, 0.12795398969193217, 0.27418712076842605, 0.157657594441845, 0.13709356038421303, 0.0833513061410151, 0.8378999722596782, 0.004386910849527111, 0.07457748444196088, 0.013104123624157984, 0.9828092718118487, 0.9797596215885206, 0.8645504917461285, 0.12680073878943218, 0.9923305096914806, 0.9933063083561564, 0.071881724647458, 0.24987456663163968, 0.4826344369186465, 0.14718638856384256, 0.027383514151412568, 0.023960574882485996, 0.969009831943471, 0.011666359059130426, 0.9799741609669558, 0.9939319919457332, 0.9867351256011485, 0.9890608762789745, 0.9965150531399325, 0.9965228288099245, 0.005503649253315797, 0.09906568655968435, 0.7760145447175274, 0.12108028357294755, 0.05831646269523449, 0.1696478914770458, 0.05831646269523449, 0.05831646269523449, 0.6520840828648947, 0.18739858047383556, 0.04409378364090249, 0.6467088267332365, 0.04409378364090249, 0.07716412137157935, 0.001402339676354354, 0.1283140803864234, 0.16337257229528224, 0.7067791968825945, 0.08015390801754396, 0.9194124743188867, 0.08009270702301592, 0.27918029305165554, 0.4256355287508846, 0.11441815289002276, 0.10068797454322002, 0.9705610130485148, 0.11871277148176868, 0.07062658556510287, 0.21338245000520445, 0.06461581232551966, 0.00751346654947903, 0.4087325802916592, 0.11721007817187286, 0.01469389440663145, 0.9771439780409914, 0.0036734736016578624, 0.024023646331094745, 0.9729576764093372, 0.07043282817859212, 0.016903878762862107, 0.6677032111330533, 0.17467341388290844, 0.06479820192430474, 0.0028173131271436846, 0.2134720637146649, 0.08263434724438641, 0.020658586811096603, 0.681733364766188, 0.09737149978597275, 0.8902537123288937, 0.9821665285919751, 0.9856172555554242, 0.9878447724296721, 0.03698987787862932, 0.058748629571940686, 0.9029881952724217, 0.0017747676161834162, 0.21652164917437677, 0.11003559220337181, 0.005324302848550249, 0.5963219190376279, 0.07099070464733664, 0.9660739557173805, 0.9909058431502565, 0.97651513387935, 0.9950494929760184, 0.981451190560069, 0.6689456778033128, 0.07399841568620717, 0.25455454996055266, 0.9967207260018249, 0.9977007477519432, 0.22703539338137776, 0.015281228400669656, 0.6592758538574623, 0.09823646829001922, 0.9927786442330436, 0.9969592859844466, 0.010014773408572307, 0.9814477940400861, 0.12492834351971932, 0.16891719687173315, 0.18123407581029705, 0.05630573229057772, 0.1407643307264443, 0.10381369391075267, 0.22346337502823033, 0.05079390211366061, 0.12980663873491047, 0.1354504056364283, 0.6377456598715165, 0.04515013521214277, 0.7636670314837825, 0.07486931681213553, 0.1123039752182033, 0.0486650559278881, 0.9835009728537547, 0.9900505773505426, 0.051759438554692366, 0.23139513706803647, 0.045670092842375616, 0.1339656056709685, 0.051759438554692366, 0.48410298412918157, 0.14540024553044928, 0.8542264424913895, 0.9939037879869483, 0.1804467978910276, 0.3870453056213346, 0.0863006424696219, 0.022228953363387458, 0.20267575125441506, 0.12029786526068507, 0.9962081381884255, 0.006959809314956135, 0.031319141917302604, 0.024359332602346472, 0.257512944653377, 0.5463450312240565, 0.13223637698416657, 0.002307793372195311, 0.039232487327320285, 0.01615455360536718, 0.89080824166739, 0.053079247560492156, 0.9955867330467778, 0.021080653373214412, 0.4005324140910739, 0.121619154076237, 0.13459186384436894, 0.1945906465219792, 0.12648392023928648, 0.0016215887210164932, 0.012673105172553588, 0.2971139101565341, 0.07744675383227193, 0.44215055824242516, 0.16897473563404783, 0.057636994010588215, 0.0038424662673725474, 0.9375617692389016, 0.9922050410142623, 0.9822005572991371, 0.992996655341108, 0.9938018123250674, 0.9820354425938356, 0.044062331315078834, 0.07710907980138797, 0.870231043472807, 0.24522642135311362, 0.6391967376253289, 0.11256294750634724, 0.9966307044760395, 0.035987496784068915, 0.002249218549004307, 0.5600554187020725, 0.1259562387442412, 0.026990622588051686, 0.2496632589394781, 0.9841273407251181, 0.9789532882886433, 0.9855877671543958, 0.9729738429240569, 0.942555144553859, 0.058182416330485126, 0.9982019179450088, 0.989243008952495, 0.9972676376900731, 0.9851496071800452, 0.28803108169302555, 0.7117289772269689, 0.7120880089049497, 0.2872088302583297, 0.05014952523704874, 0.20354807302096253, 0.18879821265712468, 0.5545947496803038, 0.7786525074711789, 0.11887824541544714, 0.10104650860313008, 0.9959396396999093, 0.9681878911310787, 0.9780999473483741, 0.500465951845332, 0.07149513597790458, 0.21183743993453208, 0.1244544959615376, 0.05295935998363302, 0.03707155198854312, 0.6519325279402453, 0.34565550139113677, 0.9677704731933479, 0.029326377975555994, 0.01310287410717107, 0.9696126839306591, 0.02620574821434214, 0.9925522872950435, 0.9797740361501829, 0.9944681252512569, 0.9981398824928011, 0.0018797361252218476, 0.012880989785579652, 0.9789552237040535, 0.03761262318119747, 0.7544649708699023, 0.09071279708406449, 0.006637521737858377, 0.10841285505168682, 0.9882754956509876, 0.9931460187888476, 0.9842248357873449, 0.002506010576695787, 0.2806731845899281, 0.7142130143582993, 0.9623623959710945, 0.017414830115235102, 0.9316934111650779, 0.04353707528808775, 0.3973090227197343, 0.5362056729388284, 0.041992010531354027, 0.022611082593806016, 0.042133845214740104, 0.9522249018531264, 0.9907109230653346, 0.23152505222635533, 0.17498986505480346, 0.04307442832118239, 0.18037416859495126, 0.3715169442701981, 0.9777993640079063, 0.995140973507075, 0.8621337699556458, 0.13470840155556965, 0.999877470384291, 0.9955404055661728, 0.9961684695064655, 0.07264687146294009, 0.1785037413089385, 0.4628643524638754, 0.11000811964388071, 0.17642811640999737, 0.977898775497349, 0.998414714996103, 0.07789888719121094, 0.9135414952423827, 0.10365704677788604, 0.25277771056361686, 0.06910469785192402, 0.47282161688158547, 0.052737795729099916, 0.04910070636847234, 0.9933876160940671, 0.9960699984109863, 0.002790112040366908, 0.9893499275600547, 0.9922362456244962, 0.9747779649579981, 0.9896420173401074, 0.9793971658417787, 0.986571219031872, 0.8691646360957271, 0.12416637658510388, 0.9980016208880393, 0.005713976735811797, 0.07428169756555336, 0.11427953471623593, 0.788528789542028, 0.01714193020743539, 0.9982164398871268, 0.01161659708662224, 0.9874107523628903, 0.9873792733189504, 0.12227407288305606, 0.27746808846539645, 0.07524558331264988, 0.5173133852744679, 0.9817223461715067, 0.9909296404548401, 0.12437905580044695, 0.21409509604994967, 0.02242901006237568, 0.17535407866948258, 0.3201231436175438, 0.08971604024950272, 0.05097502286903564, 0.0023291884872338677, 0.9945634840488615, 0.005539783191262099, 0.22159132765048398, 0.3988643897708712, 0.19019922289999874, 0.007386377588349466, 0.1754264677232998, 0.07969719998546237, 0.6743609229539124, 0.24522215380142268, 0.007700026821780956, 0.09625033527226196, 0.2079007241880858, 0.6814523737276146, 0.003850013410890478, 0.9687710635803326, 0.9887354094271023, 0.06999912212935631, 0.9264589693591277, 0.5713592102809499, 0.20165619186386466, 0.19390018448448526, 0.00517067158625294, 0.028438693724391173, 0.005800079599942834, 0.9918136115902245, 0.006943780261684001, 0.07638158287852401, 0.9165789945422881, 0.9807958098560087, 0.978179100650411, 0.9945596673828675, 0.8537097192434983, 0.1422849532072497, 0.0022584913207499956, 0.9907080560656241, 0.9728011158975779, 0.991151005245833, 0.9926759769441282, 0.9780997909295994, 0.875799705161722, 0.1226690140780262, 0.9848954703534736, 0.9226495120952105, 0.07688745934126753, 0.7435598130962885, 0.2519500193136184, 0.9985503449140469, 0.3250796896111766, 0.6727343576675738, 0.9953879708824543, 0.9779399622591524, 0.9906677503468438, 0.9901399988837053, 0.9970853404309427, 0.9958686409305735, 0.9824824549870695, 0.9977207567186646, 0.9983257651487049, 0.010561271251320472, 0.014081695001760628, 0.9751573788719236, 0.9924988147424858, 0.9659636076543878, 0.017888214956562738, 0.9757707177260568, 0.9877065183269921, 0.9968625549787241, 0.13162533793989586, 0.07129705805077692, 0.11791436523782338, 0.51827476813834, 0.09049241983367841, 0.032906334484973966, 0.03839072356580296, 0.11344677469500332, 0.884884842621026, 0.9815276289380667, 0.5322240065010845, 0.17954544797626948, 0.22122564125647487, 0.06412337427723909, 0.209302900582972, 0.01947003726353228, 0.2531104844259196, 0.10708520494942753, 0.41130453719211935, 0.9940471668099818, 0.995049464806686, 0.9887388104177661, 0.01539608574600491, 0.011974733358003819, 0.9699534019983093, 0.0787503853672714, 0.2043760001198234, 0.3993769543625907, 0.12187559640172956, 0.1968759634181785, 0.7483024807858879, 0.09858222204498215, 0.003459025334911654, 0.14182003873137783, 0.007494554892308584, 0.02818579091454603, 0.03523223864318254, 0.9371775479086555, 0.9940444030600697, 0.09544356664557709, 0.795363055379809, 0.10339719719937518, 0.9749426482860946, 0.7431814353565002, 0.25486064929764796, 0.9951329031488013, 0.8933189440344397, 0.10049838120387447, 0.9943566476271136, 0.9922624994187369, 0.9865898779648345, 0.015715349093634482, 0.2514455854981517, 0.7307637328540035, 0.1364651405481718, 0.8592249590070076, 0.9957235887917918, 0.9656788521871461, 0.0759302648263345, 0.048812313102643605, 0.8731980455028466, 0.9749425214619638, 0.9979062149266588, 0.9980583280196149, 0.0014506661744471147, 0.9965091048632361, 0.8312625215388251, 0.03579599375047572, 0.13125197708507763, 0.0011363807539833562, 0.9810266262832591, 0.007213431075612199, 0.007213431075612199, 0.0712864184642891, 0.9053375144964715, 0.014257283692857819, 0.9955008991738497, 0.9974394477002728, 0.0935491447232716, 0.09847278391923327, 0.03446547437173164, 0.03446547437173164, 0.7434695185902112, 0.7344106044735625, 0.07130200043432645, 0.007130200043432646, 0.18538520112924878, 0.9756507610643097, 0.15192803475524572, 0.6560528773521974, 0.19138986196440044, 0.1954902585550157, 0.796441794113027, 0.08800233125258747, 0.2464065275072449, 0.0762686870855758, 0.586682208350583, 0.026315684413648403, 0.9649084285004415, 0.28504585077039074, 0.07415827011912605, 0.09733272953135294, 0.13904675647336134, 0.09501528359013026, 0.006952337823668067, 0.3012679723589496, 0.9987474593029254, 0.9883590195123569, 0.9899199628645958, 0.10020040989662854, 0.053678791016051004, 0.11809334023531222, 0.18608647552231017, 0.5403664962282468, 0.01615649482160754, 0.04039123705401885, 0.09693896892964524, 0.840137730723592, 0.0060142574742038275, 0.9021386211305741, 0.0902138621130574, 0.995242133939293, 0.9114204563706702, 0.08680194822577811, 0.1157601626978899, 0.4914729714541992, 0.38992896908762914, 0.9781381267889899, 0.9804096042686398, 0.9807323618167122, 0.9933876160940671, 0.9758593264415484, 0.04201371079693467, 0.0035011425664112222, 0.7072307984150669, 0.07352399389463567, 0.1750571283205611, 0.03832102123127368, 0.3010937382457218, 0.4872244127976225, 0.16423294813403005, 0.008211647406701503, 0.997700747751943, 0.00825709014681861, 0.10734217190864191, 0.8835086457095911, 0.023393823314848673, 0.05347159614822553, 0.11696911657424336, 0.5079801634081426, 0.17378268748173298, 0.11362714181497927, 0.013367899037056383, 0.11890547247949092, 0.4151261232178718, 0.13350789892434067, 0.07301213222424881, 0.1439382035278048, 0.11681941155879809, 0.9883811102910061, 0.9965162939318754, 0.3159101419488414, 0.6789710513527338, 0.9325938148488121, 0.057567519435111854, 0.19521782783207872, 0.672878470399931, 0.1287606949530732, 0.021313111043100397, 0.71517328166848, 0.11130180211396874, 0.044994345535434174, 0.10656555521550198, 0.29758306102622845, 0.6981756431769206, 0.9857296825786875, 0.8481308728687148, 0.1493188156459005, 0.9882893443711276, 0.08898984807516556, 0.9017637938283444, 0.12714629321318346, 0.8679116536726001, 0.9849227647593659, 0.9965144293102555, 0.9764254901117635, 0.9741368182574776, 0.9172323862051494, 0.07773155815297876, 0.9931850019190093, 0.2166573201768126, 0.07666335944717984, 0.6266396337421657, 0.07999654898836157, 0.21237010943386203, 0.06400195078828719, 0.7127489974150164, 0.010182128534500234, 0.9765099377867152, 0.9855787489684991, 0.9958846352515651, 0.2788397704476296, 0.4195874641021474, 0.02921178547546596, 0.12481399248608183, 0.1434033105159238, 0.0026556168614059964, 0.05936102820963686, 0.8325764725813171, 0.10654543524806616, 0.9951861510596928, 0.9925573414280046, 0.006549068469465625, 0.8841242433778593, 0.10478509551145, 0.004579255982673656, 0.002289627991336828, 0.31596866280448227, 0.6502543495396592, 0.027475535896041937, 0.9999247910040713, 0.9961499876751492, 0.99353585024221, 0.9988130459054853, 0.9955126867646082, 0.9912182761219518, 0.9923306168226864, 0.9931882298769285, 0.12650407924177867, 0.17527673629884996, 0.18061124566446712, 0.516685335698349, 0.1980575049775773, 0.20988183363295504, 0.047297314621510995, 0.0748874148173924, 0.469031703329984, 0.9856172527886826, 0.979729720522027, 0.0738222162651829, 0.024607405421727634, 0.8940690636561041, 0.992675960515595, 0.15105464981853817, 0.18029103365438426, 0.009745461278615366, 0.024363653196538416, 0.6285822524706911, 0.9923292338655797, 0.9748952639618503, 0.24896535694222174, 0.02648567627044912, 0.7204103945562161, 0.9864384465386501, 0.9837393454031804, 0.8966719932567753, 0.0829520346184682, 0.019750484432968618, 0.9867499356944274, 0.08877815358401923, 0.02421222370473252, 0.8151448647259948, 0.06456592987928672, 0.9972188731841614, 0.007653497001103962, 0.06582007420949408, 0.0015306994002207924, 0.44237212666380904, 0.4821703110695496, 0.978737375409941, 0.9988360243889546, 0.9844245010209041, 0.007238415448683118, 0.9867584986675229, 0.8855614682143341, 0.017830096675456392, 0.08915048337728196, 0.14076884765750206, 0.10323048828216817, 0.03753835937533388, 0.2690249088565595, 0.38789638021178346, 0.06256393229222314, 0.9251479436503873, 0.010553018368635597, 0.007035345579090398, 0.05980043742226838, 0.8301617833327795, 0.004912199901377394, 0.162102596745454, 0.9872766763606355, 0.9873342922010128, 0.9944378392823862, 0.9629811066248588, 0.03605876390445507, 0.002121103759085592, 0.9939050893584203, 0.9690087136514816, 0.9376051457766446, 0.035381326255722434, 0.02358755083714829, 0.9888936506624801, 0.0047275552162845645, 0.770591500254384, 0.22219509516537453, 0.9916147503401055, 0.9933144257421115, 0.9787373706275585, 0.9930083166774042, 0.9950494808880197], \"Term\": [\"11km\", \"49\", \"abe\", \"afd\", \"afd\", \"afd\", \"afd\", \"afrika\", \"afrika\", \"afrika\", \"aiwanger\", \"aiwanger\", \"aktion\", \"aktion\", \"akw\", \"akw\", \"akw\", \"ampel\", \"ampel\", \"ampel\", \"analyse\", \"analyse\", \"analyse\", \"angriff\", \"angriff\", \"angriffskrieg\", \"anklage\", \"anklage\", \"anklage\", \"anleger\", \"armee\", \"aufkl\\u00e4rung\", \"auge\", \"auto\", \"auto\", \"auto\", \"bachmut\", \"baerbock\", \"baerbock\", \"baerbock\", \"baerbock\", \"baerbock\", \"baerbock\", \"baerbock\", \"bahn\", \"bahn\", \"bahn\", \"ballon\", \"ballon\", \"baum\", \"bayern\", \"bayern\", \"bayern\", \"beantragen\", \"beitrag\", \"beitrag\", \"belgien\", \"berlin\", \"berlin\", \"berlin\", \"berlin\", \"berlin\", \"besuch\", \"besuch\", \"besuch\", \"besuch\", \"besuch\", \"besuch\", \"besuch\", \"biden\", \"biden\", \"biden\", \"biden\", \"bleiben\", \"bleiben\", \"bleiben\", \"bleiben\", \"bleiben\", \"bleiben\", \"bolsonaro\", \"boris\", \"brand\", \"brasilien\", \"brasilien\", \"brasilien\", \"brauchen\", \"brauchen\", \"brauchen\", \"brauchen\", \"brexit\", \"britisch\", \"britisch\", \"britisch\", \"bund\", \"bund\", \"bundeskanzler\", \"bundesliga\", \"bundesliga\", \"bundesregierung\", \"bundesregierung\", \"bundesregierung\", \"bundesregierung\", \"bundesregierung\", \"bundesregierung\", \"bundestag\", \"bundestag\", \"bundestag\", \"bundestag\", \"bundestag\", \"bundesverfassungsgericht\", \"bundeswehr\", \"bundeswehr\", \"bundeswehr\", \"bvb\", \"bvb\", \"cdu\", \"cdu\", \"cdu\", \"cdu\", \"charles\", \"charles\", \"chatgpt\", \"chef\", \"chef\", \"chef\", \"chef\", \"chef\", \"chef\", \"chefin\", \"cherson\", \"china\", \"china\", \"china\", \"christian\", \"co2\", \"corona\", \"corona\", \"corona\", \"csu\", \"csu\", \"cum\", \"dax\", \"dax\", \"ddr\", \"ddr\", \"de\", \"de\", \"debatte\", \"debatte\", \"debatte\", \"debatte\", \"demo\", \"demo\", \"demokrat\", \"demonstration\", \"denken\", \"denken\", \"denken\", \"deutsch\", \"deutsch\", \"deutsch\", \"deutsch\", \"deutsch\", \"deutsch\", \"deutschland\", \"deutschland\", \"deutschland\", \"deutschland\", \"deutschland\", \"deutschland\", \"deutschland\", \"di\", \"diktator\", \"diktator\", \"donald\", \"drohen\", \"drohen\", \"drohen\", \"drohen\", \"drohen\", \"drohen\", \"drohen\", \"druck\", \"druck\", \"druck\", \"druck\", \"economist\", \"economist\", \"ecuador\", \"ehemalig\", \"ehemalig\", \"elmau\", \"em\", \"energie\", \"energie\", \"energie\", \"energie\", \"energie\", \"energie\", \"energiesparen\", \"energiewende\", \"energiewende\", \"entlastung\", \"entlastungspaket\", \"entl\\u00e4ssen\", \"entwicklung\", \"erdbeben\", \"erdogan\", \"erdogan\", \"erdogan\", \"erdogan\", \"ermittlung\", \"ermittlung\", \"ermittlung\", \"ermittlung\", \"ermittlung\", \"erwarten\", \"erwarten\", \"erwarten\", \"erwarten\", \"erwarten\", \"eu\", \"eu\", \"eu\", \"eu\", \"euro\", \"euro\", \"europa\", \"europa\", \"europa\", \"europa\", \"europa\", \"evg\", \"ex\", \"ex\", \"ex\", \"ex\", \"ex\", \"ex\", \"ex\", \"faeser\", \"faeser\", \"faeser\", \"fc\", \"fc\", \"fdp\", \"fdp\", \"fdp\", \"fdp\", \"fdp\", \"fdp\", \"fehlen\", \"fehlen\", \"fehlen\", \"fehlen\", \"feuern\", \"feuern\", \"fifa\", \"flugblatt\", \"fragen\", \"frankreich\", \"frankreich\", \"frankreich\", \"frau\", \"frau\", \"frau\", \"frau\", \"frau\", \"frau\", \"fraue\", \"freiburg\", \"friedrich\", \"front\", \"fukushima\", \"fu\\u00dfball\", \"fu\\u00dfball\", \"fu\\u00dfball\", \"g7\", \"gabor\", \"gas\", \"gas\", \"gas\", \"gas\", \"gasspeicher\", \"gastbeitrag\", \"gasumlage\", \"gasumlage\", \"geben\", \"geben\", \"geben\", \"geben\", \"geben\", \"geben\", \"geben\", \"gefahr\", \"gefahr\", \"gefahr\", \"gefahr\", \"gefahr\", \"generation\", \"generation\", \"generation\", \"generation\", \"georgien\", \"gesellschaft\", \"gewinnen\", \"gewinnen\", \"gewinnen\", \"gewinnen\", \"gewinnen\", \"gewinnen\", \"gipfel\", \"gipfel\", \"gladbach\", \"gro\\u00df\", \"gro\\u00df\", \"gro\\u00df\", \"gro\\u00df\", \"gro\\u00df\", \"gro\\u00df\", \"gro\\u00dfbritannien\", \"gr\\u00fcn\", \"gr\\u00fcn\", \"gr\\u00fcn\", \"gr\\u00fcn\", \"gr\\u00fcn\", \"gr\\u00fcn\", \"gr\\u00fcne\", \"gr\\u00fcne\", \"gr\\u00fcne\", \"gr\\u00fcne\", \"gr\\u00fcne\", \"gr\\u00fcnen\", \"gut\", \"gut\", \"gut\", \"gut\", \"gut\", \"gut\", \"gut\", \"habeck\", \"habeck\", \"habeck\", \"habeck\", \"habeck\", \"haft\", \"haft\", \"haft\", \"hammer\", \"handball\", \"haushalt\", \"heizungsgesetz\", \"hei\\u00df\", \"hertha\", \"hertha\", \"hertha\", \"hilfe\", \"hilfe\", \"hilfe\", \"hitze\", \"hoch\", \"hoch\", \"hoch\", \"hoch\", \"hoch\", \"hoch\", \"hoffenheim\", \"holstein\", \"hugo\", \"iii\", \"impfung\", \"impfung\", \"inflation\", \"intelligenz\", \"invasion\", \"inzidenz\", \"iran\", \"iran\", \"israel\", \"israel\", \"italien\", \"italien\", \"italien\", \"italien\", \"japan\", \"japan\", \"japan\", \"johnson\", \"jong\", \"j\\u00e4ger\", \"kampf\", \"kampf\", \"kampf\", \"kampf\", \"kampf\", \"kampf\", \"kanzler\", \"kanzler\", \"katar\", \"katar\", \"katastrophe\", \"katastrophe\", \"katastrophe\", \"katholisch\", \"kennen\", \"ki\", \"kiew\", \"kiew\", \"kim\", \"kim\", \"kind\", \"kind\", \"kind\", \"kind\", \"kind\", \"kindergrundsicherung\", \"kirche\", \"kleber\", \"klima\", \"klima\", \"klima\", \"klimakleber\", \"klinik\", \"klinik\", \"klinik\", \"kommentar\", \"kommentar\", \"kommentar\", \"kommentar\", \"kommission\", \"kommission\", \"kommune\", \"konflikt\", \"konflikt\", \"konflikt\", \"konflikt\", \"konflikt\", \"kongress\", \"kosovo\", \"kreml\", \"kreml\", \"krieg\", \"kriegsverlauf\", \"krim\", \"kritik\", \"kritik\", \"kritik\", \"kritik\", \"kritik\", \"k\\u00fcnstliche\", \"lage\", \"lambrecht\", \"lambrecht\", \"land\", \"land\", \"land\", \"land\", \"land\", \"land\", \"lanka\", \"lauterbach\", \"lauterbach\", \"leichtathletik\", \"leipzig\", \"leitzins\", \"leopard\", \"letzten\", \"leverkusen\", \"liefern\", \"liefern\", \"lindner\", \"linke\", \"linke\", \"linke\", \"linke\", \"linke\", \"liveblog\", \"lng\", \"lng\", \"lukaschenko\", \"macron\", \"macron\", \"macron\", \"macron\", \"mai\", \"mainz\", \"mann\", \"mann\", \"mann\", \"mann\", \"mann\", \"mann\", \"mann\", \"marktbericht\", \"marktbericht\", \"mensch\", \"mensch\", \"mensch\", \"mensch\", \"mensch\", \"mensch\", \"merkel\", \"merkel\", \"merkel\", \"merz\", \"merz\", \"merz\", \"merz\", \"merz\", \"messi\", \"milit\\u00e4rman\\u00f6ver\", \"milliarde\", \"milliarde\", \"million\", \"million\", \"million\", \"million\", \"million\", \"mindestens\", \"mindestens\", \"minister\", \"minister\", \"minister\", \"missbrauch\", \"mittelmeer\", \"morgen\", \"moskau\", \"moskau\", \"moskau\", \"musk\", \"mut\", \"m\\u00fcller\", \"nachfolge\", \"nachhaltig\", \"nachricht\", \"nachricht\", \"nahost\", \"nato\", \"nato\", \"new\", \"new\", \"news\", \"nord\", \"nord\", \"nordkorea\", \"norwegen\", \"notfallplan\", \"notstand\", \"offensive\", \"olaf\", \"pal\\u00e4stinenser\", \"pandemie\", \"panzer\", \"partei\", \"partei\", \"partei\", \"partnerportal\", \"pelosi\", \"pelosi\", \"pentagon\", \"peru\", \"pistorius\", \"plan\", \"plan\", \"plan\", \"plan\", \"plan\", \"plan\", \"plan\", \"podcast\", \"podcast\", \"pokal\", \"politik\", \"politik\", \"politik\", \"politik\", \"polizei\", \"polizei\", \"polizei\", \"polizei\", \"polizei\", \"preis\", \"prigoschin\", \"prinz\", \"protest\", \"protest\", \"protest\", \"pr\\u00e4sident\", \"pr\\u00e4sident\", \"pr\\u00e4sident\", \"pr\\u00e4sident\", \"pr\\u00e4sident\", \"putin\", \"putin\", \"putin\", \"putin\", \"putin\", \"queen\", \"queen\", \"queen\", \"rbb\", \"reaktion\", \"reaktion\", \"reaktion\", \"rechtlich\", \"regierung\", \"regierung\", \"reichsb\\u00fcrger\", \"reise\", \"reise\", \"reitz\", \"rentenreform\", \"repr\\u00e4sentantenhaus\", \"republikaner\", \"republikaner\", \"republikaner\", \"retten\", \"retten\", \"rki\", \"rtl\", \"rufen\", \"rufen\", \"rufen\", \"rushdie\", \"russe\", \"russisch\", \"russisch\", \"russischer\", \"russland\", \"russland\", \"russland\", \"russland\", \"russlands\", \"russlands\", \"russlands\", \"r\\u00fccktritt\", \"r\\u00fccktritt\", \"r\\u00fccktritt\", \"sanktion\", \"saporischschja\", \"schlagen\", \"schlagen\", \"schlagen\", \"schlagen\", \"schlagen\", \"schlecht\", \"schlecht\", \"schlecht\", \"schlecht\", \"schleswig\", \"scholz\", \"scholz\", \"scholz\", \"schr\\u00f6der\", \"schr\\u00f6der\", \"schule\", \"schule\", \"schule\", \"schule\", \"schu\\u00df\", \"schu\\u00df\", \"sehen\", \"sehen\", \"sehen\", \"sehen\", \"sehen\", \"sehen\", \"sehen\", \"selenskyj\", \"senat\", \"serbien\", \"sieg\", \"sieg\", \"sieg\", \"sieg\", \"sieg\", \"siegen\", \"siegen\", \"siegen\", \"siegen\", \"sinken\", \"sinken\", \"sinken\", \"soldat\", \"sparen\", \"sparen\", \"spd\", \"spd\", \"spd\", \"spieltag\", \"spionage\", \"sprache\", \"sri\", \"staatssekret\\u00e4r\", \"stark\", \"stark\", \"stark\", \"stark\", \"stark\", \"steigen\", \"steigen\", \"steigen\", \"steigen\", \"steigen\", \"steingart\", \"steinmeier\", \"steinmeier\", \"steinmeier\", \"stellen\", \"stellen\", \"stellen\", \"stellen\", \"stellen\", \"stellen\", \"stellen\", \"sterben\", \"sterben\", \"sterben\", \"sterben\", \"sterben\", \"sterben\", \"stiftung\", \"stimme\", \"stream\", \"stream\", \"street\", \"street\", \"streik\", \"streik\", \"streik\", \"streit\", \"streit\", \"streit\", \"streit\", \"streit\", \"studie\", \"studie\", \"stuttgart\", \"sudan\", \"sudan\", \"sunak\", \"syrien\", \"syrien\", \"s\\u00f6der\", \"s\\u00f6der\", \"s\\u00fcdkorea\", \"taiwan\", \"teilmobilmachung\", \"terminal\", \"thomas\", \"thomas\", \"ticket\", \"tod\", \"tod\", \"tod\", \"tod\", \"tote\", \"tote\", \"tote\", \"tote\", \"toter\", \"tour\", \"trainer\", \"treffen\", \"treffen\", \"treffen\", \"treffen\", \"treffen\", \"treffen\", \"trump\", \"trump\", \"trump\", \"truppe\", \"truss\", \"twitter\", \"twitter\", \"twitter\", \"t\\u00fcrkei\", \"t\\u00fcrkei\", \"t\\u00fcrkei\", \"t\\u00fcrkei\", \"t\\u00fcrkei\", \"ukraine\", \"ukrainekrieg\", \"ukrainer\", \"ukrainisch\", \"ulrich\", \"ungarn\", \"uni\", \"updat\", \"us\", \"us\", \"us\", \"us\", \"usa\", \"usa\", \"usa\", \"usa\", \"usa\", \"venedig\", \"verabschieden\", \"verbot\", \"verbot\", \"verbot\", \"verbrenner\", \"verletzen\", \"verletzen\", \"verletzen\", \"verletzen\", \"verletzen\", \"versteher\", \"vertrauen\", \"verurteilen\", \"verurteilen\", \"verurteilen\", \"viertelfinal\", \"vogg\", \"waffe\", \"waffe\", \"waffe\", \"waffenruhe\", \"wagenknecht\", \"wagenknecht\", \"wagenknecht\", \"wagenknecht\", \"wagner\", \"wahl\", \"wahl\", \"wahl\", \"wahl\", \"wahl\", \"wahlwiederholung\", \"wahrheit\", \"waldbrand\", \"waldbrand\", \"wall\", \"warnstreik\", \"warnstreik\", \"warnstreik\", \"weg\", \"weg\", \"weg\", \"weg\", \"weg\", \"weg\", \"welt\", \"welt\", \"welt\", \"welt\", \"westen\", \"westen\", \"westen\", \"westjordanland\", \"wetter\", \"wissing\", \"wm\", \"wm\", \"wm\", \"wolfsburg\", \"w\\u00fcten\", \"xi\", \"xi\", \"xi\", \"york\", \"zahl\", \"zahl\", \"zahl\", \"zahlen\", \"zehntausend\", \"zverev\", \"\\u00f6pnv\", \"\\u00fcberblick\"]}, \"R\": 30, \"lambda.step\": 0.01, \"plot.opts\": {\"xlab\": \"PC1\", \"ylab\": \"PC2\"}, \"topic.order\": [1, 3, 6, 2, 5, 4, 7]};\n",
       "\n",
       "function LDAvis_load_lib(url, callback){\n",
       "  var s = document.createElement('script');\n",
       "  s.src = url;\n",
       "  s.async = true;\n",
       "  s.onreadystatechange = s.onload = callback;\n",
       "  s.onerror = function(){console.warn(\"failed to load library \" + url);};\n",
       "  document.getElementsByTagName(\"head\")[0].appendChild(s);\n",
       "}\n",
       "\n",
       "if(typeof(LDAvis) !== \"undefined\"){\n",
       "   // already loaded: just create the visualization\n",
       "   !function(LDAvis){\n",
       "       new LDAvis(\"#\" + \"ldavis_el1419625860414553767431286394\", ldavis_el1419625860414553767431286394_data);\n",
       "   }(LDAvis);\n",
       "}else if(typeof define === \"function\" && define.amd){\n",
       "   // require.js is available: use it to load d3/LDAvis\n",
       "   require.config({paths: {d3: \"https://d3js.org/d3.v5\"}});\n",
       "   require([\"d3\"], function(d3){\n",
       "      window.d3 = d3;\n",
       "      LDAvis_load_lib(\"https://cdn.jsdelivr.net/gh/bmabey/pyLDAvis@3.4.0/pyLDAvis/js/ldavis.v3.0.0.js\", function(){\n",
       "        new LDAvis(\"#\" + \"ldavis_el1419625860414553767431286394\", ldavis_el1419625860414553767431286394_data);\n",
       "      });\n",
       "    });\n",
       "}else{\n",
       "    // require.js not available: dynamically load d3 & LDAvis\n",
       "    LDAvis_load_lib(\"https://d3js.org/d3.v5.js\", function(){\n",
       "         LDAvis_load_lib(\"https://cdn.jsdelivr.net/gh/bmabey/pyLDAvis@3.4.0/pyLDAvis/js/ldavis.v3.0.0.js\", function(){\n",
       "                 new LDAvis(\"#\" + \"ldavis_el1419625860414553767431286394\", ldavis_el1419625860414553767431286394_data);\n",
       "            })\n",
       "         });\n",
       "}\n",
       "</script>"
      ],
      "text/plain": [
       "PreparedData(topic_coordinates=               x          y  topics  cluster       Freq\n",
       "topic                                                  \n",
       "0      13.659904 -17.311047       1        1  17.310420\n",
       "2     -19.863859 -16.828156       2        1  14.593923\n",
       "5      -3.588743 -46.077969       3        1  14.189605\n",
       "1      -2.991294  -7.395037       4        1  14.116161\n",
       "4     -20.184076 -36.156700       5        1  13.414833\n",
       "3      13.293283 -36.642715       6        1  13.191746\n",
       "6      -3.280650 -26.731941       7        1  13.183313, topic_info=            Term         Freq        Total Category  logprob  loglift\n",
       "18325    ukraine  4529.000000  4529.000000  Default  30.0000  30.0000\n",
       "10150      krieg  2624.000000  2624.000000  Default  29.0000  29.0000\n",
       "15087   russisch  1378.000000  1378.000000  Default  28.0000  28.0000\n",
       "3583      corona  1139.000000  1139.000000  Default  27.0000  27.0000\n",
       "15091   russland  1759.000000  1759.000000  Default  26.0000  26.0000\n",
       "...          ...          ...          ...      ...      ...      ...\n",
       "14565  regierung   130.992178   514.006381   Topic7  -5.8128   0.6591\n",
       "8879      israel   120.704755   421.296239   Topic7  -5.8946   0.7762\n",
       "6604       geben   127.138272   568.325794   Topic7  -5.8427   0.5288\n",
       "8226        hoch   111.315791   444.598859   Topic7  -5.9756   0.6414\n",
       "1778    baerbock   111.325472   479.169871   Topic7  -5.9755   0.5666\n",
       "\n",
       "[445 rows x 6 columns], token_table=       Topic      Freq         Term\n",
       "term                               \n",
       "8          6  0.982482         11km\n",
       "63         5  0.971093           49\n",
       "138        2  0.981451          abe\n",
       "418        2  0.161821          afd\n",
       "418        4  0.106733          afd\n",
       "...      ...       ...          ...\n",
       "20777      2  0.991615       zahlen\n",
       "20815      7  0.993314  zehntausend\n",
       "21104      2  0.978737       zverev\n",
       "21259      4  0.993008         öpnv\n",
       "21275      1  0.995049    überblick\n",
       "\n",
       "[872 rows x 3 columns], R=30, lambda_step=0.01, plot_opts={'xlab': 'PC1', 'ylab': 'PC2'}, topic_order=[1, 3, 6, 2, 5, 4, 7])"
      ]
     },
     "execution_count": 31,
     "metadata": {},
     "output_type": "execute_result"
    }
   ],
   "source": [
    "pyLDAvis.enable_notebook()\n",
    "panel = pyLDAvis.lda_model.prepare(lda, dtm, cv, mds='tsne')\n",
    "panel"
   ]
  },
  {
   "cell_type": "markdown",
   "id": "3a4c2e1a",
   "metadata": {},
   "source": [
    "## Save train set with topics and dump model"
   ]
  },
  {
   "cell_type": "code",
   "execution_count": 32,
   "id": "78051ef9",
   "metadata": {},
   "outputs": [],
   "source": [
    "#Save result to csv\n",
    "train.to_csv('train_lda_topics_7.csv')"
   ]
  },
  {
   "cell_type": "code",
   "execution_count": 33,
   "id": "2c153876",
   "metadata": {},
   "outputs": [
    {
     "data": {
      "text/plain": [
       "['models/cv.jl']"
      ]
     },
     "execution_count": 33,
     "metadata": {},
     "output_type": "execute_result"
    }
   ],
   "source": [
    "# Dump countvectorizer\n",
    "joblib.dump(cv, 'models/cv.jl')"
   ]
  },
  {
   "cell_type": "code",
   "execution_count": 34,
   "id": "c06c71c2",
   "metadata": {},
   "outputs": [
    {
     "data": {
      "text/plain": [
       "['models/lda_model_7_topics.jl']"
      ]
     },
     "execution_count": 34,
     "metadata": {},
     "output_type": "execute_result"
    }
   ],
   "source": [
    "# Dump LDA model\n",
    "joblib.dump(lda, 'models/lda_model_7_topics.jl')"
   ]
  },
  {
   "cell_type": "code",
   "execution_count": null,
   "id": "25c09460",
   "metadata": {},
   "outputs": [],
   "source": []
  }
 ],
 "metadata": {
  "kernelspec": {
   "display_name": "nlp",
   "language": "python",
   "name": "nlp"
  },
  "language_info": {
   "codemirror_mode": {
    "name": "ipython",
    "version": 3
   },
   "file_extension": ".py",
   "mimetype": "text/x-python",
   "name": "python",
   "nbconvert_exporter": "python",
   "pygments_lexer": "ipython3",
   "version": "3.11.5"
  }
 },
 "nbformat": 4,
 "nbformat_minor": 5
}
