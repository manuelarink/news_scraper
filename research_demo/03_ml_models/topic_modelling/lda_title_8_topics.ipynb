{
 "cells": [
  {
   "cell_type": "markdown",
   "id": "d23815fa",
   "metadata": {},
   "source": [
    "# Topic modelling of news headlines for prediction of news category with 8 topics"
   ]
  },
  {
   "cell_type": "markdown",
   "id": "75523a79",
   "metadata": {},
   "source": [
    "Now we wan't to perform topic modelling with unsupervised learning and train a modell for prediction of news category labels without using the provided labels in the corpus.\n",
    "We use the LDA classifier and assume 8 topics. "
   ]
  },
  {
   "cell_type": "code",
   "execution_count": 1,
   "id": "a2821ff5",
   "metadata": {},
   "outputs": [],
   "source": [
    "import pandas as pd\n",
    "import numpy as np\n",
    "import matplotlib.pyplot as plt\n",
    "import seaborn as sns\n",
    "\n",
    "import joblib\n",
    "\n",
    "import wordcloud\n",
    "\n",
    "import pyLDAvis.lda_model"
   ]
  },
  {
   "cell_type": "markdown",
   "id": "6594f2c8",
   "metadata": {},
   "source": [
    "## Load train set"
   ]
  },
  {
   "cell_type": "code",
   "execution_count": 2,
   "id": "d737f3a4",
   "metadata": {},
   "outputs": [],
   "source": [
    "train = pd.read_csv('../../data/01_train_nosplit_preprocessed.csv')"
   ]
  },
  {
   "cell_type": "code",
   "execution_count": 3,
   "id": "72fc6b38",
   "metadata": {},
   "outputs": [
    {
     "data": {
      "text/html": [
       "<div>\n",
       "<style scoped>\n",
       "    .dataframe tbody tr th:only-of-type {\n",
       "        vertical-align: middle;\n",
       "    }\n",
       "\n",
       "    .dataframe tbody tr th {\n",
       "        vertical-align: top;\n",
       "    }\n",
       "\n",
       "    .dataframe thead th {\n",
       "        text-align: right;\n",
       "    }\n",
       "</style>\n",
       "<table border=\"1\" class=\"dataframe\">\n",
       "  <thead>\n",
       "    <tr style=\"text-align: right;\">\n",
       "      <th></th>\n",
       "      <th>date</th>\n",
       "      <th>title</th>\n",
       "      <th>description</th>\n",
       "      <th>category</th>\n",
       "      <th>text</th>\n",
       "      <th>source</th>\n",
       "      <th>title_description_text</th>\n",
       "      <th>title_cleaned</th>\n",
       "      <th>title_description_text_cleaned</th>\n",
       "    </tr>\n",
       "  </thead>\n",
       "  <tbody>\n",
       "    <tr>\n",
       "      <th>0</th>\n",
       "      <td>2022-06-01 00:13:42</td>\n",
       "      <td>Preise: Grüne halten Senkung der Spritsteuer f...</td>\n",
       "      <td>Heute tritt die Steuersenkung auf Kraftstoffe ...</td>\n",
       "      <td>Other</td>\n",
       "      <td>NaN</td>\n",
       "      <td>stern</td>\n",
       "      <td>Preise: Grüne halten Senkung der Spritsteuer f...</td>\n",
       "      <td>Preis grüne halten Senkung Spritsteuer falsch ...</td>\n",
       "      <td>Preis grüne halten Senkung Spritsteuer falsch ...</td>\n",
       "    </tr>\n",
       "    <tr>\n",
       "      <th>1</th>\n",
       "      <td>2022-06-01 01:55:03</td>\n",
       "      <td>Biden warnt Putin: USA liefern moderne Raketen...</td>\n",
       "      <td>Die USA rüsten die Ukraine mit fortschrittlich...</td>\n",
       "      <td>Other</td>\n",
       "      <td>NaN</td>\n",
       "      <td>stern</td>\n",
       "      <td>Biden warnt Putin: USA liefern moderne Raketen...</td>\n",
       "      <td>Biden warnen Putin USA liefern modern Raketens...</td>\n",
       "      <td>Biden warnen Putin USA liefern modern Raketens...</td>\n",
       "    </tr>\n",
       "    <tr>\n",
       "      <th>2</th>\n",
       "      <td>2022-06-01 02:04:08</td>\n",
       "      <td>Soziale Medien: FDP-Politiker Kuhle: Internet-...</td>\n",
       "      <td>Eine «ZDF Magazin Royale»-Recherche beschäftig...</td>\n",
       "      <td>Other</td>\n",
       "      <td>NaN</td>\n",
       "      <td>stern</td>\n",
       "      <td>Soziale Medien: FDP-Politiker Kuhle: Internet-...</td>\n",
       "      <td>sozial Medium FDP-Politiker Kuhle Internet-Str...</td>\n",
       "      <td>sozial Medium FDP-Politiker Kuhle Internet-Str...</td>\n",
       "    </tr>\n",
       "    <tr>\n",
       "      <th>3</th>\n",
       "      <td>2022-06-01 02:26:58</td>\n",
       "      <td>Liveblog: ++ Zwei von drei ukrainischen Kinder...</td>\n",
       "      <td>Rund zwei von drei Mädchen und Jungen in der U...</td>\n",
       "      <td>Missing</td>\n",
       "      <td>NaN</td>\n",
       "      <td>Tagesschau</td>\n",
       "      <td>Liveblog: ++ Zwei von drei ukrainischen Kinder...</td>\n",
       "      <td>Liveblog ukrainisch Kind vertreiben</td>\n",
       "      <td>Liveblog ukrainisch Kind vertreiben rund Mädch...</td>\n",
       "    </tr>\n",
       "    <tr>\n",
       "      <th>4</th>\n",
       "      <td>2022-06-01 02:31:43</td>\n",
       "      <td>Finanzen: Dänemark stimmt über EU-Verteidigung...</td>\n",
       "      <td>Vorbehalt verteidigen oder Verteidigung ohne V...</td>\n",
       "      <td>Other</td>\n",
       "      <td>NaN</td>\n",
       "      <td>stern</td>\n",
       "      <td>Finanzen: Dänemark stimmt über EU-Verteidigung...</td>\n",
       "      <td>Finanz Dänemark stimmen EU-Verteidigungsvorbehalt</td>\n",
       "      <td>Finanz Dänemark stimmen EU-Verteidigungsvorbeh...</td>\n",
       "    </tr>\n",
       "  </tbody>\n",
       "</table>\n",
       "</div>"
      ],
      "text/plain": [
       "                  date                                              title  \\\n",
       "0  2022-06-01 00:13:42  Preise: Grüne halten Senkung der Spritsteuer f...   \n",
       "1  2022-06-01 01:55:03  Biden warnt Putin: USA liefern moderne Raketen...   \n",
       "2  2022-06-01 02:04:08  Soziale Medien: FDP-Politiker Kuhle: Internet-...   \n",
       "3  2022-06-01 02:26:58  Liveblog: ++ Zwei von drei ukrainischen Kinder...   \n",
       "4  2022-06-01 02:31:43  Finanzen: Dänemark stimmt über EU-Verteidigung...   \n",
       "\n",
       "                                         description category  text  \\\n",
       "0  Heute tritt die Steuersenkung auf Kraftstoffe ...    Other   NaN   \n",
       "1  Die USA rüsten die Ukraine mit fortschrittlich...    Other   NaN   \n",
       "2  Eine «ZDF Magazin Royale»-Recherche beschäftig...    Other   NaN   \n",
       "3  Rund zwei von drei Mädchen und Jungen in der U...  Missing   NaN   \n",
       "4  Vorbehalt verteidigen oder Verteidigung ohne V...    Other   NaN   \n",
       "\n",
       "       source                             title_description_text  \\\n",
       "0       stern  Preise: Grüne halten Senkung der Spritsteuer f...   \n",
       "1       stern  Biden warnt Putin: USA liefern moderne Raketen...   \n",
       "2       stern  Soziale Medien: FDP-Politiker Kuhle: Internet-...   \n",
       "3  Tagesschau  Liveblog: ++ Zwei von drei ukrainischen Kinder...   \n",
       "4       stern  Finanzen: Dänemark stimmt über EU-Verteidigung...   \n",
       "\n",
       "                                       title_cleaned  \\\n",
       "0  Preis grüne halten Senkung Spritsteuer falsch ...   \n",
       "1  Biden warnen Putin USA liefern modern Raketens...   \n",
       "2  sozial Medium FDP-Politiker Kuhle Internet-Str...   \n",
       "3                Liveblog ukrainisch Kind vertreiben   \n",
       "4  Finanz Dänemark stimmen EU-Verteidigungsvorbehalt   \n",
       "\n",
       "                      title_description_text_cleaned  \n",
       "0  Preis grüne halten Senkung Spritsteuer falsch ...  \n",
       "1  Biden warnen Putin USA liefern modern Raketens...  \n",
       "2  sozial Medium FDP-Politiker Kuhle Internet-Str...  \n",
       "3  Liveblog ukrainisch Kind vertreiben rund Mädch...  \n",
       "4  Finanz Dänemark stimmen EU-Verteidigungsvorbeh...  "
      ]
     },
     "execution_count": 3,
     "metadata": {},
     "output_type": "execute_result"
    }
   ],
   "source": [
    "train.head()"
   ]
  },
  {
   "cell_type": "markdown",
   "id": "46b4f629",
   "metadata": {},
   "source": [
    "## Load German stopwords"
   ]
  },
  {
   "cell_type": "code",
   "execution_count": 4,
   "id": "da144b59",
   "metadata": {},
   "outputs": [],
   "source": [
    "stop_words = pd.read_csv('german_stopwords.txt', header=None)[0].values.tolist()"
   ]
  },
  {
   "cell_type": "code",
   "execution_count": 5,
   "id": "bd74c6d3",
   "metadata": {},
   "outputs": [
    {
     "name": "stdout",
     "output_type": "stream",
     "text": [
      "['ab', 'aber', 'alle', 'allein', 'allem', 'allen', 'aller', 'allerdings', 'allerlei', 'alles', 'allmählich', 'allzu', 'als', 'alsbald', 'also', 'am', 'an', 'and', 'ander', 'andere', 'anderem', 'anderen', 'anderer', 'andererseits', 'anderes', 'anderm', 'andern', 'andernfalls', 'anders', 'anstatt', 'auch', 'auf', 'aus', 'ausgenommen', 'ausser', 'ausserdem', 'außer', 'außerdem', 'außerhalb', 'bald', 'bei', 'beide', 'beiden', 'beiderlei', 'beides', 'beim', 'beinahe', 'bereits', 'besonders', 'besser', 'beträchtlich', 'bevor', 'bezüglich', 'bin', 'bis', 'bisher', 'bislang', 'bist', 'bloß', 'bsp.', 'bzw', 'ca', 'ca.', 'content', 'da', 'dabei', 'dadurch', 'dafür', 'dagegen', 'daher', 'dahin', 'damals', 'damit', 'danach', 'daneben', 'dann', 'daran', 'darauf', 'daraus', 'darin', 'darum', 'darunter', 'darüber', 'darüberhinaus', 'das', 'dass', 'dasselbe', 'davon', 'davor', 'dazu', 'daß', 'dein', 'deine', 'deinem', 'deinen', 'deiner', 'deines', 'dem', 'demnach', 'demselben', 'den', 'denen', 'denn', 'dennoch', 'denselben', 'der', 'derart', 'derartig', 'derem', 'deren', 'derer', 'derjenige', 'derjenigen', 'derselbe', 'derselben', 'derzeit', 'des', 'deshalb', 'desselben', 'dessen', 'desto', 'deswegen', 'dich', 'die', 'diejenige', 'dies', 'diese', 'dieselbe', 'dieselben', 'diesem', 'diesen', 'dieser', 'dieses', 'diesseits', 'dir', 'direkt', 'direkte', 'direkten', 'direkter', 'doch', 'dort', 'dorther', 'dorthin', 'drauf', 'drin', 'drunter', 'drüber', 'du', 'dunklen', 'durch', 'durchaus', 'eben', 'ebenfalls', 'ebenso', 'eher', 'eigenen', 'eigenes', 'eigentlich', 'ein', 'eine', 'einem', 'einen', 'einer', 'einerseits', 'eines', 'einfach', 'einführen', 'einführte', 'einführten', 'eingesetzt', 'einig', 'einige', 'einigem', 'einigen', 'einiger', 'einigermaßen', 'einiges', 'einmal', 'eins', 'einseitig', 'einseitige', 'einseitigen', 'einseitiger', 'einst', 'einstmals', 'einzig', 'entsprechend', 'entweder', 'er', 'erst', 'es', 'etc', 'etliche', 'etwa', 'etwas', 'euch', 'euer', 'eure', 'eurem', 'euren', 'eurer', 'eures', 'falls', 'fast', 'ferner', 'folgende', 'folgenden', 'folgender', 'folgendes', 'folglich', 'fuer', 'für', 'gab', 'ganze', 'ganzem', 'ganzen', 'ganzer', 'ganzes', 'gar', 'gegen', 'gemäss', 'ggf', 'gleich', 'gleichwohl', 'gleichzeitig', 'glücklicherweise', 'gänzlich', 'hab', 'habe', 'haben', 'haette', 'hast', 'hat', 'hatte', 'hatten', 'hattest', 'hattet', 'heraus', 'herein', 'hier', 'hier', 'hinter', 'hiermit', 'hiesige', 'hin', 'hinein', 'hinten', 'hinter', 'hinterher', 'http', 'hätt', 'hätte', 'hätten', 'höchstens', 'ich', 'igitt', 'ihm', 'ihn', 'ihnen', 'ihr', 'ihre', 'ihrem', 'ihren', 'ihrer', 'ihres', 'im', 'immer', 'immerhin', 'in', 'indem', 'indessen', 'infolge', 'innen', 'innerhalb', 'ins', 'insofern', 'inzwischen', 'irgend', 'irgendeine', 'irgendwas', 'irgendwen', 'irgendwer', 'irgendwie', 'irgendwo', 'ist', 'ja', 'je', 'jed', 'jede', 'jedem', 'jeden', 'jedenfalls', 'jeder', 'jederlei', 'jedes', 'jedoch', 'jemand', 'jene', 'jenem', 'jenen', 'jener', 'jenes', 'jenseits', 'jetzt', 'jährig', 'jährige', 'jährigen', 'jähriges', 'kam', 'kann', 'kannst', 'kaum', 'kein', 'keine', 'keinem', 'keinen', 'keiner', 'keinerlei', 'keines', 'keineswegs', 'klar', 'klare', 'klaren', 'klares', 'klein', 'kleinen', 'kleiner', 'kleines', 'koennen', 'koennt', 'koennte', 'koennten', 'komme', 'kommen', 'kommt', 'konkret', 'konkrete', 'konkreten', 'konkreter', 'konkretes', 'können', 'könnt', 'künftig', 'leider', 'machen', 'man', 'manche', 'manchem', 'manchen', 'mancher', 'mancherorts', 'manches', 'manchmal', 'mehr', 'mehrere', 'mein', 'meine', 'meinem', 'meinen', 'meiner', 'meines', 'mich', 'mir', 'mit', 'mithin', 'muessen', 'muesst', 'muesste', 'muss', 'musst', 'musste', 'mussten', 'muß', 'mußt', 'müssen', 'müsste', 'müssten', 'müßt', 'müßte', 'nach', 'nachdem', 'nachher', 'nachhinein', 'nahm', 'natürlich', 'neben', 'nebenan', 'nehmen', 'nein', 'nicht', 'nichts', 'nie', 'niemals', 'niemand', 'nirgends', 'nirgendwo', 'noch', 'nun', 'nur', 'nächste', 'nämlich', 'nötigenfalls', 'ob', 'oben', 'oberhalb', 'obgleich', 'obschon', 'obwohl', 'oder', 'oft', 'per', 'plötzlich', 'schließlich', 'schon', 'sehr', 'sehrwohl', 'seid', 'sein', 'seine', 'seinem', 'seinen', 'seiner', 'seines', 'seit', 'seitdem', 'seither', 'selber', 'selbst', 'sich', 'sicher', 'sicherlich', 'sie', 'sind', 'so', 'sobald', 'sodass', 'sodaß', 'soeben', 'sofern', 'sofort', 'sogar', 'solange', 'solch', 'solche', 'solchem', 'solchen', 'solcher', 'solches', 'soll', 'sollen', 'sollst', 'sollt', 'sollte', 'sollten', 'solltest', 'somit', 'sondern', 'sonst', 'sonstwo', 'sooft', 'soviel', 'soweit', 'sowie', 'sowohl', 'tatsächlich', 'tatsächlichen', 'tatsächlicher', 'tatsächliches', 'trotzdem', 'ueber', 'um', 'umso', 'unbedingt', 'und', 'unmöglich', 'unmögliche', 'unmöglichen', 'unmöglicher', 'uns', 'unser', 'unser', 'unsere', 'unsere', 'unserem', 'unseren', 'unserer', 'unseres', 'unter', 'usw', 'viel', 'viele', 'vielen', 'vieler', 'vieles', 'vielleicht', 'vielmals', 'vom', 'von', 'vor', 'voran', 'vorher', 'vorüber', 'völlig', 'wann', 'war', 'waren', 'warst', 'warum', 'was', 'weder', 'weil', 'weiter', 'weitere', 'weiterem', 'weiteren', 'weiterer', 'weiteres', 'weiterhin', 'weiß', 'welche', 'welchem', 'welchen', 'welcher', 'welches', 'wem', 'wen', 'wenig', 'wenige', 'weniger', 'wenigstens', 'wenn', 'wenngleich', 'wer', 'werde', 'werden', 'werdet', 'weshalb', 'wessen', 'wichtig', 'wie', 'wieder', 'wieso', 'wieviel', 'wiewohl', 'will', 'willst', 'wir', 'wird', 'wirklich', 'wirst', 'wo', 'wodurch', 'wogegen', 'woher', 'wohin', 'wohingegen', 'wohl', 'wohlweislich', 'womit', 'woraufhin', 'woraus', 'worin', 'wurde', 'wurden', 'während', 'währenddessen', 'wär', 'wäre', 'wären', 'würde', 'würden', 'z.B.', 'zB', 'zahlreich', 'zeitweise', 'zu', 'zudem', 'zuerst', 'zufolge', 'zugleich', 'zuletzt', 'zum', 'zumal', 'zur', 'zurück', 'zusammen', 'zuviel', 'zwar', 'zwischen', 'ähnlich', 'übel', 'über', 'überall', 'überallhin', 'überdies', 'übermorgen', 'übrig', 'übrigens']\n"
     ]
    }
   ],
   "source": [
    "print(stop_words)"
   ]
  },
  {
   "cell_type": "code",
   "execution_count": 6,
   "id": "11074738",
   "metadata": {},
   "outputs": [],
   "source": [
    "# append words to stopwords that contain no information\n",
    "stop_words += ['wegen', 'melden', 'meldet', 'können', 'könnte', 'könnten', 'update', 'neu', 'neue', 'neues', 'ohne', 'letzte', 'letzter',\n",
    "                  'letztes', 'eins', 'zwei', 'drei', 'vier', 'fünf', 'sechs', 'sieben', 'acht', 'neun', 'zehn',\n",
    "                   'gehen', 'geht', 'wollen', 'wollte', 'wollt', 'jahr', 'jahre', 'fordern', 'fordert',\n",
    "                  'warnen', 'warnt', 'frühjahr', 'frühling', 'sommer', 'herbst', 'winter', 'erneut', 'deutlich', 'schwer', 'jahren', 'woche',\n",
    "                  'wochen', 'monat', 'monate', 'tag', 'tage', 'stunden', 'stunde', 'minuten', 'minuten', 'ende', 'beenden', 'endet']"
   ]
  },
  {
   "cell_type": "markdown",
   "id": "a12c363c",
   "metadata": {},
   "source": [
    "## Extract features from 'title' "
   ]
  },
  {
   "cell_type": "code",
   "execution_count": 7,
   "id": "7ef6a539",
   "metadata": {},
   "outputs": [
    {
     "data": {
      "text/html": [
       "<div>\n",
       "<style scoped>\n",
       "    .dataframe tbody tr th:only-of-type {\n",
       "        vertical-align: middle;\n",
       "    }\n",
       "\n",
       "    .dataframe tbody tr th {\n",
       "        vertical-align: top;\n",
       "    }\n",
       "\n",
       "    .dataframe thead th {\n",
       "        text-align: right;\n",
       "    }\n",
       "</style>\n",
       "<table border=\"1\" class=\"dataframe\">\n",
       "  <thead>\n",
       "    <tr style=\"text-align: right;\">\n",
       "      <th></th>\n",
       "      <th>date</th>\n",
       "      <th>title</th>\n",
       "      <th>description</th>\n",
       "      <th>category</th>\n",
       "      <th>text</th>\n",
       "      <th>source</th>\n",
       "      <th>title_description_text</th>\n",
       "      <th>title_cleaned</th>\n",
       "      <th>title_description_text_cleaned</th>\n",
       "    </tr>\n",
       "  </thead>\n",
       "  <tbody>\n",
       "    <tr>\n",
       "      <th>39381</th>\n",
       "      <td>2023-02-16 15:30:15</td>\n",
       "      <td>Champions League</td>\n",
       "      <td>Liveticker und Highlightvideos</td>\n",
       "      <td>Missing</td>\n",
       "      <td>NaN</td>\n",
       "      <td>ZDF heute</td>\n",
       "      <td>Champions League - Liveticker und Highlightvid...</td>\n",
       "      <td>NaN</td>\n",
       "      <td>Champion Liveticker Highlightvideos</td>\n",
       "    </tr>\n",
       "    <tr>\n",
       "      <th>66356</th>\n",
       "      <td>2023-09-21 00:30:05</td>\n",
       "      <td>Champions League</td>\n",
       "      <td>Die wichtigsten Spiele im Video.</td>\n",
       "      <td>Missing</td>\n",
       "      <td>NaN</td>\n",
       "      <td>ZDF heute</td>\n",
       "      <td>Champions League - Die wichtigsten Spiele im V...</td>\n",
       "      <td>NaN</td>\n",
       "      <td>wichtig Spiel Video</td>\n",
       "    </tr>\n",
       "  </tbody>\n",
       "</table>\n",
       "</div>"
      ],
      "text/plain": [
       "                      date             title  \\\n",
       "39381  2023-02-16 15:30:15  Champions League   \n",
       "66356  2023-09-21 00:30:05  Champions League   \n",
       "\n",
       "                            description category  text     source  \\\n",
       "39381    Liveticker und Highlightvideos  Missing   NaN  ZDF heute   \n",
       "66356  Die wichtigsten Spiele im Video.  Missing   NaN  ZDF heute   \n",
       "\n",
       "                                  title_description_text title_cleaned  \\\n",
       "39381  Champions League - Liveticker und Highlightvid...           NaN   \n",
       "66356  Champions League - Die wichtigsten Spiele im V...           NaN   \n",
       "\n",
       "            title_description_text_cleaned  \n",
       "39381  Champion Liveticker Highlightvideos  \n",
       "66356                  wichtig Spiel Video  "
      ]
     },
     "execution_count": 7,
     "metadata": {},
     "output_type": "execute_result"
    }
   ],
   "source": [
    "train[train['title_cleaned'].isnull()]"
   ]
  },
  {
   "cell_type": "code",
   "execution_count": 8,
   "id": "2fc5a4b2",
   "metadata": {},
   "outputs": [],
   "source": [
    "# TODO workaround for missing title_cleaned -> TODO Solve this in NLP preprocessing!\n",
    "train['title_cleaned'] = train['title_cleaned'].fillna(train['title'].apply(lambda x: x.lower()))"
   ]
  },
  {
   "cell_type": "code",
   "execution_count": 9,
   "id": "dd39b14f",
   "metadata": {},
   "outputs": [
    {
     "data": {
      "text/html": [
       "<div>\n",
       "<style scoped>\n",
       "    .dataframe tbody tr th:only-of-type {\n",
       "        vertical-align: middle;\n",
       "    }\n",
       "\n",
       "    .dataframe tbody tr th {\n",
       "        vertical-align: top;\n",
       "    }\n",
       "\n",
       "    .dataframe thead th {\n",
       "        text-align: right;\n",
       "    }\n",
       "</style>\n",
       "<table border=\"1\" class=\"dataframe\">\n",
       "  <thead>\n",
       "    <tr style=\"text-align: right;\">\n",
       "      <th></th>\n",
       "      <th>date</th>\n",
       "      <th>title</th>\n",
       "      <th>description</th>\n",
       "      <th>category</th>\n",
       "      <th>text</th>\n",
       "      <th>source</th>\n",
       "      <th>title_description_text</th>\n",
       "      <th>title_cleaned</th>\n",
       "      <th>title_description_text_cleaned</th>\n",
       "    </tr>\n",
       "  </thead>\n",
       "  <tbody>\n",
       "  </tbody>\n",
       "</table>\n",
       "</div>"
      ],
      "text/plain": [
       "Empty DataFrame\n",
       "Columns: [date, title, description, category, text, source, title_description_text, title_cleaned, title_description_text_cleaned]\n",
       "Index: []"
      ]
     },
     "execution_count": 9,
     "metadata": {},
     "output_type": "execute_result"
    }
   ],
   "source": [
    "train[train['title_cleaned'].isnull()]"
   ]
  },
  {
   "cell_type": "code",
   "execution_count": 10,
   "id": "cd42c0db",
   "metadata": {},
   "outputs": [],
   "source": [
    "from sklearn.feature_extraction.text import CountVectorizer"
   ]
  },
  {
   "cell_type": "code",
   "execution_count": 11,
   "id": "38ab615c",
   "metadata": {},
   "outputs": [],
   "source": [
    "cv = CountVectorizer(max_df=0.95, min_df=2, stop_words=stop_words)"
   ]
  },
  {
   "cell_type": "code",
   "execution_count": 12,
   "id": "a628f0d2",
   "metadata": {},
   "outputs": [
    {
     "name": "stderr",
     "output_type": "stream",
     "text": [
      "C:\\Users\\manuela.rink\\anaconda3\\envs\\nlp\\Lib\\site-packages\\sklearn\\feature_extraction\\text.py:409: UserWarning: Your stop_words may be inconsistent with your preprocessing. Tokenizing the stop words generated tokens ['bsp', 'zb'] not in stop_words.\n",
      "  warnings.warn(\n"
     ]
    }
   ],
   "source": [
    "# create Document-Term-Matrix\n",
    "dtm = cv.fit_transform(train['title_cleaned'])"
   ]
  },
  {
   "cell_type": "code",
   "execution_count": 13,
   "id": "faba69b8",
   "metadata": {},
   "outputs": [
    {
     "data": {
      "text/plain": [
       "<67513x21412 sparse matrix of type '<class 'numpy.int64'>'\n",
       "\twith 330205 stored elements in Compressed Sparse Row format>"
      ]
     },
     "execution_count": 13,
     "metadata": {},
     "output_type": "execute_result"
    }
   ],
   "source": [
    "dtm"
   ]
  },
  {
   "cell_type": "code",
   "execution_count": 14,
   "id": "3f48b861",
   "metadata": {},
   "outputs": [],
   "source": [
    "from sklearn.decomposition import LatentDirichletAllocation"
   ]
  },
  {
   "cell_type": "code",
   "execution_count": 15,
   "id": "fdf60b9b",
   "metadata": {},
   "outputs": [
    {
     "data": {
      "text/html": [
       "<style>#sk-container-id-1 {color: black;background-color: white;}#sk-container-id-1 pre{padding: 0;}#sk-container-id-1 div.sk-toggleable {background-color: white;}#sk-container-id-1 label.sk-toggleable__label {cursor: pointer;display: block;width: 100%;margin-bottom: 0;padding: 0.3em;box-sizing: border-box;text-align: center;}#sk-container-id-1 label.sk-toggleable__label-arrow:before {content: \"▸\";float: left;margin-right: 0.25em;color: #696969;}#sk-container-id-1 label.sk-toggleable__label-arrow:hover:before {color: black;}#sk-container-id-1 div.sk-estimator:hover label.sk-toggleable__label-arrow:before {color: black;}#sk-container-id-1 div.sk-toggleable__content {max-height: 0;max-width: 0;overflow: hidden;text-align: left;background-color: #f0f8ff;}#sk-container-id-1 div.sk-toggleable__content pre {margin: 0.2em;color: black;border-radius: 0.25em;background-color: #f0f8ff;}#sk-container-id-1 input.sk-toggleable__control:checked~div.sk-toggleable__content {max-height: 200px;max-width: 100%;overflow: auto;}#sk-container-id-1 input.sk-toggleable__control:checked~label.sk-toggleable__label-arrow:before {content: \"▾\";}#sk-container-id-1 div.sk-estimator input.sk-toggleable__control:checked~label.sk-toggleable__label {background-color: #d4ebff;}#sk-container-id-1 div.sk-label input.sk-toggleable__control:checked~label.sk-toggleable__label {background-color: #d4ebff;}#sk-container-id-1 input.sk-hidden--visually {border: 0;clip: rect(1px 1px 1px 1px);clip: rect(1px, 1px, 1px, 1px);height: 1px;margin: -1px;overflow: hidden;padding: 0;position: absolute;width: 1px;}#sk-container-id-1 div.sk-estimator {font-family: monospace;background-color: #f0f8ff;border: 1px dotted black;border-radius: 0.25em;box-sizing: border-box;margin-bottom: 0.5em;}#sk-container-id-1 div.sk-estimator:hover {background-color: #d4ebff;}#sk-container-id-1 div.sk-parallel-item::after {content: \"\";width: 100%;border-bottom: 1px solid gray;flex-grow: 1;}#sk-container-id-1 div.sk-label:hover label.sk-toggleable__label {background-color: #d4ebff;}#sk-container-id-1 div.sk-serial::before {content: \"\";position: absolute;border-left: 1px solid gray;box-sizing: border-box;top: 0;bottom: 0;left: 50%;z-index: 0;}#sk-container-id-1 div.sk-serial {display: flex;flex-direction: column;align-items: center;background-color: white;padding-right: 0.2em;padding-left: 0.2em;position: relative;}#sk-container-id-1 div.sk-item {position: relative;z-index: 1;}#sk-container-id-1 div.sk-parallel {display: flex;align-items: stretch;justify-content: center;background-color: white;position: relative;}#sk-container-id-1 div.sk-item::before, #sk-container-id-1 div.sk-parallel-item::before {content: \"\";position: absolute;border-left: 1px solid gray;box-sizing: border-box;top: 0;bottom: 0;left: 50%;z-index: -1;}#sk-container-id-1 div.sk-parallel-item {display: flex;flex-direction: column;z-index: 1;position: relative;background-color: white;}#sk-container-id-1 div.sk-parallel-item:first-child::after {align-self: flex-end;width: 50%;}#sk-container-id-1 div.sk-parallel-item:last-child::after {align-self: flex-start;width: 50%;}#sk-container-id-1 div.sk-parallel-item:only-child::after {width: 0;}#sk-container-id-1 div.sk-dashed-wrapped {border: 1px dashed gray;margin: 0 0.4em 0.5em 0.4em;box-sizing: border-box;padding-bottom: 0.4em;background-color: white;}#sk-container-id-1 div.sk-label label {font-family: monospace;font-weight: bold;display: inline-block;line-height: 1.2em;}#sk-container-id-1 div.sk-label-container {text-align: center;}#sk-container-id-1 div.sk-container {/* jupyter's `normalize.less` sets `[hidden] { display: none; }` but bootstrap.min.css set `[hidden] { display: none !important; }` so we also need the `!important` here to be able to override the default hidden behavior on the sphinx rendered scikit-learn.org. See: https://github.com/scikit-learn/scikit-learn/issues/21755 */display: inline-block !important;position: relative;}#sk-container-id-1 div.sk-text-repr-fallback {display: none;}</style><div id=\"sk-container-id-1\" class=\"sk-top-container\"><div class=\"sk-text-repr-fallback\"><pre>LatentDirichletAllocation(n_components=8, random_state=42)</pre><b>In a Jupyter environment, please rerun this cell to show the HTML representation or trust the notebook. <br />On GitHub, the HTML representation is unable to render, please try loading this page with nbviewer.org.</b></div><div class=\"sk-container\" hidden><div class=\"sk-item\"><div class=\"sk-estimator sk-toggleable\"><input class=\"sk-toggleable__control sk-hidden--visually\" id=\"sk-estimator-id-1\" type=\"checkbox\" checked><label for=\"sk-estimator-id-1\" class=\"sk-toggleable__label sk-toggleable__label-arrow\">LatentDirichletAllocation</label><div class=\"sk-toggleable__content\"><pre>LatentDirichletAllocation(n_components=8, random_state=42)</pre></div></div></div></div></div>"
      ],
      "text/plain": [
       "LatentDirichletAllocation(n_components=8, random_state=42)"
      ]
     },
     "execution_count": 15,
     "metadata": {},
     "output_type": "execute_result"
    }
   ],
   "source": [
    "lda = LatentDirichletAllocation(n_components=8, random_state=42)\n",
    "lda.fit(dtm)"
   ]
  },
  {
   "cell_type": "markdown",
   "id": "a2f3296f",
   "metadata": {},
   "source": [
    "## Analyse extracted features"
   ]
  },
  {
   "cell_type": "code",
   "execution_count": 16,
   "id": "44c85ba2",
   "metadata": {},
   "outputs": [
    {
     "data": {
      "text/plain": [
       "21412"
      ]
     },
     "execution_count": 16,
     "metadata": {},
     "output_type": "execute_result"
    }
   ],
   "source": [
    "len(cv.get_feature_names_out())"
   ]
  },
  {
   "cell_type": "code",
   "execution_count": 17,
   "id": "79a3b48a",
   "metadata": {},
   "outputs": [
    {
     "data": {
      "text/plain": [
       "array(['000', '034', '039', ..., 'войны', 'российские', 'украинцы'],\n",
       "      dtype=object)"
      ]
     },
     "execution_count": 17,
     "metadata": {},
     "output_type": "execute_result"
    }
   ],
   "source": [
    "cv.get_feature_names_out()"
   ]
  },
  {
   "cell_type": "code",
   "execution_count": 18,
   "id": "6d276a41",
   "metadata": {},
   "outputs": [
    {
     "data": {
      "text/plain": [
       "8"
      ]
     },
     "execution_count": 18,
     "metadata": {},
     "output_type": "execute_result"
    }
   ],
   "source": [
    "len(lda.components_)"
   ]
  },
  {
   "cell_type": "code",
   "execution_count": 19,
   "id": "be61548c",
   "metadata": {},
   "outputs": [
    {
     "data": {
      "text/plain": [
       "array([[ 0.12508604, 13.57035003,  0.75527885, ...,  0.12500003,\n",
       "         0.12500003,  0.12500006],\n",
       "       [ 1.73063336,  4.6633913 ,  0.12510378, ...,  2.1249997 ,\n",
       "         2.1249997 ,  0.12500008],\n",
       "       [ 0.12506378,  8.2072425 , 26.97819673, ...,  0.12500004,\n",
       "         0.12500004,  0.12500008],\n",
       "       ...,\n",
       "       [ 6.79546959,  5.02608888,  0.1250374 , ...,  0.12500004,\n",
       "         0.12500004,  0.12500009],\n",
       "       [ 0.12510076, 13.46324277,  0.12506088, ...,  0.12500005,\n",
       "         0.12500005,  2.12499941],\n",
       "       [ 7.84854962,  0.12505316,  0.1250291 , ...,  0.12500005,\n",
       "         0.12500005,  0.1250001 ]])"
      ]
     },
     "execution_count": 19,
     "metadata": {},
     "output_type": "execute_result"
    }
   ],
   "source": [
    "lda.components_"
   ]
  },
  {
   "cell_type": "code",
   "execution_count": 20,
   "id": "45a65bd8",
   "metadata": {},
   "outputs": [
    {
     "data": {
      "text/plain": [
       "21412"
      ]
     },
     "execution_count": 20,
     "metadata": {},
     "output_type": "execute_result"
    }
   ],
   "source": [
    "len(lda.components_[0])"
   ]
  },
  {
   "cell_type": "markdown",
   "id": "9e30cf34",
   "metadata": {},
   "source": [
    "### Show most important words of first extracted topic"
   ]
  },
  {
   "cell_type": "code",
   "execution_count": 21,
   "id": "c617b9e0",
   "metadata": {},
   "outputs": [],
   "source": [
    "first_topic = lda.components_[0]"
   ]
  },
  {
   "cell_type": "code",
   "execution_count": 22,
   "id": "258f618e",
   "metadata": {},
   "outputs": [
    {
     "data": {
      "text/plain": [
       "array([20969, 16516,   413, ..., 15091, 10150, 18325], dtype=int64)"
      ]
     },
     "execution_count": 22,
     "metadata": {},
     "output_type": "execute_result"
    }
   ],
   "source": [
    "first_topic.argsort() # returns indices of ascending sorted array values "
   ]
  },
  {
   "cell_type": "code",
   "execution_count": 23,
   "id": "5966880a",
   "metadata": {},
   "outputs": [],
   "source": [
    "# the last 10 entries are the 10 most important words for topic 1\n",
    "top_words_indices = first_topic.argsort()[-10:]"
   ]
  },
  {
   "cell_type": "code",
   "execution_count": 24,
   "id": "11648839",
   "metadata": {},
   "outputs": [
    {
     "name": "stdout",
     "output_type": "stream",
     "text": [
      "liveblog\n",
      "selenskyj\n",
      "angriff\n",
      "kiew\n",
      "lage\n",
      "putin\n",
      "russisch\n",
      "russland\n",
      "krieg\n",
      "ukraine\n"
     ]
    }
   ],
   "source": [
    "for index in top_words_indices:\n",
    "    print(cv.get_feature_names_out()[index])"
   ]
  },
  {
   "cell_type": "markdown",
   "id": "0d661247",
   "metadata": {},
   "source": [
    "### Show most important words of first extracted topic"
   ]
  },
  {
   "cell_type": "code",
   "execution_count": 25,
   "id": "f789d8f2",
   "metadata": {},
   "outputs": [
    {
     "name": "stdout",
     "output_type": "stream",
     "text": [
      "Die TOP-15 Wörter für das Thema #0\n",
      "['moskau', 'stimme', 'invasion', 'ukrainisch', 'nato', 'liveblog', 'selenskyj', 'angriff', 'kiew', 'lage', 'putin', 'russisch', 'russland', 'krieg', 'ukraine']\n",
      "\n",
      "\n",
      "Die TOP-15 Wörter für das Thema #1\n",
      "['land', 'generation', 'panzer', 'faeser', 'eu', 'grüne', 'fdp', 'streit', 'lindner', 'habeck', 'regierung', 'cdu', 'spd', 'ampel', 'euro']\n",
      "\n",
      "\n",
      "Die TOP-15 Wörter für das Thema #2\n",
      "['ulrich', 'habeck', 'groß', 'besuch', 'eu', 'million', 'usa', 'taiwan', 'biden', 'us', 'analyse', 'deutschland', 'berlin', 'scholz', 'china']\n",
      "\n",
      "\n",
      "Die TOP-15 Wörter für das Thema #3\n",
      "['verurteilen', 'deutschland', 'tod', 'podcast', 'italien', 'partei', 'groß', 'haft', 'klima', 'putin', 'russland', 'ex', 'israel', 'afd', 'deutsch']\n",
      "\n",
      "\n",
      "Die TOP-15 Wörter für das Thema #4\n",
      "['mindestens', 'kommentar', 'mensch', 'mann', 'retten', 'gabor', 'steingart', 'europa', 'iran', 'sanktion', 'gas', 'gastbeitrag', 'frau', 'tote', 'eu']\n",
      "\n",
      "\n",
      "Die TOP-15 Wörter für das Thema #5\n",
      "['dax', 'steigen', 'präsident', 'deutsch', 'inflation', 'news', 'preis', 'hoch', 'us', 'deutschland', 'pandemie', 'lauterbach', 'marktbericht', 'trump', 'corona']\n",
      "\n",
      "\n",
      "Die TOP-15 Wörter für das Thema #6\n",
      "['fc', 'gewinnen', 'leipzig', 'iran', 'berlin', 'bundesliga', 'deutschland', 'g7', 'wahl', 'gipfel', 'usa', 'bayern', 'frankreich', 'protest', 'us']\n",
      "\n",
      "\n",
      "Die TOP-15 Wörter für das Thema #7\n",
      "['deutschland', 'spanien', 'em', 'welt', 'geben', 'dfb', 'deutsch', 'leben', 'bahn', 'baerbock', 'wahrheit', 'fußball', 'kind', 'wm', 'gut']\n",
      "\n",
      "\n"
     ]
    }
   ],
   "source": [
    "for index, topic in enumerate(lda.components_):\n",
    "    print(f'Die TOP-15 Wörter für das Thema #{index}')\n",
    "    print([cv.get_feature_names_out()[i] for i in topic.argsort()[-15:]])\n",
    "    print('\\n')"
   ]
  },
  {
   "cell_type": "markdown",
   "id": "a0973fc9",
   "metadata": {},
   "source": [
    "### Get topics with highest probability for news items in train data"
   ]
  },
  {
   "cell_type": "code",
   "execution_count": 26,
   "id": "0f46f47f",
   "metadata": {},
   "outputs": [
    {
     "data": {
      "text/plain": [
       "(67513, 8)"
      ]
     },
     "execution_count": 26,
     "metadata": {},
     "output_type": "execute_result"
    }
   ],
   "source": [
    "topic_results = lda.transform(dtm)\n",
    "topic_results.shape"
   ]
  },
  {
   "cell_type": "code",
   "execution_count": 27,
   "id": "823c7020",
   "metadata": {},
   "outputs": [
    {
     "data": {
      "text/plain": [
       "array([0.01563, 0.40514, 0.01564, 0.34961, 0.01564, 0.16708, 0.01563,\n",
       "       0.01563])"
      ]
     },
     "execution_count": 27,
     "metadata": {},
     "output_type": "execute_result"
    }
   ],
   "source": [
    "topic_results[0].round(5)"
   ]
  },
  {
   "cell_type": "code",
   "execution_count": 28,
   "id": "f68cacd0",
   "metadata": {},
   "outputs": [
    {
     "data": {
      "text/plain": [
       "1"
      ]
     },
     "execution_count": 28,
     "metadata": {},
     "output_type": "execute_result"
    }
   ],
   "source": [
    "topic_results[0].argmax()"
   ]
  },
  {
   "cell_type": "code",
   "execution_count": 29,
   "id": "6e11fb89",
   "metadata": {},
   "outputs": [],
   "source": [
    "# save topic to train dataset\n",
    "train['topic'] = topic_results.argmax(axis=1)"
   ]
  },
  {
   "cell_type": "code",
   "execution_count": 30,
   "id": "7eb2c522",
   "metadata": {},
   "outputs": [
    {
     "data": {
      "text/html": [
       "<div>\n",
       "<style scoped>\n",
       "    .dataframe tbody tr th:only-of-type {\n",
       "        vertical-align: middle;\n",
       "    }\n",
       "\n",
       "    .dataframe tbody tr th {\n",
       "        vertical-align: top;\n",
       "    }\n",
       "\n",
       "    .dataframe thead th {\n",
       "        text-align: right;\n",
       "    }\n",
       "</style>\n",
       "<table border=\"1\" class=\"dataframe\">\n",
       "  <thead>\n",
       "    <tr style=\"text-align: right;\">\n",
       "      <th></th>\n",
       "      <th>date</th>\n",
       "      <th>title</th>\n",
       "      <th>description</th>\n",
       "      <th>category</th>\n",
       "      <th>text</th>\n",
       "      <th>source</th>\n",
       "      <th>title_description_text</th>\n",
       "      <th>title_cleaned</th>\n",
       "      <th>title_description_text_cleaned</th>\n",
       "      <th>topic</th>\n",
       "    </tr>\n",
       "  </thead>\n",
       "  <tbody>\n",
       "    <tr>\n",
       "      <th>0</th>\n",
       "      <td>2022-06-01 00:13:42</td>\n",
       "      <td>Preise: Grüne halten Senkung der Spritsteuer f...</td>\n",
       "      <td>Heute tritt die Steuersenkung auf Kraftstoffe ...</td>\n",
       "      <td>Other</td>\n",
       "      <td>NaN</td>\n",
       "      <td>stern</td>\n",
       "      <td>Preise: Grüne halten Senkung der Spritsteuer f...</td>\n",
       "      <td>Preis grüne halten Senkung Spritsteuer falsch ...</td>\n",
       "      <td>Preis grüne halten Senkung Spritsteuer falsch ...</td>\n",
       "      <td>1</td>\n",
       "    </tr>\n",
       "    <tr>\n",
       "      <th>1</th>\n",
       "      <td>2022-06-01 01:55:03</td>\n",
       "      <td>Biden warnt Putin: USA liefern moderne Raketen...</td>\n",
       "      <td>Die USA rüsten die Ukraine mit fortschrittlich...</td>\n",
       "      <td>Other</td>\n",
       "      <td>NaN</td>\n",
       "      <td>stern</td>\n",
       "      <td>Biden warnt Putin: USA liefern moderne Raketen...</td>\n",
       "      <td>Biden warnen Putin USA liefern modern Raketens...</td>\n",
       "      <td>Biden warnen Putin USA liefern modern Raketens...</td>\n",
       "      <td>0</td>\n",
       "    </tr>\n",
       "    <tr>\n",
       "      <th>2</th>\n",
       "      <td>2022-06-01 02:04:08</td>\n",
       "      <td>Soziale Medien: FDP-Politiker Kuhle: Internet-...</td>\n",
       "      <td>Eine «ZDF Magazin Royale»-Recherche beschäftig...</td>\n",
       "      <td>Other</td>\n",
       "      <td>NaN</td>\n",
       "      <td>stern</td>\n",
       "      <td>Soziale Medien: FDP-Politiker Kuhle: Internet-...</td>\n",
       "      <td>sozial Medium FDP-Politiker Kuhle Internet-Str...</td>\n",
       "      <td>sozial Medium FDP-Politiker Kuhle Internet-Str...</td>\n",
       "      <td>1</td>\n",
       "    </tr>\n",
       "    <tr>\n",
       "      <th>3</th>\n",
       "      <td>2022-06-01 02:26:58</td>\n",
       "      <td>Liveblog: ++ Zwei von drei ukrainischen Kinder...</td>\n",
       "      <td>Rund zwei von drei Mädchen und Jungen in der U...</td>\n",
       "      <td>Missing</td>\n",
       "      <td>NaN</td>\n",
       "      <td>Tagesschau</td>\n",
       "      <td>Liveblog: ++ Zwei von drei ukrainischen Kinder...</td>\n",
       "      <td>Liveblog ukrainisch Kind vertreiben</td>\n",
       "      <td>Liveblog ukrainisch Kind vertreiben rund Mädch...</td>\n",
       "      <td>0</td>\n",
       "    </tr>\n",
       "    <tr>\n",
       "      <th>4</th>\n",
       "      <td>2022-06-01 02:31:43</td>\n",
       "      <td>Finanzen: Dänemark stimmt über EU-Verteidigung...</td>\n",
       "      <td>Vorbehalt verteidigen oder Verteidigung ohne V...</td>\n",
       "      <td>Other</td>\n",
       "      <td>NaN</td>\n",
       "      <td>stern</td>\n",
       "      <td>Finanzen: Dänemark stimmt über EU-Verteidigung...</td>\n",
       "      <td>Finanz Dänemark stimmen EU-Verteidigungsvorbehalt</td>\n",
       "      <td>Finanz Dänemark stimmen EU-Verteidigungsvorbeh...</td>\n",
       "      <td>1</td>\n",
       "    </tr>\n",
       "  </tbody>\n",
       "</table>\n",
       "</div>"
      ],
      "text/plain": [
       "                  date                                              title  \\\n",
       "0  2022-06-01 00:13:42  Preise: Grüne halten Senkung der Spritsteuer f...   \n",
       "1  2022-06-01 01:55:03  Biden warnt Putin: USA liefern moderne Raketen...   \n",
       "2  2022-06-01 02:04:08  Soziale Medien: FDP-Politiker Kuhle: Internet-...   \n",
       "3  2022-06-01 02:26:58  Liveblog: ++ Zwei von drei ukrainischen Kinder...   \n",
       "4  2022-06-01 02:31:43  Finanzen: Dänemark stimmt über EU-Verteidigung...   \n",
       "\n",
       "                                         description category  text  \\\n",
       "0  Heute tritt die Steuersenkung auf Kraftstoffe ...    Other   NaN   \n",
       "1  Die USA rüsten die Ukraine mit fortschrittlich...    Other   NaN   \n",
       "2  Eine «ZDF Magazin Royale»-Recherche beschäftig...    Other   NaN   \n",
       "3  Rund zwei von drei Mädchen und Jungen in der U...  Missing   NaN   \n",
       "4  Vorbehalt verteidigen oder Verteidigung ohne V...    Other   NaN   \n",
       "\n",
       "       source                             title_description_text  \\\n",
       "0       stern  Preise: Grüne halten Senkung der Spritsteuer f...   \n",
       "1       stern  Biden warnt Putin: USA liefern moderne Raketen...   \n",
       "2       stern  Soziale Medien: FDP-Politiker Kuhle: Internet-...   \n",
       "3  Tagesschau  Liveblog: ++ Zwei von drei ukrainischen Kinder...   \n",
       "4       stern  Finanzen: Dänemark stimmt über EU-Verteidigung...   \n",
       "\n",
       "                                       title_cleaned  \\\n",
       "0  Preis grüne halten Senkung Spritsteuer falsch ...   \n",
       "1  Biden warnen Putin USA liefern modern Raketens...   \n",
       "2  sozial Medium FDP-Politiker Kuhle Internet-Str...   \n",
       "3                Liveblog ukrainisch Kind vertreiben   \n",
       "4  Finanz Dänemark stimmen EU-Verteidigungsvorbehalt   \n",
       "\n",
       "                      title_description_text_cleaned  topic  \n",
       "0  Preis grüne halten Senkung Spritsteuer falsch ...      1  \n",
       "1  Biden warnen Putin USA liefern modern Raketens...      0  \n",
       "2  sozial Medium FDP-Politiker Kuhle Internet-Str...      1  \n",
       "3  Liveblog ukrainisch Kind vertreiben rund Mädch...      0  \n",
       "4  Finanz Dänemark stimmen EU-Verteidigungsvorbeh...      1  "
      ]
     },
     "execution_count": 30,
     "metadata": {},
     "output_type": "execute_result"
    }
   ],
   "source": [
    "train.head()"
   ]
  },
  {
   "cell_type": "markdown",
   "id": "a0751e64",
   "metadata": {},
   "source": [
    "## Visualize model"
   ]
  },
  {
   "cell_type": "code",
   "execution_count": 31,
   "id": "39e7a68b",
   "metadata": {},
   "outputs": [
    {
     "data": {
      "text/html": [
       "\n",
       "<link rel=\"stylesheet\" type=\"text/css\" href=\"https://cdn.jsdelivr.net/gh/bmabey/pyLDAvis@3.4.0/pyLDAvis/js/ldavis.v1.0.0.css\">\n",
       "\n",
       "\n",
       "<div id=\"ldavis_el50641924797051872875962432\" style=\"background-color:white;\"></div>\n",
       "<script type=\"text/javascript\">\n",
       "\n",
       "var ldavis_el50641924797051872875962432_data = {\"mdsDat\": {\"x\": [23.5515193939209, -19.987119674682617, -69.2850570678711, -11.296581268310547, -29.980884552001953, 31.477128982543945, 50.357086181640625, -64.92381286621094], \"y\": [-48.78471374511719, 65.00381469726562, -18.713701248168945, 3.4440109729766846, -55.60299301147461, 48.68962860107422, -1.8369711637496948, 35.0948600769043], \"topics\": [1, 2, 3, 4, 5, 6, 7, 8], \"cluster\": [1, 1, 1, 1, 1, 1, 1, 1], \"Freq\": [16.058260971132636, 13.792638902502526, 12.737328262071765, 12.077863046310666, 11.66052507254528, 11.36425216217644, 11.360606050515836, 10.948525532744855]}, \"tinfo\": {\"Term\": [\"ukraine\", \"krieg\", \"russisch\", \"corona\", \"russland\", \"china\", \"eu\", \"putin\", \"gut\", \"scholz\", \"euro\", \"tote\", \"trump\", \"ampel\", \"us\", \"wm\", \"lage\", \"protest\", \"kiew\", \"frankreich\", \"marktbericht\", \"berlin\", \"selenskyj\", \"kind\", \"frau\", \"angriff\", \"liveblog\", \"bayern\", \"lauterbach\", \"fu\\u00dfball\", \"ukraine\", \"krieg\", \"lage\", \"selenskyj\", \"kiew\", \"liveblog\", \"invasion\", \"stimme\", \"entwicklung\", \"wagner\", \"russisch\", \"soldat\", \"morgen\", \"bachmut\", \"krim\", \"russischer\", \"ukrainisch\", \"l\\u00fctzerath\", \"truppe\", \"saporischschja\", \"nato\", \"kriegsverlauf\", \"front\", \"ukrainer\", \"\\u00fcberblick\", \"updat\", \"prigoschin\", \"offensive\", \"cherson\", \"angriffskrieg\", \"armee\", \"russe\", \"waffe\", \"angriff\", \"russland\", \"nachricht\", \"putin\", \"moskau\", \"kreml\", \"liefern\", \"chef\", \"akw\", \"usa\", \"panzer\", \"lindner\", \"gro\\u00dfbritannien\", \"johnson\", \"koalition\", \"bund\", \"ticket\", \"boris\", \"lambrecht\", \"leopard\", \"ukrainekrieg\", \"gr\\u00fcnen\", \"musk\", \"druck\", \"nachfolge\", \"verbrenner\", \"kommune\", \"wissing\", \"euro\", \"haushalt\", \"kindergrundsicherung\", \"truss\", \"entlastungspaket\", \"kandidat\", \"brexit\", \"blockade\", \"sunak\", \"laufzeit\", \"baden\", \"christian\", \"faeser\", \"ampel\", \"twitter\", \"milliarde\", \"generation\", \"fdp\", \"spd\", \"gasumlage\", \"streit\", \"minister\", \"regierung\", \"cdu\", \"gr\\u00fcne\", \"studie\", \"gr\\u00fcn\", \"britisch\", \"habeck\", \"debatte\", \"merz\", \"kritik\", \"land\", \"bundesregierung\", \"eu\", \"plan\", \"stellen\", \"taiwan\", \"ulrich\", \"reitz\", \"xi\", \"olaf\", \"versteher\", \"york\", \"joe\", \"festival\", \"stiftung\", \"kaili\", \"diktator\", \"nawalny\", \"bundeskanzler\", \"jinping\", \"auge\", \"j\\u00e4ger\", \"bosnien\", \"markt\", \"messi\", \"wegner\", \"w\\u00e4rmepumpe\", \"m\\u00e4chtig\", \"milit\\u00e4rman\\u00f6ver\", \"pakt\", \"antisemitismus\", \"abe\", \"fukushima\", \"null\", \"staatssekret\\u00e4r\", \"regierungschef\", \"covid\", \"china\", \"japan\", \"besuch\", \"analyse\", \"scholz\", \"attentat\", \"heizungsgesetz\", \"kanzler\", \"opfer\", \"zahlen\", \"aktion\", \"million\", \"berlin\", \"biden\", \"reise\", \"new\", \"deutschland\", \"sterben\", \"usa\", \"us\", \"politik\", \"recht\", \"gro\\u00df\", \"habeck\", \"eu\", \"pr\\u00e4sident\", \"kommentar\", \"treffen\", \"mensch\", \"putin\", \"land\", \"corona\", \"pandemie\", \"lauterbach\", \"marktbericht\", \"news\", \"dax\", \"kirche\", \"hitze\", \"wetter\", \"rbb\", \"saudi\", \"impfung\", \"inzidenz\", \"rki\", \"arabien\", \"wall\", \"warnstreik\", \"donald\", \"tunesien\", \"katholisch\", \"bolsonaro\", \"regen\", \"for\", \"missbrauch\", \"hei\\u00df\", \"holstein\", \"verdi\", \"schleswig\", \"lanka\", \"sri\", \"extrem\", \"anleger\", \"sinken\", \"preis\", \"trump\", \"anklage\", \"waffenruhe\", \"inflation\", \"wirtschaft\", \"klimawandel\", \"hoch\", \"brasilien\", \"afghanistan\", \"gesundheit\", \"erwarten\", \"steigen\", \"stark\", \"regel\", \"pr\\u00e4sident\", \"sudan\", \"deutschland\", \"us\", \"bleiben\", \"ticker\", \"deutsch\", \"mensch\", \"prozent\", \"ki\", \"reichsb\\u00fcrger\", \"nahost\", \"cum\", \"intelligenz\", \"mai\", \"myanmar\", \"kim\", \"bnd\", \"k\\u00fcnstliche\", \"teilmobilmachung\", \"vertrauen\", \"haft\", \"notstand\", \"westjordanland\", \"chatgpt\", \"11km\", \"pal\\u00e4stinenser\", \"einstellen\", \"beantragen\", \"rushdie\", \"lager\", \"tochter\", \"jong\", \"rtl\", \"bundestalk\", \"salman\", \"gaza\", \"linken\", \"gesellschaft\", \"wagenknecht\", \"kritiker\", \"k\\u00f6nig\", \"podcast\", \"verurteilen\", \"international\", \"israel\", \"gemeinsam\", \"partei\", \"linke\", \"online\", \"queen\", \"klima\", \"reaktion\", \"anti\", \"afd\", \"ermittlung\", \"serie\", \"italien\", \"tod\", \"ex\", \"brauchen\", \"deutsch\", \"rufen\", \"gro\\u00df\", \"sturm\", \"russland\", \"putin\", \"stream\", \"nord\", \"t\\u00fcrkei\", \"wahl\", \"deutschland\", \"scholz\", \"umfrage\", \"problem\", \"tv\", \"g7\", \"leipzig\", \"freiburg\", \"rentenreform\", \"fc\", \"siegen\", \"zehntausend\", \"stuttgart\", \"mainz\", \"senat\", \"leverkusen\", \"gladbach\", \"spieltag\", \"hoffenheim\", \"bochum\", \"demokrat\", \"terminal\", \"elmau\", \"r\\u00fcgen\", \"repr\\u00e4sentantenhaus\", \"demo\", \"ballon\", \"pentagon\", \"wolfsburg\", \"lukaschenko\", \"landwirtschaft\", \"wohnungsbau\", \"sc\", \"fachkr\\u00e4ft\", \"rb\", \"frankreich\", \"lng\", \"demonstration\", \"hertha\", \"protest\", \"tiktok\", \"gipfel\", \"bvb\", \"bayern\", \"steinmeier\", \"bundesliga\", \"bayer\", \"gold\", \"us\", \"wahl\", \"iran\", \"usa\", \"gewinnen\", \"sieg\", \"fehlen\", \"berlin\", \"deutschland\", \"verbot\", \"stimmen\", \"regierung\", \"macron\", \"bringen\", \"sehen\", \"drohen\", \"union\", \"gro\\u00df\", \"polizei\", \"gastbeitrag\", \"sanktion\", \"gabor\", \"steingart\", \"mindestens\", \"erdbeben\", \"m\\u00fcller\", \"schu\\u00df\", \"de\", \"hugo\", \"vogg\", \"trainer\", \"katastrophe\", \"\\u00fcberschwemmung\", \"hartz\", \"zugungl\\u00fcck\", \"iv\", \"libyen\", \"aiwanger\", \"kennen\", \"mittelmeer\", \"toter\", \"leitzins\", \"49\", \"notfallplan\", \"tour\", \"flugblatt\", \"venedig\", \"willkommen\", \"\\u00e4gypten\", \"syrien\", \"dienst\", \"retten\", \"ungarn\", \"solidarit\\u00e4t\", \"tote\", \"film\", \"lkw\", \"frau\", \"schlagen\", \"eu\", \"verletzter\", \"gas\", \"griechenland\", \"iran\", \"s\\u00f6der\", \"merkel\", \"kommentar\", \"europa\", \"mann\", \"mensch\", \"t\\u00fcrkei\", \"staat\", \"nordkorea\", \"unfall\", \"gut\", \"fu\\u00dfball\", \"wahrheit\", \"wm\", \"dfb\", \"em\", \"erreichen\", \"team\", \"fragen\", \"flug\", \"pokal\", \"sch\\u00f6n\", \"au\\u00dfenministerin\", \"urlaub\", \"antworten\", \"liebe\", \"annalena\", \"klimaziel\", \"freitag\", \"final\", \"deutschlandticket\", \"evg\", \"wimbledon\", \"istanbul\", \"hausbesuch\", \"elf\", \"zins\", \"franziskus\", \"heim\", \"kr\\u00f6nung\", \"bahn\", \"fifa\", \"basketball\", \"kind\", \"lufthansa\", \"england\", \"feiern\", \"katar\", \"brand\", \"spanien\", \"leben\", \"baerbock\", \"zweiter\", \"schule\", \"bundeswehr\", \"welt\", \"sparen\", \"sch\\u00fctzen\", \"geben\", \"deutsch\", \"chance\", \"auto\", \"stehen\", \"streik\", \"berlin\", \"deutschland\", \"frau\", \"tot\"], \"Freq\": [4510.0, 2613.0, 1373.0, 1141.0, 1754.0, 1181.0, 1428.0, 1731.0, 618.0, 1018.0, 634.0, 688.0, 657.0, 587.0, 1311.0, 475.0, 560.0, 582.0, 529.0, 458.0, 429.0, 987.0, 476.0, 453.0, 565.0, 534.0, 430.0, 489.0, 358.0, 339.0, 4509.959386277086, 2612.747282974446, 559.765999868236, 475.8033127531832, 528.8249419287034, 429.1810440805317, 352.695803338685, 348.9645473379281, 306.99098331412586, 281.8065991542544, 1368.9902854318009, 260.35342185376686, 203.45575777819488, 198.79215153337884, 194.12839243863377, 195.05128206104123, 374.09534063069793, 156.8181144414339, 150.28838634852733, 140.96167228688117, 411.72612194147337, 137.23071311679467, 136.29776812529454, 133.49956848614852, 136.2282819109025, 119.50842251290197, 136.15579402812403, 112.0462793240351, 99.92068188932711, 96.18963197977726, 175.42410832074074, 279.19162382047864, 241.81539030254046, 483.7342856668431, 1383.6482693068797, 312.4472801523703, 1234.42026999847, 347.41659621238165, 218.5376911079206, 183.94291048773616, 309.69448224219417, 187.21907774270846, 208.15445343721854, 251.58131166391098, 344.12603807641295, 228.1239232664735, 227.1858233281317, 194.34518051403708, 198.92772867770933, 159.59193815229818, 139.92387252020055, 139.9178342963876, 123.97272196728206, 121.15716398668945, 135.11601554868585, 111.77472193930238, 225.37431967144005, 100.51523802568894, 100.49691286671914, 97.70015452659206, 88.31735406951422, 628.3613823034782, 86.44066570499767, 80.71517999231403, 71.42801318582448, 65.797964772995, 64.85850413440666, 58.288627026184216, 78.60422207206297, 53.600293060776025, 51.723636151033624, 50.785274592939835, 57.231617975206284, 265.6204297683094, 564.9952830012514, 147.55007463111227, 227.11369726848451, 250.74613329944088, 326.18751098196515, 432.96533761425684, 95.97105080253544, 339.8415631495881, 130.53300804170695, 372.2075898849791, 383.82393262304845, 307.45271481483474, 202.68877903908947, 206.4592903842792, 166.15392593998112, 358.0701820321972, 202.0388624485391, 175.67805892017677, 230.3993814269745, 236.18931909943035, 169.25582986003175, 292.41054382776474, 182.39957620872894, 164.73662591625722, 286.7261348929859, 192.76174152204692, 189.94256376402336, 170.05524260467308, 128.86010235395796, 123.22183886073547, 106.30662572293043, 107.23267190998072, 62.13899857309895, 58.38025894143217, 54.62152883820641, 54.62128959666191, 54.62127517853019, 53.681726299202055, 51.7345315298644, 42.4048017019228, 41.46534839835831, 37.706416117209066, 37.706214544696635, 37.70612611818916, 39.538775516688816, 51.42763647601445, 34.885725211872646, 34.8841211777448, 33.007546788550044, 73.33127445172504, 32.0681296507132, 32.06810186408623, 30.188669968203744, 30.188667278295277, 73.8097204180601, 125.29486231525568, 1061.6801282005415, 154.91628366797292, 222.59280812048024, 333.42257370710365, 750.4262612328379, 73.08537236376361, 98.89925473009663, 178.6366002881254, 118.74403742056275, 119.46969783449447, 64.12732473869094, 249.09950455624505, 520.9784466610326, 302.1295473479854, 131.30990582413278, 120.6435275815657, 511.6256426999863, 186.86098949776525, 275.2227004783654, 309.6132699958651, 144.40690105433762, 129.00258097722173, 207.65490380162723, 197.93569796737202, 231.60007507676767, 160.54322914112146, 137.74501124607906, 138.43153002851886, 140.85662029689328, 152.076223622219, 131.53815170411278, 1139.8292735659263, 352.49742989815576, 358.0294834546958, 428.5043852244804, 232.85615815920542, 176.7618950763395, 165.55792734638501, 119.75779926901176, 94.52112201481296, 89.84754574671226, 85.1739962912446, 85.17360007661163, 80.50075192809625, 78.63124329560371, 78.63115314425272, 70.21902672599255, 166.3089770124738, 139.46279000609331, 68.34179151888702, 62.74142392247353, 59.002578854414, 58.067705552015994, 57.13312180340409, 65.41086044297779, 55.263735940983814, 53.39440634754585, 53.39434598172769, 51.5250211106016, 50.5903295773192, 50.590329577319196, 71.51921555085083, 88.65285385700226, 158.386092882648, 241.95989602230605, 552.8150752018855, 145.92045301963785, 68.82253334031878, 232.41427137103003, 118.41674889793094, 110.6457355275761, 248.89993829931888, 119.88474768292215, 132.04612463104692, 95.96436282389332, 152.356178531363, 179.61094929847775, 156.24716915880782, 109.56241048816206, 190.52177061904052, 111.80624421667527, 281.10251603930874, 254.39695154439636, 173.15134700408254, 138.73110730087683, 217.32128218517377, 136.89020183456364, 116.35796874878713, 112.73640165822779, 97.59454859840436, 83.3978058340475, 79.61349814652237, 73.9352728429784, 66.36400393866354, 57.83400151615774, 76.39937939674203, 51.22224927435641, 50.27594076026233, 49.32930371627277, 48.38287293373791, 255.74357964072917, 44.59752311776945, 42.70494089756487, 40.81216358742881, 39.86583542420487, 39.86575292017763, 38.91926896963166, 37.96789034285364, 36.08032412782272, 35.133589566040456, 72.06516681444913, 33.241113900080244, 32.2947989381247, 29.455786787658937, 28.50936208915631, 27.56298148329681, 42.200642467079774, 102.74631957871617, 119.65919414072398, 42.100116268397485, 92.4731890537277, 196.61759321141594, 169.91792313861296, 101.17615857990128, 332.6681448795919, 89.30278681481066, 226.689664033203, 146.2154307292985, 116.2144045019113, 114.15719173665379, 270.4888877978394, 102.4297128922355, 88.0923498554431, 352.8313020116133, 138.9222560872675, 102.02468027642561, 210.1223932057619, 190.49541497622192, 311.6026659632002, 143.30275744285183, 367.80925619481536, 122.95405293266009, 247.923768090425, 98.51158425810367, 299.1186101198305, 291.77759178266115, 118.28706755324075, 119.3758494431745, 143.3991275187564, 160.68868213149904, 170.3527754639429, 149.15694429759142, 105.90282980657582, 110.8075714157419, 105.99189705594449, 297.2219308283736, 184.0394199239674, 104.81164719463057, 91.60712058917518, 164.40536684021686, 122.29790464584791, 77.45903828265533, 83.03749892381285, 74.62422570096096, 71.80000489222965, 69.9135901680394, 62.36820673242781, 62.36815613287479, 53.87951770298999, 52.93633878472224, 52.933811397039975, 47.27715723180897, 45.39082269554587, 43.501018206167444, 41.61813706742154, 73.03648085148478, 55.4433694257684, 35.95877156713883, 61.6955584930388, 39.54373501841983, 33.09753090738274, 30.29974406691854, 29.356627846605743, 29.35651626811222, 29.35142288384174, 444.09786578676807, 82.58663551733932, 87.29270838791032, 85.00770104723819, 501.60046177938494, 61.613454700698234, 324.88607404367247, 97.01076007675552, 396.4445255782301, 107.5954006893521, 256.7210760313797, 84.46932779598892, 83.22679299605414, 571.3307667224966, 312.8015328559386, 235.73503311340636, 377.5063289978353, 180.877079915902, 150.62392266858728, 102.00704545883131, 246.31039185683042, 271.66116685758516, 89.99854836986657, 99.81796492371157, 139.18326349681217, 102.66243236757634, 102.861941249898, 113.76739186411835, 106.76254653597236, 99.57428390446674, 105.09203378262134, 96.32782605324867, 325.7282522588313, 272.8694405994934, 187.9337697244696, 187.93376972446967, 171.88903229458194, 169.05779813952915, 127.5306127993283, 113.12076112631276, 81.28439510071009, 78.45314709740427, 76.565574797316, 75.62152613686247, 75.62142392324837, 68.07126877499172, 62.40851274533629, 61.46473616816972, 60.520919325922904, 58.63330938584651, 133.08057865282078, 48.251279513324285, 47.307706802926646, 46.36390769036556, 45.42021618727115, 43.53202867634908, 41.64496558489613, 64.74492015825089, 38.813558181179054, 38.813546806557426, 38.81313540850105, 35.95380549268538, 163.81614541470228, 71.2513041633035, 183.61957169517441, 107.5871372201424, 71.10011100894529, 544.353931151646, 107.75476214798394, 62.13975187151412, 425.8432756224868, 168.9936454031352, 903.2791264613746, 140.81738431131055, 292.1341161414949, 109.16407808104096, 239.366533425659, 125.26365520307225, 116.87832660999906, 172.36167011867434, 199.02393856544154, 182.30477638516803, 181.1756745969286, 163.6449895749667, 127.90513492773357, 103.72339004222442, 104.88242525399565, 617.9242188178339, 338.6584556920964, 317.97030861998263, 474.4664315914298, 250.26193994171476, 174.95946583415048, 129.89141624863228, 153.48425505874533, 71.58711173705814, 88.25986722236013, 51.839038247997365, 67.570528170671, 49.95815911306458, 72.03324643523793, 43.37534933471596, 80.16228861936999, 39.61386340835979, 40.531739922135834, 38.673208103129305, 52.47234285092354, 34.91179725187407, 33.9716297636058, 33.97161931876858, 33.9713781564507, 33.03117879204212, 33.03117151348296, 38.45312369898101, 30.209975820725557, 30.209370224266166, 33.85521389822969, 291.17509947027986, 42.90364310333621, 66.80003204813907, 406.4021496996685, 78.23448768191524, 73.58305013393871, 158.80516511061387, 153.09759694606933, 130.44389847613363, 166.41073286404225, 262.63131928798555, 315.3443339246073, 136.64539738814534, 125.57048587125165, 156.75887589452017, 176.91985533404687, 99.57153401761163, 74.19783533810137, 194.12643538741747, 254.25231308387757, 95.0258583291999, 117.27856635176413, 130.12306655736478, 107.49326184056406, 157.66183671436522, 161.8380598740873, 121.0354925883993, 99.11665368679276], \"Total\": [4510.0, 2613.0, 1373.0, 1141.0, 1754.0, 1181.0, 1428.0, 1731.0, 618.0, 1018.0, 634.0, 688.0, 657.0, 587.0, 1311.0, 475.0, 560.0, 582.0, 529.0, 458.0, 429.0, 987.0, 476.0, 453.0, 565.0, 534.0, 430.0, 489.0, 358.0, 339.0, 4510.782890682048, 2613.5707638910226, 560.5894998333054, 476.64209295914725, 529.8105660175258, 430.004595428233, 353.51914862933995, 349.78815375569184, 307.8144326805177, 282.6302029803342, 1373.0499780600492, 261.176967246155, 204.27925807673628, 199.61551019118284, 194.9517636397784, 195.88465437580817, 375.9132159532218, 157.64179334668927, 151.11255188211754, 141.78505230380227, 414.1711990085365, 138.0540545894143, 137.1213069894363, 134.32305845754374, 137.12213030445432, 120.33181807611514, 137.12338103027804, 112.8698248896098, 100.74408211956134, 97.01308525280983, 177.2438694460333, 285.4731313058532, 251.95373645221173, 534.2551894642689, 1754.985913406843, 349.1059241569638, 1731.5059219979664, 441.6058556973135, 258.9470800253296, 216.60156099812338, 617.000105835756, 315.09532271281455, 1013.822244081304, 252.40437716641893, 345.29688096772156, 228.94687112732882, 228.00857089080688, 195.16806128685093, 199.86013052597096, 160.45116351441004, 140.7466451477968, 140.74667850947344, 124.79553960027975, 121.98064033174063, 136.05614418732534, 112.59763668349296, 227.06532807809995, 101.33803346488817, 101.3379632574302, 98.52313320307418, 89.14013012401074, 634.3003687277843, 87.26352959171511, 81.63394137768482, 72.25072488515207, 66.6209242623371, 65.68262555207535, 59.114508879646415, 79.75839458084583, 54.423019650210236, 52.546418890558144, 51.60811891920135, 58.17550086772996, 271.1809287544544, 587.4178703137425, 152.0206870774279, 242.0287792009863, 268.39403517602454, 353.8985903011259, 490.77315521928807, 99.45118845375053, 420.84015105997406, 143.58015777226373, 512.0959435723154, 536.4042993981832, 432.16390869230844, 261.56462398840273, 286.56143202885795, 214.58902023152115, 710.8027699337941, 300.5975614466141, 259.2787546784015, 481.3141115551927, 550.09780663687, 253.5383273752224, 1428.0771629823344, 363.9875952706655, 298.79049953730544, 287.5571324770166, 193.58430130404344, 190.76511502864804, 171.03095840838532, 129.682744998488, 124.04437220269682, 107.12925441847412, 108.06890987281936, 62.962001347020184, 59.20308747811123, 55.44417259343219, 55.44417261001138, 55.44417286779018, 54.5044428999729, 52.62462249937456, 43.22769833482693, 42.28796886714153, 38.52905455773744, 38.52905367389774, 38.52905434681989, 40.40871603750311, 52.6244199218301, 35.70987304801781, 35.709845128777566, 33.83041043067691, 75.17781887703481, 32.89068224715178, 32.890682083474665, 31.011224275938847, 31.011224028212762, 77.05425586357741, 132.49218867282022, 1181.5703258691065, 169.2028671015, 259.3402867552124, 411.49766325315613, 1018.8298586572407, 80.86569375713955, 113.71724772683433, 229.63107789013105, 143.65893747615473, 147.4966390766907, 71.38830409944904, 388.5764531943653, 987.4799316108965, 524.6018526086752, 180.4866307828516, 163.8102602413064, 1672.013111341661, 480.90374134143406, 1013.822244081304, 1311.6356971230318, 313.4316130949153, 254.0900799514717, 766.8426779601389, 710.8027699337941, 1428.0771629823344, 534.1622493680965, 310.8534739904275, 377.3934982808744, 543.5591079051517, 1731.5059219979664, 550.09780663687, 1141.2733270229721, 353.32061532326804, 358.92953721202656, 429.969192496759, 233.67941918446814, 177.5976756759232, 166.3812468854747, 120.58110164333671, 95.34428569225658, 90.6708021453863, 85.99731847886252, 85.9973195289719, 81.32383240306488, 79.45443943622284, 79.45444038400514, 71.04216737718133, 168.2615242443622, 141.14905302338533, 69.17281679659294, 63.56459294018577, 59.825806038156976, 58.89111018010217, 57.95641234384435, 66.36920352704227, 56.08701910264793, 54.21762456655375, 54.21762538193402, 52.348230825762286, 51.41353412950654, 51.41353412950653, 72.91502841981965, 90.68165557980137, 166.41086611109642, 259.01185029458725, 657.6736953701957, 159.96679486617884, 71.05960960227026, 301.39371981176726, 149.84760419198417, 137.65622829427335, 444.3969875762813, 160.05219887166214, 193.0809326664907, 121.64362407875258, 272.29244738942174, 366.67134323100817, 286.2534438871179, 160.1571652321695, 534.1622493680965, 167.99907244481142, 1672.013111341661, 1311.6356971230318, 547.8421589341988, 303.59250999053523, 1137.3439055723325, 543.5591079051517, 355.30637344944154, 113.55827267991643, 98.41630758199118, 84.22070619056632, 80.43522341705065, 74.75698628287002, 67.18600085147887, 58.66861224633653, 77.59347150804957, 52.04403652536767, 51.09766457530402, 50.15128783570718, 49.20491558013935, 260.19308983817865, 45.41942600613192, 43.52668168803162, 41.63393566566045, 40.68756303787526, 40.687562623301, 39.74118827294213, 38.79478041928028, 36.90207123865361, 35.955695795417654, 73.80744577892206, 34.06295146100984, 33.11657962021642, 30.277461759521387, 29.331088462062972, 28.38471535984363, 43.52046720662223, 105.97824495132936, 123.94886886479783, 43.51860194477292, 97.45793853032208, 220.16646008495763, 189.03008951165057, 113.48150032719909, 420.8357130029071, 100.27972531733023, 283.4269787944301, 174.85143420727385, 138.96265608841932, 141.6442356433216, 398.51842656007784, 125.7129914741579, 104.84520587098734, 581.1783193464487, 188.88818579687205, 130.42874257169737, 339.061127749883, 299.8096450723808, 665.642469790177, 231.90940120845914, 1137.3439055723325, 183.8870281579724, 766.8426779601389, 134.8808201453805, 1754.985913406843, 1731.5059219979664, 211.76992293360013, 221.13032451524282, 435.69690911482735, 651.6642366978361, 1672.013111341661, 1018.8298586572407, 167.95782997809437, 313.18766623117625, 172.62293584024277, 298.0441948736378, 184.86160793797046, 105.63379650241086, 92.4291617806829, 165.99833932133402, 123.5521905796326, 78.2813373662612, 83.93977366223598, 75.45174514771386, 72.62220810214129, 70.7358311685864, 63.19032646425794, 63.19032643241071, 54.70163229016888, 53.75844422579187, 53.75843458540259, 48.09931439722877, 46.212938345869766, 44.3265316322174, 42.44018549263339, 74.50177352652375, 56.586616200402, 36.78105424190905, 63.188442942867994, 40.55392585140805, 33.95113986883259, 31.12192614240953, 30.178738519280493, 30.178737837760323, 30.17874176648588, 458.4305395596737, 85.82800331026746, 92.41332355254723, 90.54549380058911, 582.7354864189901, 65.0856144348378, 384.60070968637194, 105.61098385870515, 489.0366231415764, 120.7612525274745, 354.5623950622137, 98.09606628550307, 98.10126679216053, 1311.6356971230318, 651.6642366978361, 478.32498994932405, 1013.822244081304, 328.8392299360353, 278.8000213453712, 145.03471614419328, 987.4799316108965, 1672.013111341661, 121.50813602293336, 174.19784139095148, 512.0959435723154, 212.76797280530434, 256.983000734574, 430.90220299600173, 437.34421033146145, 315.4067593959885, 766.8426779601389, 409.4509537518081, 326.5504298473577, 273.6977223224805, 188.75583046074087, 188.75583046074092, 172.71125273110334, 169.87985779005052, 128.3527180499611, 114.19416026510444, 82.10658488844894, 79.2751892985842, 77.38759221753317, 76.4437933694705, 76.44379252653972, 68.89340387666958, 63.23061242986785, 62.28681383690786, 61.34301519576895, 59.4554179889313, 134.95315316280664, 49.07363169546949, 48.12983405718431, 47.18603564355805, 46.24223738084385, 44.35463710594008, 42.46704257689904, 66.06168814547301, 39.635646728906885, 39.63564670925589, 39.63564265981542, 36.80412828914352, 168.8861326998975, 73.61659402870164, 198.1135060068713, 114.1620524525541, 74.53079587561058, 688.6840202464143, 118.81504057029535, 65.10162361981575, 565.7577177183439, 203.59829375222043, 1428.0771629823344, 174.27956122559857, 458.83480382270466, 137.73451922753137, 478.32498994932405, 180.88432726456432, 163.2336218115579, 310.8534739904275, 438.1791875845378, 491.0153993305571, 543.5591079051517, 435.69690911482735, 269.33581380451915, 197.50279262116408, 206.96094240302176, 618.7785035826397, 339.48154325173016, 318.7928858365497, 475.8405803504262, 251.08455880761477, 175.85324760562202, 130.71419735343923, 155.16752867846103, 72.40980423038795, 89.33534545811943, 52.66154302474626, 68.64915501515105, 50.780755725068694, 73.35260528735094, 44.198001399020356, 81.81892815637816, 40.43642771371327, 41.376888500462066, 39.4960329492152, 53.60171900808124, 35.73446061129458, 34.79406724802947, 34.7940673692879, 34.79406623378917, 33.853673917013886, 33.85367397283349, 39.49470014459497, 31.03249310461849, 31.03249197543794, 34.79480676131666, 301.907380179117, 44.19802079876833, 69.58723323801391, 453.9251497609344, 82.77763987910511, 78.03128384986643, 176.86584108012872, 172.0840031538322, 149.41133432785927, 207.81484654774596, 359.4834188704314, 479.84013562647385, 189.09553138848565, 170.34076704396034, 229.29322771831937, 286.83587818075824, 139.12835004795326, 95.92146419468001, 568.6862052490076, 1137.3439055723325, 159.02356190774898, 285.1618523732368, 385.2165525663271, 239.46721459175768, 987.4799316108965, 1672.013111341661, 565.7577177183439, 307.93774546762603], \"Category\": [\"Default\", \"Default\", \"Default\", \"Default\", \"Default\", \"Default\", \"Default\", \"Default\", \"Default\", \"Default\", \"Default\", \"Default\", \"Default\", \"Default\", \"Default\", \"Default\", \"Default\", \"Default\", \"Default\", \"Default\", \"Default\", \"Default\", \"Default\", \"Default\", \"Default\", \"Default\", \"Default\", \"Default\", \"Default\", \"Default\", \"Topic1\", \"Topic1\", \"Topic1\", \"Topic1\", \"Topic1\", \"Topic1\", \"Topic1\", \"Topic1\", \"Topic1\", \"Topic1\", \"Topic1\", \"Topic1\", \"Topic1\", \"Topic1\", \"Topic1\", \"Topic1\", \"Topic1\", \"Topic1\", \"Topic1\", \"Topic1\", \"Topic1\", \"Topic1\", \"Topic1\", \"Topic1\", \"Topic1\", \"Topic1\", \"Topic1\", \"Topic1\", \"Topic1\", \"Topic1\", \"Topic1\", \"Topic1\", \"Topic1\", \"Topic1\", \"Topic1\", \"Topic1\", \"Topic1\", \"Topic1\", \"Topic1\", \"Topic1\", \"Topic1\", \"Topic1\", \"Topic1\", \"Topic2\", \"Topic2\", \"Topic2\", \"Topic2\", \"Topic2\", \"Topic2\", \"Topic2\", \"Topic2\", \"Topic2\", \"Topic2\", \"Topic2\", \"Topic2\", \"Topic2\", \"Topic2\", \"Topic2\", \"Topic2\", \"Topic2\", \"Topic2\", \"Topic2\", \"Topic2\", \"Topic2\", \"Topic2\", \"Topic2\", \"Topic2\", \"Topic2\", \"Topic2\", \"Topic2\", \"Topic2\", \"Topic2\", \"Topic2\", \"Topic2\", \"Topic2\", \"Topic2\", \"Topic2\", \"Topic2\", \"Topic2\", \"Topic2\", \"Topic2\", \"Topic2\", \"Topic2\", \"Topic2\", \"Topic2\", \"Topic2\", \"Topic2\", \"Topic2\", \"Topic2\", \"Topic2\", \"Topic2\", \"Topic2\", \"Topic2\", \"Topic2\", \"Topic2\", \"Topic2\", \"Topic2\", \"Topic2\", \"Topic3\", \"Topic3\", \"Topic3\", \"Topic3\", \"Topic3\", \"Topic3\", \"Topic3\", \"Topic3\", \"Topic3\", \"Topic3\", \"Topic3\", \"Topic3\", \"Topic3\", \"Topic3\", \"Topic3\", \"Topic3\", \"Topic3\", \"Topic3\", \"Topic3\", \"Topic3\", \"Topic3\", \"Topic3\", \"Topic3\", \"Topic3\", \"Topic3\", \"Topic3\", \"Topic3\", \"Topic3\", \"Topic3\", \"Topic3\", \"Topic3\", \"Topic3\", \"Topic3\", \"Topic3\", \"Topic3\", \"Topic3\", \"Topic3\", \"Topic3\", \"Topic3\", \"Topic3\", \"Topic3\", \"Topic3\", \"Topic3\", \"Topic3\", \"Topic3\", \"Topic3\", \"Topic3\", \"Topic3\", \"Topic3\", \"Topic3\", \"Topic3\", \"Topic3\", \"Topic3\", \"Topic3\", \"Topic3\", \"Topic3\", \"Topic3\", \"Topic3\", \"Topic3\", \"Topic3\", \"Topic3\", \"Topic3\", \"Topic3\", \"Topic4\", \"Topic4\", \"Topic4\", \"Topic4\", \"Topic4\", \"Topic4\", \"Topic4\", \"Topic4\", \"Topic4\", \"Topic4\", \"Topic4\", \"Topic4\", \"Topic4\", \"Topic4\", \"Topic4\", \"Topic4\", \"Topic4\", \"Topic4\", \"Topic4\", \"Topic4\", \"Topic4\", \"Topic4\", \"Topic4\", \"Topic4\", \"Topic4\", \"Topic4\", \"Topic4\", \"Topic4\", \"Topic4\", \"Topic4\", \"Topic4\", \"Topic4\", \"Topic4\", \"Topic4\", \"Topic4\", \"Topic4\", \"Topic4\", \"Topic4\", \"Topic4\", \"Topic4\", \"Topic4\", \"Topic4\", \"Topic4\", \"Topic4\", \"Topic4\", \"Topic4\", \"Topic4\", \"Topic4\", \"Topic4\", \"Topic4\", \"Topic4\", \"Topic4\", \"Topic4\", \"Topic4\", \"Topic4\", \"Topic4\", \"Topic4\", \"Topic5\", \"Topic5\", \"Topic5\", \"Topic5\", \"Topic5\", \"Topic5\", \"Topic5\", \"Topic5\", \"Topic5\", \"Topic5\", \"Topic5\", \"Topic5\", \"Topic5\", \"Topic5\", \"Topic5\", \"Topic5\", \"Topic5\", \"Topic5\", \"Topic5\", \"Topic5\", \"Topic5\", \"Topic5\", \"Topic5\", \"Topic5\", \"Topic5\", \"Topic5\", \"Topic5\", \"Topic5\", \"Topic5\", \"Topic5\", \"Topic5\", \"Topic5\", \"Topic5\", \"Topic5\", \"Topic5\", \"Topic5\", \"Topic5\", \"Topic5\", \"Topic5\", \"Topic5\", \"Topic5\", \"Topic5\", \"Topic5\", \"Topic5\", \"Topic5\", \"Topic5\", \"Topic5\", \"Topic5\", \"Topic5\", \"Topic5\", \"Topic5\", \"Topic5\", \"Topic5\", \"Topic5\", \"Topic5\", \"Topic5\", \"Topic5\", \"Topic5\", \"Topic5\", \"Topic5\", \"Topic5\", \"Topic5\", \"Topic5\", \"Topic5\", \"Topic5\", \"Topic5\", \"Topic5\", \"Topic6\", \"Topic6\", \"Topic6\", \"Topic6\", \"Topic6\", \"Topic6\", \"Topic6\", \"Topic6\", \"Topic6\", \"Topic6\", \"Topic6\", \"Topic6\", \"Topic6\", \"Topic6\", \"Topic6\", \"Topic6\", \"Topic6\", \"Topic6\", \"Topic6\", \"Topic6\", \"Topic6\", \"Topic6\", \"Topic6\", \"Topic6\", \"Topic6\", \"Topic6\", \"Topic6\", \"Topic6\", \"Topic6\", \"Topic6\", \"Topic6\", \"Topic6\", \"Topic6\", \"Topic6\", \"Topic6\", \"Topic6\", \"Topic6\", \"Topic6\", \"Topic6\", \"Topic6\", \"Topic6\", \"Topic6\", \"Topic6\", \"Topic6\", \"Topic6\", \"Topic6\", \"Topic6\", \"Topic6\", \"Topic6\", \"Topic6\", \"Topic6\", \"Topic6\", \"Topic6\", \"Topic6\", \"Topic6\", \"Topic6\", \"Topic6\", \"Topic6\", \"Topic6\", \"Topic6\", \"Topic6\", \"Topic6\", \"Topic7\", \"Topic7\", \"Topic7\", \"Topic7\", \"Topic7\", \"Topic7\", \"Topic7\", \"Topic7\", \"Topic7\", \"Topic7\", \"Topic7\", \"Topic7\", \"Topic7\", \"Topic7\", \"Topic7\", \"Topic7\", \"Topic7\", \"Topic7\", \"Topic7\", \"Topic7\", \"Topic7\", \"Topic7\", \"Topic7\", \"Topic7\", \"Topic7\", \"Topic7\", \"Topic7\", \"Topic7\", \"Topic7\", \"Topic7\", \"Topic7\", \"Topic7\", \"Topic7\", \"Topic7\", \"Topic7\", \"Topic7\", \"Topic7\", \"Topic7\", \"Topic7\", \"Topic7\", \"Topic7\", \"Topic7\", \"Topic7\", \"Topic7\", \"Topic7\", \"Topic7\", \"Topic7\", \"Topic7\", \"Topic7\", \"Topic7\", \"Topic7\", \"Topic7\", \"Topic7\", \"Topic7\", \"Topic7\", \"Topic8\", \"Topic8\", \"Topic8\", \"Topic8\", \"Topic8\", \"Topic8\", \"Topic8\", \"Topic8\", \"Topic8\", \"Topic8\", \"Topic8\", \"Topic8\", \"Topic8\", \"Topic8\", \"Topic8\", \"Topic8\", \"Topic8\", \"Topic8\", \"Topic8\", \"Topic8\", \"Topic8\", \"Topic8\", \"Topic8\", \"Topic8\", \"Topic8\", \"Topic8\", \"Topic8\", \"Topic8\", \"Topic8\", \"Topic8\", \"Topic8\", \"Topic8\", \"Topic8\", \"Topic8\", \"Topic8\", \"Topic8\", \"Topic8\", \"Topic8\", \"Topic8\", \"Topic8\", \"Topic8\", \"Topic8\", \"Topic8\", \"Topic8\", \"Topic8\", \"Topic8\", \"Topic8\", \"Topic8\", \"Topic8\", \"Topic8\", \"Topic8\", \"Topic8\", \"Topic8\", \"Topic8\", \"Topic8\", \"Topic8\", \"Topic8\", \"Topic8\"], \"logprob\": [30.0, 29.0, 28.0, 27.0, 26.0, 25.0, 24.0, 23.0, 22.0, 21.0, 20.0, 19.0, 18.0, 17.0, 16.0, 15.0, 14.0, 13.0, 12.0, 11.0, 10.0, 9.0, 8.0, 7.0, 6.0, 5.0, 4.0, 3.0, 2.0, 1.0, -2.4712, -3.0171, -4.5577, -4.7202, -4.6146, -4.8233, -5.0196, -5.0302, -5.1584, -5.244, -3.6634, -5.3232, -5.5698, -5.5929, -5.6167, -5.6119, -4.9607, -5.8301, -5.8727, -5.9367, -4.8648, -5.9635, -5.9704, -5.9911, -5.9709, -6.1018, -5.9714, -6.1663, -6.2808, -6.3189, -5.718, -5.2533, -5.397, -4.7037, -3.6527, -5.1408, -3.7669, -5.0347, -5.4982, -5.6706, -5.1496, -5.6529, -5.5469, -5.2054, -4.8921, -5.3032, -5.3074, -5.4635, -5.4402, -5.6605, -5.792, -5.7921, -5.9131, -5.936, -5.827, -6.0166, -5.3154, -6.1228, -6.123, -6.1512, -6.2522, -4.29, -6.2737, -6.3422, -6.4644, -6.5465, -6.5609, -6.6677, -6.3687, -6.7516, -6.7872, -6.8055, -6.686, -5.1511, -4.3963, -5.739, -5.3077, -5.2087, -4.9456, -4.6625, -6.1691, -4.9046, -5.8615, -4.8137, -4.7829, -5.0048, -5.4214, -5.403, -5.6202, -4.8524, -5.4247, -5.5645, -5.2933, -5.2685, -5.6017, -5.055, -5.5269, -5.6288, -4.995, -5.3921, -5.4068, -5.5174, -5.7948, -5.8395, -5.9872, -5.9785, -6.5241, -6.5865, -6.6531, -6.6531, -6.6531, -6.6704, -6.7074, -6.9063, -6.9287, -7.0237, -7.0237, -7.0237, -6.9762, -6.7133, -7.1014, -7.1015, -7.1568, -6.3585, -7.1857, -7.1857, -7.2461, -7.2461, -6.352, -5.8229, -3.6859, -5.6106, -5.2482, -4.8441, -4.0329, -6.3619, -6.0594, -5.4682, -5.8766, -5.8705, -6.4927, -5.1357, -4.3978, -4.9427, -5.776, -5.8607, -4.4159, -5.4232, -5.0359, -4.9182, -5.6809, -5.7937, -5.3176, -5.3656, -5.2085, -5.575, -5.7281, -5.7231, -5.7058, -5.6291, -5.7742, -3.5617, -4.7353, -4.7197, -4.5401, -5.1499, -5.4256, -5.491, -5.8149, -6.0515, -6.1022, -6.1557, -6.1557, -6.2121, -6.2356, -6.2356, -6.3487, -5.4865, -5.6626, -6.3758, -6.4613, -6.5228, -6.5387, -6.555, -6.4197, -6.5882, -6.6227, -6.6227, -6.6583, -6.6766, -6.6766, -6.3304, -6.1156, -5.5353, -5.1116, -4.2853, -5.6173, -6.3688, -5.1518, -5.8261, -5.894, -5.0833, -5.8138, -5.7172, -6.0364, -5.5741, -5.4096, -5.5489, -5.9039, -5.3506, -5.8836, -4.9616, -5.0615, -5.4462, -5.6678, -5.219, -5.6812, -5.8437, -5.8401, -5.9844, -6.1416, -6.188, -6.262, -6.37, -6.5076, -6.2292, -6.629, -6.6477, -6.6667, -6.686, -5.021, -6.7675, -6.8109, -6.8562, -6.8797, -6.8797, -6.9037, -6.9285, -6.9794, -7.006, -6.2876, -7.0614, -7.0903, -7.1823, -7.215, -7.2487, -6.8228, -5.9329, -5.7805, -6.8251, -6.0383, -5.2839, -5.4299, -5.9483, -4.758, -6.0732, -5.1416, -5.5801, -5.8098, -5.8276, -4.965, -5.936, -6.0868, -4.6992, -5.6313, -5.94, -5.2175, -5.3156, -4.8235, -5.6002, -4.6576, -5.7534, -5.0521, -5.975, -4.8644, -4.8892, -5.7921, -5.7829, -5.5996, -5.4857, -5.4273, -5.5602, -5.9027, -5.8574, -5.9018, -4.845, -5.3243, -5.8873, -6.0219, -5.4371, -5.733, -6.1897, -6.1202, -6.227, -6.2656, -6.2922, -6.4064, -6.4064, -6.5527, -6.5704, -6.5704, -6.6834, -6.7241, -6.7667, -6.8109, -6.2485, -6.5241, -6.9571, -6.4172, -6.862, -7.04, -7.1283, -7.1599, -7.1599, -7.1601, -4.4434, -6.1256, -6.0702, -6.0967, -4.3217, -6.4186, -4.756, -5.9646, -4.5569, -5.8611, -4.9915, -6.1031, -6.1179, -4.1915, -4.7939, -5.0767, -4.6059, -5.3416, -5.5247, -5.9144, -5.0329, -4.9349, -6.0397, -5.9361, -5.6037, -5.908, -5.9061, -5.8053, -5.8688, -5.9386, -5.8846, -5.9717, -4.7531, -4.9301, -5.303, -5.303, -5.3923, -5.4089, -5.6908, -5.8107, -6.1412, -6.1766, -6.201, -6.2134, -6.2134, -6.3186, -6.4054, -6.4207, -6.4361, -6.4678, -5.6482, -6.6627, -6.6825, -6.7026, -6.7232, -6.7656, -6.81, -6.3687, -6.8804, -6.8804, -6.8804, -6.9569, -5.4404, -6.2729, -5.3263, -5.8608, -6.275, -4.2395, -5.8593, -6.4098, -4.4851, -5.4093, -3.7331, -5.5917, -4.8619, -5.8463, -5.0611, -5.7087, -5.778, -5.3895, -5.2457, -5.3335, -5.3397, -5.4414, -5.6878, -5.8974, -5.8863, -4.0758, -4.6772, -4.7402, -4.34, -4.9797, -5.3376, -5.6355, -5.4686, -6.2313, -6.0219, -6.554, -6.289, -6.591, -6.2251, -6.7323, -6.1181, -6.823, -6.8001, -6.847, -6.5419, -6.9494, -6.9767, -6.9767, -6.9767, -7.0047, -7.0047, -6.8527, -7.094, -7.094, -6.9801, -4.8283, -6.7432, -6.3005, -4.4948, -6.1425, -6.2038, -5.4345, -5.4711, -5.6312, -5.3877, -4.9314, -4.7485, -5.5848, -5.6693, -5.4475, -5.3265, -5.9013, -6.1955, -5.2337, -4.9639, -5.948, -5.7376, -5.6337, -5.8248, -5.4417, -5.4156, -5.7061, -5.9059], \"loglift\": [30.0, 29.0, 28.0, 27.0, 26.0, 25.0, 24.0, 23.0, 22.0, 21.0, 20.0, 19.0, 18.0, 17.0, 16.0, 15.0, 14.0, 13.0, 12.0, 11.0, 10.0, 9.0, 8.0, 7.0, 6.0, 5.0, 4.0, 3.0, 2.0, 1.0, 1.8288, 1.8286, 1.8275, 1.8272, 1.8271, 1.827, 1.8266, 1.8266, 1.8263, 1.826, 1.826, 1.8258, 1.8249, 1.8248, 1.8247, 1.8247, 1.8241, 1.8237, 1.8235, 1.8231, 1.823, 1.823, 1.8229, 1.8228, 1.8224, 1.8221, 1.8219, 1.8216, 1.8207, 1.8204, 1.8186, 1.8067, 1.7879, 1.7296, 1.5912, 1.718, 1.4906, 1.5891, 1.6593, 1.6655, 1.1397, 1.3084, 0.2457, 1.9778, 1.9776, 1.9774, 1.9774, 1.9768, 1.9764, 1.9757, 1.9752, 1.9751, 1.9744, 1.9743, 1.9741, 1.9737, 1.9736, 1.9729, 1.9727, 1.9726, 1.9718, 1.9716, 1.9716, 1.9697, 1.9696, 1.9686, 1.9684, 1.967, 1.9665, 1.9658, 1.9653, 1.965, 1.9647, 1.9603, 1.9421, 1.9512, 1.9174, 1.913, 1.8995, 1.8557, 1.9454, 1.7673, 1.8858, 1.662, 1.6463, 1.6406, 1.726, 1.6532, 1.7252, 1.2954, 1.5837, 1.5918, 1.2443, 1.1356, 1.5769, 0.3951, 1.2901, 1.3856, 2.0577, 2.0564, 2.0563, 2.0549, 2.0543, 2.054, 2.0529, 2.0529, 2.0475, 2.0466, 2.0457, 2.0457, 2.0457, 2.0454, 2.0436, 2.0414, 2.041, 2.0391, 2.039, 2.039, 2.0389, 2.0376, 2.0373, 2.0372, 2.036, 2.0358, 2.0353, 2.0353, 2.0338, 2.0338, 2.0176, 2.0048, 1.9536, 1.9724, 1.9078, 1.8502, 1.7549, 1.9595, 1.921, 1.8095, 1.8702, 1.8499, 1.9534, 1.616, 1.4212, 1.5088, 1.7425, 1.7548, 0.8764, 1.1153, 0.7567, 0.6169, 1.2857, 1.3828, 0.7542, 0.7822, 0.2416, 0.8585, 1.2467, 1.0577, 0.7102, -0.3717, 0.6298, 2.1125, 2.1115, 2.1113, 2.1104, 2.1103, 2.1091, 2.1088, 2.1069, 2.1051, 2.1047, 2.1042, 2.1042, 2.1036, 2.1034, 2.1034, 2.1021, 2.1021, 2.1018, 2.1017, 2.1008, 2.0999, 2.0997, 2.0995, 2.0993, 2.099, 2.0985, 2.0985, 2.0979, 2.0977, 2.0977, 2.0945, 2.0912, 2.0644, 2.0457, 1.9401, 2.0219, 2.0818, 1.8539, 1.8784, 1.8954, 1.5341, 1.8248, 1.7338, 1.8767, 1.5331, 1.4001, 1.5084, 1.7341, 1.0829, 1.7066, 0.3307, 0.4737, 0.962, 1.3306, 0.4587, 0.7348, 0.9975, 2.1417, 2.1406, 2.1391, 2.1387, 2.1379, 2.1367, 2.1346, 2.1335, 2.133, 2.1327, 2.1324, 2.1321, 2.1317, 2.1307, 2.1299, 2.129, 2.1286, 2.1286, 2.1281, 2.1274, 2.1264, 2.1258, 2.1251, 2.1245, 2.1238, 2.1214, 2.1205, 2.1196, 2.1182, 2.118, 2.1137, 2.1158, 2.0965, 2.0358, 2.0424, 2.0342, 1.9139, 2.033, 1.9256, 1.9701, 1.9702, 1.9332, 1.7614, 1.9441, 1.9749, 1.6499, 1.8417, 1.9033, 1.6705, 1.6954, 1.3899, 1.6676, 1.0201, 1.7465, 1.0198, 1.8347, 0.3796, 0.3682, 1.5666, 1.5325, 1.0376, 0.7489, -0.135, 0.2275, 1.6878, 1.11, 1.6612, 2.1719, 2.1702, 2.1669, 2.1658, 2.1651, 2.1645, 2.1641, 2.1639, 2.1637, 2.1633, 2.163, 2.1616, 2.1616, 2.1596, 2.1593, 2.1592, 2.1575, 2.1567, 2.1559, 2.1551, 2.1548, 2.1543, 2.1521, 2.1508, 2.1495, 2.1492, 2.1479, 2.1471, 2.1471, 2.1469, 2.1429, 2.1362, 2.1177, 2.1116, 2.0248, 2.1199, 2.006, 2.0898, 1.9648, 2.0593, 1.8518, 2.0251, 2.0103, 1.3436, 1.4407, 1.4671, 1.1868, 1.5769, 1.559, 1.8228, 0.7861, 0.3575, 1.8745, 1.6179, 0.872, 1.4459, 1.2591, 0.843, 0.7646, 1.0217, 0.1873, 0.7276, 2.1725, 2.172, 2.1707, 2.1707, 2.1702, 2.1702, 2.1686, 2.1656, 2.165, 2.1646, 2.1643, 2.1642, 2.1642, 2.163, 2.1619, 2.1617, 2.1615, 2.1611, 2.161, 2.1581, 2.1578, 2.1574, 2.1571, 2.1563, 2.1555, 2.1549, 2.1541, 2.1541, 2.154, 2.1516, 2.1445, 2.1424, 2.099, 2.1157, 2.1279, 1.9398, 2.0773, 2.1285, 1.8909, 1.9887, 1.717, 1.9618, 1.7235, 1.9425, 1.4827, 1.8076, 1.841, 1.5853, 1.3858, 1.1842, 1.0763, 1.1958, 1.4303, 1.531, 1.4953, 2.2106, 2.2095, 2.2094, 2.2091, 2.2087, 2.2069, 2.2057, 2.2011, 2.2005, 2.1999, 2.1962, 2.1961, 2.1956, 2.1938, 2.1932, 2.1915, 2.1914, 2.1913, 2.1909, 2.1907, 2.1887, 2.188, 2.188, 2.188, 2.1874, 2.1874, 2.1852, 2.1851, 2.1851, 2.1846, 2.1758, 2.1822, 2.1711, 2.1014, 2.1555, 2.1533, 2.1043, 2.0951, 2.0762, 1.9898, 1.898, 1.7922, 1.8871, 1.907, 1.8317, 1.7288, 1.8774, 1.9552, 1.1371, 0.7138, 1.6971, 1.3235, 1.1266, 1.411, 0.3773, -0.1232, 0.6699, 1.0784]}, \"token.table\": {\"Topic\": [5, 7, 3, 2, 3, 5, 7, 1, 4, 7, 2, 7, 1, 2, 3, 1, 2, 2, 3, 7, 1, 3, 7, 1, 5, 1, 3, 4, 5, 4, 6, 8, 1, 2, 5, 2, 3, 8, 4, 1, 5, 3, 5, 3, 2, 3, 4, 6, 7, 8, 8, 1, 2, 3, 4, 5, 7, 8, 5, 7, 8, 6, 3, 8, 6, 7, 4, 6, 7, 5, 1, 2, 3, 5, 6, 7, 8, 1, 3, 5, 6, 8, 1, 3, 4, 6, 1, 2, 3, 4, 5, 7, 8, 2, 5, 6, 4, 2, 3, 4, 8, 2, 4, 8, 1, 3, 4, 5, 8, 2, 2, 3, 4, 5, 6, 7, 8, 1, 2, 2, 3, 6, 7, 8, 1, 2, 3, 4, 6, 7, 5, 1, 2, 5, 8, 6, 8, 1, 2, 3, 5, 7, 8, 2, 6, 8, 5, 1, 2, 5, 6, 7, 1, 3, 4, 6, 2, 3, 4, 2, 3, 5, 4, 7, 2, 3, 4, 5, 1, 6, 6, 3, 6, 1, 2, 3, 4, 5, 6, 7, 8, 1, 2, 3, 4, 5, 6, 7, 8, 8, 8, 5, 7, 3, 3, 4, 1, 2, 3, 4, 5, 6, 7, 1, 2, 5, 8, 6, 8, 4, 8, 2, 1, 7, 2, 3, 4, 5, 7, 8, 1, 2, 3, 4, 6, 8, 2, 3, 7, 2, 3, 3, 4, 5, 6, 7, 8, 8, 1, 2, 3, 4, 5, 6, 4, 8, 6, 2, 8, 6, 7, 2, 3, 4, 5, 6, 4, 6, 8, 5, 7, 8, 3, 3, 8, 4, 7, 8, 8, 7, 4, 8, 5, 6, 8, 1, 3, 4, 6, 7, 8, 6, 8, 1, 3, 8, 6, 7, 2, 4, 5, 7, 8, 7, 2, 4, 5, 1, 2, 3, 4, 5, 6, 7, 8, 5, 7, 2, 3, 6, 5, 6, 2, 4, 6, 8, 1, 3, 4, 5, 6, 7, 8, 3, 6, 6, 5, 6, 7, 5, 7, 8, 1, 2, 3, 5, 6, 2, 2, 3, 5, 7, 8, 2, 3, 4, 5, 6, 7, 2, 8, 1, 2, 3, 4, 7, 1, 5, 7, 8, 2, 8, 3, 8, 4, 6, 7, 4, 1, 2, 3, 4, 6, 7, 8, 6, 4, 7, 4, 3, 4, 6, 8, 5, 3, 5, 8, 1, 4, 4, 6, 7, 5, 6, 7, 8, 2, 3, 5, 7, 7, 3, 5, 6, 3, 3, 2, 5, 3, 3, 2, 1, 3, 5, 8, 3, 7, 8, 7, 4, 7, 5, 1, 5, 4, 8, 2, 4, 1, 2, 3, 5, 7, 2, 3, 4, 5, 7, 8, 2, 3, 7, 2, 1, 5, 1, 1, 1, 1, 2, 3, 5, 6, 8, 1, 5, 8, 5, 7, 5, 1, 5, 2, 1, 2, 3, 4, 5, 6, 7, 6, 4, 2, 4, 1, 4, 5, 7, 8, 6, 7, 2, 6, 7, 5, 8, 1, 2, 5, 2, 2, 3, 5, 7, 4, 5, 1, 2, 4, 7, 5, 6, 8, 5, 8, 6, 1, 1, 3, 5, 6, 5, 6, 1, 2, 3, 4, 5, 7, 8, 3, 3, 4, 1, 3, 4, 5, 6, 7, 8, 1, 2, 5, 7, 1, 2, 3, 7, 8, 3, 3, 2, 4, 2, 3, 4, 7, 2, 3, 4, 7, 1, 1, 5, 6, 2, 5, 3, 7, 2, 1, 2, 5, 8, 5, 1, 5, 3, 3, 5, 4, 4, 5, 5, 7, 7, 5, 3, 1, 3, 4, 5, 7, 1, 3, 4, 5, 3, 5, 4, 2, 2, 5, 6, 6, 1, 2, 3, 4, 5, 6, 7, 1, 5, 8, 1, 2, 3, 5, 6, 7, 1, 2, 3, 5, 6, 7, 8, 3, 4, 7, 8, 1, 1, 2, 3, 5, 6, 8, 4, 6, 7, 1, 2, 4, 5, 6, 7, 8, 1, 3, 4, 5, 6, 1, 3, 5, 6, 7, 2, 4, 5, 6, 4, 3, 5, 6, 2, 3, 5, 6, 3, 4, 5, 7, 4, 2, 6, 2, 3, 5, 3, 5, 8, 3, 6, 6, 2, 7, 4, 5, 2, 3, 4, 5, 6, 7, 5, 1, 8, 1, 6, 1, 1, 5, 6, 7, 6, 5, 7, 1, 4, 6, 1, 2, 3, 4, 7, 8, 4, 1, 2, 3, 5, 6, 8, 7, 8, 1, 6, 7, 8, 1, 2, 3, 4, 5, 6, 7, 8, 1, 6, 3, 5, 7, 8, 1, 5, 6, 7, 8, 2, 6, 2, 4, 8, 1, 4, 7, 3, 4, 7, 8, 4, 7, 8, 1, 2, 5, 7, 8, 6, 4, 1, 2, 3, 4, 6, 7, 8, 3, 1, 2, 3, 4, 5, 6, 7, 1, 2, 3, 4, 5, 6, 7, 8, 1, 2, 3, 4, 7, 8, 7, 5, 6, 1, 2, 3, 4, 5, 6, 7, 1, 2, 3, 4, 6, 7, 8, 3, 1, 2, 3, 6, 7, 8, 4, 5, 4, 5, 6, 7, 8, 2, 4, 5, 6, 2, 4, 4, 5, 6, 4, 5, 2, 1, 7, 2, 7, 3, 7, 8, 5, 6, 1, 3, 4, 8, 2, 5, 6, 5, 7, 1, 2, 3, 4, 5, 6, 8, 1, 2, 3, 4, 5, 7, 8, 1, 5, 7, 7, 6, 7, 7, 1, 2, 3, 4, 5, 7, 8, 3, 4, 5, 6, 1, 2, 4, 2, 4, 5, 6, 8, 2, 3, 5, 1, 2, 5, 6, 7, 8, 1, 2, 1, 1, 8, 3, 2, 5, 8, 2, 3, 4, 6, 7, 2, 7, 2, 3, 5, 6, 7, 1, 5, 8, 1, 3, 4, 5, 6, 1, 3, 4, 5, 6, 7, 2, 6, 2, 4, 1, 4, 7, 8, 3, 5, 1, 3, 5, 7, 1, 6, 4, 5, 1, 5, 6, 1, 2, 3, 4, 5, 6, 8, 8, 4, 4, 7, 3, 3, 7, 8, 5, 4, 7, 8, 2, 4, 7, 2, 7, 8, 6, 6, 8, 3, 3, 3, 2, 3, 6, 8, 7, 4, 5, 8, 7, 1, 7], \"Freq\": [0.9831013954501228, 0.9920045089064073, 0.9729199218046348, 0.2649789141707442, 0.10151789568879162, 0.6073867318329397, 0.02580963449715041, 0.025895876568177323, 0.6836511413998814, 0.29003381756358604, 0.007409978770882117, 0.9855271765273215, 0.056031587393191355, 0.04202369054489352, 0.8965053982910617, 0.5934712022699121, 0.4030526346966783, 0.961836587807979, 0.03404731284276032, 0.003404731284276032, 0.08991545591654393, 0.8092391032488954, 0.0972058982881556, 0.9059341107857783, 0.09358823458530768, 0.9895572308604577, 0.03125648672390279, 0.9126894123379614, 0.05001037875824446, 0.9814553939377354, 0.011027588695929612, 0.9892070655498268, 0.09537870536784543, 0.05722722322070726, 0.8393326072370398, 0.013301795861298635, 0.9710310978748004, 0.972894670322199, 0.9942804910360098, 0.9873402140618662, 0.005641944080353522, 0.9027313884085104, 0.08656328381999415, 0.971599266624894, 0.003506780418480171, 0.22443394678273093, 0.021040682510881023, 0.2174203859457706, 0.12273731464680597, 0.41029330896217997, 0.984624968377868, 0.9969165212132397, 0.9882166036674688, 0.15421802910126814, 0.00833610968114963, 0.00833610968114963, 0.1708902484635674, 0.6564686373905333, 0.006624548226722483, 0.02649819290688993, 0.9638717669881213, 0.9719612815372635, 0.028740904141989165, 0.962820288756637, 0.8563034500845603, 0.1325231529892772, 0.11246601460373136, 0.8097553051468658, 0.07565895527887383, 0.9795132125845133, 0.04658322516484891, 0.001012678807931498, 0.5276056589323105, 0.012152145695177977, 0.24911898675114855, 0.004050715231725992, 0.1600032516531767, 0.046271252916931606, 0.8598741167063123, 0.030847501944621068, 0.0038559377430776335, 0.061695003889242137, 0.1391531494541901, 0.5756746730844577, 0.14868418708803874, 0.13534073440065067, 0.031030835657249713, 0.2628494314496446, 0.18435967066954242, 0.31578438639436474, 0.0529349549447201, 0.027380149109337983, 0.12594868590295472, 0.990491350975262, 0.9799393629881344, 0.9858916262046886, 0.9861964912327252, 0.9946951122919288, 0.9862686857019908, 0.1204727879646793, 0.8700812464115728, 0.07497553975888954, 0.7497553975888954, 0.17494292610407558, 0.09486463198714656, 0.03018420108681936, 0.10348868944052353, 0.6166201079164527, 0.1509210054340968, 0.9811466101847266, 0.2412610944022596, 0.13619577909804978, 0.04280438771652993, 0.04280438771652993, 0.40080472134568934, 0.1206305472011298, 0.015565231896919975, 0.2236833923199452, 0.7735717317731438, 0.9956963376151744, 0.9907449214571615, 0.7248371614674625, 0.16922268361108073, 0.1071743662870178, 0.019720884221975175, 0.666565886702761, 0.1814321348421716, 0.00788835368879007, 0.11043695164306098, 0.011832530533185105, 0.9578081620689468, 0.03925105023623402, 0.2529512126335081, 0.02616736682415601, 0.6847127652320824, 0.9184650730058, 0.0757496967427464, 0.0018642654451538631, 0.7158779309390834, 0.03728530890307726, 0.013049858116077041, 0.14354843927684746, 0.08762047592223156, 0.10690239733066635, 0.289265310424156, 0.5973957497890179, 0.9847735830032681, 0.5024310321310079, 0.1426255833146087, 0.12317664013534387, 0.0923824801015079, 0.1393840927847312, 0.9926141357000178, 0.8988038855993136, 0.09817443571517925, 0.00338532536948894, 0.9797938848794336, 0.0008762142918108096, 0.9988842926643229, 0.04528568861381377, 0.9434518461211201, 0.9945891439277287, 0.9966346649884438, 0.9865225804976256, 0.6719948060386213, 0.003326706960587234, 0.12974157146290213, 0.19294900371405957, 0.013422499259618095, 0.9798424459521209, 0.985891803002602, 0.043283802012872706, 0.9414226937799813, 0.06858083963684578, 0.07825249650870865, 0.03868662748745146, 0.19079541283584017, 0.3235608844405032, 0.05451297509595434, 0.021981038345142877, 0.22332734958665162, 0.04126761897496895, 0.09509494807275454, 0.306217694422958, 0.168060883071975, 0.10167384385137278, 0.16267815016219644, 0.028109827417732474, 0.09688919237601405, 0.979446713376095, 0.9956805037603058, 0.027167787730307653, 0.9644564644259216, 0.991988831483957, 0.0070847092387812316, 0.9847745841905912, 0.16234352329984975, 0.12575906734495404, 0.10518031087032519, 0.05030362693798161, 0.1028937823731442, 0.2446585491983651, 0.21036062174065037, 0.004404018915895633, 0.9909042560765174, 0.9813496197483664, 0.9747834171996063, 0.9737532736656601, 0.9951479565078288, 0.05126149157940386, 0.9483375942189713, 0.9906797410991771, 0.9973541439450209, 0.9948207056357563, 0.005294137353171401, 0.09000033500391381, 0.09000033500391381, 0.7358850920908248, 0.07411792294439962, 0.9945361914168503, 0.1762810553880414, 0.1469008794900345, 0.04039774185975949, 0.5582233420621311, 0.06243287378326466, 0.01469008794900345, 0.20447074399691392, 0.16245620755919188, 0.6323187733877167, 0.9900672157255388, 0.007882700762146009, 0.1278015971244548, 0.12323725437000999, 0.11639074023834275, 0.17572719604612533, 0.454152104067259, 0.002282171377222407, 0.977178084919795, 0.12018463909794924, 0.024036927819589847, 0.12318925507539798, 0.15924464680478276, 0.468720092482002, 0.1051615592107056, 0.9874507568652209, 0.013714593845350289, 0.9609414467862384, 0.980894936903378, 0.018437874753822896, 0.987961690884957, 0.0060241566517375425, 0.9211678399809744, 0.022605345766404283, 0.0028256682208005353, 0.0480363597536091, 0.005651336441601071, 0.09652861309482084, 0.7032798954051233, 0.1930572261896417, 0.02261601208900371, 0.07915604231151298, 0.8989864805378974, 0.9847209217235958, 0.022625447518407137, 0.9728942432915069, 0.08416442861106993, 0.9089758289995552, 0.9701181410275339, 0.9850524397563846, 0.9839627511756154, 0.9834977303603588, 0.9943404869721224, 0.02835762210014762, 0.9685218624973494, 0.9667286446777676, 0.0017675410669304183, 0.015907869602373764, 0.005302623200791255, 0.008837705334652092, 0.7529724945123583, 0.21387246909858063, 0.9940000594185177, 0.9874409424902747, 0.9918225182208722, 0.9729199266462712, 0.9985815333372245, 0.9964965099418208, 0.9959957238995165, 0.04794753976095692, 0.1612780882868551, 0.10679224764940405, 0.6363946186454282, 0.045768106135458876, 0.9983144108932425, 0.9652976650414239, 0.030165552032544497, 0.9864463900741491, 0.10198946178869216, 0.024618145948994658, 0.1494673146903247, 0.0861635108214813, 0.03516877992713523, 0.14595043669761118, 0.11429853476318948, 0.3411371652932117, 0.8875173891667922, 0.09972105496256092, 0.9351921693616746, 0.05216211303212528, 0.011177595649741131, 0.9718975818792138, 0.0188717977063925, 0.09864882019818114, 0.7891905615854491, 0.008220735016515095, 0.09864882019818114, 0.018245998207595548, 0.10643498954430736, 0.03345099671392517, 0.06994299312911627, 0.5504209459291324, 0.08818899133671182, 0.1338039868557007, 0.1534058531720141, 0.8450322420492303, 0.9811628372432729, 0.020387096572740935, 0.8460645077687488, 0.13251612772281607, 0.050822408494680324, 0.7913775037028793, 0.15246722548404096, 0.18647892730799898, 0.08215505189093661, 0.2712420760843621, 0.3234040137928933, 0.13692508648489435, 0.9958642320697966, 0.7188685460618962, 0.038386184498450764, 0.01046895940866839, 0.19193092249225382, 0.038386184498450764, 0.7103786175225879, 0.11338290637982675, 0.004627873729788847, 0.04396480043299404, 0.0023139368648944234, 0.12495259070429886, 0.9922374384954551, 0.9987418703491924, 0.026730340403386028, 0.503655887600642, 0.27855828420370704, 0.06752928101908048, 0.12239682184708339, 0.015373198429242344, 0.98388469947151, 0.9805377113619961, 0.9747834188068771, 0.9855205307689608, 0.9667286798541622, 0.870580338330142, 0.12311237107698977, 0.9806190608800494, 0.9387546130920429, 0.05522085959364958, 0.995180823235008, 0.02025216248446135, 0.02025216248446135, 0.004500480552102522, 0.560309828736764, 0.19577090401645972, 0.004500480552102522, 0.19352066374040844, 0.9871734670284239, 0.9775419049379583, 0.9839143960441231, 0.9884028998295009, 0.0033179191677402604, 0.7697572469157404, 0.0033179191677402604, 0.21898266507085717, 0.9898740395980425, 0.06168406286325993, 0.8900129070270361, 0.03524803592186281, 0.9985314837078761, 0.9960179889031806, 0.006271886401581974, 0.49338839692444864, 0.49966028332603063, 0.7912826542782021, 0.20435528008386, 0.004752448374043256, 0.9771781134043472, 0.15631399668763207, 0.011797282768877891, 0.6193573453660893, 0.20940176914758257, 0.9944082436333744, 0.9160601274387383, 0.005910065338314441, 0.07683084939808774, 0.9881306037039603, 0.9901089973603203, 0.995576609743807, 0.9687944991429605, 0.9695429006962237, 0.9919888317805863, 0.9896072127699258, 0.004354811244140301, 0.7795112127011139, 0.21338575096287477, 0.004354811244140301, 0.09878896171890583, 0.005811115395229755, 0.8891006554701525, 0.9941945249984079, 0.9911178076650778, 0.9781220248354147, 0.9950838220171769, 0.9984700833288043, 0.979463845642165, 0.10354129976000044, 0.894420589416174, 0.9922343406800384, 0.9977085946126061, 0.02760223685250779, 0.15306694981845229, 0.00501858851863778, 0.6775094500161003, 0.13550189000322005, 0.007264473336159255, 0.007264473336159255, 0.8063565403136773, 0.007264473336159255, 0.17434736006782214, 0.9908913281273468, 0.9940151002210645, 0.44393906308491055, 0.5533153539898885, 0.9946902500350258, 0.8457326492292475, 0.15060992383534547, 0.9997816152908855, 0.9923649139277425, 0.9951179531694978, 0.06856229478369628, 0.47785841818939834, 0.16828926901452723, 0.1662116237180516, 0.11634813660263611, 0.0020776452964756447, 0.02297867935346465, 0.9651045328455153, 0.9771573164130836, 0.9439969835948874, 0.04104334711282119, 0.9785183024620163, 0.9989484286925091, 0.9734201835265429, 0.9946948765158733, 0.08180363465747346, 0.42901461731474977, 0.23995732832858885, 0.08543935175336118, 0.0018178585479438549, 0.0763500590136419, 0.08725721030130504, 0.971985038720136, 0.9919567067989359, 0.989601215418767, 0.9974102515517482, 0.0055635389423089356, 0.022254155769235742, 0.013908847355772339, 0.2253233271635119, 0.731605370913625, 0.9953391731924155, 0.9731363045733931, 0.9936252561363341, 0.9895974761810223, 0.9923401768192751, 0.012222110733212353, 0.9777688586569883, 0.8494860293347294, 0.14311992885530767, 0.0046167718985583115, 0.9962441567265625, 0.1029445373531354, 0.0514722686765677, 0.8349945807532093, 0.005719140964063078, 0.02297769450066557, 0.9650631690279541, 0.9976637565297818, 0.015360600003463173, 0.015360600003463173, 0.9523572002147167, 0.011651208946164214, 0.9670503425316297, 0.011651208946164214, 0.04832222815052362, 0.9422834489352107, 0.9863410054691704, 0.9959287868206509, 0.09869906510420287, 0.30549710627491367, 0.11279893154766044, 0.48409541455870936, 0.9823475004249674, 0.9940127939144486, 0.12015916421448228, 0.20569619636716457, 0.21180598437807044, 0.004073192007270586, 0.0855370321526823, 0.3706604726616233, 0.002036596003635293, 0.9862687083265644, 0.0023257480243948823, 0.9977459024654045, 0.0018397263249878152, 0.25940141182328197, 0.2520425065233307, 0.03495480017476849, 0.11406303214924454, 0.33299046482279454, 0.0036794526499756303, 0.06738807776193774, 0.0061261888874488855, 0.2082904221732621, 0.7167640998315196, 0.015427411339434394, 0.6788060989351133, 0.11570558504575795, 0.18898578890807133, 0.0038568528348585985, 0.9862686911010689, 0.9801218648185757, 0.9379049910898982, 0.057844360683958485, 0.1827182255031957, 0.6408005373281088, 0.17242424096780437, 0.9958818390819578, 0.912382337730695, 0.08357700803639954, 0.9793698966647326, 0.9765252866685157, 0.9937376996138505, 0.7857685660713738, 0.21059503355803388, 0.002264462726430472, 0.9946922803968533, 0.9886035782893726, 0.9801210985246778, 0.9972519627529522, 0.9966642981580525, 0.8937115597606405, 0.08593380382313852, 0.011457840509751802, 0.005728920254875901, 0.9855058661250806, 0.9947577257575272, 0.0048289209988229475, 0.9919888268718637, 0.7386594699364786, 0.2563941961762984, 0.9970925159483908, 0.45674423090279476, 0.5381441928458671, 0.47087941778315023, 0.5265748327897594, 0.9890022344726896, 0.9907654930276905, 0.9673916686764462, 0.9922935568433767, 0.9947352672208167, 0.06476560144527944, 0.8347566408502683, 0.09355031319873697, 0.0904921074065288, 0.8283508293366867, 0.05568745071171003, 0.020882794016891262, 0.9754537287574877, 0.9831014054671526, 0.9962622749253967, 0.9983978995492923, 0.19405350977505764, 0.800911758526147, 0.003528245632273775, 0.9787647674051958, 0.12088324045021666, 0.500017040044078, 0.057694273851239763, 0.1593460896843765, 0.054946927477371205, 0.03296815648642272, 0.06868365934671401, 0.10446641141945408, 0.8947775238970632, 0.9874378343901661, 0.012761954547286508, 0.15633394320425975, 0.4594303637023143, 0.13400052274650834, 0.003190488636821627, 0.22971518185115716, 0.23201802103405283, 0.3150560496146612, 0.06349966891458288, 0.058615078998076504, 0.23446031599230602, 0.058615078998076504, 0.03419212941554463, 0.03474744491328812, 0.9343201854461917, 0.003860827212587569, 0.02702579048811298, 0.9918075165457743, 0.19477139931485513, 0.1915784255555952, 0.15645571420373608, 0.3544200872778511, 0.00319297375925992, 0.10217516029631744, 0.036036933547755286, 0.8614543162368168, 0.10296266727930081, 0.03658814187257983, 0.09287759090731804, 0.3264788044014816, 0.20545648897679444, 0.02251577961389528, 0.18575518181463607, 0.12946573277989787, 0.07301152420661744, 0.301406548647831, 0.3575692595759983, 0.14040677732041817, 0.12730214477051247, 0.712674432309247, 0.08778485714019899, 0.1686393308219612, 0.028299065788616778, 0.0023101278194789204, 0.04941958963742726, 0.14119882753550644, 0.8048333169523867, 0.9609413216890673, 0.9926017843725403, 0.15909254696330477, 0.8113719895128544, 0.02386388204449572, 0.14561764869792074, 0.5076939643792372, 0.1141327516821541, 0.23220111549127903, 0.24351080355015164, 0.6868253433465815, 0.012487733515392391, 0.05619480081926576, 0.9848685110982464, 0.7264263751143504, 0.2714335111314374, 0.038933605501445936, 0.9603622690356663, 0.9957699329286018, 0.7258155323294261, 0.0221623063306695, 0.24378536963736447, 0.9959892298519405, 0.9953568573768826, 0.9896280968727199, 0.07066656020672528, 0.9287605055741036, 0.99428050289641, 0.9662833652200364, 0.01631436447720924, 0.04894309343162772, 0.23927734566573552, 0.6688889435655788, 0.00543812149240308, 0.02175248596961232, 0.975554997094344, 0.9773249017298306, 0.017514783185122413, 0.9970503782638915, 0.0021849168259983013, 0.9954837994909446, 0.7886103184231994, 0.17037173786743975, 0.0005698051433693637, 0.040456165179224825, 0.9926334946544729, 0.9887120294737373, 0.9974507558317989, 0.9944630813259486, 0.9884029118988442, 0.9609414250854977, 0.07858612027206886, 0.004911632517004304, 0.004911632517004304, 0.004911632517004304, 0.8300658953737273, 0.07858612027206886, 0.9933478014391479, 0.11581914192769853, 0.0009815181519296486, 0.7361386139472365, 0.14624620463751764, 0.25830575242534154, 0.7396937455816599, 0.9895427203778883, 0.9905438746477246, 0.0625511719443996, 0.020850390648133203, 0.1355275392128658, 0.7714644539809286, 0.28080617634048793, 0.09979062464992547, 0.06265922943134855, 0.06730065383367066, 0.0765835026383149, 0.2645611909323606, 0.0023207122011610574, 0.1462048686731466, 0.9986528823856892, 0.9914322613095685, 0.06900319532753796, 0.782036213712097, 0.03833510851529887, 0.10733830384283684, 0.08608320718264702, 0.09325680778120093, 0.5416068451908208, 0.03228120269349263, 0.24748922065011017, 0.00809374560911143, 0.9874369643115946, 0.036055337852723995, 0.9494572301217319, 0.0060092229754539995, 0.9954936024467819, 0.040251817584329844, 0.9526263494958063, 0.1106754420200469, 0.028871854440012234, 0.05774370888002447, 0.7987879728403384, 0.14375215398663618, 0.13656454628730438, 0.7187607699331809, 0.04482722774469994, 0.8822813460661397, 0.01833841135010452, 0.02241361387234997, 0.03056401891684087, 0.9811628377377684, 0.991956706798936, 0.0259898596518639, 0.1299492982593195, 0.16336483209743022, 0.007425674186246828, 0.1299492982593195, 0.475243147919797, 0.06311823058309804, 0.9673916764042337, 0.04192089302769094, 0.034934077523075785, 0.0034934077523075782, 0.5449716093599822, 0.18165720311999406, 0.0803483783030743, 0.10480223256922734, 0.06230261872214759, 0.2647861295691272, 0.09604987052997753, 0.07009044606241603, 0.04413102159485454, 0.07268638850917218, 0.05451479138187914, 0.3374725180782994, 0.0027272379433535, 0.174543228374624, 0.087271614187312, 0.49090282980363, 0.185452180148038, 0.059999234753777, 0.9959957238995162, 0.0993696218683213, 0.8943265968148917, 0.04685557278989733, 0.5522263935952185, 0.07697701244054561, 0.06693653255699619, 0.12048575860259314, 0.033468266278498096, 0.1037516254633441, 0.0831767286493216, 0.06654138291945727, 0.38885120643557847, 0.1351621840551476, 0.04366778254089384, 0.1663534572986432, 0.11228858367658415, 0.9796786362103828, 0.9977467683018153, 0.23536456980533915, 0.11481198527089716, 0.5740599263544858, 0.05740599263544858, 0.017221797790634572, 0.4391558475901221, 0.5572084947917678, 0.36330651838213884, 0.0793428028650648, 0.0793428028650648, 0.029231558950287034, 0.4468252582401018, 0.8079077035393101, 0.009504796512227177, 0.07128597384170383, 0.10930515989061254, 0.7760988351735234, 0.2217425243352924, 0.2669022916764415, 0.7339813021102142, 0.9888041911333056, 0.6666703474615467, 0.32738275991415244, 0.9922271925937024, 0.023684597048046607, 0.9710684789699109, 0.30406172182931096, 0.6910493677938885, 0.9980625329227015, 0.006444647333864582, 0.9860310420812811, 0.9770437034542615, 0.9771449050572725, 0.47761389108222896, 0.003293888904015372, 0.4578505576581367, 0.0592900002722767, 0.9971881567915865, 0.04609313480482742, 0.9525914526331001, 0.9755113354777787, 0.013548768548302483, 0.19012063466550222, 0.0066708994619474465, 0.0033354497309737233, 0.01000634919292117, 0.6337354488850074, 0.05336719569557957, 0.1000634919292117, 0.08768006000368199, 0.17536012000736398, 0.10716451778227798, 0.16886530074783196, 0.022731867408361996, 0.11365933704180999, 0.32149355334683394, 0.16117696466992756, 0.04646543125619533, 0.7899123313553207, 0.974864689788366, 0.015137366726050379, 0.9839288371932746, 0.9941945140356191, 0.26497541811272857, 0.08214237961494586, 0.3656660769955654, 0.03444680435465471, 0.10334041306396415, 0.12453844651298243, 0.02384778763014557, 0.15205108658589628, 0.8408425088200064, 0.003041021731717926, 0.004561532597576888, 0.9926375945064746, 0.9826891026056805, 0.9830451201656037, 0.21433999960609154, 0.05792972962326798, 0.6140551340066406, 0.011585945924653597, 0.09848054035955557, 0.9735517109235267, 0.013156104201669279, 0.013156104201669279, 0.08033107251347472, 0.006885520501154976, 0.3282098105550538, 0.027542082004619904, 0.37640845406313866, 0.17902353303002938, 0.9998264401765679, 0.9919606887693517, 0.9901501762040215, 0.9949104849948668, 0.0026601884625531195, 0.9969816700005765, 0.26792439510482513, 0.6311107973580325, 0.10121588259515617, 0.05798195476242087, 0.16428220516019248, 0.22226415992261336, 0.04348646607181566, 0.5073421041711826, 0.052556868688863216, 0.9460236363995378, 0.26315225507198065, 0.1838895276406612, 0.04438712736153891, 0.3170509097252779, 0.19023054583516674, 0.9972424743395363, 0.013632780950078154, 0.9815602284056271, 0.11512342972305988, 0.23634611400098385, 0.19365133211693514, 0.01906017048395031, 0.4353342938534251, 0.2051641707550849, 0.2712507065271555, 0.08285476126647659, 0.0670729019776239, 0.37284642569914467, 0.9839627516634553, 0.2551269488172305, 0.7406911417274434, 0.9867970184674882, 0.9775418902366804, 0.045903259933299294, 0.13197187230823548, 0.8090449563244001, 0.011475814983324823, 0.9915806563074845, 0.9755122925030342, 0.0793524461568617, 0.01587048923137234, 0.8993277231110993, 0.9949915457190649, 0.9604937930575217, 0.03572084354346155, 0.9710157484146317, 0.02814538401201831, 0.008067842886818031, 0.9681411464181636, 0.02420352866045409, 0.997770220685232, 0.0015345325762654675, 0.1795403114230597, 0.0015345325762654675, 0.2470597447787403, 0.48030869637109136, 0.0905374219996626, 0.9975128496532503, 0.985330298671095, 0.986559468930771, 0.005943129330908258, 0.989885448547195, 0.3033093368646663, 0.0766989127703754, 0.6170776163798384, 0.9878997969152231, 0.9963890264659612, 0.9839628521916244, 0.9771780815142983, 0.006673446702016028, 0.7874667108378913, 0.20020340106048085, 0.9872096874614766, 0.002101544175285689, 0.9961319390854165, 0.963950619981689, 0.9811920837495153, 0.01582567877015347, 0.9691318227499122, 0.9939720947717336, 0.9894589538160794, 0.18305501853477069, 0.8067980446532486, 0.9836316367429174, 0.9621544121332054, 0.9793405095293963, 0.10576664532019625, 0.169226632512314, 0.7245015204433444, 0.978151138838935, 0.9918165630743715, 0.9870320839674446], \"Term\": [\"11km\", \"49\", \"abe\", \"afd\", \"afd\", \"afd\", \"afd\", \"afghanistan\", \"afghanistan\", \"afghanistan\", \"aiwanger\", \"aiwanger\", \"aktion\", \"aktion\", \"aktion\", \"akw\", \"akw\", \"ampel\", \"ampel\", \"ampel\", \"analyse\", \"analyse\", \"analyse\", \"angriff\", \"angriff\", \"angriffskrieg\", \"anklage\", \"anklage\", \"anklage\", \"anleger\", \"anleger\", \"annalena\", \"anti\", \"anti\", \"anti\", \"antisemitismus\", \"antisemitismus\", \"antworten\", \"arabien\", \"armee\", \"armee\", \"attentat\", \"attentat\", \"auge\", \"auto\", \"auto\", \"auto\", \"auto\", \"auto\", \"auto\", \"au\\u00dfenministerin\", \"bachmut\", \"baden\", \"baerbock\", \"baerbock\", \"baerbock\", \"baerbock\", \"baerbock\", \"bahn\", \"bahn\", \"bahn\", \"ballon\", \"basketball\", \"basketball\", \"bayer\", \"bayer\", \"bayern\", \"bayern\", \"bayern\", \"beantragen\", \"berlin\", \"berlin\", \"berlin\", \"berlin\", \"berlin\", \"berlin\", \"berlin\", \"besuch\", \"besuch\", \"besuch\", \"besuch\", \"besuch\", \"biden\", \"biden\", \"biden\", \"biden\", \"bleiben\", \"bleiben\", \"bleiben\", \"bleiben\", \"bleiben\", \"bleiben\", \"bleiben\", \"blockade\", \"bnd\", \"bochum\", \"bolsonaro\", \"boris\", \"bosnien\", \"brand\", \"brand\", \"brasilien\", \"brasilien\", \"brasilien\", \"brauchen\", \"brauchen\", \"brauchen\", \"brauchen\", \"brauchen\", \"brexit\", \"bringen\", \"bringen\", \"bringen\", \"bringen\", \"bringen\", \"bringen\", \"bringen\", \"britisch\", \"britisch\", \"bund\", \"bundeskanzler\", \"bundesliga\", \"bundesliga\", \"bundesliga\", \"bundesregierung\", \"bundesregierung\", \"bundesregierung\", \"bundesregierung\", \"bundesregierung\", \"bundesregierung\", \"bundestalk\", \"bundeswehr\", \"bundeswehr\", \"bundeswehr\", \"bundeswehr\", \"bvb\", \"bvb\", \"cdu\", \"cdu\", \"cdu\", \"cdu\", \"cdu\", \"cdu\", \"chance\", \"chance\", \"chance\", \"chatgpt\", \"chef\", \"chef\", \"chef\", \"chef\", \"chef\", \"cherson\", \"china\", \"china\", \"china\", \"christian\", \"corona\", \"corona\", \"covid\", \"covid\", \"cum\", \"dax\", \"de\", \"debatte\", \"debatte\", \"debatte\", \"debatte\", \"demo\", \"demo\", \"demokrat\", \"demonstration\", \"demonstration\", \"deutsch\", \"deutsch\", \"deutsch\", \"deutsch\", \"deutsch\", \"deutsch\", \"deutsch\", \"deutsch\", \"deutschland\", \"deutschland\", \"deutschland\", \"deutschland\", \"deutschland\", \"deutschland\", \"deutschland\", \"deutschland\", \"deutschlandticket\", \"dfb\", \"dienst\", \"dienst\", \"diktator\", \"donald\", \"donald\", \"drohen\", \"drohen\", \"drohen\", \"drohen\", \"drohen\", \"drohen\", \"drohen\", \"druck\", \"druck\", \"einstellen\", \"elf\", \"elmau\", \"em\", \"england\", \"england\", \"entlastungspaket\", \"entwicklung\", \"erdbeben\", \"ermittlung\", \"ermittlung\", \"ermittlung\", \"ermittlung\", \"ermittlung\", \"erreichen\", \"erwarten\", \"erwarten\", \"erwarten\", \"erwarten\", \"erwarten\", \"erwarten\", \"eu\", \"eu\", \"eu\", \"euro\", \"euro\", \"europa\", \"europa\", \"europa\", \"europa\", \"europa\", \"europa\", \"evg\", \"ex\", \"ex\", \"ex\", \"ex\", \"ex\", \"ex\", \"extrem\", \"extrem\", \"fachkr\\u00e4ft\", \"faeser\", \"faeser\", \"fc\", \"fc\", \"fdp\", \"fdp\", \"fdp\", \"fdp\", \"fdp\", \"fehlen\", \"fehlen\", \"fehlen\", \"feiern\", \"feiern\", \"feiern\", \"festival\", \"fifa\", \"fifa\", \"film\", \"film\", \"final\", \"flug\", \"flugblatt\", \"for\", \"fragen\", \"frankreich\", \"frankreich\", \"franziskus\", \"frau\", \"frau\", \"frau\", \"frau\", \"frau\", \"frau\", \"freiburg\", \"freitag\", \"front\", \"fukushima\", \"fu\\u00dfball\", \"g7\", \"gabor\", \"gas\", \"gas\", \"gas\", \"gas\", \"gas\", \"gastbeitrag\", \"gasumlage\", \"gasumlage\", \"gaza\", \"geben\", \"geben\", \"geben\", \"geben\", \"geben\", \"geben\", \"geben\", \"geben\", \"gemeinsam\", \"gemeinsam\", \"generation\", \"generation\", \"generation\", \"gesellschaft\", \"gesellschaft\", \"gesundheit\", \"gesundheit\", \"gesundheit\", \"gesundheit\", \"gewinnen\", \"gewinnen\", \"gewinnen\", \"gewinnen\", \"gewinnen\", \"gewinnen\", \"gewinnen\", \"gipfel\", \"gipfel\", \"gladbach\", \"gold\", \"gold\", \"gold\", \"griechenland\", \"griechenland\", \"griechenland\", \"gro\\u00df\", \"gro\\u00df\", \"gro\\u00df\", \"gro\\u00df\", \"gro\\u00df\", \"gro\\u00dfbritannien\", \"gr\\u00fcn\", \"gr\\u00fcn\", \"gr\\u00fcn\", \"gr\\u00fcn\", \"gr\\u00fcn\", \"gr\\u00fcne\", \"gr\\u00fcne\", \"gr\\u00fcne\", \"gr\\u00fcne\", \"gr\\u00fcne\", \"gr\\u00fcne\", \"gr\\u00fcnen\", \"gut\", \"habeck\", \"habeck\", \"habeck\", \"habeck\", \"habeck\", \"haft\", \"haft\", \"hartz\", \"hausbesuch\", \"haushalt\", \"heim\", \"heizungsgesetz\", \"heizungsgesetz\", \"hei\\u00df\", \"hertha\", \"hertha\", \"hitze\", \"hoch\", \"hoch\", \"hoch\", \"hoch\", \"hoch\", \"hoch\", \"hoch\", \"hoffenheim\", \"holstein\", \"hugo\", \"impfung\", \"inflation\", \"inflation\", \"inflation\", \"inflation\", \"intelligenz\", \"international\", \"international\", \"international\", \"invasion\", \"inzidenz\", \"iran\", \"iran\", \"iran\", \"israel\", \"israel\", \"israel\", \"istanbul\", \"italien\", \"italien\", \"italien\", \"italien\", \"iv\", \"japan\", \"japan\", \"japan\", \"jinping\", \"joe\", \"johnson\", \"jong\", \"j\\u00e4ger\", \"kaili\", \"kandidat\", \"kanzler\", \"kanzler\", \"kanzler\", \"kanzler\", \"katar\", \"katar\", \"katar\", \"katastrophe\", \"katholisch\", \"kennen\", \"ki\", \"kiew\", \"kim\", \"kind\", \"kind\", \"kindergrundsicherung\", \"kirche\", \"klima\", \"klima\", \"klima\", \"klima\", \"klima\", \"klimawandel\", \"klimawandel\", \"klimawandel\", \"klimawandel\", \"klimawandel\", \"klimaziel\", \"koalition\", \"kommentar\", \"kommentar\", \"kommune\", \"kreml\", \"kreml\", \"krieg\", \"kriegsverlauf\", \"krim\", \"kritik\", \"kritik\", \"kritik\", \"kritik\", \"kritik\", \"kritik\", \"kritiker\", \"kritiker\", \"kr\\u00f6nung\", \"k\\u00f6nig\", \"k\\u00f6nig\", \"k\\u00fcnstliche\", \"lage\", \"lager\", \"lambrecht\", \"land\", \"land\", \"land\", \"land\", \"land\", \"land\", \"land\", \"landwirtschaft\", \"lanka\", \"laufzeit\", \"lauterbach\", \"leben\", \"leben\", \"leben\", \"leben\", \"leben\", \"leipzig\", \"leitzins\", \"leopard\", \"leverkusen\", \"libyen\", \"liebe\", \"liebe\", \"liefern\", \"liefern\", \"liefern\", \"lindner\", \"linke\", \"linke\", \"linke\", \"linke\", \"linken\", \"linken\", \"liveblog\", \"lkw\", \"lkw\", \"lkw\", \"lng\", \"lng\", \"lng\", \"lufthansa\", \"lufthansa\", \"lukaschenko\", \"l\\u00fctzerath\", \"macron\", \"macron\", \"macron\", \"macron\", \"mai\", \"mainz\", \"mann\", \"mann\", \"mann\", \"mann\", \"mann\", \"mann\", \"mann\", \"markt\", \"marktbericht\", \"marktbericht\", \"mensch\", \"mensch\", \"mensch\", \"mensch\", \"mensch\", \"mensch\", \"mensch\", \"merkel\", \"merkel\", \"merkel\", \"merkel\", \"merz\", \"merz\", \"merz\", \"merz\", \"merz\", \"messi\", \"milit\\u00e4rman\\u00f6ver\", \"milliarde\", \"milliarde\", \"million\", \"million\", \"million\", \"mindestens\", \"minister\", \"minister\", \"missbrauch\", \"mittelmeer\", \"morgen\", \"moskau\", \"moskau\", \"moskau\", \"musk\", \"myanmar\", \"m\\u00e4chtig\", \"m\\u00fcller\", \"nachfolge\", \"nachricht\", \"nachricht\", \"nachricht\", \"nachricht\", \"nahost\", \"nato\", \"nato\", \"nawalny\", \"new\", \"new\", \"news\", \"nord\", \"nord\", \"nordkorea\", \"nordkorea\", \"notfallplan\", \"notstand\", \"null\", \"offensive\", \"olaf\", \"online\", \"online\", \"online\", \"opfer\", \"opfer\", \"opfer\", \"opfer\", \"pakt\", \"pal\\u00e4stinenser\", \"pandemie\", \"panzer\", \"partei\", \"partei\", \"partei\", \"pentagon\", \"plan\", \"plan\", \"plan\", \"plan\", \"plan\", \"plan\", \"plan\", \"podcast\", \"podcast\", \"pokal\", \"politik\", \"politik\", \"politik\", \"politik\", \"politik\", \"politik\", \"polizei\", \"polizei\", \"polizei\", \"polizei\", \"polizei\", \"polizei\", \"polizei\", \"preis\", \"preis\", \"preis\", \"preis\", \"prigoschin\", \"problem\", \"problem\", \"problem\", \"problem\", \"problem\", \"problem\", \"protest\", \"protest\", \"protest\", \"prozent\", \"prozent\", \"prozent\", \"prozent\", \"prozent\", \"prozent\", \"prozent\", \"pr\\u00e4sident\", \"pr\\u00e4sident\", \"pr\\u00e4sident\", \"pr\\u00e4sident\", \"pr\\u00e4sident\", \"putin\", \"putin\", \"putin\", \"putin\", \"putin\", \"queen\", \"queen\", \"queen\", \"rb\", \"rbb\", \"reaktion\", \"reaktion\", \"reaktion\", \"recht\", \"recht\", \"recht\", \"recht\", \"regel\", \"regel\", \"regel\", \"regel\", \"regen\", \"regierung\", \"regierung\", \"regierungschef\", \"regierungschef\", \"reichsb\\u00fcrger\", \"reise\", \"reise\", \"reise\", \"reitz\", \"rentenreform\", \"repr\\u00e4sentantenhaus\", \"retten\", \"retten\", \"rki\", \"rtl\", \"rufen\", \"rufen\", \"rufen\", \"rufen\", \"rufen\", \"rufen\", \"rushdie\", \"russe\", \"russe\", \"russisch\", \"russisch\", \"russischer\", \"russland\", \"russland\", \"russland\", \"russland\", \"r\\u00fcgen\", \"salman\", \"sanktion\", \"saporischschja\", \"saudi\", \"sc\", \"schlagen\", \"schlagen\", \"schlagen\", \"schlagen\", \"schlagen\", \"schlagen\", \"schleswig\", \"scholz\", \"scholz\", \"scholz\", \"scholz\", \"schule\", \"schule\", \"schu\\u00df\", \"sch\\u00f6n\", \"sch\\u00fctzen\", \"sch\\u00fctzen\", \"sch\\u00fctzen\", \"sch\\u00fctzen\", \"sehen\", \"sehen\", \"sehen\", \"sehen\", \"sehen\", \"sehen\", \"sehen\", \"sehen\", \"selenskyj\", \"senat\", \"serie\", \"serie\", \"serie\", \"serie\", \"sieg\", \"sieg\", \"sieg\", \"sieg\", \"sieg\", \"siegen\", \"siegen\", \"sinken\", \"sinken\", \"sinken\", \"soldat\", \"solidarit\\u00e4t\", \"solidarit\\u00e4t\", \"spanien\", \"spanien\", \"spanien\", \"spanien\", \"sparen\", \"sparen\", \"sparen\", \"spd\", \"spd\", \"spd\", \"spd\", \"spd\", \"spieltag\", \"sri\", \"staat\", \"staat\", \"staat\", \"staat\", \"staat\", \"staat\", \"staat\", \"staatssekret\\u00e4r\", \"stark\", \"stark\", \"stark\", \"stark\", \"stark\", \"stark\", \"stark\", \"stehen\", \"stehen\", \"stehen\", \"stehen\", \"stehen\", \"stehen\", \"stehen\", \"stehen\", \"steigen\", \"steigen\", \"steigen\", \"steigen\", \"steigen\", \"steigen\", \"steingart\", \"steinmeier\", \"steinmeier\", \"stellen\", \"stellen\", \"stellen\", \"stellen\", \"stellen\", \"stellen\", \"stellen\", \"sterben\", \"sterben\", \"sterben\", \"sterben\", \"sterben\", \"sterben\", \"sterben\", \"stiftung\", \"stimme\", \"stimmen\", \"stimmen\", \"stimmen\", \"stimmen\", \"stimmen\", \"stream\", \"stream\", \"streik\", \"streik\", \"streik\", \"streik\", \"streik\", \"streit\", \"streit\", \"streit\", \"streit\", \"studie\", \"studie\", \"sturm\", \"sturm\", \"stuttgart\", \"sudan\", \"sudan\", \"sunak\", \"syrien\", \"syrien\", \"s\\u00f6der\", \"s\\u00f6der\", \"taiwan\", \"team\", \"team\", \"teilmobilmachung\", \"terminal\", \"ticker\", \"ticker\", \"ticker\", \"ticker\", \"ticket\", \"tiktok\", \"tiktok\", \"tochter\", \"tochter\", \"tod\", \"tod\", \"tod\", \"tod\", \"tod\", \"tod\", \"tod\", \"tot\", \"tot\", \"tot\", \"tot\", \"tot\", \"tot\", \"tot\", \"tote\", \"tote\", \"tote\", \"toter\", \"tour\", \"tour\", \"trainer\", \"treffen\", \"treffen\", \"treffen\", \"treffen\", \"treffen\", \"treffen\", \"treffen\", \"trump\", \"trump\", \"trump\", \"trump\", \"truppe\", \"truss\", \"tunesien\", \"tv\", \"tv\", \"tv\", \"tv\", \"tv\", \"twitter\", \"twitter\", \"twitter\", \"t\\u00fcrkei\", \"t\\u00fcrkei\", \"t\\u00fcrkei\", \"t\\u00fcrkei\", \"t\\u00fcrkei\", \"t\\u00fcrkei\", \"ukraine\", \"ukrainekrieg\", \"ukrainer\", \"ukrainisch\", \"ukrainisch\", \"ulrich\", \"umfrage\", \"umfrage\", \"umfrage\", \"unfall\", \"unfall\", \"unfall\", \"unfall\", \"unfall\", \"ungarn\", \"ungarn\", \"union\", \"union\", \"union\", \"union\", \"union\", \"updat\", \"urlaub\", \"urlaub\", \"us\", \"us\", \"us\", \"us\", \"us\", \"usa\", \"usa\", \"usa\", \"usa\", \"usa\", \"venedig\", \"verbot\", \"verbot\", \"verbrenner\", \"verdi\", \"verletzter\", \"verletzter\", \"verletzter\", \"verletzter\", \"versteher\", \"vertrauen\", \"verurteilen\", \"verurteilen\", \"verurteilen\", \"vogg\", \"waffe\", \"waffe\", \"waffenruhe\", \"waffenruhe\", \"wagenknecht\", \"wagenknecht\", \"wagenknecht\", \"wagner\", \"wahl\", \"wahl\", \"wahl\", \"wahl\", \"wahl\", \"wahl\", \"wahrheit\", \"wall\", \"warnstreik\", \"warnstreik\", \"wegner\", \"welt\", \"welt\", \"welt\", \"westjordanland\", \"wetter\", \"willkommen\", \"wimbledon\", \"wirtschaft\", \"wirtschaft\", \"wirtschaft\", \"wissing\", \"wm\", \"wm\", \"wohnungsbau\", \"wolfsburg\", \"wolfsburg\", \"w\\u00e4rmepumpe\", \"xi\", \"york\", \"zahlen\", \"zahlen\", \"zehntausend\", \"zins\", \"zugungl\\u00fcck\", \"zweiter\", \"zweiter\", \"zweiter\", \"\\u00e4gypten\", \"\\u00fcberblick\", \"\\u00fcberschwemmung\"]}, \"R\": 30, \"lambda.step\": 0.01, \"plot.opts\": {\"xlab\": \"PC1\", \"ylab\": \"PC2\"}, \"topic.order\": [1, 2, 3, 6, 4, 7, 5, 8]};\n",
       "\n",
       "function LDAvis_load_lib(url, callback){\n",
       "  var s = document.createElement('script');\n",
       "  s.src = url;\n",
       "  s.async = true;\n",
       "  s.onreadystatechange = s.onload = callback;\n",
       "  s.onerror = function(){console.warn(\"failed to load library \" + url);};\n",
       "  document.getElementsByTagName(\"head\")[0].appendChild(s);\n",
       "}\n",
       "\n",
       "if(typeof(LDAvis) !== \"undefined\"){\n",
       "   // already loaded: just create the visualization\n",
       "   !function(LDAvis){\n",
       "       new LDAvis(\"#\" + \"ldavis_el50641924797051872875962432\", ldavis_el50641924797051872875962432_data);\n",
       "   }(LDAvis);\n",
       "}else if(typeof define === \"function\" && define.amd){\n",
       "   // require.js is available: use it to load d3/LDAvis\n",
       "   require.config({paths: {d3: \"https://d3js.org/d3.v5\"}});\n",
       "   require([\"d3\"], function(d3){\n",
       "      window.d3 = d3;\n",
       "      LDAvis_load_lib(\"https://cdn.jsdelivr.net/gh/bmabey/pyLDAvis@3.4.0/pyLDAvis/js/ldavis.v3.0.0.js\", function(){\n",
       "        new LDAvis(\"#\" + \"ldavis_el50641924797051872875962432\", ldavis_el50641924797051872875962432_data);\n",
       "      });\n",
       "    });\n",
       "}else{\n",
       "    // require.js not available: dynamically load d3 & LDAvis\n",
       "    LDAvis_load_lib(\"https://d3js.org/d3.v5.js\", function(){\n",
       "         LDAvis_load_lib(\"https://cdn.jsdelivr.net/gh/bmabey/pyLDAvis@3.4.0/pyLDAvis/js/ldavis.v3.0.0.js\", function(){\n",
       "                 new LDAvis(\"#\" + \"ldavis_el50641924797051872875962432\", ldavis_el50641924797051872875962432_data);\n",
       "            })\n",
       "         });\n",
       "}\n",
       "</script>"
      ],
      "text/plain": [
       "PreparedData(topic_coordinates=               x          y  topics  cluster       Freq\n",
       "topic                                                  \n",
       "0      23.551519 -48.784714       1        1  16.058261\n",
       "1     -19.987120  65.003815       2        1  13.792639\n",
       "2     -69.285057 -18.713701       3        1  12.737328\n",
       "5     -11.296581   3.444011       4        1  12.077863\n",
       "3     -29.980885 -55.602993       5        1  11.660525\n",
       "6      31.477129  48.689629       6        1  11.364252\n",
       "4      50.357086  -1.836971       7        1  11.360606\n",
       "7     -64.923813  35.094860       8        1  10.948526, topic_info=              Term         Freq        Total Category  logprob  loglift\n",
       "18325      ukraine  4510.000000  4510.000000  Default  30.0000  30.0000\n",
       "10150        krieg  2613.000000  2613.000000  Default  29.0000  29.0000\n",
       "15087     russisch  1373.000000  1373.000000  Default  28.0000  28.0000\n",
       "3583        corona  1141.000000  1141.000000  Default  27.0000  27.0000\n",
       "15091     russland  1754.000000  1754.000000  Default  26.0000  26.0000\n",
       "...            ...          ...          ...      ...      ...      ...\n",
       "17168       streik   107.493262   239.467215   Topic8  -5.8248   1.4110\n",
       "2314        berlin   157.661837   987.479932   Topic8  -5.4417   0.3773\n",
       "3899   deutschland   161.838060  1672.013111   Topic8  -5.4156  -0.1232\n",
       "6157          frau   121.035493   565.757718   Topic8  -5.7061   0.6699\n",
       "17970          tot    99.116654   307.937745   Topic8  -5.9059   1.0784\n",
       "\n",
       "[490 rows x 6 columns], token_table=       Topic      Freq            Term\n",
       "term                                  \n",
       "8          5  0.983101            11km\n",
       "63         7  0.992005              49\n",
       "138        3  0.972920             abe\n",
       "418        2  0.264979             afd\n",
       "418        3  0.101518             afd\n",
       "...      ...       ...             ...\n",
       "21131      5  0.169227         zweiter\n",
       "21131      8  0.724502         zweiter\n",
       "21182      7  0.978151         ägypten\n",
       "21275      1  0.991817       überblick\n",
       "21368      7  0.987032  überschwemmung\n",
       "\n",
       "[1000 rows x 3 columns], R=30, lambda_step=0.01, plot_opts={'xlab': 'PC1', 'ylab': 'PC2'}, topic_order=[1, 2, 3, 6, 4, 7, 5, 8])"
      ]
     },
     "execution_count": 31,
     "metadata": {},
     "output_type": "execute_result"
    }
   ],
   "source": [
    "pyLDAvis.enable_notebook()\n",
    "panel = pyLDAvis.lda_model.prepare(lda, dtm, cv, mds='tsne')\n",
    "panel"
   ]
  },
  {
   "cell_type": "markdown",
   "id": "3a4c2e1a",
   "metadata": {},
   "source": [
    "## Save train set with topics and dump model"
   ]
  },
  {
   "cell_type": "code",
   "execution_count": 32,
   "id": "78051ef9",
   "metadata": {},
   "outputs": [],
   "source": [
    "#Save result to csv\n",
    "train.to_csv('evaluation/train_lda_topics_8.csv')"
   ]
  },
  {
   "cell_type": "code",
   "execution_count": 33,
   "id": "2c153876",
   "metadata": {},
   "outputs": [
    {
     "data": {
      "text/plain": [
       "['models/cv.jl']"
      ]
     },
     "execution_count": 33,
     "metadata": {},
     "output_type": "execute_result"
    }
   ],
   "source": [
    "# Dump countvectorizer\n",
    "joblib.dump(cv, 'models/cv.jl')"
   ]
  },
  {
   "cell_type": "code",
   "execution_count": 34,
   "id": "c06c71c2",
   "metadata": {},
   "outputs": [
    {
     "data": {
      "text/plain": [
       "['models/lda_model_8_topics.jl']"
      ]
     },
     "execution_count": 34,
     "metadata": {},
     "output_type": "execute_result"
    }
   ],
   "source": [
    "# Dump LDA model\n",
    "joblib.dump(lda, 'models/lda_model_8_topics.jl')"
   ]
  },
  {
   "cell_type": "code",
   "execution_count": null,
   "id": "25c09460",
   "metadata": {},
   "outputs": [],
   "source": []
  }
 ],
 "metadata": {
  "kernelspec": {
   "display_name": "nlp",
   "language": "python",
   "name": "nlp"
  },
  "language_info": {
   "codemirror_mode": {
    "name": "ipython",
    "version": 3
   },
   "file_extension": ".py",
   "mimetype": "text/x-python",
   "name": "python",
   "nbconvert_exporter": "python",
   "pygments_lexer": "ipython3",
   "version": "3.11.5"
  }
 },
 "nbformat": 4,
 "nbformat_minor": 5
}
