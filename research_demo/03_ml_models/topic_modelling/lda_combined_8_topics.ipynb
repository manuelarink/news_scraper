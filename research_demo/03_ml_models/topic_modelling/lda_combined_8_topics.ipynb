{
 "cells": [
  {
   "cell_type": "markdown",
   "id": "d23815fa",
   "metadata": {},
   "source": [
    "# Topic modelling of news headlines for prediction of news category with 8 topics¶"
   ]
  },
  {
   "cell_type": "markdown",
   "id": "75523a79",
   "metadata": {},
   "source": [
    "Now we wan't to perform topic modelling with unsupervised learning and train a modell for prediction of news category labels without using the provided labels in the corpus.\n",
    "We use the LDA classifier on the combined feature 'title_description_text' feature and assume 7 topics. "
   ]
  },
  {
   "cell_type": "code",
   "execution_count": 1,
   "id": "a2821ff5",
   "metadata": {},
   "outputs": [],
   "source": [
    "import pandas as pd\n",
    "import numpy as np\n",
    "import matplotlib.pyplot as plt\n",
    "import seaborn as sns\n",
    "\n",
    "import joblib\n",
    "\n",
    "import pyLDAvis.lda_model"
   ]
  },
  {
   "cell_type": "markdown",
   "id": "6594f2c8",
   "metadata": {},
   "source": [
    "## Load data"
   ]
  },
  {
   "cell_type": "code",
   "execution_count": 2,
   "id": "d737f3a4",
   "metadata": {},
   "outputs": [],
   "source": [
    "train = pd.read_csv('../../data/01_train_nosplit_preprocessed.csv')"
   ]
  },
  {
   "cell_type": "code",
   "execution_count": 3,
   "id": "72fc6b38",
   "metadata": {},
   "outputs": [
    {
     "data": {
      "text/html": [
       "<div>\n",
       "<style scoped>\n",
       "    .dataframe tbody tr th:only-of-type {\n",
       "        vertical-align: middle;\n",
       "    }\n",
       "\n",
       "    .dataframe tbody tr th {\n",
       "        vertical-align: top;\n",
       "    }\n",
       "\n",
       "    .dataframe thead th {\n",
       "        text-align: right;\n",
       "    }\n",
       "</style>\n",
       "<table border=\"1\" class=\"dataframe\">\n",
       "  <thead>\n",
       "    <tr style=\"text-align: right;\">\n",
       "      <th></th>\n",
       "      <th>date</th>\n",
       "      <th>title</th>\n",
       "      <th>description</th>\n",
       "      <th>category</th>\n",
       "      <th>text</th>\n",
       "      <th>source</th>\n",
       "      <th>title_description_text</th>\n",
       "      <th>title_cleaned</th>\n",
       "      <th>title_description_text_cleaned</th>\n",
       "    </tr>\n",
       "  </thead>\n",
       "  <tbody>\n",
       "    <tr>\n",
       "      <th>0</th>\n",
       "      <td>2022-06-01 00:13:42</td>\n",
       "      <td>Preise: Grüne halten Senkung der Spritsteuer f...</td>\n",
       "      <td>Heute tritt die Steuersenkung auf Kraftstoffe ...</td>\n",
       "      <td>Other</td>\n",
       "      <td>NaN</td>\n",
       "      <td>stern</td>\n",
       "      <td>Preise: Grüne halten Senkung der Spritsteuer f...</td>\n",
       "      <td>Preis grüne halten Senkung Spritsteuer falsch ...</td>\n",
       "      <td>Preis grüne halten Senkung Spritsteuer falsch ...</td>\n",
       "    </tr>\n",
       "    <tr>\n",
       "      <th>1</th>\n",
       "      <td>2022-06-01 01:55:03</td>\n",
       "      <td>Biden warnt Putin: USA liefern moderne Raketen...</td>\n",
       "      <td>Die USA rüsten die Ukraine mit fortschrittlich...</td>\n",
       "      <td>Other</td>\n",
       "      <td>NaN</td>\n",
       "      <td>stern</td>\n",
       "      <td>Biden warnt Putin: USA liefern moderne Raketen...</td>\n",
       "      <td>Biden warnen Putin USA liefern modern Raketens...</td>\n",
       "      <td>Biden warnen Putin USA liefern modern Raketens...</td>\n",
       "    </tr>\n",
       "    <tr>\n",
       "      <th>2</th>\n",
       "      <td>2022-06-01 02:04:08</td>\n",
       "      <td>Soziale Medien: FDP-Politiker Kuhle: Internet-...</td>\n",
       "      <td>Eine «ZDF Magazin Royale»-Recherche beschäftig...</td>\n",
       "      <td>Other</td>\n",
       "      <td>NaN</td>\n",
       "      <td>stern</td>\n",
       "      <td>Soziale Medien: FDP-Politiker Kuhle: Internet-...</td>\n",
       "      <td>sozial Medium FDP-Politiker Kuhle Internet-Str...</td>\n",
       "      <td>sozial Medium FDP-Politiker Kuhle Internet-Str...</td>\n",
       "    </tr>\n",
       "    <tr>\n",
       "      <th>3</th>\n",
       "      <td>2022-06-01 02:26:58</td>\n",
       "      <td>Liveblog: ++ Zwei von drei ukrainischen Kinder...</td>\n",
       "      <td>Rund zwei von drei Mädchen und Jungen in der U...</td>\n",
       "      <td>Missing</td>\n",
       "      <td>NaN</td>\n",
       "      <td>Tagesschau</td>\n",
       "      <td>Liveblog: ++ Zwei von drei ukrainischen Kinder...</td>\n",
       "      <td>Liveblog ukrainisch Kind vertreiben</td>\n",
       "      <td>Liveblog ukrainisch Kind vertreiben rund Mädch...</td>\n",
       "    </tr>\n",
       "    <tr>\n",
       "      <th>4</th>\n",
       "      <td>2022-06-01 02:31:43</td>\n",
       "      <td>Finanzen: Dänemark stimmt über EU-Verteidigung...</td>\n",
       "      <td>Vorbehalt verteidigen oder Verteidigung ohne V...</td>\n",
       "      <td>Other</td>\n",
       "      <td>NaN</td>\n",
       "      <td>stern</td>\n",
       "      <td>Finanzen: Dänemark stimmt über EU-Verteidigung...</td>\n",
       "      <td>Finanz Dänemark stimmen EU-Verteidigungsvorbehalt</td>\n",
       "      <td>Finanz Dänemark stimmen EU-Verteidigungsvorbeh...</td>\n",
       "    </tr>\n",
       "  </tbody>\n",
       "</table>\n",
       "</div>"
      ],
      "text/plain": [
       "                  date                                              title  \\\n",
       "0  2022-06-01 00:13:42  Preise: Grüne halten Senkung der Spritsteuer f...   \n",
       "1  2022-06-01 01:55:03  Biden warnt Putin: USA liefern moderne Raketen...   \n",
       "2  2022-06-01 02:04:08  Soziale Medien: FDP-Politiker Kuhle: Internet-...   \n",
       "3  2022-06-01 02:26:58  Liveblog: ++ Zwei von drei ukrainischen Kinder...   \n",
       "4  2022-06-01 02:31:43  Finanzen: Dänemark stimmt über EU-Verteidigung...   \n",
       "\n",
       "                                         description category  text  \\\n",
       "0  Heute tritt die Steuersenkung auf Kraftstoffe ...    Other   NaN   \n",
       "1  Die USA rüsten die Ukraine mit fortschrittlich...    Other   NaN   \n",
       "2  Eine «ZDF Magazin Royale»-Recherche beschäftig...    Other   NaN   \n",
       "3  Rund zwei von drei Mädchen und Jungen in der U...  Missing   NaN   \n",
       "4  Vorbehalt verteidigen oder Verteidigung ohne V...    Other   NaN   \n",
       "\n",
       "       source                             title_description_text  \\\n",
       "0       stern  Preise: Grüne halten Senkung der Spritsteuer f...   \n",
       "1       stern  Biden warnt Putin: USA liefern moderne Raketen...   \n",
       "2       stern  Soziale Medien: FDP-Politiker Kuhle: Internet-...   \n",
       "3  Tagesschau  Liveblog: ++ Zwei von drei ukrainischen Kinder...   \n",
       "4       stern  Finanzen: Dänemark stimmt über EU-Verteidigung...   \n",
       "\n",
       "                                       title_cleaned  \\\n",
       "0  Preis grüne halten Senkung Spritsteuer falsch ...   \n",
       "1  Biden warnen Putin USA liefern modern Raketens...   \n",
       "2  sozial Medium FDP-Politiker Kuhle Internet-Str...   \n",
       "3                Liveblog ukrainisch Kind vertreiben   \n",
       "4  Finanz Dänemark stimmen EU-Verteidigungsvorbehalt   \n",
       "\n",
       "                      title_description_text_cleaned  \n",
       "0  Preis grüne halten Senkung Spritsteuer falsch ...  \n",
       "1  Biden warnen Putin USA liefern modern Raketens...  \n",
       "2  sozial Medium FDP-Politiker Kuhle Internet-Str...  \n",
       "3  Liveblog ukrainisch Kind vertreiben rund Mädch...  \n",
       "4  Finanz Dänemark stimmen EU-Verteidigungsvorbeh...  "
      ]
     },
     "execution_count": 3,
     "metadata": {},
     "output_type": "execute_result"
    }
   ],
   "source": [
    "train.head()"
   ]
  },
  {
   "cell_type": "markdown",
   "id": "46b4f629",
   "metadata": {},
   "source": [
    "## Load German stopwords"
   ]
  },
  {
   "cell_type": "code",
   "execution_count": 4,
   "id": "da144b59",
   "metadata": {},
   "outputs": [],
   "source": [
    "stop_words = pd.read_csv('german_stopwords.txt', header=None)[0].values.tolist()"
   ]
  },
  {
   "cell_type": "code",
   "execution_count": 5,
   "id": "bd74c6d3",
   "metadata": {},
   "outputs": [
    {
     "name": "stdout",
     "output_type": "stream",
     "text": [
      "['ab', 'aber', 'alle', 'allein', 'allem', 'allen', 'aller', 'allerdings', 'allerlei', 'alles', 'allmählich', 'allzu', 'als', 'alsbald', 'also', 'am', 'an', 'and', 'ander', 'andere', 'anderem', 'anderen', 'anderer', 'andererseits', 'anderes', 'anderm', 'andern', 'andernfalls', 'anders', 'anstatt', 'auch', 'auf', 'aus', 'ausgenommen', 'ausser', 'ausserdem', 'außer', 'außerdem', 'außerhalb', 'bald', 'bei', 'beide', 'beiden', 'beiderlei', 'beides', 'beim', 'beinahe', 'bereits', 'besonders', 'besser', 'beträchtlich', 'bevor', 'bezüglich', 'bin', 'bis', 'bisher', 'bislang', 'bist', 'bloß', 'bsp.', 'bzw', 'ca', 'ca.', 'content', 'da', 'dabei', 'dadurch', 'dafür', 'dagegen', 'daher', 'dahin', 'damals', 'damit', 'danach', 'daneben', 'dann', 'daran', 'darauf', 'daraus', 'darin', 'darum', 'darunter', 'darüber', 'darüberhinaus', 'das', 'dass', 'dasselbe', 'davon', 'davor', 'dazu', 'daß', 'dein', 'deine', 'deinem', 'deinen', 'deiner', 'deines', 'dem', 'demnach', 'demselben', 'den', 'denen', 'denn', 'dennoch', 'denselben', 'der', 'derart', 'derartig', 'derem', 'deren', 'derer', 'derjenige', 'derjenigen', 'derselbe', 'derselben', 'derzeit', 'des', 'deshalb', 'desselben', 'dessen', 'desto', 'deswegen', 'dich', 'die', 'diejenige', 'dies', 'diese', 'dieselbe', 'dieselben', 'diesem', 'diesen', 'dieser', 'dieses', 'diesseits', 'dir', 'direkt', 'direkte', 'direkten', 'direkter', 'doch', 'dort', 'dorther', 'dorthin', 'drauf', 'drin', 'drunter', 'drüber', 'du', 'dunklen', 'durch', 'durchaus', 'eben', 'ebenfalls', 'ebenso', 'eher', 'eigenen', 'eigenes', 'eigentlich', 'ein', 'eine', 'einem', 'einen', 'einer', 'einerseits', 'eines', 'einfach', 'einführen', 'einführte', 'einführten', 'eingesetzt', 'einig', 'einige', 'einigem', 'einigen', 'einiger', 'einigermaßen', 'einiges', 'einmal', 'eins', 'einseitig', 'einseitige', 'einseitigen', 'einseitiger', 'einst', 'einstmals', 'einzig', 'entsprechend', 'entweder', 'er', 'erst', 'es', 'etc', 'etliche', 'etwa', 'etwas', 'euch', 'euer', 'eure', 'eurem', 'euren', 'eurer', 'eures', 'falls', 'fast', 'ferner', 'folgende', 'folgenden', 'folgender', 'folgendes', 'folglich', 'fuer', 'für', 'gab', 'ganze', 'ganzem', 'ganzen', 'ganzer', 'ganzes', 'gar', 'gegen', 'gemäss', 'ggf', 'gleich', 'gleichwohl', 'gleichzeitig', 'glücklicherweise', 'gänzlich', 'hab', 'habe', 'haben', 'haette', 'hast', 'hat', 'hatte', 'hatten', 'hattest', 'hattet', 'heraus', 'herein', 'hier', 'hier', 'hinter', 'hiermit', 'hiesige', 'hin', 'hinein', 'hinten', 'hinter', 'hinterher', 'http', 'hätt', 'hätte', 'hätten', 'höchstens', 'ich', 'igitt', 'ihm', 'ihn', 'ihnen', 'ihr', 'ihre', 'ihrem', 'ihren', 'ihrer', 'ihres', 'im', 'immer', 'immerhin', 'in', 'indem', 'indessen', 'infolge', 'innen', 'innerhalb', 'ins', 'insofern', 'inzwischen', 'irgend', 'irgendeine', 'irgendwas', 'irgendwen', 'irgendwer', 'irgendwie', 'irgendwo', 'ist', 'ja', 'je', 'jed', 'jede', 'jedem', 'jeden', 'jedenfalls', 'jeder', 'jederlei', 'jedes', 'jedoch', 'jemand', 'jene', 'jenem', 'jenen', 'jener', 'jenes', 'jenseits', 'jetzt', 'jährig', 'jährige', 'jährigen', 'jähriges', 'kam', 'kann', 'kannst', 'kaum', 'kein', 'keine', 'keinem', 'keinen', 'keiner', 'keinerlei', 'keines', 'keineswegs', 'klar', 'klare', 'klaren', 'klares', 'klein', 'kleinen', 'kleiner', 'kleines', 'koennen', 'koennt', 'koennte', 'koennten', 'komme', 'kommen', 'kommt', 'konkret', 'konkrete', 'konkreten', 'konkreter', 'konkretes', 'können', 'könnt', 'künftig', 'leider', 'machen', 'man', 'manche', 'manchem', 'manchen', 'mancher', 'mancherorts', 'manches', 'manchmal', 'mehr', 'mehrere', 'mein', 'meine', 'meinem', 'meinen', 'meiner', 'meines', 'mich', 'mir', 'mit', 'mithin', 'muessen', 'muesst', 'muesste', 'muss', 'musst', 'musste', 'mussten', 'muß', 'mußt', 'müssen', 'müsste', 'müssten', 'müßt', 'müßte', 'nach', 'nachdem', 'nachher', 'nachhinein', 'nahm', 'natürlich', 'neben', 'nebenan', 'nehmen', 'nein', 'nicht', 'nichts', 'nie', 'niemals', 'niemand', 'nirgends', 'nirgendwo', 'noch', 'nun', 'nur', 'nächste', 'nämlich', 'nötigenfalls', 'ob', 'oben', 'oberhalb', 'obgleich', 'obschon', 'obwohl', 'oder', 'oft', 'per', 'plötzlich', 'schließlich', 'schon', 'sehr', 'sehrwohl', 'seid', 'sein', 'seine', 'seinem', 'seinen', 'seiner', 'seines', 'seit', 'seitdem', 'seither', 'selber', 'selbst', 'sich', 'sicher', 'sicherlich', 'sie', 'sind', 'so', 'sobald', 'sodass', 'sodaß', 'soeben', 'sofern', 'sofort', 'sogar', 'solange', 'solch', 'solche', 'solchem', 'solchen', 'solcher', 'solches', 'soll', 'sollen', 'sollst', 'sollt', 'sollte', 'sollten', 'solltest', 'somit', 'sondern', 'sonst', 'sonstwo', 'sooft', 'soviel', 'soweit', 'sowie', 'sowohl', 'tatsächlich', 'tatsächlichen', 'tatsächlicher', 'tatsächliches', 'trotzdem', 'ueber', 'um', 'umso', 'unbedingt', 'und', 'unmöglich', 'unmögliche', 'unmöglichen', 'unmöglicher', 'uns', 'unser', 'unser', 'unsere', 'unsere', 'unserem', 'unseren', 'unserer', 'unseres', 'unter', 'usw', 'viel', 'viele', 'vielen', 'vieler', 'vieles', 'vielleicht', 'vielmals', 'vom', 'von', 'vor', 'voran', 'vorher', 'vorüber', 'völlig', 'wann', 'war', 'waren', 'warst', 'warum', 'was', 'weder', 'weil', 'weiter', 'weitere', 'weiterem', 'weiteren', 'weiterer', 'weiteres', 'weiterhin', 'weiß', 'welche', 'welchem', 'welchen', 'welcher', 'welches', 'wem', 'wen', 'wenig', 'wenige', 'weniger', 'wenigstens', 'wenn', 'wenngleich', 'wer', 'werde', 'werden', 'werdet', 'weshalb', 'wessen', 'wichtig', 'wie', 'wieder', 'wieso', 'wieviel', 'wiewohl', 'will', 'willst', 'wir', 'wird', 'wirklich', 'wirst', 'wo', 'wodurch', 'wogegen', 'woher', 'wohin', 'wohingegen', 'wohl', 'wohlweislich', 'womit', 'woraufhin', 'woraus', 'worin', 'wurde', 'wurden', 'während', 'währenddessen', 'wär', 'wäre', 'wären', 'würde', 'würden', 'z.B.', 'zB', 'zahlreich', 'zeitweise', 'zu', 'zudem', 'zuerst', 'zufolge', 'zugleich', 'zuletzt', 'zum', 'zumal', 'zur', 'zurück', 'zusammen', 'zuviel', 'zwar', 'zwischen', 'ähnlich', 'übel', 'über', 'überall', 'überallhin', 'überdies', 'übermorgen', 'übrig', 'übrigens']\n"
     ]
    }
   ],
   "source": [
    "print(stop_words)"
   ]
  },
  {
   "cell_type": "code",
   "execution_count": 6,
   "id": "83a61957",
   "metadata": {},
   "outputs": [],
   "source": [
    "# append words to stopwords that contain no information\n",
    "stop_words += ['wegen', 'melden', 'meldet', 'können', 'könnte', 'könnten', 'update', 'neu', 'neue', 'neues', 'ohne', 'letzte', 'letzter',\n",
    "                  'letztes', 'eins', 'zwei', 'drei', 'vier', 'fünf', 'sechs', 'sieben', 'acht', 'neun', 'zehn',\n",
    "                   'gehen', 'geht', 'wollen', 'wollte', 'wollt', 'jahr', 'jahre', 'fordern', 'fordert',\n",
    "                  'warnen', 'warnt', 'frühjahr', 'frühling', 'sommer', 'herbst', 'winter', 'erneut', 'deutlich', 'schwer', 'jahren', 'woche',\n",
    "                  'wochen', 'monat', 'monate', 'tag', 'tage', 'stunden', 'stunde', 'minuten', 'minuten', 'ende', 'beenden', 'endet']"
   ]
  },
  {
   "cell_type": "markdown",
   "id": "a12c363c",
   "metadata": {},
   "source": [
    "## Extract features from 'title_description_text' "
   ]
  },
  {
   "cell_type": "code",
   "execution_count": 7,
   "id": "cd42c0db",
   "metadata": {},
   "outputs": [],
   "source": [
    "from sklearn.feature_extraction.text import CountVectorizer"
   ]
  },
  {
   "cell_type": "code",
   "execution_count": 8,
   "id": "38ab615c",
   "metadata": {},
   "outputs": [],
   "source": [
    "cv = CountVectorizer(max_df=0.95, min_df=3, stop_words=stop_words)"
   ]
  },
  {
   "cell_type": "code",
   "execution_count": 9,
   "id": "a628f0d2",
   "metadata": {},
   "outputs": [
    {
     "name": "stderr",
     "output_type": "stream",
     "text": [
      "C:\\Users\\manuela.rink\\anaconda3\\envs\\nlp\\Lib\\site-packages\\sklearn\\feature_extraction\\text.py:409: UserWarning: Your stop_words may be inconsistent with your preprocessing. Tokenizing the stop words generated tokens ['bsp', 'zb'] not in stop_words.\n",
      "  warnings.warn(\n"
     ]
    }
   ],
   "source": [
    "# create Document-Term-Matrix\n",
    "dtm = cv.fit_transform(train['title_description_text_cleaned'])"
   ]
  },
  {
   "cell_type": "code",
   "execution_count": 10,
   "id": "faba69b8",
   "metadata": {},
   "outputs": [
    {
     "data": {
      "text/plain": [
       "<67513x29998 sparse matrix of type '<class 'numpy.int64'>'\n",
       "\twith 1026097 stored elements in Compressed Sparse Row format>"
      ]
     },
     "execution_count": 10,
     "metadata": {},
     "output_type": "execute_result"
    }
   ],
   "source": [
    "dtm"
   ]
  },
  {
   "cell_type": "code",
   "execution_count": 11,
   "id": "3f48b861",
   "metadata": {},
   "outputs": [],
   "source": [
    "from sklearn.decomposition import LatentDirichletAllocation"
   ]
  },
  {
   "cell_type": "code",
   "execution_count": 12,
   "id": "fdf60b9b",
   "metadata": {},
   "outputs": [
    {
     "data": {
      "text/html": [
       "<style>#sk-container-id-1 {color: black;background-color: white;}#sk-container-id-1 pre{padding: 0;}#sk-container-id-1 div.sk-toggleable {background-color: white;}#sk-container-id-1 label.sk-toggleable__label {cursor: pointer;display: block;width: 100%;margin-bottom: 0;padding: 0.3em;box-sizing: border-box;text-align: center;}#sk-container-id-1 label.sk-toggleable__label-arrow:before {content: \"▸\";float: left;margin-right: 0.25em;color: #696969;}#sk-container-id-1 label.sk-toggleable__label-arrow:hover:before {color: black;}#sk-container-id-1 div.sk-estimator:hover label.sk-toggleable__label-arrow:before {color: black;}#sk-container-id-1 div.sk-toggleable__content {max-height: 0;max-width: 0;overflow: hidden;text-align: left;background-color: #f0f8ff;}#sk-container-id-1 div.sk-toggleable__content pre {margin: 0.2em;color: black;border-radius: 0.25em;background-color: #f0f8ff;}#sk-container-id-1 input.sk-toggleable__control:checked~div.sk-toggleable__content {max-height: 200px;max-width: 100%;overflow: auto;}#sk-container-id-1 input.sk-toggleable__control:checked~label.sk-toggleable__label-arrow:before {content: \"▾\";}#sk-container-id-1 div.sk-estimator input.sk-toggleable__control:checked~label.sk-toggleable__label {background-color: #d4ebff;}#sk-container-id-1 div.sk-label input.sk-toggleable__control:checked~label.sk-toggleable__label {background-color: #d4ebff;}#sk-container-id-1 input.sk-hidden--visually {border: 0;clip: rect(1px 1px 1px 1px);clip: rect(1px, 1px, 1px, 1px);height: 1px;margin: -1px;overflow: hidden;padding: 0;position: absolute;width: 1px;}#sk-container-id-1 div.sk-estimator {font-family: monospace;background-color: #f0f8ff;border: 1px dotted black;border-radius: 0.25em;box-sizing: border-box;margin-bottom: 0.5em;}#sk-container-id-1 div.sk-estimator:hover {background-color: #d4ebff;}#sk-container-id-1 div.sk-parallel-item::after {content: \"\";width: 100%;border-bottom: 1px solid gray;flex-grow: 1;}#sk-container-id-1 div.sk-label:hover label.sk-toggleable__label {background-color: #d4ebff;}#sk-container-id-1 div.sk-serial::before {content: \"\";position: absolute;border-left: 1px solid gray;box-sizing: border-box;top: 0;bottom: 0;left: 50%;z-index: 0;}#sk-container-id-1 div.sk-serial {display: flex;flex-direction: column;align-items: center;background-color: white;padding-right: 0.2em;padding-left: 0.2em;position: relative;}#sk-container-id-1 div.sk-item {position: relative;z-index: 1;}#sk-container-id-1 div.sk-parallel {display: flex;align-items: stretch;justify-content: center;background-color: white;position: relative;}#sk-container-id-1 div.sk-item::before, #sk-container-id-1 div.sk-parallel-item::before {content: \"\";position: absolute;border-left: 1px solid gray;box-sizing: border-box;top: 0;bottom: 0;left: 50%;z-index: -1;}#sk-container-id-1 div.sk-parallel-item {display: flex;flex-direction: column;z-index: 1;position: relative;background-color: white;}#sk-container-id-1 div.sk-parallel-item:first-child::after {align-self: flex-end;width: 50%;}#sk-container-id-1 div.sk-parallel-item:last-child::after {align-self: flex-start;width: 50%;}#sk-container-id-1 div.sk-parallel-item:only-child::after {width: 0;}#sk-container-id-1 div.sk-dashed-wrapped {border: 1px dashed gray;margin: 0 0.4em 0.5em 0.4em;box-sizing: border-box;padding-bottom: 0.4em;background-color: white;}#sk-container-id-1 div.sk-label label {font-family: monospace;font-weight: bold;display: inline-block;line-height: 1.2em;}#sk-container-id-1 div.sk-label-container {text-align: center;}#sk-container-id-1 div.sk-container {/* jupyter's `normalize.less` sets `[hidden] { display: none; }` but bootstrap.min.css set `[hidden] { display: none !important; }` so we also need the `!important` here to be able to override the default hidden behavior on the sphinx rendered scikit-learn.org. See: https://github.com/scikit-learn/scikit-learn/issues/21755 */display: inline-block !important;position: relative;}#sk-container-id-1 div.sk-text-repr-fallback {display: none;}</style><div id=\"sk-container-id-1\" class=\"sk-top-container\"><div class=\"sk-text-repr-fallback\"><pre>LatentDirichletAllocation(n_components=8, random_state=42)</pre><b>In a Jupyter environment, please rerun this cell to show the HTML representation or trust the notebook. <br />On GitHub, the HTML representation is unable to render, please try loading this page with nbviewer.org.</b></div><div class=\"sk-container\" hidden><div class=\"sk-item\"><div class=\"sk-estimator sk-toggleable\"><input class=\"sk-toggleable__control sk-hidden--visually\" id=\"sk-estimator-id-1\" type=\"checkbox\" checked><label for=\"sk-estimator-id-1\" class=\"sk-toggleable__label sk-toggleable__label-arrow\">LatentDirichletAllocation</label><div class=\"sk-toggleable__content\"><pre>LatentDirichletAllocation(n_components=8, random_state=42)</pre></div></div></div></div></div>"
      ],
      "text/plain": [
       "LatentDirichletAllocation(n_components=8, random_state=42)"
      ]
     },
     "execution_count": 12,
     "metadata": {},
     "output_type": "execute_result"
    }
   ],
   "source": [
    "lda = LatentDirichletAllocation(n_components=8, random_state=42)\n",
    "lda.fit(dtm)"
   ]
  },
  {
   "cell_type": "markdown",
   "id": "a2f3296f",
   "metadata": {},
   "source": [
    "## Analyse extracted features"
   ]
  },
  {
   "cell_type": "code",
   "execution_count": 13,
   "id": "44c85ba2",
   "metadata": {},
   "outputs": [
    {
     "data": {
      "text/plain": [
       "29998"
      ]
     },
     "execution_count": 13,
     "metadata": {},
     "output_type": "execute_result"
    }
   ],
   "source": [
    "len(cv.get_feature_names_out())"
   ]
  },
  {
   "cell_type": "code",
   "execution_count": 14,
   "id": "79a3b48a",
   "metadata": {},
   "outputs": [
    {
     "data": {
      "text/plain": [
       "array(['000', '01', '034', ..., 'đoković', 'войны', 'украинцы'],\n",
       "      dtype=object)"
      ]
     },
     "execution_count": 14,
     "metadata": {},
     "output_type": "execute_result"
    }
   ],
   "source": [
    "cv.get_feature_names_out()"
   ]
  },
  {
   "cell_type": "code",
   "execution_count": 15,
   "id": "6d276a41",
   "metadata": {},
   "outputs": [
    {
     "data": {
      "text/plain": [
       "8"
      ]
     },
     "execution_count": 15,
     "metadata": {},
     "output_type": "execute_result"
    }
   ],
   "source": [
    "len(lda.components_)"
   ]
  },
  {
   "cell_type": "code",
   "execution_count": 16,
   "id": "be61548c",
   "metadata": {},
   "outputs": [
    {
     "data": {
      "text/plain": [
       "array([[ 7.56164138,  0.12510745, 14.78257842, ...,  0.12516389,\n",
       "         0.12500012,  0.12500005],\n",
       "       [13.51931177,  0.12501205,  0.94854029, ...,  0.12584713,\n",
       "         0.12500012,  0.12500005],\n",
       "       [ 0.12534724,  1.12493878, 11.88443432, ...,  0.13075383,\n",
       "         3.12499924,  0.12500004],\n",
       "       ...,\n",
       "       [10.54936001,  0.12500001, 29.10208387, ...,  3.11796871,\n",
       "         0.12500008,  0.12500003],\n",
       "       [ 0.12530522,  0.12500001, 20.20509504, ...,  0.1250001 ,\n",
       "         0.12500011,  5.12499969],\n",
       "       [ 6.7344875 ,  0.12500001,  0.25120873, ...,  0.12500011,\n",
       "         0.12500012,  0.12500005]])"
      ]
     },
     "execution_count": 16,
     "metadata": {},
     "output_type": "execute_result"
    }
   ],
   "source": [
    "lda.components_"
   ]
  },
  {
   "cell_type": "code",
   "execution_count": 17,
   "id": "45a65bd8",
   "metadata": {},
   "outputs": [
    {
     "data": {
      "text/plain": [
       "29998"
      ]
     },
     "execution_count": 17,
     "metadata": {},
     "output_type": "execute_result"
    }
   ],
   "source": [
    "len(lda.components_[0])"
   ]
  },
  {
   "cell_type": "markdown",
   "id": "9e30cf34",
   "metadata": {},
   "source": [
    "### Show most important words of first extracted topic"
   ]
  },
  {
   "cell_type": "code",
   "execution_count": 18,
   "id": "c617b9e0",
   "metadata": {},
   "outputs": [],
   "source": [
    "first_topic = lda.components_[0]"
   ]
  },
  {
   "cell_type": "code",
   "execution_count": 19,
   "id": "258f618e",
   "metadata": {},
   "outputs": [
    {
     "data": {
      "text/plain": [
       "array([ 1589, 12143,  9271, ..., 25501, 19899, 21156], dtype=int64)"
      ]
     },
     "execution_count": 19,
     "metadata": {},
     "output_type": "execute_result"
    }
   ],
   "source": [
    "first_topic.argsort() # returns indices of ascending sorted array values "
   ]
  },
  {
   "cell_type": "code",
   "execution_count": 20,
   "id": "5966880a",
   "metadata": {},
   "outputs": [],
   "source": [
    "# the last 10 entries are the 10 most important words for topic 1\n",
    "top_words_indices = first_topic.argsort()[-10:]"
   ]
  },
  {
   "cell_type": "code",
   "execution_count": 21,
   "id": "11648839",
   "metadata": {},
   "outputs": [
    {
     "name": "stdout",
     "output_type": "stream",
     "text": [
      "focus\n",
      "online\n",
      "moskau\n",
      "un\n",
      "russisch\n",
      "china\n",
      "krieg\n",
      "ukraine\n",
      "putin\n",
      "russland\n"
     ]
    }
   ],
   "source": [
    "for index in top_words_indices:\n",
    "    print(cv.get_feature_names_out()[index])"
   ]
  },
  {
   "cell_type": "markdown",
   "id": "0d661247",
   "metadata": {},
   "source": [
    "### Show most important words of first extracted topic"
   ]
  },
  {
   "cell_type": "code",
   "execution_count": 22,
   "id": "f789d8f2",
   "metadata": {},
   "outputs": [
    {
     "name": "stdout",
     "output_type": "stream",
     "text": [
      "Die TOP-15 Wörter für das Thema #0\n",
      "['land', 'präsident', 'geben', 'kreml', 'westen', 'focus', 'online', 'moskau', 'un', 'russisch', 'china', 'krieg', 'ukraine', 'putin', 'russland']\n",
      "\n",
      "\n",
      "Die TOP-15 Wörter für das Thema #1\n",
      "['team', 'spiel', 'sieg', 'erster', 'partei', 'dfb', 'fc', 'bundesliga', 'gewinnen', 'deutsch', 'fußball', 'frau', 'bayern', 'wm', 'afd']\n",
      "\n",
      "\n",
      "Die TOP-15 Wörter für das Thema #2\n",
      "['groß', 'grüne', 'stehen', 'kanzler', 'lindner', 'gut', 'geben', 'wahl', 'deutsch', 'online', 'cdu', 'focus', 'spd', 'scholz', 'berlin']\n",
      "\n",
      "\n",
      "Die TOP-15 Wörter für das Thema #3\n",
      "['gipfel', 'g7', 'inflation', 'baerbock', 'deutsch', 'hoch', 'generation', 'zahl', 'china', 'steigen', 'geben', 'deutschland', 'us', 'pandemie', 'corona']\n",
      "\n",
      "\n",
      "Die TOP-15 Wörter für das Thema #4\n",
      "['verurteilen', 'regierung', 'weit', 'donald', 'iran', 'biden', 'gericht', 'ex', 'polizei', 'protest', 'mensch', 'usa', 'trump', 'präsident', 'us']\n",
      "\n",
      "\n",
      "Die TOP-15 Wörter für das Thema #5\n",
      "['mensch', 'groß', 'geld', 'million', 'bundesregierung', 'grüne', 'gut', 'deutsch', 'geben', 'hoch', 'gas', 'ampel', 'habeck', 'euro', 'deutschland']\n",
      "\n",
      "\n",
      "Die TOP-15 Wörter für das Thema #6\n",
      "['entwicklung', 'kiew', 'soldat', 'deutschland', 'wagner', 'liveblog', 'lage', 'präsident', 'putin', 'selenskyj', 'russland', 'ukrainisch', 'krieg', 'russisch', 'ukraine']\n",
      "\n",
      "\n",
      "Die TOP-15 Wörter für das Thema #7\n",
      "['ticker', 'regierung', 'geben', 'kiew', 'ukrainisch', 'weit', 'deutschland', 'land', 'israel', 'russisch', 'scholz', 'krieg', 'russland', 'ukraine', 'eu']\n",
      "\n",
      "\n"
     ]
    }
   ],
   "source": [
    "for index, topic in enumerate(lda.components_):\n",
    "    print(f'Die TOP-15 Wörter für das Thema #{index}')\n",
    "    print([cv.get_feature_names_out()[i] for i in topic.argsort()[-15:]])\n",
    "    print('\\n')"
   ]
  },
  {
   "cell_type": "markdown",
   "id": "a0973fc9",
   "metadata": {},
   "source": [
    "### Get topics with highest probability for news items in train data"
   ]
  },
  {
   "cell_type": "code",
   "execution_count": 23,
   "id": "0f46f47f",
   "metadata": {},
   "outputs": [
    {
     "data": {
      "text/plain": [
       "(67513, 8)"
      ]
     },
     "execution_count": 23,
     "metadata": {},
     "output_type": "execute_result"
    }
   ],
   "source": [
    "topic_results = lda.transform(dtm)\n",
    "topic_results.shape"
   ]
  },
  {
   "cell_type": "code",
   "execution_count": 24,
   "id": "823c7020",
   "metadata": {},
   "outputs": [
    {
     "data": {
      "text/plain": [
       "array([0.00544, 0.00544, 0.11746, 0.00544, 0.00544, 0.74665, 0.00544,\n",
       "       0.1087 ])"
      ]
     },
     "execution_count": 24,
     "metadata": {},
     "output_type": "execute_result"
    }
   ],
   "source": [
    "topic_results[0].round(5)"
   ]
  },
  {
   "cell_type": "code",
   "execution_count": 25,
   "id": "f68cacd0",
   "metadata": {},
   "outputs": [
    {
     "data": {
      "text/plain": [
       "5"
      ]
     },
     "execution_count": 25,
     "metadata": {},
     "output_type": "execute_result"
    }
   ],
   "source": [
    "topic_results[0].argmax()"
   ]
  },
  {
   "cell_type": "code",
   "execution_count": 26,
   "id": "6e11fb89",
   "metadata": {},
   "outputs": [],
   "source": [
    "# save topic to train dataset\n",
    "train['topic'] = topic_results.argmax(axis=1)"
   ]
  },
  {
   "cell_type": "code",
   "execution_count": 27,
   "id": "7eb2c522",
   "metadata": {},
   "outputs": [
    {
     "data": {
      "text/html": [
       "<div>\n",
       "<style scoped>\n",
       "    .dataframe tbody tr th:only-of-type {\n",
       "        vertical-align: middle;\n",
       "    }\n",
       "\n",
       "    .dataframe tbody tr th {\n",
       "        vertical-align: top;\n",
       "    }\n",
       "\n",
       "    .dataframe thead th {\n",
       "        text-align: right;\n",
       "    }\n",
       "</style>\n",
       "<table border=\"1\" class=\"dataframe\">\n",
       "  <thead>\n",
       "    <tr style=\"text-align: right;\">\n",
       "      <th></th>\n",
       "      <th>date</th>\n",
       "      <th>title</th>\n",
       "      <th>description</th>\n",
       "      <th>category</th>\n",
       "      <th>text</th>\n",
       "      <th>source</th>\n",
       "      <th>title_description_text</th>\n",
       "      <th>title_cleaned</th>\n",
       "      <th>title_description_text_cleaned</th>\n",
       "      <th>topic</th>\n",
       "    </tr>\n",
       "  </thead>\n",
       "  <tbody>\n",
       "    <tr>\n",
       "      <th>0</th>\n",
       "      <td>2022-06-01 00:13:42</td>\n",
       "      <td>Preise: Grüne halten Senkung der Spritsteuer f...</td>\n",
       "      <td>Heute tritt die Steuersenkung auf Kraftstoffe ...</td>\n",
       "      <td>Other</td>\n",
       "      <td>NaN</td>\n",
       "      <td>stern</td>\n",
       "      <td>Preise: Grüne halten Senkung der Spritsteuer f...</td>\n",
       "      <td>Preis grüne halten Senkung Spritsteuer falsch ...</td>\n",
       "      <td>Preis grüne halten Senkung Spritsteuer falsch ...</td>\n",
       "      <td>5</td>\n",
       "    </tr>\n",
       "    <tr>\n",
       "      <th>1</th>\n",
       "      <td>2022-06-01 01:55:03</td>\n",
       "      <td>Biden warnt Putin: USA liefern moderne Raketen...</td>\n",
       "      <td>Die USA rüsten die Ukraine mit fortschrittlich...</td>\n",
       "      <td>Other</td>\n",
       "      <td>NaN</td>\n",
       "      <td>stern</td>\n",
       "      <td>Biden warnt Putin: USA liefern moderne Raketen...</td>\n",
       "      <td>Biden warnen Putin USA liefern modern Raketens...</td>\n",
       "      <td>Biden warnen Putin USA liefern modern Raketens...</td>\n",
       "      <td>0</td>\n",
       "    </tr>\n",
       "    <tr>\n",
       "      <th>2</th>\n",
       "      <td>2022-06-01 02:04:08</td>\n",
       "      <td>Soziale Medien: FDP-Politiker Kuhle: Internet-...</td>\n",
       "      <td>Eine «ZDF Magazin Royale»-Recherche beschäftig...</td>\n",
       "      <td>Other</td>\n",
       "      <td>NaN</td>\n",
       "      <td>stern</td>\n",
       "      <td>Soziale Medien: FDP-Politiker Kuhle: Internet-...</td>\n",
       "      <td>sozial Medium FDP-Politiker Kuhle Internet-Str...</td>\n",
       "      <td>sozial Medium FDP-Politiker Kuhle Internet-Str...</td>\n",
       "      <td>2</td>\n",
       "    </tr>\n",
       "    <tr>\n",
       "      <th>3</th>\n",
       "      <td>2022-06-01 02:26:58</td>\n",
       "      <td>Liveblog: ++ Zwei von drei ukrainischen Kinder...</td>\n",
       "      <td>Rund zwei von drei Mädchen und Jungen in der U...</td>\n",
       "      <td>Missing</td>\n",
       "      <td>NaN</td>\n",
       "      <td>Tagesschau</td>\n",
       "      <td>Liveblog: ++ Zwei von drei ukrainischen Kinder...</td>\n",
       "      <td>Liveblog ukrainisch Kind vertreiben</td>\n",
       "      <td>Liveblog ukrainisch Kind vertreiben rund Mädch...</td>\n",
       "      <td>6</td>\n",
       "    </tr>\n",
       "    <tr>\n",
       "      <th>4</th>\n",
       "      <td>2022-06-01 02:31:43</td>\n",
       "      <td>Finanzen: Dänemark stimmt über EU-Verteidigung...</td>\n",
       "      <td>Vorbehalt verteidigen oder Verteidigung ohne V...</td>\n",
       "      <td>Other</td>\n",
       "      <td>NaN</td>\n",
       "      <td>stern</td>\n",
       "      <td>Finanzen: Dänemark stimmt über EU-Verteidigung...</td>\n",
       "      <td>Finanz Dänemark stimmen EU-Verteidigungsvorbehalt</td>\n",
       "      <td>Finanz Dänemark stimmen EU-Verteidigungsvorbeh...</td>\n",
       "      <td>7</td>\n",
       "    </tr>\n",
       "  </tbody>\n",
       "</table>\n",
       "</div>"
      ],
      "text/plain": [
       "                  date                                              title  \\\n",
       "0  2022-06-01 00:13:42  Preise: Grüne halten Senkung der Spritsteuer f...   \n",
       "1  2022-06-01 01:55:03  Biden warnt Putin: USA liefern moderne Raketen...   \n",
       "2  2022-06-01 02:04:08  Soziale Medien: FDP-Politiker Kuhle: Internet-...   \n",
       "3  2022-06-01 02:26:58  Liveblog: ++ Zwei von drei ukrainischen Kinder...   \n",
       "4  2022-06-01 02:31:43  Finanzen: Dänemark stimmt über EU-Verteidigung...   \n",
       "\n",
       "                                         description category  text  \\\n",
       "0  Heute tritt die Steuersenkung auf Kraftstoffe ...    Other   NaN   \n",
       "1  Die USA rüsten die Ukraine mit fortschrittlich...    Other   NaN   \n",
       "2  Eine «ZDF Magazin Royale»-Recherche beschäftig...    Other   NaN   \n",
       "3  Rund zwei von drei Mädchen und Jungen in der U...  Missing   NaN   \n",
       "4  Vorbehalt verteidigen oder Verteidigung ohne V...    Other   NaN   \n",
       "\n",
       "       source                             title_description_text  \\\n",
       "0       stern  Preise: Grüne halten Senkung der Spritsteuer f...   \n",
       "1       stern  Biden warnt Putin: USA liefern moderne Raketen...   \n",
       "2       stern  Soziale Medien: FDP-Politiker Kuhle: Internet-...   \n",
       "3  Tagesschau  Liveblog: ++ Zwei von drei ukrainischen Kinder...   \n",
       "4       stern  Finanzen: Dänemark stimmt über EU-Verteidigung...   \n",
       "\n",
       "                                       title_cleaned  \\\n",
       "0  Preis grüne halten Senkung Spritsteuer falsch ...   \n",
       "1  Biden warnen Putin USA liefern modern Raketens...   \n",
       "2  sozial Medium FDP-Politiker Kuhle Internet-Str...   \n",
       "3                Liveblog ukrainisch Kind vertreiben   \n",
       "4  Finanz Dänemark stimmen EU-Verteidigungsvorbehalt   \n",
       "\n",
       "                      title_description_text_cleaned  topic  \n",
       "0  Preis grüne halten Senkung Spritsteuer falsch ...      5  \n",
       "1  Biden warnen Putin USA liefern modern Raketens...      0  \n",
       "2  sozial Medium FDP-Politiker Kuhle Internet-Str...      2  \n",
       "3  Liveblog ukrainisch Kind vertreiben rund Mädch...      6  \n",
       "4  Finanz Dänemark stimmen EU-Verteidigungsvorbeh...      7  "
      ]
     },
     "execution_count": 27,
     "metadata": {},
     "output_type": "execute_result"
    }
   ],
   "source": [
    "train.head()"
   ]
  },
  {
   "cell_type": "markdown",
   "id": "dc4070d6",
   "metadata": {},
   "source": [
    "## Visualize model"
   ]
  },
  {
   "cell_type": "code",
   "execution_count": 28,
   "id": "f6745175",
   "metadata": {},
   "outputs": [
    {
     "data": {
      "text/html": [
       "\n",
       "<link rel=\"stylesheet\" type=\"text/css\" href=\"https://cdn.jsdelivr.net/gh/bmabey/pyLDAvis@3.4.0/pyLDAvis/js/ldavis.v1.0.0.css\">\n",
       "\n",
       "\n",
       "<div id=\"ldavis_el557619918720472323748255292\" style=\"background-color:white;\"></div>\n",
       "<script type=\"text/javascript\">\n",
       "\n",
       "var ldavis_el557619918720472323748255292_data = {\"mdsDat\": {\"x\": [1.6764568090438843, 59.70880889892578, -7.054172515869141, -66.99657440185547, -76.05050659179688, 82.25265502929688, -25.30457878112793, 45.19855880737305], \"y\": [20.25135612487793, -37.42601776123047, -60.902164459228516, -23.303979873657227, 46.95735168457031, 29.5989990234375, 96.43911743164062, 89.90345001220703], \"topics\": [1, 2, 3, 4, 5, 6, 7, 8], \"cluster\": [1, 1, 1, 1, 1, 1, 1, 1], \"Freq\": [17.16039440042754, 14.942608294232793, 14.102785927431539, 12.32425781866911, 10.692478074969046, 10.376446393865251, 10.317648595048626, 10.083380495356103]}, \"tinfo\": {\"Term\": [\"ukraine\", \"eu\", \"russland\", \"krieg\", \"corona\", \"russisch\", \"putin\", \"us\", \"ukrainisch\", \"china\", \"pr\\u00e4sident\", \"afd\", \"trump\", \"scholz\", \"wm\", \"euro\", \"selenskyj\", \"habeck\", \"berlin\", \"protest\", \"bayern\", \"polizei\", \"israel\", \"usa\", \"un\", \"pandemie\", \"fu\\u00dfball\", \"kiew\", \"focus\", \"ampel\", \"s\\u00f6der\", \"aiwanger\", \"entlastung\", \"gasumlage\", \"rbb\", \"documenta\", \"cannabis\", \"sparen\", \"lng\", \"w\\u00e4rmepumpe\", \"erneuerbar\", \"heizung\", \"uniper\", \"energiekris\", \"laufzeit\", \"wasserstoff\", \"bundesnetzagentur\", \"gaspreise\", \"schlesinger\", \"terminal\", \"flugblatt\", \"mieter\", \"energiekosten\", \"mindestlohn\", \"49\", \"energiewende\", \"pflege\", \"gasheizung\", \"fossil\", \"tempolimit\", \"energie\", \"atomkraft\", \"wirtschaftsminister\", \"entlastungspaket\", \"heil\", \"ticket\", \"euro\", \"entlasten\", \"habeck\", \"bund\", \"co2\", \"teuer\", \"gas\", \"kosten\", \"verbraucher\", \"faeser\", \"geld\", \"kommune\", \"csu\", \"ampel\", \"klimaschutz\", \"bundesregierung\", \"deutschland\", \"haushalt\", \"milliarde\", \"preis\", \"million\", \"studie\", \"unternehmen\", \"gr\\u00fcne\", \"klima\", \"hoch\", \"fdp\", \"plan\", \"robert\", \"gut\", \"deutsch\", \"geben\", \"gro\\u00df\", \"land\", \"mensch\", \"sagen\", \"prozent\", \"kritik\", \"sehen\", \"chef\", \"zeigen\", \"johnson\", \"finanzminister\", \"gabor\", \"steingart\", \"warnstreik\", \"giffey\", \"kindergrundsicherung\", \"truss\", \"verdi\", \"hugo\", \"cum\", \"vogg\", \"lufthansa\", \"tour\", \"sunak\", \"olympia\", \"di\", \"evg\", \"wegner\", \"bundesfinanzminister\", \"streik\", \"franziska\", \"benedikt\", \"wimbledon\", \"k\\u00fchnert\", \"boris\", \"paus\", \"france\", \"zverev\", \"suisse\", \"premierministerin\", \"open\", \"ver\", \"lindner\", \"berlin\", \"bahn\", \"jan\", \"wahrheit\", \"gewerkschaft\", \"spd\", \"berliner\", \"papst\", \"cdu\", \"olaf\", \"scholz\", \"niedersachsen\", \"wahl\", \"kanzler\", \"focus\", \"online\", \"christian\", \"autor\", \"gr\\u00fcne\", \"rot\", \"premier\", \"britisch\", \"partei\", \"fdp\", \"deutsch\", \"gut\", \"frage\", \"stehen\", \"ampel\", \"geben\", \"heute\", \"gro\\u00df\", \"ex\", \"sagen\", \"deutschland\", \"trump\", \"donald\", \"haft\", \"l\\u00fctzerath\", \"anklage\", \"prozess\", \"mord\", \"kapitol\", \"justiz\", \"bundesstaat\", \"festnehmen\", \"rentenreform\", \"staatsanwaltschaft\", \"demonstration\", \"mexiko\", \"demonstrant\", \"haftstrafe\", \"anklagen\", \"republikaner\", \"tiktok\", \"r\\u00e4umung\", \"florida\", \"pelosi\", \"\\u00fcberschwemmung\", \"bolsonaro\", \"fbi\", \"verd\\u00e4chtige\", \"trumps\", \"pr\\u00e4sidentschaftswahl\", \"razzia\", \"polizist\", \"polizei\", \"gericht\", \"protest\", \"york\", \"steinmeier\", \"schu\\u00df\", \"sturm\", \"verurteilen\", \"ermittlung\", \"festnahme\", \"iran\", \"us\", \"urteil\", \"brasilien\", \"mutma\\u00dflich\", \"biden\", \"taiwan\", \"pr\\u00e4sident\", \"ex\", \"usa\", \"mensch\", \"tod\", \"tote\", \"frankreich\", \"new\", \"mann\", \"sterben\", \"regierung\", \"weit\", \"t\\u00f6ten\", \"geben\", \"fall\", \"wahl\", \"land\", \"stehen\", \"wagner\", \"saporischschja\", \"bachmut\", \"s\\u00f6ldner\", \"wolodymyr\", \"prigoschin\", \"iii\", \"jewgeni\", \"hitzewelle\", \"rheinmetall\", \"kommandeur\", \"vis\", \"puma\", \"gegenoffensiv\", \"ak\", \"sch\\u00fctzenpanzer\", \"berlusconi\", \"patriot\", \"masala\", \"updat\", \"milit\\u00e4rexperte\", \"kadyrow\", \"wetterdienst\", \"ryan\", \"s\\u00f6ldnertruppe\", \"m\\u00f6lling\", \"faso\", \"burkina\", \"raketeneinschlag\", \"s\\u00f6ldnergruppe\", \"charles\", \"k\\u00f6nig\", \"truppe\", \"selenskyj\", \"offensive\", \"waldbrand\", \"cherson\", \"queen\", \"leopard\", \"general\", \"donezk\", \"soldat\", \"donbass\", \"invasion\", \"front\", \"ukrainer\", \"panzer\", \"ukrainisch\", \"armee\", \"russisch\", \"gebiet\", \"ukraine\", \"liveblog\", \"lage\", \"krieg\", \"russe\", \"polen\", \"entwicklung\", \"kiew\", \"russland\", \"putin\", \"nato\", \"region\", \"angriff\", \"\\u00fcberblick\", \"stadt\", \"pr\\u00e4sident\", \"kampf\", \"deutschland\", \"moskau\", \"aktuell\", \"chef\", \"land\", \"fu\\u00dfball\", \"bundesliga\", \"fc\", \"afd\", \"dfb\", \"em\", \"league\", \"dortmund\", \"th\\u00fcringen\", \"freiburg\", \"tor\", \"bvb\", \"eintracht\", \"borussia\", \"hertha\", \"liga\", \"weltmeister\", \"schalke\", \"pokal\", \"wolfsburg\", \"spieltag\", \"mainz\", \"leverkusen\", \"champion\", \"frauen\", \"hartz\", \"vfl\", \"flick\", \"fifa\", \"iv\", \"wm\", \"trainer\", \"team\", \"bayer\", \"frankfurt\", \"saison\", \"katar\", \"finale\", \"leipzig\", \"bayern\", \"england\", \"fan\", \"spiel\", \"sieg\", \"wagenknecht\", \"gewinnen\", \"linke\", \"frau\", \"film\", \"partei\", \"m\\u00fcnchen\", \"mann\", \"deutsch\", \"frankreich\", \"erster\", \"stehen\", \"feiern\", \"gro\\u00df\", \"geben\", \"gut\", \"deutschland\", \"ulrich\", \"reitz\", \"xi\", \"schr\\u00f6der\", \"korrespondent\", \"kim\", \"gerhard\", \"erdbeben\", \"jinping\", \"lawrow\", \"newsblog\", \"sicherheitskonferenz\", \"altkanzler\", \"versteher\", \"g\\u00f6rlach\", \"jong\", \"bnd\", \"propaganda\", \"klitschko\", \"abe\", \"mangott\", \"munz\", \"fukushima\", \"blinken\", \"entgleisen\", \"getreideabkomme\", \"uran\", \"garmisch\", \"audi\", \"blink\", \"un\", \"guterres\", \"meldung\", \"syrien\", \"rapper\", \"lukaschenko\", \"machthaber\", \"atomwaffe\", \"putin\", \"sicherheitsrat\", \"japan\", \"westen\", \"au\\u00dfenminister\", \"china\", \"russland\", \"stern\", \"analyse\", \"kreml\", \"krieg\", \"wladimir\", \"moskau\", \"belarus\", \"indien\", \"ukraine\", \"russisch\", \"online\", \"focus\", \"t\\u00fcrkei\", \"peking\", \"baerbock\", \"international\", \"sterben\", \"pr\\u00e4sident\", \"land\", \"geben\", \"usa\", \"sprechen\", \"zeigen\", \"gro\\u00df\", \"eu\", \"israel\", \"kommission\", \"justizreform\", \"sjewjerodonezk\", \"leyen\", \"verbrenner\", \"georgien\", \"aserbaidschan\", \"ahrtal\", \"bergkarabach\", \"westjordanland\", \"orban\", \"pal\\u00e4stinenser\", \"nahost\", \"br\\u00fcssel\", \"taliban\", \"gazastreifen\", \"kaliningrad\", \"mecklenburg\", \"rum\\u00e4nien\", \"fridays\", \"aviv\", \"beitrittskandidat\", \"afghanisch\", \"kommissionspr\\u00e4sidentin\", \"abfeuern\", \"raketenbeschuss\", \"future\", \"schwesig\", \"melnyk\", \"afghanistan\", \"netanjahu\", \"armenien\", \"dnipro\", \"israelisch\", \"kosovo\", \"moldau\", \"wiederaufbau\", \"gefl\\u00fcchtet\", \"stream\", \"nord\", \"fl\\u00fcchtling\", \"ungarn\", \"odessa\", \"sanktion\", \"explosion\", \"krim\", \"ukraine\", \"ticker\", \"scholz\", \"europ\\u00e4isch\", \"kiew\", \"botschafter\", \"rakete\", \"pipeline\", \"parlament\", \"land\", \"russland\", \"liefern\", \"krieg\", \"russisch\", \"weit\", \"ukrainisch\", \"regierung\", \"deutschland\", \"kanzler\", \"staat\", \"geben\", \"europa\", \"angriff\", \"deutsch\", \"entwicklung\", \"usa\", \"mensch\", \"covid\", \"sudan\", \"musk\", \"saudi\", \"rki\", \"arabien\", \"letzten\", \"ezb\", \"wall\", \"inzidenz\", \"notenbank\", \"elon\", \"impfstoff\", \"corona\", \"infektion\", \"coronavirus\", \"leitzins\", \"omikron\", \"rezession\", \"fed\", \"ma\\u00dfnahm\", \"virus\", \"brics\", \"marktbericht\", \"pandemie\", \"inflationsrate\", \"zentralbank\", \"salman\", \"rushdie\", \"biontech\", \"generation\", \"anleger\", \"g7\", \"impfung\", \"elmau\", \"dax\", \"who\", \"maskenpflicht\", \"twitter\", \"inflation\", \"zins\", \"zahl\", \"schweden\", \"gipfel\", \"baerbock\", \"steigen\", \"finnland\", \"sinken\", \"wirtschaft\", \"au\\u00dfenministerin\", \"prozent\", \"stark\", \"lauterbach\", \"hoch\", \"china\", \"us\", \"geben\", \"deutschland\", \"news\", \"nato\", \"deutsch\", \"land\", \"usa\", \"ticker\", \"bleiben\", \"mensch\", \"gut\"], \"Freq\": [11798.0, 4071.0, 5986.0, 5947.0, 2936.0, 5668.0, 3957.0, 4353.0, 2809.0, 2863.0, 4159.0, 1448.0, 1571.0, 2587.0, 1348.0, 1937.0, 1463.0, 1656.0, 2787.0, 1412.0, 1267.0, 1318.0, 966.0, 2942.0, 1150.0, 900.0, 897.0, 1562.0, 2240.0, 1681.0, 423.03087423905896, 318.2735305531516, 253.15549576226027, 219.33596249361176, 219.33582820664668, 203.81616872922453, 177.62434750921287, 389.97362314804093, 160.16730258374372, 140.76779686466207, 155.2067047899226, 135.91788951721995, 133.00795689882318, 177.32053859987542, 124.27810413621911, 129.0856409944618, 121.36816767846689, 121.36786656614557, 119.42832658549021, 119.42812489997905, 116.51817981262099, 114.57803017869011, 110.69836608688942, 98.08344388485457, 97.11874704746883, 233.6657179238125, 95.1787679179996, 94.20893922078749, 117.26067638020483, 91.29897087005627, 730.1448007302204, 211.10444249332315, 443.596564217901, 174.82480113556326, 218.09608053608721, 433.8053261624768, 1832.9923265369912, 178.43689992262927, 1551.0210819700062, 708.3419326151708, 197.0995997943203, 559.0424435574123, 1077.4844121244425, 549.9269116881405, 319.3165140083817, 562.7058908267644, 831.5790241079968, 305.16195715562776, 334.3603370817538, 1103.786278003788, 346.32310199446505, 842.9244059753509, 2769.2851450713592, 265.66628091161965, 561.4706649268754, 613.6137407213633, 839.3916418563239, 538.405398684714, 490.1236539074327, 843.0400844919508, 491.10491797446264, 1049.2268985726332, 723.4101091105027, 611.6699620862214, 432.4084006536464, 918.6350656058165, 997.3902655692993, 1039.8727987776897, 827.274948875004, 822.5643063955216, 826.256908829324, 684.1965265895411, 575.7762704417989, 618.3890810229528, 605.6251680439848, 589.8181072635465, 552.8552133192466, 524.3846598491378, 424.8033587109291, 389.6578268309453, 384.7764213827046, 360.3695448886009, 194.4017544864631, 190.4965417410082, 183.6627393138236, 179.75754356358772, 174.87616510801993, 173.89985745162673, 169.99478381682778, 201.04166202298723, 161.20797713839002, 156.32676334801124, 139.72984514235344, 128.0145650856577, 117.27567443421306, 105.56031034898896, 105.5599654543339, 523.9144351201381, 101.65500219738882, 99.70254629398976, 94.82111000818621, 95.76763781509094, 475.7942094087722, 135.33304653923523, 82.12947517902343, 78.22423074813598, 77.24789721418706, 119.05811917204703, 92.40573528404815, 115.40518886572868, 747.6515780261117, 2110.2482506032907, 607.7835486413264, 215.55531103789536, 401.6401632717442, 329.71265330774577, 1245.2242095654124, 620.0422972749315, 275.7637135380683, 1144.3620879676016, 547.428500821141, 1445.0821729678014, 275.33450154735783, 863.3730618252833, 739.6202304858015, 1183.2696002703378, 1102.3055736327, 433.526632672518, 436.2756667688687, 715.5853283783883, 303.3490233019641, 324.05889527698787, 504.8037791604817, 583.116731747893, 553.8399359751633, 977.9760961818849, 755.7387101183476, 545.9574704105339, 725.2035420613468, 562.1401698868515, 757.3471001589455, 562.4964427675853, 648.1908489834971, 495.7185859277113, 504.91360375505684, 551.5357404297444, 1570.4598969063343, 652.2361244539271, 577.1795053642072, 356.8837569800345, 322.7672011316542, 476.339224766276, 299.35908410445427, 258.43319129761636, 258.4255296179915, 254.53407866779585, 428.38801530007544, 221.39224989826013, 274.7664501682379, 211.64435508272945, 198.97260117290855, 210.6176537359737, 171.67941468571243, 165.83074535525827, 396.6245850340066, 159.0051240227678, 156.08316161884335, 151.20935340091327, 150.23476617384043, 174.46412848699023, 143.41147145307474, 139.51236688548858, 136.587984901928, 134.63861761031342, 132.68311410690842, 253.69937538895428, 325.8551295902529, 1250.2602921750208, 948.3189522823781, 1330.5371058532035, 363.81226622280843, 276.5202428046056, 227.37684887224083, 332.06744271582755, 597.9228387877702, 379.4409740335313, 245.1704757446153, 889.8843028661457, 3167.002196202841, 499.7227901865765, 330.29755288243814, 526.5410982367408, 925.3951408620762, 575.7565663160786, 2277.8659083699918, 1101.1365092964222, 1487.1125259405637, 1431.9728361951884, 484.0541868741867, 581.1482690554435, 560.1228177634923, 438.73459400857683, 551.3355196795538, 523.7365339080604, 598.1673013341773, 603.4404425900944, 421.47799740485453, 561.8688880671888, 417.77808979849493, 423.2325125634075, 432.12418769118017, 424.7724282143419, 827.9397778792868, 489.66403409763984, 542.9910314052039, 221.0141396726233, 189.17407900357045, 444.67279289333453, 168.27804390574116, 126.48923909356898, 118.52904307596756, 103.60413132587196, 98.62902824977803, 98.62897563804425, 96.639134974156, 195.23802908816432, 95.6390457542089, 89.67417723638926, 83.70395495558752, 97.48933354260762, 80.71923503835663, 138.716984755755, 299.9956292345796, 72.75915137100235, 71.76411973372889, 71.76408132597503, 70.76922616912776, 68.77923673402226, 62.809182588013584, 62.80918258799272, 75.54171392914758, 59.82424502072856, 300.93655280209384, 302.42423261441917, 723.1857371940497, 1356.2992499768661, 275.7476376470445, 256.5950052582775, 310.25564439488454, 306.32688818869144, 358.5274564713741, 235.08307455381126, 192.6599129149502, 802.3261419810193, 210.4048580433909, 440.6772777357442, 342.2182189160212, 366.0392367089523, 536.8045291777693, 2020.4248435013008, 626.3295342213287, 3497.4773296829962, 434.4310931527142, 5838.927829946802, 833.985329452333, 862.7601007997005, 2678.4162080543306, 469.2120488421458, 584.241777682174, 742.9636267581507, 797.6289876499976, 1868.7224899763332, 1329.1209559494976, 627.8963251186676, 485.2770810821771, 691.2158883107173, 517.6622978127374, 645.4171948154266, 1045.6645386624589, 530.8104353974741, 805.4875317266764, 534.9472482116664, 525.9389651641723, 531.5411025948453, 492.21080635699826, 896.6549556493165, 706.5972983043057, 698.9181873315208, 1446.682932648574, 616.2890307535516, 476.95185733971033, 342.79983954040364, 237.21210900405543, 234.33229355489556, 228.57300807129167, 226.6531912587968, 215.13478718370763, 200.73644491780095, 188.25794733578357, 174.81940181975926, 167.14014420852504, 166.18036792502224, 165.22063720813654, 161.38110106555692, 159.46128252400464, 156.5816654037426, 159.42802225405896, 152.7420999390849, 146.00485187049668, 140.26326373059246, 139.30334975601107, 137.38389454285573, 137.38387137544456, 136.42387181386303, 136.4236770860304, 1334.485000361578, 300.9250475988533, 540.5431625324517, 239.29186431254433, 460.31304384273574, 159.29383948972747, 420.41183946661715, 224.45462980970993, 383.697949662056, 1026.1707886776344, 221.13906409927105, 286.36966840483865, 549.5904129519062, 582.8998473307212, 274.3965284259756, 746.7673608081686, 405.1181052005868, 935.968458569429, 290.83366023587416, 604.5188509779412, 375.56627921280153, 532.2522526258111, 819.3946280389806, 446.62964589253477, 586.1840271969113, 476.88419009953355, 309.23131604322083, 414.937716067018, 360.64080788217495, 326.6252357150929, 317.4426549143146, 453.8213214501159, 409.62996063540726, 421.3586010126052, 321.24683805518947, 293.7500176196359, 221.07975606630254, 212.24145261906816, 388.1716616971172, 186.70202220570633, 177.8703973537958, 161.17564376192473, 141.53518539966177, 135.64294461960705, 131.71497553505503, 130.73295481417992, 115.02042298107851, 113.0561828310157, 200.6820926483849, 104.16420910189112, 87.52320951145397, 71.81102142706364, 66.90083334160408, 65.91873608622717, 63.951753784225225, 52.166867101216226, 51.18824595322602, 51.1881582336482, 50.20622230692827, 48.241669849540585, 46.277849385548436, 1031.6964077405444, 100.31145698941867, 203.80761970290297, 390.8095124133137, 64.95843235151358, 99.09234573633162, 190.3956881872353, 166.2477479482589, 2624.7671841912, 143.41201242697883, 354.8632063618476, 603.876214429632, 344.8568803017136, 1649.785527892443, 3017.4467667459903, 445.8437529492763, 380.363910391377, 508.8097635597868, 2217.5503319391337, 379.5910861400159, 704.7020715969431, 260.91703379657145, 279.84993071817576, 2464.7942390513613, 1176.71571394909, 636.5396465032006, 631.9275589384164, 424.74134336598684, 271.69311411496903, 393.806476012926, 350.26536946956577, 433.23718863297995, 476.7120893503855, 465.274438145249, 490.474652773897, 422.91706294721183, 391.8335435147626, 371.7293008129067, 358.09881929752027, 4069.874723284885, 963.9911539215333, 403.07724478420295, 221.06375911698333, 161.24468689109008, 180.43947861314126, 203.4140175518997, 135.19438840286963, 125.54694286978793, 115.89854820332359, 112.03945842424031, 109.1449560904075, 104.26460148417745, 138.6845135462995, 111.89147200154812, 327.83972044647226, 230.15350532002017, 81.16533225166583, 79.2314932358928, 78.270528391101, 75.34238265114456, 101.07938885947615, 71.51699621295666, 69.58748331298193, 68.61357569555996, 64.76332150135593, 64.76309829158077, 61.86874337403813, 107.48897091629334, 57.04473151834234, 209.33359823608174, 400.87538810650614, 146.0442409507432, 112.48213577221401, 96.63619936422735, 240.1656706713382, 160.29708292910163, 146.42197644746543, 156.10955902142967, 273.55715898985665, 468.3036375277468, 455.18857767420195, 327.7931622386607, 246.36851375099556, 188.98171969586184, 506.0392722238569, 363.857059444958, 344.2712617765913, 3491.220984641931, 538.8275188558115, 1012.5971611668124, 418.96056197068924, 654.561090861727, 259.3649011751119, 338.01600211080245, 210.43024984453723, 370.1519530757687, 860.5074193418506, 1088.040740676425, 399.4114859105059, 1029.6619368034935, 970.7759777888884, 701.4403691268631, 690.8419634589781, 578.8073581931193, 852.0864052722915, 408.6195904150907, 421.43862423407165, 641.785042921041, 414.112875317252, 427.0032908688018, 431.07397611275167, 379.0573142429126, 401.4279405835473, 382.8274482489962, 339.07510887081787, 337.12269100668703, 313.67927922615485, 239.44070845254524, 239.4392840430701, 218.92820960649368, 212.0903677334849, 209.1602060912579, 207.19552035456982, 202.32260974844664, 194.50807350389616, 187.67023633096233, 181.79787141866805, 2921.672653923027, 140.69151690709637, 129.99498716698668, 113.4325165789147, 112.45570484044461, 133.75747692695214, 109.52525432802473, 107.57147463908008, 102.59134207201991, 90.96551431426421, 445.9912483813157, 891.9227366372692, 87.05842204574587, 85.10477529105157, 80.22068829734066, 80.22059532838524, 74.35989561369286, 720.0939644194913, 287.0740687108463, 641.2221037279683, 218.810559155213, 130.74301769949918, 470.8349382898639, 141.56274246350537, 219.69230397066354, 349.2536738248686, 661.147612094535, 154.5420256810342, 728.5668323727825, 377.87291734566213, 630.087456738081, 684.0008693858035, 845.4052871976528, 279.049036844922, 346.8518782548214, 406.4142140968738, 337.80948552809303, 585.3595808812835, 589.820168478423, 432.5125100891664, 719.3132246328937, 799.4136145926583, 889.0947286688727, 851.1409215640716, 874.5240150061962, 410.2006074287602, 454.3828980639205, 718.7567552687445, 600.8140539200813, 530.1279594841344, 398.5815765158819, 449.18088018734943, 401.0273370268969, 367.6184929255609], \"Total\": [11798.0, 4071.0, 5986.0, 5947.0, 2936.0, 5668.0, 3957.0, 4353.0, 2809.0, 2863.0, 4159.0, 1448.0, 1571.0, 2587.0, 1348.0, 1937.0, 1463.0, 1656.0, 2787.0, 1412.0, 1267.0, 1318.0, 966.0, 2942.0, 1150.0, 900.0, 897.0, 1562.0, 2240.0, 1681.0, 423.8849158669734, 319.1274007761441, 254.1397847585831, 220.18974731809763, 220.18974749681516, 204.67011641860014, 178.48075367815375, 391.8824888205291, 161.02115098954565, 141.62161116878306, 156.1741217494914, 136.77172676523216, 133.86179545984328, 178.48280204160176, 125.13200234768959, 129.98184627324122, 122.22207105682459, 122.22207121042668, 120.28211705183972, 120.28211866616793, 117.37218763690126, 115.43222861448776, 111.55232501902586, 98.94265812032438, 97.97264606210057, 235.73559587770325, 96.03269237114282, 95.06271512434816, 118.34194221863088, 92.15278421768156, 743.9672026815534, 213.39224328238285, 452.06340586537914, 176.54638573022996, 221.1442159167536, 445.114517311598, 1937.478109477129, 181.37950455853115, 1656.4308439307351, 748.795422911649, 200.77512874288018, 603.4836673262785, 1213.6925576440835, 614.0850489130522, 344.51720704294064, 677.4187746423141, 1067.1620782991058, 344.1466232111632, 385.7195022093459, 1681.6153719150761, 417.41108831826506, 1289.1495222813485, 6520.017746759752, 303.72956862897405, 824.4358162554045, 941.5922127528074, 1446.8756292152348, 789.5212052799824, 698.8666910945126, 1572.037356840941, 726.0619984133306, 2265.9883684148817, 1298.3922879316322, 1053.3675526726022, 603.7855096612876, 2735.963494145555, 4556.185346652298, 5100.2192970734695, 3647.649602929002, 3809.6573440320217, 4178.486707878581, 2477.9311853129525, 1347.7061140427668, 1846.704351813262, 2318.7949479956733, 2090.2868063751675, 2584.868780779816, 525.237727469779, 425.65708168569677, 390.51097928352596, 385.6295753814602, 361.22255502310907, 195.25482239131736, 191.34969771815014, 184.5157337151904, 180.61060983576596, 175.72920573231428, 174.75292536764402, 170.8478021275867, 202.087192666612, 162.06127415620574, 157.1798724412702, 140.58309604911733, 128.86772807275497, 118.12864025746505, 106.41327060799755, 106.41326949310343, 528.1605971893222, 102.50814800686186, 100.55558598098955, 95.67418098201036, 96.65011443839646, 480.26699756237764, 136.6747784442296, 82.98253098934995, 79.07740581279613, 78.10112716257419, 121.03823854892345, 93.72089771555581, 118.11656251218663, 830.2820789177201, 2787.617097395357, 734.3212835279095, 237.90911955871636, 484.1272099822359, 389.23823642390516, 1820.5897762036639, 819.719122477292, 322.9930516381665, 1781.9152983240965, 765.2491970266072, 2587.160454420282, 329.6309885356993, 1442.6179002437073, 1193.2420044915314, 2240.229979926396, 2240.9758472314957, 637.4616628360334, 667.0732610150633, 1572.037356840941, 407.1922264986161, 460.7858981093862, 1050.5146358319182, 1390.719630941774, 1298.3922879316322, 4556.185346652298, 2735.963494145555, 1462.3824601164388, 2893.830445762717, 1681.6153719150761, 5100.2192970734695, 1815.2386673269327, 3647.649602929002, 1918.954981544529, 2477.9311853129525, 6520.017746759752, 1571.3130934934345, 653.089297810675, 578.0327884879684, 357.73705813954314, 323.6204618339749, 477.63320284807475, 300.22605083236135, 259.2863112150888, 259.286274649158, 255.3872715712341, 429.8605890030443, 222.24543592584533, 275.85750628002194, 212.49783621740278, 199.82595917036193, 211.5231585182138, 172.53268342377945, 166.68412569277726, 398.6794996788962, 159.86079328648628, 156.93652578037327, 152.0627257209247, 151.08796614176927, 175.45985812043787, 144.26464668995868, 140.3656081784426, 137.4413275552403, 135.49180801986483, 133.54230108241256, 255.38903004352483, 330.43793992314585, 1318.9206773471844, 994.5064009163655, 1412.014558691485, 376.34313129566, 284.55606436133866, 232.89857289580388, 348.285683940381, 654.5196538238519, 405.23653398725725, 254.47509612161684, 1049.7988134520956, 4353.571145620641, 560.2235951828081, 359.7591548492729, 627.8304727601013, 1272.790459789636, 727.2964682460641, 4159.069970098881, 1918.954981544529, 2942.9812532810574, 4178.486707878581, 776.8838343276883, 1128.32518554983, 1185.0240454665866, 768.4297904430498, 1562.5335174477527, 1531.2404706456657, 2426.4081128673747, 2886.988450389368, 820.3036250823128, 5100.2192970734695, 1003.0989785952911, 1442.6179002437073, 3809.6573440320217, 2893.830445762717, 828.8142459675698, 490.5147168876305, 544.2324686608687, 221.864841770923, 190.02485394037063, 446.718952197875, 169.1298415397589, 127.33988644597424, 119.3798856123231, 104.45489340024726, 99.47989298919136, 99.47989281754408, 97.48989737063091, 196.96638135963573, 96.49482998947312, 90.52490063949125, 84.55489914177836, 98.48300800679414, 81.56990712988585, 140.25342918811305, 303.4127848826494, 73.60990844916594, 72.61490818637124, 72.61490763434927, 71.61991139558043, 69.62991229704097, 63.65991373342272, 63.65991373342219, 76.5887669746071, 60.6749162359066, 305.31978888987794, 307.2907736200473, 757.1572435110675, 1463.530319170537, 287.26816945438, 267.42954109154323, 327.80744196095674, 324.00164631721236, 381.3717754818614, 248.48080735140482, 202.67353715690905, 918.8861469825364, 222.50846866585422, 493.5861135552174, 381.3522839626418, 414.59937906596633, 634.737769655319, 2809.8448320859106, 784.6963484798147, 5668.889395906611, 523.6764286833036, 11798.173701182388, 1165.991865846057, 1342.9899630165046, 5947.888038239342, 659.3314700463349, 921.7919972555425, 1319.3576608922579, 1562.1053679571444, 5986.366720489979, 3957.1826809351846, 1237.214815007537, 769.9350792380714, 1644.8899102225198, 919.4403411357962, 1453.2719573075199, 4159.069970098881, 1156.8853209734607, 6520.017746759752, 1405.379025509271, 1467.4718743336384, 2090.2868063751675, 3809.6573440320217, 897.5100731348464, 707.4523037875122, 699.7732022435029, 1448.4955824582387, 617.2236876401696, 478.04310743779394, 343.6548608394868, 238.06721357158617, 235.18755312157901, 229.42822557937197, 227.50845309484637, 215.98979472496728, 201.59147950156807, 189.11293845166296, 175.6745124859642, 167.99541440177015, 167.03552437103133, 166.07563348367916, 162.23608234133786, 160.31630761587584, 157.4366438134222, 160.31665797339343, 153.59709307532788, 146.87818684677208, 141.11855826098804, 140.15866906491772, 138.2388897645396, 138.23889021889926, 137.2790042408277, 137.27900620281162, 1348.8847356934234, 303.3662104035444, 551.3364461396308, 244.8351928603527, 487.1137899216285, 161.29350283818124, 455.50726548284206, 233.40368387058783, 418.062667760684, 1267.6818688326118, 230.53583406644495, 320.19807840389143, 718.9222877657047, 776.9454829398112, 313.80788048106734, 1130.4367238364232, 525.8424464294228, 1769.3980820041768, 361.5166342074714, 1390.719630941774, 612.4894839338916, 1562.5335174477527, 4556.185346652298, 1185.0240454665866, 2353.5204028865587, 2893.830445762717, 687.5883724224683, 3647.649602929002, 5100.2192970734695, 2735.963494145555, 6520.017746759752, 454.6737656671881, 410.48232263774213, 422.26629545546473, 322.0994310745772, 294.60253717813066, 221.93216241111165, 213.09387409331546, 389.8534607210561, 187.5609911851579, 178.72275308460726, 162.02820891560603, 142.38756507602523, 136.49537078237606, 132.56724455330658, 131.58521258300107, 115.87269902877547, 113.90863408998588, 202.29969403336702, 105.06940530648241, 88.37579869104997, 72.66328826997352, 67.75312791745526, 66.77109514818956, 64.80701213663484, 53.02257281775631, 52.04061324803637, 52.04061266782099, 51.05858153566839, 49.09451081796179, 47.130450808732945, 1150.2594319574725, 104.11500327019479, 217.1849124039434, 427.91959742024574, 66.76398379969163, 104.14302941014033, 209.34102489950797, 182.85034487603616, 3957.1826809351846, 157.1109375835554, 443.6914407115359, 837.098908124579, 438.3357177260346, 2863.1204767273584, 5986.366720489979, 662.1032490597045, 551.0792101890898, 825.5532368479485, 5947.888038239342, 563.1139071037065, 1405.379025509271, 351.3808462803416, 399.38363783877026, 11798.173701182388, 5668.889395906611, 2240.9758472314957, 2240.229979926396, 1069.0674452983951, 421.2391164632739, 1078.53919286063, 831.1340143221806, 1531.2404706456657, 4159.069970098881, 3809.6573440320217, 5100.2192970734695, 2942.9812532810574, 1841.4484328443668, 2584.868780779816, 3647.649602929002, 4071.554920809338, 966.781122357935, 404.27094396182497, 221.91841832198105, 162.0996778017757, 181.39785521276374, 204.55319468078426, 136.04956503084588, 126.40137041093956, 116.75318604203676, 112.89391028745325, 109.99945527256965, 105.17636552054627, 139.90694367266363, 112.89575007456055, 330.9696374746129, 232.55035884771937, 82.0197126174385, 80.09020351244607, 79.1252610871494, 76.23122858394993, 102.28448071004664, 72.3715266596921, 70.44188955409565, 69.47717128623142, 65.61779728922357, 65.61780197111054, 62.723345736867934, 109.04175703290437, 57.899247754539026, 213.28941150241673, 413.09266726332885, 149.5885936121455, 114.8500760670237, 98.43824537819935, 250.98190076534766, 166.9205963103298, 152.6069319935173, 166.21595210659976, 319.0644005268781, 595.9763118497672, 587.3179858703369, 409.8328915629554, 295.96281752033934, 215.74896585439762, 759.6947992314966, 517.9679872163683, 514.9633917922206, 11798.173701182388, 1034.8845342022291, 2587.160454420282, 741.4532812488627, 1562.1053679571444, 378.37398926553664, 580.7952659780847, 277.2639590842074, 751.3544366147306, 3809.6573440320217, 5986.366720489979, 914.3077479379127, 5947.888038239342, 5668.889395906611, 2886.988450389368, 2809.8448320859106, 2426.4081128673747, 6520.017746759752, 1193.2420044915314, 1346.2831440831965, 5100.2192970734695, 1397.3000869287523, 1644.8899102225198, 4556.185346652298, 1319.3576608922579, 2942.9812532810574, 4178.486707878581, 339.9294705603866, 337.97585073997385, 314.532308872934, 240.29441720193466, 240.29441264859346, 219.78132887421833, 212.94362773227007, 210.0131876142051, 208.05936704369165, 203.17548832322188, 195.36097454677025, 188.52327527950754, 182.66230837164258, 2936.2051526958817, 141.63554863504487, 130.89093342052902, 114.28539513039752, 113.30858081838743, 134.7983902915341, 110.37813784636808, 108.42450910295544, 103.53976657807786, 91.81866951577696, 450.24943589532126, 900.5599645248294, 87.91141033189201, 85.95778331453383, 81.07371148719115, 81.07371128694626, 75.21282586645043, 731.4684595198217, 291.9938683616266, 669.466409634046, 226.5703441050261, 133.82050615086973, 509.23309608268465, 146.49659715338333, 238.21623959581652, 409.21591986285296, 917.3982830756295, 165.01194554485676, 1075.6263804660266, 490.4478155907237, 943.2440892499776, 1078.53919286063, 1464.1230716795956, 348.518769584207, 471.9352800473421, 639.4533175010979, 497.00758267517085, 1347.7061140427668, 1441.2774362466134, 844.9715219614075, 2265.9883684148817, 2863.1204767273584, 4353.571145620641, 5100.2192970734695, 6520.017746759752, 944.1138936930495, 1237.214815007537, 4556.185346652298, 3809.6573440320217, 2942.9812532810574, 1034.8845342022291, 2183.5086079348407, 4178.486707878581, 2735.963494145555], \"Category\": [\"Default\", \"Default\", \"Default\", \"Default\", \"Default\", \"Default\", \"Default\", \"Default\", \"Default\", \"Default\", \"Default\", \"Default\", \"Default\", \"Default\", \"Default\", \"Default\", \"Default\", \"Default\", \"Default\", \"Default\", \"Default\", \"Default\", \"Default\", \"Default\", \"Default\", \"Default\", \"Default\", \"Default\", \"Default\", \"Default\", \"Topic1\", \"Topic1\", \"Topic1\", \"Topic1\", \"Topic1\", \"Topic1\", \"Topic1\", \"Topic1\", \"Topic1\", \"Topic1\", \"Topic1\", \"Topic1\", \"Topic1\", \"Topic1\", \"Topic1\", \"Topic1\", \"Topic1\", \"Topic1\", \"Topic1\", \"Topic1\", \"Topic1\", \"Topic1\", \"Topic1\", \"Topic1\", \"Topic1\", \"Topic1\", \"Topic1\", \"Topic1\", \"Topic1\", \"Topic1\", \"Topic1\", \"Topic1\", \"Topic1\", \"Topic1\", \"Topic1\", \"Topic1\", \"Topic1\", \"Topic1\", \"Topic1\", \"Topic1\", \"Topic1\", \"Topic1\", \"Topic1\", \"Topic1\", \"Topic1\", \"Topic1\", \"Topic1\", \"Topic1\", \"Topic1\", \"Topic1\", \"Topic1\", \"Topic1\", \"Topic1\", \"Topic1\", \"Topic1\", \"Topic1\", \"Topic1\", \"Topic1\", \"Topic1\", \"Topic1\", \"Topic1\", \"Topic1\", \"Topic1\", \"Topic1\", \"Topic1\", \"Topic1\", \"Topic1\", \"Topic1\", \"Topic1\", \"Topic1\", \"Topic1\", \"Topic1\", \"Topic1\", \"Topic1\", \"Topic1\", \"Topic1\", \"Topic1\", \"Topic2\", \"Topic2\", \"Topic2\", \"Topic2\", \"Topic2\", \"Topic2\", \"Topic2\", \"Topic2\", \"Topic2\", \"Topic2\", \"Topic2\", \"Topic2\", \"Topic2\", \"Topic2\", \"Topic2\", \"Topic2\", \"Topic2\", \"Topic2\", \"Topic2\", \"Topic2\", \"Topic2\", \"Topic2\", \"Topic2\", \"Topic2\", \"Topic2\", \"Topic2\", \"Topic2\", \"Topic2\", \"Topic2\", \"Topic2\", \"Topic2\", \"Topic2\", \"Topic2\", \"Topic2\", \"Topic2\", \"Topic2\", \"Topic2\", \"Topic2\", \"Topic2\", \"Topic2\", \"Topic2\", \"Topic2\", \"Topic2\", \"Topic2\", \"Topic2\", \"Topic2\", \"Topic2\", \"Topic2\", \"Topic2\", \"Topic2\", \"Topic2\", \"Topic2\", \"Topic2\", \"Topic2\", \"Topic2\", \"Topic2\", \"Topic2\", \"Topic2\", \"Topic2\", \"Topic2\", \"Topic2\", \"Topic2\", \"Topic2\", \"Topic2\", \"Topic2\", \"Topic2\", \"Topic2\", \"Topic2\", \"Topic2\", \"Topic3\", \"Topic3\", \"Topic3\", \"Topic3\", \"Topic3\", \"Topic3\", \"Topic3\", \"Topic3\", \"Topic3\", \"Topic3\", \"Topic3\", \"Topic3\", \"Topic3\", \"Topic3\", \"Topic3\", \"Topic3\", \"Topic3\", \"Topic3\", \"Topic3\", \"Topic3\", \"Topic3\", \"Topic3\", \"Topic3\", \"Topic3\", \"Topic3\", \"Topic3\", \"Topic3\", \"Topic3\", \"Topic3\", \"Topic3\", \"Topic3\", \"Topic3\", \"Topic3\", \"Topic3\", \"Topic3\", \"Topic3\", \"Topic3\", \"Topic3\", \"Topic3\", \"Topic3\", \"Topic3\", \"Topic3\", \"Topic3\", \"Topic3\", \"Topic3\", \"Topic3\", \"Topic3\", \"Topic3\", \"Topic3\", \"Topic3\", \"Topic3\", \"Topic3\", \"Topic3\", \"Topic3\", \"Topic3\", \"Topic3\", \"Topic3\", \"Topic3\", \"Topic3\", \"Topic3\", \"Topic3\", \"Topic3\", \"Topic3\", \"Topic3\", \"Topic3\", \"Topic3\", \"Topic4\", \"Topic4\", \"Topic4\", \"Topic4\", \"Topic4\", \"Topic4\", \"Topic4\", \"Topic4\", \"Topic4\", \"Topic4\", \"Topic4\", \"Topic4\", \"Topic4\", \"Topic4\", \"Topic4\", \"Topic4\", \"Topic4\", \"Topic4\", \"Topic4\", \"Topic4\", \"Topic4\", \"Topic4\", \"Topic4\", \"Topic4\", \"Topic4\", \"Topic4\", \"Topic4\", \"Topic4\", \"Topic4\", \"Topic4\", \"Topic4\", \"Topic4\", \"Topic4\", \"Topic4\", \"Topic4\", \"Topic4\", \"Topic4\", \"Topic4\", \"Topic4\", \"Topic4\", \"Topic4\", \"Topic4\", \"Topic4\", \"Topic4\", \"Topic4\", \"Topic4\", \"Topic4\", \"Topic4\", \"Topic4\", \"Topic4\", \"Topic4\", \"Topic4\", \"Topic4\", \"Topic4\", \"Topic4\", \"Topic4\", \"Topic4\", \"Topic4\", \"Topic4\", \"Topic4\", \"Topic4\", \"Topic4\", \"Topic4\", \"Topic4\", \"Topic4\", \"Topic4\", \"Topic4\", \"Topic4\", \"Topic4\", \"Topic4\", \"Topic4\", \"Topic4\", \"Topic4\", \"Topic5\", \"Topic5\", \"Topic5\", \"Topic5\", \"Topic5\", \"Topic5\", \"Topic5\", \"Topic5\", \"Topic5\", \"Topic5\", \"Topic5\", \"Topic5\", \"Topic5\", \"Topic5\", \"Topic5\", \"Topic5\", \"Topic5\", \"Topic5\", \"Topic5\", \"Topic5\", \"Topic5\", \"Topic5\", \"Topic5\", \"Topic5\", \"Topic5\", \"Topic5\", \"Topic5\", \"Topic5\", \"Topic5\", \"Topic5\", \"Topic5\", \"Topic5\", \"Topic5\", \"Topic5\", \"Topic5\", \"Topic5\", \"Topic5\", \"Topic5\", \"Topic5\", \"Topic5\", \"Topic5\", \"Topic5\", \"Topic5\", \"Topic5\", \"Topic5\", \"Topic5\", \"Topic5\", \"Topic5\", \"Topic5\", \"Topic5\", \"Topic5\", \"Topic5\", \"Topic5\", \"Topic5\", \"Topic5\", \"Topic5\", \"Topic5\", \"Topic5\", \"Topic5\", \"Topic5\", \"Topic5\", \"Topic6\", \"Topic6\", \"Topic6\", \"Topic6\", \"Topic6\", \"Topic6\", \"Topic6\", \"Topic6\", \"Topic6\", \"Topic6\", \"Topic6\", \"Topic6\", \"Topic6\", \"Topic6\", \"Topic6\", \"Topic6\", \"Topic6\", \"Topic6\", \"Topic6\", \"Topic6\", \"Topic6\", \"Topic6\", \"Topic6\", \"Topic6\", \"Topic6\", \"Topic6\", \"Topic6\", \"Topic6\", \"Topic6\", \"Topic6\", \"Topic6\", \"Topic6\", \"Topic6\", \"Topic6\", \"Topic6\", \"Topic6\", \"Topic6\", \"Topic6\", \"Topic6\", \"Topic6\", \"Topic6\", \"Topic6\", \"Topic6\", \"Topic6\", \"Topic6\", \"Topic6\", \"Topic6\", \"Topic6\", \"Topic6\", \"Topic6\", \"Topic6\", \"Topic6\", \"Topic6\", \"Topic6\", \"Topic6\", \"Topic6\", \"Topic6\", \"Topic6\", \"Topic6\", \"Topic6\", \"Topic6\", \"Topic6\", \"Topic6\", \"Topic6\", \"Topic6\", \"Topic6\", \"Topic6\", \"Topic6\", \"Topic6\", \"Topic7\", \"Topic7\", \"Topic7\", \"Topic7\", \"Topic7\", \"Topic7\", \"Topic7\", \"Topic7\", \"Topic7\", \"Topic7\", \"Topic7\", \"Topic7\", \"Topic7\", \"Topic7\", \"Topic7\", \"Topic7\", \"Topic7\", \"Topic7\", \"Topic7\", \"Topic7\", \"Topic7\", \"Topic7\", \"Topic7\", \"Topic7\", \"Topic7\", \"Topic7\", \"Topic7\", \"Topic7\", \"Topic7\", \"Topic7\", \"Topic7\", \"Topic7\", \"Topic7\", \"Topic7\", \"Topic7\", \"Topic7\", \"Topic7\", \"Topic7\", \"Topic7\", \"Topic7\", \"Topic7\", \"Topic7\", \"Topic7\", \"Topic7\", \"Topic7\", \"Topic7\", \"Topic7\", \"Topic7\", \"Topic7\", \"Topic7\", \"Topic7\", \"Topic7\", \"Topic7\", \"Topic7\", \"Topic7\", \"Topic7\", \"Topic7\", \"Topic7\", \"Topic7\", \"Topic7\", \"Topic7\", \"Topic7\", \"Topic7\", \"Topic7\", \"Topic7\", \"Topic7\", \"Topic7\", \"Topic7\", \"Topic7\", \"Topic7\", \"Topic7\", \"Topic7\", \"Topic7\", \"Topic7\", \"Topic7\", \"Topic8\", \"Topic8\", \"Topic8\", \"Topic8\", \"Topic8\", \"Topic8\", \"Topic8\", \"Topic8\", \"Topic8\", \"Topic8\", \"Topic8\", \"Topic8\", \"Topic8\", \"Topic8\", \"Topic8\", \"Topic8\", \"Topic8\", \"Topic8\", \"Topic8\", \"Topic8\", \"Topic8\", \"Topic8\", \"Topic8\", \"Topic8\", \"Topic8\", \"Topic8\", \"Topic8\", \"Topic8\", \"Topic8\", \"Topic8\", \"Topic8\", \"Topic8\", \"Topic8\", \"Topic8\", \"Topic8\", \"Topic8\", \"Topic8\", \"Topic8\", \"Topic8\", \"Topic8\", \"Topic8\", \"Topic8\", \"Topic8\", \"Topic8\", \"Topic8\", \"Topic8\", \"Topic8\", \"Topic8\", \"Topic8\", \"Topic8\", \"Topic8\", \"Topic8\", \"Topic8\", \"Topic8\", \"Topic8\", \"Topic8\", \"Topic8\", \"Topic8\", \"Topic8\", \"Topic8\", \"Topic8\", \"Topic8\", \"Topic8\", \"Topic8\", \"Topic8\", \"Topic8\", \"Topic8\"], \"logprob\": [30.0, 29.0, 28.0, 27.0, 26.0, 25.0, 24.0, 23.0, 22.0, 21.0, 20.0, 19.0, 18.0, 17.0, 16.0, 15.0, 14.0, 13.0, 12.0, 11.0, 10.0, 9.0, 8.0, 7.0, 6.0, 5.0, 4.0, 3.0, 2.0, 1.0, -6.1588, -6.4433, -6.6722, -6.8156, -6.8156, -6.889, -7.0265, -6.2401, -7.13, -7.2591, -7.1614, -7.2942, -7.3158, -7.0282, -7.3837, -7.3457, -7.4074, -7.4074, -7.4235, -7.4235, -7.4482, -7.465, -7.4994, -7.6204, -7.6303, -6.7523, -7.6504, -7.6607, -7.4418, -7.6921, -5.613, -6.8539, -6.1113, -7.0424, -6.8213, -6.1336, -4.6925, -7.022, -4.8595, -5.6433, -6.9225, -5.88, -5.2238, -5.8964, -6.44, -5.8734, -5.4829, -6.4854, -6.394, -5.1997, -6.3588, -5.4693, -4.2799, -6.624, -5.8756, -5.7868, -5.4735, -5.9176, -6.0115, -5.4692, -6.0095, -5.2504, -5.6222, -5.79, -6.1368, -5.3833, -5.3011, -5.2594, -5.4881, -5.4938, -5.4893, -5.678, -5.8505, -5.7791, -5.7999, -5.8264, -5.8911, -5.8056, -6.0162, -6.1025, -6.1152, -6.1807, -6.7979, -6.8182, -6.8547, -6.8762, -6.9037, -6.9093, -6.9321, -6.7643, -6.9851, -7.0159, -7.1281, -7.2157, -7.3033, -7.4085, -7.4085, -5.8065, -7.4462, -7.4656, -7.5158, -7.5059, -5.9028, -7.1601, -7.6595, -7.7082, -7.7208, -7.2882, -7.5416, -7.3194, -5.4509, -4.4133, -5.658, -6.6946, -6.0723, -6.2696, -4.9407, -5.638, -6.4483, -5.0252, -5.7626, -4.7919, -6.4498, -5.307, -5.4617, -4.9918, -5.0627, -5.9959, -5.9895, -5.4947, -6.3529, -6.2869, -5.8436, -5.6994, -5.7509, -5.1823, -5.4401, -5.7653, -5.4814, -5.7361, -5.438, -5.7354, -5.5936, -5.8618, -5.8434, -5.7551, -4.6509, -5.5296, -5.6518, -6.1326, -6.233, -5.8438, -6.3083, -6.4553, -6.4554, -6.4705, -5.9499, -6.61, -6.3941, -6.6551, -6.7168, -6.6599, -6.8643, -6.899, -6.027, -6.941, -6.9596, -6.9913, -6.9978, -6.8483, -7.0443, -7.0718, -7.093, -7.1074, -7.122, -6.4738, -6.2235, -4.8789, -5.1553, -4.8166, -6.1133, -6.3877, -6.5834, -6.2046, -5.6165, -6.0713, -6.508, -5.2189, -3.9494, -5.7959, -6.21, -5.7436, -5.1798, -5.6543, -4.279, -5.0059, -4.7054, -4.7432, -5.8278, -5.645, -5.6818, -5.9261, -5.6976, -5.749, -5.6161, -5.6073, -5.9662, -5.6787, -5.975, -5.9621, -5.9413, -5.9584, -5.1562, -5.6815, -5.5781, -6.4769, -6.6325, -5.7778, -6.7496, -7.035, -7.1, -7.2346, -7.2838, -7.2838, -7.3042, -6.601, -7.3146, -7.379, -7.4479, -7.2954, -7.4842, -6.9427, -6.1714, -7.588, -7.6018, -7.6018, -7.6157, -7.6443, -7.7351, -7.7351, -7.5505, -7.7838, -6.1683, -6.1633, -5.2915, -4.6627, -6.2557, -6.3277, -6.1378, -6.1505, -5.9932, -6.4152, -6.6142, -5.1877, -6.5261, -5.7869, -6.0397, -5.9724, -5.5895, -4.2641, -5.4353, -3.7154, -5.8011, -3.2029, -5.149, -5.115, -3.9822, -5.7241, -5.5049, -5.2645, -5.1935, -4.3422, -4.6829, -5.4328, -5.6905, -5.3367, -5.6258, -5.4053, -4.9228, -5.6008, -5.1837, -5.593, -5.61, -5.5994, -5.6763, -4.9345, -5.1727, -5.1836, -4.4561, -5.3094, -5.5657, -5.896, -6.2642, -6.2764, -6.3013, -6.3097, -6.3619, -6.4311, -6.4953, -6.5694, -6.6143, -6.6201, -6.6259, -6.6494, -6.6613, -6.6796, -6.6616, -6.7044, -6.7495, -6.7896, -6.7965, -6.8104, -6.8104, -6.8174, -6.8174, -4.5368, -6.0263, -5.4406, -6.2555, -5.6012, -6.6624, -5.6919, -6.3195, -5.7833, -4.7996, -6.3344, -6.0759, -5.424, -5.3651, -6.1186, -5.1174, -5.729, -4.8916, -6.0604, -5.3287, -5.8047, -5.456, -5.0246, -5.6314, -5.3595, -5.5659, -5.9991, -5.705, -5.8453, -5.9443, -5.9728, -5.5854, -5.6879, -5.6597, -5.9309, -6.0204, -6.3046, -6.3454, -5.7417, -6.4736, -6.5221, -6.6206, -6.7506, -6.7931, -6.8225, -6.83, -6.958, -6.9753, -6.4014, -7.0572, -7.2312, -7.4291, -7.4999, -7.5147, -7.545, -7.7487, -7.7676, -7.7676, -7.787, -7.8269, -7.8685, -4.7642, -7.0949, -6.386, -5.7349, -7.5294, -7.1071, -6.454, -6.5897, -3.8304, -6.7374, -5.8314, -5.2998, -5.86, -4.2947, -3.691, -5.6032, -5.762, -5.4711, -3.999, -5.764, -5.1454, -6.1389, -6.0689, -3.8933, -4.6327, -5.2471, -5.2544, -5.6517, -6.0985, -5.7273, -5.8444, -5.6319, -5.5362, -5.5605, -5.5078, -5.656, -5.7323, -5.785, -5.8223, -3.3861, -4.8264, -5.6983, -6.299, -6.6145, -6.5021, -6.3822, -6.7907, -6.8648, -6.9447, -6.9786, -7.0048, -7.0505, -6.7653, -6.9799, -5.9049, -6.2587, -7.301, -7.3251, -7.3373, -7.3754, -7.0816, -7.4275, -7.4549, -7.469, -7.5267, -7.5267, -7.5724, -7.0201, -7.6536, -6.3535, -5.7038, -6.7135, -6.9747, -7.1265, -6.2161, -6.6204, -6.711, -6.6469, -6.0859, -5.5483, -5.5767, -5.9051, -6.1906, -6.4558, -5.4708, -5.8007, -5.856, -3.5395, -5.4081, -4.7772, -5.6597, -5.2135, -6.1392, -5.8744, -6.3483, -5.7835, -4.9399, -4.7053, -5.7075, -4.7605, -4.8194, -5.1443, -5.1595, -5.3365, -4.9498, -5.6847, -5.6538, -5.2332, -5.6713, -5.6407, -5.6312, -5.7598, -5.7024, -5.7499, -5.8483, -5.854, -5.9261, -6.1962, -6.1962, -6.2857, -6.3175, -6.3314, -6.3408, -6.3646, -6.404, -6.4398, -6.4716, -3.6946, -6.7279, -6.807, -6.9433, -6.9519, -6.7785, -6.9783, -6.9963, -7.0437, -7.164, -5.5742, -4.8811, -7.2079, -7.2306, -7.2897, -7.2897, -7.3656, -5.0951, -6.0148, -5.2111, -6.2863, -6.8013, -5.52, -6.7217, -6.2823, -5.8187, -5.1805, -6.634, -5.0834, -5.7399, -5.2286, -5.1465, -4.9347, -6.0431, -5.8256, -5.6671, -5.852, -5.3023, -5.2947, -5.6049, -5.0962, -4.9906, -4.8843, -4.9279, -4.9008, -5.6578, -5.5556, -5.097, -5.2762, -5.4014, -5.6866, -5.5671, -5.6805, -5.7674], \"loglift\": [30.0, 29.0, 28.0, 27.0, 26.0, 25.0, 24.0, 23.0, 22.0, 21.0, 20.0, 19.0, 18.0, 17.0, 16.0, 15.0, 14.0, 13.0, 12.0, 11.0, 10.0, 9.0, 8.0, 7.0, 6.0, 5.0, 4.0, 3.0, 2.0, 1.0, 1.7605, 1.7599, 1.7587, 1.7587, 1.7587, 1.7584, 1.7578, 1.7577, 1.7572, 1.7565, 1.7564, 1.7563, 1.7562, 1.756, 1.7557, 1.7556, 1.7556, 1.7556, 1.7554, 1.7554, 1.7553, 1.7551, 1.7549, 1.7538, 1.7538, 1.7537, 1.7536, 1.7535, 1.7534, 1.7533, 1.7438, 1.7518, 1.7437, 1.7528, 1.7487, 1.7368, 1.7071, 1.7462, 1.6968, 1.707, 1.7441, 1.6861, 1.6435, 1.6522, 1.6866, 1.577, 1.5131, 1.6423, 1.6197, 1.3416, 1.5759, 1.3377, 0.9063, 1.6287, 1.3784, 1.3344, 1.2181, 1.3798, 1.4078, 1.1395, 1.3716, 0.9926, 1.1777, 1.219, 1.4287, 0.6712, 0.2435, 0.1724, 0.2789, 0.2297, 0.1418, 0.4756, 0.9121, 0.6685, 0.42, 0.4973, 0.2202, 1.8993, 1.8989, 1.8988, 1.8987, 1.8986, 1.8966, 1.8965, 1.8963, 1.8962, 1.8961, 1.8961, 1.8959, 1.8958, 1.8957, 1.8955, 1.8949, 1.8943, 1.8937, 1.8929, 1.8929, 1.8929, 1.8926, 1.8924, 1.892, 1.8918, 1.8916, 1.8911, 1.8906, 1.8901, 1.89, 1.8845, 1.8868, 1.8777, 1.7961, 1.6226, 1.7118, 1.8023, 1.7142, 1.735, 1.5211, 1.6218, 1.7429, 1.4581, 1.566, 1.3186, 1.721, 1.3876, 1.4227, 1.2627, 1.1914, 1.5154, 1.4763, 1.1139, 1.6066, 1.5489, 1.1681, 1.0318, 1.0489, 0.3622, 0.6144, 0.9157, 0.5171, 0.8052, -0.0063, 0.7294, 0.1733, 0.5474, 0.3102, -0.569, 1.9583, 1.9575, 1.9573, 1.9564, 1.9562, 1.9561, 1.9559, 1.9555, 1.9555, 1.9555, 1.9554, 1.955, 1.9548, 1.9548, 1.9545, 1.9545, 1.9538, 1.9537, 1.9536, 1.9534, 1.9533, 1.9532, 1.9531, 1.9531, 1.9529, 1.9527, 1.9526, 1.9525, 1.9523, 1.9522, 1.9448, 1.9053, 1.9112, 1.8994, 1.9249, 1.9302, 1.9348, 1.9111, 1.8684, 1.893, 1.9215, 1.7935, 1.6406, 1.8445, 1.8734, 1.7829, 1.6401, 1.7251, 1.3567, 1.4034, 1.2762, 0.8879, 1.4857, 1.2953, 1.2094, 1.3983, 0.9171, 0.886, 0.5585, 0.3935, 1.2929, -0.247, 1.0829, 0.7325, -0.2178, 0.04, 2.0925, 2.0919, 2.0913, 2.0898, 2.0891, 2.089, 2.0886, 2.0869, 2.0864, 2.0854, 2.085, 2.085, 2.0848, 2.0848, 2.0847, 2.0842, 2.0835, 2.0835, 2.0831, 2.0826, 2.0823, 2.082, 2.0818, 2.0818, 2.0817, 2.0813, 2.0801, 2.0801, 2.0798, 2.0795, 2.0791, 2.0776, 2.0477, 2.0175, 2.0527, 2.0522, 2.0386, 2.0375, 2.0318, 2.0382, 2.0429, 1.958, 2.0377, 1.9802, 1.9853, 1.969, 1.926, 1.7638, 1.8682, 1.6106, 1.9068, 1.3902, 1.7585, 1.6511, 1.2958, 1.7534, 1.6376, 1.5193, 1.4215, 0.9294, 1.0026, 1.4154, 1.632, 1.2266, 1.5192, 1.2819, 0.713, 1.3145, 0.0024, 1.1277, 1.0675, 0.7243, 0.0472, 2.2347, 2.2344, 2.2344, 2.2344, 2.2341, 2.2333, 2.2331, 2.232, 2.232, 2.2319, 2.2319, 2.2317, 2.2314, 2.2311, 2.2308, 2.2305, 2.2305, 2.2305, 2.2303, 2.2303, 2.2302, 2.2301, 2.23, 2.2297, 2.2296, 2.2295, 2.2294, 2.2294, 2.2294, 2.2294, 2.2249, 2.2276, 2.2159, 2.2127, 2.179, 2.2232, 2.1555, 2.1965, 2.1499, 2.0243, 2.194, 2.124, 1.967, 1.9483, 2.1014, 1.821, 1.9748, 1.5988, 2.0181, 1.4025, 1.7465, 1.1587, 0.52, 1.2598, 0.8456, 0.4326, 1.4365, 0.0619, -0.4135, 0.1102, -0.7867, 2.2638, 2.2636, 2.2635, 2.263, 2.2627, 2.2618, 2.2616, 2.2613, 2.261, 2.2609, 2.2604, 2.2596, 2.2594, 2.2592, 2.2591, 2.2582, 2.2581, 2.2576, 2.257, 2.2559, 2.2538, 2.253, 2.2528, 2.2523, 2.2494, 2.2491, 2.2491, 2.2488, 2.2481, 2.2474, 2.1568, 2.2284, 2.2021, 2.1749, 2.2382, 2.2159, 2.1708, 2.1704, 1.8551, 2.1744, 2.0422, 1.9391, 2.0258, 1.7144, 1.5806, 1.8702, 1.8949, 1.7817, 1.279, 1.8712, 1.5753, 1.968, 1.91, 0.6998, 0.6934, 1.007, 1.0001, 1.3426, 1.8271, 1.2581, 1.4015, 1.0031, 0.0995, 0.163, -0.076, 0.3256, 0.7182, 0.3264, -0.0554, 2.2709, 2.2684, 2.2684, 2.2675, 2.266, 2.266, 2.2657, 2.265, 2.2645, 2.264, 2.2637, 2.2635, 2.2626, 2.2625, 2.2624, 2.2618, 2.261, 2.2608, 2.2605, 2.2605, 2.2596, 2.2595, 2.2594, 2.2591, 2.2588, 2.2582, 2.2582, 2.2576, 2.257, 2.2564, 2.2526, 2.2413, 2.2473, 2.2505, 2.2528, 2.2273, 2.2308, 2.2299, 2.2086, 2.1174, 2.0302, 2.0165, 2.0479, 2.0879, 2.1388, 1.865, 1.9182, 1.8686, 1.0536, 1.6187, 1.3333, 1.7005, 1.4015, 1.8937, 1.73, 1.9955, 1.5634, 0.7835, 0.5662, 1.4431, 0.5175, 0.5067, 0.8565, 0.8683, 0.8381, 0.2364, 1.1997, 1.1099, 0.1985, 1.0552, 0.9227, -0.0866, 1.0241, 0.2792, -0.1188, 2.2918, 2.2918, 2.2916, 2.2907, 2.2907, 2.2904, 2.2903, 2.2902, 2.2901, 2.2901, 2.2899, 2.2897, 2.2895, 2.2893, 2.2876, 2.2874, 2.2868, 2.2867, 2.2865, 2.2865, 2.2864, 2.2851, 2.2849, 2.2848, 2.2846, 2.2845, 2.2843, 2.2837, 2.2837, 2.2829, 2.2786, 2.2773, 2.2512, 2.2594, 2.271, 2.2159, 2.26, 2.2133, 2.1358, 1.9667, 2.2287, 1.9047, 2.0335, 1.8908, 1.8389, 1.7451, 2.072, 1.9863, 1.841, 1.9082, 1.4603, 1.4008, 1.6246, 1.1468, 1.0185, 0.7057, 0.5038, 0.2853, 1.4607, 1.2926, 0.4476, 0.4473, 0.5802, 1.3401, 0.713, -0.0494, 0.2871]}, \"token.table\": {\"Topic\": [1, 6, 7, 1, 5, 7, 7, 8, 7, 1, 4, 1, 2, 3, 4, 5, 6, 7, 8, 6, 1, 2, 7, 1, 2, 4, 6, 8, 3, 4, 5, 6, 7, 8, 3, 3, 5, 8, 8, 4, 6, 7, 8, 6, 7, 7, 1, 7, 4, 6, 6, 1, 2, 3, 4, 5, 6, 7, 8, 3, 6, 7, 8, 2, 6, 8, 7, 4, 7, 6, 8, 1, 2, 1, 5, 1, 2, 5, 8, 7, 3, 4, 6, 7, 2, 7, 1, 2, 3, 4, 5, 6, 7, 8, 2, 3, 5, 6, 8, 4, 3, 8, 8, 1, 2, 3, 4, 5, 6, 7, 8, 6, 6, 6, 3, 2, 5, 5, 4, 6, 7, 3, 4, 8, 8, 2, 3, 4, 5, 6, 7, 8, 2, 7, 1, 2, 5, 7, 8, 2, 5, 1, 1, 2, 4, 6, 7, 8, 3, 4, 5, 1, 1, 2, 5, 7, 5, 4, 5, 1, 2, 3, 4, 5, 6, 7, 8, 4, 7, 3, 6, 8, 1, 2, 4, 5, 8, 1, 7, 1, 8, 8, 8, 1, 2, 5, 8, 2, 5, 8, 3, 3, 1, 2, 3, 4, 5, 6, 7, 8, 1, 2, 3, 4, 5, 6, 7, 8, 5, 2, 6, 7, 1, 3, 4, 7, 4, 7, 5, 5, 2, 8, 8, 5, 1, 2, 4, 7, 1, 1, 1, 4, 2, 5, 8, 6, 1, 7, 1, 1, 2, 1, 4, 6, 7, 8, 3, 6, 3, 5, 7, 1, 1, 2, 3, 4, 5, 6, 7, 8, 7, 8, 1, 2, 5, 7, 8, 1, 2, 3, 4, 5, 6, 7, 8, 1, 2, 3, 4, 5, 6, 7, 8, 2, 1, 2, 3, 4, 5, 6, 7, 3, 4, 6, 7, 8, 1, 7, 8, 1, 2, 3, 4, 5, 6, 7, 8, 2, 3, 5, 6, 4, 3, 5, 1, 2, 7, 8, 1, 2, 3, 4, 5, 6, 7, 8, 3, 6, 3, 5, 5, 2, 3, 4, 5, 6, 2, 5, 2, 2, 4, 5, 8, 5, 3, 1, 1, 3, 5, 6, 7, 1, 2, 4, 5, 6, 8, 1, 1, 2, 3, 4, 5, 6, 7, 8, 2, 2, 5, 1, 2, 3, 4, 5, 6, 7, 2, 1, 2, 3, 4, 5, 6, 7, 8, 5, 5, 7, 4, 6, 7, 6, 3, 7, 5, 4, 6, 7, 8, 2, 6, 1, 7, 1, 1, 1, 7, 1, 2, 3, 4, 5, 6, 7, 8, 3, 4, 6, 7, 1, 3, 4, 5, 7, 4, 7, 1, 2, 3, 4, 5, 6, 7, 8, 3, 4, 6, 7, 1, 5, 6, 8, 7, 6, 1, 2, 3, 5, 6, 6, 1, 2, 3, 2, 3, 4, 5, 6, 7, 8, 2, 2, 4, 6, 7, 8, 1, 2, 3, 4, 5, 6, 7, 8, 1, 2, 5, 7, 1, 2, 3, 4, 5, 6, 7, 8, 4, 6, 8, 6, 1, 2, 3, 3, 5, 1, 2, 7, 8, 1, 5, 1, 5, 1, 2, 3, 4, 5, 6, 7, 8, 4, 1, 2, 3, 4, 5, 6, 7, 8, 2, 4, 8, 1, 8, 3, 4, 5, 6, 8, 8, 1, 2, 8, 8, 1, 2, 3, 4, 5, 6, 7, 8, 4, 6, 7, 8, 3, 6, 7, 8, 2, 7, 2, 7, 5, 2, 4, 5, 7, 2, 5, 6, 8, 4, 6, 2, 6, 3, 7, 4, 7, 1, 2, 3, 4, 5, 6, 7, 8, 1, 2, 6, 7, 8, 3, 1, 3, 5, 4, 6, 7, 6, 2, 1, 2, 3, 4, 5, 6, 7, 8, 1, 2, 3, 4, 7, 8, 6, 4, 7, 7, 1, 7, 6, 4, 5, 7, 1, 2, 3, 6, 7, 8, 4, 6, 7, 4, 6, 7, 8, 4, 6, 7, 1, 2, 3, 4, 5, 6, 7, 8, 4, 5, 2, 1, 2, 3, 4, 5, 6, 7, 8, 1, 2, 3, 4, 5, 6, 7, 8, 1, 1, 8, 6, 5, 1, 3, 5, 8, 4, 7, 8, 5, 7, 1, 2, 3, 4, 5, 6, 7, 8, 5, 1, 2, 1, 2, 5, 7, 4, 6, 7, 1, 2, 4, 6, 3, 3, 4, 6, 5, 6, 1, 2, 3, 4, 5, 6, 8, 5, 8, 4, 1, 8, 8, 7, 4, 6, 6, 7, 1, 2, 3, 4, 5, 6, 7, 8, 3, 1, 4, 6, 7, 1, 2, 7, 8, 1, 2, 3, 4, 5, 6, 7, 8, 1, 4, 6, 7, 3, 4, 6, 7, 6, 8, 3, 4, 6, 7, 4, 1, 2, 3, 5, 6, 8, 7, 4, 6, 7, 8, 2, 7, 1, 2, 3, 4, 6, 2, 3, 4, 6, 7, 8, 6, 1, 2, 7, 1, 7, 8, 4, 6, 7, 4, 6, 7, 2, 6, 7, 8, 2, 8, 1, 2, 3, 4, 5, 6, 8, 2, 3, 7, 7, 1, 5, 8, 4, 7, 2, 4, 7, 1, 2, 3, 5, 7, 1, 2, 3, 5, 6, 7, 4, 1, 2, 3, 6, 8, 3, 1, 1, 7, 1, 2, 3, 4, 5, 6, 7, 8, 5, 4, 6, 7, 2, 3, 5, 6, 2, 3, 5, 1, 2, 4, 5, 6, 7, 8, 2, 3, 4, 5, 6, 7, 2, 5, 4, 6, 4, 6, 2, 3, 6, 7, 8, 1, 2, 4, 5, 7, 8, 2, 3, 3, 4, 5, 6, 7, 8, 3, 4, 4, 6, 7, 2, 3, 4, 4, 6, 7, 8, 7, 4, 3, 6, 3, 8, 1, 1, 2, 3, 4, 5, 6, 7, 8, 1, 3, 4, 6, 7, 8, 6, 3, 3, 8, 8, 4, 8, 1, 2, 5, 8, 1, 2, 3, 4, 5, 6, 7, 8, 7, 8, 4, 6, 7, 1, 4, 6, 7, 8, 1, 4, 6, 7, 8, 4, 3, 1, 2, 3, 4, 5, 6, 7, 8, 2, 5, 8, 3, 4, 6, 7, 8, 4, 8, 5, 1, 2, 6, 7, 8, 6, 3, 5, 7, 5, 7, 8, 7, 4, 1, 2, 3, 4, 5, 6, 7, 8, 4, 6, 7, 6, 4, 6, 7, 2, 3, 4, 5, 6, 7, 8, 1, 4, 7, 8, 7, 4, 6, 7, 1, 2, 1, 2, 5, 6, 7, 1, 2, 3, 5, 6, 5, 1, 2, 3, 4, 5, 6, 7, 8, 1, 2, 3, 4, 6, 7, 8, 3, 1, 2, 3, 4, 5, 6, 7, 8, 1, 2, 3, 4, 5, 6, 7, 8, 1, 2, 3, 4, 5, 6, 7, 8, 1, 3, 4, 5, 6, 7, 8, 2, 3, 7, 1, 2, 3, 4, 5, 6, 7, 8, 1, 2, 4, 6, 7, 1, 7, 2, 3, 1, 2, 4, 5, 6, 8, 2, 3, 4, 8, 2, 2, 3, 6, 7, 8, 1, 4, 4, 4, 3, 6, 8, 7, 8, 4, 5, 1, 1, 1, 2, 7, 8, 5, 2, 4, 5, 6, 7, 8, 1, 5, 3, 2, 3, 4, 6, 5, 3, 4, 6, 7, 8, 2, 2, 5, 3, 3, 4, 6, 7, 2, 2, 3, 8, 3, 4, 5, 6, 7, 8, 1, 3, 6, 8, 4, 6, 7, 8, 4, 6, 7, 4, 6, 7, 6, 1, 3, 4, 6, 7, 8, 5, 7, 1, 1, 2, 3, 4, 5, 7, 8, 4, 7, 6, 1, 3, 5, 8, 3, 4, 6, 7, 8, 3, 4, 5, 6, 7, 8, 1, 2, 1, 8, 7, 2, 3, 6, 3, 4, 6, 5, 8, 4, 2, 5, 6, 4, 1, 2, 3, 5, 1, 2, 4, 5, 6, 3, 4, 8, 2, 1, 2, 1, 2, 3, 4, 5, 6, 7, 8, 5, 4, 6, 7, 8, 7, 4, 1, 6, 8, 4, 6, 7, 2, 1, 2, 6, 7, 8, 1, 2, 4, 6, 2, 5, 5, 4, 1, 6, 3, 6, 1, 2, 3, 4, 5, 6, 7, 8, 1, 2, 3, 4, 5, 6, 7, 8, 8, 1, 8, 2, 1, 2, 4, 5, 7, 8, 3], \"Freq\": [0.9900722691363868, 0.995747719436588, 0.9905848420313966, 0.0006903714530512424, 0.9989674925651478, 0.9931319701508057, 0.9707265022556784, 0.026628407792549783, 0.9935489037381338, 0.9964672391859735, 0.9948719533520386, 0.10834960640877701, 0.11175682673609705, 0.01839898976752817, 0.3584395784340673, 0.0647371862190806, 0.12197848771805714, 0.026576318553096247, 0.18944145019899378, 0.9963707869392445, 0.656511600951132, 0.33420246352765964, 0.008919994578140382, 0.06895560438028718, 0.1832767379581317, 0.041736286861752764, 0.6895560438028717, 0.016331590511120646, 0.17691153565446435, 0.42008890425166623, 0.003647660528958028, 0.131923722463982, 0.259591840977513, 0.007295321057916056, 0.9980827484440918, 0.9958956757883579, 0.013698917797294657, 0.9828973519558917, 0.9964449715623228, 0.797760816923316, 0.040780105657421906, 0.15674853112071543, 0.0038231349053833037, 0.01741400675113919, 0.9751843780637944, 0.9968246356061277, 0.9887894552979736, 0.009372411898558992, 0.0875032530611153, 0.9078462505090713, 0.9777060449380962, 0.14541131487177034, 0.6536013740628027, 0.014990857203275292, 0.010493600042292705, 0.046471657330153404, 0.09893965754161692, 0.004497257160982588, 0.022486285804912937, 0.002281356411445833, 0.7870679619488125, 0.20304072061867914, 0.006844069234337499, 0.01810837563394305, 0.29979421882861274, 0.6800701071414168, 0.9948663973686903, 0.9977354003448172, 0.0018374500927160538, 0.365308931384298, 0.6341911397636035, 0.1715870189607695, 0.8279754565726021, 0.020421900714460865, 0.9761668541512293, 0.1861665815393642, 0.003155365788802783, 0.8093513248279138, 0.0007888414472006957, 0.9937268923804733, 0.005691829879663797, 0.13091208723226735, 0.7427837992961256, 0.12237434241277165, 0.9944748372199373, 0.9920818555653077, 0.016501548954833373, 0.7569188759717048, 0.022958676806724695, 0.00430475190126088, 0.06708238379464872, 0.07425697029675019, 0.0430475190126088, 0.015066631654413081, 0.7563566385108642, 0.07685559391320072, 0.10613391540394386, 0.05001713254668618, 0.010979370559028674, 0.993437409926444, 0.7267496333629668, 0.27262932192102646, 0.9838747467273208, 0.15937651847827516, 0.20105256210334135, 0.09846537779548609, 0.07465049572401969, 0.13143982989443956, 0.05770529117316859, 0.07190262471577356, 0.2056323471170849, 0.9760144282659082, 0.9875474565169987, 0.992023132423236, 0.9912338419774004, 0.991115363778825, 0.008328700535956513, 0.9941149534200304, 0.002642887799822351, 0.30921787257921507, 0.684507940153989, 0.9172803403384107, 0.002779637394964881, 0.07782984705901666, 0.9910838447115998, 0.48071676754896703, 0.06948975055658335, 0.4074193594276394, 0.005711486347116441, 0.021894030997279688, 0.011422972694232881, 0.0038076575647442933, 0.006042850381263177, 0.991027462527161, 0.9455186000563167, 0.005341912994668456, 0.001335478248667114, 0.032051477968010736, 0.014690260735338254, 0.9961163725626322, 0.999360658259093, 0.9900012244412352, 0.6539194914397375, 0.05585077506958613, 0.027925387534793063, 0.004654231255798844, 0.233487267999242, 0.024046861488294026, 0.9984835909446408, 0.9896337633100541, 0.9954174005015948, 0.9973064116536584, 0.251414868271992, 0.642005824337408, 0.05387461462971257, 0.05219103292253405, 0.9940209852420888, 0.9858515921762412, 0.009825763377171838, 0.28225791704782255, 0.1827500412072343, 0.022484952713979087, 0.2545105285922739, 0.022963355963212684, 0.0999862790898219, 0.028225791704782257, 0.10716232782832585, 0.9456771272353308, 0.05185971342903427, 0.14424820867896998, 0.5762942961750617, 0.2790661470568935, 0.1960902235969479, 0.6808252563286031, 0.07686736765000357, 0.01568721788775583, 0.02980571398673608, 0.9811972291263489, 0.014942089783649982, 0.00476805920292929, 0.9951620707828133, 0.993193314485224, 0.9972656958549244, 0.8659142150886745, 0.02333301777185051, 0.10110974367801888, 0.005185115060411225, 0.9956914863310011, 0.07462201552161077, 0.9249202450178597, 0.997526708083036, 0.9976572174744713, 0.21882340689510263, 0.21465325169850588, 0.017997511901101722, 0.07703813021081346, 0.17975563715856474, 0.03928725158899034, 0.09459667840701026, 0.15780745191331874, 0.4246920955661674, 0.08466234624504311, 0.00659507407343633, 0.12346592160735455, 0.048619499564635266, 0.04708576140802217, 0.1306744909434361, 0.13420208870364625, 0.9980174324727423, 0.9932665215276778, 0.010158653236432688, 0.9853893639339708, 0.9967258707312718, 0.9983320844265453, 0.9437843029487635, 0.04943632063064951, 0.9522703491900877, 0.04440638934047041, 0.9955171753574321, 0.9970659498951518, 0.01494539258239834, 0.9789232141470913, 0.9972243465496144, 0.9978179636489588, 0.9812260505151167, 0.001344145274678242, 0.002688290549356484, 0.01344145274678242, 0.9950487359279006, 0.9916921853274349, 0.9926375315902497, 0.004242040733291665, 0.004337720441811143, 0.9586362176402626, 0.034701763534489144, 0.9807143870352917, 0.9813677704834585, 0.011026604162735487, 0.9955151266077218, 0.991240909725601, 0.005664233769860577, 0.0007579445889780319, 0.5631528296106777, 0.08413184937656154, 0.2872609992226741, 0.06442529006313272, 0.0025650663666046294, 0.9952457502425963, 0.9352562471870262, 0.004935389167213858, 0.05675697542295937, 0.9924819698914348, 0.09687615187884553, 0.15381213587781617, 0.1342669473408561, 0.10155000131159686, 0.24898870614475213, 0.04971276214835495, 0.0871035576103655, 0.1274686208932178, 0.9996181014773027, 0.0002456064131393864, 0.946075205203054, 0.0005161348637223426, 0.0005161348637223426, 0.05264575609967895, 0.0005161348637223426, 0.11450654121955861, 0.040792955309467756, 0.010019322356711378, 0.18249480006867153, 0.13311385416773688, 0.07156658826222413, 0.2962856754056079, 0.15028983535067067, 0.07013253743029377, 0.00809221585734159, 0.028322755500695563, 0.01078962114312212, 0.02967145814358583, 0.014835729071792914, 0.565106407371021, 0.2724379338638335, 0.9904456679175757, 0.004690052703975409, 0.2584740156857559, 0.5737497807863251, 0.043252708269995443, 0.033872602862044625, 0.08442094867155737, 0.0015633509013251365, 0.007722484977298605, 0.1583109420346214, 0.13128224461407628, 0.702746132934173, 0.9951756000386685, 0.8310959499126243, 0.16680966667873276, 0.001476191740519759, 0.16648406943237212, 0.12262000323462138, 0.416708628878632, 0.056823903937995274, 0.056823903937995274, 0.054830082747188424, 0.019938211908068517, 0.10666943370816657, 0.06558440358130764, 0.03435373520925638, 0.8931971154406659, 0.0031230668372051254, 0.9896337633100459, 0.9973953151118198, 0.9988950673717942, 0.5568424941523298, 0.42668152387329283, 0.015403665121779524, 0.9965741599401288, 0.0043630755264673655, 0.20361019123514373, 0.07417228394994521, 0.20506454974396618, 0.4493967792261387, 0.034904604211738924, 0.007271792544112276, 0.02181537763233683, 0.9627661163468484, 0.03536691855968015, 0.9956716455273104, 0.0023263356203909124, 0.990683176586975, 0.013830622236681208, 0.011064497789344966, 0.005532248894672483, 0.8049422141748463, 0.16320134239283826, 0.03427538017967039, 0.959710645030771, 0.9984563121019987, 0.002869285924522886, 0.002869285924522886, 0.19224215694303334, 0.8005307729418851, 0.9910380485770864, 0.9930112674497557, 0.9968289963372529, 0.03416026455711993, 0.15860122830091394, 0.004880037793874276, 0.002440018896937138, 0.8003261981953811, 0.09597228941961751, 0.5280707831786396, 0.007142123863785489, 0.0026782964489195584, 0.2821138926195268, 0.0839199553994795, 0.9886604681867422, 0.2112990332059895, 0.3733633402280591, 0.06564630157855984, 0.054021435674023205, 0.02461736309195994, 0.1121457651967064, 0.10120471493361309, 0.05812432952268319, 0.9881597852266515, 0.053375618875793125, 0.9443378724178784, 0.029535265663085546, 0.005063188399386093, 0.47256425060936874, 0.010126376798772187, 0.37720753575426397, 0.0025315941996930467, 0.1029514974541839, 0.9950428525269246, 0.018085246234557897, 0.18198279023523883, 0.23228238132510295, 0.01752008228972796, 0.5289934523608184, 0.01186844284142862, 0.004521311558639474, 0.005651639448299342, 0.9920736274890269, 0.9981335096050602, 0.9874420762452923, 0.8968085793174458, 0.0708006773145352, 0.02884472038740323, 0.98845166240754, 0.00917079866659009, 0.9812754573251397, 0.9994316797659275, 0.0328619923022366, 0.0014937269228289367, 0.007468634614144683, 0.9574789575333484, 0.998691511095377, 0.9792673140571113, 0.8873746429578349, 0.11123080482758375, 0.9888209049893214, 0.9900012231970552, 0.994596717909945, 0.9875674690279066, 0.20391280049404092, 0.1484249903596048, 0.11019134026697211, 0.07783979018859062, 0.0707812701714892, 0.09607430023276928, 0.12587694030497526, 0.16685557040425847, 0.015276608916912026, 0.8287560337424774, 0.0038191522292280065, 0.15085651305450626, 0.006268327010776996, 0.009402490516165493, 0.07521992412932395, 0.05328077959160447, 0.8587608004764484, 0.990016665046786, 0.005077008538701466, 0.7796378984212797, 0.07402811775875132, 0.004685323908781729, 0.0009370647817563458, 0.022489554762152298, 0.0056223886905380745, 0.0796505064492894, 0.0346713969249848, 0.04024455694019807, 0.9457470880946548, 0.008048911388039615, 0.0040244556940198075, 0.0013671129451794243, 0.012304016506614819, 0.0013671129451794243, 0.9843213205291855, 0.9922854216357992, 0.9948667032406738, 0.0030165718362754807, 0.0020110478908503203, 0.953236700263052, 0.0010055239454251602, 0.03820990992615609, 0.9800038242617051, 0.10790306827477075, 0.8478098221589131, 0.04367505144455007, 0.20434580293538504, 0.06457681218304376, 0.041576851679493924, 0.6608065575442971, 0.027423029831155566, 0.0008846138655211473, 0.0008846138655211473, 0.9935734115247483, 0.0010601709688900908, 0.05618906135117481, 0.05512889038228472, 0.2194553905602488, 0.6679077104007571, 0.22672133840266148, 0.1776486424243345, 0.0882760229330798, 0.13049499042281362, 0.11377189291064632, 0.09814539195665394, 0.06689239004866916, 0.09814539195665394, 0.536246798672797, 0.4554599144124824, 0.0006361171989001151, 0.007633406386801381, 0.3358962946568864, 0.2763194763445116, 0.00913754882091639, 0.06176983002939478, 0.11951913857758636, 0.039474210906358796, 0.024123128887219267, 0.13450471864388924, 0.019209527322490552, 0.9604763661245276, 0.009604763661245276, 0.9955525961351324, 0.9363505912021378, 0.06338930501368438, 0.9982132700626377, 0.9969125651255824, 0.9917331616185578, 0.8757790728137397, 0.0592632455287493, 0.03621642782312457, 0.02963162276437465, 0.9857820567283695, 0.009043872080076785, 0.9943575563204169, 0.9961604419649772, 0.1112801328199224, 0.3096011616079029, 0.11733994203288847, 0.11238191631318896, 0.10742389059348945, 0.025341020345130843, 0.08593911247479155, 0.1300104522054539, 0.996817842382956, 0.4629326498854904, 0.04280692758712351, 0.023830660718604842, 0.05604618354190398, 0.03000898016416906, 0.031774214291473125, 0.03530468254608125, 0.31730083438290524, 0.9958504010231226, 0.9933196795463602, 0.9963741377323719, 0.030895482052828452, 0.9665872242242044, 0.09765047013704693, 0.06009259700741349, 0.005007716417284458, 0.7010802984198241, 0.13520834326668035, 0.99551278869486, 0.2757798926239574, 0.0032701173038413925, 0.7205158459463868, 0.9896326275684674, 0.03248573579559184, 0.012031753998367346, 0.05293971759281632, 0.15039692497959184, 0.061361945391673466, 0.42111138994285713, 0.11069213678497959, 0.1600223281782857, 0.8934611162853661, 0.08103955703268627, 0.024311867109805877, 0.9942144186145533, 0.8477814878389672, 0.12859606838006807, 0.0066679442863739, 0.016193578981193755, 0.0020687205756791064, 0.9971233174773293, 0.03984351050615946, 0.956244252147827, 0.9906831624281862, 0.9079097110722183, 0.008406571398816835, 0.07565914258935152, 0.012609857098225255, 0.00225381855100997, 0.08789892348938884, 0.8001055856085395, 0.10818329044847858, 0.9894778730893348, 0.9970090199373915, 0.9976434909279243, 0.9924684672395631, 0.9950391718539732, 0.9958614596799779, 0.9917143158846999, 0.9863878044425665, 0.04667705521110919, 0.04321949556584184, 0.07865948192983215, 0.45899104290924037, 0.07087997272798062, 0.041490715743208166, 0.11842141785040665, 0.14175994545596124, 0.0008380529651452588, 0.6201591942074914, 0.029331853780084054, 0.34276366274441084, 0.00670442372116207, 0.9950390315282717, 0.0065860639935566585, 0.06805599460008548, 0.9220489590979323, 0.510849022331695, 0.06977762335107113, 0.4193059017885467, 0.9957997867412075, 0.9929464340197799, 0.6762507899779722, 0.07850569252290104, 0.05922359260499553, 0.0013772928512789657, 0.004131878553836898, 0.015150221364068624, 0.006886464256394829, 0.15838867789708105, 0.8289190433201526, 0.09103735157851386, 0.0071871593351458315, 0.002395719778381944, 0.03354007689734721, 0.03354007689734721, 0.989821915301005, 0.9951759800420825, 0.9968562074994314, 0.9905849127104875, 0.8862501603360395, 0.1104180527631787, 0.9979547454550048, 0.0059908724393774255, 0.029954362196887126, 0.958539590300388, 0.8956414115170455, 0.026055022880495868, 0.0032568778600619835, 0.017912828230340908, 0.05373848469102273, 0.0016284389300309917, 0.36218136717822624, 0.6165562404472146, 0.02059225164558477, 0.4502438483681891, 0.3729054726215995, 0.17317071091084196, 0.003698791883532547, 0.24079381559229748, 0.0893267380423039, 0.6680086497076639, 0.3346502104644912, 0.18736079744452097, 0.07635223248461694, 0.02707525974631806, 0.10451050262078772, 0.09530491430703958, 0.12400468963813671, 0.05144299351800431, 0.9827825171653571, 0.013016986982322612, 0.9932735264497712, 0.025316644901524226, 0.0029784288119440267, 0.06999307708068463, 0.6425960161769237, 0.0007446072029860067, 0.03648575294631433, 0.06254700505082456, 0.15934594143900543, 0.2160299275443399, 0.024411644303309367, 0.11339602515085642, 0.12914547308847538, 0.011287104355293578, 0.12205822151654684, 0.2260045779048319, 0.15775697017514978, 0.9909535344560041, 0.4875903971812406, 0.51244330577543, 0.9959560096734571, 0.9980944228814717, 0.007175957652639105, 0.07415156241060408, 0.9185225795378055, 0.9887527611998812, 0.9413386702421941, 0.057686492326819695, 0.9955686500586133, 0.9961126017206912, 0.9922939815847096, 0.06343597123704847, 0.045936392964759244, 0.004374894568072309, 0.34780411816174855, 0.03718660382861463, 0.041561498396686936, 0.4363957331652128, 0.024061920124397698, 0.9940747525442001, 0.0987616161809583, 0.9008986451628879, 0.0817735431819526, 0.14452998329833483, 0.7701926741556, 0.0019017103065570372, 0.7152708560233738, 0.01372222265752276, 0.2710138974860745, 0.9936582803981326, 0.9946201802683975, 0.038408715615973074, 0.9506157114953336, 0.9979396651177926, 0.014330683636616949, 0.07165341818308474, 0.9076099636524068, 0.99178714183518, 0.9908717553834182, 0.00703984898702681, 0.13887702092589252, 0.3526324356228884, 0.061438682068597615, 0.34047269646347844, 0.09855788581837534, 0.0006399862715478918, 0.008883964489696689, 0.9905620406011809, 0.993013267393104, 0.07556159911910602, 0.9235306559001848, 0.996084749597046, 0.9857787377673228, 0.05985682824882987, 0.9392917663662533, 0.014065395834082499, 0.9798892431077474, 0.19767922162886584, 0.04594964957959109, 0.3427078031144502, 0.11415616067429661, 0.028239888804123692, 0.0837623820461296, 0.09165997806762181, 0.09596775771570848, 0.9958666072526755, 0.9962555638085159, 0.9887520069928187, 0.006591680046618792, 0.003295840023309396, 0.6804653424059953, 0.002425901398951855, 0.28019161157893924, 0.035175570284801894, 0.5798701581939437, 0.014514032565045075, 0.08086389571953684, 0.03801294243226091, 0.011058310525748629, 0.11749454933607917, 0.060820707891617455, 0.0967602171003005, 0.9904726824785927, 0.03276391140746083, 0.0065527822814921656, 0.9567062130978562, 0.995916241015854, 0.3806802224091331, 0.5016440313989511, 0.11740604990188216, 0.9888842339740712, 0.998307617825204, 0.8393985683478773, 0.0812321195175365, 0.049376386373404545, 0.030262946486925367, 0.9909534239486937, 0.004898043278607216, 0.1795949202155979, 0.11755303868657317, 0.6138880909187711, 0.013061448742952574, 0.07183796808623916, 0.9920656882657765, 0.5075917232660799, 0.0800184404511814, 0.044454689139545214, 0.36695325217006414, 0.020055005047901073, 0.9760102456645188, 0.019520325977148183, 0.0013013550651432121, 0.5712948735978701, 0.19780596990176827, 0.21081952055320038, 0.03707179847030109, 0.013769525146111834, 0.49676209950203465, 0.0010591942420086027, 0.016947107872137643, 0.43426963922352707, 0.9936541363847231, 0.16078585401038548, 0.8342662236387925, 0.0030336953586865183, 0.22304782613778334, 0.7747080984174918, 0.9981522689083236, 0.0463501642309085, 0.0741602627694536, 0.8760181039641707, 0.9607747371531553, 0.01392427155294428, 0.02436747521765249, 0.7147998353025141, 0.005227055468391328, 0.23652425994470758, 0.04181644374713062, 0.9958523032604603, 0.9884511763457277, 0.11735958704102524, 0.49175005672703354, 0.0013387025137759534, 0.008924683425173023, 0.0035698733700692087, 0.28425116709176074, 0.09326294179305808, 0.9816380577064172, 0.01066997888811323, 0.988815305465975, 0.9935175220839247, 0.007772941587175123, 0.0011104202267393033, 0.9904948422514586, 0.8460186641982981, 0.1528190138309775, 0.8545075462155436, 0.13932188253514297, 0.006192083668228577, 0.022625806372548286, 0.13043111908880778, 0.3247468679353989, 0.029280455305650724, 0.49244402104958035, 0.07765763680697026, 0.41920742831910796, 0.0632765929538276, 0.4350265765575648, 0.000719052192657132, 0.004314313155942792, 0.9849414834415717, 0.007316638895508084, 0.9877462508935912, 0.261134343181518, 0.6457140122306627, 0.09258399440072003, 0.9927991211374941, 0.9892464498740522, 0.23804031442815562, 0.7574010004532225, 0.5809937836486749, 0.06740287359322862, 0.029429423681550528, 0.05411216612414129, 0.009493362477919525, 0.0579095111153091, 0.17467786959371925, 0.026581414938174668, 0.9923809652976137, 0.6335485681571842, 0.0021696868772506307, 0.36342255193948064, 0.002274587131376286, 0.9477446380734524, 0.04624993833798448, 0.0030327828418350478, 0.009078860619630265, 0.9865695206664887, 0.003026286873210088, 0.6520869562046718, 0.0658459141444457, 0.03398498794552036, 0.036109049692115376, 0.014868432226165157, 0.05416357453817307, 0.14231213702186649, 0.7031465184359559, 0.19965888795095044, 0.013021231822888071, 0.0021702053038146784, 0.05859554320299632, 0.021702053038146787, 0.98316037499092, 0.008261851890679999, 0.9961520499870944, 0.002238543932555268, 0.004943161208316318, 0.99357540287158, 0.0014164159906774627, 0.9426248417958514, 0.007790287948726045, 0.036118607762275295, 0.012039535920758432, 0.42739288187403873, 0.05342411023425484, 0.017066035213720295, 0.05416611176528616, 0.01335602755856371, 0.4340708956533206, 0.002093656793617171, 0.9965806337617734, 0.5477186044902825, 0.25149853393188565, 0.00024043836895973773, 0.1146891019937949, 0.026929097323490626, 0.05890740039513574, 0.9959391063504448, 0.9949748908979927, 0.33584499558305025, 0.663350724910088, 0.0005054100761219718, 0.0030864040703699218, 0.04938246512591875, 0.944439645533196, 0.347798978112921, 0.03615731950678882, 0.5819606663473629, 0.034435542387417924, 0.9884676793246575, 0.9923126197500699, 0.014978135561835942, 0.9735788115193363, 0.9945611209561817, 0.0039155949643944156, 0.9945967171026782, 0.22255118466524676, 0.16814978396929756, 0.24645483042558808, 0.03297054587633285, 0.005357713704904088, 0.039976786875053585, 0.238624325779959, 0.045746632403411834, 0.03376908092787463, 0.0870203239295231, 0.6299232403853537, 0.035067891732792886, 0.17144302624920968, 0.04286075656230242, 0.9988249856056096, 0.9943961237239496, 0.9957873437679918, 0.002508280462891667, 0.994077152629142, 0.9956450733379794, 0.9946132220290681, 0.7154858688847037, 0.08612329903241803, 0.06790490885248344, 0.12918494854862705, 0.0024558425601560415, 0.7441202957272806, 0.009823370240624166, 0.07858696192499333, 0.08595448960546144, 0.056484378883588954, 0.009823370240624166, 0.012279212800780207, 0.983848763730811, 0.9867563570249541, 0.7113265804937853, 0.1349852146352812, 0.15166878048908003, 0.0008820069771709424, 0.6168756798333571, 0.20762444242603986, 0.17128575496659704, 0.003351626513249581, 0.0015034160819441674, 0.31220940635040545, 0.5039784799139504, 0.18174629968391715, 0.0005011386939813892, 0.9915319367003037, 0.9940324549959523, 0.27603672129967305, 0.20379904131043114, 0.07667686702768696, 0.13680767327571516, 0.041970495636207604, 0.12913998657294645, 0.0895908656849816, 0.04600612021661218, 0.006199877753310724, 0.9857805627764051, 0.9867563545877533, 0.009214226564511386, 0.003948954241933451, 0.27247784269340813, 0.6660569488061088, 0.046071132822556926, 0.9989506596440236, 0.9946132031821326, 0.9935232311862001, 0.9893407508675031, 0.5585273992307479, 0.018553159282405467, 0.3915489656890987, 0.030921932137342446, 0.996586671789797, 0.9746732115080721, 0.01717485835256515, 0.004293714588141287, 0.18758366756958614, 0.04077905816730134, 0.7707241993619952, 0.9844687489144704, 0.9942015883388635, 0.2613426428774205, 0.1630157079334405, 0.0892705067254555, 0.14447159300979515, 0.053044793851357616, 0.13757145722425268, 0.06512003147605691, 0.08625169731928069, 0.9265267567319819, 0.009565910467734326, 0.06354497667852088, 0.9972780974531147, 0.044554504655522346, 0.9101848808199565, 0.038189575419019156, 0.03346438144105174, 0.029603106659391924, 0.12999625098254713, 0.750374399235891, 0.04504820578603119, 0.010296732751092844, 0.002574183187773211, 0.2585100227890604, 0.004237869226050171, 0.0021189346130250854, 0.7352703107197046, 0.9932160395585706, 0.8727958329044677, 0.06964954277541888, 0.05659025350502783, 0.9951962925769026, 0.0025517853655818014, 0.24442628746818756, 0.6838443323548169, 0.017576721795465173, 0.015928904127140313, 0.03735053381536349, 0.058420778872399784, 0.10571379034053294, 0.005563883702133313, 0.7650340090433305, 0.06537563350006642, 0.9972265426723675, 0.11729896756672067, 0.16997489281659062, 0.1601999788526972, 0.13956404937336672, 0.040728808182889126, 0.21287590410256715, 0.12978913540947334, 0.02932474189168017, 0.2302635974924179, 0.014112930168890129, 0.10101886857731882, 0.05793729227228579, 0.09359101059369243, 0.3127128211106708, 0.18941037858247278, 0.9968914883209613, 0.08119608955960236, 0.06743404048170365, 0.13142756869393263, 0.44382608276223323, 0.04059804477980118, 0.03027650797137715, 0.17133751101983888, 0.03440512269474676, 0.2213314327814237, 0.08603478891817097, 0.04371122340197396, 0.06868906534595907, 0.08881010468972488, 0.03677293397308921, 0.04509888128775091, 0.40935907630420054, 0.13857066179781305, 0.25053299202846496, 0.1468641677408243, 0.08328062217773802, 0.16483343061734868, 0.05770897885345331, 0.08362618492536349, 0.07429599073947582, 0.3046192008219384, 0.004098016154555225, 0.006147024231832837, 0.01775807000307264, 0.04166316423797812, 0.049176193854662695, 0.5771372750998608, 0.9983674089809179, 0.9734461313333891, 0.024599721730446656, 0.0006530652886795359, 0.07053105117738986, 0.34220621126807677, 0.07706170406418524, 0.19591958660386075, 0.28277726999823904, 0.018285828083027002, 0.012408240484911182, 0.0030206769153305457, 0.0891099690022511, 0.116296061240226, 0.6736109521187117, 0.11780639969789128, 0.21309571785801779, 0.7852661099019868, 0.9921224771187716, 0.005680090517855562, 0.6814256493708903, 0.0012665904263399448, 0.04179748406921818, 0.10386041495987548, 0.0012665904263399448, 0.1697231171295526, 0.0028712061566423114, 0.9532404440052473, 0.04306809234963467, 0.9971126613400416, 0.9859012641356366, 0.9924934890012012, 0.04206397675758419, 0.9137230506786344, 0.002336887597643566, 0.04206397675758419, 0.9979123676407228, 0.9961019431288894, 0.9888765196925448, 0.9913444266615123, 0.7919741469239798, 0.2034933571957448, 0.004124865348562394, 0.9890330900353956, 0.008600287739438224, 0.01813774523708417, 0.9812520173262536, 0.9874905112475119, 0.9893407375893807, 0.9262885315134336, 0.004971137020644546, 0.021541593756126364, 0.04639727885934909, 0.9949506123695028, 0.052179734275019846, 0.009662913754633304, 0.0009662913754633304, 0.031887615390289906, 0.5208310513747351, 0.3855502588098688, 0.9750299824442316, 0.024712741490521998, 0.9946153570941959, 0.08366759240942463, 0.6230017650178696, 0.21109977161762522, 0.08109320495067311, 0.9977651243814031, 0.5149224775275049, 0.08951320177328397, 0.1932067127383753, 0.1887753661159355, 0.012407770542831442, 0.9934514018741898, 0.006592692038244984, 0.9922001517558702, 0.999164333639889, 0.9963702010693316, 0.9548875166898299, 0.0013207296219776346, 0.04226334790328431, 0.9972049336671394, 0.08797311700890144, 0.056205046977909255, 0.8528504954474057, 0.5132246001689375, 0.27550774260850325, 0.0012190608080022269, 0.03779088504806903, 0.16213508746429617, 0.008533425656015588, 0.0018707893583288055, 0.3676101089116103, 0.39754273864487116, 0.2319778804327719, 0.49490710578492564, 0.20893064150708027, 0.2958932533473498, 0.00025427664280780563, 0.8827799038786458, 0.026531636455369136, 0.08924277716805983, 0.7189009075993841, 0.03487737076472259, 0.24592105304513584, 0.9985181338399866, 0.0026081072814110305, 0.0026081072814110305, 0.014779274594662507, 0.8971889048053945, 0.023472965532699275, 0.05911709837865003, 0.1655613377738999, 0.8311854916812117, 0.9935620506442273, 0.7011351467224726, 0.04292664163606975, 0.0014308880545356583, 0.01860154470896356, 0.007154440272678291, 0.01573976859989224, 0.21320232012581308, 0.9910631120011197, 0.0071299504460512215, 0.9800038351880426, 0.08925007877200238, 0.8925007877200238, 0.005355004726320143, 0.014280012603520381, 0.7274487757448869, 0.005283019211282728, 0.03537325906684957, 0.027563578493649016, 0.2042001773404498, 0.5052699531613327, 0.033979149506478325, 0.0003397914950647832, 0.1437318024124033, 0.13625638952097807, 0.1800894923843351, 0.01693242638849781, 0.973614517338624, 0.9259334322893191, 0.06966270336972934, 0.9924068911110966, 0.9966191917721711, 0.9967889748804782, 0.9957210806091811, 0.9136471250425389, 0.004583514005230128, 0.07944757609065554, 0.9910380518344021, 0.9947868669602338, 0.9951759817592059, 0.9950376761244282, 0.8731456953214755, 0.12427986174283774, 0.9990175772538522, 0.003465921224986415, 0.5982180034326553, 0.2932169356338507, 0.10397763674959246, 0.02272130087545301, 0.8303602683574646, 0.09708192192239014, 0.0061967184205780936, 0.04337702894404666, 0.03739302681066532, 0.9610007890340988, 0.9949083424661712, 0.9966155075143885, 0.9924462815278279, 0.9961163621262996, 0.1226191258064285, 0.07897503018041158, 0.20886817192450957, 0.1686878934116686, 0.02528586492618441, 0.04052666022415857, 0.24281357963363384, 0.11188129275558306, 0.9938005740100462, 0.2472826066202368, 0.7215395864667778, 0.01791902946523455, 0.0119460196434897, 0.9909139979821439, 0.991531929162631, 0.02730438848222503, 0.006826097120556257, 0.9693057911189885, 0.048130157777331366, 0.012032539444332841, 0.9385380766579616, 0.992953365525678, 0.2767989392747127, 0.07037261168001172, 0.0062553432604454855, 0.010946850705779599, 0.6349173409352168, 0.982163108624235, 0.017696632587824054, 0.3249786547471959, 0.674819064502374, 0.010378944641851105, 0.9889651537306695, 0.9917893093007745, 0.9946067373866145, 0.99561076050715, 0.9970011922118982, 0.967202453640736, 0.03188579517496932, 0.15897713472396655, 0.0009296908463389856, 0.0027890725390169566, 0.012085981002406813, 0.022312580312135653, 0.06600805009006798, 0.05857052331935609, 0.6777446269811205, 0.2139373588755899, 0.15900226853140587, 0.07311783151444212, 0.14275386152819652, 0.11180451485541679, 0.14391446202842575, 0.05648255767782301, 0.09903790935289514, 0.9888575149613952, 0.060601673212086364, 0.9393259347873387, 0.9863753014945037, 0.16423034018005758, 0.038066635141072946, 0.5633862000878797, 0.07178279769459471, 0.09462277877923847, 0.06634470696015571, 0.9916798170471801], \"Term\": [\"49\", \"abe\", \"abfeuern\", \"afd\", \"afd\", \"afghanisch\", \"afghanistan\", \"afghanistan\", \"ahrtal\", \"aiwanger\", \"ak\", \"aktuell\", \"aktuell\", \"aktuell\", \"aktuell\", \"aktuell\", \"aktuell\", \"aktuell\", \"aktuell\", \"altkanzler\", \"ampel\", \"ampel\", \"ampel\", \"analyse\", \"analyse\", \"analyse\", \"analyse\", \"analyse\", \"angriff\", \"angriff\", \"angriff\", \"angriff\", \"angriff\", \"angriff\", \"anklage\", \"anklagen\", \"anleger\", \"anleger\", \"arabien\", \"armee\", \"armee\", \"armee\", \"armee\", \"armenien\", \"armenien\", \"aserbaidschan\", \"atomkraft\", \"atomkraft\", \"atomwaffe\", \"atomwaffe\", \"audi\", \"autor\", \"autor\", \"autor\", \"autor\", \"autor\", \"autor\", \"autor\", \"autor\", \"au\\u00dfenminister\", \"au\\u00dfenminister\", \"au\\u00dfenminister\", \"au\\u00dfenminister\", \"au\\u00dfenministerin\", \"au\\u00dfenministerin\", \"au\\u00dfenministerin\", \"aviv\", \"bachmut\", \"bachmut\", \"baerbock\", \"baerbock\", \"bahn\", \"bahn\", \"bayer\", \"bayer\", \"bayern\", \"bayern\", \"bayern\", \"bayern\", \"beitrittskandidat\", \"belarus\", \"belarus\", \"belarus\", \"belarus\", \"benedikt\", \"bergkarabach\", \"berlin\", \"berlin\", \"berlin\", \"berlin\", \"berlin\", \"berlin\", \"berlin\", \"berlin\", \"berliner\", \"berliner\", \"berliner\", \"berliner\", \"berliner\", \"berlusconi\", \"biden\", \"biden\", \"biontech\", \"bleiben\", \"bleiben\", \"bleiben\", \"bleiben\", \"bleiben\", \"bleiben\", \"bleiben\", \"bleiben\", \"blink\", \"blinken\", \"bnd\", \"bolsonaro\", \"boris\", \"boris\", \"borussia\", \"botschafter\", \"botschafter\", \"botschafter\", \"brasilien\", \"brasilien\", \"brasilien\", \"brics\", \"britisch\", \"britisch\", \"britisch\", \"britisch\", \"britisch\", \"britisch\", \"britisch\", \"br\\u00fcssel\", \"br\\u00fcssel\", \"bund\", \"bund\", \"bund\", \"bund\", \"bund\", \"bundesfinanzminister\", \"bundesliga\", \"bundesnetzagentur\", \"bundesregierung\", \"bundesregierung\", \"bundesregierung\", \"bundesregierung\", \"bundesregierung\", \"bundesregierung\", \"bundesstaat\", \"burkina\", \"bvb\", \"cannabis\", \"cdu\", \"cdu\", \"cdu\", \"cdu\", \"champion\", \"charles\", \"charles\", \"chef\", \"chef\", \"chef\", \"chef\", \"chef\", \"chef\", \"chef\", \"chef\", \"cherson\", \"cherson\", \"china\", \"china\", \"china\", \"christian\", \"christian\", \"christian\", \"christian\", \"christian\", \"co2\", \"co2\", \"corona\", \"corona\", \"coronavirus\", \"covid\", \"csu\", \"csu\", \"csu\", \"csu\", \"cum\", \"dax\", \"dax\", \"demonstrant\", \"demonstration\", \"deutsch\", \"deutsch\", \"deutsch\", \"deutsch\", \"deutsch\", \"deutsch\", \"deutsch\", \"deutsch\", \"deutschland\", \"deutschland\", \"deutschland\", \"deutschland\", \"deutschland\", \"deutschland\", \"deutschland\", \"deutschland\", \"dfb\", \"di\", \"dnipro\", \"dnipro\", \"documenta\", \"donald\", \"donbass\", \"donbass\", \"donezk\", \"donezk\", \"dortmund\", \"eintracht\", \"elmau\", \"elmau\", \"elon\", \"em\", \"energie\", \"energie\", \"energie\", \"energie\", \"energiekosten\", \"energiekris\", \"energiewende\", \"energiewende\", \"england\", \"england\", \"england\", \"entgleisen\", \"entlasten\", \"entlasten\", \"entlastung\", \"entlastungspaket\", \"entlastungspaket\", \"entwicklung\", \"entwicklung\", \"entwicklung\", \"entwicklung\", \"entwicklung\", \"erdbeben\", \"erdbeben\", \"ermittlung\", \"ermittlung\", \"ermittlung\", \"erneuerbar\", \"erster\", \"erster\", \"erster\", \"erster\", \"erster\", \"erster\", \"erster\", \"erster\", \"eu\", \"eu\", \"euro\", \"euro\", \"euro\", \"euro\", \"euro\", \"europa\", \"europa\", \"europa\", \"europa\", \"europa\", \"europa\", \"europa\", \"europa\", \"europ\\u00e4isch\", \"europ\\u00e4isch\", \"europ\\u00e4isch\", \"europ\\u00e4isch\", \"europ\\u00e4isch\", \"europ\\u00e4isch\", \"europ\\u00e4isch\", \"europ\\u00e4isch\", \"evg\", \"ex\", \"ex\", \"ex\", \"ex\", \"ex\", \"ex\", \"ex\", \"explosion\", \"explosion\", \"explosion\", \"explosion\", \"ezb\", \"faeser\", \"faeser\", \"faeser\", \"fall\", \"fall\", \"fall\", \"fall\", \"fall\", \"fall\", \"fall\", \"fall\", \"fan\", \"fan\", \"fan\", \"fan\", \"faso\", \"fbi\", \"fc\", \"fdp\", \"fdp\", \"fdp\", \"fed\", \"feiern\", \"feiern\", \"feiern\", \"feiern\", \"feiern\", \"feiern\", \"feiern\", \"feiern\", \"festnahme\", \"festnahme\", \"festnehmen\", \"festnehmen\", \"fifa\", \"film\", \"film\", \"film\", \"film\", \"film\", \"finale\", \"finale\", \"finanzminister\", \"finnland\", \"finnland\", \"finnland\", \"finnland\", \"flick\", \"florida\", \"flugblatt\", \"fl\\u00fcchtling\", \"fl\\u00fcchtling\", \"fl\\u00fcchtling\", \"fl\\u00fcchtling\", \"fl\\u00fcchtling\", \"focus\", \"focus\", \"focus\", \"focus\", \"focus\", \"focus\", \"fossil\", \"frage\", \"frage\", \"frage\", \"frage\", \"frage\", \"frage\", \"frage\", \"frage\", \"france\", \"frankfurt\", \"frankfurt\", \"frankreich\", \"frankreich\", \"frankreich\", \"frankreich\", \"frankreich\", \"frankreich\", \"frankreich\", \"franziska\", \"frau\", \"frau\", \"frau\", \"frau\", \"frau\", \"frau\", \"frau\", \"frau\", \"frauen\", \"freiburg\", \"fridays\", \"front\", \"front\", \"front\", \"fukushima\", \"future\", \"future\", \"fu\\u00dfball\", \"g7\", \"g7\", \"g7\", \"g7\", \"gabor\", \"garmisch\", \"gas\", \"gas\", \"gasheizung\", \"gaspreise\", \"gasumlage\", \"gazastreifen\", \"geben\", \"geben\", \"geben\", \"geben\", \"geben\", \"geben\", \"geben\", \"geben\", \"gebiet\", \"gebiet\", \"gebiet\", \"gebiet\", \"gefl\\u00fcchtet\", \"gefl\\u00fcchtet\", \"gefl\\u00fcchtet\", \"gefl\\u00fcchtet\", \"gefl\\u00fcchtet\", \"gegenoffensiv\", \"gegenoffensiv\", \"geld\", \"geld\", \"geld\", \"geld\", \"geld\", \"geld\", \"geld\", \"geld\", \"general\", \"general\", \"general\", \"general\", \"generation\", \"generation\", \"generation\", \"generation\", \"georgien\", \"gerhard\", \"gericht\", \"gericht\", \"gericht\", \"gericht\", \"gericht\", \"getreideabkomme\", \"gewerkschaft\", \"gewerkschaft\", \"gewerkschaft\", \"gewinnen\", \"gewinnen\", \"gewinnen\", \"gewinnen\", \"gewinnen\", \"gewinnen\", \"gewinnen\", \"giffey\", \"gipfel\", \"gipfel\", \"gipfel\", \"gipfel\", \"gipfel\", \"gro\\u00df\", \"gro\\u00df\", \"gro\\u00df\", \"gro\\u00df\", \"gro\\u00df\", \"gro\\u00df\", \"gro\\u00df\", \"gro\\u00df\", \"gr\\u00fcne\", \"gr\\u00fcne\", \"gr\\u00fcne\", \"gr\\u00fcne\", \"gut\", \"gut\", \"gut\", \"gut\", \"gut\", \"gut\", \"gut\", \"gut\", \"guterres\", \"guterres\", \"guterres\", \"g\\u00f6rlach\", \"habeck\", \"habeck\", \"haft\", \"haftstrafe\", \"hartz\", \"haushalt\", \"haushalt\", \"haushalt\", \"haushalt\", \"heil\", \"heil\", \"heizung\", \"hertha\", \"heute\", \"heute\", \"heute\", \"heute\", \"heute\", \"heute\", \"heute\", \"heute\", \"hitzewelle\", \"hoch\", \"hoch\", \"hoch\", \"hoch\", \"hoch\", \"hoch\", \"hoch\", \"hoch\", \"hugo\", \"iii\", \"impfstoff\", \"impfung\", \"impfung\", \"indien\", \"indien\", \"indien\", \"indien\", \"indien\", \"infektion\", \"inflation\", \"inflation\", \"inflation\", \"inflationsrate\", \"international\", \"international\", \"international\", \"international\", \"international\", \"international\", \"international\", \"international\", \"invasion\", \"invasion\", \"invasion\", \"inzidenz\", \"iran\", \"iran\", \"iran\", \"iran\", \"israel\", \"israel\", \"israelisch\", \"israelisch\", \"iv\", \"jan\", \"jan\", \"jan\", \"jan\", \"japan\", \"japan\", \"japan\", \"japan\", \"jewgeni\", \"jinping\", \"johnson\", \"jong\", \"justiz\", \"justizreform\", \"kadyrow\", \"kaliningrad\", \"kampf\", \"kampf\", \"kampf\", \"kampf\", \"kampf\", \"kampf\", \"kampf\", \"kampf\", \"kanzler\", \"kanzler\", \"kanzler\", \"kanzler\", \"kanzler\", \"kapitol\", \"katar\", \"katar\", \"katar\", \"kiew\", \"kiew\", \"kiew\", \"kim\", \"kindergrundsicherung\", \"klima\", \"klima\", \"klima\", \"klima\", \"klima\", \"klima\", \"klima\", \"klima\", \"klimaschutz\", \"klimaschutz\", \"klimaschutz\", \"klimaschutz\", \"klimaschutz\", \"klimaschutz\", \"klitschko\", \"kommandeur\", \"kommission\", \"kommissionspr\\u00e4sidentin\", \"kommune\", \"kommune\", \"korrespondent\", \"kosovo\", \"kosovo\", \"kosovo\", \"kosten\", \"kosten\", \"kosten\", \"kosten\", \"kosten\", \"kosten\", \"kreml\", \"kreml\", \"kreml\", \"krieg\", \"krieg\", \"krieg\", \"krieg\", \"krim\", \"krim\", \"krim\", \"kritik\", \"kritik\", \"kritik\", \"kritik\", \"kritik\", \"kritik\", \"kritik\", \"kritik\", \"k\\u00f6nig\", \"k\\u00f6nig\", \"k\\u00fchnert\", \"lage\", \"lage\", \"lage\", \"lage\", \"lage\", \"lage\", \"lage\", \"lage\", \"land\", \"land\", \"land\", \"land\", \"land\", \"land\", \"land\", \"land\", \"laufzeit\", \"lauterbach\", \"lauterbach\", \"lawrow\", \"league\", \"leipzig\", \"leipzig\", \"leipzig\", \"leitzins\", \"leopard\", \"leopard\", \"letzten\", \"leverkusen\", \"leyen\", \"liefern\", \"liefern\", \"liefern\", \"liefern\", \"liefern\", \"liefern\", \"liefern\", \"liefern\", \"liga\", \"lindner\", \"lindner\", \"linke\", \"linke\", \"linke\", \"linke\", \"liveblog\", \"liveblog\", \"liveblog\", \"lng\", \"lufthansa\", \"lukaschenko\", \"lukaschenko\", \"l\\u00fctzerath\", \"machthaber\", \"machthaber\", \"machthaber\", \"mainz\", \"mangott\", \"mann\", \"mann\", \"mann\", \"mann\", \"mann\", \"mann\", \"mann\", \"marktbericht\", \"marktbericht\", \"masala\", \"maskenpflicht\", \"maskenpflicht\", \"ma\\u00dfnahm\", \"mecklenburg\", \"meldung\", \"meldung\", \"melnyk\", \"melnyk\", \"mensch\", \"mensch\", \"mensch\", \"mensch\", \"mensch\", \"mensch\", \"mensch\", \"mensch\", \"mexiko\", \"mieter\", \"milit\\u00e4rexperte\", \"milit\\u00e4rexperte\", \"milit\\u00e4rexperte\", \"milliarde\", \"milliarde\", \"milliarde\", \"milliarde\", \"million\", \"million\", \"million\", \"million\", \"million\", \"million\", \"million\", \"million\", \"mindestlohn\", \"moldau\", \"moldau\", \"moldau\", \"mord\", \"moskau\", \"moskau\", \"moskau\", \"munz\", \"musk\", \"mutma\\u00dflich\", \"mutma\\u00dflich\", \"mutma\\u00dflich\", \"mutma\\u00dflich\", \"m\\u00f6lling\", \"m\\u00fcnchen\", \"m\\u00fcnchen\", \"m\\u00fcnchen\", \"m\\u00fcnchen\", \"m\\u00fcnchen\", \"m\\u00fcnchen\", \"nahost\", \"nato\", \"nato\", \"nato\", \"nato\", \"netanjahu\", \"netanjahu\", \"new\", \"new\", \"new\", \"new\", \"new\", \"news\", \"news\", \"news\", \"news\", \"news\", \"news\", \"newsblog\", \"niedersachsen\", \"niedersachsen\", \"niedersachsen\", \"nord\", \"nord\", \"notenbank\", \"odessa\", \"odessa\", \"odessa\", \"offensive\", \"offensive\", \"offensive\", \"olaf\", \"olaf\", \"olaf\", \"olaf\", \"olympia\", \"omikron\", \"online\", \"online\", \"online\", \"online\", \"online\", \"online\", \"online\", \"open\", \"open\", \"orban\", \"pal\\u00e4stinenser\", \"pandemie\", \"pandemie\", \"pandemie\", \"panzer\", \"panzer\", \"papst\", \"papst\", \"papst\", \"parlament\", \"parlament\", \"parlament\", \"parlament\", \"parlament\", \"partei\", \"partei\", \"partei\", \"partei\", \"partei\", \"partei\", \"patriot\", \"paus\", \"paus\", \"peking\", \"peking\", \"peking\", \"pelosi\", \"pflege\", \"pipeline\", \"pipeline\", \"plan\", \"plan\", \"plan\", \"plan\", \"plan\", \"plan\", \"plan\", \"plan\", \"pokal\", \"polen\", \"polen\", \"polen\", \"polizei\", \"polizei\", \"polizei\", \"polizei\", \"polizist\", \"polizist\", \"polizist\", \"preis\", \"preis\", \"preis\", \"preis\", \"preis\", \"preis\", \"preis\", \"premier\", \"premier\", \"premier\", \"premier\", \"premier\", \"premier\", \"premierministerin\", \"premierministerin\", \"prigoschin\", \"prigoschin\", \"propaganda\", \"propaganda\", \"protest\", \"protest\", \"protest\", \"protest\", \"protest\", \"prozent\", \"prozent\", \"prozent\", \"prozent\", \"prozent\", \"prozent\", \"prozess\", \"prozess\", \"pr\\u00e4sident\", \"pr\\u00e4sident\", \"pr\\u00e4sident\", \"pr\\u00e4sident\", \"pr\\u00e4sident\", \"pr\\u00e4sident\", \"pr\\u00e4sidentschaftswahl\", \"puma\", \"putin\", \"putin\", \"putin\", \"queen\", \"queen\", \"queen\", \"rakete\", \"rakete\", \"rakete\", \"rakete\", \"raketenbeschuss\", \"raketeneinschlag\", \"rapper\", \"rapper\", \"razzia\", \"razzia\", \"rbb\", \"regierung\", \"regierung\", \"regierung\", \"regierung\", \"regierung\", \"regierung\", \"regierung\", \"regierung\", \"region\", \"region\", \"region\", \"region\", \"region\", \"region\", \"reitz\", \"rentenreform\", \"republikaner\", \"republikaner\", \"rezession\", \"rheinmetall\", \"rki\", \"robert\", \"robert\", \"robert\", \"robert\", \"rot\", \"rot\", \"rot\", \"rot\", \"rot\", \"rot\", \"rot\", \"rot\", \"rum\\u00e4nien\", \"rushdie\", \"russe\", \"russe\", \"russe\", \"russisch\", \"russisch\", \"russisch\", \"russisch\", \"russisch\", \"russland\", \"russland\", \"russland\", \"russland\", \"russland\", \"ryan\", \"r\\u00e4umung\", \"sagen\", \"sagen\", \"sagen\", \"sagen\", \"sagen\", \"sagen\", \"sagen\", \"sagen\", \"saison\", \"saison\", \"salman\", \"sanktion\", \"sanktion\", \"sanktion\", \"sanktion\", \"sanktion\", \"saporischschja\", \"saudi\", \"schalke\", \"schlesinger\", \"scholz\", \"scholz\", \"scholz\", \"scholz\", \"schr\\u00f6der\", \"schu\\u00df\", \"schu\\u00df\", \"schu\\u00df\", \"schweden\", \"schweden\", \"schweden\", \"schwesig\", \"sch\\u00fctzenpanzer\", \"sehen\", \"sehen\", \"sehen\", \"sehen\", \"sehen\", \"sehen\", \"sehen\", \"sehen\", \"selenskyj\", \"selenskyj\", \"selenskyj\", \"sicherheitskonferenz\", \"sicherheitsrat\", \"sicherheitsrat\", \"sicherheitsrat\", \"sieg\", \"sieg\", \"sieg\", \"sieg\", \"sieg\", \"sieg\", \"sieg\", \"sinken\", \"sinken\", \"sinken\", \"sinken\", \"sjewjerodonezk\", \"soldat\", \"soldat\", \"soldat\", \"sparen\", \"sparen\", \"spd\", \"spd\", \"spd\", \"spd\", \"spd\", \"spiel\", \"spiel\", \"spiel\", \"spiel\", \"spiel\", \"spieltag\", \"sprechen\", \"sprechen\", \"sprechen\", \"sprechen\", \"sprechen\", \"sprechen\", \"sprechen\", \"sprechen\", \"staat\", \"staat\", \"staat\", \"staat\", \"staat\", \"staat\", \"staat\", \"staatsanwaltschaft\", \"stadt\", \"stadt\", \"stadt\", \"stadt\", \"stadt\", \"stadt\", \"stadt\", \"stadt\", \"stark\", \"stark\", \"stark\", \"stark\", \"stark\", \"stark\", \"stark\", \"stark\", \"stehen\", \"stehen\", \"stehen\", \"stehen\", \"stehen\", \"stehen\", \"stehen\", \"stehen\", \"steigen\", \"steigen\", \"steigen\", \"steigen\", \"steigen\", \"steigen\", \"steigen\", \"steingart\", \"steinmeier\", \"steinmeier\", \"sterben\", \"sterben\", \"sterben\", \"sterben\", \"sterben\", \"sterben\", \"sterben\", \"sterben\", \"stern\", \"stern\", \"stern\", \"stern\", \"stern\", \"stream\", \"stream\", \"streik\", \"streik\", \"studie\", \"studie\", \"studie\", \"studie\", \"studie\", \"studie\", \"sturm\", \"sturm\", \"sturm\", \"sudan\", \"suisse\", \"sunak\", \"syrien\", \"syrien\", \"syrien\", \"syrien\", \"s\\u00f6der\", \"s\\u00f6ldner\", \"s\\u00f6ldnergruppe\", \"s\\u00f6ldnertruppe\", \"taiwan\", \"taiwan\", \"taiwan\", \"taliban\", \"taliban\", \"team\", \"team\", \"tempolimit\", \"terminal\", \"teuer\", \"teuer\", \"teuer\", \"teuer\", \"th\\u00fcringen\", \"ticker\", \"ticker\", \"ticker\", \"ticker\", \"ticker\", \"ticker\", \"ticket\", \"ticket\", \"tiktok\", \"tod\", \"tod\", \"tod\", \"tod\", \"tor\", \"tote\", \"tote\", \"tote\", \"tote\", \"tote\", \"tour\", \"trainer\", \"trainer\", \"trump\", \"trumps\", \"truppe\", \"truppe\", \"truppe\", \"truss\", \"twitter\", \"twitter\", \"twitter\", \"t\\u00f6ten\", \"t\\u00f6ten\", \"t\\u00f6ten\", \"t\\u00f6ten\", \"t\\u00f6ten\", \"t\\u00f6ten\", \"t\\u00fcrkei\", \"t\\u00fcrkei\", \"t\\u00fcrkei\", \"t\\u00fcrkei\", \"ukraine\", \"ukraine\", \"ukraine\", \"ukraine\", \"ukrainer\", \"ukrainer\", \"ukrainer\", \"ukrainisch\", \"ukrainisch\", \"ukrainisch\", \"ulrich\", \"un\", \"un\", \"un\", \"un\", \"un\", \"un\", \"ungarn\", \"ungarn\", \"uniper\", \"unternehmen\", \"unternehmen\", \"unternehmen\", \"unternehmen\", \"unternehmen\", \"unternehmen\", \"unternehmen\", \"updat\", \"updat\", \"uran\", \"urteil\", \"urteil\", \"urteil\", \"urteil\", \"us\", \"us\", \"us\", \"us\", \"us\", \"usa\", \"usa\", \"usa\", \"usa\", \"usa\", \"usa\", \"ver\", \"ver\", \"verbraucher\", \"verbraucher\", \"verbrenner\", \"verdi\", \"verd\\u00e4chtige\", \"versteher\", \"verurteilen\", \"verurteilen\", \"verurteilen\", \"vfl\", \"virus\", \"vis\", \"vogg\", \"wagenknecht\", \"wagenknecht\", \"wagner\", \"wahl\", \"wahl\", \"wahl\", \"wahl\", \"wahrheit\", \"wahrheit\", \"wahrheit\", \"wahrheit\", \"wahrheit\", \"waldbrand\", \"waldbrand\", \"wall\", \"warnstreik\", \"wasserstoff\", \"wegner\", \"weit\", \"weit\", \"weit\", \"weit\", \"weit\", \"weit\", \"weit\", \"weit\", \"weltmeister\", \"westen\", \"westen\", \"westen\", \"westen\", \"westjordanland\", \"wetterdienst\", \"who\", \"who\", \"who\", \"wiederaufbau\", \"wiederaufbau\", \"wiederaufbau\", \"wimbledon\", \"wirtschaft\", \"wirtschaft\", \"wirtschaft\", \"wirtschaft\", \"wirtschaft\", \"wirtschaftsminister\", \"wirtschaftsminister\", \"wladimir\", \"wladimir\", \"wm\", \"wm\", \"wolfsburg\", \"wolodymyr\", \"w\\u00e4rmepumpe\", \"xi\", \"york\", \"york\", \"zahl\", \"zahl\", \"zahl\", \"zahl\", \"zahl\", \"zahl\", \"zahl\", \"zahl\", \"zeigen\", \"zeigen\", \"zeigen\", \"zeigen\", \"zeigen\", \"zeigen\", \"zeigen\", \"zeigen\", \"zentralbank\", \"zins\", \"zins\", \"zverev\", \"\\u00fcberblick\", \"\\u00fcberblick\", \"\\u00fcberblick\", \"\\u00fcberblick\", \"\\u00fcberblick\", \"\\u00fcberblick\", \"\\u00fcberschwemmung\"]}, \"R\": 30, \"lambda.step\": 0.01, \"plot.opts\": {\"xlab\": \"PC1\", \"ylab\": \"PC2\"}, \"topic.order\": [6, 3, 5, 7, 2, 1, 8, 4]};\n",
       "\n",
       "function LDAvis_load_lib(url, callback){\n",
       "  var s = document.createElement('script');\n",
       "  s.src = url;\n",
       "  s.async = true;\n",
       "  s.onreadystatechange = s.onload = callback;\n",
       "  s.onerror = function(){console.warn(\"failed to load library \" + url);};\n",
       "  document.getElementsByTagName(\"head\")[0].appendChild(s);\n",
       "}\n",
       "\n",
       "if(typeof(LDAvis) !== \"undefined\"){\n",
       "   // already loaded: just create the visualization\n",
       "   !function(LDAvis){\n",
       "       new LDAvis(\"#\" + \"ldavis_el557619918720472323748255292\", ldavis_el557619918720472323748255292_data);\n",
       "   }(LDAvis);\n",
       "}else if(typeof define === \"function\" && define.amd){\n",
       "   // require.js is available: use it to load d3/LDAvis\n",
       "   require.config({paths: {d3: \"https://d3js.org/d3.v5\"}});\n",
       "   require([\"d3\"], function(d3){\n",
       "      window.d3 = d3;\n",
       "      LDAvis_load_lib(\"https://cdn.jsdelivr.net/gh/bmabey/pyLDAvis@3.4.0/pyLDAvis/js/ldavis.v3.0.0.js\", function(){\n",
       "        new LDAvis(\"#\" + \"ldavis_el557619918720472323748255292\", ldavis_el557619918720472323748255292_data);\n",
       "      });\n",
       "    });\n",
       "}else{\n",
       "    // require.js not available: dynamically load d3 & LDAvis\n",
       "    LDAvis_load_lib(\"https://d3js.org/d3.v5.js\", function(){\n",
       "         LDAvis_load_lib(\"https://cdn.jsdelivr.net/gh/bmabey/pyLDAvis@3.4.0/pyLDAvis/js/ldavis.v3.0.0.js\", function(){\n",
       "                 new LDAvis(\"#\" + \"ldavis_el557619918720472323748255292\", ldavis_el557619918720472323748255292_data);\n",
       "            })\n",
       "         });\n",
       "}\n",
       "</script>"
      ],
      "text/plain": [
       "PreparedData(topic_coordinates=               x          y  topics  cluster       Freq\n",
       "topic                                                  \n",
       "5       1.676457  20.251356       1        1  17.160394\n",
       "2      59.708809 -37.426018       2        1  14.942608\n",
       "4      -7.054173 -60.902164       3        1  14.102786\n",
       "6     -66.996574 -23.303980       4        1  12.324258\n",
       "1     -76.050507  46.957352       5        1  10.692478\n",
       "0      82.252655  29.598999       6        1  10.376446\n",
       "7     -25.304579  96.439117       7        1  10.317649\n",
       "3      45.198559  89.903450       8        1  10.083380, topic_info=           Term          Freq         Total Category  logprob  loglift\n",
       "25501   ukraine  11798.000000  11798.000000  Default  30.0000  30.0000\n",
       "7611         eu   4071.000000   4071.000000  Default  29.0000  29.0000\n",
       "21156  russland   5986.000000   5986.000000  Default  28.0000  28.0000\n",
       "14353     krieg   5947.000000   5947.000000  Default  27.0000  27.0000\n",
       "5108     corona   2936.000000   2936.000000  Default  26.0000  26.0000\n",
       "...         ...           ...           ...      ...      ...      ...\n",
       "26189       usa    530.127959   2942.981253   Topic8  -5.4014   0.5802\n",
       "24876    ticker    398.581577   1034.884534   Topic8  -5.6866   1.3401\n",
       "3938    bleiben    449.180880   2183.508608   Topic8  -5.5671   0.7130\n",
       "16451    mensch    401.027337   4178.486708   Topic8  -5.6805  -0.0494\n",
       "10761       gut    367.618493   2735.963494   Topic8  -5.7674   0.2871\n",
       "\n",
       "[587 rows x 6 columns], token_table=       Topic      Freq            Term\n",
       "term                                  \n",
       "83         1  0.990072              49\n",
       "194        6  0.995748             abe\n",
       "216        7  0.990585        abfeuern\n",
       "627        1  0.000690             afd\n",
       "627        5  0.998967             afd\n",
       "...      ...       ...             ...\n",
       "29792      4  0.563386       überblick\n",
       "29792      5  0.071783       überblick\n",
       "29792      7  0.094623       überblick\n",
       "29792      8  0.066345       überblick\n",
       "29934      3  0.991680  überschwemmung\n",
       "\n",
       "[1332 rows x 3 columns], R=30, lambda_step=0.01, plot_opts={'xlab': 'PC1', 'ylab': 'PC2'}, topic_order=[6, 3, 5, 7, 2, 1, 8, 4])"
      ]
     },
     "execution_count": 28,
     "metadata": {},
     "output_type": "execute_result"
    }
   ],
   "source": [
    "pyLDAvis.enable_notebook()\n",
    "panel = pyLDAvis.lda_model.prepare(lda, dtm, cv, mds='tsne')\n",
    "panel"
   ]
  },
  {
   "cell_type": "markdown",
   "id": "1c77ce17",
   "metadata": {},
   "source": [
    "## Save train set with topics and dump countvectorizer and model"
   ]
  },
  {
   "cell_type": "code",
   "execution_count": 29,
   "id": "78051ef9",
   "metadata": {},
   "outputs": [],
   "source": [
    "#Save result to csv\n",
    "train.to_csv('evaluation/train_lda_combined_8.csv')"
   ]
  },
  {
   "cell_type": "code",
   "execution_count": 30,
   "id": "c49fa248",
   "metadata": {},
   "outputs": [
    {
     "data": {
      "text/plain": [
       "['models/cv_combined.jl']"
      ]
     },
     "execution_count": 30,
     "metadata": {},
     "output_type": "execute_result"
    }
   ],
   "source": [
    "# Dump countvectorizer\n",
    "joblib.dump(cv, 'models/cv_combined.jl')"
   ]
  },
  {
   "cell_type": "code",
   "execution_count": 31,
   "id": "205360e6",
   "metadata": {},
   "outputs": [
    {
     "data": {
      "text/plain": [
       "['models/lda_model_8_topics_combined.jl']"
      ]
     },
     "execution_count": 31,
     "metadata": {},
     "output_type": "execute_result"
    }
   ],
   "source": [
    "# Dump LDA model\n",
    "joblib.dump(lda, 'models/lda_model_8_topics_combined.jl')"
   ]
  }
 ],
 "metadata": {
  "kernelspec": {
   "display_name": "nlp",
   "language": "python",
   "name": "nlp"
  },
  "language_info": {
   "codemirror_mode": {
    "name": "ipython",
    "version": 3
   },
   "file_extension": ".py",
   "mimetype": "text/x-python",
   "name": "python",
   "nbconvert_exporter": "python",
   "pygments_lexer": "ipython3",
   "version": "3.11.5"
  }
 },
 "nbformat": 4,
 "nbformat_minor": 5
}
