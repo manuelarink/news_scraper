{
 "cells": [
  {
   "cell_type": "markdown",
   "id": "d23815fa",
   "metadata": {},
   "source": [
    "# Topic modelling of news headlines for prediction of news category with 7 topics¶"
   ]
  },
  {
   "cell_type": "markdown",
   "id": "75523a79",
   "metadata": {},
   "source": [
    "Now we wan't to perform topic modelling with unsupervised learning and train a modell for prediction of news category labels without using the provided labels in the corpus.\n",
    "We use the LDA classifier on the combined feature 'title_description_text' feature and assume 7 topics. "
   ]
  },
  {
   "cell_type": "code",
   "execution_count": 1,
   "id": "a2821ff5",
   "metadata": {},
   "outputs": [],
   "source": [
    "import pandas as pd\n",
    "import numpy as np\n",
    "import matplotlib.pyplot as plt\n",
    "import seaborn as sns\n",
    "\n",
    "import joblib\n",
    "\n",
    "import pyLDAvis.lda_model"
   ]
  },
  {
   "cell_type": "markdown",
   "id": "6594f2c8",
   "metadata": {},
   "source": [
    "## Load data"
   ]
  },
  {
   "cell_type": "code",
   "execution_count": 2,
   "id": "d737f3a4",
   "metadata": {},
   "outputs": [],
   "source": [
    "train = pd.read_csv('../../data/01_train_nosplit_preprocessed.csv')"
   ]
  },
  {
   "cell_type": "code",
   "execution_count": 3,
   "id": "72fc6b38",
   "metadata": {},
   "outputs": [
    {
     "data": {
      "text/html": [
       "<div>\n",
       "<style scoped>\n",
       "    .dataframe tbody tr th:only-of-type {\n",
       "        vertical-align: middle;\n",
       "    }\n",
       "\n",
       "    .dataframe tbody tr th {\n",
       "        vertical-align: top;\n",
       "    }\n",
       "\n",
       "    .dataframe thead th {\n",
       "        text-align: right;\n",
       "    }\n",
       "</style>\n",
       "<table border=\"1\" class=\"dataframe\">\n",
       "  <thead>\n",
       "    <tr style=\"text-align: right;\">\n",
       "      <th></th>\n",
       "      <th>date</th>\n",
       "      <th>title</th>\n",
       "      <th>description</th>\n",
       "      <th>category</th>\n",
       "      <th>text</th>\n",
       "      <th>source</th>\n",
       "      <th>title_description_text</th>\n",
       "      <th>title_cleaned</th>\n",
       "      <th>title_description_text_cleaned</th>\n",
       "    </tr>\n",
       "  </thead>\n",
       "  <tbody>\n",
       "    <tr>\n",
       "      <th>0</th>\n",
       "      <td>2022-06-01 00:13:42</td>\n",
       "      <td>Preise: Grüne halten Senkung der Spritsteuer f...</td>\n",
       "      <td>Heute tritt die Steuersenkung auf Kraftstoffe ...</td>\n",
       "      <td>Other</td>\n",
       "      <td>NaN</td>\n",
       "      <td>stern</td>\n",
       "      <td>Preise: Grüne halten Senkung der Spritsteuer f...</td>\n",
       "      <td>Preis grüne halten Senkung Spritsteuer falsch ...</td>\n",
       "      <td>Preis grüne halten Senkung Spritsteuer falsch ...</td>\n",
       "    </tr>\n",
       "    <tr>\n",
       "      <th>1</th>\n",
       "      <td>2022-06-01 01:55:03</td>\n",
       "      <td>Biden warnt Putin: USA liefern moderne Raketen...</td>\n",
       "      <td>Die USA rüsten die Ukraine mit fortschrittlich...</td>\n",
       "      <td>Other</td>\n",
       "      <td>NaN</td>\n",
       "      <td>stern</td>\n",
       "      <td>Biden warnt Putin: USA liefern moderne Raketen...</td>\n",
       "      <td>Biden warnen Putin USA liefern modern Raketens...</td>\n",
       "      <td>Biden warnen Putin USA liefern modern Raketens...</td>\n",
       "    </tr>\n",
       "    <tr>\n",
       "      <th>2</th>\n",
       "      <td>2022-06-01 02:04:08</td>\n",
       "      <td>Soziale Medien: FDP-Politiker Kuhle: Internet-...</td>\n",
       "      <td>Eine «ZDF Magazin Royale»-Recherche beschäftig...</td>\n",
       "      <td>Other</td>\n",
       "      <td>NaN</td>\n",
       "      <td>stern</td>\n",
       "      <td>Soziale Medien: FDP-Politiker Kuhle: Internet-...</td>\n",
       "      <td>sozial Medium FDP-Politiker Kuhle Internet-Str...</td>\n",
       "      <td>sozial Medium FDP-Politiker Kuhle Internet-Str...</td>\n",
       "    </tr>\n",
       "    <tr>\n",
       "      <th>3</th>\n",
       "      <td>2022-06-01 02:26:58</td>\n",
       "      <td>Liveblog: ++ Zwei von drei ukrainischen Kinder...</td>\n",
       "      <td>Rund zwei von drei Mädchen und Jungen in der U...</td>\n",
       "      <td>Missing</td>\n",
       "      <td>NaN</td>\n",
       "      <td>Tagesschau</td>\n",
       "      <td>Liveblog: ++ Zwei von drei ukrainischen Kinder...</td>\n",
       "      <td>Liveblog ukrainisch Kind vertreiben</td>\n",
       "      <td>Liveblog ukrainisch Kind vertreiben rund Mädch...</td>\n",
       "    </tr>\n",
       "    <tr>\n",
       "      <th>4</th>\n",
       "      <td>2022-06-01 02:31:43</td>\n",
       "      <td>Finanzen: Dänemark stimmt über EU-Verteidigung...</td>\n",
       "      <td>Vorbehalt verteidigen oder Verteidigung ohne V...</td>\n",
       "      <td>Other</td>\n",
       "      <td>NaN</td>\n",
       "      <td>stern</td>\n",
       "      <td>Finanzen: Dänemark stimmt über EU-Verteidigung...</td>\n",
       "      <td>Finanz Dänemark stimmen EU-Verteidigungsvorbehalt</td>\n",
       "      <td>Finanz Dänemark stimmen EU-Verteidigungsvorbeh...</td>\n",
       "    </tr>\n",
       "  </tbody>\n",
       "</table>\n",
       "</div>"
      ],
      "text/plain": [
       "                  date                                              title  \\\n",
       "0  2022-06-01 00:13:42  Preise: Grüne halten Senkung der Spritsteuer f...   \n",
       "1  2022-06-01 01:55:03  Biden warnt Putin: USA liefern moderne Raketen...   \n",
       "2  2022-06-01 02:04:08  Soziale Medien: FDP-Politiker Kuhle: Internet-...   \n",
       "3  2022-06-01 02:26:58  Liveblog: ++ Zwei von drei ukrainischen Kinder...   \n",
       "4  2022-06-01 02:31:43  Finanzen: Dänemark stimmt über EU-Verteidigung...   \n",
       "\n",
       "                                         description category  text  \\\n",
       "0  Heute tritt die Steuersenkung auf Kraftstoffe ...    Other   NaN   \n",
       "1  Die USA rüsten die Ukraine mit fortschrittlich...    Other   NaN   \n",
       "2  Eine «ZDF Magazin Royale»-Recherche beschäftig...    Other   NaN   \n",
       "3  Rund zwei von drei Mädchen und Jungen in der U...  Missing   NaN   \n",
       "4  Vorbehalt verteidigen oder Verteidigung ohne V...    Other   NaN   \n",
       "\n",
       "       source                             title_description_text  \\\n",
       "0       stern  Preise: Grüne halten Senkung der Spritsteuer f...   \n",
       "1       stern  Biden warnt Putin: USA liefern moderne Raketen...   \n",
       "2       stern  Soziale Medien: FDP-Politiker Kuhle: Internet-...   \n",
       "3  Tagesschau  Liveblog: ++ Zwei von drei ukrainischen Kinder...   \n",
       "4       stern  Finanzen: Dänemark stimmt über EU-Verteidigung...   \n",
       "\n",
       "                                       title_cleaned  \\\n",
       "0  Preis grüne halten Senkung Spritsteuer falsch ...   \n",
       "1  Biden warnen Putin USA liefern modern Raketens...   \n",
       "2  sozial Medium FDP-Politiker Kuhle Internet-Str...   \n",
       "3                Liveblog ukrainisch Kind vertreiben   \n",
       "4  Finanz Dänemark stimmen EU-Verteidigungsvorbehalt   \n",
       "\n",
       "                      title_description_text_cleaned  \n",
       "0  Preis grüne halten Senkung Spritsteuer falsch ...  \n",
       "1  Biden warnen Putin USA liefern modern Raketens...  \n",
       "2  sozial Medium FDP-Politiker Kuhle Internet-Str...  \n",
       "3  Liveblog ukrainisch Kind vertreiben rund Mädch...  \n",
       "4  Finanz Dänemark stimmen EU-Verteidigungsvorbeh...  "
      ]
     },
     "execution_count": 3,
     "metadata": {},
     "output_type": "execute_result"
    }
   ],
   "source": [
    "train.head()"
   ]
  },
  {
   "cell_type": "markdown",
   "id": "46b4f629",
   "metadata": {},
   "source": [
    "## Load German stopwords"
   ]
  },
  {
   "cell_type": "code",
   "execution_count": 4,
   "id": "da144b59",
   "metadata": {},
   "outputs": [],
   "source": [
    "stop_words = pd.read_csv('german_stopwords.txt', header=None)[0].values.tolist()"
   ]
  },
  {
   "cell_type": "code",
   "execution_count": 5,
   "id": "bd74c6d3",
   "metadata": {},
   "outputs": [
    {
     "name": "stdout",
     "output_type": "stream",
     "text": [
      "['ab', 'aber', 'alle', 'allein', 'allem', 'allen', 'aller', 'allerdings', 'allerlei', 'alles', 'allmählich', 'allzu', 'als', 'alsbald', 'also', 'am', 'an', 'and', 'ander', 'andere', 'anderem', 'anderen', 'anderer', 'andererseits', 'anderes', 'anderm', 'andern', 'andernfalls', 'anders', 'anstatt', 'auch', 'auf', 'aus', 'ausgenommen', 'ausser', 'ausserdem', 'außer', 'außerdem', 'außerhalb', 'bald', 'bei', 'beide', 'beiden', 'beiderlei', 'beides', 'beim', 'beinahe', 'bereits', 'besonders', 'besser', 'beträchtlich', 'bevor', 'bezüglich', 'bin', 'bis', 'bisher', 'bislang', 'bist', 'bloß', 'bsp.', 'bzw', 'ca', 'ca.', 'content', 'da', 'dabei', 'dadurch', 'dafür', 'dagegen', 'daher', 'dahin', 'damals', 'damit', 'danach', 'daneben', 'dann', 'daran', 'darauf', 'daraus', 'darin', 'darum', 'darunter', 'darüber', 'darüberhinaus', 'das', 'dass', 'dasselbe', 'davon', 'davor', 'dazu', 'daß', 'dein', 'deine', 'deinem', 'deinen', 'deiner', 'deines', 'dem', 'demnach', 'demselben', 'den', 'denen', 'denn', 'dennoch', 'denselben', 'der', 'derart', 'derartig', 'derem', 'deren', 'derer', 'derjenige', 'derjenigen', 'derselbe', 'derselben', 'derzeit', 'des', 'deshalb', 'desselben', 'dessen', 'desto', 'deswegen', 'dich', 'die', 'diejenige', 'dies', 'diese', 'dieselbe', 'dieselben', 'diesem', 'diesen', 'dieser', 'dieses', 'diesseits', 'dir', 'direkt', 'direkte', 'direkten', 'direkter', 'doch', 'dort', 'dorther', 'dorthin', 'drauf', 'drin', 'drunter', 'drüber', 'du', 'dunklen', 'durch', 'durchaus', 'eben', 'ebenfalls', 'ebenso', 'eher', 'eigenen', 'eigenes', 'eigentlich', 'ein', 'eine', 'einem', 'einen', 'einer', 'einerseits', 'eines', 'einfach', 'einführen', 'einführte', 'einführten', 'eingesetzt', 'einig', 'einige', 'einigem', 'einigen', 'einiger', 'einigermaßen', 'einiges', 'einmal', 'eins', 'einseitig', 'einseitige', 'einseitigen', 'einseitiger', 'einst', 'einstmals', 'einzig', 'entsprechend', 'entweder', 'er', 'erst', 'es', 'etc', 'etliche', 'etwa', 'etwas', 'euch', 'euer', 'eure', 'eurem', 'euren', 'eurer', 'eures', 'falls', 'fast', 'ferner', 'folgende', 'folgenden', 'folgender', 'folgendes', 'folglich', 'fuer', 'für', 'gab', 'ganze', 'ganzem', 'ganzen', 'ganzer', 'ganzes', 'gar', 'gegen', 'gemäss', 'ggf', 'gleich', 'gleichwohl', 'gleichzeitig', 'glücklicherweise', 'gänzlich', 'hab', 'habe', 'haben', 'haette', 'hast', 'hat', 'hatte', 'hatten', 'hattest', 'hattet', 'heraus', 'herein', 'hier', 'hier', 'hinter', 'hiermit', 'hiesige', 'hin', 'hinein', 'hinten', 'hinter', 'hinterher', 'http', 'hätt', 'hätte', 'hätten', 'höchstens', 'ich', 'igitt', 'ihm', 'ihn', 'ihnen', 'ihr', 'ihre', 'ihrem', 'ihren', 'ihrer', 'ihres', 'im', 'immer', 'immerhin', 'in', 'indem', 'indessen', 'infolge', 'innen', 'innerhalb', 'ins', 'insofern', 'inzwischen', 'irgend', 'irgendeine', 'irgendwas', 'irgendwen', 'irgendwer', 'irgendwie', 'irgendwo', 'ist', 'ja', 'je', 'jed', 'jede', 'jedem', 'jeden', 'jedenfalls', 'jeder', 'jederlei', 'jedes', 'jedoch', 'jemand', 'jene', 'jenem', 'jenen', 'jener', 'jenes', 'jenseits', 'jetzt', 'jährig', 'jährige', 'jährigen', 'jähriges', 'kam', 'kann', 'kannst', 'kaum', 'kein', 'keine', 'keinem', 'keinen', 'keiner', 'keinerlei', 'keines', 'keineswegs', 'klar', 'klare', 'klaren', 'klares', 'klein', 'kleinen', 'kleiner', 'kleines', 'koennen', 'koennt', 'koennte', 'koennten', 'komme', 'kommen', 'kommt', 'konkret', 'konkrete', 'konkreten', 'konkreter', 'konkretes', 'können', 'könnt', 'künftig', 'leider', 'machen', 'man', 'manche', 'manchem', 'manchen', 'mancher', 'mancherorts', 'manches', 'manchmal', 'mehr', 'mehrere', 'mein', 'meine', 'meinem', 'meinen', 'meiner', 'meines', 'mich', 'mir', 'mit', 'mithin', 'muessen', 'muesst', 'muesste', 'muss', 'musst', 'musste', 'mussten', 'muß', 'mußt', 'müssen', 'müsste', 'müssten', 'müßt', 'müßte', 'nach', 'nachdem', 'nachher', 'nachhinein', 'nahm', 'natürlich', 'neben', 'nebenan', 'nehmen', 'nein', 'nicht', 'nichts', 'nie', 'niemals', 'niemand', 'nirgends', 'nirgendwo', 'noch', 'nun', 'nur', 'nächste', 'nämlich', 'nötigenfalls', 'ob', 'oben', 'oberhalb', 'obgleich', 'obschon', 'obwohl', 'oder', 'oft', 'per', 'plötzlich', 'schließlich', 'schon', 'sehr', 'sehrwohl', 'seid', 'sein', 'seine', 'seinem', 'seinen', 'seiner', 'seines', 'seit', 'seitdem', 'seither', 'selber', 'selbst', 'sich', 'sicher', 'sicherlich', 'sie', 'sind', 'so', 'sobald', 'sodass', 'sodaß', 'soeben', 'sofern', 'sofort', 'sogar', 'solange', 'solch', 'solche', 'solchem', 'solchen', 'solcher', 'solches', 'soll', 'sollen', 'sollst', 'sollt', 'sollte', 'sollten', 'solltest', 'somit', 'sondern', 'sonst', 'sonstwo', 'sooft', 'soviel', 'soweit', 'sowie', 'sowohl', 'tatsächlich', 'tatsächlichen', 'tatsächlicher', 'tatsächliches', 'trotzdem', 'ueber', 'um', 'umso', 'unbedingt', 'und', 'unmöglich', 'unmögliche', 'unmöglichen', 'unmöglicher', 'uns', 'unser', 'unser', 'unsere', 'unsere', 'unserem', 'unseren', 'unserer', 'unseres', 'unter', 'usw', 'viel', 'viele', 'vielen', 'vieler', 'vieles', 'vielleicht', 'vielmals', 'vom', 'von', 'vor', 'voran', 'vorher', 'vorüber', 'völlig', 'wann', 'war', 'waren', 'warst', 'warum', 'was', 'weder', 'weil', 'weiter', 'weitere', 'weiterem', 'weiteren', 'weiterer', 'weiteres', 'weiterhin', 'weiß', 'welche', 'welchem', 'welchen', 'welcher', 'welches', 'wem', 'wen', 'wenig', 'wenige', 'weniger', 'wenigstens', 'wenn', 'wenngleich', 'wer', 'werde', 'werden', 'werdet', 'weshalb', 'wessen', 'wichtig', 'wie', 'wieder', 'wieso', 'wieviel', 'wiewohl', 'will', 'willst', 'wir', 'wird', 'wirklich', 'wirst', 'wo', 'wodurch', 'wogegen', 'woher', 'wohin', 'wohingegen', 'wohl', 'wohlweislich', 'womit', 'woraufhin', 'woraus', 'worin', 'wurde', 'wurden', 'während', 'währenddessen', 'wär', 'wäre', 'wären', 'würde', 'würden', 'z.B.', 'zB', 'zahlreich', 'zeitweise', 'zu', 'zudem', 'zuerst', 'zufolge', 'zugleich', 'zuletzt', 'zum', 'zumal', 'zur', 'zurück', 'zusammen', 'zuviel', 'zwar', 'zwischen', 'ähnlich', 'übel', 'über', 'überall', 'überallhin', 'überdies', 'übermorgen', 'übrig', 'übrigens']\n"
     ]
    }
   ],
   "source": [
    "print(stop_words)"
   ]
  },
  {
   "cell_type": "code",
   "execution_count": 6,
   "id": "83a61957",
   "metadata": {},
   "outputs": [],
   "source": [
    "# append words to stopwords that contain no information\n",
    "stop_words += ['wegen', 'melden', 'meldet', 'können', 'könnte', 'könnten', 'update', 'neu', 'neue', 'neues', 'ohne', 'letzte', 'letzter',\n",
    "                  'letztes', 'eins', 'zwei', 'drei', 'vier', 'fünf', 'sechs', 'sieben', 'acht', 'neun', 'zehn',\n",
    "                   'gehen', 'geht', 'wollen', 'wollte', 'wollt', 'jahr', 'jahre', 'fordern', 'fordert',\n",
    "                  'warnen', 'warnt', 'frühjahr', 'frühling', 'sommer', 'herbst', 'winter', 'erneut', 'deutlich', 'schwer', 'jahren', 'woche',\n",
    "                  'wochen', 'monat', 'monate', 'tag', 'tage', 'stunden', 'stunde', 'minuten', 'minuten', 'ende', 'beenden', 'endet']"
   ]
  },
  {
   "cell_type": "markdown",
   "id": "a12c363c",
   "metadata": {},
   "source": [
    "## Extract features from 'title_description_text' "
   ]
  },
  {
   "cell_type": "code",
   "execution_count": 7,
   "id": "cd42c0db",
   "metadata": {},
   "outputs": [],
   "source": [
    "from sklearn.feature_extraction.text import CountVectorizer"
   ]
  },
  {
   "cell_type": "code",
   "execution_count": 8,
   "id": "38ab615c",
   "metadata": {},
   "outputs": [],
   "source": [
    "cv = CountVectorizer(max_df=0.95, min_df=3, stop_words=stop_words)"
   ]
  },
  {
   "cell_type": "code",
   "execution_count": 9,
   "id": "a628f0d2",
   "metadata": {},
   "outputs": [
    {
     "name": "stderr",
     "output_type": "stream",
     "text": [
      "C:\\Users\\manuela.rink\\anaconda3\\envs\\nlp\\Lib\\site-packages\\sklearn\\feature_extraction\\text.py:409: UserWarning: Your stop_words may be inconsistent with your preprocessing. Tokenizing the stop words generated tokens ['bsp', 'zb'] not in stop_words.\n",
      "  warnings.warn(\n"
     ]
    }
   ],
   "source": [
    "# create Document-Term-Matrix\n",
    "dtm = cv.fit_transform(train['title_description_text_cleaned'])"
   ]
  },
  {
   "cell_type": "code",
   "execution_count": 10,
   "id": "faba69b8",
   "metadata": {},
   "outputs": [
    {
     "data": {
      "text/plain": [
       "<67513x29998 sparse matrix of type '<class 'numpy.int64'>'\n",
       "\twith 1026097 stored elements in Compressed Sparse Row format>"
      ]
     },
     "execution_count": 10,
     "metadata": {},
     "output_type": "execute_result"
    }
   ],
   "source": [
    "dtm"
   ]
  },
  {
   "cell_type": "code",
   "execution_count": 11,
   "id": "3f48b861",
   "metadata": {},
   "outputs": [],
   "source": [
    "from sklearn.decomposition import LatentDirichletAllocation"
   ]
  },
  {
   "cell_type": "code",
   "execution_count": 12,
   "id": "fdf60b9b",
   "metadata": {},
   "outputs": [
    {
     "data": {
      "text/html": [
       "<style>#sk-container-id-1 {color: black;background-color: white;}#sk-container-id-1 pre{padding: 0;}#sk-container-id-1 div.sk-toggleable {background-color: white;}#sk-container-id-1 label.sk-toggleable__label {cursor: pointer;display: block;width: 100%;margin-bottom: 0;padding: 0.3em;box-sizing: border-box;text-align: center;}#sk-container-id-1 label.sk-toggleable__label-arrow:before {content: \"▸\";float: left;margin-right: 0.25em;color: #696969;}#sk-container-id-1 label.sk-toggleable__label-arrow:hover:before {color: black;}#sk-container-id-1 div.sk-estimator:hover label.sk-toggleable__label-arrow:before {color: black;}#sk-container-id-1 div.sk-toggleable__content {max-height: 0;max-width: 0;overflow: hidden;text-align: left;background-color: #f0f8ff;}#sk-container-id-1 div.sk-toggleable__content pre {margin: 0.2em;color: black;border-radius: 0.25em;background-color: #f0f8ff;}#sk-container-id-1 input.sk-toggleable__control:checked~div.sk-toggleable__content {max-height: 200px;max-width: 100%;overflow: auto;}#sk-container-id-1 input.sk-toggleable__control:checked~label.sk-toggleable__label-arrow:before {content: \"▾\";}#sk-container-id-1 div.sk-estimator input.sk-toggleable__control:checked~label.sk-toggleable__label {background-color: #d4ebff;}#sk-container-id-1 div.sk-label input.sk-toggleable__control:checked~label.sk-toggleable__label {background-color: #d4ebff;}#sk-container-id-1 input.sk-hidden--visually {border: 0;clip: rect(1px 1px 1px 1px);clip: rect(1px, 1px, 1px, 1px);height: 1px;margin: -1px;overflow: hidden;padding: 0;position: absolute;width: 1px;}#sk-container-id-1 div.sk-estimator {font-family: monospace;background-color: #f0f8ff;border: 1px dotted black;border-radius: 0.25em;box-sizing: border-box;margin-bottom: 0.5em;}#sk-container-id-1 div.sk-estimator:hover {background-color: #d4ebff;}#sk-container-id-1 div.sk-parallel-item::after {content: \"\";width: 100%;border-bottom: 1px solid gray;flex-grow: 1;}#sk-container-id-1 div.sk-label:hover label.sk-toggleable__label {background-color: #d4ebff;}#sk-container-id-1 div.sk-serial::before {content: \"\";position: absolute;border-left: 1px solid gray;box-sizing: border-box;top: 0;bottom: 0;left: 50%;z-index: 0;}#sk-container-id-1 div.sk-serial {display: flex;flex-direction: column;align-items: center;background-color: white;padding-right: 0.2em;padding-left: 0.2em;position: relative;}#sk-container-id-1 div.sk-item {position: relative;z-index: 1;}#sk-container-id-1 div.sk-parallel {display: flex;align-items: stretch;justify-content: center;background-color: white;position: relative;}#sk-container-id-1 div.sk-item::before, #sk-container-id-1 div.sk-parallel-item::before {content: \"\";position: absolute;border-left: 1px solid gray;box-sizing: border-box;top: 0;bottom: 0;left: 50%;z-index: -1;}#sk-container-id-1 div.sk-parallel-item {display: flex;flex-direction: column;z-index: 1;position: relative;background-color: white;}#sk-container-id-1 div.sk-parallel-item:first-child::after {align-self: flex-end;width: 50%;}#sk-container-id-1 div.sk-parallel-item:last-child::after {align-self: flex-start;width: 50%;}#sk-container-id-1 div.sk-parallel-item:only-child::after {width: 0;}#sk-container-id-1 div.sk-dashed-wrapped {border: 1px dashed gray;margin: 0 0.4em 0.5em 0.4em;box-sizing: border-box;padding-bottom: 0.4em;background-color: white;}#sk-container-id-1 div.sk-label label {font-family: monospace;font-weight: bold;display: inline-block;line-height: 1.2em;}#sk-container-id-1 div.sk-label-container {text-align: center;}#sk-container-id-1 div.sk-container {/* jupyter's `normalize.less` sets `[hidden] { display: none; }` but bootstrap.min.css set `[hidden] { display: none !important; }` so we also need the `!important` here to be able to override the default hidden behavior on the sphinx rendered scikit-learn.org. See: https://github.com/scikit-learn/scikit-learn/issues/21755 */display: inline-block !important;position: relative;}#sk-container-id-1 div.sk-text-repr-fallback {display: none;}</style><div id=\"sk-container-id-1\" class=\"sk-top-container\"><div class=\"sk-text-repr-fallback\"><pre>LatentDirichletAllocation(n_components=7, random_state=42)</pre><b>In a Jupyter environment, please rerun this cell to show the HTML representation or trust the notebook. <br />On GitHub, the HTML representation is unable to render, please try loading this page with nbviewer.org.</b></div><div class=\"sk-container\" hidden><div class=\"sk-item\"><div class=\"sk-estimator sk-toggleable\"><input class=\"sk-toggleable__control sk-hidden--visually\" id=\"sk-estimator-id-1\" type=\"checkbox\" checked><label for=\"sk-estimator-id-1\" class=\"sk-toggleable__label sk-toggleable__label-arrow\">LatentDirichletAllocation</label><div class=\"sk-toggleable__content\"><pre>LatentDirichletAllocation(n_components=7, random_state=42)</pre></div></div></div></div></div>"
      ],
      "text/plain": [
       "LatentDirichletAllocation(n_components=7, random_state=42)"
      ]
     },
     "execution_count": 12,
     "metadata": {},
     "output_type": "execute_result"
    }
   ],
   "source": [
    "lda = LatentDirichletAllocation(n_components=7, random_state=42)\n",
    "lda.fit(dtm)"
   ]
  },
  {
   "cell_type": "markdown",
   "id": "a2f3296f",
   "metadata": {},
   "source": [
    "## Analyse extracted features"
   ]
  },
  {
   "cell_type": "code",
   "execution_count": 13,
   "id": "44c85ba2",
   "metadata": {},
   "outputs": [
    {
     "data": {
      "text/plain": [
       "29998"
      ]
     },
     "execution_count": 13,
     "metadata": {},
     "output_type": "execute_result"
    }
   ],
   "source": [
    "len(cv.get_feature_names_out())"
   ]
  },
  {
   "cell_type": "code",
   "execution_count": 14,
   "id": "79a3b48a",
   "metadata": {},
   "outputs": [
    {
     "data": {
      "text/plain": [
       "array(['000', '01', '034', ..., 'đoković', 'войны', 'украинцы'],\n",
       "      dtype=object)"
      ]
     },
     "execution_count": 14,
     "metadata": {},
     "output_type": "execute_result"
    }
   ],
   "source": [
    "cv.get_feature_names_out()"
   ]
  },
  {
   "cell_type": "code",
   "execution_count": 15,
   "id": "6d276a41",
   "metadata": {},
   "outputs": [
    {
     "data": {
      "text/plain": [
       "7"
      ]
     },
     "execution_count": 15,
     "metadata": {},
     "output_type": "execute_result"
    }
   ],
   "source": [
    "len(lda.components_)"
   ]
  },
  {
   "cell_type": "code",
   "execution_count": 16,
   "id": "be61548c",
   "metadata": {},
   "outputs": [
    {
     "data": {
      "text/plain": [
       "array([[ 1.11319917,  0.14315524, 22.10247387, ...,  0.14337529,\n",
       "         0.14285816,  0.1428576 ],\n",
       "       [34.31009412,  0.1431382 ,  0.17817771, ...,  0.14619281,\n",
       "         0.14285808,  0.14285757],\n",
       "       [ 0.14343256,  4.13878023, 18.17614036, ...,  0.16194595,\n",
       "         3.1428522 ,  0.14285744],\n",
       "       ...,\n",
       "       [ 3.93409388,  0.14285728, 10.57973483, ...,  0.1428577 ,\n",
       "         0.14285784,  0.14285746],\n",
       "       [ 3.83678091,  0.14338078, 23.77811105, ...,  3.11949335,\n",
       "         0.14285769,  0.14285739],\n",
       "       [ 5.02983794,  0.14285729, 14.73605078, ...,  0.14285775,\n",
       "         0.14285791,  5.14285496]])"
      ]
     },
     "execution_count": 16,
     "metadata": {},
     "output_type": "execute_result"
    }
   ],
   "source": [
    "lda.components_"
   ]
  },
  {
   "cell_type": "code",
   "execution_count": 17,
   "id": "45a65bd8",
   "metadata": {},
   "outputs": [
    {
     "data": {
      "text/plain": [
       "29998"
      ]
     },
     "execution_count": 17,
     "metadata": {},
     "output_type": "execute_result"
    }
   ],
   "source": [
    "len(lda.components_[0])"
   ]
  },
  {
   "cell_type": "markdown",
   "id": "9e30cf34",
   "metadata": {},
   "source": [
    "### Show most important words of first extracted topic"
   ]
  },
  {
   "cell_type": "code",
   "execution_count": 18,
   "id": "c617b9e0",
   "metadata": {},
   "outputs": [],
   "source": [
    "first_topic = lda.components_[0]"
   ]
  },
  {
   "cell_type": "code",
   "execution_count": 19,
   "id": "258f618e",
   "metadata": {},
   "outputs": [
    {
     "data": {
      "text/plain": [
       "array([ 1589, 12143, 17489, ..., 25501, 19899, 21156], dtype=int64)"
      ]
     },
     "execution_count": 19,
     "metadata": {},
     "output_type": "execute_result"
    }
   ],
   "source": [
    "first_topic.argsort() # returns indices of ascending sorted array values "
   ]
  },
  {
   "cell_type": "code",
   "execution_count": 20,
   "id": "5966880a",
   "metadata": {},
   "outputs": [],
   "source": [
    "# the last 10 entries are the 10 most important words for topic 1\n",
    "top_words_indices = first_topic.argsort()[-10:]"
   ]
  },
  {
   "cell_type": "code",
   "execution_count": 21,
   "id": "11648839",
   "metadata": {},
   "outputs": [
    {
     "name": "stdout",
     "output_type": "stream",
     "text": [
      "online\n",
      "usa\n",
      "moskau\n",
      "un\n",
      "russisch\n",
      "china\n",
      "krieg\n",
      "ukraine\n",
      "putin\n",
      "russland\n"
     ]
    }
   ],
   "source": [
    "for index in top_words_indices:\n",
    "    print(cv.get_feature_names_out()[index])"
   ]
  },
  {
   "cell_type": "markdown",
   "id": "0d661247",
   "metadata": {},
   "source": [
    "### Show most important words of first extracted topic"
   ]
  },
  {
   "cell_type": "code",
   "execution_count": 22,
   "id": "f789d8f2",
   "metadata": {},
   "outputs": [
    {
     "name": "stdout",
     "output_type": "stream",
     "text": [
      "Die TOP-15 Wörter für das Thema #0\n",
      "['präsident', 'kreml', 'westen', 'baerbock', 'focus', 'online', 'usa', 'moskau', 'un', 'russisch', 'china', 'krieg', 'ukraine', 'putin', 'russland']\n",
      "\n",
      "\n",
      "Die TOP-15 Wörter für das Thema #1\n",
      "['team', 'spiel', 'sieg', 'erster', 'dfb', 'partei', 'fc', 'bundesliga', 'frau', 'gewinnen', 'deutsch', 'fußball', 'bayern', 'wm', 'afd']\n",
      "\n",
      "\n",
      "Die TOP-15 Wörter für das Thema #2\n",
      "['heute', 'stehen', 'deutschland', 'groß', 'cdu', 'geben', 'wahl', 'kanzler', 'gut', 'spd', 'deutsch', 'online', 'focus', 'scholz', 'berlin']\n",
      "\n",
      "\n",
      "Die TOP-15 Wörter für das Thema #3\n",
      "['präsident', 'gipfel', 'zahl', 'generation', 'usa', 'land', 'steigen', 'biden', 'deutschland', 'pandemie', 'eu', 'geben', 'türkei', 'us', 'corona']\n",
      "\n",
      "\n",
      "Die TOP-15 Wörter für das Thema #4\n",
      "['geben', 'weit', 'tote', 'iran', 'regierung', 'sterben', 'gericht', 'ex', 'usa', 'polizei', 'protest', 'trump', 'mensch', 'präsident', 'us']\n",
      "\n",
      "\n",
      "Die TOP-15 Wörter für das Thema #5\n",
      "['gut', 'fdp', 'groß', 'bundesregierung', 'grüne', 'land', 'deutsch', 'gas', 'hoch', 'geben', 'ampel', 'habeck', 'eu', 'euro', 'deutschland']\n",
      "\n",
      "\n",
      "Die TOP-15 Wörter für das Thema #6\n",
      "['deutschland', 'nato', 'entwicklung', 'angriff', 'putin', 'präsident', 'liveblog', 'eu', 'selenskyj', 'kiew', 'ukrainisch', 'russland', 'krieg', 'russisch', 'ukraine']\n",
      "\n",
      "\n"
     ]
    }
   ],
   "source": [
    "for index, topic in enumerate(lda.components_):\n",
    "    print(f'Die TOP-15 Wörter für das Thema #{index}')\n",
    "    print([cv.get_feature_names_out()[i] for i in topic.argsort()[-15:]])\n",
    "    print('\\n')"
   ]
  },
  {
   "cell_type": "markdown",
   "id": "a0973fc9",
   "metadata": {},
   "source": [
    "### Get topics with highest probability for news items in train data"
   ]
  },
  {
   "cell_type": "code",
   "execution_count": 23,
   "id": "0f46f47f",
   "metadata": {},
   "outputs": [
    {
     "data": {
      "text/plain": [
       "(67513, 7)"
      ]
     },
     "execution_count": 23,
     "metadata": {},
     "output_type": "execute_result"
    }
   ],
   "source": [
    "topic_results = lda.transform(dtm)\n",
    "topic_results.shape"
   ]
  },
  {
   "cell_type": "code",
   "execution_count": 24,
   "id": "823c7020",
   "metadata": {},
   "outputs": [
    {
     "data": {
      "text/plain": [
       "array([0.00623, 0.00622, 0.10575, 0.08399, 0.00622, 0.78537, 0.00622])"
      ]
     },
     "execution_count": 24,
     "metadata": {},
     "output_type": "execute_result"
    }
   ],
   "source": [
    "topic_results[0].round(5)"
   ]
  },
  {
   "cell_type": "code",
   "execution_count": 25,
   "id": "f68cacd0",
   "metadata": {},
   "outputs": [
    {
     "data": {
      "text/plain": [
       "5"
      ]
     },
     "execution_count": 25,
     "metadata": {},
     "output_type": "execute_result"
    }
   ],
   "source": [
    "topic_results[0].argmax()"
   ]
  },
  {
   "cell_type": "code",
   "execution_count": 26,
   "id": "6e11fb89",
   "metadata": {},
   "outputs": [],
   "source": [
    "# save topic to train dataset\n",
    "train['topic'] = topic_results.argmax(axis=1)"
   ]
  },
  {
   "cell_type": "code",
   "execution_count": 27,
   "id": "7eb2c522",
   "metadata": {},
   "outputs": [
    {
     "data": {
      "text/html": [
       "<div>\n",
       "<style scoped>\n",
       "    .dataframe tbody tr th:only-of-type {\n",
       "        vertical-align: middle;\n",
       "    }\n",
       "\n",
       "    .dataframe tbody tr th {\n",
       "        vertical-align: top;\n",
       "    }\n",
       "\n",
       "    .dataframe thead th {\n",
       "        text-align: right;\n",
       "    }\n",
       "</style>\n",
       "<table border=\"1\" class=\"dataframe\">\n",
       "  <thead>\n",
       "    <tr style=\"text-align: right;\">\n",
       "      <th></th>\n",
       "      <th>date</th>\n",
       "      <th>title</th>\n",
       "      <th>description</th>\n",
       "      <th>category</th>\n",
       "      <th>text</th>\n",
       "      <th>source</th>\n",
       "      <th>title_description_text</th>\n",
       "      <th>title_cleaned</th>\n",
       "      <th>title_description_text_cleaned</th>\n",
       "      <th>topic</th>\n",
       "    </tr>\n",
       "  </thead>\n",
       "  <tbody>\n",
       "    <tr>\n",
       "      <th>0</th>\n",
       "      <td>2022-06-01 00:13:42</td>\n",
       "      <td>Preise: Grüne halten Senkung der Spritsteuer f...</td>\n",
       "      <td>Heute tritt die Steuersenkung auf Kraftstoffe ...</td>\n",
       "      <td>Other</td>\n",
       "      <td>NaN</td>\n",
       "      <td>stern</td>\n",
       "      <td>Preise: Grüne halten Senkung der Spritsteuer f...</td>\n",
       "      <td>Preis grüne halten Senkung Spritsteuer falsch ...</td>\n",
       "      <td>Preis grüne halten Senkung Spritsteuer falsch ...</td>\n",
       "      <td>5</td>\n",
       "    </tr>\n",
       "    <tr>\n",
       "      <th>1</th>\n",
       "      <td>2022-06-01 01:55:03</td>\n",
       "      <td>Biden warnt Putin: USA liefern moderne Raketen...</td>\n",
       "      <td>Die USA rüsten die Ukraine mit fortschrittlich...</td>\n",
       "      <td>Other</td>\n",
       "      <td>NaN</td>\n",
       "      <td>stern</td>\n",
       "      <td>Biden warnt Putin: USA liefern moderne Raketen...</td>\n",
       "      <td>Biden warnen Putin USA liefern modern Raketens...</td>\n",
       "      <td>Biden warnen Putin USA liefern modern Raketens...</td>\n",
       "      <td>6</td>\n",
       "    </tr>\n",
       "    <tr>\n",
       "      <th>2</th>\n",
       "      <td>2022-06-01 02:04:08</td>\n",
       "      <td>Soziale Medien: FDP-Politiker Kuhle: Internet-...</td>\n",
       "      <td>Eine «ZDF Magazin Royale»-Recherche beschäftig...</td>\n",
       "      <td>Other</td>\n",
       "      <td>NaN</td>\n",
       "      <td>stern</td>\n",
       "      <td>Soziale Medien: FDP-Politiker Kuhle: Internet-...</td>\n",
       "      <td>sozial Medium FDP-Politiker Kuhle Internet-Str...</td>\n",
       "      <td>sozial Medium FDP-Politiker Kuhle Internet-Str...</td>\n",
       "      <td>2</td>\n",
       "    </tr>\n",
       "    <tr>\n",
       "      <th>3</th>\n",
       "      <td>2022-06-01 02:26:58</td>\n",
       "      <td>Liveblog: ++ Zwei von drei ukrainischen Kinder...</td>\n",
       "      <td>Rund zwei von drei Mädchen und Jungen in der U...</td>\n",
       "      <td>Missing</td>\n",
       "      <td>NaN</td>\n",
       "      <td>Tagesschau</td>\n",
       "      <td>Liveblog: ++ Zwei von drei ukrainischen Kinder...</td>\n",
       "      <td>Liveblog ukrainisch Kind vertreiben</td>\n",
       "      <td>Liveblog ukrainisch Kind vertreiben rund Mädch...</td>\n",
       "      <td>6</td>\n",
       "    </tr>\n",
       "    <tr>\n",
       "      <th>4</th>\n",
       "      <td>2022-06-01 02:31:43</td>\n",
       "      <td>Finanzen: Dänemark stimmt über EU-Verteidigung...</td>\n",
       "      <td>Vorbehalt verteidigen oder Verteidigung ohne V...</td>\n",
       "      <td>Other</td>\n",
       "      <td>NaN</td>\n",
       "      <td>stern</td>\n",
       "      <td>Finanzen: Dänemark stimmt über EU-Verteidigung...</td>\n",
       "      <td>Finanz Dänemark stimmen EU-Verteidigungsvorbehalt</td>\n",
       "      <td>Finanz Dänemark stimmen EU-Verteidigungsvorbeh...</td>\n",
       "      <td>3</td>\n",
       "    </tr>\n",
       "  </tbody>\n",
       "</table>\n",
       "</div>"
      ],
      "text/plain": [
       "                  date                                              title  \\\n",
       "0  2022-06-01 00:13:42  Preise: Grüne halten Senkung der Spritsteuer f...   \n",
       "1  2022-06-01 01:55:03  Biden warnt Putin: USA liefern moderne Raketen...   \n",
       "2  2022-06-01 02:04:08  Soziale Medien: FDP-Politiker Kuhle: Internet-...   \n",
       "3  2022-06-01 02:26:58  Liveblog: ++ Zwei von drei ukrainischen Kinder...   \n",
       "4  2022-06-01 02:31:43  Finanzen: Dänemark stimmt über EU-Verteidigung...   \n",
       "\n",
       "                                         description category  text  \\\n",
       "0  Heute tritt die Steuersenkung auf Kraftstoffe ...    Other   NaN   \n",
       "1  Die USA rüsten die Ukraine mit fortschrittlich...    Other   NaN   \n",
       "2  Eine «ZDF Magazin Royale»-Recherche beschäftig...    Other   NaN   \n",
       "3  Rund zwei von drei Mädchen und Jungen in der U...  Missing   NaN   \n",
       "4  Vorbehalt verteidigen oder Verteidigung ohne V...    Other   NaN   \n",
       "\n",
       "       source                             title_description_text  \\\n",
       "0       stern  Preise: Grüne halten Senkung der Spritsteuer f...   \n",
       "1       stern  Biden warnt Putin: USA liefern moderne Raketen...   \n",
       "2       stern  Soziale Medien: FDP-Politiker Kuhle: Internet-...   \n",
       "3  Tagesschau  Liveblog: ++ Zwei von drei ukrainischen Kinder...   \n",
       "4       stern  Finanzen: Dänemark stimmt über EU-Verteidigung...   \n",
       "\n",
       "                                       title_cleaned  \\\n",
       "0  Preis grüne halten Senkung Spritsteuer falsch ...   \n",
       "1  Biden warnen Putin USA liefern modern Raketens...   \n",
       "2  sozial Medium FDP-Politiker Kuhle Internet-Str...   \n",
       "3                Liveblog ukrainisch Kind vertreiben   \n",
       "4  Finanz Dänemark stimmen EU-Verteidigungsvorbehalt   \n",
       "\n",
       "                      title_description_text_cleaned  topic  \n",
       "0  Preis grüne halten Senkung Spritsteuer falsch ...      5  \n",
       "1  Biden warnen Putin USA liefern modern Raketens...      6  \n",
       "2  sozial Medium FDP-Politiker Kuhle Internet-Str...      2  \n",
       "3  Liveblog ukrainisch Kind vertreiben rund Mädch...      6  \n",
       "4  Finanz Dänemark stimmen EU-Verteidigungsvorbeh...      3  "
      ]
     },
     "execution_count": 27,
     "metadata": {},
     "output_type": "execute_result"
    }
   ],
   "source": [
    "train.head()"
   ]
  },
  {
   "cell_type": "markdown",
   "id": "dc4070d6",
   "metadata": {},
   "source": [
    "## Visualize model"
   ]
  },
  {
   "cell_type": "code",
   "execution_count": 28,
   "id": "f6745175",
   "metadata": {},
   "outputs": [
    {
     "data": {
      "text/html": [
       "\n",
       "<link rel=\"stylesheet\" type=\"text/css\" href=\"https://cdn.jsdelivr.net/gh/bmabey/pyLDAvis@3.4.0/pyLDAvis/js/ldavis.v1.0.0.css\">\n",
       "\n",
       "\n",
       "<div id=\"ldavis_el1162018149522809128437767841\" style=\"background-color:white;\"></div>\n",
       "<script type=\"text/javascript\">\n",
       "\n",
       "var ldavis_el1162018149522809128437767841_data = {\"mdsDat\": {\"x\": [42.26652526855469, 7.05869722366333, -9.065054893493652, 13.43455696105957, -15.373838424682617, 35.86501693725586, 19.795969009399414], \"y\": [12.537951469421387, -26.207923889160156, 23.702735900878906, 3.4084973335266113, -5.891829013824463, -17.072254180908203, 32.939170837402344], \"topics\": [1, 2, 3, 4, 5, 6, 7], \"cluster\": [1, 1, 1, 1, 1, 1, 1], \"Freq\": [19.880240366084557, 16.84558291327872, 15.689040552433777, 14.38141555287706, 11.314604484370596, 11.23497114613523, 10.654144984820057]}, \"tinfo\": {\"Term\": [\"ukraine\", \"russland\", \"krieg\", \"russisch\", \"putin\", \"corona\", \"ukrainisch\", \"china\", \"us\", \"afd\", \"euro\", \"wm\", \"trump\", \"pr\\u00e4sident\", \"selenskyj\", \"eu\", \"kiew\", \"protest\", \"habeck\", \"scholz\", \"polizei\", \"bayern\", \"liveblog\", \"berlin\", \"t\\u00fcrkei\", \"usa\", \"focus\", \"moskau\", \"fu\\u00dfball\", \"online\", \"gas\", \"stream\", \"nord\", \"s\\u00f6der\", \"kommune\", \"aiwanger\", \"pipeline\", \"energie\", \"entlastung\", \"energiewende\", \"gasumlage\", \"rbb\", \"atomkraft\", \"verbrenner\", \"documenta\", \"co2\", \"euro\", \"innenministerin\", \"cannabis\", \"entlasten\", \"entlastungspaket\", \"lng\", \"erneuerbar\", \"flie\\u00dfen\", \"bundesinnenministerin\", \"w\\u00e4rmepumpe\", \"f\\u00f6rderung\", \"heizung\", \"uniper\", \"faeser\", \"wirtschaftsminister\", \"bund\", \"wissing\", \"sparen\", \"habeck\", \"teuer\", \"ticket\", \"verbraucher\", \"milliarde\", \"kosten\", \"csu\", \"ampel\", \"geld\", \"bundesregierung\", \"klimaschutz\", \"merz\", \"fdp\", \"gr\\u00fcne\", \"deutschland\", \"preis\", \"hoch\", \"studie\", \"eu\", \"plan\", \"million\", \"bundestag\", \"unternehmen\", \"cdu\", \"land\", \"geben\", \"deutsch\", \"prozent\", \"gut\", \"gro\\u00df\", \"kritik\", \"chef\", \"mensch\", \"sagen\", \"sehen\", \"spd\", \"johnson\", \"gabor\", \"steingart\", \"warnstreik\", \"giffey\", \"kindergrundsicherung\", \"truss\", \"hugo\", \"cum\", \"vogg\", \"sunak\", \"tour\", \"olympia\", \"evg\", \"wegner\", \"bundesfinanzminister\", \"franziska\", \"benedikt\", \"wimbledon\", \"verdi\", \"di\", \"france\", \"suisse\", \"neapel\", \"credit\", \"familienministerin\", \"rishi\", \"silber\", \"wahlwiederholung\", \"xvi\", \"roman\", \"wahrheit\", \"papst\", \"streik\", \"boris\", \"premierministerin\", \"franziskus\", \"olaf\", \"liebe\", \"berlin\", \"kanzler\", \"scholz\", \"jan\", \"berliner\", \"autor\", \"bahn\", \"focus\", \"online\", \"wahl\", \"bundeskanzler\", \"spd\", \"christian\", \"gewerkschaft\", \"cdu\", \"gastbeitrag\", \"premier\", \"rot\", \"redakteur\", \"gut\", \"kind\", \"deutsch\", \"britisch\", \"frage\", \"heute\", \"stehen\", \"leben\", \"gro\\u00df\", \"geben\", \"deutschland\", \"sagen\", \"partei\", \"zeigen\", \"gr\\u00fcne\", \"ex\", \"trump\", \"donald\", \"haft\", \"york\", \"l\\u00fctzerath\", \"anklage\", \"steinmeier\", \"festnehmen\", \"kapitol\", \"justiz\", \"bundesstaat\", \"queen\", \"prozess\", \"rentenreform\", \"demonstration\", \"demonstrant\", \"mexiko\", \"ermittlung\", \"haftstrafe\", \"anklagen\", \"mord\", \"elizabeth\", \"r\\u00e4umung\", \"florida\", \"pelosi\", \"tiktok\", \"staatsanwaltschaft\", \"fbi\", \"kaili\", \"verd\\u00e4chtige\", \"protest\", \"razzia\", \"ermittler\", \"polizei\", \"gericht\", \"polizist\", \"festnahme\", \"gef\\u00e4ngnis\", \"republikaner\", \"verurteilen\", \"mutma\\u00dflich\", \"urteil\", \"new\", \"protestieren\", \"us\", \"iran\", \"sturm\", \"tote\", \"tod\", \"ex\", \"pr\\u00e4sident\", \"mensch\", \"sterben\", \"verletzen\", \"usa\", \"stra\\u00dfe\", \"mindestens\", \"regierung\", \"mann\", \"frankreich\", \"weit\", \"t\\u00f6ten\", \"geben\", \"leben\", \"israel\", \"land\", \"biden\", \"panzer\", \"bachmut\", \"saporischschja\", \"leopard\", \"truppe\", \"cherson\", \"kampfpanzer\", \"donbass\", \"ukrainer\", \"donezk\", \"liveblog\", \"wolodymyr\", \"beschuss\", \"polen\", \"kosovo\", \"sjewjerodonezk\", \"s\\u00f6ldner\", \"charkiw\", \"stoltenberg\", \"ostukraine\", \"updat\", \"luhansk\", \"gegenoffensiv\", \"lyssytschansk\", \"gegenoffensive\", \"westjordanland\", \"kriegsverlauf\", \"rheinmetall\", \"milit\\u00e4rhilfe\", \"moldau\", \"selenskyj\", \"armee\", \"offensive\", \"raketenangriff\", \"munition\", \"ukrainisch\", \"soldat\", \"wagner\", \"gebiet\", \"kiew\", \"invasion\", \"ukraine\", \"milit\\u00e4rexperte\", \"russisch\", \"russe\", \"entwicklung\", \"front\", \"lieferung\", \"krieg\", \"nato\", \"angriff\", \"russland\", \"liefern\", \"lage\", \"waffe\", \"stadt\", \"eu\", \"putin\", \"pr\\u00e4sident\", \"\\u00fcberblick\", \"moskau\", \"weit\", \"deutschland\", \"land\", \"kampf\", \"geben\", \"afghanistan\", \"covid\", \"sudan\", \"musk\", \"rki\", \"taliban\", \"arabien\", \"letzten\", \"inzidenz\", \"al\", \"saudi\", \"elon\", \"syrien\", \"impfstoff\", \"tesla\", \"infektion\", \"leitzins\", \"omikron\", \"ezb\", \"virus\", \"coronavirus\", \"ma\\u00dfnahm\", \"kabul\", \"inflationsrate\", \"zentralbank\", \"salman\", \"rushdie\", \"null\", \"biontech\", \"gazastreifen\", \"corona\", \"generation\", \"erdogan\", \"t\\u00fcrkei\", \"pandemie\", \"erdo\\u011fan\", \"t\\u00fcrkisch\", \"impfung\", \"g7\", \"buschmann\", \"erdbeben\", \"rezession\", \"twitter\", \"gipfel\", \"zahl\", \"biden\", \"steigen\", \"schweden\", \"inflation\", \"us\", \"baerbock\", \"joe\", \"wirtschaft\", \"eu\", \"usa\", \"geben\", \"china\", \"land\", \"news\", \"stark\", \"deutschland\", \"pr\\u00e4sident\", \"hoch\", \"mensch\", \"prozent\", \"deutsch\", \"staat\", \"wm\", \"fu\\u00dfball\", \"bundesliga\", \"fc\", \"dfb\", \"dax\", \"em\", \"marktbericht\", \"league\", \"afd\", \"anleger\", \"dortmund\", \"th\\u00fcringen\", \"freiburg\", \"tor\", \"bvb\", \"wall\", \"eintracht\", \"trainer\", \"borussia\", \"england\", \"hertha\", \"liga\", \"weltmeister\", \"schalke\", \"pokal\", \"wolfsburg\", \"mainz\", \"spieltag\", \"halbfinal\", \"team\", \"bayer\", \"finale\", \"b\\u00f6rse\", \"frankfurt\", \"wagenknecht\", \"leipzig\", \"bayern\", \"katar\", \"spiel\", \"gewinnen\", \"sieg\", \"linke\", \"frau\", \"partei\", \"m\\u00fcnchen\", \"deutsch\", \"erster\", \"frankreich\", \"mann\", \"stehen\", \"gro\\u00df\", \"geben\", \"bleiben\", \"gut\", \"ulrich\", \"nordkorea\", \"xi\", \"reitz\", \"schr\\u00f6der\", \"korrespondent\", \"kim\", \"s\\u00fcdkorea\", \"gerhard\", \"propaganda\", \"jinping\", \"lawrow\", \"sicherheitskonferenz\", \"altkanzler\", \"versteher\", \"g\\u00f6rlach\", \"jong\", \"bnd\", \"lukaschenko\", \"abe\", \"diesel\", \"newsblog\", \"mangott\", \"getreideabkommen\", \"munz\", \"fukushima\", \"fischsterben\", \"blinken\", \"nordkoreanisch\", \"adac\", \"klitschko\", \"melnyk\", \"sicherheitsrat\", \"atomwaffe\", \"botschafter\", \"mali\", \"putin\", \"china\", \"au\\u00dfenminister\", \"un\", \"wladimir\", \"russland\", \"peking\", \"japan\", \"belarus\", \"westen\", \"kreml\", \"meer\", \"analyse\", \"krieg\", \"moskau\", \"baerbock\", \"stern\", \"ukraine\", \"russisch\", \"taiwan\", \"online\", \"focus\", \"usa\", \"sprechen\", \"land\", \"pr\\u00e4sident\", \"geben\", \"deutschland\", \"zeigen\", \"gro\\u00df\"], \"Freq\": [11791.0, 5988.0, 5936.0, 5644.0, 3945.0, 2951.0, 2796.0, 2873.0, 4362.0, 1446.0, 1938.0, 1346.0, 1571.0, 4153.0, 1447.0, 4122.0, 1563.0, 1412.0, 1656.0, 2601.0, 1319.0, 1266.0, 1161.0, 2786.0, 1073.0, 2954.0, 2240.0, 1402.0, 896.0, 2241.0, 1213.4711548034259, 597.7503614531896, 588.9672876867967, 423.1387279721403, 343.57466526805354, 318.35895852728015, 277.6105951247413, 741.7893138012053, 253.35633541139597, 234.92258436417882, 219.40036505795078, 219.40000003924646, 212.60868432772548, 204.8474283165433, 203.87680538946975, 199.99621366593098, 1929.8285505193992, 247.184932768408, 177.66106062095855, 180.55128471153472, 175.70052107200627, 160.21887188906987, 155.367903074401, 162.10045498403323, 141.774412603825, 140.806951138108, 139.82933446921584, 135.96422130786476, 133.05369740769007, 673.9506558197919, 446.80318056143045, 735.2274920536747, 242.60275535378406, 386.84060744402075, 1581.3923407617042, 587.8148774565828, 424.9071438353603, 330.9090418396756, 742.2400021795568, 554.5529296431007, 357.42579172379084, 1336.6939942447275, 878.3820705539509, 994.6607339316704, 373.7535600864246, 540.1725670434763, 931.42028265237, 1062.9079462914885, 3174.1532601476906, 669.1049315812019, 1224.108232170784, 564.8836966036831, 1695.9642186366693, 681.817170579213, 828.9035561868484, 600.6840598330496, 510.11824797764746, 841.287865142979, 1097.5120132188752, 1234.875790831245, 1161.4340627152978, 684.5326595123144, 901.6042962510568, 932.103119117584, 748.6933442810872, 740.0179959154888, 790.3936741017966, 712.2312799827598, 696.2660588882935, 677.4545795039865, 523.748428244982, 389.18934800322563, 384.3140241955647, 359.76359409616174, 194.17670488885713, 190.27154436270484, 183.45114805125567, 174.67550217408123, 173.70045833520945, 169.80019911419745, 156.1490285842848, 160.98391561102093, 139.57259628885748, 117.14688095039659, 105.44612026031359, 105.4443865216984, 101.54546300073646, 99.59539583832814, 94.72002210658489, 178.75786020678012, 127.40940826105074, 82.04400599290386, 77.16884421265637, 77.16635922343323, 75.21870919544138, 72.29294302501408, 70.34358778204268, 69.36102431536169, 67.41865240953852, 66.44359064091736, 202.58718634098068, 465.99568108418237, 308.82245893945066, 486.8452261258795, 442.8205062179051, 117.35186696785344, 126.32419446238215, 661.4895873305087, 164.22614150564138, 2127.1257607371767, 935.1310281309537, 1877.1461593584124, 213.65201759352007, 629.5448064595372, 513.0208009194231, 551.1429945322795, 1400.7745024000833, 1338.0976807132245, 864.6335552938611, 408.33380957064196, 966.1843455448694, 439.23144020449155, 300.5844789354513, 824.5029314314007, 287.9567044597702, 328.58488905771327, 301.57257412412145, 241.96435495223994, 939.338399332952, 631.290450174277, 1166.8864718849397, 500.30204874738695, 597.0908415541401, 663.5093932070256, 752.2431980769703, 564.9628971447471, 775.289839102365, 851.2867181654428, 769.3563521214921, 589.1461087694978, 498.92092857649527, 549.4878273807412, 505.7558276250051, 482.67624055001875, 1570.4210110724187, 652.2301000150675, 577.1759545266373, 375.40532426081296, 356.8881435189746, 322.77281767229397, 283.77344894354064, 428.5676421724179, 258.44132666456466, 258.4404484853098, 254.5422392403819, 316.69846513700764, 475.87799179489645, 221.401652824436, 211.64902624067764, 210.6736278750012, 198.98252725090438, 403.51697586550995, 171.6904252421736, 165.84160543611262, 298.7132015851363, 161.94332230396193, 156.09467479111927, 151.2209167552849, 150.24299265786576, 158.96272700042164, 274.2726914553094, 139.52451738433538, 138.54982221391833, 136.6001809397785, 1388.5700321915888, 253.71446560839144, 220.66625122726333, 1284.616394288036, 964.0549353814291, 325.91098542797204, 248.46270992063108, 250.52626149135884, 372.34569726466236, 585.2490122910954, 544.8805847383724, 490.41551400285994, 641.69904352057, 288.7941333012732, 2740.285565519756, 767.4522585775022, 315.9377597193455, 761.3233864263964, 572.5522696612054, 1095.344827627286, 1831.75884473026, 1788.358557913815, 850.1708181334803, 482.5311344073378, 1216.9600699077796, 430.7604413215581, 465.05776600846906, 803.7763876603161, 651.3657365371658, 533.3510805089687, 673.4110983026197, 448.7495448367469, 653.6633874796808, 494.63573987670225, 456.9641363829871, 509.71729030048584, 466.937436939782, 628.7757359382708, 536.4451217194587, 483.4039118946184, 376.339301550683, 746.6208984476601, 323.2841226122818, 287.90058765178895, 219.17753584085844, 408.90610418198025, 199.5351907064276, 1156.1203136823083, 186.76615108756687, 246.38842358504368, 916.0706800416214, 169.08574616361372, 164.174836072744, 217.8302150461481, 156.28030933663192, 140.60066111218165, 138.636083830318, 137.65365454040779, 132.74306704885228, 193.17153139455218, 120.95610921313578, 122.903227713926, 111.13221433076696, 183.20916721317334, 102.29339571411356, 101.31091094173385, 153.8991110204623, 1433.0745238167697, 757.901532017847, 278.1779990580941, 262.6563744252691, 208.7791964257664, 2573.5614087459358, 863.8179540725305, 778.8781459982966, 498.562185075569, 1435.3358425616698, 463.24247427899246, 9384.701808157728, 289.06849634122057, 4402.503038456046, 585.0294307502201, 1070.2960151376453, 347.14161221894864, 434.1132499642394, 3779.6369209764257, 960.6250858499254, 1099.1356496863348, 2703.062169960328, 651.3188262122452, 831.975401627593, 527.7709440137734, 764.7610600396092, 1319.305984659237, 1112.7563349408508, 1121.6435001881587, 563.7727411341926, 669.074124861022, 866.8730677608729, 924.4560805439743, 754.074796326544, 584.9036380763594, 572.8889772674755, 419.54685102968006, 340.9694133932703, 339.00511838435165, 315.431968011819, 240.78297894075072, 235.87234459856083, 220.13843791809265, 213.28092893247697, 203.45943878627588, 207.36598542174417, 240.60070439175936, 188.72577815709658, 426.1589266537011, 182.68712768484826, 132.63731225652535, 141.38358149132372, 114.07755095900089, 113.09536350992714, 209.52727535598726, 103.27089004932772, 130.53795995057757, 108.12442250620201, 88.53925621043648, 87.55729573508108, 85.59288655550479, 80.6817608587303, 80.6814682311637, 94.22271784486277, 74.78862964575318, 82.53034270693178, 2896.118817442863, 725.7976746123978, 469.37365661222316, 1029.4890574287788, 863.0709327443191, 119.88148850499039, 470.20523510161587, 218.05168303360554, 593.0720443329494, 156.3483039689493, 345.6189943046766, 132.098662593418, 353.1585448743931, 708.8357377322588, 713.2621031077665, 810.5624663976064, 800.1413537350098, 354.4893214420484, 544.2549226392824, 1147.4108459464035, 488.73547848945447, 300.03678490808574, 368.05610678690743, 892.8574280255631, 749.4538777101437, 914.3321891122737, 700.5575459087221, 791.9117708147598, 426.54941496217583, 504.5162299884467, 857.91164771288, 702.2001592357851, 564.6917403739262, 617.2960626597155, 461.98580391900947, 593.572977697916, 396.86621386946706, 1345.6272168653634, 895.3774208214267, 705.5942897269791, 697.9262689232456, 615.4949914224377, 499.5160744412006, 476.5120747028565, 441.0474808211644, 342.3220043800316, 1442.4702982078154, 285.7645152259875, 236.8865917690727, 234.01062008177882, 228.2600332459808, 226.3404559618694, 214.84127330401725, 203.33843268864166, 200.4636645924698, 301.5941632243487, 188.00325956155697, 229.0074347661616, 174.5793652550665, 166.9153474196222, 165.957294778018, 164.9992025095842, 161.16521465805235, 159.24808088580505, 159.24599400448264, 156.3727028170588, 157.32312761415864, 542.1641103328268, 242.4868872590369, 231.10403054814188, 180.12344910377533, 461.6126363008163, 294.57508508205734, 381.9139065301319, 1025.8962651993268, 400.4932552259533, 562.1823537538696, 810.747960375161, 594.9887666185658, 375.42792530543034, 766.3392123239582, 615.7350046888234, 383.57494594437503, 891.0613042030873, 607.8902542111231, 404.2431663781975, 441.5622514716633, 501.85032659167535, 433.64770677945984, 430.78414472303535, 339.20776501867823, 339.4548666804007, 454.7259005339738, 442.91803411534255, 422.2555829505832, 410.4482403861312, 321.8922913553842, 294.34143193678807, 221.52921768712926, 213.65576015687753, 212.67373512781325, 201.788933425679, 187.0912119145559, 178.23552923406524, 141.82930418220366, 135.92550070595505, 131.98998927110463, 131.00607514508417, 115.26281454226374, 113.26678897748404, 103.40720750755818, 87.58690448766181, 76.88107598953601, 160.49871587788962, 71.96890834400588, 70.98436401747607, 67.04911550531199, 66.06498883355562, 67.03522005072678, 63.9549062925386, 54.25769347174675, 54.25666226243912, 103.16820382224853, 204.0495197372863, 148.98307199307766, 171.57880936320853, 341.02690958682876, 170.94496007118434, 2831.783914107867, 2027.1084427504436, 361.4948628557867, 847.7933837378657, 441.24807720492333, 3278.1145625929944, 340.0333263497975, 352.18457542295994, 290.0088021857235, 567.2047050452219, 558.6689283854946, 280.8612834757725, 402.35840700892265, 2146.5139624415724, 733.1585103801324, 580.0474710834629, 412.9951815367514, 2404.970626283034, 1222.8628379649256, 384.545393542996, 586.3003045336642, 585.5187799319941, 631.8987772214821, 427.71450920000734, 490.2525032625306, 493.9237797574821, 447.6399104164875, 443.7093122376613, 380.74324659448024, 373.2183367949252], \"Total\": [11791.0, 5988.0, 5936.0, 5644.0, 3945.0, 2951.0, 2796.0, 2873.0, 4362.0, 1446.0, 1938.0, 1346.0, 1571.0, 4153.0, 1447.0, 4122.0, 1563.0, 1412.0, 1656.0, 2601.0, 1319.0, 1266.0, 1161.0, 2786.0, 1073.0, 2954.0, 2240.0, 1402.0, 896.0, 2241.0, 1214.682661576103, 598.6099022422602, 589.8789705943686, 423.9761896760656, 344.4210267318547, 319.1961457559368, 278.4483615574925, 744.155443751672, 254.1937137343451, 235.76019346959447, 220.23721523147574, 220.23721476320384, 213.445918732506, 205.68443255902017, 204.71424694868247, 200.83350685835947, 1938.3584860849585, 248.376942829174, 178.51934196923065, 181.4300018659017, 176.5790717659668, 161.05589573005858, 156.2049688667401, 162.99699324560294, 142.6225009510252, 141.65222433275105, 140.68208141659082, 136.80125579943055, 133.89069965892799, 678.2066973368262, 452.1340581879786, 748.9168822709531, 244.50438848361426, 391.9816024172162, 1656.4834729955307, 603.5554047098437, 445.0845324406293, 344.57817339521597, 826.6453787974634, 614.6057811445585, 385.8153914688813, 1680.1403929792905, 1068.2233865630774, 1292.6632849541375, 417.6006554967782, 648.6275312330139, 1297.0376978440038, 1570.3451196914414, 6523.948434091072, 941.9968040145193, 2266.4818451566434, 789.4775457304817, 4122.349277740141, 1055.0678371142283, 1448.5144886231585, 912.3275823659836, 699.2126283901542, 1779.166368470684, 3819.138434389153, 5105.471117995641, 4556.46454822733, 1349.3191920230586, 2734.5690326049166, 3644.395787396197, 1848.7415885030723, 2084.25275017642, 4178.9048213934175, 2477.0913911420093, 2316.87404435296, 1819.0345080117247, 524.5848381245712, 390.0259567547779, 385.1506349877244, 360.77315056892587, 195.0130811234141, 191.1127962178414, 184.28737095728863, 175.51179126722855, 174.53672758506698, 170.63646966759504, 156.985571217529, 161.86025692955673, 140.40947035423738, 117.98299474715907, 106.28222153200937, 106.28221595390221, 102.3819643724091, 100.43183311542322, 95.55650693007912, 180.38314614804554, 128.7063853753248, 82.8806710456846, 78.00535375678133, 78.00531336813341, 76.05522481219027, 73.13002764908457, 71.17990583652963, 70.2047139000498, 68.25471163131002, 67.27964724652928, 206.7358886559739, 482.76579292881206, 321.8609841894669, 527.4203137531834, 479.1403007595703, 120.86199015502474, 131.66683235730858, 767.2568527663158, 174.38058158601368, 2786.1504632506276, 1198.271913515302, 2601.383392189929, 237.51851315384764, 818.9235133826234, 666.8721218987664, 733.3117906980608, 2240.8993378773307, 2241.6989649773554, 1442.253166942811, 568.7657306466675, 1819.0345080117247, 636.3199868608394, 388.7212311714075, 1779.166368470684, 371.18971428524674, 460.0305516549521, 406.34516261120575, 288.4528421299085, 2734.5690326049166, 1412.7510331591416, 4556.46454822733, 1043.9749158051977, 1463.2072879734387, 1812.8308944183354, 2893.368540234985, 1619.4950655914975, 3644.395787396197, 5105.471117995641, 6523.948434091072, 2477.0913911420093, 1388.7740449273792, 2582.251795397105, 1570.3451196914414, 1917.9908351842666, 1571.2573464112022, 653.0663373096482, 578.0125087116248, 376.2444387235731, 357.7246428472129, 323.60926496500196, 284.62033807841647, 429.84925824712934, 259.2774118721472, 259.277412466224, 255.378511537531, 317.76116848708676, 477.61613976982215, 222.23785833312485, 212.49053116158652, 211.51588730079024, 199.81918268007098, 405.4681383386857, 172.5268828436487, 166.67853409922867, 300.2209211017004, 162.77963085625944, 156.93128114362145, 152.0576545936613, 151.0829601353105, 159.85547274918892, 275.83768571198664, 140.3609559127497, 139.38622935709816, 137.43678003612953, 1412.5506488756366, 255.38486982956786, 222.2333878553631, 1319.2926368690714, 994.4244886950813, 330.423849295244, 254.45210919514614, 259.3523320711956, 398.858985591212, 654.660729077806, 627.435067733666, 560.1330402669065, 764.9194133355471, 305.20759604887854, 4362.697230306164, 1051.1044976238277, 347.6389068300503, 1129.6748812633725, 774.0419624522476, 1917.9908351842666, 4153.310110724725, 4178.9048213934175, 1530.8749372924465, 667.2027608595386, 2954.6540011461875, 567.40678177886, 730.1747470514624, 2433.440576642312, 1561.4256829804642, 1187.1088491139399, 2891.284530309687, 819.629162448328, 5105.471117995641, 1619.4950655914975, 979.4255470953685, 3819.138434389153, 1278.1995165301867, 629.6110601437641, 537.2801796455491, 484.23903440975477, 377.17450058030016, 748.4642650079436, 324.1333810795375, 288.77265459387934, 220.0155570715352, 410.572217173986, 200.37068208688123, 1161.011797095779, 187.601519196997, 247.51871804726173, 920.360919862721, 169.92113662142754, 165.00992203208338, 219.03394896163127, 157.15203767371034, 141.43607920639502, 139.47159120545032, 138.48934580487335, 133.5781323303699, 194.47804310820788, 121.79121099572365, 123.75572805700781, 111.96876951349631, 184.655851641084, 103.12858362968693, 102.14634092385013, 155.18827165487562, 1447.8440331338577, 778.941200894785, 283.86979863402195, 268.1533180582724, 212.16202737809056, 2796.8263469992803, 909.6281867492568, 818.2687512755937, 519.4752325539022, 1563.9464309913483, 488.20991771498103, 11791.090571575554, 299.5940997393839, 5644.091449296151, 655.269856469485, 1317.269688286268, 377.2252473666171, 487.92316707050276, 5936.470671134121, 1232.745200825746, 1643.9002067426936, 5988.464956154204, 916.931987169017, 1333.6924043962013, 762.7317873870567, 1448.9444323837, 4122.349277740141, 3945.671350782534, 4153.310110724725, 914.0021751226624, 1402.9274240915452, 2891.284530309687, 6523.948434091072, 3819.138434389153, 1152.6967355876086, 5105.471117995641, 420.38253837044624, 341.80506456850907, 339.8406293698989, 316.26738539625626, 241.61877679732473, 236.7076923041632, 220.99189761799875, 214.11666404637626, 204.29448536290909, 208.22283132010813, 241.6146136548874, 189.5612071475245, 428.24012392297857, 183.6661131117387, 133.5728484001086, 142.4118632103689, 114.91260816129854, 113.93038978959177, 211.1506771016164, 104.1081740853136, 131.60741486290596, 109.01856573946786, 89.3749251896978, 88.39270568935058, 86.42827038510397, 81.51717847184794, 81.51717668637455, 95.2674414789582, 75.62386693903608, 83.48162075308305, 2951.860338930499, 735.5927112572851, 477.36381737106666, 1073.4655474679082, 905.076512186102, 121.79002622560931, 497.9682699528137, 227.75770484688653, 672.8167459249034, 161.99936499093764, 389.6235325956804, 135.5150560948636, 411.1198573101224, 949.869081908195, 1079.26658188174, 1278.1995165301867, 1468.2065227242895, 492.43292629482227, 919.6771169163313, 4362.697230306164, 1083.4199701524612, 427.2685941031684, 641.355556431345, 4122.349277740141, 2954.6540011461875, 5105.471117995641, 2873.4736701588513, 3819.138434389153, 940.621061304595, 1441.8332278229714, 6523.948434091072, 4153.310110724725, 2266.4818451566434, 4178.9048213934175, 1349.3191920230586, 4556.46454822733, 1352.807085536075, 1346.7163194833029, 896.2161326514256, 706.4327341740715, 698.7647183441375, 616.3335494715409, 500.3548133326972, 477.35076392121897, 441.88619234628766, 343.160481918986, 1446.4339077022205, 286.60900802952904, 237.72526650588566, 234.84976862287488, 229.09874952625924, 227.18180941106152, 215.67971700331918, 204.17771268933342, 201.30218879414238, 302.91153290046356, 188.84166059377603, 230.06091422023792, 175.42271688687367, 167.7546375750286, 166.79612339345073, 165.83761307961808, 162.0036047428759, 160.08660293754374, 160.08663206240468, 157.211094927627, 158.16973656535546, 550.3749116841888, 244.44830231093806, 232.9498646098424, 181.1773065011342, 486.3837930758441, 312.9417896515045, 417.54256210231347, 1266.209250874588, 455.24290305501444, 717.8865834639331, 1127.421397673226, 774.7594001469657, 525.5023445975834, 1771.037713440053, 1388.7740449273792, 611.7933328068941, 4556.46454822733, 2353.2053918813845, 1187.1088491139399, 1561.4256829804642, 2893.368540234985, 3644.395787396197, 5105.471117995641, 2183.374119194483, 2734.5690326049166, 455.5612050938346, 443.7537825248446, 423.0907845041288, 411.2833558856333, 322.7276475524519, 295.17698684077556, 222.36452009123013, 214.4928992837897, 213.50895232789068, 202.68536935455478, 187.9261971196381, 179.07062725013117, 142.66439216669502, 136.76067480992714, 132.82487085716286, 131.84091907888802, 116.09768245193541, 114.12970538741627, 104.29017211276508, 88.5458875421574, 77.72351083811365, 162.34168511957665, 72.80378420619203, 71.8198310271536, 67.88402305552201, 66.90006784770397, 67.8839941260401, 64.93191315219786, 55.09264232410823, 55.092628753400895, 105.27199854232369, 217.42295114077376, 157.41039981428463, 182.98801630245364, 383.65997361153944, 183.9691794822723, 3945.671350782534, 2873.4736701588513, 440.6633244510019, 1152.507715012323, 561.6200921477011, 5988.464956154204, 422.58984962372244, 444.31515269773035, 352.1018977346477, 835.883598122028, 823.1007670345572, 347.0628793578975, 551.505753957939, 5936.470671134121, 1402.9274240915452, 1083.4199701524612, 663.1018405255095, 11791.090571575554, 5644.091449296151, 729.7951283449324, 2241.6989649773554, 2240.8993378773307, 2954.6540011461875, 1842.2126104660765, 3819.138434389153, 4153.310110724725, 5105.471117995641, 6523.948434091072, 2582.251795397105, 3644.395787396197], \"Category\": [\"Default\", \"Default\", \"Default\", \"Default\", \"Default\", \"Default\", \"Default\", \"Default\", \"Default\", \"Default\", \"Default\", \"Default\", \"Default\", \"Default\", \"Default\", \"Default\", \"Default\", \"Default\", \"Default\", \"Default\", \"Default\", \"Default\", \"Default\", \"Default\", \"Default\", \"Default\", \"Default\", \"Default\", \"Default\", \"Default\", \"Topic1\", \"Topic1\", \"Topic1\", \"Topic1\", \"Topic1\", \"Topic1\", \"Topic1\", \"Topic1\", \"Topic1\", \"Topic1\", \"Topic1\", \"Topic1\", \"Topic1\", \"Topic1\", \"Topic1\", \"Topic1\", \"Topic1\", \"Topic1\", \"Topic1\", \"Topic1\", \"Topic1\", \"Topic1\", \"Topic1\", \"Topic1\", \"Topic1\", \"Topic1\", \"Topic1\", \"Topic1\", \"Topic1\", \"Topic1\", \"Topic1\", \"Topic1\", \"Topic1\", \"Topic1\", \"Topic1\", \"Topic1\", \"Topic1\", \"Topic1\", \"Topic1\", \"Topic1\", \"Topic1\", \"Topic1\", \"Topic1\", \"Topic1\", \"Topic1\", \"Topic1\", \"Topic1\", \"Topic1\", \"Topic1\", \"Topic1\", \"Topic1\", \"Topic1\", \"Topic1\", \"Topic1\", \"Topic1\", \"Topic1\", \"Topic1\", \"Topic1\", \"Topic1\", \"Topic1\", \"Topic1\", \"Topic1\", \"Topic1\", \"Topic1\", \"Topic1\", \"Topic1\", \"Topic1\", \"Topic1\", \"Topic1\", \"Topic1\", \"Topic2\", \"Topic2\", \"Topic2\", \"Topic2\", \"Topic2\", \"Topic2\", \"Topic2\", \"Topic2\", \"Topic2\", \"Topic2\", \"Topic2\", \"Topic2\", \"Topic2\", \"Topic2\", \"Topic2\", \"Topic2\", \"Topic2\", \"Topic2\", \"Topic2\", \"Topic2\", \"Topic2\", \"Topic2\", \"Topic2\", \"Topic2\", \"Topic2\", \"Topic2\", \"Topic2\", \"Topic2\", \"Topic2\", \"Topic2\", \"Topic2\", \"Topic2\", \"Topic2\", \"Topic2\", \"Topic2\", \"Topic2\", \"Topic2\", \"Topic2\", \"Topic2\", \"Topic2\", \"Topic2\", \"Topic2\", \"Topic2\", \"Topic2\", \"Topic2\", \"Topic2\", \"Topic2\", \"Topic2\", \"Topic2\", \"Topic2\", \"Topic2\", \"Topic2\", \"Topic2\", \"Topic2\", \"Topic2\", \"Topic2\", \"Topic2\", \"Topic2\", \"Topic2\", \"Topic2\", \"Topic2\", \"Topic2\", \"Topic2\", \"Topic2\", \"Topic2\", \"Topic2\", \"Topic2\", \"Topic2\", \"Topic2\", \"Topic2\", \"Topic2\", \"Topic2\", \"Topic2\", \"Topic2\", \"Topic3\", \"Topic3\", \"Topic3\", \"Topic3\", \"Topic3\", \"Topic3\", \"Topic3\", \"Topic3\", \"Topic3\", \"Topic3\", \"Topic3\", \"Topic3\", \"Topic3\", \"Topic3\", \"Topic3\", \"Topic3\", \"Topic3\", \"Topic3\", \"Topic3\", \"Topic3\", \"Topic3\", \"Topic3\", \"Topic3\", \"Topic3\", \"Topic3\", \"Topic3\", \"Topic3\", \"Topic3\", \"Topic3\", \"Topic3\", \"Topic3\", \"Topic3\", \"Topic3\", \"Topic3\", \"Topic3\", \"Topic3\", \"Topic3\", \"Topic3\", \"Topic3\", \"Topic3\", \"Topic3\", \"Topic3\", \"Topic3\", \"Topic3\", \"Topic3\", \"Topic3\", \"Topic3\", \"Topic3\", \"Topic3\", \"Topic3\", \"Topic3\", \"Topic3\", \"Topic3\", \"Topic3\", \"Topic3\", \"Topic3\", \"Topic3\", \"Topic3\", \"Topic3\", \"Topic3\", \"Topic3\", \"Topic3\", \"Topic3\", \"Topic3\", \"Topic3\", \"Topic3\", \"Topic3\", \"Topic4\", \"Topic4\", \"Topic4\", \"Topic4\", \"Topic4\", \"Topic4\", \"Topic4\", \"Topic4\", \"Topic4\", \"Topic4\", \"Topic4\", \"Topic4\", \"Topic4\", \"Topic4\", \"Topic4\", \"Topic4\", \"Topic4\", \"Topic4\", \"Topic4\", \"Topic4\", \"Topic4\", \"Topic4\", \"Topic4\", \"Topic4\", \"Topic4\", \"Topic4\", \"Topic4\", \"Topic4\", \"Topic4\", \"Topic4\", \"Topic4\", \"Topic4\", \"Topic4\", \"Topic4\", \"Topic4\", \"Topic4\", \"Topic4\", \"Topic4\", \"Topic4\", \"Topic4\", \"Topic4\", \"Topic4\", \"Topic4\", \"Topic4\", \"Topic4\", \"Topic4\", \"Topic4\", \"Topic4\", \"Topic4\", \"Topic4\", \"Topic4\", \"Topic4\", \"Topic4\", \"Topic4\", \"Topic4\", \"Topic4\", \"Topic4\", \"Topic4\", \"Topic4\", \"Topic4\", \"Topic4\", \"Topic4\", \"Topic4\", \"Topic4\", \"Topic4\", \"Topic4\", \"Topic5\", \"Topic5\", \"Topic5\", \"Topic5\", \"Topic5\", \"Topic5\", \"Topic5\", \"Topic5\", \"Topic5\", \"Topic5\", \"Topic5\", \"Topic5\", \"Topic5\", \"Topic5\", \"Topic5\", \"Topic5\", \"Topic5\", \"Topic5\", \"Topic5\", \"Topic5\", \"Topic5\", \"Topic5\", \"Topic5\", \"Topic5\", \"Topic5\", \"Topic5\", \"Topic5\", \"Topic5\", \"Topic5\", \"Topic5\", \"Topic5\", \"Topic5\", \"Topic5\", \"Topic5\", \"Topic5\", \"Topic5\", \"Topic5\", \"Topic5\", \"Topic5\", \"Topic5\", \"Topic5\", \"Topic5\", \"Topic5\", \"Topic5\", \"Topic5\", \"Topic5\", \"Topic5\", \"Topic5\", \"Topic5\", \"Topic5\", \"Topic5\", \"Topic5\", \"Topic5\", \"Topic5\", \"Topic5\", \"Topic5\", \"Topic5\", \"Topic5\", \"Topic5\", \"Topic5\", \"Topic5\", \"Topic5\", \"Topic5\", \"Topic5\", \"Topic5\", \"Topic5\", \"Topic5\", \"Topic6\", \"Topic6\", \"Topic6\", \"Topic6\", \"Topic6\", \"Topic6\", \"Topic6\", \"Topic6\", \"Topic6\", \"Topic6\", \"Topic6\", \"Topic6\", \"Topic6\", \"Topic6\", \"Topic6\", \"Topic6\", \"Topic6\", \"Topic6\", \"Topic6\", \"Topic6\", \"Topic6\", \"Topic6\", \"Topic6\", \"Topic6\", \"Topic6\", \"Topic6\", \"Topic6\", \"Topic6\", \"Topic6\", \"Topic6\", \"Topic6\", \"Topic6\", \"Topic6\", \"Topic6\", \"Topic6\", \"Topic6\", \"Topic6\", \"Topic6\", \"Topic6\", \"Topic6\", \"Topic6\", \"Topic6\", \"Topic6\", \"Topic6\", \"Topic6\", \"Topic6\", \"Topic6\", \"Topic6\", \"Topic6\", \"Topic6\", \"Topic6\", \"Topic6\", \"Topic6\", \"Topic6\", \"Topic6\", \"Topic7\", \"Topic7\", \"Topic7\", \"Topic7\", \"Topic7\", \"Topic7\", \"Topic7\", \"Topic7\", \"Topic7\", \"Topic7\", \"Topic7\", \"Topic7\", \"Topic7\", \"Topic7\", \"Topic7\", \"Topic7\", \"Topic7\", \"Topic7\", \"Topic7\", \"Topic7\", \"Topic7\", \"Topic7\", \"Topic7\", \"Topic7\", \"Topic7\", \"Topic7\", \"Topic7\", \"Topic7\", \"Topic7\", \"Topic7\", \"Topic7\", \"Topic7\", \"Topic7\", \"Topic7\", \"Topic7\", \"Topic7\", \"Topic7\", \"Topic7\", \"Topic7\", \"Topic7\", \"Topic7\", \"Topic7\", \"Topic7\", \"Topic7\", \"Topic7\", \"Topic7\", \"Topic7\", \"Topic7\", \"Topic7\", \"Topic7\", \"Topic7\", \"Topic7\", \"Topic7\", \"Topic7\", \"Topic7\", \"Topic7\", \"Topic7\", \"Topic7\", \"Topic7\", \"Topic7\", \"Topic7\", \"Topic7\", \"Topic7\", \"Topic7\", \"Topic7\", \"Topic7\"], \"logprob\": [30.0, 29.0, 28.0, 27.0, 26.0, 25.0, 24.0, 23.0, 22.0, 21.0, 20.0, 19.0, 18.0, 17.0, 16.0, 15.0, 14.0, 13.0, 12.0, 11.0, 10.0, 9.0, 8.0, 7.0, 6.0, 5.0, 4.0, 3.0, 2.0, 1.0, -5.2521, -5.9602, -5.975, -6.3056, -6.5139, -6.5901, -6.7271, -5.7443, -6.8185, -6.8941, -6.9624, -6.9624, -6.9939, -7.0311, -7.0358, -7.055, -4.7881, -6.8432, -7.1735, -7.1573, -7.1845, -7.2768, -7.3075, -7.2651, -7.3991, -7.4059, -7.4129, -7.4409, -7.4626, -5.8402, -6.2512, -5.7531, -6.8619, -6.3953, -4.9873, -5.9769, -6.3015, -6.5515, -5.7437, -6.0352, -6.4744, -5.1554, -5.5752, -5.4509, -6.4297, -6.0614, -5.5166, -5.3846, -4.2905, -5.8474, -5.2434, -6.0167, -4.9173, -5.8286, -5.6332, -5.9553, -6.1187, -5.6184, -5.3525, -5.2346, -5.2959, -5.8246, -5.5492, -5.5159, -5.735, -5.7467, -5.6808, -5.7849, -5.8076, -5.835, -5.9267, -6.2236, -6.2362, -6.3022, -6.9189, -6.9392, -6.9757, -7.0248, -7.0304, -7.0531, -7.1369, -7.1064, -7.2491, -7.4243, -7.5295, -7.5295, -7.5672, -7.5866, -7.6368, -7.0017, -7.3403, -7.7804, -7.8417, -7.8417, -7.8673, -7.907, -7.9343, -7.9484, -7.9768, -7.9913, -6.8765, -6.0435, -6.4549, -5.9997, -6.0945, -7.4225, -7.3488, -5.6932, -7.0864, -4.5252, -5.347, -4.6502, -6.8233, -5.7427, -5.9474, -5.8757, -4.9429, -4.9887, -5.4254, -6.1756, -5.3143, -6.1027, -6.482, -5.4729, -6.5249, -6.3929, -6.4787, -6.6989, -5.3425, -5.7399, -5.1256, -5.9725, -5.7956, -5.6901, -5.5646, -5.8509, -5.5345, -5.4409, -5.5421, -5.809, -5.9752, -5.8787, -5.9616, -6.0083, -4.7575, -5.6362, -5.7584, -6.1886, -6.2391, -6.3396, -6.4684, -6.0561, -6.5619, -6.5619, -6.5771, -6.3586, -5.9514, -6.7166, -6.7616, -6.7663, -6.8233, -6.1163, -6.9709, -7.0055, -6.4171, -7.0293, -7.0661, -7.0978, -7.1043, -7.0479, -6.5024, -7.1783, -7.1853, -7.1995, -4.8805, -6.5804, -6.7199, -4.9583, -5.2454, -6.3299, -6.6013, -6.593, -6.1967, -5.7445, -5.816, -5.9213, -5.6524, -6.4509, -4.2007, -5.4735, -6.361, -5.4815, -5.7665, -5.1177, -4.6035, -4.6275, -5.3711, -5.9375, -5.0125, -6.051, -5.9744, -5.4272, -5.6375, -5.8374, -5.6042, -6.0101, -5.634, -5.9127, -5.992, -5.8827, -5.9704, -5.5858, -5.7446, -5.8487, -6.099, -5.414, -6.251, -6.3669, -6.6397, -6.0161, -6.7335, -4.9767, -6.7997, -6.5226, -5.2094, -6.8991, -6.9286, -6.6458, -6.9779, -7.0836, -7.0977, -7.1048, -7.1411, -6.766, -7.2341, -7.2181, -7.3188, -6.8189, -7.4017, -7.4113, -6.9932, -4.762, -5.399, -6.4013, -6.4587, -6.6883, -4.1765, -5.2682, -5.3717, -5.8178, -4.7604, -5.8913, -2.8827, -6.3629, -3.6396, -5.6579, -5.0538, -6.1798, -5.9562, -3.7922, -5.162, -5.0273, -4.1274, -5.5505, -5.3057, -5.7609, -5.39, -4.8447, -5.0149, -5.007, -5.6949, -5.5236, -5.2646, -5.2003, -5.404, -5.6581, -5.6788, -5.7505, -5.9579, -5.9637, -6.0358, -6.3058, -6.3264, -6.3954, -6.4271, -6.4742, -6.4552, -6.3066, -6.5494, -5.7349, -6.5819, -6.9021, -6.8382, -7.0528, -7.0615, -6.4448, -7.1523, -6.918, -7.1064, -7.3063, -7.3174, -7.3401, -7.3992, -7.3992, -7.244, -7.475, -7.3765, -3.8186, -5.2024, -5.6383, -4.8529, -5.0292, -7.0032, -5.6365, -6.405, -5.4044, -6.7376, -5.9444, -6.9061, -5.9228, -5.2261, -5.2198, -5.092, -5.1049, -5.919, -5.4903, -4.7444, -5.5979, -6.0858, -5.8815, -4.9953, -5.1704, -4.9715, -5.2378, -5.1152, -5.734, -5.5661, -5.0352, -5.2355, -5.4534, -5.3643, -5.6542, -5.4035, -5.8061, -4.578, -4.9854, -5.2236, -5.2345, -5.3602, -5.569, -5.6161, -5.6935, -5.9469, -4.5085, -6.1275, -6.3151, -6.3273, -6.3521, -6.3606, -6.4127, -6.4678, -6.482, -6.0736, -6.5462, -6.3489, -6.6203, -6.6651, -6.6709, -6.6767, -6.7002, -6.7122, -6.7122, -6.7304, -6.7243, -5.4871, -6.2917, -6.3398, -6.589, -5.6479, -6.0971, -5.8374, -4.8493, -5.7899, -5.4508, -5.0847, -5.3941, -5.8546, -5.141, -5.3598, -5.8331, -4.9902, -5.3726, -5.7806, -5.6923, -5.5643, -5.7104, -5.717, -5.956, -5.9553, -5.6099, -5.6362, -5.6839, -5.7123, -5.9553, -6.0448, -6.329, -6.3652, -6.3698, -6.4223, -6.498, -6.5464, -6.7749, -6.8174, -6.8468, -6.8543, -6.9823, -6.9998, -7.0909, -7.2569, -7.3873, -6.6513, -7.4533, -7.4671, -7.5241, -7.5389, -7.5243, -7.5714, -7.7358, -7.7358, -7.0932, -6.4112, -6.7257, -6.5845, -5.8976, -6.5882, -3.7809, -4.1152, -5.8393, -4.9869, -5.6399, -3.6345, -5.9005, -5.8654, -6.0596, -5.3888, -5.404, -6.0917, -5.7322, -4.058, -5.1322, -5.3664, -5.7061, -3.9443, -4.6206, -5.7775, -5.3557, -5.3571, -5.2808, -5.6711, -5.5346, -5.5272, -5.6256, -5.6344, -5.7874, -5.8074], \"loglift\": [30.0, 29.0, 28.0, 27.0, 26.0, 25.0, 24.0, 23.0, 22.0, 21.0, 20.0, 19.0, 18.0, 17.0, 16.0, 15.0, 14.0, 13.0, 12.0, 11.0, 10.0, 9.0, 8.0, 7.0, 6.0, 5.0, 4.0, 3.0, 2.0, 1.0, 1.6144, 1.614, 1.6139, 1.6135, 1.613, 1.6128, 1.6124, 1.6123, 1.6121, 1.6119, 1.6116, 1.6116, 1.6115, 1.6114, 1.6113, 1.6113, 1.611, 1.6106, 1.6106, 1.6106, 1.6105, 1.6102, 1.6101, 1.6099, 1.6095, 1.6095, 1.6094, 1.6093, 1.6092, 1.6091, 1.6036, 1.597, 1.6076, 1.6022, 1.5691, 1.589, 1.5691, 1.575, 1.5077, 1.5126, 1.539, 1.3868, 1.4198, 1.3534, 1.5045, 1.4325, 1.2843, 1.2252, 0.895, 1.2734, 0.9994, 1.2807, 0.7273, 1.1788, 1.0573, 1.1975, 1.3001, 0.8665, 0.3685, 0.1961, 0.2486, 0.9368, 0.5059, 0.2519, 0.7115, 0.58, -0.0498, 0.369, 0.4132, 0.6277, 1.7795, 1.7789, 1.7789, 1.7783, 1.7768, 1.7767, 1.7765, 1.7763, 1.7763, 1.7762, 1.7757, 1.7757, 1.7751, 1.774, 1.7732, 1.7732, 1.7729, 1.7727, 1.7723, 1.772, 1.771, 1.7709, 1.7703, 1.7703, 1.77, 1.7696, 1.7693, 1.769, 1.7688, 1.7686, 1.7608, 1.7457, 1.7397, 1.701, 1.7023, 1.7516, 1.7397, 1.6328, 1.7211, 1.5112, 1.5331, 1.4548, 1.6752, 1.5181, 1.5188, 1.4955, 1.3112, 1.2651, 1.2694, 1.4497, 1.1484, 1.4104, 1.5239, 1.012, 1.5272, 1.4446, 1.4829, 1.6053, 0.7125, 0.9756, 0.4189, 1.0455, 0.8848, 0.776, 0.434, 0.728, 0.2334, -0.0102, -0.3566, 0.3449, 0.7574, 0.2337, 0.6481, 0.4014, 1.8517, 1.8509, 1.8508, 1.85, 1.8499, 1.8496, 1.8492, 1.8492, 1.849, 1.849, 1.8489, 1.8489, 1.8486, 1.8484, 1.8482, 1.8482, 1.848, 1.8474, 1.8473, 1.8472, 1.8472, 1.8471, 1.8469, 1.8467, 1.8466, 1.8466, 1.8465, 1.8462, 1.8462, 1.8461, 1.8351, 1.8456, 1.8451, 1.8256, 1.8212, 1.8385, 1.8284, 1.8176, 1.7834, 1.7401, 1.7111, 1.7193, 1.6766, 1.7969, 1.3872, 1.5377, 1.7566, 1.4576, 1.5507, 1.292, 1.0336, 1.0035, 1.2641, 1.5282, 0.9652, 1.5767, 1.4011, 0.7445, 0.9779, 1.0521, 0.3951, 1.2498, -0.2033, 0.6662, 1.0898, -0.1617, 0.8452, 1.9379, 1.9377, 1.9375, 1.937, 1.9368, 1.9366, 1.9362, 1.9354, 1.9352, 1.9351, 1.935, 1.9348, 1.9347, 1.9346, 1.9343, 1.9342, 1.9337, 1.9337, 1.9333, 1.9332, 1.9332, 1.933, 1.9325, 1.9324, 1.9323, 1.9317, 1.9314, 1.9311, 1.931, 1.9309, 1.929, 1.9119, 1.919, 1.9185, 1.9232, 1.856, 1.8876, 1.8899, 1.8981, 1.8534, 1.8867, 1.711, 1.9035, 1.6908, 1.8258, 1.7316, 1.8561, 1.8224, 1.4877, 1.6898, 1.5367, 1.1438, 1.5972, 1.4673, 1.571, 1.3002, 0.7999, 0.6735, 0.6301, 1.4561, 1.1988, 0.7347, -0.0148, 0.3169, 1.2608, -0.2481, 2.1771, 2.1766, 2.1766, 2.1764, 2.1756, 2.1755, 2.1752, 2.1752, 2.175, 2.175, 2.1749, 2.1747, 2.1742, 2.1737, 2.172, 2.1718, 2.1718, 2.1717, 2.1714, 2.171, 2.1709, 2.1708, 2.1697, 2.1696, 2.1694, 2.1688, 2.1688, 2.168, 2.168, 2.1676, 2.16, 2.1657, 2.1622, 2.1372, 2.1316, 2.1633, 2.1217, 2.1355, 2.0529, 2.1436, 2.0592, 2.1535, 2.0271, 1.8864, 1.7649, 1.7236, 1.5721, 1.8504, 1.6545, 0.8435, 1.383, 1.8256, 1.6237, 0.6493, 0.8073, 0.4592, 0.7677, 0.6057, 1.3883, 1.129, 0.1503, 0.4016, 0.7894, 0.2666, 1.1073, 0.1409, 0.9527, 2.1853, 2.1852, 2.185, 2.1849, 2.1848, 2.1845, 2.1844, 2.1842, 2.1837, 2.1834, 2.1832, 2.1826, 2.1826, 2.1825, 2.1824, 2.1822, 2.182, 2.182, 2.1818, 2.1817, 2.1815, 2.1813, 2.1811, 2.1811, 2.1811, 2.181, 2.1809, 2.1809, 2.1808, 2.1808, 2.1711, 2.1781, 2.1782, 2.1803, 2.1339, 2.1257, 2.0969, 1.9757, 2.058, 1.9417, 1.8564, 1.9221, 1.8499, 1.3484, 1.3728, 1.7193, 0.5542, 0.8326, 1.1089, 0.9231, 0.4343, 0.0574, -0.2863, 0.3241, 0.0998, 2.2374, 2.2373, 2.2372, 2.2372, 2.2366, 2.2364, 2.2355, 2.2353, 2.2353, 2.2348, 2.2348, 2.2345, 2.2334, 2.2331, 2.2329, 2.2329, 2.232, 2.2316, 2.2307, 2.2283, 2.2283, 2.2278, 2.2277, 2.2275, 2.2268, 2.2267, 2.2266, 2.2241, 2.2239, 2.2239, 2.219, 2.1757, 2.1842, 2.1748, 2.1214, 2.1658, 1.9075, 1.8903, 2.0412, 1.9322, 1.998, 1.6367, 2.0219, 2.0068, 2.0452, 1.8515, 1.8517, 2.0276, 1.9239, 1.222, 1.5903, 1.6145, 1.7657, 0.6494, 0.7098, 1.5985, 0.8981, 0.8971, 0.6968, 0.779, 0.1864, 0.1099, -0.1949, -0.4488, 0.3249, -0.0396]}, \"token.table\": {\"Topic\": [7, 7, 1, 6, 5, 1, 5, 7, 1, 2, 1, 2, 4, 5, 7, 3, 4, 5, 6, 7, 3, 3, 6, 5, 4, 5, 7, 1, 4, 7, 1, 2, 3, 4, 5, 6, 7, 4, 5, 7, 4, 4, 5, 7, 1, 2, 1, 6, 1, 6, 3, 4, 5, 7, 2, 1, 2, 3, 4, 5, 6, 7, 2, 3, 5, 6, 7, 4, 3, 5, 5, 1, 2, 3, 4, 5, 6, 7, 7, 7, 2, 4, 6, 6, 4, 7, 2, 3, 4, 5, 7, 1, 5, 6, 2, 1, 2, 4, 5, 7, 6, 1, 2, 3, 4, 5, 7, 3, 1, 2, 5, 6, 7, 1, 5, 6, 6, 1, 1, 2, 6, 4, 1, 2, 3, 4, 5, 6, 7, 4, 3, 5, 7, 1, 2, 4, 5, 6, 1, 1, 5, 5, 5, 2, 1, 2, 6, 2, 6, 3, 3, 1, 2, 3, 4, 5, 6, 7, 1, 2, 3, 4, 5, 6, 7, 6, 1, 2, 7, 1, 3, 4, 4, 6, 6, 3, 5, 6, 1, 4, 7, 1, 6, 1, 1, 1, 1, 4, 5, 7, 3, 5, 7, 5, 7, 5, 7, 3, 6, 3, 6, 1, 1, 2, 3, 4, 5, 6, 7, 1, 3, 4, 5, 7, 1, 2, 6, 2, 1, 2, 3, 4, 6, 7, 5, 6, 1, 5, 2, 3, 6, 1, 2, 4, 3, 7, 3, 2, 6, 7, 1, 3, 1, 2, 4, 5, 6, 7, 1, 2, 3, 4, 5, 6, 7, 2, 2, 6, 1, 2, 3, 4, 6, 7, 2, 2, 4, 1, 2, 3, 4, 5, 6, 7, 6, 4, 7, 7, 6, 1, 4, 5, 7, 2, 1, 1, 2, 7, 1, 5, 1, 2, 3, 4, 5, 6, 7, 3, 4, 7, 3, 7, 4, 7, 4, 1, 2, 3, 4, 5, 6, 7, 1, 2, 3, 5, 6, 7, 2, 3, 6, 7, 7, 1, 2, 3, 2, 3, 4, 5, 6, 7, 2, 2, 4, 5, 7, 1, 2, 3, 4, 5, 6, 7, 1, 2, 6, 1, 2, 3, 4, 5, 6, 7, 7, 1, 2, 3, 3, 6, 1, 6, 1, 2, 3, 4, 5, 6, 7, 1, 2, 3, 4, 5, 6, 7, 2, 5, 1, 5, 5, 1, 2, 5, 5, 1, 4, 7, 5, 3, 4, 5, 7, 2, 3, 4, 5, 2, 6, 2, 5, 6, 7, 7, 3, 5, 2, 7, 3, 5, 3, 1, 2, 3, 4, 5, 6, 7, 4, 1, 2, 4, 5, 7, 3, 1, 3, 6, 4, 7, 7, 1, 2, 3, 4, 5, 6, 7, 2, 1, 2, 3, 5, 4, 7, 1, 7, 4, 1, 2, 3, 4, 7, 4, 7, 4, 5, 7, 4, 7, 1, 2, 3, 4, 5, 6, 7, 1, 2, 3, 4, 5, 6, 7, 1, 2, 3, 4, 5, 6, 7, 7, 6, 1, 2, 3, 4, 5, 6, 7, 3, 6, 5, 4, 5, 2, 6, 1, 2, 3, 4, 5, 6, 7, 1, 4, 7, 6, 1, 2, 6, 7, 4, 7, 1, 4, 7, 4, 3, 6, 4, 7, 7, 1, 2, 3, 4, 5, 6, 7, 6, 5, 3, 4, 7, 4, 7, 1, 2, 3, 4, 5, 6, 7, 1, 2, 3, 4, 7, 4, 1, 2, 3, 4, 5, 7, 1, 2, 3, 4, 5, 6, 7, 1, 2, 3, 4, 5, 6, 7, 4, 7, 3, 5, 4, 7, 4, 7, 7, 5, 3, 4, 5, 7, 1, 2, 3, 5, 6, 7, 4, 5, 7, 2, 1, 2, 3, 7, 2, 3, 4, 5, 7, 4, 7, 1, 7, 7, 5, 4, 7, 2, 4, 5, 7, 2, 5, 1, 2, 3, 4, 5, 6, 7, 4, 1, 5, 6, 4, 2, 4, 1, 2, 3, 5, 6, 7, 3, 5, 7, 3, 1, 1, 2, 3, 4, 5, 6, 7, 6, 4, 7, 2, 3, 6, 2, 3, 6, 1, 2, 3, 4, 5, 6, 7, 2, 3, 4, 5, 6, 7, 2, 6, 7, 2, 3, 5, 3, 4, 5, 1, 2, 4, 5, 6, 2, 3, 2, 3, 4, 5, 6, 7, 4, 5, 7, 3, 4, 7, 3, 5, 1, 1, 2, 4, 7, 1, 2, 3, 4, 5, 6, 7, 7, 3, 3, 5, 1, 2, 5, 4, 2, 5, 2, 3, 7, 1, 2, 3, 4, 5, 6, 7, 5, 4, 7, 1, 4, 5, 7, 1, 4, 5, 7, 3, 1, 2, 3, 4, 5, 6, 7, 5, 4, 5, 6, 2, 4, 5, 7, 7, 1, 3, 4, 5, 6, 1, 2, 3, 4, 5, 6, 7, 4, 7, 7, 4, 5, 7, 2, 3, 4, 5, 6, 7, 2, 4, 4, 7, 1, 2, 1, 2, 6, 7, 1, 2, 3, 6, 7, 6, 1, 2, 3, 4, 5, 6, 7, 1, 2, 3, 4, 5, 7, 3, 6, 1, 2, 3, 4, 5, 6, 7, 1, 2, 3, 4, 5, 6, 7, 1, 2, 3, 4, 5, 6, 7, 1, 2, 3, 4, 5, 6, 7, 2, 3, 2, 3, 4, 5, 6, 7, 1, 2, 4, 7, 4, 1, 2, 3, 4, 5, 6, 7, 1, 1, 2, 3, 1, 2, 5, 6, 3, 4, 6, 5, 2, 2, 5, 7, 1, 4, 7, 7, 3, 5, 7, 5, 4, 6, 5, 1, 2, 4, 5, 6, 1, 6, 3, 2, 3, 4, 5, 7, 6, 3, 4, 5, 7, 2, 2, 6, 3, 4, 7, 2, 2, 3, 5, 3, 4, 5, 6, 7, 3, 5, 7, 3, 5, 7, 4, 5, 7, 4, 7, 4, 7, 7, 1, 3, 4, 5, 7, 1, 1, 2, 4, 5, 6, 4, 1, 3, 5, 6, 3, 4, 5, 6, 7, 3, 4, 5, 6, 7, 1, 5, 1, 1, 2, 3, 3, 4, 6, 7, 7, 3, 4, 7, 5, 2, 3, 4, 7, 6, 7, 4, 7, 1, 2, 3, 5, 6, 2, 1, 2, 4, 5, 7, 6, 2, 2, 1, 2, 3, 4, 5, 6, 7, 6, 4, 5, 7, 4, 2, 1, 2, 4, 5, 7, 1, 2, 1, 5, 4, 7, 6, 6, 4, 1, 7, 2, 3, 1, 2, 3, 4, 5, 6, 7, 1, 2, 3, 4, 5, 6, 7, 5, 1, 2, 4, 5, 6, 7], \"Freq\": [0.9938349757700774, 0.9801674238800332, 0.0020740664222714104, 0.9969345936384579, 0.9990900231681147, 0.9962526309548505, 0.9941272947238518, 0.9944379127188109, 0.7957668332877703, 0.20414960644555366, 0.0707154906727852, 0.1776953355367423, 0.009066088547792974, 0.010879306257351569, 0.7289135192425551, 0.19770056519669849, 0.6685320650805281, 0.020074211235357076, 0.003649856588246741, 0.11010400707877668, 0.9981172820714269, 0.9959290852724639, 0.9978751259992976, 0.9955116109292237, 0.9731158130155018, 0.005135175794277054, 0.02182449712567748, 0.9979108584734064, 0.06011322611322555, 0.939952262861345, 0.11396487797931532, 0.7692629263603784, 0.010496765077042199, 0.0014995378681488857, 0.022493068022233286, 0.016494916549637743, 0.06448012833040208, 0.13615837005439624, 0.043116817183892146, 0.8192195264939508, 0.9976172959769452, 0.012922043515618315, 0.45134851993838254, 0.5353418027899016, 0.24682543264127915, 0.7513857093112973, 0.0040908445284598485, 0.9899843758872834, 0.1887523723546637, 0.8102926110288073, 0.014200434681462915, 0.15904486843238466, 0.002840086936292583, 0.8236252115248491, 0.9957002366478074, 0.02297076229161386, 0.7634189280353544, 0.05850366021145405, 0.018304826201129793, 0.02799561654290439, 0.06639985974919631, 0.04271126113596952, 0.7693026145967393, 0.14775494661302455, 0.003663345783793997, 0.0781513767209386, 0.002442230522529331, 0.9938642295045672, 0.3653576722261036, 0.6344862359215632, 0.9917503962136847, 0.19740089259600174, 0.21709518118446594, 0.10625755703543481, 0.08747928186968987, 0.17679059058481827, 0.15526427515091554, 0.0599988791881119, 0.9856478408388569, 0.9901015657266313, 0.9245726132778271, 0.002087071361800964, 0.07304749766303374, 0.9955430354132155, 0.10947193579939493, 0.8888078597046113, 0.47893871052865256, 0.1743336906324295, 0.32663620058054105, 0.0009578774210573051, 0.018199671000088798, 0.981417320666143, 0.0040057849823107875, 0.012017354946932362, 0.9879357431307384, 0.9956353243921943, 0.7173427968948088, 0.05098760075968004, 0.11252436029722493, 0.11779893968615734, 0.9993874375391488, 0.7697286768961661, 0.04254781631084335, 0.0015471933203943038, 0.11913388567036139, 0.046415799611829116, 0.021660706485520254, 0.9985178410851714, 0.6587546092176643, 0.21921950389938913, 0.04603609581887171, 0.048228290857865605, 0.02740243798742364, 0.030864318513098517, 0.9629667376086737, 0.996848488987452, 0.9935019096824533, 0.997090836413008, 0.47269328765634067, 0.4637003119102034, 0.06351289120709452, 0.9926692794394287, 0.35504331225536984, 0.12090664147074758, 0.013434071274527509, 0.22646005862774943, 0.1060332054168064, 0.03982242556377797, 0.1381790188237115, 0.996503349714359, 0.05046157252312116, 0.24395560233591676, 0.7054179827887351, 0.19487050942990147, 0.689904464836506, 0.06286145465480693, 0.031430727327403464, 0.01885843639644208, 0.9958497619675222, 0.01863231782162407, 0.9810762256622418, 0.9953846455874945, 0.9976446675255518, 0.9861255447630846, 0.925313006930141, 0.002591913184678266, 0.06998165598631319, 0.9969248444582794, 0.9992908765475166, 0.997560999755746, 0.997691515198795, 0.25480281646253156, 0.2561196268835265, 0.0179964090869316, 0.0943714135046413, 0.1303642316785045, 0.19554634751775676, 0.050697201208307306, 0.4865151881664447, 0.1178734025519836, 0.008737040241174337, 0.1416320207516682, 0.13151544784083477, 0.04552457809875049, 0.0680569450365159, 0.9978363185442618, 0.007769622284736441, 0.9867420301615281, 0.9906912228962402, 0.9965110051726809, 0.9983671837779281, 0.9953841578975027, 0.9981500183409042, 0.9969491400028877, 0.9935311741916824, 0.9952105134275191, 0.9970394409490769, 0.9992651862158183, 0.9971035033476268, 0.0013438052605763164, 0.0013438052605763164, 0.9967755647872231, 0.9953885507938898, 0.9976299296616912, 0.9953039211048601, 0.9967206092988512, 0.01290548180920836, 0.8122862079913498, 0.044030467349063816, 0.12981396408086057, 0.10522978354735689, 0.8880367099362313, 0.0051331601730418, 0.9824791551711485, 0.014663867987629082, 0.9853023578277799, 0.008210852981898166, 0.9944500335108699, 0.004499773907289005, 0.9963791523923407, 0.0024662850306741107, 0.9922859760769321, 0.12621082759059501, 0.15808224869933113, 0.1427839665671378, 0.11813673424304853, 0.12961044584219353, 0.2583709871214874, 0.06629255590617113, 0.41141589072960405, 0.050941826092698615, 0.3199631838869975, 0.2166240509560946, 0.0009703204970037832, 0.9956878533331361, 0.0005159004421415213, 0.003611303094990649, 0.991668335345567, 0.0010427578501999747, 0.2518260208232939, 0.5709099229844862, 0.029197219805599292, 0.030761356580899256, 0.11626750029729718, 0.9945504455992692, 0.004735954502853663, 0.9937973226254695, 0.005897906959201599, 0.984547692850507, 0.9974283737923952, 0.9989056139726836, 0.7177894686851056, 0.2806394915159811, 0.0007709876140548932, 0.9746431294456364, 0.01965006309366202, 0.9980242882107264, 0.004292769183080903, 0.9916296812916885, 0.9869778710368929, 0.9938833641912604, 0.9930443844047993, 0.03703870075601919, 0.625195418785336, 0.0008924988133980528, 0.07452365091873742, 0.0013387482200970793, 0.2615021523256295, 0.24261770899985036, 0.40800780921946667, 0.0731270277830535, 0.07722760878023406, 0.06492586578869235, 0.02186976531829637, 0.11139911709007214, 0.9893742288211065, 0.049343749404613835, 0.9498671760388163, 0.04043437131803649, 0.058966791505469886, 0.44898999817736357, 0.06991776707077144, 0.34032262526014045, 0.04043437131803649, 0.9962692220768521, 0.9569608210674476, 0.037974635756644746, 0.009034251432693489, 0.23940766296637747, 0.23263197439185734, 0.002258562858173372, 0.08243754432332809, 0.43251478734020077, 0.001129281429086686, 0.9952040352532203, 0.919874802713717, 0.07687714489538269, 0.9865460846803183, 0.9986430364204361, 0.9951516112803945, 0.11593052710478462, 0.8813692637581702, 0.0014862888090357, 0.9973695167282854, 0.9986147315432001, 0.01616424100423538, 0.7758835682032982, 0.20744109288768736, 0.9943823516376403, 0.9942308169302612, 0.24189736293814332, 0.16668393187073682, 0.1280978747866767, 0.11223254167089565, 0.1790236354052332, 0.08441924164076095, 0.08774900291197427, 0.03272533305663621, 0.9605847761918512, 0.005775058774700508, 0.9677954232973592, 0.030846069268441727, 0.9923999486801423, 0.0051419686460111, 0.99389338926874, 0.8219254615131524, 0.08893270938923631, 0.0065529364813121495, 0.01029747161349052, 0.04399828780309586, 0.021531077010025632, 0.005616802698267556, 0.0013594479454408762, 0.0013594479454408762, 0.009516135618086133, 0.9869592083900761, 0.0013594479454408762, 0.9976162483008718, 0.002011213543850343, 0.9694049281358654, 0.002011213543850343, 0.02514016929812929, 0.9885848934002137, 0.16464240918134737, 0.7743338306810243, 0.061740903443005264, 0.16586522163401446, 0.0452359695365494, 0.04080107056237789, 0.001773959589668604, 0.719340613610619, 0.02660939384502906, 0.9948050606780938, 0.0010527766605384153, 0.20844977878660623, 0.7464186523217364, 0.04316384308207503, 0.25573512164162715, 0.21265527818912128, 0.0990562005500294, 0.12512362174740554, 0.08588529299767092, 0.11908695578590792, 0.10234892743811902, 0.6769212618745043, 0.3222221622845712, 0.0006368026922619984, 0.3298508793324431, 0.34338134777512647, 0.006216701716908573, 0.048636548726402364, 0.11592320260353045, 0.12396834600188271, 0.03181488525712034, 0.9936217140720565, 0.9544314964645987, 0.04467294796861499, 0.9982482927335229, 0.9969460826338225, 0.992604548817263, 0.9941429207301627, 0.9975902956334539, 0.1456285861041148, 0.36627795898913723, 0.14397371580747712, 0.1141860504679991, 0.06729805872993183, 0.13404449402765112, 0.028684418475052913, 0.5400440345973323, 0.050298218908575075, 0.029120021473385566, 0.0450036695497777, 0.24928503231004312, 0.049415794015442174, 0.03750305795814808, 0.9970840063591551, 0.9963732389146089, 0.03951567744349366, 0.9571575202979575, 0.9900860561856191, 0.3936164044330934, 0.01304805760551691, 0.5915119447834332, 0.9955572613567152, 0.9944562373081425, 0.9483625448803383, 0.049159181592069376, 0.993663630417583, 0.7297086081678019, 0.0009513801931783597, 0.1912274188288503, 0.0780131758406255, 0.17255012440832743, 0.46660004055979665, 0.006126039919822275, 0.35326830204308457, 0.9009823998914391, 0.09683455699767804, 0.006751964189798663, 0.08777553446738261, 0.11028208176671149, 0.7922304649363764, 0.9950714847965105, 0.297236917837529, 0.7021344515847142, 0.9988851410066253, 0.990545182050556, 0.9950731826036315, 0.9958050293311907, 0.9972290709141097, 0.07374012381207072, 0.05205185210263815, 0.0988985189950125, 0.507505558000722, 0.1761087662805924, 0.0711375312069388, 0.01995320997267796, 0.9973243498593523, 0.018359772729262973, 0.7802903409936763, 0.06092106405619077, 0.03254686983823891, 0.10682049587934819, 0.9950731848836215, 0.002196629520832209, 0.11642136460410706, 0.8786518083328835, 0.9175506088724457, 0.08184423549524254, 0.9983607092935484, 0.1245796292970569, 0.44664628458206196, 0.20952028563595934, 0.10122094880385873, 0.07361523549371544, 0.014156776056483739, 0.030437068521440038, 0.9941772804340481, 0.8955924639416315, 0.02155169030875584, 0.014367793539170559, 0.06704970318279595, 0.009499202198559561, 0.9784178264516348, 0.9987775812184009, 0.9960126063573836, 0.9945790344877473, 0.9030178645024185, 0.037422361952352476, 0.02603294744511477, 0.008135296076598365, 0.02766000666043444, 0.3207383719871035, 0.6791392043211775, 0.6367419649489917, 0.0016845025527751102, 0.3616626980808162, 0.9910327691954085, 0.005415479613089664, 0.405140450486899, 0.1525361909710354, 0.10006806854482819, 0.03515905111034504, 0.06653174287034523, 0.11196805507448344, 0.12873621791172493, 0.06973122115222934, 0.025493134614793522, 0.07048101922913504, 0.6238319999855356, 0.18220093268808313, 0.0022493942307170757, 0.026242932691699215, 0.2874993977995506, 0.03927587401633205, 0.13353797165552897, 0.19742672672209577, 0.2073766148062332, 0.006807818162830889, 0.12830118845335137, 0.9940212012066296, 0.9966182530328187, 0.05001558925430619, 0.34887417195904935, 0.30565082322076004, 0.08397679183439063, 0.07162726362345084, 0.07965445696056171, 0.05989521182305803, 0.08382378990006699, 0.9148767926235883, 0.9920582416855639, 0.9968860551853502, 0.9947847868294156, 0.9404716884666804, 0.05161125119634222, 0.11778409032652984, 0.05125789116061947, 0.003271780286848051, 0.7099763222460271, 0.03380839629742986, 0.03598958315532856, 0.047986110873771415, 0.04918807226165612, 0.8894843067316148, 0.059435587316167805, 0.9955015397133741, 0.1522352865261943, 0.1313029346288426, 0.7136029055915358, 0.0019029410815774288, 0.9956832504989908, 0.0034452707629722863, 0.9934439175587316, 0.9956719537825245, 0.9876290154035793, 0.9935035460337821, 0.9979742998932214, 0.9932122248534713, 0.06522831723101939, 0.9295035205420262, 0.9889595820470597, 0.005763963087132468, 0.18316593810220957, 0.4169266633025819, 0.048673466069118626, 0.007044843773161906, 0.2830746316125057, 0.05571830984228053, 0.9979945235636755, 0.9906569515700471, 0.05474512294472973, 0.13254082397145092, 0.8096515551299502, 0.059791295867302224, 0.9382634120715119, 0.18904474587592587, 0.08112173272397326, 0.42786329826095626, 0.1119910646454852, 0.14764633950056488, 0.020100960320984525, 0.022015337494411622, 0.8325271037655194, 0.16650542075310387, 0.9959003801883097, 0.9646384900483698, 0.03337849446534152, 0.988777464630821, 0.8976037597638317, 0.0024194171422205705, 0.0012097085711102852, 0.042339799988859984, 0.050807759986631985, 0.006048542855551426, 0.5723104646250248, 0.03313739722798696, 0.0780109559742193, 0.07041696910947229, 0.13945321333444513, 0.02140123570974158, 0.08491458039671658, 0.09038932155147286, 0.008217211050133897, 0.636833856385377, 0.2204951631785929, 0.027390703500446322, 0.005478140700089265, 0.01095628140017853, 0.9923430318399432, 0.006443785921038592, 0.9959332577582533, 0.003330880460729944, 0.476860020348669, 0.5224789161667779, 0.9850961672210289, 0.014140136371593715, 0.986977450426016, 0.9959926775419212, 0.8686157787905823, 0.06534540721176857, 0.0015937904197992334, 0.06534540721176857, 0.003269077795967545, 0.17653020098224742, 0.1356667285326531, 0.049036166939513175, 0.6276629368257686, 0.009807233387902634, 0.7795609338866464, 0.20036581755463231, 0.020279941048039707, 0.9871122449904277, 0.028761199698234437, 0.015687927108127876, 0.8393041002848413, 0.1163521260519484, 0.04890385926102938, 0.0021262547504795385, 0.49435422948649266, 0.45395538922738143, 0.0010631273752397692, 0.006159847356909139, 0.9855755771054623, 0.9985099136633351, 0.9983013496345748, 0.9801671824400752, 0.9866959639171359, 0.9793222151061249, 0.017613708904786418, 0.8615107152406516, 0.0013033445011205015, 0.06777391405826609, 0.06907725855938658, 0.9970837411949184, 0.991833699583491, 0.057099549047297256, 0.5968687236350291, 0.0004460902269320098, 0.0013382706807960295, 0.07985015062082976, 0.002676541361592059, 0.26140887298215776, 0.9966187292955191, 0.04419515859867457, 0.9535105467664039, 0.0011048789649668643, 0.9990294640891083, 0.9600418043154428, 0.03728317686661914, 0.12817059812585124, 0.3593097104764032, 0.05760476320262977, 0.0007200595400328722, 0.4435566766602492, 0.010800893100493082, 0.10885259085365818, 0.0851889841463412, 0.804562628048778, 0.9928320166990335, 0.9983897856141635, 0.6464039334810681, 0.0834069591588475, 0.05212934947427968, 0.09572844176185906, 0.03412102874680125, 0.010425869894855937, 0.07772012103438063, 0.9938050468415887, 0.9952617285582145, 0.00434612108540705, 0.003789909729099934, 0.974006800378683, 0.021981476428779616, 0.009079247779476737, 0.9866115920364721, 0.0030264159264922455, 0.7101934923228131, 0.1135884957825725, 0.00424629890775972, 0.025477793446558317, 0.07218708143191524, 0.031847241808197896, 0.04352456380453713, 0.7151698921222256, 0.210855560899258, 0.0021737686690645156, 0.017390149352516125, 0.03695406737409676, 0.017390149352516125, 0.9680462803063964, 0.024821699495035803, 0.9966185553661948, 0.0007079392167608156, 0.9833275720807728, 0.01628260198549876, 0.9468964853473604, 0.02948812584126728, 0.022935208987652327, 0.5076634231911925, 0.068182532749766, 0.025197892537957, 0.342394892721651, 0.05632470096719801, 0.00209373159056545, 0.9966162371091541, 0.0002407718117213999, 0.4410939590736046, 0.27014597275141067, 0.1690218118284227, 0.0007223154351641997, 0.11894127499037155, 0.28208127364162294, 0.0002534422943770197, 0.7177485776757199, 0.9976045893502004, 0.9807821954410703, 0.018646049342986127, 0.9945773223351404, 0.0039156587493509466, 0.9943823537519121, 0.1421376183963378, 0.8389586256564328, 0.006933542360796965, 0.010400313541195447, 0.2646458706169017, 0.16971854746083914, 0.3303963974782438, 0.08301004016244433, 0.09328355998452902, 0.004109407928833878, 0.05506606624637396, 0.9968796308742672, 0.9944300294179881, 0.9326604475228255, 0.06518594525697168, 0.007379253854272675, 0.01475850770854535, 0.974061508763993, 0.989056539031512, 0.9834236106010118, 0.9974390367937184, 0.9819291721419945, 0.00483708951794086, 0.014511268553822579, 0.044297315819710005, 0.7432105209751346, 0.024609619899838894, 0.024609619899838894, 0.012304809949919447, 0.07628982168950058, 0.0713678977095328, 0.9936556109105162, 0.8927619578777962, 0.10682621718195853, 0.0005315293040431009, 0.7801078419005911, 0.0028348229548965384, 0.21668677961490415, 0.0008349385087177672, 0.45136775781282495, 0.00016698770174355344, 0.5473856863153682, 0.9940656755183872, 0.2874338841699933, 0.23777887328107597, 0.08598794568568621, 0.14936873194227182, 0.06418818480762492, 0.04198472465404397, 0.1332207609214857, 0.9936555891464454, 0.9974412752345233, 0.9974562231746243, 0.9949491972052447, 0.7215391647518287, 0.0953338907077536, 0.07534452652709558, 0.10725062704622279, 0.99774532006176, 0.004061466837825928, 0.002030733418912964, 0.06295273598630188, 0.7188796302951892, 0.21119627556694825, 0.3004047637791954, 0.1735096480448801, 0.1001349212597318, 0.1454546054505587, 0.07423795886497357, 0.054815237068904905, 0.15106561396942297, 0.9897474915846234, 0.009669549813108672, 0.9953429713146731, 0.03176410202819561, 0.019058461216917365, 0.9465702404402291, 0.028395912325590078, 0.019360849312902325, 0.13423522190278947, 0.011616509587741396, 0.7679803560784589, 0.03872169862580465, 0.9828399856202684, 0.9938796284511484, 0.9498386402115369, 0.04947076251101755, 0.987291234112784, 0.01020456055930526, 0.3721754573749056, 0.5310509480415935, 0.031885046569785115, 0.0643198353218079, 0.05571910789444307, 0.09472248342055323, 0.005571910789444307, 0.7828534659169252, 0.06129101868388738, 0.9922963775032257, 0.14981984078926291, 0.18076089486530633, 0.16773308262276174, 0.18510349894615455, 0.045597342848906104, 0.03962626223773983, 0.23232931832537873, 0.3326416639972573, 0.02513292572423722, 0.09018285112814532, 0.18480092444292073, 0.2934638680153581, 0.07465957347493998, 0.9933378004269313, 0.003625320439514348, 0.09317127488312829, 0.12560868169429149, 0.1711590827482653, 0.5279705576710604, 0.049001189012608214, 0.02346535811871379, 0.009662206284176267, 0.2926829482471972, 0.09779216991197821, 0.04230725081298348, 0.060339849520156766, 0.3502485518124042, 0.11859901457410123, 0.038145881880558875, 0.16485974509187842, 0.2599046715075316, 0.1458507598087478, 0.0988467234722793, 0.09539054432989191, 0.17350019294784688, 0.06221122456297298, 0.38277993681515365, 0.0027244123616736917, 0.00953544326585792, 0.017708680350878997, 0.5448824723347383, 0.02792522670715534, 0.014984267989205304, 0.9970125065800266, 0.9978204717111763, 0.15350698758948159, 0.5552380402172739, 0.05683024646929744, 0.018290194265980785, 0.08687842276340874, 0.12933780230943556, 0.004524191936524402, 0.12215318228615886, 0.25184668446652503, 0.622830423261526, 0.9969167753458532, 0.08283298950472835, 0.0546345249924804, 0.7595961377986791, 0.02291125241620146, 0.04934731289643391, 0.010574424192092981, 0.019386444352170466, 0.9989811357279997, 0.030336336282048307, 0.9233622355848453, 0.04550450442307246, 0.7156631661730432, 0.05953304214182837, 0.13553267040799225, 0.08739957250608846, 0.9089891660327951, 0.023012383950197345, 0.06616060385681737, 0.997526401209127, 0.9871117338956503, 0.993721899344728, 0.9947690003859109, 0.0023351384985584762, 0.9976975365602219, 0.9952795036270273, 0.004565502310215722, 0.9977020251698981, 0.4686246683718011, 0.004110742705015799, 0.527545313810361, 0.9970102690906477, 0.012718602994783086, 0.9847832604532047, 0.9957113409875585, 0.9742270476107792, 0.019882184645117942, 0.0033136974408529904, 0.0016568487204264952, 0.9963816501593431, 0.9548747912435973, 0.042688520079125526, 0.9946484612977177, 0.10076973056200683, 0.7402699437439733, 0.07105557924244071, 0.0012919196225898311, 0.08785053433610852, 0.994797957573605, 0.6736451457156728, 0.22130261028767176, 0.06284994132169879, 0.041604890734082293, 0.9946851874210781, 0.0033012939138523955, 0.9969907619834234, 0.999199783272884, 0.9980436407235447, 0.001336069130821345, 0.9930143289222624, 0.11675427286352623, 0.021891426161911167, 0.8586303816838491, 0.5478087171261508, 0.37699976301109267, 0.06588345373009385, 0.001220063957964701, 0.007320383747788207, 0.016768120823680295, 0.9585775737537235, 0.023289056699555964, 0.012048960470048714, 0.9438352368204826, 0.042171361645170505, 0.7959399466088533, 8.480979718794388e-05, 0.20396756223700502, 0.9961706683788597, 0.0024356251060607815, 0.9203288587300563, 0.07973323057373836, 0.9987681016566831, 0.0034706926017907228, 0.010412077805372169, 0.02169182876119202, 0.22819803856774, 0.7357868315796332, 0.993347561397491, 0.7293918606335935, 0.06435810535002295, 0.005720720475557596, 0.17877251486117487, 0.020022521664451585, 0.9964665454802363, 0.11068798935777231, 0.8747921739565877, 0.005355870452795434, 0.007141160603727246, 0.628051834760881, 0.041258879655824296, 0.26291074980683593, 0.011919231900571464, 0.05547027153727489, 0.4118925598489346, 0.11405734812579371, 0.25349837906890055, 0.0064305329803859956, 0.21389983387389205, 0.9605947954815978, 0.03772728804006275, 0.9966724143849643, 0.005543755175327033, 0.9923321763835389, 0.9968219567133724, 0.7239178677524726, 0.08693009592058677, 0.17535898659842503, 0.013489152815263463, 0.9937897861158103, 0.8935926259454509, 0.021385122672198824, 0.08401298192649538, 0.9893555516168645, 0.9962700255763911, 0.12061907150240951, 0.692248584274698, 0.18617291471024078, 0.9426673258579984, 0.05751868428964058, 0.9520099585687736, 0.04766160254708879, 0.0034667977263649597, 0.599756006661138, 0.15669925723169617, 0.1206445608775006, 0.1199512013322276, 0.9816172158474925, 0.006214193391374719, 0.9652713734602064, 0.0020713977971249064, 0.0020713977971249064, 0.026928171362623782, 0.9942319233876159, 0.9978569620058847, 0.987935691280002, 0.18953513369412434, 0.0805870185232317, 0.23276851273019283, 0.29986671699417117, 0.12243692943014602, 0.03666190542258609, 0.038045373551740286, 0.9952269670466335, 0.28113962342121834, 0.03947918116127747, 0.6783241126801312, 0.9913478596066956, 0.9941761482503088, 0.3367866666687592, 0.06704549382757707, 0.0015591975308738854, 0.5737846913615898, 0.02026956790136051, 0.9886448320028037, 0.011058667024639863, 0.9938471923021738, 0.004089906141161209, 0.2136675693725734, 0.7852283174442073, 0.9994680992032697, 0.9932124055504653, 0.9967936336572767, 0.9953955941332843, 0.997421866549499, 0.9809801730701658, 0.9966924727770198, 0.22515289927380203, 0.0027796654231333584, 0.018531102820889055, 0.034282540218644755, 0.6606338155646948, 0.036135650500733654, 0.021310768244022414, 0.23661519031146183, 0.21260513826676358, 0.09371665475511254, 0.11075604652876936, 0.09139310133143207, 0.10727071639324864, 0.14754564240371024, 0.995044788201873, 0.1903715382041061, 0.04813992920103832, 0.6170663652133095, 0.05908082220127431, 0.08424487610181706, 0.0010940893000235983], \"Term\": [\"abe\", \"adac\", \"afd\", \"afd\", \"afghanistan\", \"aiwanger\", \"al\", \"altkanzler\", \"ampel\", \"ampel\", \"analyse\", \"analyse\", \"analyse\", \"analyse\", \"analyse\", \"angriff\", \"angriff\", \"angriff\", \"angriff\", \"angriff\", \"anklage\", \"anklagen\", \"anleger\", \"arabien\", \"armee\", \"armee\", \"armee\", \"atomkraft\", \"atomwaffe\", \"atomwaffe\", \"autor\", \"autor\", \"autor\", \"autor\", \"autor\", \"autor\", \"autor\", \"au\\u00dfenminister\", \"au\\u00dfenminister\", \"au\\u00dfenminister\", \"bachmut\", \"baerbock\", \"baerbock\", \"baerbock\", \"bahn\", \"bahn\", \"bayer\", \"bayer\", \"bayern\", \"bayern\", \"belarus\", \"belarus\", \"belarus\", \"belarus\", \"benedikt\", \"berlin\", \"berlin\", \"berlin\", \"berlin\", \"berlin\", \"berlin\", \"berlin\", \"berliner\", \"berliner\", \"berliner\", \"berliner\", \"berliner\", \"beschuss\", \"biden\", \"biden\", \"biontech\", \"bleiben\", \"bleiben\", \"bleiben\", \"bleiben\", \"bleiben\", \"bleiben\", \"bleiben\", \"blinken\", \"bnd\", \"boris\", \"boris\", \"boris\", \"borussia\", \"botschafter\", \"botschafter\", \"britisch\", \"britisch\", \"britisch\", \"britisch\", \"britisch\", \"bund\", \"bund\", \"bund\", \"bundesfinanzminister\", \"bundesinnenministerin\", \"bundeskanzler\", \"bundeskanzler\", \"bundeskanzler\", \"bundeskanzler\", \"bundesliga\", \"bundesregierung\", \"bundesregierung\", \"bundesregierung\", \"bundesregierung\", \"bundesregierung\", \"bundesregierung\", \"bundesstaat\", \"bundestag\", \"bundestag\", \"bundestag\", \"bundestag\", \"bundestag\", \"buschmann\", \"buschmann\", \"bvb\", \"b\\u00f6rse\", \"cannabis\", \"cdu\", \"cdu\", \"cdu\", \"charkiw\", \"chef\", \"chef\", \"chef\", \"chef\", \"chef\", \"chef\", \"chef\", \"cherson\", \"china\", \"china\", \"china\", \"christian\", \"christian\", \"christian\", \"christian\", \"christian\", \"co2\", \"corona\", \"corona\", \"coronavirus\", \"covid\", \"credit\", \"csu\", \"csu\", \"csu\", \"cum\", \"dax\", \"demonstrant\", \"demonstration\", \"deutsch\", \"deutsch\", \"deutsch\", \"deutsch\", \"deutsch\", \"deutsch\", \"deutsch\", \"deutschland\", \"deutschland\", \"deutschland\", \"deutschland\", \"deutschland\", \"deutschland\", \"deutschland\", \"dfb\", \"di\", \"di\", \"diesel\", \"documenta\", \"donald\", \"donbass\", \"donezk\", \"dortmund\", \"eintracht\", \"elizabeth\", \"elon\", \"em\", \"energie\", \"energie\", \"energie\", \"energiewende\", \"england\", \"entlasten\", \"entlastung\", \"entlastungspaket\", \"entwicklung\", \"entwicklung\", \"entwicklung\", \"entwicklung\", \"erdbeben\", \"erdbeben\", \"erdbeben\", \"erdogan\", \"erdogan\", \"erdo\\u011fan\", \"erdo\\u011fan\", \"ermittler\", \"ermittler\", \"ermittlung\", \"ermittlung\", \"erneuerbar\", \"erster\", \"erster\", \"erster\", \"erster\", \"erster\", \"erster\", \"erster\", \"eu\", \"eu\", \"eu\", \"eu\", \"eu\", \"euro\", \"euro\", \"euro\", \"evg\", \"ex\", \"ex\", \"ex\", \"ex\", \"ex\", \"ex\", \"ezb\", \"ezb\", \"faeser\", \"faeser\", \"familienministerin\", \"fbi\", \"fc\", \"fdp\", \"fdp\", \"fdp\", \"festnahme\", \"festnahme\", \"festnehmen\", \"finale\", \"finale\", \"fischsterben\", \"flie\\u00dfen\", \"florida\", \"focus\", \"focus\", \"focus\", \"focus\", \"focus\", \"focus\", \"frage\", \"frage\", \"frage\", \"frage\", \"frage\", \"frage\", \"frage\", \"france\", \"frankfurt\", \"frankfurt\", \"frankreich\", \"frankreich\", \"frankreich\", \"frankreich\", \"frankreich\", \"frankreich\", \"franziska\", \"franziskus\", \"franziskus\", \"frau\", \"frau\", \"frau\", \"frau\", \"frau\", \"frau\", \"frau\", \"freiburg\", \"front\", \"front\", \"fukushima\", \"fu\\u00dfball\", \"f\\u00f6rderung\", \"g7\", \"g7\", \"g7\", \"gabor\", \"gas\", \"gastbeitrag\", \"gastbeitrag\", \"gastbeitrag\", \"gasumlage\", \"gazastreifen\", \"geben\", \"geben\", \"geben\", \"geben\", \"geben\", \"geben\", \"geben\", \"gebiet\", \"gebiet\", \"gebiet\", \"gef\\u00e4ngnis\", \"gef\\u00e4ngnis\", \"gegenoffensiv\", \"gegenoffensiv\", \"gegenoffensive\", \"geld\", \"geld\", \"geld\", \"geld\", \"geld\", \"geld\", \"geld\", \"generation\", \"generation\", \"generation\", \"generation\", \"generation\", \"gerhard\", \"gericht\", \"gericht\", \"gericht\", \"gericht\", \"getreideabkommen\", \"gewerkschaft\", \"gewerkschaft\", \"gewerkschaft\", \"gewinnen\", \"gewinnen\", \"gewinnen\", \"gewinnen\", \"gewinnen\", \"gewinnen\", \"giffey\", \"gipfel\", \"gipfel\", \"gipfel\", \"gipfel\", \"gro\\u00df\", \"gro\\u00df\", \"gro\\u00df\", \"gro\\u00df\", \"gro\\u00df\", \"gro\\u00df\", \"gro\\u00df\", \"gr\\u00fcne\", \"gr\\u00fcne\", \"gr\\u00fcne\", \"gut\", \"gut\", \"gut\", \"gut\", \"gut\", \"gut\", \"gut\", \"g\\u00f6rlach\", \"habeck\", \"habeck\", \"haft\", \"haftstrafe\", \"halbfinal\", \"heizung\", \"hertha\", \"heute\", \"heute\", \"heute\", \"heute\", \"heute\", \"heute\", \"heute\", \"hoch\", \"hoch\", \"hoch\", \"hoch\", \"hoch\", \"hoch\", \"hoch\", \"hugo\", \"impfstoff\", \"impfung\", \"impfung\", \"infektion\", \"inflation\", \"inflation\", \"inflation\", \"inflationsrate\", \"innenministerin\", \"invasion\", \"invasion\", \"inzidenz\", \"iran\", \"iran\", \"iran\", \"iran\", \"israel\", \"israel\", \"israel\", \"israel\", \"jan\", \"jan\", \"japan\", \"japan\", \"japan\", \"japan\", \"jinping\", \"joe\", \"joe\", \"johnson\", \"jong\", \"justiz\", \"kabul\", \"kaili\", \"kampf\", \"kampf\", \"kampf\", \"kampf\", \"kampf\", \"kampf\", \"kampf\", \"kampfpanzer\", \"kanzler\", \"kanzler\", \"kanzler\", \"kanzler\", \"kanzler\", \"kapitol\", \"katar\", \"katar\", \"katar\", \"kiew\", \"kiew\", \"kim\", \"kind\", \"kind\", \"kind\", \"kind\", \"kind\", \"kind\", \"kind\", \"kindergrundsicherung\", \"klimaschutz\", \"klimaschutz\", \"klimaschutz\", \"klimaschutz\", \"klitschko\", \"klitschko\", \"kommune\", \"korrespondent\", \"kosovo\", \"kosten\", \"kosten\", \"kosten\", \"kosten\", \"kosten\", \"kreml\", \"kreml\", \"krieg\", \"krieg\", \"krieg\", \"kriegsverlauf\", \"kriegsverlauf\", \"kritik\", \"kritik\", \"kritik\", \"kritik\", \"kritik\", \"kritik\", \"kritik\", \"lage\", \"lage\", \"lage\", \"lage\", \"lage\", \"lage\", \"lage\", \"land\", \"land\", \"land\", \"land\", \"land\", \"land\", \"land\", \"lawrow\", \"league\", \"leben\", \"leben\", \"leben\", \"leben\", \"leben\", \"leben\", \"leben\", \"leipzig\", \"leipzig\", \"leitzins\", \"leopard\", \"letzten\", \"liebe\", \"liebe\", \"liefern\", \"liefern\", \"liefern\", \"liefern\", \"liefern\", \"liefern\", \"liefern\", \"lieferung\", \"lieferung\", \"lieferung\", \"liga\", \"linke\", \"linke\", \"linke\", \"linke\", \"liveblog\", \"liveblog\", \"lng\", \"luhansk\", \"lukaschenko\", \"lyssytschansk\", \"l\\u00fctzerath\", \"mainz\", \"mali\", \"mali\", \"mangott\", \"mann\", \"mann\", \"mann\", \"mann\", \"mann\", \"mann\", \"mann\", \"marktbericht\", \"ma\\u00dfnahm\", \"meer\", \"meer\", \"meer\", \"melnyk\", \"melnyk\", \"mensch\", \"mensch\", \"mensch\", \"mensch\", \"mensch\", \"mensch\", \"mensch\", \"merz\", \"merz\", \"mexiko\", \"milit\\u00e4rexperte\", \"milit\\u00e4rexperte\", \"milit\\u00e4rhilfe\", \"milliarde\", \"milliarde\", \"milliarde\", \"milliarde\", \"milliarde\", \"milliarde\", \"million\", \"million\", \"million\", \"million\", \"million\", \"million\", \"million\", \"mindestens\", \"mindestens\", \"mindestens\", \"mindestens\", \"mindestens\", \"mindestens\", \"mindestens\", \"moldau\", \"moldau\", \"mord\", \"mord\", \"moskau\", \"moskau\", \"munition\", \"munition\", \"munz\", \"musk\", \"mutma\\u00dflich\", \"mutma\\u00dflich\", \"mutma\\u00dflich\", \"mutma\\u00dflich\", \"m\\u00fcnchen\", \"m\\u00fcnchen\", \"m\\u00fcnchen\", \"m\\u00fcnchen\", \"m\\u00fcnchen\", \"m\\u00fcnchen\", \"nato\", \"nato\", \"nato\", \"neapel\", \"new\", \"new\", \"new\", \"new\", \"news\", \"news\", \"news\", \"news\", \"news\", \"newsblog\", \"newsblog\", \"nord\", \"nordkorea\", \"nordkoreanisch\", \"null\", \"offensive\", \"offensive\", \"olaf\", \"olaf\", \"olaf\", \"olaf\", \"olympia\", \"omikron\", \"online\", \"online\", \"online\", \"online\", \"online\", \"online\", \"online\", \"ostukraine\", \"pandemie\", \"pandemie\", \"pandemie\", \"panzer\", \"papst\", \"papst\", \"partei\", \"partei\", \"partei\", \"partei\", \"partei\", \"partei\", \"peking\", \"peking\", \"peking\", \"pelosi\", \"pipeline\", \"plan\", \"plan\", \"plan\", \"plan\", \"plan\", \"plan\", \"plan\", \"pokal\", \"polen\", \"polen\", \"polizei\", \"polizei\", \"polizei\", \"polizist\", \"polizist\", \"polizist\", \"preis\", \"preis\", \"preis\", \"preis\", \"preis\", \"preis\", \"preis\", \"premier\", \"premier\", \"premier\", \"premier\", \"premier\", \"premier\", \"premierministerin\", \"premierministerin\", \"propaganda\", \"protest\", \"protest\", \"protest\", \"protestieren\", \"protestieren\", \"protestieren\", \"prozent\", \"prozent\", \"prozent\", \"prozent\", \"prozent\", \"prozess\", \"prozess\", \"pr\\u00e4sident\", \"pr\\u00e4sident\", \"pr\\u00e4sident\", \"pr\\u00e4sident\", \"pr\\u00e4sident\", \"pr\\u00e4sident\", \"putin\", \"putin\", \"putin\", \"queen\", \"raketenangriff\", \"raketenangriff\", \"razzia\", \"razzia\", \"rbb\", \"redakteur\", \"redakteur\", \"redakteur\", \"redakteur\", \"regierung\", \"regierung\", \"regierung\", \"regierung\", \"regierung\", \"regierung\", \"regierung\", \"reitz\", \"rentenreform\", \"republikaner\", \"republikaner\", \"rezession\", \"rezession\", \"rezession\", \"rheinmetall\", \"rishi\", \"rki\", \"roman\", \"roman\", \"roman\", \"rot\", \"rot\", \"rot\", \"rot\", \"rot\", \"rot\", \"rot\", \"rushdie\", \"russe\", \"russe\", \"russisch\", \"russisch\", \"russisch\", \"russisch\", \"russland\", \"russland\", \"russland\", \"russland\", \"r\\u00e4umung\", \"sagen\", \"sagen\", \"sagen\", \"sagen\", \"sagen\", \"sagen\", \"sagen\", \"salman\", \"saporischschja\", \"saudi\", \"schalke\", \"scholz\", \"scholz\", \"scholz\", \"scholz\", \"schr\\u00f6der\", \"schweden\", \"schweden\", \"schweden\", \"schweden\", \"schweden\", \"sehen\", \"sehen\", \"sehen\", \"sehen\", \"sehen\", \"sehen\", \"sehen\", \"selenskyj\", \"selenskyj\", \"sicherheitskonferenz\", \"sicherheitsrat\", \"sicherheitsrat\", \"sicherheitsrat\", \"sieg\", \"sieg\", \"sieg\", \"sieg\", \"sieg\", \"sieg\", \"silber\", \"sjewjerodonezk\", \"soldat\", \"soldat\", \"sparen\", \"sparen\", \"spd\", \"spd\", \"spd\", \"spd\", \"spiel\", \"spiel\", \"spiel\", \"spiel\", \"spiel\", \"spieltag\", \"sprechen\", \"sprechen\", \"sprechen\", \"sprechen\", \"sprechen\", \"sprechen\", \"sprechen\", \"staat\", \"staat\", \"staat\", \"staat\", \"staat\", \"staat\", \"staatsanwaltschaft\", \"staatsanwaltschaft\", \"stadt\", \"stadt\", \"stadt\", \"stadt\", \"stadt\", \"stadt\", \"stadt\", \"stark\", \"stark\", \"stark\", \"stark\", \"stark\", \"stark\", \"stark\", \"stehen\", \"stehen\", \"stehen\", \"stehen\", \"stehen\", \"stehen\", \"stehen\", \"steigen\", \"steigen\", \"steigen\", \"steigen\", \"steigen\", \"steigen\", \"steigen\", \"steingart\", \"steinmeier\", \"sterben\", \"sterben\", \"sterben\", \"sterben\", \"sterben\", \"sterben\", \"stern\", \"stern\", \"stern\", \"stern\", \"stoltenberg\", \"stra\\u00dfe\", \"stra\\u00dfe\", \"stra\\u00dfe\", \"stra\\u00dfe\", \"stra\\u00dfe\", \"stra\\u00dfe\", \"stra\\u00dfe\", \"stream\", \"streik\", \"streik\", \"streik\", \"studie\", \"studie\", \"studie\", \"studie\", \"sturm\", \"sturm\", \"sturm\", \"sudan\", \"suisse\", \"sunak\", \"syrien\", \"syrien\", \"s\\u00f6der\", \"s\\u00f6ldner\", \"s\\u00f6ldner\", \"s\\u00fcdkorea\", \"taiwan\", \"taiwan\", \"taiwan\", \"taliban\", \"team\", \"team\", \"tesla\", \"teuer\", \"teuer\", \"teuer\", \"teuer\", \"th\\u00fcringen\", \"ticket\", \"ticket\", \"tiktok\", \"tod\", \"tod\", \"tod\", \"tod\", \"tod\", \"tor\", \"tote\", \"tote\", \"tote\", \"tote\", \"tour\", \"trainer\", \"trainer\", \"trump\", \"truppe\", \"truppe\", \"truss\", \"twitter\", \"twitter\", \"twitter\", \"t\\u00f6ten\", \"t\\u00f6ten\", \"t\\u00f6ten\", \"t\\u00f6ten\", \"t\\u00f6ten\", \"t\\u00fcrkei\", \"t\\u00fcrkei\", \"t\\u00fcrkei\", \"t\\u00fcrkisch\", \"t\\u00fcrkisch\", \"t\\u00fcrkisch\", \"ukraine\", \"ukraine\", \"ukraine\", \"ukrainer\", \"ukrainer\", \"ukrainisch\", \"ukrainisch\", \"ulrich\", \"un\", \"un\", \"un\", \"un\", \"un\", \"uniper\", \"unternehmen\", \"unternehmen\", \"unternehmen\", \"unternehmen\", \"unternehmen\", \"updat\", \"urteil\", \"urteil\", \"urteil\", \"urteil\", \"us\", \"us\", \"us\", \"us\", \"us\", \"usa\", \"usa\", \"usa\", \"usa\", \"usa\", \"verbraucher\", \"verbraucher\", \"verbrenner\", \"verdi\", \"verdi\", \"verd\\u00e4chtige\", \"verletzen\", \"verletzen\", \"verletzen\", \"verletzen\", \"versteher\", \"verurteilen\", \"verurteilen\", \"verurteilen\", \"virus\", \"vogg\", \"waffe\", \"waffe\", \"waffe\", \"wagenknecht\", \"wagenknecht\", \"wagner\", \"wagner\", \"wahl\", \"wahl\", \"wahl\", \"wahl\", \"wahl\", \"wahlwiederholung\", \"wahrheit\", \"wahrheit\", \"wahrheit\", \"wahrheit\", \"wahrheit\", \"wall\", \"warnstreik\", \"wegner\", \"weit\", \"weit\", \"weit\", \"weit\", \"weit\", \"weit\", \"weit\", \"weltmeister\", \"westen\", \"westen\", \"westen\", \"westjordanland\", \"wimbledon\", \"wirtschaft\", \"wirtschaft\", \"wirtschaft\", \"wirtschaft\", \"wirtschaft\", \"wirtschaftsminister\", \"wirtschaftsminister\", \"wissing\", \"wissing\", \"wladimir\", \"wladimir\", \"wm\", \"wolfsburg\", \"wolodymyr\", \"w\\u00e4rmepumpe\", \"xi\", \"xvi\", \"york\", \"zahl\", \"zahl\", \"zahl\", \"zahl\", \"zahl\", \"zahl\", \"zahl\", \"zeigen\", \"zeigen\", \"zeigen\", \"zeigen\", \"zeigen\", \"zeigen\", \"zeigen\", \"zentralbank\", \"\\u00fcberblick\", \"\\u00fcberblick\", \"\\u00fcberblick\", \"\\u00fcberblick\", \"\\u00fcberblick\", \"\\u00fcberblick\"]}, \"R\": 30, \"lambda.step\": 0.01, \"plot.opts\": {\"xlab\": \"PC1\", \"ylab\": \"PC2\"}, \"topic.order\": [6, 3, 5, 7, 4, 2, 1]};\n",
       "\n",
       "function LDAvis_load_lib(url, callback){\n",
       "  var s = document.createElement('script');\n",
       "  s.src = url;\n",
       "  s.async = true;\n",
       "  s.onreadystatechange = s.onload = callback;\n",
       "  s.onerror = function(){console.warn(\"failed to load library \" + url);};\n",
       "  document.getElementsByTagName(\"head\")[0].appendChild(s);\n",
       "}\n",
       "\n",
       "if(typeof(LDAvis) !== \"undefined\"){\n",
       "   // already loaded: just create the visualization\n",
       "   !function(LDAvis){\n",
       "       new LDAvis(\"#\" + \"ldavis_el1162018149522809128437767841\", ldavis_el1162018149522809128437767841_data);\n",
       "   }(LDAvis);\n",
       "}else if(typeof define === \"function\" && define.amd){\n",
       "   // require.js is available: use it to load d3/LDAvis\n",
       "   require.config({paths: {d3: \"https://d3js.org/d3.v5\"}});\n",
       "   require([\"d3\"], function(d3){\n",
       "      window.d3 = d3;\n",
       "      LDAvis_load_lib(\"https://cdn.jsdelivr.net/gh/bmabey/pyLDAvis@3.4.0/pyLDAvis/js/ldavis.v3.0.0.js\", function(){\n",
       "        new LDAvis(\"#\" + \"ldavis_el1162018149522809128437767841\", ldavis_el1162018149522809128437767841_data);\n",
       "      });\n",
       "    });\n",
       "}else{\n",
       "    // require.js not available: dynamically load d3 & LDAvis\n",
       "    LDAvis_load_lib(\"https://d3js.org/d3.v5.js\", function(){\n",
       "         LDAvis_load_lib(\"https://cdn.jsdelivr.net/gh/bmabey/pyLDAvis@3.4.0/pyLDAvis/js/ldavis.v3.0.0.js\", function(){\n",
       "                 new LDAvis(\"#\" + \"ldavis_el1162018149522809128437767841\", ldavis_el1162018149522809128437767841_data);\n",
       "            })\n",
       "         });\n",
       "}\n",
       "</script>"
      ],
      "text/plain": [
       "PreparedData(topic_coordinates=               x          y  topics  cluster       Freq\n",
       "topic                                                  \n",
       "5      42.266525  12.537951       1        1  19.880240\n",
       "2       7.058697 -26.207924       2        1  16.845583\n",
       "4      -9.065055  23.702736       3        1  15.689041\n",
       "6      13.434557   3.408497       4        1  14.381416\n",
       "3     -15.373838  -5.891829       5        1  11.314604\n",
       "1      35.865017 -17.072254       6        1  11.234971\n",
       "0      19.795969  32.939171       7        1  10.654145, topic_info=              Term          Freq         Total Category  logprob  loglift\n",
       "25501      ukraine  11791.000000  11791.000000  Default  30.0000  30.0000\n",
       "21156     russland   5988.000000   5988.000000  Default  29.0000  29.0000\n",
       "14353        krieg   5936.000000   5936.000000  Default  28.0000  28.0000\n",
       "21150     russisch   5644.000000   5644.000000  Default  27.0000  27.0000\n",
       "19899        putin   3945.000000   3945.000000  Default  26.0000  26.0000\n",
       "...            ...           ...           ...      ...      ...      ...\n",
       "19786    präsident    493.923780   4153.310111   Topic7  -5.5272   0.1099\n",
       "9307         geben    447.639910   5105.471118   Topic7  -5.6256  -0.1949\n",
       "5532   deutschland    443.709312   6523.948434   Topic7  -5.6344  -0.4488\n",
       "29064       zeigen    380.743247   2582.251795   Topic7  -5.7874   0.3249\n",
       "10573         groß    373.218337   3644.395787   Topic7  -5.8074  -0.0396\n",
       "\n",
       "[495 rows x 6 columns], token_table=       Topic      Freq         Term\n",
       "term                               \n",
       "194        7  0.993835          abe\n",
       "596        7  0.980167         adac\n",
       "627        1  0.002074          afd\n",
       "627        6  0.996935          afd\n",
       "643        5  0.999090  afghanistan\n",
       "...      ...       ...          ...\n",
       "29792      2  0.048140    überblick\n",
       "29792      4  0.617066    überblick\n",
       "29792      5  0.059081    überblick\n",
       "29792      6  0.084245    überblick\n",
       "29792      7  0.001094    überblick\n",
       "\n",
       "[1053 rows x 3 columns], R=30, lambda_step=0.01, plot_opts={'xlab': 'PC1', 'ylab': 'PC2'}, topic_order=[6, 3, 5, 7, 4, 2, 1])"
      ]
     },
     "execution_count": 28,
     "metadata": {},
     "output_type": "execute_result"
    }
   ],
   "source": [
    "pyLDAvis.enable_notebook()\n",
    "panel = pyLDAvis.lda_model.prepare(lda, dtm, cv, mds='tsne')\n",
    "panel"
   ]
  },
  {
   "cell_type": "markdown",
   "id": "1c77ce17",
   "metadata": {},
   "source": [
    "## Save train set with topics and dump countvectorizer and model"
   ]
  },
  {
   "cell_type": "code",
   "execution_count": 29,
   "id": "78051ef9",
   "metadata": {},
   "outputs": [],
   "source": [
    "#Save result to csv\n",
    "train.to_csv('train_lda_combined_7.csv')"
   ]
  },
  {
   "cell_type": "code",
   "execution_count": 30,
   "id": "c49fa248",
   "metadata": {},
   "outputs": [
    {
     "data": {
      "text/plain": [
       "['models/cv_combined.jl']"
      ]
     },
     "execution_count": 30,
     "metadata": {},
     "output_type": "execute_result"
    }
   ],
   "source": [
    "# Dump countvectorizer\n",
    "joblib.dump(cv, 'models/cv_combined.jl')"
   ]
  },
  {
   "cell_type": "code",
   "execution_count": 31,
   "id": "205360e6",
   "metadata": {},
   "outputs": [
    {
     "data": {
      "text/plain": [
       "['models/lda_model_7_topics_combined.jl']"
      ]
     },
     "execution_count": 31,
     "metadata": {},
     "output_type": "execute_result"
    }
   ],
   "source": [
    "# Dump LDA model\n",
    "joblib.dump(lda, 'models/lda_model_7_topics_combined.jl')"
   ]
  }
 ],
 "metadata": {
  "kernelspec": {
   "display_name": "nlp",
   "language": "python",
   "name": "nlp"
  },
  "language_info": {
   "codemirror_mode": {
    "name": "ipython",
    "version": 3
   },
   "file_extension": ".py",
   "mimetype": "text/x-python",
   "name": "python",
   "nbconvert_exporter": "python",
   "pygments_lexer": "ipython3",
   "version": "3.11.5"
  }
 },
 "nbformat": 4,
 "nbformat_minor": 5
}
