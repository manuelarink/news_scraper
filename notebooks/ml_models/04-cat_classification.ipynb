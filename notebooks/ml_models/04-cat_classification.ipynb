{
 "cells": [
  {
   "cell_type": "markdown",
   "id": "c51d1f24",
   "metadata": {},
   "source": [
    "# Text classification of news headlines for prediction of news category"
   ]
  },
  {
   "cell_type": "code",
   "execution_count": null,
   "id": "b1b7e0a0",
   "metadata": {},
   "outputs": [],
   "source": []
  }
 ],
 "metadata": {
  "kernelspec": {
   "display_name": "nlp",
   "language": "python",
   "name": "nlp"
  },
  "language_info": {
   "codemirror_mode": {
    "name": "ipython",
    "version": 3
   },
   "file_extension": ".py",
   "mimetype": "text/x-python",
   "name": "python",
   "nbconvert_exporter": "python",
   "pygments_lexer": "ipython3",
   "version": "3.11.5"
  }
 },
 "nbformat": 4,
 "nbformat_minor": 5
}
