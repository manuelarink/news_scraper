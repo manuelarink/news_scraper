{
 "cells": [
  {
   "cell_type": "markdown",
   "id": "c51d1f24",
   "metadata": {},
   "source": [
    "# Text classification of news headlines for prediction of news category"
   ]
  },
  {
   "cell_type": "markdown",
   "id": "f9eb4848",
   "metadata": {},
   "source": [
    "# 1) Independent Variable: 'title', Target: 'frequent_category'"
   ]
  },
  {
   "cell_type": "markdown",
   "id": "1754b11b",
   "metadata": {},
   "source": [
    "Our dataset contains many news entries with missing category (unlabeled data). We now wan't to train a classification model with our labeled data (that is the news entries with category label provided). This model then will be used to predict the category labels for the unlabeled part of the dataset."
   ]
  },
  {
   "cell_type": "code",
   "execution_count": 1,
   "id": "b1b7e0a0",
   "metadata": {},
   "outputs": [],
   "source": [
    "import pandas as pd\n",
    "import numpy as np\n",
    "import matplotlib.pyplot as plt\n",
    "import seaborn as sns\n",
    "\n",
    "from sklearn.feature_extraction.text import TfidfVectorizer\n",
    "from sklearn.linear_model import LogisticRegression\n",
    "from sklearn.pipeline import Pipeline\n",
    "from sklearn import metrics"
   ]
  },
  {
   "cell_type": "markdown",
   "id": "2dfe961b",
   "metadata": {},
   "source": [
    "## Load train and test set"
   ]
  },
  {
   "cell_type": "code",
   "execution_count": 2,
   "id": "67f65c41",
   "metadata": {},
   "outputs": [],
   "source": [
    "train = pd.read_csv('../../preprocessing/train.csv')\n",
    "test = pd.read_csv('../../preprocessing/test.csv')"
   ]
  },
  {
   "cell_type": "code",
   "execution_count": 3,
   "id": "c1f5bf47",
   "metadata": {},
   "outputs": [
    {
     "data": {
      "text/html": [
       "<div>\n",
       "<style scoped>\n",
       "    .dataframe tbody tr th:only-of-type {\n",
       "        vertical-align: middle;\n",
       "    }\n",
       "\n",
       "    .dataframe tbody tr th {\n",
       "        vertical-align: top;\n",
       "    }\n",
       "\n",
       "    .dataframe thead th {\n",
       "        text-align: right;\n",
       "    }\n",
       "</style>\n",
       "<table border=\"1\" class=\"dataframe\">\n",
       "  <thead>\n",
       "    <tr style=\"text-align: right;\">\n",
       "      <th></th>\n",
       "      <th>date</th>\n",
       "      <th>title</th>\n",
       "      <th>description</th>\n",
       "      <th>category</th>\n",
       "      <th>text</th>\n",
       "      <th>source</th>\n",
       "      <th>frequent_category</th>\n",
       "    </tr>\n",
       "  </thead>\n",
       "  <tbody>\n",
       "    <tr>\n",
       "      <th>0</th>\n",
       "      <td>2023-06-29 11:57:00</td>\n",
       "      <td>Cyberbetrug in Philippinen: Großrazzia gegen M...</td>\n",
       "      <td>In den Philippinen wurden 2.724 Personen festg...</td>\n",
       "      <td>Missing</td>\n",
       "      <td>NaN</td>\n",
       "      <td>taz</td>\n",
       "      <td>Missing</td>\n",
       "    </tr>\n",
       "    <tr>\n",
       "      <th>1</th>\n",
       "      <td>2023-01-15 09:16:00</td>\n",
       "      <td>GPT: Eine Software, die die Welt verändert</td>\n",
       "      <td>GPT-3 ist eine jener Entwicklungen, die binnen...</td>\n",
       "      <td>Terra X - die Wissens-Kolumne</td>\n",
       "      <td>NaN</td>\n",
       "      <td>ZDF heute</td>\n",
       "      <td>Other</td>\n",
       "    </tr>\n",
       "    <tr>\n",
       "      <th>2</th>\n",
       "      <td>2023-03-04 15:13:32</td>\n",
       "      <td>Fußball: Hollerbach schießt Wehen Wiesbaden mi...</td>\n",
       "      <td>NaN</td>\n",
       "      <td>News</td>\n",
       "      <td>NaN</td>\n",
       "      <td>Zeit</td>\n",
       "      <td>News</td>\n",
       "    </tr>\n",
       "    <tr>\n",
       "      <th>3</th>\n",
       "      <td>2022-07-16 07:17:44</td>\n",
       "      <td>Leichtathletik-WM: Ein Auftakt mit Licht und S...</td>\n",
       "      <td>Stabhochspringerin Jacqueline Otchere jubelte,...</td>\n",
       "      <td>Missing</td>\n",
       "      <td>NaN</td>\n",
       "      <td>Tagesschau</td>\n",
       "      <td>Missing</td>\n",
       "    </tr>\n",
       "    <tr>\n",
       "      <th>4</th>\n",
       "      <td>2022-10-11 18:49:00</td>\n",
       "      <td>Geflüchtete in Deutschland: Nicht alle gleich ...</td>\n",
       "      <td>Die Innenministerin spricht sich für Solidarit...</td>\n",
       "      <td>Missing</td>\n",
       "      <td>NaN</td>\n",
       "      <td>taz</td>\n",
       "      <td>Missing</td>\n",
       "    </tr>\n",
       "  </tbody>\n",
       "</table>\n",
       "</div>"
      ],
      "text/plain": [
       "                  date                                              title  \\\n",
       "0  2023-06-29 11:57:00  Cyberbetrug in Philippinen: Großrazzia gegen M...   \n",
       "1  2023-01-15 09:16:00         GPT: Eine Software, die die Welt verändert   \n",
       "2  2023-03-04 15:13:32  Fußball: Hollerbach schießt Wehen Wiesbaden mi...   \n",
       "3  2022-07-16 07:17:44  Leichtathletik-WM: Ein Auftakt mit Licht und S...   \n",
       "4  2022-10-11 18:49:00  Geflüchtete in Deutschland: Nicht alle gleich ...   \n",
       "\n",
       "                                         description  \\\n",
       "0  In den Philippinen wurden 2.724 Personen festg...   \n",
       "1  GPT-3 ist eine jener Entwicklungen, die binnen...   \n",
       "2                                                NaN   \n",
       "3  Stabhochspringerin Jacqueline Otchere jubelte,...   \n",
       "4  Die Innenministerin spricht sich für Solidarit...   \n",
       "\n",
       "                        category  text      source frequent_category  \n",
       "0                        Missing   NaN         taz           Missing  \n",
       "1  Terra X - die Wissens-Kolumne   NaN   ZDF heute             Other  \n",
       "2                           News   NaN        Zeit              News  \n",
       "3                        Missing   NaN  Tagesschau           Missing  \n",
       "4                        Missing   NaN         taz           Missing  "
      ]
     },
     "execution_count": 3,
     "metadata": {},
     "output_type": "execute_result"
    }
   ],
   "source": [
    "train.head()"
   ]
  },
  {
   "cell_type": "code",
   "execution_count": 4,
   "id": "279770eb",
   "metadata": {},
   "outputs": [
    {
     "data": {
      "text/html": [
       "<div>\n",
       "<style scoped>\n",
       "    .dataframe tbody tr th:only-of-type {\n",
       "        vertical-align: middle;\n",
       "    }\n",
       "\n",
       "    .dataframe tbody tr th {\n",
       "        vertical-align: top;\n",
       "    }\n",
       "\n",
       "    .dataframe thead th {\n",
       "        text-align: right;\n",
       "    }\n",
       "</style>\n",
       "<table border=\"1\" class=\"dataframe\">\n",
       "  <thead>\n",
       "    <tr style=\"text-align: right;\">\n",
       "      <th></th>\n",
       "      <th>date</th>\n",
       "      <th>title</th>\n",
       "      <th>description</th>\n",
       "      <th>category</th>\n",
       "      <th>text</th>\n",
       "      <th>source</th>\n",
       "      <th>frequent_category</th>\n",
       "    </tr>\n",
       "  </thead>\n",
       "  <tbody>\n",
       "    <tr>\n",
       "      <th>0</th>\n",
       "      <td>2022-07-15 09:40:00</td>\n",
       "      <td>Lauterbach für vierte Corona-Impfung: Zweiter ...</td>\n",
       "      <td>Wegen steigender Coronazahlen rät Gesundheitsm...</td>\n",
       "      <td>Missing</td>\n",
       "      <td>NaN</td>\n",
       "      <td>taz</td>\n",
       "      <td>Missing</td>\n",
       "    </tr>\n",
       "    <tr>\n",
       "      <th>1</th>\n",
       "      <td>2023-06-15 22:08:22</td>\n",
       "      <td>Weyrauch zieht Bewerbung um rbb-Intendantenste...</td>\n",
       "      <td>Einen Tag vor der Intendantenwahl beim rbb hat...</td>\n",
       "      <td>Missing</td>\n",
       "      <td>NaN</td>\n",
       "      <td>Tagesschau</td>\n",
       "      <td>Missing</td>\n",
       "    </tr>\n",
       "    <tr>\n",
       "      <th>2</th>\n",
       "      <td>2022-08-20 06:29:28</td>\n",
       "      <td>Inflation in Großbritannien: \"Es wird alles te...</td>\n",
       "      <td>Die Energiepreise: steigen und steigen. Die In...</td>\n",
       "      <td>Missing</td>\n",
       "      <td>NaN</td>\n",
       "      <td>Tagesschau</td>\n",
       "      <td>Missing</td>\n",
       "    </tr>\n",
       "    <tr>\n",
       "      <th>3</th>\n",
       "      <td>2023-02-12 22:14:58</td>\n",
       "      <td>Nahe kanadischer Grenze - Schon wieder! USA sc...</td>\n",
       "      <td>Medienberichten zufolge haben die USA erneut e...</td>\n",
       "      <td>Ausland</td>\n",
       "      <td>NaN</td>\n",
       "      <td>Focus</td>\n",
       "      <td>Ausland</td>\n",
       "    </tr>\n",
       "    <tr>\n",
       "      <th>4</th>\n",
       "      <td>2022-08-26 11:50:37</td>\n",
       "      <td>China: Geschichte verdeht: Mao wollte Taiwan a...</td>\n",
       "      <td>Chinas Kommunistische Partei bedroht Taiwan mi...</td>\n",
       "      <td>China, Taiwan, Kommunistische Partei, Peking, ...</td>\n",
       "      <td>NaN</td>\n",
       "      <td>stern</td>\n",
       "      <td>Other</td>\n",
       "    </tr>\n",
       "  </tbody>\n",
       "</table>\n",
       "</div>"
      ],
      "text/plain": [
       "                  date                                              title  \\\n",
       "0  2022-07-15 09:40:00  Lauterbach für vierte Corona-Impfung: Zweiter ...   \n",
       "1  2023-06-15 22:08:22  Weyrauch zieht Bewerbung um rbb-Intendantenste...   \n",
       "2  2022-08-20 06:29:28  Inflation in Großbritannien: \"Es wird alles te...   \n",
       "3  2023-02-12 22:14:58  Nahe kanadischer Grenze - Schon wieder! USA sc...   \n",
       "4  2022-08-26 11:50:37  China: Geschichte verdeht: Mao wollte Taiwan a...   \n",
       "\n",
       "                                         description  \\\n",
       "0  Wegen steigender Coronazahlen rät Gesundheitsm...   \n",
       "1  Einen Tag vor der Intendantenwahl beim rbb hat...   \n",
       "2  Die Energiepreise: steigen und steigen. Die In...   \n",
       "3  Medienberichten zufolge haben die USA erneut e...   \n",
       "4  Chinas Kommunistische Partei bedroht Taiwan mi...   \n",
       "\n",
       "                                            category  text      source  \\\n",
       "0                                            Missing   NaN         taz   \n",
       "1                                            Missing   NaN  Tagesschau   \n",
       "2                                            Missing   NaN  Tagesschau   \n",
       "3                                            Ausland   NaN       Focus   \n",
       "4  China, Taiwan, Kommunistische Partei, Peking, ...   NaN       stern   \n",
       "\n",
       "  frequent_category  \n",
       "0           Missing  \n",
       "1           Missing  \n",
       "2           Missing  \n",
       "3           Ausland  \n",
       "4             Other  "
      ]
     },
     "execution_count": 4,
     "metadata": {},
     "output_type": "execute_result"
    }
   ],
   "source": [
    "test.head()"
   ]
  },
  {
   "cell_type": "markdown",
   "id": "456a0da3",
   "metadata": {},
   "source": [
    "## Examine independent variable title"
   ]
  },
  {
   "cell_type": "code",
   "execution_count": 5,
   "id": "c551cf0a",
   "metadata": {},
   "outputs": [
    {
     "name": "stdout",
     "output_type": "stream",
     "text": [
      "0\n"
     ]
    }
   ],
   "source": [
    "print(train['title'].isnull().sum())"
   ]
  },
  {
   "cell_type": "code",
   "execution_count": 6,
   "id": "bdbf352a",
   "metadata": {},
   "outputs": [
    {
     "name": "stdout",
     "output_type": "stream",
     "text": [
      "0\n"
     ]
    }
   ],
   "source": [
    "print(test['title'].isnull().sum())"
   ]
  },
  {
   "cell_type": "markdown",
   "id": "04d66d1f",
   "metadata": {},
   "source": [
    "## Examine target variable frequent_category"
   ]
  },
  {
   "cell_type": "code",
   "execution_count": 7,
   "id": "97c0144a",
   "metadata": {},
   "outputs": [
    {
     "name": "stdout",
     "output_type": "stream",
     "text": [
      "frequent_category\n",
      "Ausland          0.055276\n",
      "Deutschland      0.048290\n",
      "Missing          0.382115\n",
      "News             0.059685\n",
      "Other            0.407577\n",
      "Politik          0.011713\n",
      "Ukraine-Krise    0.018494\n",
      "Wirtschaft       0.016850\n",
      "Name: frequent_category, dtype: float64\n"
     ]
    }
   ],
   "source": [
    "print(train.groupby('frequent_category')['frequent_category'].count() / len(train))"
   ]
  },
  {
   "cell_type": "code",
   "execution_count": 8,
   "id": "8db6e38f",
   "metadata": {},
   "outputs": [
    {
     "name": "stdout",
     "output_type": "stream",
     "text": [
      "frequent_category\n",
      "Ausland          0.055369\n",
      "Deutschland      0.054771\n",
      "Missing          0.373758\n",
      "News             0.060001\n",
      "Other            0.410670\n",
      "Politik          0.013151\n",
      "Ukraine-Krise    0.016962\n",
      "Wirtschaft       0.015318\n",
      "Name: frequent_category, dtype: float64\n"
     ]
    }
   ],
   "source": [
    "print(test.groupby('frequent_category')['frequent_category'].count() / len(test))"
   ]
  },
  {
   "cell_type": "markdown",
   "id": "e1396953",
   "metadata": {},
   "source": [
    "We have many observations which are not labeled. We can't use them for training the classification model but we can use them as 'real' input for predicting category labels."
   ]
  },
  {
   "cell_type": "code",
   "execution_count": 9,
   "id": "9607632d",
   "metadata": {},
   "outputs": [
    {
     "data": {
      "text/html": [
       "<div>\n",
       "<style scoped>\n",
       "    .dataframe tbody tr th:only-of-type {\n",
       "        vertical-align: middle;\n",
       "    }\n",
       "\n",
       "    .dataframe tbody tr th {\n",
       "        vertical-align: top;\n",
       "    }\n",
       "\n",
       "    .dataframe thead th {\n",
       "        text-align: right;\n",
       "    }\n",
       "</style>\n",
       "<table border=\"1\" class=\"dataframe\">\n",
       "  <thead>\n",
       "    <tr style=\"text-align: right;\">\n",
       "      <th></th>\n",
       "      <th>date</th>\n",
       "      <th>title</th>\n",
       "      <th>description</th>\n",
       "      <th>category</th>\n",
       "      <th>text</th>\n",
       "      <th>source</th>\n",
       "      <th>frequent_category</th>\n",
       "    </tr>\n",
       "  </thead>\n",
       "  <tbody>\n",
       "    <tr>\n",
       "      <th>0</th>\n",
       "      <td>2023-06-29 11:57:00</td>\n",
       "      <td>Cyberbetrug in Philippinen: Großrazzia gegen M...</td>\n",
       "      <td>In den Philippinen wurden 2.724 Personen festg...</td>\n",
       "      <td>Missing</td>\n",
       "      <td>NaN</td>\n",
       "      <td>taz</td>\n",
       "      <td>Missing</td>\n",
       "    </tr>\n",
       "    <tr>\n",
       "      <th>3</th>\n",
       "      <td>2022-07-16 07:17:44</td>\n",
       "      <td>Leichtathletik-WM: Ein Auftakt mit Licht und S...</td>\n",
       "      <td>Stabhochspringerin Jacqueline Otchere jubelte,...</td>\n",
       "      <td>Missing</td>\n",
       "      <td>NaN</td>\n",
       "      <td>Tagesschau</td>\n",
       "      <td>Missing</td>\n",
       "    </tr>\n",
       "    <tr>\n",
       "      <th>4</th>\n",
       "      <td>2022-10-11 18:49:00</td>\n",
       "      <td>Geflüchtete in Deutschland: Nicht alle gleich ...</td>\n",
       "      <td>Die Innenministerin spricht sich für Solidarit...</td>\n",
       "      <td>Missing</td>\n",
       "      <td>NaN</td>\n",
       "      <td>taz</td>\n",
       "      <td>Missing</td>\n",
       "    </tr>\n",
       "    <tr>\n",
       "      <th>10</th>\n",
       "      <td>2022-06-03 08:55:08</td>\n",
       "      <td>Gebrauchtwagen im Handel fast ein Drittel teurer</td>\n",
       "      <td>Lieferengpässe und Materialmangel in der Autob...</td>\n",
       "      <td>Missing</td>\n",
       "      <td>NaN</td>\n",
       "      <td>Tagesschau</td>\n",
       "      <td>Missing</td>\n",
       "    </tr>\n",
       "    <tr>\n",
       "      <th>11</th>\n",
       "      <td>2022-07-08 18:48:00</td>\n",
       "      <td>Großbritanniens Noch-Premier Johnson: Lahme En...</td>\n",
       "      <td>Boris Johnson nahm es mit Fakten nie so genau ...</td>\n",
       "      <td>Missing</td>\n",
       "      <td>NaN</td>\n",
       "      <td>taz</td>\n",
       "      <td>Missing</td>\n",
       "    </tr>\n",
       "  </tbody>\n",
       "</table>\n",
       "</div>"
      ],
      "text/plain": [
       "                   date                                              title  \\\n",
       "0   2023-06-29 11:57:00  Cyberbetrug in Philippinen: Großrazzia gegen M...   \n",
       "3   2022-07-16 07:17:44  Leichtathletik-WM: Ein Auftakt mit Licht und S...   \n",
       "4   2022-10-11 18:49:00  Geflüchtete in Deutschland: Nicht alle gleich ...   \n",
       "10  2022-06-03 08:55:08   Gebrauchtwagen im Handel fast ein Drittel teurer   \n",
       "11  2022-07-08 18:48:00  Großbritanniens Noch-Premier Johnson: Lahme En...   \n",
       "\n",
       "                                          description category  text  \\\n",
       "0   In den Philippinen wurden 2.724 Personen festg...  Missing   NaN   \n",
       "3   Stabhochspringerin Jacqueline Otchere jubelte,...  Missing   NaN   \n",
       "4   Die Innenministerin spricht sich für Solidarit...  Missing   NaN   \n",
       "10  Lieferengpässe und Materialmangel in der Autob...  Missing   NaN   \n",
       "11  Boris Johnson nahm es mit Fakten nie so genau ...  Missing   NaN   \n",
       "\n",
       "        source frequent_category  \n",
       "0          taz           Missing  \n",
       "3   Tagesschau           Missing  \n",
       "4          taz           Missing  \n",
       "10  Tagesschau           Missing  \n",
       "11         taz           Missing  "
      ]
     },
     "execution_count": 9,
     "metadata": {},
     "output_type": "execute_result"
    }
   ],
   "source": [
    "unlabeled = pd.concat([train[train['frequent_category'] == 'Missing'], test[test['frequent_category'] == 'Missing']])\n",
    "unlabeled.head()"
   ]
  },
  {
   "cell_type": "code",
   "execution_count": 10,
   "id": "2a1a720b",
   "metadata": {},
   "outputs": [
    {
     "name": "stdout",
     "output_type": "stream",
     "text": [
      "frequent_category\n",
      "Missing    1.0\n",
      "Name: frequent_category, dtype: float64\n"
     ]
    }
   ],
   "source": [
    "print(unlabeled.groupby('frequent_category')['frequent_category'].count() / len(unlabeled))"
   ]
  },
  {
   "cell_type": "code",
   "execution_count": 11,
   "id": "27627812",
   "metadata": {},
   "outputs": [],
   "source": [
    "train = train[train['frequent_category'] != 'Missing']"
   ]
  },
  {
   "cell_type": "code",
   "execution_count": 12,
   "id": "295668c8",
   "metadata": {},
   "outputs": [
    {
     "name": "stdout",
     "output_type": "stream",
     "text": [
      "frequent_category\n",
      "Ausland          0.089461\n",
      "Deutschland      0.078153\n",
      "News             0.096596\n",
      "Other            0.659632\n",
      "Politik          0.018956\n",
      "Ukraine-Krise    0.029931\n",
      "Wirtschaft       0.027271\n",
      "Name: frequent_category, dtype: float64\n"
     ]
    }
   ],
   "source": [
    "print(train.groupby('frequent_category')['frequent_category'].count() / len(train))"
   ]
  },
  {
   "cell_type": "code",
   "execution_count": 13,
   "id": "23f90612",
   "metadata": {},
   "outputs": [],
   "source": [
    "test = test[test['frequent_category'] != 'Missing']"
   ]
  },
  {
   "cell_type": "code",
   "execution_count": 14,
   "id": "76183619",
   "metadata": {},
   "outputs": [
    {
     "name": "stdout",
     "output_type": "stream",
     "text": [
      "frequent_category\n",
      "Ausland          0.088414\n",
      "Deutschland      0.087460\n",
      "News             0.095812\n",
      "Other            0.655769\n",
      "Politik          0.021000\n",
      "Ukraine-Krise    0.027085\n",
      "Wirtschaft       0.024460\n",
      "Name: frequent_category, dtype: float64\n"
     ]
    }
   ],
   "source": [
    "print(test.groupby('frequent_category')['frequent_category'].count() / len(test))"
   ]
  },
  {
   "cell_type": "markdown",
   "id": "d3c28f43",
   "metadata": {},
   "source": [
    "## Create input and output for classification"
   ]
  },
  {
   "cell_type": "code",
   "execution_count": 15,
   "id": "41b5d640",
   "metadata": {},
   "outputs": [],
   "source": [
    "X_train = train['title']\n",
    "y_train = train['frequent_category']"
   ]
  },
  {
   "cell_type": "code",
   "execution_count": 16,
   "id": "b0bf9a88",
   "metadata": {},
   "outputs": [
    {
     "name": "stdout",
     "output_type": "stream",
     "text": [
      "1               GPT: Eine Software, die die Welt verändert\n",
      "2        Fußball: Hollerbach schießt Wehen Wiesbaden mi...\n",
      "5        Pariser Terrorprozess: Staatsanwaltschaft ford...\n",
      "6        „Frust ist gewaltig“ - US-Medien zerlegen Deut...\n",
      "7               USA und London kündigen neue Sanktionen an\n",
      "                               ...                        \n",
      "53525                  Roger Federer, der König der Herzen\n",
      "53526    Kriminalität: Museum verschiebt nach Golddiebs...\n",
      "53528    1,3 Milliarden Menschen, eine Milliarde Überwa...\n",
      "53529    Europäische Union: EVP-Chef: \"Europa de facto ...\n",
      "53530                Obama über Beliebtheit in der Familie\n",
      "Name: title, Length: 33076, dtype: object\n",
      "1                Other\n",
      "2                 News\n",
      "5              Ausland\n",
      "6        Ukraine-Krise\n",
      "7                Other\n",
      "             ...      \n",
      "53525            Other\n",
      "53526             News\n",
      "53528            Other\n",
      "53529            Other\n",
      "53530            Other\n",
      "Name: frequent_category, Length: 33076, dtype: object\n"
     ]
    }
   ],
   "source": [
    "print(X_train)\n",
    "print(y_train)"
   ]
  },
  {
   "cell_type": "code",
   "execution_count": 17,
   "id": "6ab1fb88",
   "metadata": {},
   "outputs": [],
   "source": [
    "X_test = test['title']\n",
    "y_test = test['frequent_category']"
   ]
  },
  {
   "cell_type": "code",
   "execution_count": 18,
   "id": "839a82f0",
   "metadata": {},
   "outputs": [
    {
     "name": "stdout",
     "output_type": "stream",
     "text": [
      "3        Nahe kanadischer Grenze - Schon wieder! USA sc...\n",
      "4        China: Geschichte verdeht: Mao wollte Taiwan a...\n",
      "8             Klimakrise: Keine Zeit mehr zum Ausprobieren\n",
      "10                     Das Rätsel vom purpurfarbenen Teich\n",
      "11                      DFB stellt Weichen für die Zukunft\n",
      "                               ...                        \n",
      "13374    USA: Biden wirbt für Corona-Impfung für Unter-...\n",
      "13377    Kommentar von Ulrich Reitz - Keinen „Fuchs“ fü...\n",
      "13378    Jan Böhmermann und das „Ibiza-Video“ – Raunen ...\n",
      "13379    „Kann mein ganzes Agieren nicht nach fünf Proz...\n",
      "13381               \"Krieg hätte verhindert werden können\"\n",
      "Name: title, Length: 8381, dtype: object\n",
      "3            Ausland\n",
      "4              Other\n",
      "8              Other\n",
      "10             Other\n",
      "11             Other\n",
      "            ...     \n",
      "13374          Other\n",
      "13377    Deutschland\n",
      "13378    Deutschland\n",
      "13379    Deutschland\n",
      "13381          Other\n",
      "Name: frequent_category, Length: 8381, dtype: object\n"
     ]
    }
   ],
   "source": [
    "print(X_test)\n",
    "print(y_test)"
   ]
  },
  {
   "cell_type": "code",
   "execution_count": 19,
   "id": "a4cf3052",
   "metadata": {},
   "outputs": [],
   "source": [
    "X_unlabeled = unlabeled['title']"
   ]
  },
  {
   "cell_type": "code",
   "execution_count": 20,
   "id": "fa610b8a",
   "metadata": {},
   "outputs": [
    {
     "name": "stdout",
     "output_type": "stream",
     "text": [
      "0        Cyberbetrug in Philippinen: Großrazzia gegen M...\n",
      "3        Leichtathletik-WM: Ein Auftakt mit Licht und S...\n",
      "4        Geflüchtete in Deutschland: Nicht alle gleich ...\n",
      "10        Gebrauchtwagen im Handel fast ein Drittel teurer\n",
      "11       Großbritanniens Noch-Premier Johnson: Lahme En...\n",
      "                               ...                        \n",
      "13371    Mindestens fünf Tote durch Hurrikan in der Kar...\n",
      "13375    Sozialarbeiter über Wohnungslosigkeit: „Es geh...\n",
      "13376    G7-Gipfel in Elmau endet - Weiterreise zum NAT...\n",
      "13380    Klimabewegung und Grüne: Lützerath als Zerreiß...\n",
      "13382    EZB-Entscheid: Welcher Leitzins für Sparer wic...\n",
      "Name: title, Length: 25457, dtype: object\n"
     ]
    }
   ],
   "source": [
    "print(X_unlabeled)"
   ]
  },
  {
   "cell_type": "markdown",
   "id": "3f280639",
   "metadata": {},
   "source": [
    "### Perform featured extraction out of X_train text data\n",
    "(extract terms and term frequency)"
   ]
  },
  {
   "cell_type": "code",
   "execution_count": 21,
   "id": "dccec599",
   "metadata": {},
   "outputs": [],
   "source": [
    "vectorizer = TfidfVectorizer()\n",
    "X_train_tfidf = vectorizer.fit_transform(X_train)"
   ]
  },
  {
   "cell_type": "code",
   "execution_count": 22,
   "id": "09889324",
   "metadata": {},
   "outputs": [
    {
     "name": "stdout",
     "output_type": "stream",
     "text": [
      "(33076, 35376)\n"
     ]
    }
   ],
   "source": [
    "print(X_train_tfidf.shape)  #(title entries, different words over all titles)"
   ]
  },
  {
   "cell_type": "markdown",
   "id": "e0783f4a",
   "metadata": {},
   "source": [
    "## Train a Logistic Regression Classifier for prediction of the category label"
   ]
  },
  {
   "cell_type": "code",
   "execution_count": 23,
   "id": "c21ade20",
   "metadata": {},
   "outputs": [
    {
     "name": "stderr",
     "output_type": "stream",
     "text": [
      "C:\\Users\\manuela.rink\\anaconda3\\envs\\nlp\\Lib\\site-packages\\sklearn\\linear_model\\_logistic.py:458: ConvergenceWarning: lbfgs failed to converge (status=1):\n",
      "STOP: TOTAL NO. of ITERATIONS REACHED LIMIT.\n",
      "\n",
      "Increase the number of iterations (max_iter) or scale the data as shown in:\n",
      "    https://scikit-learn.org/stable/modules/preprocessing.html\n",
      "Please also refer to the documentation for alternative solver options:\n",
      "    https://scikit-learn.org/stable/modules/linear_model.html#logistic-regression\n",
      "  n_iter_i = _check_optimize_result(\n"
     ]
    },
    {
     "data": {
      "text/html": [
       "<style>#sk-container-id-1 {color: black;background-color: white;}#sk-container-id-1 pre{padding: 0;}#sk-container-id-1 div.sk-toggleable {background-color: white;}#sk-container-id-1 label.sk-toggleable__label {cursor: pointer;display: block;width: 100%;margin-bottom: 0;padding: 0.3em;box-sizing: border-box;text-align: center;}#sk-container-id-1 label.sk-toggleable__label-arrow:before {content: \"▸\";float: left;margin-right: 0.25em;color: #696969;}#sk-container-id-1 label.sk-toggleable__label-arrow:hover:before {color: black;}#sk-container-id-1 div.sk-estimator:hover label.sk-toggleable__label-arrow:before {color: black;}#sk-container-id-1 div.sk-toggleable__content {max-height: 0;max-width: 0;overflow: hidden;text-align: left;background-color: #f0f8ff;}#sk-container-id-1 div.sk-toggleable__content pre {margin: 0.2em;color: black;border-radius: 0.25em;background-color: #f0f8ff;}#sk-container-id-1 input.sk-toggleable__control:checked~div.sk-toggleable__content {max-height: 200px;max-width: 100%;overflow: auto;}#sk-container-id-1 input.sk-toggleable__control:checked~label.sk-toggleable__label-arrow:before {content: \"▾\";}#sk-container-id-1 div.sk-estimator input.sk-toggleable__control:checked~label.sk-toggleable__label {background-color: #d4ebff;}#sk-container-id-1 div.sk-label input.sk-toggleable__control:checked~label.sk-toggleable__label {background-color: #d4ebff;}#sk-container-id-1 input.sk-hidden--visually {border: 0;clip: rect(1px 1px 1px 1px);clip: rect(1px, 1px, 1px, 1px);height: 1px;margin: -1px;overflow: hidden;padding: 0;position: absolute;width: 1px;}#sk-container-id-1 div.sk-estimator {font-family: monospace;background-color: #f0f8ff;border: 1px dotted black;border-radius: 0.25em;box-sizing: border-box;margin-bottom: 0.5em;}#sk-container-id-1 div.sk-estimator:hover {background-color: #d4ebff;}#sk-container-id-1 div.sk-parallel-item::after {content: \"\";width: 100%;border-bottom: 1px solid gray;flex-grow: 1;}#sk-container-id-1 div.sk-label:hover label.sk-toggleable__label {background-color: #d4ebff;}#sk-container-id-1 div.sk-serial::before {content: \"\";position: absolute;border-left: 1px solid gray;box-sizing: border-box;top: 0;bottom: 0;left: 50%;z-index: 0;}#sk-container-id-1 div.sk-serial {display: flex;flex-direction: column;align-items: center;background-color: white;padding-right: 0.2em;padding-left: 0.2em;position: relative;}#sk-container-id-1 div.sk-item {position: relative;z-index: 1;}#sk-container-id-1 div.sk-parallel {display: flex;align-items: stretch;justify-content: center;background-color: white;position: relative;}#sk-container-id-1 div.sk-item::before, #sk-container-id-1 div.sk-parallel-item::before {content: \"\";position: absolute;border-left: 1px solid gray;box-sizing: border-box;top: 0;bottom: 0;left: 50%;z-index: -1;}#sk-container-id-1 div.sk-parallel-item {display: flex;flex-direction: column;z-index: 1;position: relative;background-color: white;}#sk-container-id-1 div.sk-parallel-item:first-child::after {align-self: flex-end;width: 50%;}#sk-container-id-1 div.sk-parallel-item:last-child::after {align-self: flex-start;width: 50%;}#sk-container-id-1 div.sk-parallel-item:only-child::after {width: 0;}#sk-container-id-1 div.sk-dashed-wrapped {border: 1px dashed gray;margin: 0 0.4em 0.5em 0.4em;box-sizing: border-box;padding-bottom: 0.4em;background-color: white;}#sk-container-id-1 div.sk-label label {font-family: monospace;font-weight: bold;display: inline-block;line-height: 1.2em;}#sk-container-id-1 div.sk-label-container {text-align: center;}#sk-container-id-1 div.sk-container {/* jupyter's `normalize.less` sets `[hidden] { display: none; }` but bootstrap.min.css set `[hidden] { display: none !important; }` so we also need the `!important` here to be able to override the default hidden behavior on the sphinx rendered scikit-learn.org. See: https://github.com/scikit-learn/scikit-learn/issues/21755 */display: inline-block !important;position: relative;}#sk-container-id-1 div.sk-text-repr-fallback {display: none;}</style><div id=\"sk-container-id-1\" class=\"sk-top-container\"><div class=\"sk-text-repr-fallback\"><pre>LogisticRegression()</pre><b>In a Jupyter environment, please rerun this cell to show the HTML representation or trust the notebook. <br />On GitHub, the HTML representation is unable to render, please try loading this page with nbviewer.org.</b></div><div class=\"sk-container\" hidden><div class=\"sk-item\"><div class=\"sk-estimator sk-toggleable\"><input class=\"sk-toggleable__control sk-hidden--visually\" id=\"sk-estimator-id-1\" type=\"checkbox\" checked><label for=\"sk-estimator-id-1\" class=\"sk-toggleable__label sk-toggleable__label-arrow\">LogisticRegression</label><div class=\"sk-toggleable__content\"><pre>LogisticRegression()</pre></div></div></div></div></div>"
      ],
      "text/plain": [
       "LogisticRegression()"
      ]
     },
     "execution_count": 23,
     "metadata": {},
     "output_type": "execute_result"
    }
   ],
   "source": [
    "clf = LogisticRegression()\n",
    "clf.fit(X_train_tfidf, y_train)"
   ]
  },
  {
   "cell_type": "markdown",
   "id": "88dcf599",
   "metadata": {},
   "source": [
    "### Create Pipeline"
   ]
  },
  {
   "cell_type": "code",
   "execution_count": 24,
   "id": "9f8c9142",
   "metadata": {},
   "outputs": [
    {
     "name": "stderr",
     "output_type": "stream",
     "text": [
      "C:\\Users\\manuela.rink\\anaconda3\\envs\\nlp\\Lib\\site-packages\\sklearn\\linear_model\\_logistic.py:458: ConvergenceWarning: lbfgs failed to converge (status=1):\n",
      "STOP: TOTAL NO. of ITERATIONS REACHED LIMIT.\n",
      "\n",
      "Increase the number of iterations (max_iter) or scale the data as shown in:\n",
      "    https://scikit-learn.org/stable/modules/preprocessing.html\n",
      "Please also refer to the documentation for alternative solver options:\n",
      "    https://scikit-learn.org/stable/modules/linear_model.html#logistic-regression\n",
      "  n_iter_i = _check_optimize_result(\n"
     ]
    },
    {
     "data": {
      "text/html": [
       "<style>#sk-container-id-2 {color: black;background-color: white;}#sk-container-id-2 pre{padding: 0;}#sk-container-id-2 div.sk-toggleable {background-color: white;}#sk-container-id-2 label.sk-toggleable__label {cursor: pointer;display: block;width: 100%;margin-bottom: 0;padding: 0.3em;box-sizing: border-box;text-align: center;}#sk-container-id-2 label.sk-toggleable__label-arrow:before {content: \"▸\";float: left;margin-right: 0.25em;color: #696969;}#sk-container-id-2 label.sk-toggleable__label-arrow:hover:before {color: black;}#sk-container-id-2 div.sk-estimator:hover label.sk-toggleable__label-arrow:before {color: black;}#sk-container-id-2 div.sk-toggleable__content {max-height: 0;max-width: 0;overflow: hidden;text-align: left;background-color: #f0f8ff;}#sk-container-id-2 div.sk-toggleable__content pre {margin: 0.2em;color: black;border-radius: 0.25em;background-color: #f0f8ff;}#sk-container-id-2 input.sk-toggleable__control:checked~div.sk-toggleable__content {max-height: 200px;max-width: 100%;overflow: auto;}#sk-container-id-2 input.sk-toggleable__control:checked~label.sk-toggleable__label-arrow:before {content: \"▾\";}#sk-container-id-2 div.sk-estimator input.sk-toggleable__control:checked~label.sk-toggleable__label {background-color: #d4ebff;}#sk-container-id-2 div.sk-label input.sk-toggleable__control:checked~label.sk-toggleable__label {background-color: #d4ebff;}#sk-container-id-2 input.sk-hidden--visually {border: 0;clip: rect(1px 1px 1px 1px);clip: rect(1px, 1px, 1px, 1px);height: 1px;margin: -1px;overflow: hidden;padding: 0;position: absolute;width: 1px;}#sk-container-id-2 div.sk-estimator {font-family: monospace;background-color: #f0f8ff;border: 1px dotted black;border-radius: 0.25em;box-sizing: border-box;margin-bottom: 0.5em;}#sk-container-id-2 div.sk-estimator:hover {background-color: #d4ebff;}#sk-container-id-2 div.sk-parallel-item::after {content: \"\";width: 100%;border-bottom: 1px solid gray;flex-grow: 1;}#sk-container-id-2 div.sk-label:hover label.sk-toggleable__label {background-color: #d4ebff;}#sk-container-id-2 div.sk-serial::before {content: \"\";position: absolute;border-left: 1px solid gray;box-sizing: border-box;top: 0;bottom: 0;left: 50%;z-index: 0;}#sk-container-id-2 div.sk-serial {display: flex;flex-direction: column;align-items: center;background-color: white;padding-right: 0.2em;padding-left: 0.2em;position: relative;}#sk-container-id-2 div.sk-item {position: relative;z-index: 1;}#sk-container-id-2 div.sk-parallel {display: flex;align-items: stretch;justify-content: center;background-color: white;position: relative;}#sk-container-id-2 div.sk-item::before, #sk-container-id-2 div.sk-parallel-item::before {content: \"\";position: absolute;border-left: 1px solid gray;box-sizing: border-box;top: 0;bottom: 0;left: 50%;z-index: -1;}#sk-container-id-2 div.sk-parallel-item {display: flex;flex-direction: column;z-index: 1;position: relative;background-color: white;}#sk-container-id-2 div.sk-parallel-item:first-child::after {align-self: flex-end;width: 50%;}#sk-container-id-2 div.sk-parallel-item:last-child::after {align-self: flex-start;width: 50%;}#sk-container-id-2 div.sk-parallel-item:only-child::after {width: 0;}#sk-container-id-2 div.sk-dashed-wrapped {border: 1px dashed gray;margin: 0 0.4em 0.5em 0.4em;box-sizing: border-box;padding-bottom: 0.4em;background-color: white;}#sk-container-id-2 div.sk-label label {font-family: monospace;font-weight: bold;display: inline-block;line-height: 1.2em;}#sk-container-id-2 div.sk-label-container {text-align: center;}#sk-container-id-2 div.sk-container {/* jupyter's `normalize.less` sets `[hidden] { display: none; }` but bootstrap.min.css set `[hidden] { display: none !important; }` so we also need the `!important` here to be able to override the default hidden behavior on the sphinx rendered scikit-learn.org. See: https://github.com/scikit-learn/scikit-learn/issues/21755 */display: inline-block !important;position: relative;}#sk-container-id-2 div.sk-text-repr-fallback {display: none;}</style><div id=\"sk-container-id-2\" class=\"sk-top-container\"><div class=\"sk-text-repr-fallback\"><pre>Pipeline(steps=[(&#x27;tfidf&#x27;, TfidfVectorizer()), (&#x27;clf&#x27;, LogisticRegression())])</pre><b>In a Jupyter environment, please rerun this cell to show the HTML representation or trust the notebook. <br />On GitHub, the HTML representation is unable to render, please try loading this page with nbviewer.org.</b></div><div class=\"sk-container\" hidden><div class=\"sk-item sk-dashed-wrapped\"><div class=\"sk-label-container\"><div class=\"sk-label sk-toggleable\"><input class=\"sk-toggleable__control sk-hidden--visually\" id=\"sk-estimator-id-2\" type=\"checkbox\" ><label for=\"sk-estimator-id-2\" class=\"sk-toggleable__label sk-toggleable__label-arrow\">Pipeline</label><div class=\"sk-toggleable__content\"><pre>Pipeline(steps=[(&#x27;tfidf&#x27;, TfidfVectorizer()), (&#x27;clf&#x27;, LogisticRegression())])</pre></div></div></div><div class=\"sk-serial\"><div class=\"sk-item\"><div class=\"sk-estimator sk-toggleable\"><input class=\"sk-toggleable__control sk-hidden--visually\" id=\"sk-estimator-id-3\" type=\"checkbox\" ><label for=\"sk-estimator-id-3\" class=\"sk-toggleable__label sk-toggleable__label-arrow\">TfidfVectorizer</label><div class=\"sk-toggleable__content\"><pre>TfidfVectorizer()</pre></div></div></div><div class=\"sk-item\"><div class=\"sk-estimator sk-toggleable\"><input class=\"sk-toggleable__control sk-hidden--visually\" id=\"sk-estimator-id-4\" type=\"checkbox\" ><label for=\"sk-estimator-id-4\" class=\"sk-toggleable__label sk-toggleable__label-arrow\">LogisticRegression</label><div class=\"sk-toggleable__content\"><pre>LogisticRegression()</pre></div></div></div></div></div></div></div>"
      ],
      "text/plain": [
       "Pipeline(steps=[('tfidf', TfidfVectorizer()), ('clf', LogisticRegression())])"
      ]
     },
     "execution_count": 24,
     "metadata": {},
     "output_type": "execute_result"
    }
   ],
   "source": [
    "text_clf = Pipeline([('tfidf', TfidfVectorizer()), \n",
    "                     ('clf', LogisticRegression())])\n",
    "text_clf.fit(X_train, y_train)"
   ]
  },
  {
   "cell_type": "markdown",
   "id": "6b04946d",
   "metadata": {},
   "source": [
    "## Predict category label for test set"
   ]
  },
  {
   "cell_type": "code",
   "execution_count": 25,
   "id": "d1b6d308",
   "metadata": {},
   "outputs": [],
   "source": [
    "predictions = text_clf.predict(X_test)"
   ]
  },
  {
   "cell_type": "code",
   "execution_count": 26,
   "id": "1021a1b6",
   "metadata": {},
   "outputs": [
    {
     "name": "stdout",
     "output_type": "stream",
     "text": [
      "[[ 216    6    2  504    0   13    0]\n",
      " [   3   99    6  622    0    1    2]\n",
      " [   2    0  289  512    0    0    0]\n",
      " [  54   61   49 5303    0   18   11]\n",
      " [   6   18    0  138   11    3    0]\n",
      " [  10    0    0  168    0   49    0]\n",
      " [   0    6    0  197    0    0    2]]\n"
     ]
    }
   ],
   "source": [
    "print(metrics.confusion_matrix(y_test, predictions))"
   ]
  },
  {
   "cell_type": "code",
   "execution_count": 27,
   "id": "e99cc271",
   "metadata": {},
   "outputs": [
    {
     "name": "stdout",
     "output_type": "stream",
     "text": [
      "               precision    recall  f1-score   support\n",
      "\n",
      "      Ausland       0.74      0.29      0.42       741\n",
      "  Deutschland       0.52      0.14      0.21       733\n",
      "         News       0.84      0.36      0.50       803\n",
      "        Other       0.71      0.96      0.82      5496\n",
      "      Politik       1.00      0.06      0.12       176\n",
      "Ukraine-Krise       0.58      0.22      0.32       227\n",
      "   Wirtschaft       0.13      0.01      0.02       205\n",
      "\n",
      "     accuracy                           0.71      8381\n",
      "    macro avg       0.65      0.29      0.34      8381\n",
      " weighted avg       0.70      0.71      0.65      8381\n",
      "\n"
     ]
    }
   ],
   "source": [
    "print(metrics.classification_report(y_test, predictions))"
   ]
  },
  {
   "cell_type": "code",
   "execution_count": 28,
   "id": "99e0284c",
   "metadata": {},
   "outputs": [
    {
     "name": "stdout",
     "output_type": "stream",
     "text": [
      "0.7122061806467008\n"
     ]
    }
   ],
   "source": [
    "print(metrics.accuracy_score(y_test, predictions))"
   ]
  },
  {
   "cell_type": "code",
   "execution_count": 29,
   "id": "3b1c30bd",
   "metadata": {},
   "outputs": [
    {
     "name": "stdout",
     "output_type": "stream",
     "text": [
      "['Other' 'Other' 'Other' ... 'Other' 'Other' 'Other']\n",
      "(8381,)\n"
     ]
    }
   ],
   "source": [
    "print(predictions)\n",
    "print(predictions.shape)"
   ]
  },
  {
   "cell_type": "code",
   "execution_count": 30,
   "id": "103eb2ce",
   "metadata": {},
   "outputs": [],
   "source": [
    "test['predicted_category'] = predictions"
   ]
  },
  {
   "cell_type": "code",
   "execution_count": 31,
   "id": "10951644",
   "metadata": {},
   "outputs": [
    {
     "data": {
      "text/html": [
       "<div>\n",
       "<style scoped>\n",
       "    .dataframe tbody tr th:only-of-type {\n",
       "        vertical-align: middle;\n",
       "    }\n",
       "\n",
       "    .dataframe tbody tr th {\n",
       "        vertical-align: top;\n",
       "    }\n",
       "\n",
       "    .dataframe thead th {\n",
       "        text-align: right;\n",
       "    }\n",
       "</style>\n",
       "<table border=\"1\" class=\"dataframe\">\n",
       "  <thead>\n",
       "    <tr style=\"text-align: right;\">\n",
       "      <th></th>\n",
       "      <th>date</th>\n",
       "      <th>title</th>\n",
       "      <th>description</th>\n",
       "      <th>category</th>\n",
       "      <th>text</th>\n",
       "      <th>source</th>\n",
       "      <th>frequent_category</th>\n",
       "      <th>predicted_category</th>\n",
       "    </tr>\n",
       "  </thead>\n",
       "  <tbody>\n",
       "    <tr>\n",
       "      <th>3</th>\n",
       "      <td>2023-02-12 22:14:58</td>\n",
       "      <td>Nahe kanadischer Grenze - Schon wieder! USA sc...</td>\n",
       "      <td>Medienberichten zufolge haben die USA erneut e...</td>\n",
       "      <td>Ausland</td>\n",
       "      <td>NaN</td>\n",
       "      <td>Focus</td>\n",
       "      <td>Ausland</td>\n",
       "      <td>Other</td>\n",
       "    </tr>\n",
       "    <tr>\n",
       "      <th>4</th>\n",
       "      <td>2022-08-26 11:50:37</td>\n",
       "      <td>China: Geschichte verdeht: Mao wollte Taiwan a...</td>\n",
       "      <td>Chinas Kommunistische Partei bedroht Taiwan mi...</td>\n",
       "      <td>China, Taiwan, Kommunistische Partei, Peking, ...</td>\n",
       "      <td>NaN</td>\n",
       "      <td>stern</td>\n",
       "      <td>Other</td>\n",
       "      <td>Other</td>\n",
       "    </tr>\n",
       "    <tr>\n",
       "      <th>8</th>\n",
       "      <td>2022-07-28 16:32:00</td>\n",
       "      <td>Klimakrise: Keine Zeit mehr zum Ausprobieren</td>\n",
       "      <td>Die Klimafolgen werden zunehmend drastischer. ...</td>\n",
       "      <td>Erdüberlastungstag</td>\n",
       "      <td>NaN</td>\n",
       "      <td>ZDF heute</td>\n",
       "      <td>Other</td>\n",
       "      <td>Other</td>\n",
       "    </tr>\n",
       "    <tr>\n",
       "      <th>10</th>\n",
       "      <td>2023-01-12 04:55:23</td>\n",
       "      <td>Das Rätsel vom purpurfarbenen Teich</td>\n",
       "      <td>Ob das auch der Klimawandel war? Wohl kaum. Ei...</td>\n",
       "      <td>Wissenschaft</td>\n",
       "      <td>NaN</td>\n",
       "      <td>Welt</td>\n",
       "      <td>Other</td>\n",
       "      <td>Other</td>\n",
       "    </tr>\n",
       "    <tr>\n",
       "      <th>11</th>\n",
       "      <td>2023-08-22 05:30:00</td>\n",
       "      <td>DFB stellt Weichen für die Zukunft</td>\n",
       "      <td>Ex-Bundesligatrainer Hannes Wolf wurde beim De...</td>\n",
       "      <td>Nachrichten | ZDF-Morgenmagazin</td>\n",
       "      <td>NaN</td>\n",
       "      <td>ZDF heute</td>\n",
       "      <td>Other</td>\n",
       "      <td>Other</td>\n",
       "    </tr>\n",
       "    <tr>\n",
       "      <th>12</th>\n",
       "      <td>2022-11-15 09:46:33</td>\n",
       "      <td>Ukraine-Krieg - Stimmen und Entwicklungen - „D...</td>\n",
       "      <td>Für einen Militärökonomen aus Zürich ist der K...</td>\n",
       "      <td>Ausland</td>\n",
       "      <td>NaN</td>\n",
       "      <td>Focus</td>\n",
       "      <td>Ausland</td>\n",
       "      <td>Ausland</td>\n",
       "    </tr>\n",
       "    <tr>\n",
       "      <th>13</th>\n",
       "      <td>2023-04-13 15:57:00</td>\n",
       "      <td>Tennessee: Posse um ausgeschlossene Abgeordnet...</td>\n",
       "      <td>In Tennessee sind zwei Abgeordnete wieder ins ...</td>\n",
       "      <td>USA, Tennessee, Republikaner, Parlamentskammer...</td>\n",
       "      <td>NaN</td>\n",
       "      <td>stern</td>\n",
       "      <td>Other</td>\n",
       "      <td>Other</td>\n",
       "    </tr>\n",
       "    <tr>\n",
       "      <th>14</th>\n",
       "      <td>2022-07-30 17:06:00</td>\n",
       "      <td>Bayreuth: Die ewigen Spielregeln</td>\n",
       "      <td>Auf dem Hügel gelten klare Regeln - hier werde...</td>\n",
       "      <td>Kultur</td>\n",
       "      <td>NaN</td>\n",
       "      <td>Welt</td>\n",
       "      <td>Other</td>\n",
       "      <td>Other</td>\n",
       "    </tr>\n",
       "    <tr>\n",
       "      <th>15</th>\n",
       "      <td>2023-02-18 17:25:00</td>\n",
       "      <td>FC Bayern verliert in Unterzahl in Gladbach</td>\n",
       "      <td>Dem FC Bayern droht der Verlust der Tabellenfü...</td>\n",
       "      <td>Union Berlin winkt Platz eins</td>\n",
       "      <td>NaN</td>\n",
       "      <td>ZDF heute</td>\n",
       "      <td>Other</td>\n",
       "      <td>Other</td>\n",
       "    </tr>\n",
       "    <tr>\n",
       "      <th>16</th>\n",
       "      <td>2023-01-12 15:00:00</td>\n",
       "      <td>Borna, Hildburghausen, Görlitz - was ist an Si...</td>\n",
       "      <td>Nach dem Jahreswechsel hatte SPD-Chef Klingbei...</td>\n",
       "      <td>Deutschland</td>\n",
       "      <td>NaN</td>\n",
       "      <td>Welt</td>\n",
       "      <td>Deutschland</td>\n",
       "      <td>Other</td>\n",
       "    </tr>\n",
       "    <tr>\n",
       "      <th>17</th>\n",
       "      <td>2023-09-19 06:00:00</td>\n",
       "      <td>Merz und die Brandmauer</td>\n",
       "      <td>Abgrenzung zur AfD in Sachsen? \"Wir haben null...</td>\n",
       "      <td>Update am Morgen</td>\n",
       "      <td>NaN</td>\n",
       "      <td>ZDF heute</td>\n",
       "      <td>Other</td>\n",
       "      <td>Other</td>\n",
       "    </tr>\n",
       "    <tr>\n",
       "      <th>18</th>\n",
       "      <td>2022-11-27 22:16:12</td>\n",
       "      <td>Krieg in der Ukraine - Meinung: Kein Frieden m...</td>\n",
       "      <td>Beim Krieg in der Ukraine geht es um viel mehr...</td>\n",
       "      <td>Ukraine-Krise</td>\n",
       "      <td>NaN</td>\n",
       "      <td>Focus</td>\n",
       "      <td>Ukraine-Krise</td>\n",
       "      <td>Ausland</td>\n",
       "    </tr>\n",
       "    <tr>\n",
       "      <th>19</th>\n",
       "      <td>2022-08-07 17:39:11</td>\n",
       "      <td>Altkanzler: Entscheidung im SPD-Parteiordnungs...</td>\n",
       "      <td>NaN</td>\n",
       "      <td>News</td>\n",
       "      <td>NaN</td>\n",
       "      <td>Zeit</td>\n",
       "      <td>News</td>\n",
       "      <td>Other</td>\n",
       "    </tr>\n",
       "    <tr>\n",
       "      <th>21</th>\n",
       "      <td>2022-10-14 15:10:00</td>\n",
       "      <td>Klopp über Haaland: \"Bester Stürmer der Welt\"</td>\n",
       "      <td>Jürgen Klopp schwärmt vor dem Duell des FC Liv...</td>\n",
       "      <td>Vor Topspiel gegen City</td>\n",
       "      <td>NaN</td>\n",
       "      <td>ZDF heute</td>\n",
       "      <td>Other</td>\n",
       "      <td>Other</td>\n",
       "    </tr>\n",
       "    <tr>\n",
       "      <th>22</th>\n",
       "      <td>2023-03-01 14:03:03</td>\n",
       "      <td>Regierung: Neue Proteste in Israel gegen Justi...</td>\n",
       "      <td>Die rechts-religiöse Regierung in Israel will ...</td>\n",
       "      <td>Israel, Justizreform, Tel Aviv, Polizei, Benja...</td>\n",
       "      <td>NaN</td>\n",
       "      <td>stern</td>\n",
       "      <td>Other</td>\n",
       "      <td>Other</td>\n",
       "    </tr>\n",
       "    <tr>\n",
       "      <th>24</th>\n",
       "      <td>2023-05-12 14:27:08</td>\n",
       "      <td>„Da fließen Tränen“ - Wie Hypnotiseur Bernhard...</td>\n",
       "      <td>Hypnose kann eine sehr effektive Psychotherapi...</td>\n",
       "      <td>Panorama</td>\n",
       "      <td>NaN</td>\n",
       "      <td>Focus</td>\n",
       "      <td>Other</td>\n",
       "      <td>Other</td>\n",
       "    </tr>\n",
       "    <tr>\n",
       "      <th>26</th>\n",
       "      <td>2023-03-28 10:45:31</td>\n",
       "      <td>Krieg in der Ukraine: Bundesregierung will Mil...</td>\n",
       "      <td>Zwölf Milliarden Euro sollen in weitere Waffen...</td>\n",
       "      <td>Ausland</td>\n",
       "      <td>NaN</td>\n",
       "      <td>Zeit</td>\n",
       "      <td>Ausland</td>\n",
       "      <td>Other</td>\n",
       "    </tr>\n",
       "    <tr>\n",
       "      <th>28</th>\n",
       "      <td>2022-11-04 14:29:00</td>\n",
       "      <td>So können Nähe und Verbundenheit entstehen – u...</td>\n",
       "      <td>Nach dem Tod ihres Mannes fällt es der Autorin...</td>\n",
       "      <td>Panorama</td>\n",
       "      <td>NaN</td>\n",
       "      <td>Welt</td>\n",
       "      <td>Other</td>\n",
       "      <td>Other</td>\n",
       "    </tr>\n",
       "    <tr>\n",
       "      <th>29</th>\n",
       "      <td>2023-08-20 23:30:21</td>\n",
       "      <td>US-Wahlen: Trump erteilt TV-Debatte der Republ...</td>\n",
       "      <td>Donald Trump will bei der kommenden US-Präside...</td>\n",
       "      <td>Republikaner, Fernsehdebatte, Donald Trump, US...</td>\n",
       "      <td>NaN</td>\n",
       "      <td>stern</td>\n",
       "      <td>Other</td>\n",
       "      <td>Other</td>\n",
       "    </tr>\n",
       "    <tr>\n",
       "      <th>30</th>\n",
       "      <td>2022-08-23 07:10:00</td>\n",
       "      <td>Sorge um Lieferengpässe zu Weihnachten</td>\n",
       "      <td>Der Hauptgeschäftsführer des Handelsverbands D...</td>\n",
       "      <td>Spielwaren, Geräte, Textilien</td>\n",
       "      <td>NaN</td>\n",
       "      <td>ZDF heute</td>\n",
       "      <td>Other</td>\n",
       "      <td>Other</td>\n",
       "    </tr>\n",
       "  </tbody>\n",
       "</table>\n",
       "</div>"
      ],
      "text/plain": [
       "                   date                                              title  \\\n",
       "3   2023-02-12 22:14:58  Nahe kanadischer Grenze - Schon wieder! USA sc...   \n",
       "4   2022-08-26 11:50:37  China: Geschichte verdeht: Mao wollte Taiwan a...   \n",
       "8   2022-07-28 16:32:00       Klimakrise: Keine Zeit mehr zum Ausprobieren   \n",
       "10  2023-01-12 04:55:23                Das Rätsel vom purpurfarbenen Teich   \n",
       "11  2023-08-22 05:30:00                 DFB stellt Weichen für die Zukunft   \n",
       "12  2022-11-15 09:46:33  Ukraine-Krieg - Stimmen und Entwicklungen - „D...   \n",
       "13  2023-04-13 15:57:00  Tennessee: Posse um ausgeschlossene Abgeordnet...   \n",
       "14  2022-07-30 17:06:00                   Bayreuth: Die ewigen Spielregeln   \n",
       "15  2023-02-18 17:25:00        FC Bayern verliert in Unterzahl in Gladbach   \n",
       "16  2023-01-12 15:00:00  Borna, Hildburghausen, Görlitz - was ist an Si...   \n",
       "17  2023-09-19 06:00:00                            Merz und die Brandmauer   \n",
       "18  2022-11-27 22:16:12  Krieg in der Ukraine - Meinung: Kein Frieden m...   \n",
       "19  2022-08-07 17:39:11  Altkanzler: Entscheidung im SPD-Parteiordnungs...   \n",
       "21  2022-10-14 15:10:00      Klopp über Haaland: \"Bester Stürmer der Welt\"   \n",
       "22  2023-03-01 14:03:03  Regierung: Neue Proteste in Israel gegen Justi...   \n",
       "24  2023-05-12 14:27:08  „Da fließen Tränen“ - Wie Hypnotiseur Bernhard...   \n",
       "26  2023-03-28 10:45:31  Krieg in der Ukraine: Bundesregierung will Mil...   \n",
       "28  2022-11-04 14:29:00  So können Nähe und Verbundenheit entstehen – u...   \n",
       "29  2023-08-20 23:30:21  US-Wahlen: Trump erteilt TV-Debatte der Republ...   \n",
       "30  2022-08-23 07:10:00             Sorge um Lieferengpässe zu Weihnachten   \n",
       "\n",
       "                                          description  \\\n",
       "3   Medienberichten zufolge haben die USA erneut e...   \n",
       "4   Chinas Kommunistische Partei bedroht Taiwan mi...   \n",
       "8   Die Klimafolgen werden zunehmend drastischer. ...   \n",
       "10  Ob das auch der Klimawandel war? Wohl kaum. Ei...   \n",
       "11  Ex-Bundesligatrainer Hannes Wolf wurde beim De...   \n",
       "12  Für einen Militärökonomen aus Zürich ist der K...   \n",
       "13  In Tennessee sind zwei Abgeordnete wieder ins ...   \n",
       "14  Auf dem Hügel gelten klare Regeln - hier werde...   \n",
       "15  Dem FC Bayern droht der Verlust der Tabellenfü...   \n",
       "16  Nach dem Jahreswechsel hatte SPD-Chef Klingbei...   \n",
       "17  Abgrenzung zur AfD in Sachsen? \"Wir haben null...   \n",
       "18  Beim Krieg in der Ukraine geht es um viel mehr...   \n",
       "19                                                NaN   \n",
       "21  Jürgen Klopp schwärmt vor dem Duell des FC Liv...   \n",
       "22  Die rechts-religiöse Regierung in Israel will ...   \n",
       "24  Hypnose kann eine sehr effektive Psychotherapi...   \n",
       "26  Zwölf Milliarden Euro sollen in weitere Waffen...   \n",
       "28  Nach dem Tod ihres Mannes fällt es der Autorin...   \n",
       "29  Donald Trump will bei der kommenden US-Präside...   \n",
       "30  Der Hauptgeschäftsführer des Handelsverbands D...   \n",
       "\n",
       "                                             category  text     source  \\\n",
       "3                                             Ausland   NaN      Focus   \n",
       "4   China, Taiwan, Kommunistische Partei, Peking, ...   NaN      stern   \n",
       "8                                  Erdüberlastungstag   NaN  ZDF heute   \n",
       "10                                       Wissenschaft   NaN       Welt   \n",
       "11                    Nachrichten | ZDF-Morgenmagazin   NaN  ZDF heute   \n",
       "12                                            Ausland   NaN      Focus   \n",
       "13  USA, Tennessee, Republikaner, Parlamentskammer...   NaN      stern   \n",
       "14                                             Kultur   NaN       Welt   \n",
       "15                      Union Berlin winkt Platz eins   NaN  ZDF heute   \n",
       "16                                        Deutschland   NaN       Welt   \n",
       "17                                   Update am Morgen   NaN  ZDF heute   \n",
       "18                                      Ukraine-Krise   NaN      Focus   \n",
       "19                                               News   NaN       Zeit   \n",
       "21                            Vor Topspiel gegen City   NaN  ZDF heute   \n",
       "22  Israel, Justizreform, Tel Aviv, Polizei, Benja...   NaN      stern   \n",
       "24                                           Panorama   NaN      Focus   \n",
       "26                                            Ausland   NaN       Zeit   \n",
       "28                                           Panorama   NaN       Welt   \n",
       "29  Republikaner, Fernsehdebatte, Donald Trump, US...   NaN      stern   \n",
       "30                      Spielwaren, Geräte, Textilien   NaN  ZDF heute   \n",
       "\n",
       "   frequent_category predicted_category  \n",
       "3            Ausland              Other  \n",
       "4              Other              Other  \n",
       "8              Other              Other  \n",
       "10             Other              Other  \n",
       "11             Other              Other  \n",
       "12           Ausland            Ausland  \n",
       "13             Other              Other  \n",
       "14             Other              Other  \n",
       "15             Other              Other  \n",
       "16       Deutschland              Other  \n",
       "17             Other              Other  \n",
       "18     Ukraine-Krise            Ausland  \n",
       "19              News              Other  \n",
       "21             Other              Other  \n",
       "22             Other              Other  \n",
       "24             Other              Other  \n",
       "26           Ausland              Other  \n",
       "28             Other              Other  \n",
       "29             Other              Other  \n",
       "30             Other              Other  "
      ]
     },
     "execution_count": 31,
     "metadata": {},
     "output_type": "execute_result"
    }
   ],
   "source": [
    "test.head(20)"
   ]
  },
  {
   "cell_type": "markdown",
   "id": "2a94b1e2",
   "metadata": {},
   "source": [
    "## Predict category label for unlabeled data"
   ]
  },
  {
   "cell_type": "code",
   "execution_count": 32,
   "id": "f8f0d626",
   "metadata": {},
   "outputs": [],
   "source": [
    "predictions_unlabeled = text_clf.predict(X_unlabeled)"
   ]
  },
  {
   "cell_type": "code",
   "execution_count": 33,
   "id": "5556e019",
   "metadata": {},
   "outputs": [
    {
     "name": "stdout",
     "output_type": "stream",
     "text": [
      "['Other' 'Other' 'Other' ... 'Other' 'Other' 'Other']\n"
     ]
    },
    {
     "data": {
      "text/plain": [
       "(25457,)"
      ]
     },
     "execution_count": 33,
     "metadata": {},
     "output_type": "execute_result"
    }
   ],
   "source": [
    "print(predictions_unlabeled)\n",
    "predictions_unlabeled.shape"
   ]
  },
  {
   "cell_type": "code",
   "execution_count": 34,
   "id": "7438b9b9",
   "metadata": {},
   "outputs": [],
   "source": [
    "unlabeled['predicted_category'] = predictions_unlabeled"
   ]
  },
  {
   "cell_type": "code",
   "execution_count": 35,
   "id": "490ee3dd",
   "metadata": {},
   "outputs": [
    {
     "data": {
      "text/html": [
       "<div>\n",
       "<style scoped>\n",
       "    .dataframe tbody tr th:only-of-type {\n",
       "        vertical-align: middle;\n",
       "    }\n",
       "\n",
       "    .dataframe tbody tr th {\n",
       "        vertical-align: top;\n",
       "    }\n",
       "\n",
       "    .dataframe thead th {\n",
       "        text-align: right;\n",
       "    }\n",
       "</style>\n",
       "<table border=\"1\" class=\"dataframe\">\n",
       "  <thead>\n",
       "    <tr style=\"text-align: right;\">\n",
       "      <th></th>\n",
       "      <th>date</th>\n",
       "      <th>title</th>\n",
       "      <th>description</th>\n",
       "      <th>category</th>\n",
       "      <th>text</th>\n",
       "      <th>source</th>\n",
       "      <th>frequent_category</th>\n",
       "      <th>predicted_category</th>\n",
       "    </tr>\n",
       "  </thead>\n",
       "  <tbody>\n",
       "    <tr>\n",
       "      <th>0</th>\n",
       "      <td>2023-06-29 11:57:00</td>\n",
       "      <td>Cyberbetrug in Philippinen: Großrazzia gegen M...</td>\n",
       "      <td>In den Philippinen wurden 2.724 Personen festg...</td>\n",
       "      <td>Missing</td>\n",
       "      <td>NaN</td>\n",
       "      <td>taz</td>\n",
       "      <td>Missing</td>\n",
       "      <td>Other</td>\n",
       "    </tr>\n",
       "    <tr>\n",
       "      <th>3</th>\n",
       "      <td>2022-07-16 07:17:44</td>\n",
       "      <td>Leichtathletik-WM: Ein Auftakt mit Licht und S...</td>\n",
       "      <td>Stabhochspringerin Jacqueline Otchere jubelte,...</td>\n",
       "      <td>Missing</td>\n",
       "      <td>NaN</td>\n",
       "      <td>Tagesschau</td>\n",
       "      <td>Missing</td>\n",
       "      <td>Other</td>\n",
       "    </tr>\n",
       "    <tr>\n",
       "      <th>4</th>\n",
       "      <td>2022-10-11 18:49:00</td>\n",
       "      <td>Geflüchtete in Deutschland: Nicht alle gleich ...</td>\n",
       "      <td>Die Innenministerin spricht sich für Solidarit...</td>\n",
       "      <td>Missing</td>\n",
       "      <td>NaN</td>\n",
       "      <td>taz</td>\n",
       "      <td>Missing</td>\n",
       "      <td>Other</td>\n",
       "    </tr>\n",
       "    <tr>\n",
       "      <th>10</th>\n",
       "      <td>2022-06-03 08:55:08</td>\n",
       "      <td>Gebrauchtwagen im Handel fast ein Drittel teurer</td>\n",
       "      <td>Lieferengpässe und Materialmangel in der Autob...</td>\n",
       "      <td>Missing</td>\n",
       "      <td>NaN</td>\n",
       "      <td>Tagesschau</td>\n",
       "      <td>Missing</td>\n",
       "      <td>Other</td>\n",
       "    </tr>\n",
       "    <tr>\n",
       "      <th>11</th>\n",
       "      <td>2022-07-08 18:48:00</td>\n",
       "      <td>Großbritanniens Noch-Premier Johnson: Lahme En...</td>\n",
       "      <td>Boris Johnson nahm es mit Fakten nie so genau ...</td>\n",
       "      <td>Missing</td>\n",
       "      <td>NaN</td>\n",
       "      <td>taz</td>\n",
       "      <td>Missing</td>\n",
       "      <td>Other</td>\n",
       "    </tr>\n",
       "    <tr>\n",
       "      <th>14</th>\n",
       "      <td>2023-05-21 16:14:00</td>\n",
       "      <td>Diversitätsbeauftragte im Museum: „Frauen nich...</td>\n",
       "      <td>Weiqi Wang ist Diversitätsbeauftragte in einem...</td>\n",
       "      <td>Missing</td>\n",
       "      <td>NaN</td>\n",
       "      <td>taz</td>\n",
       "      <td>Missing</td>\n",
       "      <td>Other</td>\n",
       "    </tr>\n",
       "    <tr>\n",
       "      <th>16</th>\n",
       "      <td>2023-07-07 08:47:34</td>\n",
       "      <td>Studie belegt wirksame Behandlung: Alzheimer-M...</td>\n",
       "      <td>Die US-amerikanische Gesundheitsbehörde FDA ha...</td>\n",
       "      <td>Missing</td>\n",
       "      <td>NaN</td>\n",
       "      <td>Tagesschau</td>\n",
       "      <td>Missing</td>\n",
       "      <td>Other</td>\n",
       "    </tr>\n",
       "    <tr>\n",
       "      <th>20</th>\n",
       "      <td>2023-04-23 18:57:00</td>\n",
       "      <td>SPD Berlin stimmt für Schwarz-Rot: Jetzt kommt...</td>\n",
       "      <td>Eine Mehrheit ist eine Mehrheit: Die SPD-inter...</td>\n",
       "      <td>Missing</td>\n",
       "      <td>NaN</td>\n",
       "      <td>taz</td>\n",
       "      <td>Missing</td>\n",
       "      <td>Other</td>\n",
       "    </tr>\n",
       "    <tr>\n",
       "      <th>21</th>\n",
       "      <td>2022-10-15 10:42:19</td>\n",
       "      <td>Britischer Finanzminister Hunt kündigt höhere ...</td>\n",
       "      <td>Der neue britische Finanzminister Hunt stimmt ...</td>\n",
       "      <td>Missing</td>\n",
       "      <td>NaN</td>\n",
       "      <td>Tagesschau</td>\n",
       "      <td>Missing</td>\n",
       "      <td>Other</td>\n",
       "    </tr>\n",
       "    <tr>\n",
       "      <th>23</th>\n",
       "      <td>2023-03-08 19:51:56</td>\n",
       "      <td>Greensand: Dänemark startet CO2-Speicherung im...</td>\n",
       "      <td>Bis 2030 sollen in der dänischen Nordsee bis z...</td>\n",
       "      <td>Missing</td>\n",
       "      <td>NaN</td>\n",
       "      <td>Tagesschau</td>\n",
       "      <td>Missing</td>\n",
       "      <td>Other</td>\n",
       "    </tr>\n",
       "    <tr>\n",
       "      <th>25</th>\n",
       "      <td>2023-06-12 18:23:22</td>\n",
       "      <td>Streit in der Linkspartei: Der Anfang vom Ende?</td>\n",
       "      <td>Ein alter Streit geht in die nächste Runde: De...</td>\n",
       "      <td>Missing</td>\n",
       "      <td>NaN</td>\n",
       "      <td>Tagesschau</td>\n",
       "      <td>Missing</td>\n",
       "      <td>Other</td>\n",
       "    </tr>\n",
       "    <tr>\n",
       "      <th>26</th>\n",
       "      <td>2023-06-19 07:23:24</td>\n",
       "      <td>Chinas Regierungschef Li zu Regierungskonsulta...</td>\n",
       "      <td>Erstmals seit fünf Jahren gibt es wieder deuts...</td>\n",
       "      <td>Missing</td>\n",
       "      <td>NaN</td>\n",
       "      <td>Tagesschau</td>\n",
       "      <td>Missing</td>\n",
       "      <td>Other</td>\n",
       "    </tr>\n",
       "    <tr>\n",
       "      <th>27</th>\n",
       "      <td>2022-07-04 18:13:34</td>\n",
       "      <td>Draghi zu Gletscherunglück: \"Heute weint Italien\"</td>\n",
       "      <td>Nach dem Gletscher-Unglück in den Dolomiten mi...</td>\n",
       "      <td>Missing</td>\n",
       "      <td>NaN</td>\n",
       "      <td>Tagesschau</td>\n",
       "      <td>Missing</td>\n",
       "      <td>Other</td>\n",
       "    </tr>\n",
       "    <tr>\n",
       "      <th>28</th>\n",
       "      <td>2022-10-03 21:38:59</td>\n",
       "      <td>Proteste: Tausende demonstrieren gegen Bundesr...</td>\n",
       "      <td>Erneut sind in mehreren ostdeutschen Städten T...</td>\n",
       "      <td>Missing</td>\n",
       "      <td>NaN</td>\n",
       "      <td>Tagesschau</td>\n",
       "      <td>Missing</td>\n",
       "      <td>Other</td>\n",
       "    </tr>\n",
       "    <tr>\n",
       "      <th>30</th>\n",
       "      <td>2023-03-03 20:05:54</td>\n",
       "      <td>Erste Studierende können Energiepreispauschale...</td>\n",
       "      <td>Sie warten angesichts der hohen Energiekosten ...</td>\n",
       "      <td>Missing</td>\n",
       "      <td>NaN</td>\n",
       "      <td>Tagesschau</td>\n",
       "      <td>Missing</td>\n",
       "      <td>Other</td>\n",
       "    </tr>\n",
       "    <tr>\n",
       "      <th>31</th>\n",
       "      <td>2022-06-10 17:05:01</td>\n",
       "      <td>Medienberichte: Corona-Testpflicht für USA-Flü...</td>\n",
       "      <td>Reisende, die in die USA fliegen, müssen vorau...</td>\n",
       "      <td>Missing</td>\n",
       "      <td>NaN</td>\n",
       "      <td>Tagesschau</td>\n",
       "      <td>Missing</td>\n",
       "      <td>Other</td>\n",
       "    </tr>\n",
       "    <tr>\n",
       "      <th>40</th>\n",
       "      <td>2022-08-13 09:32:00</td>\n",
       "      <td>Die Wahrheit: Brummender Tiger im Nahkampf</td>\n",
       "      <td>Martial Arts auf den Straßen: Besuch bei einer...</td>\n",
       "      <td>Missing</td>\n",
       "      <td>NaN</td>\n",
       "      <td>taz</td>\n",
       "      <td>Missing</td>\n",
       "      <td>Other</td>\n",
       "    </tr>\n",
       "    <tr>\n",
       "      <th>42</th>\n",
       "      <td>2023-04-15 15:24:00</td>\n",
       "      <td>China und Europa: Doppelzüngiger Macron</td>\n",
       "      <td>Groß ist die Aufregung um Macrons Abrücken von...</td>\n",
       "      <td>Missing</td>\n",
       "      <td>NaN</td>\n",
       "      <td>taz</td>\n",
       "      <td>Missing</td>\n",
       "      <td>Ausland</td>\n",
       "    </tr>\n",
       "    <tr>\n",
       "      <th>44</th>\n",
       "      <td>2023-05-19 15:57:00</td>\n",
       "      <td>Frauen-DFB-Pokalfinale: Familienfest mit Ultras</td>\n",
       "      <td>Beim Frauen-Pokalfinale zwischen dem VfL Wolfs...</td>\n",
       "      <td>Missing</td>\n",
       "      <td>NaN</td>\n",
       "      <td>taz</td>\n",
       "      <td>Missing</td>\n",
       "      <td>Other</td>\n",
       "    </tr>\n",
       "    <tr>\n",
       "      <th>47</th>\n",
       "      <td>2023-05-24 09:34:59</td>\n",
       "      <td>Marktbericht: Die 16.000 fällt wieder</td>\n",
       "      <td>Der Streit um die Schuldenobergrenze in den US...</td>\n",
       "      <td>Missing</td>\n",
       "      <td>NaN</td>\n",
       "      <td>Tagesschau</td>\n",
       "      <td>Missing</td>\n",
       "      <td>Other</td>\n",
       "    </tr>\n",
       "  </tbody>\n",
       "</table>\n",
       "</div>"
      ],
      "text/plain": [
       "                   date                                              title  \\\n",
       "0   2023-06-29 11:57:00  Cyberbetrug in Philippinen: Großrazzia gegen M...   \n",
       "3   2022-07-16 07:17:44  Leichtathletik-WM: Ein Auftakt mit Licht und S...   \n",
       "4   2022-10-11 18:49:00  Geflüchtete in Deutschland: Nicht alle gleich ...   \n",
       "10  2022-06-03 08:55:08   Gebrauchtwagen im Handel fast ein Drittel teurer   \n",
       "11  2022-07-08 18:48:00  Großbritanniens Noch-Premier Johnson: Lahme En...   \n",
       "14  2023-05-21 16:14:00  Diversitätsbeauftragte im Museum: „Frauen nich...   \n",
       "16  2023-07-07 08:47:34  Studie belegt wirksame Behandlung: Alzheimer-M...   \n",
       "20  2023-04-23 18:57:00  SPD Berlin stimmt für Schwarz-Rot: Jetzt kommt...   \n",
       "21  2022-10-15 10:42:19  Britischer Finanzminister Hunt kündigt höhere ...   \n",
       "23  2023-03-08 19:51:56  Greensand: Dänemark startet CO2-Speicherung im...   \n",
       "25  2023-06-12 18:23:22    Streit in der Linkspartei: Der Anfang vom Ende?   \n",
       "26  2023-06-19 07:23:24  Chinas Regierungschef Li zu Regierungskonsulta...   \n",
       "27  2022-07-04 18:13:34  Draghi zu Gletscherunglück: \"Heute weint Italien\"   \n",
       "28  2022-10-03 21:38:59  Proteste: Tausende demonstrieren gegen Bundesr...   \n",
       "30  2023-03-03 20:05:54  Erste Studierende können Energiepreispauschale...   \n",
       "31  2022-06-10 17:05:01  Medienberichte: Corona-Testpflicht für USA-Flü...   \n",
       "40  2022-08-13 09:32:00         Die Wahrheit: Brummender Tiger im Nahkampf   \n",
       "42  2023-04-15 15:24:00            China und Europa: Doppelzüngiger Macron   \n",
       "44  2023-05-19 15:57:00    Frauen-DFB-Pokalfinale: Familienfest mit Ultras   \n",
       "47  2023-05-24 09:34:59              Marktbericht: Die 16.000 fällt wieder   \n",
       "\n",
       "                                          description category  text  \\\n",
       "0   In den Philippinen wurden 2.724 Personen festg...  Missing   NaN   \n",
       "3   Stabhochspringerin Jacqueline Otchere jubelte,...  Missing   NaN   \n",
       "4   Die Innenministerin spricht sich für Solidarit...  Missing   NaN   \n",
       "10  Lieferengpässe und Materialmangel in der Autob...  Missing   NaN   \n",
       "11  Boris Johnson nahm es mit Fakten nie so genau ...  Missing   NaN   \n",
       "14  Weiqi Wang ist Diversitätsbeauftragte in einem...  Missing   NaN   \n",
       "16  Die US-amerikanische Gesundheitsbehörde FDA ha...  Missing   NaN   \n",
       "20  Eine Mehrheit ist eine Mehrheit: Die SPD-inter...  Missing   NaN   \n",
       "21  Der neue britische Finanzminister Hunt stimmt ...  Missing   NaN   \n",
       "23  Bis 2030 sollen in der dänischen Nordsee bis z...  Missing   NaN   \n",
       "25  Ein alter Streit geht in die nächste Runde: De...  Missing   NaN   \n",
       "26  Erstmals seit fünf Jahren gibt es wieder deuts...  Missing   NaN   \n",
       "27  Nach dem Gletscher-Unglück in den Dolomiten mi...  Missing   NaN   \n",
       "28  Erneut sind in mehreren ostdeutschen Städten T...  Missing   NaN   \n",
       "30  Sie warten angesichts der hohen Energiekosten ...  Missing   NaN   \n",
       "31  Reisende, die in die USA fliegen, müssen vorau...  Missing   NaN   \n",
       "40  Martial Arts auf den Straßen: Besuch bei einer...  Missing   NaN   \n",
       "42  Groß ist die Aufregung um Macrons Abrücken von...  Missing   NaN   \n",
       "44  Beim Frauen-Pokalfinale zwischen dem VfL Wolfs...  Missing   NaN   \n",
       "47  Der Streit um die Schuldenobergrenze in den US...  Missing   NaN   \n",
       "\n",
       "        source frequent_category predicted_category  \n",
       "0          taz           Missing              Other  \n",
       "3   Tagesschau           Missing              Other  \n",
       "4          taz           Missing              Other  \n",
       "10  Tagesschau           Missing              Other  \n",
       "11         taz           Missing              Other  \n",
       "14         taz           Missing              Other  \n",
       "16  Tagesschau           Missing              Other  \n",
       "20         taz           Missing              Other  \n",
       "21  Tagesschau           Missing              Other  \n",
       "23  Tagesschau           Missing              Other  \n",
       "25  Tagesschau           Missing              Other  \n",
       "26  Tagesschau           Missing              Other  \n",
       "27  Tagesschau           Missing              Other  \n",
       "28  Tagesschau           Missing              Other  \n",
       "30  Tagesschau           Missing              Other  \n",
       "31  Tagesschau           Missing              Other  \n",
       "40         taz           Missing              Other  \n",
       "42         taz           Missing            Ausland  \n",
       "44         taz           Missing              Other  \n",
       "47  Tagesschau           Missing              Other  "
      ]
     },
     "execution_count": 35,
     "metadata": {},
     "output_type": "execute_result"
    }
   ],
   "source": [
    "unlabeled.head(20)"
   ]
  },
  {
   "cell_type": "code",
   "execution_count": 36,
   "id": "35a00a75",
   "metadata": {},
   "outputs": [
    {
     "name": "stdout",
     "output_type": "stream",
     "text": [
      "predicted_category\n",
      "Ausland            253\n",
      "Deutschland        221\n",
      "News               265\n",
      "Other            24663\n",
      "Ukraine-Krise       43\n",
      "Wirtschaft          12\n",
      "Name: predicted_category, dtype: int64\n"
     ]
    }
   ],
   "source": [
    "print(unlabeled.groupby('predicted_category')['predicted_category'].count())"
   ]
  },
  {
   "cell_type": "code",
   "execution_count": 37,
   "id": "fe449c24",
   "metadata": {},
   "outputs": [],
   "source": [
    "## Save result to csv\n",
    "test.to_csv('predicted_cat_test_logistic_reg.csv')\n",
    "unlabeled.to_csv('predicted_cat_unlabeled_logistic_reg.csv')"
   ]
  }
 ],
 "metadata": {
  "kernelspec": {
   "display_name": "nlp",
   "language": "python",
   "name": "nlp"
  },
  "language_info": {
   "codemirror_mode": {
    "name": "ipython",
    "version": 3
   },
   "file_extension": ".py",
   "mimetype": "text/x-python",
   "name": "python",
   "nbconvert_exporter": "python",
   "pygments_lexer": "ipython3",
   "version": "3.11.5"
  }
 },
 "nbformat": 4,
 "nbformat_minor": 5
}
