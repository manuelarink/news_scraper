{
 "cells": [
  {
   "cell_type": "markdown",
   "id": "d23815fa",
   "metadata": {},
   "source": [
    "# Topic modelling of news headlines for prediction of news category¶"
   ]
  },
  {
   "cell_type": "markdown",
   "id": "75523a79",
   "metadata": {},
   "source": [
    "Now we wan't to perform unsupervised learning and train a modell for prediction of news category labels without using the provided labels in the corpus.\n",
    "We use the LDA classifier and assume 6 topics. "
   ]
  },
  {
   "cell_type": "code",
   "execution_count": 1,
   "id": "a2821ff5",
   "metadata": {},
   "outputs": [],
   "source": [
    "import pandas as pd\n",
    "import numpy as np\n",
    "import matplotlib.pyplot as plt\n",
    "import seaborn as sns"
   ]
  },
  {
   "cell_type": "markdown",
   "id": "6594f2c8",
   "metadata": {},
   "source": [
    "## Load data"
   ]
  },
  {
   "cell_type": "code",
   "execution_count": 2,
   "id": "d737f3a4",
   "metadata": {},
   "outputs": [],
   "source": [
    "train = pd.read_csv('../../preprocessing/train.csv')\n",
    "test = pd.read_csv('../../preprocessing/test.csv')"
   ]
  },
  {
   "cell_type": "code",
   "execution_count": 3,
   "id": "72fc6b38",
   "metadata": {},
   "outputs": [
    {
     "data": {
      "text/html": [
       "<div>\n",
       "<style scoped>\n",
       "    .dataframe tbody tr th:only-of-type {\n",
       "        vertical-align: middle;\n",
       "    }\n",
       "\n",
       "    .dataframe tbody tr th {\n",
       "        vertical-align: top;\n",
       "    }\n",
       "\n",
       "    .dataframe thead th {\n",
       "        text-align: right;\n",
       "    }\n",
       "</style>\n",
       "<table border=\"1\" class=\"dataframe\">\n",
       "  <thead>\n",
       "    <tr style=\"text-align: right;\">\n",
       "      <th></th>\n",
       "      <th>date</th>\n",
       "      <th>title</th>\n",
       "      <th>description</th>\n",
       "      <th>category</th>\n",
       "      <th>text</th>\n",
       "      <th>source</th>\n",
       "      <th>frequent_category</th>\n",
       "    </tr>\n",
       "  </thead>\n",
       "  <tbody>\n",
       "    <tr>\n",
       "      <th>0</th>\n",
       "      <td>2023-06-29 11:57:00</td>\n",
       "      <td>Cyberbetrug in Philippinen: Großrazzia gegen M...</td>\n",
       "      <td>In den Philippinen wurden 2.724 Personen festg...</td>\n",
       "      <td>Missing</td>\n",
       "      <td>NaN</td>\n",
       "      <td>taz</td>\n",
       "      <td>Missing</td>\n",
       "    </tr>\n",
       "    <tr>\n",
       "      <th>1</th>\n",
       "      <td>2023-01-15 09:16:00</td>\n",
       "      <td>GPT: Eine Software, die die Welt verändert</td>\n",
       "      <td>GPT-3 ist eine jener Entwicklungen, die binnen...</td>\n",
       "      <td>Terra X - die Wissens-Kolumne</td>\n",
       "      <td>NaN</td>\n",
       "      <td>ZDF heute</td>\n",
       "      <td>Other</td>\n",
       "    </tr>\n",
       "    <tr>\n",
       "      <th>2</th>\n",
       "      <td>2023-03-04 15:13:32</td>\n",
       "      <td>Fußball: Hollerbach schießt Wehen Wiesbaden mi...</td>\n",
       "      <td>NaN</td>\n",
       "      <td>News</td>\n",
       "      <td>NaN</td>\n",
       "      <td>Zeit</td>\n",
       "      <td>News</td>\n",
       "    </tr>\n",
       "    <tr>\n",
       "      <th>3</th>\n",
       "      <td>2022-07-16 07:17:44</td>\n",
       "      <td>Leichtathletik-WM: Ein Auftakt mit Licht und S...</td>\n",
       "      <td>Stabhochspringerin Jacqueline Otchere jubelte,...</td>\n",
       "      <td>Missing</td>\n",
       "      <td>NaN</td>\n",
       "      <td>Tagesschau</td>\n",
       "      <td>Missing</td>\n",
       "    </tr>\n",
       "    <tr>\n",
       "      <th>4</th>\n",
       "      <td>2022-10-11 18:49:00</td>\n",
       "      <td>Geflüchtete in Deutschland: Nicht alle gleich ...</td>\n",
       "      <td>Die Innenministerin spricht sich für Solidarit...</td>\n",
       "      <td>Missing</td>\n",
       "      <td>NaN</td>\n",
       "      <td>taz</td>\n",
       "      <td>Missing</td>\n",
       "    </tr>\n",
       "  </tbody>\n",
       "</table>\n",
       "</div>"
      ],
      "text/plain": [
       "                  date                                              title  \\\n",
       "0  2023-06-29 11:57:00  Cyberbetrug in Philippinen: Großrazzia gegen M...   \n",
       "1  2023-01-15 09:16:00         GPT: Eine Software, die die Welt verändert   \n",
       "2  2023-03-04 15:13:32  Fußball: Hollerbach schießt Wehen Wiesbaden mi...   \n",
       "3  2022-07-16 07:17:44  Leichtathletik-WM: Ein Auftakt mit Licht und S...   \n",
       "4  2022-10-11 18:49:00  Geflüchtete in Deutschland: Nicht alle gleich ...   \n",
       "\n",
       "                                         description  \\\n",
       "0  In den Philippinen wurden 2.724 Personen festg...   \n",
       "1  GPT-3 ist eine jener Entwicklungen, die binnen...   \n",
       "2                                                NaN   \n",
       "3  Stabhochspringerin Jacqueline Otchere jubelte,...   \n",
       "4  Die Innenministerin spricht sich für Solidarit...   \n",
       "\n",
       "                        category  text      source frequent_category  \n",
       "0                        Missing   NaN         taz           Missing  \n",
       "1  Terra X - die Wissens-Kolumne   NaN   ZDF heute             Other  \n",
       "2                           News   NaN        Zeit              News  \n",
       "3                        Missing   NaN  Tagesschau           Missing  \n",
       "4                        Missing   NaN         taz           Missing  "
      ]
     },
     "execution_count": 3,
     "metadata": {},
     "output_type": "execute_result"
    }
   ],
   "source": [
    "train.head()"
   ]
  },
  {
   "cell_type": "code",
   "execution_count": 4,
   "id": "a7b770f7",
   "metadata": {},
   "outputs": [
    {
     "data": {
      "text/html": [
       "<div>\n",
       "<style scoped>\n",
       "    .dataframe tbody tr th:only-of-type {\n",
       "        vertical-align: middle;\n",
       "    }\n",
       "\n",
       "    .dataframe tbody tr th {\n",
       "        vertical-align: top;\n",
       "    }\n",
       "\n",
       "    .dataframe thead th {\n",
       "        text-align: right;\n",
       "    }\n",
       "</style>\n",
       "<table border=\"1\" class=\"dataframe\">\n",
       "  <thead>\n",
       "    <tr style=\"text-align: right;\">\n",
       "      <th></th>\n",
       "      <th>date</th>\n",
       "      <th>title</th>\n",
       "      <th>description</th>\n",
       "      <th>category</th>\n",
       "      <th>text</th>\n",
       "      <th>source</th>\n",
       "      <th>frequent_category</th>\n",
       "    </tr>\n",
       "  </thead>\n",
       "  <tbody>\n",
       "    <tr>\n",
       "      <th>0</th>\n",
       "      <td>2022-07-15 09:40:00</td>\n",
       "      <td>Lauterbach für vierte Corona-Impfung: Zweiter ...</td>\n",
       "      <td>Wegen steigender Coronazahlen rät Gesundheitsm...</td>\n",
       "      <td>Missing</td>\n",
       "      <td>NaN</td>\n",
       "      <td>taz</td>\n",
       "      <td>Missing</td>\n",
       "    </tr>\n",
       "    <tr>\n",
       "      <th>1</th>\n",
       "      <td>2023-06-15 22:08:22</td>\n",
       "      <td>Weyrauch zieht Bewerbung um rbb-Intendantenste...</td>\n",
       "      <td>Einen Tag vor der Intendantenwahl beim rbb hat...</td>\n",
       "      <td>Missing</td>\n",
       "      <td>NaN</td>\n",
       "      <td>Tagesschau</td>\n",
       "      <td>Missing</td>\n",
       "    </tr>\n",
       "    <tr>\n",
       "      <th>2</th>\n",
       "      <td>2022-08-20 06:29:28</td>\n",
       "      <td>Inflation in Großbritannien: \"Es wird alles te...</td>\n",
       "      <td>Die Energiepreise: steigen und steigen. Die In...</td>\n",
       "      <td>Missing</td>\n",
       "      <td>NaN</td>\n",
       "      <td>Tagesschau</td>\n",
       "      <td>Missing</td>\n",
       "    </tr>\n",
       "    <tr>\n",
       "      <th>3</th>\n",
       "      <td>2023-02-12 22:14:58</td>\n",
       "      <td>Nahe kanadischer Grenze - Schon wieder! USA sc...</td>\n",
       "      <td>Medienberichten zufolge haben die USA erneut e...</td>\n",
       "      <td>Ausland</td>\n",
       "      <td>NaN</td>\n",
       "      <td>Focus</td>\n",
       "      <td>Ausland</td>\n",
       "    </tr>\n",
       "    <tr>\n",
       "      <th>4</th>\n",
       "      <td>2022-08-26 11:50:37</td>\n",
       "      <td>China: Geschichte verdeht: Mao wollte Taiwan a...</td>\n",
       "      <td>Chinas Kommunistische Partei bedroht Taiwan mi...</td>\n",
       "      <td>China, Taiwan, Kommunistische Partei, Peking, ...</td>\n",
       "      <td>NaN</td>\n",
       "      <td>stern</td>\n",
       "      <td>Other</td>\n",
       "    </tr>\n",
       "  </tbody>\n",
       "</table>\n",
       "</div>"
      ],
      "text/plain": [
       "                  date                                              title  \\\n",
       "0  2022-07-15 09:40:00  Lauterbach für vierte Corona-Impfung: Zweiter ...   \n",
       "1  2023-06-15 22:08:22  Weyrauch zieht Bewerbung um rbb-Intendantenste...   \n",
       "2  2022-08-20 06:29:28  Inflation in Großbritannien: \"Es wird alles te...   \n",
       "3  2023-02-12 22:14:58  Nahe kanadischer Grenze - Schon wieder! USA sc...   \n",
       "4  2022-08-26 11:50:37  China: Geschichte verdeht: Mao wollte Taiwan a...   \n",
       "\n",
       "                                         description  \\\n",
       "0  Wegen steigender Coronazahlen rät Gesundheitsm...   \n",
       "1  Einen Tag vor der Intendantenwahl beim rbb hat...   \n",
       "2  Die Energiepreise: steigen und steigen. Die In...   \n",
       "3  Medienberichten zufolge haben die USA erneut e...   \n",
       "4  Chinas Kommunistische Partei bedroht Taiwan mi...   \n",
       "\n",
       "                                            category  text      source  \\\n",
       "0                                            Missing   NaN         taz   \n",
       "1                                            Missing   NaN  Tagesschau   \n",
       "2                                            Missing   NaN  Tagesschau   \n",
       "3                                            Ausland   NaN       Focus   \n",
       "4  China, Taiwan, Kommunistische Partei, Peking, ...   NaN       stern   \n",
       "\n",
       "  frequent_category  \n",
       "0           Missing  \n",
       "1           Missing  \n",
       "2           Missing  \n",
       "3           Ausland  \n",
       "4             Other  "
      ]
     },
     "execution_count": 4,
     "metadata": {},
     "output_type": "execute_result"
    }
   ],
   "source": [
    "test.head()"
   ]
  },
  {
   "cell_type": "markdown",
   "id": "46b4f629",
   "metadata": {},
   "source": [
    "## Load German stopwords"
   ]
  },
  {
   "cell_type": "code",
   "execution_count": 5,
   "id": "da144b59",
   "metadata": {},
   "outputs": [],
   "source": [
    "stop_words = pd.read_csv('german_stopwords.txt', header=None)[0].values.tolist()"
   ]
  },
  {
   "cell_type": "code",
   "execution_count": 6,
   "id": "bd74c6d3",
   "metadata": {},
   "outputs": [
    {
     "name": "stdout",
     "output_type": "stream",
     "text": [
      "['ab', 'aber', 'alle', 'allein', 'allem', 'allen', 'aller', 'allerdings', 'allerlei', 'alles', 'allmählich', 'allzu', 'als', 'alsbald', 'also', 'am', 'an', 'and', 'ander', 'andere', 'anderem', 'anderen', 'anderer', 'andererseits', 'anderes', 'anderm', 'andern', 'andernfalls', 'anders', 'anstatt', 'auch', 'auf', 'aus', 'ausgenommen', 'ausser', 'ausserdem', 'außer', 'außerdem', 'außerhalb', 'bald', 'bei', 'beide', 'beiden', 'beiderlei', 'beides', 'beim', 'beinahe', 'bereits', 'besonders', 'besser', 'beträchtlich', 'bevor', 'bezüglich', 'bin', 'bis', 'bisher', 'bislang', 'bist', 'bloß', 'bsp.', 'bzw', 'ca', 'ca.', 'content', 'da', 'dabei', 'dadurch', 'dafür', 'dagegen', 'daher', 'dahin', 'damals', 'damit', 'danach', 'daneben', 'dann', 'daran', 'darauf', 'daraus', 'darin', 'darum', 'darunter', 'darüber', 'darüberhinaus', 'das', 'dass', 'dasselbe', 'davon', 'davor', 'dazu', 'daß', 'dein', 'deine', 'deinem', 'deinen', 'deiner', 'deines', 'dem', 'demnach', 'demselben', 'den', 'denen', 'denn', 'dennoch', 'denselben', 'der', 'derart', 'derartig', 'derem', 'deren', 'derer', 'derjenige', 'derjenigen', 'derselbe', 'derselben', 'derzeit', 'des', 'deshalb', 'desselben', 'dessen', 'desto', 'deswegen', 'dich', 'die', 'diejenige', 'dies', 'diese', 'dieselbe', 'dieselben', 'diesem', 'diesen', 'dieser', 'dieses', 'diesseits', 'dir', 'direkt', 'direkte', 'direkten', 'direkter', 'doch', 'dort', 'dorther', 'dorthin', 'drauf', 'drin', 'drunter', 'drüber', 'du', 'dunklen', 'durch', 'durchaus', 'eben', 'ebenfalls', 'ebenso', 'eher', 'eigenen', 'eigenes', 'eigentlich', 'ein', 'eine', 'einem', 'einen', 'einer', 'einerseits', 'eines', 'einfach', 'einführen', 'einführte', 'einführten', 'eingesetzt', 'einig', 'einige', 'einigem', 'einigen', 'einiger', 'einigermaßen', 'einiges', 'einmal', 'eins', 'einseitig', 'einseitige', 'einseitigen', 'einseitiger', 'einst', 'einstmals', 'einzig', 'entsprechend', 'entweder', 'er', 'erst', 'es', 'etc', 'etliche', 'etwa', 'etwas', 'euch', 'euer', 'eure', 'eurem', 'euren', 'eurer', 'eures', 'falls', 'fast', 'ferner', 'folgende', 'folgenden', 'folgender', 'folgendes', 'folglich', 'fuer', 'für', 'gab', 'ganze', 'ganzem', 'ganzen', 'ganzer', 'ganzes', 'gar', 'gegen', 'gemäss', 'ggf', 'gleich', 'gleichwohl', 'gleichzeitig', 'glücklicherweise', 'gänzlich', 'hab', 'habe', 'haben', 'haette', 'hast', 'hat', 'hatte', 'hatten', 'hattest', 'hattet', 'heraus', 'herein', 'hier', 'hier', 'hinter', 'hiermit', 'hiesige', 'hin', 'hinein', 'hinten', 'hinter', 'hinterher', 'http', 'hätt', 'hätte', 'hätten', 'höchstens', 'ich', 'igitt', 'ihm', 'ihn', 'ihnen', 'ihr', 'ihre', 'ihrem', 'ihren', 'ihrer', 'ihres', 'im', 'immer', 'immerhin', 'in', 'indem', 'indessen', 'infolge', 'innen', 'innerhalb', 'ins', 'insofern', 'inzwischen', 'irgend', 'irgendeine', 'irgendwas', 'irgendwen', 'irgendwer', 'irgendwie', 'irgendwo', 'ist', 'ja', 'je', 'jed', 'jede', 'jedem', 'jeden', 'jedenfalls', 'jeder', 'jederlei', 'jedes', 'jedoch', 'jemand', 'jene', 'jenem', 'jenen', 'jener', 'jenes', 'jenseits', 'jetzt', 'jährig', 'jährige', 'jährigen', 'jähriges', 'kam', 'kann', 'kannst', 'kaum', 'kein', 'keine', 'keinem', 'keinen', 'keiner', 'keinerlei', 'keines', 'keineswegs', 'klar', 'klare', 'klaren', 'klares', 'klein', 'kleinen', 'kleiner', 'kleines', 'koennen', 'koennt', 'koennte', 'koennten', 'komme', 'kommen', 'kommt', 'konkret', 'konkrete', 'konkreten', 'konkreter', 'konkretes', 'können', 'könnt', 'künftig', 'leider', 'machen', 'man', 'manche', 'manchem', 'manchen', 'mancher', 'mancherorts', 'manches', 'manchmal', 'mehr', 'mehrere', 'mein', 'meine', 'meinem', 'meinen', 'meiner', 'meines', 'mich', 'mir', 'mit', 'mithin', 'muessen', 'muesst', 'muesste', 'muss', 'musst', 'musste', 'mussten', 'muß', 'mußt', 'müssen', 'müsste', 'müssten', 'müßt', 'müßte', 'nach', 'nachdem', 'nachher', 'nachhinein', 'nahm', 'natürlich', 'neben', 'nebenan', 'nehmen', 'nein', 'nicht', 'nichts', 'nie', 'niemals', 'niemand', 'nirgends', 'nirgendwo', 'noch', 'nun', 'nur', 'nächste', 'nämlich', 'nötigenfalls', 'ob', 'oben', 'oberhalb', 'obgleich', 'obschon', 'obwohl', 'oder', 'oft', 'per', 'plötzlich', 'schließlich', 'schon', 'sehr', 'sehrwohl', 'seid', 'sein', 'seine', 'seinem', 'seinen', 'seiner', 'seines', 'seit', 'seitdem', 'seither', 'selber', 'selbst', 'sich', 'sicher', 'sicherlich', 'sie', 'sind', 'so', 'sobald', 'sodass', 'sodaß', 'soeben', 'sofern', 'sofort', 'sogar', 'solange', 'solch', 'solche', 'solchem', 'solchen', 'solcher', 'solches', 'soll', 'sollen', 'sollst', 'sollt', 'sollte', 'sollten', 'solltest', 'somit', 'sondern', 'sonst', 'sonstwo', 'sooft', 'soviel', 'soweit', 'sowie', 'sowohl', 'tatsächlich', 'tatsächlichen', 'tatsächlicher', 'tatsächliches', 'trotzdem', 'ueber', 'um', 'umso', 'unbedingt', 'und', 'unmöglich', 'unmögliche', 'unmöglichen', 'unmöglicher', 'uns', 'unser', 'unser', 'unsere', 'unsere', 'unserem', 'unseren', 'unserer', 'unseres', 'unter', 'usw', 'viel', 'viele', 'vielen', 'vieler', 'vieles', 'vielleicht', 'vielmals', 'vom', 'von', 'vor', 'voran', 'vorher', 'vorüber', 'völlig', 'wann', 'war', 'waren', 'warst', 'warum', 'was', 'weder', 'weil', 'weiter', 'weitere', 'weiterem', 'weiteren', 'weiterer', 'weiteres', 'weiterhin', 'weiß', 'welche', 'welchem', 'welchen', 'welcher', 'welches', 'wem', 'wen', 'wenig', 'wenige', 'weniger', 'wenigstens', 'wenn', 'wenngleich', 'wer', 'werde', 'werden', 'werdet', 'weshalb', 'wessen', 'wichtig', 'wie', 'wieder', 'wieso', 'wieviel', 'wiewohl', 'will', 'willst', 'wir', 'wird', 'wirklich', 'wirst', 'wo', 'wodurch', 'wogegen', 'woher', 'wohin', 'wohingegen', 'wohl', 'wohlweislich', 'womit', 'woraufhin', 'woraus', 'worin', 'wurde', 'wurden', 'während', 'währenddessen', 'wär', 'wäre', 'wären', 'würde', 'würden', 'z.B.', 'zB', 'zahlreich', 'zeitweise', 'zu', 'zudem', 'zuerst', 'zufolge', 'zugleich', 'zuletzt', 'zum', 'zumal', 'zur', 'zurück', 'zusammen', 'zuviel', 'zwar', 'zwischen', 'ähnlich', 'übel', 'über', 'überall', 'überallhin', 'überdies', 'übermorgen', 'übrig', 'übrigens']\n"
     ]
    }
   ],
   "source": [
    "print(stop_words)"
   ]
  },
  {
   "cell_type": "markdown",
   "id": "a12c363c",
   "metadata": {},
   "source": [
    "## Extract features from 'title' "
   ]
  },
  {
   "cell_type": "code",
   "execution_count": 7,
   "id": "cd42c0db",
   "metadata": {},
   "outputs": [],
   "source": [
    "from sklearn.feature_extraction.text import CountVectorizer"
   ]
  },
  {
   "cell_type": "code",
   "execution_count": 8,
   "id": "38ab615c",
   "metadata": {},
   "outputs": [],
   "source": [
    "cv = CountVectorizer(max_df=0.95, min_df=2, stop_words=stop_words)"
   ]
  },
  {
   "cell_type": "code",
   "execution_count": 9,
   "id": "a628f0d2",
   "metadata": {},
   "outputs": [
    {
     "name": "stderr",
     "output_type": "stream",
     "text": [
      "C:\\Users\\manuela.rink\\anaconda3\\envs\\nlp\\Lib\\site-packages\\sklearn\\feature_extraction\\text.py:409: UserWarning: Your stop_words may be inconsistent with your preprocessing. Tokenizing the stop words generated tokens ['bsp', 'zb'] not in stop_words.\n",
      "  warnings.warn(\n"
     ]
    }
   ],
   "source": [
    "# create Document-Term-Matrix\n",
    "dtm = cv.fit_transform(train['title'])"
   ]
  },
  {
   "cell_type": "code",
   "execution_count": 10,
   "id": "faba69b8",
   "metadata": {},
   "outputs": [
    {
     "data": {
      "text/plain": [
       "<53531x21449 sparse matrix of type '<class 'numpy.int64'>'\n",
       "\twith 274945 stored elements in Compressed Sparse Row format>"
      ]
     },
     "execution_count": 10,
     "metadata": {},
     "output_type": "execute_result"
    }
   ],
   "source": [
    "dtm"
   ]
  },
  {
   "cell_type": "code",
   "execution_count": 11,
   "id": "3f48b861",
   "metadata": {},
   "outputs": [],
   "source": [
    "from sklearn.decomposition import LatentDirichletAllocation"
   ]
  },
  {
   "cell_type": "code",
   "execution_count": 12,
   "id": "fdf60b9b",
   "metadata": {},
   "outputs": [
    {
     "data": {
      "text/html": [
       "<style>#sk-container-id-1 {color: black;background-color: white;}#sk-container-id-1 pre{padding: 0;}#sk-container-id-1 div.sk-toggleable {background-color: white;}#sk-container-id-1 label.sk-toggleable__label {cursor: pointer;display: block;width: 100%;margin-bottom: 0;padding: 0.3em;box-sizing: border-box;text-align: center;}#sk-container-id-1 label.sk-toggleable__label-arrow:before {content: \"▸\";float: left;margin-right: 0.25em;color: #696969;}#sk-container-id-1 label.sk-toggleable__label-arrow:hover:before {color: black;}#sk-container-id-1 div.sk-estimator:hover label.sk-toggleable__label-arrow:before {color: black;}#sk-container-id-1 div.sk-toggleable__content {max-height: 0;max-width: 0;overflow: hidden;text-align: left;background-color: #f0f8ff;}#sk-container-id-1 div.sk-toggleable__content pre {margin: 0.2em;color: black;border-radius: 0.25em;background-color: #f0f8ff;}#sk-container-id-1 input.sk-toggleable__control:checked~div.sk-toggleable__content {max-height: 200px;max-width: 100%;overflow: auto;}#sk-container-id-1 input.sk-toggleable__control:checked~label.sk-toggleable__label-arrow:before {content: \"▾\";}#sk-container-id-1 div.sk-estimator input.sk-toggleable__control:checked~label.sk-toggleable__label {background-color: #d4ebff;}#sk-container-id-1 div.sk-label input.sk-toggleable__control:checked~label.sk-toggleable__label {background-color: #d4ebff;}#sk-container-id-1 input.sk-hidden--visually {border: 0;clip: rect(1px 1px 1px 1px);clip: rect(1px, 1px, 1px, 1px);height: 1px;margin: -1px;overflow: hidden;padding: 0;position: absolute;width: 1px;}#sk-container-id-1 div.sk-estimator {font-family: monospace;background-color: #f0f8ff;border: 1px dotted black;border-radius: 0.25em;box-sizing: border-box;margin-bottom: 0.5em;}#sk-container-id-1 div.sk-estimator:hover {background-color: #d4ebff;}#sk-container-id-1 div.sk-parallel-item::after {content: \"\";width: 100%;border-bottom: 1px solid gray;flex-grow: 1;}#sk-container-id-1 div.sk-label:hover label.sk-toggleable__label {background-color: #d4ebff;}#sk-container-id-1 div.sk-serial::before {content: \"\";position: absolute;border-left: 1px solid gray;box-sizing: border-box;top: 0;bottom: 0;left: 50%;z-index: 0;}#sk-container-id-1 div.sk-serial {display: flex;flex-direction: column;align-items: center;background-color: white;padding-right: 0.2em;padding-left: 0.2em;position: relative;}#sk-container-id-1 div.sk-item {position: relative;z-index: 1;}#sk-container-id-1 div.sk-parallel {display: flex;align-items: stretch;justify-content: center;background-color: white;position: relative;}#sk-container-id-1 div.sk-item::before, #sk-container-id-1 div.sk-parallel-item::before {content: \"\";position: absolute;border-left: 1px solid gray;box-sizing: border-box;top: 0;bottom: 0;left: 50%;z-index: -1;}#sk-container-id-1 div.sk-parallel-item {display: flex;flex-direction: column;z-index: 1;position: relative;background-color: white;}#sk-container-id-1 div.sk-parallel-item:first-child::after {align-self: flex-end;width: 50%;}#sk-container-id-1 div.sk-parallel-item:last-child::after {align-self: flex-start;width: 50%;}#sk-container-id-1 div.sk-parallel-item:only-child::after {width: 0;}#sk-container-id-1 div.sk-dashed-wrapped {border: 1px dashed gray;margin: 0 0.4em 0.5em 0.4em;box-sizing: border-box;padding-bottom: 0.4em;background-color: white;}#sk-container-id-1 div.sk-label label {font-family: monospace;font-weight: bold;display: inline-block;line-height: 1.2em;}#sk-container-id-1 div.sk-label-container {text-align: center;}#sk-container-id-1 div.sk-container {/* jupyter's `normalize.less` sets `[hidden] { display: none; }` but bootstrap.min.css set `[hidden] { display: none !important; }` so we also need the `!important` here to be able to override the default hidden behavior on the sphinx rendered scikit-learn.org. See: https://github.com/scikit-learn/scikit-learn/issues/21755 */display: inline-block !important;position: relative;}#sk-container-id-1 div.sk-text-repr-fallback {display: none;}</style><div id=\"sk-container-id-1\" class=\"sk-top-container\"><div class=\"sk-text-repr-fallback\"><pre>LatentDirichletAllocation(n_components=6, random_state=42)</pre><b>In a Jupyter environment, please rerun this cell to show the HTML representation or trust the notebook. <br />On GitHub, the HTML representation is unable to render, please try loading this page with nbviewer.org.</b></div><div class=\"sk-container\" hidden><div class=\"sk-item\"><div class=\"sk-estimator sk-toggleable\"><input class=\"sk-toggleable__control sk-hidden--visually\" id=\"sk-estimator-id-1\" type=\"checkbox\" checked><label for=\"sk-estimator-id-1\" class=\"sk-toggleable__label sk-toggleable__label-arrow\">LatentDirichletAllocation</label><div class=\"sk-toggleable__content\"><pre>LatentDirichletAllocation(n_components=6, random_state=42)</pre></div></div></div></div></div>"
      ],
      "text/plain": [
       "LatentDirichletAllocation(n_components=6, random_state=42)"
      ]
     },
     "execution_count": 12,
     "metadata": {},
     "output_type": "execute_result"
    }
   ],
   "source": [
    "lda = LatentDirichletAllocation(n_components=6, random_state=42)\n",
    "lda.fit(dtm)"
   ]
  },
  {
   "cell_type": "markdown",
   "id": "a2f3296f",
   "metadata": {},
   "source": [
    "## Analyse extracted features"
   ]
  },
  {
   "cell_type": "code",
   "execution_count": 13,
   "id": "44c85ba2",
   "metadata": {},
   "outputs": [
    {
     "data": {
      "text/plain": [
       "21449"
      ]
     },
     "execution_count": 13,
     "metadata": {},
     "output_type": "execute_result"
    }
   ],
   "source": [
    "len(cv.get_feature_names_out())"
   ]
  },
  {
   "cell_type": "code",
   "execution_count": 14,
   "id": "79a3b48a",
   "metadata": {},
   "outputs": [
    {
     "data": {
      "text/plain": [
       "array(['00', '000', '007', ..., 'übung', 'übungen', 'украинцы'],\n",
       "      dtype=object)"
      ]
     },
     "execution_count": 14,
     "metadata": {},
     "output_type": "execute_result"
    }
   ],
   "source": [
    "cv.get_feature_names_out()"
   ]
  },
  {
   "cell_type": "code",
   "execution_count": 15,
   "id": "6d276a41",
   "metadata": {},
   "outputs": [
    {
     "data": {
      "text/plain": [
       "6"
      ]
     },
     "execution_count": 15,
     "metadata": {},
     "output_type": "execute_result"
    }
   ],
   "source": [
    "len(lda.components_)"
   ]
  },
  {
   "cell_type": "code",
   "execution_count": 16,
   "id": "be61548c",
   "metadata": {},
   "outputs": [
    {
     "data": {
      "text/plain": [
       "array([[  0.16684159,  95.44342752,   0.1666677 , ...,   4.01039289,\n",
       "          0.16713425,   0.16667149],\n",
       "       [  0.16666733,  67.74460047,   0.16666754, ...,   3.81209869,\n",
       "          2.28654669,   0.16667097],\n",
       "       [  0.1671256 , 109.12864667,   0.16828477, ...,   0.16959585,\n",
       "          1.2718277 ,   0.16667232],\n",
       "       [  2.16584595,   0.16760458,   0.16667342, ...,   3.67334276,\n",
       "          2.62498034,   0.16667216],\n",
       "       [  0.16666757,   0.70861897,   2.16503884, ...,   0.16712812,\n",
       "          1.48276022,   0.16667257],\n",
       "       [  0.16685196,  68.80710178,   0.16666773, ...,   0.16744169,\n",
       "          0.1667508 ,   2.16664048]])"
      ]
     },
     "execution_count": 16,
     "metadata": {},
     "output_type": "execute_result"
    }
   ],
   "source": [
    "lda.components_"
   ]
  },
  {
   "cell_type": "code",
   "execution_count": 17,
   "id": "45a65bd8",
   "metadata": {},
   "outputs": [
    {
     "data": {
      "text/plain": [
       "21449"
      ]
     },
     "execution_count": 17,
     "metadata": {},
     "output_type": "execute_result"
    }
   ],
   "source": [
    "len(lda.components_[0])"
   ]
  },
  {
   "cell_type": "markdown",
   "id": "9e30cf34",
   "metadata": {},
   "source": [
    "### Show most important words of first extracted topic"
   ]
  },
  {
   "cell_type": "code",
   "execution_count": 18,
   "id": "c617b9e0",
   "metadata": {},
   "outputs": [],
   "source": [
    "first_topic = lda.components_[0]"
   ]
  },
  {
   "cell_type": "code",
   "execution_count": 19,
   "id": "258f618e",
   "metadata": {},
   "outputs": [
    {
     "data": {
      "text/plain": [
       "array([10926, 11727,  4581, ...,  5537, 20137,  5482], dtype=int64)"
      ]
     },
     "execution_count": 19,
     "metadata": {},
     "output_type": "execute_result"
    }
   ],
   "source": [
    "first_topic.argsort() # returns indices of ascending sorted array values "
   ]
  },
  {
   "cell_type": "code",
   "execution_count": 20,
   "id": "5966880a",
   "metadata": {},
   "outputs": [],
   "source": [
    "# the last 10 entries are the 10 most important words for topic 1\n",
    "top_words_indices = first_topic.argsort()[-10:]"
   ]
  },
  {
   "cell_type": "code",
   "execution_count": 21,
   "id": "11648839",
   "metadata": {},
   "outputs": [
    {
     "name": "stdout",
     "output_type": "stream",
     "text": [
      "deutschland\n",
      "haft\n",
      "us\n",
      "frankreich\n",
      "scholz\n",
      "trump\n",
      "eu\n",
      "ex\n",
      "wegen\n",
      "euro\n"
     ]
    }
   ],
   "source": [
    "for index in top_words_indices:\n",
    "    print(cv.get_feature_names_out()[index])"
   ]
  },
  {
   "cell_type": "markdown",
   "id": "0d661247",
   "metadata": {},
   "source": [
    "### Show most important words of first extracted topic"
   ]
  },
  {
   "cell_type": "code",
   "execution_count": 22,
   "id": "f789d8f2",
   "metadata": {},
   "outputs": [
    {
     "name": "stdout",
     "output_type": "stream",
     "text": [
      "Die TOP-15 Wörter für das Thema #0\n",
      "['grünen', 'ticket', 'jahre', 'präsident', 'faeser', 'deutschland', 'haft', 'us', 'frankreich', 'scholz', 'trump', 'eu', 'ex', 'wegen', 'euro']\n",
      "\n",
      "\n",
      "Die TOP-15 Wörter für das Thema #1\n",
      "['angriff', 'russischer', 'selenskyj', 'neue', 'invasion', 'stimmen', 'tote', 'iran', 'putins', 'lage', 'putin', 'russische', 'russland', 'krieg', 'ukraine']\n",
      "\n",
      "\n",
      "Die TOP-15 Wörter für das Thema #2\n",
      "['analyse', 'tote', 'putin', 'moskau', 'kiew', 'g7', 'zwei', 'us', 'taiwan', 'baerbock', 'gipfel', 'deutschland', 'usa', 'scholz', 'china']\n",
      "\n",
      "\n",
      "Die TOP-15 Wörter für das Thema #3\n",
      "['bundesliga', 'tot', 'geht', 'frauen', 'generation', 'letzte', 'türkei', 'us', 'wahrheit', 'cdu', 'wahl', 'wm', 'marktbericht', 'afd', 'berlin']\n",
      "\n",
      "\n",
      "Die TOP-15 Wörter für das Thema #4\n",
      "['türkei', 'stream', 'ukraine', 'eu', 'nord', 'chef', 'us', 'putin', 'russland', 'fordert', 'gas', 'akw', 'israel', 'deutschland', 'biden']\n",
      "\n",
      "\n",
      "Die TOP-15 Wörter für das Thema #5\n",
      "['regierung', 'news', 'deutschen', 'inflation', 'lauterbach', 'deutsche', 'pandemie', 'habeck', 'bayern', 'prozent', 'neuer', 'eu', 'klima', 'ampel', 'corona']\n",
      "\n",
      "\n"
     ]
    }
   ],
   "source": [
    "for index, topic in enumerate(lda.components_):\n",
    "    print(f'Die TOP-15 Wörter für das Thema #{index}')\n",
    "    print([cv.get_feature_names_out()[i] for i in topic.argsort()[-15:]])\n",
    "    print('\\n')"
   ]
  },
  {
   "cell_type": "markdown",
   "id": "a0973fc9",
   "metadata": {},
   "source": [
    "### Get topics with highest probability for news items in train data"
   ]
  },
  {
   "cell_type": "code",
   "execution_count": 23,
   "id": "0f46f47f",
   "metadata": {},
   "outputs": [
    {
     "data": {
      "text/plain": [
       "(53531, 6)"
      ]
     },
     "execution_count": 23,
     "metadata": {},
     "output_type": "execute_result"
    }
   ],
   "source": [
    "topic_results = lda.transform(dtm)\n",
    "topic_results.shape"
   ]
  },
  {
   "cell_type": "code",
   "execution_count": 24,
   "id": "823c7020",
   "metadata": {},
   "outputs": [
    {
     "data": {
      "text/plain": [
       "array([0.04176, 0.04172, 0.79136, 0.04172, 0.04175, 0.04169])"
      ]
     },
     "execution_count": 24,
     "metadata": {},
     "output_type": "execute_result"
    }
   ],
   "source": [
    "topic_results[0].round(5)"
   ]
  },
  {
   "cell_type": "code",
   "execution_count": 25,
   "id": "f68cacd0",
   "metadata": {},
   "outputs": [
    {
     "data": {
      "text/plain": [
       "2"
      ]
     },
     "execution_count": 25,
     "metadata": {},
     "output_type": "execute_result"
    }
   ],
   "source": [
    "topic_results[0].argmax()"
   ]
  },
  {
   "cell_type": "code",
   "execution_count": 26,
   "id": "6e11fb89",
   "metadata": {},
   "outputs": [],
   "source": [
    "# save topic to train dataset\n",
    "train['topic'] = topic_results.argmax(axis=1)"
   ]
  },
  {
   "cell_type": "code",
   "execution_count": 27,
   "id": "7eb2c522",
   "metadata": {},
   "outputs": [
    {
     "data": {
      "text/html": [
       "<div>\n",
       "<style scoped>\n",
       "    .dataframe tbody tr th:only-of-type {\n",
       "        vertical-align: middle;\n",
       "    }\n",
       "\n",
       "    .dataframe tbody tr th {\n",
       "        vertical-align: top;\n",
       "    }\n",
       "\n",
       "    .dataframe thead th {\n",
       "        text-align: right;\n",
       "    }\n",
       "</style>\n",
       "<table border=\"1\" class=\"dataframe\">\n",
       "  <thead>\n",
       "    <tr style=\"text-align: right;\">\n",
       "      <th></th>\n",
       "      <th>date</th>\n",
       "      <th>title</th>\n",
       "      <th>description</th>\n",
       "      <th>category</th>\n",
       "      <th>text</th>\n",
       "      <th>source</th>\n",
       "      <th>frequent_category</th>\n",
       "      <th>topic</th>\n",
       "    </tr>\n",
       "  </thead>\n",
       "  <tbody>\n",
       "    <tr>\n",
       "      <th>0</th>\n",
       "      <td>2023-06-29 11:57:00</td>\n",
       "      <td>Cyberbetrug in Philippinen: Großrazzia gegen M...</td>\n",
       "      <td>In den Philippinen wurden 2.724 Personen festg...</td>\n",
       "      <td>Missing</td>\n",
       "      <td>NaN</td>\n",
       "      <td>taz</td>\n",
       "      <td>Missing</td>\n",
       "      <td>2</td>\n",
       "    </tr>\n",
       "    <tr>\n",
       "      <th>1</th>\n",
       "      <td>2023-01-15 09:16:00</td>\n",
       "      <td>GPT: Eine Software, die die Welt verändert</td>\n",
       "      <td>GPT-3 ist eine jener Entwicklungen, die binnen...</td>\n",
       "      <td>Terra X - die Wissens-Kolumne</td>\n",
       "      <td>NaN</td>\n",
       "      <td>ZDF heute</td>\n",
       "      <td>Other</td>\n",
       "      <td>2</td>\n",
       "    </tr>\n",
       "    <tr>\n",
       "      <th>2</th>\n",
       "      <td>2023-03-04 15:13:32</td>\n",
       "      <td>Fußball: Hollerbach schießt Wehen Wiesbaden mi...</td>\n",
       "      <td>NaN</td>\n",
       "      <td>News</td>\n",
       "      <td>NaN</td>\n",
       "      <td>Zeit</td>\n",
       "      <td>News</td>\n",
       "      <td>5</td>\n",
       "    </tr>\n",
       "    <tr>\n",
       "      <th>3</th>\n",
       "      <td>2022-07-16 07:17:44</td>\n",
       "      <td>Leichtathletik-WM: Ein Auftakt mit Licht und S...</td>\n",
       "      <td>Stabhochspringerin Jacqueline Otchere jubelte,...</td>\n",
       "      <td>Missing</td>\n",
       "      <td>NaN</td>\n",
       "      <td>Tagesschau</td>\n",
       "      <td>Missing</td>\n",
       "      <td>3</td>\n",
       "    </tr>\n",
       "    <tr>\n",
       "      <th>4</th>\n",
       "      <td>2022-10-11 18:49:00</td>\n",
       "      <td>Geflüchtete in Deutschland: Nicht alle gleich ...</td>\n",
       "      <td>Die Innenministerin spricht sich für Solidarit...</td>\n",
       "      <td>Missing</td>\n",
       "      <td>NaN</td>\n",
       "      <td>taz</td>\n",
       "      <td>Missing</td>\n",
       "      <td>4</td>\n",
       "    </tr>\n",
       "  </tbody>\n",
       "</table>\n",
       "</div>"
      ],
      "text/plain": [
       "                  date                                              title  \\\n",
       "0  2023-06-29 11:57:00  Cyberbetrug in Philippinen: Großrazzia gegen M...   \n",
       "1  2023-01-15 09:16:00         GPT: Eine Software, die die Welt verändert   \n",
       "2  2023-03-04 15:13:32  Fußball: Hollerbach schießt Wehen Wiesbaden mi...   \n",
       "3  2022-07-16 07:17:44  Leichtathletik-WM: Ein Auftakt mit Licht und S...   \n",
       "4  2022-10-11 18:49:00  Geflüchtete in Deutschland: Nicht alle gleich ...   \n",
       "\n",
       "                                         description  \\\n",
       "0  In den Philippinen wurden 2.724 Personen festg...   \n",
       "1  GPT-3 ist eine jener Entwicklungen, die binnen...   \n",
       "2                                                NaN   \n",
       "3  Stabhochspringerin Jacqueline Otchere jubelte,...   \n",
       "4  Die Innenministerin spricht sich für Solidarit...   \n",
       "\n",
       "                        category  text      source frequent_category  topic  \n",
       "0                        Missing   NaN         taz           Missing      2  \n",
       "1  Terra X - die Wissens-Kolumne   NaN   ZDF heute             Other      2  \n",
       "2                           News   NaN        Zeit              News      5  \n",
       "3                        Missing   NaN  Tagesschau           Missing      3  \n",
       "4                        Missing   NaN         taz           Missing      4  "
      ]
     },
     "execution_count": 27,
     "metadata": {},
     "output_type": "execute_result"
    }
   ],
   "source": [
    "train.head()"
   ]
  },
  {
   "cell_type": "code",
   "execution_count": 28,
   "id": "78051ef9",
   "metadata": {},
   "outputs": [],
   "source": [
    "#Save result to csv\n",
    "train.to_csv('train_lda_topics_6.csv')"
   ]
  },
  {
   "cell_type": "code",
   "execution_count": null,
   "id": "205360e6",
   "metadata": {},
   "outputs": [],
   "source": []
  }
 ],
 "metadata": {
  "kernelspec": {
   "display_name": "nlp",
   "language": "python",
   "name": "nlp"
  },
  "language_info": {
   "codemirror_mode": {
    "name": "ipython",
    "version": 3
   },
   "file_extension": ".py",
   "mimetype": "text/x-python",
   "name": "python",
   "nbconvert_exporter": "python",
   "pygments_lexer": "ipython3",
   "version": "3.11.5"
  }
 },
 "nbformat": 4,
 "nbformat_minor": 5
}
