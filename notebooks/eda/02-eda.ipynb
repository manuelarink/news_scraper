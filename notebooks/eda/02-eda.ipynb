{
 "cells": [
  {
   "cell_type": "markdown",
   "id": "767d1c1f",
   "metadata": {},
   "source": [
    "# Exploratory Data Analysis"
   ]
  },
  {
   "cell_type": "code",
   "execution_count": 1,
   "id": "f1b6dbe6",
   "metadata": {},
   "outputs": [],
   "source": [
    "import pandas as pd\n",
    "import numpy as np\n",
    "import matplotlib.pyplot as plt\n",
    "import seaborn as sns\n",
    "import sqlalchemy as sql"
   ]
  },
  {
   "cell_type": "markdown",
   "id": "88ed8222",
   "metadata": {},
   "source": [
    "### Load the cleaned data from file"
   ]
  },
  {
   "cell_type": "code",
   "execution_count": 2,
   "id": "ab3d1a5c",
   "metadata": {},
   "outputs": [],
   "source": [
    "news = pd.read_csv('news.csv')"
   ]
  },
  {
   "cell_type": "code",
   "execution_count": 3,
   "id": "e0848d95",
   "metadata": {},
   "outputs": [
    {
     "data": {
      "text/html": [
       "<div>\n",
       "<style scoped>\n",
       "    .dataframe tbody tr th:only-of-type {\n",
       "        vertical-align: middle;\n",
       "    }\n",
       "\n",
       "    .dataframe tbody tr th {\n",
       "        vertical-align: top;\n",
       "    }\n",
       "\n",
       "    .dataframe thead th {\n",
       "        text-align: right;\n",
       "    }\n",
       "</style>\n",
       "<table border=\"1\" class=\"dataframe\">\n",
       "  <thead>\n",
       "    <tr style=\"text-align: right;\">\n",
       "      <th></th>\n",
       "      <th>date</th>\n",
       "      <th>title</th>\n",
       "      <th>description</th>\n",
       "      <th>category</th>\n",
       "      <th>text</th>\n",
       "      <th>source</th>\n",
       "    </tr>\n",
       "  </thead>\n",
       "  <tbody>\n",
       "    <tr>\n",
       "      <th>0</th>\n",
       "      <td>2022-06-01 00:13:42</td>\n",
       "      <td>Preise: Grüne halten Senkung der Spritsteuer f...</td>\n",
       "      <td>Heute tritt die Steuersenkung auf Kraftstoffe ...</td>\n",
       "      <td>Steuersenkung, Bundestag, Katharina Dröge, Spr...</td>\n",
       "      <td>NaN</td>\n",
       "      <td>stern</td>\n",
       "    </tr>\n",
       "    <tr>\n",
       "      <th>1</th>\n",
       "      <td>2022-06-01 01:55:03</td>\n",
       "      <td>Biden warnt Putin: USA liefern moderne Raketen...</td>\n",
       "      <td>Die USA rüsten die Ukraine mit fortschrittlich...</td>\n",
       "      <td>Ukraine, USA, Joe Biden, Russland, Raketensyst...</td>\n",
       "      <td>NaN</td>\n",
       "      <td>stern</td>\n",
       "    </tr>\n",
       "    <tr>\n",
       "      <th>2</th>\n",
       "      <td>2022-06-01 02:04:08</td>\n",
       "      <td>Soziale Medien: FDP-Politiker Kuhle: Internet-...</td>\n",
       "      <td>Eine «ZDF Magazin Royale»-Recherche beschäftig...</td>\n",
       "      <td>Konstantin Kuhle, FDP, Straftat, Berlin, ZDF, ...</td>\n",
       "      <td>NaN</td>\n",
       "      <td>stern</td>\n",
       "    </tr>\n",
       "    <tr>\n",
       "      <th>3</th>\n",
       "      <td>2022-06-01 02:26:58</td>\n",
       "      <td>Liveblog: ++ Zwei von drei ukrainischen Kinder...</td>\n",
       "      <td>Rund zwei von drei Mädchen und Jungen in der U...</td>\n",
       "      <td>NaN</td>\n",
       "      <td>NaN</td>\n",
       "      <td>Tagesschau</td>\n",
       "    </tr>\n",
       "    <tr>\n",
       "      <th>4</th>\n",
       "      <td>2022-06-01 02:31:43</td>\n",
       "      <td>Finanzen: Dänemark stimmt über EU-Verteidigung...</td>\n",
       "      <td>Vorbehalt verteidigen oder Verteidigung ohne V...</td>\n",
       "      <td>Dänemark, EU, Volksabstimmung, Finanzen, Ukrai...</td>\n",
       "      <td>NaN</td>\n",
       "      <td>stern</td>\n",
       "    </tr>\n",
       "  </tbody>\n",
       "</table>\n",
       "</div>"
      ],
      "text/plain": [
       "                  date                                              title  \\\n",
       "0  2022-06-01 00:13:42  Preise: Grüne halten Senkung der Spritsteuer f...   \n",
       "1  2022-06-01 01:55:03  Biden warnt Putin: USA liefern moderne Raketen...   \n",
       "2  2022-06-01 02:04:08  Soziale Medien: FDP-Politiker Kuhle: Internet-...   \n",
       "3  2022-06-01 02:26:58  Liveblog: ++ Zwei von drei ukrainischen Kinder...   \n",
       "4  2022-06-01 02:31:43  Finanzen: Dänemark stimmt über EU-Verteidigung...   \n",
       "\n",
       "                                         description  \\\n",
       "0  Heute tritt die Steuersenkung auf Kraftstoffe ...   \n",
       "1  Die USA rüsten die Ukraine mit fortschrittlich...   \n",
       "2  Eine «ZDF Magazin Royale»-Recherche beschäftig...   \n",
       "3  Rund zwei von drei Mädchen und Jungen in der U...   \n",
       "4  Vorbehalt verteidigen oder Verteidigung ohne V...   \n",
       "\n",
       "                                            category  text      source  \n",
       "0  Steuersenkung, Bundestag, Katharina Dröge, Spr...   NaN       stern  \n",
       "1  Ukraine, USA, Joe Biden, Russland, Raketensyst...   NaN       stern  \n",
       "2  Konstantin Kuhle, FDP, Straftat, Berlin, ZDF, ...   NaN       stern  \n",
       "3                                                NaN   NaN  Tagesschau  \n",
       "4  Dänemark, EU, Volksabstimmung, Finanzen, Ukrai...   NaN       stern  "
      ]
     },
     "execution_count": 3,
     "metadata": {},
     "output_type": "execute_result"
    }
   ],
   "source": [
    "#news.sort_values(by='date', ascending=False, inplace=True)\n",
    "news.head()"
   ]
  },
  {
   "cell_type": "markdown",
   "id": "acfa8d5a",
   "metadata": {},
   "source": [
    "### Show news entries over time"
   ]
  },
  {
   "cell_type": "code",
   "execution_count": 4,
   "id": "f2f5884f",
   "metadata": {},
   "outputs": [
    {
     "name": "stdout",
     "output_type": "stream",
     "text": [
      "0\n"
     ]
    }
   ],
   "source": [
    "print(news['date'].isnull().sum())"
   ]
  },
  {
   "cell_type": "code",
   "execution_count": null,
   "id": "61795dca",
   "metadata": {},
   "outputs": [],
   "source": []
  },
  {
   "cell_type": "code",
   "execution_count": null,
   "id": "2d3b8969",
   "metadata": {},
   "outputs": [],
   "source": []
  }
 ],
 "metadata": {
  "kernelspec": {
   "display_name": "nlp",
   "language": "python",
   "name": "nlp"
  },
  "language_info": {
   "codemirror_mode": {
    "name": "ipython",
    "version": 3
   },
   "file_extension": ".py",
   "mimetype": "text/x-python",
   "name": "python",
   "nbconvert_exporter": "python",
   "pygments_lexer": "ipython3",
   "version": "3.11.5"
  }
 },
 "nbformat": 4,
 "nbformat_minor": 5
}
