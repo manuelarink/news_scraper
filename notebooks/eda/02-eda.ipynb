{
 "cells": [
  {
   "cell_type": "markdown",
   "id": "767d1c1f",
   "metadata": {},
   "source": [
    "# Exploratory Data Analysis"
   ]
  },
  {
   "cell_type": "code",
   "execution_count": 1,
   "id": "f1b6dbe6",
   "metadata": {},
   "outputs": [],
   "source": [
    "import pandas as pd\n",
    "import numpy as np\n",
    "import matplotlib.pyplot as plt\n",
    "import seaborn as sns\n",
    "import sqlalchemy as sql"
   ]
  },
  {
   "cell_type": "markdown",
   "id": "88ed8222",
   "metadata": {},
   "source": [
    "### Load the cleaned data from file"
   ]
  },
  {
   "cell_type": "code",
   "execution_count": 2,
   "id": "ab3d1a5c",
   "metadata": {},
   "outputs": [],
   "source": [
    "news = pd.read_csv('news.csv')"
   ]
  },
  {
   "cell_type": "code",
   "execution_count": 3,
   "id": "e0848d95",
   "metadata": {},
   "outputs": [
    {
     "data": {
      "text/html": [
       "<div>\n",
       "<style scoped>\n",
       "    .dataframe tbody tr th:only-of-type {\n",
       "        vertical-align: middle;\n",
       "    }\n",
       "\n",
       "    .dataframe tbody tr th {\n",
       "        vertical-align: top;\n",
       "    }\n",
       "\n",
       "    .dataframe thead th {\n",
       "        text-align: right;\n",
       "    }\n",
       "</style>\n",
       "<table border=\"1\" class=\"dataframe\">\n",
       "  <thead>\n",
       "    <tr style=\"text-align: right;\">\n",
       "      <th></th>\n",
       "      <th>date</th>\n",
       "      <th>title</th>\n",
       "      <th>description</th>\n",
       "      <th>category</th>\n",
       "      <th>text</th>\n",
       "      <th>source</th>\n",
       "    </tr>\n",
       "  </thead>\n",
       "  <tbody>\n",
       "    <tr>\n",
       "      <th>72680</th>\n",
       "      <td>2023-09-22 21:40:00</td>\n",
       "      <td>Lege packt aus: Urlaubsflair im Supermarkt</td>\n",
       "      <td>Die Lebensmittelindustrie hat Produkte aus dem...</td>\n",
       "      <td>ZDFinfo Doku</td>\n",
       "      <td>NaN</td>\n",
       "      <td>ZDF heute</td>\n",
       "    </tr>\n",
       "    <tr>\n",
       "      <th>72679</th>\n",
       "      <td>2023-09-22 09:43:41</td>\n",
       "      <td>Streik-Ticker - Verdi hat zum Warnstreik bei K...</td>\n",
       "      <td>Heute hat Verdi die Angestellten von Kaufland ...</td>\n",
       "      <td>Wirtschafts-News</td>\n",
       "      <td>NaN</td>\n",
       "      <td>Focus</td>\n",
       "    </tr>\n",
       "    <tr>\n",
       "      <th>72678</th>\n",
       "      <td>2023-09-22 09:40:40</td>\n",
       "      <td>Innenministerin unter Druck - „Das Ziel wurde ...</td>\n",
       "      <td>Für Bundesinnenministerin Nancy Faeser ist die...</td>\n",
       "      <td>Politik</td>\n",
       "      <td>NaN</td>\n",
       "      <td>Focus</td>\n",
       "    </tr>\n",
       "    <tr>\n",
       "      <th>72677</th>\n",
       "      <td>2023-09-22 09:39:25</td>\n",
       "      <td>Technologiekrieg eskaliert - China stoppt krit...</td>\n",
       "      <td>Pekings jüngster Zug: Der Stopp des Exports zw...</td>\n",
       "      <td>Ausland</td>\n",
       "      <td>NaN</td>\n",
       "      <td>Focus</td>\n",
       "    </tr>\n",
       "    <tr>\n",
       "      <th>72676</th>\n",
       "      <td>2023-09-22 09:21:00</td>\n",
       "      <td>Rassismus nimmt wieder zu: Die nächste Welle</td>\n",
       "      <td>Unsere Kolumnistin kennt Rassismus seit Kindes...</td>\n",
       "      <td>NaN</td>\n",
       "      <td>NaN</td>\n",
       "      <td>taz</td>\n",
       "    </tr>\n",
       "  </tbody>\n",
       "</table>\n",
       "</div>"
      ],
      "text/plain": [
       "                      date                                              title  \\\n",
       "72680  2023-09-22 21:40:00         Lege packt aus: Urlaubsflair im Supermarkt   \n",
       "72679  2023-09-22 09:43:41  Streik-Ticker - Verdi hat zum Warnstreik bei K...   \n",
       "72678  2023-09-22 09:40:40  Innenministerin unter Druck - „Das Ziel wurde ...   \n",
       "72677  2023-09-22 09:39:25  Technologiekrieg eskaliert - China stoppt krit...   \n",
       "72676  2023-09-22 09:21:00       Rassismus nimmt wieder zu: Die nächste Welle   \n",
       "\n",
       "                                             description          category  \\\n",
       "72680  Die Lebensmittelindustrie hat Produkte aus dem...      ZDFinfo Doku   \n",
       "72679  Heute hat Verdi die Angestellten von Kaufland ...  Wirtschafts-News   \n",
       "72678  Für Bundesinnenministerin Nancy Faeser ist die...           Politik   \n",
       "72677  Pekings jüngster Zug: Der Stopp des Exports zw...           Ausland   \n",
       "72676  Unsere Kolumnistin kennt Rassismus seit Kindes...               NaN   \n",
       "\n",
       "      text     source  \n",
       "72680  NaN  ZDF heute  \n",
       "72679  NaN      Focus  \n",
       "72678  NaN      Focus  \n",
       "72677  NaN      Focus  \n",
       "72676  NaN        taz  "
      ]
     },
     "execution_count": 3,
     "metadata": {},
     "output_type": "execute_result"
    }
   ],
   "source": [
    "news.sort_values(by='date', ascending=False, inplace=True)\n",
    "news.head()"
   ]
  },
  {
   "cell_type": "markdown",
   "id": "acfa8d5a",
   "metadata": {},
   "source": [
    "### Show values of feature category"
   ]
  },
  {
   "cell_type": "code",
   "execution_count": 19,
   "id": "f2f5884f",
   "metadata": {},
   "outputs": [
    {
     "name": "stdout",
     "output_type": "stream",
     "text": [
      "27424\n"
     ]
    }
   ],
   "source": [
    "print(news['category'].isnull().sum())"
   ]
  },
  {
   "cell_type": "code",
   "execution_count": 17,
   "id": "61795dca",
   "metadata": {},
   "outputs": [
    {
     "data": {
      "text/plain": [
       "category\n",
       "News                             4575\n",
       "Ausland                          4066\n",
       "Deutschland                      3551\n",
       "Ukraine-Krise                    1390\n",
       "Wirtschaft                       1231\n",
       "                                 ... \n",
       "Freihandel und grüne Energien       1\n",
       "China verstimmt über Pläne          1\n",
       "Getreidedeal                        1\n",
       "Fahrer festgenommen                 1\n",
       "Einblick in die Arbeit              1\n",
       "Name: count, Length: 19593, dtype: int64"
      ]
     },
     "execution_count": 17,
     "metadata": {},
     "output_type": "execute_result"
    }
   ],
   "source": [
    "news['category'].value_counts()"
   ]
  },
  {
   "cell_type": "code",
   "execution_count": null,
   "id": "2d3b8969",
   "metadata": {},
   "outputs": [],
   "source": []
  }
 ],
 "metadata": {
  "kernelspec": {
   "display_name": "nlp",
   "language": "python",
   "name": "nlp"
  },
  "language_info": {
   "codemirror_mode": {
    "name": "ipython",
    "version": 3
   },
   "file_extension": ".py",
   "mimetype": "text/x-python",
   "name": "python",
   "nbconvert_exporter": "python",
   "pygments_lexer": "ipython3",
   "version": "3.11.5"
  }
 },
 "nbformat": 4,
 "nbformat_minor": 5
}
