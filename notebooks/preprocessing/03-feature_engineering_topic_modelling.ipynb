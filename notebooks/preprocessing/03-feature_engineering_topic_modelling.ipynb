{
 "cells": [
  {
   "cell_type": "markdown",
   "id": "767d1c1f",
   "metadata": {},
   "source": [
    "# Feature engineering for classification and topic modelling of news headlines"
   ]
  },
  {
   "cell_type": "markdown",
   "id": "c53ef551",
   "metadata": {},
   "source": [
    "As a first task we want to explore the different labels of category of the gathered news items. Missing values will be filled with 'Missing', rare labels will be grouped as 'Other'.\n",
    "In a later step we want to train a ML model for text classification to predict a category label (supervised learning) as well as clustering the news into different topics (unsupervised learning) and compare them with the labeled categories."
   ]
  },
  {
   "cell_type": "code",
   "execution_count": 1,
   "id": "f1b6dbe6",
   "metadata": {},
   "outputs": [],
   "source": [
    "import pandas as pd\n",
    "import numpy as np\n",
    "import matplotlib.pyplot as plt\n",
    "import seaborn as sns\n",
    "import sqlalchemy as sql"
   ]
  },
  {
   "cell_type": "markdown",
   "id": "88ed8222",
   "metadata": {},
   "source": [
    "### Load the cleaned data from file"
   ]
  },
  {
   "cell_type": "code",
   "execution_count": 2,
   "id": "ab3d1a5c",
   "metadata": {},
   "outputs": [],
   "source": [
    "news = pd.read_csv('../eda/news.csv')"
   ]
  },
  {
   "cell_type": "code",
   "execution_count": 3,
   "id": "e0848d95",
   "metadata": {},
   "outputs": [
    {
     "data": {
      "text/html": [
       "<div>\n",
       "<style scoped>\n",
       "    .dataframe tbody tr th:only-of-type {\n",
       "        vertical-align: middle;\n",
       "    }\n",
       "\n",
       "    .dataframe tbody tr th {\n",
       "        vertical-align: top;\n",
       "    }\n",
       "\n",
       "    .dataframe thead th {\n",
       "        text-align: right;\n",
       "    }\n",
       "</style>\n",
       "<table border=\"1\" class=\"dataframe\">\n",
       "  <thead>\n",
       "    <tr style=\"text-align: right;\">\n",
       "      <th></th>\n",
       "      <th>date</th>\n",
       "      <th>title</th>\n",
       "      <th>description</th>\n",
       "      <th>category</th>\n",
       "      <th>text</th>\n",
       "      <th>source</th>\n",
       "    </tr>\n",
       "  </thead>\n",
       "  <tbody>\n",
       "    <tr>\n",
       "      <th>72711</th>\n",
       "      <td>2023-09-25 21:45:00</td>\n",
       "      <td>Mythos Normannen: Richard Löwenherz</td>\n",
       "      <td>Im 12. Jahrhundert erlebt die Normandie eine B...</td>\n",
       "      <td>ZDFinfo Doku</td>\n",
       "      <td>NaN</td>\n",
       "      <td>ZDF heute</td>\n",
       "    </tr>\n",
       "    <tr>\n",
       "      <th>72710</th>\n",
       "      <td>2023-09-25 10:40:35</td>\n",
       "      <td>Geschäftsklima sinkt weiter: \"Wirtschaft tritt...</td>\n",
       "      <td>Erneut beurteilen deutsche Führungskräfte das ...</td>\n",
       "      <td>NaN</td>\n",
       "      <td>NaN</td>\n",
       "      <td>Tagesschau</td>\n",
       "    </tr>\n",
       "    <tr>\n",
       "      <th>72709</th>\n",
       "      <td>2023-09-25 10:38:05</td>\n",
       "      <td>Liveblog: ++ Merz drängt auf rasche Marschflug...</td>\n",
       "      <td>Unionsfraktionschef Merz drängt die Regierung ...</td>\n",
       "      <td>NaN</td>\n",
       "      <td>NaN</td>\n",
       "      <td>Tagesschau</td>\n",
       "    </tr>\n",
       "    <tr>\n",
       "      <th>72708</th>\n",
       "      <td>2023-09-25 10:36:36</td>\n",
       "      <td>Mobilfunkanbieter-Daten: Klagewelle wegen Schufa?</td>\n",
       "      <td>Nach einem Gerichtsurteil drohen Mobilfunkanbi...</td>\n",
       "      <td>NaN</td>\n",
       "      <td>NaN</td>\n",
       "      <td>Tagesschau</td>\n",
       "    </tr>\n",
       "    <tr>\n",
       "      <th>72707</th>\n",
       "      <td>2023-09-25 10:36:09</td>\n",
       "      <td>Baugipfel in Berlin: Was die Regierung gegen d...</td>\n",
       "      <td>Zunächst kein Dämmstandard EH 40, dafür Steuer...</td>\n",
       "      <td>NaN</td>\n",
       "      <td>NaN</td>\n",
       "      <td>Tagesschau</td>\n",
       "    </tr>\n",
       "  </tbody>\n",
       "</table>\n",
       "</div>"
      ],
      "text/plain": [
       "                      date                                              title  \\\n",
       "72711  2023-09-25 21:45:00                Mythos Normannen: Richard Löwenherz   \n",
       "72710  2023-09-25 10:40:35  Geschäftsklima sinkt weiter: \"Wirtschaft tritt...   \n",
       "72709  2023-09-25 10:38:05  Liveblog: ++ Merz drängt auf rasche Marschflug...   \n",
       "72708  2023-09-25 10:36:36  Mobilfunkanbieter-Daten: Klagewelle wegen Schufa?   \n",
       "72707  2023-09-25 10:36:09  Baugipfel in Berlin: Was die Regierung gegen d...   \n",
       "\n",
       "                                             description      category text  \\\n",
       "72711  Im 12. Jahrhundert erlebt die Normandie eine B...  ZDFinfo Doku  NaN   \n",
       "72710  Erneut beurteilen deutsche Führungskräfte das ...           NaN  NaN   \n",
       "72709  Unionsfraktionschef Merz drängt die Regierung ...           NaN  NaN   \n",
       "72708  Nach einem Gerichtsurteil drohen Mobilfunkanbi...           NaN  NaN   \n",
       "72707  Zunächst kein Dämmstandard EH 40, dafür Steuer...           NaN  NaN   \n",
       "\n",
       "           source  \n",
       "72711   ZDF heute  \n",
       "72710  Tagesschau  \n",
       "72709  Tagesschau  \n",
       "72708  Tagesschau  \n",
       "72707  Tagesschau  "
      ]
     },
     "execution_count": 3,
     "metadata": {},
     "output_type": "execute_result"
    }
   ],
   "source": [
    "news.sort_values(by='date', ascending=False, inplace=True)\n",
    "news.head()"
   ]
  },
  {
   "cell_type": "markdown",
   "id": "7af31240",
   "metadata": {},
   "source": [
    "### Replace missing categories by 'Missing'"
   ]
  },
  {
   "cell_type": "markdown",
   "id": "0899dcb6",
   "metadata": {},
   "source": [
    "First we detect the number of missing values in category and replace them with 'Missing'."
   ]
  },
  {
   "cell_type": "code",
   "execution_count": 4,
   "id": "399d1806",
   "metadata": {},
   "outputs": [
    {
     "name": "stdout",
     "output_type": "stream",
     "text": [
      "27435\n"
     ]
    }
   ],
   "source": [
    "print(news['category'].isnull().sum())"
   ]
  },
  {
   "cell_type": "code",
   "execution_count": 5,
   "id": "670e1cec",
   "metadata": {},
   "outputs": [
    {
     "name": "stdout",
     "output_type": "stream",
     "text": [
      "0\n"
     ]
    }
   ],
   "source": [
    "news['category'] = news['category'].fillna('Missing')\n",
    "print(news['category'].isnull().sum())"
   ]
  },
  {
   "cell_type": "markdown",
   "id": "5dbfc2d0",
   "metadata": {},
   "source": [
    "### Remove rare labels from category and group them as 'Other'"
   ]
  },
  {
   "cell_type": "code",
   "execution_count": 6,
   "id": "12fb12e4",
   "metadata": {},
   "outputs": [
    {
     "name": "stdout",
     "output_type": "stream",
     "text": [
      "19600\n"
     ]
    }
   ],
   "source": [
    "print(news['category'].nunique())"
   ]
  },
  {
   "cell_type": "markdown",
   "id": "5f55056c",
   "metadata": {},
   "source": [
    "We have 19600 different category labels. We will group those categories that are present \n",
    "in less than 1% of the observations into a new label 'Other'."
   ]
  },
  {
   "cell_type": "code",
   "execution_count": 7,
   "id": "601ad08f",
   "metadata": {},
   "outputs": [],
   "source": [
    "tmp = news.groupby('category')['category'].count() / len(news)\n",
    "frequent_labels_percentage = tmp[tmp > 0.01]"
   ]
  },
  {
   "cell_type": "code",
   "execution_count": 8,
   "id": "53fec1b7",
   "metadata": {},
   "outputs": [
    {
     "name": "stdout",
     "output_type": "stream",
     "text": [
      "category\n",
      "Ausland          0.055947\n",
      "Deutschland      0.048837\n",
      "Missing          0.377310\n",
      "News             0.063029\n",
      "Politik          0.012405\n",
      "Ukraine-Krise    0.019117\n",
      "Wirtschaft       0.016944\n",
      "Name: category, dtype: float64\n"
     ]
    }
   ],
   "source": [
    "print(frequent_labels_percentage)"
   ]
  },
  {
   "cell_type": "code",
   "execution_count": 9,
   "id": "1827afe3",
   "metadata": {},
   "outputs": [
    {
     "name": "stdout",
     "output_type": "stream",
     "text": [
      "['Ausland', 'Deutschland', 'Missing', 'News', 'Politik', 'Ukraine-Krise', 'Wirtschaft']\n"
     ]
    }
   ],
   "source": [
    "frequent_labels = frequent_labels_percentage.index.to_list()\n",
    "print(frequent_labels)"
   ]
  },
  {
   "cell_type": "code",
   "execution_count": 10,
   "id": "666d1c9c",
   "metadata": {},
   "outputs": [
    {
     "data": {
      "text/html": [
       "<div>\n",
       "<style scoped>\n",
       "    .dataframe tbody tr th:only-of-type {\n",
       "        vertical-align: middle;\n",
       "    }\n",
       "\n",
       "    .dataframe tbody tr th {\n",
       "        vertical-align: top;\n",
       "    }\n",
       "\n",
       "    .dataframe thead th {\n",
       "        text-align: right;\n",
       "    }\n",
       "</style>\n",
       "<table border=\"1\" class=\"dataframe\">\n",
       "  <thead>\n",
       "    <tr style=\"text-align: right;\">\n",
       "      <th></th>\n",
       "      <th>date</th>\n",
       "      <th>title</th>\n",
       "      <th>description</th>\n",
       "      <th>category</th>\n",
       "      <th>text</th>\n",
       "      <th>source</th>\n",
       "      <th>frequent_category</th>\n",
       "    </tr>\n",
       "  </thead>\n",
       "  <tbody>\n",
       "    <tr>\n",
       "      <th>72711</th>\n",
       "      <td>2023-09-25 21:45:00</td>\n",
       "      <td>Mythos Normannen: Richard Löwenherz</td>\n",
       "      <td>Im 12. Jahrhundert erlebt die Normandie eine B...</td>\n",
       "      <td>ZDFinfo Doku</td>\n",
       "      <td>NaN</td>\n",
       "      <td>ZDF heute</td>\n",
       "      <td>Other</td>\n",
       "    </tr>\n",
       "    <tr>\n",
       "      <th>72710</th>\n",
       "      <td>2023-09-25 10:40:35</td>\n",
       "      <td>Geschäftsklima sinkt weiter: \"Wirtschaft tritt...</td>\n",
       "      <td>Erneut beurteilen deutsche Führungskräfte das ...</td>\n",
       "      <td>Missing</td>\n",
       "      <td>NaN</td>\n",
       "      <td>Tagesschau</td>\n",
       "      <td>Missing</td>\n",
       "    </tr>\n",
       "    <tr>\n",
       "      <th>72709</th>\n",
       "      <td>2023-09-25 10:38:05</td>\n",
       "      <td>Liveblog: ++ Merz drängt auf rasche Marschflug...</td>\n",
       "      <td>Unionsfraktionschef Merz drängt die Regierung ...</td>\n",
       "      <td>Missing</td>\n",
       "      <td>NaN</td>\n",
       "      <td>Tagesschau</td>\n",
       "      <td>Missing</td>\n",
       "    </tr>\n",
       "    <tr>\n",
       "      <th>72708</th>\n",
       "      <td>2023-09-25 10:36:36</td>\n",
       "      <td>Mobilfunkanbieter-Daten: Klagewelle wegen Schufa?</td>\n",
       "      <td>Nach einem Gerichtsurteil drohen Mobilfunkanbi...</td>\n",
       "      <td>Missing</td>\n",
       "      <td>NaN</td>\n",
       "      <td>Tagesschau</td>\n",
       "      <td>Missing</td>\n",
       "    </tr>\n",
       "    <tr>\n",
       "      <th>72707</th>\n",
       "      <td>2023-09-25 10:36:09</td>\n",
       "      <td>Baugipfel in Berlin: Was die Regierung gegen d...</td>\n",
       "      <td>Zunächst kein Dämmstandard EH 40, dafür Steuer...</td>\n",
       "      <td>Missing</td>\n",
       "      <td>NaN</td>\n",
       "      <td>Tagesschau</td>\n",
       "      <td>Missing</td>\n",
       "    </tr>\n",
       "  </tbody>\n",
       "</table>\n",
       "</div>"
      ],
      "text/plain": [
       "                      date                                              title  \\\n",
       "72711  2023-09-25 21:45:00                Mythos Normannen: Richard Löwenherz   \n",
       "72710  2023-09-25 10:40:35  Geschäftsklima sinkt weiter: \"Wirtschaft tritt...   \n",
       "72709  2023-09-25 10:38:05  Liveblog: ++ Merz drängt auf rasche Marschflug...   \n",
       "72708  2023-09-25 10:36:36  Mobilfunkanbieter-Daten: Klagewelle wegen Schufa?   \n",
       "72707  2023-09-25 10:36:09  Baugipfel in Berlin: Was die Regierung gegen d...   \n",
       "\n",
       "                                             description      category text  \\\n",
       "72711  Im 12. Jahrhundert erlebt die Normandie eine B...  ZDFinfo Doku  NaN   \n",
       "72710  Erneut beurteilen deutsche Führungskräfte das ...       Missing  NaN   \n",
       "72709  Unionsfraktionschef Merz drängt die Regierung ...       Missing  NaN   \n",
       "72708  Nach einem Gerichtsurteil drohen Mobilfunkanbi...       Missing  NaN   \n",
       "72707  Zunächst kein Dämmstandard EH 40, dafür Steuer...       Missing  NaN   \n",
       "\n",
       "           source frequent_category  \n",
       "72711   ZDF heute             Other  \n",
       "72710  Tagesschau           Missing  \n",
       "72709  Tagesschau           Missing  \n",
       "72708  Tagesschau           Missing  \n",
       "72707  Tagesschau           Missing  "
      ]
     },
     "execution_count": 10,
     "metadata": {},
     "output_type": "execute_result"
    }
   ],
   "source": [
    "news['frequent_category'] = np.where(news['category'].isin(frequent_labels), news['category'], 'Other')\n",
    "news.head()"
   ]
  },
  {
   "cell_type": "code",
   "execution_count": 11,
   "id": "c0d95b85",
   "metadata": {},
   "outputs": [
    {
     "data": {
      "text/plain": [
       "frequent_category\n",
       "Other            29551\n",
       "Missing          27435\n",
       "News              4583\n",
       "Ausland           4068\n",
       "Deutschland       3551\n",
       "Ukraine-Krise     1390\n",
       "Wirtschaft        1232\n",
       "Politik            902\n",
       "Name: count, dtype: int64"
      ]
     },
     "execution_count": 11,
     "metadata": {},
     "output_type": "execute_result"
    }
   ],
   "source": [
    "news['frequent_category'].value_counts()"
   ]
  },
  {
   "cell_type": "code",
   "execution_count": 12,
   "id": "edb05eff",
   "metadata": {},
   "outputs": [
    {
     "data": {
      "image/png": "[encoded data removed]",
      "text/plain": [
       "<Figure size 1000x500 with 1 Axes>"
      ]
     },
     "metadata": {},
     "output_type": "display_data"
    }
   ],
   "source": [
    "fig, ax = plt.subplots(figsize=(10, 5))\n",
    "sns.countplot(data=news, x='frequent_category', order=news['frequent_category'].value_counts().index)\n",
    "plt.title('Most frequent category labels of news headlines')\n",
    "plt.show()"
   ]
  },
  {
   "cell_type": "markdown",
   "id": "625dc403",
   "metadata": {},
   "source": [
    "### Store news"
   ]
  },
  {
   "cell_type": "code",
   "execution_count": 13,
   "id": "25b81b0e",
   "metadata": {},
   "outputs": [],
   "source": [
    "news.to_csv('news_feat_eng.csv', index=False)"
   ]
  }
 ],
 "metadata": {
  "kernelspec": {
   "display_name": "nlp",
   "language": "python",
   "name": "nlp"
  },
  "language_info": {
   "codemirror_mode": {
    "name": "ipython",
    "version": 3
   },
   "file_extension": ".py",
   "mimetype": "text/x-python",
   "name": "python",
   "nbconvert_exporter": "python",
   "pygments_lexer": "ipython3",
   "version": "3.11.5"
  }
 },
 "nbformat": 4,
 "nbformat_minor": 5
}
