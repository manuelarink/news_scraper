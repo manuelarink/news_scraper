{
 "cells": [
  {
   "cell_type": "markdown",
   "id": "767d1c1f",
   "metadata": {},
   "source": [
    "# Feature engineering for classification and topic modelling of news headlines"
   ]
  },
  {
   "cell_type": "markdown",
   "id": "c53ef551",
   "metadata": {},
   "source": [
    "As a first task we want to explore the different labels of category of the gathered news items. Missing values will be filled with 'Missing', rare labels will be grouped as 'Other'.\n",
    "In a later step we want to train a ML model for text classification to predict a category label (supervised learning) as well as clustering the news into different topics (unsupervised learning) and compare them with the labeled categories."
   ]
  },
  {
   "cell_type": "code",
   "execution_count": 1,
   "id": "f1b6dbe6",
   "metadata": {},
   "outputs": [],
   "source": [
    "import pandas as pd\n",
    "import numpy as np\n",
    "import matplotlib.pyplot as plt\n",
    "import seaborn as sns\n",
    "import sqlalchemy as sql\n",
    "\n",
    "from sklearn.model_selection import train_test_split"
   ]
  },
  {
   "cell_type": "markdown",
   "id": "88ed8222",
   "metadata": {},
   "source": [
    "### Load the cleaned data from file"
   ]
  },
  {
   "cell_type": "code",
   "execution_count": 2,
   "id": "ab3d1a5c",
   "metadata": {},
   "outputs": [],
   "source": [
    "news = pd.read_csv('../eda/news.csv')"
   ]
  },
  {
   "cell_type": "code",
   "execution_count": 3,
   "id": "e0848d95",
   "metadata": {},
   "outputs": [
    {
     "data": {
      "text/html": [
       "<div>\n",
       "<style scoped>\n",
       "    .dataframe tbody tr th:only-of-type {\n",
       "        vertical-align: middle;\n",
       "    }\n",
       "\n",
       "    .dataframe tbody tr th {\n",
       "        vertical-align: top;\n",
       "    }\n",
       "\n",
       "    .dataframe thead th {\n",
       "        text-align: right;\n",
       "    }\n",
       "</style>\n",
       "<table border=\"1\" class=\"dataframe\">\n",
       "  <thead>\n",
       "    <tr style=\"text-align: right;\">\n",
       "      <th></th>\n",
       "      <th>date</th>\n",
       "      <th>title</th>\n",
       "      <th>description</th>\n",
       "      <th>category</th>\n",
       "      <th>text</th>\n",
       "      <th>source</th>\n",
       "    </tr>\n",
       "  </thead>\n",
       "  <tbody>\n",
       "    <tr>\n",
       "      <th>66913</th>\n",
       "      <td>2023-09-26 20:15:00</td>\n",
       "      <td>Gold für Putin - Russlands Kriegsgeld</td>\n",
       "      <td>Viele Länder reagieren auf Russlands Invasion ...</td>\n",
       "      <td>ZDFinfo Doku</td>\n",
       "      <td>NaN</td>\n",
       "      <td>ZDF heute</td>\n",
       "    </tr>\n",
       "    <tr>\n",
       "      <th>66912</th>\n",
       "      <td>2023-09-26 09:07:17</td>\n",
       "      <td>Asteroiden-Einschlag: So groß ist die Gefahr</td>\n",
       "      <td>Asteroiden-Einschlag: So groß ist die Gefahr</td>\n",
       "      <td>Nachrichten | Panorama</td>\n",
       "      <td>NaN</td>\n",
       "      <td>ZDF heute</td>\n",
       "    </tr>\n",
       "    <tr>\n",
       "      <th>66911</th>\n",
       "      <td>2023-09-26 09:06:11</td>\n",
       "      <td>Liveblog: ++ Zwei Verletzte nach Angriffen auf...</td>\n",
       "      <td>Bei einem russischen Luftangriff auf den Hafen...</td>\n",
       "      <td>NaN</td>\n",
       "      <td>NaN</td>\n",
       "      <td>Tagesschau</td>\n",
       "    </tr>\n",
       "    <tr>\n",
       "      <th>66910</th>\n",
       "      <td>2023-09-26 08:56:58</td>\n",
       "      <td>Mindestens 20 Tote bei Explosion in Treibstoff...</td>\n",
       "      <td>Nach einer heftigen Explosion in einem Treibst...</td>\n",
       "      <td>NaN</td>\n",
       "      <td>NaN</td>\n",
       "      <td>Tagesschau</td>\n",
       "    </tr>\n",
       "    <tr>\n",
       "      <th>66909</th>\n",
       "      <td>2023-09-26 08:50:00</td>\n",
       "      <td>Die Polizeigewerkschaft spricht sich gegen sta...</td>\n",
       "      <td>Die Polizeigewerkschaft spricht sich gegen sta...</td>\n",
       "      <td>NaN</td>\n",
       "      <td>NaN</td>\n",
       "      <td>taz</td>\n",
       "    </tr>\n",
       "  </tbody>\n",
       "</table>\n",
       "</div>"
      ],
      "text/plain": [
       "                      date                                              title  \\\n",
       "66913  2023-09-26 20:15:00              Gold für Putin - Russlands Kriegsgeld   \n",
       "66912  2023-09-26 09:07:17       Asteroiden-Einschlag: So groß ist die Gefahr   \n",
       "66911  2023-09-26 09:06:11  Liveblog: ++ Zwei Verletzte nach Angriffen auf...   \n",
       "66910  2023-09-26 08:56:58  Mindestens 20 Tote bei Explosion in Treibstoff...   \n",
       "66909  2023-09-26 08:50:00  Die Polizeigewerkschaft spricht sich gegen sta...   \n",
       "\n",
       "                                             description  \\\n",
       "66913  Viele Länder reagieren auf Russlands Invasion ...   \n",
       "66912       Asteroiden-Einschlag: So groß ist die Gefahr   \n",
       "66911  Bei einem russischen Luftangriff auf den Hafen...   \n",
       "66910  Nach einer heftigen Explosion in einem Treibst...   \n",
       "66909  Die Polizeigewerkschaft spricht sich gegen sta...   \n",
       "\n",
       "                     category  text      source  \n",
       "66913            ZDFinfo Doku   NaN   ZDF heute  \n",
       "66912  Nachrichten | Panorama   NaN   ZDF heute  \n",
       "66911                     NaN   NaN  Tagesschau  \n",
       "66910                     NaN   NaN  Tagesschau  \n",
       "66909                     NaN   NaN         taz  "
      ]
     },
     "execution_count": 3,
     "metadata": {},
     "output_type": "execute_result"
    }
   ],
   "source": [
    "news.sort_values(by='date', ascending=False, inplace=True)\n",
    "news.head()"
   ]
  },
  {
   "cell_type": "markdown",
   "id": "615b1d89",
   "metadata": {},
   "source": [
    "### Split the data into train and test set"
   ]
  },
  {
   "cell_type": "code",
   "execution_count": 4,
   "id": "afab5f5f",
   "metadata": {},
   "outputs": [],
   "source": [
    "train, test = train_test_split(news, test_size=0.2, random_state=42)"
   ]
  },
  {
   "cell_type": "code",
   "execution_count": 5,
   "id": "9b81615b",
   "metadata": {},
   "outputs": [
    {
     "data": {
      "text/html": [
       "<div>\n",
       "<style scoped>\n",
       "    .dataframe tbody tr th:only-of-type {\n",
       "        vertical-align: middle;\n",
       "    }\n",
       "\n",
       "    .dataframe tbody tr th {\n",
       "        vertical-align: top;\n",
       "    }\n",
       "\n",
       "    .dataframe thead th {\n",
       "        text-align: right;\n",
       "    }\n",
       "</style>\n",
       "<table border=\"1\" class=\"dataframe\">\n",
       "  <thead>\n",
       "    <tr style=\"text-align: right;\">\n",
       "      <th></th>\n",
       "      <th>date</th>\n",
       "      <th>title</th>\n",
       "      <th>description</th>\n",
       "      <th>category</th>\n",
       "      <th>text</th>\n",
       "      <th>source</th>\n",
       "    </tr>\n",
       "  </thead>\n",
       "  <tbody>\n",
       "    <tr>\n",
       "      <th>58461</th>\n",
       "      <td>2023-06-29 11:57:00</td>\n",
       "      <td>Cyberbetrug in Philippinen: Großrazzia gegen M...</td>\n",
       "      <td>In den Philippinen wurden 2.724 Personen festg...</td>\n",
       "      <td>NaN</td>\n",
       "      <td>NaN</td>\n",
       "      <td>taz</td>\n",
       "    </tr>\n",
       "    <tr>\n",
       "      <th>34655</th>\n",
       "      <td>2023-01-15 09:16:00</td>\n",
       "      <td>GPT: Eine Software, die die Welt verändert</td>\n",
       "      <td>GPT-3 ist eine jener Entwicklungen, die binnen...</td>\n",
       "      <td>Terra X - die Wissens-Kolumne</td>\n",
       "      <td>NaN</td>\n",
       "      <td>ZDF heute</td>\n",
       "    </tr>\n",
       "    <tr>\n",
       "      <th>41991</th>\n",
       "      <td>2023-03-04 15:13:32</td>\n",
       "      <td>Fußball: Hollerbach schießt Wehen Wiesbaden mi...</td>\n",
       "      <td>NaN</td>\n",
       "      <td>News</td>\n",
       "      <td>NaN</td>\n",
       "      <td>Zeit</td>\n",
       "    </tr>\n",
       "    <tr>\n",
       "      <th>11319</th>\n",
       "      <td>2022-07-16 07:17:44</td>\n",
       "      <td>Leichtathletik-WM: Ein Auftakt mit Licht und S...</td>\n",
       "      <td>Stabhochspringerin Jacqueline Otchere jubelte,...</td>\n",
       "      <td>NaN</td>\n",
       "      <td>NaN</td>\n",
       "      <td>Tagesschau</td>\n",
       "    </tr>\n",
       "    <tr>\n",
       "      <th>25688</th>\n",
       "      <td>2022-10-11 18:49:00</td>\n",
       "      <td>Geflüchtete in Deutschland: Nicht alle gleich ...</td>\n",
       "      <td>Die Innenministerin spricht sich für Solidarit...</td>\n",
       "      <td>NaN</td>\n",
       "      <td>NaN</td>\n",
       "      <td>taz</td>\n",
       "    </tr>\n",
       "  </tbody>\n",
       "</table>\n",
       "</div>"
      ],
      "text/plain": [
       "                      date                                              title  \\\n",
       "58461  2023-06-29 11:57:00  Cyberbetrug in Philippinen: Großrazzia gegen M...   \n",
       "34655  2023-01-15 09:16:00         GPT: Eine Software, die die Welt verändert   \n",
       "41991  2023-03-04 15:13:32  Fußball: Hollerbach schießt Wehen Wiesbaden mi...   \n",
       "11319  2022-07-16 07:17:44  Leichtathletik-WM: Ein Auftakt mit Licht und S...   \n",
       "25688  2022-10-11 18:49:00  Geflüchtete in Deutschland: Nicht alle gleich ...   \n",
       "\n",
       "                                             description  \\\n",
       "58461  In den Philippinen wurden 2.724 Personen festg...   \n",
       "34655  GPT-3 ist eine jener Entwicklungen, die binnen...   \n",
       "41991                                                NaN   \n",
       "11319  Stabhochspringerin Jacqueline Otchere jubelte,...   \n",
       "25688  Die Innenministerin spricht sich für Solidarit...   \n",
       "\n",
       "                            category  text      source  \n",
       "58461                            NaN   NaN         taz  \n",
       "34655  Terra X - die Wissens-Kolumne   NaN   ZDF heute  \n",
       "41991                           News   NaN        Zeit  \n",
       "11319                            NaN   NaN  Tagesschau  \n",
       "25688                            NaN   NaN         taz  "
      ]
     },
     "execution_count": 5,
     "metadata": {},
     "output_type": "execute_result"
    }
   ],
   "source": [
    "train.head()"
   ]
  },
  {
   "cell_type": "code",
   "execution_count": 6,
   "id": "1341ac11",
   "metadata": {},
   "outputs": [
    {
     "data": {
      "text/html": [
       "<div>\n",
       "<style scoped>\n",
       "    .dataframe tbody tr th:only-of-type {\n",
       "        vertical-align: middle;\n",
       "    }\n",
       "\n",
       "    .dataframe tbody tr th {\n",
       "        vertical-align: top;\n",
       "    }\n",
       "\n",
       "    .dataframe thead th {\n",
       "        text-align: right;\n",
       "    }\n",
       "</style>\n",
       "<table border=\"1\" class=\"dataframe\">\n",
       "  <thead>\n",
       "    <tr style=\"text-align: right;\">\n",
       "      <th></th>\n",
       "      <th>date</th>\n",
       "      <th>title</th>\n",
       "      <th>description</th>\n",
       "      <th>category</th>\n",
       "      <th>text</th>\n",
       "      <th>source</th>\n",
       "    </tr>\n",
       "  </thead>\n",
       "  <tbody>\n",
       "    <tr>\n",
       "      <th>11099</th>\n",
       "      <td>2022-07-15 09:40:00</td>\n",
       "      <td>Lauterbach für vierte Corona-Impfung: Zweiter ...</td>\n",
       "      <td>Wegen steigender Coronazahlen rät Gesundheitsm...</td>\n",
       "      <td>NaN</td>\n",
       "      <td>NaN</td>\n",
       "      <td>taz</td>\n",
       "    </tr>\n",
       "    <tr>\n",
       "      <th>57217</th>\n",
       "      <td>2023-06-15 22:08:22</td>\n",
       "      <td>Weyrauch zieht Bewerbung um rbb-Intendantenste...</td>\n",
       "      <td>Einen Tag vor der Intendantenwahl beim rbb hat...</td>\n",
       "      <td>NaN</td>\n",
       "      <td>NaN</td>\n",
       "      <td>Tagesschau</td>\n",
       "    </tr>\n",
       "    <tr>\n",
       "      <th>17705</th>\n",
       "      <td>2022-08-20 06:29:28</td>\n",
       "      <td>Inflation in Großbritannien: \"Es wird alles te...</td>\n",
       "      <td>Die Energiepreise: steigen und steigen. Die In...</td>\n",
       "      <td>NaN</td>\n",
       "      <td>NaN</td>\n",
       "      <td>Tagesschau</td>\n",
       "    </tr>\n",
       "    <tr>\n",
       "      <th>38817</th>\n",
       "      <td>2023-02-12 22:14:58</td>\n",
       "      <td>Nahe kanadischer Grenze - Schon wieder! USA sc...</td>\n",
       "      <td>Medienberichten zufolge haben die USA erneut e...</td>\n",
       "      <td>Ausland</td>\n",
       "      <td>NaN</td>\n",
       "      <td>Focus</td>\n",
       "    </tr>\n",
       "    <tr>\n",
       "      <th>18664</th>\n",
       "      <td>2022-08-26 11:50:37</td>\n",
       "      <td>China: Geschichte verdeht: Mao wollte Taiwan a...</td>\n",
       "      <td>Chinas Kommunistische Partei bedroht Taiwan mi...</td>\n",
       "      <td>China, Taiwan, Kommunistische Partei, Peking, ...</td>\n",
       "      <td>NaN</td>\n",
       "      <td>stern</td>\n",
       "    </tr>\n",
       "  </tbody>\n",
       "</table>\n",
       "</div>"
      ],
      "text/plain": [
       "                      date                                              title  \\\n",
       "11099  2022-07-15 09:40:00  Lauterbach für vierte Corona-Impfung: Zweiter ...   \n",
       "57217  2023-06-15 22:08:22  Weyrauch zieht Bewerbung um rbb-Intendantenste...   \n",
       "17705  2022-08-20 06:29:28  Inflation in Großbritannien: \"Es wird alles te...   \n",
       "38817  2023-02-12 22:14:58  Nahe kanadischer Grenze - Schon wieder! USA sc...   \n",
       "18664  2022-08-26 11:50:37  China: Geschichte verdeht: Mao wollte Taiwan a...   \n",
       "\n",
       "                                             description  \\\n",
       "11099  Wegen steigender Coronazahlen rät Gesundheitsm...   \n",
       "57217  Einen Tag vor der Intendantenwahl beim rbb hat...   \n",
       "17705  Die Energiepreise: steigen und steigen. Die In...   \n",
       "38817  Medienberichten zufolge haben die USA erneut e...   \n",
       "18664  Chinas Kommunistische Partei bedroht Taiwan mi...   \n",
       "\n",
       "                                                category  text      source  \n",
       "11099                                                NaN   NaN         taz  \n",
       "57217                                                NaN   NaN  Tagesschau  \n",
       "17705                                                NaN   NaN  Tagesschau  \n",
       "38817                                            Ausland   NaN       Focus  \n",
       "18664  China, Taiwan, Kommunistische Partei, Peking, ...   NaN       stern  "
      ]
     },
     "execution_count": 6,
     "metadata": {},
     "output_type": "execute_result"
    }
   ],
   "source": [
    "test.head()"
   ]
  },
  {
   "cell_type": "markdown",
   "id": "7af31240",
   "metadata": {},
   "source": [
    "### Replace missing categories by 'Missing'"
   ]
  },
  {
   "cell_type": "markdown",
   "id": "0899dcb6",
   "metadata": {},
   "source": [
    "First we detect the number of missing values in category and replace them with 'Missing'."
   ]
  },
  {
   "cell_type": "code",
   "execution_count": 7,
   "id": "399d1806",
   "metadata": {},
   "outputs": [
    {
     "name": "stdout",
     "output_type": "stream",
     "text": [
      "20455\n",
      "0.38211503614727915\n"
     ]
    }
   ],
   "source": [
    "print(train['category'].isnull().sum())\n",
    "print(train['category'].isnull().mean()) # == print(train['category'].isnull().sum() / len(train))"
   ]
  },
  {
   "cell_type": "code",
   "execution_count": 8,
   "id": "25886c84",
   "metadata": {},
   "outputs": [
    {
     "name": "stdout",
     "output_type": "stream",
     "text": [
      "5002\n",
      "0.37375775237241277\n"
     ]
    }
   ],
   "source": [
    "print(test['category'].isnull().sum())\n",
    "print(test['category'].isnull().mean())"
   ]
  },
  {
   "cell_type": "code",
   "execution_count": 9,
   "id": "670e1cec",
   "metadata": {},
   "outputs": [
    {
     "name": "stdout",
     "output_type": "stream",
     "text": [
      "0\n"
     ]
    }
   ],
   "source": [
    "train['category'] = train['category'].fillna('Missing')\n",
    "print(train['category'].isnull().sum())"
   ]
  },
  {
   "cell_type": "code",
   "execution_count": 10,
   "id": "75fa46e7",
   "metadata": {},
   "outputs": [
    {
     "name": "stdout",
     "output_type": "stream",
     "text": [
      "0\n"
     ]
    }
   ],
   "source": [
    "test['category'] = test['category'].fillna('Missing')\n",
    "print(test['category'].isnull().sum())"
   ]
  },
  {
   "cell_type": "markdown",
   "id": "5dbfc2d0",
   "metadata": {},
   "source": [
    "### Remove rare labels from category and group them as 'Other'"
   ]
  },
  {
   "cell_type": "code",
   "execution_count": 11,
   "id": "12fb12e4",
   "metadata": {},
   "outputs": [
    {
     "name": "stdout",
     "output_type": "stream",
     "text": [
      "14809\n",
      "0.276643440249575\n"
     ]
    }
   ],
   "source": [
    "print(train['category'].nunique())\n",
    "print(train['category'].nunique() / len(train['category']))"
   ]
  },
  {
   "cell_type": "code",
   "execution_count": 12,
   "id": "bf57fd41",
   "metadata": {},
   "outputs": [
    {
     "name": "stdout",
     "output_type": "stream",
     "text": [
      "3937\n",
      "0.2941791825450198\n"
     ]
    }
   ],
   "source": [
    "print(test['category'].nunique())\n",
    "print(test['category'].nunique() / len(test['category']))"
   ]
  },
  {
   "cell_type": "markdown",
   "id": "5f55056c",
   "metadata": {},
   "source": [
    "About 27-28% of the category labels in train and test set have unique values. We will group those categories that are present \n",
    "in less than 1% of the observations into a new label 'Other'."
   ]
  },
  {
   "cell_type": "markdown",
   "id": "231dd54e",
   "metadata": {},
   "source": [
    "We compute the frequent category labels of the training set and build a list out of them. Then we compare the category labels of both train and test set with the entries in this list and store them accordingly as the orignal label or 'Other' in a new feature 'frequent_category'."
   ]
  },
  {
   "cell_type": "code",
   "execution_count": 13,
   "id": "601ad08f",
   "metadata": {},
   "outputs": [],
   "source": [
    "tmp = train.groupby('category')['category'].count() / len(train)\n",
    "frequent_labels_percentage = tmp[tmp > 0.01]"
   ]
  },
  {
   "cell_type": "code",
   "execution_count": 14,
   "id": "53fec1b7",
   "metadata": {},
   "outputs": [
    {
     "name": "stdout",
     "output_type": "stream",
     "text": [
      "category\n",
      "Ausland          0.055276\n",
      "Deutschland      0.048290\n",
      "Missing          0.382115\n",
      "News             0.059685\n",
      "Politik          0.011713\n",
      "Ukraine-Krise    0.018494\n",
      "Wirtschaft       0.016850\n",
      "Name: category, dtype: float64\n"
     ]
    }
   ],
   "source": [
    "print(frequent_labels_percentage)"
   ]
  },
  {
   "cell_type": "code",
   "execution_count": 15,
   "id": "1827afe3",
   "metadata": {},
   "outputs": [
    {
     "name": "stdout",
     "output_type": "stream",
     "text": [
      "['Ausland', 'Deutschland', 'Missing', 'News', 'Politik', 'Ukraine-Krise', 'Wirtschaft']\n"
     ]
    }
   ],
   "source": [
    "frequent_labels = frequent_labels_percentage.index.to_list()\n",
    "print(frequent_labels)"
   ]
  },
  {
   "cell_type": "code",
   "execution_count": 16,
   "id": "666d1c9c",
   "metadata": {},
   "outputs": [
    {
     "data": {
      "text/html": [
       "<div>\n",
       "<style scoped>\n",
       "    .dataframe tbody tr th:only-of-type {\n",
       "        vertical-align: middle;\n",
       "    }\n",
       "\n",
       "    .dataframe tbody tr th {\n",
       "        vertical-align: top;\n",
       "    }\n",
       "\n",
       "    .dataframe thead th {\n",
       "        text-align: right;\n",
       "    }\n",
       "</style>\n",
       "<table border=\"1\" class=\"dataframe\">\n",
       "  <thead>\n",
       "    <tr style=\"text-align: right;\">\n",
       "      <th></th>\n",
       "      <th>date</th>\n",
       "      <th>title</th>\n",
       "      <th>description</th>\n",
       "      <th>category</th>\n",
       "      <th>text</th>\n",
       "      <th>source</th>\n",
       "      <th>frequent_category</th>\n",
       "    </tr>\n",
       "  </thead>\n",
       "  <tbody>\n",
       "    <tr>\n",
       "      <th>58461</th>\n",
       "      <td>2023-06-29 11:57:00</td>\n",
       "      <td>Cyberbetrug in Philippinen: Großrazzia gegen M...</td>\n",
       "      <td>In den Philippinen wurden 2.724 Personen festg...</td>\n",
       "      <td>Missing</td>\n",
       "      <td>NaN</td>\n",
       "      <td>taz</td>\n",
       "      <td>Missing</td>\n",
       "    </tr>\n",
       "    <tr>\n",
       "      <th>34655</th>\n",
       "      <td>2023-01-15 09:16:00</td>\n",
       "      <td>GPT: Eine Software, die die Welt verändert</td>\n",
       "      <td>GPT-3 ist eine jener Entwicklungen, die binnen...</td>\n",
       "      <td>Terra X - die Wissens-Kolumne</td>\n",
       "      <td>NaN</td>\n",
       "      <td>ZDF heute</td>\n",
       "      <td>Other</td>\n",
       "    </tr>\n",
       "    <tr>\n",
       "      <th>41991</th>\n",
       "      <td>2023-03-04 15:13:32</td>\n",
       "      <td>Fußball: Hollerbach schießt Wehen Wiesbaden mi...</td>\n",
       "      <td>NaN</td>\n",
       "      <td>News</td>\n",
       "      <td>NaN</td>\n",
       "      <td>Zeit</td>\n",
       "      <td>News</td>\n",
       "    </tr>\n",
       "    <tr>\n",
       "      <th>11319</th>\n",
       "      <td>2022-07-16 07:17:44</td>\n",
       "      <td>Leichtathletik-WM: Ein Auftakt mit Licht und S...</td>\n",
       "      <td>Stabhochspringerin Jacqueline Otchere jubelte,...</td>\n",
       "      <td>Missing</td>\n",
       "      <td>NaN</td>\n",
       "      <td>Tagesschau</td>\n",
       "      <td>Missing</td>\n",
       "    </tr>\n",
       "    <tr>\n",
       "      <th>25688</th>\n",
       "      <td>2022-10-11 18:49:00</td>\n",
       "      <td>Geflüchtete in Deutschland: Nicht alle gleich ...</td>\n",
       "      <td>Die Innenministerin spricht sich für Solidarit...</td>\n",
       "      <td>Missing</td>\n",
       "      <td>NaN</td>\n",
       "      <td>taz</td>\n",
       "      <td>Missing</td>\n",
       "    </tr>\n",
       "  </tbody>\n",
       "</table>\n",
       "</div>"
      ],
      "text/plain": [
       "                      date                                              title  \\\n",
       "58461  2023-06-29 11:57:00  Cyberbetrug in Philippinen: Großrazzia gegen M...   \n",
       "34655  2023-01-15 09:16:00         GPT: Eine Software, die die Welt verändert   \n",
       "41991  2023-03-04 15:13:32  Fußball: Hollerbach schießt Wehen Wiesbaden mi...   \n",
       "11319  2022-07-16 07:17:44  Leichtathletik-WM: Ein Auftakt mit Licht und S...   \n",
       "25688  2022-10-11 18:49:00  Geflüchtete in Deutschland: Nicht alle gleich ...   \n",
       "\n",
       "                                             description  \\\n",
       "58461  In den Philippinen wurden 2.724 Personen festg...   \n",
       "34655  GPT-3 ist eine jener Entwicklungen, die binnen...   \n",
       "41991                                                NaN   \n",
       "11319  Stabhochspringerin Jacqueline Otchere jubelte,...   \n",
       "25688  Die Innenministerin spricht sich für Solidarit...   \n",
       "\n",
       "                            category  text      source frequent_category  \n",
       "58461                        Missing   NaN         taz           Missing  \n",
       "34655  Terra X - die Wissens-Kolumne   NaN   ZDF heute             Other  \n",
       "41991                           News   NaN        Zeit              News  \n",
       "11319                        Missing   NaN  Tagesschau           Missing  \n",
       "25688                        Missing   NaN         taz           Missing  "
      ]
     },
     "execution_count": 16,
     "metadata": {},
     "output_type": "execute_result"
    }
   ],
   "source": [
    "train['frequent_category'] = np.where(train['category'].isin(frequent_labels), train['category'], 'Other')\n",
    "train.head()"
   ]
  },
  {
   "cell_type": "code",
   "execution_count": 17,
   "id": "c0f3e9f0",
   "metadata": {},
   "outputs": [
    {
     "data": {
      "text/html": [
       "<div>\n",
       "<style scoped>\n",
       "    .dataframe tbody tr th:only-of-type {\n",
       "        vertical-align: middle;\n",
       "    }\n",
       "\n",
       "    .dataframe tbody tr th {\n",
       "        vertical-align: top;\n",
       "    }\n",
       "\n",
       "    .dataframe thead th {\n",
       "        text-align: right;\n",
       "    }\n",
       "</style>\n",
       "<table border=\"1\" class=\"dataframe\">\n",
       "  <thead>\n",
       "    <tr style=\"text-align: right;\">\n",
       "      <th></th>\n",
       "      <th>date</th>\n",
       "      <th>title</th>\n",
       "      <th>description</th>\n",
       "      <th>category</th>\n",
       "      <th>text</th>\n",
       "      <th>source</th>\n",
       "      <th>frequent_category</th>\n",
       "    </tr>\n",
       "  </thead>\n",
       "  <tbody>\n",
       "    <tr>\n",
       "      <th>11099</th>\n",
       "      <td>2022-07-15 09:40:00</td>\n",
       "      <td>Lauterbach für vierte Corona-Impfung: Zweiter ...</td>\n",
       "      <td>Wegen steigender Coronazahlen rät Gesundheitsm...</td>\n",
       "      <td>Missing</td>\n",
       "      <td>NaN</td>\n",
       "      <td>taz</td>\n",
       "      <td>Missing</td>\n",
       "    </tr>\n",
       "    <tr>\n",
       "      <th>57217</th>\n",
       "      <td>2023-06-15 22:08:22</td>\n",
       "      <td>Weyrauch zieht Bewerbung um rbb-Intendantenste...</td>\n",
       "      <td>Einen Tag vor der Intendantenwahl beim rbb hat...</td>\n",
       "      <td>Missing</td>\n",
       "      <td>NaN</td>\n",
       "      <td>Tagesschau</td>\n",
       "      <td>Missing</td>\n",
       "    </tr>\n",
       "    <tr>\n",
       "      <th>17705</th>\n",
       "      <td>2022-08-20 06:29:28</td>\n",
       "      <td>Inflation in Großbritannien: \"Es wird alles te...</td>\n",
       "      <td>Die Energiepreise: steigen und steigen. Die In...</td>\n",
       "      <td>Missing</td>\n",
       "      <td>NaN</td>\n",
       "      <td>Tagesschau</td>\n",
       "      <td>Missing</td>\n",
       "    </tr>\n",
       "    <tr>\n",
       "      <th>38817</th>\n",
       "      <td>2023-02-12 22:14:58</td>\n",
       "      <td>Nahe kanadischer Grenze - Schon wieder! USA sc...</td>\n",
       "      <td>Medienberichten zufolge haben die USA erneut e...</td>\n",
       "      <td>Ausland</td>\n",
       "      <td>NaN</td>\n",
       "      <td>Focus</td>\n",
       "      <td>Ausland</td>\n",
       "    </tr>\n",
       "    <tr>\n",
       "      <th>18664</th>\n",
       "      <td>2022-08-26 11:50:37</td>\n",
       "      <td>China: Geschichte verdeht: Mao wollte Taiwan a...</td>\n",
       "      <td>Chinas Kommunistische Partei bedroht Taiwan mi...</td>\n",
       "      <td>China, Taiwan, Kommunistische Partei, Peking, ...</td>\n",
       "      <td>NaN</td>\n",
       "      <td>stern</td>\n",
       "      <td>Other</td>\n",
       "    </tr>\n",
       "  </tbody>\n",
       "</table>\n",
       "</div>"
      ],
      "text/plain": [
       "                      date                                              title  \\\n",
       "11099  2022-07-15 09:40:00  Lauterbach für vierte Corona-Impfung: Zweiter ...   \n",
       "57217  2023-06-15 22:08:22  Weyrauch zieht Bewerbung um rbb-Intendantenste...   \n",
       "17705  2022-08-20 06:29:28  Inflation in Großbritannien: \"Es wird alles te...   \n",
       "38817  2023-02-12 22:14:58  Nahe kanadischer Grenze - Schon wieder! USA sc...   \n",
       "18664  2022-08-26 11:50:37  China: Geschichte verdeht: Mao wollte Taiwan a...   \n",
       "\n",
       "                                             description  \\\n",
       "11099  Wegen steigender Coronazahlen rät Gesundheitsm...   \n",
       "57217  Einen Tag vor der Intendantenwahl beim rbb hat...   \n",
       "17705  Die Energiepreise: steigen und steigen. Die In...   \n",
       "38817  Medienberichten zufolge haben die USA erneut e...   \n",
       "18664  Chinas Kommunistische Partei bedroht Taiwan mi...   \n",
       "\n",
       "                                                category  text      source  \\\n",
       "11099                                            Missing   NaN         taz   \n",
       "57217                                            Missing   NaN  Tagesschau   \n",
       "17705                                            Missing   NaN  Tagesschau   \n",
       "38817                                            Ausland   NaN       Focus   \n",
       "18664  China, Taiwan, Kommunistische Partei, Peking, ...   NaN       stern   \n",
       "\n",
       "      frequent_category  \n",
       "11099           Missing  \n",
       "57217           Missing  \n",
       "17705           Missing  \n",
       "38817           Ausland  \n",
       "18664             Other  "
      ]
     },
     "execution_count": 17,
     "metadata": {},
     "output_type": "execute_result"
    }
   ],
   "source": [
    "test['frequent_category'] = np.where(test['category'].isin(frequent_labels), test['category'], 'Other')\n",
    "test.head()"
   ]
  },
  {
   "cell_type": "code",
   "execution_count": 18,
   "id": "c0d95b85",
   "metadata": {},
   "outputs": [
    {
     "data": {
      "text/plain": [
       "frequent_category\n",
       "Other            21818\n",
       "Missing          20455\n",
       "News              3195\n",
       "Ausland           2959\n",
       "Deutschland       2585\n",
       "Ukraine-Krise      990\n",
       "Wirtschaft         902\n",
       "Politik            627\n",
       "Name: count, dtype: int64"
      ]
     },
     "execution_count": 18,
     "metadata": {},
     "output_type": "execute_result"
    }
   ],
   "source": [
    "train['frequent_category'].value_counts()"
   ]
  },
  {
   "cell_type": "code",
   "execution_count": 19,
   "id": "5db011ca",
   "metadata": {},
   "outputs": [
    {
     "data": {
      "text/plain": [
       "frequent_category\n",
       "Other            5496\n",
       "Missing          5002\n",
       "News              803\n",
       "Ausland           741\n",
       "Deutschland       733\n",
       "Ukraine-Krise     227\n",
       "Wirtschaft        205\n",
       "Politik           176\n",
       "Name: count, dtype: int64"
      ]
     },
     "execution_count": 19,
     "metadata": {},
     "output_type": "execute_result"
    }
   ],
   "source": [
    "test['frequent_category'].value_counts()"
   ]
  },
  {
   "cell_type": "code",
   "execution_count": 20,
   "id": "edb05eff",
   "metadata": {},
   "outputs": [
    {
     "data": {
      "image/png": "[encoded data removed]",
      "text/plain": [
       "<Figure size 1000x500 with 1 Axes>"
      ]
     },
     "metadata": {},
     "output_type": "display_data"
    }
   ],
   "source": [
    "fig, ax = plt.subplots(figsize=(10, 5))\n",
    "sns.countplot(data=train, x='frequent_category', order=train['frequent_category'].value_counts().index)\n",
    "plt.title('Most frequent category labels of news headlines in training set')\n",
    "plt.show()"
   ]
  },
  {
   "cell_type": "code",
   "execution_count": 21,
   "id": "81a1f751",
   "metadata": {},
   "outputs": [
    {
     "data": {
      "image/png": "[encoded data removed]",
      "text/plain": [
       "<Figure size 1000x500 with 1 Axes>"
      ]
     },
     "metadata": {},
     "output_type": "display_data"
    }
   ],
   "source": [
    "fig, ax = plt.subplots(figsize=(10, 5))\n",
    "sns.countplot(data=test, x='frequent_category', order=test['frequent_category'].value_counts().index)\n",
    "plt.title('Most frequent category labels of news headlines in test set')\n",
    "plt.show()"
   ]
  },
  {
   "cell_type": "markdown",
   "id": "625dc403",
   "metadata": {},
   "source": [
    "### Store news"
   ]
  },
  {
   "cell_type": "code",
   "execution_count": 22,
   "id": "25b81b0e",
   "metadata": {},
   "outputs": [],
   "source": [
    "train.to_csv('train.csv', index=False)\n",
    "test.to_csv('test.csv', index=False)"
   ]
  }
 ],
 "metadata": {
  "kernelspec": {
   "display_name": "nlp",
   "language": "python",
   "name": "nlp"
  },
  "language_info": {
   "codemirror_mode": {
    "name": "ipython",
    "version": 3
   },
   "file_extension": ".py",
   "mimetype": "text/x-python",
   "name": "python",
   "nbconvert_exporter": "python",
   "pygments_lexer": "ipython3",
   "version": "3.11.5"
  }
 },
 "nbformat": 4,
 "nbformat_minor": 5
}
